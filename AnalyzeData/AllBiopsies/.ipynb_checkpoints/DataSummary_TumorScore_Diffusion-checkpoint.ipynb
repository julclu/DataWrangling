{
 "cells": [
  {
   "cell_type": "markdown",
   "metadata": {
    "deletable": true,
    "editable": true
   },
   "source": [
    "In this notebook, we want to summarize the data and make sure that it is behaving as we expect based on previous literature. Here, we want to only use the outcome for tumor_cell_evaluation"
   ]
  },
  {
   "cell_type": "markdown",
   "metadata": {
    "deletable": true,
    "editable": true
   },
   "source": [
    "Tumor score is defined by UCSF pathologists in the following way: <br>\n",
    "\n",
    "0: neuropil without tumor <br>\n",
    "1: infiltrating tumor margin containing a detectable but not abundant number of tumor cells <br>\n",
    "2: more cellular infiltrated zone <br>\n",
    "3: highly cellular tumor <br>"
   ]
  },
  {
   "cell_type": "code",
   "execution_count": 3,
   "metadata": {
    "collapsed": true,
    "deletable": true,
    "editable": true
   },
   "outputs": [],
   "source": [
    "recgli = read.csv(\"../../ParseData/8thParse_researchPath_withInVivo.csv\") "
   ]
  },
  {
   "cell_type": "markdown",
   "metadata": {
    "deletable": true,
    "editable": true
   },
   "source": [
    "#### In this notebook, we want to find: <br>\n",
    "1. Diffusion params vs. TS using <br>\n",
    "    a. No separation into ROIs <br>\n",
    "    b. Visual comparison of anatomical params in separate regions <br>\n",
    "    ~~c. Repeated Measures ANOVA (analysis of variance) to account for multiple samples from the same patient to see if there is true separation among tumor scores for diffusion parameters~~ <b> you can't use RMANOVA for categorical data </b> (sources: http://sherifsoliman.com/2014/12/10/ANOVA_in_R/, https://www.r-bloggers.com/two-way-anova-with-repeated-measures/, https://www.r-statistics.com/tag/ezanova/) <br> \n",
    "    c. Use GLMM associate diffusion parameters with TS, no separation <br>\n",
    "    d. Use GEE to associate diffusion parameters with TS, no separation <br>\n",
    "    e. Use GLMM to associate diffusion parameters with TS, separating into CEL & NEL <br>\n",
    "    f. Use GEE to associate diffusion parameters with TS, separating into CEL & NEL <br>\n",
    "2. Combining diffu params vs. TS using GEE \n",
    "3. Using in_CEL as a covariate in anat params using GEE "
   ]
  },
  {
   "cell_type": "markdown",
   "metadata": {
    "deletable": true,
    "editable": true
   },
   "source": [
    "## 0. Prep the data"
   ]
  },
  {
   "cell_type": "code",
   "execution_count": 4,
   "metadata": {
    "collapsed": false,
    "deletable": true,
    "editable": true
   },
   "outputs": [
    {
     "data": {
      "text/html": [
       "<ol class=list-inline>\n",
       "\t<li>383</li>\n",
       "\t<li>74</li>\n",
       "</ol>\n"
      ],
      "text/latex": [
       "\\begin{enumerate*}\n",
       "\\item 383\n",
       "\\item 74\n",
       "\\end{enumerate*}\n"
      ],
      "text/markdown": [
       "1. 383\n",
       "2. 74\n",
       "\n",
       "\n"
      ],
      "text/plain": [
       "[1] 383  74"
      ]
     },
     "metadata": {},
     "output_type": "display_data"
    },
    {
     "name": "stdout",
     "output_type": "stream",
     "text": [
      " num [1:383] 0 2 2 2 0 1 0 2 1 0 ...\n"
     ]
    },
    {
     "data": {
      "text/html": [
       "<ol class=list-inline>\n",
       "\t<li>'b_number'</li>\n",
       "\t<li>'t_number'</li>\n",
       "\t<li>'sf_number'</li>\n",
       "\t<li>'current_scan_date'</li>\n",
       "\t<li>'current_surgery_date'</li>\n",
       "\t<li>'current_hist_grade'</li>\n",
       "\t<li>'current_hist_type'</li>\n",
       "\t<li>'roi.label'</li>\n",
       "\t<li>'tumor_cell_evaluation'</li>\n",
       "\t<li>'necrosis'</li>\n",
       "\t<li>'f8_delicate'</li>\n",
       "\t<li>'f8_simple'</li>\n",
       "\t<li>'f8_complex'</li>\n",
       "\t<li>'mib_1'</li>\n",
       "\t<li>'bx_pure_treatment_effect'</li>\n",
       "\t<li>'nfse'</li>\n",
       "\t<li>'nfl'</li>\n",
       "\t<li>'nt1c'</li>\n",
       "\t<li>'nt1v'</li>\n",
       "\t<li>'nadc.1'</li>\n",
       "\t<li>'nfa.1'</li>\n",
       "\t<li>'nev1.1'</li>\n",
       "\t<li>'nev2.1'</li>\n",
       "\t<li>'nev3.1'</li>\n",
       "\t<li>'nevrad.1'</li>\n",
       "\t<li>'nadc.2'</li>\n",
       "\t<li>'nfa.2'</li>\n",
       "\t<li>'nev1.2'</li>\n",
       "\t<li>'nev2.2'</li>\n",
       "\t<li>'nev3.2'</li>\n",
       "\t<li>'nevrad.2'</li>\n",
       "\t<li>'cbvn_nlin'</li>\n",
       "\t<li>'phn_nlin'</li>\n",
       "\t<li>'phn_npar'</li>\n",
       "\t<li>'recovn_npar'</li>\n",
       "\t<li>'cni'</li>\n",
       "\t<li>'ccri'</li>\n",
       "\t<li>'crni'</li>\n",
       "\t<li>'ncho'</li>\n",
       "\t<li>'ncre'</li>\n",
       "\t<li>'nnaa'</li>\n",
       "\t<li>'nlip'</li>\n",
       "\t<li>'laclip'</li>\n",
       "\t<li>'nlac'</li>\n",
       "\t<li>'olddata'</li>\n",
       "\t<li>'newdata'</li>\n",
       "\t<li>'comments'</li>\n",
       "\t<li>'notes.'</li>\n",
       "\t<li>'imaging_code'</li>\n",
       "\t<li>'perf_quant'</li>\n",
       "\t<li>'cbv_nlin'</li>\n",
       "\t<li>'spec_quant'</li>\n",
       "\t<li>'include_anat'</li>\n",
       "\t<li>'include_diffu1000'</li>\n",
       "\t<li>'include_diffu2000'</li>\n",
       "\t<li>'include_diffu_all'</li>\n",
       "\t<li>'include_perf'</li>\n",
       "\t<li>'include_spec'</li>\n",
       "\t<li>'include_one_advanced_mod'</li>\n",
       "\t<li>'include_all_advanced_mods'</li>\n",
       "\t<li>'X.CEL'</li>\n",
       "\t<li>'X.NEL'</li>\n",
       "\t<li>'X.NEC'</li>\n",
       "\t<li>'sum'</li>\n",
       "\t<li>'in_CEL'</li>\n",
       "\t<li>'in_T2all'</li>\n",
       "\t<li>'in_NEL'</li>\n",
       "\t<li>'in_NEC'</li>\n",
       "\t<li>'in_ROI'</li>\n",
       "\t<li>'desired_hist'</li>\n",
       "\t<li>'multnom_out'</li>\n",
       "\t<li>'no_ffpe'</li>\n",
       "\t<li>'waiting_on_path'</li>\n",
       "\t<li>'rhgg_txe_analysis'</li>\n",
       "</ol>\n"
      ],
      "text/latex": [
       "\\begin{enumerate*}\n",
       "\\item 'b\\_number'\n",
       "\\item 't\\_number'\n",
       "\\item 'sf\\_number'\n",
       "\\item 'current\\_scan\\_date'\n",
       "\\item 'current\\_surgery\\_date'\n",
       "\\item 'current\\_hist\\_grade'\n",
       "\\item 'current\\_hist\\_type'\n",
       "\\item 'roi.label'\n",
       "\\item 'tumor\\_cell\\_evaluation'\n",
       "\\item 'necrosis'\n",
       "\\item 'f8\\_delicate'\n",
       "\\item 'f8\\_simple'\n",
       "\\item 'f8\\_complex'\n",
       "\\item 'mib\\_1'\n",
       "\\item 'bx\\_pure\\_treatment\\_effect'\n",
       "\\item 'nfse'\n",
       "\\item 'nfl'\n",
       "\\item 'nt1c'\n",
       "\\item 'nt1v'\n",
       "\\item 'nadc.1'\n",
       "\\item 'nfa.1'\n",
       "\\item 'nev1.1'\n",
       "\\item 'nev2.1'\n",
       "\\item 'nev3.1'\n",
       "\\item 'nevrad.1'\n",
       "\\item 'nadc.2'\n",
       "\\item 'nfa.2'\n",
       "\\item 'nev1.2'\n",
       "\\item 'nev2.2'\n",
       "\\item 'nev3.2'\n",
       "\\item 'nevrad.2'\n",
       "\\item 'cbvn\\_nlin'\n",
       "\\item 'phn\\_nlin'\n",
       "\\item 'phn\\_npar'\n",
       "\\item 'recovn\\_npar'\n",
       "\\item 'cni'\n",
       "\\item 'ccri'\n",
       "\\item 'crni'\n",
       "\\item 'ncho'\n",
       "\\item 'ncre'\n",
       "\\item 'nnaa'\n",
       "\\item 'nlip'\n",
       "\\item 'laclip'\n",
       "\\item 'nlac'\n",
       "\\item 'olddata'\n",
       "\\item 'newdata'\n",
       "\\item 'comments'\n",
       "\\item 'notes.'\n",
       "\\item 'imaging\\_code'\n",
       "\\item 'perf\\_quant'\n",
       "\\item 'cbv\\_nlin'\n",
       "\\item 'spec\\_quant'\n",
       "\\item 'include\\_anat'\n",
       "\\item 'include\\_diffu1000'\n",
       "\\item 'include\\_diffu2000'\n",
       "\\item 'include\\_diffu\\_all'\n",
       "\\item 'include\\_perf'\n",
       "\\item 'include\\_spec'\n",
       "\\item 'include\\_one\\_advanced\\_mod'\n",
       "\\item 'include\\_all\\_advanced\\_mods'\n",
       "\\item 'X.CEL'\n",
       "\\item 'X.NEL'\n",
       "\\item 'X.NEC'\n",
       "\\item 'sum'\n",
       "\\item 'in\\_CEL'\n",
       "\\item 'in\\_T2all'\n",
       "\\item 'in\\_NEL'\n",
       "\\item 'in\\_NEC'\n",
       "\\item 'in\\_ROI'\n",
       "\\item 'desired\\_hist'\n",
       "\\item 'multnom\\_out'\n",
       "\\item 'no\\_ffpe'\n",
       "\\item 'waiting\\_on\\_path'\n",
       "\\item 'rhgg\\_txe\\_analysis'\n",
       "\\end{enumerate*}\n"
      ],
      "text/markdown": [
       "1. 'b_number'\n",
       "2. 't_number'\n",
       "3. 'sf_number'\n",
       "4. 'current_scan_date'\n",
       "5. 'current_surgery_date'\n",
       "6. 'current_hist_grade'\n",
       "7. 'current_hist_type'\n",
       "8. 'roi.label'\n",
       "9. 'tumor_cell_evaluation'\n",
       "10. 'necrosis'\n",
       "11. 'f8_delicate'\n",
       "12. 'f8_simple'\n",
       "13. 'f8_complex'\n",
       "14. 'mib_1'\n",
       "15. 'bx_pure_treatment_effect'\n",
       "16. 'nfse'\n",
       "17. 'nfl'\n",
       "18. 'nt1c'\n",
       "19. 'nt1v'\n",
       "20. 'nadc.1'\n",
       "21. 'nfa.1'\n",
       "22. 'nev1.1'\n",
       "23. 'nev2.1'\n",
       "24. 'nev3.1'\n",
       "25. 'nevrad.1'\n",
       "26. 'nadc.2'\n",
       "27. 'nfa.2'\n",
       "28. 'nev1.2'\n",
       "29. 'nev2.2'\n",
       "30. 'nev3.2'\n",
       "31. 'nevrad.2'\n",
       "32. 'cbvn_nlin'\n",
       "33. 'phn_nlin'\n",
       "34. 'phn_npar'\n",
       "35. 'recovn_npar'\n",
       "36. 'cni'\n",
       "37. 'ccri'\n",
       "38. 'crni'\n",
       "39. 'ncho'\n",
       "40. 'ncre'\n",
       "41. 'nnaa'\n",
       "42. 'nlip'\n",
       "43. 'laclip'\n",
       "44. 'nlac'\n",
       "45. 'olddata'\n",
       "46. 'newdata'\n",
       "47. 'comments'\n",
       "48. 'notes.'\n",
       "49. 'imaging_code'\n",
       "50. 'perf_quant'\n",
       "51. 'cbv_nlin'\n",
       "52. 'spec_quant'\n",
       "53. 'include_anat'\n",
       "54. 'include_diffu1000'\n",
       "55. 'include_diffu2000'\n",
       "56. 'include_diffu_all'\n",
       "57. 'include_perf'\n",
       "58. 'include_spec'\n",
       "59. 'include_one_advanced_mod'\n",
       "60. 'include_all_advanced_mods'\n",
       "61. 'X.CEL'\n",
       "62. 'X.NEL'\n",
       "63. 'X.NEC'\n",
       "64. 'sum'\n",
       "65. 'in_CEL'\n",
       "66. 'in_T2all'\n",
       "67. 'in_NEL'\n",
       "68. 'in_NEC'\n",
       "69. 'in_ROI'\n",
       "70. 'desired_hist'\n",
       "71. 'multnom_out'\n",
       "72. 'no_ffpe'\n",
       "73. 'waiting_on_path'\n",
       "74. 'rhgg_txe_analysis'\n",
       "\n",
       "\n"
      ],
      "text/plain": [
       " [1] \"b_number\"                  \"t_number\"                 \n",
       " [3] \"sf_number\"                 \"current_scan_date\"        \n",
       " [5] \"current_surgery_date\"      \"current_hist_grade\"       \n",
       " [7] \"current_hist_type\"         \"roi.label\"                \n",
       " [9] \"tumor_cell_evaluation\"     \"necrosis\"                 \n",
       "[11] \"f8_delicate\"               \"f8_simple\"                \n",
       "[13] \"f8_complex\"                \"mib_1\"                    \n",
       "[15] \"bx_pure_treatment_effect\"  \"nfse\"                     \n",
       "[17] \"nfl\"                       \"nt1c\"                     \n",
       "[19] \"nt1v\"                      \"nadc.1\"                   \n",
       "[21] \"nfa.1\"                     \"nev1.1\"                   \n",
       "[23] \"nev2.1\"                    \"nev3.1\"                   \n",
       "[25] \"nevrad.1\"                  \"nadc.2\"                   \n",
       "[27] \"nfa.2\"                     \"nev1.2\"                   \n",
       "[29] \"nev2.2\"                    \"nev3.2\"                   \n",
       "[31] \"nevrad.2\"                  \"cbvn_nlin\"                \n",
       "[33] \"phn_nlin\"                  \"phn_npar\"                 \n",
       "[35] \"recovn_npar\"               \"cni\"                      \n",
       "[37] \"ccri\"                      \"crni\"                     \n",
       "[39] \"ncho\"                      \"ncre\"                     \n",
       "[41] \"nnaa\"                      \"nlip\"                     \n",
       "[43] \"laclip\"                    \"nlac\"                     \n",
       "[45] \"olddata\"                   \"newdata\"                  \n",
       "[47] \"comments\"                  \"notes.\"                   \n",
       "[49] \"imaging_code\"              \"perf_quant\"               \n",
       "[51] \"cbv_nlin\"                  \"spec_quant\"               \n",
       "[53] \"include_anat\"              \"include_diffu1000\"        \n",
       "[55] \"include_diffu2000\"         \"include_diffu_all\"        \n",
       "[57] \"include_perf\"              \"include_spec\"             \n",
       "[59] \"include_one_advanced_mod\"  \"include_all_advanced_mods\"\n",
       "[61] \"X.CEL\"                     \"X.NEL\"                    \n",
       "[63] \"X.NEC\"                     \"sum\"                      \n",
       "[65] \"in_CEL\"                    \"in_T2all\"                 \n",
       "[67] \"in_NEL\"                    \"in_NEC\"                   \n",
       "[69] \"in_ROI\"                    \"desired_hist\"             \n",
       "[71] \"multnom_out\"               \"no_ffpe\"                  \n",
       "[73] \"waiting_on_path\"           \"rhgg_txe_analysis\"        "
      ]
     },
     "metadata": {},
     "output_type": "display_data"
    }
   ],
   "source": [
    "recgli = recgli[recgli$tumor_cell_evaluation != \"Ind\",]\n",
    "dim(recgli)\n",
    "recgli = droplevels(recgli)\n",
    "recgli$tumor_cell_evaluation = as.character(recgli$tumor_cell_evaluation)\n",
    "recgli$tumor_cell_evaluation = as.numeric(recgli$tumor_cell_evaluation)\n",
    "str(recgli$tumor_cell_evaluation)\n",
    "colnames(recgli)"
   ]
  },
  {
   "cell_type": "code",
   "execution_count": 5,
   "metadata": {
    "collapsed": false,
    "deletable": true,
    "editable": true
   },
   "outputs": [
    {
     "data": {
      "text/html": [
       "<ol class=list-inline>\n",
       "\t<li>375</li>\n",
       "\t<li>74</li>\n",
       "</ol>\n"
      ],
      "text/latex": [
       "\\begin{enumerate*}\n",
       "\\item 375\n",
       "\\item 74\n",
       "\\end{enumerate*}\n"
      ],
      "text/markdown": [
       "1. 375\n",
       "2. 74\n",
       "\n",
       "\n"
      ],
      "text/plain": [
       "[1] 375  74"
      ]
     },
     "metadata": {},
     "output_type": "display_data"
    }
   ],
   "source": [
    "recgli.diffu = recgli[recgli$include_diffu_all==1,]\n",
    "dim(recgli.diffu)"
   ]
  },
  {
   "cell_type": "code",
   "execution_count": 6,
   "metadata": {
    "collapsed": true,
    "deletable": true,
    "editable": true
   },
   "outputs": [],
   "source": [
    "recgli = recgli.diffu "
   ]
  },
  {
   "cell_type": "code",
   "execution_count": 7,
   "metadata": {
    "collapsed": true,
    "deletable": true,
    "editable": true
   },
   "outputs": [],
   "source": [
    "recgli$t_number = as.factor(recgli$t_number)\n",
    "#str(recgli)"
   ]
  },
  {
   "cell_type": "markdown",
   "metadata": {
    "deletable": true,
    "editable": true
   },
   "source": [
    "## 1. Diffusion (b= 1000) vs. TS "
   ]
  },
  {
   "cell_type": "markdown",
   "metadata": {
    "deletable": true,
    "editable": true
   },
   "source": [
    "### a. No separation into ROIs"
   ]
  },
  {
   "cell_type": "code",
   "execution_count": 8,
   "metadata": {
    "collapsed": false,
    "deletable": true,
    "editable": true
   },
   "outputs": [
    {
     "data": {
      "image/png": "[encoded data removed]",
      "text/plain": [
       "plot without title"
      ]
     },
     "metadata": {},
     "output_type": "display_data"
    }
   ],
   "source": [
    "par(mfrow = c(2, 2))\n",
    "a = boxplot(nadc.1 ~ tumor_cell_evaluation , data = recgli, ylab = \"normalized adc.1\", xlab = \"tumorscore\")\n",
    "text( c(1:nlevels(factor(recgli$tumor_cell_evaluation))) , a$stats[nrow(a$stats) , ]+0.5 , paste(\"n = \",table(recgli$tumor_cell_evaluation),sep=\"\")  )\n",
    "\n",
    "b = boxplot(nfa.1 ~ tumor_cell_evaluation , data = recgli, ylab = \"normalized fa.1\", xlab = \"tumorscore\")\n",
    "text( c(1:nlevels(factor(recgli$tumor_cell_evaluation))) , b$stats[nrow(b$stats) , ]+0.5 , paste(\"n = \",table(recgli$tumor_cell_evaluation),sep=\"\")  )\n",
    "\n",
    "c = boxplot(nev1.1 ~ tumor_cell_evaluation , data = recgli, ylab = \"normalized ev1.1\", xlab = \"tumorscore\")\n",
    "text( c(1:nlevels(factor(recgli$tumor_cell_evaluation))) , c$stats[nrow(c$stats) , ]+0.5 , paste(\"n = \",table(recgli$tumor_cell_evaluation),sep=\"\")  )\n",
    "\n",
    "d = boxplot(nevrad.1 ~ tumor_cell_evaluation , data = recgli, ylab = \"normalized evrad.1\", xlab = \"tumorscore\")\n",
    "text( c(1:nlevels(factor(recgli$tumor_cell_evaluation))) , d$stats[nrow(d$stats) , ]+0.5 , paste(\"n = \",table(recgli$tumor_cell_evaluation),sep=\"\")  )\n"
   ]
  },
  {
   "cell_type": "markdown",
   "metadata": {
    "deletable": true,
    "editable": true
   },
   "source": [
    "### b. CEL next to NEL scores  \n"
   ]
  },
  {
   "cell_type": "code",
   "execution_count": 9,
   "metadata": {
    "collapsed": false,
    "deletable": true,
    "editable": true
   },
   "outputs": [
    {
     "data": {
      "image/png": "[encoded data removed]",
      "text/plain": [
       "Plot with title “FA in NEL”"
      ]
     },
     "metadata": {},
     "output_type": "display_data"
    },
    {
     "data": {
      "image/png": "[encoded data removed]",
      "text/plain": [
       "Plot with title “EVRAD in NEL”"
      ]
     },
     "metadata": {},
     "output_type": "display_data"
    }
   ],
   "source": [
    "par(mfrow = c(2, 2))\n",
    "a = boxplot(nadc.1 ~ tumor_cell_evaluation , data = recgli[recgli$in_CEL ==1,], ylab = \"normalized adc.1\", xlab = \"tumorscore\", main = \"ADC in CEL\", ylim = c(0,4))\n",
    "text( c(1:nlevels(factor(recgli$tumor_cell_evaluation))) , a$stats[nrow(a$stats) , ]+.3 , paste(\"n = \",table(recgli[which(recgli$in_CEL ==1),]$tumor_cell_evaluation),sep=\"\"), cex = 0.8)\n",
    "\n",
    "b = boxplot(nadc.1 ~ tumor_cell_evaluation , data = recgli[recgli$in_NEL ==1,], ylab = \"normalized adc.1\", xlab = \"tumorscore\", main = \"ADC in NEL\", ylim = c(0,4))\n",
    "text( c(1:nlevels(factor(recgli$tumor_cell_evaluation))) , b$stats[nrow(b$stats) , ]+.3 , paste(\"n = \",table(recgli[which(recgli$in_NEL ==1),]$tumor_cell_evaluation),sep=\"\"), cex = 0.8)\n",
    "\n",
    "c = boxplot(nfa.1 ~ tumor_cell_evaluation , data = recgli[recgli$in_CEL ==1,], ylab = \"normalized fa.1\", xlab = \"tumorscore\", main = \"FA in CEL\", ylim = c(0,3.5))\n",
    "text( c(1:nlevels(factor(recgli$tumor_cell_evaluation))) , c$stats[nrow(c$stats) , ]+.3 , paste(\"n = \",table(recgli[which(recgli$in_CEL ==1),]$tumor_cell_evaluation),sep=\"\"), cex = 0.8)\n",
    "d = boxplot(nfa.1 ~ tumor_cell_evaluation , data = recgli[recgli$in_NEL ==1,], ylab = \"normalized fa\", xlab = \"tumorscore\", main = \"FA in NEL\", ylim = c(0,3.5))\n",
    "text( c(1:nlevels(factor(recgli$tumor_cell_evaluation))) , d$stats[nrow(d$stats) , ]+.3 , paste(\"n = \",table(recgli[which(recgli$in_NEL ==1),]$tumor_cell_evaluation),sep=\"\"), cex = 0.8)\n",
    "\n",
    "e = boxplot(nev1.1 ~ tumor_cell_evaluation , data = recgli[recgli$in_CEL ==1,], ylab = \"normalized ev1.1\", xlab = \"tumorscore\", main = \"EV1 in CEL\", ylim = c(0,4))\n",
    "text( c(1:nlevels(factor(recgli$tumor_cell_evaluation))) , e$stats[nrow(e$stats) , ]+.3 , paste(\"n = \",table(recgli[recgli$in_CEL ==1,]$tumor_cell_evaluation),sep=\"\"), cex = 0.8)\n",
    "f = boxplot(nev1.1 ~ tumor_cell_evaluation , data = recgli[recgli$in_NEL ==1,], ylab = \"normalized ev1.1\", xlab = \"tumorscore\", main = \"EV1 in NEL\", ylim = c(0,4))\n",
    "text( c(1:nlevels(factor(recgli$tumor_cell_evaluation))) , f$stats[nrow(f$stats) , ]+.3 , paste(\"n = \",table(recgli[recgli$in_NEL ==1,]$tumor_cell_evaluation),sep=\"\"), cex = 0.8)\n",
    "\n",
    "g = boxplot(nevrad.1 ~ tumor_cell_evaluation , data = recgli[recgli$in_CEL ==1,], ylab = \"normalized evrad.1\", xlab = \"tumorscore\", main = \"EVRAD in CEL\", ylim = c(0,4))\n",
    "text( c(1:nlevels(factor(recgli$tumor_cell_evaluation))) , g$stats[nrow(g$stats) , ]+.3 , paste(\"n = \",table(recgli[recgli$in_CEL ==1,]$tumor_cell_evaluation),sep=\"\"), cex = 0.8)\n",
    "h = boxplot(nevrad.1 ~ tumor_cell_evaluation , data = recgli[recgli$in_NEL ==1,], ylab = \"normalized evrad.1\", xlab = \"tumorscore\", main = \"EVRAD in NEL\", ylim = c(0,4))\n",
    "text( c(1:nlevels(factor(recgli$tumor_cell_evaluation))) , h$stats[nrow(h$stats) , ]+.3 , paste(\"n = \",table(recgli[recgli$in_NEL ==1,]$tumor_cell_evaluation),sep=\"\"), cex = 0.8)\n"
   ]
  },
  {
   "cell_type": "markdown",
   "metadata": {
    "deletable": true,
    "editable": true
   },
   "source": [
    "### c. Use GLMM associate diffu parameters with TS, no separation "
   ]
  },
  {
   "cell_type": "code",
   "execution_count": 10,
   "metadata": {
    "collapsed": true,
    "deletable": true,
    "editable": true
   },
   "outputs": [],
   "source": [
    "## I will come back to this later. "
   ]
  },
  {
   "cell_type": "markdown",
   "metadata": {
    "deletable": true,
    "editable": true
   },
   "source": [
    "### d. Use GEE to associate diffu parameters with TS, no separation"
   ]
  },
  {
   "cell_type": "code",
   "execution_count": 11,
   "metadata": {
    "collapsed": false,
    "deletable": true,
    "editable": true
   },
   "outputs": [
    {
     "name": "stderr",
     "output_type": "stream",
     "text": [
      "Loading required package: Matrix\n",
      "Loading required package: foreach\n",
      "Loaded glmnet 2.0-16\n",
      "\n",
      "Loading required package: gnm\n",
      "Loading required package: VGAM\n",
      "Loading required package: stats4\n",
      "Loading required package: splines\n",
      "\n",
      "Attaching package: ‘VGAM’\n",
      "\n",
      "The following object is masked from ‘package:mlogit’:\n",
      "\n",
      "    lrtest\n",
      "\n"
     ]
    }
   ],
   "source": [
    "library(glmnet)\n",
    "library(geepack)\n",
    "library(lme4)\n",
    "#install.packages(\"multgee\")\n",
    "library(\"multgee\")"
   ]
  },
  {
   "cell_type": "code",
   "execution_count": 12,
   "metadata": {
    "collapsed": false,
    "deletable": true,
    "editable": true
   },
   "outputs": [
    {
     "data": {
      "text/html": [
       "<table>\n",
       "<thead><tr><th></th><th scope=col>Estimate</th><th scope=col>san.se</th><th scope=col>san.z</th><th scope=col>Pr(&gt;|san.z|)</th></tr></thead>\n",
       "<tbody>\n",
       "\t<tr><th scope=row>beta10</th><td>-0.91188</td><td>0.33641 </td><td>-2.71062</td><td>0.00672 </td></tr>\n",
       "\t<tr><th scope=row>beta20</th><td>-0.25897</td><td>0.32700 </td><td>-0.79195</td><td>0.42839 </td></tr>\n",
       "\t<tr><th scope=row>beta30</th><td> 1.00482</td><td>0.33082 </td><td> 3.03738</td><td>0.00239 </td></tr>\n",
       "\t<tr><th scope=row>nadc.1</th><td>-0.17137</td><td>0.18182 </td><td>-0.94249</td><td>0.34594 </td></tr>\n",
       "</tbody>\n",
       "</table>\n"
      ],
      "text/latex": [
       "\\begin{tabular}{r|llll}\n",
       "  & Estimate & san.se & san.z & Pr(>\\textbar{}san.z\\textbar{})\\\\\n",
       "\\hline\n",
       "\tbeta10 & -0.91188 & 0.33641  & -2.71062 & 0.00672 \\\\\n",
       "\tbeta20 & -0.25897 & 0.32700  & -0.79195 & 0.42839 \\\\\n",
       "\tbeta30 &  1.00482 & 0.33082  &  3.03738 & 0.00239 \\\\\n",
       "\tnadc.1 & -0.17137 & 0.18182  & -0.94249 & 0.34594 \\\\\n",
       "\\end{tabular}\n"
      ],
      "text/markdown": [
       "\n",
       "| <!--/--> | Estimate | san.se | san.z | Pr(>|san.z|) | \n",
       "|---|---|---|---|\n",
       "| beta10 | -0.91188 | 0.33641  | -2.71062 | 0.00672  | \n",
       "| beta20 | -0.25897 | 0.32700  | -0.79195 | 0.42839  | \n",
       "| beta30 |  1.00482 | 0.33082  |  3.03738 | 0.00239  | \n",
       "| nadc.1 | -0.17137 | 0.18182  | -0.94249 | 0.34594  | \n",
       "\n",
       "\n"
      ],
      "text/plain": [
       "       Estimate san.se  san.z    Pr(>|san.z|)\n",
       "beta10 -0.91188 0.33641 -2.71062 0.00672     \n",
       "beta20 -0.25897 0.32700 -0.79195 0.42839     \n",
       "beta30  1.00482 0.33082  3.03738 0.00239     \n",
       "nadc.1 -0.17137 0.18182 -0.94249 0.34594     "
      ]
     },
     "metadata": {},
     "output_type": "display_data"
    }
   ],
   "source": [
    "nadc.fit = ordLORgee(formula = tumor_cell_evaluation ~ nadc.1, link = \"logit\", \n",
    "                      id = t_number, data = recgli, LORstr = \"category.exch\")\n",
    "summary(nadc.fit)$coefficients"
   ]
  },
  {
   "cell_type": "code",
   "execution_count": 13,
   "metadata": {
    "collapsed": false,
    "deletable": true,
    "editable": true
   },
   "outputs": [
    {
     "data": {
      "text/html": [
       "<table>\n",
       "<thead><tr><th></th><th scope=col>Estimate</th><th scope=col>san.se</th><th scope=col>san.z</th><th scope=col>Pr(&gt;|san.z|)</th></tr></thead>\n",
       "<tbody>\n",
       "\t<tr><th scope=row>beta10</th><td>-1.27252</td><td>0.46946 </td><td>-2.71058</td><td>0.00672 </td></tr>\n",
       "\t<tr><th scope=row>beta20</th><td>-0.62079</td><td>0.47020 </td><td>-1.32028</td><td>0.18674 </td></tr>\n",
       "\t<tr><th scope=row>beta30</th><td> 0.54230</td><td>0.33711 </td><td> 1.60865</td><td>0.10769 </td></tr>\n",
       "\t<tr><th scope=row>nfa.1</th><td> 0.18002</td><td>0.33716 </td><td> 0.53393</td><td>0.59339 </td></tr>\n",
       "</tbody>\n",
       "</table>\n"
      ],
      "text/latex": [
       "\\begin{tabular}{r|llll}\n",
       "  & Estimate & san.se & san.z & Pr(>\\textbar{}san.z\\textbar{})\\\\\n",
       "\\hline\n",
       "\tbeta10 & -1.27252 & 0.46946  & -2.71058 & 0.00672 \\\\\n",
       "\tbeta20 & -0.62079 & 0.47020  & -1.32028 & 0.18674 \\\\\n",
       "\tbeta30 &  0.54230 & 0.33711  &  1.60865 & 0.10769 \\\\\n",
       "\tnfa.1 &  0.18002 & 0.33716  &  0.53393 & 0.59339 \\\\\n",
       "\\end{tabular}\n"
      ],
      "text/markdown": [
       "\n",
       "| <!--/--> | Estimate | san.se | san.z | Pr(>|san.z|) | \n",
       "|---|---|---|---|\n",
       "| beta10 | -1.27252 | 0.46946  | -2.71058 | 0.00672  | \n",
       "| beta20 | -0.62079 | 0.47020  | -1.32028 | 0.18674  | \n",
       "| beta30 |  0.54230 | 0.33711  |  1.60865 | 0.10769  | \n",
       "| nfa.1 |  0.18002 | 0.33716  |  0.53393 | 0.59339  | \n",
       "\n",
       "\n"
      ],
      "text/plain": [
       "       Estimate san.se  san.z    Pr(>|san.z|)\n",
       "beta10 -1.27252 0.46946 -2.71058 0.00672     \n",
       "beta20 -0.62079 0.47020 -1.32028 0.18674     \n",
       "beta30  0.54230 0.33711  1.60865 0.10769     \n",
       "nfa.1   0.18002 0.33716  0.53393 0.59339     "
      ]
     },
     "metadata": {},
     "output_type": "display_data"
    }
   ],
   "source": [
    "nfa.fit = ordLORgee(formula = tumor_cell_evaluation ~ nfa.1, link = \"logit\", \n",
    "                      id = t_number, data = recgli, LORstr = \"category.exch\", bstart = summary(nadc.fit)$coefficients[,1])\n",
    "summary(nfa.fit)$coefficients"
   ]
  },
  {
   "cell_type": "code",
   "execution_count": 14,
   "metadata": {
    "collapsed": false,
    "deletable": true,
    "editable": true
   },
   "outputs": [
    {
     "data": {
      "text/html": [
       "<table>\n",
       "<thead><tr><th></th><th scope=col>Estimate</th><th scope=col>san.se</th><th scope=col>san.z</th><th scope=col>Pr(&gt;|san.z|)</th></tr></thead>\n",
       "<tbody>\n",
       "\t<tr><th scope=row>beta10</th><td>-1.03998</td><td>0.39557 </td><td>-2.62906</td><td>0.00856 </td></tr>\n",
       "\t<tr><th scope=row>beta20</th><td>-0.35200</td><td>0.39153 </td><td>-0.89902</td><td>0.36864 </td></tr>\n",
       "\t<tr><th scope=row>beta30</th><td> 0.79214</td><td>0.38990 </td><td> 2.03166</td><td>0.04219 </td></tr>\n",
       "\t<tr><th scope=row>nev1.1</th><td>-0.07832</td><td>0.25609 </td><td>-0.30583</td><td>0.75974 </td></tr>\n",
       "</tbody>\n",
       "</table>\n"
      ],
      "text/latex": [
       "\\begin{tabular}{r|llll}\n",
       "  & Estimate & san.se & san.z & Pr(>\\textbar{}san.z\\textbar{})\\\\\n",
       "\\hline\n",
       "\tbeta10 & -1.03998 & 0.39557  & -2.62906 & 0.00856 \\\\\n",
       "\tbeta20 & -0.35200 & 0.39153  & -0.89902 & 0.36864 \\\\\n",
       "\tbeta30 &  0.79214 & 0.38990  &  2.03166 & 0.04219 \\\\\n",
       "\tnev1.1 & -0.07832 & 0.25609  & -0.30583 & 0.75974 \\\\\n",
       "\\end{tabular}\n"
      ],
      "text/markdown": [
       "\n",
       "| <!--/--> | Estimate | san.se | san.z | Pr(>|san.z|) | \n",
       "|---|---|---|---|\n",
       "| beta10 | -1.03998 | 0.39557  | -2.62906 | 0.00856  | \n",
       "| beta20 | -0.35200 | 0.39153  | -0.89902 | 0.36864  | \n",
       "| beta30 |  0.79214 | 0.38990  |  2.03166 | 0.04219  | \n",
       "| nev1.1 | -0.07832 | 0.25609  | -0.30583 | 0.75974  | \n",
       "\n",
       "\n"
      ],
      "text/plain": [
       "       Estimate san.se  san.z    Pr(>|san.z|)\n",
       "beta10 -1.03998 0.39557 -2.62906 0.00856     \n",
       "beta20 -0.35200 0.39153 -0.89902 0.36864     \n",
       "beta30  0.79214 0.38990  2.03166 0.04219     \n",
       "nev1.1 -0.07832 0.25609 -0.30583 0.75974     "
      ]
     },
     "metadata": {},
     "output_type": "display_data"
    }
   ],
   "source": [
    "nev1.fit = ordLORgee(formula = tumor_cell_evaluation ~ nev1.1, link = \"logit\", \n",
    "                      id = t_number, data = recgli, LORstr = \"category.exch\")\n",
    "summary(nev1.fit)$coefficients"
   ]
  },
  {
   "cell_type": "code",
   "execution_count": 15,
   "metadata": {
    "collapsed": false,
    "deletable": true,
    "editable": true
   },
   "outputs": [
    {
     "data": {
      "text/html": [
       "<table>\n",
       "<thead><tr><th></th><th scope=col>Estimate</th><th scope=col>san.se</th><th scope=col>san.z</th><th scope=col>Pr(&gt;|san.z|)</th></tr></thead>\n",
       "<tbody>\n",
       "\t<tr><th scope=row>beta10</th><td>-1.02623</td><td>0.34115 </td><td>-3.00814</td><td>0.00263 </td></tr>\n",
       "\t<tr><th scope=row>beta20</th><td>-0.33866</td><td>0.33612 </td><td>-1.00755</td><td>0.31367 </td></tr>\n",
       "\t<tr><th scope=row>beta30</th><td> 0.80427</td><td>0.33722 </td><td> 2.38504</td><td>0.01708 </td></tr>\n",
       "\t<tr><th scope=row>nevrad.1</th><td>-0.07361</td><td>0.18148 </td><td>-0.40560</td><td>0.68503 </td></tr>\n",
       "</tbody>\n",
       "</table>\n"
      ],
      "text/latex": [
       "\\begin{tabular}{r|llll}\n",
       "  & Estimate & san.se & san.z & Pr(>\\textbar{}san.z\\textbar{})\\\\\n",
       "\\hline\n",
       "\tbeta10 & -1.02623 & 0.34115  & -3.00814 & 0.00263 \\\\\n",
       "\tbeta20 & -0.33866 & 0.33612  & -1.00755 & 0.31367 \\\\\n",
       "\tbeta30 &  0.80427 & 0.33722  &  2.38504 & 0.01708 \\\\\n",
       "\tnevrad.1 & -0.07361 & 0.18148  & -0.40560 & 0.68503 \\\\\n",
       "\\end{tabular}\n"
      ],
      "text/markdown": [
       "\n",
       "| <!--/--> | Estimate | san.se | san.z | Pr(>|san.z|) | \n",
       "|---|---|---|---|\n",
       "| beta10 | -1.02623 | 0.34115  | -3.00814 | 0.00263  | \n",
       "| beta20 | -0.33866 | 0.33612  | -1.00755 | 0.31367  | \n",
       "| beta30 |  0.80427 | 0.33722  |  2.38504 | 0.01708  | \n",
       "| nevrad.1 | -0.07361 | 0.18148  | -0.40560 | 0.68503  | \n",
       "\n",
       "\n"
      ],
      "text/plain": [
       "         Estimate san.se  san.z    Pr(>|san.z|)\n",
       "beta10   -1.02623 0.34115 -3.00814 0.00263     \n",
       "beta20   -0.33866 0.33612 -1.00755 0.31367     \n",
       "beta30    0.80427 0.33722  2.38504 0.01708     \n",
       "nevrad.1 -0.07361 0.18148 -0.40560 0.68503     "
      ]
     },
     "metadata": {},
     "output_type": "display_data"
    }
   ],
   "source": [
    "nevrad.fit = ordLORgee(formula = tumor_cell_evaluation ~ nevrad.1, link = \"logit\", \n",
    "                      id = t_number, data = recgli, LORstr = \"category.exch\")\n",
    "summary(nevrad.fit)$coefficients"
   ]
  },
  {
   "cell_type": "markdown",
   "metadata": {
    "deletable": true,
    "editable": true
   },
   "source": [
    "### e. Use GLMM to associate anatomical parameters with TS, separating into CEL & NEL "
   ]
  },
  {
   "cell_type": "code",
   "execution_count": 16,
   "metadata": {
    "collapsed": false,
    "deletable": true,
    "editable": true
   },
   "outputs": [],
   "source": [
    "## need to come back to when becomes more obvious how to do GLMM with multinomial outcome... \n",
    "##can do this using a one-v-all method \n",
    "library(mlogit)"
   ]
  },
  {
   "cell_type": "code",
   "execution_count": 17,
   "metadata": {
    "collapsed": false
   },
   "outputs": [],
   "source": [
    "data_mlog <-mlogit.data(recgli,  id.var =\"t_number\", shape=\"wide\", \n",
    "                        sep=\"\", varying=NULL, \n",
    "                       choice = \"tumor_cell_evaluation\")"
   ]
  },
  {
   "cell_type": "code",
   "execution_count": 19,
   "metadata": {
    "collapsed": false
   },
   "outputs": [
    {
     "data": {
      "text/plain": [
       "\n",
       "Call:\n",
       "mlogit(formula = tumor_cell_evaluation ~ 1 | nadc.1, data = data_mlog, \n",
       "    method = \"nr\", print.level = 0)\n",
       "\n",
       "Frequencies of alternatives:\n",
       "      0       1       2       3 \n",
       "0.23467 0.14133 0.30133 0.32267 \n",
       "\n",
       "nr method\n",
       "4 iterations, 0h:0m:0s \n",
       "g'(-H)^-1g = 0.000989 \n",
       "successive function values within tolerance limits \n",
       "\n",
       "Coefficients :\n",
       "                Estimate Std. Error z-value Pr(>|z|)  \n",
       "1:(intercept) -0.5136558  0.5493238 -0.9351  0.34975  \n",
       "2:(intercept)  0.9820779  0.4554066  2.1565  0.03105 *\n",
       "3:(intercept)  0.3097094  0.4426328  0.6997  0.48412  \n",
       "1:nadc.1       0.0039183  0.3084575  0.0127  0.98986  \n",
       "2:nadc.1      -0.4515157  0.2659119 -1.6980  0.08951 .\n",
       "3:nadc.1       0.0051762  0.2485613  0.0208  0.98339  \n",
       "---\n",
       "Signif. codes:  0 ‘***’ 0.001 ‘**’ 0.01 ‘*’ 0.05 ‘.’ 0.1 ‘ ’ 1\n",
       "\n",
       "Log-Likelihood: -501.36\n",
       "McFadden R^2:  0.0046018 \n",
       "Likelihood ratio test : chisq = 4.6357 (p.value = 0.20051)"
      ]
     },
     "metadata": {},
     "output_type": "display_data"
    }
   ],
   "source": [
    "mlogit_nadc.1 <- mlogit(tumor_cell_evaluation ~1 | nadc.1, data=data_mlog)\n",
    "summary(mlogit_nadc.1)"
   ]
  },
  {
   "cell_type": "code",
   "execution_count": 21,
   "metadata": {
    "collapsed": false
   },
   "outputs": [
    {
     "data": {
      "text/plain": [
       "\n",
       "Call:\n",
       "mlogit(formula = tumor_cell_evaluation ~ 1 | nfa.1, data = data_mlog, \n",
       "    method = \"nr\", print.level = 0)\n",
       "\n",
       "Frequencies of alternatives:\n",
       "      0       1       2       3 \n",
       "0.23889 0.14167 0.29444 0.32500 \n",
       "\n",
       "nr method\n",
       "4 iterations, 0h:0m:0s \n",
       "g'(-H)^-1g = 2.06E-08 \n",
       "gradient close to zero \n",
       "\n",
       "Coefficients :\n",
       "               Estimate Std. Error z-value Pr(>|z|)\n",
       "1:(intercept) -0.050907   0.486605 -0.1046   0.9167\n",
       "2:(intercept)  0.647087   0.400463  1.6158   0.1061\n",
       "3:(intercept)  0.399249   0.391170  1.0207   0.3074\n",
       "1:nfa.1       -0.592476   0.575264 -1.0299   0.3030\n",
       "2:nfa.1       -0.548811   0.466426 -1.1766   0.2393\n",
       "3:nfa.1       -0.111546   0.444244 -0.2511   0.8017\n",
       "\n",
       "Log-Likelihood: -482.81\n",
       "McFadden R^2:  0.0022529 \n",
       "Likelihood ratio test : chisq = 2.1804 (p.value = 0.53582)"
      ]
     },
     "metadata": {},
     "output_type": "display_data"
    }
   ],
   "source": [
    "mlogit_nfa.1 <- mlogit(tumor_cell_evaluation ~1 | nfa.1, data=data_mlog)\n",
    "summary(mlogit_nfa.1)"
   ]
  },
  {
   "cell_type": "code",
   "execution_count": 20,
   "metadata": {
    "collapsed": false
   },
   "outputs": [
    {
     "data": {
      "text/plain": [
       "\n",
       "Call:\n",
       "mlogit(formula = tumor_cell_evaluation ~ 1 | nev1.1, data = data_mlog, \n",
       "    method = \"nr\", print.level = 0)\n",
       "\n",
       "Frequencies of alternatives:\n",
       "      0       1       2       3 \n",
       "0.24179 0.14328 0.27463 0.34030 \n",
       "\n",
       "nr method\n",
       "4 iterations, 0h:0m:0s \n",
       "g'(-H)^-1g = 0.000589 \n",
       "successive function values within tolerance limits \n",
       "\n",
       "Coefficients :\n",
       "              Estimate Std. Error z-value Pr(>|z|)  \n",
       "1:(intercept)  0.15818    0.63804  0.2479  0.80420  \n",
       "2:(intercept)  1.12983    0.53862  2.0976  0.03594 *\n",
       "3:(intercept)  0.49135    0.50361  0.9757  0.32923  \n",
       "1:nev1.1      -0.47403    0.42904 -1.1049  0.26922  \n",
       "2:nev1.1      -0.70762    0.36423 -1.9428  0.05204 .\n",
       "3:nev1.1      -0.10160    0.32711 -0.3106  0.75611  \n",
       "---\n",
       "Signif. codes:  0 ‘***’ 0.001 ‘**’ 0.01 ‘*’ 0.05 ‘.’ 0.1 ‘ ’ 1\n",
       "\n",
       "Log-Likelihood: -447.51\n",
       "McFadden R^2:  0.0056012 \n",
       "Likelihood ratio test : chisq = 5.0415 (p.value = 0.16878)"
      ]
     },
     "metadata": {},
     "output_type": "display_data"
    }
   ],
   "source": [
    "mlogit_ev1.1 <- mlogit(tumor_cell_evaluation ~1 | nev1.1, data=data_mlog)\n",
    "summary(mlogit_ev1.1)"
   ]
  },
  {
   "cell_type": "code",
   "execution_count": 22,
   "metadata": {
    "collapsed": false
   },
   "outputs": [
    {
     "data": {
      "text/plain": [
       "\n",
       "Call:\n",
       "mlogit(formula = tumor_cell_evaluation ~ 1 | nevrad.1, data = data_mlog, \n",
       "    method = \"nr\", print.level = 0)\n",
       "\n",
       "Frequencies of alternatives:\n",
       "      0       1       2       3 \n",
       "0.24179 0.14328 0.27463 0.34030 \n",
       "\n",
       "nr method\n",
       "4 iterations, 0h:0m:0s \n",
       "g'(-H)^-1g = 0.000819 \n",
       "successive function values within tolerance limits \n",
       "\n",
       "Coefficients :\n",
       "              Estimate Std. Error z-value Pr(>|z|)  \n",
       "1:(intercept)  0.20632    0.55000  0.3751  0.70756  \n",
       "2:(intercept)  1.10393    0.46483  2.3749  0.01755 *\n",
       "3:(intercept)  0.67331    0.43260  1.5564  0.11960  \n",
       "1:nevrad.1    -0.42155    0.30396 -1.3869  0.16548  \n",
       "2:nevrad.1    -0.57322    0.25770 -2.2244  0.02612 *\n",
       "3:nevrad.1    -0.18679    0.22888 -0.8161  0.41443  \n",
       "---\n",
       "Signif. codes:  0 ‘***’ 0.001 ‘**’ 0.01 ‘*’ 0.05 ‘.’ 0.1 ‘ ’ 1\n",
       "\n",
       "Log-Likelihood: -447.14\n",
       "McFadden R^2:  0.0064334 \n",
       "Likelihood ratio test : chisq = 5.7905 (p.value = 0.12226)"
      ]
     },
     "metadata": {},
     "output_type": "display_data"
    }
   ],
   "source": [
    "mlogit_evrad.1 <- mlogit(tumor_cell_evaluation ~1 | nevrad.1, data=data_mlog)\n",
    "summary(mlogit_evrad.1)"
   ]
  },
  {
   "cell_type": "code",
   "execution_count": 26,
   "metadata": {
    "collapsed": false
   },
   "outputs": [
    {
     "data": {
      "text/plain": [
       "\n",
       "Call:\n",
       "mlogit(formula = tumor_cell_evaluation ~ 1 | nadc.2, data = data_mlog, \n",
       "    method = \"nr\", print.level = 0)\n",
       "\n",
       "Frequencies of alternatives:\n",
       "      0       1       2       3 \n",
       "0.20755 0.13208 0.32075 0.33962 \n",
       "\n",
       "nr method\n",
       "4 iterations, 0h:0m:0s \n",
       "g'(-H)^-1g = 3.46E-07 \n",
       "gradient close to zero \n",
       "\n",
       "Coefficients :\n",
       "               Estimate Std. Error z-value Pr(>|z|)  \n",
       "1:(intercept) -1.645718   0.825548 -1.9935  0.04621 *\n",
       "2:(intercept)  0.493855   0.659351  0.7490  0.45386  \n",
       "3:(intercept)  0.310391   0.651957  0.4761  0.63401  \n",
       "1:nadc.2       0.694951   0.460252  1.5099  0.13106  \n",
       "2:nadc.2      -0.035695   0.387795 -0.0920  0.92666  \n",
       "3:nadc.2       0.110051   0.380851  0.2890  0.77261  \n",
       "---\n",
       "Signif. codes:  0 ‘***’ 0.001 ‘**’ 0.01 ‘*’ 0.05 ‘.’ 0.1 ‘ ’ 1\n",
       "\n",
       "Log-Likelihood: -349.56\n",
       "McFadden R^2:  0.0046019 \n",
       "Likelihood ratio test : chisq = 3.2322 (p.value = 0.3572)"
      ]
     },
     "metadata": {},
     "output_type": "display_data"
    }
   ],
   "source": [
    "mlogit_nadc.2 <- mlogit(tumor_cell_evaluation ~1 | nadc.2, data=data_mlog)\n",
    "summary(mlogit_nadc.2)"
   ]
  },
  {
   "cell_type": "code",
   "execution_count": 27,
   "metadata": {
    "collapsed": false
   },
   "outputs": [
    {
     "data": {
      "text/plain": [
       "\n",
       "Call:\n",
       "mlogit(formula = tumor_cell_evaluation ~ 1 | nfa.2, data = data_mlog, \n",
       "    method = \"nr\", print.level = 0)\n",
       "\n",
       "Frequencies of alternatives:\n",
       "      0       1       2       3 \n",
       "0.20677 0.13158 0.32331 0.33835 \n",
       "\n",
       "nr method\n",
       "4 iterations, 0h:0m:0s \n",
       "g'(-H)^-1g = 0.00125 \n",
       "successive function values within tolerance limits \n",
       "\n",
       "Coefficients :\n",
       "              Estimate Std. Error z-value Pr(>|z|)\n",
       "1:(intercept) -0.17626    0.65529 -0.2690   0.7879\n",
       "2:(intercept)  0.71706    0.52230  1.3729   0.1698\n",
       "3:(intercept)  0.57900    0.51593  1.1222   0.2618\n",
       "1:nfa.2       -0.32276    0.72711 -0.4439   0.6571\n",
       "2:nfa.2       -0.31602    0.57493 -0.5497   0.5826\n",
       "3:nfa.2       -0.10011    0.56245 -0.1780   0.8587\n",
       "\n",
       "Log-Likelihood: -352.11\n",
       "McFadden R^2:  0.0005896 \n",
       "Likelihood ratio test : chisq = 0.41545 (p.value = 0.93703)"
      ]
     },
     "metadata": {},
     "output_type": "display_data"
    }
   ],
   "source": [
    "mlogit_nfa.2 <- mlogit(tumor_cell_evaluation ~1 | nfa.2, data=data_mlog)\n",
    "summary(mlogit_nfa.2)"
   ]
  },
  {
   "cell_type": "code",
   "execution_count": 28,
   "metadata": {
    "collapsed": false
   },
   "outputs": [
    {
     "data": {
      "text/plain": [
       "\n",
       "Call:\n",
       "mlogit(formula = tumor_cell_evaluation ~ 1 | nev1.2, data = data_mlog, \n",
       "    method = \"nr\", print.level = 0)\n",
       "\n",
       "Frequencies of alternatives:\n",
       "      0       1       2       3 \n",
       "0.23256 0.13023 0.32093 0.31628 \n",
       "\n",
       "nr method\n",
       "4 iterations, 0h:0m:0s \n",
       "g'(-H)^-1g = 1.81E-07 \n",
       "gradient close to zero \n",
       "\n",
       "Coefficients :\n",
       "              Estimate Std. Error z-value Pr(>|z|)\n",
       "1:(intercept) -1.08125    0.87372 -1.2375   0.2159\n",
       "2:(intercept)  1.08680    0.72491  1.4992   0.1338\n",
       "3:(intercept)  1.14831    0.72970  1.5737   0.1156\n",
       "1:nev1.2       0.33050    0.55187  0.5989   0.5493\n",
       "2:nev1.2      -0.52830    0.48275 -1.0944   0.2738\n",
       "3:nev1.2      -0.58244    0.48740 -1.1950   0.2321\n",
       "\n",
       "Log-Likelihood: -284.78\n",
       "McFadden R^2:  0.0067111 \n",
       "Likelihood ratio test : chisq = 3.8482 (p.value = 0.27833)"
      ]
     },
     "metadata": {},
     "output_type": "display_data"
    }
   ],
   "source": [
    "mlogit_nev1.2 <- mlogit(tumor_cell_evaluation ~1 | nev1.2, data=data_mlog)\n",
    "summary(mlogit_nev1.2)"
   ]
  },
  {
   "cell_type": "code",
   "execution_count": 29,
   "metadata": {
    "collapsed": false
   },
   "outputs": [
    {
     "data": {
      "text/plain": [
       "\n",
       "Call:\n",
       "mlogit(formula = tumor_cell_evaluation ~ 1 | nevrad.2, data = data_mlog, \n",
       "    method = \"nr\", print.level = 0)\n",
       "\n",
       "Frequencies of alternatives:\n",
       "      0       1       2       3 \n",
       "0.23256 0.13023 0.32093 0.31628 \n",
       "\n",
       "nr method\n",
       "4 iterations, 0h:0m:0s \n",
       "g'(-H)^-1g = 3.42E-07 \n",
       "gradient close to zero \n",
       "\n",
       "Coefficients :\n",
       "               Estimate Std. Error z-value Pr(>|z|)\n",
       "1:(intercept) -1.420580   0.868770 -1.6352   0.1020\n",
       "2:(intercept)  0.545302   0.678614  0.8036   0.4217\n",
       "3:(intercept)  0.423742   0.680558  0.6226   0.5335\n",
       "1:nevrad.2     0.500454   0.493370  1.0144   0.3104\n",
       "2:nevrad.2    -0.138684   0.404960 -0.3425   0.7320\n",
       "3:nevrad.2    -0.071917   0.404627 -0.1777   0.8589\n",
       "\n",
       "Log-Likelihood: -285.72\n",
       "McFadden R^2:  0.00344 \n",
       "Likelihood ratio test : chisq = 1.9726 (p.value = 0.57812)"
      ]
     },
     "metadata": {},
     "output_type": "display_data"
    }
   ],
   "source": [
    "mlogit_nevrad.2 <- mlogit(tumor_cell_evaluation ~1 | nevrad.2, data=data_mlog)\n",
    "summary(mlogit_nevrad.2)"
   ]
  },
  {
   "cell_type": "code",
   "execution_count": 31,
   "metadata": {
    "collapsed": false
   },
   "outputs": [
    {
     "data": {
      "text/plain": [
       "\n",
       "Call:\n",
       "mlogit(formula = tumor_cell_evaluation ~ 1 | nadc.1 + nfa.1 + \n",
       "    nev1.1 + nevrad.1, data = data_mlog, method = \"nr\", print.level = 0)\n",
       "\n",
       "Frequencies of alternatives:\n",
       "      0       1       2       3 \n",
       "0.24179 0.14328 0.27463 0.34030 \n",
       "\n",
       "nr method\n",
       "5 iterations, 0h:0m:0s \n",
       "g'(-H)^-1g = 0.00108 \n",
       "successive function values within tolerance limits \n",
       "\n",
       "Coefficients :\n",
       "              Estimate Std. Error z-value Pr(>|z|)   \n",
       "1:(intercept)  0.42372    1.07817  0.3930 0.694321   \n",
       "2:(intercept)  1.83058    0.91311  2.0048 0.044987 * \n",
       "3:(intercept)  0.60515    0.81756  0.7402 0.459188   \n",
       "1:nadc.1       4.04555    1.48922  2.7166 0.006596 **\n",
       "2:nadc.1       3.11868    1.46029  2.1357 0.032707 * \n",
       "3:nadc.1       3.17275    1.43922  2.2045 0.027490 * \n",
       "1:nfa.1       -0.78303    0.93791 -0.8349 0.403793   \n",
       "2:nfa.1       -0.86548    0.80946 -1.0692 0.284976   \n",
       "3:nfa.1       -0.30562    0.75207 -0.4064 0.684468   \n",
       "1:nev1.1      -1.21928    2.11583 -0.5763 0.564435   \n",
       "2:nev1.1      -0.88749    2.01281 -0.4409 0.659269   \n",
       "3:nev1.1      -0.69278    1.93899 -0.3573 0.720876   \n",
       "1:nevrad.1    -3.08430    1.14067 -2.7039 0.006852 **\n",
       "2:nevrad.1    -2.84586    1.04431 -2.7251 0.006428 **\n",
       "3:nevrad.1    -2.47356    0.97612 -2.5341 0.011274 * \n",
       "---\n",
       "Signif. codes:  0 ‘***’ 0.001 ‘**’ 0.01 ‘*’ 0.05 ‘.’ 0.1 ‘ ’ 1\n",
       "\n",
       "Log-Likelihood: -437.76\n",
       "McFadden R^2:  0.027268 \n",
       "Likelihood ratio test : chisq = 24.543 (p.value = 0.017145)"
      ]
     },
     "metadata": {},
     "output_type": "display_data"
    }
   ],
   "source": [
    "mlogit_diffu.1 <- mlogit(tumor_cell_evaluation ~1 | nadc.1+nfa.1+nev1.1+nevrad.1, data=data_mlog)\n",
    "summary(mlogit_diffu.1)"
   ]
  },
  {
   "cell_type": "code",
   "execution_count": 32,
   "metadata": {
    "collapsed": false
   },
   "outputs": [
    {
     "data": {
      "text/plain": [
       "\n",
       "Call:\n",
       "mlogit(formula = tumor_cell_evaluation ~ 1 | nadc.1 + nfa.1 + \n",
       "    nev1.1 + nevrad.1, data = data_mlog, method = \"nr\", print.level = 0)\n",
       "\n",
       "Frequencies of alternatives:\n",
       "      0       1       2       3 \n",
       "0.24179 0.14328 0.27463 0.34030 \n",
       "\n",
       "nr method\n",
       "5 iterations, 0h:0m:0s \n",
       "g'(-H)^-1g = 0.00108 \n",
       "successive function values within tolerance limits \n",
       "\n",
       "Coefficients :\n",
       "              Estimate Std. Error z-value Pr(>|z|)   \n",
       "1:(intercept)  0.42372    1.07817  0.3930 0.694321   \n",
       "2:(intercept)  1.83058    0.91311  2.0048 0.044987 * \n",
       "3:(intercept)  0.60515    0.81756  0.7402 0.459188   \n",
       "1:nadc.1       4.04555    1.48922  2.7166 0.006596 **\n",
       "2:nadc.1       3.11868    1.46029  2.1357 0.032707 * \n",
       "3:nadc.1       3.17275    1.43922  2.2045 0.027490 * \n",
       "1:nfa.1       -0.78303    0.93791 -0.8349 0.403793   \n",
       "2:nfa.1       -0.86548    0.80946 -1.0692 0.284976   \n",
       "3:nfa.1       -0.30562    0.75207 -0.4064 0.684468   \n",
       "1:nev1.1      -1.21928    2.11583 -0.5763 0.564435   \n",
       "2:nev1.1      -0.88749    2.01281 -0.4409 0.659269   \n",
       "3:nev1.1      -0.69278    1.93899 -0.3573 0.720876   \n",
       "1:nevrad.1    -3.08430    1.14067 -2.7039 0.006852 **\n",
       "2:nevrad.1    -2.84586    1.04431 -2.7251 0.006428 **\n",
       "3:nevrad.1    -2.47356    0.97612 -2.5341 0.011274 * \n",
       "---\n",
       "Signif. codes:  0 ‘***’ 0.001 ‘**’ 0.01 ‘*’ 0.05 ‘.’ 0.1 ‘ ’ 1\n",
       "\n",
       "Log-Likelihood: -437.76\n",
       "McFadden R^2:  0.027268 \n",
       "Likelihood ratio test : chisq = 24.543 (p.value = 0.017145)"
      ]
     },
     "metadata": {},
     "output_type": "display_data"
    }
   ],
   "source": [
    "mlogit_diffu.2 <- mlogit(tumor_cell_evaluation ~1 | nadc.2+nfa.2+nev1.2+nevrad.2, data=data_mlog)\n",
    "summary(mlogit_diffu.1)"
   ]
  },
  {
   "cell_type": "markdown",
   "metadata": {
    "deletable": true,
    "editable": true
   },
   "source": [
    "### f. Use GEE to associate anatomical parameters with TS, separating into CEL & NEL \n"
   ]
  },
  {
   "cell_type": "code",
   "execution_count": 33,
   "metadata": {
    "collapsed": false,
    "deletable": true,
    "editable": true
   },
   "outputs": [
    {
     "data": {
      "text/html": [
       "<ol class=list-inline>\n",
       "\t<li>174</li>\n",
       "\t<li>74</li>\n",
       "</ol>\n"
      ],
      "text/latex": [
       "\\begin{enumerate*}\n",
       "\\item 174\n",
       "\\item 74\n",
       "\\end{enumerate*}\n"
      ],
      "text/markdown": [
       "1. 174\n",
       "2. 74\n",
       "\n",
       "\n"
      ],
      "text/plain": [
       "[1] 174  74"
      ]
     },
     "metadata": {},
     "output_type": "display_data"
    },
    {
     "data": {
      "text/html": [
       "TRUE"
      ],
      "text/latex": [
       "TRUE"
      ],
      "text/markdown": [
       "TRUE"
      ],
      "text/plain": [
       "[1] TRUE"
      ]
     },
     "metadata": {},
     "output_type": "display_data"
    },
    {
     "data": {
      "text/html": [
       "<table>\n",
       "<thead><tr><th></th><th scope=col>b_number</th><th scope=col>t_number</th><th scope=col>sf_number</th><th scope=col>current_scan_date</th><th scope=col>current_surgery_date</th><th scope=col>current_hist_grade</th><th scope=col>current_hist_type</th><th scope=col>roi.label</th><th scope=col>tumor_cell_evaluation</th><th scope=col>necrosis</th><th scope=col>⋯</th><th scope=col>in_CEL</th><th scope=col>in_T2all</th><th scope=col>in_NEL</th><th scope=col>in_NEC</th><th scope=col>in_ROI</th><th scope=col>desired_hist</th><th scope=col>multnom_out</th><th scope=col>no_ffpe</th><th scope=col>waiting_on_path</th><th scope=col>rhgg_txe_analysis</th></tr></thead>\n",
       "<tbody>\n",
       "\t<tr><th scope=row>1</th><td>2723            </td><td>6369            </td><td>8122            </td><td>9/13/09         </td><td>9/14/09         </td><td>Grade IV        </td><td>Glioblastoma    </td><td>10B28           </td><td>0               </td><td>0               </td><td>⋯               </td><td>1               </td><td>1               </td><td>0               </td><td>0               </td><td>1               </td><td>1               </td><td>TxE             </td><td>0               </td><td>0               </td><td>1               </td></tr>\n",
       "\t<tr><th scope=row>2</th><td>2312            </td><td>5317            </td><td>7679            </td><td>5/4/08          </td><td>5/4/08          </td><td>Grade IV        </td><td>Glioblastoma    </td><td>11B16           </td><td>2               </td><td>1               </td><td>⋯               </td><td>1               </td><td>1               </td><td>0               </td><td>0               </td><td>1               </td><td>1               </td><td>rHGG            </td><td>0               </td><td>0               </td><td>1               </td></tr>\n",
       "\t<tr><th scope=row>4</th><td>2312            </td><td>5317            </td><td>7679            </td><td>5/4/08          </td><td>5/4/08          </td><td>Grade IV        </td><td>Glioblastoma    </td><td>12B16           </td><td>2               </td><td>1               </td><td>⋯               </td><td>1               </td><td>1               </td><td>0               </td><td>0               </td><td>1               </td><td>1               </td><td>rHGG            </td><td>0               </td><td>0               </td><td>1               </td></tr>\n",
       "\t<tr><th scope=row>6</th><td>2873            </td><td>6709            </td><td>8269            </td><td>3/11/10         </td><td>3/15/10         </td><td>Grade IV        </td><td>Glioblastoma    </td><td>13B32           </td><td>1               </td><td>0               </td><td>⋯               </td><td>1               </td><td>0               </td><td>0               </td><td>0               </td><td>1               </td><td>1               </td><td>Ts1DNI          </td><td>0               </td><td>0               </td><td>0               </td></tr>\n",
       "\t<tr><th scope=row>9</th><td>3118            </td><td>7394            </td><td>8688            </td><td>3/15/11         </td><td>3/16/11         </td><td>Treatment Effect</td><td>Treatment Effect</td><td>14B41           </td><td>1               </td><td>0               </td><td>⋯               </td><td>1               </td><td>0               </td><td>0               </td><td>0               </td><td>1               </td><td>1               </td><td>Ts1DNI          </td><td>0               </td><td>0               </td><td>0               </td></tr>\n",
       "\t<tr><th scope=row>11</th><td>2222            </td><td>6094            </td><td>7758            </td><td>8/3/08          </td><td>8/4/08          </td><td>Grade IV        </td><td>Glioblastoma    </td><td>15B18           </td><td>0               </td><td>0               </td><td>⋯               </td><td>1               </td><td>1               </td><td>0               </td><td>0               </td><td>1               </td><td>1               </td><td>TxE             </td><td>0               </td><td>0               </td><td>1               </td></tr>\n",
       "</tbody>\n",
       "</table>\n"
      ],
      "text/latex": [
       "\\begin{tabular}{r|llllllllllllllllllllllllllllllllllllllllllllllllllllllllllllllllllllllllll}\n",
       "  & b\\_number & t\\_number & sf\\_number & current\\_scan\\_date & current\\_surgery\\_date & current\\_hist\\_grade & current\\_hist\\_type & roi.label & tumor\\_cell\\_evaluation & necrosis & ⋯ & in\\_CEL & in\\_T2all & in\\_NEL & in\\_NEC & in\\_ROI & desired\\_hist & multnom\\_out & no\\_ffpe & waiting\\_on\\_path & rhgg\\_txe\\_analysis\\\\\n",
       "\\hline\n",
       "\t1 & 2723             & 6369             & 8122             & 9/13/09          & 9/14/09          & Grade IV         & Glioblastoma     & 10B28            & 0                & 0                & ⋯                & 1                & 1                & 0                & 0                & 1                & 1                & TxE              & 0                & 0                & 1               \\\\\n",
       "\t2 & 2312             & 5317             & 7679             & 5/4/08           & 5/4/08           & Grade IV         & Glioblastoma     & 11B16            & 2                & 1                & ⋯                & 1                & 1                & 0                & 0                & 1                & 1                & rHGG             & 0                & 0                & 1               \\\\\n",
       "\t4 & 2312             & 5317             & 7679             & 5/4/08           & 5/4/08           & Grade IV         & Glioblastoma     & 12B16            & 2                & 1                & ⋯                & 1                & 1                & 0                & 0                & 1                & 1                & rHGG             & 0                & 0                & 1               \\\\\n",
       "\t6 & 2873             & 6709             & 8269             & 3/11/10          & 3/15/10          & Grade IV         & Glioblastoma     & 13B32            & 1                & 0                & ⋯                & 1                & 0                & 0                & 0                & 1                & 1                & Ts1DNI           & 0                & 0                & 0               \\\\\n",
       "\t9 & 3118             & 7394             & 8688             & 3/15/11          & 3/16/11          & Treatment Effect & Treatment Effect & 14B41            & 1                & 0                & ⋯                & 1                & 0                & 0                & 0                & 1                & 1                & Ts1DNI           & 0                & 0                & 0               \\\\\n",
       "\t11 & 2222             & 6094             & 7758             & 8/3/08           & 8/4/08           & Grade IV         & Glioblastoma     & 15B18            & 0                & 0                & ⋯                & 1                & 1                & 0                & 0                & 1                & 1                & TxE              & 0                & 0                & 1               \\\\\n",
       "\\end{tabular}\n"
      ],
      "text/markdown": [
       "\n",
       "| <!--/--> | b_number | t_number | sf_number | current_scan_date | current_surgery_date | current_hist_grade | current_hist_type | roi.label | tumor_cell_evaluation | necrosis | ⋯ | in_CEL | in_T2all | in_NEL | in_NEC | in_ROI | desired_hist | multnom_out | no_ffpe | waiting_on_path | rhgg_txe_analysis | \n",
       "|---|---|---|---|---|---|\n",
       "| 1 | 2723             | 6369             | 8122             | 9/13/09          | 9/14/09          | Grade IV         | Glioblastoma     | 10B28            | 0                | 0                | ⋯                | 1                | 1                | 0                | 0                | 1                | 1                | TxE              | 0                | 0                | 1                | \n",
       "| 2 | 2312             | 5317             | 7679             | 5/4/08           | 5/4/08           | Grade IV         | Glioblastoma     | 11B16            | 2                | 1                | ⋯                | 1                | 1                | 0                | 0                | 1                | 1                | rHGG             | 0                | 0                | 1                | \n",
       "| 4 | 2312             | 5317             | 7679             | 5/4/08           | 5/4/08           | Grade IV         | Glioblastoma     | 12B16            | 2                | 1                | ⋯                | 1                | 1                | 0                | 0                | 1                | 1                | rHGG             | 0                | 0                | 1                | \n",
       "| 6 | 2873             | 6709             | 8269             | 3/11/10          | 3/15/10          | Grade IV         | Glioblastoma     | 13B32            | 1                | 0                | ⋯                | 1                | 0                | 0                | 0                | 1                | 1                | Ts1DNI           | 0                | 0                | 0                | \n",
       "| 9 | 3118             | 7394             | 8688             | 3/15/11          | 3/16/11          | Treatment Effect | Treatment Effect | 14B41            | 1                | 0                | ⋯                | 1                | 0                | 0                | 0                | 1                | 1                | Ts1DNI           | 0                | 0                | 0                | \n",
       "| 11 | 2222             | 6094             | 7758             | 8/3/08           | 8/4/08           | Grade IV         | Glioblastoma     | 15B18            | 0                | 0                | ⋯                | 1                | 1                | 0                | 0                | 1                | 1                | TxE              | 0                | 0                | 1                | \n",
       "\n",
       "\n"
      ],
      "text/plain": [
       "   b_number t_number sf_number current_scan_date current_surgery_date\n",
       "1  2723     6369     8122      9/13/09           9/14/09             \n",
       "2  2312     5317     7679      5/4/08            5/4/08              \n",
       "4  2312     5317     7679      5/4/08            5/4/08              \n",
       "6  2873     6709     8269      3/11/10           3/15/10             \n",
       "9  3118     7394     8688      3/15/11           3/16/11             \n",
       "11 2222     6094     7758      8/3/08            8/4/08              \n",
       "   current_hist_grade current_hist_type roi.label tumor_cell_evaluation\n",
       "1  Grade IV           Glioblastoma      10B28     0                    \n",
       "2  Grade IV           Glioblastoma      11B16     2                    \n",
       "4  Grade IV           Glioblastoma      12B16     2                    \n",
       "6  Grade IV           Glioblastoma      13B32     1                    \n",
       "9  Treatment Effect   Treatment Effect  14B41     1                    \n",
       "11 Grade IV           Glioblastoma      15B18     0                    \n",
       "   necrosis ⋯ in_CEL in_T2all in_NEL in_NEC in_ROI desired_hist multnom_out\n",
       "1  0        ⋯ 1      1        0      0      1      1            TxE        \n",
       "2  1        ⋯ 1      1        0      0      1      1            rHGG       \n",
       "4  1        ⋯ 1      1        0      0      1      1            rHGG       \n",
       "6  0        ⋯ 1      0        0      0      1      1            Ts1DNI     \n",
       "9  0        ⋯ 1      0        0      0      1      1            Ts1DNI     \n",
       "11 0        ⋯ 1      1        0      0      1      1            TxE        \n",
       "   no_ffpe waiting_on_path rhgg_txe_analysis\n",
       "1  0       0               1                \n",
       "2  0       0               1                \n",
       "4  0       0               1                \n",
       "6  0       0               0                \n",
       "9  0       0               0                \n",
       "11 0       0               1                "
      ]
     },
     "metadata": {},
     "output_type": "display_data"
    }
   ],
   "source": [
    "recgli_inCEL = recgli[which(recgli$in_CEL == 1),]\n",
    "dim(recgli_inCEL)\n",
    "is.numeric(recgli_inCEL$tumor_cell_evaluation)\n",
    "head(recgli_inCEL)"
   ]
  },
  {
   "cell_type": "code",
   "execution_count": 34,
   "metadata": {
    "collapsed": false,
    "deletable": true,
    "editable": true
   },
   "outputs": [
    {
     "ename": "ERROR",
     "evalue": "Error in fitLORgee(Y, X_mat, coeffs, ncategories, id, repeated, offset, : Please insert initial values\n",
     "output_type": "error",
     "traceback": [
      "Error in fitLORgee(Y, X_mat, coeffs, ncategories, id, repeated, offset, : Please insert initial values\nTraceback:\n",
      "1. ordLORgee(formula = tumor_cell_evaluation ~ nadc.1, link = \"logit\", \n .     id = t_number, data = recgli_inCEL, LORstr = \"category.exch\", \n .     bstart = summary(nadc.fit)$coefficients[, 1])",
      "2. fitLORgee(Y, X_mat, coeffs, ncategories, id, repeated, offset, \n .     link, LORterm, marpars, ipfp.ctrl, control, IM, LORem = LORem, \n .     LORstr = LORstr, add)",
      "3. stop(\"Please insert initial values\")"
     ]
    }
   ],
   "source": [
    "nadc.fit2 = ordLORgee(formula = tumor_cell_evaluation ~ nadc.1, link = \"logit\", \n",
    "                      id = t_number, data = recgli_inCEL, LORstr = \"category.exch\", \n",
    "                     bstart = summary(nadc.fit)$coefficients[,1])\n",
    "## for some reason this throws an error, I reported to the github and hope that there is a resolution of this issue "
   ]
  },
  {
   "cell_type": "markdown",
   "metadata": {
    "deletable": true,
    "editable": true
   },
   "source": [
    "### g. create histograms & describe diffusion patterns: "
   ]
  },
  {
   "cell_type": "code",
   "execution_count": 35,
   "metadata": {
    "collapsed": false,
    "deletable": true,
    "editable": true
   },
   "outputs": [
    {
     "data": {
      "image/png": "[encoded data removed]",
      "text/plain": [
       "Plot with title “distribution of nevrad.1\n",
       " values in CEL vs in NEL”"
      ]
     },
     "metadata": {},
     "output_type": "display_data"
    }
   ],
   "source": [
    "par(mfrow=c(2,2))\n",
    "hist(recgli[which(recgli$in_CEL==1),]$nadc.1, breaks=35, ylim = c(0, 30),  xlim=c(0,5), col=rgb(1,0,0,0.5), xlab=\"nadc.1 value\", \n",
    "     ylab=\"\", main=\"distribution of nadc.1\\n values in CEL vs in NEL\")\n",
    "hist(recgli[which(recgli$in_NEL==1),]$nadc.1, breaks=35, ylim = c(0, 30),  xlim=c(0,5), col=rgb(0,0,1,0.5), add=T)\n",
    "legend(\"topright\", legend=c(\"in CEL\",\"in NEL\"), col=c(rgb(1,0,0,0.5), \n",
    "     rgb(0,0,1,0.5)), pt.cex=2, pch=15, cex = .8 )\n",
    "\n",
    "hist(recgli[which(recgli$in_CEL==1),]$nfa.1, breaks=35, ylim = c(0, 30),  xlim=c(0,4), col=rgb(1,0,0,0.5), xlab=\"nfa.1 value\", \n",
    "     ylab=\"\", main=\"distribution of nfa.1\\n values in CEL vs in NEL\")\n",
    "hist(recgli[which(recgli$in_NEL==1),]$nfa.1, breaks=35, ylim = c(0, 30),  xlim=c(0,4), col=rgb(0,0,1,0.5), add=T)\n",
    "legend(\"topright\", legend=c(\"in CEL\",\"in NEL\"), col=c(rgb(1,0,0,0.5), \n",
    "     rgb(0,0,1,0.5)), pt.cex=2, pch=15, cex = .8 )\n",
    "\n",
    "hist(recgli[which(recgli$in_CEL==1),]$nev1.1, breaks=35, ylim = c(0, 30),  xlim=c(0,4), col=rgb(1,0,0,0.5), xlab=\"nev1.1 value\", \n",
    "     ylab=\"\", main=\"distribution of nev1.1\\n values in CEL vs in NEL\")\n",
    "hist(recgli[which(recgli$in_NEL==1),]$nev1.1, breaks=35, ylim = c(0, 30),  xlim=c(0,4), col=rgb(0,0,1,0.5), add=T)\n",
    "legend(\"topright\", legend=c(\"in CEL\",\"in NEL\"), col=c(rgb(1,0,0,0.5), \n",
    "     rgb(0,0,1,0.5)), pt.cex=2, pch=15, cex = .8 )\n",
    "\n",
    "hist(recgli[which(recgli$in_CEL==1),]$nevrad.1, breaks=35, ylim = c(0, 30),  xlim=c(0,3), col=rgb(1,0,0,0.5), xlab=\"nevrad.1 value\", \n",
    "     ylab=\"\", main=\"distribution of nevrad.1\\n values in CEL vs in NEL\")\n",
    "hist(recgli[which(recgli$in_NEL==1),]$nevrad.1, breaks=35, ylim = c(0, 30),  xlim=c(0,3), col=rgb(0,0,1,0.5), add=T)\n",
    "legend(\"topright\", legend=c(\"in CEL\",\"in NEL\"), col=c(rgb(1,0,0,0.5), \n",
    "     rgb(0,0,1,0.5)), pt.cex=2, pch=15, cex = .8 )"
   ]
  },
  {
   "cell_type": "code",
   "execution_count": null,
   "metadata": {
    "collapsed": true,
    "deletable": true,
    "editable": true
   },
   "outputs": [],
   "source": []
  },
  {
   "cell_type": "code",
   "execution_count": null,
   "metadata": {
    "collapsed": true,
    "deletable": true,
    "editable": true
   },
   "outputs": [],
   "source": []
  },
  {
   "cell_type": "code",
   "execution_count": null,
   "metadata": {
    "collapsed": true,
    "deletable": true,
    "editable": true
   },
   "outputs": [],
   "source": []
  },
  {
   "cell_type": "markdown",
   "metadata": {
    "deletable": true,
    "editable": true
   },
   "source": [
    "## 2. Combining diffusion parameters to look at different associations within the GEE model: "
   ]
  },
  {
   "cell_type": "code",
   "execution_count": 32,
   "metadata": {
    "collapsed": false,
    "deletable": true,
    "editable": true
   },
   "outputs": [
    {
     "data": {
      "text/html": [
       "<table>\n",
       "<thead><tr><th></th><th scope=col>Estimate</th><th scope=col>san.se</th><th scope=col>san.z</th><th scope=col>Pr(&gt;|san.z|)</th></tr></thead>\n",
       "<tbody>\n",
       "\t<tr><th scope=row>beta10</th><td>-1.25701</td><td>0.64740 </td><td>-1.94163</td><td>0.05218 </td></tr>\n",
       "\t<tr><th scope=row>beta20</th><td>-0.56837</td><td>0.64110 </td><td>-0.88655</td><td>0.37532 </td></tr>\n",
       "\t<tr><th scope=row>beta30</th><td> 0.57178</td><td>0.63566 </td><td> 0.89949</td><td>0.36839 </td></tr>\n",
       "\t<tr><th scope=row>nadc.1</th><td>-0.16709</td><td>0.51138 </td><td>-0.32675</td><td>0.74386 </td></tr>\n",
       "\t<tr><th scope=row>nfa.1</th><td> 0.27585</td><td>0.51068 </td><td> 0.54016</td><td>0.58909 </td></tr>\n",
       "\t<tr><th scope=row>nev1.1</th><td>-0.07106</td><td>0.84842 </td><td>-0.08375</td><td>0.93325 </td></tr>\n",
       "\t<tr><th scope=row>nevrad.1</th><td> 0.16085</td><td>0.54838 </td><td> 0.29332</td><td>0.76928 </td></tr>\n",
       "</tbody>\n",
       "</table>\n"
      ],
      "text/latex": [
       "\\begin{tabular}{r|llll}\n",
       "  & Estimate & san.se & san.z & Pr(>\\textbar{}san.z\\textbar{})\\\\\n",
       "\\hline\n",
       "\tbeta10 & -1.25701 & 0.64740  & -1.94163 & 0.05218 \\\\\n",
       "\tbeta20 & -0.56837 & 0.64110  & -0.88655 & 0.37532 \\\\\n",
       "\tbeta30 &  0.57178 & 0.63566  &  0.89949 & 0.36839 \\\\\n",
       "\tnadc.1 & -0.16709 & 0.51138  & -0.32675 & 0.74386 \\\\\n",
       "\tnfa.1 &  0.27585 & 0.51068  &  0.54016 & 0.58909 \\\\\n",
       "\tnev1.1 & -0.07106 & 0.84842  & -0.08375 & 0.93325 \\\\\n",
       "\tnevrad.1 &  0.16085 & 0.54838  &  0.29332 & 0.76928 \\\\\n",
       "\\end{tabular}\n"
      ],
      "text/markdown": [
       "\n",
       "| <!--/--> | Estimate | san.se | san.z | Pr(>|san.z|) | \n",
       "|---|---|---|---|---|---|---|\n",
       "| beta10 | -1.25701 | 0.64740  | -1.94163 | 0.05218  | \n",
       "| beta20 | -0.56837 | 0.64110  | -0.88655 | 0.37532  | \n",
       "| beta30 |  0.57178 | 0.63566  |  0.89949 | 0.36839  | \n",
       "| nadc.1 | -0.16709 | 0.51138  | -0.32675 | 0.74386  | \n",
       "| nfa.1 |  0.27585 | 0.51068  |  0.54016 | 0.58909  | \n",
       "| nev1.1 | -0.07106 | 0.84842  | -0.08375 | 0.93325  | \n",
       "| nevrad.1 |  0.16085 | 0.54838  |  0.29332 | 0.76928  | \n",
       "\n",
       "\n"
      ],
      "text/plain": [
       "         Estimate san.se  san.z    Pr(>|san.z|)\n",
       "beta10   -1.25701 0.64740 -1.94163 0.05218     \n",
       "beta20   -0.56837 0.64110 -0.88655 0.37532     \n",
       "beta30    0.57178 0.63566  0.89949 0.36839     \n",
       "nadc.1   -0.16709 0.51138 -0.32675 0.74386     \n",
       "nfa.1     0.27585 0.51068  0.54016 0.58909     \n",
       "nev1.1   -0.07106 0.84842 -0.08375 0.93325     \n",
       "nevrad.1  0.16085 0.54838  0.29332 0.76928     "
      ]
     },
     "metadata": {},
     "output_type": "display_data"
    }
   ],
   "source": [
    "#library(multgee)\n",
    "recgli$tumor_cell_evaluation = as.character(recgli$tumor_cell_evaluation)\n",
    "recgli$tumor_cell_evaluation = as.numeric(recgli$tumor_cell_evaluation)\n",
    "diffu.fit = ordLORgee(formula = tumor_cell_evaluation ~ nadc.1+nfa.1+nev1.1+nevrad.1, link = \"logit\", \n",
    "                      id = t_number, data = recgli, LORstr = \"category.exch\")\n",
    "summary(diffu.fit)$coefficients"
   ]
  },
  {
   "cell_type": "markdown",
   "metadata": {
    "deletable": true,
    "editable": true
   },
   "source": [
    "## 3. Using in_CEL as a covariate in diffu params using GEE "
   ]
  },
  {
   "cell_type": "code",
   "execution_count": 34,
   "metadata": {
    "collapsed": false,
    "deletable": true,
    "editable": true
   },
   "outputs": [
    {
     "data": {
      "text/html": [
       "<table>\n",
       "<thead><tr><th></th><th scope=col>Estimate</th><th scope=col>san.se</th><th scope=col>san.z</th><th scope=col>Pr(&gt;|san.z|)</th></tr></thead>\n",
       "<tbody>\n",
       "\t<tr><th scope=row>beta10</th><td>-2.28341</td><td>0.69786 </td><td>-3.27199</td><td>0.00107 </td></tr>\n",
       "\t<tr><th scope=row>beta20</th><td>-1.59022</td><td>0.68008 </td><td>-2.33830</td><td>0.01937 </td></tr>\n",
       "\t<tr><th scope=row>beta30</th><td>-0.44032</td><td>0.65896 </td><td>-0.66819</td><td>0.50401 </td></tr>\n",
       "\t<tr><th scope=row>nfse</th><td> 0.12803</td><td>0.12432 </td><td> 1.02989</td><td>0.30306 </td></tr>\n",
       "\t<tr><th scope=row>nfl</th><td>-0.24963</td><td>0.21055 </td><td>-1.18558</td><td>0.23579 </td></tr>\n",
       "\t<tr><th scope=row>nt1c</th><td> 0.33927</td><td>0.22975 </td><td> 1.47666</td><td>0.13977 </td></tr>\n",
       "\t<tr><th scope=row>nt1v</th><td> 1.17103</td><td>0.73453 </td><td> 1.59425</td><td>0.11088 </td></tr>\n",
       "\t<tr><th scope=row>in_CEL</th><td>-0.31248</td><td>0.26381 </td><td>-1.18446</td><td>0.23623 </td></tr>\n",
       "</tbody>\n",
       "</table>\n"
      ],
      "text/latex": [
       "\\begin{tabular}{r|llll}\n",
       "  & Estimate & san.se & san.z & Pr(>\\textbar{}san.z\\textbar{})\\\\\n",
       "\\hline\n",
       "\tbeta10 & -2.28341 & 0.69786  & -3.27199 & 0.00107 \\\\\n",
       "\tbeta20 & -1.59022 & 0.68008  & -2.33830 & 0.01937 \\\\\n",
       "\tbeta30 & -0.44032 & 0.65896  & -0.66819 & 0.50401 \\\\\n",
       "\tnfse &  0.12803 & 0.12432  &  1.02989 & 0.30306 \\\\\n",
       "\tnfl & -0.24963 & 0.21055  & -1.18558 & 0.23579 \\\\\n",
       "\tnt1c &  0.33927 & 0.22975  &  1.47666 & 0.13977 \\\\\n",
       "\tnt1v &  1.17103 & 0.73453  &  1.59425 & 0.11088 \\\\\n",
       "\tin\\_CEL & -0.31248 & 0.26381  & -1.18446 & 0.23623 \\\\\n",
       "\\end{tabular}\n"
      ],
      "text/markdown": [
       "\n",
       "| <!--/--> | Estimate | san.se | san.z | Pr(>|san.z|) | \n",
       "|---|---|---|---|---|---|---|---|\n",
       "| beta10 | -2.28341 | 0.69786  | -3.27199 | 0.00107  | \n",
       "| beta20 | -1.59022 | 0.68008  | -2.33830 | 0.01937  | \n",
       "| beta30 | -0.44032 | 0.65896  | -0.66819 | 0.50401  | \n",
       "| nfse |  0.12803 | 0.12432  |  1.02989 | 0.30306  | \n",
       "| nfl | -0.24963 | 0.21055  | -1.18558 | 0.23579  | \n",
       "| nt1c |  0.33927 | 0.22975  |  1.47666 | 0.13977  | \n",
       "| nt1v |  1.17103 | 0.73453  |  1.59425 | 0.11088  | \n",
       "| in_CEL | -0.31248 | 0.26381  | -1.18446 | 0.23623  | \n",
       "\n",
       "\n"
      ],
      "text/plain": [
       "       Estimate san.se  san.z    Pr(>|san.z|)\n",
       "beta10 -2.28341 0.69786 -3.27199 0.00107     \n",
       "beta20 -1.59022 0.68008 -2.33830 0.01937     \n",
       "beta30 -0.44032 0.65896 -0.66819 0.50401     \n",
       "nfse    0.12803 0.12432  1.02989 0.30306     \n",
       "nfl    -0.24963 0.21055 -1.18558 0.23579     \n",
       "nt1c    0.33927 0.22975  1.47666 0.13977     \n",
       "nt1v    1.17103 0.73453  1.59425 0.11088     \n",
       "in_CEL -0.31248 0.26381 -1.18446 0.23623     "
      ]
     },
     "metadata": {},
     "output_type": "display_data"
    }
   ],
   "source": [
    "diffu.cel.fit = anat.fit = ordLORgee(formula = tumor_cell_evaluation ~ nfse+nfl+nt1c+nt1v+in_CEL, link = \"logit\", \n",
    "                      id = t_number, data = recgli, LORstr = \"category.exch\")\n",
    "summary(diffu.cel.fit)$coefficients"
   ]
  },
  {
   "cell_type": "markdown",
   "metadata": {
    "collapsed": true,
    "deletable": true,
    "editable": true
   },
   "source": [
    "## 4. Using RM ANOVA to using imaging chars as dep variable, then TS as independent variable"
   ]
  },
  {
   "cell_type": "code",
   "execution_count": 36,
   "metadata": {
    "collapsed": false
   },
   "outputs": [
    {
     "name": "stderr",
     "output_type": "stream",
     "text": [
      "Warning message in aov(nadc.1 ~ tumor_cell_evaluation + Error(t_number/(tumor_cell_evaluation)), :\n",
      "“Error() model is singular”"
     ]
    },
    {
     "data": {
      "text/plain": [
       "\n",
       "Error: t_number\n",
       "                       Df Sum Sq Mean Sq F value Pr(>F)\n",
       "tumor_cell_evaluation   1   0.08  0.0812   0.169  0.682\n",
       "Residuals             155  74.62  0.4814               \n",
       "\n",
       "Error: t_number:tumor_cell_evaluation\n",
       "                      Df Sum Sq Mean Sq F value Pr(>F)\n",
       "tumor_cell_evaluation  1  0.015 0.01475   0.064    0.8\n",
       "Residuals             70 16.041 0.22916               \n",
       "\n",
       "Error: Within\n",
       "           Df Sum Sq Mean Sq F value Pr(>F)\n",
       "Residuals 147  24.36  0.1657               "
      ]
     },
     "metadata": {},
     "output_type": "display_data"
    }
   ],
   "source": [
    "nadc.rmaov = aov(nadc.1 ~ tumor_cell_evaluation + Error(t_number/(tumor_cell_evaluation)), data=recgli)\n",
    "summary(nfse.rmaov)"
   ]
  },
  {
   "cell_type": "code",
   "execution_count": 37,
   "metadata": {
    "collapsed": false
   },
   "outputs": [
    {
     "name": "stderr",
     "output_type": "stream",
     "text": [
      "Warning message in aov(nfa.1 ~ tumor_cell_evaluation + Error(t_number/(tumor_cell_evaluation)), :\n",
      "“Error() model is singular”"
     ]
    },
    {
     "data": {
      "text/plain": [
       "\n",
       "Error: t_number\n",
       "                       Df Sum Sq Mean Sq F value Pr(>F)\n",
       "tumor_cell_evaluation   1  0.001 0.00121   0.007  0.933\n",
       "Residuals             149 25.056 0.16816               \n",
       "\n",
       "Error: t_number:tumor_cell_evaluation\n",
       "                      Df Sum Sq Mean Sq F value Pr(>F)\n",
       "tumor_cell_evaluation  1  0.031 0.03084   0.574  0.451\n",
       "Residuals             68  3.651 0.05368               \n",
       "\n",
       "Error: Within\n",
       "           Df Sum Sq Mean Sq F value Pr(>F)\n",
       "Residuals 140  6.492 0.04637               "
      ]
     },
     "metadata": {},
     "output_type": "display_data"
    }
   ],
   "source": [
    "nfa.rmaov = aov(nfa.1 ~ tumor_cell_evaluation + Error(t_number/(tumor_cell_evaluation)), data=recgli)\n",
    "summary(nfse.rmaov)"
   ]
  },
  {
   "cell_type": "code",
   "execution_count": 38,
   "metadata": {
    "collapsed": false
   },
   "outputs": [
    {
     "name": "stderr",
     "output_type": "stream",
     "text": [
      "Warning message in aov(nev1.1 ~ tumor_cell_evaluation + Error(t_number/(tumor_cell_evaluation)), :\n",
      "“Error() model is singular”"
     ]
    },
    {
     "data": {
      "text/plain": [
       "\n",
       "Error: t_number\n",
       "                       Df Sum Sq Mean Sq F value Pr(>F)\n",
       "tumor_cell_evaluation   1   0.05  0.0476   0.161  0.689\n",
       "Residuals             142  42.09  0.2964               \n",
       "\n",
       "Error: t_number:tumor_cell_evaluation\n",
       "                      Df Sum Sq Mean Sq F value Pr(>F)\n",
       "tumor_cell_evaluation  1  0.005 0.00455    0.03  0.863\n",
       "Residuals             64  9.757 0.15246               \n",
       "\n",
       "Error: Within\n",
       "           Df Sum Sq Mean Sq F value Pr(>F)\n",
       "Residuals 126  11.23 0.08913               "
      ]
     },
     "metadata": {},
     "output_type": "display_data"
    }
   ],
   "source": [
    "nev1.rmaov = aov(nev1.1 ~ tumor_cell_evaluation + Error(t_number/(tumor_cell_evaluation)), data=recgli)\n",
    "summary(nfse.rmaov)"
   ]
  },
  {
   "cell_type": "code",
   "execution_count": 40,
   "metadata": {
    "collapsed": false
   },
   "outputs": [
    {
     "name": "stderr",
     "output_type": "stream",
     "text": [
      "Warning message in aov(nevrad.1 ~ tumor_cell_evaluation + Error(t_number/(tumor_cell_evaluation)), :\n",
      "“Error() model is singular”"
     ]
    },
    {
     "data": {
      "text/plain": [
       "\n",
       "Error: t_number\n",
       "                       Df Sum Sq Mean Sq F value Pr(>F)\n",
       "tumor_cell_evaluation   1   0.05  0.0476   0.161  0.689\n",
       "Residuals             142  42.09  0.2964               \n",
       "\n",
       "Error: t_number:tumor_cell_evaluation\n",
       "                      Df Sum Sq Mean Sq F value Pr(>F)\n",
       "tumor_cell_evaluation  1  0.005 0.00455    0.03  0.863\n",
       "Residuals             64  9.757 0.15246               \n",
       "\n",
       "Error: Within\n",
       "           Df Sum Sq Mean Sq F value Pr(>F)\n",
       "Residuals 126  11.23 0.08913               "
      ]
     },
     "metadata": {},
     "output_type": "display_data"
    }
   ],
   "source": [
    "nevrad.rmaov = aov(nevrad.1 ~ tumor_cell_evaluation + Error(t_number/(tumor_cell_evaluation)), data=recgli)\n",
    "summary(nfse.rmaov)"
   ]
  },
  {
   "cell_type": "code",
   "execution_count": null,
   "metadata": {
    "collapsed": true
   },
   "outputs": [],
   "source": []
  }
 ],
 "metadata": {
  "kernelspec": {
   "display_name": "R",
   "language": "R",
   "name": "ir"
  },
  "language_info": {
   "codemirror_mode": "r",
   "file_extension": ".r",
   "mimetype": "text/x-r-source",
   "name": "R",
   "pygments_lexer": "r",
   "version": "3.4.0"
  }
 },
 "nbformat": 4,
 "nbformat_minor": 2
}
