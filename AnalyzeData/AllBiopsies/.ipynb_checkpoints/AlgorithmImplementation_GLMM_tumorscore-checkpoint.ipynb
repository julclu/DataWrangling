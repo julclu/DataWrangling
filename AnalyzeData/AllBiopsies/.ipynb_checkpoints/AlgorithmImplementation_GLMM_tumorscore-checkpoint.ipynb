{
 "cells": [
  {
   "cell_type": "code",
   "execution_count": 1,
   "metadata": {
    "collapsed": false,
    "deletable": true,
    "editable": true
   },
   "outputs": [
    {
     "data": {
      "text/html": [
       "'/home/sf673542/DataWrangling/AnalyzeData/AllBiopsies'"
      ],
      "text/latex": [
       "'/home/sf673542/DataWrangling/AnalyzeData/AllBiopsies'"
      ],
      "text/markdown": [
       "'/home/sf673542/DataWrangling/AnalyzeData/AllBiopsies'"
      ],
      "text/plain": [
       "[1] \"/home/sf673542/DataWrangling/AnalyzeData/AllBiopsies\""
      ]
     },
     "metadata": {},
     "output_type": "display_data"
    }
   ],
   "source": [
    "getwd()"
   ]
  },
  {
   "cell_type": "code",
   "execution_count": 2,
   "metadata": {
    "collapsed": true
   },
   "outputs": [],
   "source": [
    "recgli = read.csv(\"../../ParseData/8thParse_researchPath_withInVivo.csv\")"
   ]
  },
  {
   "cell_type": "code",
   "execution_count": null,
   "metadata": {
    "collapsed": true
   },
   "outputs": [],
   "source": []
  }
 ],
 "metadata": {
  "kernelspec": {
   "display_name": "R",
   "language": "R",
   "name": "ir"
  },
  "language_info": {
   "codemirror_mode": "r",
   "file_extension": ".r",
   "mimetype": "text/x-r-source",
   "name": "R",
   "pygments_lexer": "r",
   "version": "3.4.0"
  }
 },
 "nbformat": 4,
 "nbformat_minor": 2
}
