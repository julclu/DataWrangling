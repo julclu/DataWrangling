{
 "cells": [
  {
   "cell_type": "code",
   "execution_count": 1,
   "metadata": {
    "collapsed": false,
    "deletable": true,
    "editable": true
   },
   "outputs": [
    {
     "data": {
      "text/html": [
       "'/home/sf673542/DataWrangling/AnalyzeData/AllBiopsies'"
      ],
      "text/latex": [
       "'/home/sf673542/DataWrangling/AnalyzeData/AllBiopsies'"
      ],
      "text/markdown": [
       "'/home/sf673542/DataWrangling/AnalyzeData/AllBiopsies'"
      ],
      "text/plain": [
       "[1] \"/home/sf673542/DataWrangling/AnalyzeData/AllBiopsies\""
      ]
     },
     "metadata": {},
     "output_type": "display_data"
    },
    {
     "name": "stderr",
     "output_type": "stream",
     "text": [
      "Loading required package: Matrix\n",
      "Loading required package: foreach\n",
      "Loaded glmnet 2.0-16\n",
      "\n",
      "Loading required package: lattice\n",
      "Loading required package: ggplot2\n",
      "\n",
      "Attaching package: ‘dplyr’\n",
      "\n",
      "The following objects are masked from ‘package:stats’:\n",
      "\n",
      "    filter, lag\n",
      "\n",
      "The following objects are masked from ‘package:base’:\n",
      "\n",
      "    intersect, setdiff, setequal, union\n",
      "\n",
      "------------------------------------------------------------------------------\n",
      "You have loaded plyr after dplyr - this is likely to cause problems.\n",
      "If you need functions from both plyr and dplyr, please load plyr first, then dplyr:\n",
      "library(plyr); library(dplyr)\n",
      "------------------------------------------------------------------------------\n",
      "\n",
      "Attaching package: ‘plyr’\n",
      "\n",
      "The following objects are masked from ‘package:dplyr’:\n",
      "\n",
      "    arrange, count, desc, failwith, id, mutate, rename, summarise,\n",
      "    summarize\n",
      "\n",
      "Loading required package: R.oo\n",
      "Loading required package: R.methodsS3\n",
      "R.methodsS3 v1.7.1 (2016-02-15) successfully loaded. See ?R.methodsS3 for help.\n",
      "R.oo v1.22.0 (2018-04-21) successfully loaded. See ?R.oo for help.\n",
      "\n",
      "Attaching package: ‘R.oo’\n",
      "\n",
      "The following objects are masked from ‘package:methods’:\n",
      "\n",
      "    getClasses, getMethods\n",
      "\n",
      "The following objects are masked from ‘package:base’:\n",
      "\n",
      "    attach, detach, gc, load, save\n",
      "\n",
      "R.utils v2.6.0 (2017-11-04) successfully loaded. See ?R.utils for help.\n",
      "\n",
      "Attaching package: ‘R.utils’\n",
      "\n",
      "The following object is masked from ‘package:utils’:\n",
      "\n",
      "    timestamp\n",
      "\n",
      "The following objects are masked from ‘package:base’:\n",
      "\n",
      "    cat, commandArgs, getOption, inherits, isOpen, parse, warnings\n",
      "\n"
     ]
    }
   ],
   "source": [
    "getwd()\n",
    "library(glmnet)\n",
    "library(caret)\n",
    "library(dplyr)\n",
    "library(plyr)\n",
    "#install.packages('R.utils')\n",
    "library(R.utils)"
   ]
  },
  {
   "cell_type": "code",
   "execution_count": 2,
   "metadata": {
    "collapsed": true,
    "deletable": true,
    "editable": true
   },
   "outputs": [],
   "source": [
    "options(repr.matrix.max.rows=600, repr.matrix.max.cols=200)"
   ]
  },
  {
   "cell_type": "markdown",
   "metadata": {
    "deletable": true,
    "editable": true
   },
   "source": [
    "#### Creating main directory variables: "
   ]
  },
  {
   "cell_type": "code",
   "execution_count": 3,
   "metadata": {
    "collapsed": true,
    "deletable": true,
    "editable": true
   },
   "outputs": [],
   "source": [
    "mainDir = \"/home/sf673542/DataWrangling/AnalyzeData/AllBiopsies/\"\n",
    "dataDir = \"/home/sf673542/DataWrangling/AnalyzeData/AllBiopsies/\""
   ]
  },
  {
   "cell_type": "markdown",
   "metadata": {
    "deletable": true,
    "editable": true
   },
   "source": [
    "#### Directories to save results: "
   ]
  },
  {
   "cell_type": "code",
   "execution_count": 4,
   "metadata": {
    "collapsed": true,
    "deletable": true,
    "editable": true
   },
   "outputs": [],
   "source": [
    "GLMM.missclass.dir <- paste(\"Misclassification_Results/GLMM_Output_Unbalanced/\")\n",
    "dir.create(file.path(mainDir,GLMM.missclass.dir), showWarnings = FALSE)"
   ]
  },
  {
   "cell_type": "code",
   "execution_count": 5,
   "metadata": {
    "collapsed": true,
    "deletable": true,
    "editable": true
   },
   "outputs": [],
   "source": [
    "GLMM.logLoss.dir <- paste(\"Misclassification_Results/GLMM_Output_Unbalanced/\")\n",
    "dir.create(file.path(mainDir,GLMM.logLoss.dir), showWarnings = FALSE)"
   ]
  },
  {
   "cell_type": "code",
   "execution_count": 6,
   "metadata": {
    "collapsed": true,
    "deletable": true,
    "editable": true
   },
   "outputs": [],
   "source": [
    "GLMM.AUC.dir <- paste(\"Misclassification_Results/GLMM_AUC_Unbalanced/\")\n",
    "dir.create(file.path(mainDir,GLMM.AUC.dir), showWarnings = FALSE)"
   ]
  },
  {
   "cell_type": "code",
   "execution_count": 7,
   "metadata": {
    "collapsed": true,
    "deletable": true,
    "editable": true
   },
   "outputs": [],
   "source": [
    "GLMM.pred.dir <- paste(\"Predicted_Output/GLMM_predicted_Unbalanced/\")\n",
    "dir.create(file.path(mainDir,GLMM.pred.dir), showWarnings = FALSE)"
   ]
  },
  {
   "cell_type": "code",
   "execution_count": 8,
   "metadata": {
    "collapsed": true,
    "deletable": true,
    "editable": true
   },
   "outputs": [],
   "source": [
    "GLMM.prob.dir <- paste(\"Probability_Output/GLMM_probability_Unbalanced/\")\n",
    "dir.create(file.path(mainDir,GLMM.prob.dir), showWarnings = FALSE)\n"
   ]
  },
  {
   "cell_type": "code",
   "execution_count": 9,
   "metadata": {
    "collapsed": true,
    "deletable": true,
    "editable": true
   },
   "outputs": [],
   "source": [
    "GLMM.accuracy.dir <- paste(\"Accuracy_Results/GLMM_accuracy_Unbalanced/\")\n",
    "dir.create(file.path(mainDir,GLMM.accuracy.dir), showWarnings = FALSE)"
   ]
  },
  {
   "cell_type": "code",
   "execution_count": 10,
   "metadata": {
    "collapsed": true,
    "deletable": true,
    "editable": true
   },
   "outputs": [],
   "source": [
    "GLMM.cm.dir <- paste(\"Confusion_Matrix/GLMM_cm_Unbalanced/\")\n",
    "dir.create(file.path(mainDir,GLMM.cm.dir), showWarnings = FALSE)"
   ]
  },
  {
   "cell_type": "markdown",
   "metadata": {
    "deletable": true,
    "editable": true
   },
   "source": [
    "#### Give the simulation parameters:"
   ]
  },
  {
   "cell_type": "code",
   "execution_count": 11,
   "metadata": {
    "collapsed": false,
    "deletable": true,
    "editable": true
   },
   "outputs": [],
   "source": [
    "model <- cmdArg(model = \"GLMM_Unbalanced\")\n",
    "n.simulations <- cmdArg(n.simulations = 1000L)"
   ]
  },
  {
   "cell_type": "code",
   "execution_count": 12,
   "metadata": {
    "collapsed": false,
    "deletable": true,
    "editable": true
   },
   "outputs": [
    {
     "data": {
      "text/html": [
       "1000"
      ],
      "text/latex": [
       "1000"
      ],
      "text/markdown": [
       "1000"
      ],
      "text/plain": [
       "[1] 1000"
      ]
     },
     "metadata": {},
     "output_type": "display_data"
    }
   ],
   "source": [
    "n.simulations"
   ]
  },
  {
   "cell_type": "code",
   "execution_count": 13,
   "metadata": {
    "collapsed": false,
    "deletable": true,
    "editable": true
   },
   "outputs": [
    {
     "name": "stdout",
     "output_type": "stream",
     "text": [
      "Started GLMM Analysis ...\n"
     ]
    }
   ],
   "source": [
    "cat(\"Started GLMM Analysis ...\\n\")"
   ]
  },
  {
   "cell_type": "code",
   "execution_count": 14,
   "metadata": {
    "collapsed": true,
    "deletable": true,
    "editable": true
   },
   "outputs": [],
   "source": [
    "idx = 1"
   ]
  },
  {
   "cell_type": "code",
   "execution_count": 15,
   "metadata": {
    "collapsed": true,
    "deletable": true,
    "editable": true
   },
   "outputs": [],
   "source": [
    "training.data = as.data.frame(read.csv(file = paste(dataDir,\"Training/\",\"train_data_\",idx,\".csv\",sep = \"\")))"
   ]
  },
  {
   "cell_type": "code",
   "execution_count": 16,
   "metadata": {
    "collapsed": false,
    "deletable": true,
    "editable": true
   },
   "outputs": [],
   "source": [
    "test.data = as.data.frame(read.csv(file = paste(dataDir,\"Testing/\",\"test_data_\",idx,\".csv\",sep = \"\")))"
   ]
  },
  {
   "cell_type": "code",
   "execution_count": 17,
   "metadata": {
    "collapsed": false,
    "deletable": true,
    "editable": true
   },
   "outputs": [
    {
     "data": {
      "text/html": [
       "<table>\n",
       "<thead><tr><th scope=col>index</th><th scope=col>varNames</th></tr></thead>\n",
       "<tbody>\n",
       "\t<tr><td> 1                       </td><td>b_number                 </td></tr>\n",
       "\t<tr><td> 2                       </td><td>t_number                 </td></tr>\n",
       "\t<tr><td> 3                       </td><td>sf_number                </td></tr>\n",
       "\t<tr><td> 4                       </td><td>current_scan_date        </td></tr>\n",
       "\t<tr><td> 5                       </td><td>current_surgery_date     </td></tr>\n",
       "\t<tr><td> 6                       </td><td>current_hist_grade       </td></tr>\n",
       "\t<tr><td> 7                       </td><td>current_hist_type        </td></tr>\n",
       "\t<tr><td> 8                       </td><td>roi.label                </td></tr>\n",
       "\t<tr><td> 9                       </td><td>tumor_cell_evaluation    </td></tr>\n",
       "\t<tr><td>10                       </td><td>necrosis                 </td></tr>\n",
       "\t<tr><td>11                       </td><td>f8_delicate              </td></tr>\n",
       "\t<tr><td>12                       </td><td>f8_simple                </td></tr>\n",
       "\t<tr><td>13                       </td><td>f8_complex               </td></tr>\n",
       "\t<tr><td>14                       </td><td>mib_1                    </td></tr>\n",
       "\t<tr><td>15                       </td><td>bx_pure_treatment_effect </td></tr>\n",
       "\t<tr><td>16                       </td><td>nfse                     </td></tr>\n",
       "\t<tr><td>17                       </td><td>nfl                      </td></tr>\n",
       "\t<tr><td>18                       </td><td>nt1c                     </td></tr>\n",
       "\t<tr><td>19                       </td><td>nt1v                     </td></tr>\n",
       "\t<tr><td>20                       </td><td>nadc.1                   </td></tr>\n",
       "\t<tr><td>21                       </td><td>nfa.1                    </td></tr>\n",
       "\t<tr><td>22                       </td><td>nev1.1                   </td></tr>\n",
       "\t<tr><td>23                       </td><td>nev2.1                   </td></tr>\n",
       "\t<tr><td>24                       </td><td>nev3.1                   </td></tr>\n",
       "\t<tr><td>25                       </td><td>nevrad.1                 </td></tr>\n",
       "\t<tr><td>26                       </td><td>nadc.2                   </td></tr>\n",
       "\t<tr><td>27                       </td><td>nfa.2                    </td></tr>\n",
       "\t<tr><td>28                       </td><td>nev1.2                   </td></tr>\n",
       "\t<tr><td>29                       </td><td>nev2.2                   </td></tr>\n",
       "\t<tr><td>30                       </td><td>nev3.2                   </td></tr>\n",
       "\t<tr><td>31                       </td><td>nevrad.2                 </td></tr>\n",
       "\t<tr><td>32                       </td><td>cbvn_nlin                </td></tr>\n",
       "\t<tr><td>33                       </td><td>phn_nlin                 </td></tr>\n",
       "\t<tr><td>34                       </td><td>phn_npar                 </td></tr>\n",
       "\t<tr><td>35                       </td><td>recovn_npar              </td></tr>\n",
       "\t<tr><td>36                       </td><td>cni                      </td></tr>\n",
       "\t<tr><td>37                       </td><td>ccri                     </td></tr>\n",
       "\t<tr><td>38                       </td><td>crni                     </td></tr>\n",
       "\t<tr><td>39                       </td><td>ncho                     </td></tr>\n",
       "\t<tr><td>40                       </td><td>ncre                     </td></tr>\n",
       "\t<tr><td>41                       </td><td>nnaa                     </td></tr>\n",
       "\t<tr><td>42                       </td><td>nlip                     </td></tr>\n",
       "\t<tr><td>43                       </td><td>laclip                   </td></tr>\n",
       "\t<tr><td>44                       </td><td>nlac                     </td></tr>\n",
       "\t<tr><td>45                       </td><td>olddata                  </td></tr>\n",
       "\t<tr><td>46                       </td><td>newdata                  </td></tr>\n",
       "\t<tr><td>47                       </td><td>comments                 </td></tr>\n",
       "\t<tr><td>48                       </td><td>notes.                   </td></tr>\n",
       "\t<tr><td>49                       </td><td>imaging_code             </td></tr>\n",
       "\t<tr><td>50                       </td><td>perf_quant               </td></tr>\n",
       "\t<tr><td>51                       </td><td>cbv_nlin                 </td></tr>\n",
       "\t<tr><td>52                       </td><td>spec_quant               </td></tr>\n",
       "\t<tr><td>53                       </td><td>include_anat             </td></tr>\n",
       "\t<tr><td>54                       </td><td>include_diffu1000        </td></tr>\n",
       "\t<tr><td>55                       </td><td>include_diffu2000        </td></tr>\n",
       "\t<tr><td>56                       </td><td>include_diffu_all        </td></tr>\n",
       "\t<tr><td>57                       </td><td>include_perf             </td></tr>\n",
       "\t<tr><td>58                       </td><td>include_spec             </td></tr>\n",
       "\t<tr><td>59                       </td><td>include_one_advanced_mod </td></tr>\n",
       "\t<tr><td>60                       </td><td>include_all_advanced_mods</td></tr>\n",
       "\t<tr><td>61                       </td><td>X.CEL                    </td></tr>\n",
       "\t<tr><td>62                       </td><td>X.NEL                    </td></tr>\n",
       "\t<tr><td>63                       </td><td>X.NEC                    </td></tr>\n",
       "\t<tr><td>64                       </td><td>sum                      </td></tr>\n",
       "\t<tr><td>65                       </td><td>in_CEL                   </td></tr>\n",
       "\t<tr><td>66                       </td><td>in_T2all                 </td></tr>\n",
       "\t<tr><td>67                       </td><td>in_NEL                   </td></tr>\n",
       "\t<tr><td>68                       </td><td>in_NEC                   </td></tr>\n",
       "\t<tr><td>69                       </td><td>in_ROI                   </td></tr>\n",
       "\t<tr><td>70                       </td><td>desired_hist             </td></tr>\n",
       "\t<tr><td>71                       </td><td>multnom_out              </td></tr>\n",
       "\t<tr><td>72                       </td><td>no_ffpe                  </td></tr>\n",
       "\t<tr><td>73                       </td><td>waiting_on_path          </td></tr>\n",
       "\t<tr><td>74                       </td><td>rhgg_txe_analysis        </td></tr>\n",
       "</tbody>\n",
       "</table>\n"
      ],
      "text/latex": [
       "\\begin{tabular}{r|ll}\n",
       " index & varNames\\\\\n",
       "\\hline\n",
       "\t  1                          & b\\_number                 \\\\\n",
       "\t  2                          & t\\_number                 \\\\\n",
       "\t  3                          & sf\\_number                \\\\\n",
       "\t  4                            & current\\_scan\\_date        \\\\\n",
       "\t  5                            & current\\_surgery\\_date     \\\\\n",
       "\t  6                            & current\\_hist\\_grade       \\\\\n",
       "\t  7                            & current\\_hist\\_type        \\\\\n",
       "\t  8                        & roi.label                \\\\\n",
       "\t  9                            & tumor\\_cell\\_evaluation    \\\\\n",
       "\t 10                        & necrosis                 \\\\\n",
       "\t 11                          & f8\\_delicate              \\\\\n",
       "\t 12                          & f8\\_simple                \\\\\n",
       "\t 13                          & f8\\_complex               \\\\\n",
       "\t 14                          & mib\\_1                    \\\\\n",
       "\t 15                              & bx\\_pure\\_treatment\\_effect \\\\\n",
       "\t 16                        & nfse                     \\\\\n",
       "\t 17                        & nfl                      \\\\\n",
       "\t 18                        & nt1c                     \\\\\n",
       "\t 19                        & nt1v                     \\\\\n",
       "\t 20                        & nadc.1                   \\\\\n",
       "\t 21                        & nfa.1                    \\\\\n",
       "\t 22                        & nev1.1                   \\\\\n",
       "\t 23                        & nev2.1                   \\\\\n",
       "\t 24                        & nev3.1                   \\\\\n",
       "\t 25                        & nevrad.1                 \\\\\n",
       "\t 26                        & nadc.2                   \\\\\n",
       "\t 27                        & nfa.2                    \\\\\n",
       "\t 28                        & nev1.2                   \\\\\n",
       "\t 29                        & nev2.2                   \\\\\n",
       "\t 30                        & nev3.2                   \\\\\n",
       "\t 31                        & nevrad.2                 \\\\\n",
       "\t 32                          & cbvn\\_nlin                \\\\\n",
       "\t 33                          & phn\\_nlin                 \\\\\n",
       "\t 34                          & phn\\_npar                 \\\\\n",
       "\t 35                          & recovn\\_npar              \\\\\n",
       "\t 36                        & cni                      \\\\\n",
       "\t 37                        & ccri                     \\\\\n",
       "\t 38                        & crni                     \\\\\n",
       "\t 39                        & ncho                     \\\\\n",
       "\t 40                        & ncre                     \\\\\n",
       "\t 41                        & nnaa                     \\\\\n",
       "\t 42                        & nlip                     \\\\\n",
       "\t 43                        & laclip                   \\\\\n",
       "\t 44                        & nlac                     \\\\\n",
       "\t 45                        & olddata                  \\\\\n",
       "\t 46                        & newdata                  \\\\\n",
       "\t 47                        & comments                 \\\\\n",
       "\t 48                        & notes.                   \\\\\n",
       "\t 49                          & imaging\\_code             \\\\\n",
       "\t 50                          & perf\\_quant               \\\\\n",
       "\t 51                          & cbv\\_nlin                 \\\\\n",
       "\t 52                          & spec\\_quant               \\\\\n",
       "\t 53                          & include\\_anat             \\\\\n",
       "\t 54                          & include\\_diffu1000        \\\\\n",
       "\t 55                          & include\\_diffu2000        \\\\\n",
       "\t 56                            & include\\_diffu\\_all        \\\\\n",
       "\t 57                          & include\\_perf             \\\\\n",
       "\t 58                          & include\\_spec             \\\\\n",
       "\t 59                              & include\\_one\\_advanced\\_mod \\\\\n",
       "\t 60                              & include\\_all\\_advanced\\_mods\\\\\n",
       "\t 61                        & X.CEL                    \\\\\n",
       "\t 62                        & X.NEL                    \\\\\n",
       "\t 63                        & X.NEC                    \\\\\n",
       "\t 64                        & sum                      \\\\\n",
       "\t 65                          & in\\_CEL                   \\\\\n",
       "\t 66                          & in\\_T2all                 \\\\\n",
       "\t 67                          & in\\_NEL                   \\\\\n",
       "\t 68                          & in\\_NEC                   \\\\\n",
       "\t 69                          & in\\_ROI                   \\\\\n",
       "\t 70                          & desired\\_hist             \\\\\n",
       "\t 71                          & multnom\\_out              \\\\\n",
       "\t 72                          & no\\_ffpe                  \\\\\n",
       "\t 73                            & waiting\\_on\\_path          \\\\\n",
       "\t 74                            & rhgg\\_txe\\_analysis        \\\\\n",
       "\\end{tabular}\n"
      ],
      "text/markdown": [
       "\n",
       "index | varNames | \n",
       "|---|---|---|---|---|---|---|---|---|---|---|---|---|---|---|---|---|---|---|---|---|---|---|---|---|---|---|---|---|---|---|---|---|---|---|---|---|---|---|---|---|---|---|---|---|---|---|---|---|---|---|---|---|---|---|---|---|---|---|---|---|---|---|---|---|---|---|---|---|---|---|---|---|---|\n",
       "|  1                        | b_number                  | \n",
       "|  2                        | t_number                  | \n",
       "|  3                        | sf_number                 | \n",
       "|  4                        | current_scan_date         | \n",
       "|  5                        | current_surgery_date      | \n",
       "|  6                        | current_hist_grade        | \n",
       "|  7                        | current_hist_type         | \n",
       "|  8                        | roi.label                 | \n",
       "|  9                        | tumor_cell_evaluation     | \n",
       "| 10                        | necrosis                  | \n",
       "| 11                        | f8_delicate               | \n",
       "| 12                        | f8_simple                 | \n",
       "| 13                        | f8_complex                | \n",
       "| 14                        | mib_1                     | \n",
       "| 15                        | bx_pure_treatment_effect  | \n",
       "| 16                        | nfse                      | \n",
       "| 17                        | nfl                       | \n",
       "| 18                        | nt1c                      | \n",
       "| 19                        | nt1v                      | \n",
       "| 20                        | nadc.1                    | \n",
       "| 21                        | nfa.1                     | \n",
       "| 22                        | nev1.1                    | \n",
       "| 23                        | nev2.1                    | \n",
       "| 24                        | nev3.1                    | \n",
       "| 25                        | nevrad.1                  | \n",
       "| 26                        | nadc.2                    | \n",
       "| 27                        | nfa.2                     | \n",
       "| 28                        | nev1.2                    | \n",
       "| 29                        | nev2.2                    | \n",
       "| 30                        | nev3.2                    | \n",
       "| 31                        | nevrad.2                  | \n",
       "| 32                        | cbvn_nlin                 | \n",
       "| 33                        | phn_nlin                  | \n",
       "| 34                        | phn_npar                  | \n",
       "| 35                        | recovn_npar               | \n",
       "| 36                        | cni                       | \n",
       "| 37                        | ccri                      | \n",
       "| 38                        | crni                      | \n",
       "| 39                        | ncho                      | \n",
       "| 40                        | ncre                      | \n",
       "| 41                        | nnaa                      | \n",
       "| 42                        | nlip                      | \n",
       "| 43                        | laclip                    | \n",
       "| 44                        | nlac                      | \n",
       "| 45                        | olddata                   | \n",
       "| 46                        | newdata                   | \n",
       "| 47                        | comments                  | \n",
       "| 48                        | notes.                    | \n",
       "| 49                        | imaging_code              | \n",
       "| 50                        | perf_quant                | \n",
       "| 51                        | cbv_nlin                  | \n",
       "| 52                        | spec_quant                | \n",
       "| 53                        | include_anat              | \n",
       "| 54                        | include_diffu1000         | \n",
       "| 55                        | include_diffu2000         | \n",
       "| 56                        | include_diffu_all         | \n",
       "| 57                        | include_perf              | \n",
       "| 58                        | include_spec              | \n",
       "| 59                        | include_one_advanced_mod  | \n",
       "| 60                        | include_all_advanced_mods | \n",
       "| 61                        | X.CEL                     | \n",
       "| 62                        | X.NEL                     | \n",
       "| 63                        | X.NEC                     | \n",
       "| 64                        | sum                       | \n",
       "| 65                        | in_CEL                    | \n",
       "| 66                        | in_T2all                  | \n",
       "| 67                        | in_NEL                    | \n",
       "| 68                        | in_NEC                    | \n",
       "| 69                        | in_ROI                    | \n",
       "| 70                        | desired_hist              | \n",
       "| 71                        | multnom_out               | \n",
       "| 72                        | no_ffpe                   | \n",
       "| 73                        | waiting_on_path           | \n",
       "| 74                        | rhgg_txe_analysis         | \n",
       "\n",
       "\n"
      ],
      "text/plain": [
       "   index varNames                 \n",
       "1   1    b_number                 \n",
       "2   2    t_number                 \n",
       "3   3    sf_number                \n",
       "4   4    current_scan_date        \n",
       "5   5    current_surgery_date     \n",
       "6   6    current_hist_grade       \n",
       "7   7    current_hist_type        \n",
       "8   8    roi.label                \n",
       "9   9    tumor_cell_evaluation    \n",
       "10 10    necrosis                 \n",
       "11 11    f8_delicate              \n",
       "12 12    f8_simple                \n",
       "13 13    f8_complex               \n",
       "14 14    mib_1                    \n",
       "15 15    bx_pure_treatment_effect \n",
       "16 16    nfse                     \n",
       "17 17    nfl                      \n",
       "18 18    nt1c                     \n",
       "19 19    nt1v                     \n",
       "20 20    nadc.1                   \n",
       "21 21    nfa.1                    \n",
       "22 22    nev1.1                   \n",
       "23 23    nev2.1                   \n",
       "24 24    nev3.1                   \n",
       "25 25    nevrad.1                 \n",
       "26 26    nadc.2                   \n",
       "27 27    nfa.2                    \n",
       "28 28    nev1.2                   \n",
       "29 29    nev2.2                   \n",
       "30 30    nev3.2                   \n",
       "31 31    nevrad.2                 \n",
       "32 32    cbvn_nlin                \n",
       "33 33    phn_nlin                 \n",
       "34 34    phn_npar                 \n",
       "35 35    recovn_npar              \n",
       "36 36    cni                      \n",
       "37 37    ccri                     \n",
       "38 38    crni                     \n",
       "39 39    ncho                     \n",
       "40 40    ncre                     \n",
       "41 41    nnaa                     \n",
       "42 42    nlip                     \n",
       "43 43    laclip                   \n",
       "44 44    nlac                     \n",
       "45 45    olddata                  \n",
       "46 46    newdata                  \n",
       "47 47    comments                 \n",
       "48 48    notes.                   \n",
       "49 49    imaging_code             \n",
       "50 50    perf_quant               \n",
       "51 51    cbv_nlin                 \n",
       "52 52    spec_quant               \n",
       "53 53    include_anat             \n",
       "54 54    include_diffu1000        \n",
       "55 55    include_diffu2000        \n",
       "56 56    include_diffu_all        \n",
       "57 57    include_perf             \n",
       "58 58    include_spec             \n",
       "59 59    include_one_advanced_mod \n",
       "60 60    include_all_advanced_mods\n",
       "61 61    X.CEL                    \n",
       "62 62    X.NEL                    \n",
       "63 63    X.NEC                    \n",
       "64 64    sum                      \n",
       "65 65    in_CEL                   \n",
       "66 66    in_T2all                 \n",
       "67 67    in_NEL                   \n",
       "68 68    in_NEC                   \n",
       "69 69    in_ROI                   \n",
       "70 70    desired_hist             \n",
       "71 71    multnom_out              \n",
       "72 72    no_ffpe                  \n",
       "73 73    waiting_on_path          \n",
       "74 74    rhgg_txe_analysis        "
      ]
     },
     "metadata": {},
     "output_type": "display_data"
    }
   ],
   "source": [
    "varNames = names(training.data)\n",
    "data.frame(index = 1:length(varNames), varNames = varNames)"
   ]
  },
  {
   "cell_type": "code",
   "execution_count": 18,
   "metadata": {
    "collapsed": false,
    "deletable": true,
    "editable": true
   },
   "outputs": [
    {
     "data": {
      "text/html": [
       "<ol class=list-inline>\n",
       "\t<li>'nfse'</li>\n",
       "\t<li>'nfl'</li>\n",
       "\t<li>'nt1c'</li>\n",
       "\t<li>'nt1v'</li>\n",
       "\t<li>'nadc.1'</li>\n",
       "\t<li>'nfa.1'</li>\n",
       "\t<li>'cbvn_nlin'</li>\n",
       "\t<li>'phn_npar'</li>\n",
       "\t<li>'recovn_npar'</li>\n",
       "\t<li>'cni'</li>\n",
       "\t<li>'ccri'</li>\n",
       "\t<li>'crni'</li>\n",
       "\t<li>'ncho'</li>\n",
       "\t<li>'ncre'</li>\n",
       "\t<li>'nnaa'</li>\n",
       "\t<li>'laclip'</li>\n",
       "\t<li>'in_CEL'</li>\n",
       "\t<li>'in_NEL'</li>\n",
       "\t<li>'in_NEC'</li>\n",
       "</ol>\n"
      ],
      "text/latex": [
       "\\begin{enumerate*}\n",
       "\\item 'nfse'\n",
       "\\item 'nfl'\n",
       "\\item 'nt1c'\n",
       "\\item 'nt1v'\n",
       "\\item 'nadc.1'\n",
       "\\item 'nfa.1'\n",
       "\\item 'cbvn\\_nlin'\n",
       "\\item 'phn\\_npar'\n",
       "\\item 'recovn\\_npar'\n",
       "\\item 'cni'\n",
       "\\item 'ccri'\n",
       "\\item 'crni'\n",
       "\\item 'ncho'\n",
       "\\item 'ncre'\n",
       "\\item 'nnaa'\n",
       "\\item 'laclip'\n",
       "\\item 'in\\_CEL'\n",
       "\\item 'in\\_NEL'\n",
       "\\item 'in\\_NEC'\n",
       "\\end{enumerate*}\n"
      ],
      "text/markdown": [
       "1. 'nfse'\n",
       "2. 'nfl'\n",
       "3. 'nt1c'\n",
       "4. 'nt1v'\n",
       "5. 'nadc.1'\n",
       "6. 'nfa.1'\n",
       "7. 'cbvn_nlin'\n",
       "8. 'phn_npar'\n",
       "9. 'recovn_npar'\n",
       "10. 'cni'\n",
       "11. 'ccri'\n",
       "12. 'crni'\n",
       "13. 'ncho'\n",
       "14. 'ncre'\n",
       "15. 'nnaa'\n",
       "16. 'laclip'\n",
       "17. 'in_CEL'\n",
       "18. 'in_NEL'\n",
       "19. 'in_NEC'\n",
       "\n",
       "\n"
      ],
      "text/plain": [
       " [1] \"nfse\"        \"nfl\"         \"nt1c\"        \"nt1v\"        \"nadc.1\"     \n",
       " [6] \"nfa.1\"       \"cbvn_nlin\"   \"phn_npar\"    \"recovn_npar\" \"cni\"        \n",
       "[11] \"ccri\"        \"crni\"        \"ncho\"        \"ncre\"        \"nnaa\"       \n",
       "[16] \"laclip\"      \"in_CEL\"      \"in_NEL\"      \"in_NEC\"     "
      ]
     },
     "metadata": {},
     "output_type": "display_data"
    },
    {
     "data": {
      "text/html": [
       "'nfse+nfl+nt1c+nt1v+nadc.1+nfa.1+cbvn_nlin+phn_npar+recovn_npar+cni+ccri+crni+ncho+ncre+nnaa+laclip+in_CEL+in_NEL+in_NEC'"
      ],
      "text/latex": [
       "'nfse+nfl+nt1c+nt1v+nadc.1+nfa.1+cbvn\\_nlin+phn\\_npar+recovn\\_npar+cni+ccri+crni+ncho+ncre+nnaa+laclip+in\\_CEL+in\\_NEL+in\\_NEC'"
      ],
      "text/markdown": [
       "'nfse+nfl+nt1c+nt1v+nadc.1+nfa.1+cbvn_nlin+phn_npar+recovn_npar+cni+ccri+crni+ncho+ncre+nnaa+laclip+in_CEL+in_NEL+in_NEC'"
      ],
      "text/plain": [
       "[1] \"nfse+nfl+nt1c+nt1v+nadc.1+nfa.1+cbvn_nlin+phn_npar+recovn_npar+cni+ccri+crni+ncho+ncre+nnaa+laclip+in_CEL+in_NEL+in_NEC\""
      ]
     },
     "metadata": {},
     "output_type": "display_data"
    }
   ],
   "source": [
    "varNames_toPredict = varNames[c(16:21, 32, 34, 35, 36:41, 43, 65, 67, 68)]\n",
    "varNames_toPredict\n",
    "varNames.add.sign <- paste(varNames_toPredict, collapse = \"+\")\n",
    "varNames.add.sign"
   ]
  },
  {
   "cell_type": "markdown",
   "metadata": {
    "collapsed": true,
    "deletable": true,
    "editable": true
   },
   "source": [
    "### Normalize predictor variables: "
   ]
  },
  {
   "cell_type": "code",
   "execution_count": 27,
   "metadata": {
    "collapsed": false,
    "deletable": true,
    "editable": true
   },
   "outputs": [
    {
     "name": "stdout",
     "output_type": "stream",
     "text": [
      "'data.frame':\t294 obs. of  19 variables:\n",
      " $ nfse       : num  2.1 2.27 2.35 2.2 0.85 1.08 2.16 1.85 2.56 1.72 ...\n",
      " $ nfl        : num  1.84 1.44 1.97 1.56 0.66 1.23 1.74 1.12 2.16 1.11 ...\n",
      " $ nt1c       : num  1.2 1.88 0.76 2.04 1.99 0.95 1.94 0.92 0.81 2.31 ...\n",
      " $ nt1v       : num  0.84 0.78 0.78 0.74 NA NA 0.9 NA 0.85 1.14 ...\n",
      " $ nadc.1     : num  1.31 1.92 1.34 2.04 1.14 1.3 1.75 1.43 1.76 1.18 ...\n",
      " $ nfa.1      : num  0.75 0.68 0.68 0.89 NA NA 0.78 NA 0.54 0.96 ...\n",
      " $ cbvn_nlin  : num  0.66 2.24 0.58 1.71 0.78 1.09 1.36 1.51 0.4 3.73 ...\n",
      " $ phn_npar   : num  0.79 2.25 0.6 1.88 0.77 0.88 1.36 1.58 0.42 3.39 ...\n",
      " $ recovn_npar: num  100 98.5 100 99.2 100 ...\n",
      " $ cni        : num  4.98 1.56 NA 2.46 NA NA NA NA 4.28 NA ...\n",
      " $ ccri       : num  3.28 0.3 NA 1.3 NA NA NA NA 2.28 NA ...\n",
      " $ crni       : num  0.24 0.75 NA 0.55 NA NA NA NA 0.64 NA ...\n",
      " $ ncho       : num  1.65 0.86 NA 1.19 NA NA NA NA 1.32 NA ...\n",
      " $ ncre       : num  0.53 0.84 NA 0.87 NA NA NA NA 0.56 NA ...\n",
      " $ nnaa       : num  0.41 0.46 NA 0.59 NA NA NA NA 0.27 NA ...\n",
      " $ laclip     : num  0.27 1.08 NA 0.83 NA NA NA NA 0.27 NA ...\n",
      " $ in_CEL     : int  1 1 0 1 1 0 1 0 0 1 ...\n",
      " $ in_NEL     : int  0 0 1 0 0 0 0 0 1 0 ...\n",
      " $ in_NEC     : int  0 0 0 0 0 0 0 0 0 0 ...\n"
     ]
    },
    {
     "data": {
      "text/html": [
       "<ol class=list-inline>\n",
       "\t<li>'nfse'</li>\n",
       "\t<li>'nfl'</li>\n",
       "\t<li>'nt1c'</li>\n",
       "\t<li>'nt1v'</li>\n",
       "\t<li>'nadc.1'</li>\n",
       "\t<li>'nfa.1'</li>\n",
       "\t<li>'cbvn_nlin'</li>\n",
       "\t<li>'phn_npar'</li>\n",
       "\t<li>'recovn_npar'</li>\n",
       "\t<li>'cni'</li>\n",
       "\t<li>'ccri'</li>\n",
       "\t<li>'crni'</li>\n",
       "\t<li>'ncho'</li>\n",
       "\t<li>'ncre'</li>\n",
       "\t<li>'nnaa'</li>\n",
       "\t<li>'laclip'</li>\n",
       "</ol>\n"
      ],
      "text/latex": [
       "\\begin{enumerate*}\n",
       "\\item 'nfse'\n",
       "\\item 'nfl'\n",
       "\\item 'nt1c'\n",
       "\\item 'nt1v'\n",
       "\\item 'nadc.1'\n",
       "\\item 'nfa.1'\n",
       "\\item 'cbvn\\_nlin'\n",
       "\\item 'phn\\_npar'\n",
       "\\item 'recovn\\_npar'\n",
       "\\item 'cni'\n",
       "\\item 'ccri'\n",
       "\\item 'crni'\n",
       "\\item 'ncho'\n",
       "\\item 'ncre'\n",
       "\\item 'nnaa'\n",
       "\\item 'laclip'\n",
       "\\end{enumerate*}\n"
      ],
      "text/markdown": [
       "1. 'nfse'\n",
       "2. 'nfl'\n",
       "3. 'nt1c'\n",
       "4. 'nt1v'\n",
       "5. 'nadc.1'\n",
       "6. 'nfa.1'\n",
       "7. 'cbvn_nlin'\n",
       "8. 'phn_npar'\n",
       "9. 'recovn_npar'\n",
       "10. 'cni'\n",
       "11. 'ccri'\n",
       "12. 'crni'\n",
       "13. 'ncho'\n",
       "14. 'ncre'\n",
       "15. 'nnaa'\n",
       "16. 'laclip'\n",
       "\n",
       "\n"
      ],
      "text/plain": [
       " [1] \"nfse\"        \"nfl\"         \"nt1c\"        \"nt1v\"        \"nadc.1\"     \n",
       " [6] \"nfa.1\"       \"cbvn_nlin\"   \"phn_npar\"    \"recovn_npar\" \"cni\"        \n",
       "[11] \"ccri\"        \"crni\"        \"ncho\"        \"ncre\"        \"nnaa\"       \n",
       "[16] \"laclip\"     "
      ]
     },
     "metadata": {},
     "output_type": "display_data"
    }
   ],
   "source": [
    "str(training.data[,varNames_toPredict])\n",
    "varNames_forNormalization = varNames_toPredict[-c(17:19)]\n",
    "varNames_forNormalization"
   ]
  },
  {
   "cell_type": "code",
   "execution_count": 28,
   "metadata": {
    "collapsed": false,
    "deletable": true,
    "editable": true
   },
   "outputs": [
    {
     "data": {
      "text/plain": [
       "      nfse              nfl                 nt1c              nt1v         \n",
       " Min.   :-2.3365   Min.   :-3.318044   Min.   :-2.4054   Min.   :-2.22044  \n",
       " 1st Qu.:-0.5428   1st Qu.:-0.620150   1st Qu.:-0.7055   1st Qu.:-0.72122  \n",
       " Median :-0.1066   Median :-0.009677   Median :-0.2033   Median :-0.03975  \n",
       " Mean   : 0.0000   Mean   : 0.000000   Mean   : 0.0000   Mean   : 0.00000  \n",
       " 3rd Qu.: 0.4371   3rd Qu.: 0.669720   3rd Qu.: 0.5887   3rd Qu.: 0.50542  \n",
       " Max.   : 9.2861   Max.   : 4.322707   Max.   : 3.7953   Max.   : 5.50282  \n",
       "                   NA's   :3                             NA's   :54        \n",
       "     nadc.1             nfa.1           cbvn_nlin          phn_npar      \n",
       " Min.   :-2.91856   Min.   :-2.5238   Min.   :-0.8308   Min.   :-1.4161  \n",
       " 1st Qu.:-0.63760   1st Qu.:-0.6684   1st Qu.:-0.4660   1st Qu.:-0.6574  \n",
       " Median :-0.04955   Median :-0.1652   Median :-0.2112   Median :-0.2605  \n",
       " Mean   : 0.00000   Mean   : 0.0000   Mean   : 0.0000   Mean   : 0.0000  \n",
       " 3rd Qu.: 0.48759   3rd Qu.: 0.4952   3rd Qu.: 0.2314   3rd Qu.: 0.4515  \n",
       " Max.   : 4.36980   Max.   : 4.3003   Max.   :11.9486   Max.   : 5.1089  \n",
       " NA's   :6          NA's   :21        NA's   :62        NA's   :131      \n",
       "  recovn_npar           cni               ccri              crni        \n",
       " Min.   :-4.2261   Min.   :-1.2815   Min.   :-2.6121   Min.   :-1.3666  \n",
       " 1st Qu.:-0.2323   1st Qu.:-0.5027   1st Qu.:-0.4979   1st Qu.:-0.4687  \n",
       " Median : 0.5793   Median :-0.2368   Median :-0.1800   Median :-0.1797  \n",
       " Mean   : 0.0000   Mean   : 0.0000   Mean   : 0.0000   Mean   : 0.0000  \n",
       " 3rd Qu.: 0.5793   3rd Qu.: 0.2615   3rd Qu.: 0.1577   3rd Qu.: 0.2022  \n",
       " Max.   : 0.5793   Max.   : 5.8429   Max.   : 6.8097   Max.   : 6.5082  \n",
       " NA's   :131       NA's   :177       NA's   :177       NA's   :177      \n",
       "      ncho              ncre              nnaa             laclip       \n",
       " Min.   :-1.1969   Min.   :-1.3580   Min.   :-1.8916   Min.   :-2.1651  \n",
       " 1st Qu.:-0.5247   1st Qu.:-0.5421   1st Qu.:-0.6069   1st Qu.:-0.6563  \n",
       " Median :-0.1799   Median :-0.1493   Median :-0.2176   Median :-0.2679  \n",
       " Mean   : 0.0000   Mean   : 0.0000   Mean   : 0.0000   Mean   : 0.0000  \n",
       " 3rd Qu.: 0.2337   3rd Qu.: 0.2889   3rd Qu.: 0.4442   3rd Qu.: 0.3595  \n",
       " Max.   : 6.2663   Max.   : 6.7860   Max.   : 4.9600   Max.   : 4.2287  \n",
       " NA's   :177       NA's   :177       NA's   :177       NA's   :177      "
      ]
     },
     "metadata": {},
     "output_type": "display_data"
    }
   ],
   "source": [
    "normalized.training.data <- cbind(as.data.frame(scale(training.data[,varNames_forNormalization])))\n",
    "summary(normalized.training.data)"
   ]
  },
  {
   "cell_type": "code",
   "execution_count": null,
   "metadata": {
    "collapsed": true,
    "deletable": true,
    "editable": true
   },
   "outputs": [],
   "source": []
  },
  {
   "cell_type": "code",
   "execution_count": null,
   "metadata": {
    "collapsed": true,
    "deletable": true,
    "editable": true
   },
   "outputs": [],
   "source": [
    "for (idx in 1:n.simulations){\n",
    "  tic(\"Total Execution time\")\n",
    "  set.seed(idx)\n",
    "  \n",
    "  #Load training and validation data\n",
    "  training.data <- as.data.frame(read.csv(file = paste(dataDir,\"Training/\",\"train_data_\",idx,\".csv\",sep = \"\")))\n",
    "  test.data <- as.data.frame(read.csv(file = paste(dataDir,\"Testing/\",\"test_data_\",idx,\".csv\",sep = \"\")))\n",
    "  \n",
    "  #Create formula for Logreg\n",
    "  varNames <- names(training.data)\n",
    "  varNames <- varNames[!varNames %in% c(\"Outcome\")]\n",
    "  varNames.add.sign <- paste(varNames, collapse = \"+\")\n",
    "  lasso.formula <- as.formula(paste(\"Outcome\",varNames.add.sign, sep = \"~\"))\n",
    "  \n",
    "  \n",
    "  #Normalize predictor variables\n",
    "  normalised.training.data <- cbind(as.data.frame(scale(training.data[,-length(training.data)])),training.data[,length(training.data)])\n",
    "  colnames(normalised.training.data)[length(normalised.training.data)] <- \"Outcome\"\n",
    "  \n",
    "  normalised.test.data <- cbind(as.data.frame(scale(test.data[,-length(test.data)])),test.data[,length(test.data)])\n",
    "  colnames(normalised.test.data)[length(normalised.test.data)] <- \"Outcome\"\n",
    "  \n",
    "  \n",
    "  # Create model matrix for train & test set\n",
    "  norm_train_mtx <- model.matrix(lasso.formula, normalised.training.data)[, -1]\n",
    "  norm_train_outcome <- normalised.training.data$Outcome\n",
    "  \n",
    "  norm_test_mtx <- model.matrix(lasso.formula, normalised.test.data)[, -1]\n",
    "  norm_test_outcome <- normalised.test.data$Outcome\n",
    "  \n",
    "  ################################################### LASSO ######################################################################\n",
    "  # Building Lasso Model\n",
    "  cv.lasso <- cv.glmnet( norm_train_mtx,\n",
    "                        norm_train_outcome,\n",
    "                        alpha=1,family = \"binomial\",standardize = FALSE)\n",
    "  \n",
    "  bestlam.lasso <- cv.lasso$lambda.min\n",
    "  \n",
    "  reg.lasso  <- glmnet(norm_train_mtx,\n",
    "                      norm_train_outcome,\n",
    "                      alpha=1,\n",
    "                      lambda= bestlam.lasso,\n",
    "                      family = \"binomial\",\n",
    "                      standardize = FALSE)\n",
    "  ############################################## TRAINING ENDS #########################################################################\n",
    "  pred.lasso.train <- predict(reg.lasso,s= bestlam.lasso ,newx= norm_train_mtx, type = \"class\")\n",
    "  \n",
    "  pred.lasso <- predict(reg.lasso,s= bestlam.lasso ,newx= norm_test_mtx, type = \"class\")\n",
    "  pred.lasso.prob <- predict(reg.lasso,s= bestlam.lasso ,newx= norm_test_mtx, type =\"response\")\n",
    "  \n",
    "  coef.lasso <- predict(reg.lasso , type=\"coefficients\", s=bestlam.lasso)\n",
    "  misclass.err  <- mean(norm_test_outcome != pred.lasso)\n",
    "  \n",
    "  Confusion_Matrix_Train <- confusionMatrix(data = pred.lasso.train,reference =  norm_train_outcome,positive = \"M\")\n",
    "  Confusion_Matrix_Test <- confusionMatrix(data = pred.lasso,reference =  norm_test_outcome,positive = \"M\")\n",
    "  \n",
    "  \n",
    "  # LogLoss error\n",
    "  source(\"/home/pchunduru/Simulation_data/Classification/Scripts/functions/logLoss.R\")\n",
    "  df_pred_probs <- data.frame(B= 1-pred.lasso.prob, \n",
    "                              M = pred.lasso.prob)\n",
    "  prediction_test_logloss <- apply(df_pred_probs, c(1,2), function(x) min(max(x, 1E-15), 1-1E-15))\n",
    "  logloss_err <- logLoss(prediction_test_logloss, norm_test_outcome)\n",
    "  \n",
    "  #Data frame of Truth and Predicted values\n",
    "  predicted.test.set <- cbind(test.data[,-length(test.data)],pred.lasso)\n",
    "  colnames(predicted.test.set)[length(test.data)] <- c(\"Pred.Outcome\")\n",
    "  \n",
    "  probability.test.set <-cbind(test.data[,-length(test.data)], pred.lasso.prob)\n",
    "  colnames(probability.test.set)[length(test.data)] <- c(\"Prob.Outcome.M\")\n",
    "  \n",
    "  \n",
    "  #Get AUC value\n",
    "  require(ROCR)\n",
    "  require(pROC)\n",
    "  perf_ROC <- roc(norm_test_outcome ,pred.lasso.prob[,1])\n",
    "  auc_output <- pROC::auc(perf_ROC)\n",
    "\n",
    "  ## Saving the results\n",
    "  # missclassification error\n",
    "  write(missclass.err, paste(mainDir,Logreg.missclass.dir,model,\"_\",\"ErrorToTruth_\",idx,\".txt\",sep=\"\"),ncol=1)\n",
    "  # LogLoss error\n",
    "  write(logloss_err, paste(mainDir,Logreg.logLoss.dir,model,\"_\",\"logLoss_\",idx,\".txt\",sep=\"\"),ncol=1)\n",
    "  #AUC values\n",
    "  write(auc_output[1], paste(mainDir,Logreg.AUC.dir,model,\"_\",\"AUC_\",idx,\".txt\",sep=\"\"),ncol=1)\n",
    "  #predicted output data\n",
    "  write.csv(x = predicted.test.set,file = paste(mainDir,Logreg.pred.dir,model,\"_\",\"Predicted_Test_Set_\",idx,\".csv\",sep=\"\"),row.names = F,col.names = T,sep = \"\\t\")\n",
    "  #predicited probabilities result\n",
    "  write.csv(x = probability.test.set ,file = paste(mainDir,Logreg.prob.dir,model,\"_\",\"Probability_Test_Set_\",idx,\".csv\",sep=\"\"),row.names = F,col.names = T,sep = \"\\t\")\n",
    "  # confusion matrix\n",
    "  write.csv(x = Confusion_Matrix_Test$byClass , file =paste(mainDir,Logreg.cm.dir,model,\"_\",\"Confusion_Matrix_\",idx,\".csv\",sep=\"\"),row.names = T,col.names = T,sep = \"\\t\")\n",
    "  # Accuracy\n",
    "  write.csv(x = Confusion_Matrix_Test$overall , file =paste(mainDir,Logreg.accuracy.dir,model,\"_\",\"Accuracy_\",idx,\".csv\",sep=\"\"),row.names = T,col.names = T,sep = \"\\t\")\n",
    "  #\n",
    "}"
   ]
  }
 ],
 "metadata": {
  "kernelspec": {
   "display_name": "R",
   "language": "R",
   "name": "ir"
  },
  "language_info": {
   "codemirror_mode": "r",
   "file_extension": ".r",
   "mimetype": "text/x-r-source",
   "name": "R",
   "pygments_lexer": "r",
   "version": "3.4.0"
  }
 },
 "nbformat": 4,
 "nbformat_minor": 2
}
