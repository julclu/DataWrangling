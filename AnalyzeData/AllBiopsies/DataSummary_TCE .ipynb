{
 "cells": [
  {
   "cell_type": "markdown",
   "metadata": {},
   "source": [
    "In this notebook, we want to summarize the data and make sure that it is behaving as we expect based on previous literature. Here, we want to only use the outcome for tumor_cell_evaluation"
   ]
  },
  {
   "cell_type": "markdown",
   "metadata": {},
   "source": [
    "Tumor score is defined by UCSF pathologists in the following way: <br>\n",
    "\n",
    "0: neuropil without tumor <br>\n",
    "1: infiltrating tumor margin containing a detectable but not abundant number of tumor cells <br>\n",
    "2: more cellular infiltrated zone <br>\n",
    "3: highly cellular tumor <br>"
   ]
  },
  {
   "cell_type": "code",
   "execution_count": 65,
   "metadata": {
    "collapsed": true
   },
   "outputs": [],
   "source": [
    "recgli = read.csv(\"../../ParseData/8thParse_researchPath_withInVivo.csv\") "
   ]
  },
  {
   "cell_type": "markdown",
   "metadata": {},
   "source": [
    "#### In this notebook, we want to find: <br>\n",
    "1. Anatomical params vs. TS using <br>\n",
    "    a. No separation into ROIs <br>\n",
    "    b. Visual comparison of anatomical params in separate regions <br>\n",
    "    ~~c. Repeated Measures ANOVA (analysis of variance) to account for multiple samples from the same patient to see if there is true separation among tumor scores for anatomical parameters~~ <b> you can't use RMANOVA for categorical data </b> (sources: http://sherifsoliman.com/2014/12/10/ANOVA_in_R/, https://www.r-bloggers.com/two-way-anova-with-repeated-measures/, https://www.r-statistics.com/tag/ezanova/) <br> \n",
    "    c. Use GLMM associate anatomical parameters with TS, no separation <br>\n",
    "    d. Use GEE to associate anatomical parameters with TS, no separation <br>\n",
    "    e. Use GLMM to associate anatomical parameters with TS, separating into CEL & NEL <br>\n",
    "    f. Use GEE to associate anatomical parameters with TS, separating into CEL & NEL <br>\n",
    "2. Diffu params vs. TS<br>\n",
    "3. Perf params vs. TS<br>\n",
    "4. Spec params vs. TS<br>\n"
   ]
  },
  {
   "cell_type": "markdown",
   "metadata": {},
   "source": [
    "## 0. Prep the data"
   ]
  },
  {
   "cell_type": "code",
   "execution_count": 66,
   "metadata": {
    "collapsed": false
   },
   "outputs": [
    {
     "data": {
      "text/html": [
       "<ol class=list-inline>\n",
       "\t<li>'b_number'</li>\n",
       "\t<li>'t_number'</li>\n",
       "\t<li>'sf_number'</li>\n",
       "\t<li>'current_scan_date'</li>\n",
       "\t<li>'current_surgery_date'</li>\n",
       "\t<li>'current_hist_grade'</li>\n",
       "\t<li>'current_hist_type'</li>\n",
       "\t<li>'roi.label'</li>\n",
       "\t<li>'tumor_cell_evaluation'</li>\n",
       "\t<li>'necrosis'</li>\n",
       "\t<li>'f8_delicate'</li>\n",
       "\t<li>'f8_simple'</li>\n",
       "\t<li>'f8_complex'</li>\n",
       "\t<li>'mib_1'</li>\n",
       "\t<li>'bx_pure_treatment_effect'</li>\n",
       "\t<li>'nfse'</li>\n",
       "\t<li>'nfl'</li>\n",
       "\t<li>'nt1c'</li>\n",
       "\t<li>'nt1v'</li>\n",
       "\t<li>'nadc.1'</li>\n",
       "\t<li>'nfa.1'</li>\n",
       "\t<li>'nev1.1'</li>\n",
       "\t<li>'nev2.1'</li>\n",
       "\t<li>'nev3.1'</li>\n",
       "\t<li>'nevrad.1'</li>\n",
       "\t<li>'nadc.2'</li>\n",
       "\t<li>'nfa.2'</li>\n",
       "\t<li>'nev1.2'</li>\n",
       "\t<li>'nev2.2'</li>\n",
       "\t<li>'nev3.2'</li>\n",
       "\t<li>'nevrad.2'</li>\n",
       "\t<li>'cbvn_nlin'</li>\n",
       "\t<li>'phn_nlin'</li>\n",
       "\t<li>'phn_npar'</li>\n",
       "\t<li>'recovn_npar'</li>\n",
       "\t<li>'cni'</li>\n",
       "\t<li>'ccri'</li>\n",
       "\t<li>'crni'</li>\n",
       "\t<li>'ncho'</li>\n",
       "\t<li>'ncre'</li>\n",
       "\t<li>'nnaa'</li>\n",
       "\t<li>'nlip'</li>\n",
       "\t<li>'laclip'</li>\n",
       "\t<li>'nlac'</li>\n",
       "\t<li>'olddata'</li>\n",
       "\t<li>'newdata'</li>\n",
       "\t<li>'comments'</li>\n",
       "\t<li>'notes.'</li>\n",
       "\t<li>'imaging_code'</li>\n",
       "\t<li>'perf_quant'</li>\n",
       "\t<li>'spec_quant'</li>\n",
       "\t<li>'include_anat'</li>\n",
       "\t<li>'include_diffu1000'</li>\n",
       "\t<li>'include_diffu2000'</li>\n",
       "\t<li>'include_diffu_all'</li>\n",
       "\t<li>'include_perf'</li>\n",
       "\t<li>'include_spec'</li>\n",
       "\t<li>'include_one_advanced_mod'</li>\n",
       "\t<li>'include_all_advanced_mods'</li>\n",
       "\t<li>'X.CEL'</li>\n",
       "\t<li>'X.NEL'</li>\n",
       "\t<li>'X.NEC'</li>\n",
       "\t<li>'sum'</li>\n",
       "\t<li>'in_CEL'</li>\n",
       "\t<li>'in_T2all'</li>\n",
       "\t<li>'in_NEL'</li>\n",
       "\t<li>'in_NEC'</li>\n",
       "\t<li>'in_ROI'</li>\n",
       "\t<li>'desired_hist'</li>\n",
       "\t<li>'multnom_out'</li>\n",
       "\t<li>'no_ffpe'</li>\n",
       "\t<li>'waiting_on_path'</li>\n",
       "\t<li>'rhgg_txe_analysis'</li>\n",
       "</ol>\n"
      ],
      "text/latex": [
       "\\begin{enumerate*}\n",
       "\\item 'b\\_number'\n",
       "\\item 't\\_number'\n",
       "\\item 'sf\\_number'\n",
       "\\item 'current\\_scan\\_date'\n",
       "\\item 'current\\_surgery\\_date'\n",
       "\\item 'current\\_hist\\_grade'\n",
       "\\item 'current\\_hist\\_type'\n",
       "\\item 'roi.label'\n",
       "\\item 'tumor\\_cell\\_evaluation'\n",
       "\\item 'necrosis'\n",
       "\\item 'f8\\_delicate'\n",
       "\\item 'f8\\_simple'\n",
       "\\item 'f8\\_complex'\n",
       "\\item 'mib\\_1'\n",
       "\\item 'bx\\_pure\\_treatment\\_effect'\n",
       "\\item 'nfse'\n",
       "\\item 'nfl'\n",
       "\\item 'nt1c'\n",
       "\\item 'nt1v'\n",
       "\\item 'nadc.1'\n",
       "\\item 'nfa.1'\n",
       "\\item 'nev1.1'\n",
       "\\item 'nev2.1'\n",
       "\\item 'nev3.1'\n",
       "\\item 'nevrad.1'\n",
       "\\item 'nadc.2'\n",
       "\\item 'nfa.2'\n",
       "\\item 'nev1.2'\n",
       "\\item 'nev2.2'\n",
       "\\item 'nev3.2'\n",
       "\\item 'nevrad.2'\n",
       "\\item 'cbvn\\_nlin'\n",
       "\\item 'phn\\_nlin'\n",
       "\\item 'phn\\_npar'\n",
       "\\item 'recovn\\_npar'\n",
       "\\item 'cni'\n",
       "\\item 'ccri'\n",
       "\\item 'crni'\n",
       "\\item 'ncho'\n",
       "\\item 'ncre'\n",
       "\\item 'nnaa'\n",
       "\\item 'nlip'\n",
       "\\item 'laclip'\n",
       "\\item 'nlac'\n",
       "\\item 'olddata'\n",
       "\\item 'newdata'\n",
       "\\item 'comments'\n",
       "\\item 'notes.'\n",
       "\\item 'imaging\\_code'\n",
       "\\item 'perf\\_quant'\n",
       "\\item 'spec\\_quant'\n",
       "\\item 'include\\_anat'\n",
       "\\item 'include\\_diffu1000'\n",
       "\\item 'include\\_diffu2000'\n",
       "\\item 'include\\_diffu\\_all'\n",
       "\\item 'include\\_perf'\n",
       "\\item 'include\\_spec'\n",
       "\\item 'include\\_one\\_advanced\\_mod'\n",
       "\\item 'include\\_all\\_advanced\\_mods'\n",
       "\\item 'X.CEL'\n",
       "\\item 'X.NEL'\n",
       "\\item 'X.NEC'\n",
       "\\item 'sum'\n",
       "\\item 'in\\_CEL'\n",
       "\\item 'in\\_T2all'\n",
       "\\item 'in\\_NEL'\n",
       "\\item 'in\\_NEC'\n",
       "\\item 'in\\_ROI'\n",
       "\\item 'desired\\_hist'\n",
       "\\item 'multnom\\_out'\n",
       "\\item 'no\\_ffpe'\n",
       "\\item 'waiting\\_on\\_path'\n",
       "\\item 'rhgg\\_txe\\_analysis'\n",
       "\\end{enumerate*}\n"
      ],
      "text/markdown": [
       "1. 'b_number'\n",
       "2. 't_number'\n",
       "3. 'sf_number'\n",
       "4. 'current_scan_date'\n",
       "5. 'current_surgery_date'\n",
       "6. 'current_hist_grade'\n",
       "7. 'current_hist_type'\n",
       "8. 'roi.label'\n",
       "9. 'tumor_cell_evaluation'\n",
       "10. 'necrosis'\n",
       "11. 'f8_delicate'\n",
       "12. 'f8_simple'\n",
       "13. 'f8_complex'\n",
       "14. 'mib_1'\n",
       "15. 'bx_pure_treatment_effect'\n",
       "16. 'nfse'\n",
       "17. 'nfl'\n",
       "18. 'nt1c'\n",
       "19. 'nt1v'\n",
       "20. 'nadc.1'\n",
       "21. 'nfa.1'\n",
       "22. 'nev1.1'\n",
       "23. 'nev2.1'\n",
       "24. 'nev3.1'\n",
       "25. 'nevrad.1'\n",
       "26. 'nadc.2'\n",
       "27. 'nfa.2'\n",
       "28. 'nev1.2'\n",
       "29. 'nev2.2'\n",
       "30. 'nev3.2'\n",
       "31. 'nevrad.2'\n",
       "32. 'cbvn_nlin'\n",
       "33. 'phn_nlin'\n",
       "34. 'phn_npar'\n",
       "35. 'recovn_npar'\n",
       "36. 'cni'\n",
       "37. 'ccri'\n",
       "38. 'crni'\n",
       "39. 'ncho'\n",
       "40. 'ncre'\n",
       "41. 'nnaa'\n",
       "42. 'nlip'\n",
       "43. 'laclip'\n",
       "44. 'nlac'\n",
       "45. 'olddata'\n",
       "46. 'newdata'\n",
       "47. 'comments'\n",
       "48. 'notes.'\n",
       "49. 'imaging_code'\n",
       "50. 'perf_quant'\n",
       "51. 'spec_quant'\n",
       "52. 'include_anat'\n",
       "53. 'include_diffu1000'\n",
       "54. 'include_diffu2000'\n",
       "55. 'include_diffu_all'\n",
       "56. 'include_perf'\n",
       "57. 'include_spec'\n",
       "58. 'include_one_advanced_mod'\n",
       "59. 'include_all_advanced_mods'\n",
       "60. 'X.CEL'\n",
       "61. 'X.NEL'\n",
       "62. 'X.NEC'\n",
       "63. 'sum'\n",
       "64. 'in_CEL'\n",
       "65. 'in_T2all'\n",
       "66. 'in_NEL'\n",
       "67. 'in_NEC'\n",
       "68. 'in_ROI'\n",
       "69. 'desired_hist'\n",
       "70. 'multnom_out'\n",
       "71. 'no_ffpe'\n",
       "72. 'waiting_on_path'\n",
       "73. 'rhgg_txe_analysis'\n",
       "\n",
       "\n"
      ],
      "text/plain": [
       " [1] \"b_number\"                  \"t_number\"                 \n",
       " [3] \"sf_number\"                 \"current_scan_date\"        \n",
       " [5] \"current_surgery_date\"      \"current_hist_grade\"       \n",
       " [7] \"current_hist_type\"         \"roi.label\"                \n",
       " [9] \"tumor_cell_evaluation\"     \"necrosis\"                 \n",
       "[11] \"f8_delicate\"               \"f8_simple\"                \n",
       "[13] \"f8_complex\"                \"mib_1\"                    \n",
       "[15] \"bx_pure_treatment_effect\"  \"nfse\"                     \n",
       "[17] \"nfl\"                       \"nt1c\"                     \n",
       "[19] \"nt1v\"                      \"nadc.1\"                   \n",
       "[21] \"nfa.1\"                     \"nev1.1\"                   \n",
       "[23] \"nev2.1\"                    \"nev3.1\"                   \n",
       "[25] \"nevrad.1\"                  \"nadc.2\"                   \n",
       "[27] \"nfa.2\"                     \"nev1.2\"                   \n",
       "[29] \"nev2.2\"                    \"nev3.2\"                   \n",
       "[31] \"nevrad.2\"                  \"cbvn_nlin\"                \n",
       "[33] \"phn_nlin\"                  \"phn_npar\"                 \n",
       "[35] \"recovn_npar\"               \"cni\"                      \n",
       "[37] \"ccri\"                      \"crni\"                     \n",
       "[39] \"ncho\"                      \"ncre\"                     \n",
       "[41] \"nnaa\"                      \"nlip\"                     \n",
       "[43] \"laclip\"                    \"nlac\"                     \n",
       "[45] \"olddata\"                   \"newdata\"                  \n",
       "[47] \"comments\"                  \"notes.\"                   \n",
       "[49] \"imaging_code\"              \"perf_quant\"               \n",
       "[51] \"spec_quant\"                \"include_anat\"             \n",
       "[53] \"include_diffu1000\"         \"include_diffu2000\"        \n",
       "[55] \"include_diffu_all\"         \"include_perf\"             \n",
       "[57] \"include_spec\"              \"include_one_advanced_mod\" \n",
       "[59] \"include_all_advanced_mods\" \"X.CEL\"                    \n",
       "[61] \"X.NEL\"                     \"X.NEC\"                    \n",
       "[63] \"sum\"                       \"in_CEL\"                   \n",
       "[65] \"in_T2all\"                  \"in_NEL\"                   \n",
       "[67] \"in_NEC\"                    \"in_ROI\"                   \n",
       "[69] \"desired_hist\"              \"multnom_out\"              \n",
       "[71] \"no_ffpe\"                   \"waiting_on_path\"          \n",
       "[73] \"rhgg_txe_analysis\"        "
      ]
     },
     "metadata": {},
     "output_type": "display_data"
    }
   ],
   "source": [
    "colnames(recgli)"
   ]
  },
  {
   "cell_type": "markdown",
   "metadata": {},
   "source": [
    "The first thing we have to do is actually take away those that were \"indeterminable\" when tumor score was evaluated by the pathologist: "
   ]
  },
  {
   "cell_type": "code",
   "execution_count": 67,
   "metadata": {
    "collapsed": false
   },
   "outputs": [
    {
     "data": {
      "text/plain": [
       "\n",
       "  0   1   2   3 Ind \n",
       " 90  54 117 122   8 "
      ]
     },
     "metadata": {},
     "output_type": "display_data"
    }
   ],
   "source": [
    "table(recgli$tumor_cell_evaluation)"
   ]
  },
  {
   "cell_type": "code",
   "execution_count": 68,
   "metadata": {
    "collapsed": false
   },
   "outputs": [
    {
     "data": {
      "text/html": [
       "<ol class=list-inline>\n",
       "\t<li>383</li>\n",
       "\t<li>73</li>\n",
       "</ol>\n"
      ],
      "text/latex": [
       "\\begin{enumerate*}\n",
       "\\item 383\n",
       "\\item 73\n",
       "\\end{enumerate*}\n"
      ],
      "text/markdown": [
       "1. 383\n",
       "2. 73\n",
       "\n",
       "\n"
      ],
      "text/plain": [
       "[1] 383  73"
      ]
     },
     "metadata": {},
     "output_type": "display_data"
    },
    {
     "name": "stdout",
     "output_type": "stream",
     "text": [
      " num [1:383] 0 2 2 2 0 1 0 2 1 0 ...\n"
     ]
    }
   ],
   "source": [
    "recgli = recgli[recgli$tumor_cell_evaluation != \"Ind\",]\n",
    "dim(recgli)\n",
    "recgli = droplevels(recgli)\n",
    "recgli$tumor_cell_evaluation = as.character(recgli$tumor_cell_evaluation)\n",
    "recgli$tumor_cell_evaluation = as.numeric(recgli$tumor_cell_evaluation)\n",
    "str(recgli$tumor_cell_evaluation)"
   ]
  },
  {
   "cell_type": "code",
   "execution_count": 75,
   "metadata": {
    "collapsed": false
   },
   "outputs": [
    {
     "data": {
      "text/html": [
       "<ol class=list-inline>\n",
       "\t<li>383</li>\n",
       "\t<li>73</li>\n",
       "</ol>\n"
      ],
      "text/latex": [
       "\\begin{enumerate*}\n",
       "\\item 383\n",
       "\\item 73\n",
       "\\end{enumerate*}\n"
      ],
      "text/markdown": [
       "1. 383\n",
       "2. 73\n",
       "\n",
       "\n"
      ],
      "text/plain": [
       "[1] 383  73"
      ]
     },
     "metadata": {},
     "output_type": "display_data"
    }
   ],
   "source": [
    "recgli.anat = recgli[recgli$include_anat==1,]\n",
    "dim(recgli.anat)"
   ]
  },
  {
   "cell_type": "markdown",
   "metadata": {},
   "source": [
    "## 1. Anatomical vs. TS "
   ]
  },
  {
   "cell_type": "markdown",
   "metadata": {},
   "source": [
    "### a. No separation into ROIs"
   ]
  },
  {
   "cell_type": "code",
   "execution_count": 69,
   "metadata": {
    "collapsed": false
   },
   "outputs": [
    {
     "data": {
      "image/png": "[encoded data removed]",
      "text/plain": [
       "plot without title"
      ]
     },
     "metadata": {},
     "output_type": "display_data"
    }
   ],
   "source": [
    "par(mfrow = c(2, 2))\n",
    "a = boxplot(nfse ~ tumor_cell_evaluation , data = recgli, ylab = \"normalized fse\", xlab = \"tumorscore\")\n",
    "text( c(1:nlevels(recgli$tumor_cell_evaluation)) , a$stats[nrow(a$stats) , ]+2 , paste(\"n = \",table(recgli$tumor_cell_evaluation),sep=\"\")  )\n",
    "boxplot(nfl ~ tumor_cell_evaluation , data = recgli, ylab = \"normalized fl\", xlab = \"tumorscore\")\n",
    "boxplot(nt1c ~ tumor_cell_evaluation , data = recgli, ylab = \"normalized t1c\", xlab = \"tumorscore\")\n",
    "boxplot(nt1v ~ tumor_cell_evaluation , data = recgli, ylab = \"normalized t1v\", xlab = \"tumorscore\")"
   ]
  },
  {
   "cell_type": "markdown",
   "metadata": {},
   "source": [
    "### b. CEL next to NEL scores  "
   ]
  },
  {
   "cell_type": "code",
   "execution_count": 70,
   "metadata": {
    "collapsed": false
   },
   "outputs": [
    {
     "data": {
      "image/png": "[encoded data removed]",
      "text/plain": [
       "Plot with title “NEL”"
      ]
     },
     "metadata": {},
     "output_type": "display_data"
    },
    {
     "data": {
      "image/png": "[encoded data removed]",
      "text/plain": [
       "Plot with title “NEL”"
      ]
     },
     "metadata": {},
     "output_type": "display_data"
    }
   ],
   "source": [
    "par(mfrow = c(2, 2))\n",
    "a = boxplot(nfse ~ tumor_cell_evaluation , data = recgli[recgli$in_CEL ==1,], ylab = \"normalized fse\", xlab = \"tumorscore\", main = \"CEL\", ylim = c(0,4))\n",
    "text( c(1:nlevels(recgli[recgli$in_CEL ==1,]$tumor_cell_evaluation)) , a$stats[nrow(a$stats) , ]+.3 , paste(\"n = \",table(recgli[recgli$in_CEL ==1,]$tumor_cell_evaluation),sep=\"\"), cex = 0.8)\n",
    "b = boxplot(nfse ~ tumor_cell_evaluation , data = recgli[recgli$in_NEL ==1,], ylab = \"normalized fse\", xlab = \"tumorscore\", main = \"NEL\", ylim = c(0,4))\n",
    "text( c(1:nlevels(recgli[recgli$in_NEL ==1,]$tumor_cell_evaluation)) , b$stats[nrow(b$stats) , ]+.3 , paste(\"n = \",table(recgli[recgli$in_NEL ==1,]$tumor_cell_evaluation),sep=\"\"), cex = 0.8)\n",
    "\n",
    "c = boxplot(nfl ~ tumor_cell_evaluation , data = recgli[recgli$in_CEL ==1,], ylab = \"normalized fl\", xlab = \"tumorscore\", main = \"CEL\", ylim = c(0,3.5))\n",
    "text( c(1:nlevels(recgli[recgli$in_CEL ==1,]$tumor_cell_evaluation)) , c$stats[nrow(c$stats) , ]+.3 , paste(\"n = \",table(recgli[recgli$in_CEL ==1,]$tumor_cell_evaluation),sep=\"\"), cex = 0.8)\n",
    "d = boxplot(nfl ~ tumor_cell_evaluation , data = recgli[recgli$in_NEL ==1,], ylab = \"normalized fl\", xlab = \"tumorscore\", main = \"NEL\", ylim = c(0,3.5))\n",
    "text( c(1:nlevels(recgli[recgli$in_NEL ==1,]$tumor_cell_evaluation)) , d$stats[nrow(d$stats) , ]+.3 , paste(\"n = \",table(recgli[recgli$in_NEL ==1,]$tumor_cell_evaluation),sep=\"\"), cex = 0.8)\n",
    "\n",
    "e = boxplot(nt1c ~ tumor_cell_evaluation , data = recgli[recgli$in_CEL ==1,], ylab = \"normalized t1c\", xlab = \"tumorscore\", main = \"CEL\", ylim = c(0,4))\n",
    "text( c(1:nlevels(recgli[recgli$in_CEL ==1,]$tumor_cell_evaluation)) , e$stats[nrow(e$stats) , ]+.3 , paste(\"n = \",table(recgli[recgli$in_CEL ==1,]$tumor_cell_evaluation),sep=\"\"), cex = 0.8)\n",
    "f = boxplot(nt1c ~ tumor_cell_evaluation , data = recgli[recgli$in_NEL ==1,], ylab = \"normalized t1c\", xlab = \"tumorscore\", main = \"NEL\", ylim = c(0,4))\n",
    "text( c(1:nlevels(recgli[recgli$in_NEL ==1,]$tumor_cell_evaluation)) , f$stats[nrow(f$stats) , ]+.3 , paste(\"n = \",table(recgli[recgli$in_NEL ==1,]$tumor_cell_evaluation),sep=\"\"), cex = 0.8)\n",
    "\n",
    "g = boxplot(nt1v ~ tumor_cell_evaluation , data = recgli[recgli$in_CEL ==1,], ylab = \"normalized t1v\", xlab = \"tumorscore\", main = \"CEL\", ylim = c(0,4))\n",
    "text( c(1:nlevels(recgli[recgli$in_CEL ==1,]$tumor_cell_evaluation)) , g$stats[nrow(g$stats) , ]+.3 , paste(\"n = \",table(recgli[recgli$in_CEL ==1,]$tumor_cell_evaluation),sep=\"\"), cex = 0.8)\n",
    "h = boxplot(nt1v ~ tumor_cell_evaluation , data = recgli[recgli$in_NEL ==1,], ylab = \"normalized t1c\", xlab = \"tumorscore\", main = \"NEL\", ylim = c(0,4))\n",
    "text( c(1:nlevels(recgli[recgli$in_NEL ==1,]$tumor_cell_evaluation)) , h$stats[nrow(h$stats) , ]+.3 , paste(\"n = \",table(recgli[recgli$in_NEL ==1,]$tumor_cell_evaluation),sep=\"\"), cex = 0.8)\n"
   ]
  },
  {
   "cell_type": "markdown",
   "metadata": {},
   "source": [
    "### c. Use GLMM associate anatomical parameters with TS, no separation "
   ]
  },
  {
   "cell_type": "markdown",
   "metadata": {},
   "source": []
  },
  {
   "cell_type": "code",
   "execution_count": 71,
   "metadata": {
    "collapsed": false
   },
   "outputs": [],
   "source": []
  },
  {
   "cell_type": "code",
   "execution_count": 72,
   "metadata": {
    "collapsed": true
   },
   "outputs": [],
   "source": []
  },
  {
   "cell_type": "code",
   "execution_count": 87,
   "metadata": {
    "collapsed": false
   },
   "outputs": [
    {
     "data": {
      "text/plain": [
       "\n",
       "FALSE \n",
       "  383 "
      ]
     },
     "metadata": {},
     "output_type": "display_data"
    },
    {
     "name": "stdout",
     "output_type": "stream",
     "text": [
      " num [1:383] 2.1 2.27 2.35 2.2 2.07 0.85 2.42 1.08 4.23 3.34 ...\n"
     ]
    }
   ],
   "source": []
  },
  {
   "cell_type": "code",
   "execution_count": 85,
   "metadata": {
    "collapsed": false
   },
   "outputs": [
    {
     "data": {
      "text/plain": [
       "\n",
       "FALSE \n",
       "  383 "
      ]
     },
     "metadata": {},
     "output_type": "display_data"
    }
   ],
   "source": [
    "="
   ]
  },
  {
   "cell_type": "code",
   "execution_count": 86,
   "metadata": {
    "collapsed": false
   },
   "outputs": [
    {
     "data": {
      "text/plain": [
       "\n",
       "FALSE \n",
       "  383 "
      ]
     },
     "metadata": {},
     "output_type": "display_data"
    }
   ],
   "source": []
  },
  {
   "cell_type": "code",
   "execution_count": 83,
   "metadata": {
    "collapsed": false
   },
   "outputs": [
    {
     "name": "stderr",
     "output_type": "stream",
     "text": [
      "Warning message:\n",
      "“Converting \"t_number\" to factor for ANOVA.”Warning message:\n",
      "“\"nfse\" will be treated as numeric.”Warning message:\n",
      "“Collapsing data to cell means. *IF* the requested effects are a subset of the full design, you must use the \"within_full\" argument, else results may be inaccurate.”"
     ]
    },
    {
     "ename": "ERROR",
     "evalue": "Error in ezANOVA_main(data = data, dv = dv, wid = wid, within = within, : One or more cells is missing data. Try using ezDesign() to check your data.\n",
     "output_type": "error",
     "traceback": [
      "Error in ezANOVA_main(data = data, dv = dv, wid = wid, within = within, : One or more cells is missing data. Try using ezDesign() to check your data.\nTraceback:\n",
      "1. ezANOVA(recgli, dv = tumor_cell_evaluation, wid = t_number, within = nfse, \n .     detailed = TRUE)",
      "2. ezANOVA_main(data = data, dv = dv, wid = wid, within = within, \n .     within_full = within_full, within_covariates = within_covariates, \n .     between = between, between_covariates = between_covariates, \n .     diff = diff, reverse_diff = reverse_diff, type = type, return_aov = return_aov, \n .     white.adjust = white.adjust)",
      "3. stop(\"One or more cells is missing data. Try using ezDesign() to check your data.\")"
     ]
    }
   ],
   "source": []
  },
  {
   "cell_type": "code",
   "execution_count": 84,
   "metadata": {
    "collapsed": false
   },
   "outputs": [
    {
     "ename": "ERROR",
     "evalue": "Error in eval(expr, envir, enclos): object 'nfse_anova' not found\n",
     "output_type": "error",
     "traceback": [
      "Error in eval(expr, envir, enclos): object 'nfse_anova' not found\nTraceback:\n"
     ]
    }
   ],
   "source": [
    "nfse_anova"
   ]
  },
  {
   "cell_type": "code",
   "execution_count": null,
   "metadata": {
    "collapsed": true
   },
   "outputs": [],
   "source": []
  }
 ],
 "metadata": {
  "kernelspec": {
   "display_name": "R",
   "language": "R",
   "name": "ir"
  },
  "language_info": {
   "codemirror_mode": "r",
   "file_extension": ".r",
   "mimetype": "text/x-r-source",
   "name": "R",
   "pygments_lexer": "r",
   "version": "3.4.0"
  }
 },
 "nbformat": 4,
 "nbformat_minor": 2
}
