{
 "cells": [
  {
   "cell_type": "markdown",
   "metadata": {
    "deletable": true,
    "editable": true
   },
   "source": [
    "## Introduction"
   ]
  },
  {
   "cell_type": "markdown",
   "metadata": {
    "deletable": true,
    "editable": true
   },
   "source": [
    "In this notebook, we will use the 61 patients with fully complete data from all MRI scans and see what we can learn about whether the parameters associate with tumor score outcome. "
   ]
  },
  {
   "cell_type": "markdown",
   "metadata": {},
   "source": [
    "## Prepare the data"
   ]
  },
  {
   "cell_type": "code",
   "execution_count": 2,
   "metadata": {
    "collapsed": true,
    "deletable": true,
    "editable": true
   },
   "outputs": [],
   "source": [
    "options(repr.matrix.max.rows=600, repr.matrix.max.cols=200)"
   ]
  },
  {
   "cell_type": "code",
   "execution_count": 59,
   "metadata": {
    "collapsed": false,
    "deletable": true,
    "editable": true
   },
   "outputs": [
    {
     "name": "stderr",
     "output_type": "stream",
     "text": [
      "Loading required package: lattice\n",
      "Loading required package: ggplot2\n",
      "\n",
      "Attaching package: ‘ggplot2’\n",
      "\n",
      "The following object is masked from ‘package:randomForest’:\n",
      "\n",
      "    margin\n",
      "\n"
     ]
    }
   ],
   "source": [
    "library(randomForest)\n",
    "library(randomForestSRC)\n",
    "library(caret)"
   ]
  },
  {
   "cell_type": "code",
   "execution_count": 4,
   "metadata": {
    "collapsed": false,
    "deletable": true,
    "editable": true
   },
   "outputs": [
    {
     "data": {
      "text/html": [
       "<ol class=list-inline>\n",
       "\t<li>435</li>\n",
       "\t<li>75</li>\n",
       "</ol>\n"
      ],
      "text/latex": [
       "\\begin{enumerate*}\n",
       "\\item 435\n",
       "\\item 75\n",
       "\\end{enumerate*}\n"
      ],
      "text/markdown": [
       "1. 435\n",
       "2. 75\n",
       "\n",
       "\n"
      ],
      "text/plain": [
       "[1] 435  75"
      ]
     },
     "metadata": {},
     "output_type": "display_data"
    }
   ],
   "source": [
    "## reading in the data: \n",
    "recgli = read.csv('/home/sf673542/DataWrangling/ParseData/7thParse_researchPath_withInVivo.csv')\n",
    "dim(recgli)"
   ]
  },
  {
   "cell_type": "code",
   "execution_count": 5,
   "metadata": {
    "collapsed": false,
    "deletable": true,
    "editable": true
   },
   "outputs": [
    {
     "data": {
      "text/html": [
       "<ol class=list-inline>\n",
       "\t<li>105</li>\n",
       "\t<li>75</li>\n",
       "</ol>\n"
      ],
      "text/latex": [
       "\\begin{enumerate*}\n",
       "\\item 105\n",
       "\\item 75\n",
       "\\end{enumerate*}\n"
      ],
      "text/markdown": [
       "1. 105\n",
       "2. 75\n",
       "\n",
       "\n"
      ],
      "text/plain": [
       "[1] 105  75"
      ]
     },
     "metadata": {},
     "output_type": "display_data"
    }
   ],
   "source": [
    "## parse the data down to only those that have all advanced modalities: \n",
    "recgli = recgli[which(recgli$include_all_advanced_mods == 1),]\n",
    "dim(recgli)"
   ]
  },
  {
   "cell_type": "code",
   "execution_count": 6,
   "metadata": {
    "collapsed": false,
    "deletable": true,
    "editable": true
   },
   "outputs": [
    {
     "data": {
      "text/html": [
       "<dl class=dl-horizontal>\n",
       "\t<dt>b_number</dt>\n",
       "\t\t<dd>0</dd>\n",
       "\t<dt>t_number</dt>\n",
       "\t\t<dd>0</dd>\n",
       "\t<dt>sf_number</dt>\n",
       "\t\t<dd>0</dd>\n",
       "\t<dt>current_scan_date</dt>\n",
       "\t\t<dd>0</dd>\n",
       "\t<dt>current_surgery_date</dt>\n",
       "\t\t<dd>0</dd>\n",
       "\t<dt>current_hist_grade</dt>\n",
       "\t\t<dd>0</dd>\n",
       "\t<dt>current_hist_type</dt>\n",
       "\t\t<dd>0</dd>\n",
       "\t<dt>roi.label</dt>\n",
       "\t\t<dd>0</dd>\n",
       "\t<dt>tumor_cell_evaluation</dt>\n",
       "\t\t<dd>0</dd>\n",
       "\t<dt>necrosis</dt>\n",
       "\t\t<dd>0</dd>\n",
       "\t<dt>f8_delicate</dt>\n",
       "\t\t<dd>0</dd>\n",
       "\t<dt>f8_simple</dt>\n",
       "\t\t<dd>0</dd>\n",
       "\t<dt>f8_complex</dt>\n",
       "\t\t<dd>0</dd>\n",
       "\t<dt>mib_1</dt>\n",
       "\t\t<dd>6</dd>\n",
       "\t<dt>bx_pure_treatment_effect</dt>\n",
       "\t\t<dd>0</dd>\n",
       "\t<dt>nfse</dt>\n",
       "\t\t<dd>0</dd>\n",
       "\t<dt>nfl</dt>\n",
       "\t\t<dd>0</dd>\n",
       "\t<dt>nt1c</dt>\n",
       "\t\t<dd>0</dd>\n",
       "\t<dt>nt1v</dt>\n",
       "\t\t<dd>1</dd>\n",
       "\t<dt>nt1d</dt>\n",
       "\t\t<dd>25</dd>\n",
       "\t<dt>nadc.1</dt>\n",
       "\t\t<dd>0</dd>\n",
       "\t<dt>nfa.1</dt>\n",
       "\t\t<dd>0</dd>\n",
       "\t<dt>nev1.1</dt>\n",
       "\t\t<dd>0</dd>\n",
       "\t<dt>nev2.1</dt>\n",
       "\t\t<dd>0</dd>\n",
       "\t<dt>nev3.1</dt>\n",
       "\t\t<dd>0</dd>\n",
       "\t<dt>nevrad.1</dt>\n",
       "\t\t<dd>0</dd>\n",
       "\t<dt>nadc.2</dt>\n",
       "\t\t<dd>17</dd>\n",
       "\t<dt>nfa.2</dt>\n",
       "\t\t<dd>17</dd>\n",
       "\t<dt>nev1.2</dt>\n",
       "\t\t<dd>24</dd>\n",
       "\t<dt>nev2.2</dt>\n",
       "\t\t<dd>24</dd>\n",
       "\t<dt>nev3.2</dt>\n",
       "\t\t<dd>24</dd>\n",
       "\t<dt>nevrad.2</dt>\n",
       "\t\t<dd>24</dd>\n",
       "\t<dt>cbvn_nlin</dt>\n",
       "\t\t<dd>0</dd>\n",
       "\t<dt>phn_nlin</dt>\n",
       "\t\t<dd>0</dd>\n",
       "\t<dt>phn_npar</dt>\n",
       "\t\t<dd>0</dd>\n",
       "\t<dt>recovn_npar</dt>\n",
       "\t\t<dd>0</dd>\n",
       "\t<dt>cni</dt>\n",
       "\t\t<dd>0</dd>\n",
       "\t<dt>ccri</dt>\n",
       "\t\t<dd>0</dd>\n",
       "\t<dt>crni</dt>\n",
       "\t\t<dd>0</dd>\n",
       "\t<dt>ncho</dt>\n",
       "\t\t<dd>0</dd>\n",
       "\t<dt>ncre</dt>\n",
       "\t\t<dd>0</dd>\n",
       "\t<dt>nnaa</dt>\n",
       "\t\t<dd>0</dd>\n",
       "\t<dt>laclip</dt>\n",
       "\t\t<dd>0</dd>\n",
       "\t<dt>nlip</dt>\n",
       "\t\t<dd>0</dd>\n",
       "\t<dt>nlac</dt>\n",
       "\t\t<dd>0</dd>\n",
       "\t<dt>olddata</dt>\n",
       "\t\t<dd>0</dd>\n",
       "\t<dt>newdata</dt>\n",
       "\t\t<dd>0</dd>\n",
       "\t<dt>comments</dt>\n",
       "\t\t<dd>0</dd>\n",
       "\t<dt>notes.</dt>\n",
       "\t\t<dd>104</dd>\n",
       "\t<dt>imaging_code</dt>\n",
       "\t\t<dd>105</dd>\n",
       "\t<dt>perf_quant</dt>\n",
       "\t\t<dd>0</dd>\n",
       "\t<dt>cbv_nlin</dt>\n",
       "\t\t<dd>105</dd>\n",
       "\t<dt>spec_quant</dt>\n",
       "\t\t<dd>0</dd>\n",
       "\t<dt>include_anat</dt>\n",
       "\t\t<dd>0</dd>\n",
       "\t<dt>include_diffu1000</dt>\n",
       "\t\t<dd>0</dd>\n",
       "\t<dt>include_diffu2000</dt>\n",
       "\t\t<dd>0</dd>\n",
       "\t<dt>include_diffu_all</dt>\n",
       "\t\t<dd>0</dd>\n",
       "\t<dt>include_perf</dt>\n",
       "\t\t<dd>0</dd>\n",
       "\t<dt>include_spec</dt>\n",
       "\t\t<dd>0</dd>\n",
       "\t<dt>include_one_advanced_mod</dt>\n",
       "\t\t<dd>0</dd>\n",
       "\t<dt>include_all_advanced_mods</dt>\n",
       "\t\t<dd>0</dd>\n",
       "\t<dt>X.CEL</dt>\n",
       "\t\t<dd>12</dd>\n",
       "\t<dt>X.NEL</dt>\n",
       "\t\t<dd>9</dd>\n",
       "\t<dt>X.NEC</dt>\n",
       "\t\t<dd>74</dd>\n",
       "\t<dt>sum</dt>\n",
       "\t\t<dd>9</dd>\n",
       "\t<dt>in_CEL</dt>\n",
       "\t\t<dd>0</dd>\n",
       "\t<dt>in_T2all</dt>\n",
       "\t\t<dd>0</dd>\n",
       "\t<dt>in_NEL</dt>\n",
       "\t\t<dd>0</dd>\n",
       "\t<dt>in_NEC</dt>\n",
       "\t\t<dd>0</dd>\n",
       "\t<dt>in_ROI</dt>\n",
       "\t\t<dd>0</dd>\n",
       "\t<dt>desired_hist</dt>\n",
       "\t\t<dd>0</dd>\n",
       "\t<dt>multnom_out</dt>\n",
       "\t\t<dd>0</dd>\n",
       "\t<dt>no_ffpe</dt>\n",
       "\t\t<dd>0</dd>\n",
       "\t<dt>waiting_on_path</dt>\n",
       "\t\t<dd>0</dd>\n",
       "\t<dt>rhgg_txe_analysis</dt>\n",
       "\t\t<dd>0</dd>\n",
       "</dl>\n"
      ],
      "text/latex": [
       "\\begin{description*}\n",
       "\\item[b\\textbackslash{}\\_number] 0\n",
       "\\item[t\\textbackslash{}\\_number] 0\n",
       "\\item[sf\\textbackslash{}\\_number] 0\n",
       "\\item[current\\textbackslash{}\\_scan\\textbackslash{}\\_date] 0\n",
       "\\item[current\\textbackslash{}\\_surgery\\textbackslash{}\\_date] 0\n",
       "\\item[current\\textbackslash{}\\_hist\\textbackslash{}\\_grade] 0\n",
       "\\item[current\\textbackslash{}\\_hist\\textbackslash{}\\_type] 0\n",
       "\\item[roi.label] 0\n",
       "\\item[tumor\\textbackslash{}\\_cell\\textbackslash{}\\_evaluation] 0\n",
       "\\item[necrosis] 0\n",
       "\\item[f8\\textbackslash{}\\_delicate] 0\n",
       "\\item[f8\\textbackslash{}\\_simple] 0\n",
       "\\item[f8\\textbackslash{}\\_complex] 0\n",
       "\\item[mib\\textbackslash{}\\_1] 6\n",
       "\\item[bx\\textbackslash{}\\_pure\\textbackslash{}\\_treatment\\textbackslash{}\\_effect] 0\n",
       "\\item[nfse] 0\n",
       "\\item[nfl] 0\n",
       "\\item[nt1c] 0\n",
       "\\item[nt1v] 1\n",
       "\\item[nt1d] 25\n",
       "\\item[nadc.1] 0\n",
       "\\item[nfa.1] 0\n",
       "\\item[nev1.1] 0\n",
       "\\item[nev2.1] 0\n",
       "\\item[nev3.1] 0\n",
       "\\item[nevrad.1] 0\n",
       "\\item[nadc.2] 17\n",
       "\\item[nfa.2] 17\n",
       "\\item[nev1.2] 24\n",
       "\\item[nev2.2] 24\n",
       "\\item[nev3.2] 24\n",
       "\\item[nevrad.2] 24\n",
       "\\item[cbvn\\textbackslash{}\\_nlin] 0\n",
       "\\item[phn\\textbackslash{}\\_nlin] 0\n",
       "\\item[phn\\textbackslash{}\\_npar] 0\n",
       "\\item[recovn\\textbackslash{}\\_npar] 0\n",
       "\\item[cni] 0\n",
       "\\item[ccri] 0\n",
       "\\item[crni] 0\n",
       "\\item[ncho] 0\n",
       "\\item[ncre] 0\n",
       "\\item[nnaa] 0\n",
       "\\item[laclip] 0\n",
       "\\item[nlip] 0\n",
       "\\item[nlac] 0\n",
       "\\item[olddata] 0\n",
       "\\item[newdata] 0\n",
       "\\item[comments] 0\n",
       "\\item[notes.] 104\n",
       "\\item[imaging\\textbackslash{}\\_code] 105\n",
       "\\item[perf\\textbackslash{}\\_quant] 0\n",
       "\\item[cbv\\textbackslash{}\\_nlin] 105\n",
       "\\item[spec\\textbackslash{}\\_quant] 0\n",
       "\\item[include\\textbackslash{}\\_anat] 0\n",
       "\\item[include\\textbackslash{}\\_diffu1000] 0\n",
       "\\item[include\\textbackslash{}\\_diffu2000] 0\n",
       "\\item[include\\textbackslash{}\\_diffu\\textbackslash{}\\_all] 0\n",
       "\\item[include\\textbackslash{}\\_perf] 0\n",
       "\\item[include\\textbackslash{}\\_spec] 0\n",
       "\\item[include\\textbackslash{}\\_one\\textbackslash{}\\_advanced\\textbackslash{}\\_mod] 0\n",
       "\\item[include\\textbackslash{}\\_all\\textbackslash{}\\_advanced\\textbackslash{}\\_mods] 0\n",
       "\\item[X.CEL] 12\n",
       "\\item[X.NEL] 9\n",
       "\\item[X.NEC] 74\n",
       "\\item[sum] 9\n",
       "\\item[in\\textbackslash{}\\_CEL] 0\n",
       "\\item[in\\textbackslash{}\\_T2all] 0\n",
       "\\item[in\\textbackslash{}\\_NEL] 0\n",
       "\\item[in\\textbackslash{}\\_NEC] 0\n",
       "\\item[in\\textbackslash{}\\_ROI] 0\n",
       "\\item[desired\\textbackslash{}\\_hist] 0\n",
       "\\item[multnom\\textbackslash{}\\_out] 0\n",
       "\\item[no\\textbackslash{}\\_ffpe] 0\n",
       "\\item[waiting\\textbackslash{}\\_on\\textbackslash{}\\_path] 0\n",
       "\\item[rhgg\\textbackslash{}\\_txe\\textbackslash{}\\_analysis] 0\n",
       "\\end{description*}\n"
      ],
      "text/markdown": [
       "b_number\n",
       ":   0t_number\n",
       ":   0sf_number\n",
       ":   0current_scan_date\n",
       ":   0current_surgery_date\n",
       ":   0current_hist_grade\n",
       ":   0current_hist_type\n",
       ":   0roi.label\n",
       ":   0tumor_cell_evaluation\n",
       ":   0necrosis\n",
       ":   0f8_delicate\n",
       ":   0f8_simple\n",
       ":   0f8_complex\n",
       ":   0mib_1\n",
       ":   6bx_pure_treatment_effect\n",
       ":   0nfse\n",
       ":   0nfl\n",
       ":   0nt1c\n",
       ":   0nt1v\n",
       ":   1nt1d\n",
       ":   25nadc.1\n",
       ":   0nfa.1\n",
       ":   0nev1.1\n",
       ":   0nev2.1\n",
       ":   0nev3.1\n",
       ":   0nevrad.1\n",
       ":   0nadc.2\n",
       ":   17nfa.2\n",
       ":   17nev1.2\n",
       ":   24nev2.2\n",
       ":   24nev3.2\n",
       ":   24nevrad.2\n",
       ":   24cbvn_nlin\n",
       ":   0phn_nlin\n",
       ":   0phn_npar\n",
       ":   0recovn_npar\n",
       ":   0cni\n",
       ":   0ccri\n",
       ":   0crni\n",
       ":   0ncho\n",
       ":   0ncre\n",
       ":   0nnaa\n",
       ":   0laclip\n",
       ":   0nlip\n",
       ":   0nlac\n",
       ":   0olddata\n",
       ":   0newdata\n",
       ":   0comments\n",
       ":   0notes.\n",
       ":   104imaging_code\n",
       ":   105perf_quant\n",
       ":   0cbv_nlin\n",
       ":   105spec_quant\n",
       ":   0include_anat\n",
       ":   0include_diffu1000\n",
       ":   0include_diffu2000\n",
       ":   0include_diffu_all\n",
       ":   0include_perf\n",
       ":   0include_spec\n",
       ":   0include_one_advanced_mod\n",
       ":   0include_all_advanced_mods\n",
       ":   0X.CEL\n",
       ":   12X.NEL\n",
       ":   9X.NEC\n",
       ":   74sum\n",
       ":   9in_CEL\n",
       ":   0in_T2all\n",
       ":   0in_NEL\n",
       ":   0in_NEC\n",
       ":   0in_ROI\n",
       ":   0desired_hist\n",
       ":   0multnom_out\n",
       ":   0no_ffpe\n",
       ":   0waiting_on_path\n",
       ":   0rhgg_txe_analysis\n",
       ":   0\n",
       "\n"
      ],
      "text/plain": [
       "                 b_number                  t_number                 sf_number \n",
       "                        0                         0                         0 \n",
       "        current_scan_date      current_surgery_date        current_hist_grade \n",
       "                        0                         0                         0 \n",
       "        current_hist_type                 roi.label     tumor_cell_evaluation \n",
       "                        0                         0                         0 \n",
       "                 necrosis               f8_delicate                 f8_simple \n",
       "                        0                         0                         0 \n",
       "               f8_complex                     mib_1  bx_pure_treatment_effect \n",
       "                        0                         6                         0 \n",
       "                     nfse                       nfl                      nt1c \n",
       "                        0                         0                         0 \n",
       "                     nt1v                      nt1d                    nadc.1 \n",
       "                        1                        25                         0 \n",
       "                    nfa.1                    nev1.1                    nev2.1 \n",
       "                        0                         0                         0 \n",
       "                   nev3.1                  nevrad.1                    nadc.2 \n",
       "                        0                         0                        17 \n",
       "                    nfa.2                    nev1.2                    nev2.2 \n",
       "                       17                        24                        24 \n",
       "                   nev3.2                  nevrad.2                 cbvn_nlin \n",
       "                       24                        24                         0 \n",
       "                 phn_nlin                  phn_npar               recovn_npar \n",
       "                        0                         0                         0 \n",
       "                      cni                      ccri                      crni \n",
       "                        0                         0                         0 \n",
       "                     ncho                      ncre                      nnaa \n",
       "                        0                         0                         0 \n",
       "                   laclip                      nlip                      nlac \n",
       "                        0                         0                         0 \n",
       "                  olddata                   newdata                  comments \n",
       "                        0                         0                         0 \n",
       "                   notes.              imaging_code                perf_quant \n",
       "                      104                       105                         0 \n",
       "                 cbv_nlin                spec_quant              include_anat \n",
       "                      105                         0                         0 \n",
       "        include_diffu1000         include_diffu2000         include_diffu_all \n",
       "                        0                         0                         0 \n",
       "             include_perf              include_spec  include_one_advanced_mod \n",
       "                        0                         0                         0 \n",
       "include_all_advanced_mods                     X.CEL                     X.NEL \n",
       "                        0                        12                         9 \n",
       "                    X.NEC                       sum                    in_CEL \n",
       "                       74                         9                         0 \n",
       "                 in_T2all                    in_NEL                    in_NEC \n",
       "                        0                         0                         0 \n",
       "                   in_ROI              desired_hist               multnom_out \n",
       "                        0                         0                         0 \n",
       "                  no_ffpe           waiting_on_path         rhgg_txe_analysis \n",
       "                        0                         0                         0 "
      ]
     },
     "metadata": {},
     "output_type": "display_data"
    }
   ],
   "source": [
    "## inspect which columns still have NA by using previously defined criteria: \n",
    "colSums(is.na(recgli))"
   ]
  },
  {
   "cell_type": "code",
   "execution_count": 7,
   "metadata": {
    "collapsed": false,
    "deletable": true,
    "editable": true
   },
   "outputs": [
    {
     "data": {
      "text/html": [
       "<ol class=list-inline>\n",
       "\t<li>104</li>\n",
       "\t<li>75</li>\n",
       "</ol>\n"
      ],
      "text/latex": [
       "\\begin{enumerate*}\n",
       "\\item 104\n",
       "\\item 75\n",
       "\\end{enumerate*}\n"
      ],
      "text/markdown": [
       "1. 104\n",
       "2. 75\n",
       "\n",
       "\n"
      ],
      "text/plain": [
       "[1] 104  75"
      ]
     },
     "metadata": {},
     "output_type": "display_data"
    }
   ],
   "source": [
    "## this is fine; we weren't going to use diffusion b=2000 data anyway, and nt1d information needs to be recalculated. \n",
    "## we will exclude the nt1v situation: \n",
    "recgli = recgli[!is.na(recgli$nt1v),]\n",
    "dim(recgli)"
   ]
  },
  {
   "cell_type": "code",
   "execution_count": 8,
   "metadata": {
    "collapsed": false,
    "deletable": true,
    "editable": true
   },
   "outputs": [
    {
     "data": {
      "text/html": [
       "<table>\n",
       "<thead><tr><th scope=col>index</th><th scope=col>colnames</th></tr></thead>\n",
       "<tbody>\n",
       "\t<tr><td> 1                       </td><td>b_number                 </td></tr>\n",
       "\t<tr><td> 2                       </td><td>t_number                 </td></tr>\n",
       "\t<tr><td> 3                       </td><td>sf_number                </td></tr>\n",
       "\t<tr><td> 4                       </td><td>current_scan_date        </td></tr>\n",
       "\t<tr><td> 5                       </td><td>current_surgery_date     </td></tr>\n",
       "\t<tr><td> 6                       </td><td>current_hist_grade       </td></tr>\n",
       "\t<tr><td> 7                       </td><td>current_hist_type        </td></tr>\n",
       "\t<tr><td> 8                       </td><td>roi.label                </td></tr>\n",
       "\t<tr><td> 9                       </td><td>tumor_cell_evaluation    </td></tr>\n",
       "\t<tr><td>10                       </td><td>necrosis                 </td></tr>\n",
       "\t<tr><td>11                       </td><td>f8_delicate              </td></tr>\n",
       "\t<tr><td>12                       </td><td>f8_simple                </td></tr>\n",
       "\t<tr><td>13                       </td><td>f8_complex               </td></tr>\n",
       "\t<tr><td>14                       </td><td>mib_1                    </td></tr>\n",
       "\t<tr><td>15                       </td><td>bx_pure_treatment_effect </td></tr>\n",
       "\t<tr><td>16                       </td><td>nfse                     </td></tr>\n",
       "\t<tr><td>17                       </td><td>nfl                      </td></tr>\n",
       "\t<tr><td>18                       </td><td>nt1c                     </td></tr>\n",
       "\t<tr><td>19                       </td><td>nt1v                     </td></tr>\n",
       "\t<tr><td>20                       </td><td>nt1d                     </td></tr>\n",
       "\t<tr><td>21                       </td><td>nadc.1                   </td></tr>\n",
       "\t<tr><td>22                       </td><td>nfa.1                    </td></tr>\n",
       "\t<tr><td>23                       </td><td>nev1.1                   </td></tr>\n",
       "\t<tr><td>24                       </td><td>nev2.1                   </td></tr>\n",
       "\t<tr><td>25                       </td><td>nev3.1                   </td></tr>\n",
       "\t<tr><td>26                       </td><td>nevrad.1                 </td></tr>\n",
       "\t<tr><td>27                       </td><td>nadc.2                   </td></tr>\n",
       "\t<tr><td>28                       </td><td>nfa.2                    </td></tr>\n",
       "\t<tr><td>29                       </td><td>nev1.2                   </td></tr>\n",
       "\t<tr><td>30                       </td><td>nev2.2                   </td></tr>\n",
       "\t<tr><td>31                       </td><td>nev3.2                   </td></tr>\n",
       "\t<tr><td>32                       </td><td>nevrad.2                 </td></tr>\n",
       "\t<tr><td>33                       </td><td>cbvn_nlin                </td></tr>\n",
       "\t<tr><td>34                       </td><td>phn_nlin                 </td></tr>\n",
       "\t<tr><td>35                       </td><td>phn_npar                 </td></tr>\n",
       "\t<tr><td>36                       </td><td>recovn_npar              </td></tr>\n",
       "\t<tr><td>37                       </td><td>cni                      </td></tr>\n",
       "\t<tr><td>38                       </td><td>ccri                     </td></tr>\n",
       "\t<tr><td>39                       </td><td>crni                     </td></tr>\n",
       "\t<tr><td>40                       </td><td>ncho                     </td></tr>\n",
       "\t<tr><td>41                       </td><td>ncre                     </td></tr>\n",
       "\t<tr><td>42                       </td><td>nnaa                     </td></tr>\n",
       "\t<tr><td>43                       </td><td>laclip                   </td></tr>\n",
       "\t<tr><td>44                       </td><td>nlip                     </td></tr>\n",
       "\t<tr><td>45                       </td><td>nlac                     </td></tr>\n",
       "\t<tr><td>46                       </td><td>olddata                  </td></tr>\n",
       "\t<tr><td>47                       </td><td>newdata                  </td></tr>\n",
       "\t<tr><td>48                       </td><td>comments                 </td></tr>\n",
       "\t<tr><td>49                       </td><td>notes.                   </td></tr>\n",
       "\t<tr><td>50                       </td><td>imaging_code             </td></tr>\n",
       "\t<tr><td>51                       </td><td>perf_quant               </td></tr>\n",
       "\t<tr><td>52                       </td><td>cbv_nlin                 </td></tr>\n",
       "\t<tr><td>53                       </td><td>spec_quant               </td></tr>\n",
       "\t<tr><td>54                       </td><td>include_anat             </td></tr>\n",
       "\t<tr><td>55                       </td><td>include_diffu1000        </td></tr>\n",
       "\t<tr><td>56                       </td><td>include_diffu2000        </td></tr>\n",
       "\t<tr><td>57                       </td><td>include_diffu_all        </td></tr>\n",
       "\t<tr><td>58                       </td><td>include_perf             </td></tr>\n",
       "\t<tr><td>59                       </td><td>include_spec             </td></tr>\n",
       "\t<tr><td>60                       </td><td>include_one_advanced_mod </td></tr>\n",
       "\t<tr><td>61                       </td><td>include_all_advanced_mods</td></tr>\n",
       "\t<tr><td>62                       </td><td>X.CEL                    </td></tr>\n",
       "\t<tr><td>63                       </td><td>X.NEL                    </td></tr>\n",
       "\t<tr><td>64                       </td><td>X.NEC                    </td></tr>\n",
       "\t<tr><td>65                       </td><td>sum                      </td></tr>\n",
       "\t<tr><td>66                       </td><td>in_CEL                   </td></tr>\n",
       "\t<tr><td>67                       </td><td>in_T2all                 </td></tr>\n",
       "\t<tr><td>68                       </td><td>in_NEL                   </td></tr>\n",
       "\t<tr><td>69                       </td><td>in_NEC                   </td></tr>\n",
       "\t<tr><td>70                       </td><td>in_ROI                   </td></tr>\n",
       "\t<tr><td>71                       </td><td>desired_hist             </td></tr>\n",
       "\t<tr><td>72                       </td><td>multnom_out              </td></tr>\n",
       "\t<tr><td>73                       </td><td>no_ffpe                  </td></tr>\n",
       "\t<tr><td>74                       </td><td>waiting_on_path          </td></tr>\n",
       "\t<tr><td>75                       </td><td>rhgg_txe_analysis        </td></tr>\n",
       "</tbody>\n",
       "</table>\n"
      ],
      "text/latex": [
       "\\begin{tabular}{r|ll}\n",
       " index & colnames\\\\\n",
       "\\hline\n",
       "\t  1                          & b\\_number                 \\\\\n",
       "\t  2                          & t\\_number                 \\\\\n",
       "\t  3                          & sf\\_number                \\\\\n",
       "\t  4                            & current\\_scan\\_date        \\\\\n",
       "\t  5                            & current\\_surgery\\_date     \\\\\n",
       "\t  6                            & current\\_hist\\_grade       \\\\\n",
       "\t  7                            & current\\_hist\\_type        \\\\\n",
       "\t  8                        & roi.label                \\\\\n",
       "\t  9                            & tumor\\_cell\\_evaluation    \\\\\n",
       "\t 10                        & necrosis                 \\\\\n",
       "\t 11                          & f8\\_delicate              \\\\\n",
       "\t 12                          & f8\\_simple                \\\\\n",
       "\t 13                          & f8\\_complex               \\\\\n",
       "\t 14                          & mib\\_1                    \\\\\n",
       "\t 15                              & bx\\_pure\\_treatment\\_effect \\\\\n",
       "\t 16                        & nfse                     \\\\\n",
       "\t 17                        & nfl                      \\\\\n",
       "\t 18                        & nt1c                     \\\\\n",
       "\t 19                        & nt1v                     \\\\\n",
       "\t 20                        & nt1d                     \\\\\n",
       "\t 21                        & nadc.1                   \\\\\n",
       "\t 22                        & nfa.1                    \\\\\n",
       "\t 23                        & nev1.1                   \\\\\n",
       "\t 24                        & nev2.1                   \\\\\n",
       "\t 25                        & nev3.1                   \\\\\n",
       "\t 26                        & nevrad.1                 \\\\\n",
       "\t 27                        & nadc.2                   \\\\\n",
       "\t 28                        & nfa.2                    \\\\\n",
       "\t 29                        & nev1.2                   \\\\\n",
       "\t 30                        & nev2.2                   \\\\\n",
       "\t 31                        & nev3.2                   \\\\\n",
       "\t 32                        & nevrad.2                 \\\\\n",
       "\t 33                          & cbvn\\_nlin                \\\\\n",
       "\t 34                          & phn\\_nlin                 \\\\\n",
       "\t 35                          & phn\\_npar                 \\\\\n",
       "\t 36                          & recovn\\_npar              \\\\\n",
       "\t 37                        & cni                      \\\\\n",
       "\t 38                        & ccri                     \\\\\n",
       "\t 39                        & crni                     \\\\\n",
       "\t 40                        & ncho                     \\\\\n",
       "\t 41                        & ncre                     \\\\\n",
       "\t 42                        & nnaa                     \\\\\n",
       "\t 43                        & laclip                   \\\\\n",
       "\t 44                        & nlip                     \\\\\n",
       "\t 45                        & nlac                     \\\\\n",
       "\t 46                        & olddata                  \\\\\n",
       "\t 47                        & newdata                  \\\\\n",
       "\t 48                        & comments                 \\\\\n",
       "\t 49                        & notes.                   \\\\\n",
       "\t 50                          & imaging\\_code             \\\\\n",
       "\t 51                          & perf\\_quant               \\\\\n",
       "\t 52                          & cbv\\_nlin                 \\\\\n",
       "\t 53                          & spec\\_quant               \\\\\n",
       "\t 54                          & include\\_anat             \\\\\n",
       "\t 55                          & include\\_diffu1000        \\\\\n",
       "\t 56                          & include\\_diffu2000        \\\\\n",
       "\t 57                            & include\\_diffu\\_all        \\\\\n",
       "\t 58                          & include\\_perf             \\\\\n",
       "\t 59                          & include\\_spec             \\\\\n",
       "\t 60                              & include\\_one\\_advanced\\_mod \\\\\n",
       "\t 61                              & include\\_all\\_advanced\\_mods\\\\\n",
       "\t 62                        & X.CEL                    \\\\\n",
       "\t 63                        & X.NEL                    \\\\\n",
       "\t 64                        & X.NEC                    \\\\\n",
       "\t 65                        & sum                      \\\\\n",
       "\t 66                          & in\\_CEL                   \\\\\n",
       "\t 67                          & in\\_T2all                 \\\\\n",
       "\t 68                          & in\\_NEL                   \\\\\n",
       "\t 69                          & in\\_NEC                   \\\\\n",
       "\t 70                          & in\\_ROI                   \\\\\n",
       "\t 71                          & desired\\_hist             \\\\\n",
       "\t 72                          & multnom\\_out              \\\\\n",
       "\t 73                          & no\\_ffpe                  \\\\\n",
       "\t 74                            & waiting\\_on\\_path          \\\\\n",
       "\t 75                            & rhgg\\_txe\\_analysis        \\\\\n",
       "\\end{tabular}\n"
      ],
      "text/markdown": [
       "\n",
       "index | colnames | \n",
       "|---|---|---|---|---|---|---|---|---|---|---|---|---|---|---|---|---|---|---|---|---|---|---|---|---|---|---|---|---|---|---|---|---|---|---|---|---|---|---|---|---|---|---|---|---|---|---|---|---|---|---|---|---|---|---|---|---|---|---|---|---|---|---|---|---|---|---|---|---|---|---|---|---|---|---|\n",
       "|  1                        | b_number                  | \n",
       "|  2                        | t_number                  | \n",
       "|  3                        | sf_number                 | \n",
       "|  4                        | current_scan_date         | \n",
       "|  5                        | current_surgery_date      | \n",
       "|  6                        | current_hist_grade        | \n",
       "|  7                        | current_hist_type         | \n",
       "|  8                        | roi.label                 | \n",
       "|  9                        | tumor_cell_evaluation     | \n",
       "| 10                        | necrosis                  | \n",
       "| 11                        | f8_delicate               | \n",
       "| 12                        | f8_simple                 | \n",
       "| 13                        | f8_complex                | \n",
       "| 14                        | mib_1                     | \n",
       "| 15                        | bx_pure_treatment_effect  | \n",
       "| 16                        | nfse                      | \n",
       "| 17                        | nfl                       | \n",
       "| 18                        | nt1c                      | \n",
       "| 19                        | nt1v                      | \n",
       "| 20                        | nt1d                      | \n",
       "| 21                        | nadc.1                    | \n",
       "| 22                        | nfa.1                     | \n",
       "| 23                        | nev1.1                    | \n",
       "| 24                        | nev2.1                    | \n",
       "| 25                        | nev3.1                    | \n",
       "| 26                        | nevrad.1                  | \n",
       "| 27                        | nadc.2                    | \n",
       "| 28                        | nfa.2                     | \n",
       "| 29                        | nev1.2                    | \n",
       "| 30                        | nev2.2                    | \n",
       "| 31                        | nev3.2                    | \n",
       "| 32                        | nevrad.2                  | \n",
       "| 33                        | cbvn_nlin                 | \n",
       "| 34                        | phn_nlin                  | \n",
       "| 35                        | phn_npar                  | \n",
       "| 36                        | recovn_npar               | \n",
       "| 37                        | cni                       | \n",
       "| 38                        | ccri                      | \n",
       "| 39                        | crni                      | \n",
       "| 40                        | ncho                      | \n",
       "| 41                        | ncre                      | \n",
       "| 42                        | nnaa                      | \n",
       "| 43                        | laclip                    | \n",
       "| 44                        | nlip                      | \n",
       "| 45                        | nlac                      | \n",
       "| 46                        | olddata                   | \n",
       "| 47                        | newdata                   | \n",
       "| 48                        | comments                  | \n",
       "| 49                        | notes.                    | \n",
       "| 50                        | imaging_code              | \n",
       "| 51                        | perf_quant                | \n",
       "| 52                        | cbv_nlin                  | \n",
       "| 53                        | spec_quant                | \n",
       "| 54                        | include_anat              | \n",
       "| 55                        | include_diffu1000         | \n",
       "| 56                        | include_diffu2000         | \n",
       "| 57                        | include_diffu_all         | \n",
       "| 58                        | include_perf              | \n",
       "| 59                        | include_spec              | \n",
       "| 60                        | include_one_advanced_mod  | \n",
       "| 61                        | include_all_advanced_mods | \n",
       "| 62                        | X.CEL                     | \n",
       "| 63                        | X.NEL                     | \n",
       "| 64                        | X.NEC                     | \n",
       "| 65                        | sum                       | \n",
       "| 66                        | in_CEL                    | \n",
       "| 67                        | in_T2all                  | \n",
       "| 68                        | in_NEL                    | \n",
       "| 69                        | in_NEC                    | \n",
       "| 70                        | in_ROI                    | \n",
       "| 71                        | desired_hist              | \n",
       "| 72                        | multnom_out               | \n",
       "| 73                        | no_ffpe                   | \n",
       "| 74                        | waiting_on_path           | \n",
       "| 75                        | rhgg_txe_analysis         | \n",
       "\n",
       "\n"
      ],
      "text/plain": [
       "   index colnames                 \n",
       "1   1    b_number                 \n",
       "2   2    t_number                 \n",
       "3   3    sf_number                \n",
       "4   4    current_scan_date        \n",
       "5   5    current_surgery_date     \n",
       "6   6    current_hist_grade       \n",
       "7   7    current_hist_type        \n",
       "8   8    roi.label                \n",
       "9   9    tumor_cell_evaluation    \n",
       "10 10    necrosis                 \n",
       "11 11    f8_delicate              \n",
       "12 12    f8_simple                \n",
       "13 13    f8_complex               \n",
       "14 14    mib_1                    \n",
       "15 15    bx_pure_treatment_effect \n",
       "16 16    nfse                     \n",
       "17 17    nfl                      \n",
       "18 18    nt1c                     \n",
       "19 19    nt1v                     \n",
       "20 20    nt1d                     \n",
       "21 21    nadc.1                   \n",
       "22 22    nfa.1                    \n",
       "23 23    nev1.1                   \n",
       "24 24    nev2.1                   \n",
       "25 25    nev3.1                   \n",
       "26 26    nevrad.1                 \n",
       "27 27    nadc.2                   \n",
       "28 28    nfa.2                    \n",
       "29 29    nev1.2                   \n",
       "30 30    nev2.2                   \n",
       "31 31    nev3.2                   \n",
       "32 32    nevrad.2                 \n",
       "33 33    cbvn_nlin                \n",
       "34 34    phn_nlin                 \n",
       "35 35    phn_npar                 \n",
       "36 36    recovn_npar              \n",
       "37 37    cni                      \n",
       "38 38    ccri                     \n",
       "39 39    crni                     \n",
       "40 40    ncho                     \n",
       "41 41    ncre                     \n",
       "42 42    nnaa                     \n",
       "43 43    laclip                   \n",
       "44 44    nlip                     \n",
       "45 45    nlac                     \n",
       "46 46    olddata                  \n",
       "47 47    newdata                  \n",
       "48 48    comments                 \n",
       "49 49    notes.                   \n",
       "50 50    imaging_code             \n",
       "51 51    perf_quant               \n",
       "52 52    cbv_nlin                 \n",
       "53 53    spec_quant               \n",
       "54 54    include_anat             \n",
       "55 55    include_diffu1000        \n",
       "56 56    include_diffu2000        \n",
       "57 57    include_diffu_all        \n",
       "58 58    include_perf             \n",
       "59 59    include_spec             \n",
       "60 60    include_one_advanced_mod \n",
       "61 61    include_all_advanced_mods\n",
       "62 62    X.CEL                    \n",
       "63 63    X.NEL                    \n",
       "64 64    X.NEC                    \n",
       "65 65    sum                      \n",
       "66 66    in_CEL                   \n",
       "67 67    in_T2all                 \n",
       "68 68    in_NEL                   \n",
       "69 69    in_NEC                   \n",
       "70 70    in_ROI                   \n",
       "71 71    desired_hist             \n",
       "72 72    multnom_out              \n",
       "73 73    no_ffpe                  \n",
       "74 74    waiting_on_path          \n",
       "75 75    rhgg_txe_analysis        "
      ]
     },
     "metadata": {},
     "output_type": "display_data"
    }
   ],
   "source": [
    "## use this data frame to index the columns: \n",
    "data.frame(index = 1:length(colnames(recgli)), colnames = colnames(recgli))"
   ]
  },
  {
   "cell_type": "code",
   "execution_count": 102,
   "metadata": {
    "collapsed": true,
    "deletable": true,
    "editable": true
   },
   "outputs": [],
   "source": [
    "## let's label the features by group: \n",
    "anat_fts = colnames(recgli)[16:19]\n",
    "anat_d_fts = colnames(recgli)[16:20]\n",
    "anat_roi_fts = colnames(recgli)[c(66:70)]\n",
    "diffu1000_fts = colnames(recgli)[21:26]\n",
    "perf_fts = colnames(recgli)[33:36]\n",
    "spec_fts = colnames(recgli)[37:43]\n",
    "study_fts = colnames(recgli)[46]"
   ]
  },
  {
   "cell_type": "code",
   "execution_count": 10,
   "metadata": {
    "collapsed": false,
    "deletable": true,
    "editable": true
   },
   "outputs": [
    {
     "data": {
      "text/plain": [
       "\n",
       "      0   1   2   3 Ind \n",
       "  0  21  17  29  31   6 "
      ]
     },
     "metadata": {},
     "output_type": "display_data"
    }
   ],
   "source": [
    "## look at the distribution of the outcome: \n",
    "table(recgli$tumor_cell_evaluation)"
   ]
  },
  {
   "cell_type": "code",
   "execution_count": 11,
   "metadata": {
    "collapsed": false,
    "deletable": true,
    "editable": true
   },
   "outputs": [
    {
     "data": {
      "text/html": [
       "<ol class=list-inline>\n",
       "\t<li>98</li>\n",
       "\t<li>75</li>\n",
       "</ol>\n"
      ],
      "text/latex": [
       "\\begin{enumerate*}\n",
       "\\item 98\n",
       "\\item 75\n",
       "\\end{enumerate*}\n"
      ],
      "text/markdown": [
       "1. 98\n",
       "2. 75\n",
       "\n",
       "\n"
      ],
      "text/plain": [
       "[1] 98 75"
      ]
     },
     "metadata": {},
     "output_type": "display_data"
    }
   ],
   "source": [
    "## remove those with \"indeterminable\" outcome: \n",
    "recgli = recgli[which(recgli$tumor_cell_evaluation != \"Ind\"),]\n",
    "recgli = droplevels.data.frame(recgli)\n",
    "dim(recgli)"
   ]
  },
  {
   "cell_type": "code",
   "execution_count": 12,
   "metadata": {
    "collapsed": false,
    "deletable": true,
    "editable": true
   },
   "outputs": [
    {
     "data": {
      "text/plain": [
       "\n",
       " 0  1  2  3 \n",
       "21 17 29 31 "
      ]
     },
     "metadata": {},
     "output_type": "display_data"
    }
   ],
   "source": [
    "## look at the distribution of the outcome again: \n",
    "table(recgli$tumor_cell_evaluation)"
   ]
  },
  {
   "cell_type": "code",
   "execution_count": 13,
   "metadata": {
    "collapsed": false,
    "deletable": true,
    "editable": true
   },
   "outputs": [
    {
     "data": {
      "text/html": [
       "59"
      ],
      "text/latex": [
       "59"
      ],
      "text/markdown": [
       "59"
      ],
      "text/plain": [
       "[1] 59"
      ]
     },
     "metadata": {},
     "output_type": "display_data"
    }
   ],
   "source": [
    "## here we have a fairly even split among all of these; this might work out in a random split with no stratification \n",
    "## we still need to split by patient though. \n",
    "unique_tnums = unique(recgli$t_number)\n",
    "length(unique_tnums)"
   ]
  },
  {
   "cell_type": "markdown",
   "metadata": {},
   "source": [
    "## Split the data by patient while making sure there is an even distribution of tumor scores in both training and testing: "
   ]
  },
  {
   "cell_type": "code",
   "execution_count": 14,
   "metadata": {
    "collapsed": false,
    "deletable": true,
    "editable": true
   },
   "outputs": [],
   "source": [
    "## do an 75/25 patient split: \n",
    "set.seed(4)\n",
    "train_tnums = unique_tnums[sample(c(1:length(unique_tnums)), size = round(length(unique_tnums)*.75))]\n",
    "test_tnums = unique_tnums[! unique_tnums %in% train_tnums]"
   ]
  },
  {
   "cell_type": "code",
   "execution_count": 15,
   "metadata": {
    "collapsed": false,
    "deletable": true,
    "editable": true
   },
   "outputs": [
    {
     "data": {
      "text/html": [
       "<ol class=list-inline>\n",
       "\t<li>72</li>\n",
       "\t<li>75</li>\n",
       "</ol>\n"
      ],
      "text/latex": [
       "\\begin{enumerate*}\n",
       "\\item 72\n",
       "\\item 75\n",
       "\\end{enumerate*}\n"
      ],
      "text/markdown": [
       "1. 72\n",
       "2. 75\n",
       "\n",
       "\n"
      ],
      "text/plain": [
       "[1] 72 75"
      ]
     },
     "metadata": {},
     "output_type": "display_data"
    },
    {
     "data": {
      "text/html": [
       "<ol class=list-inline>\n",
       "\t<li>26</li>\n",
       "\t<li>75</li>\n",
       "</ol>\n"
      ],
      "text/latex": [
       "\\begin{enumerate*}\n",
       "\\item 26\n",
       "\\item 75\n",
       "\\end{enumerate*}\n"
      ],
      "text/markdown": [
       "1. 26\n",
       "2. 75\n",
       "\n",
       "\n"
      ],
      "text/plain": [
       "[1] 26 75"
      ]
     },
     "metadata": {},
     "output_type": "display_data"
    }
   ],
   "source": [
    "## split data by patient split above: \n",
    "recgli_train= recgli[recgli$t_number %in% train_tnums, ]\n",
    "dim(recgli_train)\n",
    "recgli_test= recgli[recgli$t_number %in% test_tnums, ]\n",
    "dim(recgli_test)"
   ]
  },
  {
   "cell_type": "code",
   "execution_count": 16,
   "metadata": {
    "collapsed": false,
    "deletable": true,
    "editable": true
   },
   "outputs": [
    {
     "data": {
      "text/plain": [
       "\n",
       " 0  1  2  3 \n",
       "16 12 20 24 "
      ]
     },
     "metadata": {},
     "output_type": "display_data"
    },
    {
     "data": {
      "text/plain": [
       "\n",
       "0 1 2 3 \n",
       "5 5 9 7 "
      ]
     },
     "metadata": {},
     "output_type": "display_data"
    }
   ],
   "source": [
    "## make sure that the balance of outcome is good: \n",
    "table(recgli_train$tumor_cell_evaluation)\n",
    "table(recgli_test$tumor_cell_evaluation)\n",
    "## looks alright."
   ]
  },
  {
   "cell_type": "markdown",
   "metadata": {},
   "source": [
    "## Create template for outcome of experiments: "
   ]
  },
  {
   "cell_type": "code",
   "execution_count": 78,
   "metadata": {
    "collapsed": false,
    "deletable": true,
    "editable": true
   },
   "outputs": [],
   "source": [
    "## let's extract confusion matrix and put that in a data frame: \n",
    "outcome_experiment_template = data.frame(expnum = NA,\n",
    "                                        node_size = NA,\n",
    "                                        mtry = NA,\n",
    "                                        tr_out0_pred0 = NA, \n",
    "                                        tr_out0_pred1 = NA, \n",
    "                                        tr_out0_pred2 = NA, \n",
    "                                        tr_out0_pred3 = NA, \n",
    "                                        tr_out1_pred0 = NA, \n",
    "                                        tr_out1_pred1 = NA, \n",
    "                                        tr_out1_pred2 = NA, \n",
    "                                        tr_out1_pred3 = NA, \n",
    "                                        tr_out2_pred0 = NA, \n",
    "                                        tr_out2_pred1 = NA, \n",
    "                                        tr_out2_pred2 = NA, \n",
    "                                        tr_out2_pred3 = NA, \n",
    "                                        tr_out3_pred0 = NA, \n",
    "                                        tr_out3_pred1 = NA, \n",
    "                                        tr_out3_pred2 = NA, \n",
    "                                        tr_out3_pred3 = NA, \n",
    "                                        tr_out0_classerror = NA, \n",
    "                                        tr_out1_classerror = NA, \n",
    "                                        tr_out2_classerror = NA, \n",
    "                                        tr_out3_classerror = NA, \n",
    "                                        cv_out0_pred0 = NA, \n",
    "                                        cv_out0_pred1 = NA, \n",
    "                                        cv_out0_pred2 = NA, \n",
    "                                        cv_out0_pred3 = NA, \n",
    "                                        cv_out1_pred0 = NA, \n",
    "                                        cv_out1_pred1 = NA, \n",
    "                                        cv_out1_pred2 = NA, \n",
    "                                        cv_out1_pred3 = NA, \n",
    "                                        cv_out2_pred0 = NA, \n",
    "                                        cv_out2_pred1 = NA, \n",
    "                                        cv_out2_pred2 = NA, \n",
    "                                        cv_out2_pred3 = NA, \n",
    "                                        cv_out3_pred0 = NA, \n",
    "                                        cv_out3_pred1 = NA, \n",
    "                                        cv_out3_pred2 = NA, \n",
    "                                        cv_out3_pred3 = NA)"
   ]
  },
  {
   "cell_type": "markdown",
   "metadata": {},
   "source": [
    "## Experiment Set 1 - Only anatomical features: "
   ]
  },
  {
   "cell_type": "code",
   "execution_count": 79,
   "metadata": {
    "collapsed": true
   },
   "outputs": [],
   "source": [
    "outcome_anat_experiment = outcome_experiment_template"
   ]
  },
  {
   "cell_type": "code",
   "execution_count": 73,
   "metadata": {
    "collapsed": false
   },
   "outputs": [],
   "source": [
    "rf = randomForest(tumor_cell_evaluation ~ nfse+nt1c+nt1v+nfl, data = recgli_train)\n",
    "preds = predict(rf, recgli_test)"
   ]
  },
  {
   "cell_type": "code",
   "execution_count": 74,
   "metadata": {
    "collapsed": false
   },
   "outputs": [
    {
     "data": {
      "text/plain": [
       "          Reference\n",
       "Prediction 0 1 2 3\n",
       "         0 1 0 1 0\n",
       "         1 2 2 1 3\n",
       "         2 1 0 2 0\n",
       "         3 1 3 5 4"
      ]
     },
     "metadata": {},
     "output_type": "display_data"
    },
    {
     "data": {
      "text/html": [
       "1"
      ],
      "text/latex": [
       "1"
      ],
      "text/markdown": [
       "1"
      ],
      "text/plain": [
       "[1] 1"
      ]
     },
     "metadata": {},
     "output_type": "display_data"
    }
   ],
   "source": [
    "conf_mat = confusionMatrix(preds, recgli_test$tumor_cell_evaluation)\n",
    "conf_mat$table\n",
    "conf_mat$table[\"0\", \"2\"]"
   ]
  },
  {
   "cell_type": "markdown",
   "metadata": {},
   "source": [
    "### a. first experiment: use nfse, nt1c, nt1v, nfl"
   ]
  },
  {
   "cell_type": "code",
   "execution_count": 80,
   "metadata": {
    "collapsed": false,
    "deletable": true,
    "editable": true
   },
   "outputs": [],
   "source": [
    "## let's begin by running experiments for anatomic features only: \n",
    "## for each experiment, we'll run the random forest with a variety of parameters \n",
    "expnum = 1\n",
    "for (i in 1:100){\n",
    "    set.seed(i)\n",
    "    \n",
    "    ## define features and outcome: \n",
    "    outcome = \"tumor_cell_evaluation\"\n",
    "    features.addsign <- paste(anat_fts, collapse = \"+\")\n",
    "    rf_formula = as.formula(paste(outcome, features.addsign, sep = \"~\"))\n",
    "    \n",
    "    ## define training and testing (from the training) basically for x-val: \n",
    "    uniqute_tnums = unique(recgli_train$t_number)\n",
    "    train_tnums = unique_tnums[sample(c(1:length(unique_tnums)), size = round(length(unique_tnums)*.75))]\n",
    "    test_tnums = unique_tnums[! unique_tnums %in% train_tnums]\n",
    "    \n",
    "    recgli_exp_train= recgli_train[recgli_train$t_number %in% train_tnums, ]\n",
    "    recgli_exp_cv = recgli_train[! recgli_train$t_number %in% train_tnums, ]\n",
    "    \n",
    "    for (nodesize in c(1, 2, 3)){\n",
    "        for (mtry in c(2, 3, 4)){\n",
    "            rf = randomForest(formula = rf_formula, \n",
    "                 data = recgli_exp_train, nodesize = nodesize, mtry = mtry)\n",
    "            \n",
    "            cv_preds = predict(rf, recgli_exp_cv)\n",
    "            \n",
    "            cv_conf_mat = confusionMatrix(cv_preds, recgli_exp_cv$tumor_cell_evaluation)\n",
    "            \n",
    "            outcome_anat_experiment[expnum,'expnum'] = expnum\n",
    "            outcome_anat_experiment[expnum,'node_size'] = nodesize\n",
    "            outcome_anat_experiment[expnum,'mtry'] = mtry\n",
    "            outcome_anat_experiment[expnum,'tr_out0_pred0'] = rf$confusion['0', '0']\n",
    "            outcome_anat_experiment[expnum,'tr_out0_pred1'] = rf$confusion['0', '1']\n",
    "            outcome_anat_experiment[expnum,'tr_out0_pred2'] = rf$confusion['0', '2']\n",
    "            outcome_anat_experiment[expnum,'tr_out0_pred3'] = rf$confusion['0', '3']\n",
    "            outcome_anat_experiment[expnum,'tr_out1_pred0'] = rf$confusion['1', '0']\n",
    "            outcome_anat_experiment[expnum,'tr_out1_pred1'] = rf$confusion['1', '1']\n",
    "            outcome_anat_experiment[expnum,'tr_out1_pred2'] = rf$confusion['1', '2']\n",
    "            outcome_anat_experiment[expnum,'tr_out1_pred3'] = rf$confusion['1', '3']\n",
    "            outcome_anat_experiment[expnum,'tr_out2_pred0'] = rf$confusion['2', '0']\n",
    "            outcome_anat_experiment[expnum,'tr_out2_pred1'] = rf$confusion['2', '1']\n",
    "            outcome_anat_experiment[expnum,'tr_out2_pred2'] = rf$confusion['2', '2']\n",
    "            outcome_anat_experiment[expnum,'tr_out2_pred3'] = rf$confusion['2', '3']\n",
    "            outcome_anat_experiment[expnum,'tr_out3_pred0'] = rf$confusion['3', '0']\n",
    "            outcome_anat_experiment[expnum,'tr_out3_pred1'] = rf$confusion['3', '1']\n",
    "            outcome_anat_experiment[expnum,'tr_out3_pred2'] = rf$confusion['3', '2']\n",
    "            outcome_anat_experiment[expnum,'tr_out3_pred3'] = rf$confusion['3', '3']\n",
    "            outcome_anat_experiment[expnum,'tr_out0_classerror'] = rf$confusion[\"0\", 'class.error']\n",
    "            outcome_anat_experiment[expnum,'tr_out1_classerror'] = rf$confusion[\"1\", 'class.error']\n",
    "            outcome_anat_experiment[expnum,'tr_out2_classerror'] = rf$confusion[\"2\", 'class.error']\n",
    "            outcome_anat_experiment[expnum,'tr_out3_classerror'] = rf$confusion[\"3\", 'class.error']\n",
    "            \n",
    "            outcome_anat_experiment[expnum,'cv_out0_pred0'] = cv_conf_mat$table['0', '0']\n",
    "            outcome_anat_experiment[expnum,'cv_out0_pred1'] = cv_conf_mat$table['1', '0']\n",
    "            outcome_anat_experiment[expnum,'cv_out0_pred2'] = cv_conf_mat$table['2', '0']\n",
    "            outcome_anat_experiment[expnum,'cv_out0_pred3'] = cv_conf_mat$table['3', '0']\n",
    "            outcome_anat_experiment[expnum,'cv_out1_pred0'] = cv_conf_mat$table['0', '1']\n",
    "            outcome_anat_experiment[expnum,'cv_out1_pred1'] = cv_conf_mat$table['1', '1']\n",
    "            outcome_anat_experiment[expnum,'cv_out1_pred2'] = cv_conf_mat$table['2', '1']\n",
    "            outcome_anat_experiment[expnum,'cv_out1_pred3'] = cv_conf_mat$table['3', '1']\n",
    "            outcome_anat_experiment[expnum,'cv_out2_pred0'] = cv_conf_mat$table['0', '2']\n",
    "            outcome_anat_experiment[expnum,'cv_out2_pred1'] = cv_conf_mat$table['1', '2']\n",
    "            outcome_anat_experiment[expnum,'cv_out2_pred2'] = cv_conf_mat$table['2', '2']\n",
    "            outcome_anat_experiment[expnum,'cv_out2_pred3'] = cv_conf_mat$table['3', '2']\n",
    "            outcome_anat_experiment[expnum,'cv_out3_pred0'] = cv_conf_mat$table['0', '3']\n",
    "            outcome_anat_experiment[expnum,'cv_out3_pred1'] = cv_conf_mat$table['1', '3']\n",
    "            outcome_anat_experiment[expnum,'cv_out3_pred2'] = cv_conf_mat$table['2', '3']\n",
    "            outcome_anat_experiment[expnum,'cv_out3_pred3'] = cv_conf_mat$table['3', '3']\n",
    "            \n",
    "            expnum = expnum + 1\n",
    "        }\n",
    "    }\n",
    "}"
   ]
  },
  {
   "cell_type": "code",
   "execution_count": 81,
   "metadata": {
    "collapsed": true
   },
   "outputs": [],
   "source": [
    "outcome_anat_experiment1 = outcome_anat_experiment"
   ]
  },
  {
   "cell_type": "code",
   "execution_count": 82,
   "metadata": {
    "collapsed": false
   },
   "outputs": [
    {
     "data": {
      "text/html": [
       "<table>\n",
       "<thead><tr><th scope=col>expnum</th><th scope=col>node_size</th><th scope=col>mtry</th><th scope=col>tr_out0_pred0</th><th scope=col>tr_out0_pred1</th><th scope=col>tr_out0_pred2</th><th scope=col>tr_out0_pred3</th><th scope=col>tr_out1_pred0</th><th scope=col>tr_out1_pred1</th><th scope=col>tr_out1_pred2</th><th scope=col>tr_out1_pred3</th><th scope=col>tr_out2_pred0</th><th scope=col>tr_out2_pred1</th><th scope=col>tr_out2_pred2</th><th scope=col>tr_out2_pred3</th><th scope=col>tr_out3_pred0</th><th scope=col>tr_out3_pred1</th><th scope=col>tr_out3_pred2</th><th scope=col>tr_out3_pred3</th><th scope=col>tr_out0_classerror</th><th scope=col>tr_out1_classerror</th><th scope=col>tr_out2_classerror</th><th scope=col>tr_out3_classerror</th><th scope=col>cv_out0_pred0</th><th scope=col>cv_out0_pred1</th><th scope=col>cv_out0_pred2</th><th scope=col>cv_out0_pred3</th><th scope=col>cv_out1_pred0</th><th scope=col>cv_out1_pred1</th><th scope=col>cv_out1_pred2</th><th scope=col>cv_out1_pred3</th><th scope=col>cv_out2_pred0</th><th scope=col>cv_out2_pred1</th><th scope=col>cv_out2_pred2</th><th scope=col>cv_out2_pred3</th><th scope=col>cv_out3_pred0</th><th scope=col>cv_out3_pred1</th><th scope=col>cv_out3_pred2</th><th scope=col>cv_out3_pred3</th></tr></thead>\n",
       "<tbody>\n",
       "\t<tr><td>1        </td><td>1        </td><td>2        </td><td>8        </td><td>1        </td><td>3        </td><td>4        </td><td>4        </td><td>0        </td><td>3        </td><td>1        </td><td>2        </td><td>3        </td><td>5        </td><td>7        </td><td>6        </td><td>1        </td><td>5        </td><td>4        </td><td>0.5000   </td><td>1        </td><td>0.7058824</td><td>0.7500   </td><td>0        </td><td>0        </td><td>0        </td><td>0        </td><td>3        </td><td>0        </td><td>0        </td><td>1        </td><td>1        </td><td>1        </td><td>1        </td><td>0        </td><td>3        </td><td>1        </td><td>1        </td><td>3        </td></tr>\n",
       "\t<tr><td>2        </td><td>1        </td><td>3        </td><td>6        </td><td>0        </td><td>4        </td><td>6        </td><td>3        </td><td>0        </td><td>4        </td><td>1        </td><td>3        </td><td>2        </td><td>5        </td><td>7        </td><td>6        </td><td>1        </td><td>5        </td><td>4        </td><td>0.6250   </td><td>1        </td><td>0.7058824</td><td>0.7500   </td><td>0        </td><td>0        </td><td>0        </td><td>0        </td><td>2        </td><td>1        </td><td>0        </td><td>1        </td><td>1        </td><td>1        </td><td>1        </td><td>0        </td><td>3        </td><td>1        </td><td>1        </td><td>3        </td></tr>\n",
       "\t<tr><td>3        </td><td>1        </td><td>4        </td><td>6        </td><td>1        </td><td>5        </td><td>4        </td><td>3        </td><td>0        </td><td>4        </td><td>1        </td><td>2        </td><td>2        </td><td>6        </td><td>7        </td><td>6        </td><td>1        </td><td>5        </td><td>4        </td><td>0.6250   </td><td>1        </td><td>0.6470588</td><td>0.7500   </td><td>0        </td><td>0        </td><td>0        </td><td>0        </td><td>2        </td><td>1        </td><td>0        </td><td>1        </td><td>1        </td><td>1        </td><td>1        </td><td>0        </td><td>3        </td><td>1        </td><td>1        </td><td>3        </td></tr>\n",
       "\t<tr><td>4        </td><td>2        </td><td>2        </td><td>7        </td><td>1        </td><td>4        </td><td>4        </td><td>4        </td><td>0        </td><td>3        </td><td>1        </td><td>3        </td><td>2        </td><td>6        </td><td>6        </td><td>6        </td><td>1        </td><td>5        </td><td>4        </td><td>0.5625   </td><td>1        </td><td>0.6470588</td><td>0.7500   </td><td>0        </td><td>0        </td><td>0        </td><td>0        </td><td>2        </td><td>1        </td><td>0        </td><td>1        </td><td>1        </td><td>1        </td><td>1        </td><td>0        </td><td>3        </td><td>1        </td><td>1        </td><td>3        </td></tr>\n",
       "\t<tr><td>5        </td><td>2        </td><td>3        </td><td>7        </td><td>1        </td><td>3        </td><td>5        </td><td>3        </td><td>0        </td><td>4        </td><td>1        </td><td>2        </td><td>2        </td><td>7        </td><td>6        </td><td>5        </td><td>1        </td><td>6        </td><td>4        </td><td>0.5625   </td><td>1        </td><td>0.5882353</td><td>0.7500   </td><td>0        </td><td>0        </td><td>0        </td><td>0        </td><td>1        </td><td>1        </td><td>0        </td><td>2        </td><td>1        </td><td>1        </td><td>1        </td><td>0        </td><td>3        </td><td>1        </td><td>1        </td><td>3        </td></tr>\n",
       "\t<tr><td>6        </td><td>2        </td><td>4        </td><td>7        </td><td>1        </td><td>4        </td><td>4        </td><td>4        </td><td>0        </td><td>3        </td><td>1        </td><td>2        </td><td>2        </td><td>7        </td><td>6        </td><td>6        </td><td>1        </td><td>4        </td><td>5        </td><td>0.5625   </td><td>1        </td><td>0.5882353</td><td>0.6875   </td><td>0        </td><td>0        </td><td>0        </td><td>0        </td><td>2        </td><td>1        </td><td>0        </td><td>1        </td><td>1        </td><td>1        </td><td>1        </td><td>0        </td><td>3        </td><td>1        </td><td>1        </td><td>3        </td></tr>\n",
       "</tbody>\n",
       "</table>\n"
      ],
      "text/latex": [
       "\\begin{tabular}{r|lllllllllllllllllllllllllllllllllllllll}\n",
       " expnum & node\\_size & mtry & tr\\_out0\\_pred0 & tr\\_out0\\_pred1 & tr\\_out0\\_pred2 & tr\\_out0\\_pred3 & tr\\_out1\\_pred0 & tr\\_out1\\_pred1 & tr\\_out1\\_pred2 & tr\\_out1\\_pred3 & tr\\_out2\\_pred0 & tr\\_out2\\_pred1 & tr\\_out2\\_pred2 & tr\\_out2\\_pred3 & tr\\_out3\\_pred0 & tr\\_out3\\_pred1 & tr\\_out3\\_pred2 & tr\\_out3\\_pred3 & tr\\_out0\\_classerror & tr\\_out1\\_classerror & tr\\_out2\\_classerror & tr\\_out3\\_classerror & cv\\_out0\\_pred0 & cv\\_out0\\_pred1 & cv\\_out0\\_pred2 & cv\\_out0\\_pred3 & cv\\_out1\\_pred0 & cv\\_out1\\_pred1 & cv\\_out1\\_pred2 & cv\\_out1\\_pred3 & cv\\_out2\\_pred0 & cv\\_out2\\_pred1 & cv\\_out2\\_pred2 & cv\\_out2\\_pred3 & cv\\_out3\\_pred0 & cv\\_out3\\_pred1 & cv\\_out3\\_pred2 & cv\\_out3\\_pred3\\\\\n",
       "\\hline\n",
       "\t 1         & 1         & 2         & 8         & 1         & 3         & 4         & 4         & 0         & 3         & 1         & 2         & 3         & 5         & 7         & 6         & 1         & 5         & 4         & 0.5000    & 1         & 0.7058824 & 0.7500    & 0         & 0         & 0         & 0         & 3         & 0         & 0         & 1         & 1         & 1         & 1         & 0         & 3         & 1         & 1         & 3        \\\\\n",
       "\t 2         & 1         & 3         & 6         & 0         & 4         & 6         & 3         & 0         & 4         & 1         & 3         & 2         & 5         & 7         & 6         & 1         & 5         & 4         & 0.6250    & 1         & 0.7058824 & 0.7500    & 0         & 0         & 0         & 0         & 2         & 1         & 0         & 1         & 1         & 1         & 1         & 0         & 3         & 1         & 1         & 3        \\\\\n",
       "\t 3         & 1         & 4         & 6         & 1         & 5         & 4         & 3         & 0         & 4         & 1         & 2         & 2         & 6         & 7         & 6         & 1         & 5         & 4         & 0.6250    & 1         & 0.6470588 & 0.7500    & 0         & 0         & 0         & 0         & 2         & 1         & 0         & 1         & 1         & 1         & 1         & 0         & 3         & 1         & 1         & 3        \\\\\n",
       "\t 4         & 2         & 2         & 7         & 1         & 4         & 4         & 4         & 0         & 3         & 1         & 3         & 2         & 6         & 6         & 6         & 1         & 5         & 4         & 0.5625    & 1         & 0.6470588 & 0.7500    & 0         & 0         & 0         & 0         & 2         & 1         & 0         & 1         & 1         & 1         & 1         & 0         & 3         & 1         & 1         & 3        \\\\\n",
       "\t 5         & 2         & 3         & 7         & 1         & 3         & 5         & 3         & 0         & 4         & 1         & 2         & 2         & 7         & 6         & 5         & 1         & 6         & 4         & 0.5625    & 1         & 0.5882353 & 0.7500    & 0         & 0         & 0         & 0         & 1         & 1         & 0         & 2         & 1         & 1         & 1         & 0         & 3         & 1         & 1         & 3        \\\\\n",
       "\t 6         & 2         & 4         & 7         & 1         & 4         & 4         & 4         & 0         & 3         & 1         & 2         & 2         & 7         & 6         & 6         & 1         & 4         & 5         & 0.5625    & 1         & 0.5882353 & 0.6875    & 0         & 0         & 0         & 0         & 2         & 1         & 0         & 1         & 1         & 1         & 1         & 0         & 3         & 1         & 1         & 3        \\\\\n",
       "\\end{tabular}\n"
      ],
      "text/markdown": [
       "\n",
       "expnum | node_size | mtry | tr_out0_pred0 | tr_out0_pred1 | tr_out0_pred2 | tr_out0_pred3 | tr_out1_pred0 | tr_out1_pred1 | tr_out1_pred2 | tr_out1_pred3 | tr_out2_pred0 | tr_out2_pred1 | tr_out2_pred2 | tr_out2_pred3 | tr_out3_pred0 | tr_out3_pred1 | tr_out3_pred2 | tr_out3_pred3 | tr_out0_classerror | tr_out1_classerror | tr_out2_classerror | tr_out3_classerror | cv_out0_pred0 | cv_out0_pred1 | cv_out0_pred2 | cv_out0_pred3 | cv_out1_pred0 | cv_out1_pred1 | cv_out1_pred2 | cv_out1_pred3 | cv_out2_pred0 | cv_out2_pred1 | cv_out2_pred2 | cv_out2_pred3 | cv_out3_pred0 | cv_out3_pred1 | cv_out3_pred2 | cv_out3_pred3 | \n",
       "|---|---|---|---|---|---|\n",
       "| 1         | 1         | 2         | 8         | 1         | 3         | 4         | 4         | 0         | 3         | 1         | 2         | 3         | 5         | 7         | 6         | 1         | 5         | 4         | 0.5000    | 1         | 0.7058824 | 0.7500    | 0         | 0         | 0         | 0         | 3         | 0         | 0         | 1         | 1         | 1         | 1         | 0         | 3         | 1         | 1         | 3         | \n",
       "| 2         | 1         | 3         | 6         | 0         | 4         | 6         | 3         | 0         | 4         | 1         | 3         | 2         | 5         | 7         | 6         | 1         | 5         | 4         | 0.6250    | 1         | 0.7058824 | 0.7500    | 0         | 0         | 0         | 0         | 2         | 1         | 0         | 1         | 1         | 1         | 1         | 0         | 3         | 1         | 1         | 3         | \n",
       "| 3         | 1         | 4         | 6         | 1         | 5         | 4         | 3         | 0         | 4         | 1         | 2         | 2         | 6         | 7         | 6         | 1         | 5         | 4         | 0.6250    | 1         | 0.6470588 | 0.7500    | 0         | 0         | 0         | 0         | 2         | 1         | 0         | 1         | 1         | 1         | 1         | 0         | 3         | 1         | 1         | 3         | \n",
       "| 4         | 2         | 2         | 7         | 1         | 4         | 4         | 4         | 0         | 3         | 1         | 3         | 2         | 6         | 6         | 6         | 1         | 5         | 4         | 0.5625    | 1         | 0.6470588 | 0.7500    | 0         | 0         | 0         | 0         | 2         | 1         | 0         | 1         | 1         | 1         | 1         | 0         | 3         | 1         | 1         | 3         | \n",
       "| 5         | 2         | 3         | 7         | 1         | 3         | 5         | 3         | 0         | 4         | 1         | 2         | 2         | 7         | 6         | 5         | 1         | 6         | 4         | 0.5625    | 1         | 0.5882353 | 0.7500    | 0         | 0         | 0         | 0         | 1         | 1         | 0         | 2         | 1         | 1         | 1         | 0         | 3         | 1         | 1         | 3         | \n",
       "| 6         | 2         | 4         | 7         | 1         | 4         | 4         | 4         | 0         | 3         | 1         | 2         | 2         | 7         | 6         | 6         | 1         | 4         | 5         | 0.5625    | 1         | 0.5882353 | 0.6875    | 0         | 0         | 0         | 0         | 2         | 1         | 0         | 1         | 1         | 1         | 1         | 0         | 3         | 1         | 1         | 3         | \n",
       "\n",
       "\n"
      ],
      "text/plain": [
       "  expnum node_size mtry tr_out0_pred0 tr_out0_pred1 tr_out0_pred2 tr_out0_pred3\n",
       "1 1      1         2    8             1             3             4            \n",
       "2 2      1         3    6             0             4             6            \n",
       "3 3      1         4    6             1             5             4            \n",
       "4 4      2         2    7             1             4             4            \n",
       "5 5      2         3    7             1             3             5            \n",
       "6 6      2         4    7             1             4             4            \n",
       "  tr_out1_pred0 tr_out1_pred1 tr_out1_pred2 tr_out1_pred3 tr_out2_pred0\n",
       "1 4             0             3             1             2            \n",
       "2 3             0             4             1             3            \n",
       "3 3             0             4             1             2            \n",
       "4 4             0             3             1             3            \n",
       "5 3             0             4             1             2            \n",
       "6 4             0             3             1             2            \n",
       "  tr_out2_pred1 tr_out2_pred2 tr_out2_pred3 tr_out3_pred0 tr_out3_pred1\n",
       "1 3             5             7             6             1            \n",
       "2 2             5             7             6             1            \n",
       "3 2             6             7             6             1            \n",
       "4 2             6             6             6             1            \n",
       "5 2             7             6             5             1            \n",
       "6 2             7             6             6             1            \n",
       "  tr_out3_pred2 tr_out3_pred3 tr_out0_classerror tr_out1_classerror\n",
       "1 5             4             0.5000             1                 \n",
       "2 5             4             0.6250             1                 \n",
       "3 5             4             0.6250             1                 \n",
       "4 5             4             0.5625             1                 \n",
       "5 6             4             0.5625             1                 \n",
       "6 4             5             0.5625             1                 \n",
       "  tr_out2_classerror tr_out3_classerror cv_out0_pred0 cv_out0_pred1\n",
       "1 0.7058824          0.7500             0             0            \n",
       "2 0.7058824          0.7500             0             0            \n",
       "3 0.6470588          0.7500             0             0            \n",
       "4 0.6470588          0.7500             0             0            \n",
       "5 0.5882353          0.7500             0             0            \n",
       "6 0.5882353          0.6875             0             0            \n",
       "  cv_out0_pred2 cv_out0_pred3 cv_out1_pred0 cv_out1_pred1 cv_out1_pred2\n",
       "1 0             0             3             0             0            \n",
       "2 0             0             2             1             0            \n",
       "3 0             0             2             1             0            \n",
       "4 0             0             2             1             0            \n",
       "5 0             0             1             1             0            \n",
       "6 0             0             2             1             0            \n",
       "  cv_out1_pred3 cv_out2_pred0 cv_out2_pred1 cv_out2_pred2 cv_out2_pred3\n",
       "1 1             1             1             1             0            \n",
       "2 1             1             1             1             0            \n",
       "3 1             1             1             1             0            \n",
       "4 1             1             1             1             0            \n",
       "5 2             1             1             1             0            \n",
       "6 1             1             1             1             0            \n",
       "  cv_out3_pred0 cv_out3_pred1 cv_out3_pred2 cv_out3_pred3\n",
       "1 3             1             1             3            \n",
       "2 3             1             1             3            \n",
       "3 3             1             1             3            \n",
       "4 3             1             1             3            \n",
       "5 3             1             1             3            \n",
       "6 3             1             1             3            "
      ]
     },
     "metadata": {},
     "output_type": "display_data"
    }
   ],
   "source": [
    "head(outcome_anat_experiment1)"
   ]
  },
  {
   "cell_type": "code",
   "execution_count": 83,
   "metadata": {
    "collapsed": false,
    "deletable": true,
    "editable": true
   },
   "outputs": [
    {
     "data": {
      "text/plain": [
       "     expnum        node_size      mtry   tr_out0_pred0   tr_out0_pred1  \n",
       " Min.   :  1.0   Min.   :1   Min.   :2   Min.   :0.000   Min.   :0.000  \n",
       " 1st Qu.:225.8   1st Qu.:1   1st Qu.:2   1st Qu.:2.000   1st Qu.:1.000  \n",
       " Median :450.5   Median :2   Median :3   Median :4.000   Median :1.000  \n",
       " Mean   :450.5   Mean   :2   Mean   :3   Mean   :3.641   Mean   :1.371  \n",
       " 3rd Qu.:675.2   3rd Qu.:3   3rd Qu.:4   3rd Qu.:5.000   3rd Qu.:2.000  \n",
       " Max.   :900.0   Max.   :3   Max.   :4   Max.   :8.000   Max.   :4.000  \n",
       " tr_out0_pred2   tr_out0_pred3   tr_out1_pred0   tr_out1_pred1   \n",
       " Min.   :0.000   Min.   :1.000   Min.   :0.000   Min.   :0.0000  \n",
       " 1st Qu.:2.000   1st Qu.:3.000   1st Qu.:1.000   1st Qu.:0.0000  \n",
       " Median :3.000   Median :4.000   Median :1.000   Median :0.0000  \n",
       " Mean   :2.984   Mean   :3.933   Mean   :1.323   Mean   :0.7244  \n",
       " 3rd Qu.:4.000   3rd Qu.:5.000   3rd Qu.:2.000   3rd Qu.:1.0000  \n",
       " Max.   :7.000   Max.   :8.000   Max.   :5.000   Max.   :5.0000  \n",
       " tr_out1_pred2   tr_out1_pred3   tr_out2_pred0 tr_out2_pred1   tr_out2_pred2   \n",
       " Min.   :0.000   Min.   :1.000   Min.   :0     Min.   :0.000   Min.   : 0.000  \n",
       " 1st Qu.:2.000   1st Qu.:4.000   1st Qu.:1     1st Qu.:1.000   1st Qu.: 3.000  \n",
       " Median :2.000   Median :5.000   Median :2     Median :2.000   Median : 5.000  \n",
       " Mean   :2.321   Mean   :4.681   Mean   :2     Mean   :2.268   Mean   : 4.637  \n",
       " 3rd Qu.:3.000   3rd Qu.:6.000   3rd Qu.:3     3rd Qu.:3.000   3rd Qu.: 6.000  \n",
       " Max.   :5.000   Max.   :9.000   Max.   :6     Max.   :6.000   Max.   :11.000  \n",
       " tr_out2_pred3    tr_out3_pred0   tr_out3_pred1   tr_out3_pred2   \n",
       " Min.   : 1.000   Min.   :0.000   Min.   :0.000   Min.   : 0.000  \n",
       " 1st Qu.: 4.000   1st Qu.:2.000   1st Qu.:2.000   1st Qu.: 4.000  \n",
       " Median : 5.000   Median :3.000   Median :3.000   Median : 5.000  \n",
       " Mean   : 5.466   Mean   :3.372   Mean   :2.687   Mean   : 4.942  \n",
       " 3rd Qu.: 7.000   3rd Qu.:4.000   3rd Qu.:4.000   3rd Qu.: 6.000  \n",
       " Max.   :11.000   Max.   :8.000   Max.   :7.000   Max.   :10.000  \n",
       " tr_out3_pred3    tr_out0_classerror tr_out1_classerror tr_out2_classerror\n",
       " Min.   : 0.000   Min.   :0.3636     Min.   :0.5000     Min.   :0.3636    \n",
       " 1st Qu.: 5.000   1st Qu.:0.6000     1st Qu.:0.8750     1st Qu.:0.6000    \n",
       " Median : 8.000   Median :0.7000     Median :1.0000     Median :0.6875    \n",
       " Mean   : 7.249   Mean   :0.7024     Mean   :0.9222     Mean   :0.6839    \n",
       " 3rd Qu.:10.000   3rd Qu.:0.8000     3rd Qu.:1.0000     3rd Qu.:0.7692    \n",
       " Max.   :17.000   Max.   :1.0000     Max.   :1.0000     Max.   :1.0000    \n",
       " tr_out3_classerror cv_out0_pred0    cv_out0_pred1    cv_out0_pred2  \n",
       " Min.   :0.2917     Min.   :0.0000   Min.   :0.0000   Min.   :0.000  \n",
       " 1st Qu.:0.5000     1st Qu.:0.0000   1st Qu.:0.0000   1st Qu.:0.000  \n",
       " Median :0.5882     Median :0.0000   Median :0.0000   Median :1.000  \n",
       " Mean   :0.6175     Mean   :0.4822   Mean   :0.3844   Mean   :1.381  \n",
       " 3rd Qu.:0.7015     3rd Qu.:1.0000   3rd Qu.:1.0000   3rd Qu.:2.000  \n",
       " Max.   :1.0000     Max.   :3.0000   Max.   :4.0000   Max.   :6.000  \n",
       " cv_out0_pred3   cv_out1_pred0    cv_out1_pred1    cv_out1_pred2   \n",
       " Min.   :0.000   Min.   :0.0000   Min.   :0.0000   Min.   :0.0000  \n",
       " 1st Qu.:0.000   1st Qu.:0.0000   1st Qu.:0.0000   1st Qu.:0.0000  \n",
       " Median :2.000   Median :0.0000   Median :0.0000   Median :1.0000  \n",
       " Mean   :1.822   Mean   :0.3333   Mean   :0.2544   Mean   :0.6344  \n",
       " 3rd Qu.:3.000   3rd Qu.:1.0000   3rd Qu.:0.0000   3rd Qu.:1.0000  \n",
       " Max.   :7.000   Max.   :3.0000   Max.   :2.0000   Max.   :3.0000  \n",
       " cv_out1_pred3   cv_out2_pred0  cv_out2_pred1    cv_out2_pred2  \n",
       " Min.   :0.000   Min.   :0.00   Min.   :0.0000   Min.   :0.000  \n",
       " 1st Qu.:1.000   1st Qu.:0.00   1st Qu.:0.0000   1st Qu.:1.000  \n",
       " Median :2.000   Median :1.00   Median :1.0000   Median :2.000  \n",
       " Mean   :1.728   Mean   :0.81   Mean   :0.7967   Mean   :1.907  \n",
       " 3rd Qu.:3.000   3rd Qu.:1.00   3rd Qu.:1.0000   3rd Qu.:3.000  \n",
       " Max.   :6.000   Max.   :5.00   Max.   :3.0000   Max.   :7.000  \n",
       " cv_out2_pred3   cv_out3_pred0   cv_out3_pred1    cv_out3_pred2  \n",
       " Min.   :0.000   Min.   :0.000   Min.   :0.0000   Min.   :0.000  \n",
       " 1st Qu.:1.000   1st Qu.:0.000   1st Qu.:0.0000   1st Qu.:1.000  \n",
       " Median :2.000   Median :1.000   Median :0.0000   Median :2.000  \n",
       " Mean   :2.117   Mean   :1.171   Mean   :0.7067   Mean   :1.723  \n",
       " 3rd Qu.:3.000   3rd Qu.:2.000   3rd Qu.:1.0000   3rd Qu.:3.000  \n",
       " Max.   :7.000   Max.   :5.000   Max.   :6.0000   Max.   :6.000  \n",
       " cv_out3_pred3  \n",
       " Min.   :0.000  \n",
       " 1st Qu.:1.000  \n",
       " Median :2.000  \n",
       " Mean   :2.149  \n",
       " 3rd Qu.:3.000  \n",
       " Max.   :7.000  "
      ]
     },
     "metadata": {},
     "output_type": "display_data"
    }
   ],
   "source": [
    "summary(outcome_anat_experiment1)"
   ]
  },
  {
   "cell_type": "markdown",
   "metadata": {
    "collapsed": true,
    "deletable": true,
    "editable": true
   },
   "source": [
    "### b. Use all anatomical features: "
   ]
  },
  {
   "cell_type": "code",
   "execution_count": 88,
   "metadata": {
    "collapsed": false
   },
   "outputs": [
    {
     "data": {
      "text/html": [
       "<ol class=list-inline>\n",
       "\t<li>'nfse'</li>\n",
       "\t<li>'nfl'</li>\n",
       "\t<li>'nt1c'</li>\n",
       "\t<li>'nt1v'</li>\n",
       "</ol>\n"
      ],
      "text/latex": [
       "\\begin{enumerate*}\n",
       "\\item 'nfse'\n",
       "\\item 'nfl'\n",
       "\\item 'nt1c'\n",
       "\\item 'nt1v'\n",
       "\\end{enumerate*}\n"
      ],
      "text/markdown": [
       "1. 'nfse'\n",
       "2. 'nfl'\n",
       "3. 'nt1c'\n",
       "4. 'nt1v'\n",
       "\n",
       "\n"
      ],
      "text/plain": [
       "[1] \"nfse\" \"nfl\"  \"nt1c\" \"nt1v\""
      ]
     },
     "metadata": {},
     "output_type": "display_data"
    },
    {
     "data": {
      "text/html": [
       "<ol class=list-inline>\n",
       "\t<li>'in_CEL'</li>\n",
       "\t<li>'in_T2all'</li>\n",
       "\t<li>'in_NEL'</li>\n",
       "\t<li>'in_NEC'</li>\n",
       "\t<li>'in_ROI'</li>\n",
       "</ol>\n"
      ],
      "text/latex": [
       "\\begin{enumerate*}\n",
       "\\item 'in\\_CEL'\n",
       "\\item 'in\\_T2all'\n",
       "\\item 'in\\_NEL'\n",
       "\\item 'in\\_NEC'\n",
       "\\item 'in\\_ROI'\n",
       "\\end{enumerate*}\n"
      ],
      "text/markdown": [
       "1. 'in_CEL'\n",
       "2. 'in_T2all'\n",
       "3. 'in_NEL'\n",
       "4. 'in_NEC'\n",
       "5. 'in_ROI'\n",
       "\n",
       "\n"
      ],
      "text/plain": [
       "[1] \"in_CEL\"   \"in_T2all\" \"in_NEL\"   \"in_NEC\"   \"in_ROI\"  "
      ]
     },
     "metadata": {},
     "output_type": "display_data"
    }
   ],
   "source": [
    "anat_fts\n",
    "anat_roi_fts"
   ]
  },
  {
   "cell_type": "code",
   "execution_count": 89,
   "metadata": {
    "collapsed": true
   },
   "outputs": [],
   "source": [
    "outcome_anat_experiment = outcome_experiment_template"
   ]
  },
  {
   "cell_type": "code",
   "execution_count": 90,
   "metadata": {
    "collapsed": false
   },
   "outputs": [],
   "source": [
    "## let's begin by running experiments for anatomic features only: \n",
    "## for each experiment, we'll run the random forest with a variety of parameters \n",
    "expnum = 1\n",
    "for (i in 1:100){\n",
    "    set.seed(i)\n",
    "    \n",
    "    ## define features and outcome: \n",
    "    outcome = \"tumor_cell_evaluation\"\n",
    "    features.addsign <- paste(anat_fts, anat_roi_fts, sep = \"+\")\n",
    "    features.addsign = paste(features.addsign, collapse = \"+\")\n",
    "    rf_formula = as.formula(paste(outcome, features.addsign, sep = \"~\"))\n",
    "    \n",
    "    ## define training and testing (from the training) basically for x-val: \n",
    "    uniqute_tnums = unique(recgli_train$t_number)\n",
    "    train_tnums = unique_tnums[sample(c(1:length(unique_tnums)), size = round(length(unique_tnums)*.75))]\n",
    "    test_tnums = unique_tnums[! unique_tnums %in% train_tnums]\n",
    "    \n",
    "    recgli_exp_train= recgli_train[recgli_train$t_number %in% train_tnums, ]\n",
    "    recgli_exp_cv = recgli_train[! recgli_train$t_number %in% train_tnums, ]\n",
    "    \n",
    "    for (nodesize in c(1, 2, 3)){\n",
    "        for (mtry in c(2, 3, 4)){\n",
    "            rf = randomForest(formula = rf_formula, \n",
    "                 data = recgli_exp_train, nodesize = nodesize, mtry = mtry)\n",
    "            \n",
    "            cv_preds = predict(rf, recgli_exp_cv)\n",
    "            \n",
    "            cv_conf_mat = confusionMatrix(cv_preds, recgli_exp_cv$tumor_cell_evaluation)\n",
    "            \n",
    "            outcome_anat_experiment[expnum,'expnum'] = expnum\n",
    "            outcome_anat_experiment[expnum,'node_size'] = nodesize\n",
    "            outcome_anat_experiment[expnum,'mtry'] = mtry\n",
    "            outcome_anat_experiment[expnum,'tr_out0_pred0'] = rf$confusion['0', '0']\n",
    "            outcome_anat_experiment[expnum,'tr_out0_pred1'] = rf$confusion['0', '1']\n",
    "            outcome_anat_experiment[expnum,'tr_out0_pred2'] = rf$confusion['0', '2']\n",
    "            outcome_anat_experiment[expnum,'tr_out0_pred3'] = rf$confusion['0', '3']\n",
    "            outcome_anat_experiment[expnum,'tr_out1_pred0'] = rf$confusion['1', '0']\n",
    "            outcome_anat_experiment[expnum,'tr_out1_pred1'] = rf$confusion['1', '1']\n",
    "            outcome_anat_experiment[expnum,'tr_out1_pred2'] = rf$confusion['1', '2']\n",
    "            outcome_anat_experiment[expnum,'tr_out1_pred3'] = rf$confusion['1', '3']\n",
    "            outcome_anat_experiment[expnum,'tr_out2_pred0'] = rf$confusion['2', '0']\n",
    "            outcome_anat_experiment[expnum,'tr_out2_pred1'] = rf$confusion['2', '1']\n",
    "            outcome_anat_experiment[expnum,'tr_out2_pred2'] = rf$confusion['2', '2']\n",
    "            outcome_anat_experiment[expnum,'tr_out2_pred3'] = rf$confusion['2', '3']\n",
    "            outcome_anat_experiment[expnum,'tr_out3_pred0'] = rf$confusion['3', '0']\n",
    "            outcome_anat_experiment[expnum,'tr_out3_pred1'] = rf$confusion['3', '1']\n",
    "            outcome_anat_experiment[expnum,'tr_out3_pred2'] = rf$confusion['3', '2']\n",
    "            outcome_anat_experiment[expnum,'tr_out3_pred3'] = rf$confusion['3', '3']\n",
    "            outcome_anat_experiment[expnum,'tr_out0_classerror'] = rf$confusion[\"0\", 'class.error']\n",
    "            outcome_anat_experiment[expnum,'tr_out1_classerror'] = rf$confusion[\"1\", 'class.error']\n",
    "            outcome_anat_experiment[expnum,'tr_out2_classerror'] = rf$confusion[\"2\", 'class.error']\n",
    "            outcome_anat_experiment[expnum,'tr_out3_classerror'] = rf$confusion[\"3\", 'class.error']\n",
    "            \n",
    "            outcome_anat_experiment[expnum,'cv_out0_pred0'] = cv_conf_mat$table['0', '0']\n",
    "            outcome_anat_experiment[expnum,'cv_out0_pred1'] = cv_conf_mat$table['1', '0']\n",
    "            outcome_anat_experiment[expnum,'cv_out0_pred2'] = cv_conf_mat$table['2', '0']\n",
    "            outcome_anat_experiment[expnum,'cv_out0_pred3'] = cv_conf_mat$table['3', '0']\n",
    "            outcome_anat_experiment[expnum,'cv_out1_pred0'] = cv_conf_mat$table['0', '1']\n",
    "            outcome_anat_experiment[expnum,'cv_out1_pred1'] = cv_conf_mat$table['1', '1']\n",
    "            outcome_anat_experiment[expnum,'cv_out1_pred2'] = cv_conf_mat$table['2', '1']\n",
    "            outcome_anat_experiment[expnum,'cv_out1_pred3'] = cv_conf_mat$table['3', '1']\n",
    "            outcome_anat_experiment[expnum,'cv_out2_pred0'] = cv_conf_mat$table['0', '2']\n",
    "            outcome_anat_experiment[expnum,'cv_out2_pred1'] = cv_conf_mat$table['1', '2']\n",
    "            outcome_anat_experiment[expnum,'cv_out2_pred2'] = cv_conf_mat$table['2', '2']\n",
    "            outcome_anat_experiment[expnum,'cv_out2_pred3'] = cv_conf_mat$table['3', '2']\n",
    "            outcome_anat_experiment[expnum,'cv_out3_pred0'] = cv_conf_mat$table['0', '3']\n",
    "            outcome_anat_experiment[expnum,'cv_out3_pred1'] = cv_conf_mat$table['1', '3']\n",
    "            outcome_anat_experiment[expnum,'cv_out3_pred2'] = cv_conf_mat$table['2', '3']\n",
    "            outcome_anat_experiment[expnum,'cv_out3_pred3'] = cv_conf_mat$table['3', '3']\n",
    "            \n",
    "            expnum = expnum + 1\n",
    "        }\n",
    "    }\n",
    "}"
   ]
  },
  {
   "cell_type": "code",
   "execution_count": 91,
   "metadata": {
    "collapsed": false
   },
   "outputs": [],
   "source": [
    "outcome_anat_experiment2 = outcome_anat_experiment"
   ]
  },
  {
   "cell_type": "code",
   "execution_count": 117,
   "metadata": {
    "collapsed": false
   },
   "outputs": [],
   "source": [
    "outcome_anat_experiment2['cv_out0_classerror'] = 1-(outcome_anat_experiment2$cv_out0_pred0)/rowSums(outcome_anat_experiment2[,grep('cv_out0', colnames(outcome_anat_experiment2))])\n",
    "outcome_anat_experiment2['cv_out1_classerror'] = 1-(outcome_anat_experiment2$cv_out1_pred1)/rowSums(outcome_anat_experiment2[,grep('cv_out1', colnames(outcome_anat_experiment2))])\n",
    "outcome_anat_experiment2['cv_out2_classerror'] = 1-(outcome_anat_experiment2$cv_out2_pred2)/rowSums(outcome_anat_experiment2[,grep('cv_out2', colnames(outcome_anat_experiment2))])\n",
    "outcome_anat_experiment2['cv_out3_classerror'] = 1-(outcome_anat_experiment2$cv_out3_pred3)/rowSums(outcome_anat_experiment2[,grep('cv_out3', colnames(outcome_anat_experiment2))])"
   ]
  },
  {
   "cell_type": "code",
   "execution_count": 97,
   "metadata": {
    "collapsed": false
   },
   "outputs": [
    {
     "name": "stdout",
     "output_type": "stream",
     "text": [
      "[1] \"summary for nodesize:  1\"\n",
      " tr_out0_classerror tr_out1_classerror tr_out2_classerror tr_out3_classerror\n",
      " Min.   :0.3333     Min.   :0.6000     Min.   :0.4000     Min.   :0.1667    \n",
      " 1st Qu.:0.6667     1st Qu.:0.8889     1st Qu.:0.5882     1st Qu.:0.4405    \n",
      " Median :0.7500     Median :1.0000     Median :0.6667     Median :0.5263    \n",
      " Mean   :0.7558     Mean   :0.9368     Mean   :0.6850     Mean   :0.5445    \n",
      " 3rd Qu.:0.8462     3rd Qu.:1.0000     3rd Qu.:0.7714     3rd Qu.:0.6667    \n",
      " Max.   :1.0000     Max.   :1.0000     Max.   :1.0000     Max.   :1.0000    \n",
      "[1] \"summary for nodesize:  2\"\n",
      " tr_out0_classerror tr_out1_classerror tr_out2_classerror tr_out3_classerror\n",
      " Min.   :0.3636     Min.   :0.6000     Min.   :0.3846     Min.   :0.1304    \n",
      " 1st Qu.:0.6667     1st Qu.:0.8889     1st Qu.:0.5714     1st Qu.:0.4545    \n",
      " Median :0.7500     Median :1.0000     Median :0.6667     Median :0.5294    \n",
      " Mean   :0.7602     Mean   :0.9358     Mean   :0.6794     Mean   :0.5531    \n",
      " 3rd Qu.:0.8667     3rd Qu.:1.0000     3rd Qu.:0.7857     3rd Qu.:0.6344    \n",
      " Max.   :1.0000     Max.   :1.0000     Max.   :1.0000     Max.   :1.0000    \n",
      "[1] \"summary for nodesize:  3\"\n",
      " tr_out0_classerror tr_out1_classerror tr_out2_classerror tr_out3_classerror\n",
      " Min.   :0.4167     Min.   :0.5714     Min.   :0.3636     Min.   :0.2000    \n",
      " 1st Qu.:0.6667     1st Qu.:0.8889     1st Qu.:0.5714     1st Qu.:0.4500    \n",
      " Median :0.7692     Median :1.0000     Median :0.6667     Median :0.5314    \n",
      " Mean   :0.7723     Mean   :0.9352     Mean   :0.6735     Mean   :0.5516    \n",
      " 3rd Qu.:0.9000     3rd Qu.:1.0000     3rd Qu.:0.7500     3rd Qu.:0.6667    \n",
      " Max.   :1.0000     Max.   :1.0000     Max.   :1.0000     Max.   :0.9333    \n"
     ]
    }
   ],
   "source": [
    "## let's see what nodesize looks the best for exp2: \n",
    "for (nodesize in c(1:3)){\n",
    "    nodesize_outcome = outcome_anat_experiment2[which(outcome_anat_experiment2$node_size==nodesize),]\n",
    "    print(paste('summary for nodesize: ', as.character(nodesize)))\n",
    "    print(summary(nodesize_outcome[,grep('classerror', colnames(nodesize_outcome))]))\n",
    "}"
   ]
  },
  {
   "cell_type": "code",
   "execution_count": 98,
   "metadata": {
    "collapsed": false
   },
   "outputs": [
    {
     "name": "stdout",
     "output_type": "stream",
     "text": [
      "[1] \"summary for mtry:  2\"\n",
      " tr_out0_classerror tr_out1_classerror tr_out2_classerror tr_out3_classerror\n",
      " Min.   :0.3333     Min.   :0.6250     Min.   :0.4000     Min.   :0.1304    \n",
      " 1st Qu.:0.7273     1st Qu.:0.9091     1st Qu.:0.6000     1st Qu.:0.3869    \n",
      " Median :0.8182     Median :1.0000     Median :0.6667     Median :0.4762    \n",
      " Mean   :0.8153     Mean   :0.9530     Mean   :0.6956     Mean   :0.5015    \n",
      " 3rd Qu.:0.9167     3rd Qu.:1.0000     3rd Qu.:0.7857     3rd Qu.:0.6111    \n",
      " Max.   :1.0000     Max.   :1.0000     Max.   :1.0000     Max.   :0.9333    \n",
      "[1] \"summary for mtry:  3\"\n",
      " tr_out0_classerror tr_out1_classerror tr_out2_classerror tr_out3_classerror\n",
      " Min.   :0.4545     Min.   :0.600      Min.   :0.3846     Min.   :0.2174    \n",
      " 1st Qu.:0.6667     1st Qu.:0.875      1st Qu.:0.5714     1st Qu.:0.4675    \n",
      " Median :0.7500     Median :1.000      Median :0.6667     Median :0.5500    \n",
      " Mean   :0.7501     Mean   :0.930      Mean   :0.6748     Mean   :0.5652    \n",
      " 3rd Qu.:0.8333     3rd Qu.:1.000      3rd Qu.:0.7647     3rd Qu.:0.6667    \n",
      " Max.   :1.0000     Max.   :1.000      Max.   :1.0000     Max.   :1.0000    \n",
      "[1] \"summary for mtry:  4\"\n",
      " tr_out0_classerror tr_out1_classerror tr_out2_classerror tr_out3_classerror\n",
      " Min.   :0.3636     Min.   :0.5714     Min.   :0.3636     Min.   :0.2609    \n",
      " 1st Qu.:0.6154     1st Qu.:0.8750     1st Qu.:0.5714     1st Qu.:0.4737    \n",
      " Median :0.7143     Median :1.0000     Median :0.6471     Median :0.5714    \n",
      " Mean   :0.7229     Mean   :0.9248     Mean   :0.6675     Mean   :0.5824    \n",
      " 3rd Qu.:0.8182     3rd Qu.:1.0000     3rd Qu.:0.7692     3rd Qu.:0.6667    \n",
      " Max.   :1.0000     Max.   :1.0000     Max.   :1.0000     Max.   :1.0000    \n"
     ]
    }
   ],
   "source": [
    "## let's see what mtry looks the best for exp2: \n",
    "for (mtry in c(2:4)){\n",
    "    mtry_outcome = outcome_anat_experiment2[which(outcome_anat_experiment2$mtry==mtry),]\n",
    "    print(paste('summary for mtry: ', as.character(mtry)))\n",
    "    print(summary(mtry_outcome[,grep('classerror', colnames(mtry_outcome))]))\n",
    "}\n",
    "\n",
    "## looks like mtry=4 is significantly better"
   ]
  },
  {
   "cell_type": "markdown",
   "metadata": {},
   "source": [
    "### b. Use all diffusion features: "
   ]
  },
  {
   "cell_type": "code",
   "execution_count": 100,
   "metadata": {
    "collapsed": true
   },
   "outputs": [],
   "source": [
    "outcome_perf_exp = outcome_experiment_template"
   ]
  },
  {
   "cell_type": "code",
   "execution_count": 104,
   "metadata": {
    "collapsed": false
   },
   "outputs": [
    {
     "data": {
      "text/html": [
       "'nadc.1+nfa.1+nev1.1+nev2.1+nev3.1+nevrad.1'"
      ],
      "text/latex": [
       "'nadc.1+nfa.1+nev1.1+nev2.1+nev3.1+nevrad.1'"
      ],
      "text/markdown": [
       "'nadc.1+nfa.1+nev1.1+nev2.1+nev3.1+nevrad.1'"
      ],
      "text/plain": [
       "[1] \"nadc.1+nfa.1+nev1.1+nev2.1+nev3.1+nevrad.1\""
      ]
     },
     "metadata": {},
     "output_type": "display_data"
    }
   ],
   "source": [
    "paste(diffu1000_fts, collapse = \"+\")"
   ]
  },
  {
   "cell_type": "code",
   "execution_count": 105,
   "metadata": {
    "collapsed": true
   },
   "outputs": [],
   "source": [
    "## let's begin by running experiments for anatomic features only: \n",
    "## for each experiment, we'll run the random forest with a variety of parameters \n",
    "expnum = 1\n",
    "for (i in 1:100){\n",
    "    set.seed(i)\n",
    "    \n",
    "    ## define features and outcome: \n",
    "    outcome = \"tumor_cell_evaluation\"\n",
    "    features.addsign <- paste(diffu1000_fts, collapse = \"+\")\n",
    "    rf_formula = as.formula(paste(outcome, features.addsign, sep = \"~\"))\n",
    "    \n",
    "    ## define training and testing (from the training) basically for x-val: \n",
    "    uniqute_tnums = unique(recgli_train$t_number)\n",
    "    train_tnums = unique_tnums[sample(c(1:length(unique_tnums)), size = round(length(unique_tnums)*.75))]\n",
    "    test_tnums = unique_tnums[! unique_tnums %in% train_tnums]\n",
    "    \n",
    "    recgli_exp_train= recgli_train[recgli_train$t_number %in% train_tnums, ]\n",
    "    recgli_exp_cv = recgli_train[! recgli_train$t_number %in% train_tnums, ]\n",
    "    \n",
    "    for (nodesize in c(1, 2, 3)){\n",
    "        for (mtry in c(2, 3, 4)){\n",
    "            rf = randomForest(formula = rf_formula, \n",
    "                 data = recgli_exp_train, nodesize = nodesize, mtry = mtry)\n",
    "            \n",
    "            cv_preds = predict(rf, recgli_exp_cv)\n",
    "            \n",
    "            cv_conf_mat = confusionMatrix(cv_preds, recgli_exp_cv$tumor_cell_evaluation)\n",
    "            \n",
    "            outcome_perf_exp[expnum,'expnum'] = expnum\n",
    "            outcome_perf_exp[expnum,'node_size'] = nodesize\n",
    "            outcome_perf_exp[expnum,'mtry'] = mtry\n",
    "            outcome_perf_exp[expnum,'tr_out0_pred0'] = rf$confusion['0', '0']\n",
    "            outcome_perf_exp[expnum,'tr_out0_pred1'] = rf$confusion['0', '1']\n",
    "            outcome_perf_exp[expnum,'tr_out0_pred2'] = rf$confusion['0', '2']\n",
    "            outcome_perf_exp[expnum,'tr_out0_pred3'] = rf$confusion['0', '3']\n",
    "            outcome_perf_exp[expnum,'tr_out1_pred0'] = rf$confusion['1', '0']\n",
    "            outcome_perf_exp[expnum,'tr_out1_pred1'] = rf$confusion['1', '1']\n",
    "            outcome_perf_exp[expnum,'tr_out1_pred2'] = rf$confusion['1', '2']\n",
    "            outcome_perf_exp[expnum,'tr_out1_pred3'] = rf$confusion['1', '3']\n",
    "            outcome_perf_exp[expnum,'tr_out2_pred0'] = rf$confusion['2', '0']\n",
    "            outcome_perf_exp[expnum,'tr_out2_pred1'] = rf$confusion['2', '1']\n",
    "            outcome_perf_exp[expnum,'tr_out2_pred2'] = rf$confusion['2', '2']\n",
    "            outcome_perf_exp[expnum,'tr_out2_pred3'] = rf$confusion['2', '3']\n",
    "            outcome_perf_exp[expnum,'tr_out3_pred0'] = rf$confusion['3', '0']\n",
    "            outcome_perf_exp[expnum,'tr_out3_pred1'] = rf$confusion['3', '1']\n",
    "            outcome_perf_exp[expnum,'tr_out3_pred2'] = rf$confusion['3', '2']\n",
    "            outcome_perf_exp[expnum,'tr_out3_pred3'] = rf$confusion['3', '3']\n",
    "            outcome_perf_exp[expnum,'tr_out0_classerror'] = rf$confusion[\"0\", 'class.error']\n",
    "            outcome_perf_exp[expnum,'tr_out1_classerror'] = rf$confusion[\"1\", 'class.error']\n",
    "            outcome_perf_exp[expnum,'tr_out2_classerror'] = rf$confusion[\"2\", 'class.error']\n",
    "            outcome_perf_exp[expnum,'tr_out3_classerror'] = rf$confusion[\"3\", 'class.error']\n",
    "            \n",
    "            outcome_perf_exp[expnum,'cv_out0_pred0'] = cv_conf_mat$table['0', '0']\n",
    "            outcome_perf_exp[expnum,'cv_out0_pred1'] = cv_conf_mat$table['1', '0']\n",
    "            outcome_perf_exp[expnum,'cv_out0_pred2'] = cv_conf_mat$table['2', '0']\n",
    "            outcome_perf_exp[expnum,'cv_out0_pred3'] = cv_conf_mat$table['3', '0']\n",
    "            outcome_perf_exp[expnum,'cv_out1_pred0'] = cv_conf_mat$table['0', '1']\n",
    "            outcome_perf_exp[expnum,'cv_out1_pred1'] = cv_conf_mat$table['1', '1']\n",
    "            outcome_perf_exp[expnum,'cv_out1_pred2'] = cv_conf_mat$table['2', '1']\n",
    "            outcome_perf_exp[expnum,'cv_out1_pred3'] = cv_conf_mat$table['3', '1']\n",
    "            outcome_perf_exp[expnum,'cv_out2_pred0'] = cv_conf_mat$table['0', '2']\n",
    "            outcome_perf_exp[expnum,'cv_out2_pred1'] = cv_conf_mat$table['1', '2']\n",
    "            outcome_perf_exp[expnum,'cv_out2_pred2'] = cv_conf_mat$table['2', '2']\n",
    "            outcome_perf_exp[expnum,'cv_out2_pred3'] = cv_conf_mat$table['3', '2']\n",
    "            outcome_perf_exp[expnum,'cv_out3_pred0'] = cv_conf_mat$table['0', '3']\n",
    "            outcome_perf_exp[expnum,'cv_out3_pred1'] = cv_conf_mat$table['1', '3']\n",
    "            outcome_perf_exp[expnum,'cv_out3_pred2'] = cv_conf_mat$table['2', '3']\n",
    "            outcome_perf_exp[expnum,'cv_out3_pred3'] = cv_conf_mat$table['3', '3']\n",
    "            \n",
    "            expnum = expnum + 1\n",
    "        }\n",
    "    }\n",
    "}"
   ]
  },
  {
   "cell_type": "code",
   "execution_count": 121,
   "metadata": {
    "collapsed": false,
    "scrolled": true
   },
   "outputs": [
    {
     "data": {
      "text/html": [
       "<table>\n",
       "<thead><tr><th scope=col>expnum</th><th scope=col>node_size</th><th scope=col>mtry</th><th scope=col>tr_out0_pred0</th><th scope=col>tr_out0_pred1</th><th scope=col>tr_out0_pred2</th><th scope=col>tr_out0_pred3</th><th scope=col>tr_out1_pred0</th><th scope=col>tr_out1_pred1</th><th scope=col>tr_out1_pred2</th><th scope=col>tr_out1_pred3</th><th scope=col>tr_out2_pred0</th><th scope=col>tr_out2_pred1</th><th scope=col>tr_out2_pred2</th><th scope=col>tr_out2_pred3</th><th scope=col>tr_out3_pred0</th><th scope=col>tr_out3_pred1</th><th scope=col>tr_out3_pred2</th><th scope=col>tr_out3_pred3</th><th scope=col>tr_out0_classerror</th><th scope=col>tr_out1_classerror</th><th scope=col>tr_out2_classerror</th><th scope=col>tr_out3_classerror</th><th scope=col>cv_out0_pred0</th><th scope=col>cv_out0_pred1</th><th scope=col>cv_out0_pred2</th><th scope=col>cv_out0_pred3</th><th scope=col>cv_out1_pred0</th><th scope=col>cv_out1_pred1</th><th scope=col>cv_out1_pred2</th><th scope=col>cv_out1_pred3</th><th scope=col>cv_out2_pred0</th><th scope=col>cv_out2_pred1</th><th scope=col>cv_out2_pred2</th><th scope=col>cv_out2_pred3</th><th scope=col>cv_out3_pred0</th><th scope=col>cv_out3_pred1</th><th scope=col>cv_out3_pred2</th><th scope=col>cv_out3_pred3</th></tr></thead>\n",
       "<tbody>\n",
       "\t<tr><td>1        </td><td>1        </td><td>2        </td><td>6        </td><td>1        </td><td>3        </td><td>6        </td><td>2        </td><td>2        </td><td>2        </td><td>2        </td><td>2        </td><td>1        </td><td>4        </td><td>10       </td><td>6        </td><td>1        </td><td> 9       </td><td>0        </td><td>0.625    </td><td>0.75     </td><td>0.7647059</td><td>1.0000   </td><td>0        </td><td>0        </td><td>0        </td><td>0        </td><td>1        </td><td>2        </td><td>0        </td><td>1        </td><td>0        </td><td>0        </td><td>2        </td><td>1        </td><td>2        </td><td>3        </td><td>0        </td><td>3        </td></tr>\n",
       "\t<tr><td>2        </td><td>1        </td><td>3        </td><td>6        </td><td>1        </td><td>2        </td><td>7        </td><td>2        </td><td>2        </td><td>2        </td><td>2        </td><td>2        </td><td>0        </td><td>6        </td><td> 9       </td><td>6        </td><td>1        </td><td> 9       </td><td>0        </td><td>0.625    </td><td>0.75     </td><td>0.6470588</td><td>1.0000   </td><td>0        </td><td>0        </td><td>0        </td><td>0        </td><td>1        </td><td>2        </td><td>0        </td><td>1        </td><td>0        </td><td>0        </td><td>2        </td><td>1        </td><td>1        </td><td>3        </td><td>0        </td><td>4        </td></tr>\n",
       "\t<tr><td>3        </td><td>1        </td><td>4        </td><td>6        </td><td>1        </td><td>2        </td><td>7        </td><td>1        </td><td>2        </td><td>2        </td><td>3        </td><td>2        </td><td>1        </td><td>5        </td><td> 9       </td><td>4        </td><td>1        </td><td>11       </td><td>0        </td><td>0.625    </td><td>0.75     </td><td>0.7058824</td><td>1.0000   </td><td>0        </td><td>0        </td><td>0        </td><td>0        </td><td>1        </td><td>2        </td><td>0        </td><td>1        </td><td>0        </td><td>0        </td><td>1        </td><td>2        </td><td>1        </td><td>3        </td><td>0        </td><td>4        </td></tr>\n",
       "\t<tr><td>4        </td><td>2        </td><td>2        </td><td>6        </td><td>1        </td><td>2        </td><td>7        </td><td>2        </td><td>2        </td><td>2        </td><td>2        </td><td>2        </td><td>2        </td><td>5        </td><td> 8       </td><td>6        </td><td>1        </td><td> 9       </td><td>0        </td><td>0.625    </td><td>0.75     </td><td>0.7058824</td><td>1.0000   </td><td>0        </td><td>0        </td><td>0        </td><td>0        </td><td>1        </td><td>2        </td><td>1        </td><td>0        </td><td>0        </td><td>0        </td><td>2        </td><td>1        </td><td>2        </td><td>3        </td><td>0        </td><td>3        </td></tr>\n",
       "\t<tr><td>5        </td><td>2        </td><td>3        </td><td>6        </td><td>1        </td><td>3        </td><td>6        </td><td>2        </td><td>2        </td><td>2        </td><td>2        </td><td>1        </td><td>1        </td><td>6        </td><td> 9       </td><td>4        </td><td>1        </td><td>10       </td><td>1        </td><td>0.625    </td><td>0.75     </td><td>0.6470588</td><td>0.9375   </td><td>0        </td><td>0        </td><td>0        </td><td>0        </td><td>1        </td><td>2        </td><td>0        </td><td>1        </td><td>0        </td><td>0        </td><td>1        </td><td>2        </td><td>2        </td><td>3        </td><td>0        </td><td>3        </td></tr>\n",
       "\t<tr><td>6        </td><td>2        </td><td>4        </td><td>6        </td><td>1        </td><td>3        </td><td>6        </td><td>2        </td><td>2        </td><td>2        </td><td>2        </td><td>2        </td><td>1        </td><td>6        </td><td> 8       </td><td>5        </td><td>1        </td><td>10       </td><td>0        </td><td>0.625    </td><td>0.75     </td><td>0.6470588</td><td>1.0000   </td><td>0        </td><td>0        </td><td>0        </td><td>0        </td><td>1        </td><td>2        </td><td>0        </td><td>1        </td><td>0        </td><td>0        </td><td>2        </td><td>1        </td><td>2        </td><td>3        </td><td>0        </td><td>3        </td></tr>\n",
       "</tbody>\n",
       "</table>\n"
      ],
      "text/latex": [
       "\\begin{tabular}{r|lllllllllllllllllllllllllllllllllllllll}\n",
       " expnum & node\\_size & mtry & tr\\_out0\\_pred0 & tr\\_out0\\_pred1 & tr\\_out0\\_pred2 & tr\\_out0\\_pred3 & tr\\_out1\\_pred0 & tr\\_out1\\_pred1 & tr\\_out1\\_pred2 & tr\\_out1\\_pred3 & tr\\_out2\\_pred0 & tr\\_out2\\_pred1 & tr\\_out2\\_pred2 & tr\\_out2\\_pred3 & tr\\_out3\\_pred0 & tr\\_out3\\_pred1 & tr\\_out3\\_pred2 & tr\\_out3\\_pred3 & tr\\_out0\\_classerror & tr\\_out1\\_classerror & tr\\_out2\\_classerror & tr\\_out3\\_classerror & cv\\_out0\\_pred0 & cv\\_out0\\_pred1 & cv\\_out0\\_pred2 & cv\\_out0\\_pred3 & cv\\_out1\\_pred0 & cv\\_out1\\_pred1 & cv\\_out1\\_pred2 & cv\\_out1\\_pred3 & cv\\_out2\\_pred0 & cv\\_out2\\_pred1 & cv\\_out2\\_pred2 & cv\\_out2\\_pred3 & cv\\_out3\\_pred0 & cv\\_out3\\_pred1 & cv\\_out3\\_pred2 & cv\\_out3\\_pred3\\\\\n",
       "\\hline\n",
       "\t 1         & 1         & 2         & 6         & 1         & 3         & 6         & 2         & 2         & 2         & 2         & 2         & 1         & 4         & 10        & 6         & 1         &  9        & 0         & 0.625     & 0.75      & 0.7647059 & 1.0000    & 0         & 0         & 0         & 0         & 1         & 2         & 0         & 1         & 0         & 0         & 2         & 1         & 2         & 3         & 0         & 3        \\\\\n",
       "\t 2         & 1         & 3         & 6         & 1         & 2         & 7         & 2         & 2         & 2         & 2         & 2         & 0         & 6         &  9        & 6         & 1         &  9        & 0         & 0.625     & 0.75      & 0.6470588 & 1.0000    & 0         & 0         & 0         & 0         & 1         & 2         & 0         & 1         & 0         & 0         & 2         & 1         & 1         & 3         & 0         & 4        \\\\\n",
       "\t 3         & 1         & 4         & 6         & 1         & 2         & 7         & 1         & 2         & 2         & 3         & 2         & 1         & 5         &  9        & 4         & 1         & 11        & 0         & 0.625     & 0.75      & 0.7058824 & 1.0000    & 0         & 0         & 0         & 0         & 1         & 2         & 0         & 1         & 0         & 0         & 1         & 2         & 1         & 3         & 0         & 4        \\\\\n",
       "\t 4         & 2         & 2         & 6         & 1         & 2         & 7         & 2         & 2         & 2         & 2         & 2         & 2         & 5         &  8        & 6         & 1         &  9        & 0         & 0.625     & 0.75      & 0.7058824 & 1.0000    & 0         & 0         & 0         & 0         & 1         & 2         & 1         & 0         & 0         & 0         & 2         & 1         & 2         & 3         & 0         & 3        \\\\\n",
       "\t 5         & 2         & 3         & 6         & 1         & 3         & 6         & 2         & 2         & 2         & 2         & 1         & 1         & 6         &  9        & 4         & 1         & 10        & 1         & 0.625     & 0.75      & 0.6470588 & 0.9375    & 0         & 0         & 0         & 0         & 1         & 2         & 0         & 1         & 0         & 0         & 1         & 2         & 2         & 3         & 0         & 3        \\\\\n",
       "\t 6         & 2         & 4         & 6         & 1         & 3         & 6         & 2         & 2         & 2         & 2         & 2         & 1         & 6         &  8        & 5         & 1         & 10        & 0         & 0.625     & 0.75      & 0.6470588 & 1.0000    & 0         & 0         & 0         & 0         & 1         & 2         & 0         & 1         & 0         & 0         & 2         & 1         & 2         & 3         & 0         & 3        \\\\\n",
       "\\end{tabular}\n"
      ],
      "text/markdown": [
       "\n",
       "expnum | node_size | mtry | tr_out0_pred0 | tr_out0_pred1 | tr_out0_pred2 | tr_out0_pred3 | tr_out1_pred0 | tr_out1_pred1 | tr_out1_pred2 | tr_out1_pred3 | tr_out2_pred0 | tr_out2_pred1 | tr_out2_pred2 | tr_out2_pred3 | tr_out3_pred0 | tr_out3_pred1 | tr_out3_pred2 | tr_out3_pred3 | tr_out0_classerror | tr_out1_classerror | tr_out2_classerror | tr_out3_classerror | cv_out0_pred0 | cv_out0_pred1 | cv_out0_pred2 | cv_out0_pred3 | cv_out1_pred0 | cv_out1_pred1 | cv_out1_pred2 | cv_out1_pred3 | cv_out2_pred0 | cv_out2_pred1 | cv_out2_pred2 | cv_out2_pred3 | cv_out3_pred0 | cv_out3_pred1 | cv_out3_pred2 | cv_out3_pred3 | \n",
       "|---|---|---|---|---|---|\n",
       "| 1         | 1         | 2         | 6         | 1         | 3         | 6         | 2         | 2         | 2         | 2         | 2         | 1         | 4         | 10        | 6         | 1         |  9        | 0         | 0.625     | 0.75      | 0.7647059 | 1.0000    | 0         | 0         | 0         | 0         | 1         | 2         | 0         | 1         | 0         | 0         | 2         | 1         | 2         | 3         | 0         | 3         | \n",
       "| 2         | 1         | 3         | 6         | 1         | 2         | 7         | 2         | 2         | 2         | 2         | 2         | 0         | 6         |  9        | 6         | 1         |  9        | 0         | 0.625     | 0.75      | 0.6470588 | 1.0000    | 0         | 0         | 0         | 0         | 1         | 2         | 0         | 1         | 0         | 0         | 2         | 1         | 1         | 3         | 0         | 4         | \n",
       "| 3         | 1         | 4         | 6         | 1         | 2         | 7         | 1         | 2         | 2         | 3         | 2         | 1         | 5         |  9        | 4         | 1         | 11        | 0         | 0.625     | 0.75      | 0.7058824 | 1.0000    | 0         | 0         | 0         | 0         | 1         | 2         | 0         | 1         | 0         | 0         | 1         | 2         | 1         | 3         | 0         | 4         | \n",
       "| 4         | 2         | 2         | 6         | 1         | 2         | 7         | 2         | 2         | 2         | 2         | 2         | 2         | 5         |  8        | 6         | 1         |  9        | 0         | 0.625     | 0.75      | 0.7058824 | 1.0000    | 0         | 0         | 0         | 0         | 1         | 2         | 1         | 0         | 0         | 0         | 2         | 1         | 2         | 3         | 0         | 3         | \n",
       "| 5         | 2         | 3         | 6         | 1         | 3         | 6         | 2         | 2         | 2         | 2         | 1         | 1         | 6         |  9        | 4         | 1         | 10        | 1         | 0.625     | 0.75      | 0.6470588 | 0.9375    | 0         | 0         | 0         | 0         | 1         | 2         | 0         | 1         | 0         | 0         | 1         | 2         | 2         | 3         | 0         | 3         | \n",
       "| 6         | 2         | 4         | 6         | 1         | 3         | 6         | 2         | 2         | 2         | 2         | 2         | 1         | 6         |  8        | 5         | 1         | 10        | 0         | 0.625     | 0.75      | 0.6470588 | 1.0000    | 0         | 0         | 0         | 0         | 1         | 2         | 0         | 1         | 0         | 0         | 2         | 1         | 2         | 3         | 0         | 3         | \n",
       "\n",
       "\n"
      ],
      "text/plain": [
       "  expnum node_size mtry tr_out0_pred0 tr_out0_pred1 tr_out0_pred2 tr_out0_pred3\n",
       "1 1      1         2    6             1             3             6            \n",
       "2 2      1         3    6             1             2             7            \n",
       "3 3      1         4    6             1             2             7            \n",
       "4 4      2         2    6             1             2             7            \n",
       "5 5      2         3    6             1             3             6            \n",
       "6 6      2         4    6             1             3             6            \n",
       "  tr_out1_pred0 tr_out1_pred1 tr_out1_pred2 tr_out1_pred3 tr_out2_pred0\n",
       "1 2             2             2             2             2            \n",
       "2 2             2             2             2             2            \n",
       "3 1             2             2             3             2            \n",
       "4 2             2             2             2             2            \n",
       "5 2             2             2             2             1            \n",
       "6 2             2             2             2             2            \n",
       "  tr_out2_pred1 tr_out2_pred2 tr_out2_pred3 tr_out3_pred0 tr_out3_pred1\n",
       "1 1             4             10            6             1            \n",
       "2 0             6              9            6             1            \n",
       "3 1             5              9            4             1            \n",
       "4 2             5              8            6             1            \n",
       "5 1             6              9            4             1            \n",
       "6 1             6              8            5             1            \n",
       "  tr_out3_pred2 tr_out3_pred3 tr_out0_classerror tr_out1_classerror\n",
       "1  9            0             0.625              0.75              \n",
       "2  9            0             0.625              0.75              \n",
       "3 11            0             0.625              0.75              \n",
       "4  9            0             0.625              0.75              \n",
       "5 10            1             0.625              0.75              \n",
       "6 10            0             0.625              0.75              \n",
       "  tr_out2_classerror tr_out3_classerror cv_out0_pred0 cv_out0_pred1\n",
       "1 0.7647059          1.0000             0             0            \n",
       "2 0.6470588          1.0000             0             0            \n",
       "3 0.7058824          1.0000             0             0            \n",
       "4 0.7058824          1.0000             0             0            \n",
       "5 0.6470588          0.9375             0             0            \n",
       "6 0.6470588          1.0000             0             0            \n",
       "  cv_out0_pred2 cv_out0_pred3 cv_out1_pred0 cv_out1_pred1 cv_out1_pred2\n",
       "1 0             0             1             2             0            \n",
       "2 0             0             1             2             0            \n",
       "3 0             0             1             2             0            \n",
       "4 0             0             1             2             1            \n",
       "5 0             0             1             2             0            \n",
       "6 0             0             1             2             0            \n",
       "  cv_out1_pred3 cv_out2_pred0 cv_out2_pred1 cv_out2_pred2 cv_out2_pred3\n",
       "1 1             0             0             2             1            \n",
       "2 1             0             0             2             1            \n",
       "3 1             0             0             1             2            \n",
       "4 0             0             0             2             1            \n",
       "5 1             0             0             1             2            \n",
       "6 1             0             0             2             1            \n",
       "  cv_out3_pred0 cv_out3_pred1 cv_out3_pred2 cv_out3_pred3\n",
       "1 2             3             0             3            \n",
       "2 1             3             0             4            \n",
       "3 1             3             0             4            \n",
       "4 2             3             0             3            \n",
       "5 2             3             0             3            \n",
       "6 2             3             0             3            "
      ]
     },
     "metadata": {},
     "output_type": "display_data"
    }
   ],
   "source": [
    "head(outcome_perf_exp)"
   ]
  },
  {
   "cell_type": "code",
   "execution_count": 122,
   "metadata": {
    "collapsed": true
   },
   "outputs": [],
   "source": [
    "outcome_perf_exp['cv_out0_classerror'] = 1-(outcome_perf_exp$cv_out0_pred0)/rowSums(outcome_perf_exp[,grep('cv_out0', colnames(outcome_perf_exp))])\n",
    "outcome_perf_exp['cv_out1_classerror'] = 1-(outcome_perf_exp$cv_out1_pred1)/rowSums(outcome_perf_exp[,grep('cv_out1', colnames(outcome_perf_exp))])\n",
    "outcome_perf_exp['cv_out2_classerror'] = 1-(outcome_perf_exp$cv_out2_pred2)/rowSums(outcome_perf_exp[,grep('cv_out2', colnames(outcome_perf_exp))])\n",
    "outcome_perf_exp['cv_out3_classerror'] = 1-(outcome_perf_exp$cv_out3_pred3)/rowSums(outcome_perf_exp[,grep('cv_out3', colnames(outcome_perf_exp))])"
   ]
  },
  {
   "cell_type": "code",
   "execution_count": 123,
   "metadata": {
    "collapsed": false
   },
   "outputs": [
    {
     "name": "stdout",
     "output_type": "stream",
     "text": [
      "[1] \"summary for nodesize:  1\"\n",
      " tr_out0_classerror tr_out1_classerror tr_out2_classerror tr_out3_classerror\n",
      " Min.   :0.2857     Min.   :0.4286     Min.   :0.3529     Min.   :0.3500    \n",
      " 1st Qu.:0.6154     1st Qu.:0.7000     1st Qu.:0.5833     1st Qu.:0.5714    \n",
      " Median :0.7000     Median :0.8000     Median :0.6667     Median :0.7000    \n",
      " Mean   :0.7132     Mean   :0.8027     Mean   :0.6710     Mean   :0.6907    \n",
      " 3rd Qu.:0.8462     3rd Qu.:0.9000     3rd Qu.:0.7500     3rd Qu.:0.7895    \n",
      " Max.   :1.0000     Max.   :1.0000     Max.   :1.0000     Max.   :1.0000    \n",
      "                                                                            \n",
      " cv_out0_classerror cv_out1_classerror cv_out2_classerror cv_out3_classerror\n",
      " Min.   :0.0000     Min.   :0.0000     Min.   :0.0000     Min.   :0.0000    \n",
      " 1st Qu.:0.6786     1st Qu.:0.6667     1st Qu.:0.5556     1st Qu.:0.6000    \n",
      " Median :0.8333     Median :1.0000     Median :0.6667     Median :0.7500    \n",
      " Mean   :0.7770     Mean   :0.7813     Mean   :0.6868     Mean   :0.7227    \n",
      " 3rd Qu.:1.0000     3rd Qu.:1.0000     3rd Qu.:0.8333     3rd Qu.:0.9000    \n",
      " Max.   :1.0000     Max.   :1.0000     Max.   :1.0000     Max.   :1.0000    \n",
      " NA's   :6          NA's   :15         NA's   :3          NA's   :9         \n",
      "[1] \"summary for nodesize:  2\"\n",
      " tr_out0_classerror tr_out1_classerror tr_out2_classerror tr_out3_classerror\n",
      " Min.   :0.3333     Min.   :0.4286     Min.   :0.3529     Min.   :0.4000    \n",
      " 1st Qu.:0.6000     1st Qu.:0.7000     1st Qu.:0.5870     1st Qu.:0.5909    \n",
      " Median :0.7000     Median :0.7778     Median :0.6923     Median :0.7000    \n",
      " Mean   :0.7133     Mean   :0.7914     Mean   :0.6814     Mean   :0.6951    \n",
      " 3rd Qu.:0.8462     3rd Qu.:0.9000     3rd Qu.:0.7857     3rd Qu.:0.7895    \n",
      " Max.   :1.0000     Max.   :1.0000     Max.   :1.0000     Max.   :1.0000    \n",
      "                                                                            \n",
      " cv_out0_classerror cv_out1_classerror cv_out2_classerror cv_out3_classerror\n",
      " Min.   :0.0000     Min.   :0.0000     Min.   :0.0000     Min.   :0.0000    \n",
      " 1st Qu.:0.6667     1st Qu.:0.6667     1st Qu.:0.5714     1st Qu.:0.6000    \n",
      " Median :0.8333     Median :1.0000     Median :0.7143     Median :0.7500    \n",
      " Mean   :0.7657     Mean   :0.7736     Mean   :0.6960     Mean   :0.7222    \n",
      " 3rd Qu.:1.0000     3rd Qu.:1.0000     3rd Qu.:0.8333     3rd Qu.:0.9000    \n",
      " Max.   :1.0000     Max.   :1.0000     Max.   :1.0000     Max.   :1.0000    \n",
      " NA's   :6          NA's   :15         NA's   :3          NA's   :9         \n",
      "[1] \"summary for nodesize:  3\"\n",
      " tr_out0_classerror tr_out1_classerror tr_out2_classerror tr_out3_classerror\n",
      " Min.   :0.3333     Min.   :0.4286     Min.   :0.3529     Min.   :0.4000    \n",
      " 1st Qu.:0.6154     1st Qu.:0.6667     1st Qu.:0.5882     1st Qu.:0.5909    \n",
      " Median :0.7143     Median :0.7500     Median :0.6667     Median :0.7000    \n",
      " Mean   :0.7249     Mean   :0.7637     Mean   :0.6830     Mean   :0.6933    \n",
      " 3rd Qu.:0.8462     3rd Qu.:0.8750     3rd Qu.:0.7857     3rd Qu.:0.7895    \n",
      " Max.   :1.0000     Max.   :1.0000     Max.   :1.0000     Max.   :1.0000    \n",
      "                                                                            \n",
      " cv_out0_classerror cv_out1_classerror cv_out2_classerror cv_out3_classerror\n",
      " Min.   :0.0000     Min.   :0.0000     Min.   :0.0000     Min.   :0.0000    \n",
      " 1st Qu.:0.6667     1st Qu.:0.5000     1st Qu.:0.5714     1st Qu.:0.5714    \n",
      " Median :0.8333     Median :0.7500     Median :0.7143     Median :0.7500    \n",
      " Mean   :0.7758     Mean   :0.7325     Mean   :0.6976     Mean   :0.7150    \n",
      " 3rd Qu.:1.0000     3rd Qu.:1.0000     3rd Qu.:0.8333     3rd Qu.:0.9000    \n",
      " Max.   :1.0000     Max.   :1.0000     Max.   :1.0000     Max.   :1.0000    \n",
      " NA's   :6          NA's   :15         NA's   :3          NA's   :9         \n"
     ]
    }
   ],
   "source": [
    "for (nodesize in c(1:3)){\n",
    "    nodesize_outcome = outcome_perf_exp[which(outcome_perf_exp$node_size==nodesize),]\n",
    "    print(paste('summary for nodesize: ', as.character(nodesize)))\n",
    "    print(summary(nodesize_outcome[,grep('classerror', colnames(nodesize_outcome))]))\n",
    "}"
   ]
  },
  {
   "cell_type": "code",
   "execution_count": 125,
   "metadata": {
    "collapsed": false
   },
   "outputs": [
    {
     "name": "stdout",
     "output_type": "stream",
     "text": [
      "[1] \"summary for mtry:  2\"\n",
      " tr_out0_classerror tr_out1_classerror tr_out2_classerror tr_out3_classerror\n",
      " Min.   :0.2857     Min.   :0.4286     Min.   :0.3529     Min.   :0.3500    \n",
      " 1st Qu.:0.6000     1st Qu.:0.7000     1st Qu.:0.5882     1st Qu.:0.5909    \n",
      " Median :0.7000     Median :0.8000     Median :0.6667     Median :0.7059    \n",
      " Mean   :0.7065     Mean   :0.8015     Mean   :0.6815     Mean   :0.6988    \n",
      " 3rd Qu.:0.8333     3rd Qu.:0.9000     3rd Qu.:0.7857     3rd Qu.:0.7917    \n",
      " Max.   :1.0000     Max.   :1.0000     Max.   :1.0000     Max.   :1.0000    \n",
      "                                                                            \n",
      " cv_out0_classerror cv_out1_classerror cv_out2_classerror cv_out3_classerror\n",
      " Min.   :0.0000     Min.   :0.0000     Min.   :0.0000     Min.   :0.0000    \n",
      " 1st Qu.:0.6667     1st Qu.:0.6667     1st Qu.:0.5556     1st Qu.:0.6000    \n",
      " Median :0.8333     Median :1.0000     Median :0.7143     Median :0.7500    \n",
      " Mean   :0.7672     Mean   :0.7793     Mean   :0.6900     Mean   :0.7172    \n",
      " 3rd Qu.:1.0000     3rd Qu.:1.0000     3rd Qu.:0.8333     3rd Qu.:0.9000    \n",
      " Max.   :1.0000     Max.   :1.0000     Max.   :1.0000     Max.   :1.0000    \n",
      " NA's   :6          NA's   :15         NA's   :3          NA's   :9         \n",
      "[1] \"summary for mtry:  3\"\n",
      " tr_out0_classerror tr_out1_classerror tr_out2_classerror tr_out3_classerror\n",
      " Min.   :0.3333     Min.   :0.4286     Min.   :0.3529     Min.   :0.3810    \n",
      " 1st Qu.:0.6115     1st Qu.:0.6667     1st Qu.:0.5882     1st Qu.:0.5909    \n",
      " Median :0.7000     Median :0.7778     Median :0.6667     Median :0.7000    \n",
      " Mean   :0.7186     Mean   :0.7845     Mean   :0.6782     Mean   :0.6938    \n",
      " 3rd Qu.:0.8462     3rd Qu.:0.9000     3rd Qu.:0.7692     3rd Qu.:0.7895    \n",
      " Max.   :1.0000     Max.   :1.0000     Max.   :1.0000     Max.   :1.0000    \n",
      "                                                                            \n",
      " cv_out0_classerror cv_out1_classerror cv_out2_classerror cv_out3_classerror\n",
      " Min.   :0.0000     Min.   :0.0000     Min.   :0.0000     Min.   :0.000     \n",
      " 1st Qu.:0.6667     1st Qu.:0.6000     1st Qu.:0.5714     1st Qu.:0.600     \n",
      " Median :0.8333     Median :0.8000     Median :0.7143     Median :0.750     \n",
      " Mean   :0.7674     Mean   :0.7617     Mean   :0.6954     Mean   :0.722     \n",
      " 3rd Qu.:1.0000     3rd Qu.:1.0000     3rd Qu.:0.8333     3rd Qu.:0.900     \n",
      " Max.   :1.0000     Max.   :1.0000     Max.   :1.0000     Max.   :1.000     \n",
      " NA's   :6          NA's   :15         NA's   :3          NA's   :9         \n",
      "[1] \"summary for mtry:  4\"\n",
      " tr_out0_classerror tr_out1_classerror tr_out2_classerror tr_out3_classerror\n",
      " Min.   :0.3333     Min.   :0.4286     Min.   :0.3529     Min.   :0.4091    \n",
      " 1st Qu.:0.6226     1st Qu.:0.6667     1st Qu.:0.5714     1st Qu.:0.5714    \n",
      " Median :0.7143     Median :0.7500     Median :0.6667     Median :0.6875    \n",
      " Mean   :0.7262     Mean   :0.7718     Mean   :0.6757     Mean   :0.6866    \n",
      " 3rd Qu.:0.8462     3rd Qu.:0.8750     3rd Qu.:0.7692     3rd Qu.:0.7895    \n",
      " Max.   :1.0000     Max.   :1.0000     Max.   :1.0000     Max.   :1.0000    \n",
      "                                                                            \n",
      " cv_out0_classerror cv_out1_classerror cv_out2_classerror cv_out3_classerror\n",
      " Min.   :0.0000     Min.   :0.0000     Min.   :0.0000     Min.   :0.0000    \n",
      " 1st Qu.:0.6786     1st Qu.:0.5000     1st Qu.:0.5714     1st Qu.:0.5714    \n",
      " Median :0.8333     Median :0.8000     Median :0.7000     Median :0.7500    \n",
      " Mean   :0.7839     Mean   :0.7463     Mean   :0.6950     Mean   :0.7208    \n",
      " 3rd Qu.:1.0000     3rd Qu.:1.0000     3rd Qu.:0.8333     3rd Qu.:0.9000    \n",
      " Max.   :1.0000     Max.   :1.0000     Max.   :1.0000     Max.   :1.0000    \n",
      " NA's   :6          NA's   :15         NA's   :3          NA's   :9         \n"
     ]
    }
   ],
   "source": [
    "## let's see what mtry looks the best for exp2: \n",
    "for (mtry in c(2:4)){\n",
    "    mtry_outcome = outcome_perf_exp[which(outcome_perf_exp$mtry==mtry),]\n",
    "    print(paste('summary for mtry: ', as.character(mtry)))\n",
    "    print(summary(mtry_outcome[,grep('classerror', colnames(mtry_outcome))]))\n",
    "}\n",
    "\n",
    "## looks like mtry=4 is significantly better"
   ]
  },
  {
   "cell_type": "markdown",
   "metadata": {},
   "source": [
    "### d. Use all the perfusion: "
   ]
  },
  {
   "cell_type": "code",
   "execution_count": 129,
   "metadata": {
    "collapsed": true,
    "deletable": true,
    "editable": true
   },
   "outputs": [],
   "source": [
    "outcome_perf_exp = outcome_experiment_template"
   ]
  },
  {
   "cell_type": "code",
   "execution_count": 130,
   "metadata": {
    "collapsed": false,
    "deletable": true,
    "editable": true
   },
   "outputs": [],
   "source": [
    "## let's begin by running experiments for anatomic features only: \n",
    "## for each experiment, we'll run the random forest with a variety of parameters \n",
    "expnum = 1\n",
    "for (i in 1:100){\n",
    "    set.seed(i)\n",
    "    \n",
    "    ## define features and outcome: \n",
    "    outcome = \"tumor_cell_evaluation\"\n",
    "    features.addsign <- paste(perf_fts, collapse = \"+\")\n",
    "    rf_formula = as.formula(paste(outcome, features.addsign, sep = \"~\"))\n",
    "    \n",
    "    ## define training and testing (from the training) basically for x-val: \n",
    "    uniqute_tnums = unique(recgli_train$t_number)\n",
    "    train_tnums = unique_tnums[sample(c(1:length(unique_tnums)), size = round(length(unique_tnums)*.75))]\n",
    "    test_tnums = unique_tnums[! unique_tnums %in% train_tnums]\n",
    "    \n",
    "    recgli_exp_train= recgli_train[recgli_train$t_number %in% train_tnums, ]\n",
    "    recgli_exp_cv = recgli_train[! recgli_train$t_number %in% train_tnums, ]\n",
    "    \n",
    "    for (nodesize in c(1, 2, 3)){\n",
    "        for (mtry in c(2, 3, 4)){\n",
    "            rf = randomForest(formula = rf_formula, \n",
    "                 data = recgli_exp_train, nodesize = nodesize, mtry = mtry)\n",
    "            \n",
    "            cv_preds = predict(rf, recgli_exp_cv)\n",
    "            \n",
    "            cv_conf_mat = confusionMatrix(cv_preds, recgli_exp_cv$tumor_cell_evaluation)\n",
    "            \n",
    "            outcome_perf_exp[expnum,'expnum'] = expnum\n",
    "            outcome_perf_exp[expnum,'node_size'] = nodesize\n",
    "            outcome_perf_exp[expnum,'mtry'] = mtry\n",
    "            outcome_perf_exp[expnum,'tr_out0_pred0'] = rf$confusion['0', '0']\n",
    "            outcome_perf_exp[expnum,'tr_out0_pred1'] = rf$confusion['0', '1']\n",
    "            outcome_perf_exp[expnum,'tr_out0_pred2'] = rf$confusion['0', '2']\n",
    "            outcome_perf_exp[expnum,'tr_out0_pred3'] = rf$confusion['0', '3']\n",
    "            outcome_perf_exp[expnum,'tr_out1_pred0'] = rf$confusion['1', '0']\n",
    "            outcome_perf_exp[expnum,'tr_out1_pred1'] = rf$confusion['1', '1']\n",
    "            outcome_perf_exp[expnum,'tr_out1_pred2'] = rf$confusion['1', '2']\n",
    "            outcome_perf_exp[expnum,'tr_out1_pred3'] = rf$confusion['1', '3']\n",
    "            outcome_perf_exp[expnum,'tr_out2_pred0'] = rf$confusion['2', '0']\n",
    "            outcome_perf_exp[expnum,'tr_out2_pred1'] = rf$confusion['2', '1']\n",
    "            outcome_perf_exp[expnum,'tr_out2_pred2'] = rf$confusion['2', '2']\n",
    "            outcome_perf_exp[expnum,'tr_out2_pred3'] = rf$confusion['2', '3']\n",
    "            outcome_perf_exp[expnum,'tr_out3_pred0'] = rf$confusion['3', '0']\n",
    "            outcome_perf_exp[expnum,'tr_out3_pred1'] = rf$confusion['3', '1']\n",
    "            outcome_perf_exp[expnum,'tr_out3_pred2'] = rf$confusion['3', '2']\n",
    "            outcome_perf_exp[expnum,'tr_out3_pred3'] = rf$confusion['3', '3']\n",
    "            outcome_perf_exp[expnum,'tr_out0_classerror'] = rf$confusion[\"0\", 'class.error']\n",
    "            outcome_perf_exp[expnum,'tr_out1_classerror'] = rf$confusion[\"1\", 'class.error']\n",
    "            outcome_perf_exp[expnum,'tr_out2_classerror'] = rf$confusion[\"2\", 'class.error']\n",
    "            outcome_perf_exp[expnum,'tr_out3_classerror'] = rf$confusion[\"3\", 'class.error']\n",
    "            \n",
    "            outcome_perf_exp[expnum,'cv_out0_pred0'] = cv_conf_mat$table['0', '0']\n",
    "            outcome_perf_exp[expnum,'cv_out0_pred1'] = cv_conf_mat$table['1', '0']\n",
    "            outcome_perf_exp[expnum,'cv_out0_pred2'] = cv_conf_mat$table['2', '0']\n",
    "            outcome_perf_exp[expnum,'cv_out0_pred3'] = cv_conf_mat$table['3', '0']\n",
    "            outcome_perf_exp[expnum,'cv_out1_pred0'] = cv_conf_mat$table['0', '1']\n",
    "            outcome_perf_exp[expnum,'cv_out1_pred1'] = cv_conf_mat$table['1', '1']\n",
    "            outcome_perf_exp[expnum,'cv_out1_pred2'] = cv_conf_mat$table['2', '1']\n",
    "            outcome_perf_exp[expnum,'cv_out1_pred3'] = cv_conf_mat$table['3', '1']\n",
    "            outcome_perf_exp[expnum,'cv_out2_pred0'] = cv_conf_mat$table['0', '2']\n",
    "            outcome_perf_exp[expnum,'cv_out2_pred1'] = cv_conf_mat$table['1', '2']\n",
    "            outcome_perf_exp[expnum,'cv_out2_pred2'] = cv_conf_mat$table['2', '2']\n",
    "            outcome_perf_exp[expnum,'cv_out2_pred3'] = cv_conf_mat$table['3', '2']\n",
    "            outcome_perf_exp[expnum,'cv_out3_pred0'] = cv_conf_mat$table['0', '3']\n",
    "            outcome_perf_exp[expnum,'cv_out3_pred1'] = cv_conf_mat$table['1', '3']\n",
    "            outcome_perf_exp[expnum,'cv_out3_pred2'] = cv_conf_mat$table['2', '3']\n",
    "            outcome_perf_exp[expnum,'cv_out3_pred3'] = cv_conf_mat$table['3', '3']\n",
    "            \n",
    "            expnum = expnum + 1\n",
    "        }\n",
    "    }\n",
    "}"
   ]
  },
  {
   "cell_type": "code",
   "execution_count": 133,
   "metadata": {
    "collapsed": false,
    "deletable": true,
    "editable": true,
    "scrolled": true
   },
   "outputs": [
    {
     "data": {
      "text/html": [
       "<table>\n",
       "<thead><tr><th scope=col>expnum</th><th scope=col>node_size</th><th scope=col>mtry</th><th scope=col>tr_out0_pred0</th><th scope=col>tr_out0_pred1</th><th scope=col>tr_out0_pred2</th><th scope=col>tr_out0_pred3</th><th scope=col>tr_out1_pred0</th><th scope=col>tr_out1_pred1</th><th scope=col>tr_out1_pred2</th><th scope=col>tr_out1_pred3</th><th scope=col>tr_out2_pred0</th><th scope=col>tr_out2_pred1</th><th scope=col>tr_out2_pred2</th><th scope=col>tr_out2_pred3</th><th scope=col>tr_out3_pred0</th><th scope=col>tr_out3_pred1</th><th scope=col>tr_out3_pred2</th><th scope=col>tr_out3_pred3</th><th scope=col>tr_out0_classerror</th><th scope=col>tr_out1_classerror</th><th scope=col>tr_out2_classerror</th><th scope=col>tr_out3_classerror</th><th scope=col>cv_out0_pred0</th><th scope=col>cv_out0_pred1</th><th scope=col>cv_out0_pred2</th><th scope=col>cv_out0_pred3</th><th scope=col>cv_out1_pred0</th><th scope=col>cv_out1_pred1</th><th scope=col>cv_out1_pred2</th><th scope=col>cv_out1_pred3</th><th scope=col>cv_out2_pred0</th><th scope=col>cv_out2_pred1</th><th scope=col>cv_out2_pred2</th><th scope=col>cv_out2_pred3</th><th scope=col>cv_out3_pred0</th><th scope=col>cv_out3_pred1</th><th scope=col>cv_out3_pred2</th><th scope=col>cv_out3_pred3</th><th scope=col>cv_out0_classerror</th><th scope=col>cv_out1_classerror</th><th scope=col>cv_out2_classerror</th><th scope=col>cv_out3_classerror</th></tr></thead>\n",
       "<tbody>\n",
       "\t<tr><td>1        </td><td>1        </td><td>2        </td><td>5        </td><td>1        </td><td>7        </td><td>3        </td><td>1        </td><td>0        </td><td>4        </td><td>3        </td><td>6        </td><td>2        </td><td>5        </td><td>4        </td><td>2        </td><td>1        </td><td>7        </td><td>6        </td><td>0.6875   </td><td>1        </td><td>0.7058824</td><td>0.6250   </td><td>0        </td><td>0        </td><td>0        </td><td>0        </td><td>2        </td><td>0        </td><td>2        </td><td>0        </td><td>0        </td><td>0        </td><td>1        </td><td>2        </td><td>3        </td><td>2        </td><td>3        </td><td>0        </td><td>NaN      </td><td>1        </td><td>0.6666667</td><td>1        </td></tr>\n",
       "\t<tr><td>2        </td><td>1        </td><td>3        </td><td>5        </td><td>1        </td><td>8        </td><td>2        </td><td>1        </td><td>0        </td><td>4        </td><td>3        </td><td>5        </td><td>3        </td><td>5        </td><td>4        </td><td>3        </td><td>1        </td><td>6        </td><td>6        </td><td>0.6875   </td><td>1        </td><td>0.7058824</td><td>0.6250   </td><td>0        </td><td>0        </td><td>0        </td><td>0        </td><td>2        </td><td>0        </td><td>1        </td><td>1        </td><td>0        </td><td>0        </td><td>1        </td><td>2        </td><td>3        </td><td>2        </td><td>3        </td><td>0        </td><td>NaN      </td><td>1        </td><td>0.6666667</td><td>1        </td></tr>\n",
       "\t<tr><td>3        </td><td>1        </td><td>4        </td><td>5        </td><td>2        </td><td>7        </td><td>2        </td><td>1        </td><td>0        </td><td>4        </td><td>3        </td><td>6        </td><td>3        </td><td>4        </td><td>4        </td><td>3        </td><td>1        </td><td>7        </td><td>5        </td><td>0.6875   </td><td>1        </td><td>0.7647059</td><td>0.6875   </td><td>0        </td><td>0        </td><td>0        </td><td>0        </td><td>1        </td><td>0        </td><td>3        </td><td>0        </td><td>0        </td><td>0        </td><td>1        </td><td>2        </td><td>3        </td><td>2        </td><td>3        </td><td>0        </td><td>NaN      </td><td>1        </td><td>0.6666667</td><td>1        </td></tr>\n",
       "\t<tr><td>4        </td><td>2        </td><td>2        </td><td>6        </td><td>2        </td><td>5        </td><td>3        </td><td>1        </td><td>0        </td><td>4        </td><td>3        </td><td>7        </td><td>4        </td><td>4        </td><td>2        </td><td>2        </td><td>1        </td><td>7        </td><td>6        </td><td>0.6250   </td><td>1        </td><td>0.7647059</td><td>0.6250   </td><td>0        </td><td>0        </td><td>0        </td><td>0        </td><td>2        </td><td>0        </td><td>2        </td><td>0        </td><td>0        </td><td>0        </td><td>1        </td><td>2        </td><td>3        </td><td>2        </td><td>3        </td><td>0        </td><td>NaN      </td><td>1        </td><td>0.6666667</td><td>1        </td></tr>\n",
       "\t<tr><td>5        </td><td>2        </td><td>3        </td><td>5        </td><td>2        </td><td>7        </td><td>2        </td><td>1        </td><td>0        </td><td>4        </td><td>3        </td><td>6        </td><td>3        </td><td>3        </td><td>5        </td><td>4        </td><td>2        </td><td>6        </td><td>4        </td><td>0.6875   </td><td>1        </td><td>0.8235294</td><td>0.7500   </td><td>0        </td><td>0        </td><td>0        </td><td>0        </td><td>2        </td><td>0        </td><td>2        </td><td>0        </td><td>0        </td><td>0        </td><td>1        </td><td>2        </td><td>3        </td><td>2        </td><td>3        </td><td>0        </td><td>NaN      </td><td>1        </td><td>0.6666667</td><td>1        </td></tr>\n",
       "\t<tr><td>6        </td><td>2        </td><td>4        </td><td>5        </td><td>2        </td><td>7        </td><td>2        </td><td>1        </td><td>0        </td><td>5        </td><td>2        </td><td>6        </td><td>4        </td><td>3        </td><td>4        </td><td>3        </td><td>1        </td><td>7        </td><td>5        </td><td>0.6875   </td><td>1        </td><td>0.8235294</td><td>0.6875   </td><td>0        </td><td>0        </td><td>0        </td><td>0        </td><td>2        </td><td>0        </td><td>1        </td><td>1        </td><td>0        </td><td>0        </td><td>1        </td><td>2        </td><td>3        </td><td>2        </td><td>3        </td><td>0        </td><td>NaN      </td><td>1        </td><td>0.6666667</td><td>1        </td></tr>\n",
       "</tbody>\n",
       "</table>\n"
      ],
      "text/latex": [
       "\\begin{tabular}{r|lllllllllllllllllllllllllllllllllllllllllll}\n",
       " expnum & node\\_size & mtry & tr\\_out0\\_pred0 & tr\\_out0\\_pred1 & tr\\_out0\\_pred2 & tr\\_out0\\_pred3 & tr\\_out1\\_pred0 & tr\\_out1\\_pred1 & tr\\_out1\\_pred2 & tr\\_out1\\_pred3 & tr\\_out2\\_pred0 & tr\\_out2\\_pred1 & tr\\_out2\\_pred2 & tr\\_out2\\_pred3 & tr\\_out3\\_pred0 & tr\\_out3\\_pred1 & tr\\_out3\\_pred2 & tr\\_out3\\_pred3 & tr\\_out0\\_classerror & tr\\_out1\\_classerror & tr\\_out2\\_classerror & tr\\_out3\\_classerror & cv\\_out0\\_pred0 & cv\\_out0\\_pred1 & cv\\_out0\\_pred2 & cv\\_out0\\_pred3 & cv\\_out1\\_pred0 & cv\\_out1\\_pred1 & cv\\_out1\\_pred2 & cv\\_out1\\_pred3 & cv\\_out2\\_pred0 & cv\\_out2\\_pred1 & cv\\_out2\\_pred2 & cv\\_out2\\_pred3 & cv\\_out3\\_pred0 & cv\\_out3\\_pred1 & cv\\_out3\\_pred2 & cv\\_out3\\_pred3 & cv\\_out0\\_classerror & cv\\_out1\\_classerror & cv\\_out2\\_classerror & cv\\_out3\\_classerror\\\\\n",
       "\\hline\n",
       "\t 1         & 1         & 2         & 5         & 1         & 7         & 3         & 1         & 0         & 4         & 3         & 6         & 2         & 5         & 4         & 2         & 1         & 7         & 6         & 0.6875    & 1         & 0.7058824 & 0.6250    & 0         & 0         & 0         & 0         & 2         & 0         & 2         & 0         & 0         & 0         & 1         & 2         & 3         & 2         & 3         & 0         & NaN       & 1         & 0.6666667 & 1        \\\\\n",
       "\t 2         & 1         & 3         & 5         & 1         & 8         & 2         & 1         & 0         & 4         & 3         & 5         & 3         & 5         & 4         & 3         & 1         & 6         & 6         & 0.6875    & 1         & 0.7058824 & 0.6250    & 0         & 0         & 0         & 0         & 2         & 0         & 1         & 1         & 0         & 0         & 1         & 2         & 3         & 2         & 3         & 0         & NaN       & 1         & 0.6666667 & 1        \\\\\n",
       "\t 3         & 1         & 4         & 5         & 2         & 7         & 2         & 1         & 0         & 4         & 3         & 6         & 3         & 4         & 4         & 3         & 1         & 7         & 5         & 0.6875    & 1         & 0.7647059 & 0.6875    & 0         & 0         & 0         & 0         & 1         & 0         & 3         & 0         & 0         & 0         & 1         & 2         & 3         & 2         & 3         & 0         & NaN       & 1         & 0.6666667 & 1        \\\\\n",
       "\t 4         & 2         & 2         & 6         & 2         & 5         & 3         & 1         & 0         & 4         & 3         & 7         & 4         & 4         & 2         & 2         & 1         & 7         & 6         & 0.6250    & 1         & 0.7647059 & 0.6250    & 0         & 0         & 0         & 0         & 2         & 0         & 2         & 0         & 0         & 0         & 1         & 2         & 3         & 2         & 3         & 0         & NaN       & 1         & 0.6666667 & 1        \\\\\n",
       "\t 5         & 2         & 3         & 5         & 2         & 7         & 2         & 1         & 0         & 4         & 3         & 6         & 3         & 3         & 5         & 4         & 2         & 6         & 4         & 0.6875    & 1         & 0.8235294 & 0.7500    & 0         & 0         & 0         & 0         & 2         & 0         & 2         & 0         & 0         & 0         & 1         & 2         & 3         & 2         & 3         & 0         & NaN       & 1         & 0.6666667 & 1        \\\\\n",
       "\t 6         & 2         & 4         & 5         & 2         & 7         & 2         & 1         & 0         & 5         & 2         & 6         & 4         & 3         & 4         & 3         & 1         & 7         & 5         & 0.6875    & 1         & 0.8235294 & 0.6875    & 0         & 0         & 0         & 0         & 2         & 0         & 1         & 1         & 0         & 0         & 1         & 2         & 3         & 2         & 3         & 0         & NaN       & 1         & 0.6666667 & 1        \\\\\n",
       "\\end{tabular}\n"
      ],
      "text/markdown": [
       "\n",
       "expnum | node_size | mtry | tr_out0_pred0 | tr_out0_pred1 | tr_out0_pred2 | tr_out0_pred3 | tr_out1_pred0 | tr_out1_pred1 | tr_out1_pred2 | tr_out1_pred3 | tr_out2_pred0 | tr_out2_pred1 | tr_out2_pred2 | tr_out2_pred3 | tr_out3_pred0 | tr_out3_pred1 | tr_out3_pred2 | tr_out3_pred3 | tr_out0_classerror | tr_out1_classerror | tr_out2_classerror | tr_out3_classerror | cv_out0_pred0 | cv_out0_pred1 | cv_out0_pred2 | cv_out0_pred3 | cv_out1_pred0 | cv_out1_pred1 | cv_out1_pred2 | cv_out1_pred3 | cv_out2_pred0 | cv_out2_pred1 | cv_out2_pred2 | cv_out2_pred3 | cv_out3_pred0 | cv_out3_pred1 | cv_out3_pred2 | cv_out3_pred3 | cv_out0_classerror | cv_out1_classerror | cv_out2_classerror | cv_out3_classerror | \n",
       "|---|---|---|---|---|---|\n",
       "| 1         | 1         | 2         | 5         | 1         | 7         | 3         | 1         | 0         | 4         | 3         | 6         | 2         | 5         | 4         | 2         | 1         | 7         | 6         | 0.6875    | 1         | 0.7058824 | 0.6250    | 0         | 0         | 0         | 0         | 2         | 0         | 2         | 0         | 0         | 0         | 1         | 2         | 3         | 2         | 3         | 0         | NaN       | 1         | 0.6666667 | 1         | \n",
       "| 2         | 1         | 3         | 5         | 1         | 8         | 2         | 1         | 0         | 4         | 3         | 5         | 3         | 5         | 4         | 3         | 1         | 6         | 6         | 0.6875    | 1         | 0.7058824 | 0.6250    | 0         | 0         | 0         | 0         | 2         | 0         | 1         | 1         | 0         | 0         | 1         | 2         | 3         | 2         | 3         | 0         | NaN       | 1         | 0.6666667 | 1         | \n",
       "| 3         | 1         | 4         | 5         | 2         | 7         | 2         | 1         | 0         | 4         | 3         | 6         | 3         | 4         | 4         | 3         | 1         | 7         | 5         | 0.6875    | 1         | 0.7647059 | 0.6875    | 0         | 0         | 0         | 0         | 1         | 0         | 3         | 0         | 0         | 0         | 1         | 2         | 3         | 2         | 3         | 0         | NaN       | 1         | 0.6666667 | 1         | \n",
       "| 4         | 2         | 2         | 6         | 2         | 5         | 3         | 1         | 0         | 4         | 3         | 7         | 4         | 4         | 2         | 2         | 1         | 7         | 6         | 0.6250    | 1         | 0.7647059 | 0.6250    | 0         | 0         | 0         | 0         | 2         | 0         | 2         | 0         | 0         | 0         | 1         | 2         | 3         | 2         | 3         | 0         | NaN       | 1         | 0.6666667 | 1         | \n",
       "| 5         | 2         | 3         | 5         | 2         | 7         | 2         | 1         | 0         | 4         | 3         | 6         | 3         | 3         | 5         | 4         | 2         | 6         | 4         | 0.6875    | 1         | 0.8235294 | 0.7500    | 0         | 0         | 0         | 0         | 2         | 0         | 2         | 0         | 0         | 0         | 1         | 2         | 3         | 2         | 3         | 0         | NaN       | 1         | 0.6666667 | 1         | \n",
       "| 6         | 2         | 4         | 5         | 2         | 7         | 2         | 1         | 0         | 5         | 2         | 6         | 4         | 3         | 4         | 3         | 1         | 7         | 5         | 0.6875    | 1         | 0.8235294 | 0.6875    | 0         | 0         | 0         | 0         | 2         | 0         | 1         | 1         | 0         | 0         | 1         | 2         | 3         | 2         | 3         | 0         | NaN       | 1         | 0.6666667 | 1         | \n",
       "\n",
       "\n"
      ],
      "text/plain": [
       "  expnum node_size mtry tr_out0_pred0 tr_out0_pred1 tr_out0_pred2 tr_out0_pred3\n",
       "1 1      1         2    5             1             7             3            \n",
       "2 2      1         3    5             1             8             2            \n",
       "3 3      1         4    5             2             7             2            \n",
       "4 4      2         2    6             2             5             3            \n",
       "5 5      2         3    5             2             7             2            \n",
       "6 6      2         4    5             2             7             2            \n",
       "  tr_out1_pred0 tr_out1_pred1 tr_out1_pred2 tr_out1_pred3 tr_out2_pred0\n",
       "1 1             0             4             3             6            \n",
       "2 1             0             4             3             5            \n",
       "3 1             0             4             3             6            \n",
       "4 1             0             4             3             7            \n",
       "5 1             0             4             3             6            \n",
       "6 1             0             5             2             6            \n",
       "  tr_out2_pred1 tr_out2_pred2 tr_out2_pred3 tr_out3_pred0 tr_out3_pred1\n",
       "1 2             5             4             2             1            \n",
       "2 3             5             4             3             1            \n",
       "3 3             4             4             3             1            \n",
       "4 4             4             2             2             1            \n",
       "5 3             3             5             4             2            \n",
       "6 4             3             4             3             1            \n",
       "  tr_out3_pred2 tr_out3_pred3 tr_out0_classerror tr_out1_classerror\n",
       "1 7             6             0.6875             1                 \n",
       "2 6             6             0.6875             1                 \n",
       "3 7             5             0.6875             1                 \n",
       "4 7             6             0.6250             1                 \n",
       "5 6             4             0.6875             1                 \n",
       "6 7             5             0.6875             1                 \n",
       "  tr_out2_classerror tr_out3_classerror cv_out0_pred0 cv_out0_pred1\n",
       "1 0.7058824          0.6250             0             0            \n",
       "2 0.7058824          0.6250             0             0            \n",
       "3 0.7647059          0.6875             0             0            \n",
       "4 0.7647059          0.6250             0             0            \n",
       "5 0.8235294          0.7500             0             0            \n",
       "6 0.8235294          0.6875             0             0            \n",
       "  cv_out0_pred2 cv_out0_pred3 cv_out1_pred0 cv_out1_pred1 cv_out1_pred2\n",
       "1 0             0             2             0             2            \n",
       "2 0             0             2             0             1            \n",
       "3 0             0             1             0             3            \n",
       "4 0             0             2             0             2            \n",
       "5 0             0             2             0             2            \n",
       "6 0             0             2             0             1            \n",
       "  cv_out1_pred3 cv_out2_pred0 cv_out2_pred1 cv_out2_pred2 cv_out2_pred3\n",
       "1 0             0             0             1             2            \n",
       "2 1             0             0             1             2            \n",
       "3 0             0             0             1             2            \n",
       "4 0             0             0             1             2            \n",
       "5 0             0             0             1             2            \n",
       "6 1             0             0             1             2            \n",
       "  cv_out3_pred0 cv_out3_pred1 cv_out3_pred2 cv_out3_pred3 cv_out0_classerror\n",
       "1 3             2             3             0             NaN               \n",
       "2 3             2             3             0             NaN               \n",
       "3 3             2             3             0             NaN               \n",
       "4 3             2             3             0             NaN               \n",
       "5 3             2             3             0             NaN               \n",
       "6 3             2             3             0             NaN               \n",
       "  cv_out1_classerror cv_out2_classerror cv_out3_classerror\n",
       "1 1                  0.6666667          1                 \n",
       "2 1                  0.6666667          1                 \n",
       "3 1                  0.6666667          1                 \n",
       "4 1                  0.6666667          1                 \n",
       "5 1                  0.6666667          1                 \n",
       "6 1                  0.6666667          1                 "
      ]
     },
     "metadata": {},
     "output_type": "display_data"
    }
   ],
   "source": [
    "head(outcome_perf_exp)"
   ]
  },
  {
   "cell_type": "code",
   "execution_count": 132,
   "metadata": {
    "collapsed": true,
    "deletable": true,
    "editable": true
   },
   "outputs": [],
   "source": [
    "outcome_perf_exp['cv_out0_classerror'] = 1-(outcome_perf_exp$cv_out0_pred0)/rowSums(outcome_perf_exp[,grep('cv_out0', colnames(outcome_perf_exp))])\n",
    "outcome_perf_exp['cv_out1_classerror'] = 1-(outcome_perf_exp$cv_out1_pred1)/rowSums(outcome_perf_exp[,grep('cv_out1', colnames(outcome_perf_exp))])\n",
    "outcome_perf_exp['cv_out2_classerror'] = 1-(outcome_perf_exp$cv_out2_pred2)/rowSums(outcome_perf_exp[,grep('cv_out2', colnames(outcome_perf_exp))])\n",
    "outcome_perf_exp['cv_out3_classerror'] = 1-(outcome_perf_exp$cv_out3_pred3)/rowSums(outcome_perf_exp[,grep('cv_out3', colnames(outcome_perf_exp))])"
   ]
  },
  {
   "cell_type": "code",
   "execution_count": 135,
   "metadata": {
    "collapsed": false
   },
   "outputs": [
    {
     "data": {
      "text/plain": [
       " tr_out0_classerror tr_out1_classerror tr_out2_classerror tr_out3_classerror\n",
       " Min.   :0.5000     Min.   :0.4000     Min.   :0.3846     Min.   :0.3182    \n",
       " 1st Qu.:0.6875     1st Qu.:0.8182     1st Qu.:0.6667     1st Qu.:0.5263    \n",
       " Median :0.7778     Median :0.9000     Median :0.7500     Median :0.6111    \n",
       " Mean   :0.7726     Mean   :0.8927     Mean   :0.7454     Mean   :0.6069    \n",
       " 3rd Qu.:0.8333     3rd Qu.:1.0000     3rd Qu.:0.8333     3rd Qu.:0.6875    \n",
       " Max.   :1.0000     Max.   :1.0000     Max.   :1.0000     Max.   :0.9412    \n",
       "                                                                            \n",
       " cv_out0_classerror cv_out1_classerror cv_out2_classerror cv_out3_classerror\n",
       " Min.   :0.0000     Min.   :0.0000     Min.   :0.2000     Min.   :0.0000    \n",
       " 1st Qu.:0.6667     1st Qu.:0.8571     1st Qu.:0.6000     1st Qu.:0.4444    \n",
       " Median :0.8000     Median :1.0000     Median :0.7143     Median :0.6250    \n",
       " Mean   :0.7254     Mean   :0.8985     Mean   :0.7217     Mean   :0.5895    \n",
       " 3rd Qu.:1.0000     3rd Qu.:1.0000     3rd Qu.:0.8333     3rd Qu.:0.8000    \n",
       " Max.   :1.0000     Max.   :1.0000     Max.   :1.0000     Max.   :1.0000    \n",
       " NA's   :18         NA's   :45         NA's   :9          NA's   :27        "
      ]
     },
     "metadata": {},
     "output_type": "display_data"
    }
   ],
   "source": [
    "summary(outcome_perf_exp[,grep('classerror', colnames(outcome_perf_exp))])"
   ]
  },
  {
   "cell_type": "markdown",
   "metadata": {
    "deletable": true,
    "editable": true
   },
   "source": [
    "### e. Use all the spectroscopy: "
   ]
  },
  {
   "cell_type": "code",
   "execution_count": 141,
   "metadata": {
    "collapsed": true,
    "deletable": true,
    "editable": true
   },
   "outputs": [],
   "source": [
    "outcome_spec_exp = outcome_experiment_template"
   ]
  },
  {
   "cell_type": "code",
   "execution_count": 142,
   "metadata": {
    "collapsed": false,
    "deletable": true,
    "editable": true
   },
   "outputs": [],
   "source": [
    "## let's begin by running experiments for anatomic features only: \n",
    "## for each experiment, we'll run the random forest with a variety of parameters \n",
    "expnum = 1\n",
    "for (i in 1:100){\n",
    "    set.seed(i)\n",
    "    \n",
    "    ## define features and outcome: \n",
    "    outcome = \"tumor_cell_evaluation\"\n",
    "    features.addsign <- paste(perf_fts, collapse = \"+\")\n",
    "    rf_formula = as.formula(paste(outcome, features.addsign, sep = \"~\"))\n",
    "    \n",
    "    ## define training and testing (from the training) basically for x-val: \n",
    "    uniqute_tnums = unique(recgli_train$t_number)\n",
    "    train_tnums = unique_tnums[sample(c(1:length(unique_tnums)), size = round(length(unique_tnums)*.75))]\n",
    "    test_tnums = unique_tnums[! unique_tnums %in% train_tnums]\n",
    "    \n",
    "    recgli_exp_train= recgli_train[recgli_train$t_number %in% train_tnums, ]\n",
    "    recgli_exp_cv = recgli_train[! recgli_train$t_number %in% train_tnums, ]\n",
    "    \n",
    "    for (nodesize in c(1, 2, 3)){\n",
    "        for (mtry in c(2, 3, 4)){\n",
    "            rf = randomForest(formula = rf_formula, \n",
    "                 data = recgli_exp_train, nodesize = nodesize, mtry = mtry)\n",
    "            \n",
    "            cv_preds = predict(rf, recgli_exp_cv)\n",
    "            \n",
    "            cv_conf_mat = confusionMatrix(cv_preds, recgli_exp_cv$tumor_cell_evaluation)\n",
    "            \n",
    "            outcome_spec_exp[expnum,'expnum'] = expnum\n",
    "            outcome_spec_exp[expnum,'node_size'] = nodesize\n",
    "            outcome_spec_exp[expnum,'mtry'] = mtry\n",
    "            outcome_spec_exp[expnum,'tr_out0_pred0'] = rf$confusion['0', '0']\n",
    "            outcome_spec_exp[expnum,'tr_out0_pred1'] = rf$confusion['0', '1']\n",
    "            outcome_spec_exp[expnum,'tr_out0_pred2'] = rf$confusion['0', '2']\n",
    "            outcome_spec_exp[expnum,'tr_out0_pred3'] = rf$confusion['0', '3']\n",
    "            outcome_spec_exp[expnum,'tr_out1_pred0'] = rf$confusion['1', '0']\n",
    "            outcome_spec_exp[expnum,'tr_out1_pred1'] = rf$confusion['1', '1']\n",
    "            outcome_spec_exp[expnum,'tr_out1_pred2'] = rf$confusion['1', '2']\n",
    "            outcome_spec_exp[expnum,'tr_out1_pred3'] = rf$confusion['1', '3']\n",
    "            outcome_spec_exp[expnum,'tr_out2_pred0'] = rf$confusion['2', '0']\n",
    "            outcome_spec_exp[expnum,'tr_out2_pred1'] = rf$confusion['2', '1']\n",
    "            outcome_spec_exp[expnum,'tr_out2_pred2'] = rf$confusion['2', '2']\n",
    "            outcome_spec_exp[expnum,'tr_out2_pred3'] = rf$confusion['2', '3']\n",
    "            outcome_spec_exp[expnum,'tr_out3_pred0'] = rf$confusion['3', '0']\n",
    "            outcome_spec_exp[expnum,'tr_out3_pred1'] = rf$confusion['3', '1']\n",
    "            outcome_spec_exp[expnum,'tr_out3_pred2'] = rf$confusion['3', '2']\n",
    "            outcome_spec_exp[expnum,'tr_out3_pred3'] = rf$confusion['3', '3']\n",
    "            outcome_spec_exp[expnum,'tr_out0_classerror'] = rf$confusion[\"0\", 'class.error']\n",
    "            outcome_spec_exp[expnum,'tr_out1_classerror'] = rf$confusion[\"1\", 'class.error']\n",
    "            outcome_spec_exp[expnum,'tr_out2_classerror'] = rf$confusion[\"2\", 'class.error']\n",
    "            outcome_spec_exp[expnum,'tr_out3_classerror'] = rf$confusion[\"3\", 'class.error']\n",
    "            \n",
    "            outcome_spec_exp[expnum,'cv_out0_pred0'] = cv_conf_mat$table['0', '0']\n",
    "            outcome_spec_exp[expnum,'cv_out0_pred1'] = cv_conf_mat$table['1', '0']\n",
    "            outcome_spec_exp[expnum,'cv_out0_pred2'] = cv_conf_mat$table['2', '0']\n",
    "            outcome_spec_exp[expnum,'cv_out0_pred3'] = cv_conf_mat$table['3', '0']\n",
    "            outcome_spec_exp[expnum,'cv_out1_pred0'] = cv_conf_mat$table['0', '1']\n",
    "            outcome_spec_exp[expnum,'cv_out1_pred1'] = cv_conf_mat$table['1', '1']\n",
    "            outcome_spec_exp[expnum,'cv_out1_pred2'] = cv_conf_mat$table['2', '1']\n",
    "            outcome_spec_exp[expnum,'cv_out1_pred3'] = cv_conf_mat$table['3', '1']\n",
    "            outcome_spec_exp[expnum,'cv_out2_pred0'] = cv_conf_mat$table['0', '2']\n",
    "            outcome_spec_exp[expnum,'cv_out2_pred1'] = cv_conf_mat$table['1', '2']\n",
    "            outcome_spec_exp[expnum,'cv_out2_pred2'] = cv_conf_mat$table['2', '2']\n",
    "            outcome_spec_exp[expnum,'cv_out2_pred3'] = cv_conf_mat$table['3', '2']\n",
    "            outcome_spec_exp[expnum,'cv_out3_pred0'] = cv_conf_mat$table['0', '3']\n",
    "            outcome_spec_exp[expnum,'cv_out3_pred1'] = cv_conf_mat$table['1', '3']\n",
    "            outcome_spec_exp[expnum,'cv_out3_pred2'] = cv_conf_mat$table['2', '3']\n",
    "            outcome_spec_exp[expnum,'cv_out3_pred3'] = cv_conf_mat$table['3', '3']\n",
    "            \n",
    "            expnum = expnum + 1\n",
    "        }\n",
    "    }\n",
    "}"
   ]
  },
  {
   "cell_type": "code",
   "execution_count": 143,
   "metadata": {
    "collapsed": false,
    "deletable": true,
    "editable": true
   },
   "outputs": [],
   "source": [
    "outcome_spec_exp['cv_out0_classerror'] = 1-(outcome_spec_exp$cv_out0_pred0)/rowSums(outcome_spec_exp[,grep('cv_out0', colnames(outcome_spec_exp))])\n",
    "outcome_spec_exp['cv_out1_classerror'] = 1-(outcome_spec_exp$cv_out1_pred1)/rowSums(outcome_spec_exp[,grep('cv_out1', colnames(outcome_spec_exp))])\n",
    "outcome_spec_exp['cv_out2_classerror'] = 1-(outcome_spec_exp$cv_out2_pred2)/rowSums(outcome_spec_exp[,grep('cv_out2', colnames(outcome_spec_exp))])\n",
    "outcome_spec_exp['cv_out3_classerror'] = 1-(outcome_spec_exp$cv_out3_pred3)/rowSums(outcome_spec_exp[,grep('cv_out3', colnames(outcome_spec_exp))])"
   ]
  },
  {
   "cell_type": "code",
   "execution_count": 144,
   "metadata": {
    "collapsed": false,
    "deletable": true,
    "editable": true
   },
   "outputs": [
    {
     "data": {
      "text/plain": [
       " tr_out0_classerror tr_out1_classerror tr_out2_classerror tr_out3_classerror\n",
       " Min.   :0.5000     Min.   :0.4000     Min.   :0.3846     Min.   :0.3182    \n",
       " 1st Qu.:0.6875     1st Qu.:0.8182     1st Qu.:0.6667     1st Qu.:0.5263    \n",
       " Median :0.7778     Median :0.9000     Median :0.7500     Median :0.6111    \n",
       " Mean   :0.7726     Mean   :0.8927     Mean   :0.7454     Mean   :0.6069    \n",
       " 3rd Qu.:0.8333     3rd Qu.:1.0000     3rd Qu.:0.8333     3rd Qu.:0.6875    \n",
       " Max.   :1.0000     Max.   :1.0000     Max.   :1.0000     Max.   :0.9412    \n",
       "                                                                            \n",
       " cv_out0_classerror cv_out1_classerror cv_out2_classerror cv_out3_classerror\n",
       " Min.   :0.0000     Min.   :0.0000     Min.   :0.2000     Min.   :0.0000    \n",
       " 1st Qu.:0.6667     1st Qu.:0.8571     1st Qu.:0.6000     1st Qu.:0.4444    \n",
       " Median :0.8000     Median :1.0000     Median :0.7143     Median :0.6250    \n",
       " Mean   :0.7254     Mean   :0.8985     Mean   :0.7217     Mean   :0.5895    \n",
       " 3rd Qu.:1.0000     3rd Qu.:1.0000     3rd Qu.:0.8333     3rd Qu.:0.8000    \n",
       " Max.   :1.0000     Max.   :1.0000     Max.   :1.0000     Max.   :1.0000    \n",
       " NA's   :18         NA's   :45         NA's   :9          NA's   :27        "
      ]
     },
     "metadata": {},
     "output_type": "display_data"
    }
   ],
   "source": [
    "summary(outcome_spec_exp[,grep('classerror', colnames(outcome_perf_exp))])"
   ]
  },
  {
   "cell_type": "code",
   "execution_count": null,
   "metadata": {
    "collapsed": true
   },
   "outputs": [],
   "source": []
  }
 ],
 "metadata": {
  "kernelspec": {
   "display_name": "R",
   "language": "R",
   "name": "ir"
  },
  "language_info": {
   "codemirror_mode": "r",
   "file_extension": ".r",
   "mimetype": "text/x-r-source",
   "name": "R",
   "pygments_lexer": "r",
   "version": "3.4.0"
  }
 },
 "nbformat": 4,
 "nbformat_minor": 2
}
