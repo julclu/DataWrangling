{
 "cells": [
  {
   "cell_type": "markdown",
   "metadata": {},
   "source": [
    "## Introduction: \n",
    "\n",
    "This notebook will have all samples, including necrosis. We will use all of the samples with complete data: "
   ]
  },
  {
   "cell_type": "code",
   "execution_count": 7,
   "metadata": {
    "collapsed": false,
    "deletable": true,
    "editable": true
   },
   "outputs": [],
   "source": [
    "library(randomForestSRC)\n",
    "options(repr.matrix.max.rows=600, repr.matrix.max.cols=200)\n",
    "library(randomForest)\n",
    "#install.packages(\"Metrics\")\n",
    "library(Metrics)\n",
    "source('AUC_workhorse.R')"
   ]
  },
  {
   "cell_type": "code",
   "execution_count": 8,
   "metadata": {
    "collapsed": true,
    "deletable": true,
    "editable": true
   },
   "outputs": [],
   "source": [
    "require(randomForestSRC)"
   ]
  },
  {
   "cell_type": "code",
   "execution_count": 9,
   "metadata": {
    "collapsed": true,
    "deletable": true,
    "editable": true
   },
   "outputs": [],
   "source": [
    "set.seed(101)\n",
    "i = sample(1000, 1)"
   ]
  },
  {
   "cell_type": "code",
   "execution_count": 10,
   "metadata": {
    "collapsed": true,
    "deletable": true,
    "editable": true
   },
   "outputs": [],
   "source": [
    "train_path = paste('../../AllBiopsies/Training_withNec/train_data_',as.character(i),'.csv', sep = \"\")\n",
    "test_path = paste('../../AllBiopsies/Testing_withNec/test_data_',as.character(i),'.csv', sep = \"\")"
   ]
  },
  {
   "cell_type": "code",
   "execution_count": 11,
   "metadata": {
    "collapsed": true,
    "deletable": true,
    "editable": true
   },
   "outputs": [],
   "source": [
    "train_data = read.csv(train_path)\n",
    "test_data = read.csv(test_path)"
   ]
  },
  {
   "cell_type": "code",
   "execution_count": 12,
   "metadata": {
    "collapsed": false,
    "deletable": true,
    "editable": true
   },
   "outputs": [
    {
     "data": {
      "text/html": [
       "<ol class=list-inline>\n",
       "\t<li>329</li>\n",
       "\t<li>75</li>\n",
       "</ol>\n"
      ],
      "text/latex": [
       "\\begin{enumerate*}\n",
       "\\item 329\n",
       "\\item 75\n",
       "\\end{enumerate*}\n"
      ],
      "text/markdown": [
       "1. 329\n",
       "2. 75\n",
       "\n",
       "\n"
      ],
      "text/plain": [
       "[1] 329  75"
      ]
     },
     "metadata": {},
     "output_type": "display_data"
    },
    {
     "data": {
      "text/html": [
       "<ol class=list-inline>\n",
       "\t<li>106</li>\n",
       "\t<li>75</li>\n",
       "</ol>\n"
      ],
      "text/latex": [
       "\\begin{enumerate*}\n",
       "\\item 106\n",
       "\\item 75\n",
       "\\end{enumerate*}\n"
      ],
      "text/markdown": [
       "1. 106\n",
       "2. 75\n",
       "\n",
       "\n"
      ],
      "text/plain": [
       "[1] 106  75"
      ]
     },
     "metadata": {},
     "output_type": "display_data"
    }
   ],
   "source": [
    "dim(train_data)\n",
    "dim(test_data)"
   ]
  },
  {
   "cell_type": "code",
   "execution_count": 13,
   "metadata": {
    "collapsed": false,
    "deletable": true,
    "editable": true
   },
   "outputs": [
    {
     "data": {
      "text/html": [
       "<table>\n",
       "<thead><tr><th scope=col>index</th><th scope=col>colnames</th></tr></thead>\n",
       "<tbody>\n",
       "\t<tr><td> 1                       </td><td>b_number                 </td></tr>\n",
       "\t<tr><td> 2                       </td><td>t_number                 </td></tr>\n",
       "\t<tr><td> 3                       </td><td>sf_number                </td></tr>\n",
       "\t<tr><td> 4                       </td><td>current_scan_date        </td></tr>\n",
       "\t<tr><td> 5                       </td><td>current_surgery_date     </td></tr>\n",
       "\t<tr><td> 6                       </td><td>current_hist_grade       </td></tr>\n",
       "\t<tr><td> 7                       </td><td>current_hist_type        </td></tr>\n",
       "\t<tr><td> 8                       </td><td>roi.label                </td></tr>\n",
       "\t<tr><td> 9                       </td><td>tumor_cell_evaluation    </td></tr>\n",
       "\t<tr><td>10                       </td><td>necrosis                 </td></tr>\n",
       "\t<tr><td>11                       </td><td>f8_delicate              </td></tr>\n",
       "\t<tr><td>12                       </td><td>f8_simple                </td></tr>\n",
       "\t<tr><td>13                       </td><td>f8_complex               </td></tr>\n",
       "\t<tr><td>14                       </td><td>mib_1                    </td></tr>\n",
       "\t<tr><td>15                       </td><td>bx_pure_treatment_effect </td></tr>\n",
       "\t<tr><td>16                       </td><td>nfse                     </td></tr>\n",
       "\t<tr><td>17                       </td><td>nfl                      </td></tr>\n",
       "\t<tr><td>18                       </td><td>nt1c                     </td></tr>\n",
       "\t<tr><td>19                       </td><td>nt1v                     </td></tr>\n",
       "\t<tr><td>20                       </td><td>nt1d                     </td></tr>\n",
       "\t<tr><td>21                       </td><td>nadc.1                   </td></tr>\n",
       "\t<tr><td>22                       </td><td>nfa.1                    </td></tr>\n",
       "\t<tr><td>23                       </td><td>nev1.1                   </td></tr>\n",
       "\t<tr><td>24                       </td><td>nev2.1                   </td></tr>\n",
       "\t<tr><td>25                       </td><td>nev3.1                   </td></tr>\n",
       "\t<tr><td>26                       </td><td>nevrad.1                 </td></tr>\n",
       "\t<tr><td>27                       </td><td>nadc.2                   </td></tr>\n",
       "\t<tr><td>28                       </td><td>nfa.2                    </td></tr>\n",
       "\t<tr><td>29                       </td><td>nev1.2                   </td></tr>\n",
       "\t<tr><td>30                       </td><td>nev2.2                   </td></tr>\n",
       "\t<tr><td>31                       </td><td>nev3.2                   </td></tr>\n",
       "\t<tr><td>32                       </td><td>nevrad.2                 </td></tr>\n",
       "\t<tr><td>33                       </td><td>cbvn_nlin                </td></tr>\n",
       "\t<tr><td>34                       </td><td>phn_nlin                 </td></tr>\n",
       "\t<tr><td>35                       </td><td>phn_npar                 </td></tr>\n",
       "\t<tr><td>36                       </td><td>recovn_npar              </td></tr>\n",
       "\t<tr><td>37                       </td><td>cni                      </td></tr>\n",
       "\t<tr><td>38                       </td><td>ccri                     </td></tr>\n",
       "\t<tr><td>39                       </td><td>crni                     </td></tr>\n",
       "\t<tr><td>40                       </td><td>ncho                     </td></tr>\n",
       "\t<tr><td>41                       </td><td>ncre                     </td></tr>\n",
       "\t<tr><td>42                       </td><td>nnaa                     </td></tr>\n",
       "\t<tr><td>43                       </td><td>laclip                   </td></tr>\n",
       "\t<tr><td>44                       </td><td>nlip                     </td></tr>\n",
       "\t<tr><td>45                       </td><td>nlac                     </td></tr>\n",
       "\t<tr><td>46                       </td><td>olddata                  </td></tr>\n",
       "\t<tr><td>47                       </td><td>newdata                  </td></tr>\n",
       "\t<tr><td>48                       </td><td>comments                 </td></tr>\n",
       "\t<tr><td>49                       </td><td>notes.                   </td></tr>\n",
       "\t<tr><td>50                       </td><td>imaging_code             </td></tr>\n",
       "\t<tr><td>51                       </td><td>perf_quant               </td></tr>\n",
       "\t<tr><td>52                       </td><td>cbv_nlin                 </td></tr>\n",
       "\t<tr><td>53                       </td><td>spec_quant               </td></tr>\n",
       "\t<tr><td>54                       </td><td>include_anat             </td></tr>\n",
       "\t<tr><td>55                       </td><td>include_diffu1000        </td></tr>\n",
       "\t<tr><td>56                       </td><td>include_diffu2000        </td></tr>\n",
       "\t<tr><td>57                       </td><td>include_diffu_all        </td></tr>\n",
       "\t<tr><td>58                       </td><td>include_perf             </td></tr>\n",
       "\t<tr><td>59                       </td><td>include_spec             </td></tr>\n",
       "\t<tr><td>60                       </td><td>include_one_advanced_mod </td></tr>\n",
       "\t<tr><td>61                       </td><td>include_all_advanced_mods</td></tr>\n",
       "\t<tr><td>62                       </td><td>X.CEL                    </td></tr>\n",
       "\t<tr><td>63                       </td><td>X.NEL                    </td></tr>\n",
       "\t<tr><td>64                       </td><td>X.NEC                    </td></tr>\n",
       "\t<tr><td>65                       </td><td>sum                      </td></tr>\n",
       "\t<tr><td>66                       </td><td>in_CEL                   </td></tr>\n",
       "\t<tr><td>67                       </td><td>in_T2all                 </td></tr>\n",
       "\t<tr><td>68                       </td><td>in_NEL                   </td></tr>\n",
       "\t<tr><td>69                       </td><td>in_NEC                   </td></tr>\n",
       "\t<tr><td>70                       </td><td>in_ROI                   </td></tr>\n",
       "\t<tr><td>71                       </td><td>desired_hist             </td></tr>\n",
       "\t<tr><td>72                       </td><td>multnom_out              </td></tr>\n",
       "\t<tr><td>73                       </td><td>no_ffpe                  </td></tr>\n",
       "\t<tr><td>74                       </td><td>waiting_on_path          </td></tr>\n",
       "\t<tr><td>75                       </td><td>rhgg_txe_analysis        </td></tr>\n",
       "</tbody>\n",
       "</table>\n"
      ],
      "text/latex": [
       "\\begin{tabular}{r|ll}\n",
       " index & colnames\\\\\n",
       "\\hline\n",
       "\t  1                          & b\\_number                 \\\\\n",
       "\t  2                          & t\\_number                 \\\\\n",
       "\t  3                          & sf\\_number                \\\\\n",
       "\t  4                            & current\\_scan\\_date        \\\\\n",
       "\t  5                            & current\\_surgery\\_date     \\\\\n",
       "\t  6                            & current\\_hist\\_grade       \\\\\n",
       "\t  7                            & current\\_hist\\_type        \\\\\n",
       "\t  8                        & roi.label                \\\\\n",
       "\t  9                            & tumor\\_cell\\_evaluation    \\\\\n",
       "\t 10                        & necrosis                 \\\\\n",
       "\t 11                          & f8\\_delicate              \\\\\n",
       "\t 12                          & f8\\_simple                \\\\\n",
       "\t 13                          & f8\\_complex               \\\\\n",
       "\t 14                          & mib\\_1                    \\\\\n",
       "\t 15                              & bx\\_pure\\_treatment\\_effect \\\\\n",
       "\t 16                        & nfse                     \\\\\n",
       "\t 17                        & nfl                      \\\\\n",
       "\t 18                        & nt1c                     \\\\\n",
       "\t 19                        & nt1v                     \\\\\n",
       "\t 20                        & nt1d                     \\\\\n",
       "\t 21                        & nadc.1                   \\\\\n",
       "\t 22                        & nfa.1                    \\\\\n",
       "\t 23                        & nev1.1                   \\\\\n",
       "\t 24                        & nev2.1                   \\\\\n",
       "\t 25                        & nev3.1                   \\\\\n",
       "\t 26                        & nevrad.1                 \\\\\n",
       "\t 27                        & nadc.2                   \\\\\n",
       "\t 28                        & nfa.2                    \\\\\n",
       "\t 29                        & nev1.2                   \\\\\n",
       "\t 30                        & nev2.2                   \\\\\n",
       "\t 31                        & nev3.2                   \\\\\n",
       "\t 32                        & nevrad.2                 \\\\\n",
       "\t 33                          & cbvn\\_nlin                \\\\\n",
       "\t 34                          & phn\\_nlin                 \\\\\n",
       "\t 35                          & phn\\_npar                 \\\\\n",
       "\t 36                          & recovn\\_npar              \\\\\n",
       "\t 37                        & cni                      \\\\\n",
       "\t 38                        & ccri                     \\\\\n",
       "\t 39                        & crni                     \\\\\n",
       "\t 40                        & ncho                     \\\\\n",
       "\t 41                        & ncre                     \\\\\n",
       "\t 42                        & nnaa                     \\\\\n",
       "\t 43                        & laclip                   \\\\\n",
       "\t 44                        & nlip                     \\\\\n",
       "\t 45                        & nlac                     \\\\\n",
       "\t 46                        & olddata                  \\\\\n",
       "\t 47                        & newdata                  \\\\\n",
       "\t 48                        & comments                 \\\\\n",
       "\t 49                        & notes.                   \\\\\n",
       "\t 50                          & imaging\\_code             \\\\\n",
       "\t 51                          & perf\\_quant               \\\\\n",
       "\t 52                          & cbv\\_nlin                 \\\\\n",
       "\t 53                          & spec\\_quant               \\\\\n",
       "\t 54                          & include\\_anat             \\\\\n",
       "\t 55                          & include\\_diffu1000        \\\\\n",
       "\t 56                          & include\\_diffu2000        \\\\\n",
       "\t 57                            & include\\_diffu\\_all        \\\\\n",
       "\t 58                          & include\\_perf             \\\\\n",
       "\t 59                          & include\\_spec             \\\\\n",
       "\t 60                              & include\\_one\\_advanced\\_mod \\\\\n",
       "\t 61                              & include\\_all\\_advanced\\_mods\\\\\n",
       "\t 62                        & X.CEL                    \\\\\n",
       "\t 63                        & X.NEL                    \\\\\n",
       "\t 64                        & X.NEC                    \\\\\n",
       "\t 65                        & sum                      \\\\\n",
       "\t 66                          & in\\_CEL                   \\\\\n",
       "\t 67                          & in\\_T2all                 \\\\\n",
       "\t 68                          & in\\_NEL                   \\\\\n",
       "\t 69                          & in\\_NEC                   \\\\\n",
       "\t 70                          & in\\_ROI                   \\\\\n",
       "\t 71                          & desired\\_hist             \\\\\n",
       "\t 72                          & multnom\\_out              \\\\\n",
       "\t 73                          & no\\_ffpe                  \\\\\n",
       "\t 74                            & waiting\\_on\\_path          \\\\\n",
       "\t 75                            & rhgg\\_txe\\_analysis        \\\\\n",
       "\\end{tabular}\n"
      ],
      "text/markdown": [
       "\n",
       "index | colnames | \n",
       "|---|---|---|---|---|---|---|---|---|---|---|---|---|---|---|---|---|---|---|---|---|---|---|---|---|---|---|---|---|---|---|---|---|---|---|---|---|---|---|---|---|---|---|---|---|---|---|---|---|---|---|---|---|---|---|---|---|---|---|---|---|---|---|---|---|---|---|---|---|---|---|---|---|---|---|\n",
       "|  1                        | b_number                  | \n",
       "|  2                        | t_number                  | \n",
       "|  3                        | sf_number                 | \n",
       "|  4                        | current_scan_date         | \n",
       "|  5                        | current_surgery_date      | \n",
       "|  6                        | current_hist_grade        | \n",
       "|  7                        | current_hist_type         | \n",
       "|  8                        | roi.label                 | \n",
       "|  9                        | tumor_cell_evaluation     | \n",
       "| 10                        | necrosis                  | \n",
       "| 11                        | f8_delicate               | \n",
       "| 12                        | f8_simple                 | \n",
       "| 13                        | f8_complex                | \n",
       "| 14                        | mib_1                     | \n",
       "| 15                        | bx_pure_treatment_effect  | \n",
       "| 16                        | nfse                      | \n",
       "| 17                        | nfl                       | \n",
       "| 18                        | nt1c                      | \n",
       "| 19                        | nt1v                      | \n",
       "| 20                        | nt1d                      | \n",
       "| 21                        | nadc.1                    | \n",
       "| 22                        | nfa.1                     | \n",
       "| 23                        | nev1.1                    | \n",
       "| 24                        | nev2.1                    | \n",
       "| 25                        | nev3.1                    | \n",
       "| 26                        | nevrad.1                  | \n",
       "| 27                        | nadc.2                    | \n",
       "| 28                        | nfa.2                     | \n",
       "| 29                        | nev1.2                    | \n",
       "| 30                        | nev2.2                    | \n",
       "| 31                        | nev3.2                    | \n",
       "| 32                        | nevrad.2                  | \n",
       "| 33                        | cbvn_nlin                 | \n",
       "| 34                        | phn_nlin                  | \n",
       "| 35                        | phn_npar                  | \n",
       "| 36                        | recovn_npar               | \n",
       "| 37                        | cni                       | \n",
       "| 38                        | ccri                      | \n",
       "| 39                        | crni                      | \n",
       "| 40                        | ncho                      | \n",
       "| 41                        | ncre                      | \n",
       "| 42                        | nnaa                      | \n",
       "| 43                        | laclip                    | \n",
       "| 44                        | nlip                      | \n",
       "| 45                        | nlac                      | \n",
       "| 46                        | olddata                   | \n",
       "| 47                        | newdata                   | \n",
       "| 48                        | comments                  | \n",
       "| 49                        | notes.                    | \n",
       "| 50                        | imaging_code              | \n",
       "| 51                        | perf_quant                | \n",
       "| 52                        | cbv_nlin                  | \n",
       "| 53                        | spec_quant                | \n",
       "| 54                        | include_anat              | \n",
       "| 55                        | include_diffu1000         | \n",
       "| 56                        | include_diffu2000         | \n",
       "| 57                        | include_diffu_all         | \n",
       "| 58                        | include_perf              | \n",
       "| 59                        | include_spec              | \n",
       "| 60                        | include_one_advanced_mod  | \n",
       "| 61                        | include_all_advanced_mods | \n",
       "| 62                        | X.CEL                     | \n",
       "| 63                        | X.NEL                     | \n",
       "| 64                        | X.NEC                     | \n",
       "| 65                        | sum                       | \n",
       "| 66                        | in_CEL                    | \n",
       "| 67                        | in_T2all                  | \n",
       "| 68                        | in_NEL                    | \n",
       "| 69                        | in_NEC                    | \n",
       "| 70                        | in_ROI                    | \n",
       "| 71                        | desired_hist              | \n",
       "| 72                        | multnom_out               | \n",
       "| 73                        | no_ffpe                   | \n",
       "| 74                        | waiting_on_path           | \n",
       "| 75                        | rhgg_txe_analysis         | \n",
       "\n",
       "\n"
      ],
      "text/plain": [
       "   index colnames                 \n",
       "1   1    b_number                 \n",
       "2   2    t_number                 \n",
       "3   3    sf_number                \n",
       "4   4    current_scan_date        \n",
       "5   5    current_surgery_date     \n",
       "6   6    current_hist_grade       \n",
       "7   7    current_hist_type        \n",
       "8   8    roi.label                \n",
       "9   9    tumor_cell_evaluation    \n",
       "10 10    necrosis                 \n",
       "11 11    f8_delicate              \n",
       "12 12    f8_simple                \n",
       "13 13    f8_complex               \n",
       "14 14    mib_1                    \n",
       "15 15    bx_pure_treatment_effect \n",
       "16 16    nfse                     \n",
       "17 17    nfl                      \n",
       "18 18    nt1c                     \n",
       "19 19    nt1v                     \n",
       "20 20    nt1d                     \n",
       "21 21    nadc.1                   \n",
       "22 22    nfa.1                    \n",
       "23 23    nev1.1                   \n",
       "24 24    nev2.1                   \n",
       "25 25    nev3.1                   \n",
       "26 26    nevrad.1                 \n",
       "27 27    nadc.2                   \n",
       "28 28    nfa.2                    \n",
       "29 29    nev1.2                   \n",
       "30 30    nev2.2                   \n",
       "31 31    nev3.2                   \n",
       "32 32    nevrad.2                 \n",
       "33 33    cbvn_nlin                \n",
       "34 34    phn_nlin                 \n",
       "35 35    phn_npar                 \n",
       "36 36    recovn_npar              \n",
       "37 37    cni                      \n",
       "38 38    ccri                     \n",
       "39 39    crni                     \n",
       "40 40    ncho                     \n",
       "41 41    ncre                     \n",
       "42 42    nnaa                     \n",
       "43 43    laclip                   \n",
       "44 44    nlip                     \n",
       "45 45    nlac                     \n",
       "46 46    olddata                  \n",
       "47 47    newdata                  \n",
       "48 48    comments                 \n",
       "49 49    notes.                   \n",
       "50 50    imaging_code             \n",
       "51 51    perf_quant               \n",
       "52 52    cbv_nlin                 \n",
       "53 53    spec_quant               \n",
       "54 54    include_anat             \n",
       "55 55    include_diffu1000        \n",
       "56 56    include_diffu2000        \n",
       "57 57    include_diffu_all        \n",
       "58 58    include_perf             \n",
       "59 59    include_spec             \n",
       "60 60    include_one_advanced_mod \n",
       "61 61    include_all_advanced_mods\n",
       "62 62    X.CEL                    \n",
       "63 63    X.NEL                    \n",
       "64 64    X.NEC                    \n",
       "65 65    sum                      \n",
       "66 66    in_CEL                   \n",
       "67 67    in_T2all                 \n",
       "68 68    in_NEL                   \n",
       "69 69    in_NEC                   \n",
       "70 70    in_ROI                   \n",
       "71 71    desired_hist             \n",
       "72 72    multnom_out              \n",
       "73 73    no_ffpe                  \n",
       "74 74    waiting_on_path          \n",
       "75 75    rhgg_txe_analysis        "
      ]
     },
     "metadata": {},
     "output_type": "display_data"
    }
   ],
   "source": [
    "data.frame(index = 1:length(colnames(train_data)), colnames = colnames(train_data))"
   ]
  },
  {
   "cell_type": "code",
   "execution_count": 14,
   "metadata": {
    "collapsed": false,
    "deletable": true,
    "editable": true
   },
   "outputs": [
    {
     "data": {
      "text/html": [
       "19"
      ],
      "text/latex": [
       "19"
      ],
      "text/markdown": [
       "19"
      ],
      "text/plain": [
       "[1] 19"
      ]
     },
     "metadata": {},
     "output_type": "display_data"
    }
   ],
   "source": [
    "features_for_rf = colnames(train_data)[c(16:19, 21:22, 33, 34, 37:43, 46,66, 68,69)]\n",
    "length(features_for_rf)\n",
    "outcome = colnames(train_data)[9]"
   ]
  },
  {
   "cell_type": "code",
   "execution_count": 15,
   "metadata": {
    "collapsed": false,
    "deletable": true,
    "editable": true
   },
   "outputs": [],
   "source": [
    "train_data = train_data[,c(outcome, features_for_rf)]\n",
    "test_data = test_data[,c(outcome, features_for_rf)]"
   ]
  },
  {
   "cell_type": "code",
   "execution_count": 16,
   "metadata": {
    "collapsed": false,
    "deletable": true,
    "editable": true
   },
   "outputs": [
    {
     "data": {
      "text/html": [
       "<ol class=list-inline>\n",
       "\t<li>319</li>\n",
       "\t<li>20</li>\n",
       "</ol>\n"
      ],
      "text/latex": [
       "\\begin{enumerate*}\n",
       "\\item 319\n",
       "\\item 20\n",
       "\\end{enumerate*}\n"
      ],
      "text/markdown": [
       "1. 319\n",
       "2. 20\n",
       "\n",
       "\n"
      ],
      "text/plain": [
       "[1] 319  20"
      ]
     },
     "metadata": {},
     "output_type": "display_data"
    },
    {
     "data": {
      "text/html": [
       "<ol class=list-inline>\n",
       "\t<li>104</li>\n",
       "\t<li>20</li>\n",
       "</ol>\n"
      ],
      "text/latex": [
       "\\begin{enumerate*}\n",
       "\\item 104\n",
       "\\item 20\n",
       "\\end{enumerate*}\n"
      ],
      "text/markdown": [
       "1. 104\n",
       "2. 20\n",
       "\n",
       "\n"
      ],
      "text/plain": [
       "[1] 104  20"
      ]
     },
     "metadata": {},
     "output_type": "display_data"
    }
   ],
   "source": [
    "train_data = train_data[which(train_data$tumor_cell_evaluation != \"Ind\"),]\n",
    "dim(train_data)\n",
    "test_data = test_data[which(test_data$tumor_cell_evaluation != \"Ind\"),]\n",
    "dim(test_data)"
   ]
  },
  {
   "cell_type": "code",
   "execution_count": 17,
   "metadata": {
    "collapsed": true,
    "deletable": true,
    "editable": true
   },
   "outputs": [],
   "source": [
    "train_data = droplevels.data.frame(train_data)\n",
    "test_data = droplevels.data.frame(test_data)"
   ]
  },
  {
   "cell_type": "code",
   "execution_count": 18,
   "metadata": {
    "collapsed": false,
    "deletable": true,
    "editable": true
   },
   "outputs": [],
   "source": [
    "features.addsign <- paste(features_for_rf, collapse = \"+\")\n",
    "rf.formula <- as.formula(paste(outcome,features.addsign, sep = \"~\"))"
   ]
  },
  {
   "cell_type": "code",
   "execution_count": 19,
   "metadata": {
    "collapsed": false,
    "deletable": true,
    "editable": true
   },
   "outputs": [],
   "source": [
    "rf = rfsrc(formula = rf.formula,\n",
    "     data = train_data, \n",
    "     ntree = 1000, \n",
    "     mtry = 5, \n",
    "     nodesize = 10)"
   ]
  },
  {
   "cell_type": "code",
   "execution_count": 20,
   "metadata": {
    "collapsed": false,
    "deletable": true,
    "editable": true
   },
   "outputs": [
    {
     "name": "stdout",
     "output_type": "stream",
     "text": [
      "                         Sample size: 76\n",
      "           Frequency of class labels: NA, 14, 13, 20, 29\n",
      "                     Number of trees: 1000\n",
      "           Forest terminal node size: 10\n",
      "       Average no. of terminal nodes: 7.094\n",
      "No. of variables tried at each split: 5\n",
      "              Total no. of variables: 19\n",
      "       Resampling used to grow trees: swr\n",
      "    Resample size used to grow trees: 76\n",
      "                            Analysis: RF-C\n",
      "                              Family: class\n",
      "                      Splitting rule: gini *random*\n",
      "       Number of random split points: 10\n",
      "              Normalized brier score: 88.31 \n",
      "                                 AUC: 56.81 \n",
      "                          Error rate: 0.66, NA, 0.64, 1, 1, 0.28\n",
      "\n",
      "Confusion matrix:\n",
      "\n",
      "          predicted\n",
      "  observed   0 1 2  3 class.error\n",
      "           0 0 0 0  0         NaN\n",
      "         0 0 5 0 5  4      0.6429\n",
      "         1 0 2 0 2  9      1.0000\n",
      "         2 0 3 1 0 16      1.0000\n",
      "         3 0 3 0 5 21      0.2759\n",
      "\n",
      "\tOverall error rate: 65.79% \n"
     ]
    }
   ],
   "source": [
    "print.rfsrc(rf)"
   ]
  },
  {
   "cell_type": "code",
   "execution_count": 21,
   "metadata": {
    "collapsed": false,
    "deletable": true,
    "editable": true
   },
   "outputs": [],
   "source": [
    "preds = predict(rf, newdata=test_data)"
   ]
  },
  {
   "cell_type": "code",
   "execution_count": 22,
   "metadata": {
    "collapsed": false,
    "deletable": true,
    "editable": true
   },
   "outputs": [
    {
     "data": {
      "text/html": [
       "0.556878306878307"
      ],
      "text/latex": [
       "0.556878306878307"
      ],
      "text/markdown": [
       "0.556878306878307"
      ],
      "text/plain": [
       "[1] 0.5568783"
      ]
     },
     "metadata": {},
     "output_type": "display_data"
    }
   ],
   "source": [
    "x = preds\n",
    "aucS <- auc(x$yvar, if(!is.null(x$predicted.oob) && !all(is.na(x$predicted.oob))) x$predicted.oob else x$predicted)\n",
    "aucS"
   ]
  },
  {
   "cell_type": "code",
   "execution_count": 39,
   "metadata": {
    "collapsed": true,
    "deletable": true,
    "editable": true
   },
   "outputs": [],
   "source": [
    "auc_results = data.frame('train_test_number'=1:1000, 'AUC'=NA)"
   ]
  },
  {
   "cell_type": "code",
   "execution_count": 41,
   "metadata": {
    "collapsed": false,
    "deletable": true,
    "editable": true
   },
   "outputs": [
    {
     "name": "stdout",
     "output_type": "stream",
     "text": [
      "[1] 1\n",
      "[1] 2\n",
      "[1] 3\n",
      "[1] 4\n",
      "[1] 5\n",
      "[1] 6\n",
      "[1] 7\n",
      "[1] 8\n",
      "[1] 9\n",
      "[1] 10\n",
      "[1] 11\n",
      "[1] 13\n",
      "[1] 14\n",
      "[1] 15\n",
      "[1] 16\n",
      "[1] 17\n",
      "[1] 18\n",
      "[1] 19\n",
      "[1] 21\n",
      "[1] 22\n",
      "[1] 23\n",
      "[1] 24\n"
     ]
    },
    {
     "ename": "ERROR",
     "evalue": "Error in UseMethod(\"droplevels\"): no applicable method for 'droplevels' applied to an object of class \"c('integer', 'numeric')\"\n",
     "output_type": "error",
     "traceback": [
      "Error in UseMethod(\"droplevels\"): no applicable method for 'droplevels' applied to an object of class \"c('integer', 'numeric')\"\nTraceback:\n",
      "1. droplevels(test_data$tumor_cell_evaluation)"
     ]
    }
   ],
   "source": [
    "for (i in c(1:11, 13:19, 21:1000)){\n",
    "    print(i)\n",
    "    ## define train and test paths\n",
    "    train_path = paste('../../AllBiopsies/Training_withNec/train_data_',as.character(i),'.csv', sep = \"\")\n",
    "    test_path = paste('../../AllBiopsies/Testing_withNec/test_data_',as.character(i),'.csv', sep = \"\")\n",
    "    \n",
    "    ## read in data\n",
    "    train_data = read.csv(train_path)\n",
    "    test_data = read.csv(test_path)\n",
    "    \n",
    "    ## remove \"ind\" pathology and empty string\n",
    "    train_data = train_data[which(train_data$tumor_cell_evaluation != \"Ind\"),]\n",
    "    train_data = train_data[which(train_data$tumor_cell_evaluation != \"\"),]\n",
    "    test_data = test_data[which(test_data$tumor_cell_evaluation != \"Ind\"),]\n",
    "    test_data = test_data[which(test_data$tumor_cell_evaluation != \"\"),]\n",
    "    \n",
    "    ## droplevels: \n",
    "    train_data$tumor_cell_evaluation = droplevels(train_data$tumor_cell_evaluation)\n",
    "    test_data$tumor_cell_evaluation = droplevels(test_data$tumor_cell_evaluation)\n",
    "    \n",
    "    ## define features: \n",
    "    features_for_rf = colnames(train_data)[c(16:19, 21:22, 33, 34, 37:43, 46,66, 68,69)]\n",
    "    outcome = colnames(train_data)[9]\n",
    "    \n",
    "    ## create formula \n",
    "    features.addsign <- paste(features_for_rf, collapse = \"+\")\n",
    "    rf.formula <- as.formula(paste(outcome,features.addsign, sep = \"~\"))\n",
    "    \n",
    "    ## run random forest experiment\n",
    "    rf = rfsrc(formula = rf.formula,\n",
    "     data = train_data, \n",
    "     ntree = 1000, \n",
    "     mtry = 5, \n",
    "     nodesize = 10)\n",
    "    \n",
    "    ## predict on the test set \n",
    "    preds = predict(rf, newdata=test_data)\n",
    "    \n",
    "    ## find the AUC of the classification: \n",
    "    x = preds\n",
    "    aucS <- auc(x$yvar, if(!is.null(x$predicted.oob) && !all(is.na(x$predicted.oob))) x$predicted.oob else x$predicted)\n",
    "    \n",
    "    ## add the results to a data_frame \n",
    "    auc_results[i, 2]=aucS\n",
    "}"
   ]
  },
  {
   "cell_type": "code",
   "execution_count": 23,
   "metadata": {
    "collapsed": true,
    "deletable": true,
    "editable": true
   },
   "outputs": [],
   "source": [
    "i = 24"
   ]
  },
  {
   "cell_type": "code",
   "execution_count": 27,
   "metadata": {
    "collapsed": false,
    "deletable": true,
    "editable": true
   },
   "outputs": [],
   "source": [
    "train_path = paste('../../AllBiopsies/Training_withNec/train_data_',as.character(i),'.csv', sep = \"\")\n",
    "test_path = paste('../../AllBiopsies/Testing_withNec/test_data_',as.character(i),'.csv', sep = \"\")\n",
    "train_data = read.csv(train_path)\n",
    "test_data = read.csv(test_path)"
   ]
  },
  {
   "cell_type": "code",
   "execution_count": 42,
   "metadata": {
    "collapsed": false,
    "deletable": true,
    "editable": true
   },
   "outputs": [
    {
     "data": {
      "text/plain": [
       "\n",
       "    0  1  2  3 \n",
       " 3 78 46 91 95 "
      ]
     },
     "metadata": {},
     "output_type": "display_data"
    }
   ],
   "source": [
    "table(train_data$tumor_cell_evaluation)"
   ]
  },
  {
   "cell_type": "code",
   "execution_count": 43,
   "metadata": {
    "collapsed": false
   },
   "outputs": [
    {
     "data": {
      "text/plain": [
       "\n",
       " 0  1  2  3 \n",
       "26 12 28 44 "
      ]
     },
     "metadata": {},
     "output_type": "display_data"
    }
   ],
   "source": [
    "table(test_data$tumor_cell_evaluation)"
   ]
  },
  {
   "cell_type": "code",
   "execution_count": null,
   "metadata": {
    "collapsed": true
   },
   "outputs": [],
   "source": []
  }
 ],
 "metadata": {
  "kernelspec": {
   "display_name": "R",
   "language": "R",
   "name": "ir"
  },
  "language_info": {
   "codemirror_mode": "r",
   "file_extension": ".r",
   "mimetype": "text/x-r-source",
   "name": "R",
   "pygments_lexer": "r",
   "version": "3.4.0"
  }
 },
 "nbformat": 4,
 "nbformat_minor": 2
}
