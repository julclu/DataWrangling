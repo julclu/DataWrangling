{
 "cells": [
  {
   "cell_type": "code",
   "execution_count": 1,
   "metadata": {
    "collapsed": false
   },
   "outputs": [
    {
     "name": "stderr",
     "output_type": "stream",
     "text": [
      "Loading required package: Formula\n",
      "Loading required package: maxLik\n",
      "Loading required package: miscTools\n",
      "\n",
      "Please cite the 'maxLik' package as:\n",
      "Henningsen, Arne and Toomet, Ott (2011). maxLik: A package for maximum likelihood estimation in R. Computational Statistics 26(3), 443-458. DOI 10.1007/s00180-010-0217-1.\n",
      "\n",
      "If you have questions, suggestions, or comments regarding the 'maxLik' package, please use a forum or 'tracker' at maxLik's R-Forge site:\n",
      "https://r-forge.r-project.org/projects/maxlik/\n"
     ]
    }
   ],
   "source": [
    "library(mlogit)"
   ]
  },
  {
   "cell_type": "code",
   "execution_count": 2,
   "metadata": {
    "collapsed": true
   },
   "outputs": [],
   "source": [
    "data(\"Electricity\", package = \"mlogit\")"
   ]
  },
  {
   "cell_type": "code",
   "execution_count": 6,
   "metadata": {
    "collapsed": false
   },
   "outputs": [
    {
     "data": {
      "text/html": [
       "<table>\n",
       "<thead><tr><th scope=col>choice</th><th scope=col>id</th><th scope=col>pf1</th><th scope=col>pf2</th><th scope=col>pf3</th><th scope=col>pf4</th><th scope=col>cl1</th><th scope=col>cl2</th><th scope=col>cl3</th><th scope=col>cl4</th><th scope=col>⋯</th><th scope=col>wk3</th><th scope=col>wk4</th><th scope=col>tod1</th><th scope=col>tod2</th><th scope=col>tod3</th><th scope=col>tod4</th><th scope=col>seas1</th><th scope=col>seas2</th><th scope=col>seas3</th><th scope=col>seas4</th></tr></thead>\n",
       "<tbody>\n",
       "\t<tr><td>4</td><td>1</td><td>7</td><td>9</td><td>0</td><td>0</td><td>5</td><td>1</td><td>0</td><td>5</td><td>⋯</td><td>0</td><td>1</td><td>0</td><td>0</td><td>0</td><td>1</td><td>0</td><td>0</td><td>1</td><td>0</td></tr>\n",
       "\t<tr><td>3</td><td>1</td><td>7</td><td>9</td><td>0</td><td>0</td><td>0</td><td>5</td><td>1</td><td>5</td><td>⋯</td><td>0</td><td>0</td><td>0</td><td>0</td><td>1</td><td>0</td><td>0</td><td>0</td><td>0</td><td>1</td></tr>\n",
       "\t<tr><td>4</td><td>1</td><td>9</td><td>7</td><td>0</td><td>0</td><td>5</td><td>1</td><td>0</td><td>0</td><td>⋯</td><td>1</td><td>0</td><td>0</td><td>0</td><td>1</td><td>0</td><td>0</td><td>0</td><td>0</td><td>1</td></tr>\n",
       "\t<tr><td>4</td><td>1</td><td>0</td><td>9</td><td>7</td><td>0</td><td>1</td><td>1</td><td>0</td><td>5</td><td>⋯</td><td>0</td><td>1</td><td>0</td><td>0</td><td>0</td><td>1</td><td>1</td><td>0</td><td>0</td><td>0</td></tr>\n",
       "\t<tr><td>1</td><td>1</td><td>0</td><td>9</td><td>0</td><td>7</td><td>0</td><td>1</td><td>0</td><td>5</td><td>⋯</td><td>0</td><td>1</td><td>1</td><td>0</td><td>0</td><td>0</td><td>0</td><td>0</td><td>1</td><td>0</td></tr>\n",
       "\t<tr><td>4</td><td>1</td><td>0</td><td>9</td><td>0</td><td>7</td><td>0</td><td>0</td><td>1</td><td>5</td><td>⋯</td><td>0</td><td>1</td><td>0</td><td>0</td><td>1</td><td>0</td><td>1</td><td>0</td><td>0</td><td>0</td></tr>\n",
       "\t<tr><td>1</td><td>1</td><td>0</td><td>9</td><td>0</td><td>7</td><td>5</td><td>0</td><td>1</td><td>5</td><td>⋯</td><td>0</td><td>0</td><td>0</td><td>0</td><td>1</td><td>0</td><td>1</td><td>0</td><td>0</td><td>0</td></tr>\n",
       "\t<tr><td>3</td><td>1</td><td>9</td><td>7</td><td>0</td><td>0</td><td>0</td><td>1</td><td>1</td><td>5</td><td>⋯</td><td>0</td><td>0</td><td>0</td><td>0</td><td>0</td><td>1</td><td>0</td><td>0</td><td>1</td><td>0</td></tr>\n",
       "\t<tr><td>1</td><td>1</td><td>0</td><td>0</td><td>9</td><td>7</td><td>5</td><td>5</td><td>0</td><td>1</td><td>⋯</td><td>1</td><td>0</td><td>0</td><td>1</td><td>0</td><td>0</td><td>1</td><td>0</td><td>0</td><td>0</td></tr>\n",
       "\t<tr><td>2</td><td>1</td><td>0</td><td>0</td><td>7</td><td>9</td><td>1</td><td>5</td><td>0</td><td>0</td><td>⋯</td><td>0</td><td>1</td><td>0</td><td>1</td><td>0</td><td>0</td><td>1</td><td>0</td><td>0</td><td>0</td></tr>\n",
       "\t<tr><td>3</td><td>1</td><td>9</td><td>0</td><td>0</td><td>7</td><td>5</td><td>0</td><td>5</td><td>1</td><td>⋯</td><td>0</td><td>0</td><td>0</td><td>1</td><td>0</td><td>0</td><td>0</td><td>0</td><td>1</td><td>0</td></tr>\n",
       "\t<tr><td>4</td><td>1</td><td>0</td><td>7</td><td>9</td><td>0</td><td>1</td><td>5</td><td>5</td><td>0</td><td>⋯</td><td>0</td><td>1</td><td>1</td><td>0</td><td>0</td><td>0</td><td>0</td><td>0</td><td>0</td><td>1</td></tr>\n",
       "\t<tr><td>4</td><td>2</td><td>0</td><td>7</td><td>0</td><td>9</td><td>0</td><td>5</td><td>1</td><td>1</td><td>⋯</td><td>0</td><td>1</td><td>0</td><td>0</td><td>1</td><td>0</td><td>1</td><td>0</td><td>0</td><td>0</td></tr>\n",
       "\t<tr><td>4</td><td>2</td><td>7</td><td>0</td><td>0</td><td>9</td><td>5</td><td>1</td><td>0</td><td>5</td><td>⋯</td><td>1</td><td>0</td><td>0</td><td>1</td><td>0</td><td>0</td><td>0</td><td>0</td><td>1</td><td>0</td></tr>\n",
       "\t<tr><td>3</td><td>2</td><td>9</td><td>0</td><td>7</td><td>0</td><td>1</td><td>1</td><td>5</td><td>0</td><td>⋯</td><td>1</td><td>0</td><td>0</td><td>1</td><td>0</td><td>0</td><td>0</td><td>0</td><td>0</td><td>1</td></tr>\n",
       "\t<tr><td>3</td><td>2</td><td>7</td><td>9</td><td>0</td><td>0</td><td>5</td><td>1</td><td>0</td><td>1</td><td>⋯</td><td>1</td><td>0</td><td>0</td><td>0</td><td>1</td><td>0</td><td>0</td><td>0</td><td>0</td><td>1</td></tr>\n",
       "\t<tr><td>1</td><td>2</td><td>7</td><td>9</td><td>0</td><td>0</td><td>5</td><td>1</td><td>0</td><td>5</td><td>⋯</td><td>0</td><td>1</td><td>0</td><td>0</td><td>0</td><td>1</td><td>0</td><td>0</td><td>1</td><td>0</td></tr>\n",
       "\t<tr><td>1</td><td>2</td><td>7</td><td>9</td><td>0</td><td>0</td><td>0</td><td>5</td><td>1</td><td>5</td><td>⋯</td><td>0</td><td>0</td><td>0</td><td>0</td><td>1</td><td>0</td><td>0</td><td>0</td><td>0</td><td>1</td></tr>\n",
       "\t<tr><td>2</td><td>2</td><td>9</td><td>7</td><td>0</td><td>0</td><td>5</td><td>1</td><td>0</td><td>0</td><td>⋯</td><td>1</td><td>0</td><td>0</td><td>0</td><td>1</td><td>0</td><td>0</td><td>0</td><td>0</td><td>1</td></tr>\n",
       "\t<tr><td>3</td><td>2</td><td>0</td><td>9</td><td>7</td><td>0</td><td>1</td><td>1</td><td>0</td><td>5</td><td>⋯</td><td>0</td><td>1</td><td>0</td><td>0</td><td>0</td><td>1</td><td>1</td><td>0</td><td>0</td><td>0</td></tr>\n",
       "</tbody>\n",
       "</table>\n"
      ],
      "text/latex": [
       "\\begin{tabular}{r|llllllllllllllllllllllllll}\n",
       " choice & id & pf1 & pf2 & pf3 & pf4 & cl1 & cl2 & cl3 & cl4 & ⋯ & wk3 & wk4 & tod1 & tod2 & tod3 & tod4 & seas1 & seas2 & seas3 & seas4\\\\\n",
       "\\hline\n",
       "\t 4 & 1 & 7 & 9 & 0 & 0 & 5 & 1 & 0 & 5 & ⋯ & 0 & 1 & 0 & 0 & 0 & 1 & 0 & 0 & 1 & 0\\\\\n",
       "\t 3 & 1 & 7 & 9 & 0 & 0 & 0 & 5 & 1 & 5 & ⋯ & 0 & 0 & 0 & 0 & 1 & 0 & 0 & 0 & 0 & 1\\\\\n",
       "\t 4 & 1 & 9 & 7 & 0 & 0 & 5 & 1 & 0 & 0 & ⋯ & 1 & 0 & 0 & 0 & 1 & 0 & 0 & 0 & 0 & 1\\\\\n",
       "\t 4 & 1 & 0 & 9 & 7 & 0 & 1 & 1 & 0 & 5 & ⋯ & 0 & 1 & 0 & 0 & 0 & 1 & 1 & 0 & 0 & 0\\\\\n",
       "\t 1 & 1 & 0 & 9 & 0 & 7 & 0 & 1 & 0 & 5 & ⋯ & 0 & 1 & 1 & 0 & 0 & 0 & 0 & 0 & 1 & 0\\\\\n",
       "\t 4 & 1 & 0 & 9 & 0 & 7 & 0 & 0 & 1 & 5 & ⋯ & 0 & 1 & 0 & 0 & 1 & 0 & 1 & 0 & 0 & 0\\\\\n",
       "\t 1 & 1 & 0 & 9 & 0 & 7 & 5 & 0 & 1 & 5 & ⋯ & 0 & 0 & 0 & 0 & 1 & 0 & 1 & 0 & 0 & 0\\\\\n",
       "\t 3 & 1 & 9 & 7 & 0 & 0 & 0 & 1 & 1 & 5 & ⋯ & 0 & 0 & 0 & 0 & 0 & 1 & 0 & 0 & 1 & 0\\\\\n",
       "\t 1 & 1 & 0 & 0 & 9 & 7 & 5 & 5 & 0 & 1 & ⋯ & 1 & 0 & 0 & 1 & 0 & 0 & 1 & 0 & 0 & 0\\\\\n",
       "\t 2 & 1 & 0 & 0 & 7 & 9 & 1 & 5 & 0 & 0 & ⋯ & 0 & 1 & 0 & 1 & 0 & 0 & 1 & 0 & 0 & 0\\\\\n",
       "\t 3 & 1 & 9 & 0 & 0 & 7 & 5 & 0 & 5 & 1 & ⋯ & 0 & 0 & 0 & 1 & 0 & 0 & 0 & 0 & 1 & 0\\\\\n",
       "\t 4 & 1 & 0 & 7 & 9 & 0 & 1 & 5 & 5 & 0 & ⋯ & 0 & 1 & 1 & 0 & 0 & 0 & 0 & 0 & 0 & 1\\\\\n",
       "\t 4 & 2 & 0 & 7 & 0 & 9 & 0 & 5 & 1 & 1 & ⋯ & 0 & 1 & 0 & 0 & 1 & 0 & 1 & 0 & 0 & 0\\\\\n",
       "\t 4 & 2 & 7 & 0 & 0 & 9 & 5 & 1 & 0 & 5 & ⋯ & 1 & 0 & 0 & 1 & 0 & 0 & 0 & 0 & 1 & 0\\\\\n",
       "\t 3 & 2 & 9 & 0 & 7 & 0 & 1 & 1 & 5 & 0 & ⋯ & 1 & 0 & 0 & 1 & 0 & 0 & 0 & 0 & 0 & 1\\\\\n",
       "\t 3 & 2 & 7 & 9 & 0 & 0 & 5 & 1 & 0 & 1 & ⋯ & 1 & 0 & 0 & 0 & 1 & 0 & 0 & 0 & 0 & 1\\\\\n",
       "\t 1 & 2 & 7 & 9 & 0 & 0 & 5 & 1 & 0 & 5 & ⋯ & 0 & 1 & 0 & 0 & 0 & 1 & 0 & 0 & 1 & 0\\\\\n",
       "\t 1 & 2 & 7 & 9 & 0 & 0 & 0 & 5 & 1 & 5 & ⋯ & 0 & 0 & 0 & 0 & 1 & 0 & 0 & 0 & 0 & 1\\\\\n",
       "\t 2 & 2 & 9 & 7 & 0 & 0 & 5 & 1 & 0 & 0 & ⋯ & 1 & 0 & 0 & 0 & 1 & 0 & 0 & 0 & 0 & 1\\\\\n",
       "\t 3 & 2 & 0 & 9 & 7 & 0 & 1 & 1 & 0 & 5 & ⋯ & 0 & 1 & 0 & 0 & 0 & 1 & 1 & 0 & 0 & 0\\\\\n",
       "\\end{tabular}\n"
      ],
      "text/markdown": [
       "\n",
       "choice | id | pf1 | pf2 | pf3 | pf4 | cl1 | cl2 | cl3 | cl4 | ⋯ | wk3 | wk4 | tod1 | tod2 | tod3 | tod4 | seas1 | seas2 | seas3 | seas4 | \n",
       "|---|---|---|---|---|---|---|---|---|---|---|---|---|---|---|---|---|---|---|---|\n",
       "| 4 | 1 | 7 | 9 | 0 | 0 | 5 | 1 | 0 | 5 | ⋯ | 0 | 1 | 0 | 0 | 0 | 1 | 0 | 0 | 1 | 0 | \n",
       "| 3 | 1 | 7 | 9 | 0 | 0 | 0 | 5 | 1 | 5 | ⋯ | 0 | 0 | 0 | 0 | 1 | 0 | 0 | 0 | 0 | 1 | \n",
       "| 4 | 1 | 9 | 7 | 0 | 0 | 5 | 1 | 0 | 0 | ⋯ | 1 | 0 | 0 | 0 | 1 | 0 | 0 | 0 | 0 | 1 | \n",
       "| 4 | 1 | 0 | 9 | 7 | 0 | 1 | 1 | 0 | 5 | ⋯ | 0 | 1 | 0 | 0 | 0 | 1 | 1 | 0 | 0 | 0 | \n",
       "| 1 | 1 | 0 | 9 | 0 | 7 | 0 | 1 | 0 | 5 | ⋯ | 0 | 1 | 1 | 0 | 0 | 0 | 0 | 0 | 1 | 0 | \n",
       "| 4 | 1 | 0 | 9 | 0 | 7 | 0 | 0 | 1 | 5 | ⋯ | 0 | 1 | 0 | 0 | 1 | 0 | 1 | 0 | 0 | 0 | \n",
       "| 1 | 1 | 0 | 9 | 0 | 7 | 5 | 0 | 1 | 5 | ⋯ | 0 | 0 | 0 | 0 | 1 | 0 | 1 | 0 | 0 | 0 | \n",
       "| 3 | 1 | 9 | 7 | 0 | 0 | 0 | 1 | 1 | 5 | ⋯ | 0 | 0 | 0 | 0 | 0 | 1 | 0 | 0 | 1 | 0 | \n",
       "| 1 | 1 | 0 | 0 | 9 | 7 | 5 | 5 | 0 | 1 | ⋯ | 1 | 0 | 0 | 1 | 0 | 0 | 1 | 0 | 0 | 0 | \n",
       "| 2 | 1 | 0 | 0 | 7 | 9 | 1 | 5 | 0 | 0 | ⋯ | 0 | 1 | 0 | 1 | 0 | 0 | 1 | 0 | 0 | 0 | \n",
       "| 3 | 1 | 9 | 0 | 0 | 7 | 5 | 0 | 5 | 1 | ⋯ | 0 | 0 | 0 | 1 | 0 | 0 | 0 | 0 | 1 | 0 | \n",
       "| 4 | 1 | 0 | 7 | 9 | 0 | 1 | 5 | 5 | 0 | ⋯ | 0 | 1 | 1 | 0 | 0 | 0 | 0 | 0 | 0 | 1 | \n",
       "| 4 | 2 | 0 | 7 | 0 | 9 | 0 | 5 | 1 | 1 | ⋯ | 0 | 1 | 0 | 0 | 1 | 0 | 1 | 0 | 0 | 0 | \n",
       "| 4 | 2 | 7 | 0 | 0 | 9 | 5 | 1 | 0 | 5 | ⋯ | 1 | 0 | 0 | 1 | 0 | 0 | 0 | 0 | 1 | 0 | \n",
       "| 3 | 2 | 9 | 0 | 7 | 0 | 1 | 1 | 5 | 0 | ⋯ | 1 | 0 | 0 | 1 | 0 | 0 | 0 | 0 | 0 | 1 | \n",
       "| 3 | 2 | 7 | 9 | 0 | 0 | 5 | 1 | 0 | 1 | ⋯ | 1 | 0 | 0 | 0 | 1 | 0 | 0 | 0 | 0 | 1 | \n",
       "| 1 | 2 | 7 | 9 | 0 | 0 | 5 | 1 | 0 | 5 | ⋯ | 0 | 1 | 0 | 0 | 0 | 1 | 0 | 0 | 1 | 0 | \n",
       "| 1 | 2 | 7 | 9 | 0 | 0 | 0 | 5 | 1 | 5 | ⋯ | 0 | 0 | 0 | 0 | 1 | 0 | 0 | 0 | 0 | 1 | \n",
       "| 2 | 2 | 9 | 7 | 0 | 0 | 5 | 1 | 0 | 0 | ⋯ | 1 | 0 | 0 | 0 | 1 | 0 | 0 | 0 | 0 | 1 | \n",
       "| 3 | 2 | 0 | 9 | 7 | 0 | 1 | 1 | 0 | 5 | ⋯ | 0 | 1 | 0 | 0 | 0 | 1 | 1 | 0 | 0 | 0 | \n",
       "\n",
       "\n"
      ],
      "text/plain": [
       "   choice id pf1 pf2 pf3 pf4 cl1 cl2 cl3 cl4 ⋯ wk3 wk4 tod1 tod2 tod3 tod4\n",
       "1  4      1  7   9   0   0   5   1   0   5   ⋯ 0   1   0    0    0    1   \n",
       "2  3      1  7   9   0   0   0   5   1   5   ⋯ 0   0   0    0    1    0   \n",
       "3  4      1  9   7   0   0   5   1   0   0   ⋯ 1   0   0    0    1    0   \n",
       "4  4      1  0   9   7   0   1   1   0   5   ⋯ 0   1   0    0    0    1   \n",
       "5  1      1  0   9   0   7   0   1   0   5   ⋯ 0   1   1    0    0    0   \n",
       "6  4      1  0   9   0   7   0   0   1   5   ⋯ 0   1   0    0    1    0   \n",
       "7  1      1  0   9   0   7   5   0   1   5   ⋯ 0   0   0    0    1    0   \n",
       "8  3      1  9   7   0   0   0   1   1   5   ⋯ 0   0   0    0    0    1   \n",
       "9  1      1  0   0   9   7   5   5   0   1   ⋯ 1   0   0    1    0    0   \n",
       "10 2      1  0   0   7   9   1   5   0   0   ⋯ 0   1   0    1    0    0   \n",
       "11 3      1  9   0   0   7   5   0   5   1   ⋯ 0   0   0    1    0    0   \n",
       "12 4      1  0   7   9   0   1   5   5   0   ⋯ 0   1   1    0    0    0   \n",
       "13 4      2  0   7   0   9   0   5   1   1   ⋯ 0   1   0    0    1    0   \n",
       "14 4      2  7   0   0   9   5   1   0   5   ⋯ 1   0   0    1    0    0   \n",
       "15 3      2  9   0   7   0   1   1   5   0   ⋯ 1   0   0    1    0    0   \n",
       "16 3      2  7   9   0   0   5   1   0   1   ⋯ 1   0   0    0    1    0   \n",
       "17 1      2  7   9   0   0   5   1   0   5   ⋯ 0   1   0    0    0    1   \n",
       "18 1      2  7   9   0   0   0   5   1   5   ⋯ 0   0   0    0    1    0   \n",
       "19 2      2  9   7   0   0   5   1   0   0   ⋯ 1   0   0    0    1    0   \n",
       "20 3      2  0   9   7   0   1   1   0   5   ⋯ 0   1   0    0    0    1   \n",
       "   seas1 seas2 seas3 seas4\n",
       "1  0     0     1     0    \n",
       "2  0     0     0     1    \n",
       "3  0     0     0     1    \n",
       "4  1     0     0     0    \n",
       "5  0     0     1     0    \n",
       "6  1     0     0     0    \n",
       "7  1     0     0     0    \n",
       "8  0     0     1     0    \n",
       "9  1     0     0     0    \n",
       "10 1     0     0     0    \n",
       "11 0     0     1     0    \n",
       "12 0     0     0     1    \n",
       "13 1     0     0     0    \n",
       "14 0     0     1     0    \n",
       "15 0     0     0     1    \n",
       "16 0     0     0     1    \n",
       "17 0     0     1     0    \n",
       "18 0     0     0     1    \n",
       "19 0     0     0     1    \n",
       "20 1     0     0     0    "
      ]
     },
     "metadata": {},
     "output_type": "display_data"
    },
    {
     "data": {
      "text/html": [
       "<ol class=list-inline>\n",
       "\t<li>4308</li>\n",
       "\t<li>26</li>\n",
       "</ol>\n"
      ],
      "text/latex": [
       "\\begin{enumerate*}\n",
       "\\item 4308\n",
       "\\item 26\n",
       "\\end{enumerate*}\n"
      ],
      "text/markdown": [
       "1. 4308\n",
       "2. 26\n",
       "\n",
       "\n"
      ],
      "text/plain": [
       "[1] 4308   26"
      ]
     },
     "metadata": {},
     "output_type": "display_data"
    }
   ],
   "source": [
    "head(Electricity, n = 20)\n",
    "dim(Electricity)"
   ]
  },
  {
   "cell_type": "code",
   "execution_count": 7,
   "metadata": {
    "collapsed": true
   },
   "outputs": [],
   "source": [
    "Elec = mlogit.data(Electricity, id = \"id\", choice = 'choice', varying = 3:26, shape = \"wide\", sep = \"\")"
   ]
  },
  {
   "cell_type": "code",
   "execution_count": null,
   "metadata": {
    "collapsed": true
   },
   "outputs": [],
   "source": []
  }
 ],
 "metadata": {
  "kernelspec": {
   "display_name": "R",
   "language": "R",
   "name": "ir"
  },
  "language_info": {
   "codemirror_mode": "r",
   "file_extension": ".r",
   "mimetype": "text/x-r-source",
   "name": "R",
   "pygments_lexer": "r",
   "version": "3.4.0"
  }
 },
 "nbformat": 4,
 "nbformat_minor": 2
}
