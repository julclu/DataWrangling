{
 "cells": [
  {
   "cell_type": "markdown",
   "metadata": {
    "deletable": true,
    "editable": true
   },
   "source": [
    "In this notebook, we will implement logistic regression in a graded fashion. "
   ]
  },
  {
   "cell_type": "code",
   "execution_count": 1,
   "metadata": {
    "collapsed": false,
    "deletable": true,
    "editable": true
   },
   "outputs": [
    {
     "name": "stderr",
     "output_type": "stream",
     "text": [
      "Loading required package: Matrix\n",
      "Loading required package: foreach\n",
      "Loaded glmnet 2.0-16\n",
      "\n",
      "Loading required package: lattice\n",
      "Loading required package: ggplot2\n",
      "\n",
      "Attaching package: ‘dplyr’\n",
      "\n",
      "The following objects are masked from ‘package:stats’:\n",
      "\n",
      "    filter, lag\n",
      "\n",
      "The following objects are masked from ‘package:base’:\n",
      "\n",
      "    intersect, setdiff, setequal, union\n",
      "\n",
      "------------------------------------------------------------------------------\n",
      "You have loaded plyr after dplyr - this is likely to cause problems.\n",
      "If you need functions from both plyr and dplyr, please load plyr first, then dplyr:\n",
      "library(plyr); library(dplyr)\n",
      "------------------------------------------------------------------------------\n",
      "\n",
      "Attaching package: ‘plyr’\n",
      "\n",
      "The following objects are masked from ‘package:dplyr’:\n",
      "\n",
      "    arrange, count, desc, failwith, id, mutate, rename, summarise,\n",
      "    summarize\n",
      "\n",
      "Loading required package: R.oo\n",
      "Loading required package: R.methodsS3\n",
      "R.methodsS3 v1.7.1 (2016-02-15) successfully loaded. See ?R.methodsS3 for help.\n",
      "R.oo v1.22.0 (2018-04-21) successfully loaded. See ?R.oo for help.\n",
      "\n",
      "Attaching package: ‘R.oo’\n",
      "\n",
      "The following objects are masked from ‘package:methods’:\n",
      "\n",
      "    getClasses, getMethods\n",
      "\n",
      "The following objects are masked from ‘package:base’:\n",
      "\n",
      "    attach, detach, gc, load, save\n",
      "\n",
      "R.utils v2.6.0 (2017-11-04) successfully loaded. See ?R.utils for help.\n",
      "\n",
      "Attaching package: ‘R.utils’\n",
      "\n",
      "The following object is masked from ‘package:utils’:\n",
      "\n",
      "    timestamp\n",
      "\n",
      "The following objects are masked from ‘package:base’:\n",
      "\n",
      "    cat, commandArgs, getOption, inherits, isOpen, parse, warnings\n",
      "\n"
     ]
    }
   ],
   "source": [
    "library(glmnet)\n",
    "library(caret)\n",
    "library(dplyr)\n",
    "library(plyr)\n",
    "#install.packages('R.utils')\n",
    "library(R.utils)\n",
    "#install.packages('glmmLasso')\n",
    "library(glmmLasso)"
   ]
  },
  {
   "cell_type": "code",
   "execution_count": 24,
   "metadata": {
    "collapsed": false
   },
   "outputs": [
    {
     "name": "stderr",
     "output_type": "stream",
     "text": [
      "Skipping install of 'lmmen' from a github remote, the SHA1 (22a405d7) has not changed since last install.\n",
      "  Use `force = TRUE` to force installation\n"
     ]
    }
   ],
   "source": [
    "#install.packages(\"devtools\")\n",
    "library(devtools)\n",
    "install_github(\"yonicd/lmmen\")\n",
    "#' @title Cross Validation for glmmLasso package\n",
    "#' @description Cross Validation for glmmLasso package as shown in example xxx\n",
    "#' @param dat data.frame, containing y,X,Z and subject variables\n",
    "#' @param form.fixed formaula, fixed param formula, Default: NULL\n",
    "#' @param form.rnd list, named list containing random effect formula, Default: NULL\n",
    "#' @param lambda numeric, vector containing lasso penalty levels, Default: seq(500, 0, by = -5)\n",
    "#' @param family family, family function that defines the distribution link of the glmm, Default: gaussian(link = \"identity\")\n",
    "#' @return list of a fitted glmmLasso object and the cv BIC path\n",
    "#' @examples\n",
    "#' \\dontrun{cv.glmmLasso(initialize_example(seed=1))}\n",
    "#' @seealso \n",
    "#'  \\code{\\link[glmmLasso]{glmmLasso}}\n",
    "#'  @references \n",
    "#'  Variable selection for generalized linear mixed models by ell 1-penalized estimation. \n",
    "#'  Statistics and Computing, pages 1–18, 2014.\n",
    "#' @rdname cv.glmmLasso\n",
    "#' @export \n",
    "#' @importFrom glmmLasso glmmLasso\n",
    "#' @importFrom stats gaussian as.formula\n",
    "cv.glmmLasso=function(dat,\n",
    "                      form.fixed=NULL,\n",
    "                      form.rnd=NULL,\n",
    "                      lambda=seq(500,0,by=-5),\n",
    "                      family=stats::gaussian(link = \"identity\")\n",
    "                      ){\n",
    "  \n",
    "  if(inherits(dat,'matrix')) dat <- as.data.frame(dat)\n",
    "    \n",
    "  d.size=(max(as.numeric(row.names(dat)))*(sum(grepl('^Z',names(dat)))+1))+(sum(grepl('^X',names(dat)))+1)\n",
    "  \n",
    "  dat<-data.frame(subject=as.factor(row.names(dat)),dat,check.names = FALSE,row.names = NULL)\n",
    "  \n",
    "  if(is.null(form.fixed)) form.fixed<-sprintf('y~%s',paste(grep('^X',names(dat),value = TRUE),collapse = '+'))\n",
    "  if(is.null(form.rnd)) form.rnd<-eval(parse(text=sprintf('form.rnd<-list(subject=~1+%s)',paste(grep('^Z',names(dat),value = TRUE),collapse = '+'))))\n",
    "  \n",
    "  BIC_vec<-rep(Inf,length(lambda))\n",
    "  \n",
    "  # specify starting values for the very first fit; pay attention that Delta.start has suitable length! \n",
    "  \n",
    "  Delta.start.base<-Delta.start<-as.matrix(t(rep(0,d.size)))\n",
    "  Q.start.base<-Q.start<-0.1  \n",
    "  \n",
    "  for(j in 1:length(lambda))\n",
    "  {\n",
    "    suppressMessages({\n",
    "      suppressWarnings({\n",
    "        fn <- try(glmmLasso::glmmLasso(fix = stats::as.formula(form.fixed),\n",
    "                                       rnd = form.rnd,\n",
    "                                       data = dat,lambda = lambda[j],\n",
    "                                       switch.NR = FALSE,final.re=TRUE,\n",
    "                                       control = list(start=Delta.start[j,],q.start=Q.start[j]))      \n",
    "        )\n",
    "      })      \n",
    "    })\n",
    "    \n",
    "    if(class(fn)!=\"try-error\")\n",
    "    {  \n",
    "      BIC_vec[j]<-fn$bic\n",
    "      Delta.start<-rbind(Delta.start,fn$Deltamatrix[fn$conv.step,])\n",
    "      Q.start<-c(Q.start,fn$Q_long[[fn$conv.step+1]])\n",
    "    }else{\n",
    "      Delta.start<-rbind(Delta.start,Delta.start.base)\n",
    "      Q.start<-c(Q.start,Q.start.base)\n",
    "    }\n",
    "  }\n",
    "  \n",
    "    opt<-which.min(BIC_vec)\n",
    "  \n",
    "    suppressWarnings({\n",
    "    final <- glmmLasso::glmmLasso(fix = as.formula(form.fixed), rnd = form.rnd,\n",
    "                                  data = dat, lambda=lambda[opt],switch.NR=FALSE,final.re=TRUE,\n",
    "                                  control = list(start=Delta.start[opt,],q_start=Q.start.base))\n",
    "    \n",
    "    final\n",
    "  })\n",
    "  \n",
    "  list(fit.opt=final,BIC_path=BIC_vec)\n",
    "}  "
   ]
  },
  {
   "cell_type": "code",
   "execution_count": 18,
   "metadata": {
    "collapsed": true,
    "deletable": true,
    "editable": true
   },
   "outputs": [],
   "source": [
    "options(repr.matrix.max.rows=600, repr.matrix.max.cols=200)"
   ]
  },
  {
   "cell_type": "code",
   "execution_count": 19,
   "metadata": {
    "collapsed": false,
    "deletable": true,
    "editable": true
   },
   "outputs": [
    {
     "data": {
      "text/html": [
       "<ol class=list-inline>\n",
       "\t<li>322</li>\n",
       "\t<li>74</li>\n",
       "</ol>\n"
      ],
      "text/latex": [
       "\\begin{enumerate*}\n",
       "\\item 322\n",
       "\\item 74\n",
       "\\end{enumerate*}\n"
      ],
      "text/markdown": [
       "1. 322\n",
       "2. 74\n",
       "\n",
       "\n"
      ],
      "text/plain": [
       "[1] 322  74"
      ]
     },
     "metadata": {},
     "output_type": "display_data"
    }
   ],
   "source": [
    "recgli = read.csv(\"../../../ParseData/9thParse_researchPath_withInVivo.csv\", header = T)\n",
    "dim(recgli)"
   ]
  },
  {
   "cell_type": "code",
   "execution_count": 20,
   "metadata": {
    "collapsed": false,
    "deletable": true,
    "editable": true
   },
   "outputs": [
    {
     "data": {
      "text/plain": [
       "\n",
       "rHGG  TxE \n",
       " 239   83 "
      ]
     },
     "metadata": {},
     "output_type": "display_data"
    },
    {
     "data": {
      "text/html": [
       "<ol class=list-inline>\n",
       "\t<li>'b_number'</li>\n",
       "\t<li>'t_number'</li>\n",
       "\t<li>'sf_number'</li>\n",
       "\t<li>'current_scan_date'</li>\n",
       "\t<li>'current_surgery_date'</li>\n",
       "\t<li>'current_hist_grade'</li>\n",
       "\t<li>'current_hist_type'</li>\n",
       "\t<li>'roi.label'</li>\n",
       "\t<li>'tumor_cell_evaluation'</li>\n",
       "\t<li>'necrosis'</li>\n",
       "\t<li>'f8_delicate'</li>\n",
       "\t<li>'f8_simple'</li>\n",
       "\t<li>'f8_complex'</li>\n",
       "\t<li>'mib_1'</li>\n",
       "\t<li>'bx_pure_treatment_effect'</li>\n",
       "\t<li>'nfse'</li>\n",
       "\t<li>'nfl'</li>\n",
       "\t<li>'nt1c'</li>\n",
       "\t<li>'nt1v'</li>\n",
       "\t<li>'nadc.1'</li>\n",
       "\t<li>'nfa.1'</li>\n",
       "\t<li>'nev1.1'</li>\n",
       "\t<li>'nev2.1'</li>\n",
       "\t<li>'nev3.1'</li>\n",
       "\t<li>'nevrad.1'</li>\n",
       "\t<li>'nadc.2'</li>\n",
       "\t<li>'nfa.2'</li>\n",
       "\t<li>'nev1.2'</li>\n",
       "\t<li>'nev2.2'</li>\n",
       "\t<li>'nev3.2'</li>\n",
       "\t<li>'nevrad.2'</li>\n",
       "\t<li>'cbvn_nlin'</li>\n",
       "\t<li>'phn_nlin'</li>\n",
       "\t<li>'phn_npar'</li>\n",
       "\t<li>'recovn_npar'</li>\n",
       "\t<li>'cni'</li>\n",
       "\t<li>'ccri'</li>\n",
       "\t<li>'crni'</li>\n",
       "\t<li>'ncho'</li>\n",
       "\t<li>'ncre'</li>\n",
       "\t<li>'nnaa'</li>\n",
       "\t<li>'nlip'</li>\n",
       "\t<li>'laclip'</li>\n",
       "\t<li>'nlac'</li>\n",
       "\t<li>'olddata'</li>\n",
       "\t<li>'newdata'</li>\n",
       "\t<li>'comments'</li>\n",
       "\t<li>'notes.'</li>\n",
       "\t<li>'imaging_code'</li>\n",
       "\t<li>'perf_quant'</li>\n",
       "\t<li>'cbv_nlin'</li>\n",
       "\t<li>'spec_quant'</li>\n",
       "\t<li>'include_anat'</li>\n",
       "\t<li>'include_diffu1000'</li>\n",
       "\t<li>'include_diffu2000'</li>\n",
       "\t<li>'include_diffu_all'</li>\n",
       "\t<li>'include_perf'</li>\n",
       "\t<li>'include_spec'</li>\n",
       "\t<li>'include_one_advanced_mod'</li>\n",
       "\t<li>'include_all_advanced_mods'</li>\n",
       "\t<li>'X.CEL'</li>\n",
       "\t<li>'X.NEL'</li>\n",
       "\t<li>'X.NEC'</li>\n",
       "\t<li>'sum'</li>\n",
       "\t<li>'in_CEL'</li>\n",
       "\t<li>'in_T2all'</li>\n",
       "\t<li>'in_NEL'</li>\n",
       "\t<li>'in_NEC'</li>\n",
       "\t<li>'in_ROI'</li>\n",
       "\t<li>'desired_hist'</li>\n",
       "\t<li>'multnom_out'</li>\n",
       "\t<li>'no_ffpe'</li>\n",
       "\t<li>'waiting_on_path'</li>\n",
       "\t<li>'rhgg_txe_analysis'</li>\n",
       "</ol>\n"
      ],
      "text/latex": [
       "\\begin{enumerate*}\n",
       "\\item 'b\\_number'\n",
       "\\item 't\\_number'\n",
       "\\item 'sf\\_number'\n",
       "\\item 'current\\_scan\\_date'\n",
       "\\item 'current\\_surgery\\_date'\n",
       "\\item 'current\\_hist\\_grade'\n",
       "\\item 'current\\_hist\\_type'\n",
       "\\item 'roi.label'\n",
       "\\item 'tumor\\_cell\\_evaluation'\n",
       "\\item 'necrosis'\n",
       "\\item 'f8\\_delicate'\n",
       "\\item 'f8\\_simple'\n",
       "\\item 'f8\\_complex'\n",
       "\\item 'mib\\_1'\n",
       "\\item 'bx\\_pure\\_treatment\\_effect'\n",
       "\\item 'nfse'\n",
       "\\item 'nfl'\n",
       "\\item 'nt1c'\n",
       "\\item 'nt1v'\n",
       "\\item 'nadc.1'\n",
       "\\item 'nfa.1'\n",
       "\\item 'nev1.1'\n",
       "\\item 'nev2.1'\n",
       "\\item 'nev3.1'\n",
       "\\item 'nevrad.1'\n",
       "\\item 'nadc.2'\n",
       "\\item 'nfa.2'\n",
       "\\item 'nev1.2'\n",
       "\\item 'nev2.2'\n",
       "\\item 'nev3.2'\n",
       "\\item 'nevrad.2'\n",
       "\\item 'cbvn\\_nlin'\n",
       "\\item 'phn\\_nlin'\n",
       "\\item 'phn\\_npar'\n",
       "\\item 'recovn\\_npar'\n",
       "\\item 'cni'\n",
       "\\item 'ccri'\n",
       "\\item 'crni'\n",
       "\\item 'ncho'\n",
       "\\item 'ncre'\n",
       "\\item 'nnaa'\n",
       "\\item 'nlip'\n",
       "\\item 'laclip'\n",
       "\\item 'nlac'\n",
       "\\item 'olddata'\n",
       "\\item 'newdata'\n",
       "\\item 'comments'\n",
       "\\item 'notes.'\n",
       "\\item 'imaging\\_code'\n",
       "\\item 'perf\\_quant'\n",
       "\\item 'cbv\\_nlin'\n",
       "\\item 'spec\\_quant'\n",
       "\\item 'include\\_anat'\n",
       "\\item 'include\\_diffu1000'\n",
       "\\item 'include\\_diffu2000'\n",
       "\\item 'include\\_diffu\\_all'\n",
       "\\item 'include\\_perf'\n",
       "\\item 'include\\_spec'\n",
       "\\item 'include\\_one\\_advanced\\_mod'\n",
       "\\item 'include\\_all\\_advanced\\_mods'\n",
       "\\item 'X.CEL'\n",
       "\\item 'X.NEL'\n",
       "\\item 'X.NEC'\n",
       "\\item 'sum'\n",
       "\\item 'in\\_CEL'\n",
       "\\item 'in\\_T2all'\n",
       "\\item 'in\\_NEL'\n",
       "\\item 'in\\_NEC'\n",
       "\\item 'in\\_ROI'\n",
       "\\item 'desired\\_hist'\n",
       "\\item 'multnom\\_out'\n",
       "\\item 'no\\_ffpe'\n",
       "\\item 'waiting\\_on\\_path'\n",
       "\\item 'rhgg\\_txe\\_analysis'\n",
       "\\end{enumerate*}\n"
      ],
      "text/markdown": [
       "1. 'b_number'\n",
       "2. 't_number'\n",
       "3. 'sf_number'\n",
       "4. 'current_scan_date'\n",
       "5. 'current_surgery_date'\n",
       "6. 'current_hist_grade'\n",
       "7. 'current_hist_type'\n",
       "8. 'roi.label'\n",
       "9. 'tumor_cell_evaluation'\n",
       "10. 'necrosis'\n",
       "11. 'f8_delicate'\n",
       "12. 'f8_simple'\n",
       "13. 'f8_complex'\n",
       "14. 'mib_1'\n",
       "15. 'bx_pure_treatment_effect'\n",
       "16. 'nfse'\n",
       "17. 'nfl'\n",
       "18. 'nt1c'\n",
       "19. 'nt1v'\n",
       "20. 'nadc.1'\n",
       "21. 'nfa.1'\n",
       "22. 'nev1.1'\n",
       "23. 'nev2.1'\n",
       "24. 'nev3.1'\n",
       "25. 'nevrad.1'\n",
       "26. 'nadc.2'\n",
       "27. 'nfa.2'\n",
       "28. 'nev1.2'\n",
       "29. 'nev2.2'\n",
       "30. 'nev3.2'\n",
       "31. 'nevrad.2'\n",
       "32. 'cbvn_nlin'\n",
       "33. 'phn_nlin'\n",
       "34. 'phn_npar'\n",
       "35. 'recovn_npar'\n",
       "36. 'cni'\n",
       "37. 'ccri'\n",
       "38. 'crni'\n",
       "39. 'ncho'\n",
       "40. 'ncre'\n",
       "41. 'nnaa'\n",
       "42. 'nlip'\n",
       "43. 'laclip'\n",
       "44. 'nlac'\n",
       "45. 'olddata'\n",
       "46. 'newdata'\n",
       "47. 'comments'\n",
       "48. 'notes.'\n",
       "49. 'imaging_code'\n",
       "50. 'perf_quant'\n",
       "51. 'cbv_nlin'\n",
       "52. 'spec_quant'\n",
       "53. 'include_anat'\n",
       "54. 'include_diffu1000'\n",
       "55. 'include_diffu2000'\n",
       "56. 'include_diffu_all'\n",
       "57. 'include_perf'\n",
       "58. 'include_spec'\n",
       "59. 'include_one_advanced_mod'\n",
       "60. 'include_all_advanced_mods'\n",
       "61. 'X.CEL'\n",
       "62. 'X.NEL'\n",
       "63. 'X.NEC'\n",
       "64. 'sum'\n",
       "65. 'in_CEL'\n",
       "66. 'in_T2all'\n",
       "67. 'in_NEL'\n",
       "68. 'in_NEC'\n",
       "69. 'in_ROI'\n",
       "70. 'desired_hist'\n",
       "71. 'multnom_out'\n",
       "72. 'no_ffpe'\n",
       "73. 'waiting_on_path'\n",
       "74. 'rhgg_txe_analysis'\n",
       "\n",
       "\n"
      ],
      "text/plain": [
       " [1] \"b_number\"                  \"t_number\"                 \n",
       " [3] \"sf_number\"                 \"current_scan_date\"        \n",
       " [5] \"current_surgery_date\"      \"current_hist_grade\"       \n",
       " [7] \"current_hist_type\"         \"roi.label\"                \n",
       " [9] \"tumor_cell_evaluation\"     \"necrosis\"                 \n",
       "[11] \"f8_delicate\"               \"f8_simple\"                \n",
       "[13] \"f8_complex\"                \"mib_1\"                    \n",
       "[15] \"bx_pure_treatment_effect\"  \"nfse\"                     \n",
       "[17] \"nfl\"                       \"nt1c\"                     \n",
       "[19] \"nt1v\"                      \"nadc.1\"                   \n",
       "[21] \"nfa.1\"                     \"nev1.1\"                   \n",
       "[23] \"nev2.1\"                    \"nev3.1\"                   \n",
       "[25] \"nevrad.1\"                  \"nadc.2\"                   \n",
       "[27] \"nfa.2\"                     \"nev1.2\"                   \n",
       "[29] \"nev2.2\"                    \"nev3.2\"                   \n",
       "[31] \"nevrad.2\"                  \"cbvn_nlin\"                \n",
       "[33] \"phn_nlin\"                  \"phn_npar\"                 \n",
       "[35] \"recovn_npar\"               \"cni\"                      \n",
       "[37] \"ccri\"                      \"crni\"                     \n",
       "[39] \"ncho\"                      \"ncre\"                     \n",
       "[41] \"nnaa\"                      \"nlip\"                     \n",
       "[43] \"laclip\"                    \"nlac\"                     \n",
       "[45] \"olddata\"                   \"newdata\"                  \n",
       "[47] \"comments\"                  \"notes.\"                   \n",
       "[49] \"imaging_code\"              \"perf_quant\"               \n",
       "[51] \"cbv_nlin\"                  \"spec_quant\"               \n",
       "[53] \"include_anat\"              \"include_diffu1000\"        \n",
       "[55] \"include_diffu2000\"         \"include_diffu_all\"        \n",
       "[57] \"include_perf\"              \"include_spec\"             \n",
       "[59] \"include_one_advanced_mod\"  \"include_all_advanced_mods\"\n",
       "[61] \"X.CEL\"                     \"X.NEL\"                    \n",
       "[63] \"X.NEC\"                     \"sum\"                      \n",
       "[65] \"in_CEL\"                    \"in_T2all\"                 \n",
       "[67] \"in_NEL\"                    \"in_NEC\"                   \n",
       "[69] \"in_ROI\"                    \"desired_hist\"             \n",
       "[71] \"multnom_out\"               \"no_ffpe\"                  \n",
       "[73] \"waiting_on_path\"           \"rhgg_txe_analysis\"        "
      ]
     },
     "metadata": {},
     "output_type": "display_data"
    }
   ],
   "source": [
    "table(recgli$multnom_out)\n",
    "names(recgli)"
   ]
  },
  {
   "cell_type": "code",
   "execution_count": 21,
   "metadata": {
    "collapsed": false,
    "deletable": true,
    "editable": true
   },
   "outputs": [],
   "source": [
    "varNames = names(recgli)\n",
    "#colSums(is.na(recgli)) \n",
    "groupNames = varNames[2]\n",
    "varNames_anat = varNames[16:19]\n",
    "varNames_diffu = varNames[20:25]\n",
    "varNames_perf = varNames[32:35]\n",
    "varNames_spec = varNames[c(36:41, 43)]\n",
    "varNames_inROI = varNames[c(65, 67, 68)]\n",
    "outcome = varNames[71]"
   ]
  },
  {
   "cell_type": "markdown",
   "metadata": {
    "deletable": true,
    "editable": true
   },
   "source": [
    "## 1. Anatomical LogReg Implementation\n",
    "1. Number samples = 320 \n",
    "2. Number TxE = 83\n",
    "3. Number rHGG = 237"
   ]
  },
  {
   "cell_type": "code",
   "execution_count": 6,
   "metadata": {
    "collapsed": false,
    "deletable": true,
    "editable": true
   },
   "outputs": [],
   "source": [
    "## Creating directory variables: \n",
    "mainDir = \"/home/sf673542/DataWrangling/AnalyzeData/AllBiopsies/\"\n",
    "dataDir = \"/home/sf673542/DataWrangling/AnalyzeData/AllBiopsies/\"\n",
    "\n",
    "## Directories to save results: \n",
    "GLMM.missclass.dir <- paste(\"Misclassification_Results/GLMM_Output_Unbalanced/Anat\")\n",
    "dir.create(file.path(mainDir,GLMM.missclass.dir), showWarnings = FALSE)\n",
    "\n",
    "GLMM.logLoss.dir <- paste(\"Misclassification_Results/GLMM_Output_Unbalanced/Anat\")\n",
    "dir.create(file.path(mainDir,GLMM.logLoss.dir), showWarnings = FALSE)\n",
    "\n",
    "GLMM.AUC.dir <- paste(\"Misclassification_Results/GLMM_AUC_Unbalanced/Anat\")\n",
    "dir.create(file.path(mainDir,GLMM.AUC.dir), showWarnings = FALSE)\n",
    "\n",
    "GLMM.pred.dir <- paste(\"Predicted_Output/GLMM_TxErHGG_Unbalanced/Anat\")\n",
    "dir.create(file.path(mainDir,GLMM.pred.dir), showWarnings = FALSE)\n",
    "\n",
    "GLMM.prob.dir <- paste(\"Probability_Output/GLMM_probability_Unbalanced/Anat\")\n",
    "dir.create(file.path(mainDir,GLMM.prob.dir), showWarnings = FALSE)\n",
    "\n",
    "GLMM.accuracy.dir <- paste(\"Accuracy_Results/GLMM_accuracy_Unbalanced/Anat\")\n",
    "dir.create(file.path(mainDir,GLMM.accuracy.dir), showWarnings = FALSE)\n",
    "\n",
    "GLMM.cm.dir <- paste(\"Confusion_Matrix/GLMM_cm_Unbalanced/Anat\")\n",
    "dir.create(file.path(mainDir,GLMM.cm.dir), showWarnings = FALSE)\n"
   ]
  },
  {
   "cell_type": "code",
   "execution_count": 7,
   "metadata": {
    "collapsed": false,
    "deletable": true,
    "editable": true
   },
   "outputs": [],
   "source": [
    "  idx = 1\n",
    "  set.seed(idx)\n",
    "  \n",
    "  #Load training and validation data\n",
    "  training.data <- as.data.frame(read.csv(file = paste(dataDir,\"Training/\",\"train_data_\",idx,\".csv\",sep = \"\")))\n",
    "  test.data <- as.data.frame(read.csv(file = paste(dataDir,\"Testing/\",\"test_data_\",idx,\".csv\",sep = \"\")))\n",
    "  \n",
    "  #Subset to only anatomical features: \n",
    "  training.data.anat = data.frame(t_number = training.data[,groupNames],training.data[,varNames_anat], outcome = training.data[,outcome])\n",
    "  test.data.anat = data.frame(t_number = test.data[,groupNames], test.data[,varNames_anat], outcome = test.data[,outcome])\n",
    "    \n",
    "  #Create formula for Logreg\n",
    "  varNames.add.sign <- paste(varNames_anat[1:3], collapse = \"+\")\n",
    "  lasso.formula <- as.formula(paste(\"Outcome\",varNames.add.sign, sep = \"~\"))\n",
    "  rnd.formula <- list(t_number = ~1)"
   ]
  },
  {
   "cell_type": "code",
   "execution_count": 8,
   "metadata": {
    "collapsed": false,
    "deletable": true,
    "editable": true
   },
   "outputs": [],
   "source": [
    "# Get rid of the 3 NA values in FL  \n",
    "  training.data.anat = training.data.anat[!is.na(training.data.anat$nfl),]\n",
    "  test.data.anat = test.data.anat[!is.na(test.data.anat$nfl),]\n",
    "\n",
    "  #Get rid of the multnomOutcome that isn't TxE or rHGG\n",
    "  training.data.anat = training.data.anat[which(as.character(training.data.anat$outcome)==\"rHGG\" | \n",
    "                                                as.character(training.data.anat$outcome)==\"TxE\"),]\n",
    "  training.data.anat = droplevels(training.data.anat)\n",
    "  test.data.anat = test.data.anat[which(as.character(test.data.anat$outcome)==\"rHGG\" | \n",
    "                                        as.character(test.data.anat$outcome)==\"TxE\"),]\n",
    "  test.data.anat = droplevels(test.data.anat)\n",
    "  "
   ]
  },
  {
   "cell_type": "code",
   "execution_count": 9,
   "metadata": {
    "collapsed": false,
    "deletable": true,
    "editable": true
   },
   "outputs": [
    {
     "data": {
      "text/html": [
       "<table>\n",
       "<thead><tr><th></th><th scope=col>t_number</th><th scope=col>nfse</th><th scope=col>nfl</th><th scope=col>nt1c</th><th scope=col>nt1v</th><th scope=col>outcome</th></tr></thead>\n",
       "<tbody>\n",
       "\t<tr><th scope=row>1</th><td>6369</td><td>2.10</td><td>1.84</td><td>1.20</td><td>0.84</td><td>TxE </td></tr>\n",
       "\t<tr><th scope=row>2</th><td>5317</td><td>2.27</td><td>1.44</td><td>1.88</td><td>0.78</td><td>rHGG</td></tr>\n",
       "\t<tr><th scope=row>3</th><td>7540</td><td>2.35</td><td>1.97</td><td>0.76</td><td>0.78</td><td>rHGG</td></tr>\n",
       "\t<tr><th scope=row>4</th><td>5317</td><td>2.20</td><td>1.56</td><td>2.04</td><td>0.74</td><td>rHGG</td></tr>\n",
       "\t<tr><th scope=row>6</th><td>6709</td><td>1.08</td><td>1.23</td><td>0.95</td><td>  NA</td><td>rHGG</td></tr>\n",
       "\t<tr><th scope=row>7</th><td>6094</td><td>2.16</td><td>1.74</td><td>1.94</td><td>0.90</td><td>TxE </td></tr>\n",
       "</tbody>\n",
       "</table>\n"
      ],
      "text/latex": [
       "\\begin{tabular}{r|llllll}\n",
       "  & t\\_number & nfse & nfl & nt1c & nt1v & outcome\\\\\n",
       "\\hline\n",
       "\t1 & 6369 & 2.10 & 1.84 & 1.20 & 0.84 & TxE \\\\\n",
       "\t2 & 5317 & 2.27 & 1.44 & 1.88 & 0.78 & rHGG\\\\\n",
       "\t3 & 7540 & 2.35 & 1.97 & 0.76 & 0.78 & rHGG\\\\\n",
       "\t4 & 5317 & 2.20 & 1.56 & 2.04 & 0.74 & rHGG\\\\\n",
       "\t6 & 6709 & 1.08 & 1.23 & 0.95 &   NA & rHGG\\\\\n",
       "\t7 & 6094 & 2.16 & 1.74 & 1.94 & 0.90 & TxE \\\\\n",
       "\\end{tabular}\n"
      ],
      "text/markdown": [
       "\n",
       "| <!--/--> | t_number | nfse | nfl | nt1c | nt1v | outcome | \n",
       "|---|---|---|---|---|---|\n",
       "| 1 | 6369 | 2.10 | 1.84 | 1.20 | 0.84 | TxE  | \n",
       "| 2 | 5317 | 2.27 | 1.44 | 1.88 | 0.78 | rHGG | \n",
       "| 3 | 7540 | 2.35 | 1.97 | 0.76 | 0.78 | rHGG | \n",
       "| 4 | 5317 | 2.20 | 1.56 | 2.04 | 0.74 | rHGG | \n",
       "| 6 | 6709 | 1.08 | 1.23 | 0.95 |   NA | rHGG | \n",
       "| 7 | 6094 | 2.16 | 1.74 | 1.94 | 0.90 | TxE  | \n",
       "\n",
       "\n"
      ],
      "text/plain": [
       "  t_number nfse nfl  nt1c nt1v outcome\n",
       "1 6369     2.10 1.84 1.20 0.84 TxE    \n",
       "2 5317     2.27 1.44 1.88 0.78 rHGG   \n",
       "3 7540     2.35 1.97 0.76 0.78 rHGG   \n",
       "4 5317     2.20 1.56 2.04 0.74 rHGG   \n",
       "6 6709     1.08 1.23 0.95   NA rHGG   \n",
       "7 6094     2.16 1.74 1.94 0.90 TxE    "
      ]
     },
     "metadata": {},
     "output_type": "display_data"
    }
   ],
   "source": [
    "head(training.data.anat)"
   ]
  },
  {
   "cell_type": "code",
   "execution_count": 10,
   "metadata": {
    "collapsed": false,
    "deletable": true,
    "editable": true
   },
   "outputs": [],
   "source": [
    "\n",
    "  #Normalize predictor variables\n",
    "  \n",
    "    ## first: find means and standard deviations of each column \n",
    "    means = colSums(training.data.anat[,-c(1, length(training.data.anat))], na.rm = T)/dim(training.data.anat)[1]\n",
    "    stdev = c()\n",
    "    # make stdev vector\n",
    "      for(parameter in varNames_anat){\n",
    "        index  = which(names(training.data.anat) == parameter)\n",
    "        stdev_param = sd(training.data.anat[,index], na.rm = T)\n",
    "        stdev = c(stdev, stdev_param)\n",
    "      }\n"
   ]
  },
  {
   "cell_type": "code",
   "execution_count": 11,
   "metadata": {
    "collapsed": false,
    "deletable": true,
    "editable": true
   },
   "outputs": [],
   "source": [
    " ## subtract mean of each column from values in that column \n",
    "    subtract.training.data <- sweep(training.data.anat[,-c(1, length(training.data.anat))],2,means)\n",
    "    "
   ]
  },
  {
   "cell_type": "code",
   "execution_count": 12,
   "metadata": {
    "collapsed": true,
    "deletable": true,
    "editable": true
   },
   "outputs": [],
   "source": [
    "## divide by stdev \n",
    "    normalized.training.data = t(apply(subtract.training.data, 1, function(x) x/stdev))\n",
    "   "
   ]
  },
  {
   "cell_type": "code",
   "execution_count": 13,
   "metadata": {
    "collapsed": true,
    "deletable": true,
    "editable": true
   },
   "outputs": [],
   "source": [
    "## convert Outcome to binary: \n",
    "bin_outcome = ifelse(training.data.anat[, length(training.data.anat)]==\"TxE\", 1, 0)"
   ]
  },
  {
   "cell_type": "code",
   "execution_count": 14,
   "metadata": {
    "collapsed": false,
    "deletable": true,
    "editable": true
   },
   "outputs": [
    {
     "name": "stdout",
     "output_type": "stream",
     "text": [
      "'data.frame':\t240 obs. of  6 variables:\n",
      " $ t_number: Factor w/ 110 levels \"5296\",\"5317\",..: 35 2 54 2 45 20 45 35 61 18 ...\n",
      " $ nfse    : num  0.321 0.569 0.686 0.467 -1.169 ...\n",
      " $ nfl     : num  0.265 -0.511 0.517 -0.278 -0.918 ...\n",
      " $ nt1c    : num  -0.109 1.161 -0.93 1.459 -0.575 ...\n",
      " $ nt1v    : num  0.692 0.417 0.417 0.233 NA ...\n",
      " $ Outcome : num  1 0 0 0 0 1 0 1 0 0 ...\n"
     ]
    }
   ],
   "source": [
    " ## add back in the outcome variable \n",
    "    normalized.training.data = data.frame(t_number = as.factor(training.data.anat[,groupNames]), \n",
    "                                          normalized.training.data, \n",
    "                                          Outcome = bin_outcome) \n",
    "str(normalized.training.data)"
   ]
  },
  {
   "cell_type": "code",
   "execution_count": 15,
   "metadata": {
    "collapsed": false,
    "deletable": true,
    "editable": true
   },
   "outputs": [],
   "source": [
    "############## building GLMMLASSO MOdel \n",
    "\n",
    "glmm.lasso.build = glmmLasso(fix = lasso.formula, rnd = rnd.formula, data = normalized.training.data, lambda = 1, \n",
    "                            family = binomial(link = \"logit\"))\n"
   ]
  },
  {
   "cell_type": "code",
   "execution_count": 28,
   "metadata": {
    "collapsed": false
   },
   "outputs": [
    {
     "data": {
      "text/plain": [
       "$t_number\n",
       "~1\n"
      ]
     },
     "metadata": {},
     "output_type": "display_data"
    }
   ],
   "source": [
    "rnd.formula"
   ]
  },
  {
   "cell_type": "code",
   "execution_count": 29,
   "metadata": {
    "collapsed": false
   },
   "outputs": [
    {
     "name": "stderr",
     "output_type": "stream",
     "text": [
      "Warning message in rbind(Delta.start, fn$Deltamatrix[fn$conv.step, ]):\n",
      "“number of columns of result is not a multiple of vector length (arg 2)”Warning message in rbind(Delta.start, fn$Deltamatrix[fn$conv.step, ]):\n",
      "“number of columns of result is not a multiple of vector length (arg 2)”Warning message in rbind(Delta.start, fn$Deltamatrix[fn$conv.step, ]):\n",
      "“number of columns of result is not a multiple of vector length (arg 2)”Warning message in rbind(Delta.start, fn$Deltamatrix[fn$conv.step, ]):\n",
      "“number of columns of result is not a multiple of vector length (arg 2)”Warning message in rbind(Delta.start, fn$Deltamatrix[fn$conv.step, ]):\n",
      "“number of columns of result is not a multiple of vector length (arg 2)”"
     ]
    }
   ],
   "source": [
    "\n",
    "x = cv.glmmLasso(dat = normalized.training.data, \n",
    "            form.rnd = list(t_number=~1), \n",
    "            form.fixed = lasso.formula,\n",
    "            family = binomial(link='logit'))"
   ]
  },
  {
   "cell_type": "code",
   "execution_count": 27,
   "metadata": {
    "collapsed": false
   },
   "outputs": [
    {
     "data": {
      "text/plain": [
       "$fit.opt\n",
       "Call:\n",
       "glmmLasso::glmmLasso(fix = as.formula(form.fixed), rnd = form.rnd, \n",
       "    data = dat, lambda = lambda[opt], switch.NR = FALSE, final.re = TRUE, \n",
       "    control = list(start = Delta.start[opt, ], q_start = Q.start.base))\n",
       "\n",
       "Fixed Effects:\n",
       "\n",
       "Coefficients:\n",
       "(Intercept)        nfse         nfl        nt1c \n",
       "  0.2513132   0.0000000   0.0000000   0.0000000 \n",
       "\n",
       "Random Effects:\n",
       "\n",
       "StdDev:\n",
       "          t_number\n",
       "t_number 0.1178311\n",
       "\n",
       "$BIC_path\n",
       "  [1]  6.781801  7.014703  7.014703  7.014703  7.014703  7.014703  7.014703\n",
       "  [8]  7.014703  7.014703  7.014703  7.014703  7.014703  7.014703  7.014703\n",
       " [15]  7.014703  7.014703  7.014703  7.014703  7.014703  7.014703  7.014703\n",
       " [22]  7.014703  7.014703  7.014703  7.014703  7.014703  7.014703  7.014703\n",
       " [29]  7.014703  7.014703  7.014703  7.014703  7.014703  7.014703  7.014703\n",
       " [36]  7.014703  7.014703  7.014703  7.014703  7.014703  7.014703  7.014703\n",
       " [43]  7.014703  7.014703  7.014703  7.014703  7.014703  7.014703  7.014703\n",
       " [50]  7.014703  7.014703  7.014703  7.014703  7.014703  7.014703  7.014703\n",
       " [57]  7.014703  7.014703  7.014703  7.014703  7.014703  7.014703  7.014703\n",
       " [64]  7.014703  7.014703  7.014703  7.014703  7.014703  7.014703  7.014703\n",
       " [71]  7.014703  7.014703  7.014703  7.014703  7.014703  7.014703  7.014703\n",
       " [78]  7.014703  7.014703  7.014703  7.014703  7.014703  7.014703  7.014703\n",
       " [85]  7.014703  7.014703  7.014703  7.014703  7.014703  7.014703  7.014703\n",
       " [92]  7.014703  7.014703  7.014703  7.014703  7.014703  7.014703  7.014703\n",
       " [99]  7.014703  7.014703 23.049217\n"
      ]
     },
     "metadata": {},
     "output_type": "display_data"
    }
   ],
   "source": [
    "x"
   ]
  },
  {
   "cell_type": "code",
   "execution_count": 53,
   "metadata": {
    "collapsed": false,
    "deletable": true,
    "editable": true
   },
   "outputs": [
    {
     "data": {
      "text/plain": [
       "Call:\n",
       "glmmLasso(fix = lasso.formula, rnd = rnd.formula, data = normalized.training.data, \n",
       "    lambda = 1, family = binomial(link = \"logit\"))\n",
       "\n",
       "Fixed Effects:\n",
       "\n",
       "Coefficients:\n",
       "(Intercept)        nfse         nfl        nt1c \n",
       " -1.0968430   0.1136317  -0.2605581   0.1468462 \n",
       "\n",
       "Random Effects:\n",
       "\n",
       "StdDev:\n",
       "          t_number\n",
       "t_number 0.3633895"
      ]
     },
     "metadata": {},
     "output_type": "display_data"
    }
   ],
   "source": [
    "for i in c(1, 5, 10, 50, 100, 500, 1000){\n",
    "    glmm.lasso.build = glmmLasso(fix = lasso.formula, rnd = rnd.formula, data = normalized.training.data, lambda = i, \n",
    "                            family = binomial(link = \"logit\"))\n",
    "    \n",
    "    \n",
    "}"
   ]
  },
  {
   "cell_type": "code",
   "execution_count": null,
   "metadata": {
    "collapsed": true,
    "deletable": true,
    "editable": true
   },
   "outputs": [],
   "source": [
    "glmm.lasso.build"
   ]
  },
  {
   "cell_type": "code",
   "execution_count": null,
   "metadata": {
    "collapsed": true,
    "deletable": true,
    "editable": true
   },
   "outputs": [],
   "source": [
    "## Here we want to loop through all of the training/testing data for \n",
    "## anatomical imaging (no imputation)\n",
    "\n",
    "for (idx in 1:n.simulations){\n",
    "  tic(\"Total Execution time\")\n",
    "  set.seed(idx)\n",
    "  \n",
    "  #Load training and validation data\n",
    "  training.data <- as.data.frame(read.csv(file = paste(dataDir,\"Training/\",\"train_data_\",idx,\".csv\",sep = \"\")))\n",
    "  test.data <- as.data.frame(read.csv(file = paste(dataDir,\"Testing/\",\"test_data_\",idx,\".csv\",sep = \"\")))\n",
    "  \n",
    "  #Subset to only anatomical features: \n",
    "  training.data.anat = data.frame(training.data[,varNames_anat], outcome = training.data[,outcome])\n",
    "  test.data.anat = data.frame(test.data[,varNames_anat], outcome = test.data[,outcome])\n",
    "    \n",
    "  #Create formula for Logreg\n",
    "  varNames.add.sign <- paste(varNames_anat[1:3], collapse = \"+\")\n",
    "  lasso.formula <- as.formula(paste(\"Outcome\",varNames.add.sign, sep = \"~\"))\n",
    "    \n",
    "  # Get rid of the 3 NA values in FL  \n",
    "  training.data.anat = training.data.anat[!is.na(training.data.anat$nfl),]\n",
    "  test.data.anat = test.data.anat[!is.na(test.data.anat$nfl),]\n",
    "    \n",
    "  #Get rid of the multnomOutcome that isn't TxE or rHGG\n",
    "  training.data.anat = training.data.anat[which(as.character(training.data.anat$outcome)==\"rHGG\" | \n",
    "                                                as.character(training.data.anat$outcome)==\"TxE\"),]\n",
    "  testing.data.anat = training.data.anat[which(as.character(testing.data.anat$outcome)==\"rHGG\" | \n",
    "                                                as.character(testing.data.anat$outcome)==\"TxE\"),]\n",
    "\n",
    "  \n",
    "  #Normalize predictor variables\n",
    "  \n",
    "    ## first: find means and standard deviations of each column \n",
    "    means = colSums(training.data.anat[,-length(training.data.anat)], na.rm = T)/dim(training.data.anat)[1]\n",
    "    stdev = c()\n",
    "    # make stdev vector\n",
    "      for(parameter in varNames_anat){\n",
    "        index  = which(names(training.data.anat) == parameter)\n",
    "        stdev_param = sd(training.data.anat[,index], na.rm = T)\n",
    "        stdev = c(stdev, stdev_param)\n",
    "      }\n",
    "    ## subtract mean of each column from values in that column \n",
    "    subtract.training.data <- sweep(training.data.anat[,-length(training.data.anat)],2,means)\n",
    "    ## divide by stdev \n",
    "    normalized.training.data = t(apply(subtract.training.data, 1, function(x) x/stdev))\n",
    "    ## add back in the outcome variable \n",
    "    normalized.training.data = data.frame(normalized.training.data, Outcome = training.data.anat[, length(training.data.anat)])  \n",
    "  \n",
    "    ##now applying the same normalization parameters to the test data \n",
    "    subtract.test.data <- sweep(test.data.anat[,-length(test.data.anat)],2,means)\n",
    "    normalized.test.data = t(apply(subtract.test.data, 1, function(x) x/stdev))\n",
    "    normalized.test.data = data.frame(normalized.test.data, Outcome = test.data.anat[, length(test.data.anat)])  \n",
    "\n",
    "  # Create model matrix for train & test set\n",
    "  norm_train_mtx <- model.matrix(lasso.formula, normalized.training.data)[, -1]\n",
    "  norm_train_outcome <- normalized.training.data$Outcome\n",
    "  \n",
    "  norm_test_mtx <- model.matrix(lasso.formula, normalized.test.data)[, -1]\n",
    "  norm_test_outcome <- normalized.test.data$Outcome\n",
    "  \n",
    "  ################################################### LASSO ######################################################################\n",
    "  # Building Lasso Model\n",
    "  cv.lasso <- cv.glmnet( norm_train_mtx,\n",
    "                        norm_train_outcome,\n",
    "                        alpha=1,family = \"binomial\",standardize = FALSE)\n",
    "  \n",
    "  bestlam.lasso <- cv.lasso$lambda.min\n",
    "  \n",
    "  reg.lasso  <- glmnet(norm_train_mtx,\n",
    "                      norm_train_outcome,\n",
    "                      alpha=1,\n",
    "                      lambda= bestlam.lasso,\n",
    "                      family = \"binomial\",\n",
    "                      standardize = FALSE)\n",
    "  ############################################## TRAINING ENDS #########################################################################\n",
    "  pred.lasso.train <- predict(reg.lasso,s= bestlam.lasso ,newx= norm_train_mtx, type = \"class\")\n",
    "  \n",
    "  pred.lasso <- predict(reg.lasso,s= bestlam.lasso ,newx= norm_test_mtx, type = \"class\")\n",
    "  pred.lasso.prob <- predict(reg.lasso,s= bestlam.lasso ,newx= norm_test_mtx, type =\"response\")\n",
    "  \n",
    "  coef.lasso <- predict(reg.lasso , type=\"coefficients\", s=bestlam.lasso)\n",
    "  misclass.err  <- mean(norm_test_outcome != pred.lasso)\n",
    "  \n",
    "  Confusion_Matrix_Train <- confusionMatrix(data = pred.lasso.train,reference =  norm_train_outcome,positive = \"M\")\n",
    "  Confusion_Matrix_Test <- confusionMatrix(data = pred.lasso,reference =  norm_test_outcome,positive = \"M\")\n",
    "  \n",
    "  \n",
    "  # LogLoss error\n",
    "  source(\"/home/pchunduru/Simulation_data/Classification/Scripts/functions/logLoss.R\")\n",
    "  df_pred_probs <- data.frame(B= 1-pred.lasso.prob, \n",
    "                              M = pred.lasso.prob)\n",
    "  prediction_test_logloss <- apply(df_pred_probs, c(1,2), function(x) min(max(x, 1E-15), 1-1E-15))\n",
    "  logloss_err <- logLoss(prediction_test_logloss, norm_test_outcome)\n",
    "  \n",
    "  #Data frame of Truth and Predicted values\n",
    "  predicted.test.set <- cbind(test.data[,-length(test.data)],pred.lasso)\n",
    "  colnames(predicted.test.set)[length(test.data)] <- c(\"Pred.Outcome\")\n",
    "  \n",
    "  probability.test.set <-cbind(test.data[,-length(test.data)], pred.lasso.prob)\n",
    "  colnames(probability.test.set)[length(test.data)] <- c(\"Prob.Outcome.M\")\n",
    "  \n",
    "  \n",
    "  #Get AUC value\n",
    "  require(ROCR)\n",
    "  require(pROC)\n",
    "  perf_ROC <- roc(norm_test_outcome ,pred.lasso.prob[,1])\n",
    "  auc_output <- pROC::auc(perf_ROC)\n",
    "\n",
    "  ## Saving the results\n",
    "  # missclassification error\n",
    "  write(missclass.err, paste(mainDir,Logreg.missclass.dir,model,\"_\",\"ErrorToTruth_\",idx,\".txt\",sep=\"\"),ncol=1)\n",
    "  # LogLoss error\n",
    "  write(logloss_err, paste(mainDir,Logreg.logLoss.dir,model,\"_\",\"logLoss_\",idx,\".txt\",sep=\"\"),ncol=1)\n",
    "  #AUC values\n",
    "  write(auc_output[1], paste(mainDir,Logreg.AUC.dir,model,\"_\",\"AUC_\",idx,\".txt\",sep=\"\"),ncol=1)\n",
    "  #predicted output data\n",
    "  write.csv(x = predicted.test.set,file = paste(mainDir,Logreg.pred.dir,model,\"_\",\"Predicted_Test_Set_\",idx,\".csv\",sep=\"\"),row.names = F,col.names = T,sep = \"\\t\")\n",
    "  #predicited probabilities result\n",
    "  write.csv(x = probability.test.set ,file = paste(mainDir,Logreg.prob.dir,model,\"_\",\"Probability_Test_Set_\",idx,\".csv\",sep=\"\"),row.names = F,col.names = T,sep = \"\\t\")\n",
    "  # confusion matrix\n",
    "  write.csv(x = Confusion_Matrix_Test$byClass , file =paste(mainDir,Logreg.cm.dir,model,\"_\",\"Confusion_Matrix_\",idx,\".csv\",sep=\"\"),row.names = T,col.names = T,sep = \"\\t\")\n",
    "  # Accuracy\n",
    "  write.csv(x = Confusion_Matrix_Test$overall , file =paste(mainDir,Logreg.accuracy.dir,model,\"_\",\"Accuracy_\",idx,\".csv\",sep=\"\"),row.names = T,col.names = T,sep = \"\\t\")\n",
    "  #\n",
    "}"
   ]
  }
 ],
 "metadata": {
  "kernelspec": {
   "display_name": "R",
   "language": "R",
   "name": "ir"
  },
  "language_info": {
   "codemirror_mode": "r",
   "file_extension": ".r",
   "mimetype": "text/x-r-source",
   "name": "R",
   "pygments_lexer": "r",
   "version": "3.4.0"
  }
 },
 "nbformat": 4,
 "nbformat_minor": 2
}
