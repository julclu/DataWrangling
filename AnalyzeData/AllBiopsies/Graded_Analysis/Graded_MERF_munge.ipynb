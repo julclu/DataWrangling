{
 "cells": [
  {
   "cell_type": "code",
   "execution_count": 72,
   "metadata": {
    "collapsed": true,
    "deletable": true,
    "editable": true
   },
   "outputs": [],
   "source": [
    "import pandas as pd\n",
    "import numpy as np\n",
    "from merf import MERF\n",
    "import random \n",
    "from collections import Counter"
   ]
  },
  {
   "cell_type": "code",
   "execution_count": 60,
   "metadata": {
    "collapsed": true
   },
   "outputs": [],
   "source": [
    "pd.options.display.max_rows = 4000"
   ]
  },
  {
   "cell_type": "code",
   "execution_count": 4,
   "metadata": {
    "collapsed": false,
    "deletable": true,
    "editable": true
   },
   "outputs": [
    {
     "name": "stdout",
     "output_type": "stream",
     "text": [
      "138\n"
     ]
    }
   ],
   "source": [
    "random.seed(1)\n",
    "idx = random.randint(1,1000)\n",
    "print(idx)"
   ]
  },
  {
   "cell_type": "code",
   "execution_count": 5,
   "metadata": {
    "collapsed": false,
    "deletable": true,
    "editable": true
   },
   "outputs": [
    {
     "name": "stdout",
     "output_type": "stream",
     "text": [
      "../Training/train_data_138.csv\n",
      "../Testing/test_data_138.csv\n"
     ]
    }
   ],
   "source": [
    "path_to_csv_train = '../Training/train_data_'+str(idx)+'.csv'\n",
    "print(path_to_csv_train)\n",
    "path_to_csv_test = '../Testing/test_data_'+str(idx)+'.csv'\n",
    "print(path_to_csv_test)"
   ]
  },
  {
   "cell_type": "code",
   "execution_count": 6,
   "metadata": {
    "collapsed": false,
    "deletable": true,
    "editable": true
   },
   "outputs": [],
   "source": [
    "dat_train = pd.read_csv(path_to_csv_train)\n",
    "dat_test = pd.read_csv(path_to_csv_test)"
   ]
  },
  {
   "cell_type": "code",
   "execution_count": 7,
   "metadata": {
    "collapsed": false,
    "deletable": true,
    "editable": true
   },
   "outputs": [
    {
     "name": "stdout",
     "output_type": "stream",
     "text": [
      "(292, 74)\n",
      "(99, 74)\n"
     ]
    }
   ],
   "source": [
    "print(dat_train.shape)\n",
    "print(dat_test.shape)"
   ]
  },
  {
   "cell_type": "code",
   "execution_count": 55,
   "metadata": {
    "collapsed": false
   },
   "outputs": [],
   "source": [
    "index = list(range(0, len(dat_train.columns.values)))\n"
   ]
  },
  {
   "cell_type": "code",
   "execution_count": 56,
   "metadata": {
    "collapsed": false
   },
   "outputs": [],
   "source": [
    "columns = list(dat_train.columns.values)\n"
   ]
  },
  {
   "cell_type": "code",
   "execution_count": 57,
   "metadata": {
    "collapsed": false
   },
   "outputs": [
    {
     "name": "stdout",
     "output_type": "stream",
     "text": [
      "74\n",
      "74\n"
     ]
    }
   ],
   "source": [
    "print(len(index))\n",
    "print(len(columns))"
   ]
  },
  {
   "cell_type": "code",
   "execution_count": 61,
   "metadata": {
    "collapsed": false
   },
   "outputs": [
    {
     "name": "stdout",
     "output_type": "stream",
     "text": [
      "                      columns  index\n",
      "0                    b_number      0\n",
      "1                    t_number      1\n",
      "2                   sf_number      2\n",
      "3           current_scan_date      3\n",
      "4        current_surgery_date      4\n",
      "5          current_hist_grade      5\n",
      "6           current_hist_type      6\n",
      "7                   roi.label      7\n",
      "8       tumor_cell_evaluation      8\n",
      "9                    necrosis      9\n",
      "10                f8_delicate     10\n",
      "11                  f8_simple     11\n",
      "12                 f8_complex     12\n",
      "13                      mib_1     13\n",
      "14   bx_pure_treatment_effect     14\n",
      "15                       nfse     15\n",
      "16                        nfl     16\n",
      "17                       nt1c     17\n",
      "18                       nt1v     18\n",
      "19                     nadc.1     19\n",
      "20                      nfa.1     20\n",
      "21                     nev1.1     21\n",
      "22                     nev2.1     22\n",
      "23                     nev3.1     23\n",
      "24                   nevrad.1     24\n",
      "25                     nadc.2     25\n",
      "26                      nfa.2     26\n",
      "27                     nev1.2     27\n",
      "28                     nev2.2     28\n",
      "29                     nev3.2     29\n",
      "30                   nevrad.2     30\n",
      "31                  cbvn_nlin     31\n",
      "32                   phn_nlin     32\n",
      "33                   phn_npar     33\n",
      "34                recovn_npar     34\n",
      "35                        cni     35\n",
      "36                       ccri     36\n",
      "37                       crni     37\n",
      "38                       ncho     38\n",
      "39                       ncre     39\n",
      "40                       nnaa     40\n",
      "41                       nlip     41\n",
      "42                     laclip     42\n",
      "43                       nlac     43\n",
      "44                    olddata     44\n",
      "45                    newdata     45\n",
      "46                   comments     46\n",
      "47                     notes.     47\n",
      "48               imaging_code     48\n",
      "49                 perf_quant     49\n",
      "50                   cbv_nlin     50\n",
      "51                 spec_quant     51\n",
      "52               include_anat     52\n",
      "53          include_diffu1000     53\n",
      "54          include_diffu2000     54\n",
      "55          include_diffu_all     55\n",
      "56               include_perf     56\n",
      "57               include_spec     57\n",
      "58   include_one_advanced_mod     58\n",
      "59  include_all_advanced_mods     59\n",
      "60                      X.CEL     60\n",
      "61                      X.NEL     61\n",
      "62                      X.NEC     62\n",
      "63                        sum     63\n",
      "64                     in_CEL     64\n",
      "65                   in_T2all     65\n",
      "66                     in_NEL     66\n",
      "67                     in_NEC     67\n",
      "68                     in_ROI     68\n",
      "69               desired_hist     69\n",
      "70                multnom_out     70\n",
      "71                    no_ffpe     71\n",
      "72            waiting_on_path     72\n",
      "73          rhgg_txe_analysis     73\n"
     ]
    }
   ],
   "source": [
    "colname_dic = {\"index\": index, \n",
    "            \"columns\": columns}\n",
    "colname_df = pd.DataFrame(colname_dic)\n",
    "print(colname_df)"
   ]
  },
  {
   "cell_type": "code",
   "execution_count": 62,
   "metadata": {
    "collapsed": false,
    "deletable": true,
    "editable": true
   },
   "outputs": [
    {
     "name": "stdout",
     "output_type": "stream",
     "text": [
      "t_number\n",
      "['nfse', 'nfl', 'nt1c', 'nt1v']\n",
      "['nadc.1', 'nfa.1', 'nev1.1', 'nev2.1', 'nev3.1', 'nevrad.1']\n",
      "['cbvn_nlin', 'phn_nlin', 'phn_npar', 'recovn_npar']\n",
      "['cni', 'ccri', 'crni', 'ncho', 'ncre', 'nnaa', 'laclip']\n",
      "multnom_out\n"
     ]
    }
   ],
   "source": [
    "\n",
    "groupID = list(dat_train.columns.values)[1]\n",
    "print(groupID)\n",
    "varNames_anat = list(dat_train.columns.values)[15:19]\n",
    "print(varNames_anat)\n",
    "varNames_diffu = list(dat_train.columns.values)[19:25]\n",
    "print(varNames_diffu)\n",
    "varNames_perf = list(dat_train.columns.values)[31:35]\n",
    "print(varNames_perf)\n",
    "varNames_spec = list(dat_train.columns.values[35:41])\n",
    "varNames_spec.append(dat_train.columns.values[42])\n",
    "print(varNames_spec)\n",
    "outcome = list(dat_train.columns.values)[70]\n",
    "print(outcome)"
   ]
  },
  {
   "cell_type": "code",
   "execution_count": 73,
   "metadata": {
    "collapsed": false
   },
   "outputs": [
    {
     "data": {
      "text/plain": [
       "Counter({False: 54, True: 238})"
      ]
     },
     "execution_count": 73,
     "metadata": {},
     "output_type": "execute_result"
    }
   ],
   "source": [
    "criteria_txe_train = dat_train[outcome] == \"TxE\"\n",
    "criteria_rhgg_train = dat_train[outcome] ==\"rHGG\"\n",
    "criteria_train = criteria_txe_train | criteria_rhgg_train\n",
    "Counter(criteria_train)\n"
   ]
  },
  {
   "cell_type": "code",
   "execution_count": 80,
   "metadata": {
    "collapsed": false
   },
   "outputs": [
    {
     "data": {
      "text/plain": [
       "Counter({False: 15, True: 84})"
      ]
     },
     "execution_count": 80,
     "metadata": {},
     "output_type": "execute_result"
    }
   ],
   "source": [
    "criteria_txe_test = dat_test[outcome] == \"TxE\"\n",
    "criteria_rhgg_test = dat_test[outcome] ==\"rHGG\"\n",
    "criteria_test = criteria_txe_test | criteria_rhgg_test\n",
    "Counter(criteria_test)\n"
   ]
  },
  {
   "cell_type": "code",
   "execution_count": 79,
   "metadata": {
    "collapsed": false
   },
   "outputs": [
    {
     "data": {
      "text/plain": [
       "(238, 74)"
      ]
     },
     "execution_count": 79,
     "metadata": {},
     "output_type": "execute_result"
    }
   ],
   "source": [
    "dat_train = dat_train.loc[criteria_train]\n",
    "dat_train.shape"
   ]
  },
  {
   "cell_type": "code",
   "execution_count": 81,
   "metadata": {
    "collapsed": true
   },
   "outputs": [],
   "source": [
    "dat_test = dat_test.loc[criteria_test]"
   ]
  },
  {
   "cell_type": "code",
   "execution_count": 82,
   "metadata": {
    "collapsed": true
   },
   "outputs": [],
   "source": [
    "dat_train_anat = dat_train[varNames_anat]\n",
    "dat_test_anat = dat_test[varNames_anat]"
   ]
  },
  {
   "cell_type": "code",
   "execution_count": 83,
   "metadata": {
    "collapsed": false
   },
   "outputs": [
    {
     "name": "stdout",
     "output_type": "stream",
     "text": [
      "(238, 4)\n",
      "(84, 4)\n"
     ]
    }
   ],
   "source": [
    "print(dat_train_anat.shape)\n",
    "print(dat_test_anat.shape)"
   ]
  },
  {
   "cell_type": "code",
   "execution_count": null,
   "metadata": {
    "collapsed": true
   },
   "outputs": [],
   "source": [
    "## begin with no normalization, and just try first to use anatomic features for prediction; then perhaps "
   ]
  },
  {
   "cell_type": "code",
   "execution_count": 85,
   "metadata": {
    "collapsed": true
   },
   "outputs": [],
   "source": [
    "merf = MERF()"
   ]
  },
  {
   "cell_type": "code",
   "execution_count": 87,
   "metadata": {
    "collapsed": false
   },
   "outputs": [
    {
     "ename": "IndexError",
     "evalue": "tuple index out of range",
     "output_type": "error",
     "traceback": [
      "\u001b[0;31m---------------------------------------------------------------------------\u001b[0m",
      "\u001b[0;31mIndexError\u001b[0m                                Traceback (most recent call last)",
      "\u001b[0;32m<ipython-input-87-7f520e21582d>\u001b[0m in \u001b[0;36m<module>\u001b[0;34m()\u001b[0m\n\u001b[0;32m----> 1\u001b[0;31m \u001b[0mmerf\u001b[0m\u001b[0;34m.\u001b[0m\u001b[0mfit\u001b[0m\u001b[0;34m(\u001b[0m\u001b[0mdat_train_anat\u001b[0m\u001b[0;34m,\u001b[0m \u001b[0mdat_train\u001b[0m\u001b[0;34m[\u001b[0m\u001b[0mgroupID\u001b[0m\u001b[0;34m]\u001b[0m\u001b[0;34m,\u001b[0m \u001b[0mdat_train\u001b[0m\u001b[0;34m[\u001b[0m\u001b[0mgroupID\u001b[0m\u001b[0;34m]\u001b[0m\u001b[0;34m,\u001b[0m \u001b[0mdat_train\u001b[0m\u001b[0;34m[\u001b[0m\u001b[0moutcome\u001b[0m\u001b[0;34m]\u001b[0m\u001b[0;34m)\u001b[0m\u001b[0;34m\u001b[0m\u001b[0m\n\u001b[0m",
      "\u001b[0;32m~/.conda/envs/py36R/lib/python3.6/site-packages/merf/merf.py\u001b[0m in \u001b[0;36mfit\u001b[0;34m(self, X, Z, clusters, y)\u001b[0m\n\u001b[1;32m     83\u001b[0m         \u001b[0mn_clusters\u001b[0m \u001b[0;34m=\u001b[0m \u001b[0mclusters\u001b[0m\u001b[0;34m.\u001b[0m\u001b[0mnunique\u001b[0m\u001b[0;34m(\u001b[0m\u001b[0;34m)\u001b[0m\u001b[0;34m\u001b[0m\u001b[0m\n\u001b[1;32m     84\u001b[0m         \u001b[0mn_obs\u001b[0m \u001b[0;34m=\u001b[0m \u001b[0mlen\u001b[0m\u001b[0;34m(\u001b[0m\u001b[0my\u001b[0m\u001b[0;34m)\u001b[0m\u001b[0;34m\u001b[0m\u001b[0m\n\u001b[0;32m---> 85\u001b[0;31m         \u001b[0mq\u001b[0m \u001b[0;34m=\u001b[0m \u001b[0mZ\u001b[0m\u001b[0;34m.\u001b[0m\u001b[0mshape\u001b[0m\u001b[0;34m[\u001b[0m\u001b[0;36m1\u001b[0m\u001b[0;34m]\u001b[0m  \u001b[0;31m# random effects dimension\u001b[0m\u001b[0;34m\u001b[0m\u001b[0m\n\u001b[0m\u001b[1;32m     86\u001b[0m         \u001b[0mZ\u001b[0m \u001b[0;34m=\u001b[0m \u001b[0mnp\u001b[0m\u001b[0;34m.\u001b[0m\u001b[0marray\u001b[0m\u001b[0;34m(\u001b[0m\u001b[0mZ\u001b[0m\u001b[0;34m)\u001b[0m  \u001b[0;31m# cast Z to numpy array (required if it's a dataframe, otw, the matrix mults later fail)\u001b[0m\u001b[0;34m\u001b[0m\u001b[0m\n\u001b[1;32m     87\u001b[0m \u001b[0;34m\u001b[0m\u001b[0m\n",
      "\u001b[0;31mIndexError\u001b[0m: tuple index out of range"
     ]
    }
   ],
   "source": [
    "merf.fit(dat_train_anat, dat_train[groupID], dat_train[groupID], dat_train[outcome])"
   ]
  },
  {
   "cell_type": "code",
   "execution_count": null,
   "metadata": {
    "collapsed": true
   },
   "outputs": [],
   "source": []
  }
 ],
 "metadata": {
  "kernelspec": {
   "display_name": "python36",
   "language": "python",
   "name": "python36"
  },
  "language_info": {
   "codemirror_mode": {
    "name": "ipython",
    "version": 3
   },
   "file_extension": ".py",
   "mimetype": "text/x-python",
   "name": "python",
   "nbconvert_exporter": "python",
   "pygments_lexer": "ipython3",
   "version": "3.6.2"
  }
 },
 "nbformat": 4,
 "nbformat_minor": 2
}
