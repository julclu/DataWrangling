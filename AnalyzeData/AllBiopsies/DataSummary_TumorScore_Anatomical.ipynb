{
 "cells": [
  {
   "cell_type": "markdown",
   "metadata": {
    "deletable": true,
    "editable": true
   },
   "source": [
    "In this notebook, we want to summarize the data and make sure that it is behaving as we expect based on previous literature. Here, we want to only use the outcome for tumor_cell_evaluation"
   ]
  },
  {
   "cell_type": "markdown",
   "metadata": {
    "deletable": true,
    "editable": true
   },
   "source": [
    "Tumor score is defined by UCSF pathologists in the following way: <br>\n",
    "\n",
    "0: neuropil without tumor <br>\n",
    "1: infiltrating tumor margin containing a detectable but not abundant number of tumor cells <br>\n",
    "2: more cellular infiltrated zone <br>\n",
    "3: highly cellular tumor <br>"
   ]
  },
  {
   "cell_type": "code",
   "execution_count": 4,
   "metadata": {
    "collapsed": true,
    "deletable": true,
    "editable": true
   },
   "outputs": [],
   "source": [
    "recgli = read.csv(\"../../ParseData/8thParse_researchPath_withInVivo.csv\") "
   ]
  },
  {
   "cell_type": "markdown",
   "metadata": {
    "deletable": true,
    "editable": true
   },
   "source": [
    "#### In this notebook, we want to find: <br>\n",
    "1. Anatomical params vs. TS using <br>\n",
    "    a. No separation into ROIs <br>\n",
    "    b. Visual comparison of anatomical params in separate regions <br>\n",
    "    ~~c. Repeated Measures ANOVA (analysis of variance) to account for multiple samples from the same patient to see if there is true separation among tumor scores for anatomical parameters~~ <b> you can't use RMANOVA for categorical data </b> (sources: http://sherifsoliman.com/2014/12/10/ANOVA_in_R/, https://www.r-bloggers.com/two-way-anova-with-repeated-measures/, https://www.r-statistics.com/tag/ezanova/) <br> \n",
    "    c. Use GLMM associate anatomical parameters with TS, no separation <br>\n",
    "    d. Use GEE to associate anatomical parameters with TS, no separation <br>\n",
    "    e. Use GLMM to associate anatomical parameters with TS, separating into CEL & NEL <br>\n",
    "    f. Use GEE to associate anatomical parameters with TS, separating into CEL & NEL <br>\n",
    "\n",
    "2. Combining anat params vs. TS using GEE <br>\n",
    "3. Using in_CEL as a covariate in anat params using GEE <br>\n",
    "4. Using RM ANOVA to use imaging characteristics as the dependent variable, and the TS as independent variable "
   ]
  },
  {
   "cell_type": "markdown",
   "metadata": {
    "deletable": true,
    "editable": true
   },
   "source": [
    "## 0. Prep the data"
   ]
  },
  {
   "cell_type": "code",
   "execution_count": 3,
   "metadata": {
    "collapsed": false,
    "deletable": true,
    "editable": true
   },
   "outputs": [
    {
     "data": {
      "text/html": [
       "<ol class=list-inline>\n",
       "\t<li>'b_number'</li>\n",
       "\t<li>'t_number'</li>\n",
       "\t<li>'sf_number'</li>\n",
       "\t<li>'current_scan_date'</li>\n",
       "\t<li>'current_surgery_date'</li>\n",
       "\t<li>'current_hist_grade'</li>\n",
       "\t<li>'current_hist_type'</li>\n",
       "\t<li>'roi.label'</li>\n",
       "\t<li>'tumor_cell_evaluation'</li>\n",
       "\t<li>'necrosis'</li>\n",
       "\t<li>'f8_delicate'</li>\n",
       "\t<li>'f8_simple'</li>\n",
       "\t<li>'f8_complex'</li>\n",
       "\t<li>'mib_1'</li>\n",
       "\t<li>'bx_pure_treatment_effect'</li>\n",
       "\t<li>'nfse'</li>\n",
       "\t<li>'nfl'</li>\n",
       "\t<li>'nt1c'</li>\n",
       "\t<li>'nt1v'</li>\n",
       "\t<li>'nadc.1'</li>\n",
       "\t<li>'nfa.1'</li>\n",
       "\t<li>'nev1.1'</li>\n",
       "\t<li>'nev2.1'</li>\n",
       "\t<li>'nev3.1'</li>\n",
       "\t<li>'nevrad.1'</li>\n",
       "\t<li>'nadc.2'</li>\n",
       "\t<li>'nfa.2'</li>\n",
       "\t<li>'nev1.2'</li>\n",
       "\t<li>'nev2.2'</li>\n",
       "\t<li>'nev3.2'</li>\n",
       "\t<li>'nevrad.2'</li>\n",
       "\t<li>'cbvn_nlin'</li>\n",
       "\t<li>'phn_nlin'</li>\n",
       "\t<li>'phn_npar'</li>\n",
       "\t<li>'recovn_npar'</li>\n",
       "\t<li>'cni'</li>\n",
       "\t<li>'ccri'</li>\n",
       "\t<li>'crni'</li>\n",
       "\t<li>'ncho'</li>\n",
       "\t<li>'ncre'</li>\n",
       "\t<li>'nnaa'</li>\n",
       "\t<li>'nlip'</li>\n",
       "\t<li>'laclip'</li>\n",
       "\t<li>'nlac'</li>\n",
       "\t<li>'olddata'</li>\n",
       "\t<li>'newdata'</li>\n",
       "\t<li>'comments'</li>\n",
       "\t<li>'notes.'</li>\n",
       "\t<li>'imaging_code'</li>\n",
       "\t<li>'perf_quant'</li>\n",
       "\t<li>'spec_quant'</li>\n",
       "\t<li>'include_anat'</li>\n",
       "\t<li>'include_diffu1000'</li>\n",
       "\t<li>'include_diffu2000'</li>\n",
       "\t<li>'include_diffu_all'</li>\n",
       "\t<li>'include_perf'</li>\n",
       "\t<li>'include_spec'</li>\n",
       "\t<li>'include_one_advanced_mod'</li>\n",
       "\t<li>'include_all_advanced_mods'</li>\n",
       "\t<li>'X.CEL'</li>\n",
       "\t<li>'X.NEL'</li>\n",
       "\t<li>'X.NEC'</li>\n",
       "\t<li>'sum'</li>\n",
       "\t<li>'in_CEL'</li>\n",
       "\t<li>'in_T2all'</li>\n",
       "\t<li>'in_NEL'</li>\n",
       "\t<li>'in_NEC'</li>\n",
       "\t<li>'in_ROI'</li>\n",
       "\t<li>'desired_hist'</li>\n",
       "\t<li>'multnom_out'</li>\n",
       "\t<li>'no_ffpe'</li>\n",
       "\t<li>'waiting_on_path'</li>\n",
       "\t<li>'rhgg_txe_analysis'</li>\n",
       "</ol>\n"
      ],
      "text/latex": [
       "\\begin{enumerate*}\n",
       "\\item 'b\\_number'\n",
       "\\item 't\\_number'\n",
       "\\item 'sf\\_number'\n",
       "\\item 'current\\_scan\\_date'\n",
       "\\item 'current\\_surgery\\_date'\n",
       "\\item 'current\\_hist\\_grade'\n",
       "\\item 'current\\_hist\\_type'\n",
       "\\item 'roi.label'\n",
       "\\item 'tumor\\_cell\\_evaluation'\n",
       "\\item 'necrosis'\n",
       "\\item 'f8\\_delicate'\n",
       "\\item 'f8\\_simple'\n",
       "\\item 'f8\\_complex'\n",
       "\\item 'mib\\_1'\n",
       "\\item 'bx\\_pure\\_treatment\\_effect'\n",
       "\\item 'nfse'\n",
       "\\item 'nfl'\n",
       "\\item 'nt1c'\n",
       "\\item 'nt1v'\n",
       "\\item 'nadc.1'\n",
       "\\item 'nfa.1'\n",
       "\\item 'nev1.1'\n",
       "\\item 'nev2.1'\n",
       "\\item 'nev3.1'\n",
       "\\item 'nevrad.1'\n",
       "\\item 'nadc.2'\n",
       "\\item 'nfa.2'\n",
       "\\item 'nev1.2'\n",
       "\\item 'nev2.2'\n",
       "\\item 'nev3.2'\n",
       "\\item 'nevrad.2'\n",
       "\\item 'cbvn\\_nlin'\n",
       "\\item 'phn\\_nlin'\n",
       "\\item 'phn\\_npar'\n",
       "\\item 'recovn\\_npar'\n",
       "\\item 'cni'\n",
       "\\item 'ccri'\n",
       "\\item 'crni'\n",
       "\\item 'ncho'\n",
       "\\item 'ncre'\n",
       "\\item 'nnaa'\n",
       "\\item 'nlip'\n",
       "\\item 'laclip'\n",
       "\\item 'nlac'\n",
       "\\item 'olddata'\n",
       "\\item 'newdata'\n",
       "\\item 'comments'\n",
       "\\item 'notes.'\n",
       "\\item 'imaging\\_code'\n",
       "\\item 'perf\\_quant'\n",
       "\\item 'spec\\_quant'\n",
       "\\item 'include\\_anat'\n",
       "\\item 'include\\_diffu1000'\n",
       "\\item 'include\\_diffu2000'\n",
       "\\item 'include\\_diffu\\_all'\n",
       "\\item 'include\\_perf'\n",
       "\\item 'include\\_spec'\n",
       "\\item 'include\\_one\\_advanced\\_mod'\n",
       "\\item 'include\\_all\\_advanced\\_mods'\n",
       "\\item 'X.CEL'\n",
       "\\item 'X.NEL'\n",
       "\\item 'X.NEC'\n",
       "\\item 'sum'\n",
       "\\item 'in\\_CEL'\n",
       "\\item 'in\\_T2all'\n",
       "\\item 'in\\_NEL'\n",
       "\\item 'in\\_NEC'\n",
       "\\item 'in\\_ROI'\n",
       "\\item 'desired\\_hist'\n",
       "\\item 'multnom\\_out'\n",
       "\\item 'no\\_ffpe'\n",
       "\\item 'waiting\\_on\\_path'\n",
       "\\item 'rhgg\\_txe\\_analysis'\n",
       "\\end{enumerate*}\n"
      ],
      "text/markdown": [
       "1. 'b_number'\n",
       "2. 't_number'\n",
       "3. 'sf_number'\n",
       "4. 'current_scan_date'\n",
       "5. 'current_surgery_date'\n",
       "6. 'current_hist_grade'\n",
       "7. 'current_hist_type'\n",
       "8. 'roi.label'\n",
       "9. 'tumor_cell_evaluation'\n",
       "10. 'necrosis'\n",
       "11. 'f8_delicate'\n",
       "12. 'f8_simple'\n",
       "13. 'f8_complex'\n",
       "14. 'mib_1'\n",
       "15. 'bx_pure_treatment_effect'\n",
       "16. 'nfse'\n",
       "17. 'nfl'\n",
       "18. 'nt1c'\n",
       "19. 'nt1v'\n",
       "20. 'nadc.1'\n",
       "21. 'nfa.1'\n",
       "22. 'nev1.1'\n",
       "23. 'nev2.1'\n",
       "24. 'nev3.1'\n",
       "25. 'nevrad.1'\n",
       "26. 'nadc.2'\n",
       "27. 'nfa.2'\n",
       "28. 'nev1.2'\n",
       "29. 'nev2.2'\n",
       "30. 'nev3.2'\n",
       "31. 'nevrad.2'\n",
       "32. 'cbvn_nlin'\n",
       "33. 'phn_nlin'\n",
       "34. 'phn_npar'\n",
       "35. 'recovn_npar'\n",
       "36. 'cni'\n",
       "37. 'ccri'\n",
       "38. 'crni'\n",
       "39. 'ncho'\n",
       "40. 'ncre'\n",
       "41. 'nnaa'\n",
       "42. 'nlip'\n",
       "43. 'laclip'\n",
       "44. 'nlac'\n",
       "45. 'olddata'\n",
       "46. 'newdata'\n",
       "47. 'comments'\n",
       "48. 'notes.'\n",
       "49. 'imaging_code'\n",
       "50. 'perf_quant'\n",
       "51. 'spec_quant'\n",
       "52. 'include_anat'\n",
       "53. 'include_diffu1000'\n",
       "54. 'include_diffu2000'\n",
       "55. 'include_diffu_all'\n",
       "56. 'include_perf'\n",
       "57. 'include_spec'\n",
       "58. 'include_one_advanced_mod'\n",
       "59. 'include_all_advanced_mods'\n",
       "60. 'X.CEL'\n",
       "61. 'X.NEL'\n",
       "62. 'X.NEC'\n",
       "63. 'sum'\n",
       "64. 'in_CEL'\n",
       "65. 'in_T2all'\n",
       "66. 'in_NEL'\n",
       "67. 'in_NEC'\n",
       "68. 'in_ROI'\n",
       "69. 'desired_hist'\n",
       "70. 'multnom_out'\n",
       "71. 'no_ffpe'\n",
       "72. 'waiting_on_path'\n",
       "73. 'rhgg_txe_analysis'\n",
       "\n",
       "\n"
      ],
      "text/plain": [
       " [1] \"b_number\"                  \"t_number\"                 \n",
       " [3] \"sf_number\"                 \"current_scan_date\"        \n",
       " [5] \"current_surgery_date\"      \"current_hist_grade\"       \n",
       " [7] \"current_hist_type\"         \"roi.label\"                \n",
       " [9] \"tumor_cell_evaluation\"     \"necrosis\"                 \n",
       "[11] \"f8_delicate\"               \"f8_simple\"                \n",
       "[13] \"f8_complex\"                \"mib_1\"                    \n",
       "[15] \"bx_pure_treatment_effect\"  \"nfse\"                     \n",
       "[17] \"nfl\"                       \"nt1c\"                     \n",
       "[19] \"nt1v\"                      \"nadc.1\"                   \n",
       "[21] \"nfa.1\"                     \"nev1.1\"                   \n",
       "[23] \"nev2.1\"                    \"nev3.1\"                   \n",
       "[25] \"nevrad.1\"                  \"nadc.2\"                   \n",
       "[27] \"nfa.2\"                     \"nev1.2\"                   \n",
       "[29] \"nev2.2\"                    \"nev3.2\"                   \n",
       "[31] \"nevrad.2\"                  \"cbvn_nlin\"                \n",
       "[33] \"phn_nlin\"                  \"phn_npar\"                 \n",
       "[35] \"recovn_npar\"               \"cni\"                      \n",
       "[37] \"ccri\"                      \"crni\"                     \n",
       "[39] \"ncho\"                      \"ncre\"                     \n",
       "[41] \"nnaa\"                      \"nlip\"                     \n",
       "[43] \"laclip\"                    \"nlac\"                     \n",
       "[45] \"olddata\"                   \"newdata\"                  \n",
       "[47] \"comments\"                  \"notes.\"                   \n",
       "[49] \"imaging_code\"              \"perf_quant\"               \n",
       "[51] \"spec_quant\"                \"include_anat\"             \n",
       "[53] \"include_diffu1000\"         \"include_diffu2000\"        \n",
       "[55] \"include_diffu_all\"         \"include_perf\"             \n",
       "[57] \"include_spec\"              \"include_one_advanced_mod\" \n",
       "[59] \"include_all_advanced_mods\" \"X.CEL\"                    \n",
       "[61] \"X.NEL\"                     \"X.NEC\"                    \n",
       "[63] \"sum\"                       \"in_CEL\"                   \n",
       "[65] \"in_T2all\"                  \"in_NEL\"                   \n",
       "[67] \"in_NEC\"                    \"in_ROI\"                   \n",
       "[69] \"desired_hist\"              \"multnom_out\"              \n",
       "[71] \"no_ffpe\"                   \"waiting_on_path\"          \n",
       "[73] \"rhgg_txe_analysis\"        "
      ]
     },
     "metadata": {},
     "output_type": "display_data"
    }
   ],
   "source": [
    "colnames(recgli)"
   ]
  },
  {
   "cell_type": "markdown",
   "metadata": {
    "deletable": true,
    "editable": true
   },
   "source": [
    "The first thing we have to do is actually take away those that were \"indeterminable\" when tumor score was evaluated by the pathologist: "
   ]
  },
  {
   "cell_type": "code",
   "execution_count": 4,
   "metadata": {
    "collapsed": false,
    "deletable": true,
    "editable": true
   },
   "outputs": [
    {
     "data": {
      "text/plain": [
       "\n",
       "  0   1   2   3 Ind \n",
       " 90  54 117 122   8 "
      ]
     },
     "metadata": {},
     "output_type": "display_data"
    }
   ],
   "source": [
    "table(recgli$tumor_cell_evaluation)"
   ]
  },
  {
   "cell_type": "code",
   "execution_count": 5,
   "metadata": {
    "collapsed": false,
    "deletable": true,
    "editable": true
   },
   "outputs": [
    {
     "data": {
      "text/html": [
       "<ol class=list-inline>\n",
       "\t<li>383</li>\n",
       "\t<li>73</li>\n",
       "</ol>\n"
      ],
      "text/latex": [
       "\\begin{enumerate*}\n",
       "\\item 383\n",
       "\\item 73\n",
       "\\end{enumerate*}\n"
      ],
      "text/markdown": [
       "1. 383\n",
       "2. 73\n",
       "\n",
       "\n"
      ],
      "text/plain": [
       "[1] 383  73"
      ]
     },
     "metadata": {},
     "output_type": "display_data"
    },
    {
     "name": "stdout",
     "output_type": "stream",
     "text": [
      " num [1:383] 0 2 2 2 0 1 0 2 1 0 ...\n"
     ]
    }
   ],
   "source": [
    "recgli = recgli[recgli$tumor_cell_evaluation != \"Ind\",]\n",
    "dim(recgli)\n",
    "recgli = droplevels(recgli)\n",
    "recgli$tumor_cell_evaluation = as.character(recgli$tumor_cell_evaluation)\n",
    "recgli$tumor_cell_evaluation = as.numeric(recgli$tumor_cell_evaluation)\n",
    "str(recgli$tumor_cell_evaluation)"
   ]
  },
  {
   "cell_type": "code",
   "execution_count": 6,
   "metadata": {
    "collapsed": false,
    "deletable": true,
    "editable": true
   },
   "outputs": [
    {
     "data": {
      "text/html": [
       "<ol class=list-inline>\n",
       "\t<li>383</li>\n",
       "\t<li>73</li>\n",
       "</ol>\n"
      ],
      "text/latex": [
       "\\begin{enumerate*}\n",
       "\\item 383\n",
       "\\item 73\n",
       "\\end{enumerate*}\n"
      ],
      "text/markdown": [
       "1. 383\n",
       "2. 73\n",
       "\n",
       "\n"
      ],
      "text/plain": [
       "[1] 383  73"
      ]
     },
     "metadata": {},
     "output_type": "display_data"
    }
   ],
   "source": [
    "recgli.anat = recgli[recgli$include_anat==1,]\n",
    "dim(recgli.anat)"
   ]
  },
  {
   "cell_type": "code",
   "execution_count": 7,
   "metadata": {
    "collapsed": false,
    "deletable": true,
    "editable": true
   },
   "outputs": [],
   "source": [
    "recgli$t_number = as.factor(recgli$t_number)\n",
    "#str(recgli)"
   ]
  },
  {
   "cell_type": "markdown",
   "metadata": {
    "deletable": true,
    "editable": true
   },
   "source": [
    "## 1. Anatomical vs. TS "
   ]
  },
  {
   "cell_type": "markdown",
   "metadata": {
    "deletable": true,
    "editable": true
   },
   "source": [
    "### a. No separation into ROIs"
   ]
  },
  {
   "cell_type": "code",
   "execution_count": 22,
   "metadata": {
    "collapsed": false,
    "deletable": true,
    "editable": true
   },
   "outputs": [
    {
     "data": {
      "image/png": "[encoded data removed]",
      "text/plain": [
       "plot without title"
      ]
     },
     "metadata": {},
     "output_type": "display_data"
    }
   ],
   "source": [
    "par(mfrow = c(2, 2))\n",
    "a = boxplot(nfse ~ tumor_cell_evaluation , data = recgli, ylab = \"normalized fse\", xlab = \"tumorscore\")\n",
    "text( c(1:nlevels(factor(recgli$tumor_cell_evaluation))) , a$stats[nrow(a$stats) , ]+0.5 , paste(\"n = \",table(recgli$tumor_cell_evaluation),sep=\"\")  )\n",
    "\n",
    "b = boxplot(nfl ~ tumor_cell_evaluation , data = recgli, ylab = \"normalized fl\", xlab = \"tumorscore\")\n",
    "text( c(1:nlevels(factor(recgli$tumor_cell_evaluation))) , b$stats[nrow(b$stats) , ]+0.5 , paste(\"n = \",table(recgli$tumor_cell_evaluation),sep=\"\")  )\n",
    "\n",
    "c = boxplot(nt1c ~ tumor_cell_evaluation , data = recgli, ylab = \"normalized t1c\", xlab = \"tumorscore\")\n",
    "text( c(1:nlevels(factor(recgli$tumor_cell_evaluation))) , c$stats[nrow(c$stats) , ]+0.5 , paste(\"n = \",table(recgli$tumor_cell_evaluation),sep=\"\")  )\n",
    "\n",
    "d = boxplot(nt1v ~ tumor_cell_evaluation , data = recgli, ylab = \"normalized t1v\", xlab = \"tumorscore\")\n",
    "text( c(1:nlevels(factor(recgli$tumor_cell_evaluation))) , d$stats[nrow(d$stats) , ]+0.5 , paste(\"n = \",table(recgli$tumor_cell_evaluation),sep=\"\")  )\n"
   ]
  },
  {
   "cell_type": "markdown",
   "metadata": {
    "deletable": true,
    "editable": true
   },
   "source": [
    "### b. CEL next to NEL scores  "
   ]
  },
  {
   "cell_type": "code",
   "execution_count": 20,
   "metadata": {
    "collapsed": false,
    "deletable": true,
    "editable": true
   },
   "outputs": [
    {
     "data": {
      "image/png": "[encoded data removed]",
      "text/plain": [
       "Plot with title “NEL”"
      ]
     },
     "metadata": {},
     "output_type": "display_data"
    },
    {
     "data": {
      "image/png": "[encoded data removed]",
      "text/plain": [
       "Plot with title “NEL”"
      ]
     },
     "metadata": {},
     "output_type": "display_data"
    }
   ],
   "source": [
    "par(mfrow = c(2, 2))\n",
    "a = boxplot(nfse ~ tumor_cell_evaluation , data = recgli[recgli$in_CEL ==1,], ylab = \"normalized fse\", xlab = \"tumorscore\", main = \"CEL\", ylim = c(0,4))\n",
    "text( c(1:nlevels(factor(recgli$tumor_cell_evaluation))) , a$stats[nrow(a$stats) , ]+.3 , paste(\"n = \",table(recgli[which(recgli$in_CEL ==1),]$tumor_cell_evaluation),sep=\"\"), cex = 0.8)\n",
    "\n",
    "b = boxplot(nfse ~ tumor_cell_evaluation , data = recgli[recgli$in_NEL ==1,], ylab = \"normalized fse\", xlab = \"tumorscore\", main = \"NEL\", ylim = c(0,4))\n",
    "text( c(1:nlevels(factor(recgli$tumor_cell_evaluation))) , b$stats[nrow(b$stats) , ]+.3 , paste(\"n = \",table(recgli[which(recgli$in_NEL ==1),]$tumor_cell_evaluation),sep=\"\"), cex = 0.8)\n",
    "\n",
    "c = boxplot(nfl ~ tumor_cell_evaluation , data = recgli[recgli$in_CEL ==1,], ylab = \"normalized fl\", xlab = \"tumorscore\", main = \"CEL\", ylim = c(0,3.5))\n",
    "text( c(1:nlevels(factor(recgli$tumor_cell_evaluation))) , c$stats[nrow(c$stats) , ]+.3 , paste(\"n = \",table(recgli[which(recgli$in_CEL ==1),]$tumor_cell_evaluation),sep=\"\"), cex = 0.8)\n",
    "d = boxplot(nfl ~ tumor_cell_evaluation , data = recgli[recgli$in_NEL ==1,], ylab = \"normalized fl\", xlab = \"tumorscore\", main = \"NEL\", ylim = c(0,3.5))\n",
    "text( c(1:nlevels(factor(recgli$tumor_cell_evaluation))) , d$stats[nrow(d$stats) , ]+.3 , paste(\"n = \",table(recgli[which(recgli$in_NEL ==1),]$tumor_cell_evaluation),sep=\"\"), cex = 0.8)\n",
    "\n",
    "e = boxplot(nt1c ~ tumor_cell_evaluation , data = recgli[recgli$in_CEL ==1,], ylab = \"normalized t1c\", xlab = \"tumorscore\", main = \"CEL\", ylim = c(0,4))\n",
    "text( c(1:nlevels(factor(recgli$tumor_cell_evaluation))) , e$stats[nrow(e$stats) , ]+.3 , paste(\"n = \",table(recgli[recgli$in_CEL ==1,]$tumor_cell_evaluation),sep=\"\"), cex = 0.8)\n",
    "f = boxplot(nt1c ~ tumor_cell_evaluation , data = recgli[recgli$in_NEL ==1,], ylab = \"normalized t1c\", xlab = \"tumorscore\", main = \"NEL\", ylim = c(0,4))\n",
    "text( c(1:nlevels(factor(recgli$tumor_cell_evaluation))) , f$stats[nrow(f$stats) , ]+.3 , paste(\"n = \",table(recgli[recgli$in_NEL ==1,]$tumor_cell_evaluation),sep=\"\"), cex = 0.8)\n",
    "\n",
    "g = boxplot(nt1v ~ tumor_cell_evaluation , data = recgli[recgli$in_CEL ==1,], ylab = \"normalized t1v\", xlab = \"tumorscore\", main = \"CEL\", ylim = c(0,4))\n",
    "text( c(1:nlevels(factor(recgli$tumor_cell_evaluation))) , g$stats[nrow(g$stats) , ]+.3 , paste(\"n = \",table(recgli[recgli$in_CEL ==1,]$tumor_cell_evaluation),sep=\"\"), cex = 0.8)\n",
    "h = boxplot(nt1v ~ tumor_cell_evaluation , data = recgli[recgli$in_NEL ==1,], ylab = \"normalized t1c\", xlab = \"tumorscore\", main = \"NEL\", ylim = c(0,4))\n",
    "text( c(1:nlevels(factor(recgli$tumor_cell_evaluation))) , h$stats[nrow(h$stats) , ]+.3 , paste(\"n = \",table(recgli[recgli$in_NEL ==1,]$tumor_cell_evaluation),sep=\"\"), cex = 0.8)\n"
   ]
  },
  {
   "cell_type": "markdown",
   "metadata": {
    "deletable": true,
    "editable": true
   },
   "source": [
    "There is no package with a straightforward implementation of a multinomial logistic regression with mixed effects in R. Packages w/ mixed effects modeling for logistic regression include lme4, glmm; Packages w/ multinomial log reg include mlogit. "
   ]
  },
  {
   "cell_type": "markdown",
   "metadata": {
    "deletable": true,
    "editable": true
   },
   "source": [
    "### c. Use GLMM associate anatomical parameters with TS, no separation "
   ]
  },
  {
   "cell_type": "code",
   "execution_count": 8,
   "metadata": {
    "collapsed": false,
    "deletable": true,
    "editable": true
   },
   "outputs": [],
   "source": [
    "## I will come back to this later. "
   ]
  },
  {
   "cell_type": "markdown",
   "metadata": {
    "collapsed": true,
    "deletable": true,
    "editable": true
   },
   "source": [
    "### d. Use GEE to associate anatomical parameters with TS, no separation"
   ]
  },
  {
   "cell_type": "code",
   "execution_count": 9,
   "metadata": {
    "collapsed": false,
    "deletable": true,
    "editable": true
   },
   "outputs": [
    {
     "name": "stderr",
     "output_type": "stream",
     "text": [
      "Loading required package: Matrix\n",
      "Loading required package: foreach\n",
      "Loaded glmnet 2.0-16\n",
      "\n",
      "Loading required package: gnm\n",
      "Loading required package: VGAM\n",
      "Loading required package: stats4\n",
      "Loading required package: splines\n"
     ]
    }
   ],
   "source": [
    "library(glmnet)\n",
    "library(geepack)\n",
    "library(lme4)\n",
    "#install.packages(\"multgee\")\n",
    "library(\"multgee\")"
   ]
  },
  {
   "cell_type": "code",
   "execution_count": 26,
   "metadata": {
    "collapsed": false,
    "deletable": true,
    "editable": true
   },
   "outputs": [
    {
     "data": {
      "text/html": [
       "<table>\n",
       "<thead><tr><th></th><th scope=col>Estimate</th><th scope=col>san.se</th><th scope=col>san.z</th><th scope=col>Pr(&gt;|san.z|)</th></tr></thead>\n",
       "<tbody>\n",
       "\t<tr><th scope=row>beta10</th><td>-1.20100</td><td>0.28409 </td><td>-4.22755</td><td>0.00002 </td></tr>\n",
       "\t<tr><th scope=row>beta20</th><td>-0.54916</td><td>0.27312 </td><td>-2.01068</td><td>0.04436 </td></tr>\n",
       "\t<tr><th scope=row>beta30</th><td> 0.73916</td><td>0.26321 </td><td> 2.80830</td><td>0.00498 </td></tr>\n",
       "\t<tr><th scope=row>nfse</th><td> 0.00249</td><td>0.13007 </td><td> 0.01913</td><td>0.98474 </td></tr>\n",
       "</tbody>\n",
       "</table>\n"
      ],
      "text/latex": [
       "\\begin{tabular}{r|llll}\n",
       "  & Estimate & san.se & san.z & Pr(>\\textbar{}san.z\\textbar{})\\\\\n",
       "\\hline\n",
       "\tbeta10 & -1.20100 & 0.28409  & -4.22755 & 0.00002 \\\\\n",
       "\tbeta20 & -0.54916 & 0.27312  & -2.01068 & 0.04436 \\\\\n",
       "\tbeta30 &  0.73916 & 0.26321  &  2.80830 & 0.00498 \\\\\n",
       "\tnfse &  0.00249 & 0.13007  &  0.01913 & 0.98474 \\\\\n",
       "\\end{tabular}\n"
      ],
      "text/markdown": [
       "\n",
       "| <!--/--> | Estimate | san.se | san.z | Pr(>|san.z|) | \n",
       "|---|---|---|---|\n",
       "| beta10 | -1.20100 | 0.28409  | -4.22755 | 0.00002  | \n",
       "| beta20 | -0.54916 | 0.27312  | -2.01068 | 0.04436  | \n",
       "| beta30 |  0.73916 | 0.26321  |  2.80830 | 0.00498  | \n",
       "| nfse |  0.00249 | 0.13007  |  0.01913 | 0.98474  | \n",
       "\n",
       "\n"
      ],
      "text/plain": [
       "       Estimate san.se  san.z    Pr(>|san.z|)\n",
       "beta10 -1.20100 0.28409 -4.22755 0.00002     \n",
       "beta20 -0.54916 0.27312 -2.01068 0.04436     \n",
       "beta30  0.73916 0.26321  2.80830 0.00498     \n",
       "nfse    0.00249 0.13007  0.01913 0.98474     "
      ]
     },
     "metadata": {},
     "output_type": "display_data"
    }
   ],
   "source": [
    "#nfse.fit = geeglm(tumor_cell_evaluation ~ nfse, data = recgli, id = t_number, corstr = \"exchangeable\")\n",
    "#anova(nfse.fit)\n",
    "\n",
    "nfse.fit = ordLORgee(formula = tumor_cell_evaluation ~ nfse, link = \"logit\", \n",
    "                      id = t_number, data = recgli, LORstr = \"category.exch\")\n",
    "summary(nfse.fit)$coefficients"
   ]
  },
  {
   "cell_type": "code",
   "execution_count": 27,
   "metadata": {
    "collapsed": false,
    "deletable": true,
    "editable": true
   },
   "outputs": [
    {
     "data": {
      "text/html": [
       "<table>\n",
       "<thead><tr><th></th><th scope=col>Estimate</th><th scope=col>san.se</th><th scope=col>san.z</th><th scope=col>Pr(&gt;|san.z|)</th></tr></thead>\n",
       "<tbody>\n",
       "\t<tr><th scope=row>beta10</th><td>-1.07602</td><td>0.28743 </td><td>-3.74359</td><td>0.00018 </td></tr>\n",
       "\t<tr><th scope=row>beta20</th><td>-0.43267</td><td>0.28023 </td><td>-1.54398</td><td>0.12259 </td></tr>\n",
       "\t<tr><th scope=row>beta30</th><td> 0.86553</td><td>0.27351 </td><td> 3.16449</td><td>0.00155 </td></tr>\n",
       "\t<tr><th scope=row>nfl</th><td>-0.07777</td><td>0.14118 </td><td>-0.55088</td><td>0.58172 </td></tr>\n",
       "</tbody>\n",
       "</table>\n"
      ],
      "text/latex": [
       "\\begin{tabular}{r|llll}\n",
       "  & Estimate & san.se & san.z & Pr(>\\textbar{}san.z\\textbar{})\\\\\n",
       "\\hline\n",
       "\tbeta10 & -1.07602 & 0.28743  & -3.74359 & 0.00018 \\\\\n",
       "\tbeta20 & -0.43267 & 0.28023  & -1.54398 & 0.12259 \\\\\n",
       "\tbeta30 &  0.86553 & 0.27351  &  3.16449 & 0.00155 \\\\\n",
       "\tnfl & -0.07777 & 0.14118  & -0.55088 & 0.58172 \\\\\n",
       "\\end{tabular}\n"
      ],
      "text/markdown": [
       "\n",
       "| <!--/--> | Estimate | san.se | san.z | Pr(>|san.z|) | \n",
       "|---|---|---|---|\n",
       "| beta10 | -1.07602 | 0.28743  | -3.74359 | 0.00018  | \n",
       "| beta20 | -0.43267 | 0.28023  | -1.54398 | 0.12259  | \n",
       "| beta30 |  0.86553 | 0.27351  |  3.16449 | 0.00155  | \n",
       "| nfl | -0.07777 | 0.14118  | -0.55088 | 0.58172  | \n",
       "\n",
       "\n"
      ],
      "text/plain": [
       "       Estimate san.se  san.z    Pr(>|san.z|)\n",
       "beta10 -1.07602 0.28743 -3.74359 0.00018     \n",
       "beta20 -0.43267 0.28023 -1.54398 0.12259     \n",
       "beta30  0.86553 0.27351  3.16449 0.00155     \n",
       "nfl    -0.07777 0.14118 -0.55088 0.58172     "
      ]
     },
     "metadata": {},
     "output_type": "display_data"
    }
   ],
   "source": [
    "nfl.fit = ordLORgee(formula = tumor_cell_evaluation ~ nfl, link = \"logit\", \n",
    "                      id = t_number, data = recgli, LORstr = \"category.exch\")\n",
    "summary(nfl.fit)$coefficients"
   ]
  },
  {
   "cell_type": "code",
   "execution_count": 28,
   "metadata": {
    "collapsed": false,
    "deletable": true,
    "editable": true
   },
   "outputs": [
    {
     "data": {
      "text/html": [
       "<table>\n",
       "<thead><tr><th></th><th scope=col>Estimate</th><th scope=col>san.se</th><th scope=col>san.z</th><th scope=col>Pr(&gt;|san.z|)</th></tr></thead>\n",
       "<tbody>\n",
       "\t<tr><th scope=row>beta10</th><td>-1.33106</td><td>0.24358 </td><td>-5.46465</td><td>0.00000 </td></tr>\n",
       "\t<tr><th scope=row>beta20</th><td>-0.69825</td><td>0.23436 </td><td>-2.97940</td><td>0.00289 </td></tr>\n",
       "\t<tr><th scope=row>beta30</th><td> 0.57859</td><td>0.23207 </td><td> 2.49316</td><td>0.01266 </td></tr>\n",
       "\t<tr><th scope=row>nt1c</th><td> 0.12447</td><td>0.14702 </td><td> 0.84665</td><td>0.39719 </td></tr>\n",
       "</tbody>\n",
       "</table>\n"
      ],
      "text/latex": [
       "\\begin{tabular}{r|llll}\n",
       "  & Estimate & san.se & san.z & Pr(>\\textbar{}san.z\\textbar{})\\\\\n",
       "\\hline\n",
       "\tbeta10 & -1.33106 & 0.24358  & -5.46465 & 0.00000 \\\\\n",
       "\tbeta20 & -0.69825 & 0.23436  & -2.97940 & 0.00289 \\\\\n",
       "\tbeta30 &  0.57859 & 0.23207  &  2.49316 & 0.01266 \\\\\n",
       "\tnt1c &  0.12447 & 0.14702  &  0.84665 & 0.39719 \\\\\n",
       "\\end{tabular}\n"
      ],
      "text/markdown": [
       "\n",
       "| <!--/--> | Estimate | san.se | san.z | Pr(>|san.z|) | \n",
       "|---|---|---|---|\n",
       "| beta10 | -1.33106 | 0.24358  | -5.46465 | 0.00000  | \n",
       "| beta20 | -0.69825 | 0.23436  | -2.97940 | 0.00289  | \n",
       "| beta30 |  0.57859 | 0.23207  |  2.49316 | 0.01266  | \n",
       "| nt1c |  0.12447 | 0.14702  |  0.84665 | 0.39719  | \n",
       "\n",
       "\n"
      ],
      "text/plain": [
       "       Estimate san.se  san.z    Pr(>|san.z|)\n",
       "beta10 -1.33106 0.24358 -5.46465 0.00000     \n",
       "beta20 -0.69825 0.23436 -2.97940 0.00289     \n",
       "beta30  0.57859 0.23207  2.49316 0.01266     \n",
       "nt1c    0.12447 0.14702  0.84665 0.39719     "
      ]
     },
     "metadata": {},
     "output_type": "display_data"
    }
   ],
   "source": [
    "nt1c.fit = ordLORgee(formula = tumor_cell_evaluation ~ nt1c, link = \"logit\", \n",
    "                      id = t_number, data = recgli, LORstr = \"category.exch\")\n",
    "summary(nt1c.fit)$coefficients"
   ]
  },
  {
   "cell_type": "code",
   "execution_count": 37,
   "metadata": {
    "collapsed": false,
    "deletable": true,
    "editable": true
   },
   "outputs": [
    {
     "data": {
      "text/html": [
       "<ol class=list-inline>\n",
       "\t<li>383</li>\n",
       "\t<li>73</li>\n",
       "</ol>\n"
      ],
      "text/latex": [
       "\\begin{enumerate*}\n",
       "\\item 383\n",
       "\\item 73\n",
       "\\end{enumerate*}\n"
      ],
      "text/markdown": [
       "1. 383\n",
       "2. 73\n",
       "\n",
       "\n"
      ],
      "text/plain": [
       "[1] 383  73"
      ]
     },
     "metadata": {},
     "output_type": "display_data"
    }
   ],
   "source": [
    "nt1v.fit = ordLORgee(formula = tumor_cell_evaluation ~ nt1v, link = \"logit\", \n",
    "                      id = t_number, data = recgli, LORstr = \"category.exch\")\n",
    "summary(nt1v.fit)$coefficients"
   ]
  },
  {
   "cell_type": "markdown",
   "metadata": {
    "collapsed": true,
    "deletable": true,
    "editable": true
   },
   "source": [
    "### e. Use GLMM to associate anatomical parameters with TS, separating into CEL & NEL "
   ]
  },
  {
   "cell_type": "code",
   "execution_count": 1,
   "metadata": {
    "collapsed": true,
    "deletable": true,
    "editable": true
   },
   "outputs": [],
   "source": [
    "## need to come back to when becomes more obvious how to do GLMM with multinomial outcome... \n",
    "##can do this using a one-v-all method "
   ]
  },
  {
   "cell_type": "markdown",
   "metadata": {
    "deletable": true,
    "editable": true
   },
   "source": [
    "### f. Use GEE to associate anatomical parameters with TS, separating into CEL & NEL "
   ]
  },
  {
   "cell_type": "code",
   "execution_count": 33,
   "metadata": {
    "collapsed": false,
    "deletable": true,
    "editable": true
   },
   "outputs": [
    {
     "data": {
      "text/html": [
       "<ol class=list-inline>\n",
       "\t<li>158</li>\n",
       "\t<li>73</li>\n",
       "</ol>\n"
      ],
      "text/latex": [
       "\\begin{enumerate*}\n",
       "\\item 158\n",
       "\\item 73\n",
       "\\end{enumerate*}\n"
      ],
      "text/markdown": [
       "1. 158\n",
       "2. 73\n",
       "\n",
       "\n"
      ],
      "text/plain": [
       "[1] 158  73"
      ]
     },
     "metadata": {},
     "output_type": "display_data"
    },
    {
     "data": {
      "text/html": [
       "TRUE"
      ],
      "text/latex": [
       "TRUE"
      ],
      "text/markdown": [
       "TRUE"
      ],
      "text/plain": [
       "[1] TRUE"
      ]
     },
     "metadata": {},
     "output_type": "display_data"
    },
    {
     "data": {
      "text/html": [
       "<table>\n",
       "<thead><tr><th></th><th scope=col>b_number</th><th scope=col>t_number</th><th scope=col>sf_number</th><th scope=col>current_scan_date</th><th scope=col>current_surgery_date</th><th scope=col>current_hist_grade</th><th scope=col>current_hist_type</th><th scope=col>roi.label</th><th scope=col>tumor_cell_evaluation</th><th scope=col>necrosis</th><th scope=col>⋯</th><th scope=col>in_CEL</th><th scope=col>in_T2all</th><th scope=col>in_NEL</th><th scope=col>in_NEC</th><th scope=col>in_ROI</th><th scope=col>desired_hist</th><th scope=col>multnom_out</th><th scope=col>no_ffpe</th><th scope=col>waiting_on_path</th><th scope=col>rhgg_txe_analysis</th></tr></thead>\n",
       "<tbody>\n",
       "\t<tr><th scope=row>1</th><td>2723        </td><td>6369        </td><td>8122        </td><td>9/13/09     </td><td>9/14/09     </td><td>Grade IV    </td><td>Glioblastoma</td><td>10B28       </td><td>0           </td><td>0           </td><td>⋯           </td><td>1           </td><td>1           </td><td>0           </td><td>0           </td><td>1           </td><td>1           </td><td>TxE         </td><td>0           </td><td>0           </td><td>1           </td></tr>\n",
       "\t<tr><th scope=row>2</th><td>2312        </td><td>5317        </td><td>7679        </td><td>5/4/08      </td><td>5/4/08      </td><td>Grade IV    </td><td>Glioblastoma</td><td>11B16       </td><td>2           </td><td>1           </td><td>⋯           </td><td>1           </td><td>1           </td><td>0           </td><td>0           </td><td>1           </td><td>1           </td><td>rHGG        </td><td>0           </td><td>0           </td><td>1           </td></tr>\n",
       "\t<tr><th scope=row>4</th><td>2312        </td><td>5317        </td><td>7679        </td><td>5/4/08      </td><td>5/4/08      </td><td>Grade IV    </td><td>Glioblastoma</td><td>12B16       </td><td>2           </td><td>1           </td><td>⋯           </td><td>1           </td><td>1           </td><td>0           </td><td>0           </td><td>1           </td><td>1           </td><td>rHGG        </td><td>0           </td><td>0           </td><td>1           </td></tr>\n",
       "\t<tr><th scope=row>6</th><td>2873        </td><td>6709        </td><td>8269        </td><td>3/11/10     </td><td>3/15/10     </td><td>Grade IV    </td><td>Glioblastoma</td><td>13B32       </td><td>1           </td><td>0           </td><td>⋯           </td><td>1           </td><td>0           </td><td>0           </td><td>0           </td><td>1           </td><td>1           </td><td>Ts1DNI      </td><td>0           </td><td>0           </td><td>0           </td></tr>\n",
       "\t<tr><th scope=row>11</th><td>2222        </td><td>6094        </td><td>7758        </td><td>8/3/08      </td><td>8/4/08      </td><td>Grade IV    </td><td>Glioblastoma</td><td>15B18       </td><td>0           </td><td>0           </td><td>⋯           </td><td>1           </td><td>1           </td><td>0           </td><td>0           </td><td>1           </td><td>1           </td><td>TxE         </td><td>0           </td><td>0           </td><td>1           </td></tr>\n",
       "\t<tr><th scope=row>13</th><td>2793        </td><td>7584        </td><td>8842        </td><td>7/28/11     </td><td>7/28/11     </td><td>Grade IV    </td><td>Glioblastoma</td><td>15B44       </td><td>2           </td><td>1           </td><td>⋯           </td><td>1           </td><td>0           </td><td>0           </td><td>0           </td><td>1           </td><td>1           </td><td>rHGG        </td><td>0           </td><td>0           </td><td>1           </td></tr>\n",
       "</tbody>\n",
       "</table>\n"
      ],
      "text/latex": [
       "\\begin{tabular}{r|lllllllllllllllllllllllllllllllllllllllllllllllllllllllllllllllllllllllll}\n",
       "  & b\\_number & t\\_number & sf\\_number & current\\_scan\\_date & current\\_surgery\\_date & current\\_hist\\_grade & current\\_hist\\_type & roi.label & tumor\\_cell\\_evaluation & necrosis & ⋯ & in\\_CEL & in\\_T2all & in\\_NEL & in\\_NEC & in\\_ROI & desired\\_hist & multnom\\_out & no\\_ffpe & waiting\\_on\\_path & rhgg\\_txe\\_analysis\\\\\n",
       "\\hline\n",
       "\t1 & 2723         & 6369         & 8122         & 9/13/09      & 9/14/09      & Grade IV     & Glioblastoma & 10B28        & 0            & 0            & ⋯            & 1            & 1            & 0            & 0            & 1            & 1            & TxE          & 0            & 0            & 1           \\\\\n",
       "\t2 & 2312         & 5317         & 7679         & 5/4/08       & 5/4/08       & Grade IV     & Glioblastoma & 11B16        & 2            & 1            & ⋯            & 1            & 1            & 0            & 0            & 1            & 1            & rHGG         & 0            & 0            & 1           \\\\\n",
       "\t4 & 2312         & 5317         & 7679         & 5/4/08       & 5/4/08       & Grade IV     & Glioblastoma & 12B16        & 2            & 1            & ⋯            & 1            & 1            & 0            & 0            & 1            & 1            & rHGG         & 0            & 0            & 1           \\\\\n",
       "\t6 & 2873         & 6709         & 8269         & 3/11/10      & 3/15/10      & Grade IV     & Glioblastoma & 13B32        & 1            & 0            & ⋯            & 1            & 0            & 0            & 0            & 1            & 1            & Ts1DNI       & 0            & 0            & 0           \\\\\n",
       "\t11 & 2222         & 6094         & 7758         & 8/3/08       & 8/4/08       & Grade IV     & Glioblastoma & 15B18        & 0            & 0            & ⋯            & 1            & 1            & 0            & 0            & 1            & 1            & TxE          & 0            & 0            & 1           \\\\\n",
       "\t13 & 2793         & 7584         & 8842         & 7/28/11      & 7/28/11      & Grade IV     & Glioblastoma & 15B44        & 2            & 1            & ⋯            & 1            & 0            & 0            & 0            & 1            & 1            & rHGG         & 0            & 0            & 1           \\\\\n",
       "\\end{tabular}\n"
      ],
      "text/markdown": [
       "\n",
       "| <!--/--> | b_number | t_number | sf_number | current_scan_date | current_surgery_date | current_hist_grade | current_hist_type | roi.label | tumor_cell_evaluation | necrosis | ⋯ | in_CEL | in_T2all | in_NEL | in_NEC | in_ROI | desired_hist | multnom_out | no_ffpe | waiting_on_path | rhgg_txe_analysis | \n",
       "|---|---|---|---|---|---|\n",
       "| 1 | 2723         | 6369         | 8122         | 9/13/09      | 9/14/09      | Grade IV     | Glioblastoma | 10B28        | 0            | 0            | ⋯            | 1            | 1            | 0            | 0            | 1            | 1            | TxE          | 0            | 0            | 1            | \n",
       "| 2 | 2312         | 5317         | 7679         | 5/4/08       | 5/4/08       | Grade IV     | Glioblastoma | 11B16        | 2            | 1            | ⋯            | 1            | 1            | 0            | 0            | 1            | 1            | rHGG         | 0            | 0            | 1            | \n",
       "| 4 | 2312         | 5317         | 7679         | 5/4/08       | 5/4/08       | Grade IV     | Glioblastoma | 12B16        | 2            | 1            | ⋯            | 1            | 1            | 0            | 0            | 1            | 1            | rHGG         | 0            | 0            | 1            | \n",
       "| 6 | 2873         | 6709         | 8269         | 3/11/10      | 3/15/10      | Grade IV     | Glioblastoma | 13B32        | 1            | 0            | ⋯            | 1            | 0            | 0            | 0            | 1            | 1            | Ts1DNI       | 0            | 0            | 0            | \n",
       "| 11 | 2222         | 6094         | 7758         | 8/3/08       | 8/4/08       | Grade IV     | Glioblastoma | 15B18        | 0            | 0            | ⋯            | 1            | 1            | 0            | 0            | 1            | 1            | TxE          | 0            | 0            | 1            | \n",
       "| 13 | 2793         | 7584         | 8842         | 7/28/11      | 7/28/11      | Grade IV     | Glioblastoma | 15B44        | 2            | 1            | ⋯            | 1            | 0            | 0            | 0            | 1            | 1            | rHGG         | 0            | 0            | 1            | \n",
       "\n",
       "\n"
      ],
      "text/plain": [
       "   b_number t_number sf_number current_scan_date current_surgery_date\n",
       "1  2723     6369     8122      9/13/09           9/14/09             \n",
       "2  2312     5317     7679      5/4/08            5/4/08              \n",
       "4  2312     5317     7679      5/4/08            5/4/08              \n",
       "6  2873     6709     8269      3/11/10           3/15/10             \n",
       "11 2222     6094     7758      8/3/08            8/4/08              \n",
       "13 2793     7584     8842      7/28/11           7/28/11             \n",
       "   current_hist_grade current_hist_type roi.label tumor_cell_evaluation\n",
       "1  Grade IV           Glioblastoma      10B28     0                    \n",
       "2  Grade IV           Glioblastoma      11B16     2                    \n",
       "4  Grade IV           Glioblastoma      12B16     2                    \n",
       "6  Grade IV           Glioblastoma      13B32     1                    \n",
       "11 Grade IV           Glioblastoma      15B18     0                    \n",
       "13 Grade IV           Glioblastoma      15B44     2                    \n",
       "   necrosis ⋯ in_CEL in_T2all in_NEL in_NEC in_ROI desired_hist multnom_out\n",
       "1  0        ⋯ 1      1        0      0      1      1            TxE        \n",
       "2  1        ⋯ 1      1        0      0      1      1            rHGG       \n",
       "4  1        ⋯ 1      1        0      0      1      1            rHGG       \n",
       "6  0        ⋯ 1      0        0      0      1      1            Ts1DNI     \n",
       "11 0        ⋯ 1      1        0      0      1      1            TxE        \n",
       "13 1        ⋯ 1      0        0      0      1      1            rHGG       \n",
       "   no_ffpe waiting_on_path rhgg_txe_analysis\n",
       "1  0       0               1                \n",
       "2  0       0               1                \n",
       "4  0       0               1                \n",
       "6  0       0               0                \n",
       "11 0       0               1                \n",
       "13 0       0               1                "
      ]
     },
     "metadata": {},
     "output_type": "display_data"
    }
   ],
   "source": [
    "recgli_inCEL = recgli[which(recgli$in_CEL == 1),]\n",
    "dim(recgli_inCEL)\n",
    "is.numeric(recgli_inCEL$tumor_cell_evaluation)\n",
    "head(recgli_inCEL)"
   ]
  },
  {
   "cell_type": "code",
   "execution_count": 42,
   "metadata": {
    "collapsed": false,
    "deletable": true,
    "editable": true
   },
   "outputs": [
    {
     "name": "stdout",
     "output_type": "stream",
     "text": [
      " Named num [1:4] -1.201 -0.54916 0.73916 0.00249\n",
      " - attr(*, \"names\")= chr [1:4] \"beta10\" \"beta20\" \"beta30\" \"nfse\"\n"
     ]
    }
   ],
   "source": [
    "coef_init = summary(nfse.fit)$coefficients[,1]"
   ]
  },
  {
   "cell_type": "code",
   "execution_count": 23,
   "metadata": {
    "collapsed": false,
    "deletable": true,
    "editable": true
   },
   "outputs": [
    {
     "ename": "ERROR",
     "evalue": "Error in ordLORgee(formula = tumor_cell_evaluation ~ nfse, link = \"logit\", : could not find function \"ordLORgee\"\n",
     "output_type": "error",
     "traceback": [
      "Error in ordLORgee(formula = tumor_cell_evaluation ~ nfse, link = \"logit\", : could not find function \"ordLORgee\"\nTraceback:\n"
     ]
    }
   ],
   "source": [
    "nfse.fit2 = ordLORgee(formula = tumor_cell_evaluation ~ nfse, link = \"logit\", \n",
    "                      id = t_number, data = recgli_inCEL, LORstr = \"category.exch\", \n",
    "                    bstart = coef_init)\n",
    "## for some reason this throws an error, I reported to the github and hope that there is a resolution of this issue "
   ]
  },
  {
   "cell_type": "code",
   "execution_count": 24,
   "metadata": {
    "collapsed": false,
    "deletable": true,
    "editable": true
   },
   "outputs": [
    {
     "data": {
      "text/html": [
       "<table>\n",
       "<thead><tr><th scope=col>b_number</th><th scope=col>t_number</th><th scope=col>sf_number</th><th scope=col>current_scan_date</th><th scope=col>current_surgery_date</th><th scope=col>current_hist_grade</th><th scope=col>current_hist_type</th><th scope=col>roi.label</th><th scope=col>tumor_cell_evaluation</th><th scope=col>necrosis</th><th scope=col>⋯</th><th scope=col>in_CEL</th><th scope=col>in_T2all</th><th scope=col>in_NEL</th><th scope=col>in_NEC</th><th scope=col>in_ROI</th><th scope=col>desired_hist</th><th scope=col>multnom_out</th><th scope=col>no_ffpe</th><th scope=col>waiting_on_path</th><th scope=col>rhgg_txe_analysis</th></tr></thead>\n",
       "<tbody>\n",
       "\t<tr><td>2723            </td><td>6369            </td><td>8122            </td><td>9/13/09         </td><td>9/14/09         </td><td>Grade IV        </td><td>Glioblastoma    </td><td>10B28           </td><td>0               </td><td>0               </td><td>⋯               </td><td>1               </td><td>1               </td><td>0               </td><td>0               </td><td>1               </td><td>1               </td><td>TxE             </td><td>0               </td><td>0               </td><td>1               </td></tr>\n",
       "\t<tr><td>2312            </td><td>5317            </td><td>7679            </td><td>5/4/08          </td><td>5/4/08          </td><td>Grade IV        </td><td>Glioblastoma    </td><td>11B16           </td><td>2               </td><td>1               </td><td>⋯               </td><td>1               </td><td>1               </td><td>0               </td><td>0               </td><td>1               </td><td>1               </td><td>rHGG            </td><td>0               </td><td>0               </td><td>1               </td></tr>\n",
       "\t<tr><td>3169            </td><td>7540            </td><td>8796            </td><td>6/19/11         </td><td>6/20/11         </td><td>Grade IV        </td><td>Glioblastoma    </td><td>11B43           </td><td>2               </td><td>0               </td><td>⋯               </td><td>0               </td><td>1               </td><td>1               </td><td>0               </td><td>1               </td><td>1               </td><td>rHGG            </td><td>0               </td><td>0               </td><td>1               </td></tr>\n",
       "\t<tr><td>2312            </td><td>5317            </td><td>7679            </td><td>5/4/08          </td><td>5/4/08          </td><td>Grade IV        </td><td>Glioblastoma    </td><td>12B16           </td><td>2               </td><td>1               </td><td>⋯               </td><td>1               </td><td>1               </td><td>0               </td><td>0               </td><td>1               </td><td>1               </td><td>rHGG            </td><td>0               </td><td>0               </td><td>1               </td></tr>\n",
       "\t<tr><td>2379            </td><td>5950            </td><td>7930            </td><td>1/25/09         </td><td>1/26/09         </td><td>Treatment Effect</td><td>Treatment Effect</td><td>12B22           </td><td>0               </td><td>0               </td><td>⋯               </td><td>0               </td><td>1               </td><td>1               </td><td>0               </td><td>1               </td><td>1               </td><td>TxE             </td><td>0               </td><td>0               </td><td>1               </td></tr>\n",
       "\t<tr><td>2873            </td><td>6709            </td><td>8269            </td><td>3/11/10         </td><td>3/15/10         </td><td>Grade IV        </td><td>Glioblastoma    </td><td>13B32           </td><td>1               </td><td>0               </td><td>⋯               </td><td>1               </td><td>0               </td><td>0               </td><td>0               </td><td>1               </td><td>1               </td><td>Ts1DNI          </td><td>0               </td><td>0               </td><td>0               </td></tr>\n",
       "</tbody>\n",
       "</table>\n"
      ],
      "text/latex": [
       "\\begin{tabular}{r|lllllllllllllllllllllllllllllllllllllllllllllllllllllllllllllllllllllllll}\n",
       " b\\_number & t\\_number & sf\\_number & current\\_scan\\_date & current\\_surgery\\_date & current\\_hist\\_grade & current\\_hist\\_type & roi.label & tumor\\_cell\\_evaluation & necrosis & ⋯ & in\\_CEL & in\\_T2all & in\\_NEL & in\\_NEC & in\\_ROI & desired\\_hist & multnom\\_out & no\\_ffpe & waiting\\_on\\_path & rhgg\\_txe\\_analysis\\\\\n",
       "\\hline\n",
       "\t 2723             & 6369             & 8122             & 9/13/09          & 9/14/09          & Grade IV         & Glioblastoma     & 10B28            & 0                & 0                & ⋯                & 1                & 1                & 0                & 0                & 1                & 1                & TxE              & 0                & 0                & 1               \\\\\n",
       "\t 2312             & 5317             & 7679             & 5/4/08           & 5/4/08           & Grade IV         & Glioblastoma     & 11B16            & 2                & 1                & ⋯                & 1                & 1                & 0                & 0                & 1                & 1                & rHGG             & 0                & 0                & 1               \\\\\n",
       "\t 3169             & 7540             & 8796             & 6/19/11          & 6/20/11          & Grade IV         & Glioblastoma     & 11B43            & 2                & 0                & ⋯                & 0                & 1                & 1                & 0                & 1                & 1                & rHGG             & 0                & 0                & 1               \\\\\n",
       "\t 2312             & 5317             & 7679             & 5/4/08           & 5/4/08           & Grade IV         & Glioblastoma     & 12B16            & 2                & 1                & ⋯                & 1                & 1                & 0                & 0                & 1                & 1                & rHGG             & 0                & 0                & 1               \\\\\n",
       "\t 2379             & 5950             & 7930             & 1/25/09          & 1/26/09          & Treatment Effect & Treatment Effect & 12B22            & 0                & 0                & ⋯                & 0                & 1                & 1                & 0                & 1                & 1                & TxE              & 0                & 0                & 1               \\\\\n",
       "\t 2873             & 6709             & 8269             & 3/11/10          & 3/15/10          & Grade IV         & Glioblastoma     & 13B32            & 1                & 0                & ⋯                & 1                & 0                & 0                & 0                & 1                & 1                & Ts1DNI           & 0                & 0                & 0               \\\\\n",
       "\\end{tabular}\n"
      ],
      "text/markdown": [
       "\n",
       "b_number | t_number | sf_number | current_scan_date | current_surgery_date | current_hist_grade | current_hist_type | roi.label | tumor_cell_evaluation | necrosis | ⋯ | in_CEL | in_T2all | in_NEL | in_NEC | in_ROI | desired_hist | multnom_out | no_ffpe | waiting_on_path | rhgg_txe_analysis | \n",
       "|---|---|---|---|---|---|\n",
       "| 2723             | 6369             | 8122             | 9/13/09          | 9/14/09          | Grade IV         | Glioblastoma     | 10B28            | 0                | 0                | ⋯                | 1                | 1                | 0                | 0                | 1                | 1                | TxE              | 0                | 0                | 1                | \n",
       "| 2312             | 5317             | 7679             | 5/4/08           | 5/4/08           | Grade IV         | Glioblastoma     | 11B16            | 2                | 1                | ⋯                | 1                | 1                | 0                | 0                | 1                | 1                | rHGG             | 0                | 0                | 1                | \n",
       "| 3169             | 7540             | 8796             | 6/19/11          | 6/20/11          | Grade IV         | Glioblastoma     | 11B43            | 2                | 0                | ⋯                | 0                | 1                | 1                | 0                | 1                | 1                | rHGG             | 0                | 0                | 1                | \n",
       "| 2312             | 5317             | 7679             | 5/4/08           | 5/4/08           | Grade IV         | Glioblastoma     | 12B16            | 2                | 1                | ⋯                | 1                | 1                | 0                | 0                | 1                | 1                | rHGG             | 0                | 0                | 1                | \n",
       "| 2379             | 5950             | 7930             | 1/25/09          | 1/26/09          | Treatment Effect | Treatment Effect | 12B22            | 0                | 0                | ⋯                | 0                | 1                | 1                | 0                | 1                | 1                | TxE              | 0                | 0                | 1                | \n",
       "| 2873             | 6709             | 8269             | 3/11/10          | 3/15/10          | Grade IV         | Glioblastoma     | 13B32            | 1                | 0                | ⋯                | 1                | 0                | 0                | 0                | 1                | 1                | Ts1DNI           | 0                | 0                | 0                | \n",
       "\n",
       "\n"
      ],
      "text/plain": [
       "  b_number t_number sf_number current_scan_date current_surgery_date\n",
       "1 2723     6369     8122      9/13/09           9/14/09             \n",
       "2 2312     5317     7679      5/4/08            5/4/08              \n",
       "3 3169     7540     8796      6/19/11           6/20/11             \n",
       "4 2312     5317     7679      5/4/08            5/4/08              \n",
       "5 2379     5950     7930      1/25/09           1/26/09             \n",
       "6 2873     6709     8269      3/11/10           3/15/10             \n",
       "  current_hist_grade current_hist_type roi.label tumor_cell_evaluation necrosis\n",
       "1 Grade IV           Glioblastoma      10B28     0                     0       \n",
       "2 Grade IV           Glioblastoma      11B16     2                     1       \n",
       "3 Grade IV           Glioblastoma      11B43     2                     0       \n",
       "4 Grade IV           Glioblastoma      12B16     2                     1       \n",
       "5 Treatment Effect   Treatment Effect  12B22     0                     0       \n",
       "6 Grade IV           Glioblastoma      13B32     1                     0       \n",
       "  ⋯ in_CEL in_T2all in_NEL in_NEC in_ROI desired_hist multnom_out no_ffpe\n",
       "1 ⋯ 1      1        0      0      1      1            TxE         0      \n",
       "2 ⋯ 1      1        0      0      1      1            rHGG        0      \n",
       "3 ⋯ 0      1        1      0      1      1            rHGG        0      \n",
       "4 ⋯ 1      1        0      0      1      1            rHGG        0      \n",
       "5 ⋯ 0      1        1      0      1      1            TxE         0      \n",
       "6 ⋯ 1      0        0      0      1      1            Ts1DNI      0      \n",
       "  waiting_on_path rhgg_txe_analysis\n",
       "1 0               1                \n",
       "2 0               1                \n",
       "3 0               1                \n",
       "4 0               1                \n",
       "5 0               1                \n",
       "6 0               0                "
      ]
     },
     "metadata": {},
     "output_type": "display_data"
    }
   ],
   "source": [
    "head(recgli)"
   ]
  },
  {
   "cell_type": "markdown",
   "metadata": {
    "collapsed": true,
    "deletable": true,
    "editable": true
   },
   "source": [
    "## 2. Combining anatomical parameters to look at different associations within the GEE model: "
   ]
  },
  {
   "cell_type": "code",
   "execution_count": 42,
   "metadata": {
    "collapsed": false,
    "deletable": true,
    "editable": true
   },
   "outputs": [
    {
     "data": {
      "text/html": [
       "<table>\n",
       "<thead><tr><th></th><th scope=col>Estimate</th><th scope=col>san.se</th><th scope=col>san.z</th><th scope=col>Pr(&gt;|san.z|)</th></tr></thead>\n",
       "<tbody>\n",
       "\t<tr><th scope=row>beta10</th><td>-2.43741</td><td>0.70239 </td><td>-3.47015</td><td>0.00052 </td></tr>\n",
       "\t<tr><th scope=row>beta20</th><td>-1.75926</td><td>0.68590 </td><td>-2.56490</td><td>0.01032 </td></tr>\n",
       "\t<tr><th scope=row>beta30</th><td>-0.60042</td><td>0.65960 </td><td>-0.91027</td><td>0.36268 </td></tr>\n",
       "\t<tr><th scope=row>nfse</th><td> 0.14893</td><td>0.12474 </td><td> 1.19391</td><td>0.23251 </td></tr>\n",
       "\t<tr><th scope=row>nfl</th><td>-0.22804</td><td>0.20551 </td><td>-1.10961</td><td>0.26717 </td></tr>\n",
       "\t<tr><th scope=row>nt1c</th><td> 0.14363</td><td>0.17462 </td><td> 0.82251</td><td>0.41079 </td></tr>\n",
       "\t<tr><th scope=row>nt1v</th><td> 1.41215</td><td>0.73258 </td><td> 1.92765</td><td>0.05390 </td></tr>\n",
       "</tbody>\n",
       "</table>\n"
      ],
      "text/latex": [
       "\\begin{tabular}{r|llll}\n",
       "  & Estimate & san.se & san.z & Pr(>\\textbar{}san.z\\textbar{})\\\\\n",
       "\\hline\n",
       "\tbeta10 & -2.43741 & 0.70239  & -3.47015 & 0.00052 \\\\\n",
       "\tbeta20 & -1.75926 & 0.68590  & -2.56490 & 0.01032 \\\\\n",
       "\tbeta30 & -0.60042 & 0.65960  & -0.91027 & 0.36268 \\\\\n",
       "\tnfse &  0.14893 & 0.12474  &  1.19391 & 0.23251 \\\\\n",
       "\tnfl & -0.22804 & 0.20551  & -1.10961 & 0.26717 \\\\\n",
       "\tnt1c &  0.14363 & 0.17462  &  0.82251 & 0.41079 \\\\\n",
       "\tnt1v &  1.41215 & 0.73258  &  1.92765 & 0.05390 \\\\\n",
       "\\end{tabular}\n"
      ],
      "text/markdown": [
       "\n",
       "| <!--/--> | Estimate | san.se | san.z | Pr(>|san.z|) | \n",
       "|---|---|---|---|---|---|---|\n",
       "| beta10 | -2.43741 | 0.70239  | -3.47015 | 0.00052  | \n",
       "| beta20 | -1.75926 | 0.68590  | -2.56490 | 0.01032  | \n",
       "| beta30 | -0.60042 | 0.65960  | -0.91027 | 0.36268  | \n",
       "| nfse |  0.14893 | 0.12474  |  1.19391 | 0.23251  | \n",
       "| nfl | -0.22804 | 0.20551  | -1.10961 | 0.26717  | \n",
       "| nt1c |  0.14363 | 0.17462  |  0.82251 | 0.41079  | \n",
       "| nt1v |  1.41215 | 0.73258  |  1.92765 | 0.05390  | \n",
       "\n",
       "\n"
      ],
      "text/plain": [
       "       Estimate san.se  san.z    Pr(>|san.z|)\n",
       "beta10 -2.43741 0.70239 -3.47015 0.00052     \n",
       "beta20 -1.75926 0.68590 -2.56490 0.01032     \n",
       "beta30 -0.60042 0.65960 -0.91027 0.36268     \n",
       "nfse    0.14893 0.12474  1.19391 0.23251     \n",
       "nfl    -0.22804 0.20551 -1.10961 0.26717     \n",
       "nt1c    0.14363 0.17462  0.82251 0.41079     \n",
       "nt1v    1.41215 0.73258  1.92765 0.05390     "
      ]
     },
     "metadata": {},
     "output_type": "display_data"
    }
   ],
   "source": [
    "#library(multgee)\n",
    "recgli$tumor_cell_evaluation = as.character(recgli$tumor_cell_evaluation)\n",
    "recgli$tumor_cell_evaluation = as.numeric(recgli$tumor_cell_evaluation)\n",
    "anat.fit = ordLORgee(formula = tumor_cell_evaluation ~ nfse+nfl+nt1c+nt1v, link = \"logit\", \n",
    "                      id = t_number, data = recgli, LORstr = \"category.exch\")\n",
    "summary(anat.fit)$coefficients"
   ]
  },
  {
   "cell_type": "markdown",
   "metadata": {
    "deletable": true,
    "editable": true
   },
   "source": [
    "## 3. Using in_CEL as a covariate in anat params using GEE "
   ]
  },
  {
   "cell_type": "code",
   "execution_count": 43,
   "metadata": {
    "collapsed": true,
    "deletable": true,
    "editable": true
   },
   "outputs": [],
   "source": [
    "anat.cel.fit = anat.fit = ordLORgee(formula = tumor_cell_evaluation ~ nfse+nfl+nt1c+nt1v*in_CEL, link = \"logit\", \n",
    "                      id = t_number, data = recgli, LORstr = \"category.exch\")"
   ]
  },
  {
   "cell_type": "code",
   "execution_count": 44,
   "metadata": {
    "collapsed": false,
    "deletable": true,
    "editable": true
   },
   "outputs": [
    {
     "data": {
      "text/html": [
       "<table>\n",
       "<thead><tr><th></th><th scope=col>Estimate</th><th scope=col>san.se</th><th scope=col>san.z</th><th scope=col>Pr(&gt;|san.z|)</th></tr></thead>\n",
       "<tbody>\n",
       "\t<tr><th scope=row>beta10</th><td>-1.83319</td><td>0.79214 </td><td>-2.31421</td><td>0.02066 </td></tr>\n",
       "\t<tr><th scope=row>beta20</th><td>-1.14865</td><td>0.77857 </td><td>-1.47533</td><td>0.14012 </td></tr>\n",
       "\t<tr><th scope=row>beta30</th><td> 0.01321</td><td>0.76590 </td><td> 0.01724</td><td>0.98624 </td></tr>\n",
       "\t<tr><th scope=row>nfse</th><td> 0.11687</td><td>0.12270 </td><td> 0.95245</td><td>0.34087 </td></tr>\n",
       "\t<tr><th scope=row>nfl</th><td>-0.24227</td><td>0.21193 </td><td>-1.14314</td><td>0.25298 </td></tr>\n",
       "\t<tr><th scope=row>nt1c</th><td> 0.26908</td><td>0.21528 </td><td> 1.24992</td><td>0.21133 </td></tr>\n",
       "\t<tr><th scope=row>nt1v</th><td> 0.74862</td><td>0.86585 </td><td> 0.86460</td><td>0.38726 </td></tr>\n",
       "\t<tr><th scope=row>in_CEL</th><td>-1.61603</td><td>0.95874 </td><td>-1.68557</td><td>0.09188 </td></tr>\n",
       "\t<tr><th scope=row>nt1v:in_CEL</th><td> 1.64236</td><td>1.18348 </td><td> 1.38773</td><td>0.16522 </td></tr>\n",
       "</tbody>\n",
       "</table>\n"
      ],
      "text/latex": [
       "\\begin{tabular}{r|llll}\n",
       "  & Estimate & san.se & san.z & Pr(>\\textbar{}san.z\\textbar{})\\\\\n",
       "\\hline\n",
       "\tbeta10 & -1.83319 & 0.79214  & -2.31421 & 0.02066 \\\\\n",
       "\tbeta20 & -1.14865 & 0.77857  & -1.47533 & 0.14012 \\\\\n",
       "\tbeta30 &  0.01321 & 0.76590  &  0.01724 & 0.98624 \\\\\n",
       "\tnfse &  0.11687 & 0.12270  &  0.95245 & 0.34087 \\\\\n",
       "\tnfl & -0.24227 & 0.21193  & -1.14314 & 0.25298 \\\\\n",
       "\tnt1c &  0.26908 & 0.21528  &  1.24992 & 0.21133 \\\\\n",
       "\tnt1v &  0.74862 & 0.86585  &  0.86460 & 0.38726 \\\\\n",
       "\tin\\_CEL & -1.61603 & 0.95874  & -1.68557 & 0.09188 \\\\\n",
       "\tnt1v:in\\_CEL &  1.64236 & 1.18348  &  1.38773 & 0.16522 \\\\\n",
       "\\end{tabular}\n"
      ],
      "text/markdown": [
       "\n",
       "| <!--/--> | Estimate | san.se | san.z | Pr(>|san.z|) | \n",
       "|---|---|---|---|---|---|---|---|---|\n",
       "| beta10 | -1.83319 | 0.79214  | -2.31421 | 0.02066  | \n",
       "| beta20 | -1.14865 | 0.77857  | -1.47533 | 0.14012  | \n",
       "| beta30 |  0.01321 | 0.76590  |  0.01724 | 0.98624  | \n",
       "| nfse |  0.11687 | 0.12270  |  0.95245 | 0.34087  | \n",
       "| nfl | -0.24227 | 0.21193  | -1.14314 | 0.25298  | \n",
       "| nt1c |  0.26908 | 0.21528  |  1.24992 | 0.21133  | \n",
       "| nt1v |  0.74862 | 0.86585  |  0.86460 | 0.38726  | \n",
       "| in_CEL | -1.61603 | 0.95874  | -1.68557 | 0.09188  | \n",
       "| nt1v:in_CEL |  1.64236 | 1.18348  |  1.38773 | 0.16522  | \n",
       "\n",
       "\n"
      ],
      "text/plain": [
       "            Estimate san.se  san.z    Pr(>|san.z|)\n",
       "beta10      -1.83319 0.79214 -2.31421 0.02066     \n",
       "beta20      -1.14865 0.77857 -1.47533 0.14012     \n",
       "beta30       0.01321 0.76590  0.01724 0.98624     \n",
       "nfse         0.11687 0.12270  0.95245 0.34087     \n",
       "nfl         -0.24227 0.21193 -1.14314 0.25298     \n",
       "nt1c         0.26908 0.21528  1.24992 0.21133     \n",
       "nt1v         0.74862 0.86585  0.86460 0.38726     \n",
       "in_CEL      -1.61603 0.95874 -1.68557 0.09188     \n",
       "nt1v:in_CEL  1.64236 1.18348  1.38773 0.16522     "
      ]
     },
     "metadata": {},
     "output_type": "display_data"
    }
   ],
   "source": [
    "summary(anat.cel.fit)$coefficients"
   ]
  },
  {
   "cell_type": "markdown",
   "metadata": {
    "collapsed": true,
    "deletable": true,
    "editable": true
   },
   "source": [
    "## 4. Using RM ANOVA to use imaging characteristics as the dependent variable, and the TS as independent variable "
   ]
  },
  {
   "cell_type": "code",
   "execution_count": 13,
   "metadata": {
    "collapsed": false,
    "deletable": true,
    "editable": true
   },
   "outputs": [
    {
     "data": {
      "text/plain": [
       "\n",
       "FALSE \n",
       "  391 "
      ]
     },
     "metadata": {},
     "output_type": "display_data"
    }
   ],
   "source": [
    "library(ez)\n",
    "table(is.na(recgli$tumor_cell_evaluation))"
   ]
  },
  {
   "cell_type": "code",
   "execution_count": 20,
   "metadata": {
    "collapsed": false,
    "deletable": true,
    "editable": true
   },
   "outputs": [
    {
     "name": "stderr",
     "output_type": "stream",
     "text": [
      "Warning message:\n",
      "“Converting \"t_number\" to factor for ANOVA.”Warning message:\n",
      "“Collapsing data to cell means. *IF* the requested effects are a subset of the full design, you must use the \"within_full\" argument, else results may be inaccurate.”"
     ]
    },
    {
     "ename": "ERROR",
     "evalue": "Error in ezANOVA_main(data = data, dv = dv, wid = wid, within = within, : One or more cells is missing data. Try using ezDesign() to check your data.\n",
     "output_type": "error",
     "traceback": [
      "Error in ezANOVA_main(data = data, dv = dv, wid = wid, within = within, : One or more cells is missing data. Try using ezDesign() to check your data.\nTraceback:\n",
      "1. ezANOVA(data = recgli, dv = nfse, wid = t_number, within = .(tumor_cell_evaluation), \n .     )",
      "2. ezANOVA_main(data = data, dv = dv, wid = wid, within = within, \n .     within_full = within_full, within_covariates = within_covariates, \n .     between = between, between_covariates = between_covariates, \n .     diff = diff, reverse_diff = reverse_diff, type = type, return_aov = return_aov, \n .     white.adjust = white.adjust)",
      "3. stop(\"One or more cells is missing data. Try using ezDesign() to check your data.\")"
     ]
    }
   ],
   "source": [
    "nfse.anova.fit = ezANOVA(data = recgli,\n",
    "                        dv = nfse, \n",
    "                        wid = t_number, \n",
    "                        within = .(tumor_cell_evaluation),\n",
    "                        )"
   ]
  },
  {
   "cell_type": "code",
   "execution_count": null,
   "metadata": {
    "collapsed": true,
    "deletable": true,
    "editable": true
   },
   "outputs": [],
   "source": []
  }
 ],
 "metadata": {
  "kernelspec": {
   "display_name": "R",
   "language": "R",
   "name": "ir"
  },
  "language_info": {
   "codemirror_mode": "r",
   "file_extension": ".r",
   "mimetype": "text/x-r-source",
   "name": "R",
   "pygments_lexer": "r",
   "version": "3.4.0"
  }
 },
 "nbformat": 4,
 "nbformat_minor": 2
}
