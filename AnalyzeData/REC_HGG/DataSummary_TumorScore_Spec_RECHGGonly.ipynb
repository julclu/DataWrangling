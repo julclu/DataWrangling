{
 "cells": [
  {
   "cell_type": "code",
   "execution_count": 1,
   "metadata": {
    "collapsed": true,
    "deletable": true,
    "editable": true
   },
   "outputs": [],
   "source": [
    "options(repr.matrix.max.rows=600, repr.matrix.max.cols=200)"
   ]
  },
  {
   "cell_type": "code",
   "execution_count": 2,
   "metadata": {
    "collapsed": true,
    "deletable": true,
    "editable": true
   },
   "outputs": [],
   "source": [
    "recgli = read.csv(\"../../ParseData/Parsing_REC_HGG_Oct2018/7thParse_researchPath_withInVivo.csv\") "
   ]
  },
  {
   "cell_type": "code",
   "execution_count": 3,
   "metadata": {
    "collapsed": false,
    "deletable": true,
    "editable": true
   },
   "outputs": [],
   "source": [
    "#recgli[order(recgli$current_hist_type, recgli$t_number, recgli$tumor_cell_evaluation),]"
   ]
  },
  {
   "cell_type": "code",
   "execution_count": 4,
   "metadata": {
    "collapsed": false,
    "deletable": true,
    "editable": true
   },
   "outputs": [
    {
     "data": {
      "text/html": [
       "<ol class=list-inline>\n",
       "\t<li>192</li>\n",
       "\t<li>71</li>\n",
       "</ol>\n"
      ],
      "text/latex": [
       "\\begin{enumerate*}\n",
       "\\item 192\n",
       "\\item 71\n",
       "\\end{enumerate*}\n"
      ],
      "text/markdown": [
       "1. 192\n",
       "2. 71\n",
       "\n",
       "\n"
      ],
      "text/plain": [
       "[1] 192  71"
      ]
     },
     "metadata": {},
     "output_type": "display_data"
    },
    {
     "name": "stderr",
     "output_type": "stream",
     "text": [
      "Warning message in eval(expr, envir, enclos):\n",
      "“NAs introduced by coercion”"
     ]
    },
    {
     "name": "stdout",
     "output_type": "stream",
     "text": [
      " num [1:192] 3 2 2 3 1 1 2 0 0 0 ...\n"
     ]
    }
   ],
   "source": [
    "recgli = recgli[recgli$tumor_cell_evaluation != \"Ind\",]\n",
    "recgli = recgli[!is.na(recgli$tumor_cell_evaluation),]\n",
    "dim(recgli)\n",
    "recgli = droplevels(recgli)\n",
    "recgli$tumor_cell_evaluation = as.character(recgli$tumor_cell_evaluation)\n",
    "recgli$tumor_cell_evaluation = as.numeric(recgli$tumor_cell_evaluation)\n",
    "str(recgli$tumor_cell_evaluation)"
   ]
  },
  {
   "cell_type": "code",
   "execution_count": 5,
   "metadata": {
    "collapsed": false,
    "deletable": true,
    "editable": true
   },
   "outputs": [
    {
     "data": {
      "text/html": [
       "<ol class=list-inline>\n",
       "\t<li>'b_number'</li>\n",
       "\t<li>'t_number'</li>\n",
       "\t<li>'sf_number'</li>\n",
       "\t<li>'current_scan_date'</li>\n",
       "\t<li>'current_surgery_date'</li>\n",
       "\t<li>'current_hist_grade'</li>\n",
       "\t<li>'current_hist_type'</li>\n",
       "\t<li>'roi.label'</li>\n",
       "\t<li>'tumor_cell_evaluation'</li>\n",
       "\t<li>'necrosis'</li>\n",
       "\t<li>'mv_hyperplasia'</li>\n",
       "\t<li>'f8_delicate'</li>\n",
       "\t<li>'f8_simple'</li>\n",
       "\t<li>'f8_complex'</li>\n",
       "\t<li>'mib_1'</li>\n",
       "\t<li>'avgerage_cells'</li>\n",
       "\t<li>'bx_pure_treatment_effect'</li>\n",
       "\t<li>'percent_tumor_nuclei'</li>\n",
       "\t<li>'nfse'</li>\n",
       "\t<li>'nfl'</li>\n",
       "\t<li>'nt1c'</li>\n",
       "\t<li>'nt1v'</li>\n",
       "\t<li>'nt1d'</li>\n",
       "\t<li>'nadc.1'</li>\n",
       "\t<li>'nfa.1'</li>\n",
       "\t<li>'nadc.2'</li>\n",
       "\t<li>'nfa.2'</li>\n",
       "\t<li>'phn_nlin'</li>\n",
       "\t<li>'cbvn_nlin'</li>\n",
       "\t<li>'recov_nlin'</li>\n",
       "\t<li>'phn_npar'</li>\n",
       "\t<li>'recov_npar'</li>\n",
       "\t<li>'recovn_npar'</li>\n",
       "\t<li>'cni'</li>\n",
       "\t<li>'ccri'</li>\n",
       "\t<li>'crni'</li>\n",
       "\t<li>'ncho'</li>\n",
       "\t<li>'ncre'</li>\n",
       "\t<li>'nnaa'</li>\n",
       "\t<li>'nlip'</li>\n",
       "\t<li>'nlac'</li>\n",
       "\t<li>'laclip'</li>\n",
       "\t<li>'comments'</li>\n",
       "\t<li>'notes.'</li>\n",
       "\t<li>'imaging_code'</li>\n",
       "\t<li>'perf_quant'</li>\n",
       "\t<li>'spec_quant'</li>\n",
       "\t<li>'include_anat'</li>\n",
       "\t<li>'include_diffu1000'</li>\n",
       "\t<li>'include_diffu2000'</li>\n",
       "\t<li>'include_diffu_all'</li>\n",
       "\t<li>'include_perf'</li>\n",
       "\t<li>'include_spec'</li>\n",
       "\t<li>'include_one_advanced_mod'</li>\n",
       "\t<li>'include_all_advanced_mods'</li>\n",
       "\t<li>'X.CEL'</li>\n",
       "\t<li>'X.NEL'</li>\n",
       "\t<li>'X.NEC'</li>\n",
       "\t<li>'sum'</li>\n",
       "\t<li>'in_CEL'</li>\n",
       "\t<li>'in_T2all'</li>\n",
       "\t<li>'in_NEL'</li>\n",
       "\t<li>'in_NEC'</li>\n",
       "\t<li>'in_ROI'</li>\n",
       "\t<li>'desired_hist'</li>\n",
       "\t<li>'multnom_out'</li>\n",
       "\t<li>'no_ffpe'</li>\n",
       "\t<li>'waiting_on_path'</li>\n",
       "\t<li>'rhgg_txe_analysis'</li>\n",
       "\t<li>'olddata'</li>\n",
       "\t<li>'newdata'</li>\n",
       "</ol>\n"
      ],
      "text/latex": [
       "\\begin{enumerate*}\n",
       "\\item 'b\\_number'\n",
       "\\item 't\\_number'\n",
       "\\item 'sf\\_number'\n",
       "\\item 'current\\_scan\\_date'\n",
       "\\item 'current\\_surgery\\_date'\n",
       "\\item 'current\\_hist\\_grade'\n",
       "\\item 'current\\_hist\\_type'\n",
       "\\item 'roi.label'\n",
       "\\item 'tumor\\_cell\\_evaluation'\n",
       "\\item 'necrosis'\n",
       "\\item 'mv\\_hyperplasia'\n",
       "\\item 'f8\\_delicate'\n",
       "\\item 'f8\\_simple'\n",
       "\\item 'f8\\_complex'\n",
       "\\item 'mib\\_1'\n",
       "\\item 'avgerage\\_cells'\n",
       "\\item 'bx\\_pure\\_treatment\\_effect'\n",
       "\\item 'percent\\_tumor\\_nuclei'\n",
       "\\item 'nfse'\n",
       "\\item 'nfl'\n",
       "\\item 'nt1c'\n",
       "\\item 'nt1v'\n",
       "\\item 'nt1d'\n",
       "\\item 'nadc.1'\n",
       "\\item 'nfa.1'\n",
       "\\item 'nadc.2'\n",
       "\\item 'nfa.2'\n",
       "\\item 'phn\\_nlin'\n",
       "\\item 'cbvn\\_nlin'\n",
       "\\item 'recov\\_nlin'\n",
       "\\item 'phn\\_npar'\n",
       "\\item 'recov\\_npar'\n",
       "\\item 'recovn\\_npar'\n",
       "\\item 'cni'\n",
       "\\item 'ccri'\n",
       "\\item 'crni'\n",
       "\\item 'ncho'\n",
       "\\item 'ncre'\n",
       "\\item 'nnaa'\n",
       "\\item 'nlip'\n",
       "\\item 'nlac'\n",
       "\\item 'laclip'\n",
       "\\item 'comments'\n",
       "\\item 'notes.'\n",
       "\\item 'imaging\\_code'\n",
       "\\item 'perf\\_quant'\n",
       "\\item 'spec\\_quant'\n",
       "\\item 'include\\_anat'\n",
       "\\item 'include\\_diffu1000'\n",
       "\\item 'include\\_diffu2000'\n",
       "\\item 'include\\_diffu\\_all'\n",
       "\\item 'include\\_perf'\n",
       "\\item 'include\\_spec'\n",
       "\\item 'include\\_one\\_advanced\\_mod'\n",
       "\\item 'include\\_all\\_advanced\\_mods'\n",
       "\\item 'X.CEL'\n",
       "\\item 'X.NEL'\n",
       "\\item 'X.NEC'\n",
       "\\item 'sum'\n",
       "\\item 'in\\_CEL'\n",
       "\\item 'in\\_T2all'\n",
       "\\item 'in\\_NEL'\n",
       "\\item 'in\\_NEC'\n",
       "\\item 'in\\_ROI'\n",
       "\\item 'desired\\_hist'\n",
       "\\item 'multnom\\_out'\n",
       "\\item 'no\\_ffpe'\n",
       "\\item 'waiting\\_on\\_path'\n",
       "\\item 'rhgg\\_txe\\_analysis'\n",
       "\\item 'olddata'\n",
       "\\item 'newdata'\n",
       "\\end{enumerate*}\n"
      ],
      "text/markdown": [
       "1. 'b_number'\n",
       "2. 't_number'\n",
       "3. 'sf_number'\n",
       "4. 'current_scan_date'\n",
       "5. 'current_surgery_date'\n",
       "6. 'current_hist_grade'\n",
       "7. 'current_hist_type'\n",
       "8. 'roi.label'\n",
       "9. 'tumor_cell_evaluation'\n",
       "10. 'necrosis'\n",
       "11. 'mv_hyperplasia'\n",
       "12. 'f8_delicate'\n",
       "13. 'f8_simple'\n",
       "14. 'f8_complex'\n",
       "15. 'mib_1'\n",
       "16. 'avgerage_cells'\n",
       "17. 'bx_pure_treatment_effect'\n",
       "18. 'percent_tumor_nuclei'\n",
       "19. 'nfse'\n",
       "20. 'nfl'\n",
       "21. 'nt1c'\n",
       "22. 'nt1v'\n",
       "23. 'nt1d'\n",
       "24. 'nadc.1'\n",
       "25. 'nfa.1'\n",
       "26. 'nadc.2'\n",
       "27. 'nfa.2'\n",
       "28. 'phn_nlin'\n",
       "29. 'cbvn_nlin'\n",
       "30. 'recov_nlin'\n",
       "31. 'phn_npar'\n",
       "32. 'recov_npar'\n",
       "33. 'recovn_npar'\n",
       "34. 'cni'\n",
       "35. 'ccri'\n",
       "36. 'crni'\n",
       "37. 'ncho'\n",
       "38. 'ncre'\n",
       "39. 'nnaa'\n",
       "40. 'nlip'\n",
       "41. 'nlac'\n",
       "42. 'laclip'\n",
       "43. 'comments'\n",
       "44. 'notes.'\n",
       "45. 'imaging_code'\n",
       "46. 'perf_quant'\n",
       "47. 'spec_quant'\n",
       "48. 'include_anat'\n",
       "49. 'include_diffu1000'\n",
       "50. 'include_diffu2000'\n",
       "51. 'include_diffu_all'\n",
       "52. 'include_perf'\n",
       "53. 'include_spec'\n",
       "54. 'include_one_advanced_mod'\n",
       "55. 'include_all_advanced_mods'\n",
       "56. 'X.CEL'\n",
       "57. 'X.NEL'\n",
       "58. 'X.NEC'\n",
       "59. 'sum'\n",
       "60. 'in_CEL'\n",
       "61. 'in_T2all'\n",
       "62. 'in_NEL'\n",
       "63. 'in_NEC'\n",
       "64. 'in_ROI'\n",
       "65. 'desired_hist'\n",
       "66. 'multnom_out'\n",
       "67. 'no_ffpe'\n",
       "68. 'waiting_on_path'\n",
       "69. 'rhgg_txe_analysis'\n",
       "70. 'olddata'\n",
       "71. 'newdata'\n",
       "\n",
       "\n"
      ],
      "text/plain": [
       " [1] \"b_number\"                  \"t_number\"                 \n",
       " [3] \"sf_number\"                 \"current_scan_date\"        \n",
       " [5] \"current_surgery_date\"      \"current_hist_grade\"       \n",
       " [7] \"current_hist_type\"         \"roi.label\"                \n",
       " [9] \"tumor_cell_evaluation\"     \"necrosis\"                 \n",
       "[11] \"mv_hyperplasia\"            \"f8_delicate\"              \n",
       "[13] \"f8_simple\"                 \"f8_complex\"               \n",
       "[15] \"mib_1\"                     \"avgerage_cells\"           \n",
       "[17] \"bx_pure_treatment_effect\"  \"percent_tumor_nuclei\"     \n",
       "[19] \"nfse\"                      \"nfl\"                      \n",
       "[21] \"nt1c\"                      \"nt1v\"                     \n",
       "[23] \"nt1d\"                      \"nadc.1\"                   \n",
       "[25] \"nfa.1\"                     \"nadc.2\"                   \n",
       "[27] \"nfa.2\"                     \"phn_nlin\"                 \n",
       "[29] \"cbvn_nlin\"                 \"recov_nlin\"               \n",
       "[31] \"phn_npar\"                  \"recov_npar\"               \n",
       "[33] \"recovn_npar\"               \"cni\"                      \n",
       "[35] \"ccri\"                      \"crni\"                     \n",
       "[37] \"ncho\"                      \"ncre\"                     \n",
       "[39] \"nnaa\"                      \"nlip\"                     \n",
       "[41] \"nlac\"                      \"laclip\"                   \n",
       "[43] \"comments\"                  \"notes.\"                   \n",
       "[45] \"imaging_code\"              \"perf_quant\"               \n",
       "[47] \"spec_quant\"                \"include_anat\"             \n",
       "[49] \"include_diffu1000\"         \"include_diffu2000\"        \n",
       "[51] \"include_diffu_all\"         \"include_perf\"             \n",
       "[53] \"include_spec\"              \"include_one_advanced_mod\" \n",
       "[55] \"include_all_advanced_mods\" \"X.CEL\"                    \n",
       "[57] \"X.NEL\"                     \"X.NEC\"                    \n",
       "[59] \"sum\"                       \"in_CEL\"                   \n",
       "[61] \"in_T2all\"                  \"in_NEL\"                   \n",
       "[63] \"in_NEC\"                    \"in_ROI\"                   \n",
       "[65] \"desired_hist\"              \"multnom_out\"              \n",
       "[67] \"no_ffpe\"                   \"waiting_on_path\"          \n",
       "[69] \"rhgg_txe_analysis\"         \"olddata\"                  \n",
       "[71] \"newdata\"                  "
      ]
     },
     "metadata": {},
     "output_type": "display_data"
    }
   ],
   "source": [
    "colnames(recgli)"
   ]
  },
  {
   "cell_type": "code",
   "execution_count": 6,
   "metadata": {
    "collapsed": false,
    "deletable": true,
    "editable": true
   },
   "outputs": [],
   "source": [
    "recgli = recgli[which(recgli$spec_quant!=\"all_zeros\"),]"
   ]
  },
  {
   "cell_type": "code",
   "execution_count": 7,
   "metadata": {
    "collapsed": false
   },
   "outputs": [
    {
     "data": {
      "text/html": [
       "<ol class=list-inline>\n",
       "\t<li>147</li>\n",
       "\t<li>71</li>\n",
       "</ol>\n"
      ],
      "text/latex": [
       "\\begin{enumerate*}\n",
       "\\item 147\n",
       "\\item 71\n",
       "\\end{enumerate*}\n"
      ],
      "text/markdown": [
       "1. 147\n",
       "2. 71\n",
       "\n",
       "\n"
      ],
      "text/plain": [
       "[1] 147  71"
      ]
     },
     "metadata": {},
     "output_type": "display_data"
    }
   ],
   "source": [
    "dim(recgli)"
   ]
  },
  {
   "cell_type": "code",
   "execution_count": 8,
   "metadata": {
    "collapsed": false,
    "deletable": true,
    "editable": true
   },
   "outputs": [],
   "source": [
    "recgli = recgli[!is.na(recgli$cni),]"
   ]
  },
  {
   "cell_type": "code",
   "execution_count": 10,
   "metadata": {
    "collapsed": false,
    "deletable": true,
    "editable": true
   },
   "outputs": [
    {
     "data": {
      "text/html": [
       "<ol class=list-inline>\n",
       "\t<li>116</li>\n",
       "\t<li>71</li>\n",
       "</ol>\n"
      ],
      "text/latex": [
       "\\begin{enumerate*}\n",
       "\\item 116\n",
       "\\item 71\n",
       "\\end{enumerate*}\n"
      ],
      "text/markdown": [
       "1. 116\n",
       "2. 71\n",
       "\n",
       "\n"
      ],
      "text/plain": [
       "[1] 116  71"
      ]
     },
     "metadata": {},
     "output_type": "display_data"
    }
   ],
   "source": [
    "dim(recgli)"
   ]
  },
  {
   "cell_type": "code",
   "execution_count": 11,
   "metadata": {
    "collapsed": false,
    "deletable": true,
    "editable": true
   },
   "outputs": [
    {
     "data": {
      "text/html": [
       "<dl class=dl-horizontal>\n",
       "\t<dt>b_number</dt>\n",
       "\t\t<dd>0</dd>\n",
       "\t<dt>t_number</dt>\n",
       "\t\t<dd>0</dd>\n",
       "\t<dt>sf_number</dt>\n",
       "\t\t<dd>0</dd>\n",
       "\t<dt>current_scan_date</dt>\n",
       "\t\t<dd>0</dd>\n",
       "\t<dt>current_surgery_date</dt>\n",
       "\t\t<dd>0</dd>\n",
       "\t<dt>current_hist_grade</dt>\n",
       "\t\t<dd>0</dd>\n",
       "\t<dt>current_hist_type</dt>\n",
       "\t\t<dd>0</dd>\n",
       "\t<dt>roi.label</dt>\n",
       "\t\t<dd>0</dd>\n",
       "\t<dt>tumor_cell_evaluation</dt>\n",
       "\t\t<dd>4</dd>\n",
       "\t<dt>necrosis</dt>\n",
       "\t\t<dd>0</dd>\n",
       "\t<dt>mv_hyperplasia</dt>\n",
       "\t\t<dd>0</dd>\n",
       "\t<dt>f8_delicate</dt>\n",
       "\t\t<dd>0</dd>\n",
       "\t<dt>f8_simple</dt>\n",
       "\t\t<dd>0</dd>\n",
       "\t<dt>f8_complex</dt>\n",
       "\t\t<dd>0</dd>\n",
       "\t<dt>mib_1</dt>\n",
       "\t\t<dd>2</dd>\n",
       "\t<dt>avgerage_cells</dt>\n",
       "\t\t<dd>6</dd>\n",
       "\t<dt>bx_pure_treatment_effect</dt>\n",
       "\t\t<dd>0</dd>\n",
       "\t<dt>percent_tumor_nuclei</dt>\n",
       "\t\t<dd>6</dd>\n",
       "\t<dt>nfse</dt>\n",
       "\t\t<dd>0</dd>\n",
       "\t<dt>nfl</dt>\n",
       "\t\t<dd>0</dd>\n",
       "\t<dt>nt1c</dt>\n",
       "\t\t<dd>0</dd>\n",
       "\t<dt>nt1v</dt>\n",
       "\t\t<dd>3</dd>\n",
       "\t<dt>nt1d</dt>\n",
       "\t\t<dd>3</dd>\n",
       "\t<dt>nadc.1</dt>\n",
       "\t\t<dd>0</dd>\n",
       "\t<dt>nfa.1</dt>\n",
       "\t\t<dd>0</dd>\n",
       "\t<dt>nadc.2</dt>\n",
       "\t\t<dd>5</dd>\n",
       "\t<dt>nfa.2</dt>\n",
       "\t\t<dd>5</dd>\n",
       "\t<dt>phn_nlin</dt>\n",
       "\t\t<dd>30</dd>\n",
       "\t<dt>cbvn_nlin</dt>\n",
       "\t\t<dd>30</dd>\n",
       "\t<dt>recov_nlin</dt>\n",
       "\t\t<dd>30</dd>\n",
       "\t<dt>phn_npar</dt>\n",
       "\t\t<dd>30</dd>\n",
       "\t<dt>recov_npar</dt>\n",
       "\t\t<dd>30</dd>\n",
       "\t<dt>recovn_npar</dt>\n",
       "\t\t<dd>30</dd>\n",
       "\t<dt>cni</dt>\n",
       "\t\t<dd>0</dd>\n",
       "\t<dt>ccri</dt>\n",
       "\t\t<dd>0</dd>\n",
       "\t<dt>crni</dt>\n",
       "\t\t<dd>0</dd>\n",
       "\t<dt>ncho</dt>\n",
       "\t\t<dd>0</dd>\n",
       "\t<dt>ncre</dt>\n",
       "\t\t<dd>0</dd>\n",
       "\t<dt>nnaa</dt>\n",
       "\t\t<dd>0</dd>\n",
       "\t<dt>nlip</dt>\n",
       "\t\t<dd>0</dd>\n",
       "\t<dt>nlac</dt>\n",
       "\t\t<dd>0</dd>\n",
       "\t<dt>laclip</dt>\n",
       "\t\t<dd>0</dd>\n",
       "\t<dt>comments</dt>\n",
       "\t\t<dd>0</dd>\n",
       "\t<dt>notes.</dt>\n",
       "\t\t<dd>112</dd>\n",
       "\t<dt>imaging_code</dt>\n",
       "\t\t<dd>116</dd>\n",
       "\t<dt>perf_quant</dt>\n",
       "\t\t<dd>30</dd>\n",
       "\t<dt>spec_quant</dt>\n",
       "\t\t<dd>0</dd>\n",
       "\t<dt>include_anat</dt>\n",
       "\t\t<dd>0</dd>\n",
       "\t<dt>include_diffu1000</dt>\n",
       "\t\t<dd>0</dd>\n",
       "\t<dt>include_diffu2000</dt>\n",
       "\t\t<dd>0</dd>\n",
       "\t<dt>include_diffu_all</dt>\n",
       "\t\t<dd>0</dd>\n",
       "\t<dt>include_perf</dt>\n",
       "\t\t<dd>0</dd>\n",
       "\t<dt>include_spec</dt>\n",
       "\t\t<dd>0</dd>\n",
       "\t<dt>include_one_advanced_mod</dt>\n",
       "\t\t<dd>0</dd>\n",
       "\t<dt>include_all_advanced_mods</dt>\n",
       "\t\t<dd>0</dd>\n",
       "\t<dt>X.CEL</dt>\n",
       "\t\t<dd>8</dd>\n",
       "\t<dt>X.NEL</dt>\n",
       "\t\t<dd>4</dd>\n",
       "\t<dt>X.NEC</dt>\n",
       "\t\t<dd>104</dd>\n",
       "\t<dt>sum</dt>\n",
       "\t\t<dd>2</dd>\n",
       "\t<dt>in_CEL</dt>\n",
       "\t\t<dd>0</dd>\n",
       "\t<dt>in_T2all</dt>\n",
       "\t\t<dd>0</dd>\n",
       "\t<dt>in_NEL</dt>\n",
       "\t\t<dd>0</dd>\n",
       "\t<dt>in_NEC</dt>\n",
       "\t\t<dd>0</dd>\n",
       "\t<dt>in_ROI</dt>\n",
       "\t\t<dd>0</dd>\n",
       "\t<dt>desired_hist</dt>\n",
       "\t\t<dd>0</dd>\n",
       "\t<dt>multnom_out</dt>\n",
       "\t\t<dd>0</dd>\n",
       "\t<dt>no_ffpe</dt>\n",
       "\t\t<dd>0</dd>\n",
       "\t<dt>waiting_on_path</dt>\n",
       "\t\t<dd>0</dd>\n",
       "\t<dt>rhgg_txe_analysis</dt>\n",
       "\t\t<dd>0</dd>\n",
       "\t<dt>olddata</dt>\n",
       "\t\t<dd>0</dd>\n",
       "\t<dt>newdata</dt>\n",
       "\t\t<dd>0</dd>\n",
       "</dl>\n"
      ],
      "text/latex": [
       "\\begin{description*}\n",
       "\\item[b\\textbackslash{}\\_number] 0\n",
       "\\item[t\\textbackslash{}\\_number] 0\n",
       "\\item[sf\\textbackslash{}\\_number] 0\n",
       "\\item[current\\textbackslash{}\\_scan\\textbackslash{}\\_date] 0\n",
       "\\item[current\\textbackslash{}\\_surgery\\textbackslash{}\\_date] 0\n",
       "\\item[current\\textbackslash{}\\_hist\\textbackslash{}\\_grade] 0\n",
       "\\item[current\\textbackslash{}\\_hist\\textbackslash{}\\_type] 0\n",
       "\\item[roi.label] 0\n",
       "\\item[tumor\\textbackslash{}\\_cell\\textbackslash{}\\_evaluation] 4\n",
       "\\item[necrosis] 0\n",
       "\\item[mv\\textbackslash{}\\_hyperplasia] 0\n",
       "\\item[f8\\textbackslash{}\\_delicate] 0\n",
       "\\item[f8\\textbackslash{}\\_simple] 0\n",
       "\\item[f8\\textbackslash{}\\_complex] 0\n",
       "\\item[mib\\textbackslash{}\\_1] 2\n",
       "\\item[avgerage\\textbackslash{}\\_cells] 6\n",
       "\\item[bx\\textbackslash{}\\_pure\\textbackslash{}\\_treatment\\textbackslash{}\\_effect] 0\n",
       "\\item[percent\\textbackslash{}\\_tumor\\textbackslash{}\\_nuclei] 6\n",
       "\\item[nfse] 0\n",
       "\\item[nfl] 0\n",
       "\\item[nt1c] 0\n",
       "\\item[nt1v] 3\n",
       "\\item[nt1d] 3\n",
       "\\item[nadc.1] 0\n",
       "\\item[nfa.1] 0\n",
       "\\item[nadc.2] 5\n",
       "\\item[nfa.2] 5\n",
       "\\item[phn\\textbackslash{}\\_nlin] 30\n",
       "\\item[cbvn\\textbackslash{}\\_nlin] 30\n",
       "\\item[recov\\textbackslash{}\\_nlin] 30\n",
       "\\item[phn\\textbackslash{}\\_npar] 30\n",
       "\\item[recov\\textbackslash{}\\_npar] 30\n",
       "\\item[recovn\\textbackslash{}\\_npar] 30\n",
       "\\item[cni] 0\n",
       "\\item[ccri] 0\n",
       "\\item[crni] 0\n",
       "\\item[ncho] 0\n",
       "\\item[ncre] 0\n",
       "\\item[nnaa] 0\n",
       "\\item[nlip] 0\n",
       "\\item[nlac] 0\n",
       "\\item[laclip] 0\n",
       "\\item[comments] 0\n",
       "\\item[notes.] 112\n",
       "\\item[imaging\\textbackslash{}\\_code] 116\n",
       "\\item[perf\\textbackslash{}\\_quant] 30\n",
       "\\item[spec\\textbackslash{}\\_quant] 0\n",
       "\\item[include\\textbackslash{}\\_anat] 0\n",
       "\\item[include\\textbackslash{}\\_diffu1000] 0\n",
       "\\item[include\\textbackslash{}\\_diffu2000] 0\n",
       "\\item[include\\textbackslash{}\\_diffu\\textbackslash{}\\_all] 0\n",
       "\\item[include\\textbackslash{}\\_perf] 0\n",
       "\\item[include\\textbackslash{}\\_spec] 0\n",
       "\\item[include\\textbackslash{}\\_one\\textbackslash{}\\_advanced\\textbackslash{}\\_mod] 0\n",
       "\\item[include\\textbackslash{}\\_all\\textbackslash{}\\_advanced\\textbackslash{}\\_mods] 0\n",
       "\\item[X.CEL] 8\n",
       "\\item[X.NEL] 4\n",
       "\\item[X.NEC] 104\n",
       "\\item[sum] 2\n",
       "\\item[in\\textbackslash{}\\_CEL] 0\n",
       "\\item[in\\textbackslash{}\\_T2all] 0\n",
       "\\item[in\\textbackslash{}\\_NEL] 0\n",
       "\\item[in\\textbackslash{}\\_NEC] 0\n",
       "\\item[in\\textbackslash{}\\_ROI] 0\n",
       "\\item[desired\\textbackslash{}\\_hist] 0\n",
       "\\item[multnom\\textbackslash{}\\_out] 0\n",
       "\\item[no\\textbackslash{}\\_ffpe] 0\n",
       "\\item[waiting\\textbackslash{}\\_on\\textbackslash{}\\_path] 0\n",
       "\\item[rhgg\\textbackslash{}\\_txe\\textbackslash{}\\_analysis] 0\n",
       "\\item[olddata] 0\n",
       "\\item[newdata] 0\n",
       "\\end{description*}\n"
      ],
      "text/markdown": [
       "b_number\n",
       ":   0t_number\n",
       ":   0sf_number\n",
       ":   0current_scan_date\n",
       ":   0current_surgery_date\n",
       ":   0current_hist_grade\n",
       ":   0current_hist_type\n",
       ":   0roi.label\n",
       ":   0tumor_cell_evaluation\n",
       ":   4necrosis\n",
       ":   0mv_hyperplasia\n",
       ":   0f8_delicate\n",
       ":   0f8_simple\n",
       ":   0f8_complex\n",
       ":   0mib_1\n",
       ":   2avgerage_cells\n",
       ":   6bx_pure_treatment_effect\n",
       ":   0percent_tumor_nuclei\n",
       ":   6nfse\n",
       ":   0nfl\n",
       ":   0nt1c\n",
       ":   0nt1v\n",
       ":   3nt1d\n",
       ":   3nadc.1\n",
       ":   0nfa.1\n",
       ":   0nadc.2\n",
       ":   5nfa.2\n",
       ":   5phn_nlin\n",
       ":   30cbvn_nlin\n",
       ":   30recov_nlin\n",
       ":   30phn_npar\n",
       ":   30recov_npar\n",
       ":   30recovn_npar\n",
       ":   30cni\n",
       ":   0ccri\n",
       ":   0crni\n",
       ":   0ncho\n",
       ":   0ncre\n",
       ":   0nnaa\n",
       ":   0nlip\n",
       ":   0nlac\n",
       ":   0laclip\n",
       ":   0comments\n",
       ":   0notes.\n",
       ":   112imaging_code\n",
       ":   116perf_quant\n",
       ":   30spec_quant\n",
       ":   0include_anat\n",
       ":   0include_diffu1000\n",
       ":   0include_diffu2000\n",
       ":   0include_diffu_all\n",
       ":   0include_perf\n",
       ":   0include_spec\n",
       ":   0include_one_advanced_mod\n",
       ":   0include_all_advanced_mods\n",
       ":   0X.CEL\n",
       ":   8X.NEL\n",
       ":   4X.NEC\n",
       ":   104sum\n",
       ":   2in_CEL\n",
       ":   0in_T2all\n",
       ":   0in_NEL\n",
       ":   0in_NEC\n",
       ":   0in_ROI\n",
       ":   0desired_hist\n",
       ":   0multnom_out\n",
       ":   0no_ffpe\n",
       ":   0waiting_on_path\n",
       ":   0rhgg_txe_analysis\n",
       ":   0olddata\n",
       ":   0newdata\n",
       ":   0\n",
       "\n"
      ],
      "text/plain": [
       "                 b_number                  t_number                 sf_number \n",
       "                        0                         0                         0 \n",
       "        current_scan_date      current_surgery_date        current_hist_grade \n",
       "                        0                         0                         0 \n",
       "        current_hist_type                 roi.label     tumor_cell_evaluation \n",
       "                        0                         0                         4 \n",
       "                 necrosis            mv_hyperplasia               f8_delicate \n",
       "                        0                         0                         0 \n",
       "                f8_simple                f8_complex                     mib_1 \n",
       "                        0                         0                         2 \n",
       "           avgerage_cells  bx_pure_treatment_effect      percent_tumor_nuclei \n",
       "                        6                         0                         6 \n",
       "                     nfse                       nfl                      nt1c \n",
       "                        0                         0                         0 \n",
       "                     nt1v                      nt1d                    nadc.1 \n",
       "                        3                         3                         0 \n",
       "                    nfa.1                    nadc.2                     nfa.2 \n",
       "                        0                         5                         5 \n",
       "                 phn_nlin                 cbvn_nlin                recov_nlin \n",
       "                       30                        30                        30 \n",
       "                 phn_npar                recov_npar               recovn_npar \n",
       "                       30                        30                        30 \n",
       "                      cni                      ccri                      crni \n",
       "                        0                         0                         0 \n",
       "                     ncho                      ncre                      nnaa \n",
       "                        0                         0                         0 \n",
       "                     nlip                      nlac                    laclip \n",
       "                        0                         0                         0 \n",
       "                 comments                    notes.              imaging_code \n",
       "                        0                       112                       116 \n",
       "               perf_quant                spec_quant              include_anat \n",
       "                       30                         0                         0 \n",
       "        include_diffu1000         include_diffu2000         include_diffu_all \n",
       "                        0                         0                         0 \n",
       "             include_perf              include_spec  include_one_advanced_mod \n",
       "                        0                         0                         0 \n",
       "include_all_advanced_mods                     X.CEL                     X.NEL \n",
       "                        0                         8                         4 \n",
       "                    X.NEC                       sum                    in_CEL \n",
       "                      104                         2                         0 \n",
       "                 in_T2all                    in_NEL                    in_NEC \n",
       "                        0                         0                         0 \n",
       "                   in_ROI              desired_hist               multnom_out \n",
       "                        0                         0                         0 \n",
       "                  no_ffpe           waiting_on_path         rhgg_txe_analysis \n",
       "                        0                         0                         0 \n",
       "                  olddata                   newdata \n",
       "                        0                         0 "
      ]
     },
     "metadata": {},
     "output_type": "display_data"
    }
   ],
   "source": [
    "colSums(is.na(recgli))"
   ]
  },
  {
   "cell_type": "code",
   "execution_count": 12,
   "metadata": {
    "collapsed": true,
    "deletable": true,
    "editable": true
   },
   "outputs": [],
   "source": [
    "#recgli_new= recgli_new[!is.na(recgli_new$nev1.1), ]"
   ]
  },
  {
   "cell_type": "code",
   "execution_count": 13,
   "metadata": {
    "collapsed": false,
    "deletable": true,
    "editable": true
   },
   "outputs": [
    {
     "data": {
      "text/html": [
       "<ol class=list-inline>\n",
       "\t<li>116</li>\n",
       "\t<li>71</li>\n",
       "</ol>\n"
      ],
      "text/latex": [
       "\\begin{enumerate*}\n",
       "\\item 116\n",
       "\\item 71\n",
       "\\end{enumerate*}\n"
      ],
      "text/markdown": [
       "1. 116\n",
       "2. 71\n",
       "\n",
       "\n"
      ],
      "text/plain": [
       "[1] 116  71"
      ]
     },
     "metadata": {},
     "output_type": "display_data"
    }
   ],
   "source": [
    "dim(recgli)"
   ]
  },
  {
   "cell_type": "code",
   "execution_count": 14,
   "metadata": {
    "collapsed": false,
    "deletable": true,
    "editable": true
   },
   "outputs": [
    {
     "data": {
      "text/plain": [
       "\n",
       "FALSE  TRUE \n",
       "   62    54 "
      ]
     },
     "metadata": {},
     "output_type": "display_data"
    }
   ],
   "source": [
    "table(!duplicated(recgli$t_number))"
   ]
  },
  {
   "cell_type": "code",
   "execution_count": null,
   "metadata": {
    "collapsed": true,
    "deletable": true,
    "editable": true
   },
   "outputs": [],
   "source": []
  },
  {
   "cell_type": "markdown",
   "metadata": {
    "deletable": true,
    "editable": true
   },
   "source": [
    "\n",
    "# There are 116 samples with 54 patients"
   ]
  },
  {
   "cell_type": "markdown",
   "metadata": {
    "deletable": true,
    "editable": true
   },
   "source": [
    "# Visualization: "
   ]
  },
  {
   "cell_type": "code",
   "execution_count": 15,
   "metadata": {
    "collapsed": false,
    "deletable": true,
    "editable": true
   },
   "outputs": [
    {
     "data": {
      "image/png": "[encoded data removed]",
      "text/plain": [
       "Plot with title “ncho vs. ts”"
      ]
     },
     "metadata": {},
     "output_type": "display_data"
    },
    {
     "data": {
      "image/png": "[encoded data removed]",
      "text/plain": [
       "Plot with title “laclip vs. ts”"
      ]
     },
     "metadata": {},
     "output_type": "display_data"
    }
   ],
   "source": [
    "par(mfrow = c(2, 2))\n",
    "a = boxplot(cni ~ tumor_cell_evaluation , data = recgli, ylab = \" cni\", xlab = \"tumorscore\", main = 'cni vs. ts')\n",
    "\n",
    "b = boxplot(ccri ~ tumor_cell_evaluation , data = recgli, ylab = \" ccri\", xlab = \"tumorscore\", main = 'ccri vs. ts')\n",
    "\n",
    "c = boxplot(crni ~ tumor_cell_evaluation , data = recgli, ylab = \" crni\", xlab = \"tumorscore\", main = 'crni vs. ts')\n",
    "\n",
    "d = boxplot(ncho ~ tumor_cell_evaluation , data = recgli, ylab = \" ncho\", xlab = \"tumorscore\", main = 'ncho vs. ts')\n",
    "\n",
    "e = boxplot(ncre ~ tumor_cell_evaluation , data = recgli, ylab = \" ncre\", xlab = \"tumorscore\", main = 'ncre vs. ts')\n",
    "\n",
    "f = boxplot(nnaa ~ tumor_cell_evaluation , data = recgli, ylab = \" nnaa\", xlab = \"tumorscore\", main = 'nnaa vs. ts')\n",
    "\n",
    "g = boxplot(laclip ~ tumor_cell_evaluation , data = recgli, ylab = \"normalized laclip\", xlab = \"tumorscore\", main = 'laclip vs. ts')\n",
    "\n"
   ]
  },
  {
   "cell_type": "code",
   "execution_count": 18,
   "metadata": {
    "collapsed": false
   },
   "outputs": [
    {
     "data": {
      "text/html": [
       "<ol class=list-inline>\n",
       "\t<li>-2.22</li>\n",
       "\t<li>31.81</li>\n",
       "</ol>\n"
      ],
      "text/latex": [
       "\\begin{enumerate*}\n",
       "\\item -2.22\n",
       "\\item 31.81\n",
       "\\end{enumerate*}\n"
      ],
      "text/markdown": [
       "1. -2.22\n",
       "2. 31.81\n",
       "\n",
       "\n"
      ],
      "text/plain": [
       "[1] -2.22 31.81"
      ]
     },
     "metadata": {},
     "output_type": "display_data"
    }
   ],
   "source": [
    "range(recgli$cni)"
   ]
  },
  {
   "cell_type": "code",
   "execution_count": 19,
   "metadata": {
    "collapsed": false,
    "deletable": true,
    "editable": true
   },
   "outputs": [
    {
     "data": {
      "image/png": "[encoded data removed]",
      "text/plain": [
       "Plot with title “cni for ts = 3”"
      ]
     },
     "metadata": {},
     "output_type": "display_data"
    }
   ],
   "source": [
    "par(mfrow = c(2, 2))\n",
    "a = hist(recgli[which(recgli$tumor_cell_evaluation==0),]$cni, \n",
    "         ylab = \"counts\", xlab = \"cni\", \n",
    "         main = 'cni for ts = 0', xlim=c(-5,35), breaks = c(seq(-5, 35, by = 2)), ylim = c(0,12))\n",
    "a = hist(recgli[which(recgli$tumor_cell_evaluation==1),]$cni, \n",
    "         ylab = \"counts\", xlab = \"cni\", \n",
    "         main = 'cni for ts = 1', xlim=c(-5,35), breaks = c(seq(-5, 35, by = 2)), ylim = c(0,12))\n",
    "a = hist(recgli[which(recgli$tumor_cell_evaluation==2),]$cni, \n",
    "         ylab = \"counts\", xlab = \"cni\", \n",
    "         main = 'cni for ts = 2', xlim=c(-5,35), breaks = c(seq(-5, 35, by = 2)), ylim = c(0,12))\n",
    "a = hist(recgli[which(recgli$tumor_cell_evaluation==3),]$cni, \n",
    "         ylab = \"counts\", xlab = \"cni\", \n",
    "         main = 'cni for ts = 3', xlim=c(-5,35), breaks = c(seq(-5, 35, by = 2)), ylim = c(0,12))"
   ]
  },
  {
   "cell_type": "code",
   "execution_count": 20,
   "metadata": {
    "collapsed": false,
    "deletable": true,
    "editable": true
   },
   "outputs": [
    {
     "data": {
      "image/png": "[encoded data removed]",
      "text/plain": [
       "Plot with title “distribution of cni\n",
       " in TS”"
      ]
     },
     "metadata": {},
     "output_type": "display_data"
    }
   ],
   "source": [
    "par(mfrow=c(1,1))\n",
    "\n",
    "hist(recgli[which(recgli$tumor_cell_evaluation==0 ),]$cni, xlim=c(-5,35), breaks = c(seq(-5, 35, by = 2)), ylim = c(0, 25), col=rgb(1,0,0,0.2), xlab=\"phn_nlin value\", \n",
    "     ylab=\"\", main=\"distribution of cni\\n in TS\")\n",
    "hist(recgli[which(recgli$tumor_cell_evaluation==1 ),]$cni, xlim=c(-5,35), breaks = c(seq(-5, 35, by = 2)), ylim = c(0, 25), col=rgb(0,1,0,0.2), add=T)\n",
    "hist(recgli[which(recgli$tumor_cell_evaluation==2 ),]$cni, xlim=c(-5,35), breaks = c(seq(-5, 35, by = 2)), ylim = c(0, 25), col=rgb(0,0,1,0.2), add=T)\n",
    "hist(recgli[which(recgli$tumor_cell_evaluation==3 ),]$cni, xlim=c(-5,35), breaks = c(seq(-5, 35, by = 2)), ylim = c(0, 25), col=rgb(0,1,1,0.2), add=T)\n",
    "legend(\"topright\", legend=c(\"0\",\"1\", \"2\", \"3\"), col=c(rgb(1,0,0,0.2), \n",
    "     rgb(0,1,0,0.5), rgb(0,0,1,0.5), rgb(0,1,1,0.5)), pt.cex=2, pch=15, cex = .7 )"
   ]
  },
  {
   "cell_type": "code",
   "execution_count": 24,
   "metadata": {
    "collapsed": false,
    "deletable": true,
    "editable": true
   },
   "outputs": [
    {
     "data": {
      "text/html": [
       "<ol class=list-inline>\n",
       "\t<li>-6.84</li>\n",
       "\t<li>26.36</li>\n",
       "</ol>\n"
      ],
      "text/latex": [
       "\\begin{enumerate*}\n",
       "\\item -6.84\n",
       "\\item 26.36\n",
       "\\end{enumerate*}\n"
      ],
      "text/markdown": [
       "1. -6.84\n",
       "2. 26.36\n",
       "\n",
       "\n"
      ],
      "text/plain": [
       "[1] -6.84 26.36"
      ]
     },
     "metadata": {},
     "output_type": "display_data"
    }
   ],
   "source": [
    "range(recgli$ccri)"
   ]
  },
  {
   "cell_type": "code",
   "execution_count": 26,
   "metadata": {
    "collapsed": false,
    "deletable": true,
    "editable": true
   },
   "outputs": [
    {
     "data": {
      "image/png": "[encoded data removed]",
      "text/plain": [
       "Plot with title “ccri for ts = 3”"
      ]
     },
     "metadata": {},
     "output_type": "display_data"
    }
   ],
   "source": [
    "par(mfrow = c(2, 2))\n",
    "a = hist(recgli[which(recgli$tumor_cell_evaluation==0),]$ccri, \n",
    "         ylab = \"counts\", xlab = \"ccri\", \n",
    "         main = 'ccri for ts = 0', xlim=c(-5,35), breaks = c(seq(-5, 35, by = 2)), ylim = c(0,12))\n",
    "a = hist(recgli[which(recgli$tumor_cell_evaluation==1),]$ccri, \n",
    "         ylab = \"counts\", xlab = \"ccri\", \n",
    "         main = 'ccri for ts = 1', xlim=c(-5,35), breaks = c(seq(-5, 35, by = 2)), ylim = c(0,12))\n",
    "a = hist(recgli[which(recgli$tumor_cell_evaluation==2),]$ccri, \n",
    "         ylab = \"counts\", xlab = \"ccri\", \n",
    "         main = 'ccri for ts = 2', xlim=c(-5,35), breaks = c(seq(-5, 35, by = 2)), ylim = c(0,12))\n",
    "a = hist(recgli[which(recgli$tumor_cell_evaluation==3),]$ccri, \n",
    "         ylab = \"counts\", xlab = \"ccri\", \n",
    "         main = 'ccri for ts = 3', xlim=c(-5,35), breaks = c(seq(-10, 35, by = 2)), ylim = c(0,12))"
   ]
  },
  {
   "cell_type": "code",
   "execution_count": 27,
   "metadata": {
    "collapsed": false,
    "deletable": true,
    "editable": true
   },
   "outputs": [
    {
     "data": {
      "image/png": "[encoded data removed]",
      "text/plain": [
       "Plot with title “distribution of ccri\n",
       " in TS”"
      ]
     },
     "metadata": {},
     "output_type": "display_data"
    }
   ],
   "source": [
    "par(mfrow=c(1,1))\n",
    "\n",
    "hist(recgli[which(recgli$tumor_cell_evaluation==0 ),]$ccri, xlim=c(-10,35), breaks = c(seq(-10, 35, by = 2)), ylim = c(0, 25), col=rgb(1,0,0,0.2), xlab=\"phn_nlin value\", \n",
    "     ylab=\"\", main=\"distribution of ccri\\n in TS\")\n",
    "hist(recgli[which(recgli$tumor_cell_evaluation==1 ),]$ccri, xlim=c(-10,35), breaks = c(seq(-10, 35, by = 2)), ylim = c(0, 25), col=rgb(0,1,0,0.2), add=T)\n",
    "hist(recgli[which(recgli$tumor_cell_evaluation==2 ),]$ccri, xlim=c(-10,35), breaks = c(seq(-10, 35, by = 2)), ylim = c(0, 25), col=rgb(0,0,1,0.2), add=T)\n",
    "hist(recgli[which(recgli$tumor_cell_evaluation==3 ),]$ccri, xlim=c(-10,35), breaks = c(seq(-10, 35, by = 2)), ylim = c(0, 25), col=rgb(0,1,1,0.2), add=T)\n",
    "legend(\"topright\", legend=c(\"0\",\"1\", \"2\", \"3\"), col=c(rgb(1,0,0,0.2), \n",
    "     rgb(0,1,0,0.5), rgb(0,0,1,0.5), rgb(0,1,1,0.5)), pt.cex=2, pch=15, cex = .7 )"
   ]
  },
  {
   "cell_type": "code",
   "execution_count": 28,
   "metadata": {
    "collapsed": false,
    "deletable": true,
    "editable": true
   },
   "outputs": [
    {
     "data": {
      "text/html": [
       "<ol class=list-inline>\n",
       "\t<li>-1.82</li>\n",
       "\t<li>13.44</li>\n",
       "</ol>\n"
      ],
      "text/latex": [
       "\\begin{enumerate*}\n",
       "\\item -1.82\n",
       "\\item 13.44\n",
       "\\end{enumerate*}\n"
      ],
      "text/markdown": [
       "1. -1.82\n",
       "2. 13.44\n",
       "\n",
       "\n"
      ],
      "text/plain": [
       "[1] -1.82 13.44"
      ]
     },
     "metadata": {},
     "output_type": "display_data"
    }
   ],
   "source": [
    "range(recgli$crni)"
   ]
  },
  {
   "cell_type": "code",
   "execution_count": 31,
   "metadata": {
    "collapsed": false,
    "deletable": true,
    "editable": true
   },
   "outputs": [
    {
     "data": {
      "image/png": "[encoded data removed]",
      "text/plain": [
       "Plot with title “crni for ts = 3”"
      ]
     },
     "metadata": {},
     "output_type": "display_data"
    }
   ],
   "source": [
    "par(mfrow = c(2, 2))\n",
    "a = hist(recgli[which(recgli$tumor_cell_evaluation==0),]$crni, \n",
    "         ylab = \"counts\", xlab = \"crni\", \n",
    "         main = 'crni for ts = 0', xlim=c(-2,16), breaks = c(seq(-2, 16, by = 1)), ylim = c(0,12))\n",
    "a = hist(recgli[which(recgli$tumor_cell_evaluation==1),]$crni, \n",
    "         ylab = \"counts\", xlab = \"crni\", \n",
    "         main = 'crni for ts = 1', xlim=c(-2,16), breaks = c(seq(-2, 16, by = 1)), ylim = c(0,12))\n",
    "a = hist(recgli[which(recgli$tumor_cell_evaluation==2),]$crni, \n",
    "         ylab = \"counts\", xlab = \"crni\", \n",
    "         main = 'crni for ts = 2', xlim=c(-2,16), breaks = c(seq(-2, 16, by = 1)), ylim = c(0,12))\n",
    "a = hist(recgli[which(recgli$tumor_cell_evaluation==3),]$crni, \n",
    "         ylab = \"counts\", xlab = \"crni\", \n",
    "         main = 'crni for ts = 3', xlim=c(-2,16), breaks = c(seq(-2, 16, by = 1)), ylim = c(0,12))\n"
   ]
  },
  {
   "cell_type": "code",
   "execution_count": 32,
   "metadata": {
    "collapsed": false,
    "deletable": true,
    "editable": true
   },
   "outputs": [
    {
     "data": {
      "image/png": "[encoded data removed]",
      "text/plain": [
       "Plot with title “distribution of crni\n",
       " in TS”"
      ]
     },
     "metadata": {},
     "output_type": "display_data"
    }
   ],
   "source": [
    "par(mfrow=c(1,1))\n",
    "\n",
    "hist(recgli[which(recgli$tumor_cell_evaluation==0 ),]$crni, xlim=c(-2,16), breaks = c(seq(-2, 16, by = 1)), ylim = c(0, 25), col=rgb(1,0,0,0.2), xlab=\"phn_nlin value\", \n",
    "     ylab=\"\", main=\"distribution of crni\\n in TS\")\n",
    "hist(recgli[which(recgli$tumor_cell_evaluation==1 ),]$crni, xlim=c(-2,16), breaks = c(seq(-2, 16, by = 1)), ylim = c(0, 25), col=rgb(0,1,0,0.2), add=T)\n",
    "hist(recgli[which(recgli$tumor_cell_evaluation==2 ),]$crni, xlim=c(-2,16), breaks = c(seq(-2, 16, by = 1)), ylim = c(0, 25), col=rgb(0,0,1,0.2), add=T)\n",
    "hist(recgli[which(recgli$tumor_cell_evaluation==3 ),]$crni,xlim=c(-2,16), breaks = c(seq(-2, 16, by = 1)), ylim = c(0, 25), col=rgb(0,1,1,0.2), add=T)\n",
    "legend(\"topright\", legend=c(\"0\",\"1\", \"2\", \"3\"), col=c(rgb(1,0,0,0.2), \n",
    "     rgb(0,1,0,0.5), rgb(0,0,1,0.5), rgb(0,1,1,0.5)), pt.cex=2, pch=15, cex = .7 )"
   ]
  },
  {
   "cell_type": "code",
   "execution_count": 34,
   "metadata": {
    "collapsed": false,
    "deletable": true,
    "editable": true
   },
   "outputs": [
    {
     "data": {
      "text/html": [
       "<ol class=list-inline>\n",
       "\t<li>-0.05</li>\n",
       "\t<li>8.61</li>\n",
       "</ol>\n"
      ],
      "text/latex": [
       "\\begin{enumerate*}\n",
       "\\item -0.05\n",
       "\\item 8.61\n",
       "\\end{enumerate*}\n"
      ],
      "text/markdown": [
       "1. -0.05\n",
       "2. 8.61\n",
       "\n",
       "\n"
      ],
      "text/plain": [
       "[1] -0.05  8.61"
      ]
     },
     "metadata": {},
     "output_type": "display_data"
    }
   ],
   "source": [
    "range(recgli$ncho)"
   ]
  },
  {
   "cell_type": "code",
   "execution_count": 35,
   "metadata": {
    "collapsed": false,
    "deletable": true,
    "editable": true
   },
   "outputs": [
    {
     "data": {
      "image/png": "[encoded data removed]",
      "text/plain": [
       "Plot with title “ncho for ts = 3”"
      ]
     },
     "metadata": {},
     "output_type": "display_data"
    }
   ],
   "source": [
    "par(mfrow = c(2, 2))\n",
    "a = hist(recgli[which(recgli$tumor_cell_evaluation==0),]$ncho, \n",
    "         ylab = \"counts\", xlab = \"ncho\", \n",
    "         main = 'ncho for ts = 0', xlim=c(-2,9), breaks = c(seq(-2, 9, by = 1)), ylim = c(0,12))\n",
    "a = hist(recgli[which(recgli$tumor_cell_evaluation==1),]$ncho, \n",
    "         ylab = \"counts\", xlab = \"ncho\", \n",
    "         main = 'ncho for ts = 1', xlim=c(-2,9), breaks = c(seq(-2, 9, by = 1)), ylim = c(0,12))\n",
    "a = hist(recgli[which(recgli$tumor_cell_evaluation==2),]$ncho, \n",
    "         ylab = \"counts\", xlab = \"ncho\", \n",
    "         main = 'ncho for ts = 2', xlim=c(-2,9), breaks = c(seq(-2, 9, by = 1)), ylim = c(0,12))\n",
    "a = hist(recgli[which(recgli$tumor_cell_evaluation==3),]$ncho, \n",
    "         ylab = \"counts\", xlab = \"ncho\", \n",
    "         main = 'ncho for ts = 3', xlim=c(-2,9), breaks = c(seq(-2, 9, by = 1)), ylim = c(0,12))\n"
   ]
  },
  {
   "cell_type": "code",
   "execution_count": 36,
   "metadata": {
    "collapsed": false
   },
   "outputs": [
    {
     "data": {
      "text/html": [
       "<ol class=list-inline>\n",
       "\t<li>-0.23</li>\n",
       "\t<li>5.16</li>\n",
       "</ol>\n"
      ],
      "text/latex": [
       "\\begin{enumerate*}\n",
       "\\item -0.23\n",
       "\\item 5.16\n",
       "\\end{enumerate*}\n"
      ],
      "text/markdown": [
       "1. -0.23\n",
       "2. 5.16\n",
       "\n",
       "\n"
      ],
      "text/plain": [
       "[1] -0.23  5.16"
      ]
     },
     "metadata": {},
     "output_type": "display_data"
    }
   ],
   "source": [
    "range(recgli$ncre)"
   ]
  },
  {
   "cell_type": "code",
   "execution_count": 39,
   "metadata": {
    "collapsed": false
   },
   "outputs": [
    {
     "data": {
      "image/png": "[encoded data removed]",
      "text/plain": [
       "Plot with title “ncre for ts = 3”"
      ]
     },
     "metadata": {},
     "output_type": "display_data"
    }
   ],
   "source": [
    "par(mfrow = c(2, 2))\n",
    "a = hist(recgli[which(recgli$tumor_cell_evaluation==0),]$ncre, \n",
    "         ylab = \"counts\", xlab = \"ncre\", \n",
    "         main = 'ncre for ts = 0', xlim=c(-2,9), breaks = c(seq(-2, 9, by = .25)), ylim = c(0,12))\n",
    "a = hist(recgli[which(recgli$tumor_cell_evaluation==1),]$ncre, \n",
    "         ylab = \"counts\", xlab = \"ncre\", \n",
    "         main = 'ncre for ts = 1', xlim=c(-2,9), breaks = c(seq(-2, 9, by = .25)), ylim = c(0,12))\n",
    "a = hist(recgli[which(recgli$tumor_cell_evaluation==2),]$ncre, \n",
    "         ylab = \"counts\", xlab = \"ncre\", \n",
    "         main = 'ncre for ts = 2', xlim=c(-2,9), breaks = c(seq(-2, 9, by = .25)), ylim = c(0,12))\n",
    "a = hist(recgli[which(recgli$tumor_cell_evaluation==3),]$ncre, \n",
    "         ylab = \"counts\", xlab = \"ncre\", \n",
    "         main = 'ncre for ts = 3', xlim=c(-2,9), breaks = c(seq(-2, 9, by = .25)), ylim = c(0,12))\n"
   ]
  },
  {
   "cell_type": "code",
   "execution_count": 41,
   "metadata": {
    "collapsed": false
   },
   "outputs": [
    {
     "data": {
      "text/html": [
       "<ol class=list-inline>\n",
       "\t<li>-0.13</li>\n",
       "\t<li>1.68</li>\n",
       "</ol>\n"
      ],
      "text/latex": [
       "\\begin{enumerate*}\n",
       "\\item -0.13\n",
       "\\item 1.68\n",
       "\\end{enumerate*}\n"
      ],
      "text/markdown": [
       "1. -0.13\n",
       "2. 1.68\n",
       "\n",
       "\n"
      ],
      "text/plain": [
       "[1] -0.13  1.68"
      ]
     },
     "metadata": {},
     "output_type": "display_data"
    }
   ],
   "source": [
    "range(recgli$nnaa)"
   ]
  },
  {
   "cell_type": "code",
   "execution_count": 45,
   "metadata": {
    "collapsed": false
   },
   "outputs": [
    {
     "data": {
      "image/png": "[encoded data removed]",
      "text/plain": [
       "Plot with title “nnaa for ts = 3”"
      ]
     },
     "metadata": {},
     "output_type": "display_data"
    }
   ],
   "source": [
    "par(mfrow = c(2, 2))\n",
    "a = hist(recgli[which(recgli$tumor_cell_evaluation==0),]$nnaa, \n",
    "         ylab = \"counts\", xlab = \"nnaa\", \n",
    "         main = 'nnaa for ts = 0', xlim=c(-2,2), breaks = c(seq(-2, 2, by = .125)), ylim = c(0,12))\n",
    "a = hist(recgli[which(recgli$tumor_cell_evaluation==1),]$nnaa, \n",
    "         ylab = \"counts\", xlab = \"nnaa\", \n",
    "         main = 'nnaa for ts = 1', xlim=c(-2,2), breaks = c(seq(-2, 2, by = .125)), ylim = c(0,12))\n",
    "a = hist(recgli[which(recgli$tumor_cell_evaluation==2),]$nnaa, \n",
    "         ylab = \"counts\", xlab = \"nnaa\", \n",
    "         main = 'nnaa for ts = 2', xlim=c(-2,2), breaks = c(seq(-2, 2, by = .125)), ylim = c(0,12))\n",
    "a = hist(recgli[which(recgli$tumor_cell_evaluation==3),]$nnaa, \n",
    "         ylab = \"counts\", xlab = \"nnaa\", \n",
    "         main = 'nnaa for ts = 3', xlim=c(-2,2), breaks = c(seq(-2, 2, by = .125)), ylim = c(0,12))\n"
   ]
  },
  {
   "cell_type": "code",
   "execution_count": 46,
   "metadata": {
    "collapsed": false
   },
   "outputs": [
    {
     "data": {
      "text/html": [
       "<ol class=list-inline>\n",
       "\t<li>-0.78</li>\n",
       "\t<li>3.07</li>\n",
       "</ol>\n"
      ],
      "text/latex": [
       "\\begin{enumerate*}\n",
       "\\item -0.78\n",
       "\\item 3.07\n",
       "\\end{enumerate*}\n"
      ],
      "text/markdown": [
       "1. -0.78\n",
       "2. 3.07\n",
       "\n",
       "\n"
      ],
      "text/plain": [
       "[1] -0.78  3.07"
      ]
     },
     "metadata": {},
     "output_type": "display_data"
    }
   ],
   "source": [
    "range(recgli$laclip)"
   ]
  },
  {
   "cell_type": "code",
   "execution_count": 47,
   "metadata": {
    "collapsed": false
   },
   "outputs": [
    {
     "data": {
      "image/png": "[encoded data removed]",
      "text/plain": [
       "Plot with title “laclip for ts = 3”"
      ]
     },
     "metadata": {},
     "output_type": "display_data"
    }
   ],
   "source": [
    "par(mfrow = c(2, 2))\n",
    "a = hist(recgli[which(recgli$tumor_cell_evaluation==0),]$laclip, \n",
    "         ylab = \"counts\", xlab = \"laclip\", \n",
    "         main = 'laclip for ts = 0', xlim=c(-2,3.5), breaks = c(seq(-2, 3.5, by = .125)), ylim = c(0,12))\n",
    "a = hist(recgli[which(recgli$tumor_cell_evaluation==1),]$laclip, \n",
    "         ylab = \"counts\", xlab = \"laclip\", \n",
    "         main = 'laclip for ts = 1', xlim=c(-2,3.5), breaks = c(seq(-2, 3.5, by = .125)), ylim = c(0,12))\n",
    "a = hist(recgli[which(recgli$tumor_cell_evaluation==2),]$laclip, \n",
    "         ylab = \"counts\", xlab = \"laclip\", \n",
    "         main = 'laclip for ts = 2', xlim=c(-2,3.5), breaks = c(seq(-2, 3.5, by = .125)), ylim = c(0,12))\n",
    "a = hist(recgli[which(recgli$tumor_cell_evaluation==3),]$laclip, \n",
    "         ylab = \"counts\", xlab = \"laclip\", \n",
    "         main = 'laclip for ts = 3', xlim=c(-2,3.5), breaks = c(seq(-2, 3.5, by = .125)), ylim = c(0,12))\n"
   ]
  },
  {
   "cell_type": "markdown",
   "metadata": {
    "deletable": true,
    "editable": true
   },
   "source": [
    "# Statistics: "
   ]
  },
  {
   "cell_type": "markdown",
   "metadata": {
    "deletable": true,
    "editable": true
   },
   "source": [
    " Use GLMM associate anatomical parameters with TS, no separation "
   ]
  },
  {
   "cell_type": "code",
   "execution_count": 48,
   "metadata": {
    "collapsed": false,
    "deletable": true,
    "editable": true
   },
   "outputs": [
    {
     "name": "stderr",
     "output_type": "stream",
     "text": [
      "Loading required package: Formula\n",
      "Loading required package: maxLik\n",
      "Loading required package: miscTools\n",
      "\n",
      "Please cite the 'maxLik' package as:\n",
      "Henningsen, Arne and Toomet, Ott (2011). maxLik: A package for maximum likelihood estimation in R. Computational Statistics 26(3), 443-458. DOI 10.1007/s00180-010-0217-1.\n",
      "\n",
      "If you have questions, suggestions, or comments regarding the 'maxLik' package, please use a forum or 'tracker' at maxLik's R-Forge site:\n",
      "https://r-forge.r-project.org/projects/maxlik/\n"
     ]
    }
   ],
   "source": [
    "library(mlogit)"
   ]
  },
  {
   "cell_type": "code",
   "execution_count": 49,
   "metadata": {
    "collapsed": true,
    "deletable": true,
    "editable": true
   },
   "outputs": [],
   "source": [
    "data_mlog <-mlogit.data(recgli,  id.var =\"t_number\", shape=\"wide\", \n",
    "                        sep=\"\", varying=NULL, \n",
    "                       choice = \"tumor_cell_evaluation\")"
   ]
  },
  {
   "cell_type": "code",
   "execution_count": 50,
   "metadata": {
    "collapsed": false,
    "deletable": true,
    "editable": true
   },
   "outputs": [
    {
     "data": {
      "text/html": [
       "<table>\n",
       "<thead><tr><th></th><th scope=col>Estimate</th><th scope=col>Std. Error</th><th scope=col>z-value</th><th scope=col>Pr(&gt;|z|)</th></tr></thead>\n",
       "<tbody>\n",
       "\t<tr><th scope=row>1:(intercept)</th><td>-0.02193154</td><td>0.4763560  </td><td>-0.04604023</td><td>0.9632782  </td></tr>\n",
       "\t<tr><th scope=row>2:(intercept)</th><td> 0.17485684</td><td>0.4195252  </td><td> 0.41679701</td><td>0.6768269  </td></tr>\n",
       "\t<tr><th scope=row>3:(intercept)</th><td> 0.53105211</td><td>0.3952636  </td><td> 1.34353899</td><td>0.1790975  </td></tr>\n",
       "\t<tr><th scope=row>1:cni</th><td>-0.01571119</td><td>0.1320775  </td><td>-0.11895430</td><td>0.9053116  </td></tr>\n",
       "\t<tr><th scope=row>2:cni</th><td> 0.11650182</td><td>0.1019326  </td><td> 1.14292957</td><td>0.2530678  </td></tr>\n",
       "\t<tr><th scope=row>3:cni</th><td> 0.15921571</td><td>0.0983366  </td><td> 1.61908904</td><td>0.1054281  </td></tr>\n",
       "</tbody>\n",
       "</table>\n"
      ],
      "text/latex": [
       "\\begin{tabular}{r|llll}\n",
       "  & Estimate & Std. Error & z-value & Pr(>\\textbar{}z\\textbar{})\\\\\n",
       "\\hline\n",
       "\t1:(intercept) & -0.02193154 & 0.4763560   & -0.04604023 & 0.9632782  \\\\\n",
       "\t2:(intercept) &  0.17485684 & 0.4195252   &  0.41679701 & 0.6768269  \\\\\n",
       "\t3:(intercept) &  0.53105211 & 0.3952636   &  1.34353899 & 0.1790975  \\\\\n",
       "\t1:cni & -0.01571119 & 0.1320775   & -0.11895430 & 0.9053116  \\\\\n",
       "\t2:cni &  0.11650182 & 0.1019326   &  1.14292957 & 0.2530678  \\\\\n",
       "\t3:cni &  0.15921571 & 0.0983366   &  1.61908904 & 0.1054281  \\\\\n",
       "\\end{tabular}\n"
      ],
      "text/markdown": [
       "\n",
       "| <!--/--> | Estimate | Std. Error | z-value | Pr(>|z|) | \n",
       "|---|---|---|---|---|---|\n",
       "| 1:(intercept) | -0.02193154 | 0.4763560   | -0.04604023 | 0.9632782   | \n",
       "| 2:(intercept) |  0.17485684 | 0.4195252   |  0.41679701 | 0.6768269   | \n",
       "| 3:(intercept) |  0.53105211 | 0.3952636   |  1.34353899 | 0.1790975   | \n",
       "| 1:cni | -0.01571119 | 0.1320775   | -0.11895430 | 0.9053116   | \n",
       "| 2:cni |  0.11650182 | 0.1019326   |  1.14292957 | 0.2530678   | \n",
       "| 3:cni |  0.15921571 | 0.0983366   |  1.61908904 | 0.1054281   | \n",
       "\n",
       "\n"
      ],
      "text/plain": [
       "              Estimate    Std. Error z-value     Pr(>|z|) \n",
       "1:(intercept) -0.02193154 0.4763560  -0.04604023 0.9632782\n",
       "2:(intercept)  0.17485684 0.4195252   0.41679701 0.6768269\n",
       "3:(intercept)  0.53105211 0.3952636   1.34353899 0.1790975\n",
       "1:cni         -0.01571119 0.1320775  -0.11895430 0.9053116\n",
       "2:cni          0.11650182 0.1019326   1.14292957 0.2530678\n",
       "3:cni          0.15921571 0.0983366   1.61908904 0.1054281"
      ]
     },
     "metadata": {},
     "output_type": "display_data"
    }
   ],
   "source": [
    "mlogit_cni <- mlogit(tumor_cell_evaluation ~1 | cni, data=data_mlog)\n",
    "summary(mlogit_cni)$CoefTable"
   ]
  },
  {
   "cell_type": "code",
   "execution_count": 51,
   "metadata": {
    "collapsed": false,
    "deletable": true,
    "editable": true
   },
   "outputs": [
    {
     "data": {
      "text/html": [
       "<table>\n",
       "<thead><tr><th></th><th scope=col>Estimate</th><th scope=col>Std. Error</th><th scope=col>z-value</th><th scope=col>Pr(&gt;|z|)</th></tr></thead>\n",
       "<tbody>\n",
       "\t<tr><th scope=row>1:(intercept)</th><td>-0.12121338</td><td>0.4138753  </td><td>-0.2928741 </td><td>0.76961836 </td></tr>\n",
       "\t<tr><th scope=row>2:(intercept)</th><td> 0.25411032</td><td>0.3705507  </td><td> 0.6857639 </td><td>0.49286200 </td></tr>\n",
       "\t<tr><th scope=row>3:(intercept)</th><td> 0.75870064</td><td>0.3423640  </td><td> 2.2160646 </td><td>0.02668708 </td></tr>\n",
       "\t<tr><th scope=row>1:ccri</th><td> 0.03871044</td><td>0.1425277  </td><td> 0.2715994 </td><td>0.78593008 </td></tr>\n",
       "\t<tr><th scope=row>2:ccri</th><td> 0.14311708</td><td>0.1192325  </td><td> 1.2003189 </td><td>0.23001550 </td></tr>\n",
       "\t<tr><th scope=row>3:ccri</th><td> 0.15759464</td><td>0.1151555  </td><td> 1.3685373 </td><td>0.17114397 </td></tr>\n",
       "</tbody>\n",
       "</table>\n"
      ],
      "text/latex": [
       "\\begin{tabular}{r|llll}\n",
       "  & Estimate & Std. Error & z-value & Pr(>\\textbar{}z\\textbar{})\\\\\n",
       "\\hline\n",
       "\t1:(intercept) & -0.12121338 & 0.4138753   & -0.2928741  & 0.76961836 \\\\\n",
       "\t2:(intercept) &  0.25411032 & 0.3705507   &  0.6857639  & 0.49286200 \\\\\n",
       "\t3:(intercept) &  0.75870064 & 0.3423640   &  2.2160646  & 0.02668708 \\\\\n",
       "\t1:ccri &  0.03871044 & 0.1425277   &  0.2715994  & 0.78593008 \\\\\n",
       "\t2:ccri &  0.14311708 & 0.1192325   &  1.2003189  & 0.23001550 \\\\\n",
       "\t3:ccri &  0.15759464 & 0.1151555   &  1.3685373  & 0.17114397 \\\\\n",
       "\\end{tabular}\n"
      ],
      "text/markdown": [
       "\n",
       "| <!--/--> | Estimate | Std. Error | z-value | Pr(>|z|) | \n",
       "|---|---|---|---|---|---|\n",
       "| 1:(intercept) | -0.12121338 | 0.4138753   | -0.2928741  | 0.76961836  | \n",
       "| 2:(intercept) |  0.25411032 | 0.3705507   |  0.6857639  | 0.49286200  | \n",
       "| 3:(intercept) |  0.75870064 | 0.3423640   |  2.2160646  | 0.02668708  | \n",
       "| 1:ccri |  0.03871044 | 0.1425277   |  0.2715994  | 0.78593008  | \n",
       "| 2:ccri |  0.14311708 | 0.1192325   |  1.2003189  | 0.23001550  | \n",
       "| 3:ccri |  0.15759464 | 0.1151555   |  1.3685373  | 0.17114397  | \n",
       "\n",
       "\n"
      ],
      "text/plain": [
       "              Estimate    Std. Error z-value    Pr(>|z|)  \n",
       "1:(intercept) -0.12121338 0.4138753  -0.2928741 0.76961836\n",
       "2:(intercept)  0.25411032 0.3705507   0.6857639 0.49286200\n",
       "3:(intercept)  0.75870064 0.3423640   2.2160646 0.02668708\n",
       "1:ccri         0.03871044 0.1425277   0.2715994 0.78593008\n",
       "2:ccri         0.14311708 0.1192325   1.2003189 0.23001550\n",
       "3:ccri         0.15759464 0.1151555   1.3685373 0.17114397"
      ]
     },
     "metadata": {},
     "output_type": "display_data"
    }
   ],
   "source": [
    "## univariate analysis: \n",
    "mlogit_ccri <- mlogit(tumor_cell_evaluation ~1 | ccri, data=data_mlog)\n",
    "summary(mlogit_ccri)$CoefTable"
   ]
  },
  {
   "cell_type": "code",
   "execution_count": 52,
   "metadata": {
    "collapsed": false,
    "deletable": true,
    "editable": true
   },
   "outputs": [
    {
     "data": {
      "text/html": [
       "<table>\n",
       "<thead><tr><th></th><th scope=col>Estimate</th><th scope=col>Std. Error</th><th scope=col>z-value</th><th scope=col>Pr(&gt;|z|)</th></tr></thead>\n",
       "<tbody>\n",
       "\t<tr><th scope=row>1:(intercept)</th><td> 0.001881835</td><td>0.3772238   </td><td> 0.004988644</td><td>0.996019654 </td></tr>\n",
       "\t<tr><th scope=row>2:(intercept)</th><td> 0.481504648</td><td>0.3377564   </td><td> 1.425597539</td><td>0.153984547 </td></tr>\n",
       "\t<tr><th scope=row>3:(intercept)</th><td> 0.883938468</td><td>0.3152822   </td><td> 2.803642079</td><td>0.005052896 </td></tr>\n",
       "\t<tr><th scope=row>1:crni</th><td>-0.118400643</td><td>0.2764681   </td><td>-0.428261462</td><td>0.668460773 </td></tr>\n",
       "\t<tr><th scope=row>2:crni</th><td> 0.074459338</td><td>0.2112836   </td><td> 0.352414146</td><td>0.724527694 </td></tr>\n",
       "\t<tr><th scope=row>3:crni</th><td> 0.212993523</td><td>0.1926909   </td><td> 1.105363867</td><td>0.269001954 </td></tr>\n",
       "</tbody>\n",
       "</table>\n"
      ],
      "text/latex": [
       "\\begin{tabular}{r|llll}\n",
       "  & Estimate & Std. Error & z-value & Pr(>\\textbar{}z\\textbar{})\\\\\n",
       "\\hline\n",
       "\t1:(intercept) &  0.001881835 & 0.3772238    &  0.004988644 & 0.996019654 \\\\\n",
       "\t2:(intercept) &  0.481504648 & 0.3377564    &  1.425597539 & 0.153984547 \\\\\n",
       "\t3:(intercept) &  0.883938468 & 0.3152822    &  2.803642079 & 0.005052896 \\\\\n",
       "\t1:crni & -0.118400643 & 0.2764681    & -0.428261462 & 0.668460773 \\\\\n",
       "\t2:crni &  0.074459338 & 0.2112836    &  0.352414146 & 0.724527694 \\\\\n",
       "\t3:crni &  0.212993523 & 0.1926909    &  1.105363867 & 0.269001954 \\\\\n",
       "\\end{tabular}\n"
      ],
      "text/markdown": [
       "\n",
       "| <!--/--> | Estimate | Std. Error | z-value | Pr(>|z|) | \n",
       "|---|---|---|---|---|---|\n",
       "| 1:(intercept) |  0.001881835 | 0.3772238    |  0.004988644 | 0.996019654  | \n",
       "| 2:(intercept) |  0.481504648 | 0.3377564    |  1.425597539 | 0.153984547  | \n",
       "| 3:(intercept) |  0.883938468 | 0.3152822    |  2.803642079 | 0.005052896  | \n",
       "| 1:crni | -0.118400643 | 0.2764681    | -0.428261462 | 0.668460773  | \n",
       "| 2:crni |  0.074459338 | 0.2112836    |  0.352414146 | 0.724527694  | \n",
       "| 3:crni |  0.212993523 | 0.1926909    |  1.105363867 | 0.269001954  | \n",
       "\n",
       "\n"
      ],
      "text/plain": [
       "              Estimate     Std. Error z-value      Pr(>|z|)   \n",
       "1:(intercept)  0.001881835 0.3772238   0.004988644 0.996019654\n",
       "2:(intercept)  0.481504648 0.3377564   1.425597539 0.153984547\n",
       "3:(intercept)  0.883938468 0.3152822   2.803642079 0.005052896\n",
       "1:crni        -0.118400643 0.2764681  -0.428261462 0.668460773\n",
       "2:crni         0.074459338 0.2112836   0.352414146 0.724527694\n",
       "3:crni         0.212993523 0.1926909   1.105363867 0.269001954"
      ]
     },
     "metadata": {},
     "output_type": "display_data"
    },
    {
     "data": {
      "text/html": [
       "<dl class=dl-horizontal>\n",
       "\t<dt>1:(intercept)</dt>\n",
       "\t\t<dd>1.00188360711587</dd>\n",
       "\t<dt>2:(intercept)</dt>\n",
       "\t\t<dd>1.61850785509941</dd>\n",
       "\t<dt>3:(intercept)</dt>\n",
       "\t\t<dd>2.42041367966564</dd>\n",
       "\t<dt>1:crni</dt>\n",
       "\t\t<dd>0.888340074216971</dd>\n",
       "\t<dt>2:crni</dt>\n",
       "\t\t<dd>1.07730153726956</dd>\n",
       "\t<dt>3:crni</dt>\n",
       "\t\t<dd>1.23737663636997</dd>\n",
       "</dl>\n"
      ],
      "text/latex": [
       "\\begin{description*}\n",
       "\\item[1:(intercept)] 1.00188360711587\n",
       "\\item[2:(intercept)] 1.61850785509941\n",
       "\\item[3:(intercept)] 2.42041367966564\n",
       "\\item[1:crni] 0.888340074216971\n",
       "\\item[2:crni] 1.07730153726956\n",
       "\\item[3:crni] 1.23737663636997\n",
       "\\end{description*}\n"
      ],
      "text/markdown": [
       "1:(intercept)\n",
       ":   1.001883607115872:(intercept)\n",
       ":   1.618507855099413:(intercept)\n",
       ":   2.420413679665641:crni\n",
       ":   0.8883400742169712:crni\n",
       ":   1.077301537269563:crni\n",
       ":   1.23737663636997\n",
       "\n"
      ],
      "text/plain": [
       "1:(intercept) 2:(intercept) 3:(intercept)        1:crni        2:crni \n",
       "    1.0018836     1.6185079     2.4204137     0.8883401     1.0773015 \n",
       "       3:crni \n",
       "    1.2373766 "
      ]
     },
     "metadata": {},
     "output_type": "display_data"
    }
   ],
   "source": [
    "mlogit_crni <- mlogit(tumor_cell_evaluation ~1 | crni, data=data_mlog)\n",
    "summary(mlogit_crni)$CoefTable\n",
    "exp(coefficients(mlogit_crni))"
   ]
  },
  {
   "cell_type": "code",
   "execution_count": 53,
   "metadata": {
    "collapsed": false,
    "deletable": true,
    "editable": true
   },
   "outputs": [
    {
     "data": {
      "text/html": [
       "<table>\n",
       "<thead><tr><th></th><th scope=col>Estimate</th><th scope=col>Std. Error</th><th scope=col>z-value</th><th scope=col>Pr(&gt;|z|)</th></tr></thead>\n",
       "<tbody>\n",
       "\t<tr><th scope=row>1:(intercept)</th><td> 0.1730740</td><td>0.6265634 </td><td> 0.2762275</td><td>0.7823733 </td></tr>\n",
       "\t<tr><th scope=row>2:(intercept)</th><td> 0.1318872</td><td>0.5258966 </td><td> 0.2507855</td><td>0.8019799 </td></tr>\n",
       "\t<tr><th scope=row>3:(intercept)</th><td> 0.4308989</td><td>0.4961214 </td><td> 0.8685351</td><td>0.3851015 </td></tr>\n",
       "\t<tr><th scope=row>1:ncho</th><td>-0.2299487</td><td>0.5152523 </td><td>-0.4462838</td><td>0.6553923 </td></tr>\n",
       "\t<tr><th scope=row>2:ncho</th><td> 0.3383313</td><td>0.3768524 </td><td> 0.8977820</td><td>0.3693018 </td></tr>\n",
       "\t<tr><th scope=row>3:ncho</th><td> 0.5060172</td><td>0.3590408 </td><td> 1.4093585</td><td>0.1587292 </td></tr>\n",
       "</tbody>\n",
       "</table>\n"
      ],
      "text/latex": [
       "\\begin{tabular}{r|llll}\n",
       "  & Estimate & Std. Error & z-value & Pr(>\\textbar{}z\\textbar{})\\\\\n",
       "\\hline\n",
       "\t1:(intercept) &  0.1730740 & 0.6265634  &  0.2762275 & 0.7823733 \\\\\n",
       "\t2:(intercept) &  0.1318872 & 0.5258966  &  0.2507855 & 0.8019799 \\\\\n",
       "\t3:(intercept) &  0.4308989 & 0.4961214  &  0.8685351 & 0.3851015 \\\\\n",
       "\t1:ncho & -0.2299487 & 0.5152523  & -0.4462838 & 0.6553923 \\\\\n",
       "\t2:ncho &  0.3383313 & 0.3768524  &  0.8977820 & 0.3693018 \\\\\n",
       "\t3:ncho &  0.5060172 & 0.3590408  &  1.4093585 & 0.1587292 \\\\\n",
       "\\end{tabular}\n"
      ],
      "text/markdown": [
       "\n",
       "| <!--/--> | Estimate | Std. Error | z-value | Pr(>|z|) | \n",
       "|---|---|---|---|---|---|\n",
       "| 1:(intercept) |  0.1730740 | 0.6265634  |  0.2762275 | 0.7823733  | \n",
       "| 2:(intercept) |  0.1318872 | 0.5258966  |  0.2507855 | 0.8019799  | \n",
       "| 3:(intercept) |  0.4308989 | 0.4961214  |  0.8685351 | 0.3851015  | \n",
       "| 1:ncho | -0.2299487 | 0.5152523  | -0.4462838 | 0.6553923  | \n",
       "| 2:ncho |  0.3383313 | 0.3768524  |  0.8977820 | 0.3693018  | \n",
       "| 3:ncho |  0.5060172 | 0.3590408  |  1.4093585 | 0.1587292  | \n",
       "\n",
       "\n"
      ],
      "text/plain": [
       "              Estimate   Std. Error z-value    Pr(>|z|) \n",
       "1:(intercept)  0.1730740 0.6265634   0.2762275 0.7823733\n",
       "2:(intercept)  0.1318872 0.5258966   0.2507855 0.8019799\n",
       "3:(intercept)  0.4308989 0.4961214   0.8685351 0.3851015\n",
       "1:ncho        -0.2299487 0.5152523  -0.4462838 0.6553923\n",
       "2:ncho         0.3383313 0.3768524   0.8977820 0.3693018\n",
       "3:ncho         0.5060172 0.3590408   1.4093585 0.1587292"
      ]
     },
     "metadata": {},
     "output_type": "display_data"
    },
    {
     "data": {
      "text/html": [
       "<dl class=dl-horizontal>\n",
       "\t<dt>1:(intercept)</dt>\n",
       "\t\t<dd>1.18895412816098</dd>\n",
       "\t<dt>2:(intercept)</dt>\n",
       "\t\t<dd>1.14097966294795</dd>\n",
       "\t<dt>3:(intercept)</dt>\n",
       "\t\t<dd>1.53863995060898</dd>\n",
       "\t<dt>1:ncho</dt>\n",
       "\t\t<dd>0.794574331949856</dd>\n",
       "\t<dt>2:ncho</dt>\n",
       "\t\t<dd>1.40260508290346</dd>\n",
       "\t<dt>3:ncho</dt>\n",
       "\t\t<dd>1.65867181574194</dd>\n",
       "</dl>\n"
      ],
      "text/latex": [
       "\\begin{description*}\n",
       "\\item[1:(intercept)] 1.18895412816098\n",
       "\\item[2:(intercept)] 1.14097966294795\n",
       "\\item[3:(intercept)] 1.53863995060898\n",
       "\\item[1:ncho] 0.794574331949856\n",
       "\\item[2:ncho] 1.40260508290346\n",
       "\\item[3:ncho] 1.65867181574194\n",
       "\\end{description*}\n"
      ],
      "text/markdown": [
       "1:(intercept)\n",
       ":   1.188954128160982:(intercept)\n",
       ":   1.140979662947953:(intercept)\n",
       ":   1.538639950608981:ncho\n",
       ":   0.7945743319498562:ncho\n",
       ":   1.402605082903463:ncho\n",
       ":   1.65867181574194\n",
       "\n"
      ],
      "text/plain": [
       "1:(intercept) 2:(intercept) 3:(intercept)        1:ncho        2:ncho \n",
       "    1.1889541     1.1409797     1.5386400     0.7945743     1.4026051 \n",
       "       3:ncho \n",
       "    1.6586718 "
      ]
     },
     "metadata": {},
     "output_type": "display_data"
    }
   ],
   "source": [
    "mlogit_ncho <- mlogit(tumor_cell_evaluation ~1 | ncho, data=data_mlog)\n",
    "summary(mlogit_ncho)$CoefTable\n",
    "exp(coefficients(mlogit_ncho))"
   ]
  },
  {
   "cell_type": "code",
   "execution_count": 54,
   "metadata": {
    "collapsed": false
   },
   "outputs": [
    {
     "data": {
      "text/html": [
       "<table>\n",
       "<thead><tr><th></th><th scope=col>Estimate</th><th scope=col>Std. Error</th><th scope=col>z-value</th><th scope=col>Pr(&gt;|z|)</th></tr></thead>\n",
       "<tbody>\n",
       "\t<tr><th scope=row>1:(intercept)</th><td> 0.3435316</td><td>0.5461734 </td><td> 0.6289790</td><td>0.52936279</td></tr>\n",
       "\t<tr><th scope=row>2:(intercept)</th><td> 0.6773890</td><td>0.4665942 </td><td> 1.4517733</td><td>0.14656465</td></tr>\n",
       "\t<tr><th scope=row>3:(intercept)</th><td> 0.8832703</td><td>0.4169041 </td><td> 2.1186415</td><td>0.03412077</td></tr>\n",
       "\t<tr><th scope=row>1:ncre</th><td>-0.6927133</td><td>0.7406293 </td><td>-0.9353037</td><td>0.34963183</td></tr>\n",
       "\t<tr><th scope=row>2:ncre</th><td>-0.2240434</td><td>0.5465009 </td><td>-0.4099598</td><td>0.68183545</td></tr>\n",
       "\t<tr><th scope=row>3:ncre</th><td> 0.2657024</td><td>0.4407290 </td><td> 0.6028702</td><td>0.54659505</td></tr>\n",
       "</tbody>\n",
       "</table>\n"
      ],
      "text/latex": [
       "\\begin{tabular}{r|llll}\n",
       "  & Estimate & Std. Error & z-value & Pr(>\\textbar{}z\\textbar{})\\\\\n",
       "\\hline\n",
       "\t1:(intercept) &  0.3435316 & 0.5461734  &  0.6289790 & 0.52936279\\\\\n",
       "\t2:(intercept) &  0.6773890 & 0.4665942  &  1.4517733 & 0.14656465\\\\\n",
       "\t3:(intercept) &  0.8832703 & 0.4169041  &  2.1186415 & 0.03412077\\\\\n",
       "\t1:ncre & -0.6927133 & 0.7406293  & -0.9353037 & 0.34963183\\\\\n",
       "\t2:ncre & -0.2240434 & 0.5465009  & -0.4099598 & 0.68183545\\\\\n",
       "\t3:ncre &  0.2657024 & 0.4407290  &  0.6028702 & 0.54659505\\\\\n",
       "\\end{tabular}\n"
      ],
      "text/markdown": [
       "\n",
       "| <!--/--> | Estimate | Std. Error | z-value | Pr(>|z|) | \n",
       "|---|---|---|---|---|---|\n",
       "| 1:(intercept) |  0.3435316 | 0.5461734  |  0.6289790 | 0.52936279 | \n",
       "| 2:(intercept) |  0.6773890 | 0.4665942  |  1.4517733 | 0.14656465 | \n",
       "| 3:(intercept) |  0.8832703 | 0.4169041  |  2.1186415 | 0.03412077 | \n",
       "| 1:ncre | -0.6927133 | 0.7406293  | -0.9353037 | 0.34963183 | \n",
       "| 2:ncre | -0.2240434 | 0.5465009  | -0.4099598 | 0.68183545 | \n",
       "| 3:ncre |  0.2657024 | 0.4407290  |  0.6028702 | 0.54659505 | \n",
       "\n",
       "\n"
      ],
      "text/plain": [
       "              Estimate   Std. Error z-value    Pr(>|z|)  \n",
       "1:(intercept)  0.3435316 0.5461734   0.6289790 0.52936279\n",
       "2:(intercept)  0.6773890 0.4665942   1.4517733 0.14656465\n",
       "3:(intercept)  0.8832703 0.4169041   2.1186415 0.03412077\n",
       "1:ncre        -0.6927133 0.7406293  -0.9353037 0.34963183\n",
       "2:ncre        -0.2240434 0.5465009  -0.4099598 0.68183545\n",
       "3:ncre         0.2657024 0.4407290   0.6028702 0.54659505"
      ]
     },
     "metadata": {},
     "output_type": "display_data"
    },
    {
     "data": {
      "text/html": [
       "<dl class=dl-horizontal>\n",
       "\t<dt>1:(intercept)</dt>\n",
       "\t\t<dd>1.40991808115137</dd>\n",
       "\t<dt>2:(intercept)</dt>\n",
       "\t\t<dd>1.9687305641585</dd>\n",
       "\t<dt>3:(intercept)</dt>\n",
       "\t\t<dd>2.41879688468357</dd>\n",
       "\t<dt>1:ncre</dt>\n",
       "\t\t<dd>0.500217008727051</dd>\n",
       "\t<dt>2:ncre</dt>\n",
       "\t\t<dd>0.799280460116395</dd>\n",
       "\t<dt>3:ncre</dt>\n",
       "\t\t<dd>1.30434682597856</dd>\n",
       "</dl>\n"
      ],
      "text/latex": [
       "\\begin{description*}\n",
       "\\item[1:(intercept)] 1.40991808115137\n",
       "\\item[2:(intercept)] 1.9687305641585\n",
       "\\item[3:(intercept)] 2.41879688468357\n",
       "\\item[1:ncre] 0.500217008727051\n",
       "\\item[2:ncre] 0.799280460116395\n",
       "\\item[3:ncre] 1.30434682597856\n",
       "\\end{description*}\n"
      ],
      "text/markdown": [
       "1:(intercept)\n",
       ":   1.409918081151372:(intercept)\n",
       ":   1.96873056415853:(intercept)\n",
       ":   2.418796884683571:ncre\n",
       ":   0.5002170087270512:ncre\n",
       ":   0.7992804601163953:ncre\n",
       ":   1.30434682597856\n",
       "\n"
      ],
      "text/plain": [
       "1:(intercept) 2:(intercept) 3:(intercept)        1:ncre        2:ncre \n",
       "    1.4099181     1.9687306     2.4187969     0.5002170     0.7992805 \n",
       "       3:ncre \n",
       "    1.3043468 "
      ]
     },
     "metadata": {},
     "output_type": "display_data"
    }
   ],
   "source": [
    "mlogit_ncre <- mlogit(tumor_cell_evaluation ~1 | ncre, data=data_mlog)\n",
    "summary(mlogit_ncre)$CoefTable\n",
    "exp(coefficients(mlogit_ncre))"
   ]
  },
  {
   "cell_type": "code",
   "execution_count": 55,
   "metadata": {
    "collapsed": false
   },
   "outputs": [
    {
     "data": {
      "text/html": [
       "<table>\n",
       "<thead><tr><th></th><th scope=col>Estimate</th><th scope=col>Std. Error</th><th scope=col>z-value</th><th scope=col>Pr(&gt;|z|)</th></tr></thead>\n",
       "<tbody>\n",
       "\t<tr><th scope=row>1:(intercept)</th><td> 0.4729230 </td><td>0.6071765  </td><td> 0.7788889 </td><td>0.436045189</td></tr>\n",
       "\t<tr><th scope=row>2:(intercept)</th><td> 0.8768542 </td><td>0.5353608  </td><td> 1.6378753 </td><td>0.101447700</td></tr>\n",
       "\t<tr><th scope=row>3:(intercept)</th><td> 1.4591949 </td><td>0.4941587  </td><td> 2.9528875 </td><td>0.003148166</td></tr>\n",
       "\t<tr><th scope=row>1:nnaa</th><td>-1.2965781 </td><td>1.2254878  </td><td>-1.0580098 </td><td>0.290050970</td></tr>\n",
       "\t<tr><th scope=row>2:nnaa</th><td>-0.7922771 </td><td>0.9985117  </td><td>-0.7934580 </td><td>0.427511058</td></tr>\n",
       "\t<tr><th scope=row>3:nnaa</th><td>-0.8878314 </td><td>0.9108448  </td><td>-0.9747340 </td><td>0.329692215</td></tr>\n",
       "</tbody>\n",
       "</table>\n"
      ],
      "text/latex": [
       "\\begin{tabular}{r|llll}\n",
       "  & Estimate & Std. Error & z-value & Pr(>\\textbar{}z\\textbar{})\\\\\n",
       "\\hline\n",
       "\t1:(intercept) &  0.4729230  & 0.6071765   &  0.7788889  & 0.436045189\\\\\n",
       "\t2:(intercept) &  0.8768542  & 0.5353608   &  1.6378753  & 0.101447700\\\\\n",
       "\t3:(intercept) &  1.4591949  & 0.4941587   &  2.9528875  & 0.003148166\\\\\n",
       "\t1:nnaa & -1.2965781  & 1.2254878   & -1.0580098  & 0.290050970\\\\\n",
       "\t2:nnaa & -0.7922771  & 0.9985117   & -0.7934580  & 0.427511058\\\\\n",
       "\t3:nnaa & -0.8878314  & 0.9108448   & -0.9747340  & 0.329692215\\\\\n",
       "\\end{tabular}\n"
      ],
      "text/markdown": [
       "\n",
       "| <!--/--> | Estimate | Std. Error | z-value | Pr(>|z|) | \n",
       "|---|---|---|---|---|---|\n",
       "| 1:(intercept) |  0.4729230  | 0.6071765   |  0.7788889  | 0.436045189 | \n",
       "| 2:(intercept) |  0.8768542  | 0.5353608   |  1.6378753  | 0.101447700 | \n",
       "| 3:(intercept) |  1.4591949  | 0.4941587   |  2.9528875  | 0.003148166 | \n",
       "| 1:nnaa | -1.2965781  | 1.2254878   | -1.0580098  | 0.290050970 | \n",
       "| 2:nnaa | -0.7922771  | 0.9985117   | -0.7934580  | 0.427511058 | \n",
       "| 3:nnaa | -0.8878314  | 0.9108448   | -0.9747340  | 0.329692215 | \n",
       "\n",
       "\n"
      ],
      "text/plain": [
       "              Estimate   Std. Error z-value    Pr(>|z|)   \n",
       "1:(intercept)  0.4729230 0.6071765   0.7788889 0.436045189\n",
       "2:(intercept)  0.8768542 0.5353608   1.6378753 0.101447700\n",
       "3:(intercept)  1.4591949 0.4941587   2.9528875 0.003148166\n",
       "1:nnaa        -1.2965781 1.2254878  -1.0580098 0.290050970\n",
       "2:nnaa        -0.7922771 0.9985117  -0.7934580 0.427511058\n",
       "3:nnaa        -0.8878314 0.9108448  -0.9747340 0.329692215"
      ]
     },
     "metadata": {},
     "output_type": "display_data"
    },
    {
     "data": {
      "text/html": [
       "<dl class=dl-horizontal>\n",
       "\t<dt>1:(intercept)</dt>\n",
       "\t\t<dd>1.60467787637388</dd>\n",
       "\t<dt>2:(intercept)</dt>\n",
       "\t\t<dd>2.40332748585431</dd>\n",
       "\t<dt>3:(intercept)</dt>\n",
       "\t\t<dd>4.30249435888829</dd>\n",
       "\t<dt>1:nnaa</dt>\n",
       "\t\t<dd>0.273465957615122</dd>\n",
       "\t<dt>2:nnaa</dt>\n",
       "\t\t<dd>0.452812531284831</dd>\n",
       "\t<dt>3:nnaa</dt>\n",
       "\t\t<dd>0.411547249692977</dd>\n",
       "</dl>\n"
      ],
      "text/latex": [
       "\\begin{description*}\n",
       "\\item[1:(intercept)] 1.60467787637388\n",
       "\\item[2:(intercept)] 2.40332748585431\n",
       "\\item[3:(intercept)] 4.30249435888829\n",
       "\\item[1:nnaa] 0.273465957615122\n",
       "\\item[2:nnaa] 0.452812531284831\n",
       "\\item[3:nnaa] 0.411547249692977\n",
       "\\end{description*}\n"
      ],
      "text/markdown": [
       "1:(intercept)\n",
       ":   1.604677876373882:(intercept)\n",
       ":   2.403327485854313:(intercept)\n",
       ":   4.302494358888291:nnaa\n",
       ":   0.2734659576151222:nnaa\n",
       ":   0.4528125312848313:nnaa\n",
       ":   0.411547249692977\n",
       "\n"
      ],
      "text/plain": [
       "1:(intercept) 2:(intercept) 3:(intercept)        1:nnaa        2:nnaa \n",
       "    1.6046779     2.4033275     4.3024944     0.2734660     0.4528125 \n",
       "       3:nnaa \n",
       "    0.4115472 "
      ]
     },
     "metadata": {},
     "output_type": "display_data"
    }
   ],
   "source": [
    "mlogit_nnaa <- mlogit(tumor_cell_evaluation ~1 | nnaa, data=data_mlog)\n",
    "summary(mlogit_nnaa)$CoefTable\n",
    "exp(coefficients(mlogit_nnaa))"
   ]
  },
  {
   "cell_type": "code",
   "execution_count": 56,
   "metadata": {
    "collapsed": false
   },
   "outputs": [
    {
     "data": {
      "text/html": [
       "<table>\n",
       "<thead><tr><th></th><th scope=col>Estimate</th><th scope=col>Std. Error</th><th scope=col>z-value</th><th scope=col>Pr(&gt;|z|)</th></tr></thead>\n",
       "<tbody>\n",
       "\t<tr><th scope=row>1:(intercept)</th><td> 0.07985116</td><td>0.4856420  </td><td> 0.1644239 </td><td>0.869397440</td></tr>\n",
       "\t<tr><th scope=row>2:(intercept)</th><td> 0.62460817</td><td>0.4285856  </td><td> 1.4573710 </td><td>0.145013990</td></tr>\n",
       "\t<tr><th scope=row>3:(intercept)</th><td> 1.03134669</td><td>0.3962212  </td><td> 2.6029570 </td><td>0.009242356</td></tr>\n",
       "\t<tr><th scope=row>1:laclip</th><td>-0.28297156</td><td>0.6846981  </td><td>-0.4132793 </td><td>0.679401987</td></tr>\n",
       "\t<tr><th scope=row>2:laclip</th><td>-0.17746765</td><td>0.5827126  </td><td>-0.3045544 </td><td>0.760705582</td></tr>\n",
       "\t<tr><th scope=row>3:laclip</th><td> 0.08667553</td><td>0.5167029  </td><td> 0.1677473 </td><td>0.866782059</td></tr>\n",
       "</tbody>\n",
       "</table>\n"
      ],
      "text/latex": [
       "\\begin{tabular}{r|llll}\n",
       "  & Estimate & Std. Error & z-value & Pr(>\\textbar{}z\\textbar{})\\\\\n",
       "\\hline\n",
       "\t1:(intercept) &  0.07985116 & 0.4856420   &  0.1644239  & 0.869397440\\\\\n",
       "\t2:(intercept) &  0.62460817 & 0.4285856   &  1.4573710  & 0.145013990\\\\\n",
       "\t3:(intercept) &  1.03134669 & 0.3962212   &  2.6029570  & 0.009242356\\\\\n",
       "\t1:laclip & -0.28297156 & 0.6846981   & -0.4132793  & 0.679401987\\\\\n",
       "\t2:laclip & -0.17746765 & 0.5827126   & -0.3045544  & 0.760705582\\\\\n",
       "\t3:laclip &  0.08667553 & 0.5167029   &  0.1677473  & 0.866782059\\\\\n",
       "\\end{tabular}\n"
      ],
      "text/markdown": [
       "\n",
       "| <!--/--> | Estimate | Std. Error | z-value | Pr(>|z|) | \n",
       "|---|---|---|---|---|---|\n",
       "| 1:(intercept) |  0.07985116 | 0.4856420   |  0.1644239  | 0.869397440 | \n",
       "| 2:(intercept) |  0.62460817 | 0.4285856   |  1.4573710  | 0.145013990 | \n",
       "| 3:(intercept) |  1.03134669 | 0.3962212   |  2.6029570  | 0.009242356 | \n",
       "| 1:laclip | -0.28297156 | 0.6846981   | -0.4132793  | 0.679401987 | \n",
       "| 2:laclip | -0.17746765 | 0.5827126   | -0.3045544  | 0.760705582 | \n",
       "| 3:laclip |  0.08667553 | 0.5167029   |  0.1677473  | 0.866782059 | \n",
       "\n",
       "\n"
      ],
      "text/plain": [
       "              Estimate    Std. Error z-value    Pr(>|z|)   \n",
       "1:(intercept)  0.07985116 0.4856420   0.1644239 0.869397440\n",
       "2:(intercept)  0.62460817 0.4285856   1.4573710 0.145013990\n",
       "3:(intercept)  1.03134669 0.3962212   2.6029570 0.009242356\n",
       "1:laclip      -0.28297156 0.6846981  -0.4132793 0.679401987\n",
       "2:laclip      -0.17746765 0.5827126  -0.3045544 0.760705582\n",
       "3:laclip       0.08667553 0.5167029   0.1677473 0.866782059"
      ]
     },
     "metadata": {},
     "output_type": "display_data"
    },
    {
     "data": {
      "text/html": [
       "<dl class=dl-horizontal>\n",
       "\t<dt>1:(intercept)</dt>\n",
       "\t\t<dd>1.08312584725974</dd>\n",
       "\t<dt>2:(intercept)</dt>\n",
       "\t\t<dd>1.86751406094653</dd>\n",
       "\t<dt>3:(intercept)</dt>\n",
       "\t\t<dd>2.8048405480087</dd>\n",
       "\t<dt>1:laclip</dt>\n",
       "\t\t<dd>0.753541220659784</dd>\n",
       "\t<dt>2:laclip</dt>\n",
       "\t\t<dd>0.837388084727547</dd>\n",
       "\t<dt>3:laclip</dt>\n",
       "\t\t<dd>1.09054277570392</dd>\n",
       "</dl>\n"
      ],
      "text/latex": [
       "\\begin{description*}\n",
       "\\item[1:(intercept)] 1.08312584725974\n",
       "\\item[2:(intercept)] 1.86751406094653\n",
       "\\item[3:(intercept)] 2.8048405480087\n",
       "\\item[1:laclip] 0.753541220659784\n",
       "\\item[2:laclip] 0.837388084727547\n",
       "\\item[3:laclip] 1.09054277570392\n",
       "\\end{description*}\n"
      ],
      "text/markdown": [
       "1:(intercept)\n",
       ":   1.083125847259742:(intercept)\n",
       ":   1.867514060946533:(intercept)\n",
       ":   2.80484054800871:laclip\n",
       ":   0.7535412206597842:laclip\n",
       ":   0.8373880847275473:laclip\n",
       ":   1.09054277570392\n",
       "\n"
      ],
      "text/plain": [
       "1:(intercept) 2:(intercept) 3:(intercept)      1:laclip      2:laclip \n",
       "    1.0831258     1.8675141     2.8048405     0.7535412     0.8373881 \n",
       "     3:laclip \n",
       "    1.0905428 "
      ]
     },
     "metadata": {},
     "output_type": "display_data"
    }
   ],
   "source": [
    "mlogit_laclip <- mlogit(tumor_cell_evaluation ~1 | laclip, data=data_mlog)\n",
    "summary(mlogit_laclip)$CoefTable\n",
    "exp(coefficients(mlogit_laclip))"
   ]
  },
  {
   "cell_type": "markdown",
   "metadata": {
    "deletable": true,
    "editable": true
   },
   "source": [
    "Use GEE to associate anatomical parameters with TS, no separation"
   ]
  },
  {
   "cell_type": "code",
   "execution_count": 57,
   "metadata": {
    "collapsed": false,
    "deletable": true,
    "editable": true
   },
   "outputs": [
    {
     "name": "stderr",
     "output_type": "stream",
     "text": [
      "Loading required package: gnm\n",
      "Loading required package: VGAM\n",
      "Loading required package: stats4\n",
      "Loading required package: splines\n",
      "\n",
      "Attaching package: ‘VGAM’\n",
      "\n",
      "The following object is masked from ‘package:mlogit’:\n",
      "\n",
      "    lrtest\n",
      "\n"
     ]
    }
   ],
   "source": [
    "library(multgee)"
   ]
  },
  {
   "cell_type": "code",
   "execution_count": 63,
   "metadata": {
    "collapsed": false,
    "deletable": true,
    "editable": true
   },
   "outputs": [
    {
     "ename": "ERROR",
     "evalue": "Error in fitLORgee(Y, X_mat, coeffs, ncategories, id, repeated, offset, : Please insert initial values\n",
     "output_type": "error",
     "traceback": [
      "Error in fitLORgee(Y, X_mat, coeffs, ncategories, id, repeated, offset, : Please insert initial values\nTraceback:\n",
      "1. ordLORgee(formula = tumor_cell_evaluation ~ cni, link = \"logit\", \n .     id = t_number, data = recgli, LORstr = \"category.exch\", bstart = c(-2, \n .         0, 2, 0))",
      "2. fitLORgee(Y, X_mat, coeffs, ncategories, id, repeated, offset, \n .     link, LORterm, marpars, ipfp.ctrl, control, IM, LORem = LORem, \n .     LORstr = LORstr, add)",
      "3. stop(\"Please insert initial values\")"
     ]
    }
   ],
   "source": [
    "cni.fit = ordLORgee(formula = tumor_cell_evaluation ~ cni, link = \"logit\", \n",
    "                      id = t_number, data = recgli, LORstr = \"category.exch\", bstart = c(-2, 0, 2, 0))\n",
    "summary(cni.fit)$coefficients\n",
    "## ERROR - not enough data to fit. "
   ]
  },
  {
   "cell_type": "code",
   "execution_count": 64,
   "metadata": {
    "collapsed": false,
    "deletable": true,
    "editable": true
   },
   "outputs": [
    {
     "ename": "ERROR",
     "evalue": "Error in fitLORgee(Y, X_mat, coeffs, ncategories, id, repeated, offset, : Please insert initial values\n",
     "output_type": "error",
     "traceback": [
      "Error in fitLORgee(Y, X_mat, coeffs, ncategories, id, repeated, offset, : Please insert initial values\nTraceback:\n",
      "1. ordLORgee(formula = tumor_cell_evaluation ~ ccri, link = \"logit\", \n .     id = t_number, data = recgli, LORstr = \"category.exch\")",
      "2. fitLORgee(Y, X_mat, coeffs, ncategories, id, repeated, offset, \n .     link, LORterm, marpars, ipfp.ctrl, control, IM, LORem = LORem, \n .     LORstr = LORstr, add)",
      "3. stop(\"Please insert initial values\")"
     ]
    }
   ],
   "source": [
    "ccri.fit = ordLORgee(formula = tumor_cell_evaluation ~ ccri, link = \"logit\", \n",
    "                      id = t_number, data = recgli, LORstr = \"category.exch\")\n",
    "summary(ccri.fit)$coefficients"
   ]
  },
  {
   "cell_type": "code",
   "execution_count": 66,
   "metadata": {
    "collapsed": false,
    "deletable": true,
    "editable": true
   },
   "outputs": [
    {
     "ename": "ERROR",
     "evalue": "Error in fitLORgee(Y, X_mat, coeffs, ncategories, id, repeated, offset, : Please insert initial values\n",
     "output_type": "error",
     "traceback": [
      "Error in fitLORgee(Y, X_mat, coeffs, ncategories, id, repeated, offset, : Please insert initial values\nTraceback:\n",
      "1. ordLORgee(formula = tumor_cell_evaluation ~ crni, link = \"logit\", \n .     id = t_number, data = recgli, LORstr = \"category.exch\")",
      "2. fitLORgee(Y, X_mat, coeffs, ncategories, id, repeated, offset, \n .     link, LORterm, marpars, ipfp.ctrl, control, IM, LORem = LORem, \n .     LORstr = LORstr, add)",
      "3. stop(\"Please insert initial values\")"
     ]
    }
   ],
   "source": [
    "crni.fit = ordLORgee(formula = tumor_cell_evaluation ~ crni, link = \"logit\", \n",
    "                      id = t_number, data = recgli, LORstr = \"category.exch\")\n",
    "summary(crni.fit)$coefficients"
   ]
  },
  {
   "cell_type": "code",
   "execution_count": 67,
   "metadata": {
    "collapsed": false,
    "deletable": true,
    "editable": true
   },
   "outputs": [
    {
     "ename": "ERROR",
     "evalue": "Error in fitLORgee(Y, X_mat, coeffs, ncategories, id, repeated, offset, : Please insert initial values\n",
     "output_type": "error",
     "traceback": [
      "Error in fitLORgee(Y, X_mat, coeffs, ncategories, id, repeated, offset, : Please insert initial values\nTraceback:\n",
      "1. ordLORgee(formula = tumor_cell_evaluation ~ ncho, link = \"logit\", \n .     id = t_number, data = recgli, LORstr = \"category.exch\")",
      "2. fitLORgee(Y, X_mat, coeffs, ncategories, id, repeated, offset, \n .     link, LORterm, marpars, ipfp.ctrl, control, IM, LORem = LORem, \n .     LORstr = LORstr, add)",
      "3. stop(\"Please insert initial values\")"
     ]
    }
   ],
   "source": [
    "ncho.fit = ordLORgee(formula = tumor_cell_evaluation ~ ncho, link = \"logit\", \n",
    "                      id = t_number, data = recgli, LORstr = \"category.exch\")\n",
    "summary(ncho.fit)"
   ]
  },
  {
   "cell_type": "markdown",
   "metadata": {},
   "source": [
    "# ERROR - not enough data to fit GEE,cannot converge... "
   ]
  },
  {
   "cell_type": "markdown",
   "metadata": {
    "deletable": true,
    "editable": true
   },
   "source": [
    "Using RM ANOVA to use imaging characteristics as the dependent variable, and the TS as independent variable "
   ]
  },
  {
   "cell_type": "code",
   "execution_count": 68,
   "metadata": {
    "collapsed": false,
    "deletable": true,
    "editable": true
   },
   "outputs": [
    {
     "data": {
      "text/plain": [
       "\n",
       "Error: t_number\n",
       "                      Df   Sum Sq  Mean Sq\n",
       "tumor_cell_evaluation  1 0.004491 0.004491\n",
       "\n",
       "Error: t_number:tumor_cell_evaluation\n",
       "                      Df Sum Sq Mean Sq\n",
       "tumor_cell_evaluation  1  125.7   125.7\n",
       "\n",
       "Error: Within\n",
       "                       Df Sum Sq Mean Sq F value Pr(>F)\n",
       "tumor_cell_evaluation   1      0   0.023   0.001  0.976\n",
       "Residuals             108   2701  25.007               "
      ]
     },
     "metadata": {},
     "output_type": "display_data"
    }
   ],
   "source": [
    "cni.rmaov = aov(cni ~ tumor_cell_evaluation + Error(t_number/(tumor_cell_evaluation)), data=recgli)\n",
    "summary(cni.rmaov)"
   ]
  },
  {
   "cell_type": "code",
   "execution_count": 69,
   "metadata": {
    "collapsed": false,
    "deletable": true,
    "editable": true
   },
   "outputs": [
    {
     "data": {
      "text/plain": [
       "\n",
       "Error: t_number\n",
       "                      Df Sum Sq Mean Sq\n",
       "tumor_cell_evaluation  1 0.6281  0.6281\n",
       "\n",
       "Error: t_number:tumor_cell_evaluation\n",
       "                      Df Sum Sq Mean Sq\n",
       "tumor_cell_evaluation  1  12.68   12.68\n",
       "\n",
       "Error: Within\n",
       "                       Df Sum Sq Mean Sq F value Pr(>F)\n",
       "tumor_cell_evaluation   1    7.3   7.323   1.865  0.175\n",
       "Residuals             108  424.0   3.926               "
      ]
     },
     "metadata": {},
     "output_type": "display_data"
    }
   ],
   "source": [
    "crni.rmaov = aov(crni ~ tumor_cell_evaluation + Error(t_number/(tumor_cell_evaluation)), data=recgli)\n",
    "summary(crni.rmaov)"
   ]
  },
  {
   "cell_type": "code",
   "execution_count": 70,
   "metadata": {
    "collapsed": false,
    "deletable": true,
    "editable": true
   },
   "outputs": [
    {
     "data": {
      "text/plain": [
       "\n",
       "Error: t_number\n",
       "                      Df Sum Sq Mean Sq\n",
       "tumor_cell_evaluation  1  7.113   7.113\n",
       "\n",
       "Error: t_number:tumor_cell_evaluation\n",
       "                      Df Sum Sq Mean Sq\n",
       "tumor_cell_evaluation  1  33.14   33.14\n",
       "\n",
       "Error: Within\n",
       "                       Df Sum Sq Mean Sq F value Pr(>F)\n",
       "tumor_cell_evaluation   1    6.3   6.256   0.447  0.505\n",
       "Residuals             108 1509.9  13.981               "
      ]
     },
     "metadata": {},
     "output_type": "display_data"
    }
   ],
   "source": [
    "ccri.rmaov = aov(ccri ~ tumor_cell_evaluation + Error(t_number/(tumor_cell_evaluation)), data=recgli)\n",
    "summary(ccri.rmaov)"
   ]
  },
  {
   "cell_type": "code",
   "execution_count": 72,
   "metadata": {
    "collapsed": false,
    "deletable": true,
    "editable": true
   },
   "outputs": [
    {
     "data": {
      "text/plain": [
       "\n",
       "Error: t_number\n",
       "                      Df Sum Sq Mean Sq\n",
       "tumor_cell_evaluation  1    2.4     2.4\n",
       "\n",
       "Error: t_number:tumor_cell_evaluation\n",
       "                      Df Sum Sq Mean Sq\n",
       "tumor_cell_evaluation  1  6.334   6.334\n",
       "\n",
       "Error: Within\n",
       "                       Df Sum Sq Mean Sq F value Pr(>F)\n",
       "tumor_cell_evaluation   1   0.09  0.0878   0.059  0.809\n",
       "Residuals             108 160.81  1.4890               "
      ]
     },
     "metadata": {},
     "output_type": "display_data"
    }
   ],
   "source": [
    "ncho.rmaov = aov(ncho ~ tumor_cell_evaluation + Error(t_number/(tumor_cell_evaluation)), data=recgli)\n",
    "summary(ncho.rmaov)"
   ]
  },
  {
   "cell_type": "code",
   "execution_count": 73,
   "metadata": {
    "collapsed": false,
    "deletable": true,
    "editable": true
   },
   "outputs": [
    {
     "data": {
      "text/plain": [
       "\n",
       "Error: t_number\n",
       "                      Df Sum Sq Mean Sq\n",
       "tumor_cell_evaluation  1  2.785   2.785\n",
       "\n",
       "Error: t_number:tumor_cell_evaluation\n",
       "                      Df Sum Sq Mean Sq\n",
       "tumor_cell_evaluation  1 0.7513  0.7513\n",
       "\n",
       "Error: Within\n",
       "                       Df Sum Sq Mean Sq F value Pr(>F)\n",
       "tumor_cell_evaluation   1   0.94  0.9381   2.117  0.149\n",
       "Residuals             108  47.85  0.4431               "
      ]
     },
     "metadata": {},
     "output_type": "display_data"
    }
   ],
   "source": [
    "ncre.rmaov = aov(ncre ~ tumor_cell_evaluation + Error(t_number/(tumor_cell_evaluation)), data=recgli)\n",
    "summary(ncre.rmaov)"
   ]
  },
  {
   "cell_type": "code",
   "execution_count": 74,
   "metadata": {
    "collapsed": false
   },
   "outputs": [
    {
     "data": {
      "text/plain": [
       "\n",
       "Error: t_number\n",
       "                      Df Sum Sq Mean Sq\n",
       "tumor_cell_evaluation  1  1.215   1.215\n",
       "\n",
       "Error: t_number:tumor_cell_evaluation\n",
       "                      Df  Sum Sq Mean Sq\n",
       "tumor_cell_evaluation  1 0.04608 0.04608\n",
       "\n",
       "Error: Within\n",
       "                       Df Sum Sq Mean Sq F value Pr(>F)\n",
       "tumor_cell_evaluation   1  0.000 0.00048   0.006  0.936\n",
       "Residuals             108  8.027 0.07432               "
      ]
     },
     "metadata": {},
     "output_type": "display_data"
    }
   ],
   "source": [
    "nnaa.rmaov = aov(nnaa ~ tumor_cell_evaluation + Error(t_number/(tumor_cell_evaluation)), data=recgli)\n",
    "summary(nnaa.rmaov)"
   ]
  },
  {
   "cell_type": "code",
   "execution_count": 75,
   "metadata": {
    "collapsed": false
   },
   "outputs": [
    {
     "data": {
      "text/plain": [
       "\n",
       "Error: t_number\n",
       "                      Df Sum Sq Mean Sq\n",
       "tumor_cell_evaluation  1  2.328   2.328\n",
       "\n",
       "Error: t_number:tumor_cell_evaluation\n",
       "                      Df  Sum Sq Mean Sq\n",
       "tumor_cell_evaluation  1 0.09888 0.09888\n",
       "\n",
       "Error: Within\n",
       "                       Df Sum Sq Mean Sq F value Pr(>F)  \n",
       "tumor_cell_evaluation   1  0.865  0.8645   3.263 0.0736 .\n",
       "Residuals             108 28.614  0.2649                 \n",
       "---\n",
       "Signif. codes:  0 ‘***’ 0.001 ‘**’ 0.01 ‘*’ 0.05 ‘.’ 0.1 ‘ ’ 1"
      ]
     },
     "metadata": {},
     "output_type": "display_data"
    }
   ],
   "source": [
    "laclip.rmaov = aov(laclip ~ tumor_cell_evaluation + Error(t_number/(tumor_cell_evaluation)), data=recgli)\n",
    "summary(laclip.rmaov)"
   ]
  },
  {
   "cell_type": "code",
   "execution_count": null,
   "metadata": {
    "collapsed": true
   },
   "outputs": [],
   "source": []
  }
 ],
 "metadata": {
  "kernelspec": {
   "display_name": "R",
   "language": "R",
   "name": "ir"
  },
  "language_info": {
   "codemirror_mode": "r",
   "file_extension": ".r",
   "mimetype": "text/x-r-source",
   "name": "R",
   "pygments_lexer": "r",
   "version": "3.4.0"
  }
 },
 "nbformat": 4,
 "nbformat_minor": 2
}
