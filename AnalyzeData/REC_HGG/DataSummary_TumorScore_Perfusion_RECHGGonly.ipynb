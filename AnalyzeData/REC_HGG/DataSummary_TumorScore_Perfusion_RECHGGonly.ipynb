{
 "cells": [
  {
   "cell_type": "code",
   "execution_count": 1,
   "metadata": {
    "collapsed": true,
    "deletable": true,
    "editable": true
   },
   "outputs": [],
   "source": [
    "options(repr.matrix.max.rows=600, repr.matrix.max.cols=200)"
   ]
  },
  {
   "cell_type": "code",
   "execution_count": 2,
   "metadata": {
    "collapsed": true,
    "deletable": true,
    "editable": true
   },
   "outputs": [],
   "source": [
    "recgli = read.csv(\"../../ParseData/Parsing_REC_HGG_Oct2018/7thParse_researchPath_withInVivo.csv\") "
   ]
  },
  {
   "cell_type": "code",
   "execution_count": 3,
   "metadata": {
    "collapsed": false,
    "deletable": true,
    "editable": true
   },
   "outputs": [],
   "source": [
    "#recgli[order(recgli$current_hist_type, recgli$t_number, recgli$tumor_cell_evaluation),]"
   ]
  },
  {
   "cell_type": "code",
   "execution_count": 4,
   "metadata": {
    "collapsed": false,
    "deletable": true,
    "editable": true
   },
   "outputs": [
    {
     "data": {
      "text/html": [
       "<ol class=list-inline>\n",
       "\t<li>192</li>\n",
       "\t<li>71</li>\n",
       "</ol>\n"
      ],
      "text/latex": [
       "\\begin{enumerate*}\n",
       "\\item 192\n",
       "\\item 71\n",
       "\\end{enumerate*}\n"
      ],
      "text/markdown": [
       "1. 192\n",
       "2. 71\n",
       "\n",
       "\n"
      ],
      "text/plain": [
       "[1] 192  71"
      ]
     },
     "metadata": {},
     "output_type": "display_data"
    },
    {
     "name": "stderr",
     "output_type": "stream",
     "text": [
      "Warning message in eval(expr, envir, enclos):\n",
      "“NAs introduced by coercion”"
     ]
    },
    {
     "name": "stdout",
     "output_type": "stream",
     "text": [
      " num [1:192] 3 2 2 3 1 1 2 0 0 0 ...\n"
     ]
    }
   ],
   "source": [
    "recgli = recgli[recgli$tumor_cell_evaluation != \"Ind\",]\n",
    "recgli = recgli[!is.na(recgli$tumor_cell_evaluation),]\n",
    "dim(recgli)\n",
    "recgli = droplevels(recgli)\n",
    "recgli$tumor_cell_evaluation = as.character(recgli$tumor_cell_evaluation)\n",
    "recgli$tumor_cell_evaluation = as.numeric(recgli$tumor_cell_evaluation)\n",
    "str(recgli$tumor_cell_evaluation)"
   ]
  },
  {
   "cell_type": "code",
   "execution_count": 5,
   "metadata": {
    "collapsed": false,
    "deletable": true,
    "editable": true
   },
   "outputs": [
    {
     "data": {
      "text/html": [
       "<ol class=list-inline>\n",
       "\t<li>'b_number'</li>\n",
       "\t<li>'t_number'</li>\n",
       "\t<li>'sf_number'</li>\n",
       "\t<li>'current_scan_date'</li>\n",
       "\t<li>'current_surgery_date'</li>\n",
       "\t<li>'current_hist_grade'</li>\n",
       "\t<li>'current_hist_type'</li>\n",
       "\t<li>'roi.label'</li>\n",
       "\t<li>'tumor_cell_evaluation'</li>\n",
       "\t<li>'necrosis'</li>\n",
       "\t<li>'mv_hyperplasia'</li>\n",
       "\t<li>'f8_delicate'</li>\n",
       "\t<li>'f8_simple'</li>\n",
       "\t<li>'f8_complex'</li>\n",
       "\t<li>'mib_1'</li>\n",
       "\t<li>'avgerage_cells'</li>\n",
       "\t<li>'bx_pure_treatment_effect'</li>\n",
       "\t<li>'percent_tumor_nuclei'</li>\n",
       "\t<li>'nfse'</li>\n",
       "\t<li>'nfl'</li>\n",
       "\t<li>'nt1c'</li>\n",
       "\t<li>'nt1v'</li>\n",
       "\t<li>'nt1d'</li>\n",
       "\t<li>'nadc.1'</li>\n",
       "\t<li>'nfa.1'</li>\n",
       "\t<li>'nadc.2'</li>\n",
       "\t<li>'nfa.2'</li>\n",
       "\t<li>'phn_nlin'</li>\n",
       "\t<li>'cbvn_nlin'</li>\n",
       "\t<li>'recov_nlin'</li>\n",
       "\t<li>'phn_npar'</li>\n",
       "\t<li>'recov_npar'</li>\n",
       "\t<li>'recovn_npar'</li>\n",
       "\t<li>'cni'</li>\n",
       "\t<li>'ccri'</li>\n",
       "\t<li>'crni'</li>\n",
       "\t<li>'ncho'</li>\n",
       "\t<li>'ncre'</li>\n",
       "\t<li>'nnaa'</li>\n",
       "\t<li>'nlip'</li>\n",
       "\t<li>'nlac'</li>\n",
       "\t<li>'laclip'</li>\n",
       "\t<li>'comments'</li>\n",
       "\t<li>'notes.'</li>\n",
       "\t<li>'imaging_code'</li>\n",
       "\t<li>'perf_quant'</li>\n",
       "\t<li>'spec_quant'</li>\n",
       "\t<li>'include_anat'</li>\n",
       "\t<li>'include_diffu1000'</li>\n",
       "\t<li>'include_diffu2000'</li>\n",
       "\t<li>'include_diffu_all'</li>\n",
       "\t<li>'include_perf'</li>\n",
       "\t<li>'include_spec'</li>\n",
       "\t<li>'include_one_advanced_mod'</li>\n",
       "\t<li>'include_all_advanced_mods'</li>\n",
       "\t<li>'X.CEL'</li>\n",
       "\t<li>'X.NEL'</li>\n",
       "\t<li>'X.NEC'</li>\n",
       "\t<li>'sum'</li>\n",
       "\t<li>'in_CEL'</li>\n",
       "\t<li>'in_T2all'</li>\n",
       "\t<li>'in_NEL'</li>\n",
       "\t<li>'in_NEC'</li>\n",
       "\t<li>'in_ROI'</li>\n",
       "\t<li>'desired_hist'</li>\n",
       "\t<li>'multnom_out'</li>\n",
       "\t<li>'no_ffpe'</li>\n",
       "\t<li>'waiting_on_path'</li>\n",
       "\t<li>'rhgg_txe_analysis'</li>\n",
       "\t<li>'olddata'</li>\n",
       "\t<li>'newdata'</li>\n",
       "</ol>\n"
      ],
      "text/latex": [
       "\\begin{enumerate*}\n",
       "\\item 'b\\_number'\n",
       "\\item 't\\_number'\n",
       "\\item 'sf\\_number'\n",
       "\\item 'current\\_scan\\_date'\n",
       "\\item 'current\\_surgery\\_date'\n",
       "\\item 'current\\_hist\\_grade'\n",
       "\\item 'current\\_hist\\_type'\n",
       "\\item 'roi.label'\n",
       "\\item 'tumor\\_cell\\_evaluation'\n",
       "\\item 'necrosis'\n",
       "\\item 'mv\\_hyperplasia'\n",
       "\\item 'f8\\_delicate'\n",
       "\\item 'f8\\_simple'\n",
       "\\item 'f8\\_complex'\n",
       "\\item 'mib\\_1'\n",
       "\\item 'avgerage\\_cells'\n",
       "\\item 'bx\\_pure\\_treatment\\_effect'\n",
       "\\item 'percent\\_tumor\\_nuclei'\n",
       "\\item 'nfse'\n",
       "\\item 'nfl'\n",
       "\\item 'nt1c'\n",
       "\\item 'nt1v'\n",
       "\\item 'nt1d'\n",
       "\\item 'nadc.1'\n",
       "\\item 'nfa.1'\n",
       "\\item 'nadc.2'\n",
       "\\item 'nfa.2'\n",
       "\\item 'phn\\_nlin'\n",
       "\\item 'cbvn\\_nlin'\n",
       "\\item 'recov\\_nlin'\n",
       "\\item 'phn\\_npar'\n",
       "\\item 'recov\\_npar'\n",
       "\\item 'recovn\\_npar'\n",
       "\\item 'cni'\n",
       "\\item 'ccri'\n",
       "\\item 'crni'\n",
       "\\item 'ncho'\n",
       "\\item 'ncre'\n",
       "\\item 'nnaa'\n",
       "\\item 'nlip'\n",
       "\\item 'nlac'\n",
       "\\item 'laclip'\n",
       "\\item 'comments'\n",
       "\\item 'notes.'\n",
       "\\item 'imaging\\_code'\n",
       "\\item 'perf\\_quant'\n",
       "\\item 'spec\\_quant'\n",
       "\\item 'include\\_anat'\n",
       "\\item 'include\\_diffu1000'\n",
       "\\item 'include\\_diffu2000'\n",
       "\\item 'include\\_diffu\\_all'\n",
       "\\item 'include\\_perf'\n",
       "\\item 'include\\_spec'\n",
       "\\item 'include\\_one\\_advanced\\_mod'\n",
       "\\item 'include\\_all\\_advanced\\_mods'\n",
       "\\item 'X.CEL'\n",
       "\\item 'X.NEL'\n",
       "\\item 'X.NEC'\n",
       "\\item 'sum'\n",
       "\\item 'in\\_CEL'\n",
       "\\item 'in\\_T2all'\n",
       "\\item 'in\\_NEL'\n",
       "\\item 'in\\_NEC'\n",
       "\\item 'in\\_ROI'\n",
       "\\item 'desired\\_hist'\n",
       "\\item 'multnom\\_out'\n",
       "\\item 'no\\_ffpe'\n",
       "\\item 'waiting\\_on\\_path'\n",
       "\\item 'rhgg\\_txe\\_analysis'\n",
       "\\item 'olddata'\n",
       "\\item 'newdata'\n",
       "\\end{enumerate*}\n"
      ],
      "text/markdown": [
       "1. 'b_number'\n",
       "2. 't_number'\n",
       "3. 'sf_number'\n",
       "4. 'current_scan_date'\n",
       "5. 'current_surgery_date'\n",
       "6. 'current_hist_grade'\n",
       "7. 'current_hist_type'\n",
       "8. 'roi.label'\n",
       "9. 'tumor_cell_evaluation'\n",
       "10. 'necrosis'\n",
       "11. 'mv_hyperplasia'\n",
       "12. 'f8_delicate'\n",
       "13. 'f8_simple'\n",
       "14. 'f8_complex'\n",
       "15. 'mib_1'\n",
       "16. 'avgerage_cells'\n",
       "17. 'bx_pure_treatment_effect'\n",
       "18. 'percent_tumor_nuclei'\n",
       "19. 'nfse'\n",
       "20. 'nfl'\n",
       "21. 'nt1c'\n",
       "22. 'nt1v'\n",
       "23. 'nt1d'\n",
       "24. 'nadc.1'\n",
       "25. 'nfa.1'\n",
       "26. 'nadc.2'\n",
       "27. 'nfa.2'\n",
       "28. 'phn_nlin'\n",
       "29. 'cbvn_nlin'\n",
       "30. 'recov_nlin'\n",
       "31. 'phn_npar'\n",
       "32. 'recov_npar'\n",
       "33. 'recovn_npar'\n",
       "34. 'cni'\n",
       "35. 'ccri'\n",
       "36. 'crni'\n",
       "37. 'ncho'\n",
       "38. 'ncre'\n",
       "39. 'nnaa'\n",
       "40. 'nlip'\n",
       "41. 'nlac'\n",
       "42. 'laclip'\n",
       "43. 'comments'\n",
       "44. 'notes.'\n",
       "45. 'imaging_code'\n",
       "46. 'perf_quant'\n",
       "47. 'spec_quant'\n",
       "48. 'include_anat'\n",
       "49. 'include_diffu1000'\n",
       "50. 'include_diffu2000'\n",
       "51. 'include_diffu_all'\n",
       "52. 'include_perf'\n",
       "53. 'include_spec'\n",
       "54. 'include_one_advanced_mod'\n",
       "55. 'include_all_advanced_mods'\n",
       "56. 'X.CEL'\n",
       "57. 'X.NEL'\n",
       "58. 'X.NEC'\n",
       "59. 'sum'\n",
       "60. 'in_CEL'\n",
       "61. 'in_T2all'\n",
       "62. 'in_NEL'\n",
       "63. 'in_NEC'\n",
       "64. 'in_ROI'\n",
       "65. 'desired_hist'\n",
       "66. 'multnom_out'\n",
       "67. 'no_ffpe'\n",
       "68. 'waiting_on_path'\n",
       "69. 'rhgg_txe_analysis'\n",
       "70. 'olddata'\n",
       "71. 'newdata'\n",
       "\n",
       "\n"
      ],
      "text/plain": [
       " [1] \"b_number\"                  \"t_number\"                 \n",
       " [3] \"sf_number\"                 \"current_scan_date\"        \n",
       " [5] \"current_surgery_date\"      \"current_hist_grade\"       \n",
       " [7] \"current_hist_type\"         \"roi.label\"                \n",
       " [9] \"tumor_cell_evaluation\"     \"necrosis\"                 \n",
       "[11] \"mv_hyperplasia\"            \"f8_delicate\"              \n",
       "[13] \"f8_simple\"                 \"f8_complex\"               \n",
       "[15] \"mib_1\"                     \"avgerage_cells\"           \n",
       "[17] \"bx_pure_treatment_effect\"  \"percent_tumor_nuclei\"     \n",
       "[19] \"nfse\"                      \"nfl\"                      \n",
       "[21] \"nt1c\"                      \"nt1v\"                     \n",
       "[23] \"nt1d\"                      \"nadc.1\"                   \n",
       "[25] \"nfa.1\"                     \"nadc.2\"                   \n",
       "[27] \"nfa.2\"                     \"phn_nlin\"                 \n",
       "[29] \"cbvn_nlin\"                 \"recov_nlin\"               \n",
       "[31] \"phn_npar\"                  \"recov_npar\"               \n",
       "[33] \"recovn_npar\"               \"cni\"                      \n",
       "[35] \"ccri\"                      \"crni\"                     \n",
       "[37] \"ncho\"                      \"ncre\"                     \n",
       "[39] \"nnaa\"                      \"nlip\"                     \n",
       "[41] \"nlac\"                      \"laclip\"                   \n",
       "[43] \"comments\"                  \"notes.\"                   \n",
       "[45] \"imaging_code\"              \"perf_quant\"               \n",
       "[47] \"spec_quant\"                \"include_anat\"             \n",
       "[49] \"include_diffu1000\"         \"include_diffu2000\"        \n",
       "[51] \"include_diffu_all\"         \"include_perf\"             \n",
       "[53] \"include_spec\"              \"include_one_advanced_mod\" \n",
       "[55] \"include_all_advanced_mods\" \"X.CEL\"                    \n",
       "[57] \"X.NEL\"                     \"X.NEC\"                    \n",
       "[59] \"sum\"                       \"in_CEL\"                   \n",
       "[61] \"in_T2all\"                  \"in_NEL\"                   \n",
       "[63] \"in_NEC\"                    \"in_ROI\"                   \n",
       "[65] \"desired_hist\"              \"multnom_out\"              \n",
       "[67] \"no_ffpe\"                   \"waiting_on_path\"          \n",
       "[69] \"rhgg_txe_analysis\"         \"olddata\"                  \n",
       "[71] \"newdata\"                  "
      ]
     },
     "metadata": {},
     "output_type": "display_data"
    }
   ],
   "source": [
    "colnames(recgli)"
   ]
  },
  {
   "cell_type": "code",
   "execution_count": 6,
   "metadata": {
    "collapsed": false,
    "deletable": true,
    "editable": true
   },
   "outputs": [],
   "source": [
    "recgli = recgli[which(recgli$perf_quant!=\"all_zeros\"),]"
   ]
  },
  {
   "cell_type": "code",
   "execution_count": 44,
   "metadata": {
    "collapsed": false,
    "deletable": true,
    "editable": true
   },
   "outputs": [],
   "source": [
    "recgli = recgli[which(recgli$perf_quant!=\"extreme_value\"),]\n",
    "recgli = recgli[which(recgli$phn_nlin<20),]"
   ]
  },
  {
   "cell_type": "code",
   "execution_count": 45,
   "metadata": {
    "collapsed": false,
    "deletable": true,
    "editable": true
   },
   "outputs": [],
   "source": [
    "recgli = recgli[!is.na(recgli$phn_nlin),]"
   ]
  },
  {
   "cell_type": "code",
   "execution_count": 46,
   "metadata": {
    "collapsed": false,
    "deletable": true,
    "editable": true
   },
   "outputs": [
    {
     "data": {
      "text/html": [
       "<ol class=list-inline>\n",
       "\t<li>120</li>\n",
       "\t<li>71</li>\n",
       "</ol>\n"
      ],
      "text/latex": [
       "\\begin{enumerate*}\n",
       "\\item 120\n",
       "\\item 71\n",
       "\\end{enumerate*}\n"
      ],
      "text/markdown": [
       "1. 120\n",
       "2. 71\n",
       "\n",
       "\n"
      ],
      "text/plain": [
       "[1] 120  71"
      ]
     },
     "metadata": {},
     "output_type": "display_data"
    }
   ],
   "source": [
    "dim(recgli)"
   ]
  },
  {
   "cell_type": "code",
   "execution_count": 47,
   "metadata": {
    "collapsed": false,
    "deletable": true,
    "editable": true
   },
   "outputs": [
    {
     "data": {
      "text/html": [
       "<dl class=dl-horizontal>\n",
       "\t<dt>b_number</dt>\n",
       "\t\t<dd>0</dd>\n",
       "\t<dt>t_number</dt>\n",
       "\t\t<dd>0</dd>\n",
       "\t<dt>sf_number</dt>\n",
       "\t\t<dd>0</dd>\n",
       "\t<dt>current_scan_date</dt>\n",
       "\t\t<dd>0</dd>\n",
       "\t<dt>current_surgery_date</dt>\n",
       "\t\t<dd>0</dd>\n",
       "\t<dt>current_hist_grade</dt>\n",
       "\t\t<dd>0</dd>\n",
       "\t<dt>current_hist_type</dt>\n",
       "\t\t<dd>0</dd>\n",
       "\t<dt>roi.label</dt>\n",
       "\t\t<dd>0</dd>\n",
       "\t<dt>tumor_cell_evaluation</dt>\n",
       "\t\t<dd>4</dd>\n",
       "\t<dt>necrosis</dt>\n",
       "\t\t<dd>0</dd>\n",
       "\t<dt>mv_hyperplasia</dt>\n",
       "\t\t<dd>0</dd>\n",
       "\t<dt>f8_delicate</dt>\n",
       "\t\t<dd>0</dd>\n",
       "\t<dt>f8_simple</dt>\n",
       "\t\t<dd>0</dd>\n",
       "\t<dt>f8_complex</dt>\n",
       "\t\t<dd>0</dd>\n",
       "\t<dt>mib_1</dt>\n",
       "\t\t<dd>4</dd>\n",
       "\t<dt>avgerage_cells</dt>\n",
       "\t\t<dd>7</dd>\n",
       "\t<dt>bx_pure_treatment_effect</dt>\n",
       "\t\t<dd>0</dd>\n",
       "\t<dt>percent_tumor_nuclei</dt>\n",
       "\t\t<dd>6</dd>\n",
       "\t<dt>nfse</dt>\n",
       "\t\t<dd>0</dd>\n",
       "\t<dt>nfl</dt>\n",
       "\t\t<dd>0</dd>\n",
       "\t<dt>nt1c</dt>\n",
       "\t\t<dd>0</dd>\n",
       "\t<dt>nt1v</dt>\n",
       "\t\t<dd>12</dd>\n",
       "\t<dt>nt1d</dt>\n",
       "\t\t<dd>12</dd>\n",
       "\t<dt>nadc.1</dt>\n",
       "\t\t<dd>0</dd>\n",
       "\t<dt>nfa.1</dt>\n",
       "\t\t<dd>0</dd>\n",
       "\t<dt>nadc.2</dt>\n",
       "\t\t<dd>4</dd>\n",
       "\t<dt>nfa.2</dt>\n",
       "\t\t<dd>4</dd>\n",
       "\t<dt>phn_nlin</dt>\n",
       "\t\t<dd>0</dd>\n",
       "\t<dt>cbvn_nlin</dt>\n",
       "\t\t<dd>0</dd>\n",
       "\t<dt>recov_nlin</dt>\n",
       "\t\t<dd>0</dd>\n",
       "\t<dt>phn_npar</dt>\n",
       "\t\t<dd>0</dd>\n",
       "\t<dt>recov_npar</dt>\n",
       "\t\t<dd>0</dd>\n",
       "\t<dt>recovn_npar</dt>\n",
       "\t\t<dd>0</dd>\n",
       "\t<dt>cni</dt>\n",
       "\t\t<dd>39</dd>\n",
       "\t<dt>ccri</dt>\n",
       "\t\t<dd>39</dd>\n",
       "\t<dt>crni</dt>\n",
       "\t\t<dd>39</dd>\n",
       "\t<dt>ncho</dt>\n",
       "\t\t<dd>39</dd>\n",
       "\t<dt>ncre</dt>\n",
       "\t\t<dd>39</dd>\n",
       "\t<dt>nnaa</dt>\n",
       "\t\t<dd>39</dd>\n",
       "\t<dt>nlip</dt>\n",
       "\t\t<dd>39</dd>\n",
       "\t<dt>nlac</dt>\n",
       "\t\t<dd>39</dd>\n",
       "\t<dt>laclip</dt>\n",
       "\t\t<dd>39</dd>\n",
       "\t<dt>comments</dt>\n",
       "\t\t<dd>0</dd>\n",
       "\t<dt>notes.</dt>\n",
       "\t\t<dd>116</dd>\n",
       "\t<dt>imaging_code</dt>\n",
       "\t\t<dd>120</dd>\n",
       "\t<dt>perf_quant</dt>\n",
       "\t\t<dd>0</dd>\n",
       "\t<dt>spec_quant</dt>\n",
       "\t\t<dd>20</dd>\n",
       "\t<dt>include_anat</dt>\n",
       "\t\t<dd>0</dd>\n",
       "\t<dt>include_diffu1000</dt>\n",
       "\t\t<dd>0</dd>\n",
       "\t<dt>include_diffu2000</dt>\n",
       "\t\t<dd>0</dd>\n",
       "\t<dt>include_diffu_all</dt>\n",
       "\t\t<dd>0</dd>\n",
       "\t<dt>include_perf</dt>\n",
       "\t\t<dd>0</dd>\n",
       "\t<dt>include_spec</dt>\n",
       "\t\t<dd>0</dd>\n",
       "\t<dt>include_one_advanced_mod</dt>\n",
       "\t\t<dd>0</dd>\n",
       "\t<dt>include_all_advanced_mods</dt>\n",
       "\t\t<dd>0</dd>\n",
       "\t<dt>X.CEL</dt>\n",
       "\t\t<dd>15</dd>\n",
       "\t<dt>X.NEL</dt>\n",
       "\t\t<dd>7</dd>\n",
       "\t<dt>X.NEC</dt>\n",
       "\t\t<dd>108</dd>\n",
       "\t<dt>sum</dt>\n",
       "\t\t<dd>7</dd>\n",
       "\t<dt>in_CEL</dt>\n",
       "\t\t<dd>0</dd>\n",
       "\t<dt>in_T2all</dt>\n",
       "\t\t<dd>0</dd>\n",
       "\t<dt>in_NEL</dt>\n",
       "\t\t<dd>0</dd>\n",
       "\t<dt>in_NEC</dt>\n",
       "\t\t<dd>0</dd>\n",
       "\t<dt>in_ROI</dt>\n",
       "\t\t<dd>0</dd>\n",
       "\t<dt>desired_hist</dt>\n",
       "\t\t<dd>0</dd>\n",
       "\t<dt>multnom_out</dt>\n",
       "\t\t<dd>0</dd>\n",
       "\t<dt>no_ffpe</dt>\n",
       "\t\t<dd>0</dd>\n",
       "\t<dt>waiting_on_path</dt>\n",
       "\t\t<dd>0</dd>\n",
       "\t<dt>rhgg_txe_analysis</dt>\n",
       "\t\t<dd>0</dd>\n",
       "\t<dt>olddata</dt>\n",
       "\t\t<dd>0</dd>\n",
       "\t<dt>newdata</dt>\n",
       "\t\t<dd>0</dd>\n",
       "</dl>\n"
      ],
      "text/latex": [
       "\\begin{description*}\n",
       "\\item[b\\textbackslash{}\\_number] 0\n",
       "\\item[t\\textbackslash{}\\_number] 0\n",
       "\\item[sf\\textbackslash{}\\_number] 0\n",
       "\\item[current\\textbackslash{}\\_scan\\textbackslash{}\\_date] 0\n",
       "\\item[current\\textbackslash{}\\_surgery\\textbackslash{}\\_date] 0\n",
       "\\item[current\\textbackslash{}\\_hist\\textbackslash{}\\_grade] 0\n",
       "\\item[current\\textbackslash{}\\_hist\\textbackslash{}\\_type] 0\n",
       "\\item[roi.label] 0\n",
       "\\item[tumor\\textbackslash{}\\_cell\\textbackslash{}\\_evaluation] 4\n",
       "\\item[necrosis] 0\n",
       "\\item[mv\\textbackslash{}\\_hyperplasia] 0\n",
       "\\item[f8\\textbackslash{}\\_delicate] 0\n",
       "\\item[f8\\textbackslash{}\\_simple] 0\n",
       "\\item[f8\\textbackslash{}\\_complex] 0\n",
       "\\item[mib\\textbackslash{}\\_1] 4\n",
       "\\item[avgerage\\textbackslash{}\\_cells] 7\n",
       "\\item[bx\\textbackslash{}\\_pure\\textbackslash{}\\_treatment\\textbackslash{}\\_effect] 0\n",
       "\\item[percent\\textbackslash{}\\_tumor\\textbackslash{}\\_nuclei] 6\n",
       "\\item[nfse] 0\n",
       "\\item[nfl] 0\n",
       "\\item[nt1c] 0\n",
       "\\item[nt1v] 12\n",
       "\\item[nt1d] 12\n",
       "\\item[nadc.1] 0\n",
       "\\item[nfa.1] 0\n",
       "\\item[nadc.2] 4\n",
       "\\item[nfa.2] 4\n",
       "\\item[phn\\textbackslash{}\\_nlin] 0\n",
       "\\item[cbvn\\textbackslash{}\\_nlin] 0\n",
       "\\item[recov\\textbackslash{}\\_nlin] 0\n",
       "\\item[phn\\textbackslash{}\\_npar] 0\n",
       "\\item[recov\\textbackslash{}\\_npar] 0\n",
       "\\item[recovn\\textbackslash{}\\_npar] 0\n",
       "\\item[cni] 39\n",
       "\\item[ccri] 39\n",
       "\\item[crni] 39\n",
       "\\item[ncho] 39\n",
       "\\item[ncre] 39\n",
       "\\item[nnaa] 39\n",
       "\\item[nlip] 39\n",
       "\\item[nlac] 39\n",
       "\\item[laclip] 39\n",
       "\\item[comments] 0\n",
       "\\item[notes.] 116\n",
       "\\item[imaging\\textbackslash{}\\_code] 120\n",
       "\\item[perf\\textbackslash{}\\_quant] 0\n",
       "\\item[spec\\textbackslash{}\\_quant] 20\n",
       "\\item[include\\textbackslash{}\\_anat] 0\n",
       "\\item[include\\textbackslash{}\\_diffu1000] 0\n",
       "\\item[include\\textbackslash{}\\_diffu2000] 0\n",
       "\\item[include\\textbackslash{}\\_diffu\\textbackslash{}\\_all] 0\n",
       "\\item[include\\textbackslash{}\\_perf] 0\n",
       "\\item[include\\textbackslash{}\\_spec] 0\n",
       "\\item[include\\textbackslash{}\\_one\\textbackslash{}\\_advanced\\textbackslash{}\\_mod] 0\n",
       "\\item[include\\textbackslash{}\\_all\\textbackslash{}\\_advanced\\textbackslash{}\\_mods] 0\n",
       "\\item[X.CEL] 15\n",
       "\\item[X.NEL] 7\n",
       "\\item[X.NEC] 108\n",
       "\\item[sum] 7\n",
       "\\item[in\\textbackslash{}\\_CEL] 0\n",
       "\\item[in\\textbackslash{}\\_T2all] 0\n",
       "\\item[in\\textbackslash{}\\_NEL] 0\n",
       "\\item[in\\textbackslash{}\\_NEC] 0\n",
       "\\item[in\\textbackslash{}\\_ROI] 0\n",
       "\\item[desired\\textbackslash{}\\_hist] 0\n",
       "\\item[multnom\\textbackslash{}\\_out] 0\n",
       "\\item[no\\textbackslash{}\\_ffpe] 0\n",
       "\\item[waiting\\textbackslash{}\\_on\\textbackslash{}\\_path] 0\n",
       "\\item[rhgg\\textbackslash{}\\_txe\\textbackslash{}\\_analysis] 0\n",
       "\\item[olddata] 0\n",
       "\\item[newdata] 0\n",
       "\\end{description*}\n"
      ],
      "text/markdown": [
       "b_number\n",
       ":   0t_number\n",
       ":   0sf_number\n",
       ":   0current_scan_date\n",
       ":   0current_surgery_date\n",
       ":   0current_hist_grade\n",
       ":   0current_hist_type\n",
       ":   0roi.label\n",
       ":   0tumor_cell_evaluation\n",
       ":   4necrosis\n",
       ":   0mv_hyperplasia\n",
       ":   0f8_delicate\n",
       ":   0f8_simple\n",
       ":   0f8_complex\n",
       ":   0mib_1\n",
       ":   4avgerage_cells\n",
       ":   7bx_pure_treatment_effect\n",
       ":   0percent_tumor_nuclei\n",
       ":   6nfse\n",
       ":   0nfl\n",
       ":   0nt1c\n",
       ":   0nt1v\n",
       ":   12nt1d\n",
       ":   12nadc.1\n",
       ":   0nfa.1\n",
       ":   0nadc.2\n",
       ":   4nfa.2\n",
       ":   4phn_nlin\n",
       ":   0cbvn_nlin\n",
       ":   0recov_nlin\n",
       ":   0phn_npar\n",
       ":   0recov_npar\n",
       ":   0recovn_npar\n",
       ":   0cni\n",
       ":   39ccri\n",
       ":   39crni\n",
       ":   39ncho\n",
       ":   39ncre\n",
       ":   39nnaa\n",
       ":   39nlip\n",
       ":   39nlac\n",
       ":   39laclip\n",
       ":   39comments\n",
       ":   0notes.\n",
       ":   116imaging_code\n",
       ":   120perf_quant\n",
       ":   0spec_quant\n",
       ":   20include_anat\n",
       ":   0include_diffu1000\n",
       ":   0include_diffu2000\n",
       ":   0include_diffu_all\n",
       ":   0include_perf\n",
       ":   0include_spec\n",
       ":   0include_one_advanced_mod\n",
       ":   0include_all_advanced_mods\n",
       ":   0X.CEL\n",
       ":   15X.NEL\n",
       ":   7X.NEC\n",
       ":   108sum\n",
       ":   7in_CEL\n",
       ":   0in_T2all\n",
       ":   0in_NEL\n",
       ":   0in_NEC\n",
       ":   0in_ROI\n",
       ":   0desired_hist\n",
       ":   0multnom_out\n",
       ":   0no_ffpe\n",
       ":   0waiting_on_path\n",
       ":   0rhgg_txe_analysis\n",
       ":   0olddata\n",
       ":   0newdata\n",
       ":   0\n",
       "\n"
      ],
      "text/plain": [
       "                 b_number                  t_number                 sf_number \n",
       "                        0                         0                         0 \n",
       "        current_scan_date      current_surgery_date        current_hist_grade \n",
       "                        0                         0                         0 \n",
       "        current_hist_type                 roi.label     tumor_cell_evaluation \n",
       "                        0                         0                         4 \n",
       "                 necrosis            mv_hyperplasia               f8_delicate \n",
       "                        0                         0                         0 \n",
       "                f8_simple                f8_complex                     mib_1 \n",
       "                        0                         0                         4 \n",
       "           avgerage_cells  bx_pure_treatment_effect      percent_tumor_nuclei \n",
       "                        7                         0                         6 \n",
       "                     nfse                       nfl                      nt1c \n",
       "                        0                         0                         0 \n",
       "                     nt1v                      nt1d                    nadc.1 \n",
       "                       12                        12                         0 \n",
       "                    nfa.1                    nadc.2                     nfa.2 \n",
       "                        0                         4                         4 \n",
       "                 phn_nlin                 cbvn_nlin                recov_nlin \n",
       "                        0                         0                         0 \n",
       "                 phn_npar                recov_npar               recovn_npar \n",
       "                        0                         0                         0 \n",
       "                      cni                      ccri                      crni \n",
       "                       39                        39                        39 \n",
       "                     ncho                      ncre                      nnaa \n",
       "                       39                        39                        39 \n",
       "                     nlip                      nlac                    laclip \n",
       "                       39                        39                        39 \n",
       "                 comments                    notes.              imaging_code \n",
       "                        0                       116                       120 \n",
       "               perf_quant                spec_quant              include_anat \n",
       "                        0                        20                         0 \n",
       "        include_diffu1000         include_diffu2000         include_diffu_all \n",
       "                        0                         0                         0 \n",
       "             include_perf              include_spec  include_one_advanced_mod \n",
       "                        0                         0                         0 \n",
       "include_all_advanced_mods                     X.CEL                     X.NEL \n",
       "                        0                        15                         7 \n",
       "                    X.NEC                       sum                    in_CEL \n",
       "                      108                         7                         0 \n",
       "                 in_T2all                    in_NEL                    in_NEC \n",
       "                        0                         0                         0 \n",
       "                   in_ROI              desired_hist               multnom_out \n",
       "                        0                         0                         0 \n",
       "                  no_ffpe           waiting_on_path         rhgg_txe_analysis \n",
       "                        0                         0                         0 \n",
       "                  olddata                   newdata \n",
       "                        0                         0 "
      ]
     },
     "metadata": {},
     "output_type": "display_data"
    }
   ],
   "source": [
    "colSums(is.na(recgli))"
   ]
  },
  {
   "cell_type": "code",
   "execution_count": 48,
   "metadata": {
    "collapsed": true,
    "deletable": true,
    "editable": true
   },
   "outputs": [],
   "source": [
    "#recgli_new= recgli_new[!is.na(recgli_new$nev1.1), ]"
   ]
  },
  {
   "cell_type": "code",
   "execution_count": 49,
   "metadata": {
    "collapsed": false,
    "deletable": true,
    "editable": true
   },
   "outputs": [
    {
     "data": {
      "text/html": [
       "<ol class=list-inline>\n",
       "\t<li>120</li>\n",
       "\t<li>71</li>\n",
       "</ol>\n"
      ],
      "text/latex": [
       "\\begin{enumerate*}\n",
       "\\item 120\n",
       "\\item 71\n",
       "\\end{enumerate*}\n"
      ],
      "text/markdown": [
       "1. 120\n",
       "2. 71\n",
       "\n",
       "\n"
      ],
      "text/plain": [
       "[1] 120  71"
      ]
     },
     "metadata": {},
     "output_type": "display_data"
    }
   ],
   "source": [
    "dim(recgli)"
   ]
  },
  {
   "cell_type": "code",
   "execution_count": 50,
   "metadata": {
    "collapsed": false,
    "deletable": true,
    "editable": true
   },
   "outputs": [
    {
     "data": {
      "text/plain": [
       "\n",
       "FALSE  TRUE \n",
       "   74    46 "
      ]
     },
     "metadata": {},
     "output_type": "display_data"
    }
   ],
   "source": [
    "table(!duplicated(recgli$t_number))"
   ]
  },
  {
   "cell_type": "code",
   "execution_count": null,
   "metadata": {
    "collapsed": true,
    "deletable": true,
    "editable": true
   },
   "outputs": [],
   "source": []
  },
  {
   "cell_type": "markdown",
   "metadata": {
    "deletable": true,
    "editable": true
   },
   "source": [
    "# There are 120 samples with 46 patients"
   ]
  },
  {
   "cell_type": "markdown",
   "metadata": {
    "deletable": true,
    "editable": true
   },
   "source": [
    "# Visualization: "
   ]
  },
  {
   "cell_type": "code",
   "execution_count": 14,
   "metadata": {
    "collapsed": false,
    "deletable": true,
    "editable": true
   },
   "outputs": [
    {
     "data": {
      "image/png": "[encoded data removed]",
      "text/plain": [
       "Plot with title “recov_npar vs. ts”"
      ]
     },
     "metadata": {},
     "output_type": "display_data"
    }
   ],
   "source": [
    "par(mfrow = c(2, 2))\n",
    "a = boxplot(phn_nlin ~ tumor_cell_evaluation , data = recgli, ylab = \"normalized phn_nlin\", xlab = \"tumorscore\", main = 'phn_nlin vs. ts')\n",
    "\n",
    "b = boxplot(phn_npar ~ tumor_cell_evaluation , data = recgli, ylab = \"normalized phn_npar\", xlab = \"tumorscore\", main = 'phn_npar vs. ts')\n",
    "\n",
    "c = boxplot(cbvn_nlin ~ tumor_cell_evaluation , data = recgli, ylab = \"normalized cbvn_nlin\", xlab = \"tumorscore\", main = 'cbvn_nlin vs. ts')\n",
    "\n",
    "d = boxplot(recovn_npar ~ tumor_cell_evaluation , data = recgli, ylab = \"normalized recov_npar\", xlab = \"tumorscore\", main = 'recov_npar vs. ts')\n",
    "\n"
   ]
  },
  {
   "cell_type": "code",
   "execution_count": 15,
   "metadata": {
    "collapsed": false,
    "deletable": true,
    "editable": true
   },
   "outputs": [
    {
     "data": {
      "image/png": "[encoded data removed]",
      "text/plain": [
       "Plot with title “phn_nlin for ts = 3”"
      ]
     },
     "metadata": {},
     "output_type": "display_data"
    }
   ],
   "source": [
    "par(mfrow = c(2, 2))\n",
    "a = hist(recgli[which(recgli$tumor_cell_evaluation==0),]$phn_nlin, \n",
    "         ylab = \"counts\", xlab = \"phn_nlin\", \n",
    "         main = 'phn_nlin for ts = 0', xlim=c(0,8), breaks = c(seq(0, 8, by = .25)), ylim = c(0,12))\n",
    "a = hist(recgli[which(recgli$tumor_cell_evaluation==1),]$phn_nlin, \n",
    "         ylab = \"counts\", xlab = \"phn_nlin\", \n",
    "         main = 'phn_nlin for ts = 1', xlim = c(0,8), breaks = c(seq(0, 8, by = .25)), ylim = c(0,12))\n",
    "a = hist(recgli[which(recgli$tumor_cell_evaluation==2),]$phn_nlin, \n",
    "         ylab = \"counts\", xlab = \"phn_nlin\", \n",
    "         main = 'phn_nlin for ts = 2', xlim = c(0,8), breaks = c(seq(0, 8, by = .25)), ylim = c(0,12))\n",
    "a = hist(recgli[which(recgli$tumor_cell_evaluation==3),]$phn_nlin, \n",
    "         ylab = \"counts\", xlab = \"phn_nlin\", \n",
    "         main = 'phn_nlin for ts = 3', xlim = c(0,8), breaks = c(seq(0, 8, by = .25)), ylim = c(0,12))"
   ]
  },
  {
   "cell_type": "code",
   "execution_count": 16,
   "metadata": {
    "collapsed": false,
    "deletable": true,
    "editable": true
   },
   "outputs": [
    {
     "data": {
      "image/png": "[encoded data removed]",
      "text/plain": [
       "Plot with title “distribution of phn_nlin\n",
       " in TS”"
      ]
     },
     "metadata": {},
     "output_type": "display_data"
    }
   ],
   "source": [
    "par(mfrow=c(1,1))\n",
    "\n",
    "hist(recgli[which(recgli$tumor_cell_evaluation==0 ),]$phn_nlin, breaks=seq(from = 0, to = 8, by = .25), ylim = c(0, 25),  xlim=c(0,8), col=rgb(1,0,0,0.2), xlab=\"phn_nlin value\", \n",
    "     ylab=\"\", main=\"distribution of phn_nlin\\n in TS\")\n",
    "hist(recgli[which(recgli$tumor_cell_evaluation==1 ),]$phn_nlin, breaks=seq(from = 0, to = 8, by = .25), ylim = c(0, 25),  xlim=c(0,8), col=rgb(0,1,0,0.2), add=T)\n",
    "hist(recgli[which(recgli$tumor_cell_evaluation==2 ),]$phn_nlin, breaks=seq(from = 0, to = 8, by = .25), ylim = c(0, 25),  xlim=c(0,8), col=rgb(0,0,1,0.2), add=T)\n",
    "hist(recgli[which(recgli$tumor_cell_evaluation==3 ),]$phn_nlin, breaks=seq(from = 0, to = 8, by = .25), ylim = c(0, 25),  xlim=c(0,8), col=rgb(0,1,1,0.2), add=T)\n",
    "legend(\"topright\", legend=c(\"0\",\"1\", \"2\", \"3\"), col=c(rgb(1,0,0,0.2), \n",
    "     rgb(0,1,0,0.5), rgb(0,0,1,0.5), rgb(0,1,1,0.5)), pt.cex=2, pch=15, cex = .7 )"
   ]
  },
  {
   "cell_type": "code",
   "execution_count": 17,
   "metadata": {
    "collapsed": false,
    "deletable": true,
    "editable": true
   },
   "outputs": [
    {
     "data": {
      "text/html": [
       "<ol class=list-inline>\n",
       "\t<li>0.29</li>\n",
       "\t<li>8.56</li>\n",
       "</ol>\n"
      ],
      "text/latex": [
       "\\begin{enumerate*}\n",
       "\\item 0.29\n",
       "\\item 8.56\n",
       "\\end{enumerate*}\n"
      ],
      "text/markdown": [
       "1. 0.29\n",
       "2. 8.56\n",
       "\n",
       "\n"
      ],
      "text/plain": [
       "[1] 0.29 8.56"
      ]
     },
     "metadata": {},
     "output_type": "display_data"
    }
   ],
   "source": [
    "range(recgli$phn_npar)"
   ]
  },
  {
   "cell_type": "code",
   "execution_count": 18,
   "metadata": {
    "collapsed": false,
    "deletable": true,
    "editable": true
   },
   "outputs": [
    {
     "data": {
      "image/png": "[encoded data removed]",
      "text/plain": [
       "Plot with title “phn_npar for ts = 3”"
      ]
     },
     "metadata": {},
     "output_type": "display_data"
    }
   ],
   "source": [
    "par(mfrow = c(2, 2))\n",
    "a = hist(recgli[which(recgli$tumor_cell_evaluation==0),]$phn_npar, \n",
    "         ylab = \"counts\", xlab = \"phn_npar\", \n",
    "         main = 'phn_npar for ts = 0', xlim=c(0,8), breaks = c(seq(0, 9, by = .25)), ylim = c(0,12))\n",
    "a = hist(recgli[which(recgli$tumor_cell_evaluation==1),]$phn_npar, \n",
    "         ylab = \"counts\", xlab = \"phn_npar\", \n",
    "         main = 'phn_npar for ts = 1', xlim = c(0,8), breaks = c(seq(0, 9, by = .25)), ylim = c(0,12))\n",
    "a = hist(recgli[which(recgli$tumor_cell_evaluation==2),]$phn_npar, \n",
    "         ylab = \"counts\", xlab = \"phn_npar\", \n",
    "         main = 'phn_npar for ts = 2', xlim = c(0,8), breaks = c(seq(0, 9, by = .25)), ylim = c(0,12))\n",
    "a = hist(recgli[which(recgli$tumor_cell_evaluation==3),]$phn_npar, \n",
    "         ylab = \"counts\", xlab = \"phn_npar\", \n",
    "         main = 'phn_npar for ts = 3', xlim = c(0,8), breaks = c(seq(0, 9, by = .25)), ylim = c(0,12))"
   ]
  },
  {
   "cell_type": "code",
   "execution_count": 19,
   "metadata": {
    "collapsed": false,
    "deletable": true,
    "editable": true
   },
   "outputs": [
    {
     "data": {
      "image/png": "[encoded data removed]",
      "text/plain": [
       "Plot with title “distribution of phn_npar\n",
       " in TS”"
      ]
     },
     "metadata": {},
     "output_type": "display_data"
    }
   ],
   "source": [
    "par(mfrow=c(1,1))\n",
    "\n",
    "hist(recgli[which(recgli$tumor_cell_evaluation==0 ),]$phn_npar, breaks=seq(from = 0, to = 9, by = .125), ylim = c(0, 30),  xlim=c(0,9), col=rgb(1,0,0,0.2), xlab=\"phn_npar value\", \n",
    "     ylab=\"\", main=\"distribution of phn_npar\\n in TS\")\n",
    "hist(recgli[which(recgli$tumor_cell_evaluation==1 ),]$phn_npar, breaks=seq(from = 0, to = 9, by = .125), ylim = c(0, 30),  xlim=c(0,9), col=rgb(0,1,0,0.2), add=T)\n",
    "hist(recgli[which(recgli$tumor_cell_evaluation==2 ),]$phn_npar, breaks=seq(from = 0, to = 9, by = .125), ylim = c(0, 30),  xlim=c(0,9), col=rgb(0,0,1,0.2), add=T)\n",
    "hist(recgli[which(recgli$tumor_cell_evaluation==3 ),]$phn_npar, breaks=seq(from = 0, to = 9, by = .125), ylim = c(0, 30),  xlim=c(0,9), col=rgb(0,1,1,0.2), add=T)\n",
    "legend(\"topright\", legend=c(\"0\",\"1\", \"2\", \"3\"), col=c(rgb(1,0,0,0.2), \n",
    "     rgb(0,1,0,0.5), rgb(0,0,1,0.5), rgb(0,1,1,0.5)), pt.cex=2, pch=15, cex = .7 )"
   ]
  },
  {
   "cell_type": "code",
   "execution_count": 20,
   "metadata": {
    "collapsed": false,
    "deletable": true,
    "editable": true
   },
   "outputs": [
    {
     "data": {
      "text/html": [
       "<ol class=list-inline>\n",
       "\t<li>0</li>\n",
       "\t<li>5.72</li>\n",
       "</ol>\n"
      ],
      "text/latex": [
       "\\begin{enumerate*}\n",
       "\\item 0\n",
       "\\item 5.72\n",
       "\\end{enumerate*}\n"
      ],
      "text/markdown": [
       "1. 0\n",
       "2. 5.72\n",
       "\n",
       "\n"
      ],
      "text/plain": [
       "[1] 0.00 5.72"
      ]
     },
     "metadata": {},
     "output_type": "display_data"
    }
   ],
   "source": [
    "range(recgli$cbvn_nlin)"
   ]
  },
  {
   "cell_type": "code",
   "execution_count": 21,
   "metadata": {
    "collapsed": false,
    "deletable": true,
    "editable": true
   },
   "outputs": [
    {
     "data": {
      "image/png": "[encoded data removed]",
      "text/plain": [
       "Plot with title “cbvn_nlin for ts = 3”"
      ]
     },
     "metadata": {},
     "output_type": "display_data"
    }
   ],
   "source": [
    "par(mfrow = c(2, 2))\n",
    "a = hist(recgli[which(recgli$tumor_cell_evaluation==0),]$cbvn_nlin, \n",
    "         ylab = \"counts\", xlab = \"cbvn_nlin\", \n",
    "         main = 'cbvn_nlin for ts = 0', xlim=c(0,6), breaks = c(seq(0, 6, by = .25)))\n",
    "a = hist(recgli[which(recgli$tumor_cell_evaluation==1),]$cbvn_nlin, \n",
    "         ylab = \"counts\", xlab = \"cbvn_nlin\", \n",
    "         main = 'cbvn_nlin for ts = 1', xlim = c(0,6), breaks = c(seq(0, 6, by = .25)))\n",
    "a = hist(recgli[which(recgli$tumor_cell_evaluation==2),]$cbvn_nlin, \n",
    "         ylab = \"counts\", xlab = \"cbvn_nlin\", \n",
    "         main = 'cbvn_nlin for ts = 2', xlim = c(0,6), breaks = c(seq(0, 6, by = .25)))\n",
    "a = hist(recgli[which(recgli$tumor_cell_evaluation==3),]$cbvn_nlin, \n",
    "         ylab = \"counts \", xlab = \"cbvn_nlin\", \n",
    "         main = 'cbvn_nlin for ts = 3', xlim = c(0,6), breaks = c(seq(0, 6, by = .25)))"
   ]
  },
  {
   "cell_type": "code",
   "execution_count": 22,
   "metadata": {
    "collapsed": false,
    "deletable": true,
    "editable": true
   },
   "outputs": [
    {
     "data": {
      "image/png": "[encoded data removed]",
      "text/plain": [
       "Plot with title “distribution of cbvn_nlin\n",
       " in TS”"
      ]
     },
     "metadata": {},
     "output_type": "display_data"
    }
   ],
   "source": [
    "par(mfrow=c(1,1))\n",
    "\n",
    "hist(recgli[which(recgli$tumor_cell_evaluation==0 ),]$cbvn_nlin, breaks=seq(from = 0, to = 6, by = .25), ylim = c(0, 30),  xlim=c(0,6), col=rgb(1,0,0,0.2), xlab=\"nt1c value\", \n",
    "     ylab=\"\", main=\"distribution of cbvn_nlin\\n in TS\")\n",
    "hist(recgli[which(recgli$tumor_cell_evaluation==1 ),]$cbvn_nlin, breaks=seq(from = 0, to = 6, by = .25), ylim = c(0, 30),  xlim=c(0,6), col=rgb(0,1,0,0.2), add=T)\n",
    "hist(recgli[which(recgli$tumor_cell_evaluation==2 ),]$cbvn_nlin, breaks=seq(from = 0, to = 6, by = .25), ylim = c(0, 30),  xlim=c(0,6), col=rgb(0,0,1,0.2), add=T)\n",
    "hist(recgli[which(recgli$tumor_cell_evaluation==3 ),]$cbvn_nlin, breaks=seq(from = 0, to = 6, by = .25), ylim = c(0, 30),  xlim=c(0,6), col=rgb(0,1,1,0.2), add=T)\n",
    "legend(\"topright\", legend=c(\"0\",\"1\", \"2\", \"3\"), col=c(rgb(1,0,0,0.2), \n",
    "     rgb(0,1,0,0.5), rgb(0,0,1,0.5), rgb(0,1,1,0.5)), pt.cex=2, pch=15, cex = .7 )"
   ]
  },
  {
   "cell_type": "code",
   "execution_count": 23,
   "metadata": {
    "collapsed": false,
    "deletable": true,
    "editable": true
   },
   "outputs": [
    {
     "data": {
      "text/html": [
       "<ol class=list-inline>\n",
       "\t<li>59.81</li>\n",
       "\t<li>100</li>\n",
       "</ol>\n"
      ],
      "text/latex": [
       "\\begin{enumerate*}\n",
       "\\item 59.81\n",
       "\\item 100\n",
       "\\end{enumerate*}\n"
      ],
      "text/markdown": [
       "1. 59.81\n",
       "2. 100\n",
       "\n",
       "\n"
      ],
      "text/plain": [
       "[1]  59.81 100.00"
      ]
     },
     "metadata": {},
     "output_type": "display_data"
    }
   ],
   "source": [
    "range(recgli$recov_npar)"
   ]
  },
  {
   "cell_type": "code",
   "execution_count": 24,
   "metadata": {
    "collapsed": false,
    "deletable": true,
    "editable": true
   },
   "outputs": [
    {
     "data": {
      "image/png": "[encoded data removed]",
      "text/plain": [
       "Plot with title “recov_npar for ts = 3”"
      ]
     },
     "metadata": {},
     "output_type": "display_data"
    }
   ],
   "source": [
    "par(mfrow = c(2, 2))\n",
    "a = hist(recgli[which(recgli$tumor_cell_evaluation==0),]$recov_npar, \n",
    "         ylab = \"counts\", xlab = \"recov_npar\", \n",
    "         main = 'recov_npar for ts = 0', xlim= c(50,100), breaks = c(seq(50, 100, by = 5)))\n",
    "a = hist(recgli[which(recgli$tumor_cell_evaluation==1),]$recov_npar, \n",
    "         ylab = \"counts\", xlab = \"recov_npar\", \n",
    "         main = 'recov_npar for ts = 1', xlim = c(50,100), breaks = c(seq(50, 100, by = 5)))\n",
    "a = hist(recgli[which(recgli$tumor_cell_evaluation==2),]$recov_npar, \n",
    "         ylab = \"counts\", xlab = \"recov_npar\", \n",
    "         main = 'recov_npar for ts = 2', xlim = c(50,100), breaks = c(seq(50, 100, by = 5)))\n",
    "a = hist(recgli[which(recgli$tumor_cell_evaluation==3),]$recov_npar, \n",
    "         ylab = \"counts\", xlab = \"recov_npar\", \n",
    "         main = 'recov_npar for ts = 3', xlim = c(50,100), breaks = c(seq(50, 100, by = 5)))"
   ]
  },
  {
   "cell_type": "markdown",
   "metadata": {
    "deletable": true,
    "editable": true
   },
   "source": [
    "# Statistics: "
   ]
  },
  {
   "cell_type": "markdown",
   "metadata": {
    "deletable": true,
    "editable": true
   },
   "source": [
    " Use GLMM associate anatomical parameters with TS, no separation "
   ]
  },
  {
   "cell_type": "code",
   "execution_count": 25,
   "metadata": {
    "collapsed": false,
    "deletable": true,
    "editable": true
   },
   "outputs": [
    {
     "name": "stderr",
     "output_type": "stream",
     "text": [
      "Loading required package: Formula\n",
      "Loading required package: maxLik\n",
      "Loading required package: miscTools\n",
      "\n",
      "Please cite the 'maxLik' package as:\n",
      "Henningsen, Arne and Toomet, Ott (2011). maxLik: A package for maximum likelihood estimation in R. Computational Statistics 26(3), 443-458. DOI 10.1007/s00180-010-0217-1.\n",
      "\n",
      "If you have questions, suggestions, or comments regarding the 'maxLik' package, please use a forum or 'tracker' at maxLik's R-Forge site:\n",
      "https://r-forge.r-project.org/projects/maxlik/\n"
     ]
    }
   ],
   "source": [
    "library(mlogit)"
   ]
  },
  {
   "cell_type": "code",
   "execution_count": 26,
   "metadata": {
    "collapsed": true,
    "deletable": true,
    "editable": true
   },
   "outputs": [],
   "source": [
    "data_mlog <-mlogit.data(recgli,  id.var =\"t_number\", shape=\"wide\", \n",
    "                        sep=\"\", varying=NULL, \n",
    "                       choice = \"tumor_cell_evaluation\")"
   ]
  },
  {
   "cell_type": "code",
   "execution_count": 27,
   "metadata": {
    "collapsed": false,
    "deletable": true,
    "editable": true
   },
   "outputs": [
    {
     "data": {
      "text/html": [
       "<table>\n",
       "<thead><tr><th></th><th scope=col>Estimate</th><th scope=col>Std. Error</th><th scope=col>z-value</th><th scope=col>Pr(&gt;|z|)</th></tr></thead>\n",
       "<tbody>\n",
       "\t<tr><th scope=row>1:(intercept)</th><td>-0.398982307</td><td>0.7337333   </td><td>-0.54377018 </td><td>0.58659964  </td></tr>\n",
       "\t<tr><th scope=row>2:(intercept)</th><td> 1.237122194</td><td>0.6787677   </td><td> 1.82260033 </td><td>0.06836395  </td></tr>\n",
       "\t<tr><th scope=row>3:(intercept)</th><td> 0.592633126</td><td>0.6656627   </td><td> 0.89029046 </td><td>0.37330994  </td></tr>\n",
       "\t<tr><th scope=row>1:phn_nlin</th><td> 0.660012011</td><td>0.5546887   </td><td> 1.18987827 </td><td>0.23409424  </td></tr>\n",
       "\t<tr><th scope=row>2:phn_nlin</th><td>-0.008002118</td><td>0.5617211   </td><td>-0.01424571 </td><td>0.98863395  </td></tr>\n",
       "\t<tr><th scope=row>3:phn_nlin</th><td> 0.607524382</td><td>0.5290891   </td><td> 1.14824581 </td><td>0.25086710  </td></tr>\n",
       "</tbody>\n",
       "</table>\n"
      ],
      "text/latex": [
       "\\begin{tabular}{r|llll}\n",
       "  & Estimate & Std. Error & z-value & Pr(>\\textbar{}z\\textbar{})\\\\\n",
       "\\hline\n",
       "\t1:(intercept) & -0.398982307 & 0.7337333    & -0.54377018  & 0.58659964  \\\\\n",
       "\t2:(intercept) &  1.237122194 & 0.6787677    &  1.82260033  & 0.06836395  \\\\\n",
       "\t3:(intercept) &  0.592633126 & 0.6656627    &  0.89029046  & 0.37330994  \\\\\n",
       "\t1:phn\\_nlin &  0.660012011 & 0.5546887    &  1.18987827  & 0.23409424  \\\\\n",
       "\t2:phn\\_nlin & -0.008002118 & 0.5617211    & -0.01424571  & 0.98863395  \\\\\n",
       "\t3:phn\\_nlin &  0.607524382 & 0.5290891    &  1.14824581  & 0.25086710  \\\\\n",
       "\\end{tabular}\n"
      ],
      "text/markdown": [
       "\n",
       "| <!--/--> | Estimate | Std. Error | z-value | Pr(>|z|) | \n",
       "|---|---|---|---|---|---|\n",
       "| 1:(intercept) | -0.398982307 | 0.7337333    | -0.54377018  | 0.58659964   | \n",
       "| 2:(intercept) |  1.237122194 | 0.6787677    |  1.82260033  | 0.06836395   | \n",
       "| 3:(intercept) |  0.592633126 | 0.6656627    |  0.89029046  | 0.37330994   | \n",
       "| 1:phn_nlin |  0.660012011 | 0.5546887    |  1.18987827  | 0.23409424   | \n",
       "| 2:phn_nlin | -0.008002118 | 0.5617211    | -0.01424571  | 0.98863395   | \n",
       "| 3:phn_nlin |  0.607524382 | 0.5290891    |  1.14824581  | 0.25086710   | \n",
       "\n",
       "\n"
      ],
      "text/plain": [
       "              Estimate     Std. Error z-value     Pr(>|z|)  \n",
       "1:(intercept) -0.398982307 0.7337333  -0.54377018 0.58659964\n",
       "2:(intercept)  1.237122194 0.6787677   1.82260033 0.06836395\n",
       "3:(intercept)  0.592633126 0.6656627   0.89029046 0.37330994\n",
       "1:phn_nlin     0.660012011 0.5546887   1.18987827 0.23409424\n",
       "2:phn_nlin    -0.008002118 0.5617211  -0.01424571 0.98863395\n",
       "3:phn_nlin     0.607524382 0.5290891   1.14824581 0.25086710"
      ]
     },
     "metadata": {},
     "output_type": "display_data"
    }
   ],
   "source": [
    "mlogit_phn_nlin <- mlogit(tumor_cell_evaluation ~1 | phn_nlin, data=data_mlog)\n",
    "summary(mlogit_phn_nlin)$CoefTable"
   ]
  },
  {
   "cell_type": "code",
   "execution_count": 28,
   "metadata": {
    "collapsed": false,
    "deletable": true,
    "editable": true
   },
   "outputs": [
    {
     "data": {
      "text/html": [
       "<table>\n",
       "<thead><tr><th></th><th scope=col>Estimate</th><th scope=col>Std. Error</th><th scope=col>z-value</th><th scope=col>Pr(&gt;|z|)</th></tr></thead>\n",
       "<tbody>\n",
       "\t<tr><th scope=row>1:(intercept)</th><td>-0.49580336</td><td>0.7567859  </td><td>-0.65514346</td><td>0.51237539 </td></tr>\n",
       "\t<tr><th scope=row>2:(intercept)</th><td> 1.19409378</td><td>0.7118098  </td><td> 1.67754613</td><td>0.09343574 </td></tr>\n",
       "\t<tr><th scope=row>3:(intercept)</th><td> 0.63168820</td><td>0.6961141  </td><td> 0.90744918</td><td>0.36416931 </td></tr>\n",
       "\t<tr><th scope=row>1:phn_npar</th><td> 0.73850137</td><td>0.5867466  </td><td> 1.25863768</td><td>0.20816123 </td></tr>\n",
       "\t<tr><th scope=row>2:phn_npar</th><td> 0.03273636</td><td>0.5998166  </td><td> 0.05457728</td><td>0.95647524 </td></tr>\n",
       "\t<tr><th scope=row>3:phn_npar</th><td> 0.59113415</td><td>0.5683291  </td><td> 1.04012642</td><td>0.29828117 </td></tr>\n",
       "</tbody>\n",
       "</table>\n"
      ],
      "text/latex": [
       "\\begin{tabular}{r|llll}\n",
       "  & Estimate & Std. Error & z-value & Pr(>\\textbar{}z\\textbar{})\\\\\n",
       "\\hline\n",
       "\t1:(intercept) & -0.49580336 & 0.7567859   & -0.65514346 & 0.51237539 \\\\\n",
       "\t2:(intercept) &  1.19409378 & 0.7118098   &  1.67754613 & 0.09343574 \\\\\n",
       "\t3:(intercept) &  0.63168820 & 0.6961141   &  0.90744918 & 0.36416931 \\\\\n",
       "\t1:phn\\_npar &  0.73850137 & 0.5867466   &  1.25863768 & 0.20816123 \\\\\n",
       "\t2:phn\\_npar &  0.03273636 & 0.5998166   &  0.05457728 & 0.95647524 \\\\\n",
       "\t3:phn\\_npar &  0.59113415 & 0.5683291   &  1.04012642 & 0.29828117 \\\\\n",
       "\\end{tabular}\n"
      ],
      "text/markdown": [
       "\n",
       "| <!--/--> | Estimate | Std. Error | z-value | Pr(>|z|) | \n",
       "|---|---|---|---|---|---|\n",
       "| 1:(intercept) | -0.49580336 | 0.7567859   | -0.65514346 | 0.51237539  | \n",
       "| 2:(intercept) |  1.19409378 | 0.7118098   |  1.67754613 | 0.09343574  | \n",
       "| 3:(intercept) |  0.63168820 | 0.6961141   |  0.90744918 | 0.36416931  | \n",
       "| 1:phn_npar |  0.73850137 | 0.5867466   |  1.25863768 | 0.20816123  | \n",
       "| 2:phn_npar |  0.03273636 | 0.5998166   |  0.05457728 | 0.95647524  | \n",
       "| 3:phn_npar |  0.59113415 | 0.5683291   |  1.04012642 | 0.29828117  | \n",
       "\n",
       "\n"
      ],
      "text/plain": [
       "              Estimate    Std. Error z-value     Pr(>|z|)  \n",
       "1:(intercept) -0.49580336 0.7567859  -0.65514346 0.51237539\n",
       "2:(intercept)  1.19409378 0.7118098   1.67754613 0.09343574\n",
       "3:(intercept)  0.63168820 0.6961141   0.90744918 0.36416931\n",
       "1:phn_npar     0.73850137 0.5867466   1.25863768 0.20816123\n",
       "2:phn_npar     0.03273636 0.5998166   0.05457728 0.95647524\n",
       "3:phn_npar     0.59113415 0.5683291   1.04012642 0.29828117"
      ]
     },
     "metadata": {},
     "output_type": "display_data"
    }
   ],
   "source": [
    "## univariate analysis: \n",
    "mlogit_phn_npar <- mlogit(tumor_cell_evaluation ~1 | phn_npar, data=data_mlog)\n",
    "summary(mlogit_phn_npar)$CoefTable"
   ]
  },
  {
   "cell_type": "code",
   "execution_count": 29,
   "metadata": {
    "collapsed": false,
    "deletable": true,
    "editable": true
   },
   "outputs": [
    {
     "data": {
      "text/html": [
       "<table>\n",
       "<thead><tr><th></th><th scope=col>Estimate</th><th scope=col>Std. Error</th><th scope=col>z-value</th><th scope=col>Pr(&gt;|z|)</th></tr></thead>\n",
       "<tbody>\n",
       "\t<tr><th scope=row>1:(intercept)</th><td>-0.47152535</td><td>0.7293127  </td><td>-0.6465338 </td><td>0.51793368 </td></tr>\n",
       "\t<tr><th scope=row>2:(intercept)</th><td> 0.97352043</td><td>0.6534131  </td><td> 1.4899004 </td><td>0.13625042 </td></tr>\n",
       "\t<tr><th scope=row>3:(intercept)</th><td> 0.09941611</td><td>0.6602101  </td><td> 0.1505825 </td><td>0.88030504 </td></tr>\n",
       "\t<tr><th scope=row>1:cbvn_nlin</th><td> 0.73495007</td><td>0.5597254  </td><td> 1.3130546 </td><td>0.18916455 </td></tr>\n",
       "\t<tr><th scope=row>2:cbvn_nlin</th><td> 0.23932939</td><td>0.5437983  </td><td> 0.4401070 </td><td>0.65985965 </td></tr>\n",
       "\t<tr><th scope=row>3:cbvn_nlin</th><td> 0.95859853</td><td>0.5259497  </td><td> 1.8226051 </td><td>0.06836322 </td></tr>\n",
       "</tbody>\n",
       "</table>\n"
      ],
      "text/latex": [
       "\\begin{tabular}{r|llll}\n",
       "  & Estimate & Std. Error & z-value & Pr(>\\textbar{}z\\textbar{})\\\\\n",
       "\\hline\n",
       "\t1:(intercept) & -0.47152535 & 0.7293127   & -0.6465338  & 0.51793368 \\\\\n",
       "\t2:(intercept) &  0.97352043 & 0.6534131   &  1.4899004  & 0.13625042 \\\\\n",
       "\t3:(intercept) &  0.09941611 & 0.6602101   &  0.1505825  & 0.88030504 \\\\\n",
       "\t1:cbvn\\_nlin &  0.73495007 & 0.5597254   &  1.3130546  & 0.18916455 \\\\\n",
       "\t2:cbvn\\_nlin &  0.23932939 & 0.5437983   &  0.4401070  & 0.65985965 \\\\\n",
       "\t3:cbvn\\_nlin &  0.95859853 & 0.5259497   &  1.8226051  & 0.06836322 \\\\\n",
       "\\end{tabular}\n"
      ],
      "text/markdown": [
       "\n",
       "| <!--/--> | Estimate | Std. Error | z-value | Pr(>|z|) | \n",
       "|---|---|---|---|---|---|\n",
       "| 1:(intercept) | -0.47152535 | 0.7293127   | -0.6465338  | 0.51793368  | \n",
       "| 2:(intercept) |  0.97352043 | 0.6534131   |  1.4899004  | 0.13625042  | \n",
       "| 3:(intercept) |  0.09941611 | 0.6602101   |  0.1505825  | 0.88030504  | \n",
       "| 1:cbvn_nlin |  0.73495007 | 0.5597254   |  1.3130546  | 0.18916455  | \n",
       "| 2:cbvn_nlin |  0.23932939 | 0.5437983   |  0.4401070  | 0.65985965  | \n",
       "| 3:cbvn_nlin |  0.95859853 | 0.5259497   |  1.8226051  | 0.06836322  | \n",
       "\n",
       "\n"
      ],
      "text/plain": [
       "              Estimate    Std. Error z-value    Pr(>|z|)  \n",
       "1:(intercept) -0.47152535 0.7293127  -0.6465338 0.51793368\n",
       "2:(intercept)  0.97352043 0.6534131   1.4899004 0.13625042\n",
       "3:(intercept)  0.09941611 0.6602101   0.1505825 0.88030504\n",
       "1:cbvn_nlin    0.73495007 0.5597254   1.3130546 0.18916455\n",
       "2:cbvn_nlin    0.23932939 0.5437983   0.4401070 0.65985965\n",
       "3:cbvn_nlin    0.95859853 0.5259497   1.8226051 0.06836322"
      ]
     },
     "metadata": {},
     "output_type": "display_data"
    },
    {
     "data": {
      "text/html": [
       "<dl class=dl-horizontal>\n",
       "\t<dt>1:(intercept)</dt>\n",
       "\t\t<dd>0.624049649039285</dd>\n",
       "\t<dt>2:(intercept)</dt>\n",
       "\t\t<dd>2.64724753180867</dd>\n",
       "\t<dt>3:(intercept)</dt>\n",
       "\t\t<dd>1.10452580925212</dd>\n",
       "\t<dt>1:cbvn_nlin</dt>\n",
       "\t\t<dd>2.08537787346334</dd>\n",
       "\t<dt>2:cbvn_nlin</dt>\n",
       "\t\t<dd>1.27039692320892</dd>\n",
       "\t<dt>3:cbvn_nlin</dt>\n",
       "\t\t<dd>2.60803883336063</dd>\n",
       "</dl>\n"
      ],
      "text/latex": [
       "\\begin{description*}\n",
       "\\item[1:(intercept)] 0.624049649039285\n",
       "\\item[2:(intercept)] 2.64724753180867\n",
       "\\item[3:(intercept)] 1.10452580925212\n",
       "\\item[1:cbvn\\textbackslash{}\\_nlin] 2.08537787346334\n",
       "\\item[2:cbvn\\textbackslash{}\\_nlin] 1.27039692320892\n",
       "\\item[3:cbvn\\textbackslash{}\\_nlin] 2.60803883336063\n",
       "\\end{description*}\n"
      ],
      "text/markdown": [
       "1:(intercept)\n",
       ":   0.6240496490392852:(intercept)\n",
       ":   2.647247531808673:(intercept)\n",
       ":   1.104525809252121:cbvn_nlin\n",
       ":   2.085377873463342:cbvn_nlin\n",
       ":   1.270396923208923:cbvn_nlin\n",
       ":   2.60803883336063\n",
       "\n"
      ],
      "text/plain": [
       "1:(intercept) 2:(intercept) 3:(intercept)   1:cbvn_nlin   2:cbvn_nlin \n",
       "    0.6240496     2.6472475     1.1045258     2.0853779     1.2703969 \n",
       "  3:cbvn_nlin \n",
       "    2.6080388 "
      ]
     },
     "metadata": {},
     "output_type": "display_data"
    }
   ],
   "source": [
    "mlogit_cbvn_nlin <- mlogit(tumor_cell_evaluation ~1 | cbvn_nlin, data=data_mlog)\n",
    "summary(mlogit_cbvn_nlin)$CoefTable\n",
    "exp(coefficients(mlogit_cbvn_nlin))"
   ]
  },
  {
   "cell_type": "code",
   "execution_count": 30,
   "metadata": {
    "collapsed": false,
    "deletable": true,
    "editable": true
   },
   "outputs": [
    {
     "data": {
      "text/html": [
       "<table>\n",
       "<thead><tr><th></th><th scope=col>Estimate</th><th scope=col>Std. Error</th><th scope=col>z-value</th><th scope=col>Pr(&gt;|z|)</th></tr></thead>\n",
       "<tbody>\n",
       "\t<tr><th scope=row>1:(intercept)</th><td>-0.888268599</td><td>4.26330842  </td><td>-0.20835194 </td><td>0.8349542   </td></tr>\n",
       "\t<tr><th scope=row>2:(intercept)</th><td> 1.078862624</td><td>3.55793607  </td><td> 0.30322710 </td><td>0.7617168   </td></tr>\n",
       "\t<tr><th scope=row>3:(intercept)</th><td>-3.941520335</td><td>4.17233722  </td><td>-0.94467923 </td><td>0.3448227   </td></tr>\n",
       "\t<tr><th scope=row>1:recov_npar</th><td> 0.013571248</td><td>0.04457683  </td><td> 0.30444625 </td><td>0.7607879   </td></tr>\n",
       "\t<tr><th scope=row>2:recov_npar</th><td> 0.001578492</td><td>0.03734349  </td><td> 0.04226954 </td><td>0.9662838   </td></tr>\n",
       "\t<tr><th scope=row>3:recov_npar</th><td> 0.054591546</td><td>0.04333853  </td><td> 1.25965388 </td><td>0.2077942   </td></tr>\n",
       "</tbody>\n",
       "</table>\n"
      ],
      "text/latex": [
       "\\begin{tabular}{r|llll}\n",
       "  & Estimate & Std. Error & z-value & Pr(>\\textbar{}z\\textbar{})\\\\\n",
       "\\hline\n",
       "\t1:(intercept) & -0.888268599 & 4.26330842   & -0.20835194  & 0.8349542   \\\\\n",
       "\t2:(intercept) &  1.078862624 & 3.55793607   &  0.30322710  & 0.7617168   \\\\\n",
       "\t3:(intercept) & -3.941520335 & 4.17233722   & -0.94467923  & 0.3448227   \\\\\n",
       "\t1:recov\\_npar &  0.013571248 & 0.04457683   &  0.30444625  & 0.7607879   \\\\\n",
       "\t2:recov\\_npar &  0.001578492 & 0.03734349   &  0.04226954  & 0.9662838   \\\\\n",
       "\t3:recov\\_npar &  0.054591546 & 0.04333853   &  1.25965388  & 0.2077942   \\\\\n",
       "\\end{tabular}\n"
      ],
      "text/markdown": [
       "\n",
       "| <!--/--> | Estimate | Std. Error | z-value | Pr(>|z|) | \n",
       "|---|---|---|---|---|---|\n",
       "| 1:(intercept) | -0.888268599 | 4.26330842   | -0.20835194  | 0.8349542    | \n",
       "| 2:(intercept) |  1.078862624 | 3.55793607   |  0.30322710  | 0.7617168    | \n",
       "| 3:(intercept) | -3.941520335 | 4.17233722   | -0.94467923  | 0.3448227    | \n",
       "| 1:recov_npar |  0.013571248 | 0.04457683   |  0.30444625  | 0.7607879    | \n",
       "| 2:recov_npar |  0.001578492 | 0.03734349   |  0.04226954  | 0.9662838    | \n",
       "| 3:recov_npar |  0.054591546 | 0.04333853   |  1.25965388  | 0.2077942    | \n",
       "\n",
       "\n"
      ],
      "text/plain": [
       "              Estimate     Std. Error z-value     Pr(>|z|) \n",
       "1:(intercept) -0.888268599 4.26330842 -0.20835194 0.8349542\n",
       "2:(intercept)  1.078862624 3.55793607  0.30322710 0.7617168\n",
       "3:(intercept) -3.941520335 4.17233722 -0.94467923 0.3448227\n",
       "1:recov_npar   0.013571248 0.04457683  0.30444625 0.7607879\n",
       "2:recov_npar   0.001578492 0.03734349  0.04226954 0.9662838\n",
       "3:recov_npar   0.054591546 0.04333853  1.25965388 0.2077942"
      ]
     },
     "metadata": {},
     "output_type": "display_data"
    },
    {
     "data": {
      "text/html": [
       "<dl class=dl-horizontal>\n",
       "\t<dt>1:(intercept)</dt>\n",
       "\t\t<dd>0.411367378509217</dd>\n",
       "\t<dt>2:(intercept)</dt>\n",
       "\t\t<dd>2.94133224613266</dd>\n",
       "\t<dt>3:(intercept)</dt>\n",
       "\t\t<dd>0.0194186694175994</dd>\n",
       "\t<dt>1:recov_npar</dt>\n",
       "\t\t<dd>1.01366375566889</dd>\n",
       "\t<dt>2:recov_npar</dt>\n",
       "\t\t<dd>1.00157973865787</dd>\n",
       "\t<dt>3:recov_npar</dt>\n",
       "\t\t<dd>1.05610915496149</dd>\n",
       "</dl>\n"
      ],
      "text/latex": [
       "\\begin{description*}\n",
       "\\item[1:(intercept)] 0.411367378509217\n",
       "\\item[2:(intercept)] 2.94133224613266\n",
       "\\item[3:(intercept)] 0.0194186694175994\n",
       "\\item[1:recov\\textbackslash{}\\_npar] 1.01366375566889\n",
       "\\item[2:recov\\textbackslash{}\\_npar] 1.00157973865787\n",
       "\\item[3:recov\\textbackslash{}\\_npar] 1.05610915496149\n",
       "\\end{description*}\n"
      ],
      "text/markdown": [
       "1:(intercept)\n",
       ":   0.4113673785092172:(intercept)\n",
       ":   2.941332246132663:(intercept)\n",
       ":   0.01941866941759941:recov_npar\n",
       ":   1.013663755668892:recov_npar\n",
       ":   1.001579738657873:recov_npar\n",
       ":   1.05610915496149\n",
       "\n"
      ],
      "text/plain": [
       "1:(intercept) 2:(intercept) 3:(intercept)  1:recov_npar  2:recov_npar \n",
       "   0.41136738    2.94133225    0.01941867    1.01366376    1.00157974 \n",
       " 3:recov_npar \n",
       "   1.05610915 "
      ]
     },
     "metadata": {},
     "output_type": "display_data"
    }
   ],
   "source": [
    "mlogit_recov_npar <- mlogit(tumor_cell_evaluation ~1 | recov_npar, data=data_mlog)\n",
    "summary(mlogit_recov_npar)$CoefTable\n",
    "exp(coefficients(mlogit_recov_npar))"
   ]
  },
  {
   "cell_type": "markdown",
   "metadata": {
    "deletable": true,
    "editable": true
   },
   "source": [
    "Use GEE to associate anatomical parameters with TS, no separation"
   ]
  },
  {
   "cell_type": "code",
   "execution_count": 31,
   "metadata": {
    "collapsed": false,
    "deletable": true,
    "editable": true
   },
   "outputs": [
    {
     "name": "stderr",
     "output_type": "stream",
     "text": [
      "Loading required package: gnm\n",
      "Loading required package: VGAM\n",
      "Loading required package: stats4\n",
      "Loading required package: splines\n",
      "\n",
      "Attaching package: ‘VGAM’\n",
      "\n",
      "The following object is masked from ‘package:mlogit’:\n",
      "\n",
      "    lrtest\n",
      "\n"
     ]
    }
   ],
   "source": [
    "library(multgee)"
   ]
  },
  {
   "cell_type": "code",
   "execution_count": 32,
   "metadata": {
    "collapsed": false,
    "deletable": true,
    "editable": true
   },
   "outputs": [
    {
     "data": {
      "text/html": [
       "<table>\n",
       "<thead><tr><th></th><th scope=col>Estimate</th><th scope=col>san.se</th><th scope=col>san.z</th><th scope=col>Pr(&gt;|san.z|)</th></tr></thead>\n",
       "<tbody>\n",
       "\t<tr><th scope=row>beta10</th><td>-2.16541</td><td>0.47342 </td><td>-4.57400</td><td>0.00000 </td></tr>\n",
       "\t<tr><th scope=row>beta20</th><td>-1.05300</td><td>0.36430 </td><td>-2.89044</td><td>0.00385 </td></tr>\n",
       "\t<tr><th scope=row>beta30</th><td> 0.34612</td><td>0.35276 </td><td> 0.98117</td><td>0.32651 </td></tr>\n",
       "\t<tr><th scope=row>phn_npar</th><td> 0.08975</td><td>0.19885 </td><td> 0.45135</td><td>0.65174 </td></tr>\n",
       "</tbody>\n",
       "</table>\n"
      ],
      "text/latex": [
       "\\begin{tabular}{r|llll}\n",
       "  & Estimate & san.se & san.z & Pr(>\\textbar{}san.z\\textbar{})\\\\\n",
       "\\hline\n",
       "\tbeta10 & -2.16541 & 0.47342  & -4.57400 & 0.00000 \\\\\n",
       "\tbeta20 & -1.05300 & 0.36430  & -2.89044 & 0.00385 \\\\\n",
       "\tbeta30 &  0.34612 & 0.35276  &  0.98117 & 0.32651 \\\\\n",
       "\tphn\\_npar &  0.08975 & 0.19885  &  0.45135 & 0.65174 \\\\\n",
       "\\end{tabular}\n"
      ],
      "text/markdown": [
       "\n",
       "| <!--/--> | Estimate | san.se | san.z | Pr(>|san.z|) | \n",
       "|---|---|---|---|\n",
       "| beta10 | -2.16541 | 0.47342  | -4.57400 | 0.00000  | \n",
       "| beta20 | -1.05300 | 0.36430  | -2.89044 | 0.00385  | \n",
       "| beta30 |  0.34612 | 0.35276  |  0.98117 | 0.32651  | \n",
       "| phn_npar |  0.08975 | 0.19885  |  0.45135 | 0.65174  | \n",
       "\n",
       "\n"
      ],
      "text/plain": [
       "         Estimate san.se  san.z    Pr(>|san.z|)\n",
       "beta10   -2.16541 0.47342 -4.57400 0.00000     \n",
       "beta20   -1.05300 0.36430 -2.89044 0.00385     \n",
       "beta30    0.34612 0.35276  0.98117 0.32651     \n",
       "phn_npar  0.08975 0.19885  0.45135 0.65174     "
      ]
     },
     "metadata": {},
     "output_type": "display_data"
    }
   ],
   "source": [
    "phn_npar.fit = ordLORgee(formula = tumor_cell_evaluation ~ phn_npar, link = \"logit\", \n",
    "                      id = t_number, data = recgli, LORstr = \"category.exch\")\n",
    "summary(phn_npar.fit)$coefficients"
   ]
  },
  {
   "cell_type": "code",
   "execution_count": 33,
   "metadata": {
    "collapsed": false,
    "deletable": true,
    "editable": true
   },
   "outputs": [
    {
     "data": {
      "text/html": [
       "<table>\n",
       "<thead><tr><th></th><th scope=col>Estimate</th><th scope=col>san.se</th><th scope=col>san.z</th><th scope=col>Pr(&gt;|san.z|)</th></tr></thead>\n",
       "<tbody>\n",
       "\t<tr><th scope=row>beta10</th><td>-2.05135</td><td>0.49427 </td><td>-4.15028</td><td>0.00003 </td></tr>\n",
       "\t<tr><th scope=row>beta20</th><td>-0.94064</td><td>0.39492 </td><td>-2.38185</td><td>0.01723 </td></tr>\n",
       "\t<tr><th scope=row>beta30</th><td> 0.46632</td><td>0.38868 </td><td> 1.19977</td><td>0.23023 </td></tr>\n",
       "\t<tr><th scope=row>phn_nlin</th><td>-0.00761</td><td>0.24218 </td><td>-0.03143</td><td>0.97492 </td></tr>\n",
       "</tbody>\n",
       "</table>\n"
      ],
      "text/latex": [
       "\\begin{tabular}{r|llll}\n",
       "  & Estimate & san.se & san.z & Pr(>\\textbar{}san.z\\textbar{})\\\\\n",
       "\\hline\n",
       "\tbeta10 & -2.05135 & 0.49427  & -4.15028 & 0.00003 \\\\\n",
       "\tbeta20 & -0.94064 & 0.39492  & -2.38185 & 0.01723 \\\\\n",
       "\tbeta30 &  0.46632 & 0.38868  &  1.19977 & 0.23023 \\\\\n",
       "\tphn\\_nlin & -0.00761 & 0.24218  & -0.03143 & 0.97492 \\\\\n",
       "\\end{tabular}\n"
      ],
      "text/markdown": [
       "\n",
       "| <!--/--> | Estimate | san.se | san.z | Pr(>|san.z|) | \n",
       "|---|---|---|---|\n",
       "| beta10 | -2.05135 | 0.49427  | -4.15028 | 0.00003  | \n",
       "| beta20 | -0.94064 | 0.39492  | -2.38185 | 0.01723  | \n",
       "| beta30 |  0.46632 | 0.38868  |  1.19977 | 0.23023  | \n",
       "| phn_nlin | -0.00761 | 0.24218  | -0.03143 | 0.97492  | \n",
       "\n",
       "\n"
      ],
      "text/plain": [
       "         Estimate san.se  san.z    Pr(>|san.z|)\n",
       "beta10   -2.05135 0.49427 -4.15028 0.00003     \n",
       "beta20   -0.94064 0.39492 -2.38185 0.01723     \n",
       "beta30    0.46632 0.38868  1.19977 0.23023     \n",
       "phn_nlin -0.00761 0.24218 -0.03143 0.97492     "
      ]
     },
     "metadata": {},
     "output_type": "display_data"
    }
   ],
   "source": [
    "phn_nlin.fit = ordLORgee(formula = tumor_cell_evaluation ~ phn_nlin, link = \"logit\", \n",
    "                      id = t_number, data = recgli, LORstr = \"category.exch\")\n",
    "summary(phn_nlin.fit)$coefficients"
   ]
  },
  {
   "cell_type": "code",
   "execution_count": 34,
   "metadata": {
    "collapsed": false,
    "deletable": true,
    "editable": true
   },
   "outputs": [
    {
     "data": {
      "text/html": [
       "<table>\n",
       "<thead><tr><th></th><th scope=col>Estimate</th><th scope=col>san.se</th><th scope=col>san.z</th><th scope=col>Pr(&gt;|san.z|)</th></tr></thead>\n",
       "<tbody>\n",
       "\t<tr><th scope=row>beta10</th><td>-1.67955</td><td>0.50399 </td><td>-3.33249</td><td>0.00086 </td></tr>\n",
       "\t<tr><th scope=row>beta20</th><td>-0.51481</td><td>0.43684 </td><td>-1.17849</td><td>0.23860 </td></tr>\n",
       "\t<tr><th scope=row>beta30</th><td> 0.92514</td><td>0.44577 </td><td> 2.07536</td><td>0.03795 </td></tr>\n",
       "\t<tr><th scope=row>cbvn_nlin</th><td>-0.32478</td><td>0.26049 </td><td>-1.24682</td><td>0.21246 </td></tr>\n",
       "</tbody>\n",
       "</table>\n"
      ],
      "text/latex": [
       "\\begin{tabular}{r|llll}\n",
       "  & Estimate & san.se & san.z & Pr(>\\textbar{}san.z\\textbar{})\\\\\n",
       "\\hline\n",
       "\tbeta10 & -1.67955 & 0.50399  & -3.33249 & 0.00086 \\\\\n",
       "\tbeta20 & -0.51481 & 0.43684  & -1.17849 & 0.23860 \\\\\n",
       "\tbeta30 &  0.92514 & 0.44577  &  2.07536 & 0.03795 \\\\\n",
       "\tcbvn\\_nlin & -0.32478 & 0.26049  & -1.24682 & 0.21246 \\\\\n",
       "\\end{tabular}\n"
      ],
      "text/markdown": [
       "\n",
       "| <!--/--> | Estimate | san.se | san.z | Pr(>|san.z|) | \n",
       "|---|---|---|---|\n",
       "| beta10 | -1.67955 | 0.50399  | -3.33249 | 0.00086  | \n",
       "| beta20 | -0.51481 | 0.43684  | -1.17849 | 0.23860  | \n",
       "| beta30 |  0.92514 | 0.44577  |  2.07536 | 0.03795  | \n",
       "| cbvn_nlin | -0.32478 | 0.26049  | -1.24682 | 0.21246  | \n",
       "\n",
       "\n"
      ],
      "text/plain": [
       "          Estimate san.se  san.z    Pr(>|san.z|)\n",
       "beta10    -1.67955 0.50399 -3.33249 0.00086     \n",
       "beta20    -0.51481 0.43684 -1.17849 0.23860     \n",
       "beta30     0.92514 0.44577  2.07536 0.03795     \n",
       "cbvn_nlin -0.32478 0.26049 -1.24682 0.21246     "
      ]
     },
     "metadata": {},
     "output_type": "display_data"
    }
   ],
   "source": [
    "cbvn_nlin.fit = ordLORgee(formula = tumor_cell_evaluation ~ cbvn_nlin, link = \"logit\", \n",
    "                      id = t_number, data = recgli, LORstr = \"category.exch\")\n",
    "summary(cbvn_nlin.fit)$coefficients"
   ]
  },
  {
   "cell_type": "code",
   "execution_count": 35,
   "metadata": {
    "collapsed": false,
    "deletable": true,
    "editable": true
   },
   "outputs": [
    {
     "data": {
      "text/plain": [
       "GEE FOR ORDINAL MULTINOMIAL RESPONSES \n",
       "version 1.6.0 modified 2017-07-10 \n",
       "\n",
       "Link : Cumulative logit \n",
       "\n",
       "Local Odds Ratios:\n",
       "Structure:         category.exch\n",
       "Model:             3way\n",
       "\n",
       "call:\n",
       "ordLORgee(formula = tumor_cell_evaluation ~ recov_npar, data = recgli, \n",
       "    id = t_number, link = \"logit\", LORstr = \"category.exch\")\n",
       "\n",
       "Summary of residuals:\n",
       "     Min.   1st Qu.    Median      Mean   3rd Qu.      Max. \n",
       "-0.339155 -0.189983 -0.155290  0.002003 -0.098797  0.901203 \n",
       "\n",
       "Number of Iterations: 8 \n",
       "\n",
       "Coefficients:\n",
       "           Estimate   san.se   san.z Pr(>|san.z|)\n",
       "beta10      0.33969  2.45058  0.1386       0.8898\n",
       "beta20      1.47342  2.44492  0.6026       0.5467\n",
       "beta30      2.88615  2.39556  1.2048       0.2283\n",
       "recov_npar -0.02550  0.02475 -1.0305       0.3028\n",
       "\n",
       "Local Odds Ratios Estimates:\n",
       "        [,1]   [,2]   [,3]   [,4]   [,5]   [,6]   [,7]   [,8]   [,9]  [,10]\n",
       " [1,]  0.000  0.000  0.000  2.017  2.017  2.017  0.709  0.709  0.709  0.950\n",
       " [2,]  0.000  0.000  0.000  2.017  2.017  2.017  0.709  0.709  0.709  0.950\n",
       " [3,]  0.000  0.000  0.000  2.017  2.017  2.017  0.709  0.709  0.709  0.950\n",
       " [4,]  2.017  2.017  2.017  0.000  0.000  0.000  1.554  1.554  1.554  1.158\n",
       " [5,]  2.017  2.017  2.017  0.000  0.000  0.000  1.554  1.554  1.554  1.158\n",
       " [6,]  2.017  2.017  2.017  0.000  0.000  0.000  1.554  1.554  1.554  1.158\n",
       " [7,]  0.709  0.709  0.709  1.554  1.554  1.554  0.000  0.000  0.000  1.090\n",
       " [8,]  0.709  0.709  0.709  1.554  1.554  1.554  0.000  0.000  0.000  1.090\n",
       " [9,]  0.709  0.709  0.709  1.554  1.554  1.554  0.000  0.000  0.000  1.090\n",
       "[10,]  0.950  0.950  0.950  1.158  1.158  1.158  1.090  1.090  1.090  0.000\n",
       "[11,]  0.950  0.950  0.950  1.158  1.158  1.158  1.090  1.090  1.090  0.000\n",
       "[12,]  0.950  0.950  0.950  1.158  1.158  1.158  1.090  1.090  1.090  0.000\n",
       "[13,]  0.025  0.025  0.025 39.395 39.395 39.395  0.025  0.025  0.025  0.025\n",
       "[14,]  0.025  0.025  0.025 39.395 39.395 39.395  0.025  0.025  0.025  0.025\n",
       "[15,]  0.025  0.025  0.025 39.395 39.395 39.395  0.025  0.025  0.025  0.025\n",
       "[16,] 39.395 39.395 39.395  0.025  0.025  0.025 39.395 39.395 39.395 39.395\n",
       "[17,] 39.395 39.395 39.395  0.025  0.025  0.025 39.395 39.395 39.395 39.395\n",
       "[18,] 39.395 39.395 39.395  0.025  0.025  0.025 39.395 39.395 39.395 39.395\n",
       "       [,11]  [,12]  [,13]  [,14]  [,15]  [,16]  [,17]  [,18]\n",
       " [1,]  0.950  0.950  0.025  0.025  0.025 39.395 39.395 39.395\n",
       " [2,]  0.950  0.950  0.025  0.025  0.025 39.395 39.395 39.395\n",
       " [3,]  0.950  0.950  0.025  0.025  0.025 39.395 39.395 39.395\n",
       " [4,]  1.158  1.158 39.395 39.395 39.395  0.025  0.025  0.025\n",
       " [5,]  1.158  1.158 39.395 39.395 39.395  0.025  0.025  0.025\n",
       " [6,]  1.158  1.158 39.395 39.395 39.395  0.025  0.025  0.025\n",
       " [7,]  1.090  1.090  0.025  0.025  0.025 39.395 39.395 39.395\n",
       " [8,]  1.090  1.090  0.025  0.025  0.025 39.395 39.395 39.395\n",
       " [9,]  1.090  1.090  0.025  0.025  0.025 39.395 39.395 39.395\n",
       "[10,]  0.000  0.000  0.025  0.025  0.025 39.395 39.395 39.395\n",
       "[11,]  0.000  0.000  0.025  0.025  0.025 39.395 39.395 39.395\n",
       "[12,]  0.000  0.000  0.025  0.025  0.025 39.395 39.395 39.395\n",
       "[13,]  0.025  0.025  0.000  0.000  0.000  0.025  0.025  0.025\n",
       "[14,]  0.025  0.025  0.000  0.000  0.000  0.025  0.025  0.025\n",
       "[15,]  0.025  0.025  0.000  0.000  0.000  0.025  0.025  0.025\n",
       "[16,] 39.395 39.395  0.025  0.025  0.025  0.000  0.000  0.000\n",
       "[17,] 39.395 39.395  0.025  0.025  0.025  0.000  0.000  0.000\n",
       "[18,] 39.395 39.395  0.025  0.025  0.025  0.000  0.000  0.000\n",
       "\n",
       "pvalue of Null model: 0.302768 "
      ]
     },
     "metadata": {},
     "output_type": "display_data"
    },
    {
     "data": {
      "text/html": [
       "<dl class=dl-horizontal>\n",
       "\t<dt>beta10</dt>\n",
       "\t\t<dd>1.40450713945666</dd>\n",
       "\t<dt>beta20</dt>\n",
       "\t\t<dd>4.36412024539149</dd>\n",
       "\t<dt>beta30</dt>\n",
       "\t\t<dd>17.9241647044492</dd>\n",
       "\t<dt>recov_npar</dt>\n",
       "\t\t<dd>0.974819018081806</dd>\n",
       "</dl>\n"
      ],
      "text/latex": [
       "\\begin{description*}\n",
       "\\item[beta10] 1.40450713945666\n",
       "\\item[beta20] 4.36412024539149\n",
       "\\item[beta30] 17.9241647044492\n",
       "\\item[recov\\textbackslash{}\\_npar] 0.974819018081806\n",
       "\\end{description*}\n"
      ],
      "text/markdown": [
       "beta10\n",
       ":   1.40450713945666beta20\n",
       ":   4.36412024539149beta30\n",
       ":   17.9241647044492recov_npar\n",
       ":   0.974819018081806\n",
       "\n"
      ],
      "text/plain": [
       "    beta10     beta20     beta30 recov_npar \n",
       "  1.404507   4.364120  17.924165   0.974819 "
      ]
     },
     "metadata": {},
     "output_type": "display_data"
    }
   ],
   "source": [
    "recov_npar.fit = ordLORgee(formula = tumor_cell_evaluation ~ recov_npar, link = \"logit\", \n",
    "                      id = t_number, data = recgli, LORstr = \"category.exch\")\n",
    "summary(recov_npar.fit)\n",
    "exp(coef(recov_npar.fit))"
   ]
  },
  {
   "cell_type": "code",
   "execution_count": 43,
   "metadata": {
    "collapsed": false
   },
   "outputs": [
    {
     "data": {
      "text/html": [
       "<ol class=list-inline>\n",
       "\t<li>120</li>\n",
       "\t<li>71</li>\n",
       "</ol>\n"
      ],
      "text/latex": [
       "\\begin{enumerate*}\n",
       "\\item 120\n",
       "\\item 71\n",
       "\\end{enumerate*}\n"
      ],
      "text/markdown": [
       "1. 120\n",
       "2. 71\n",
       "\n",
       "\n"
      ],
      "text/plain": [
       "[1] 120  71"
      ]
     },
     "metadata": {},
     "output_type": "display_data"
    }
   ],
   "source": [
    "dim(recgli)"
   ]
  },
  {
   "cell_type": "markdown",
   "metadata": {
    "deletable": true,
    "editable": true
   },
   "source": [
    "Using RM ANOVA to use imaging characteristics as the dependent variable, and the TS as independent variable "
   ]
  },
  {
   "cell_type": "code",
   "execution_count": 52,
   "metadata": {
    "collapsed": false,
    "deletable": true,
    "editable": true
   },
   "outputs": [
    {
     "data": {
      "text/plain": [
       "\n",
       "Error: t_number\n",
       "                      Df Sum Sq Mean Sq\n",
       "tumor_cell_evaluation  1  300.2   300.2\n",
       "\n",
       "Error: t_number:tumor_cell_evaluation\n",
       "                      Df Sum Sq Mean Sq\n",
       "tumor_cell_evaluation  1  97.09   97.09\n",
       "\n",
       "Error: Within\n",
       "                       Df Sum Sq Mean Sq F value Pr(>F)\n",
       "tumor_cell_evaluation   1      0    0.09   0.002  0.968\n",
       "Residuals             112   6227   55.60               "
      ]
     },
     "metadata": {},
     "output_type": "display_data"
    }
   ],
   "source": [
    "recov_npar.rmaov = aov(recov_npar ~ tumor_cell_evaluation  + Error(t_number/(tumor_cell_evaluation)), data=recgli)\n",
    "summary(recov_npar.rmaov)"
   ]
  },
  {
   "cell_type": "code",
   "execution_count": 121,
   "metadata": {
    "collapsed": false,
    "deletable": true,
    "editable": true
   },
   "outputs": [
    {
     "data": {
      "text/plain": [
       "\n",
       "Error: t_number\n",
       "                      Df Sum Sq Mean Sq\n",
       "tumor_cell_evaluation  1 0.8664  0.8664\n",
       "\n",
       "Error: t_number:tumor_cell_evaluation\n",
       "                      Df Sum Sq Mean Sq\n",
       "tumor_cell_evaluation  1  4.042   4.042\n",
       "\n",
       "Error: Within\n",
       "                       Df Sum Sq Mean Sq F value Pr(>F)\n",
       "tumor_cell_evaluation   1   0.03  0.0326   0.036   0.85\n",
       "Residuals             112 101.72  0.9082               "
      ]
     },
     "metadata": {},
     "output_type": "display_data"
    }
   ],
   "source": [
    "cbvn_nlin.rmaov = aov(cbvn_nlin ~ tumor_cell_evaluation + Error(t_number/(tumor_cell_evaluation)), data=recgli)\n",
    "summary(cbvn_nlin.rmaov)"
   ]
  },
  {
   "cell_type": "code",
   "execution_count": 122,
   "metadata": {
    "collapsed": false,
    "deletable": true,
    "editable": true
   },
   "outputs": [
    {
     "data": {
      "text/plain": [
       "\n",
       "Error: t_number\n",
       "                      Df Sum Sq Mean Sq\n",
       "tumor_cell_evaluation  1  1.367   1.367\n",
       "\n",
       "Error: t_number:tumor_cell_evaluation\n",
       "                      Df Sum Sq Mean Sq\n",
       "tumor_cell_evaluation  1 0.6074  0.6074\n",
       "\n",
       "Error: Within\n",
       "                       Df Sum Sq Mean Sq F value Pr(>F)\n",
       "tumor_cell_evaluation   1   0.30  0.3000   0.379  0.539\n",
       "Residuals             112  88.64  0.7914               "
      ]
     },
     "metadata": {},
     "output_type": "display_data"
    }
   ],
   "source": [
    "phn_nlin.rmaov = aov(phn_nlin ~ tumor_cell_evaluation + Error(t_number/(tumor_cell_evaluation)), data=recgli)\n",
    "summary(phn_nlin.rmaov)"
   ]
  },
  {
   "cell_type": "code",
   "execution_count": 123,
   "metadata": {
    "collapsed": false,
    "deletable": true,
    "editable": true
   },
   "outputs": [
    {
     "data": {
      "text/plain": [
       "\n",
       "Error: t_number\n",
       "                      Df Sum Sq Mean Sq\n",
       "tumor_cell_evaluation  1  1.292   1.292\n",
       "\n",
       "Error: t_number:tumor_cell_evaluation\n",
       "                      Df Sum Sq Mean Sq\n",
       "tumor_cell_evaluation  1  0.173   0.173\n",
       "\n",
       "Error: Within\n",
       "                       Df Sum Sq Mean Sq F value Pr(>F)\n",
       "tumor_cell_evaluation   1   0.88  0.8782   1.006  0.318\n",
       "Residuals             112  97.79  0.8731               "
      ]
     },
     "metadata": {},
     "output_type": "display_data"
    }
   ],
   "source": [
    "phn_npar.rmaov = aov(phn_npar ~ tumor_cell_evaluation + Error(t_number/(tumor_cell_evaluation)), data=recgli)\n",
    "summary(phn_npar.rmaov)"
   ]
  },
  {
   "cell_type": "code",
   "execution_count": null,
   "metadata": {
    "collapsed": true,
    "deletable": true,
    "editable": true
   },
   "outputs": [],
   "source": []
  }
 ],
 "metadata": {
  "kernelspec": {
   "display_name": "R",
   "language": "R",
   "name": "ir"
  },
  "language_info": {
   "codemirror_mode": "r",
   "file_extension": ".r",
   "mimetype": "text/x-r-source",
   "name": "R",
   "pygments_lexer": "r",
   "version": "3.4.0"
  }
 },
 "nbformat": 4,
 "nbformat_minor": 2
}
