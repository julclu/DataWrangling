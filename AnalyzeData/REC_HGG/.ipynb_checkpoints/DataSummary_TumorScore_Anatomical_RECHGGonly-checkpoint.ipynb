{
 "cells": [
  {
   "cell_type": "code",
   "execution_count": 3,
   "metadata": {
    "collapsed": true
   },
   "outputs": [],
   "source": [
    "options(repr.matrix.max.rows=600, repr.matrix.max.cols=200)"
   ]
  },
  {
   "cell_type": "code",
   "execution_count": 4,
   "metadata": {
    "collapsed": true
   },
   "outputs": [],
   "source": [
    "recgli = read.csv(\"../../ParseData/7thParse_researchPath_withInVivo.csv\") "
   ]
  },
  {
   "cell_type": "code",
   "execution_count": 2,
   "metadata": {
    "collapsed": false
   },
   "outputs": [
    {
     "data": {
      "text/html": [
       "<table>\n",
       "<thead><tr><th></th><th scope=col>b_number</th><th scope=col>t_number</th><th scope=col>sf_number</th><th scope=col>current_scan_date</th><th scope=col>current_surgery_date</th><th scope=col>current_hist_grade</th><th scope=col>current_hist_type</th><th scope=col>roi.label</th><th scope=col>tumor_cell_evaluation</th><th scope=col>necrosis</th><th scope=col>⋯</th><th scope=col>in_CEL</th><th scope=col>in_T2all</th><th scope=col>in_NEL</th><th scope=col>in_NEC</th><th scope=col>in_ROI</th><th scope=col>desired_hist</th><th scope=col>multnom_out</th><th scope=col>no_ffpe</th><th scope=col>waiting_on_path</th><th scope=col>rhgg_txe_analysis</th></tr></thead>\n",
       "<tbody>\n",
       "\t<tr><th scope=row>197</th><td>2358          </td><td> 5272         </td><td> 7659         </td><td>4/13/08       </td><td>4/14/08       </td><td>Grade III     </td><td>Astrocytoma   </td><td>85B15         </td><td>2             </td><td>0             </td><td>⋯             </td><td>0             </td><td>1             </td><td>1             </td><td>0             </td><td>1             </td><td>1             </td><td>rHGG          </td><td>0             </td><td>0             </td><td>1             </td></tr>\n",
       "\t<tr><th scope=row>202</th><td>2358          </td><td> 5272         </td><td> 7659         </td><td>4/13/08       </td><td>4/14/08       </td><td>Grade III     </td><td>Astrocytoma   </td><td>86B15         </td><td>Ind           </td><td>Indeterminable</td><td>⋯             </td><td>0             </td><td>0             </td><td>0             </td><td>0             </td><td>0             </td><td>1             </td><td>IndDNI        </td><td>0             </td><td>0             </td><td>0             </td></tr>\n",
       "\t<tr><th scope=row>25</th><td>2384          </td><td> 5603         </td><td> 7759         </td><td>8/3/08        </td><td>8/4/08        </td><td>Grade III     </td><td>Astrocytoma   </td><td>21B18         </td><td>2             </td><td>0             </td><td>⋯             </td><td>1             </td><td>1             </td><td>0             </td><td>0             </td><td>1             </td><td>1             </td><td>rHGG          </td><td>0             </td><td>0             </td><td>1             </td></tr>\n",
       "\t<tr><th scope=row>26</th><td>2384          </td><td> 5603         </td><td> 7759         </td><td>8/3/08        </td><td>8/4/08        </td><td>Grade III     </td><td>Astrocytoma   </td><td>22B18         </td><td>2             </td><td>0             </td><td>⋯             </td><td>1             </td><td>0             </td><td>0             </td><td>0             </td><td>1             </td><td>1             </td><td>rHGG          </td><td>0             </td><td>0             </td><td>1             </td></tr>\n",
       "\t<tr><th scope=row>233</th><td>2451          </td><td> 5739         </td><td> 7821         </td><td>10/6/08       </td><td>10/7/08       </td><td>Grade III     </td><td>Astrocytoma   </td><td>98B19         </td><td>1             </td><td>0             </td><td>⋯             </td><td>1             </td><td>1             </td><td>0             </td><td>0             </td><td>1             </td><td>1             </td><td>Ts1DNI        </td><td>0             </td><td>0             </td><td>0             </td></tr>\n",
       "\t<tr><th scope=row>174</th><td>2451          </td><td> 5739         </td><td> 7821         </td><td>10/6/08       </td><td>10/7/08       </td><td>Grade III     </td><td>Astrocytoma   </td><td>81B19         </td><td>2             </td><td>0             </td><td>⋯             </td><td>0             </td><td>1             </td><td>1             </td><td>0             </td><td>1             </td><td>1             </td><td>rHGG          </td><td>0             </td><td>0             </td><td>1             </td></tr>\n",
       "\t<tr><th scope=row>235</th><td>2451          </td><td> 5739         </td><td> 7821         </td><td>10/6/08       </td><td>10/7/08       </td><td>Grade III     </td><td>Astrocytoma   </td><td>99B19         </td><td>2             </td><td>0             </td><td>⋯             </td><td>0             </td><td>1             </td><td>1             </td><td>0             </td><td>1             </td><td>1             </td><td>rHGG          </td><td>0             </td><td>0             </td><td>1             </td></tr>\n",
       "\t<tr><th scope=row>75</th><td>2808          </td><td> 6551         </td><td> 8217         </td><td>1/12/10       </td><td>1/13/10       </td><td>Grade III     </td><td>Astrocytoma   </td><td>47B30         </td><td>0             </td><td>0             </td><td>⋯             </td><td>0             </td><td>1             </td><td>1             </td><td>0             </td><td>1             </td><td>1             </td><td>TxE           </td><td>0             </td><td>0             </td><td>1             </td></tr>\n",
       "\t<tr><th scope=row>54</th><td>2808          </td><td> 6551         </td><td> 8217         </td><td>1/12/10       </td><td>1/13/10       </td><td>Grade III     </td><td>Astrocytoma   </td><td>35B30         </td><td>1             </td><td>0             </td><td>⋯             </td><td>0             </td><td>1             </td><td>1             </td><td>0             </td><td>1             </td><td>1             </td><td>Ts1DNI        </td><td>0             </td><td>0             </td><td>0             </td></tr>\n",
       "\t<tr><th scope=row>270</th><td>3548          </td><td> 9000         </td><td> 9971         </td><td>2014-05-12    </td><td>2014-05-13    </td><td>Grade III     </td><td>Astrocytoma   </td><td>40B64         </td><td>2             </td><td>0             </td><td>⋯             </td><td>0             </td><td>1             </td><td>1             </td><td>0             </td><td>1             </td><td>1             </td><td>rHGG          </td><td>0             </td><td>0             </td><td>1             </td></tr>\n",
       "\t<tr><th scope=row>271</th><td>3548          </td><td> 9000         </td><td> 9971         </td><td>2014-05-12    </td><td>2014-05-13    </td><td>Grade III     </td><td>Astrocytoma   </td><td>41B64         </td><td>2             </td><td>0             </td><td>⋯             </td><td>0             </td><td>1             </td><td>1             </td><td>0             </td><td>1             </td><td>1             </td><td>rHGG          </td><td>0             </td><td>0             </td><td>1             </td></tr>\n",
       "\t<tr><th scope=row>273</th><td>3548          </td><td> 9000         </td><td> 9971         </td><td>2014-05-12    </td><td>2014-05-13    </td><td>Grade III     </td><td>Astrocytoma   </td><td>43B64         </td><td>2             </td><td>0             </td><td>⋯             </td><td>0             </td><td>1             </td><td>1             </td><td>0             </td><td>1             </td><td>1             </td><td>rHGG          </td><td>0             </td><td>0             </td><td>1             </td></tr>\n",
       "\t<tr><th scope=row>272</th><td>3548          </td><td> 9000         </td><td> 9971         </td><td>2014-05-12    </td><td>2014-05-13    </td><td>Grade III     </td><td>Astrocytoma   </td><td>42B64         </td><td>3             </td><td>0             </td><td>⋯             </td><td>0             </td><td>1             </td><td>1             </td><td>0             </td><td>1             </td><td>1             </td><td>rHGG          </td><td>0             </td><td>0             </td><td>1             </td></tr>\n",
       "\t<tr><th scope=row>347</th><td>4033          </td><td>10343         </td><td>10755         </td><td>2016-03-16    </td><td>2016-03-17    </td><td>Grade III     </td><td>Astrocytoma   </td><td>25B81         </td><td>0             </td><td>0             </td><td>⋯             </td><td>1             </td><td>1             </td><td>0             </td><td>0             </td><td>1             </td><td>1             </td><td>TxE           </td><td>0             </td><td>0             </td><td>1             </td></tr>\n",
       "\t<tr><th scope=row>348</th><td>4033          </td><td>10343         </td><td>10755         </td><td>2016-03-16    </td><td>2016-03-17    </td><td>Grade III     </td><td>Astrocytoma   </td><td>26B81         </td><td>1             </td><td>0             </td><td>⋯             </td><td>0             </td><td>1             </td><td>1             </td><td>0             </td><td>1             </td><td>1             </td><td>Ts1DNI        </td><td>0             </td><td>0             </td><td>0             </td></tr>\n",
       "\t<tr><th scope=row>395</th><td>4230          </td><td>11025         </td><td>11096         </td><td>2016-12-15    </td><td>2016-12-16    </td><td>Grade III     </td><td>Astrocytoma   </td><td>5B96          </td><td>2             </td><td>0             </td><td>⋯             </td><td>1             </td><td>1             </td><td>1             </td><td>0             </td><td>1             </td><td>1             </td><td>rHGG          </td><td>0             </td><td>0             </td><td>1             </td></tr>\n",
       "\t<tr><th scope=row>396</th><td>4230          </td><td>11025         </td><td>11096         </td><td>2016-12-15    </td><td>2016-12-16    </td><td>Grade III     </td><td>Astrocytoma   </td><td>6B96          </td><td>2             </td><td>0             </td><td>⋯             </td><td>0             </td><td>1             </td><td>1             </td><td>0             </td><td>1             </td><td>1             </td><td>rHGG          </td><td>0             </td><td>0             </td><td>1             </td></tr>\n",
       "\t<tr><th scope=row>397</th><td>4230          </td><td>11025         </td><td>11096         </td><td>2016-12-15    </td><td>2016-12-16    </td><td>Grade III     </td><td>Astrocytoma   </td><td>7B96          </td><td>2             </td><td>0             </td><td>⋯             </td><td>0             </td><td>1             </td><td>1             </td><td>0             </td><td>1             </td><td>1             </td><td>rHGG          </td><td>0             </td><td>0             </td><td>1             </td></tr>\n",
       "\t<tr><th scope=row>394</th><td>4230          </td><td>11025         </td><td>11096         </td><td>2016-12-15    </td><td>2016-12-16    </td><td>Grade III     </td><td>Astrocytoma   </td><td>4B96          </td><td>3             </td><td>0             </td><td>⋯             </td><td>0             </td><td>1             </td><td>1             </td><td>0             </td><td>1             </td><td>1             </td><td>rHGG          </td><td>0             </td><td>0             </td><td>1             </td></tr>\n",
       "\t<tr><th scope=row>402</th><td>3783          </td><td>11192         </td><td>11150         </td><td>2017-01-29    </td><td>2017-01-30    </td><td>Grade III     </td><td>Astrocytoma   </td><td>34B97         </td><td>2             </td><td>0             </td><td>⋯             </td><td>0             </td><td>1             </td><td>1             </td><td>0             </td><td>1             </td><td>1             </td><td>rHGG          </td><td>0             </td><td>0             </td><td>1             </td></tr>\n",
       "\t<tr><th scope=row>403</th><td>3783          </td><td>11192         </td><td>11150         </td><td>2017-01-29    </td><td>2017-01-30    </td><td>Grade III     </td><td>Astrocytoma   </td><td>35B97         </td><td>2             </td><td>0             </td><td>⋯             </td><td>1             </td><td>1             </td><td>0             </td><td>0             </td><td>1             </td><td>1             </td><td>rHGG          </td><td>0             </td><td>0             </td><td>1             </td></tr>\n",
       "\t<tr><th scope=row>404</th><td>3783          </td><td>11192         </td><td>11150         </td><td>2017-01-29    </td><td>2017-01-30    </td><td>Grade III     </td><td>Astrocytoma   </td><td>36B97         </td><td>3             </td><td>0             </td><td>⋯             </td><td>1             </td><td>1             </td><td>1             </td><td>0             </td><td>1             </td><td>1             </td><td>rHGG          </td><td>0             </td><td>0             </td><td>1             </td></tr>\n",
       "\t<tr><th scope=row>405</th><td>3783          </td><td>11192         </td><td>11150         </td><td>2017-01-29    </td><td>2017-01-30    </td><td>Grade III     </td><td>Astrocytoma   </td><td>37B97         </td><td>3             </td><td>0             </td><td>⋯             </td><td>0             </td><td>0             </td><td>0             </td><td>0             </td><td>0             </td><td>1             </td><td>rHGG          </td><td>0             </td><td>0             </td><td>1             </td></tr>\n",
       "\t<tr><th scope=row>414</th><td>4273          </td><td>11333         </td><td>11220         </td><td>2017-03-21    </td><td>2017-03-22    </td><td>Grade III     </td><td>Astrocytoma   </td><td>56B97         </td><td>3             </td><td>0             </td><td>⋯             </td><td>1             </td><td>1             </td><td>0             </td><td>0             </td><td>1             </td><td>1             </td><td>rHGG          </td><td>0             </td><td>0             </td><td>1             </td></tr>\n",
       "\t<tr><th scope=row>421</th><td>4297          </td><td>11410         </td><td>11285         </td><td>2017-05-10    </td><td>2017-05-12    </td><td>Grade III     </td><td>Astrocytoma   </td><td>35D3          </td><td>3             </td><td>0             </td><td>⋯             </td><td>0             </td><td>1             </td><td>1             </td><td>0             </td><td>1             </td><td>1             </td><td>rHGG          </td><td>0             </td><td>0             </td><td>1             </td></tr>\n",
       "\t<tr><th scope=row>422</th><td>4297          </td><td>11410         </td><td>11285         </td><td>2017-05-10    </td><td>2017-05-12    </td><td>Grade III     </td><td>Astrocytoma   </td><td>36D3          </td><td>3             </td><td>0             </td><td>⋯             </td><td>0             </td><td>1             </td><td>1             </td><td>0             </td><td>1             </td><td>1             </td><td>rHGG          </td><td>0             </td><td>0             </td><td>1             </td></tr>\n",
       "\t<tr><th scope=row>426</th><td>4298          </td><td>11412         </td><td>11291         </td><td>2017-05-16    </td><td>2017-05-17    </td><td>Grade III     </td><td>Astrocytoma   </td><td>44D3          </td><td>2             </td><td>0             </td><td>⋯             </td><td>0             </td><td>1             </td><td>1             </td><td>0             </td><td>1             </td><td>1             </td><td>rHGG          </td><td>0             </td><td>0             </td><td>1             </td></tr>\n",
       "\t<tr><th scope=row>423</th><td>4298          </td><td>11412         </td><td>11291         </td><td>2017-05-16    </td><td>2017-05-17    </td><td>Grade III     </td><td>Astrocytoma   </td><td>41D3          </td><td>3             </td><td>0             </td><td>⋯             </td><td>0             </td><td>1             </td><td>1             </td><td>0             </td><td>1             </td><td>1             </td><td>rHGG          </td><td>0             </td><td>0             </td><td>1             </td></tr>\n",
       "\t<tr><th scope=row>424</th><td>4298          </td><td>11412         </td><td>11291         </td><td>2017-05-16    </td><td>2017-05-17    </td><td>Grade III     </td><td>Astrocytoma   </td><td>42D3          </td><td>3             </td><td>0             </td><td>⋯             </td><td>0             </td><td>1             </td><td>1             </td><td>0             </td><td>1             </td><td>1             </td><td>rHGG          </td><td>0             </td><td>0             </td><td>1             </td></tr>\n",
       "\t<tr><th scope=row>425</th><td>4298          </td><td>11412         </td><td>11291         </td><td>2017-05-16    </td><td>2017-05-17    </td><td>Grade III     </td><td>Astrocytoma   </td><td>43D3          </td><td>3             </td><td>0             </td><td>⋯             </td><td>0             </td><td>1             </td><td>1             </td><td>0             </td><td>1             </td><td>1             </td><td>rHGG          </td><td>0             </td><td>0             </td><td>1             </td></tr>\n",
       "\t<tr><th scope=row>⋮</th><td>⋮</td><td>⋮</td><td>⋮</td><td>⋮</td><td>⋮</td><td>⋮</td><td>⋮</td><td>⋮</td><td>⋮</td><td>⋮</td><td>⋱</td><td>⋮</td><td>⋮</td><td>⋮</td><td>⋮</td><td>⋮</td><td>⋮</td><td>⋮</td><td>⋮</td><td>⋮</td><td>⋮</td></tr>\n",
       "\t<tr><th scope=row>77</th><td>3009            </td><td> 7329           </td><td> 8649           </td><td>2/8/11          </td><td>2/9/11          </td><td>Treatment Effect</td><td>Treatment Effect</td><td>48B40           </td><td>2               </td><td>0               </td><td>⋯               </td><td>0               </td><td>0               </td><td>0               </td><td>0               </td><td>0               </td><td>1               </td><td>rHGG            </td><td>0               </td><td>0               </td><td>1               </td></tr>\n",
       "\t<tr><th scope=row>7</th><td>3118            </td><td> 7394           </td><td> 8688           </td><td>3/15/11         </td><td>3/16/11         </td><td>Treatment Effect</td><td>Treatment Effect</td><td>13B41           </td><td>0               </td><td>0               </td><td>⋯               </td><td>0               </td><td>0               </td><td>0               </td><td>0               </td><td>0               </td><td>1               </td><td>TxE             </td><td>0               </td><td>0               </td><td>1               </td></tr>\n",
       "\t<tr><th scope=row>9</th><td>3118            </td><td> 7394           </td><td> 8688           </td><td>3/15/11         </td><td>3/16/11         </td><td>Treatment Effect</td><td>Treatment Effect</td><td>14B41           </td><td>1               </td><td>0               </td><td>⋯               </td><td>1               </td><td>0               </td><td>0               </td><td>0               </td><td>1               </td><td>1               </td><td>Ts1DNI          </td><td>0               </td><td>0               </td><td>0               </td></tr>\n",
       "\t<tr><th scope=row>29</th><td>3171            </td><td> 7553           </td><td> 8804           </td><td>6/24/11         </td><td>6/27/11         </td><td>Treatment Effect</td><td>Treatment Effect</td><td>25B43           </td><td>0               </td><td>0               </td><td>⋯               </td><td>0               </td><td>0               </td><td>0               </td><td>0               </td><td>0               </td><td>1               </td><td>TxE             </td><td>0               </td><td>0               </td><td>1               </td></tr>\n",
       "\t<tr><th scope=row>33</th><td>3171            </td><td> 7553           </td><td> 8804           </td><td>6/24/11         </td><td>6/27/11         </td><td>Treatment Effect</td><td>Treatment Effect</td><td>26B43           </td><td>0               </td><td>0               </td><td>⋯               </td><td>0               </td><td>1               </td><td>1               </td><td>0               </td><td>1               </td><td>1               </td><td>TxE             </td><td>0               </td><td>0               </td><td>1               </td></tr>\n",
       "\t<tr><th scope=row>283</th><td>3588            </td><td> 9084           </td><td>10024           </td><td>2014-06-29      </td><td>2014-06-30      </td><td>Treatment Effect</td><td>Treatment Effect</td><td>83B66           </td><td>1               </td><td>0               </td><td>⋯               </td><td>0               </td><td>1               </td><td>1               </td><td>0               </td><td>1               </td><td>1               </td><td>Ts1DNI          </td><td>0               </td><td>0               </td><td>0               </td></tr>\n",
       "\t<tr><th scope=row>282</th><td>3588            </td><td> 9084           </td><td>10024           </td><td>2014-06-29      </td><td>2014-06-30      </td><td>Treatment Effect</td><td>Treatment Effect</td><td>82B66           </td><td>2               </td><td>0               </td><td>⋯               </td><td>1               </td><td>1               </td><td>0               </td><td>0               </td><td>1               </td><td>1               </td><td>rHGG            </td><td>0               </td><td>0               </td><td>1               </td></tr>\n",
       "\t<tr><th scope=row>319</th><td>3791            </td><td> 9970           </td><td>10507           </td><td>2015-08-25      </td><td>2015-08-26      </td><td>Treatment Effect</td><td>Treatment Effect</td><td>48B78           </td><td>1               </td><td>0               </td><td>⋯               </td><td>0               </td><td>1               </td><td>1               </td><td>0               </td><td>1               </td><td>1               </td><td>Ts1DNI          </td><td>0               </td><td>0               </td><td>0               </td></tr>\n",
       "\t<tr><th scope=row>321</th><td>3791            </td><td> 9970           </td><td>10507           </td><td>2015-08-25      </td><td>2015-08-26      </td><td>Treatment Effect</td><td>Treatment Effect</td><td>50B78           </td><td>1               </td><td>0               </td><td>⋯               </td><td>1               </td><td>1               </td><td>1               </td><td>0               </td><td>1               </td><td>1               </td><td>Ts1DNI          </td><td>0               </td><td>0               </td><td>0               </td></tr>\n",
       "\t<tr><th scope=row>318</th><td>3791            </td><td> 9970           </td><td>10507           </td><td>2015-08-25      </td><td>2015-08-26      </td><td>Treatment Effect</td><td>Treatment Effect</td><td>47B78           </td><td>2               </td><td>0               </td><td>⋯               </td><td>1               </td><td>1               </td><td>0               </td><td>0               </td><td>1               </td><td>1               </td><td>rHGG            </td><td>0               </td><td>0               </td><td>1               </td></tr>\n",
       "\t<tr><th scope=row>320</th><td>3791            </td><td> 9970           </td><td>10507           </td><td>2015-08-25      </td><td>2015-08-26      </td><td>Treatment Effect</td><td>Treatment Effect</td><td>49B78           </td><td>3               </td><td>0               </td><td>⋯               </td><td>0               </td><td>1               </td><td>1               </td><td>0               </td><td>1               </td><td>1               </td><td>rHGG            </td><td>0               </td><td>0               </td><td>1               </td></tr>\n",
       "\t<tr><th scope=row>331</th><td>3966            </td><td>10202           </td><td>10632           </td><td>2015-12-15      </td><td>2015-12-16      </td><td>Treatment Effect</td><td>Treatment Effect</td><td>15B90           </td><td>1               </td><td>0               </td><td>⋯               </td><td>1               </td><td>1               </td><td>0               </td><td>0               </td><td>1               </td><td>1               </td><td>Ts1DNI          </td><td>0               </td><td>0               </td><td>0               </td></tr>\n",
       "\t<tr><th scope=row>330</th><td>3966            </td><td>10202           </td><td>10632           </td><td>2015-12-15      </td><td>2015-12-16      </td><td>Treatment Effect</td><td>Treatment Effect</td><td>14B90           </td><td>2               </td><td>0               </td><td>⋯               </td><td>0               </td><td>1               </td><td>1               </td><td>0               </td><td>1               </td><td>1               </td><td>rHGG            </td><td>0               </td><td>0               </td><td>1               </td></tr>\n",
       "\t<tr><th scope=row>341</th><td>3996            </td><td>10251           </td><td>10706           </td><td>2016-02-02      </td><td>2016-02-03      </td><td>Treatment Effect</td><td>Treatment Effect</td><td>11B81           </td><td>0               </td><td>0               </td><td>⋯               </td><td>1               </td><td>1               </td><td>0               </td><td>0               </td><td>1               </td><td>1               </td><td>TxE             </td><td>0               </td><td>0               </td><td>1               </td></tr>\n",
       "\t<tr><th scope=row>342</th><td>3996            </td><td>10251           </td><td>10706           </td><td>2016-02-02      </td><td>2016-02-03      </td><td>Treatment Effect</td><td>Treatment Effect</td><td>12B81           </td><td>0               </td><td>2               </td><td>⋯               </td><td>1               </td><td>1               </td><td>1               </td><td>0               </td><td>1               </td><td>1               </td><td>NecDNI          </td><td>0               </td><td>0               </td><td>0               </td></tr>\n",
       "\t<tr><th scope=row>343</th><td>3996            </td><td>10251           </td><td>10706           </td><td>2016-02-02      </td><td>2016-02-03      </td><td>Treatment Effect</td><td>Treatment Effect</td><td>13B81           </td><td>0               </td><td>0               </td><td>⋯               </td><td>1               </td><td>1               </td><td>0               </td><td>0               </td><td>1               </td><td>1               </td><td>TxE             </td><td>0               </td><td>0               </td><td>1               </td></tr>\n",
       "\t<tr><th scope=row>344</th><td>3996            </td><td>10251           </td><td>10706           </td><td>2016-02-02      </td><td>2016-02-03      </td><td>Treatment Effect</td><td>Treatment Effect</td><td>14B81           </td><td>0               </td><td>1               </td><td>⋯               </td><td>1               </td><td>1               </td><td>1               </td><td>0               </td><td>1               </td><td>1               </td><td>TxE             </td><td>0               </td><td>0               </td><td>1               </td></tr>\n",
       "\t<tr><th scope=row>350</th><td>4080            </td><td>10366           </td><td>10778           </td><td>2016-04-12      </td><td>2016-04-13      </td><td>Treatment Effect</td><td>Treatment Effect</td><td>3B82            </td><td>                </td><td>2               </td><td>⋯               </td><td>0               </td><td>1               </td><td>1               </td><td>0               </td><td>1               </td><td>1               </td><td>NecDNI          </td><td>0               </td><td>1               </td><td>0               </td></tr>\n",
       "\t<tr><th scope=row>352</th><td>4080            </td><td>10366           </td><td>10778           </td><td>2016-04-12      </td><td>2016-04-13      </td><td>Treatment Effect</td><td>Treatment Effect</td><td>5B82            </td><td>                </td><td>2               </td><td>⋯               </td><td>0               </td><td>1               </td><td>1               </td><td>0               </td><td>1               </td><td>1               </td><td>NecDNI          </td><td>0               </td><td>1               </td><td>0               </td></tr>\n",
       "\t<tr><th scope=row>349</th><td>4080            </td><td>10366           </td><td>10778           </td><td>2016-04-12      </td><td>2016-04-13      </td><td>Treatment Effect</td><td>Treatment Effect</td><td>1B82            </td><td>0               </td><td>0               </td><td>⋯               </td><td>0               </td><td>1               </td><td>1               </td><td>0               </td><td>1               </td><td>1               </td><td>TxE             </td><td>0               </td><td>0               </td><td>1               </td></tr>\n",
       "\t<tr><th scope=row>351</th><td>4080            </td><td>10366           </td><td>10778           </td><td>2016-04-12      </td><td>2016-04-13      </td><td>Treatment Effect</td><td>Treatment Effect</td><td>4B82            </td><td>3               </td><td>2               </td><td>⋯               </td><td>0               </td><td>1               </td><td>1               </td><td>0               </td><td>1               </td><td>1               </td><td>NecDNI          </td><td>0               </td><td>0               </td><td>0               </td></tr>\n",
       "\t<tr><th scope=row>362</th><td>4161            </td><td>10655           </td><td>10912           </td><td>2016-07-25      </td><td>2016-07-26      </td><td>Treatment Effect</td><td>Treatment Effect</td><td>7B91            </td><td>0               </td><td>1               </td><td>⋯               </td><td>0               </td><td>1               </td><td>1               </td><td>1               </td><td>1               </td><td>1               </td><td>TxE             </td><td>0               </td><td>0               </td><td>1               </td></tr>\n",
       "\t<tr><th scope=row>375</th><td>4205            </td><td>10756           </td><td>11017           </td><td>2016-10-11      </td><td>2016-10-12      </td><td>Treatment Effect</td><td>Treatment Effect</td><td>67B91           </td><td>0               </td><td>0               </td><td>⋯               </td><td>0               </td><td>0               </td><td>0               </td><td>0               </td><td>0               </td><td>1               </td><td>PN              </td><td>0               </td><td>0               </td><td>0               </td></tr>\n",
       "\t<tr><th scope=row>376</th><td>4205            </td><td>10756           </td><td>11017           </td><td>2016-10-11      </td><td>2016-10-12      </td><td>Treatment Effect</td><td>Treatment Effect</td><td>68B91           </td><td>0               </td><td>0               </td><td>⋯               </td><td>0               </td><td>1               </td><td>1               </td><td>0               </td><td>1               </td><td>1               </td><td>TxE             </td><td>0               </td><td>0               </td><td>1               </td></tr>\n",
       "\t<tr><th scope=row>377</th><td>4205            </td><td>10756           </td><td>11017           </td><td>2016-10-11      </td><td>2016-10-12      </td><td>Treatment Effect</td><td>Treatment Effect</td><td>69B91           </td><td>3               </td><td>0               </td><td>⋯               </td><td>0               </td><td>1               </td><td>1               </td><td>0               </td><td>1               </td><td>1               </td><td>rHGG            </td><td>0               </td><td>0               </td><td>1               </td></tr>\n",
       "\t<tr><th scope=row>378</th><td>4208            </td><td>10763           </td><td>11039           </td><td>2016-10-25      </td><td>2016-10-26      </td><td>Treatment Effect</td><td>Treatment Effect</td><td>80B91           </td><td>                </td><td>2               </td><td>⋯               </td><td>1               </td><td>1               </td><td>1               </td><td>0               </td><td>1               </td><td>1               </td><td>NecDNI          </td><td>0               </td><td>1               </td><td>0               </td></tr>\n",
       "\t<tr><th scope=row>379</th><td>4208            </td><td>10763           </td><td>11039           </td><td>2016-10-25      </td><td>2016-10-26      </td><td>Treatment Effect</td><td>Treatment Effect</td><td>81B91           </td><td>Ind             </td><td>2               </td><td>⋯               </td><td>1               </td><td>1               </td><td>0               </td><td>0               </td><td>1               </td><td>1               </td><td>NecDNI          </td><td>0               </td><td>1               </td><td>0               </td></tr>\n",
       "\t<tr><th scope=row>409</th><td>4266            </td><td>11295           </td><td>11196           </td><td>2017-03-07      </td><td>2017-03-08      </td><td>Treatment Effect</td><td>Treatment Effect</td><td>49B97           </td><td>3               </td><td>2               </td><td>⋯               </td><td>1               </td><td>1               </td><td>0               </td><td>1               </td><td>1               </td><td>1               </td><td>NecDNI          </td><td>0               </td><td>0               </td><td>0               </td></tr>\n",
       "\t<tr><th scope=row>432</th><td>4306            </td><td>11484           </td><td>11338           </td><td>2017-06-29      </td><td>2017-06-30      </td><td>Treatment Effect</td><td>Treatment Effect</td><td>14D1            </td><td>0               </td><td>0               </td><td>⋯               </td><td>1               </td><td>1               </td><td>0               </td><td>0               </td><td>1               </td><td>1               </td><td>TxE             </td><td>0               </td><td>0               </td><td>1               </td></tr>\n",
       "\t<tr><th scope=row>433</th><td>4306            </td><td>11484           </td><td>11338           </td><td>2017-06-29      </td><td>2017-06-30      </td><td>Treatment Effect</td><td>Treatment Effect</td><td>17D1            </td><td>0               </td><td>0               </td><td>⋯               </td><td>0               </td><td>1               </td><td>1               </td><td>0               </td><td>1               </td><td>1               </td><td>TxE             </td><td>0               </td><td>0               </td><td>1               </td></tr>\n",
       "</tbody>\n",
       "</table>\n"
      ],
      "text/latex": [
       "\\begin{tabular}{r|lllllllllllllllllllllllllllllllllllllllllllllllllllllllllllllllllllllllllll}\n",
       "  & b\\_number & t\\_number & sf\\_number & current\\_scan\\_date & current\\_surgery\\_date & current\\_hist\\_grade & current\\_hist\\_type & roi.label & tumor\\_cell\\_evaluation & necrosis & ⋯ & in\\_CEL & in\\_T2all & in\\_NEL & in\\_NEC & in\\_ROI & desired\\_hist & multnom\\_out & no\\_ffpe & waiting\\_on\\_path & rhgg\\_txe\\_analysis\\\\\n",
       "\\hline\n",
       "\t197 & 2358           &  5272          &  7659          & 4/13/08        & 4/14/08        & Grade III      & Astrocytoma    & 85B15          & 2              & 0              & ⋯              & 0              & 1              & 1              & 0              & 1              & 1              & rHGG           & 0              & 0              & 1             \\\\\n",
       "\t202 & 2358           &  5272          &  7659          & 4/13/08        & 4/14/08        & Grade III      & Astrocytoma    & 86B15          & Ind            & Indeterminable & ⋯              & 0              & 0              & 0              & 0              & 0              & 1              & IndDNI         & 0              & 0              & 0             \\\\\n",
       "\t25 & 2384           &  5603          &  7759          & 8/3/08         & 8/4/08         & Grade III      & Astrocytoma    & 21B18          & 2              & 0              & ⋯              & 1              & 1              & 0              & 0              & 1              & 1              & rHGG           & 0              & 0              & 1             \\\\\n",
       "\t26 & 2384           &  5603          &  7759          & 8/3/08         & 8/4/08         & Grade III      & Astrocytoma    & 22B18          & 2              & 0              & ⋯              & 1              & 0              & 0              & 0              & 1              & 1              & rHGG           & 0              & 0              & 1             \\\\\n",
       "\t233 & 2451           &  5739          &  7821          & 10/6/08        & 10/7/08        & Grade III      & Astrocytoma    & 98B19          & 1              & 0              & ⋯              & 1              & 1              & 0              & 0              & 1              & 1              & Ts1DNI         & 0              & 0              & 0             \\\\\n",
       "\t174 & 2451           &  5739          &  7821          & 10/6/08        & 10/7/08        & Grade III      & Astrocytoma    & 81B19          & 2              & 0              & ⋯              & 0              & 1              & 1              & 0              & 1              & 1              & rHGG           & 0              & 0              & 1             \\\\\n",
       "\t235 & 2451           &  5739          &  7821          & 10/6/08        & 10/7/08        & Grade III      & Astrocytoma    & 99B19          & 2              & 0              & ⋯              & 0              & 1              & 1              & 0              & 1              & 1              & rHGG           & 0              & 0              & 1             \\\\\n",
       "\t75 & 2808           &  6551          &  8217          & 1/12/10        & 1/13/10        & Grade III      & Astrocytoma    & 47B30          & 0              & 0              & ⋯              & 0              & 1              & 1              & 0              & 1              & 1              & TxE            & 0              & 0              & 1             \\\\\n",
       "\t54 & 2808           &  6551          &  8217          & 1/12/10        & 1/13/10        & Grade III      & Astrocytoma    & 35B30          & 1              & 0              & ⋯              & 0              & 1              & 1              & 0              & 1              & 1              & Ts1DNI         & 0              & 0              & 0             \\\\\n",
       "\t270 & 3548           &  9000          &  9971          & 2014-05-12     & 2014-05-13     & Grade III      & Astrocytoma    & 40B64          & 2              & 0              & ⋯              & 0              & 1              & 1              & 0              & 1              & 1              & rHGG           & 0              & 0              & 1             \\\\\n",
       "\t271 & 3548           &  9000          &  9971          & 2014-05-12     & 2014-05-13     & Grade III      & Astrocytoma    & 41B64          & 2              & 0              & ⋯              & 0              & 1              & 1              & 0              & 1              & 1              & rHGG           & 0              & 0              & 1             \\\\\n",
       "\t273 & 3548           &  9000          &  9971          & 2014-05-12     & 2014-05-13     & Grade III      & Astrocytoma    & 43B64          & 2              & 0              & ⋯              & 0              & 1              & 1              & 0              & 1              & 1              & rHGG           & 0              & 0              & 1             \\\\\n",
       "\t272 & 3548           &  9000          &  9971          & 2014-05-12     & 2014-05-13     & Grade III      & Astrocytoma    & 42B64          & 3              & 0              & ⋯              & 0              & 1              & 1              & 0              & 1              & 1              & rHGG           & 0              & 0              & 1             \\\\\n",
       "\t347 & 4033           & 10343          & 10755          & 2016-03-16     & 2016-03-17     & Grade III      & Astrocytoma    & 25B81          & 0              & 0              & ⋯              & 1              & 1              & 0              & 0              & 1              & 1              & TxE            & 0              & 0              & 1             \\\\\n",
       "\t348 & 4033           & 10343          & 10755          & 2016-03-16     & 2016-03-17     & Grade III      & Astrocytoma    & 26B81          & 1              & 0              & ⋯              & 0              & 1              & 1              & 0              & 1              & 1              & Ts1DNI         & 0              & 0              & 0             \\\\\n",
       "\t395 & 4230           & 11025          & 11096          & 2016-12-15     & 2016-12-16     & Grade III      & Astrocytoma    & 5B96           & 2              & 0              & ⋯              & 1              & 1              & 1              & 0              & 1              & 1              & rHGG           & 0              & 0              & 1             \\\\\n",
       "\t396 & 4230           & 11025          & 11096          & 2016-12-15     & 2016-12-16     & Grade III      & Astrocytoma    & 6B96           & 2              & 0              & ⋯              & 0              & 1              & 1              & 0              & 1              & 1              & rHGG           & 0              & 0              & 1             \\\\\n",
       "\t397 & 4230           & 11025          & 11096          & 2016-12-15     & 2016-12-16     & Grade III      & Astrocytoma    & 7B96           & 2              & 0              & ⋯              & 0              & 1              & 1              & 0              & 1              & 1              & rHGG           & 0              & 0              & 1             \\\\\n",
       "\t394 & 4230           & 11025          & 11096          & 2016-12-15     & 2016-12-16     & Grade III      & Astrocytoma    & 4B96           & 3              & 0              & ⋯              & 0              & 1              & 1              & 0              & 1              & 1              & rHGG           & 0              & 0              & 1             \\\\\n",
       "\t402 & 3783           & 11192          & 11150          & 2017-01-29     & 2017-01-30     & Grade III      & Astrocytoma    & 34B97          & 2              & 0              & ⋯              & 0              & 1              & 1              & 0              & 1              & 1              & rHGG           & 0              & 0              & 1             \\\\\n",
       "\t403 & 3783           & 11192          & 11150          & 2017-01-29     & 2017-01-30     & Grade III      & Astrocytoma    & 35B97          & 2              & 0              & ⋯              & 1              & 1              & 0              & 0              & 1              & 1              & rHGG           & 0              & 0              & 1             \\\\\n",
       "\t404 & 3783           & 11192          & 11150          & 2017-01-29     & 2017-01-30     & Grade III      & Astrocytoma    & 36B97          & 3              & 0              & ⋯              & 1              & 1              & 1              & 0              & 1              & 1              & rHGG           & 0              & 0              & 1             \\\\\n",
       "\t405 & 3783           & 11192          & 11150          & 2017-01-29     & 2017-01-30     & Grade III      & Astrocytoma    & 37B97          & 3              & 0              & ⋯              & 0              & 0              & 0              & 0              & 0              & 1              & rHGG           & 0              & 0              & 1             \\\\\n",
       "\t414 & 4273           & 11333          & 11220          & 2017-03-21     & 2017-03-22     & Grade III      & Astrocytoma    & 56B97          & 3              & 0              & ⋯              & 1              & 1              & 0              & 0              & 1              & 1              & rHGG           & 0              & 0              & 1             \\\\\n",
       "\t421 & 4297           & 11410          & 11285          & 2017-05-10     & 2017-05-12     & Grade III      & Astrocytoma    & 35D3           & 3              & 0              & ⋯              & 0              & 1              & 1              & 0              & 1              & 1              & rHGG           & 0              & 0              & 1             \\\\\n",
       "\t422 & 4297           & 11410          & 11285          & 2017-05-10     & 2017-05-12     & Grade III      & Astrocytoma    & 36D3           & 3              & 0              & ⋯              & 0              & 1              & 1              & 0              & 1              & 1              & rHGG           & 0              & 0              & 1             \\\\\n",
       "\t426 & 4298           & 11412          & 11291          & 2017-05-16     & 2017-05-17     & Grade III      & Astrocytoma    & 44D3           & 2              & 0              & ⋯              & 0              & 1              & 1              & 0              & 1              & 1              & rHGG           & 0              & 0              & 1             \\\\\n",
       "\t423 & 4298           & 11412          & 11291          & 2017-05-16     & 2017-05-17     & Grade III      & Astrocytoma    & 41D3           & 3              & 0              & ⋯              & 0              & 1              & 1              & 0              & 1              & 1              & rHGG           & 0              & 0              & 1             \\\\\n",
       "\t424 & 4298           & 11412          & 11291          & 2017-05-16     & 2017-05-17     & Grade III      & Astrocytoma    & 42D3           & 3              & 0              & ⋯              & 0              & 1              & 1              & 0              & 1              & 1              & rHGG           & 0              & 0              & 1             \\\\\n",
       "\t425 & 4298           & 11412          & 11291          & 2017-05-16     & 2017-05-17     & Grade III      & Astrocytoma    & 43D3           & 3              & 0              & ⋯              & 0              & 1              & 1              & 0              & 1              & 1              & rHGG           & 0              & 0              & 1             \\\\\n",
       "\t⋮ & ⋮ & ⋮ & ⋮ & ⋮ & ⋮ & ⋮ & ⋮ & ⋮ & ⋮ & ⋮ & ⋱ & ⋮ & ⋮ & ⋮ & ⋮ & ⋮ & ⋮ & ⋮ & ⋮ & ⋮ & ⋮\\\\\n",
       "\t77 & 3009             &  7329            &  8649            & 2/8/11           & 2/9/11           & Treatment Effect & Treatment Effect & 48B40            & 2                & 0                & ⋯                & 0                & 0                & 0                & 0                & 0                & 1                & rHGG             & 0                & 0                & 1               \\\\\n",
       "\t7 & 3118             &  7394            &  8688            & 3/15/11          & 3/16/11          & Treatment Effect & Treatment Effect & 13B41            & 0                & 0                & ⋯                & 0                & 0                & 0                & 0                & 0                & 1                & TxE              & 0                & 0                & 1               \\\\\n",
       "\t9 & 3118             &  7394            &  8688            & 3/15/11          & 3/16/11          & Treatment Effect & Treatment Effect & 14B41            & 1                & 0                & ⋯                & 1                & 0                & 0                & 0                & 1                & 1                & Ts1DNI           & 0                & 0                & 0               \\\\\n",
       "\t29 & 3171             &  7553            &  8804            & 6/24/11          & 6/27/11          & Treatment Effect & Treatment Effect & 25B43            & 0                & 0                & ⋯                & 0                & 0                & 0                & 0                & 0                & 1                & TxE              & 0                & 0                & 1               \\\\\n",
       "\t33 & 3171             &  7553            &  8804            & 6/24/11          & 6/27/11          & Treatment Effect & Treatment Effect & 26B43            & 0                & 0                & ⋯                & 0                & 1                & 1                & 0                & 1                & 1                & TxE              & 0                & 0                & 1               \\\\\n",
       "\t283 & 3588             &  9084            & 10024            & 2014-06-29       & 2014-06-30       & Treatment Effect & Treatment Effect & 83B66            & 1                & 0                & ⋯                & 0                & 1                & 1                & 0                & 1                & 1                & Ts1DNI           & 0                & 0                & 0               \\\\\n",
       "\t282 & 3588             &  9084            & 10024            & 2014-06-29       & 2014-06-30       & Treatment Effect & Treatment Effect & 82B66            & 2                & 0                & ⋯                & 1                & 1                & 0                & 0                & 1                & 1                & rHGG             & 0                & 0                & 1               \\\\\n",
       "\t319 & 3791             &  9970            & 10507            & 2015-08-25       & 2015-08-26       & Treatment Effect & Treatment Effect & 48B78            & 1                & 0                & ⋯                & 0                & 1                & 1                & 0                & 1                & 1                & Ts1DNI           & 0                & 0                & 0               \\\\\n",
       "\t321 & 3791             &  9970            & 10507            & 2015-08-25       & 2015-08-26       & Treatment Effect & Treatment Effect & 50B78            & 1                & 0                & ⋯                & 1                & 1                & 1                & 0                & 1                & 1                & Ts1DNI           & 0                & 0                & 0               \\\\\n",
       "\t318 & 3791             &  9970            & 10507            & 2015-08-25       & 2015-08-26       & Treatment Effect & Treatment Effect & 47B78            & 2                & 0                & ⋯                & 1                & 1                & 0                & 0                & 1                & 1                & rHGG             & 0                & 0                & 1               \\\\\n",
       "\t320 & 3791             &  9970            & 10507            & 2015-08-25       & 2015-08-26       & Treatment Effect & Treatment Effect & 49B78            & 3                & 0                & ⋯                & 0                & 1                & 1                & 0                & 1                & 1                & rHGG             & 0                & 0                & 1               \\\\\n",
       "\t331 & 3966             & 10202            & 10632            & 2015-12-15       & 2015-12-16       & Treatment Effect & Treatment Effect & 15B90            & 1                & 0                & ⋯                & 1                & 1                & 0                & 0                & 1                & 1                & Ts1DNI           & 0                & 0                & 0               \\\\\n",
       "\t330 & 3966             & 10202            & 10632            & 2015-12-15       & 2015-12-16       & Treatment Effect & Treatment Effect & 14B90            & 2                & 0                & ⋯                & 0                & 1                & 1                & 0                & 1                & 1                & rHGG             & 0                & 0                & 1               \\\\\n",
       "\t341 & 3996             & 10251            & 10706            & 2016-02-02       & 2016-02-03       & Treatment Effect & Treatment Effect & 11B81            & 0                & 0                & ⋯                & 1                & 1                & 0                & 0                & 1                & 1                & TxE              & 0                & 0                & 1               \\\\\n",
       "\t342 & 3996             & 10251            & 10706            & 2016-02-02       & 2016-02-03       & Treatment Effect & Treatment Effect & 12B81            & 0                & 2                & ⋯                & 1                & 1                & 1                & 0                & 1                & 1                & NecDNI           & 0                & 0                & 0               \\\\\n",
       "\t343 & 3996             & 10251            & 10706            & 2016-02-02       & 2016-02-03       & Treatment Effect & Treatment Effect & 13B81            & 0                & 0                & ⋯                & 1                & 1                & 0                & 0                & 1                & 1                & TxE              & 0                & 0                & 1               \\\\\n",
       "\t344 & 3996             & 10251            & 10706            & 2016-02-02       & 2016-02-03       & Treatment Effect & Treatment Effect & 14B81            & 0                & 1                & ⋯                & 1                & 1                & 1                & 0                & 1                & 1                & TxE              & 0                & 0                & 1               \\\\\n",
       "\t350 & 4080             & 10366            & 10778            & 2016-04-12       & 2016-04-13       & Treatment Effect & Treatment Effect & 3B82             &                  & 2                & ⋯                & 0                & 1                & 1                & 0                & 1                & 1                & NecDNI           & 0                & 1                & 0               \\\\\n",
       "\t352 & 4080             & 10366            & 10778            & 2016-04-12       & 2016-04-13       & Treatment Effect & Treatment Effect & 5B82             &                  & 2                & ⋯                & 0                & 1                & 1                & 0                & 1                & 1                & NecDNI           & 0                & 1                & 0               \\\\\n",
       "\t349 & 4080             & 10366            & 10778            & 2016-04-12       & 2016-04-13       & Treatment Effect & Treatment Effect & 1B82             & 0                & 0                & ⋯                & 0                & 1                & 1                & 0                & 1                & 1                & TxE              & 0                & 0                & 1               \\\\\n",
       "\t351 & 4080             & 10366            & 10778            & 2016-04-12       & 2016-04-13       & Treatment Effect & Treatment Effect & 4B82             & 3                & 2                & ⋯                & 0                & 1                & 1                & 0                & 1                & 1                & NecDNI           & 0                & 0                & 0               \\\\\n",
       "\t362 & 4161             & 10655            & 10912            & 2016-07-25       & 2016-07-26       & Treatment Effect & Treatment Effect & 7B91             & 0                & 1                & ⋯                & 0                & 1                & 1                & 1                & 1                & 1                & TxE              & 0                & 0                & 1               \\\\\n",
       "\t375 & 4205             & 10756            & 11017            & 2016-10-11       & 2016-10-12       & Treatment Effect & Treatment Effect & 67B91            & 0                & 0                & ⋯                & 0                & 0                & 0                & 0                & 0                & 1                & PN               & 0                & 0                & 0               \\\\\n",
       "\t376 & 4205             & 10756            & 11017            & 2016-10-11       & 2016-10-12       & Treatment Effect & Treatment Effect & 68B91            & 0                & 0                & ⋯                & 0                & 1                & 1                & 0                & 1                & 1                & TxE              & 0                & 0                & 1               \\\\\n",
       "\t377 & 4205             & 10756            & 11017            & 2016-10-11       & 2016-10-12       & Treatment Effect & Treatment Effect & 69B91            & 3                & 0                & ⋯                & 0                & 1                & 1                & 0                & 1                & 1                & rHGG             & 0                & 0                & 1               \\\\\n",
       "\t378 & 4208             & 10763            & 11039            & 2016-10-25       & 2016-10-26       & Treatment Effect & Treatment Effect & 80B91            &                  & 2                & ⋯                & 1                & 1                & 1                & 0                & 1                & 1                & NecDNI           & 0                & 1                & 0               \\\\\n",
       "\t379 & 4208             & 10763            & 11039            & 2016-10-25       & 2016-10-26       & Treatment Effect & Treatment Effect & 81B91            & Ind              & 2                & ⋯                & 1                & 1                & 0                & 0                & 1                & 1                & NecDNI           & 0                & 1                & 0               \\\\\n",
       "\t409 & 4266             & 11295            & 11196            & 2017-03-07       & 2017-03-08       & Treatment Effect & Treatment Effect & 49B97            & 3                & 2                & ⋯                & 1                & 1                & 0                & 1                & 1                & 1                & NecDNI           & 0                & 0                & 0               \\\\\n",
       "\t432 & 4306             & 11484            & 11338            & 2017-06-29       & 2017-06-30       & Treatment Effect & Treatment Effect & 14D1             & 0                & 0                & ⋯                & 1                & 1                & 0                & 0                & 1                & 1                & TxE              & 0                & 0                & 1               \\\\\n",
       "\t433 & 4306             & 11484            & 11338            & 2017-06-29       & 2017-06-30       & Treatment Effect & Treatment Effect & 17D1             & 0                & 0                & ⋯                & 0                & 1                & 1                & 0                & 1                & 1                & TxE              & 0                & 0                & 1               \\\\\n",
       "\\end{tabular}\n"
      ],
      "text/markdown": [
       "\n",
       "| <!--/--> | b_number | t_number | sf_number | current_scan_date | current_surgery_date | current_hist_grade | current_hist_type | roi.label | tumor_cell_evaluation | necrosis | ⋯ | in_CEL | in_T2all | in_NEL | in_NEC | in_ROI | desired_hist | multnom_out | no_ffpe | waiting_on_path | rhgg_txe_analysis | \n",
       "|---|---|---|---|---|---|---|---|---|---|---|---|---|---|---|---|---|---|---|---|---|---|---|---|---|---|---|---|---|---|---|---|---|---|---|---|---|---|---|---|---|---|---|---|---|---|---|---|---|---|---|---|---|---|---|---|---|---|---|---|---|\n",
       "| 197 | 2358           |  5272          |  7659          | 4/13/08        | 4/14/08        | Grade III      | Astrocytoma    | 85B15          | 2              | 0              | ⋯              | 0              | 1              | 1              | 0              | 1              | 1              | rHGG           | 0              | 0              | 1              | \n",
       "| 202 | 2358           |  5272          |  7659          | 4/13/08        | 4/14/08        | Grade III      | Astrocytoma    | 86B15          | Ind            | Indeterminable | ⋯              | 0              | 0              | 0              | 0              | 0              | 1              | IndDNI         | 0              | 0              | 0              | \n",
       "| 25 | 2384           |  5603          |  7759          | 8/3/08         | 8/4/08         | Grade III      | Astrocytoma    | 21B18          | 2              | 0              | ⋯              | 1              | 1              | 0              | 0              | 1              | 1              | rHGG           | 0              | 0              | 1              | \n",
       "| 26 | 2384           |  5603          |  7759          | 8/3/08         | 8/4/08         | Grade III      | Astrocytoma    | 22B18          | 2              | 0              | ⋯              | 1              | 0              | 0              | 0              | 1              | 1              | rHGG           | 0              | 0              | 1              | \n",
       "| 233 | 2451           |  5739          |  7821          | 10/6/08        | 10/7/08        | Grade III      | Astrocytoma    | 98B19          | 1              | 0              | ⋯              | 1              | 1              | 0              | 0              | 1              | 1              | Ts1DNI         | 0              | 0              | 0              | \n",
       "| 174 | 2451           |  5739          |  7821          | 10/6/08        | 10/7/08        | Grade III      | Astrocytoma    | 81B19          | 2              | 0              | ⋯              | 0              | 1              | 1              | 0              | 1              | 1              | rHGG           | 0              | 0              | 1              | \n",
       "| 235 | 2451           |  5739          |  7821          | 10/6/08        | 10/7/08        | Grade III      | Astrocytoma    | 99B19          | 2              | 0              | ⋯              | 0              | 1              | 1              | 0              | 1              | 1              | rHGG           | 0              | 0              | 1              | \n",
       "| 75 | 2808           |  6551          |  8217          | 1/12/10        | 1/13/10        | Grade III      | Astrocytoma    | 47B30          | 0              | 0              | ⋯              | 0              | 1              | 1              | 0              | 1              | 1              | TxE            | 0              | 0              | 1              | \n",
       "| 54 | 2808           |  6551          |  8217          | 1/12/10        | 1/13/10        | Grade III      | Astrocytoma    | 35B30          | 1              | 0              | ⋯              | 0              | 1              | 1              | 0              | 1              | 1              | Ts1DNI         | 0              | 0              | 0              | \n",
       "| 270 | 3548           |  9000          |  9971          | 2014-05-12     | 2014-05-13     | Grade III      | Astrocytoma    | 40B64          | 2              | 0              | ⋯              | 0              | 1              | 1              | 0              | 1              | 1              | rHGG           | 0              | 0              | 1              | \n",
       "| 271 | 3548           |  9000          |  9971          | 2014-05-12     | 2014-05-13     | Grade III      | Astrocytoma    | 41B64          | 2              | 0              | ⋯              | 0              | 1              | 1              | 0              | 1              | 1              | rHGG           | 0              | 0              | 1              | \n",
       "| 273 | 3548           |  9000          |  9971          | 2014-05-12     | 2014-05-13     | Grade III      | Astrocytoma    | 43B64          | 2              | 0              | ⋯              | 0              | 1              | 1              | 0              | 1              | 1              | rHGG           | 0              | 0              | 1              | \n",
       "| 272 | 3548           |  9000          |  9971          | 2014-05-12     | 2014-05-13     | Grade III      | Astrocytoma    | 42B64          | 3              | 0              | ⋯              | 0              | 1              | 1              | 0              | 1              | 1              | rHGG           | 0              | 0              | 1              | \n",
       "| 347 | 4033           | 10343          | 10755          | 2016-03-16     | 2016-03-17     | Grade III      | Astrocytoma    | 25B81          | 0              | 0              | ⋯              | 1              | 1              | 0              | 0              | 1              | 1              | TxE            | 0              | 0              | 1              | \n",
       "| 348 | 4033           | 10343          | 10755          | 2016-03-16     | 2016-03-17     | Grade III      | Astrocytoma    | 26B81          | 1              | 0              | ⋯              | 0              | 1              | 1              | 0              | 1              | 1              | Ts1DNI         | 0              | 0              | 0              | \n",
       "| 395 | 4230           | 11025          | 11096          | 2016-12-15     | 2016-12-16     | Grade III      | Astrocytoma    | 5B96           | 2              | 0              | ⋯              | 1              | 1              | 1              | 0              | 1              | 1              | rHGG           | 0              | 0              | 1              | \n",
       "| 396 | 4230           | 11025          | 11096          | 2016-12-15     | 2016-12-16     | Grade III      | Astrocytoma    | 6B96           | 2              | 0              | ⋯              | 0              | 1              | 1              | 0              | 1              | 1              | rHGG           | 0              | 0              | 1              | \n",
       "| 397 | 4230           | 11025          | 11096          | 2016-12-15     | 2016-12-16     | Grade III      | Astrocytoma    | 7B96           | 2              | 0              | ⋯              | 0              | 1              | 1              | 0              | 1              | 1              | rHGG           | 0              | 0              | 1              | \n",
       "| 394 | 4230           | 11025          | 11096          | 2016-12-15     | 2016-12-16     | Grade III      | Astrocytoma    | 4B96           | 3              | 0              | ⋯              | 0              | 1              | 1              | 0              | 1              | 1              | rHGG           | 0              | 0              | 1              | \n",
       "| 402 | 3783           | 11192          | 11150          | 2017-01-29     | 2017-01-30     | Grade III      | Astrocytoma    | 34B97          | 2              | 0              | ⋯              | 0              | 1              | 1              | 0              | 1              | 1              | rHGG           | 0              | 0              | 1              | \n",
       "| 403 | 3783           | 11192          | 11150          | 2017-01-29     | 2017-01-30     | Grade III      | Astrocytoma    | 35B97          | 2              | 0              | ⋯              | 1              | 1              | 0              | 0              | 1              | 1              | rHGG           | 0              | 0              | 1              | \n",
       "| 404 | 3783           | 11192          | 11150          | 2017-01-29     | 2017-01-30     | Grade III      | Astrocytoma    | 36B97          | 3              | 0              | ⋯              | 1              | 1              | 1              | 0              | 1              | 1              | rHGG           | 0              | 0              | 1              | \n",
       "| 405 | 3783           | 11192          | 11150          | 2017-01-29     | 2017-01-30     | Grade III      | Astrocytoma    | 37B97          | 3              | 0              | ⋯              | 0              | 0              | 0              | 0              | 0              | 1              | rHGG           | 0              | 0              | 1              | \n",
       "| 414 | 4273           | 11333          | 11220          | 2017-03-21     | 2017-03-22     | Grade III      | Astrocytoma    | 56B97          | 3              | 0              | ⋯              | 1              | 1              | 0              | 0              | 1              | 1              | rHGG           | 0              | 0              | 1              | \n",
       "| 421 | 4297           | 11410          | 11285          | 2017-05-10     | 2017-05-12     | Grade III      | Astrocytoma    | 35D3           | 3              | 0              | ⋯              | 0              | 1              | 1              | 0              | 1              | 1              | rHGG           | 0              | 0              | 1              | \n",
       "| 422 | 4297           | 11410          | 11285          | 2017-05-10     | 2017-05-12     | Grade III      | Astrocytoma    | 36D3           | 3              | 0              | ⋯              | 0              | 1              | 1              | 0              | 1              | 1              | rHGG           | 0              | 0              | 1              | \n",
       "| 426 | 4298           | 11412          | 11291          | 2017-05-16     | 2017-05-17     | Grade III      | Astrocytoma    | 44D3           | 2              | 0              | ⋯              | 0              | 1              | 1              | 0              | 1              | 1              | rHGG           | 0              | 0              | 1              | \n",
       "| 423 | 4298           | 11412          | 11291          | 2017-05-16     | 2017-05-17     | Grade III      | Astrocytoma    | 41D3           | 3              | 0              | ⋯              | 0              | 1              | 1              | 0              | 1              | 1              | rHGG           | 0              | 0              | 1              | \n",
       "| 424 | 4298           | 11412          | 11291          | 2017-05-16     | 2017-05-17     | Grade III      | Astrocytoma    | 42D3           | 3              | 0              | ⋯              | 0              | 1              | 1              | 0              | 1              | 1              | rHGG           | 0              | 0              | 1              | \n",
       "| 425 | 4298           | 11412          | 11291          | 2017-05-16     | 2017-05-17     | Grade III      | Astrocytoma    | 43D3           | 3              | 0              | ⋯              | 0              | 1              | 1              | 0              | 1              | 1              | rHGG           | 0              | 0              | 1              | \n",
       "| ⋮ | ⋮ | ⋮ | ⋮ | ⋮ | ⋮ | ⋮ | ⋮ | ⋮ | ⋮ | ⋮ | ⋱ | ⋮ | ⋮ | ⋮ | ⋮ | ⋮ | ⋮ | ⋮ | ⋮ | ⋮ | ⋮ | \n",
       "| 77 | 3009             |  7329            |  8649            | 2/8/11           | 2/9/11           | Treatment Effect | Treatment Effect | 48B40            | 2                | 0                | ⋯                | 0                | 0                | 0                | 0                | 0                | 1                | rHGG             | 0                | 0                | 1                | \n",
       "| 7 | 3118             |  7394            |  8688            | 3/15/11          | 3/16/11          | Treatment Effect | Treatment Effect | 13B41            | 0                | 0                | ⋯                | 0                | 0                | 0                | 0                | 0                | 1                | TxE              | 0                | 0                | 1                | \n",
       "| 9 | 3118             |  7394            |  8688            | 3/15/11          | 3/16/11          | Treatment Effect | Treatment Effect | 14B41            | 1                | 0                | ⋯                | 1                | 0                | 0                | 0                | 1                | 1                | Ts1DNI           | 0                | 0                | 0                | \n",
       "| 29 | 3171             |  7553            |  8804            | 6/24/11          | 6/27/11          | Treatment Effect | Treatment Effect | 25B43            | 0                | 0                | ⋯                | 0                | 0                | 0                | 0                | 0                | 1                | TxE              | 0                | 0                | 1                | \n",
       "| 33 | 3171             |  7553            |  8804            | 6/24/11          | 6/27/11          | Treatment Effect | Treatment Effect | 26B43            | 0                | 0                | ⋯                | 0                | 1                | 1                | 0                | 1                | 1                | TxE              | 0                | 0                | 1                | \n",
       "| 283 | 3588             |  9084            | 10024            | 2014-06-29       | 2014-06-30       | Treatment Effect | Treatment Effect | 83B66            | 1                | 0                | ⋯                | 0                | 1                | 1                | 0                | 1                | 1                | Ts1DNI           | 0                | 0                | 0                | \n",
       "| 282 | 3588             |  9084            | 10024            | 2014-06-29       | 2014-06-30       | Treatment Effect | Treatment Effect | 82B66            | 2                | 0                | ⋯                | 1                | 1                | 0                | 0                | 1                | 1                | rHGG             | 0                | 0                | 1                | \n",
       "| 319 | 3791             |  9970            | 10507            | 2015-08-25       | 2015-08-26       | Treatment Effect | Treatment Effect | 48B78            | 1                | 0                | ⋯                | 0                | 1                | 1                | 0                | 1                | 1                | Ts1DNI           | 0                | 0                | 0                | \n",
       "| 321 | 3791             |  9970            | 10507            | 2015-08-25       | 2015-08-26       | Treatment Effect | Treatment Effect | 50B78            | 1                | 0                | ⋯                | 1                | 1                | 1                | 0                | 1                | 1                | Ts1DNI           | 0                | 0                | 0                | \n",
       "| 318 | 3791             |  9970            | 10507            | 2015-08-25       | 2015-08-26       | Treatment Effect | Treatment Effect | 47B78            | 2                | 0                | ⋯                | 1                | 1                | 0                | 0                | 1                | 1                | rHGG             | 0                | 0                | 1                | \n",
       "| 320 | 3791             |  9970            | 10507            | 2015-08-25       | 2015-08-26       | Treatment Effect | Treatment Effect | 49B78            | 3                | 0                | ⋯                | 0                | 1                | 1                | 0                | 1                | 1                | rHGG             | 0                | 0                | 1                | \n",
       "| 331 | 3966             | 10202            | 10632            | 2015-12-15       | 2015-12-16       | Treatment Effect | Treatment Effect | 15B90            | 1                | 0                | ⋯                | 1                | 1                | 0                | 0                | 1                | 1                | Ts1DNI           | 0                | 0                | 0                | \n",
       "| 330 | 3966             | 10202            | 10632            | 2015-12-15       | 2015-12-16       | Treatment Effect | Treatment Effect | 14B90            | 2                | 0                | ⋯                | 0                | 1                | 1                | 0                | 1                | 1                | rHGG             | 0                | 0                | 1                | \n",
       "| 341 | 3996             | 10251            | 10706            | 2016-02-02       | 2016-02-03       | Treatment Effect | Treatment Effect | 11B81            | 0                | 0                | ⋯                | 1                | 1                | 0                | 0                | 1                | 1                | TxE              | 0                | 0                | 1                | \n",
       "| 342 | 3996             | 10251            | 10706            | 2016-02-02       | 2016-02-03       | Treatment Effect | Treatment Effect | 12B81            | 0                | 2                | ⋯                | 1                | 1                | 1                | 0                | 1                | 1                | NecDNI           | 0                | 0                | 0                | \n",
       "| 343 | 3996             | 10251            | 10706            | 2016-02-02       | 2016-02-03       | Treatment Effect | Treatment Effect | 13B81            | 0                | 0                | ⋯                | 1                | 1                | 0                | 0                | 1                | 1                | TxE              | 0                | 0                | 1                | \n",
       "| 344 | 3996             | 10251            | 10706            | 2016-02-02       | 2016-02-03       | Treatment Effect | Treatment Effect | 14B81            | 0                | 1                | ⋯                | 1                | 1                | 1                | 0                | 1                | 1                | TxE              | 0                | 0                | 1                | \n",
       "| 350 | 4080             | 10366            | 10778            | 2016-04-12       | 2016-04-13       | Treatment Effect | Treatment Effect | 3B82             |                  | 2                | ⋯                | 0                | 1                | 1                | 0                | 1                | 1                | NecDNI           | 0                | 1                | 0                | \n",
       "| 352 | 4080             | 10366            | 10778            | 2016-04-12       | 2016-04-13       | Treatment Effect | Treatment Effect | 5B82             |                  | 2                | ⋯                | 0                | 1                | 1                | 0                | 1                | 1                | NecDNI           | 0                | 1                | 0                | \n",
       "| 349 | 4080             | 10366            | 10778            | 2016-04-12       | 2016-04-13       | Treatment Effect | Treatment Effect | 1B82             | 0                | 0                | ⋯                | 0                | 1                | 1                | 0                | 1                | 1                | TxE              | 0                | 0                | 1                | \n",
       "| 351 | 4080             | 10366            | 10778            | 2016-04-12       | 2016-04-13       | Treatment Effect | Treatment Effect | 4B82             | 3                | 2                | ⋯                | 0                | 1                | 1                | 0                | 1                | 1                | NecDNI           | 0                | 0                | 0                | \n",
       "| 362 | 4161             | 10655            | 10912            | 2016-07-25       | 2016-07-26       | Treatment Effect | Treatment Effect | 7B91             | 0                | 1                | ⋯                | 0                | 1                | 1                | 1                | 1                | 1                | TxE              | 0                | 0                | 1                | \n",
       "| 375 | 4205             | 10756            | 11017            | 2016-10-11       | 2016-10-12       | Treatment Effect | Treatment Effect | 67B91            | 0                | 0                | ⋯                | 0                | 0                | 0                | 0                | 0                | 1                | PN               | 0                | 0                | 0                | \n",
       "| 376 | 4205             | 10756            | 11017            | 2016-10-11       | 2016-10-12       | Treatment Effect | Treatment Effect | 68B91            | 0                | 0                | ⋯                | 0                | 1                | 1                | 0                | 1                | 1                | TxE              | 0                | 0                | 1                | \n",
       "| 377 | 4205             | 10756            | 11017            | 2016-10-11       | 2016-10-12       | Treatment Effect | Treatment Effect | 69B91            | 3                | 0                | ⋯                | 0                | 1                | 1                | 0                | 1                | 1                | rHGG             | 0                | 0                | 1                | \n",
       "| 378 | 4208             | 10763            | 11039            | 2016-10-25       | 2016-10-26       | Treatment Effect | Treatment Effect | 80B91            |                  | 2                | ⋯                | 1                | 1                | 1                | 0                | 1                | 1                | NecDNI           | 0                | 1                | 0                | \n",
       "| 379 | 4208             | 10763            | 11039            | 2016-10-25       | 2016-10-26       | Treatment Effect | Treatment Effect | 81B91            | Ind              | 2                | ⋯                | 1                | 1                | 0                | 0                | 1                | 1                | NecDNI           | 0                | 1                | 0                | \n",
       "| 409 | 4266             | 11295            | 11196            | 2017-03-07       | 2017-03-08       | Treatment Effect | Treatment Effect | 49B97            | 3                | 2                | ⋯                | 1                | 1                | 0                | 1                | 1                | 1                | NecDNI           | 0                | 0                | 0                | \n",
       "| 432 | 4306             | 11484            | 11338            | 2017-06-29       | 2017-06-30       | Treatment Effect | Treatment Effect | 14D1             | 0                | 0                | ⋯                | 1                | 1                | 0                | 0                | 1                | 1                | TxE              | 0                | 0                | 1                | \n",
       "| 433 | 4306             | 11484            | 11338            | 2017-06-29       | 2017-06-30       | Treatment Effect | Treatment Effect | 17D1             | 0                | 0                | ⋯                | 0                | 1                | 1                | 0                | 1                | 1                | TxE              | 0                | 0                | 1                | \n",
       "\n",
       "\n"
      ],
      "text/plain": [
       "    b_number t_number sf_number current_scan_date current_surgery_date\n",
       "197 2358      5272     7659     4/13/08           4/14/08             \n",
       "202 2358      5272     7659     4/13/08           4/14/08             \n",
       "25  2384      5603     7759     8/3/08            8/4/08              \n",
       "26  2384      5603     7759     8/3/08            8/4/08              \n",
       "233 2451      5739     7821     10/6/08           10/7/08             \n",
       "174 2451      5739     7821     10/6/08           10/7/08             \n",
       "235 2451      5739     7821     10/6/08           10/7/08             \n",
       "75  2808      6551     8217     1/12/10           1/13/10             \n",
       "54  2808      6551     8217     1/12/10           1/13/10             \n",
       "270 3548      9000     9971     2014-05-12        2014-05-13          \n",
       "271 3548      9000     9971     2014-05-12        2014-05-13          \n",
       "273 3548      9000     9971     2014-05-12        2014-05-13          \n",
       "272 3548      9000     9971     2014-05-12        2014-05-13          \n",
       "347 4033     10343    10755     2016-03-16        2016-03-17          \n",
       "348 4033     10343    10755     2016-03-16        2016-03-17          \n",
       "395 4230     11025    11096     2016-12-15        2016-12-16          \n",
       "396 4230     11025    11096     2016-12-15        2016-12-16          \n",
       "397 4230     11025    11096     2016-12-15        2016-12-16          \n",
       "394 4230     11025    11096     2016-12-15        2016-12-16          \n",
       "402 3783     11192    11150     2017-01-29        2017-01-30          \n",
       "403 3783     11192    11150     2017-01-29        2017-01-30          \n",
       "404 3783     11192    11150     2017-01-29        2017-01-30          \n",
       "405 3783     11192    11150     2017-01-29        2017-01-30          \n",
       "414 4273     11333    11220     2017-03-21        2017-03-22          \n",
       "421 4297     11410    11285     2017-05-10        2017-05-12          \n",
       "422 4297     11410    11285     2017-05-10        2017-05-12          \n",
       "426 4298     11412    11291     2017-05-16        2017-05-17          \n",
       "423 4298     11412    11291     2017-05-16        2017-05-17          \n",
       "424 4298     11412    11291     2017-05-16        2017-05-17          \n",
       "425 4298     11412    11291     2017-05-16        2017-05-17          \n",
       "⋮   ⋮        ⋮        ⋮         ⋮                 ⋮                   \n",
       "77  3009      7329     8649     2/8/11            2/9/11              \n",
       "7   3118      7394     8688     3/15/11           3/16/11             \n",
       "9   3118      7394     8688     3/15/11           3/16/11             \n",
       "29  3171      7553     8804     6/24/11           6/27/11             \n",
       "33  3171      7553     8804     6/24/11           6/27/11             \n",
       "283 3588      9084    10024     2014-06-29        2014-06-30          \n",
       "282 3588      9084    10024     2014-06-29        2014-06-30          \n",
       "319 3791      9970    10507     2015-08-25        2015-08-26          \n",
       "321 3791      9970    10507     2015-08-25        2015-08-26          \n",
       "318 3791      9970    10507     2015-08-25        2015-08-26          \n",
       "320 3791      9970    10507     2015-08-25        2015-08-26          \n",
       "331 3966     10202    10632     2015-12-15        2015-12-16          \n",
       "330 3966     10202    10632     2015-12-15        2015-12-16          \n",
       "341 3996     10251    10706     2016-02-02        2016-02-03          \n",
       "342 3996     10251    10706     2016-02-02        2016-02-03          \n",
       "343 3996     10251    10706     2016-02-02        2016-02-03          \n",
       "344 3996     10251    10706     2016-02-02        2016-02-03          \n",
       "350 4080     10366    10778     2016-04-12        2016-04-13          \n",
       "352 4080     10366    10778     2016-04-12        2016-04-13          \n",
       "349 4080     10366    10778     2016-04-12        2016-04-13          \n",
       "351 4080     10366    10778     2016-04-12        2016-04-13          \n",
       "362 4161     10655    10912     2016-07-25        2016-07-26          \n",
       "375 4205     10756    11017     2016-10-11        2016-10-12          \n",
       "376 4205     10756    11017     2016-10-11        2016-10-12          \n",
       "377 4205     10756    11017     2016-10-11        2016-10-12          \n",
       "378 4208     10763    11039     2016-10-25        2016-10-26          \n",
       "379 4208     10763    11039     2016-10-25        2016-10-26          \n",
       "409 4266     11295    11196     2017-03-07        2017-03-08          \n",
       "432 4306     11484    11338     2017-06-29        2017-06-30          \n",
       "433 4306     11484    11338     2017-06-29        2017-06-30          \n",
       "    current_hist_grade current_hist_type roi.label tumor_cell_evaluation\n",
       "197 Grade III          Astrocytoma       85B15     2                    \n",
       "202 Grade III          Astrocytoma       86B15     Ind                  \n",
       "25  Grade III          Astrocytoma       21B18     2                    \n",
       "26  Grade III          Astrocytoma       22B18     2                    \n",
       "233 Grade III          Astrocytoma       98B19     1                    \n",
       "174 Grade III          Astrocytoma       81B19     2                    \n",
       "235 Grade III          Astrocytoma       99B19     2                    \n",
       "75  Grade III          Astrocytoma       47B30     0                    \n",
       "54  Grade III          Astrocytoma       35B30     1                    \n",
       "270 Grade III          Astrocytoma       40B64     2                    \n",
       "271 Grade III          Astrocytoma       41B64     2                    \n",
       "273 Grade III          Astrocytoma       43B64     2                    \n",
       "272 Grade III          Astrocytoma       42B64     3                    \n",
       "347 Grade III          Astrocytoma       25B81     0                    \n",
       "348 Grade III          Astrocytoma       26B81     1                    \n",
       "395 Grade III          Astrocytoma       5B96      2                    \n",
       "396 Grade III          Astrocytoma       6B96      2                    \n",
       "397 Grade III          Astrocytoma       7B96      2                    \n",
       "394 Grade III          Astrocytoma       4B96      3                    \n",
       "402 Grade III          Astrocytoma       34B97     2                    \n",
       "403 Grade III          Astrocytoma       35B97     2                    \n",
       "404 Grade III          Astrocytoma       36B97     3                    \n",
       "405 Grade III          Astrocytoma       37B97     3                    \n",
       "414 Grade III          Astrocytoma       56B97     3                    \n",
       "421 Grade III          Astrocytoma       35D3      3                    \n",
       "422 Grade III          Astrocytoma       36D3      3                    \n",
       "426 Grade III          Astrocytoma       44D3      2                    \n",
       "423 Grade III          Astrocytoma       41D3      3                    \n",
       "424 Grade III          Astrocytoma       42D3      3                    \n",
       "425 Grade III          Astrocytoma       43D3      3                    \n",
       "⋮   ⋮                  ⋮                 ⋮         ⋮                    \n",
       "77  Treatment Effect   Treatment Effect  48B40     2                    \n",
       "7   Treatment Effect   Treatment Effect  13B41     0                    \n",
       "9   Treatment Effect   Treatment Effect  14B41     1                    \n",
       "29  Treatment Effect   Treatment Effect  25B43     0                    \n",
       "33  Treatment Effect   Treatment Effect  26B43     0                    \n",
       "283 Treatment Effect   Treatment Effect  83B66     1                    \n",
       "282 Treatment Effect   Treatment Effect  82B66     2                    \n",
       "319 Treatment Effect   Treatment Effect  48B78     1                    \n",
       "321 Treatment Effect   Treatment Effect  50B78     1                    \n",
       "318 Treatment Effect   Treatment Effect  47B78     2                    \n",
       "320 Treatment Effect   Treatment Effect  49B78     3                    \n",
       "331 Treatment Effect   Treatment Effect  15B90     1                    \n",
       "330 Treatment Effect   Treatment Effect  14B90     2                    \n",
       "341 Treatment Effect   Treatment Effect  11B81     0                    \n",
       "342 Treatment Effect   Treatment Effect  12B81     0                    \n",
       "343 Treatment Effect   Treatment Effect  13B81     0                    \n",
       "344 Treatment Effect   Treatment Effect  14B81     0                    \n",
       "350 Treatment Effect   Treatment Effect  3B82                           \n",
       "352 Treatment Effect   Treatment Effect  5B82                           \n",
       "349 Treatment Effect   Treatment Effect  1B82      0                    \n",
       "351 Treatment Effect   Treatment Effect  4B82      3                    \n",
       "362 Treatment Effect   Treatment Effect  7B91      0                    \n",
       "375 Treatment Effect   Treatment Effect  67B91     0                    \n",
       "376 Treatment Effect   Treatment Effect  68B91     0                    \n",
       "377 Treatment Effect   Treatment Effect  69B91     3                    \n",
       "378 Treatment Effect   Treatment Effect  80B91                          \n",
       "379 Treatment Effect   Treatment Effect  81B91     Ind                  \n",
       "409 Treatment Effect   Treatment Effect  49B97     3                    \n",
       "432 Treatment Effect   Treatment Effect  14D1      0                    \n",
       "433 Treatment Effect   Treatment Effect  17D1      0                    \n",
       "    necrosis       ⋯ in_CEL in_T2all in_NEL in_NEC in_ROI desired_hist\n",
       "197 0              ⋯ 0      1        1      0      1      1           \n",
       "202 Indeterminable ⋯ 0      0        0      0      0      1           \n",
       "25  0              ⋯ 1      1        0      0      1      1           \n",
       "26  0              ⋯ 1      0        0      0      1      1           \n",
       "233 0              ⋯ 1      1        0      0      1      1           \n",
       "174 0              ⋯ 0      1        1      0      1      1           \n",
       "235 0              ⋯ 0      1        1      0      1      1           \n",
       "75  0              ⋯ 0      1        1      0      1      1           \n",
       "54  0              ⋯ 0      1        1      0      1      1           \n",
       "270 0              ⋯ 0      1        1      0      1      1           \n",
       "271 0              ⋯ 0      1        1      0      1      1           \n",
       "273 0              ⋯ 0      1        1      0      1      1           \n",
       "272 0              ⋯ 0      1        1      0      1      1           \n",
       "347 0              ⋯ 1      1        0      0      1      1           \n",
       "348 0              ⋯ 0      1        1      0      1      1           \n",
       "395 0              ⋯ 1      1        1      0      1      1           \n",
       "396 0              ⋯ 0      1        1      0      1      1           \n",
       "397 0              ⋯ 0      1        1      0      1      1           \n",
       "394 0              ⋯ 0      1        1      0      1      1           \n",
       "402 0              ⋯ 0      1        1      0      1      1           \n",
       "403 0              ⋯ 1      1        0      0      1      1           \n",
       "404 0              ⋯ 1      1        1      0      1      1           \n",
       "405 0              ⋯ 0      0        0      0      0      1           \n",
       "414 0              ⋯ 1      1        0      0      1      1           \n",
       "421 0              ⋯ 0      1        1      0      1      1           \n",
       "422 0              ⋯ 0      1        1      0      1      1           \n",
       "426 0              ⋯ 0      1        1      0      1      1           \n",
       "423 0              ⋯ 0      1        1      0      1      1           \n",
       "424 0              ⋯ 0      1        1      0      1      1           \n",
       "425 0              ⋯ 0      1        1      0      1      1           \n",
       "⋮   ⋮              ⋱ ⋮      ⋮        ⋮      ⋮      ⋮      ⋮           \n",
       "77  0              ⋯ 0      0        0      0      0      1           \n",
       "7   0              ⋯ 0      0        0      0      0      1           \n",
       "9   0              ⋯ 1      0        0      0      1      1           \n",
       "29  0              ⋯ 0      0        0      0      0      1           \n",
       "33  0              ⋯ 0      1        1      0      1      1           \n",
       "283 0              ⋯ 0      1        1      0      1      1           \n",
       "282 0              ⋯ 1      1        0      0      1      1           \n",
       "319 0              ⋯ 0      1        1      0      1      1           \n",
       "321 0              ⋯ 1      1        1      0      1      1           \n",
       "318 0              ⋯ 1      1        0      0      1      1           \n",
       "320 0              ⋯ 0      1        1      0      1      1           \n",
       "331 0              ⋯ 1      1        0      0      1      1           \n",
       "330 0              ⋯ 0      1        1      0      1      1           \n",
       "341 0              ⋯ 1      1        0      0      1      1           \n",
       "342 2              ⋯ 1      1        1      0      1      1           \n",
       "343 0              ⋯ 1      1        0      0      1      1           \n",
       "344 1              ⋯ 1      1        1      0      1      1           \n",
       "350 2              ⋯ 0      1        1      0      1      1           \n",
       "352 2              ⋯ 0      1        1      0      1      1           \n",
       "349 0              ⋯ 0      1        1      0      1      1           \n",
       "351 2              ⋯ 0      1        1      0      1      1           \n",
       "362 1              ⋯ 0      1        1      1      1      1           \n",
       "375 0              ⋯ 0      0        0      0      0      1           \n",
       "376 0              ⋯ 0      1        1      0      1      1           \n",
       "377 0              ⋯ 0      1        1      0      1      1           \n",
       "378 2              ⋯ 1      1        1      0      1      1           \n",
       "379 2              ⋯ 1      1        0      0      1      1           \n",
       "409 2              ⋯ 1      1        0      1      1      1           \n",
       "432 0              ⋯ 1      1        0      0      1      1           \n",
       "433 0              ⋯ 0      1        1      0      1      1           \n",
       "    multnom_out no_ffpe waiting_on_path rhgg_txe_analysis\n",
       "197 rHGG        0       0               1                \n",
       "202 IndDNI      0       0               0                \n",
       "25  rHGG        0       0               1                \n",
       "26  rHGG        0       0               1                \n",
       "233 Ts1DNI      0       0               0                \n",
       "174 rHGG        0       0               1                \n",
       "235 rHGG        0       0               1                \n",
       "75  TxE         0       0               1                \n",
       "54  Ts1DNI      0       0               0                \n",
       "270 rHGG        0       0               1                \n",
       "271 rHGG        0       0               1                \n",
       "273 rHGG        0       0               1                \n",
       "272 rHGG        0       0               1                \n",
       "347 TxE         0       0               1                \n",
       "348 Ts1DNI      0       0               0                \n",
       "395 rHGG        0       0               1                \n",
       "396 rHGG        0       0               1                \n",
       "397 rHGG        0       0               1                \n",
       "394 rHGG        0       0               1                \n",
       "402 rHGG        0       0               1                \n",
       "403 rHGG        0       0               1                \n",
       "404 rHGG        0       0               1                \n",
       "405 rHGG        0       0               1                \n",
       "414 rHGG        0       0               1                \n",
       "421 rHGG        0       0               1                \n",
       "422 rHGG        0       0               1                \n",
       "426 rHGG        0       0               1                \n",
       "423 rHGG        0       0               1                \n",
       "424 rHGG        0       0               1                \n",
       "425 rHGG        0       0               1                \n",
       "⋮   ⋮           ⋮       ⋮               ⋮                \n",
       "77  rHGG        0       0               1                \n",
       "7   TxE         0       0               1                \n",
       "9   Ts1DNI      0       0               0                \n",
       "29  TxE         0       0               1                \n",
       "33  TxE         0       0               1                \n",
       "283 Ts1DNI      0       0               0                \n",
       "282 rHGG        0       0               1                \n",
       "319 Ts1DNI      0       0               0                \n",
       "321 Ts1DNI      0       0               0                \n",
       "318 rHGG        0       0               1                \n",
       "320 rHGG        0       0               1                \n",
       "331 Ts1DNI      0       0               0                \n",
       "330 rHGG        0       0               1                \n",
       "341 TxE         0       0               1                \n",
       "342 NecDNI      0       0               0                \n",
       "343 TxE         0       0               1                \n",
       "344 TxE         0       0               1                \n",
       "350 NecDNI      0       1               0                \n",
       "352 NecDNI      0       1               0                \n",
       "349 TxE         0       0               1                \n",
       "351 NecDNI      0       0               0                \n",
       "362 TxE         0       0               1                \n",
       "375 PN          0       0               0                \n",
       "376 TxE         0       0               1                \n",
       "377 rHGG        0       0               1                \n",
       "378 NecDNI      0       1               0                \n",
       "379 NecDNI      0       1               0                \n",
       "409 NecDNI      0       0               0                \n",
       "432 TxE         0       0               1                \n",
       "433 TxE         0       0               1                "
      ]
     },
     "metadata": {},
     "output_type": "display_data"
    }
   ],
   "source": [
    "recgli[order(recgli$current_hist_type, recgli$t_number, recgli$tumor_cell_evaluation),]"
   ]
  },
  {
   "cell_type": "code",
   "execution_count": 5,
   "metadata": {
    "collapsed": false
   },
   "outputs": [
    {
     "data": {
      "text/html": [
       "<ol class=list-inline>\n",
       "\t<li>423</li>\n",
       "\t<li>75</li>\n",
       "</ol>\n"
      ],
      "text/latex": [
       "\\begin{enumerate*}\n",
       "\\item 423\n",
       "\\item 75\n",
       "\\end{enumerate*}\n"
      ],
      "text/markdown": [
       "1. 423\n",
       "2. 75\n",
       "\n",
       "\n"
      ],
      "text/plain": [
       "[1] 423  75"
      ]
     },
     "metadata": {},
     "output_type": "display_data"
    },
    {
     "name": "stdout",
     "output_type": "stream",
     "text": [
      " num [1:423] 0 2 2 2 0 1 0 2 1 0 ...\n"
     ]
    }
   ],
   "source": [
    "recgli = recgli[recgli$tumor_cell_evaluation != \"Ind\",]\n",
    "dim(recgli)\n",
    "recgli = droplevels(recgli)\n",
    "recgli$tumor_cell_evaluation = as.character(recgli$tumor_cell_evaluation)\n",
    "recgli$tumor_cell_evaluation = as.numeric(recgli$tumor_cell_evaluation)\n",
    "str(recgli$tumor_cell_evaluation)"
   ]
  },
  {
   "cell_type": "code",
   "execution_count": 6,
   "metadata": {
    "collapsed": false
   },
   "outputs": [
    {
     "data": {
      "text/html": [
       "<ol class=list-inline>\n",
       "\t<li>423</li>\n",
       "\t<li>75</li>\n",
       "</ol>\n"
      ],
      "text/latex": [
       "\\begin{enumerate*}\n",
       "\\item 423\n",
       "\\item 75\n",
       "\\end{enumerate*}\n"
      ],
      "text/markdown": [
       "1. 423\n",
       "2. 75\n",
       "\n",
       "\n"
      ],
      "text/plain": [
       "[1] 423  75"
      ]
     },
     "metadata": {},
     "output_type": "display_data"
    }
   ],
   "source": [
    "recgli.anat = recgli[recgli$include_anat==1,]\n",
    "dim(recgli.anat)"
   ]
  },
  {
   "cell_type": "code",
   "execution_count": 8,
   "metadata": {
    "collapsed": true
   },
   "outputs": [],
   "source": [
    "recgli = recgli.anat"
   ]
  },
  {
   "cell_type": "code",
   "execution_count": 9,
   "metadata": {
    "collapsed": true
   },
   "outputs": [],
   "source": [
    "recgli$t_number = as.factor(recgli$t_number)\n",
    "#str(recgli)"
   ]
  },
  {
   "cell_type": "code",
   "execution_count": 10,
   "metadata": {
    "collapsed": true
   },
   "outputs": [],
   "source": [
    "recgli_new = recgli[which(recgli$olddata == 0), ]"
   ]
  },
  {
   "cell_type": "code",
   "execution_count": 14,
   "metadata": {
    "collapsed": false
   },
   "outputs": [
    {
     "data": {
      "text/html": [
       "<ol class=list-inline>\n",
       "\t<li>193</li>\n",
       "\t<li>75</li>\n",
       "</ol>\n"
      ],
      "text/latex": [
       "\\begin{enumerate*}\n",
       "\\item 193\n",
       "\\item 75\n",
       "\\end{enumerate*}\n"
      ],
      "text/markdown": [
       "1. 193\n",
       "2. 75\n",
       "\n",
       "\n"
      ],
      "text/plain": [
       "[1] 193  75"
      ]
     },
     "metadata": {},
     "output_type": "display_data"
    }
   ],
   "source": [
    "dim(recgli_new)"
   ]
  },
  {
   "cell_type": "code",
   "execution_count": 15,
   "metadata": {
    "collapsed": false
   },
   "outputs": [
    {
     "data": {
      "text/html": [
       "<dl class=dl-horizontal>\n",
       "\t<dt>b_number</dt>\n",
       "\t\t<dd>0</dd>\n",
       "\t<dt>t_number</dt>\n",
       "\t\t<dd>0</dd>\n",
       "\t<dt>sf_number</dt>\n",
       "\t\t<dd>0</dd>\n",
       "\t<dt>current_scan_date</dt>\n",
       "\t\t<dd>0</dd>\n",
       "\t<dt>current_surgery_date</dt>\n",
       "\t\t<dd>0</dd>\n",
       "\t<dt>current_hist_grade</dt>\n",
       "\t\t<dd>0</dd>\n",
       "\t<dt>current_hist_type</dt>\n",
       "\t\t<dd>0</dd>\n",
       "\t<dt>roi.label</dt>\n",
       "\t\t<dd>0</dd>\n",
       "\t<dt>tumor_cell_evaluation</dt>\n",
       "\t\t<dd>1.55440414507772</dd>\n",
       "\t<dt>necrosis</dt>\n",
       "\t\t<dd>0</dd>\n",
       "\t<dt>f8_delicate</dt>\n",
       "\t\t<dd>0</dd>\n",
       "\t<dt>f8_simple</dt>\n",
       "\t\t<dd>0</dd>\n",
       "\t<dt>f8_complex</dt>\n",
       "\t\t<dd>0</dd>\n",
       "\t<dt>mib_1</dt>\n",
       "\t\t<dd>4.14507772020725</dd>\n",
       "\t<dt>bx_pure_treatment_effect</dt>\n",
       "\t\t<dd>0</dd>\n",
       "\t<dt>nfse</dt>\n",
       "\t\t<dd>0</dd>\n",
       "\t<dt>nfl</dt>\n",
       "\t\t<dd>0</dd>\n",
       "\t<dt>nt1c</dt>\n",
       "\t\t<dd>0</dd>\n",
       "\t<dt>nt1v</dt>\n",
       "\t\t<dd>12.4352331606218</dd>\n",
       "\t<dt>nt1d</dt>\n",
       "\t\t<dd>12.4352331606218</dd>\n",
       "\t<dt>nadc.1</dt>\n",
       "\t\t<dd>0.518134715025907</dd>\n",
       "\t<dt>nfa.1</dt>\n",
       "\t\t<dd>0.518134715025907</dd>\n",
       "\t<dt>nev1.1</dt>\n",
       "\t\t<dd>13.9896373056995</dd>\n",
       "\t<dt>nev2.1</dt>\n",
       "\t\t<dd>13.9896373056995</dd>\n",
       "\t<dt>nev3.1</dt>\n",
       "\t\t<dd>13.9896373056995</dd>\n",
       "\t<dt>nevrad.1</dt>\n",
       "\t\t<dd>13.9896373056995</dd>\n",
       "\t<dt>nadc.2</dt>\n",
       "\t\t<dd>5.18134715025907</dd>\n",
       "\t<dt>nfa.2</dt>\n",
       "\t\t<dd>5.18134715025907</dd>\n",
       "\t<dt>nev1.2</dt>\n",
       "\t\t<dd>34.7150259067358</dd>\n",
       "\t<dt>nev2.2</dt>\n",
       "\t\t<dd>34.7150259067358</dd>\n",
       "\t<dt>nev3.2</dt>\n",
       "\t\t<dd>34.7150259067358</dd>\n",
       "\t<dt>nevrad.2</dt>\n",
       "\t\t<dd>34.7150259067358</dd>\n",
       "\t<dt>cbvn_nlin</dt>\n",
       "\t\t<dd>32.6424870466321</dd>\n",
       "\t<dt>phn_nlin</dt>\n",
       "\t\t<dd>68.9119170984456</dd>\n",
       "\t<dt>phn_npar</dt>\n",
       "\t\t<dd>68.9119170984456</dd>\n",
       "\t<dt>recovn_npar</dt>\n",
       "\t\t<dd>68.9119170984456</dd>\n",
       "\t<dt>cni</dt>\n",
       "\t\t<dd>40.4145077720207</dd>\n",
       "\t<dt>ccri</dt>\n",
       "\t\t<dd>40.4145077720207</dd>\n",
       "\t<dt>crni</dt>\n",
       "\t\t<dd>40.4145077720207</dd>\n",
       "\t<dt>ncho</dt>\n",
       "\t\t<dd>40.4145077720207</dd>\n",
       "\t<dt>ncre</dt>\n",
       "\t\t<dd>40.4145077720207</dd>\n",
       "\t<dt>nnaa</dt>\n",
       "\t\t<dd>40.4145077720207</dd>\n",
       "\t<dt>laclip</dt>\n",
       "\t\t<dd>40.4145077720207</dd>\n",
       "\t<dt>nlip</dt>\n",
       "\t\t<dd>40.4145077720207</dd>\n",
       "\t<dt>nlac</dt>\n",
       "\t\t<dd>40.4145077720207</dd>\n",
       "\t<dt>olddata</dt>\n",
       "\t\t<dd>0</dd>\n",
       "\t<dt>newdata</dt>\n",
       "\t\t<dd>0</dd>\n",
       "\t<dt>comments</dt>\n",
       "\t\t<dd>0</dd>\n",
       "\t<dt>notes.</dt>\n",
       "\t\t<dd>94.300518134715</dd>\n",
       "\t<dt>imaging_code</dt>\n",
       "\t\t<dd>100</dd>\n",
       "\t<dt>perf_quant</dt>\n",
       "\t\t<dd>0</dd>\n",
       "\t<dt>cbv_nlin</dt>\n",
       "\t\t<dd>100</dd>\n",
       "\t<dt>spec_quant</dt>\n",
       "\t\t<dd>22.279792746114</dd>\n",
       "\t<dt>include_anat</dt>\n",
       "\t\t<dd>0</dd>\n",
       "\t<dt>include_diffu1000</dt>\n",
       "\t\t<dd>0</dd>\n",
       "\t<dt>include_diffu2000</dt>\n",
       "\t\t<dd>0</dd>\n",
       "\t<dt>include_diffu_all</dt>\n",
       "\t\t<dd>0</dd>\n",
       "\t<dt>include_perf</dt>\n",
       "\t\t<dd>0</dd>\n",
       "\t<dt>include_spec</dt>\n",
       "\t\t<dd>0</dd>\n",
       "\t<dt>include_one_advanced_mod</dt>\n",
       "\t\t<dd>0</dd>\n",
       "\t<dt>include_all_advanced_mods</dt>\n",
       "\t\t<dd>0</dd>\n",
       "\t<dt>X.CEL</dt>\n",
       "\t\t<dd>13.9896373056995</dd>\n",
       "\t<dt>X.NEL</dt>\n",
       "\t\t<dd>9.84455958549223</dd>\n",
       "\t<dt>X.NEC</dt>\n",
       "\t\t<dd>90.1554404145078</dd>\n",
       "\t<dt>sum</dt>\n",
       "\t\t<dd>8.80829015544041</dd>\n",
       "\t<dt>in_CEL</dt>\n",
       "\t\t<dd>0</dd>\n",
       "\t<dt>in_T2all</dt>\n",
       "\t\t<dd>0</dd>\n",
       "\t<dt>in_NEL</dt>\n",
       "\t\t<dd>0</dd>\n",
       "\t<dt>in_NEC</dt>\n",
       "\t\t<dd>0</dd>\n",
       "\t<dt>in_ROI</dt>\n",
       "\t\t<dd>0</dd>\n",
       "\t<dt>desired_hist</dt>\n",
       "\t\t<dd>0</dd>\n",
       "\t<dt>multnom_out</dt>\n",
       "\t\t<dd>0</dd>\n",
       "\t<dt>no_ffpe</dt>\n",
       "\t\t<dd>0</dd>\n",
       "\t<dt>waiting_on_path</dt>\n",
       "\t\t<dd>0</dd>\n",
       "\t<dt>rhgg_txe_analysis</dt>\n",
       "\t\t<dd>0</dd>\n",
       "</dl>\n"
      ],
      "text/latex": [
       "\\begin{description*}\n",
       "\\item[b\\textbackslash{}\\_number] 0\n",
       "\\item[t\\textbackslash{}\\_number] 0\n",
       "\\item[sf\\textbackslash{}\\_number] 0\n",
       "\\item[current\\textbackslash{}\\_scan\\textbackslash{}\\_date] 0\n",
       "\\item[current\\textbackslash{}\\_surgery\\textbackslash{}\\_date] 0\n",
       "\\item[current\\textbackslash{}\\_hist\\textbackslash{}\\_grade] 0\n",
       "\\item[current\\textbackslash{}\\_hist\\textbackslash{}\\_type] 0\n",
       "\\item[roi.label] 0\n",
       "\\item[tumor\\textbackslash{}\\_cell\\textbackslash{}\\_evaluation] 1.55440414507772\n",
       "\\item[necrosis] 0\n",
       "\\item[f8\\textbackslash{}\\_delicate] 0\n",
       "\\item[f8\\textbackslash{}\\_simple] 0\n",
       "\\item[f8\\textbackslash{}\\_complex] 0\n",
       "\\item[mib\\textbackslash{}\\_1] 4.14507772020725\n",
       "\\item[bx\\textbackslash{}\\_pure\\textbackslash{}\\_treatment\\textbackslash{}\\_effect] 0\n",
       "\\item[nfse] 0\n",
       "\\item[nfl] 0\n",
       "\\item[nt1c] 0\n",
       "\\item[nt1v] 12.4352331606218\n",
       "\\item[nt1d] 12.4352331606218\n",
       "\\item[nadc.1] 0.518134715025907\n",
       "\\item[nfa.1] 0.518134715025907\n",
       "\\item[nev1.1] 13.9896373056995\n",
       "\\item[nev2.1] 13.9896373056995\n",
       "\\item[nev3.1] 13.9896373056995\n",
       "\\item[nevrad.1] 13.9896373056995\n",
       "\\item[nadc.2] 5.18134715025907\n",
       "\\item[nfa.2] 5.18134715025907\n",
       "\\item[nev1.2] 34.7150259067358\n",
       "\\item[nev2.2] 34.7150259067358\n",
       "\\item[nev3.2] 34.7150259067358\n",
       "\\item[nevrad.2] 34.7150259067358\n",
       "\\item[cbvn\\textbackslash{}\\_nlin] 32.6424870466321\n",
       "\\item[phn\\textbackslash{}\\_nlin] 68.9119170984456\n",
       "\\item[phn\\textbackslash{}\\_npar] 68.9119170984456\n",
       "\\item[recovn\\textbackslash{}\\_npar] 68.9119170984456\n",
       "\\item[cni] 40.4145077720207\n",
       "\\item[ccri] 40.4145077720207\n",
       "\\item[crni] 40.4145077720207\n",
       "\\item[ncho] 40.4145077720207\n",
       "\\item[ncre] 40.4145077720207\n",
       "\\item[nnaa] 40.4145077720207\n",
       "\\item[laclip] 40.4145077720207\n",
       "\\item[nlip] 40.4145077720207\n",
       "\\item[nlac] 40.4145077720207\n",
       "\\item[olddata] 0\n",
       "\\item[newdata] 0\n",
       "\\item[comments] 0\n",
       "\\item[notes.] 94.300518134715\n",
       "\\item[imaging\\textbackslash{}\\_code] 100\n",
       "\\item[perf\\textbackslash{}\\_quant] 0\n",
       "\\item[cbv\\textbackslash{}\\_nlin] 100\n",
       "\\item[spec\\textbackslash{}\\_quant] 22.279792746114\n",
       "\\item[include\\textbackslash{}\\_anat] 0\n",
       "\\item[include\\textbackslash{}\\_diffu1000] 0\n",
       "\\item[include\\textbackslash{}\\_diffu2000] 0\n",
       "\\item[include\\textbackslash{}\\_diffu\\textbackslash{}\\_all] 0\n",
       "\\item[include\\textbackslash{}\\_perf] 0\n",
       "\\item[include\\textbackslash{}\\_spec] 0\n",
       "\\item[include\\textbackslash{}\\_one\\textbackslash{}\\_advanced\\textbackslash{}\\_mod] 0\n",
       "\\item[include\\textbackslash{}\\_all\\textbackslash{}\\_advanced\\textbackslash{}\\_mods] 0\n",
       "\\item[X.CEL] 13.9896373056995\n",
       "\\item[X.NEL] 9.84455958549223\n",
       "\\item[X.NEC] 90.1554404145078\n",
       "\\item[sum] 8.80829015544041\n",
       "\\item[in\\textbackslash{}\\_CEL] 0\n",
       "\\item[in\\textbackslash{}\\_T2all] 0\n",
       "\\item[in\\textbackslash{}\\_NEL] 0\n",
       "\\item[in\\textbackslash{}\\_NEC] 0\n",
       "\\item[in\\textbackslash{}\\_ROI] 0\n",
       "\\item[desired\\textbackslash{}\\_hist] 0\n",
       "\\item[multnom\\textbackslash{}\\_out] 0\n",
       "\\item[no\\textbackslash{}\\_ffpe] 0\n",
       "\\item[waiting\\textbackslash{}\\_on\\textbackslash{}\\_path] 0\n",
       "\\item[rhgg\\textbackslash{}\\_txe\\textbackslash{}\\_analysis] 0\n",
       "\\end{description*}\n"
      ],
      "text/markdown": [
       "b_number\n",
       ":   0t_number\n",
       ":   0sf_number\n",
       ":   0current_scan_date\n",
       ":   0current_surgery_date\n",
       ":   0current_hist_grade\n",
       ":   0current_hist_type\n",
       ":   0roi.label\n",
       ":   0tumor_cell_evaluation\n",
       ":   1.55440414507772necrosis\n",
       ":   0f8_delicate\n",
       ":   0f8_simple\n",
       ":   0f8_complex\n",
       ":   0mib_1\n",
       ":   4.14507772020725bx_pure_treatment_effect\n",
       ":   0nfse\n",
       ":   0nfl\n",
       ":   0nt1c\n",
       ":   0nt1v\n",
       ":   12.4352331606218nt1d\n",
       ":   12.4352331606218nadc.1\n",
       ":   0.518134715025907nfa.1\n",
       ":   0.518134715025907nev1.1\n",
       ":   13.9896373056995nev2.1\n",
       ":   13.9896373056995nev3.1\n",
       ":   13.9896373056995nevrad.1\n",
       ":   13.9896373056995nadc.2\n",
       ":   5.18134715025907nfa.2\n",
       ":   5.18134715025907nev1.2\n",
       ":   34.7150259067358nev2.2\n",
       ":   34.7150259067358nev3.2\n",
       ":   34.7150259067358nevrad.2\n",
       ":   34.7150259067358cbvn_nlin\n",
       ":   32.6424870466321phn_nlin\n",
       ":   68.9119170984456phn_npar\n",
       ":   68.9119170984456recovn_npar\n",
       ":   68.9119170984456cni\n",
       ":   40.4145077720207ccri\n",
       ":   40.4145077720207crni\n",
       ":   40.4145077720207ncho\n",
       ":   40.4145077720207ncre\n",
       ":   40.4145077720207nnaa\n",
       ":   40.4145077720207laclip\n",
       ":   40.4145077720207nlip\n",
       ":   40.4145077720207nlac\n",
       ":   40.4145077720207olddata\n",
       ":   0newdata\n",
       ":   0comments\n",
       ":   0notes.\n",
       ":   94.300518134715imaging_code\n",
       ":   100perf_quant\n",
       ":   0cbv_nlin\n",
       ":   100spec_quant\n",
       ":   22.279792746114include_anat\n",
       ":   0include_diffu1000\n",
       ":   0include_diffu2000\n",
       ":   0include_diffu_all\n",
       ":   0include_perf\n",
       ":   0include_spec\n",
       ":   0include_one_advanced_mod\n",
       ":   0include_all_advanced_mods\n",
       ":   0X.CEL\n",
       ":   13.9896373056995X.NEL\n",
       ":   9.84455958549223X.NEC\n",
       ":   90.1554404145078sum\n",
       ":   8.80829015544041in_CEL\n",
       ":   0in_T2all\n",
       ":   0in_NEL\n",
       ":   0in_NEC\n",
       ":   0in_ROI\n",
       ":   0desired_hist\n",
       ":   0multnom_out\n",
       ":   0no_ffpe\n",
       ":   0waiting_on_path\n",
       ":   0rhgg_txe_analysis\n",
       ":   0\n",
       "\n"
      ],
      "text/plain": [
       "                 b_number                  t_number                 sf_number \n",
       "                0.0000000                 0.0000000                 0.0000000 \n",
       "        current_scan_date      current_surgery_date        current_hist_grade \n",
       "                0.0000000                 0.0000000                 0.0000000 \n",
       "        current_hist_type                 roi.label     tumor_cell_evaluation \n",
       "                0.0000000                 0.0000000                 1.5544041 \n",
       "                 necrosis               f8_delicate                 f8_simple \n",
       "                0.0000000                 0.0000000                 0.0000000 \n",
       "               f8_complex                     mib_1  bx_pure_treatment_effect \n",
       "                0.0000000                 4.1450777                 0.0000000 \n",
       "                     nfse                       nfl                      nt1c \n",
       "                0.0000000                 0.0000000                 0.0000000 \n",
       "                     nt1v                      nt1d                    nadc.1 \n",
       "               12.4352332                12.4352332                 0.5181347 \n",
       "                    nfa.1                    nev1.1                    nev2.1 \n",
       "                0.5181347                13.9896373                13.9896373 \n",
       "                   nev3.1                  nevrad.1                    nadc.2 \n",
       "               13.9896373                13.9896373                 5.1813472 \n",
       "                    nfa.2                    nev1.2                    nev2.2 \n",
       "                5.1813472                34.7150259                34.7150259 \n",
       "                   nev3.2                  nevrad.2                 cbvn_nlin \n",
       "               34.7150259                34.7150259                32.6424870 \n",
       "                 phn_nlin                  phn_npar               recovn_npar \n",
       "               68.9119171                68.9119171                68.9119171 \n",
       "                      cni                      ccri                      crni \n",
       "               40.4145078                40.4145078                40.4145078 \n",
       "                     ncho                      ncre                      nnaa \n",
       "               40.4145078                40.4145078                40.4145078 \n",
       "                   laclip                      nlip                      nlac \n",
       "               40.4145078                40.4145078                40.4145078 \n",
       "                  olddata                   newdata                  comments \n",
       "                0.0000000                 0.0000000                 0.0000000 \n",
       "                   notes.              imaging_code                perf_quant \n",
       "               94.3005181               100.0000000                 0.0000000 \n",
       "                 cbv_nlin                spec_quant              include_anat \n",
       "              100.0000000                22.2797927                 0.0000000 \n",
       "        include_diffu1000         include_diffu2000         include_diffu_all \n",
       "                0.0000000                 0.0000000                 0.0000000 \n",
       "             include_perf              include_spec  include_one_advanced_mod \n",
       "                0.0000000                 0.0000000                 0.0000000 \n",
       "include_all_advanced_mods                     X.CEL                     X.NEL \n",
       "                0.0000000                13.9896373                 9.8445596 \n",
       "                    X.NEC                       sum                    in_CEL \n",
       "               90.1554404                 8.8082902                 0.0000000 \n",
       "                 in_T2all                    in_NEL                    in_NEC \n",
       "                0.0000000                 0.0000000                 0.0000000 \n",
       "                   in_ROI              desired_hist               multnom_out \n",
       "                0.0000000                 0.0000000                 0.0000000 \n",
       "                  no_ffpe           waiting_on_path         rhgg_txe_analysis \n",
       "                0.0000000                 0.0000000                 0.0000000 "
      ]
     },
     "metadata": {},
     "output_type": "display_data"
    }
   ],
   "source": [
    "colSums(is.na(recgli_new))/193*100"
   ]
  },
  {
   "cell_type": "code",
   "execution_count": 16,
   "metadata": {
    "collapsed": true
   },
   "outputs": [],
   "source": [
    "recgli_new= recgli_new[!is.na(recgli_new$nt1v), ]"
   ]
  },
  {
   "cell_type": "code",
   "execution_count": 17,
   "metadata": {
    "collapsed": true
   },
   "outputs": [],
   "source": [
    "recgli = recgli_new "
   ]
  },
  {
   "cell_type": "markdown",
   "metadata": {},
   "source": [
    "# Visualization: "
   ]
  },
  {
   "cell_type": "code",
   "execution_count": 20,
   "metadata": {
    "collapsed": false
   },
   "outputs": [
    {
     "data": {
      "image/png": "[encoded data removed]",
      "text/plain": [
       "Plot with title “nt1v vs. ts”"
      ]
     },
     "metadata": {},
     "output_type": "display_data"
    },
    {
     "data": {
      "image/png": "[encoded data removed]",
      "text/plain": [
       "Plot with title “nt1d vs. ts (newdata)”"
      ]
     },
     "metadata": {},
     "output_type": "display_data"
    }
   ],
   "source": [
    "par(mfrow = c(2, 2))\n",
    "a = boxplot(nfse ~ tumor_cell_evaluation , data = recgli, ylab = \"normalized fse\", xlab = \"tumorscore\", main = 'nfse vs. ts')\n",
    "\n",
    "b = boxplot(nfl ~ tumor_cell_evaluation , data = recgli, ylab = \"normalized fl\", xlab = \"tumorscore\", main = 'nfl vs. ts')\n",
    "\n",
    "c = boxplot(nt1c ~ tumor_cell_evaluation , data = recgli, ylab = \"normalized t1c\", xlab = \"tumorscore\", main = 'nt1c vs. ts')\n",
    "\n",
    "d = boxplot(nt1v ~ tumor_cell_evaluation , data = recgli, ylab = \"normalized t1v\", xlab = \"tumorscore\", main = 'nt1v vs. ts')\n",
    "\n",
    "f = boxplot(nt1d ~ tumor_cell_evaluation , data = recgli[recgli$olddata==0,], ylab = \"normalized t1d\", xlab = \"tumorscore\", main = 'nt1d vs. ts (newdata)')\n"
   ]
  },
  {
   "cell_type": "code",
   "execution_count": 41,
   "metadata": {
    "collapsed": false
   },
   "outputs": [
    {
     "data": {
      "image/png": "[encoded data removed]",
      "text/plain": [
       "Plot with title “nfse for ts = 3”"
      ]
     },
     "metadata": {},
     "output_type": "display_data"
    }
   ],
   "source": [
    "par(mfrow = c(2, 2))\n",
    "a = hist(recgli[which(recgli$tumor_cell_evaluation==0),]$nfse, \n",
    "         ylab = \"normalized fse\", xlab = \"tumorscore\", \n",
    "         main = 'nfse for ts = 0', xlim=c(0,5), breaks = c(seq(0, 5, by = .25)))\n",
    "a = hist(recgli[which(recgli$tumor_cell_evaluation==1),]$nfse, \n",
    "         ylab = \"normalized fse\", xlab = \"tumorscore\", \n",
    "         main = 'nfse for ts = 1', xlim = c(0,5), breaks = c(seq(0, 5, by = .25)))\n",
    "a = hist(recgli[which(recgli$tumor_cell_evaluation==2),]$nfse, \n",
    "         ylab = \"normalized fse\", xlab = \"tumorscore\", \n",
    "         main = 'nfse for ts = 2', xlim = c(0,5), breaks = c(seq(0, 5, by = .25)))\n",
    "a = hist(recgli[which(recgli$tumor_cell_evaluation==3),]$nfse, \n",
    "         ylab = \"normalized fse\", xlab = \"tumorscore\", \n",
    "         main = 'nfse for ts = 3', xlim = c(0,5), breaks = c(seq(0, 5, by = .25)))"
   ]
  },
  {
   "cell_type": "code",
   "execution_count": 64,
   "metadata": {
    "collapsed": false
   },
   "outputs": [
    {
     "data": {
      "image/png": "[encoded data removed]",
      "text/plain": [
       "Plot with title “distribution of nfse\n",
       " in TS”"
      ]
     },
     "metadata": {},
     "output_type": "display_data"
    }
   ],
   "source": [
    "par(mfrow=c(1,1))\n",
    "\n",
    "hist(recgli[which(recgli$tumor_cell_evaluation==0 ),]$nfse, breaks=seq(from = 0, to = 6, by = .25), ylim = c(0, 25),  xlim=c(0,6), col=rgb(1,0,0,0.2), xlab=\"nfse value\", \n",
    "     ylab=\"\", main=\"distribution of nfse\\n in TS\")\n",
    "hist(recgli[which(recgli$tumor_cell_evaluation==1 ),]$nfse, breaks=seq(from = 0, to = 6, by = .25), ylim = c(0, 25),  xlim=c(0,6), col=rgb(0,1,0,0.2), add=T)\n",
    "hist(recgli[which(recgli$tumor_cell_evaluation==2 ),]$nfse, breaks=seq(from = 0, to = 6, by = .25), ylim = c(0, 25),  xlim=c(0,6), col=rgb(0,0,1,0.2), add=T)\n",
    "hist(recgli[which(recgli$tumor_cell_evaluation==3 ),]$nfse, breaks=seq(from = 0, to = 6, by = .25), ylim = c(0, 25),  xlim=c(0,6), col=rgb(0,1,1,0.2), add=T)\n",
    "legend(\"topright\", legend=c(\"0\",\"1\", \"2\", \"3\"), col=c(rgb(1,0,0,0.2), \n",
    "     rgb(0,1,0,0.5), rgb(0,0,1,0.5), rgb(0,1,1,0.5)), pt.cex=2, pch=15, cex = .7 )"
   ]
  },
  {
   "cell_type": "code",
   "execution_count": 42,
   "metadata": {
    "collapsed": false
   },
   "outputs": [
    {
     "data": {
      "image/png": "[encoded data removed]",
      "text/plain": [
       "Plot with title “nfl for ts = 3”"
      ]
     },
     "metadata": {},
     "output_type": "display_data"
    }
   ],
   "source": [
    "par(mfrow = c(2, 2))\n",
    "a = hist(recgli[which(recgli$tumor_cell_evaluation==0),]$nfl, \n",
    "         ylab = \"normalized fl\", xlab = \"tumorscore\", \n",
    "         main = 'nfl for ts = 0', xlim=c(0,5), breaks = c(seq(0, 5, by = .25)))\n",
    "a = hist(recgli[which(recgli$tumor_cell_evaluation==1),]$nfl, \n",
    "         ylab = \"normalized fl\", xlab = \"tumorscore\", \n",
    "         main = 'nfl for ts = 1', xlim = c(0,5), breaks = c(seq(0, 5, by = .25)))\n",
    "a = hist(recgli[which(recgli$tumor_cell_evaluation==2),]$nfl, \n",
    "         ylab = \"normalized fl\", xlab = \"tumorscore\", \n",
    "         main = 'nfl for ts = 2', xlim = c(0,5), breaks = c(seq(0, 5, by = .25)))\n",
    "a = hist(recgli[which(recgli$tumor_cell_evaluation==3),]$nfl, \n",
    "         ylab = \"normalized fl\", xlab = \"tumorscore\", \n",
    "         main = 'nfl for ts = 3', xlim = c(0,5), breaks = c(seq(0, 5, by = .25)))"
   ]
  },
  {
   "cell_type": "code",
   "execution_count": 63,
   "metadata": {
    "collapsed": false
   },
   "outputs": [
    {
     "data": {
      "image/png": "[encoded data removed]",
      "text/plain": [
       "Plot with title “distribution of nfl\n",
       " in TS”"
      ]
     },
     "metadata": {},
     "output_type": "display_data"
    }
   ],
   "source": [
    "par(mfrow=c(1,1))\n",
    "\n",
    "hist(recgli[which(recgli$tumor_cell_evaluation==0 ),]$nfl, breaks=seq(from = 0, to = 3, by = .25), ylim = c(0, 30),  xlim=c(0,3), col=rgb(1,0,0,0.2), xlab=\"nfl value\", \n",
    "     ylab=\"\", main=\"distribution of nfl\\n in TS\")\n",
    "hist(recgli[which(recgli$tumor_cell_evaluation==1 ),]$nfl, breaks=seq(from = 0, to = 3, by = .25), ylim = c(0, 30),  xlim=c(0,3), col=rgb(0,1,0,0.2), add=T)\n",
    "hist(recgli[which(recgli$tumor_cell_evaluation==2 ),]$nfl, breaks=seq(from = 0, to = 3, by = .25), ylim = c(0, 30),  xlim=c(0,3), col=rgb(0,0,1,0.2), add=T)\n",
    "hist(recgli[which(recgli$tumor_cell_evaluation==3 ),]$nfl, breaks=seq(from = 0, to = 3, by = .25), ylim = c(0, 30),  xlim=c(0,3), col=rgb(0,1,1,0.2), add=T)\n",
    "legend(\"topright\", legend=c(\"0\",\"1\", \"2\", \"3\"), col=c(rgb(1,0,0,0.2), \n",
    "     rgb(0,1,0,0.5), rgb(0,0,1,0.5), rgb(0,1,1,0.5)), pt.cex=2, pch=15, cex = .7 )"
   ]
  },
  {
   "cell_type": "code",
   "execution_count": 45,
   "metadata": {
    "collapsed": false
   },
   "outputs": [
    {
     "data": {
      "image/png": "[encoded data removed]",
      "text/plain": [
       "Plot with title “nt1c for ts = 3”"
      ]
     },
     "metadata": {},
     "output_type": "display_data"
    }
   ],
   "source": [
    "par(mfrow = c(2, 2))\n",
    "a = hist(recgli[which(recgli$tumor_cell_evaluation==0),]$nt1c, \n",
    "         ylab = \"normalized t1c\", xlab = \"tumorscore\", \n",
    "         main = 'nt1c for ts = 0', xlim=c(0,5), breaks = c(seq(0, 5, by = .25)))\n",
    "a = hist(recgli[which(recgli$tumor_cell_evaluation==1),]$nt1c, \n",
    "         ylab = \"normalized t1c\", xlab = \"tumorscore\", \n",
    "         main = 'nt1c for ts = 1', xlim = c(0,5), breaks = c(seq(0, 5, by = .25)))\n",
    "a = hist(recgli[which(recgli$tumor_cell_evaluation==2),]$nt1c, \n",
    "         ylab = \"normalized t1c\", xlab = \"tumorscore\", \n",
    "         main = 'nt1c for ts = 2', xlim = c(0,5), breaks = c(seq(0, 5, by = .25)))\n",
    "a = hist(recgli[which(recgli$tumor_cell_evaluation==3),]$nt1c, \n",
    "         ylab = \"normalized t1c\", xlab = \"tumorscore\", \n",
    "         main = 'nt1c for ts = 3', xlim = c(0,5), breaks = c(seq(0, 5, by = .25)))"
   ]
  },
  {
   "cell_type": "code",
   "execution_count": 67,
   "metadata": {
    "collapsed": false
   },
   "outputs": [
    {
     "data": {
      "image/png": "[encoded data removed]",
      "text/plain": [
       "Plot with title “distribution of nt1c\n",
       " in TS”"
      ]
     },
     "metadata": {},
     "output_type": "display_data"
    }
   ],
   "source": [
    "par(mfrow=c(1,1))\n",
    "\n",
    "hist(recgli[which(recgli$tumor_cell_evaluation==0 ),]$nt1c, breaks=seq(from = 0, to = 4, by = .25), ylim = c(0, 30),  xlim=c(0,4), col=rgb(1,0,0,0.2), xlab=\"nt1c value\", \n",
    "     ylab=\"\", main=\"distribution of nt1c\\n in TS\")\n",
    "hist(recgli[which(recgli$tumor_cell_evaluation==1 ),]$nt1c, breaks=seq(from = 0, to = 4, by = .25), ylim = c(0, 30),  xlim=c(0,4), col=rgb(0,1,0,0.2), add=T)\n",
    "hist(recgli[which(recgli$tumor_cell_evaluation==2 ),]$nt1c, breaks=seq(from = 0, to = 4, by = .25), ylim = c(0, 30),  xlim=c(0,4), col=rgb(0,0,1,0.2), add=T)\n",
    "hist(recgli[which(recgli$tumor_cell_evaluation==3 ),]$nt1c, breaks=seq(from = 0, to = 4, by = .25), ylim = c(0, 30),  xlim=c(0,4), col=rgb(0,1,1,0.2), add=T)\n",
    "legend(\"topright\", legend=c(\"0\",\"1\", \"2\", \"3\"), col=c(rgb(1,0,0,0.2), \n",
    "     rgb(0,1,0,0.5), rgb(0,0,1,0.5), rgb(0,1,1,0.5)), pt.cex=2, pch=15, cex = .7 )"
   ]
  },
  {
   "cell_type": "code",
   "execution_count": 47,
   "metadata": {
    "collapsed": false
   },
   "outputs": [
    {
     "data": {
      "image/png": "[encoded data removed]",
      "text/plain": [
       "Plot with title “nt1v for ts = 3”"
      ]
     },
     "metadata": {},
     "output_type": "display_data"
    }
   ],
   "source": [
    "par(mfrow = c(2, 2))\n",
    "a = hist(recgli[which(recgli$tumor_cell_evaluation==0),]$nt1v, \n",
    "         ylab = \"normalized t1v\", xlab = \"tumorscore\", \n",
    "         main = 'nt1v for ts = 0', xlim=c(0,5), breaks = c(seq(0, 5, by = .25)))\n",
    "a = hist(recgli[which(recgli$tumor_cell_evaluation==1),]$nt1v, \n",
    "         ylab = \"normalized t1v\", xlab = \"tumorscore\", \n",
    "         main = 'nt1v for ts = 1', xlim = c(0,5), breaks = c(seq(0, 5, by = .25)))\n",
    "a = hist(recgli[which(recgli$tumor_cell_evaluation==2),]$nt1v, \n",
    "         ylab = \"normalized t1v\", xlab = \"tumorscore\", \n",
    "         main = 'nt1v for ts = 2', xlim = c(0,5), breaks = c(seq(0, 5, by = .25)))\n",
    "a = hist(recgli[which(recgli$tumor_cell_evaluation==3),]$nt1v, \n",
    "         ylab = \"normalized t1v\", xlab = \"tumorscore\", \n",
    "         main = 'nt1v for ts = 3', xlim = c(0,5), breaks = c(seq(0, 5, by = .25)))"
   ]
  },
  {
   "cell_type": "code",
   "execution_count": 70,
   "metadata": {
    "collapsed": false
   },
   "outputs": [
    {
     "data": {
      "image/png": "[encoded data removed]",
      "text/plain": [
       "Plot with title “distribution of nt1c\n",
       " in TS”"
      ]
     },
     "metadata": {},
     "output_type": "display_data"
    }
   ],
   "source": [
    "par(mfrow=c(1,1))\n",
    "\n",
    "hist(recgli[which(recgli$tumor_cell_evaluation==0 ),]$nt1v, breaks=seq(from = 0, to = 2, by = .125), ylim = c(0, 40),  xlim=c(0,2), col=rgb(1,0,0,0.2), xlab=\"nt1c value\", \n",
    "     ylab=\"\", main=\"distribution of nt1c\\n in TS\")\n",
    "hist(recgli[which(recgli$tumor_cell_evaluation==1 ),]$nt1v, breaks=seq(from = 0, to = 2, by = .125), ylim = c(0, 40),  xlim=c(0,2), col=rgb(0,1,0,0.2), add=T)\n",
    "hist(recgli[which(recgli$tumor_cell_evaluation==2 ),]$nt1v, breaks=seq(from = 0, to = 2, by = .125), ylim = c(0, 40),  xlim=c(0,2), col=rgb(0,0,1,0.2), add=T)\n",
    "hist(recgli[which(recgli$tumor_cell_evaluation==3 ),]$nt1v, breaks=seq(from = 0, to = 2, by = .125), ylim = c(0, 40),  xlim=c(0,2), col=rgb(0,1,1,0.2), add=T)\n",
    "legend(\"topright\", legend=c(\"0\",\"1\", \"2\", \"3\"), col=c(rgb(1,0,0,0.2), \n",
    "     rgb(0,1,0,0.5), rgb(0,0,1,0.5), rgb(0,1,1,0.5)), pt.cex=2, pch=15, cex = .7 )"
   ]
  },
  {
   "cell_type": "markdown",
   "metadata": {},
   "source": [
    "# Statistics: "
   ]
  },
  {
   "cell_type": "markdown",
   "metadata": {},
   "source": [
    " Use GLMM associate anatomical parameters with TS, no separation "
   ]
  },
  {
   "cell_type": "code",
   "execution_count": 48,
   "metadata": {
    "collapsed": false
   },
   "outputs": [
    {
     "name": "stderr",
     "output_type": "stream",
     "text": [
      "Loading required package: Formula\n",
      "Loading required package: maxLik\n",
      "Loading required package: miscTools\n",
      "\n",
      "Please cite the 'maxLik' package as:\n",
      "Henningsen, Arne and Toomet, Ott (2011). maxLik: A package for maximum likelihood estimation in R. Computational Statistics 26(3), 443-458. DOI 10.1007/s00180-010-0217-1.\n",
      "\n",
      "If you have questions, suggestions, or comments regarding the 'maxLik' package, please use a forum or 'tracker' at maxLik's R-Forge site:\n",
      "https://r-forge.r-project.org/projects/maxlik/\n"
     ]
    }
   ],
   "source": [
    "library(mlogit)"
   ]
  },
  {
   "cell_type": "code",
   "execution_count": 49,
   "metadata": {
    "collapsed": true
   },
   "outputs": [],
   "source": [
    "data_mlog <-mlogit.data(recgli,  id.var =\"t_number\", shape=\"wide\", \n",
    "                        sep=\"\", varying=NULL, \n",
    "                       choice = \"tumor_cell_evaluation\")"
   ]
  },
  {
   "cell_type": "code",
   "execution_count": 51,
   "metadata": {
    "collapsed": false
   },
   "outputs": [
    {
     "data": {
      "text/html": [
       "<table>\n",
       "<thead><tr><th></th><th scope=col>Estimate</th><th scope=col>Std. Error</th><th scope=col>z-value</th><th scope=col>Pr(&gt;|z|)</th></tr></thead>\n",
       "<tbody>\n",
       "\t<tr><th scope=row>1:(intercept)</th><td>-1.18561699</td><td>1.1414513  </td><td>-1.03869262</td><td>0.2989477  </td></tr>\n",
       "\t<tr><th scope=row>2:(intercept)</th><td> 0.02659244</td><td>0.9881716  </td><td> 0.02691075</td><td>0.9785309  </td></tr>\n",
       "\t<tr><th scope=row>3:(intercept)</th><td>-0.10296763</td><td>0.9235213  </td><td>-0.11149458</td><td>0.9112242  </td></tr>\n",
       "\t<tr><th scope=row>1:nfse</th><td> 0.55766132</td><td>0.6083101  </td><td> 0.91673858</td><td>0.3592796  </td></tr>\n",
       "\t<tr><th scope=row>2:nfse</th><td> 0.32659423</td><td>0.5393163  </td><td> 0.60557088</td><td>0.5447997  </td></tr>\n",
       "\t<tr><th scope=row>3:nfse</th><td> 0.65085258</td><td>0.5016636  </td><td> 1.29738845</td><td>0.1944976  </td></tr>\n",
       "</tbody>\n",
       "</table>\n"
      ],
      "text/latex": [
       "\\begin{tabular}{r|llll}\n",
       "  & Estimate & Std. Error & z-value & Pr(>\\textbar{}z\\textbar{})\\\\\n",
       "\\hline\n",
       "\t1:(intercept) & -1.18561699 & 1.1414513   & -1.03869262 & 0.2989477  \\\\\n",
       "\t2:(intercept) &  0.02659244 & 0.9881716   &  0.02691075 & 0.9785309  \\\\\n",
       "\t3:(intercept) & -0.10296763 & 0.9235213   & -0.11149458 & 0.9112242  \\\\\n",
       "\t1:nfse &  0.55766132 & 0.6083101   &  0.91673858 & 0.3592796  \\\\\n",
       "\t2:nfse &  0.32659423 & 0.5393163   &  0.60557088 & 0.5447997  \\\\\n",
       "\t3:nfse &  0.65085258 & 0.5016636   &  1.29738845 & 0.1944976  \\\\\n",
       "\\end{tabular}\n"
      ],
      "text/markdown": [
       "\n",
       "| <!--/--> | Estimate | Std. Error | z-value | Pr(>|z|) | \n",
       "|---|---|---|---|---|---|\n",
       "| 1:(intercept) | -1.18561699 | 1.1414513   | -1.03869262 | 0.2989477   | \n",
       "| 2:(intercept) |  0.02659244 | 0.9881716   |  0.02691075 | 0.9785309   | \n",
       "| 3:(intercept) | -0.10296763 | 0.9235213   | -0.11149458 | 0.9112242   | \n",
       "| 1:nfse |  0.55766132 | 0.6083101   |  0.91673858 | 0.3592796   | \n",
       "| 2:nfse |  0.32659423 | 0.5393163   |  0.60557088 | 0.5447997   | \n",
       "| 3:nfse |  0.65085258 | 0.5016636   |  1.29738845 | 0.1944976   | \n",
       "\n",
       "\n"
      ],
      "text/plain": [
       "              Estimate    Std. Error z-value     Pr(>|z|) \n",
       "1:(intercept) -1.18561699 1.1414513  -1.03869262 0.2989477\n",
       "2:(intercept)  0.02659244 0.9881716   0.02691075 0.9785309\n",
       "3:(intercept) -0.10296763 0.9235213  -0.11149458 0.9112242\n",
       "1:nfse         0.55766132 0.6083101   0.91673858 0.3592796\n",
       "2:nfse         0.32659423 0.5393163   0.60557088 0.5447997\n",
       "3:nfse         0.65085258 0.5016636   1.29738845 0.1944976"
      ]
     },
     "metadata": {},
     "output_type": "display_data"
    }
   ],
   "source": [
    "mlogit_nfse <- mlogit(tumor_cell_evaluation ~1 | nfse, data=data_mlog)\n",
    "summary(mlogit_nfse)$CoefTable"
   ]
  },
  {
   "cell_type": "code",
   "execution_count": 52,
   "metadata": {
    "collapsed": false
   },
   "outputs": [
    {
     "data": {
      "text/html": [
       "<table>\n",
       "<thead><tr><th></th><th scope=col>Estimate</th><th scope=col>Std. Error</th><th scope=col>z-value</th><th scope=col>Pr(&gt;|z|)</th></tr></thead>\n",
       "<tbody>\n",
       "\t<tr><th scope=row>1:(intercept)</th><td> 0.8887673</td><td>1.3149208 </td><td> 0.6759094</td><td>0.49909817</td></tr>\n",
       "\t<tr><th scope=row>2:(intercept)</th><td>-1.9734194</td><td>1.2406034 </td><td>-1.5906932</td><td>0.11167863</td></tr>\n",
       "\t<tr><th scope=row>3:(intercept)</th><td>-0.8227954</td><td>1.1218752 </td><td>-0.7334108</td><td>0.46330791</td></tr>\n",
       "\t<tr><th scope=row>1:nfl</th><td>-0.6524729</td><td>0.7873500 </td><td>-0.8286949</td><td>0.40727709</td></tr>\n",
       "\t<tr><th scope=row>2:nfl</th><td> 1.4559402</td><td>0.6945176 </td><td> 2.0963330</td><td>0.03605266</td></tr>\n",
       "\t<tr><th scope=row>3:nfl</th><td> 1.0904631</td><td>0.6395320 </td><td> 1.7050954</td><td>0.08817663</td></tr>\n",
       "</tbody>\n",
       "</table>\n"
      ],
      "text/latex": [
       "\\begin{tabular}{r|llll}\n",
       "  & Estimate & Std. Error & z-value & Pr(>\\textbar{}z\\textbar{})\\\\\n",
       "\\hline\n",
       "\t1:(intercept) &  0.8887673 & 1.3149208  &  0.6759094 & 0.49909817\\\\\n",
       "\t2:(intercept) & -1.9734194 & 1.2406034  & -1.5906932 & 0.11167863\\\\\n",
       "\t3:(intercept) & -0.8227954 & 1.1218752  & -0.7334108 & 0.46330791\\\\\n",
       "\t1:nfl & -0.6524729 & 0.7873500  & -0.8286949 & 0.40727709\\\\\n",
       "\t2:nfl &  1.4559402 & 0.6945176  &  2.0963330 & 0.03605266\\\\\n",
       "\t3:nfl &  1.0904631 & 0.6395320  &  1.7050954 & 0.08817663\\\\\n",
       "\\end{tabular}\n"
      ],
      "text/markdown": [
       "\n",
       "| <!--/--> | Estimate | Std. Error | z-value | Pr(>|z|) | \n",
       "|---|---|---|---|---|---|\n",
       "| 1:(intercept) |  0.8887673 | 1.3149208  |  0.6759094 | 0.49909817 | \n",
       "| 2:(intercept) | -1.9734194 | 1.2406034  | -1.5906932 | 0.11167863 | \n",
       "| 3:(intercept) | -0.8227954 | 1.1218752  | -0.7334108 | 0.46330791 | \n",
       "| 1:nfl | -0.6524729 | 0.7873500  | -0.8286949 | 0.40727709 | \n",
       "| 2:nfl |  1.4559402 | 0.6945176  |  2.0963330 | 0.03605266 | \n",
       "| 3:nfl |  1.0904631 | 0.6395320  |  1.7050954 | 0.08817663 | \n",
       "\n",
       "\n"
      ],
      "text/plain": [
       "              Estimate   Std. Error z-value    Pr(>|z|)  \n",
       "1:(intercept)  0.8887673 1.3149208   0.6759094 0.49909817\n",
       "2:(intercept) -1.9734194 1.2406034  -1.5906932 0.11167863\n",
       "3:(intercept) -0.8227954 1.1218752  -0.7334108 0.46330791\n",
       "1:nfl         -0.6524729 0.7873500  -0.8286949 0.40727709\n",
       "2:nfl          1.4559402 0.6945176   2.0963330 0.03605266\n",
       "3:nfl          1.0904631 0.6395320   1.7050954 0.08817663"
      ]
     },
     "metadata": {},
     "output_type": "display_data"
    }
   ],
   "source": [
    "## univariate analysis: \n",
    "mlogit_nfl <- mlogit(tumor_cell_evaluation ~1 | nfl, data=data_mlog)\n",
    "summary(mlogit_nfl)$CoefTable"
   ]
  },
  {
   "cell_type": "code",
   "execution_count": 53,
   "metadata": {
    "collapsed": false
   },
   "outputs": [
    {
     "data": {
      "text/html": [
       "<table>\n",
       "<thead><tr><th></th><th scope=col>Estimate</th><th scope=col>Std. Error</th><th scope=col>z-value</th><th scope=col>Pr(&gt;|z|)</th></tr></thead>\n",
       "<tbody>\n",
       "\t<tr><th scope=row>1:(intercept)</th><td>-0.06101420</td><td>0.6999058  </td><td>-0.08717487</td><td>0.93053251 </td></tr>\n",
       "\t<tr><th scope=row>2:(intercept)</th><td> 0.94773775</td><td>0.5914345  </td><td> 1.60243900</td><td>0.10905857 </td></tr>\n",
       "\t<tr><th scope=row>3:(intercept)</th><td> 1.32618992</td><td>0.5477201  </td><td> 2.42129136</td><td>0.01546548 </td></tr>\n",
       "\t<tr><th scope=row>1:nt1c</th><td>-0.08574309</td><td>0.4804048  </td><td>-0.17848090</td><td>0.85834532 </td></tr>\n",
       "\t<tr><th scope=row>2:nt1c</th><td>-0.26196384</td><td>0.4122777  </td><td>-0.63540632</td><td>0.52516345 </td></tr>\n",
       "\t<tr><th scope=row>3:nt1c</th><td>-0.18486805</td><td>0.3762082  </td><td>-0.49139832</td><td>0.62314476 </td></tr>\n",
       "</tbody>\n",
       "</table>\n"
      ],
      "text/latex": [
       "\\begin{tabular}{r|llll}\n",
       "  & Estimate & Std. Error & z-value & Pr(>\\textbar{}z\\textbar{})\\\\\n",
       "\\hline\n",
       "\t1:(intercept) & -0.06101420 & 0.6999058   & -0.08717487 & 0.93053251 \\\\\n",
       "\t2:(intercept) &  0.94773775 & 0.5914345   &  1.60243900 & 0.10905857 \\\\\n",
       "\t3:(intercept) &  1.32618992 & 0.5477201   &  2.42129136 & 0.01546548 \\\\\n",
       "\t1:nt1c & -0.08574309 & 0.4804048   & -0.17848090 & 0.85834532 \\\\\n",
       "\t2:nt1c & -0.26196384 & 0.4122777   & -0.63540632 & 0.52516345 \\\\\n",
       "\t3:nt1c & -0.18486805 & 0.3762082   & -0.49139832 & 0.62314476 \\\\\n",
       "\\end{tabular}\n"
      ],
      "text/markdown": [
       "\n",
       "| <!--/--> | Estimate | Std. Error | z-value | Pr(>|z|) | \n",
       "|---|---|---|---|---|---|\n",
       "| 1:(intercept) | -0.06101420 | 0.6999058   | -0.08717487 | 0.93053251  | \n",
       "| 2:(intercept) |  0.94773775 | 0.5914345   |  1.60243900 | 0.10905857  | \n",
       "| 3:(intercept) |  1.32618992 | 0.5477201   |  2.42129136 | 0.01546548  | \n",
       "| 1:nt1c | -0.08574309 | 0.4804048   | -0.17848090 | 0.85834532  | \n",
       "| 2:nt1c | -0.26196384 | 0.4122777   | -0.63540632 | 0.52516345  | \n",
       "| 3:nt1c | -0.18486805 | 0.3762082   | -0.49139832 | 0.62314476  | \n",
       "\n",
       "\n"
      ],
      "text/plain": [
       "              Estimate    Std. Error z-value     Pr(>|z|)  \n",
       "1:(intercept) -0.06101420 0.6999058  -0.08717487 0.93053251\n",
       "2:(intercept)  0.94773775 0.5914345   1.60243900 0.10905857\n",
       "3:(intercept)  1.32618992 0.5477201   2.42129136 0.01546548\n",
       "1:nt1c        -0.08574309 0.4804048  -0.17848090 0.85834532\n",
       "2:nt1c        -0.26196384 0.4122777  -0.63540632 0.52516345\n",
       "3:nt1c        -0.18486805 0.3762082  -0.49139832 0.62314476"
      ]
     },
     "metadata": {},
     "output_type": "display_data"
    }
   ],
   "source": [
    "mlogit_nt1c <- mlogit(tumor_cell_evaluation ~1 | nt1c, data=data_mlog)\n",
    "summary(mlogit_nt1c)$CoefTable"
   ]
  },
  {
   "cell_type": "code",
   "execution_count": 54,
   "metadata": {
    "collapsed": false
   },
   "outputs": [
    {
     "data": {
      "text/html": [
       "<table>\n",
       "<thead><tr><th></th><th scope=col>Estimate</th><th scope=col>Std. Error</th><th scope=col>z-value</th><th scope=col>Pr(&gt;|z|)</th></tr></thead>\n",
       "<tbody>\n",
       "\t<tr><th scope=row>1:(intercept)</th><td> 2.061255  </td><td>1.497543   </td><td> 1.376424  </td><td>0.168690372</td></tr>\n",
       "\t<tr><th scope=row>2:(intercept)</th><td> 3.343828  </td><td>1.289796   </td><td> 2.592524  </td><td>0.009527449</td></tr>\n",
       "\t<tr><th scope=row>3:(intercept)</th><td> 3.962794  </td><td>1.220276   </td><td> 3.247458  </td><td>0.001164410</td></tr>\n",
       "\t<tr><th scope=row>1:nt1v</th><td>-2.547995  </td><td>1.677445   </td><td>-1.518974  </td><td>0.128769002</td></tr>\n",
       "\t<tr><th scope=row>2:nt1v</th><td>-3.151120  </td><td>1.432716   </td><td>-2.199402  </td><td>0.027849339</td></tr>\n",
       "\t<tr><th scope=row>3:nt1v</th><td>-3.327481  </td><td>1.344850   </td><td>-2.474241  </td><td>0.013351969</td></tr>\n",
       "</tbody>\n",
       "</table>\n"
      ],
      "text/latex": [
       "\\begin{tabular}{r|llll}\n",
       "  & Estimate & Std. Error & z-value & Pr(>\\textbar{}z\\textbar{})\\\\\n",
       "\\hline\n",
       "\t1:(intercept) &  2.061255   & 1.497543    &  1.376424   & 0.168690372\\\\\n",
       "\t2:(intercept) &  3.343828   & 1.289796    &  2.592524   & 0.009527449\\\\\n",
       "\t3:(intercept) &  3.962794   & 1.220276    &  3.247458   & 0.001164410\\\\\n",
       "\t1:nt1v & -2.547995   & 1.677445    & -1.518974   & 0.128769002\\\\\n",
       "\t2:nt1v & -3.151120   & 1.432716    & -2.199402   & 0.027849339\\\\\n",
       "\t3:nt1v & -3.327481   & 1.344850    & -2.474241   & 0.013351969\\\\\n",
       "\\end{tabular}\n"
      ],
      "text/markdown": [
       "\n",
       "| <!--/--> | Estimate | Std. Error | z-value | Pr(>|z|) | \n",
       "|---|---|---|---|---|---|\n",
       "| 1:(intercept) |  2.061255   | 1.497543    |  1.376424   | 0.168690372 | \n",
       "| 2:(intercept) |  3.343828   | 1.289796    |  2.592524   | 0.009527449 | \n",
       "| 3:(intercept) |  3.962794   | 1.220276    |  3.247458   | 0.001164410 | \n",
       "| 1:nt1v | -2.547995   | 1.677445    | -1.518974   | 0.128769002 | \n",
       "| 2:nt1v | -3.151120   | 1.432716    | -2.199402   | 0.027849339 | \n",
       "| 3:nt1v | -3.327481   | 1.344850    | -2.474241   | 0.013351969 | \n",
       "\n",
       "\n"
      ],
      "text/plain": [
       "              Estimate  Std. Error z-value   Pr(>|z|)   \n",
       "1:(intercept)  2.061255 1.497543    1.376424 0.168690372\n",
       "2:(intercept)  3.343828 1.289796    2.592524 0.009527449\n",
       "3:(intercept)  3.962794 1.220276    3.247458 0.001164410\n",
       "1:nt1v        -2.547995 1.677445   -1.518974 0.128769002\n",
       "2:nt1v        -3.151120 1.432716   -2.199402 0.027849339\n",
       "3:nt1v        -3.327481 1.344850   -2.474241 0.013351969"
      ]
     },
     "metadata": {},
     "output_type": "display_data"
    },
    {
     "data": {
      "text/html": [
       "<dl class=dl-horizontal>\n",
       "\t<dt>1:(intercept)</dt>\n",
       "\t\t<dd>7.85582078992744</dd>\n",
       "\t<dt>2:(intercept)</dt>\n",
       "\t\t<dd>28.3273687353547</dd>\n",
       "\t<dt>3:(intercept)</dt>\n",
       "\t\t<dd>52.6041208600572</dd>\n",
       "\t<dt>1:nt1v</dt>\n",
       "\t\t<dd>0.0782383741670728</dd>\n",
       "\t<dt>2:nt1v</dt>\n",
       "\t\t<dd>0.0428041694050817</dd>\n",
       "\t<dt>3:nt1v</dt>\n",
       "\t\t<dd>0.0358833645381995</dd>\n",
       "</dl>\n"
      ],
      "text/latex": [
       "\\begin{description*}\n",
       "\\item[1:(intercept)] 7.85582078992744\n",
       "\\item[2:(intercept)] 28.3273687353547\n",
       "\\item[3:(intercept)] 52.6041208600572\n",
       "\\item[1:nt1v] 0.0782383741670728\n",
       "\\item[2:nt1v] 0.0428041694050817\n",
       "\\item[3:nt1v] 0.0358833645381995\n",
       "\\end{description*}\n"
      ],
      "text/markdown": [
       "1:(intercept)\n",
       ":   7.855820789927442:(intercept)\n",
       ":   28.32736873535473:(intercept)\n",
       ":   52.60412086005721:nt1v\n",
       ":   0.07823837416707282:nt1v\n",
       ":   0.04280416940508173:nt1v\n",
       ":   0.0358833645381995\n",
       "\n"
      ],
      "text/plain": [
       "1:(intercept) 2:(intercept) 3:(intercept)        1:nt1v        2:nt1v \n",
       "   7.85582079   28.32736874   52.60412086    0.07823837    0.04280417 \n",
       "       3:nt1v \n",
       "   0.03588336 "
      ]
     },
     "metadata": {},
     "output_type": "display_data"
    }
   ],
   "source": [
    "mlogit_nt1v <- mlogit(tumor_cell_evaluation ~1 | nt1v, data=data_mlog)\n",
    "summary(mlogit_nt1v)$CoefTable\n",
    "exp(coefficients(mlogit_nt1v))"
   ]
  },
  {
   "cell_type": "markdown",
   "metadata": {},
   "source": [
    "Use GEE to associate anatomical parameters with TS, no separation"
   ]
  },
  {
   "cell_type": "code",
   "execution_count": 55,
   "metadata": {
    "collapsed": false
   },
   "outputs": [
    {
     "name": "stderr",
     "output_type": "stream",
     "text": [
      "Loading required package: gnm\n",
      "Loading required package: VGAM\n",
      "Loading required package: stats4\n",
      "Loading required package: splines\n",
      "\n",
      "Attaching package: ‘VGAM’\n",
      "\n",
      "The following object is masked from ‘package:mlogit’:\n",
      "\n",
      "    lrtest\n",
      "\n"
     ]
    }
   ],
   "source": [
    "library(multgee)"
   ]
  },
  {
   "cell_type": "code",
   "execution_count": 56,
   "metadata": {
    "collapsed": false
   },
   "outputs": [
    {
     "data": {
      "text/html": [
       "<table>\n",
       "<thead><tr><th></th><th scope=col>Estimate</th><th scope=col>san.se</th><th scope=col>san.z</th><th scope=col>Pr(&gt;|san.z|)</th></tr></thead>\n",
       "<tbody>\n",
       "\t<tr><th scope=row>beta10</th><td>-0.89230</td><td>0.50643 </td><td>-1.76196</td><td>0.07808 </td></tr>\n",
       "\t<tr><th scope=row>beta20</th><td>-0.09320</td><td>0.46679 </td><td>-0.19965</td><td>0.84175 </td></tr>\n",
       "\t<tr><th scope=row>beta30</th><td> 1.08928</td><td>0.50165 </td><td> 2.17138</td><td>0.02990 </td></tr>\n",
       "\t<tr><th scope=row>nfse</th><td>-0.43951</td><td>0.26472 </td><td>-1.66030</td><td>0.09685 </td></tr>\n",
       "</tbody>\n",
       "</table>\n"
      ],
      "text/latex": [
       "\\begin{tabular}{r|llll}\n",
       "  & Estimate & san.se & san.z & Pr(>\\textbar{}san.z\\textbar{})\\\\\n",
       "\\hline\n",
       "\tbeta10 & -0.89230 & 0.50643  & -1.76196 & 0.07808 \\\\\n",
       "\tbeta20 & -0.09320 & 0.46679  & -0.19965 & 0.84175 \\\\\n",
       "\tbeta30 &  1.08928 & 0.50165  &  2.17138 & 0.02990 \\\\\n",
       "\tnfse & -0.43951 & 0.26472  & -1.66030 & 0.09685 \\\\\n",
       "\\end{tabular}\n"
      ],
      "text/markdown": [
       "\n",
       "| <!--/--> | Estimate | san.se | san.z | Pr(>|san.z|) | \n",
       "|---|---|---|---|\n",
       "| beta10 | -0.89230 | 0.50643  | -1.76196 | 0.07808  | \n",
       "| beta20 | -0.09320 | 0.46679  | -0.19965 | 0.84175  | \n",
       "| beta30 |  1.08928 | 0.50165  |  2.17138 | 0.02990  | \n",
       "| nfse | -0.43951 | 0.26472  | -1.66030 | 0.09685  | \n",
       "\n",
       "\n"
      ],
      "text/plain": [
       "       Estimate san.se  san.z    Pr(>|san.z|)\n",
       "beta10 -0.89230 0.50643 -1.76196 0.07808     \n",
       "beta20 -0.09320 0.46679 -0.19965 0.84175     \n",
       "beta30  1.08928 0.50165  2.17138 0.02990     \n",
       "nfse   -0.43951 0.26472 -1.66030 0.09685     "
      ]
     },
     "metadata": {},
     "output_type": "display_data"
    }
   ],
   "source": [
    "nfse.fit = ordLORgee(formula = tumor_cell_evaluation ~ nfse, link = \"logit\", \n",
    "                      id = t_number, data = recgli, LORstr = \"category.exch\")\n",
    "summary(nfse.fit)$coefficients"
   ]
  },
  {
   "cell_type": "code",
   "execution_count": 57,
   "metadata": {
    "collapsed": false
   },
   "outputs": [
    {
     "data": {
      "text/html": [
       "<table>\n",
       "<thead><tr><th></th><th scope=col>Estimate</th><th scope=col>san.se</th><th scope=col>san.z</th><th scope=col>Pr(&gt;|san.z|)</th></tr></thead>\n",
       "<tbody>\n",
       "\t<tr><th scope=row>beta10</th><td>-0.19541</td><td>0.73875 </td><td>-0.26451</td><td>0.79139 </td></tr>\n",
       "\t<tr><th scope=row>beta20</th><td> 0.62352</td><td>0.77078 </td><td> 0.80896</td><td>0.41854 </td></tr>\n",
       "\t<tr><th scope=row>beta30</th><td> 1.83684</td><td>0.78420 </td><td> 2.34229</td><td>0.01917 </td></tr>\n",
       "\t<tr><th scope=row>nfl</th><td>-0.86077</td><td>0.42682 </td><td>-2.01673</td><td>0.04372 </td></tr>\n",
       "</tbody>\n",
       "</table>\n"
      ],
      "text/latex": [
       "\\begin{tabular}{r|llll}\n",
       "  & Estimate & san.se & san.z & Pr(>\\textbar{}san.z\\textbar{})\\\\\n",
       "\\hline\n",
       "\tbeta10 & -0.19541 & 0.73875  & -0.26451 & 0.79139 \\\\\n",
       "\tbeta20 &  0.62352 & 0.77078  &  0.80896 & 0.41854 \\\\\n",
       "\tbeta30 &  1.83684 & 0.78420  &  2.34229 & 0.01917 \\\\\n",
       "\tnfl & -0.86077 & 0.42682  & -2.01673 & 0.04372 \\\\\n",
       "\\end{tabular}\n"
      ],
      "text/markdown": [
       "\n",
       "| <!--/--> | Estimate | san.se | san.z | Pr(>|san.z|) | \n",
       "|---|---|---|---|\n",
       "| beta10 | -0.19541 | 0.73875  | -0.26451 | 0.79139  | \n",
       "| beta20 |  0.62352 | 0.77078  |  0.80896 | 0.41854  | \n",
       "| beta30 |  1.83684 | 0.78420  |  2.34229 | 0.01917  | \n",
       "| nfl | -0.86077 | 0.42682  | -2.01673 | 0.04372  | \n",
       "\n",
       "\n"
      ],
      "text/plain": [
       "       Estimate san.se  san.z    Pr(>|san.z|)\n",
       "beta10 -0.19541 0.73875 -0.26451 0.79139     \n",
       "beta20  0.62352 0.77078  0.80896 0.41854     \n",
       "beta30  1.83684 0.78420  2.34229 0.01917     \n",
       "nfl    -0.86077 0.42682 -2.01673 0.04372     "
      ]
     },
     "metadata": {},
     "output_type": "display_data"
    }
   ],
   "source": [
    "nfl.fit = ordLORgee(formula = tumor_cell_evaluation ~ nfl, link = \"logit\", \n",
    "                      id = t_number, data = recgli, LORstr = \"category.exch\")\n",
    "summary(nfl.fit)$coefficients"
   ]
  },
  {
   "cell_type": "code",
   "execution_count": 58,
   "metadata": {
    "collapsed": false
   },
   "outputs": [
    {
     "data": {
      "text/html": [
       "<table>\n",
       "<thead><tr><th></th><th scope=col>Estimate</th><th scope=col>san.se</th><th scope=col>san.z</th><th scope=col>Pr(&gt;|san.z|)</th></tr></thead>\n",
       "<tbody>\n",
       "\t<tr><th scope=row>beta10</th><td>-2.05155</td><td>0.36411 </td><td>-5.63442</td><td>0.00000 </td></tr>\n",
       "\t<tr><th scope=row>beta20</th><td>-1.26210</td><td>0.32355 </td><td>-3.90081</td><td>0.00010 </td></tr>\n",
       "\t<tr><th scope=row>beta30</th><td>-0.08749</td><td>0.30780 </td><td>-0.28426</td><td>0.77621 </td></tr>\n",
       "\t<tr><th scope=row>nt1c</th><td> 0.29017</td><td>0.19830 </td><td> 1.46332</td><td>0.14338 </td></tr>\n",
       "</tbody>\n",
       "</table>\n"
      ],
      "text/latex": [
       "\\begin{tabular}{r|llll}\n",
       "  & Estimate & san.se & san.z & Pr(>\\textbar{}san.z\\textbar{})\\\\\n",
       "\\hline\n",
       "\tbeta10 & -2.05155 & 0.36411  & -5.63442 & 0.00000 \\\\\n",
       "\tbeta20 & -1.26210 & 0.32355  & -3.90081 & 0.00010 \\\\\n",
       "\tbeta30 & -0.08749 & 0.30780  & -0.28426 & 0.77621 \\\\\n",
       "\tnt1c &  0.29017 & 0.19830  &  1.46332 & 0.14338 \\\\\n",
       "\\end{tabular}\n"
      ],
      "text/markdown": [
       "\n",
       "| <!--/--> | Estimate | san.se | san.z | Pr(>|san.z|) | \n",
       "|---|---|---|---|\n",
       "| beta10 | -2.05155 | 0.36411  | -5.63442 | 0.00000  | \n",
       "| beta20 | -1.26210 | 0.32355  | -3.90081 | 0.00010  | \n",
       "| beta30 | -0.08749 | 0.30780  | -0.28426 | 0.77621  | \n",
       "| nt1c |  0.29017 | 0.19830  |  1.46332 | 0.14338  | \n",
       "\n",
       "\n"
      ],
      "text/plain": [
       "       Estimate san.se  san.z    Pr(>|san.z|)\n",
       "beta10 -2.05155 0.36411 -5.63442 0.00000     \n",
       "beta20 -1.26210 0.32355 -3.90081 0.00010     \n",
       "beta30 -0.08749 0.30780 -0.28426 0.77621     \n",
       "nt1c    0.29017 0.19830  1.46332 0.14338     "
      ]
     },
     "metadata": {},
     "output_type": "display_data"
    }
   ],
   "source": [
    "nt1c.fit = ordLORgee(formula = tumor_cell_evaluation ~ nt1c, link = \"logit\", \n",
    "                      id = t_number, data = recgli, LORstr = \"category.exch\")\n",
    "summary(nt1c.fit)$coefficients"
   ]
  },
  {
   "cell_type": "code",
   "execution_count": 59,
   "metadata": {
    "collapsed": false
   },
   "outputs": [
    {
     "data": {
      "text/plain": [
       "GEE FOR ORDINAL MULTINOMIAL RESPONSES \n",
       "version 1.6.0 modified 2017-07-10 \n",
       "\n",
       "Link : Cumulative logit \n",
       "\n",
       "Local Odds Ratios:\n",
       "Structure:         category.exch\n",
       "Model:             3way\n",
       "\n",
       "call:\n",
       "ordLORgee(formula = tumor_cell_evaluation ~ nt1v, data = recgli, \n",
       "    id = t_number, link = \"logit\", LORstr = \"category.exch\")\n",
       "\n",
       "Summary of residuals:\n",
       "     Min.   1st Qu.    Median      Mean   3rd Qu.      Max. \n",
       "-0.293552 -0.233847 -0.142325 -0.005488 -0.106654  0.927608 \n",
       "\n",
       "Number of Iterations: 3 \n",
       "\n",
       "Coefficients:\n",
       "       Estimate   san.se   san.z Pr(>|san.z|)    \n",
       "beta10 -3.11954  0.84528 -3.6906      0.00022 ***\n",
       "beta20 -2.33380  0.82945 -2.8137      0.00490 ** \n",
       "beta30 -1.12399  0.79675 -1.4107      0.15833    \n",
       "nt1v    1.70136  0.94947  1.7919      0.07315 .  \n",
       "---\n",
       "Signif. codes:  0 ‘***’ 0.001 ‘**’ 0.01 ‘*’ 0.05 ‘.’ 0.1 ‘ ’ 1\n",
       "\n",
       "Local Odds Ratios Estimates:\n",
       "        [,1]   [,2]   [,3]   [,4]   [,5]   [,6]   [,7]   [,8]   [,9]  [,10]\n",
       " [1,]  0.000  0.000  0.000  1.498  1.498  1.498  1.087  1.087  1.087  1.233\n",
       " [2,]  0.000  0.000  0.000  1.498  1.498  1.498  1.087  1.087  1.087  1.233\n",
       " [3,]  0.000  0.000  0.000  1.498  1.498  1.498  1.087  1.087  1.087  1.233\n",
       " [4,]  1.498  1.498  1.498  0.000  0.000  0.000  1.251  1.251  1.251  1.919\n",
       " [5,]  1.498  1.498  1.498  0.000  0.000  0.000  1.251  1.251  1.251  1.919\n",
       " [6,]  1.498  1.498  1.498  0.000  0.000  0.000  1.251  1.251  1.251  1.919\n",
       " [7,]  1.087  1.087  1.087  1.251  1.251  1.251  0.000  0.000  0.000  1.251\n",
       " [8,]  1.087  1.087  1.087  1.251  1.251  1.251  0.000  0.000  0.000  1.251\n",
       " [9,]  1.087  1.087  1.087  1.251  1.251  1.251  0.000  0.000  0.000  1.251\n",
       "[10,]  1.233  1.233  1.233  1.919  1.919  1.919  1.251  1.251  1.251  0.000\n",
       "[11,]  1.233  1.233  1.233  1.919  1.919  1.919  1.251  1.251  1.251  0.000\n",
       "[12,]  1.233  1.233  1.233  1.919  1.919  1.919  1.251  1.251  1.251  0.000\n",
       "[13,] 15.918 15.918 15.918 15.918 15.918 15.918 15.918 15.918 15.918 15.918\n",
       "[14,] 15.918 15.918 15.918 15.918 15.918 15.918 15.918 15.918 15.918 15.918\n",
       "[15,] 15.918 15.918 15.918 15.918 15.918 15.918 15.918 15.918 15.918 15.918\n",
       "[16,] 15.918 15.918 15.918 15.918 15.918 15.918 15.918 15.918 15.918 15.918\n",
       "[17,] 15.918 15.918 15.918 15.918 15.918 15.918 15.918 15.918 15.918 15.918\n",
       "[18,] 15.918 15.918 15.918 15.918 15.918 15.918 15.918 15.918 15.918 15.918\n",
       "       [,11]  [,12]  [,13]  [,14]  [,15]  [,16]  [,17]  [,18]\n",
       " [1,]  1.233  1.233 15.918 15.918 15.918 15.918 15.918 15.918\n",
       " [2,]  1.233  1.233 15.918 15.918 15.918 15.918 15.918 15.918\n",
       " [3,]  1.233  1.233 15.918 15.918 15.918 15.918 15.918 15.918\n",
       " [4,]  1.919  1.919 15.918 15.918 15.918 15.918 15.918 15.918\n",
       " [5,]  1.919  1.919 15.918 15.918 15.918 15.918 15.918 15.918\n",
       " [6,]  1.919  1.919 15.918 15.918 15.918 15.918 15.918 15.918\n",
       " [7,]  1.251  1.251 15.918 15.918 15.918 15.918 15.918 15.918\n",
       " [8,]  1.251  1.251 15.918 15.918 15.918 15.918 15.918 15.918\n",
       " [9,]  1.251  1.251 15.918 15.918 15.918 15.918 15.918 15.918\n",
       "[10,]  0.000  0.000 15.918 15.918 15.918 15.918 15.918 15.918\n",
       "[11,]  0.000  0.000 15.918 15.918 15.918 15.918 15.918 15.918\n",
       "[12,]  0.000  0.000 15.918 15.918 15.918 15.918 15.918 15.918\n",
       "[13,] 15.918 15.918  0.000  0.000  0.000 15.918 15.918 15.918\n",
       "[14,] 15.918 15.918  0.000  0.000  0.000 15.918 15.918 15.918\n",
       "[15,] 15.918 15.918  0.000  0.000  0.000 15.918 15.918 15.918\n",
       "[16,] 15.918 15.918 15.918 15.918 15.918  0.000  0.000  0.000\n",
       "[17,] 15.918 15.918 15.918 15.918 15.918  0.000  0.000  0.000\n",
       "[18,] 15.918 15.918 15.918 15.918 15.918  0.000  0.000  0.000\n",
       "\n",
       "pvalue of Null model: 0.07314799 "
      ]
     },
     "metadata": {},
     "output_type": "display_data"
    },
    {
     "data": {
      "text/html": [
       "<dl class=dl-horizontal>\n",
       "\t<dt>beta10</dt>\n",
       "\t\t<dd>0.0441775026151134</dd>\n",
       "\t<dt>beta20</dt>\n",
       "\t\t<dd>0.0969265918163989</dd>\n",
       "\t<dt>beta30</dt>\n",
       "\t\t<dd>0.324979438915592</dd>\n",
       "\t<dt>nt1v</dt>\n",
       "\t\t<dd>5.48139170179592</dd>\n",
       "</dl>\n"
      ],
      "text/latex": [
       "\\begin{description*}\n",
       "\\item[beta10] 0.0441775026151134\n",
       "\\item[beta20] 0.0969265918163989\n",
       "\\item[beta30] 0.324979438915592\n",
       "\\item[nt1v] 5.48139170179592\n",
       "\\end{description*}\n"
      ],
      "text/markdown": [
       "beta10\n",
       ":   0.0441775026151134beta20\n",
       ":   0.0969265918163989beta30\n",
       ":   0.324979438915592nt1v\n",
       ":   5.48139170179592\n",
       "\n"
      ],
      "text/plain": [
       "    beta10     beta20     beta30       nt1v \n",
       "0.04417750 0.09692659 0.32497944 5.48139170 "
      ]
     },
     "metadata": {},
     "output_type": "display_data"
    }
   ],
   "source": [
    "nt1v.fit = ordLORgee(formula = tumor_cell_evaluation ~ nt1v, link = \"logit\", \n",
    "                      id = t_number, data = recgli, LORstr = \"category.exch\")\n",
    "summary(nt1v.fit)\n",
    "exp(coef(nt1v.fit))"
   ]
  },
  {
   "cell_type": "markdown",
   "metadata": {},
   "source": [
    "Using RM ANOVA to use imaging characteristics as the dependent variable, and the TS as independent variable "
   ]
  },
  {
   "cell_type": "code",
   "execution_count": 74,
   "metadata": {
    "collapsed": false
   },
   "outputs": [
    {
     "data": {
      "text/plain": [
       "\n",
       "Error: Within\n",
       "                       Df Sum Sq Mean Sq F value Pr(>F)\n",
       "tumor_cell_evaluation   1   0.40   0.400   1.434  0.233\n",
       "Residuals             164  45.76   0.279               "
      ]
     },
     "metadata": {},
     "output_type": "display_data"
    }
   ],
   "source": [
    "nfse.rmaov = aov(nfse ~ tumor_cell_evaluation + Error(1/(tumor_cell_evaluation)), data=recgli)\n",
    "summary(nfse.rmaov)"
   ]
  },
  {
   "cell_type": "code",
   "execution_count": 75,
   "metadata": {
    "collapsed": false
   },
   "outputs": [
    {
     "data": {
      "text/plain": [
       "\n",
       "Error: Within\n",
       "                       Df Sum Sq Mean Sq F value Pr(>F)  \n",
       "tumor_cell_evaluation   1  0.808  0.8077   5.635 0.0188 *\n",
       "Residuals             164 23.510  0.1434                 \n",
       "---\n",
       "Signif. codes:  0 ‘***’ 0.001 ‘**’ 0.01 ‘*’ 0.05 ‘.’ 0.1 ‘ ’ 1"
      ]
     },
     "metadata": {},
     "output_type": "display_data"
    }
   ],
   "source": [
    "nfl.rmaov = aov(nfl ~ tumor_cell_evaluation + Error(1/(tumor_cell_evaluation)), data=recgli)\n",
    "summary(nfl.rmaov)"
   ]
  },
  {
   "cell_type": "code",
   "execution_count": 76,
   "metadata": {
    "collapsed": false
   },
   "outputs": [
    {
     "data": {
      "text/plain": [
       "\n",
       "Error: Within\n",
       "                       Df Sum Sq Mean Sq F value Pr(>F)\n",
       "tumor_cell_evaluation   1   0.09  0.0885   0.252  0.617\n",
       "Residuals             164  57.71  0.3519               "
      ]
     },
     "metadata": {},
     "output_type": "display_data"
    }
   ],
   "source": [
    "nt1c.rmaov = aov(nt1c ~ tumor_cell_evaluation  + Error(1/(tumor_cell_evaluation)), data=recgli)\n",
    "summary(nt1c.rmaov)"
   ]
  },
  {
   "cell_type": "code",
   "execution_count": 77,
   "metadata": {
    "collapsed": false
   },
   "outputs": [
    {
     "data": {
      "text/plain": [
       "\n",
       "Error: Within\n",
       "                       Df Sum Sq Mean Sq F value Pr(>F)  \n",
       "tumor_cell_evaluation   1  0.182 0.18197   5.554 0.0196 *\n",
       "Residuals             164  5.373 0.03277                 \n",
       "---\n",
       "Signif. codes:  0 ‘***’ 0.001 ‘**’ 0.01 ‘*’ 0.05 ‘.’ 0.1 ‘ ’ 1"
      ]
     },
     "metadata": {},
     "output_type": "display_data"
    }
   ],
   "source": [
    "nt1v.rmaov = aov(nt1v ~ tumor_cell_evaluation  + Error(1/(tumor_cell_evaluation)), data=recgli)\n",
    "summary(nt1v.rmaov)"
   ]
  },
  {
   "cell_type": "code",
   "execution_count": null,
   "metadata": {
    "collapsed": true
   },
   "outputs": [],
   "source": []
  }
 ],
 "metadata": {
  "kernelspec": {
   "display_name": "R",
   "language": "R",
   "name": "ir"
  },
  "language_info": {
   "codemirror_mode": "r",
   "file_extension": ".r",
   "mimetype": "text/x-r-source",
   "name": "R",
   "pygments_lexer": "r",
   "version": "3.4.0"
  }
 },
 "nbformat": 4,
 "nbformat_minor": 2
}
