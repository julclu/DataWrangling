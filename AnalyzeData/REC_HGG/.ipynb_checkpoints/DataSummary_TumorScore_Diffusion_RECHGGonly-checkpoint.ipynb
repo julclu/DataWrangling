{
 "cells": [
  {
   "cell_type": "code",
   "execution_count": 1,
   "metadata": {
    "collapsed": true,
    "deletable": true,
    "editable": true
   },
   "outputs": [],
   "source": [
    "options(repr.matrix.max.rows=600, repr.matrix.max.cols=200)"
   ]
  },
  {
   "cell_type": "code",
   "execution_count": 2,
   "metadata": {
    "collapsed": true,
    "deletable": true,
    "editable": true
   },
   "outputs": [],
   "source": [
    "recgli = read.csv(\"../../ParseData/Parsing_REC_HGG_Oct2018/7thParse_researchPath_withInVivo.csv\") "
   ]
  },
  {
   "cell_type": "code",
   "execution_count": 3,
   "metadata": {
    "collapsed": false,
    "deletable": true,
    "editable": true
   },
   "outputs": [],
   "source": [
    "#recgli[order(recgli$current_hist_type, recgli$t_number, recgli$tumor_cell_evaluation),]"
   ]
  },
  {
   "cell_type": "code",
   "execution_count": 4,
   "metadata": {
    "collapsed": false,
    "deletable": true,
    "editable": true
   },
   "outputs": [
    {
     "data": {
      "text/html": [
       "<ol class=list-inline>\n",
       "\t<li>192</li>\n",
       "\t<li>71</li>\n",
       "</ol>\n"
      ],
      "text/latex": [
       "\\begin{enumerate*}\n",
       "\\item 192\n",
       "\\item 71\n",
       "\\end{enumerate*}\n"
      ],
      "text/markdown": [
       "1. 192\n",
       "2. 71\n",
       "\n",
       "\n"
      ],
      "text/plain": [
       "[1] 192  71"
      ]
     },
     "metadata": {},
     "output_type": "display_data"
    },
    {
     "name": "stderr",
     "output_type": "stream",
     "text": [
      "Warning message in eval(expr, envir, enclos):\n",
      "“NAs introduced by coercion”"
     ]
    },
    {
     "name": "stdout",
     "output_type": "stream",
     "text": [
      " num [1:192] 3 2 2 3 1 1 2 0 0 0 ...\n"
     ]
    }
   ],
   "source": [
    "recgli = recgli[recgli$tumor_cell_evaluation != \"Ind\",]\n",
    "dim(recgli)\n",
    "recgli = droplevels(recgli)\n",
    "recgli$tumor_cell_evaluation = as.character(recgli$tumor_cell_evaluation)\n",
    "recgli$tumor_cell_evaluation = as.numeric(recgli$tumor_cell_evaluation)\n",
    "str(recgli$tumor_cell_evaluation)"
   ]
  },
  {
   "cell_type": "code",
   "execution_count": 5,
   "metadata": {
    "collapsed": false,
    "deletable": true,
    "editable": true
   },
   "outputs": [
    {
     "data": {
      "text/html": [
       "<ol class=list-inline>\n",
       "\t<li>'b_number'</li>\n",
       "\t<li>'t_number'</li>\n",
       "\t<li>'sf_number'</li>\n",
       "\t<li>'current_scan_date'</li>\n",
       "\t<li>'current_surgery_date'</li>\n",
       "\t<li>'current_hist_grade'</li>\n",
       "\t<li>'current_hist_type'</li>\n",
       "\t<li>'roi.label'</li>\n",
       "\t<li>'tumor_cell_evaluation'</li>\n",
       "\t<li>'necrosis'</li>\n",
       "\t<li>'mv_hyperplasia'</li>\n",
       "\t<li>'f8_delicate'</li>\n",
       "\t<li>'f8_simple'</li>\n",
       "\t<li>'f8_complex'</li>\n",
       "\t<li>'mib_1'</li>\n",
       "\t<li>'avgerage_cells'</li>\n",
       "\t<li>'bx_pure_treatment_effect'</li>\n",
       "\t<li>'percent_tumor_nuclei'</li>\n",
       "\t<li>'nfse'</li>\n",
       "\t<li>'nfl'</li>\n",
       "\t<li>'nt1c'</li>\n",
       "\t<li>'nt1v'</li>\n",
       "\t<li>'nt1d'</li>\n",
       "\t<li>'nadc.1'</li>\n",
       "\t<li>'nfa.1'</li>\n",
       "\t<li>'nadc.2'</li>\n",
       "\t<li>'nfa.2'</li>\n",
       "\t<li>'phn_nlin'</li>\n",
       "\t<li>'cbvn_nlin'</li>\n",
       "\t<li>'recov_nlin'</li>\n",
       "\t<li>'phn_npar'</li>\n",
       "\t<li>'recov_npar'</li>\n",
       "\t<li>'recovn_npar'</li>\n",
       "\t<li>'cni'</li>\n",
       "\t<li>'ccri'</li>\n",
       "\t<li>'crni'</li>\n",
       "\t<li>'ncho'</li>\n",
       "\t<li>'ncre'</li>\n",
       "\t<li>'nnaa'</li>\n",
       "\t<li>'nlip'</li>\n",
       "\t<li>'nlac'</li>\n",
       "\t<li>'laclip'</li>\n",
       "\t<li>'comments'</li>\n",
       "\t<li>'notes.'</li>\n",
       "\t<li>'imaging_code'</li>\n",
       "\t<li>'perf_quant'</li>\n",
       "\t<li>'spec_quant'</li>\n",
       "\t<li>'include_anat'</li>\n",
       "\t<li>'include_diffu1000'</li>\n",
       "\t<li>'include_diffu2000'</li>\n",
       "\t<li>'include_diffu_all'</li>\n",
       "\t<li>'include_perf'</li>\n",
       "\t<li>'include_spec'</li>\n",
       "\t<li>'include_one_advanced_mod'</li>\n",
       "\t<li>'include_all_advanced_mods'</li>\n",
       "\t<li>'X.CEL'</li>\n",
       "\t<li>'X.NEL'</li>\n",
       "\t<li>'X.NEC'</li>\n",
       "\t<li>'sum'</li>\n",
       "\t<li>'in_CEL'</li>\n",
       "\t<li>'in_T2all'</li>\n",
       "\t<li>'in_NEL'</li>\n",
       "\t<li>'in_NEC'</li>\n",
       "\t<li>'in_ROI'</li>\n",
       "\t<li>'desired_hist'</li>\n",
       "\t<li>'multnom_out'</li>\n",
       "\t<li>'no_ffpe'</li>\n",
       "\t<li>'waiting_on_path'</li>\n",
       "\t<li>'rhgg_txe_analysis'</li>\n",
       "\t<li>'olddata'</li>\n",
       "\t<li>'newdata'</li>\n",
       "</ol>\n"
      ],
      "text/latex": [
       "\\begin{enumerate*}\n",
       "\\item 'b\\_number'\n",
       "\\item 't\\_number'\n",
       "\\item 'sf\\_number'\n",
       "\\item 'current\\_scan\\_date'\n",
       "\\item 'current\\_surgery\\_date'\n",
       "\\item 'current\\_hist\\_grade'\n",
       "\\item 'current\\_hist\\_type'\n",
       "\\item 'roi.label'\n",
       "\\item 'tumor\\_cell\\_evaluation'\n",
       "\\item 'necrosis'\n",
       "\\item 'mv\\_hyperplasia'\n",
       "\\item 'f8\\_delicate'\n",
       "\\item 'f8\\_simple'\n",
       "\\item 'f8\\_complex'\n",
       "\\item 'mib\\_1'\n",
       "\\item 'avgerage\\_cells'\n",
       "\\item 'bx\\_pure\\_treatment\\_effect'\n",
       "\\item 'percent\\_tumor\\_nuclei'\n",
       "\\item 'nfse'\n",
       "\\item 'nfl'\n",
       "\\item 'nt1c'\n",
       "\\item 'nt1v'\n",
       "\\item 'nt1d'\n",
       "\\item 'nadc.1'\n",
       "\\item 'nfa.1'\n",
       "\\item 'nadc.2'\n",
       "\\item 'nfa.2'\n",
       "\\item 'phn\\_nlin'\n",
       "\\item 'cbvn\\_nlin'\n",
       "\\item 'recov\\_nlin'\n",
       "\\item 'phn\\_npar'\n",
       "\\item 'recov\\_npar'\n",
       "\\item 'recovn\\_npar'\n",
       "\\item 'cni'\n",
       "\\item 'ccri'\n",
       "\\item 'crni'\n",
       "\\item 'ncho'\n",
       "\\item 'ncre'\n",
       "\\item 'nnaa'\n",
       "\\item 'nlip'\n",
       "\\item 'nlac'\n",
       "\\item 'laclip'\n",
       "\\item 'comments'\n",
       "\\item 'notes.'\n",
       "\\item 'imaging\\_code'\n",
       "\\item 'perf\\_quant'\n",
       "\\item 'spec\\_quant'\n",
       "\\item 'include\\_anat'\n",
       "\\item 'include\\_diffu1000'\n",
       "\\item 'include\\_diffu2000'\n",
       "\\item 'include\\_diffu\\_all'\n",
       "\\item 'include\\_perf'\n",
       "\\item 'include\\_spec'\n",
       "\\item 'include\\_one\\_advanced\\_mod'\n",
       "\\item 'include\\_all\\_advanced\\_mods'\n",
       "\\item 'X.CEL'\n",
       "\\item 'X.NEL'\n",
       "\\item 'X.NEC'\n",
       "\\item 'sum'\n",
       "\\item 'in\\_CEL'\n",
       "\\item 'in\\_T2all'\n",
       "\\item 'in\\_NEL'\n",
       "\\item 'in\\_NEC'\n",
       "\\item 'in\\_ROI'\n",
       "\\item 'desired\\_hist'\n",
       "\\item 'multnom\\_out'\n",
       "\\item 'no\\_ffpe'\n",
       "\\item 'waiting\\_on\\_path'\n",
       "\\item 'rhgg\\_txe\\_analysis'\n",
       "\\item 'olddata'\n",
       "\\item 'newdata'\n",
       "\\end{enumerate*}\n"
      ],
      "text/markdown": [
       "1. 'b_number'\n",
       "2. 't_number'\n",
       "3. 'sf_number'\n",
       "4. 'current_scan_date'\n",
       "5. 'current_surgery_date'\n",
       "6. 'current_hist_grade'\n",
       "7. 'current_hist_type'\n",
       "8. 'roi.label'\n",
       "9. 'tumor_cell_evaluation'\n",
       "10. 'necrosis'\n",
       "11. 'mv_hyperplasia'\n",
       "12. 'f8_delicate'\n",
       "13. 'f8_simple'\n",
       "14. 'f8_complex'\n",
       "15. 'mib_1'\n",
       "16. 'avgerage_cells'\n",
       "17. 'bx_pure_treatment_effect'\n",
       "18. 'percent_tumor_nuclei'\n",
       "19. 'nfse'\n",
       "20. 'nfl'\n",
       "21. 'nt1c'\n",
       "22. 'nt1v'\n",
       "23. 'nt1d'\n",
       "24. 'nadc.1'\n",
       "25. 'nfa.1'\n",
       "26. 'nadc.2'\n",
       "27. 'nfa.2'\n",
       "28. 'phn_nlin'\n",
       "29. 'cbvn_nlin'\n",
       "30. 'recov_nlin'\n",
       "31. 'phn_npar'\n",
       "32. 'recov_npar'\n",
       "33. 'recovn_npar'\n",
       "34. 'cni'\n",
       "35. 'ccri'\n",
       "36. 'crni'\n",
       "37. 'ncho'\n",
       "38. 'ncre'\n",
       "39. 'nnaa'\n",
       "40. 'nlip'\n",
       "41. 'nlac'\n",
       "42. 'laclip'\n",
       "43. 'comments'\n",
       "44. 'notes.'\n",
       "45. 'imaging_code'\n",
       "46. 'perf_quant'\n",
       "47. 'spec_quant'\n",
       "48. 'include_anat'\n",
       "49. 'include_diffu1000'\n",
       "50. 'include_diffu2000'\n",
       "51. 'include_diffu_all'\n",
       "52. 'include_perf'\n",
       "53. 'include_spec'\n",
       "54. 'include_one_advanced_mod'\n",
       "55. 'include_all_advanced_mods'\n",
       "56. 'X.CEL'\n",
       "57. 'X.NEL'\n",
       "58. 'X.NEC'\n",
       "59. 'sum'\n",
       "60. 'in_CEL'\n",
       "61. 'in_T2all'\n",
       "62. 'in_NEL'\n",
       "63. 'in_NEC'\n",
       "64. 'in_ROI'\n",
       "65. 'desired_hist'\n",
       "66. 'multnom_out'\n",
       "67. 'no_ffpe'\n",
       "68. 'waiting_on_path'\n",
       "69. 'rhgg_txe_analysis'\n",
       "70. 'olddata'\n",
       "71. 'newdata'\n",
       "\n",
       "\n"
      ],
      "text/plain": [
       " [1] \"b_number\"                  \"t_number\"                 \n",
       " [3] \"sf_number\"                 \"current_scan_date\"        \n",
       " [5] \"current_surgery_date\"      \"current_hist_grade\"       \n",
       " [7] \"current_hist_type\"         \"roi.label\"                \n",
       " [9] \"tumor_cell_evaluation\"     \"necrosis\"                 \n",
       "[11] \"mv_hyperplasia\"            \"f8_delicate\"              \n",
       "[13] \"f8_simple\"                 \"f8_complex\"               \n",
       "[15] \"mib_1\"                     \"avgerage_cells\"           \n",
       "[17] \"bx_pure_treatment_effect\"  \"percent_tumor_nuclei\"     \n",
       "[19] \"nfse\"                      \"nfl\"                      \n",
       "[21] \"nt1c\"                      \"nt1v\"                     \n",
       "[23] \"nt1d\"                      \"nadc.1\"                   \n",
       "[25] \"nfa.1\"                     \"nadc.2\"                   \n",
       "[27] \"nfa.2\"                     \"phn_nlin\"                 \n",
       "[29] \"cbvn_nlin\"                 \"recov_nlin\"               \n",
       "[31] \"phn_npar\"                  \"recov_npar\"               \n",
       "[33] \"recovn_npar\"               \"cni\"                      \n",
       "[35] \"ccri\"                      \"crni\"                     \n",
       "[37] \"ncho\"                      \"ncre\"                     \n",
       "[39] \"nnaa\"                      \"nlip\"                     \n",
       "[41] \"nlac\"                      \"laclip\"                   \n",
       "[43] \"comments\"                  \"notes.\"                   \n",
       "[45] \"imaging_code\"              \"perf_quant\"               \n",
       "[47] \"spec_quant\"                \"include_anat\"             \n",
       "[49] \"include_diffu1000\"         \"include_diffu2000\"        \n",
       "[51] \"include_diffu_all\"         \"include_perf\"             \n",
       "[53] \"include_spec\"              \"include_one_advanced_mod\" \n",
       "[55] \"include_all_advanced_mods\" \"X.CEL\"                    \n",
       "[57] \"X.NEL\"                     \"X.NEC\"                    \n",
       "[59] \"sum\"                       \"in_CEL\"                   \n",
       "[61] \"in_T2all\"                  \"in_NEL\"                   \n",
       "[63] \"in_NEC\"                    \"in_ROI\"                   \n",
       "[65] \"desired_hist\"              \"multnom_out\"              \n",
       "[67] \"no_ffpe\"                   \"waiting_on_path\"          \n",
       "[69] \"rhgg_txe_analysis\"         \"olddata\"                  \n",
       "[71] \"newdata\"                  "
      ]
     },
     "metadata": {},
     "output_type": "display_data"
    }
   ],
   "source": [
    "colnames(recgli)"
   ]
  },
  {
   "cell_type": "code",
   "execution_count": 6,
   "metadata": {
    "collapsed": false,
    "deletable": true,
    "editable": true
   },
   "outputs": [
    {
     "data": {
      "text/html": [
       "<ol class=list-inline>\n",
       "\t<li>191</li>\n",
       "\t<li>71</li>\n",
       "</ol>\n"
      ],
      "text/latex": [
       "\\begin{enumerate*}\n",
       "\\item 191\n",
       "\\item 71\n",
       "\\end{enumerate*}\n"
      ],
      "text/markdown": [
       "1. 191\n",
       "2. 71\n",
       "\n",
       "\n"
      ],
      "text/plain": [
       "[1] 191  71"
      ]
     },
     "metadata": {},
     "output_type": "display_data"
    }
   ],
   "source": [
    "recgli.diffu = recgli[recgli$include_diffu_all==1,]\n",
    "dim(recgli.diffu)"
   ]
  },
  {
   "cell_type": "code",
   "execution_count": 7,
   "metadata": {
    "collapsed": true,
    "deletable": true,
    "editable": true
   },
   "outputs": [],
   "source": [
    "recgli = recgli.diffu"
   ]
  },
  {
   "cell_type": "code",
   "execution_count": 8,
   "metadata": {
    "collapsed": true,
    "deletable": true,
    "editable": true
   },
   "outputs": [],
   "source": [
    "recgli$t_number = as.factor(recgli$t_number)\n",
    "#str(recgli)"
   ]
  },
  {
   "cell_type": "code",
   "execution_count": null,
   "metadata": {
    "collapsed": true,
    "deletable": true,
    "editable": true
   },
   "outputs": [],
   "source": []
  },
  {
   "cell_type": "code",
   "execution_count": null,
   "metadata": {
    "collapsed": false,
    "deletable": true,
    "editable": true
   },
   "outputs": [],
   "source": []
  },
  {
   "cell_type": "code",
   "execution_count": 9,
   "metadata": {
    "collapsed": false,
    "deletable": true,
    "editable": true
   },
   "outputs": [
    {
     "data": {
      "text/html": [
       "<dl class=dl-horizontal>\n",
       "\t<dt>b_number</dt>\n",
       "\t\t<dd>0</dd>\n",
       "\t<dt>t_number</dt>\n",
       "\t\t<dd>0</dd>\n",
       "\t<dt>sf_number</dt>\n",
       "\t\t<dd>0</dd>\n",
       "\t<dt>current_scan_date</dt>\n",
       "\t\t<dd>0</dd>\n",
       "\t<dt>current_surgery_date</dt>\n",
       "\t\t<dd>0</dd>\n",
       "\t<dt>current_hist_grade</dt>\n",
       "\t\t<dd>0</dd>\n",
       "\t<dt>current_hist_type</dt>\n",
       "\t\t<dd>0</dd>\n",
       "\t<dt>roi.label</dt>\n",
       "\t\t<dd>0</dd>\n",
       "\t<dt>tumor_cell_evaluation</dt>\n",
       "\t\t<dd>6</dd>\n",
       "\t<dt>necrosis</dt>\n",
       "\t\t<dd>0</dd>\n",
       "\t<dt>mv_hyperplasia</dt>\n",
       "\t\t<dd>0</dd>\n",
       "\t<dt>f8_delicate</dt>\n",
       "\t\t<dd>0</dd>\n",
       "\t<dt>f8_simple</dt>\n",
       "\t\t<dd>0</dd>\n",
       "\t<dt>f8_complex</dt>\n",
       "\t\t<dd>0</dd>\n",
       "\t<dt>mib_1</dt>\n",
       "\t\t<dd>9</dd>\n",
       "\t<dt>avgerage_cells</dt>\n",
       "\t\t<dd>12</dd>\n",
       "\t<dt>bx_pure_treatment_effect</dt>\n",
       "\t\t<dd>0</dd>\n",
       "\t<dt>percent_tumor_nuclei</dt>\n",
       "\t\t<dd>7</dd>\n",
       "\t<dt>nfse</dt>\n",
       "\t\t<dd>0</dd>\n",
       "\t<dt>nfl</dt>\n",
       "\t\t<dd>0</dd>\n",
       "\t<dt>nt1c</dt>\n",
       "\t\t<dd>0</dd>\n",
       "\t<dt>nt1v</dt>\n",
       "\t\t<dd>21</dd>\n",
       "\t<dt>nt1d</dt>\n",
       "\t\t<dd>21</dd>\n",
       "\t<dt>nadc.1</dt>\n",
       "\t\t<dd>0</dd>\n",
       "\t<dt>nfa.1</dt>\n",
       "\t\t<dd>0</dd>\n",
       "\t<dt>nadc.2</dt>\n",
       "\t\t<dd>5</dd>\n",
       "\t<dt>nfa.2</dt>\n",
       "\t\t<dd>5</dd>\n",
       "\t<dt>phn_nlin</dt>\n",
       "\t\t<dd>60</dd>\n",
       "\t<dt>cbvn_nlin</dt>\n",
       "\t\t<dd>60</dd>\n",
       "\t<dt>recov_nlin</dt>\n",
       "\t\t<dd>60</dd>\n",
       "\t<dt>phn_npar</dt>\n",
       "\t\t<dd>60</dd>\n",
       "\t<dt>recov_npar</dt>\n",
       "\t\t<dd>60</dd>\n",
       "\t<dt>recovn_npar</dt>\n",
       "\t\t<dd>60</dd>\n",
       "\t<dt>cni</dt>\n",
       "\t\t<dd>75</dd>\n",
       "\t<dt>ccri</dt>\n",
       "\t\t<dd>75</dd>\n",
       "\t<dt>crni</dt>\n",
       "\t\t<dd>75</dd>\n",
       "\t<dt>ncho</dt>\n",
       "\t\t<dd>75</dd>\n",
       "\t<dt>ncre</dt>\n",
       "\t\t<dd>75</dd>\n",
       "\t<dt>nnaa</dt>\n",
       "\t\t<dd>75</dd>\n",
       "\t<dt>nlip</dt>\n",
       "\t\t<dd>75</dd>\n",
       "\t<dt>nlac</dt>\n",
       "\t\t<dd>75</dd>\n",
       "\t<dt>laclip</dt>\n",
       "\t\t<dd>75</dd>\n",
       "\t<dt>comments</dt>\n",
       "\t\t<dd>0</dd>\n",
       "\t<dt>notes.</dt>\n",
       "\t\t<dd>179</dd>\n",
       "\t<dt>imaging_code</dt>\n",
       "\t\t<dd>191</dd>\n",
       "\t<dt>perf_quant</dt>\n",
       "\t\t<dd>60</dd>\n",
       "\t<dt>spec_quant</dt>\n",
       "\t\t<dd>44</dd>\n",
       "\t<dt>include_anat</dt>\n",
       "\t\t<dd>0</dd>\n",
       "\t<dt>include_diffu1000</dt>\n",
       "\t\t<dd>0</dd>\n",
       "\t<dt>include_diffu2000</dt>\n",
       "\t\t<dd>0</dd>\n",
       "\t<dt>include_diffu_all</dt>\n",
       "\t\t<dd>0</dd>\n",
       "\t<dt>include_perf</dt>\n",
       "\t\t<dd>0</dd>\n",
       "\t<dt>include_spec</dt>\n",
       "\t\t<dd>0</dd>\n",
       "\t<dt>include_one_advanced_mod</dt>\n",
       "\t\t<dd>0</dd>\n",
       "\t<dt>include_all_advanced_mods</dt>\n",
       "\t\t<dd>0</dd>\n",
       "\t<dt>X.CEL</dt>\n",
       "\t\t<dd>24</dd>\n",
       "\t<dt>X.NEL</dt>\n",
       "\t\t<dd>16</dd>\n",
       "\t<dt>X.NEC</dt>\n",
       "\t\t<dd>172</dd>\n",
       "\t<dt>sum</dt>\n",
       "\t\t<dd>14</dd>\n",
       "\t<dt>in_CEL</dt>\n",
       "\t\t<dd>0</dd>\n",
       "\t<dt>in_T2all</dt>\n",
       "\t\t<dd>0</dd>\n",
       "\t<dt>in_NEL</dt>\n",
       "\t\t<dd>0</dd>\n",
       "\t<dt>in_NEC</dt>\n",
       "\t\t<dd>0</dd>\n",
       "\t<dt>in_ROI</dt>\n",
       "\t\t<dd>0</dd>\n",
       "\t<dt>desired_hist</dt>\n",
       "\t\t<dd>0</dd>\n",
       "\t<dt>multnom_out</dt>\n",
       "\t\t<dd>0</dd>\n",
       "\t<dt>no_ffpe</dt>\n",
       "\t\t<dd>0</dd>\n",
       "\t<dt>waiting_on_path</dt>\n",
       "\t\t<dd>0</dd>\n",
       "\t<dt>rhgg_txe_analysis</dt>\n",
       "\t\t<dd>0</dd>\n",
       "\t<dt>olddata</dt>\n",
       "\t\t<dd>0</dd>\n",
       "\t<dt>newdata</dt>\n",
       "\t\t<dd>0</dd>\n",
       "</dl>\n"
      ],
      "text/latex": [
       "\\begin{description*}\n",
       "\\item[b\\textbackslash{}\\_number] 0\n",
       "\\item[t\\textbackslash{}\\_number] 0\n",
       "\\item[sf\\textbackslash{}\\_number] 0\n",
       "\\item[current\\textbackslash{}\\_scan\\textbackslash{}\\_date] 0\n",
       "\\item[current\\textbackslash{}\\_surgery\\textbackslash{}\\_date] 0\n",
       "\\item[current\\textbackslash{}\\_hist\\textbackslash{}\\_grade] 0\n",
       "\\item[current\\textbackslash{}\\_hist\\textbackslash{}\\_type] 0\n",
       "\\item[roi.label] 0\n",
       "\\item[tumor\\textbackslash{}\\_cell\\textbackslash{}\\_evaluation] 6\n",
       "\\item[necrosis] 0\n",
       "\\item[mv\\textbackslash{}\\_hyperplasia] 0\n",
       "\\item[f8\\textbackslash{}\\_delicate] 0\n",
       "\\item[f8\\textbackslash{}\\_simple] 0\n",
       "\\item[f8\\textbackslash{}\\_complex] 0\n",
       "\\item[mib\\textbackslash{}\\_1] 9\n",
       "\\item[avgerage\\textbackslash{}\\_cells] 12\n",
       "\\item[bx\\textbackslash{}\\_pure\\textbackslash{}\\_treatment\\textbackslash{}\\_effect] 0\n",
       "\\item[percent\\textbackslash{}\\_tumor\\textbackslash{}\\_nuclei] 7\n",
       "\\item[nfse] 0\n",
       "\\item[nfl] 0\n",
       "\\item[nt1c] 0\n",
       "\\item[nt1v] 21\n",
       "\\item[nt1d] 21\n",
       "\\item[nadc.1] 0\n",
       "\\item[nfa.1] 0\n",
       "\\item[nadc.2] 5\n",
       "\\item[nfa.2] 5\n",
       "\\item[phn\\textbackslash{}\\_nlin] 60\n",
       "\\item[cbvn\\textbackslash{}\\_nlin] 60\n",
       "\\item[recov\\textbackslash{}\\_nlin] 60\n",
       "\\item[phn\\textbackslash{}\\_npar] 60\n",
       "\\item[recov\\textbackslash{}\\_npar] 60\n",
       "\\item[recovn\\textbackslash{}\\_npar] 60\n",
       "\\item[cni] 75\n",
       "\\item[ccri] 75\n",
       "\\item[crni] 75\n",
       "\\item[ncho] 75\n",
       "\\item[ncre] 75\n",
       "\\item[nnaa] 75\n",
       "\\item[nlip] 75\n",
       "\\item[nlac] 75\n",
       "\\item[laclip] 75\n",
       "\\item[comments] 0\n",
       "\\item[notes.] 179\n",
       "\\item[imaging\\textbackslash{}\\_code] 191\n",
       "\\item[perf\\textbackslash{}\\_quant] 60\n",
       "\\item[spec\\textbackslash{}\\_quant] 44\n",
       "\\item[include\\textbackslash{}\\_anat] 0\n",
       "\\item[include\\textbackslash{}\\_diffu1000] 0\n",
       "\\item[include\\textbackslash{}\\_diffu2000] 0\n",
       "\\item[include\\textbackslash{}\\_diffu\\textbackslash{}\\_all] 0\n",
       "\\item[include\\textbackslash{}\\_perf] 0\n",
       "\\item[include\\textbackslash{}\\_spec] 0\n",
       "\\item[include\\textbackslash{}\\_one\\textbackslash{}\\_advanced\\textbackslash{}\\_mod] 0\n",
       "\\item[include\\textbackslash{}\\_all\\textbackslash{}\\_advanced\\textbackslash{}\\_mods] 0\n",
       "\\item[X.CEL] 24\n",
       "\\item[X.NEL] 16\n",
       "\\item[X.NEC] 172\n",
       "\\item[sum] 14\n",
       "\\item[in\\textbackslash{}\\_CEL] 0\n",
       "\\item[in\\textbackslash{}\\_T2all] 0\n",
       "\\item[in\\textbackslash{}\\_NEL] 0\n",
       "\\item[in\\textbackslash{}\\_NEC] 0\n",
       "\\item[in\\textbackslash{}\\_ROI] 0\n",
       "\\item[desired\\textbackslash{}\\_hist] 0\n",
       "\\item[multnom\\textbackslash{}\\_out] 0\n",
       "\\item[no\\textbackslash{}\\_ffpe] 0\n",
       "\\item[waiting\\textbackslash{}\\_on\\textbackslash{}\\_path] 0\n",
       "\\item[rhgg\\textbackslash{}\\_txe\\textbackslash{}\\_analysis] 0\n",
       "\\item[olddata] 0\n",
       "\\item[newdata] 0\n",
       "\\end{description*}\n"
      ],
      "text/markdown": [
       "b_number\n",
       ":   0t_number\n",
       ":   0sf_number\n",
       ":   0current_scan_date\n",
       ":   0current_surgery_date\n",
       ":   0current_hist_grade\n",
       ":   0current_hist_type\n",
       ":   0roi.label\n",
       ":   0tumor_cell_evaluation\n",
       ":   6necrosis\n",
       ":   0mv_hyperplasia\n",
       ":   0f8_delicate\n",
       ":   0f8_simple\n",
       ":   0f8_complex\n",
       ":   0mib_1\n",
       ":   9avgerage_cells\n",
       ":   12bx_pure_treatment_effect\n",
       ":   0percent_tumor_nuclei\n",
       ":   7nfse\n",
       ":   0nfl\n",
       ":   0nt1c\n",
       ":   0nt1v\n",
       ":   21nt1d\n",
       ":   21nadc.1\n",
       ":   0nfa.1\n",
       ":   0nadc.2\n",
       ":   5nfa.2\n",
       ":   5phn_nlin\n",
       ":   60cbvn_nlin\n",
       ":   60recov_nlin\n",
       ":   60phn_npar\n",
       ":   60recov_npar\n",
       ":   60recovn_npar\n",
       ":   60cni\n",
       ":   75ccri\n",
       ":   75crni\n",
       ":   75ncho\n",
       ":   75ncre\n",
       ":   75nnaa\n",
       ":   75nlip\n",
       ":   75nlac\n",
       ":   75laclip\n",
       ":   75comments\n",
       ":   0notes.\n",
       ":   179imaging_code\n",
       ":   191perf_quant\n",
       ":   60spec_quant\n",
       ":   44include_anat\n",
       ":   0include_diffu1000\n",
       ":   0include_diffu2000\n",
       ":   0include_diffu_all\n",
       ":   0include_perf\n",
       ":   0include_spec\n",
       ":   0include_one_advanced_mod\n",
       ":   0include_all_advanced_mods\n",
       ":   0X.CEL\n",
       ":   24X.NEL\n",
       ":   16X.NEC\n",
       ":   172sum\n",
       ":   14in_CEL\n",
       ":   0in_T2all\n",
       ":   0in_NEL\n",
       ":   0in_NEC\n",
       ":   0in_ROI\n",
       ":   0desired_hist\n",
       ":   0multnom_out\n",
       ":   0no_ffpe\n",
       ":   0waiting_on_path\n",
       ":   0rhgg_txe_analysis\n",
       ":   0olddata\n",
       ":   0newdata\n",
       ":   0\n",
       "\n"
      ],
      "text/plain": [
       "                 b_number                  t_number                 sf_number \n",
       "                        0                         0                         0 \n",
       "        current_scan_date      current_surgery_date        current_hist_grade \n",
       "                        0                         0                         0 \n",
       "        current_hist_type                 roi.label     tumor_cell_evaluation \n",
       "                        0                         0                         6 \n",
       "                 necrosis            mv_hyperplasia               f8_delicate \n",
       "                        0                         0                         0 \n",
       "                f8_simple                f8_complex                     mib_1 \n",
       "                        0                         0                         9 \n",
       "           avgerage_cells  bx_pure_treatment_effect      percent_tumor_nuclei \n",
       "                       12                         0                         7 \n",
       "                     nfse                       nfl                      nt1c \n",
       "                        0                         0                         0 \n",
       "                     nt1v                      nt1d                    nadc.1 \n",
       "                       21                        21                         0 \n",
       "                    nfa.1                    nadc.2                     nfa.2 \n",
       "                        0                         5                         5 \n",
       "                 phn_nlin                 cbvn_nlin                recov_nlin \n",
       "                       60                        60                        60 \n",
       "                 phn_npar                recov_npar               recovn_npar \n",
       "                       60                        60                        60 \n",
       "                      cni                      ccri                      crni \n",
       "                       75                        75                        75 \n",
       "                     ncho                      ncre                      nnaa \n",
       "                       75                        75                        75 \n",
       "                     nlip                      nlac                    laclip \n",
       "                       75                        75                        75 \n",
       "                 comments                    notes.              imaging_code \n",
       "                        0                       179                       191 \n",
       "               perf_quant                spec_quant              include_anat \n",
       "                       60                        44                         0 \n",
       "        include_diffu1000         include_diffu2000         include_diffu_all \n",
       "                        0                         0                         0 \n",
       "             include_perf              include_spec  include_one_advanced_mod \n",
       "                        0                         0                         0 \n",
       "include_all_advanced_mods                     X.CEL                     X.NEL \n",
       "                        0                        24                        16 \n",
       "                    X.NEC                       sum                    in_CEL \n",
       "                      172                        14                         0 \n",
       "                 in_T2all                    in_NEL                    in_NEC \n",
       "                        0                         0                         0 \n",
       "                   in_ROI              desired_hist               multnom_out \n",
       "                        0                         0                         0 \n",
       "                  no_ffpe           waiting_on_path         rhgg_txe_analysis \n",
       "                        0                         0                         0 \n",
       "                  olddata                   newdata \n",
       "                        0                         0 "
      ]
     },
     "metadata": {},
     "output_type": "display_data"
    }
   ],
   "source": [
    "colSums(is.na(recgli))"
   ]
  },
  {
   "cell_type": "code",
   "execution_count": 11,
   "metadata": {
    "collapsed": false,
    "deletable": true,
    "editable": true
   },
   "outputs": [
    {
     "data": {
      "text/plain": [
       "\n",
       "FALSE  TRUE \n",
       "  123    68 "
      ]
     },
     "metadata": {},
     "output_type": "display_data"
    }
   ],
   "source": [
    "table(!duplicated(recgli$t_number))"
   ]
  },
  {
   "cell_type": "markdown",
   "metadata": {
    "deletable": true,
    "editable": true
   },
   "source": [
    "\n",
    "# There are 191 samples with 68 patients"
   ]
  },
  {
   "cell_type": "markdown",
   "metadata": {
    "deletable": true,
    "editable": true
   },
   "source": [
    "# Visualization: "
   ]
  },
  {
   "cell_type": "code",
   "execution_count": 12,
   "metadata": {
    "collapsed": false,
    "deletable": true,
    "editable": true
   },
   "outputs": [
    {
     "data": {
      "image/png": "[encoded data removed]",
      "text/plain": [
       "Plot with title “nfa vs. ts”"
      ]
     },
     "metadata": {},
     "output_type": "display_data"
    }
   ],
   "source": [
    "par(mfrow = c(2, 2))\n",
    "a = boxplot(nadc.1 ~ tumor_cell_evaluation , data = recgli, ylab = \"normalized adc\", xlab = \"tumorscore\", main = 'nadc vs. ts')\n",
    "\n",
    "b = boxplot(nfa.1 ~ tumor_cell_evaluation , data = recgli, ylab = \"normalized fa\", xlab = \"tumorscore\", main = 'nfa vs. ts')\n"
   ]
  },
  {
   "cell_type": "code",
   "execution_count": 13,
   "metadata": {
    "collapsed": false,
    "deletable": true,
    "editable": true
   },
   "outputs": [
    {
     "data": {
      "image/png": "[encoded data removed]",
      "text/plain": [
       "Plot with title “nadc for ts = 3”"
      ]
     },
     "metadata": {},
     "output_type": "display_data"
    }
   ],
   "source": [
    "par(mfrow = c(2, 2))\n",
    "a = hist(recgli[which(recgli$tumor_cell_evaluation==0),]$nadc.1, \n",
    "         ylab = \"normalized adc\", xlab = \"tumorscore\", \n",
    "         main = 'nadc for ts = 0', xlim=c(0,5), breaks = c(seq(0, 5, by = .25)))\n",
    "a = hist(recgli[which(recgli$tumor_cell_evaluation==1),]$nadc.1, \n",
    "         ylab = \"normalized adc\", xlab = \"tumorscore\", \n",
    "         main = 'nadc for ts = 1', xlim = c(0,5), breaks = c(seq(0, 5, by = .25)))\n",
    "a = hist(recgli[which(recgli$tumor_cell_evaluation==2),]$nadc.1, \n",
    "         ylab = \"normalized adc\", xlab = \"tumorscore\", \n",
    "         main = 'nadc for ts = 2', xlim = c(0,5), breaks = c(seq(0, 5, by = .25)))\n",
    "a = hist(recgli[which(recgli$tumor_cell_evaluation==3),]$nadc.1, \n",
    "         ylab = \"normalized adc\", xlab = \"tumorscore\", \n",
    "         main = 'nadc for ts = 3', xlim = c(0,5), breaks = c(seq(0, 5, by = .25)))"
   ]
  },
  {
   "cell_type": "code",
   "execution_count": 14,
   "metadata": {
    "collapsed": false,
    "deletable": true,
    "editable": true
   },
   "outputs": [
    {
     "data": {
      "image/png": "[encoded data removed]",
      "text/plain": [
       "Plot with title “distribution of nadc.1\n",
       " in TS”"
      ]
     },
     "metadata": {},
     "output_type": "display_data"
    }
   ],
   "source": [
    "par(mfrow=c(1,1))\n",
    "\n",
    "hist(recgli[which(recgli$tumor_cell_evaluation==0 ),]$nadc.1, breaks=seq(from = 0, to = 6, by = .25), ylim = c(0, 25),  xlim=c(0,6), col=rgb(1,0,0,0.2), xlab=\"nadc.1 value\", \n",
    "     ylab=\"\", main=\"distribution of nadc.1\\n in TS\")\n",
    "hist(recgli[which(recgli$tumor_cell_evaluation==1 ),]$nadc.1, breaks=seq(from = 0, to = 6, by = .25), ylim = c(0, 25),  xlim=c(0,6), col=rgb(0,1,0,0.2), add=T)\n",
    "hist(recgli[which(recgli$tumor_cell_evaluation==2 ),]$nadc.1, breaks=seq(from = 0, to = 6, by = .25), ylim = c(0, 25),  xlim=c(0,6), col=rgb(0,0,1,0.2), add=T)\n",
    "hist(recgli[which(recgli$tumor_cell_evaluation==3 ),]$nadc.1, breaks=seq(from = 0, to = 6, by = .25), ylim = c(0, 25),  xlim=c(0,6), col=rgb(0,1,1,0.2), add=T)\n",
    "legend(\"topright\", legend=c(\"0\",\"1\", \"2\", \"3\"), col=c(rgb(1,0,0,0.2), \n",
    "     rgb(0,1,0,0.5), rgb(0,0,1,0.5), rgb(0,1,1,0.5)), pt.cex=2, pch=15, cex = .7 )"
   ]
  },
  {
   "cell_type": "code",
   "execution_count": 15,
   "metadata": {
    "collapsed": false,
    "deletable": true,
    "editable": true
   },
   "outputs": [
    {
     "data": {
      "image/png": "[encoded data removed]",
      "text/plain": [
       "Plot with title “nfa for ts = 3”"
      ]
     },
     "metadata": {},
     "output_type": "display_data"
    }
   ],
   "source": [
    "par(mfrow = c(2, 2))\n",
    "a = hist(recgli[which(recgli$tumor_cell_evaluation==0),]$nfa.1, \n",
    "         ylab = \"normalized nfa\", xlab = \"tumorscore\", \n",
    "         main = 'nfa for ts = 0', xlim=c(0,2), breaks = c(seq(0, 2, by = .125)))\n",
    "a = hist(recgli[which(recgli$tumor_cell_evaluation==1),]$nfa.1, \n",
    "         ylab = \"normalized nfa\", xlab = \"tumorscore\", \n",
    "         main = 'nfa for ts = 1', xlim = c(0,2), breaks = c(seq(0, 2, by = .125)))\n",
    "a = hist(recgli[which(recgli$tumor_cell_evaluation==2),]$nfa.1, \n",
    "         ylab = \"normalized nfa\", xlab = \"tumorscore\", \n",
    "         main = 'nfa for ts = 2', xlim = c(0,2), breaks = c(seq(0, 2, by = .125)))\n",
    "a = hist(recgli[which(recgli$tumor_cell_evaluation==3),]$nfa.1, \n",
    "         ylab = \"normalized nfa\", xlab = \"tumorscore\", \n",
    "         main = 'nfa for ts = 3', xlim = c(0,2), breaks = c(seq(0, 2, by = .125)))"
   ]
  },
  {
   "cell_type": "code",
   "execution_count": 16,
   "metadata": {
    "collapsed": false,
    "deletable": true,
    "editable": true
   },
   "outputs": [
    {
     "data": {
      "image/png": "[encoded data removed]",
      "text/plain": [
       "Plot with title “distribution of nfa\n",
       " in TS”"
      ]
     },
     "metadata": {},
     "output_type": "display_data"
    }
   ],
   "source": [
    "par(mfrow=c(1,1))\n",
    "\n",
    "hist(recgli[which(recgli$tumor_cell_evaluation==0 ),]$nfa.1, breaks=seq(from = 0, to = 2, by = .125), ylim = c(0, 30),  xlim=c(0,2), col=rgb(1,0,0,0.2), xlab=\"nfl value\", \n",
    "     ylab=\"\", main=\"distribution of nfa\\n in TS\")\n",
    "hist(recgli[which(recgli$tumor_cell_evaluation==1 ),]$nfa.1, breaks=seq(from = 0, to = 2, by = .125), ylim = c(0, 30),  xlim=c(0,2), col=rgb(0,1,0,0.2), add=T)\n",
    "hist(recgli[which(recgli$tumor_cell_evaluation==2 ),]$nfa.1, breaks=seq(from = 0, to = 2, by = .125), ylim = c(0, 30),  xlim=c(0,2), col=rgb(0,0,1,0.2), add=T)\n",
    "hist(recgli[which(recgli$tumor_cell_evaluation==3 ),]$nfa.1, breaks=seq(from = 0, to = 2, by = .125), ylim = c(0, 30),  xlim=c(0,2), col=rgb(0,1,1,0.2), add=T)\n",
    "legend(\"topright\", legend=c(\"0\",\"1\", \"2\", \"3\"), col=c(rgb(1,0,0,0.2), \n",
    "     rgb(0,1,0,0.5), rgb(0,0,1,0.5), rgb(0,1,1,0.5)), pt.cex=2, pch=15, cex = .7 )"
   ]
  },
  {
   "cell_type": "markdown",
   "metadata": {
    "deletable": true,
    "editable": true
   },
   "source": [
    "# Statistics: "
   ]
  },
  {
   "cell_type": "markdown",
   "metadata": {
    "deletable": true,
    "editable": true
   },
   "source": [
    " Use GLMM associate anatomical parameters with TS, no separation "
   ]
  },
  {
   "cell_type": "code",
   "execution_count": 17,
   "metadata": {
    "collapsed": false,
    "deletable": true,
    "editable": true
   },
   "outputs": [
    {
     "name": "stderr",
     "output_type": "stream",
     "text": [
      "Loading required package: Formula\n",
      "Loading required package: maxLik\n",
      "Loading required package: miscTools\n",
      "\n",
      "Please cite the 'maxLik' package as:\n",
      "Henningsen, Arne and Toomet, Ott (2011). maxLik: A package for maximum likelihood estimation in R. Computational Statistics 26(3), 443-458. DOI 10.1007/s00180-010-0217-1.\n",
      "\n",
      "If you have questions, suggestions, or comments regarding the 'maxLik' package, please use a forum or 'tracker' at maxLik's R-Forge site:\n",
      "https://r-forge.r-project.org/projects/maxlik/\n"
     ]
    }
   ],
   "source": [
    "library(mlogit)"
   ]
  },
  {
   "cell_type": "code",
   "execution_count": 18,
   "metadata": {
    "collapsed": true,
    "deletable": true,
    "editable": true
   },
   "outputs": [],
   "source": [
    "data_mlog <-mlogit.data(recgli,  id.var =\"t_number\", shape=\"wide\", \n",
    "                        sep=\"\", varying=NULL, \n",
    "                       choice = \"tumor_cell_evaluation\")"
   ]
  },
  {
   "cell_type": "code",
   "execution_count": 19,
   "metadata": {
    "collapsed": false,
    "deletable": true,
    "editable": true
   },
   "outputs": [
    {
     "data": {
      "text/html": [
       "<table>\n",
       "<thead><tr><th></th><th scope=col>Estimate</th><th scope=col>Std. Error</th><th scope=col>z-value</th><th scope=col>Pr(&gt;|z|)</th></tr></thead>\n",
       "<tbody>\n",
       "\t<tr><th scope=row>1:(intercept)</th><td>-1.052494861</td><td>0.9639114   </td><td>-1.091900030</td><td>0.2748770   </td></tr>\n",
       "\t<tr><th scope=row>2:(intercept)</th><td> 0.688379486</td><td>0.8167662   </td><td> 0.842810904</td><td>0.3993342   </td></tr>\n",
       "\t<tr><th scope=row>3:(intercept)</th><td> 0.330477366</td><td>0.7766182   </td><td> 0.425533919</td><td>0.6704475   </td></tr>\n",
       "\t<tr><th scope=row>1:nadc.1</th><td> 0.506053137</td><td>0.5197217   </td><td> 0.973700270</td><td>0.3302054   </td></tr>\n",
       "\t<tr><th scope=row>2:nadc.1</th><td> 0.002797323</td><td>0.4592812   </td><td> 0.006090654</td><td>0.9951404   </td></tr>\n",
       "\t<tr><th scope=row>3:nadc.1</th><td> 0.387515795</td><td>0.4301391   </td><td> 0.900908063</td><td>0.3676372   </td></tr>\n",
       "</tbody>\n",
       "</table>\n"
      ],
      "text/latex": [
       "\\begin{tabular}{r|llll}\n",
       "  & Estimate & Std. Error & z-value & Pr(>\\textbar{}z\\textbar{})\\\\\n",
       "\\hline\n",
       "\t1:(intercept) & -1.052494861 & 0.9639114    & -1.091900030 & 0.2748770   \\\\\n",
       "\t2:(intercept) &  0.688379486 & 0.8167662    &  0.842810904 & 0.3993342   \\\\\n",
       "\t3:(intercept) &  0.330477366 & 0.7766182    &  0.425533919 & 0.6704475   \\\\\n",
       "\t1:nadc.1 &  0.506053137 & 0.5197217    &  0.973700270 & 0.3302054   \\\\\n",
       "\t2:nadc.1 &  0.002797323 & 0.4592812    &  0.006090654 & 0.9951404   \\\\\n",
       "\t3:nadc.1 &  0.387515795 & 0.4301391    &  0.900908063 & 0.3676372   \\\\\n",
       "\\end{tabular}\n"
      ],
      "text/markdown": [
       "\n",
       "| <!--/--> | Estimate | Std. Error | z-value | Pr(>|z|) | \n",
       "|---|---|---|---|---|---|\n",
       "| 1:(intercept) | -1.052494861 | 0.9639114    | -1.091900030 | 0.2748770    | \n",
       "| 2:(intercept) |  0.688379486 | 0.8167662    |  0.842810904 | 0.3993342    | \n",
       "| 3:(intercept) |  0.330477366 | 0.7766182    |  0.425533919 | 0.6704475    | \n",
       "| 1:nadc.1 |  0.506053137 | 0.5197217    |  0.973700270 | 0.3302054    | \n",
       "| 2:nadc.1 |  0.002797323 | 0.4592812    |  0.006090654 | 0.9951404    | \n",
       "| 3:nadc.1 |  0.387515795 | 0.4301391    |  0.900908063 | 0.3676372    | \n",
       "\n",
       "\n"
      ],
      "text/plain": [
       "              Estimate     Std. Error z-value      Pr(>|z|) \n",
       "1:(intercept) -1.052494861 0.9639114  -1.091900030 0.2748770\n",
       "2:(intercept)  0.688379486 0.8167662   0.842810904 0.3993342\n",
       "3:(intercept)  0.330477366 0.7766182   0.425533919 0.6704475\n",
       "1:nadc.1       0.506053137 0.5197217   0.973700270 0.3302054\n",
       "2:nadc.1       0.002797323 0.4592812   0.006090654 0.9951404\n",
       "3:nadc.1       0.387515795 0.4301391   0.900908063 0.3676372"
      ]
     },
     "metadata": {},
     "output_type": "display_data"
    }
   ],
   "source": [
    "mlogit_nadc <- mlogit(tumor_cell_evaluation ~1 | nadc.1, data=data_mlog)\n",
    "summary(mlogit_nadc)$CoefTable"
   ]
  },
  {
   "cell_type": "code",
   "execution_count": 20,
   "metadata": {
    "collapsed": false,
    "deletable": true,
    "editable": true
   },
   "outputs": [
    {
     "data": {
      "text/html": [
       "<table>\n",
       "<thead><tr><th></th><th scope=col>Estimate</th><th scope=col>Std. Error</th><th scope=col>z-value</th><th scope=col>Pr(&gt;|z|)</th></tr></thead>\n",
       "<tbody>\n",
       "\t<tr><th scope=row>1:(intercept)</th><td>-0.3466314</td><td>0.7713265 </td><td>-0.4493965</td><td>0.6531457 </td></tr>\n",
       "\t<tr><th scope=row>2:(intercept)</th><td> 0.4191285</td><td>0.6422978 </td><td> 0.6525454</td><td>0.5140494 </td></tr>\n",
       "\t<tr><th scope=row>3:(intercept)</th><td> 0.6361836</td><td>0.6129833 </td><td> 1.0378482</td><td>0.2993407 </td></tr>\n",
       "\t<tr><th scope=row>1:nfa.1</th><td> 0.2536517</td><td>0.9471935 </td><td> 0.2677930</td><td>0.7888587 </td></tr>\n",
       "\t<tr><th scope=row>2:nfa.1</th><td> 0.3589220</td><td>0.7904173 </td><td> 0.4540918</td><td>0.6497628 </td></tr>\n",
       "\t<tr><th scope=row>3:nfa.1</th><td> 0.4880403</td><td>0.7536088 </td><td> 0.6476042</td><td>0.5172409 </td></tr>\n",
       "</tbody>\n",
       "</table>\n"
      ],
      "text/latex": [
       "\\begin{tabular}{r|llll}\n",
       "  & Estimate & Std. Error & z-value & Pr(>\\textbar{}z\\textbar{})\\\\\n",
       "\\hline\n",
       "\t1:(intercept) & -0.3466314 & 0.7713265  & -0.4493965 & 0.6531457 \\\\\n",
       "\t2:(intercept) &  0.4191285 & 0.6422978  &  0.6525454 & 0.5140494 \\\\\n",
       "\t3:(intercept) &  0.6361836 & 0.6129833  &  1.0378482 & 0.2993407 \\\\\n",
       "\t1:nfa.1 &  0.2536517 & 0.9471935  &  0.2677930 & 0.7888587 \\\\\n",
       "\t2:nfa.1 &  0.3589220 & 0.7904173  &  0.4540918 & 0.6497628 \\\\\n",
       "\t3:nfa.1 &  0.4880403 & 0.7536088  &  0.6476042 & 0.5172409 \\\\\n",
       "\\end{tabular}\n"
      ],
      "text/markdown": [
       "\n",
       "| <!--/--> | Estimate | Std. Error | z-value | Pr(>|z|) | \n",
       "|---|---|---|---|---|---|\n",
       "| 1:(intercept) | -0.3466314 | 0.7713265  | -0.4493965 | 0.6531457  | \n",
       "| 2:(intercept) |  0.4191285 | 0.6422978  |  0.6525454 | 0.5140494  | \n",
       "| 3:(intercept) |  0.6361836 | 0.6129833  |  1.0378482 | 0.2993407  | \n",
       "| 1:nfa.1 |  0.2536517 | 0.9471935  |  0.2677930 | 0.7888587  | \n",
       "| 2:nfa.1 |  0.3589220 | 0.7904173  |  0.4540918 | 0.6497628  | \n",
       "| 3:nfa.1 |  0.4880403 | 0.7536088  |  0.6476042 | 0.5172409  | \n",
       "\n",
       "\n"
      ],
      "text/plain": [
       "              Estimate   Std. Error z-value    Pr(>|z|) \n",
       "1:(intercept) -0.3466314 0.7713265  -0.4493965 0.6531457\n",
       "2:(intercept)  0.4191285 0.6422978   0.6525454 0.5140494\n",
       "3:(intercept)  0.6361836 0.6129833   1.0378482 0.2993407\n",
       "1:nfa.1        0.2536517 0.9471935   0.2677930 0.7888587\n",
       "2:nfa.1        0.3589220 0.7904173   0.4540918 0.6497628\n",
       "3:nfa.1        0.4880403 0.7536088   0.6476042 0.5172409"
      ]
     },
     "metadata": {},
     "output_type": "display_data"
    }
   ],
   "source": [
    "## univariate analysis: \n",
    "mlogit_nfa <- mlogit(tumor_cell_evaluation ~1 | nfa.1, data=data_mlog)\n",
    "summary(mlogit_nfa)$CoefTable"
   ]
  },
  {
   "cell_type": "markdown",
   "metadata": {
    "deletable": true,
    "editable": true
   },
   "source": [
    "Use GEE to associate anatomical parameters with TS, no separation"
   ]
  },
  {
   "cell_type": "code",
   "execution_count": 21,
   "metadata": {
    "collapsed": false,
    "deletable": true,
    "editable": true
   },
   "outputs": [
    {
     "name": "stderr",
     "output_type": "stream",
     "text": [
      "Loading required package: gnm\n",
      "Loading required package: VGAM\n",
      "Loading required package: stats4\n",
      "Loading required package: splines\n",
      "\n",
      "Attaching package: ‘VGAM’\n",
      "\n",
      "The following object is masked from ‘package:mlogit’:\n",
      "\n",
      "    lrtest\n",
      "\n"
     ]
    }
   ],
   "source": [
    "library(multgee)"
   ]
  },
  {
   "cell_type": "code",
   "execution_count": 22,
   "metadata": {
    "collapsed": false,
    "deletable": true,
    "editable": true
   },
   "outputs": [
    {
     "data": {
      "text/html": [
       "<table>\n",
       "<thead><tr><th></th><th scope=col>Estimate</th><th scope=col>san.se</th><th scope=col>san.z</th><th scope=col>Pr(&gt;|san.z|)</th></tr></thead>\n",
       "<tbody>\n",
       "\t<tr><th scope=row>beta10</th><td>-1.17496</td><td>0.52730 </td><td>-2.22824</td><td>0.02586 </td></tr>\n",
       "\t<tr><th scope=row>beta20</th><td>-0.45135</td><td>0.48934 </td><td>-0.92238</td><td>0.35633 </td></tr>\n",
       "\t<tr><th scope=row>beta30</th><td> 0.81987</td><td>0.51829 </td><td> 1.58188</td><td>0.11368 </td></tr>\n",
       "\t<tr><th scope=row>nadc.1</th><td>-0.24644</td><td>0.25188 </td><td>-0.97839</td><td>0.32788 </td></tr>\n",
       "</tbody>\n",
       "</table>\n"
      ],
      "text/latex": [
       "\\begin{tabular}{r|llll}\n",
       "  & Estimate & san.se & san.z & Pr(>\\textbar{}san.z\\textbar{})\\\\\n",
       "\\hline\n",
       "\tbeta10 & -1.17496 & 0.52730  & -2.22824 & 0.02586 \\\\\n",
       "\tbeta20 & -0.45135 & 0.48934  & -0.92238 & 0.35633 \\\\\n",
       "\tbeta30 &  0.81987 & 0.51829  &  1.58188 & 0.11368 \\\\\n",
       "\tnadc.1 & -0.24644 & 0.25188  & -0.97839 & 0.32788 \\\\\n",
       "\\end{tabular}\n"
      ],
      "text/markdown": [
       "\n",
       "| <!--/--> | Estimate | san.se | san.z | Pr(>|san.z|) | \n",
       "|---|---|---|---|\n",
       "| beta10 | -1.17496 | 0.52730  | -2.22824 | 0.02586  | \n",
       "| beta20 | -0.45135 | 0.48934  | -0.92238 | 0.35633  | \n",
       "| beta30 |  0.81987 | 0.51829  |  1.58188 | 0.11368  | \n",
       "| nadc.1 | -0.24644 | 0.25188  | -0.97839 | 0.32788  | \n",
       "\n",
       "\n"
      ],
      "text/plain": [
       "       Estimate san.se  san.z    Pr(>|san.z|)\n",
       "beta10 -1.17496 0.52730 -2.22824 0.02586     \n",
       "beta20 -0.45135 0.48934 -0.92238 0.35633     \n",
       "beta30  0.81987 0.51829  1.58188 0.11368     \n",
       "nadc.1 -0.24644 0.25188 -0.97839 0.32788     "
      ]
     },
     "metadata": {},
     "output_type": "display_data"
    }
   ],
   "source": [
    "nadc.fit = ordLORgee(formula = tumor_cell_evaluation ~ nadc.1, link = \"logit\", \n",
    "                      id = t_number, data = recgli, LORstr = \"category.exch\")\n",
    "summary(nadc.fit)$coefficients"
   ]
  },
  {
   "cell_type": "code",
   "execution_count": 23,
   "metadata": {
    "collapsed": false,
    "deletable": true,
    "editable": true
   },
   "outputs": [
    {
     "name": "stderr",
     "output_type": "stream",
     "text": [
      "Warning message in fitLORgee(Y, X_mat, coeffs, ncategories, id, repeated, offset, :\n",
      "“'Naive' covariance matrix is not positive definite”"
     ]
    },
    {
     "data": {
      "text/html": [
       "<table>\n",
       "<thead><tr><th></th><th scope=col>Estimate</th><th scope=col>san.se</th><th scope=col>san.z</th><th scope=col>Pr(&gt;|san.z|)</th></tr></thead>\n",
       "<tbody>\n",
       "\t<tr><th scope=row>beta10</th><td>-1.61744</td><td>0.26755 </td><td>-6.04528</td><td>0.00000 </td></tr>\n",
       "\t<tr><th scope=row>beta20</th><td>-0.94981</td><td>0.20771 </td><td>-4.57272</td><td>0.00000 </td></tr>\n",
       "\t<tr><th scope=row>beta30</th><td> 0.38395</td><td>0.19495 </td><td> 1.96951</td><td>0.04889 </td></tr>\n",
       "\t<tr><th scope=row>nfa.1</th><td> 0.03194</td><td>0.00842 </td><td> 3.79542</td><td>0.00015 </td></tr>\n",
       "</tbody>\n",
       "</table>\n"
      ],
      "text/latex": [
       "\\begin{tabular}{r|llll}\n",
       "  & Estimate & san.se & san.z & Pr(>\\textbar{}san.z\\textbar{})\\\\\n",
       "\\hline\n",
       "\tbeta10 & -1.61744 & 0.26755  & -6.04528 & 0.00000 \\\\\n",
       "\tbeta20 & -0.94981 & 0.20771  & -4.57272 & 0.00000 \\\\\n",
       "\tbeta30 &  0.38395 & 0.19495  &  1.96951 & 0.04889 \\\\\n",
       "\tnfa.1 &  0.03194 & 0.00842  &  3.79542 & 0.00015 \\\\\n",
       "\\end{tabular}\n"
      ],
      "text/markdown": [
       "\n",
       "| <!--/--> | Estimate | san.se | san.z | Pr(>|san.z|) | \n",
       "|---|---|---|---|\n",
       "| beta10 | -1.61744 | 0.26755  | -6.04528 | 0.00000  | \n",
       "| beta20 | -0.94981 | 0.20771  | -4.57272 | 0.00000  | \n",
       "| beta30 |  0.38395 | 0.19495  |  1.96951 | 0.04889  | \n",
       "| nfa.1 |  0.03194 | 0.00842  |  3.79542 | 0.00015  | \n",
       "\n",
       "\n"
      ],
      "text/plain": [
       "       Estimate san.se  san.z    Pr(>|san.z|)\n",
       "beta10 -1.61744 0.26755 -6.04528 0.00000     \n",
       "beta20 -0.94981 0.20771 -4.57272 0.00000     \n",
       "beta30  0.38395 0.19495  1.96951 0.04889     \n",
       "nfa.1   0.03194 0.00842  3.79542 0.00015     "
      ]
     },
     "metadata": {},
     "output_type": "display_data"
    }
   ],
   "source": [
    "nfa.fit = ordLORgee(formula = tumor_cell_evaluation ~ nfa.1, link = \"logit\", \n",
    "                      id = t_number, data = recgli, LORstr = \"category.exch\")\n",
    "summary(nfa.fit)$coefficients"
   ]
  },
  {
   "cell_type": "markdown",
   "metadata": {
    "deletable": true,
    "editable": true
   },
   "source": [
    "Using RM ANOVA to use imaging characteristics as the dependent variable, and the TS as independent variable "
   ]
  },
  {
   "cell_type": "code",
   "execution_count": 24,
   "metadata": {
    "collapsed": false,
    "deletable": true,
    "editable": true
   },
   "outputs": [
    {
     "name": "stderr",
     "output_type": "stream",
     "text": [
      "Warning message in aov(nadc.1 ~ tumor_cell_evaluation + Error(t_number/(tumor_cell_evaluation)), :\n",
      "“Error() model is singular”"
     ]
    },
    {
     "data": {
      "text/plain": [
       "\n",
       "Error: t_number\n",
       "                      Df Sum Sq Mean Sq F value Pr(>F)\n",
       "tumor_cell_evaluation  1   0.02  0.0246   0.049  0.826\n",
       "Residuals             65  32.80  0.5046               \n",
       "\n",
       "Error: t_number:tumor_cell_evaluation\n",
       "                      Df Sum Sq Mean Sq F value Pr(>F)\n",
       "tumor_cell_evaluation  1  0.127  0.1273   0.457  0.503\n",
       "Residuals             37 10.316  0.2788               \n",
       "\n",
       "Error: Within\n",
       "          Df Sum Sq Mean Sq F value Pr(>F)\n",
       "Residuals 80  10.62  0.1327               "
      ]
     },
     "metadata": {},
     "output_type": "display_data"
    }
   ],
   "source": [
    "nadc.rmaov = aov(nadc.1 ~ tumor_cell_evaluation + Error(t_number/(tumor_cell_evaluation)), data=recgli)\n",
    "summary(nadc.rmaov)"
   ]
  },
  {
   "cell_type": "code",
   "execution_count": 25,
   "metadata": {
    "collapsed": false,
    "deletable": true,
    "editable": true
   },
   "outputs": [
    {
     "name": "stderr",
     "output_type": "stream",
     "text": [
      "Warning message in aov(nfa.1 ~ tumor_cell_evaluation + Error(t_number/(tumor_cell_evaluation)), :\n",
      "“Error() model is singular”"
     ]
    },
    {
     "data": {
      "text/plain": [
       "\n",
       "Error: t_number\n",
       "                      Df Sum Sq Mean Sq F value Pr(>F)\n",
       "tumor_cell_evaluation  1  0.151  0.1513   0.895  0.348\n",
       "Residuals             65 10.982  0.1690               \n",
       "\n",
       "Error: t_number:tumor_cell_evaluation\n",
       "                      Df Sum Sq Mean Sq F value Pr(>F)\n",
       "tumor_cell_evaluation  1 0.0292 0.02915   0.578  0.452\n",
       "Residuals             37 1.8650 0.05041               \n",
       "\n",
       "Error: Within\n",
       "          Df Sum Sq Mean Sq F value Pr(>F)\n",
       "Residuals 80  3.808  0.0476               "
      ]
     },
     "metadata": {},
     "output_type": "display_data"
    }
   ],
   "source": [
    "nfa.rmaov = aov(nfa.1 ~ tumor_cell_evaluation + Error(t_number/(tumor_cell_evaluation)), data=recgli)\n",
    "summary(nfa.rmaov)"
   ]
  }
 ],
 "metadata": {
  "kernelspec": {
   "display_name": "R",
   "language": "R",
   "name": "ir"
  },
  "language_info": {
   "codemirror_mode": "r",
   "file_extension": ".r",
   "mimetype": "text/x-r-source",
   "name": "R",
   "pygments_lexer": "r",
   "version": "3.4.0"
  }
 },
 "nbformat": 4,
 "nbformat_minor": 2
}
