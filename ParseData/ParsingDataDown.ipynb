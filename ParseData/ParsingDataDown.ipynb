{
 "cells": [
  {
   "cell_type": "markdown",
   "metadata": {
    "collapsed": true,
    "deletable": true,
    "editable": true
   },
   "source": [
    "# Parsing data down to usable data"
   ]
  },
  {
   "cell_type": "markdown",
   "metadata": {
    "deletable": true,
    "editable": true
   },
   "source": [
    "#### In this notebook, we will take the output and perform a series of removals based on the output of biopsyAnnotation\n",
    "1. Create a template for investigating data\n",
    "2. Investigate all data, remove those that may be repeated (look for spaces in the biopsy name) \n",
    "3. Use template to look at all data\n",
    "4. Remove biopsies w/ missing tissue or consent \n",
    "5. Remove those w/ no FFPE tissue\n",
    "6. Remove those w/ missing screenshots from BrainLab Neuronav software\n",
    "7. Remove those w/o pathological outcome assigned in multnom_out (missing pathology)\n",
    "8. Remove those whose imaging failed to be quantified for some reason \n",
    "9. Remove ependymomas and other extraneous \n",
    "10. Remove necrotic samples"
   ]
  },
  {
   "cell_type": "markdown",
   "metadata": {
    "deletable": true,
    "editable": true
   },
   "source": [
    "## 1. Create template: "
   ]
  },
  {
   "cell_type": "code",
   "execution_count": 1,
   "metadata": {
    "collapsed": true,
    "deletable": true,
    "editable": true
   },
   "outputs": [],
   "source": [
    "options(repr.matrix.max.rows=600, repr.matrix.max.cols=200)\n",
    "\n",
    "temp = matrix(nrow = 3, ncol = 4)\n",
    "colnames(temp) = c(\"data\", \"patients\", \"scans\", \"samples\")\n",
    "temp[1,1] = \"old_po1\"\n",
    "temp[2,1] = \"REC_HGG\"\n",
    "temp[3,1] = \"TOTAL\""
   ]
  },
  {
   "cell_type": "markdown",
   "metadata": {
    "deletable": true,
    "editable": true
   },
   "source": [
    "## 2. Investigate data, remove those that look repeated, look for those w/ spaces in biopsy names (when merged w/ igt_stats data) "
   ]
  },
  {
   "cell_type": "code",
   "execution_count": 2,
   "metadata": {
    "collapsed": true,
    "deletable": true,
    "editable": true
   },
   "outputs": [],
   "source": [
    "recgli = read.csv(\"../AnnotateData/10thAnnot_researchPath_withInVivo.csv\")"
   ]
  },
  {
   "cell_type": "code",
   "execution_count": 3,
   "metadata": {
    "collapsed": false,
    "deletable": true,
    "editable": true
   },
   "outputs": [
    {
     "data": {
      "text/html": [
       "<ol class=list-inline>\n",
       "\t<li>627</li>\n",
       "\t<li>72</li>\n",
       "</ol>\n"
      ],
      "text/latex": [
       "\\begin{enumerate*}\n",
       "\\item 627\n",
       "\\item 72\n",
       "\\end{enumerate*}\n"
      ],
      "text/markdown": [
       "1. 627\n",
       "2. 72\n",
       "\n",
       "\n"
      ],
      "text/plain": [
       "[1] 627  72"
      ]
     },
     "metadata": {},
     "output_type": "display_data"
    }
   ],
   "source": [
    "dim(recgli)"
   ]
  },
  {
   "cell_type": "code",
   "execution_count": 4,
   "metadata": {
    "collapsed": false,
    "deletable": true,
    "editable": true
   },
   "outputs": [
    {
     "data": {
      "text/plain": [
       "\n",
       "FALSE  TRUE \n",
       "  615    12 "
      ]
     },
     "metadata": {},
     "output_type": "display_data"
    },
    {
     "data": {
      "text/html": [
       "<table>\n",
       "<thead><tr><th></th><th scope=col>b_number</th><th scope=col>t_number</th><th scope=col>sf_number</th><th scope=col>current_scan_date</th><th scope=col>current_surgery_date</th><th scope=col>current_hist_grade</th><th scope=col>current_hist_type</th><th scope=col>roi.label</th><th scope=col>tumor_cell_evaluation</th><th scope=col>necrosis</th><th scope=col>f8_delicate</th><th scope=col>f8_simple</th><th scope=col>f8_complex</th><th scope=col>mib_1</th><th scope=col>bx_pure_treatment_effect</th><th scope=col>nfse</th><th scope=col>nfl</th><th scope=col>nt1c</th><th scope=col>nt1v</th><th scope=col>nadc.1</th><th scope=col>nfa.1</th><th scope=col>nev1.1</th><th scope=col>nev2.1</th><th scope=col>nev3.1</th><th scope=col>nevrad.1</th><th scope=col>nadc.2</th><th scope=col>nfa.2</th><th scope=col>nev1.2</th><th scope=col>nev2.2</th><th scope=col>nev3.2</th><th scope=col>nevrad.2</th><th scope=col>cbvn_nlin</th><th scope=col>phn_nlin</th><th scope=col>phn_npar</th><th scope=col>recovn_npar</th><th scope=col>cni</th><th scope=col>ccri</th><th scope=col>crni</th><th scope=col>ncho</th><th scope=col>ncre</th><th scope=col>nnaa</th><th scope=col>nlip</th><th scope=col>laclip</th><th scope=col>nlac</th><th scope=col>olddata</th><th scope=col>newdata</th><th scope=col>comments</th><th scope=col>notes.</th><th scope=col>imaging_code</th><th scope=col>perf_quant</th><th scope=col>spec_quant</th><th scope=col>include_anat</th><th scope=col>include_diffu1000</th><th scope=col>include_diffu2000</th><th scope=col>include_diffu_all</th><th scope=col>include_perf</th><th scope=col>include_spec</th><th scope=col>include_one_advanced_mod</th><th scope=col>include_all_advanced_mods</th><th scope=col>X.CEL</th><th scope=col>X.NEL</th><th scope=col>X.NEC</th><th scope=col>sum</th><th scope=col>in_CEL</th><th scope=col>in_T2all</th><th scope=col>in_NEL</th><th scope=col>in_NEC</th><th scope=col>in_ROI</th><th scope=col>multnom_out</th><th scope=col>no_ffpe</th><th scope=col>waiting_on_path</th><th scope=col>rhgg_txe_analysis</th></tr></thead>\n",
       "<tbody>\n",
       "\t<tr><th scope=row>381</th><td>3645                 </td><td> 9213                </td><td>10138                </td><td>2014-10-22           </td><td>2014-10-23           </td><td>Grade IV             </td><td>Glioblastoma         </td><td>49B74                </td><td>3                    </td><td>0                    </td><td>                     </td><td>                     </td><td>                     </td><td>40.81                </td><td>f                    </td><td>1.65                 </td><td>1.55                 </td><td>1.32                 </td><td>0.66                 </td><td>1.70                 </td><td>0.50                 </td><td>1.39                 </td><td>1.66                 </td><td>1.83                 </td><td>1.73                 </td><td>1.74                 </td><td>0.61                 </td><td>  NA                 </td><td>  NA                 </td><td>  NA                 </td><td>  NA                 </td><td>1.62                 </td><td>1.29                 </td><td>1.24                 </td><td>100                  </td><td>  NA                 </td><td>  NA                 </td><td>  NA                 </td><td>  NA                 </td><td>  NA                 </td><td>  NA                 </td><td>  NA                 </td><td>  NA                 </td><td>  NA                 </td><td>0                    </td><td>1                    </td><td>                     </td><td>NA                   </td><td>NA                   </td><td>0                    </td><td>1                    </td><td>1                    </td><td>1                    </td><td>1                    </td><td>1                    </td><td>1                    </td><td>0                    </td><td>1                    </td><td>0                    </td><td>95.74                </td><td> 4.26                </td><td>NA                   </td><td>100                  </td><td>1                    </td><td>1                    </td><td>0                    </td><td>0                    </td><td>1                    </td><td>rHGG                 </td><td>0                    </td><td>0                    </td><td>1                    </td></tr>\n",
       "\t<tr><th scope=row>382</th><td>3645                 </td><td> 9213                </td><td>10138                </td><td>2014-10-22           </td><td>2014-10-23           </td><td>Grade IV             </td><td>Glioblastoma         </td><td>49B74                </td><td>3                    </td><td>0                    </td><td>                     </td><td>                     </td><td>                     </td><td>40.81                </td><td>f                    </td><td>1.65                 </td><td>1.55                 </td><td>1.32                 </td><td>0.66                 </td><td>1.70                 </td><td>0.50                 </td><td>1.39                 </td><td>1.66                 </td><td>1.83                 </td><td>1.73                 </td><td>1.74                 </td><td>0.61                 </td><td>  NA                 </td><td>  NA                 </td><td>  NA                 </td><td>  NA                 </td><td>1.62                 </td><td>1.29                 </td><td>1.24                 </td><td>100                  </td><td>3.51                 </td><td>2.14                 </td><td>0.94                 </td><td>0.69                 </td><td>0.26                 </td><td>0.07                 </td><td>0.12                 </td><td>0.40                 </td><td>0.28                 </td><td>0                    </td><td>1                    </td><td>                     </td><td>NA                   </td><td>NA                   </td><td>0                    </td><td>0                    </td><td>1                    </td><td>1                    </td><td>1                    </td><td>1                    </td><td>1                    </td><td>1                    </td><td>1                    </td><td>1                    </td><td>95.74                </td><td> 4.26                </td><td>NA                   </td><td>100                  </td><td>1                    </td><td>1                    </td><td>0                    </td><td>0                    </td><td>1                    </td><td>rHGG                 </td><td>0                    </td><td>0                    </td><td>1                    </td></tr>\n",
       "\t<tr><th scope=row>383</th><td>3645                 </td><td> 9213                </td><td>10138                </td><td>2014-10-22           </td><td>2014-10-23           </td><td>Grade IV             </td><td>Glioblastoma         </td><td>49B74                </td><td>3                    </td><td>0                    </td><td>                     </td><td>                     </td><td>                     </td><td>40.81                </td><td>f                    </td><td>1.65                 </td><td>1.55                 </td><td>1.32                 </td><td>0.66                 </td><td>1.70                 </td><td>0.50                 </td><td>1.39                 </td><td>1.66                 </td><td>1.83                 </td><td>1.73                 </td><td>1.74                 </td><td>0.61                 </td><td>  NA                 </td><td>  NA                 </td><td>  NA                 </td><td>  NA                 </td><td>1.62                 </td><td>1.29                 </td><td>1.24                 </td><td>100                  </td><td>3.51                 </td><td>2.14                 </td><td>0.94                 </td><td>0.69                 </td><td>0.26                 </td><td>0.07                 </td><td>0.12                 </td><td>0.40                 </td><td>0.28                 </td><td>0                    </td><td>1                    </td><td>                     </td><td>NA                   </td><td>NA                   </td><td>0                    </td><td>0                    </td><td>1                    </td><td>1                    </td><td>1                    </td><td>1                    </td><td>1                    </td><td>1                    </td><td>1                    </td><td>1                    </td><td>95.74                </td><td> 4.26                </td><td>NA                   </td><td>100                  </td><td>1                    </td><td>1                    </td><td>0                    </td><td>0                    </td><td>1                    </td><td>rHGG                 </td><td>0                    </td><td>0                    </td><td>1                    </td></tr>\n",
       "\t<tr><th scope=row>390</th><td>3670                 </td><td> 9288                </td><td>10199                </td><td>2014-12-16           </td><td>2014-12-17           </td><td>Grade IV             </td><td>Glioblastoma         </td><td>49B75                </td><td>2                    </td><td>0                    </td><td>                     </td><td>                     </td><td>                     </td><td> 5.92                </td><td>                     </td><td>1.74                 </td><td>1.82                 </td><td>1.35                 </td><td>0.92                 </td><td>1.64                 </td><td>0.72                 </td><td>1.26                 </td><td>1.55                 </td><td>1.83                 </td><td>1.54                 </td><td>1.71                 </td><td>0.72                 </td><td>  NA                 </td><td>  NA                 </td><td>  NA                 </td><td>  NA                 </td><td>1.09                 </td><td>NA                   </td><td>1.04                 </td><td>100                  </td><td>  NA                 </td><td>  NA                 </td><td>  NA                 </td><td>  NA                 </td><td>  NA                 </td><td>  NA                 </td><td>  NA                 </td><td>  NA                 </td><td>  NA                 </td><td>0                    </td><td>1                    </td><td>\"foci of macrophages\"</td><td>NA                   </td><td>NA                   </td><td>0                    </td><td>1                    </td><td>1                    </td><td>1                    </td><td>1                    </td><td>1                    </td><td>1                    </td><td>0                    </td><td>1                    </td><td>0                    </td><td>58.33                </td><td>41.67                </td><td> 0                   </td><td>100                  </td><td>1                    </td><td>1                    </td><td>0                    </td><td>0                    </td><td>1                    </td><td>rHGG                 </td><td>0                    </td><td>0                    </td><td>1                    </td></tr>\n",
       "\t<tr><th scope=row>391</th><td>3670                 </td><td> 9288                </td><td>10199                </td><td>2014-12-16           </td><td>2014-12-17           </td><td>Grade IV             </td><td>Glioblastoma         </td><td>49B75                </td><td>2                    </td><td>0                    </td><td>                     </td><td>                     </td><td>                     </td><td> 5.92                </td><td>                     </td><td>1.74                 </td><td>1.82                 </td><td>1.35                 </td><td>0.92                 </td><td>1.64                 </td><td>0.72                 </td><td>1.26                 </td><td>1.55                 </td><td>1.83                 </td><td>1.54                 </td><td>1.71                 </td><td>0.72                 </td><td>  NA                 </td><td>  NA                 </td><td>  NA                 </td><td>  NA                 </td><td>1.09                 </td><td>NA                   </td><td>1.04                 </td><td>100                  </td><td>  NA                 </td><td>  NA                 </td><td>  NA                 </td><td>  NA                 </td><td>  NA                 </td><td>  NA                 </td><td>  NA                 </td><td>  NA                 </td><td>  NA                 </td><td>0                    </td><td>1                    </td><td>\"foci of macrophages\"</td><td>NA                   </td><td>NA                   </td><td>0                    </td><td>1                    </td><td>1                    </td><td>1                    </td><td>1                    </td><td>1                    </td><td>1                    </td><td>0                    </td><td>1                    </td><td>0                    </td><td>58.33                </td><td>41.67                </td><td> 0                   </td><td>100                  </td><td>1                    </td><td>1                    </td><td>0                    </td><td>0                    </td><td>1                    </td><td>rHGG                 </td><td>0                    </td><td>0                    </td><td>1                    </td></tr>\n",
       "\t<tr><th scope=row>392</th><td>3670                 </td><td> 9288                </td><td>10199                </td><td>2014-12-16           </td><td>2014-12-17           </td><td>Grade IV             </td><td>Glioblastoma         </td><td>49B75                </td><td>2                    </td><td>0                    </td><td>                     </td><td>                     </td><td>                     </td><td> 5.92                </td><td>                     </td><td>1.74                 </td><td>1.82                 </td><td>1.35                 </td><td>0.92                 </td><td>1.64                 </td><td>0.72                 </td><td>1.26                 </td><td>1.55                 </td><td>1.83                 </td><td>1.54                 </td><td>1.71                 </td><td>0.72                 </td><td>  NA                 </td><td>  NA                 </td><td>  NA                 </td><td>  NA                 </td><td>1.09                 </td><td>NA                   </td><td>1.04                 </td><td>100                  </td><td>  NA                 </td><td>  NA                 </td><td>  NA                 </td><td>  NA                 </td><td>  NA                 </td><td>  NA                 </td><td>  NA                 </td><td>  NA                 </td><td>  NA                 </td><td>0                    </td><td>1                    </td><td>\"foci of macrophages\"</td><td>NA                   </td><td>NA                   </td><td>0                    </td><td>1                    </td><td>1                    </td><td>1                    </td><td>1                    </td><td>1                    </td><td>1                    </td><td>0                    </td><td>1                    </td><td>0                    </td><td>58.33                </td><td>41.67                </td><td> 0                   </td><td>100                  </td><td>1                    </td><td>1                    </td><td>0                    </td><td>0                    </td><td>1                    </td><td>rHGG                 </td><td>0                    </td><td>0                    </td><td>1                    </td></tr>\n",
       "\t<tr><th scope=row>425</th><td>3791                 </td><td> 9970                </td><td>10507                </td><td>2015-08-25           </td><td>2015-08-26           </td><td>Treatment Effect     </td><td>Treatment Effect     </td><td>49B78                </td><td>3                    </td><td>0                    </td><td>                     </td><td>                     </td><td>                     </td><td>10.53                </td><td>f                    </td><td>2.11                 </td><td>1.83                 </td><td>0.96                 </td><td>0.68                 </td><td>1.97                 </td><td>0.50                 </td><td>1.54                 </td><td>1.79                 </td><td>2.08                 </td><td>1.85                 </td><td>1.99                 </td><td>0.61                 </td><td>1.49                 </td><td>1.72                 </td><td>2.03                 </td><td>1.79                 </td><td>0.59                 </td><td>0.57                 </td><td>0.55                 </td><td>100                  </td><td>  NA                 </td><td>  NA                 </td><td>  NA                 </td><td>  NA                 </td><td>  NA                 </td><td>  NA                 </td><td>  NA                 </td><td>  NA                 </td><td>  NA                 </td><td>0                    </td><td>1                    </td><td>                     </td><td>NA                   </td><td>NA                   </td><td>0                    </td><td>1                    </td><td>1                    </td><td>1                    </td><td>1                    </td><td>1                    </td><td>1                    </td><td>0                    </td><td>1                    </td><td>0                    </td><td>20.00                </td><td>80.00                </td><td> 0                   </td><td>100                  </td><td>0                    </td><td>1                    </td><td>1                    </td><td>0                    </td><td>1                    </td><td>rHGG                 </td><td>0                    </td><td>0                    </td><td>1                    </td></tr>\n",
       "\t<tr><th scope=row>426</th><td>3791                 </td><td> 9970                </td><td>10507                </td><td>2015-08-25           </td><td>2015-08-26           </td><td>Treatment Effect     </td><td>Treatment Effect     </td><td>49B78                </td><td>3                    </td><td>0                    </td><td>                     </td><td>                     </td><td>                     </td><td>10.53                </td><td>f                    </td><td>2.11                 </td><td>1.83                 </td><td>0.96                 </td><td>0.68                 </td><td>1.97                 </td><td>0.50                 </td><td>1.54                 </td><td>1.79                 </td><td>2.08                 </td><td>1.85                 </td><td>1.99                 </td><td>0.61                 </td><td>1.49                 </td><td>1.72                 </td><td>2.03                 </td><td>1.79                 </td><td>0.59                 </td><td>0.57                 </td><td>0.55                 </td><td>100                  </td><td>1.54                 </td><td>0.51                 </td><td>1.02                 </td><td>0.68                 </td><td>0.51                 </td><td>0.27                 </td><td>0.86                 </td><td>0.86                 </td><td>0.86                 </td><td>0                    </td><td>1                    </td><td>                     </td><td>NA                   </td><td>NA                   </td><td>0                    </td><td>0                    </td><td>1                    </td><td>1                    </td><td>1                    </td><td>1                    </td><td>1                    </td><td>1                    </td><td>1                    </td><td>1                    </td><td>20.00                </td><td>80.00                </td><td> 0                   </td><td>100                  </td><td>0                    </td><td>1                    </td><td>1                    </td><td>0                    </td><td>1                    </td><td>rHGG                 </td><td>0                    </td><td>0                    </td><td>1                    </td></tr>\n",
       "\t<tr><th scope=row>427</th><td>3791                 </td><td> 9970                </td><td>10507                </td><td>2015-08-25           </td><td>2015-08-26           </td><td>Treatment Effect     </td><td>Treatment Effect     </td><td>49B78                </td><td>3                    </td><td>0                    </td><td>                     </td><td>                     </td><td>                     </td><td>10.53                </td><td>f                    </td><td>2.11                 </td><td>1.83                 </td><td>0.96                 </td><td>0.68                 </td><td>1.97                 </td><td>0.50                 </td><td>1.54                 </td><td>1.79                 </td><td>2.08                 </td><td>1.85                 </td><td>1.99                 </td><td>0.61                 </td><td>1.49                 </td><td>1.72                 </td><td>2.03                 </td><td>1.79                 </td><td>0.59                 </td><td>0.57                 </td><td>0.55                 </td><td>100                  </td><td>1.54                 </td><td>0.51                 </td><td>1.02                 </td><td>0.68                 </td><td>0.51                 </td><td>0.27                 </td><td>0.86                 </td><td>0.86                 </td><td>0.86                 </td><td>0                    </td><td>1                    </td><td>                     </td><td>NA                   </td><td>NA                   </td><td>0                    </td><td>0                    </td><td>1                    </td><td>1                    </td><td>1                    </td><td>1                    </td><td>1                    </td><td>1                    </td><td>1                    </td><td>1                    </td><td>20.00                </td><td>80.00                </td><td> 0                   </td><td>100                  </td><td>0                    </td><td>1                    </td><td>1                    </td><td>0                    </td><td>1                    </td><td>rHGG                 </td><td>0                    </td><td>0                    </td><td>1                    </td></tr>\n",
       "\t<tr><th scope=row>530</th><td>3783                 </td><td>11192                </td><td>11150                </td><td>2017-01-29           </td><td>2017-01-30           </td><td>Grade III            </td><td>Astrocytoma          </td><td>36B97                </td><td>3                    </td><td>0                    </td><td>2                    </td><td>1                    </td><td>0                    </td><td> 9.56                </td><td>f                    </td><td>1.80                 </td><td>1.86                 </td><td>1.39                 </td><td>1.26                 </td><td>1.67                 </td><td>0.73                 </td><td>1.42                 </td><td>1.60                 </td><td>1.77                 </td><td>1.60                 </td><td>1.69                 </td><td>1.06                 </td><td>1.40                 </td><td>1.46                 </td><td>1.64                 </td><td>1.52                 </td><td>0.67                 </td><td>0.79                 </td><td>0.75                 </td><td>100                  </td><td>  NA                 </td><td>  NA                 </td><td>  NA                 </td><td>  NA                 </td><td>  NA                 </td><td>  NA                 </td><td>  NA                 </td><td>  NA                 </td><td>  NA                 </td><td>0                    </td><td>1                    </td><td>                     </td><td>NA                   </td><td>NA                   </td><td>0                    </td><td>1                    </td><td>1                    </td><td>1                    </td><td>1                    </td><td>1                    </td><td>1                    </td><td>0                    </td><td>1                    </td><td>0                    </td><td>33.33                </td><td>66.67                </td><td>NA                   </td><td>100                  </td><td>0                    </td><td>1                    </td><td>1                    </td><td>0                    </td><td>1                    </td><td>rHGG                 </td><td>0                    </td><td>0                    </td><td>1                    </td></tr>\n",
       "\t<tr><th scope=row>531</th><td>3783                 </td><td>11192                </td><td>11150                </td><td>2017-01-29           </td><td>2017-01-30           </td><td>Grade III            </td><td>Astrocytoma          </td><td>36B97                </td><td>3                    </td><td>0                    </td><td>2                    </td><td>1                    </td><td>0                    </td><td> 9.56                </td><td>f                    </td><td>1.80                 </td><td>1.86                 </td><td>1.39                 </td><td>1.26                 </td><td>1.67                 </td><td>0.73                 </td><td>1.42                 </td><td>1.60                 </td><td>1.77                 </td><td>1.60                 </td><td>1.69                 </td><td>1.06                 </td><td>1.40                 </td><td>1.46                 </td><td>1.64                 </td><td>1.52                 </td><td>0.67                 </td><td>0.79                 </td><td>0.75                 </td><td>100                  </td><td>5.83                 </td><td>4.55                 </td><td>0.31                 </td><td>1.97                 </td><td>0.90                 </td><td>0.81                 </td><td>0.05                 </td><td>0.05                 </td><td>0.05                 </td><td>0                    </td><td>1                    </td><td>                     </td><td>NA                   </td><td>NA                   </td><td>0                    </td><td>0                    </td><td>1                    </td><td>1                    </td><td>1                    </td><td>1                    </td><td>1                    </td><td>1                    </td><td>1                    </td><td>1                    </td><td>33.33                </td><td>66.67                </td><td>NA                   </td><td>100                  </td><td>0                    </td><td>1                    </td><td>1                    </td><td>0                    </td><td>1                    </td><td>rHGG                 </td><td>0                    </td><td>0                    </td><td>1                    </td></tr>\n",
       "\t<tr><th scope=row>532</th><td>3783                 </td><td>11192                </td><td>11150                </td><td>2017-01-29           </td><td>2017-01-30           </td><td>Grade III            </td><td>Astrocytoma          </td><td>36B97                </td><td>3                    </td><td>0                    </td><td>2                    </td><td>1                    </td><td>0                    </td><td> 9.56                </td><td>f                    </td><td>1.80                 </td><td>1.86                 </td><td>1.39                 </td><td>1.26                 </td><td>1.67                 </td><td>0.73                 </td><td>1.42                 </td><td>1.60                 </td><td>1.77                 </td><td>1.60                 </td><td>1.69                 </td><td>1.06                 </td><td>1.40                 </td><td>1.46                 </td><td>1.64                 </td><td>1.52                 </td><td>0.67                 </td><td>0.79                 </td><td>0.75                 </td><td>100                  </td><td>5.83                 </td><td>4.55                 </td><td>0.31                 </td><td>1.97                 </td><td>0.90                 </td><td>0.81                 </td><td>0.05                 </td><td>0.05                 </td><td>0.05                 </td><td>0                    </td><td>1                    </td><td>                     </td><td>NA                   </td><td>NA                   </td><td>0                    </td><td>0                    </td><td>1                    </td><td>1                    </td><td>1                    </td><td>1                    </td><td>1                    </td><td>1                    </td><td>1                    </td><td>1                    </td><td>33.33                </td><td>66.67                </td><td>NA                   </td><td>100                  </td><td>0                    </td><td>1                    </td><td>1                    </td><td>0                    </td><td>1                    </td><td>rHGG                 </td><td>0                    </td><td>0                    </td><td>1                    </td></tr>\n",
       "</tbody>\n",
       "</table>\n"
      ],
      "text/latex": [
       "\\begin{tabular}{r|llllllllllllllllllllllllllllllllllllllllllllllllllllllllllllllllllllllll}\n",
       "  & b\\_number & t\\_number & sf\\_number & current\\_scan\\_date & current\\_surgery\\_date & current\\_hist\\_grade & current\\_hist\\_type & roi.label & tumor\\_cell\\_evaluation & necrosis & f8\\_delicate & f8\\_simple & f8\\_complex & mib\\_1 & bx\\_pure\\_treatment\\_effect & nfse & nfl & nt1c & nt1v & nadc.1 & nfa.1 & nev1.1 & nev2.1 & nev3.1 & nevrad.1 & nadc.2 & nfa.2 & nev1.2 & nev2.2 & nev3.2 & nevrad.2 & cbvn\\_nlin & phn\\_nlin & phn\\_npar & recovn\\_npar & cni & ccri & crni & ncho & ncre & nnaa & nlip & laclip & nlac & olddata & newdata & comments & notes. & imaging\\_code & perf\\_quant & spec\\_quant & include\\_anat & include\\_diffu1000 & include\\_diffu2000 & include\\_diffu\\_all & include\\_perf & include\\_spec & include\\_one\\_advanced\\_mod & include\\_all\\_advanced\\_mods & X.CEL & X.NEL & X.NEC & sum & in\\_CEL & in\\_T2all & in\\_NEL & in\\_NEC & in\\_ROI & multnom\\_out & no\\_ffpe & waiting\\_on\\_path & rhgg\\_txe\\_analysis\\\\\n",
       "\\hline\n",
       "\t381 & 3645                  &  9213                 & 10138                 & 2014-10-22            & 2014-10-23            & Grade IV              & Glioblastoma          & 49B74                 & 3                     & 0                     &                       &                       &                       & 40.81                 & f                     & 1.65                  & 1.55                  & 1.32                  & 0.66                  & 1.70                  & 0.50                  & 1.39                  & 1.66                  & 1.83                  & 1.73                  & 1.74                  & 0.61                  &   NA                  &   NA                  &   NA                  &   NA                  & 1.62                  & 1.29                  & 1.24                  & 100                   &   NA                  &   NA                  &   NA                  &   NA                  &   NA                  &   NA                  &   NA                  &   NA                  &   NA                  & 0                     & 1                     &                       & NA                    & NA                    & 0                     & 1                     & 1                     & 1                     & 1                     & 1                     & 1                     & 0                     & 1                     & 0                     & 95.74                 &  4.26                 & NA                    & 100                   & 1                     & 1                     & 0                     & 0                     & 1                     & rHGG                  & 0                     & 0                     & 1                    \\\\\n",
       "\t382 & 3645                  &  9213                 & 10138                 & 2014-10-22            & 2014-10-23            & Grade IV              & Glioblastoma          & 49B74                 & 3                     & 0                     &                       &                       &                       & 40.81                 & f                     & 1.65                  & 1.55                  & 1.32                  & 0.66                  & 1.70                  & 0.50                  & 1.39                  & 1.66                  & 1.83                  & 1.73                  & 1.74                  & 0.61                  &   NA                  &   NA                  &   NA                  &   NA                  & 1.62                  & 1.29                  & 1.24                  & 100                   & 3.51                  & 2.14                  & 0.94                  & 0.69                  & 0.26                  & 0.07                  & 0.12                  & 0.40                  & 0.28                  & 0                     & 1                     &                       & NA                    & NA                    & 0                     & 0                     & 1                     & 1                     & 1                     & 1                     & 1                     & 1                     & 1                     & 1                     & 95.74                 &  4.26                 & NA                    & 100                   & 1                     & 1                     & 0                     & 0                     & 1                     & rHGG                  & 0                     & 0                     & 1                    \\\\\n",
       "\t383 & 3645                  &  9213                 & 10138                 & 2014-10-22            & 2014-10-23            & Grade IV              & Glioblastoma          & 49B74                 & 3                     & 0                     &                       &                       &                       & 40.81                 & f                     & 1.65                  & 1.55                  & 1.32                  & 0.66                  & 1.70                  & 0.50                  & 1.39                  & 1.66                  & 1.83                  & 1.73                  & 1.74                  & 0.61                  &   NA                  &   NA                  &   NA                  &   NA                  & 1.62                  & 1.29                  & 1.24                  & 100                   & 3.51                  & 2.14                  & 0.94                  & 0.69                  & 0.26                  & 0.07                  & 0.12                  & 0.40                  & 0.28                  & 0                     & 1                     &                       & NA                    & NA                    & 0                     & 0                     & 1                     & 1                     & 1                     & 1                     & 1                     & 1                     & 1                     & 1                     & 95.74                 &  4.26                 & NA                    & 100                   & 1                     & 1                     & 0                     & 0                     & 1                     & rHGG                  & 0                     & 0                     & 1                    \\\\\n",
       "\t390 & 3670                  &  9288                 & 10199                 & 2014-12-16            & 2014-12-17            & Grade IV              & Glioblastoma          & 49B75                 & 2                     & 0                     &                       &                       &                       &  5.92                 &                       & 1.74                  & 1.82                  & 1.35                  & 0.92                  & 1.64                  & 0.72                  & 1.26                  & 1.55                  & 1.83                  & 1.54                  & 1.71                  & 0.72                  &   NA                  &   NA                  &   NA                  &   NA                  & 1.09                  & NA                    & 1.04                  & 100                   &   NA                  &   NA                  &   NA                  &   NA                  &   NA                  &   NA                  &   NA                  &   NA                  &   NA                  & 0                     & 1                     & \"foci of macrophages\" & NA                    & NA                    & 0                     & 1                     & 1                     & 1                     & 1                     & 1                     & 1                     & 0                     & 1                     & 0                     & 58.33                 & 41.67                 &  0                    & 100                   & 1                     & 1                     & 0                     & 0                     & 1                     & rHGG                  & 0                     & 0                     & 1                    \\\\\n",
       "\t391 & 3670                  &  9288                 & 10199                 & 2014-12-16            & 2014-12-17            & Grade IV              & Glioblastoma          & 49B75                 & 2                     & 0                     &                       &                       &                       &  5.92                 &                       & 1.74                  & 1.82                  & 1.35                  & 0.92                  & 1.64                  & 0.72                  & 1.26                  & 1.55                  & 1.83                  & 1.54                  & 1.71                  & 0.72                  &   NA                  &   NA                  &   NA                  &   NA                  & 1.09                  & NA                    & 1.04                  & 100                   &   NA                  &   NA                  &   NA                  &   NA                  &   NA                  &   NA                  &   NA                  &   NA                  &   NA                  & 0                     & 1                     & \"foci of macrophages\" & NA                    & NA                    & 0                     & 1                     & 1                     & 1                     & 1                     & 1                     & 1                     & 0                     & 1                     & 0                     & 58.33                 & 41.67                 &  0                    & 100                   & 1                     & 1                     & 0                     & 0                     & 1                     & rHGG                  & 0                     & 0                     & 1                    \\\\\n",
       "\t392 & 3670                  &  9288                 & 10199                 & 2014-12-16            & 2014-12-17            & Grade IV              & Glioblastoma          & 49B75                 & 2                     & 0                     &                       &                       &                       &  5.92                 &                       & 1.74                  & 1.82                  & 1.35                  & 0.92                  & 1.64                  & 0.72                  & 1.26                  & 1.55                  & 1.83                  & 1.54                  & 1.71                  & 0.72                  &   NA                  &   NA                  &   NA                  &   NA                  & 1.09                  & NA                    & 1.04                  & 100                   &   NA                  &   NA                  &   NA                  &   NA                  &   NA                  &   NA                  &   NA                  &   NA                  &   NA                  & 0                     & 1                     & \"foci of macrophages\" & NA                    & NA                    & 0                     & 1                     & 1                     & 1                     & 1                     & 1                     & 1                     & 0                     & 1                     & 0                     & 58.33                 & 41.67                 &  0                    & 100                   & 1                     & 1                     & 0                     & 0                     & 1                     & rHGG                  & 0                     & 0                     & 1                    \\\\\n",
       "\t425 & 3791                  &  9970                 & 10507                 & 2015-08-25            & 2015-08-26            & Treatment Effect      & Treatment Effect      & 49B78                 & 3                     & 0                     &                       &                       &                       & 10.53                 & f                     & 2.11                  & 1.83                  & 0.96                  & 0.68                  & 1.97                  & 0.50                  & 1.54                  & 1.79                  & 2.08                  & 1.85                  & 1.99                  & 0.61                  & 1.49                  & 1.72                  & 2.03                  & 1.79                  & 0.59                  & 0.57                  & 0.55                  & 100                   &   NA                  &   NA                  &   NA                  &   NA                  &   NA                  &   NA                  &   NA                  &   NA                  &   NA                  & 0                     & 1                     &                       & NA                    & NA                    & 0                     & 1                     & 1                     & 1                     & 1                     & 1                     & 1                     & 0                     & 1                     & 0                     & 20.00                 & 80.00                 &  0                    & 100                   & 0                     & 1                     & 1                     & 0                     & 1                     & rHGG                  & 0                     & 0                     & 1                    \\\\\n",
       "\t426 & 3791                  &  9970                 & 10507                 & 2015-08-25            & 2015-08-26            & Treatment Effect      & Treatment Effect      & 49B78                 & 3                     & 0                     &                       &                       &                       & 10.53                 & f                     & 2.11                  & 1.83                  & 0.96                  & 0.68                  & 1.97                  & 0.50                  & 1.54                  & 1.79                  & 2.08                  & 1.85                  & 1.99                  & 0.61                  & 1.49                  & 1.72                  & 2.03                  & 1.79                  & 0.59                  & 0.57                  & 0.55                  & 100                   & 1.54                  & 0.51                  & 1.02                  & 0.68                  & 0.51                  & 0.27                  & 0.86                  & 0.86                  & 0.86                  & 0                     & 1                     &                       & NA                    & NA                    & 0                     & 0                     & 1                     & 1                     & 1                     & 1                     & 1                     & 1                     & 1                     & 1                     & 20.00                 & 80.00                 &  0                    & 100                   & 0                     & 1                     & 1                     & 0                     & 1                     & rHGG                  & 0                     & 0                     & 1                    \\\\\n",
       "\t427 & 3791                  &  9970                 & 10507                 & 2015-08-25            & 2015-08-26            & Treatment Effect      & Treatment Effect      & 49B78                 & 3                     & 0                     &                       &                       &                       & 10.53                 & f                     & 2.11                  & 1.83                  & 0.96                  & 0.68                  & 1.97                  & 0.50                  & 1.54                  & 1.79                  & 2.08                  & 1.85                  & 1.99                  & 0.61                  & 1.49                  & 1.72                  & 2.03                  & 1.79                  & 0.59                  & 0.57                  & 0.55                  & 100                   & 1.54                  & 0.51                  & 1.02                  & 0.68                  & 0.51                  & 0.27                  & 0.86                  & 0.86                  & 0.86                  & 0                     & 1                     &                       & NA                    & NA                    & 0                     & 0                     & 1                     & 1                     & 1                     & 1                     & 1                     & 1                     & 1                     & 1                     & 20.00                 & 80.00                 &  0                    & 100                   & 0                     & 1                     & 1                     & 0                     & 1                     & rHGG                  & 0                     & 0                     & 1                    \\\\\n",
       "\t530 & 3783                  & 11192                 & 11150                 & 2017-01-29            & 2017-01-30            & Grade III             & Astrocytoma           & 36B97                 & 3                     & 0                     & 2                     & 1                     & 0                     &  9.56                 & f                     & 1.80                  & 1.86                  & 1.39                  & 1.26                  & 1.67                  & 0.73                  & 1.42                  & 1.60                  & 1.77                  & 1.60                  & 1.69                  & 1.06                  & 1.40                  & 1.46                  & 1.64                  & 1.52                  & 0.67                  & 0.79                  & 0.75                  & 100                   &   NA                  &   NA                  &   NA                  &   NA                  &   NA                  &   NA                  &   NA                  &   NA                  &   NA                  & 0                     & 1                     &                       & NA                    & NA                    & 0                     & 1                     & 1                     & 1                     & 1                     & 1                     & 1                     & 0                     & 1                     & 0                     & 33.33                 & 66.67                 & NA                    & 100                   & 0                     & 1                     & 1                     & 0                     & 1                     & rHGG                  & 0                     & 0                     & 1                    \\\\\n",
       "\t531 & 3783                  & 11192                 & 11150                 & 2017-01-29            & 2017-01-30            & Grade III             & Astrocytoma           & 36B97                 & 3                     & 0                     & 2                     & 1                     & 0                     &  9.56                 & f                     & 1.80                  & 1.86                  & 1.39                  & 1.26                  & 1.67                  & 0.73                  & 1.42                  & 1.60                  & 1.77                  & 1.60                  & 1.69                  & 1.06                  & 1.40                  & 1.46                  & 1.64                  & 1.52                  & 0.67                  & 0.79                  & 0.75                  & 100                   & 5.83                  & 4.55                  & 0.31                  & 1.97                  & 0.90                  & 0.81                  & 0.05                  & 0.05                  & 0.05                  & 0                     & 1                     &                       & NA                    & NA                    & 0                     & 0                     & 1                     & 1                     & 1                     & 1                     & 1                     & 1                     & 1                     & 1                     & 33.33                 & 66.67                 & NA                    & 100                   & 0                     & 1                     & 1                     & 0                     & 1                     & rHGG                  & 0                     & 0                     & 1                    \\\\\n",
       "\t532 & 3783                  & 11192                 & 11150                 & 2017-01-29            & 2017-01-30            & Grade III             & Astrocytoma           & 36B97                 & 3                     & 0                     & 2                     & 1                     & 0                     &  9.56                 & f                     & 1.80                  & 1.86                  & 1.39                  & 1.26                  & 1.67                  & 0.73                  & 1.42                  & 1.60                  & 1.77                  & 1.60                  & 1.69                  & 1.06                  & 1.40                  & 1.46                  & 1.64                  & 1.52                  & 0.67                  & 0.79                  & 0.75                  & 100                   & 5.83                  & 4.55                  & 0.31                  & 1.97                  & 0.90                  & 0.81                  & 0.05                  & 0.05                  & 0.05                  & 0                     & 1                     &                       & NA                    & NA                    & 0                     & 0                     & 1                     & 1                     & 1                     & 1                     & 1                     & 1                     & 1                     & 1                     & 33.33                 & 66.67                 & NA                    & 100                   & 0                     & 1                     & 1                     & 0                     & 1                     & rHGG                  & 0                     & 0                     & 1                    \\\\\n",
       "\\end{tabular}\n"
      ],
      "text/markdown": [
       "\n",
       "| <!--/--> | b_number | t_number | sf_number | current_scan_date | current_surgery_date | current_hist_grade | current_hist_type | roi.label | tumor_cell_evaluation | necrosis | f8_delicate | f8_simple | f8_complex | mib_1 | bx_pure_treatment_effect | nfse | nfl | nt1c | nt1v | nadc.1 | nfa.1 | nev1.1 | nev2.1 | nev3.1 | nevrad.1 | nadc.2 | nfa.2 | nev1.2 | nev2.2 | nev3.2 | nevrad.2 | cbvn_nlin | phn_nlin | phn_npar | recovn_npar | cni | ccri | crni | ncho | ncre | nnaa | nlip | laclip | nlac | olddata | newdata | comments | notes. | imaging_code | perf_quant | spec_quant | include_anat | include_diffu1000 | include_diffu2000 | include_diffu_all | include_perf | include_spec | include_one_advanced_mod | include_all_advanced_mods | X.CEL | X.NEL | X.NEC | sum | in_CEL | in_T2all | in_NEL | in_NEC | in_ROI | multnom_out | no_ffpe | waiting_on_path | rhgg_txe_analysis | \n",
       "|---|---|---|---|---|---|---|---|---|---|---|---|\n",
       "| 381 | 3645                  |  9213                 | 10138                 | 2014-10-22            | 2014-10-23            | Grade IV              | Glioblastoma          | 49B74                 | 3                     | 0                     |                       |                       |                       | 40.81                 | f                     | 1.65                  | 1.55                  | 1.32                  | 0.66                  | 1.70                  | 0.50                  | 1.39                  | 1.66                  | 1.83                  | 1.73                  | 1.74                  | 0.61                  |   NA                  |   NA                  |   NA                  |   NA                  | 1.62                  | 1.29                  | 1.24                  | 100                   |   NA                  |   NA                  |   NA                  |   NA                  |   NA                  |   NA                  |   NA                  |   NA                  |   NA                  | 0                     | 1                     |                       | NA                    | NA                    | 0                     | 1                     | 1                     | 1                     | 1                     | 1                     | 1                     | 0                     | 1                     | 0                     | 95.74                 |  4.26                 | NA                    | 100                   | 1                     | 1                     | 0                     | 0                     | 1                     | rHGG                  | 0                     | 0                     | 1                     | \n",
       "| 382 | 3645                  |  9213                 | 10138                 | 2014-10-22            | 2014-10-23            | Grade IV              | Glioblastoma          | 49B74                 | 3                     | 0                     |                       |                       |                       | 40.81                 | f                     | 1.65                  | 1.55                  | 1.32                  | 0.66                  | 1.70                  | 0.50                  | 1.39                  | 1.66                  | 1.83                  | 1.73                  | 1.74                  | 0.61                  |   NA                  |   NA                  |   NA                  |   NA                  | 1.62                  | 1.29                  | 1.24                  | 100                   | 3.51                  | 2.14                  | 0.94                  | 0.69                  | 0.26                  | 0.07                  | 0.12                  | 0.40                  | 0.28                  | 0                     | 1                     |                       | NA                    | NA                    | 0                     | 0                     | 1                     | 1                     | 1                     | 1                     | 1                     | 1                     | 1                     | 1                     | 95.74                 |  4.26                 | NA                    | 100                   | 1                     | 1                     | 0                     | 0                     | 1                     | rHGG                  | 0                     | 0                     | 1                     | \n",
       "| 383 | 3645                  |  9213                 | 10138                 | 2014-10-22            | 2014-10-23            | Grade IV              | Glioblastoma          | 49B74                 | 3                     | 0                     |                       |                       |                       | 40.81                 | f                     | 1.65                  | 1.55                  | 1.32                  | 0.66                  | 1.70                  | 0.50                  | 1.39                  | 1.66                  | 1.83                  | 1.73                  | 1.74                  | 0.61                  |   NA                  |   NA                  |   NA                  |   NA                  | 1.62                  | 1.29                  | 1.24                  | 100                   | 3.51                  | 2.14                  | 0.94                  | 0.69                  | 0.26                  | 0.07                  | 0.12                  | 0.40                  | 0.28                  | 0                     | 1                     |                       | NA                    | NA                    | 0                     | 0                     | 1                     | 1                     | 1                     | 1                     | 1                     | 1                     | 1                     | 1                     | 95.74                 |  4.26                 | NA                    | 100                   | 1                     | 1                     | 0                     | 0                     | 1                     | rHGG                  | 0                     | 0                     | 1                     | \n",
       "| 390 | 3670                  |  9288                 | 10199                 | 2014-12-16            | 2014-12-17            | Grade IV              | Glioblastoma          | 49B75                 | 2                     | 0                     |                       |                       |                       |  5.92                 |                       | 1.74                  | 1.82                  | 1.35                  | 0.92                  | 1.64                  | 0.72                  | 1.26                  | 1.55                  | 1.83                  | 1.54                  | 1.71                  | 0.72                  |   NA                  |   NA                  |   NA                  |   NA                  | 1.09                  | NA                    | 1.04                  | 100                   |   NA                  |   NA                  |   NA                  |   NA                  |   NA                  |   NA                  |   NA                  |   NA                  |   NA                  | 0                     | 1                     | \"foci of macrophages\" | NA                    | NA                    | 0                     | 1                     | 1                     | 1                     | 1                     | 1                     | 1                     | 0                     | 1                     | 0                     | 58.33                 | 41.67                 |  0                    | 100                   | 1                     | 1                     | 0                     | 0                     | 1                     | rHGG                  | 0                     | 0                     | 1                     | \n",
       "| 391 | 3670                  |  9288                 | 10199                 | 2014-12-16            | 2014-12-17            | Grade IV              | Glioblastoma          | 49B75                 | 2                     | 0                     |                       |                       |                       |  5.92                 |                       | 1.74                  | 1.82                  | 1.35                  | 0.92                  | 1.64                  | 0.72                  | 1.26                  | 1.55                  | 1.83                  | 1.54                  | 1.71                  | 0.72                  |   NA                  |   NA                  |   NA                  |   NA                  | 1.09                  | NA                    | 1.04                  | 100                   |   NA                  |   NA                  |   NA                  |   NA                  |   NA                  |   NA                  |   NA                  |   NA                  |   NA                  | 0                     | 1                     | \"foci of macrophages\" | NA                    | NA                    | 0                     | 1                     | 1                     | 1                     | 1                     | 1                     | 1                     | 0                     | 1                     | 0                     | 58.33                 | 41.67                 |  0                    | 100                   | 1                     | 1                     | 0                     | 0                     | 1                     | rHGG                  | 0                     | 0                     | 1                     | \n",
       "| 392 | 3670                  |  9288                 | 10199                 | 2014-12-16            | 2014-12-17            | Grade IV              | Glioblastoma          | 49B75                 | 2                     | 0                     |                       |                       |                       |  5.92                 |                       | 1.74                  | 1.82                  | 1.35                  | 0.92                  | 1.64                  | 0.72                  | 1.26                  | 1.55                  | 1.83                  | 1.54                  | 1.71                  | 0.72                  |   NA                  |   NA                  |   NA                  |   NA                  | 1.09                  | NA                    | 1.04                  | 100                   |   NA                  |   NA                  |   NA                  |   NA                  |   NA                  |   NA                  |   NA                  |   NA                  |   NA                  | 0                     | 1                     | \"foci of macrophages\" | NA                    | NA                    | 0                     | 1                     | 1                     | 1                     | 1                     | 1                     | 1                     | 0                     | 1                     | 0                     | 58.33                 | 41.67                 |  0                    | 100                   | 1                     | 1                     | 0                     | 0                     | 1                     | rHGG                  | 0                     | 0                     | 1                     | \n",
       "| 425 | 3791                  |  9970                 | 10507                 | 2015-08-25            | 2015-08-26            | Treatment Effect      | Treatment Effect      | 49B78                 | 3                     | 0                     |                       |                       |                       | 10.53                 | f                     | 2.11                  | 1.83                  | 0.96                  | 0.68                  | 1.97                  | 0.50                  | 1.54                  | 1.79                  | 2.08                  | 1.85                  | 1.99                  | 0.61                  | 1.49                  | 1.72                  | 2.03                  | 1.79                  | 0.59                  | 0.57                  | 0.55                  | 100                   |   NA                  |   NA                  |   NA                  |   NA                  |   NA                  |   NA                  |   NA                  |   NA                  |   NA                  | 0                     | 1                     |                       | NA                    | NA                    | 0                     | 1                     | 1                     | 1                     | 1                     | 1                     | 1                     | 0                     | 1                     | 0                     | 20.00                 | 80.00                 |  0                    | 100                   | 0                     | 1                     | 1                     | 0                     | 1                     | rHGG                  | 0                     | 0                     | 1                     | \n",
       "| 426 | 3791                  |  9970                 | 10507                 | 2015-08-25            | 2015-08-26            | Treatment Effect      | Treatment Effect      | 49B78                 | 3                     | 0                     |                       |                       |                       | 10.53                 | f                     | 2.11                  | 1.83                  | 0.96                  | 0.68                  | 1.97                  | 0.50                  | 1.54                  | 1.79                  | 2.08                  | 1.85                  | 1.99                  | 0.61                  | 1.49                  | 1.72                  | 2.03                  | 1.79                  | 0.59                  | 0.57                  | 0.55                  | 100                   | 1.54                  | 0.51                  | 1.02                  | 0.68                  | 0.51                  | 0.27                  | 0.86                  | 0.86                  | 0.86                  | 0                     | 1                     |                       | NA                    | NA                    | 0                     | 0                     | 1                     | 1                     | 1                     | 1                     | 1                     | 1                     | 1                     | 1                     | 20.00                 | 80.00                 |  0                    | 100                   | 0                     | 1                     | 1                     | 0                     | 1                     | rHGG                  | 0                     | 0                     | 1                     | \n",
       "| 427 | 3791                  |  9970                 | 10507                 | 2015-08-25            | 2015-08-26            | Treatment Effect      | Treatment Effect      | 49B78                 | 3                     | 0                     |                       |                       |                       | 10.53                 | f                     | 2.11                  | 1.83                  | 0.96                  | 0.68                  | 1.97                  | 0.50                  | 1.54                  | 1.79                  | 2.08                  | 1.85                  | 1.99                  | 0.61                  | 1.49                  | 1.72                  | 2.03                  | 1.79                  | 0.59                  | 0.57                  | 0.55                  | 100                   | 1.54                  | 0.51                  | 1.02                  | 0.68                  | 0.51                  | 0.27                  | 0.86                  | 0.86                  | 0.86                  | 0                     | 1                     |                       | NA                    | NA                    | 0                     | 0                     | 1                     | 1                     | 1                     | 1                     | 1                     | 1                     | 1                     | 1                     | 20.00                 | 80.00                 |  0                    | 100                   | 0                     | 1                     | 1                     | 0                     | 1                     | rHGG                  | 0                     | 0                     | 1                     | \n",
       "| 530 | 3783                  | 11192                 | 11150                 | 2017-01-29            | 2017-01-30            | Grade III             | Astrocytoma           | 36B97                 | 3                     | 0                     | 2                     | 1                     | 0                     |  9.56                 | f                     | 1.80                  | 1.86                  | 1.39                  | 1.26                  | 1.67                  | 0.73                  | 1.42                  | 1.60                  | 1.77                  | 1.60                  | 1.69                  | 1.06                  | 1.40                  | 1.46                  | 1.64                  | 1.52                  | 0.67                  | 0.79                  | 0.75                  | 100                   |   NA                  |   NA                  |   NA                  |   NA                  |   NA                  |   NA                  |   NA                  |   NA                  |   NA                  | 0                     | 1                     |                       | NA                    | NA                    | 0                     | 1                     | 1                     | 1                     | 1                     | 1                     | 1                     | 0                     | 1                     | 0                     | 33.33                 | 66.67                 | NA                    | 100                   | 0                     | 1                     | 1                     | 0                     | 1                     | rHGG                  | 0                     | 0                     | 1                     | \n",
       "| 531 | 3783                  | 11192                 | 11150                 | 2017-01-29            | 2017-01-30            | Grade III             | Astrocytoma           | 36B97                 | 3                     | 0                     | 2                     | 1                     | 0                     |  9.56                 | f                     | 1.80                  | 1.86                  | 1.39                  | 1.26                  | 1.67                  | 0.73                  | 1.42                  | 1.60                  | 1.77                  | 1.60                  | 1.69                  | 1.06                  | 1.40                  | 1.46                  | 1.64                  | 1.52                  | 0.67                  | 0.79                  | 0.75                  | 100                   | 5.83                  | 4.55                  | 0.31                  | 1.97                  | 0.90                  | 0.81                  | 0.05                  | 0.05                  | 0.05                  | 0                     | 1                     |                       | NA                    | NA                    | 0                     | 0                     | 1                     | 1                     | 1                     | 1                     | 1                     | 1                     | 1                     | 1                     | 33.33                 | 66.67                 | NA                    | 100                   | 0                     | 1                     | 1                     | 0                     | 1                     | rHGG                  | 0                     | 0                     | 1                     | \n",
       "| 532 | 3783                  | 11192                 | 11150                 | 2017-01-29            | 2017-01-30            | Grade III             | Astrocytoma           | 36B97                 | 3                     | 0                     | 2                     | 1                     | 0                     |  9.56                 | f                     | 1.80                  | 1.86                  | 1.39                  | 1.26                  | 1.67                  | 0.73                  | 1.42                  | 1.60                  | 1.77                  | 1.60                  | 1.69                  | 1.06                  | 1.40                  | 1.46                  | 1.64                  | 1.52                  | 0.67                  | 0.79                  | 0.75                  | 100                   | 5.83                  | 4.55                  | 0.31                  | 1.97                  | 0.90                  | 0.81                  | 0.05                  | 0.05                  | 0.05                  | 0                     | 1                     |                       | NA                    | NA                    | 0                     | 0                     | 1                     | 1                     | 1                     | 1                     | 1                     | 1                     | 1                     | 1                     | 33.33                 | 66.67                 | NA                    | 100                   | 0                     | 1                     | 1                     | 0                     | 1                     | rHGG                  | 0                     | 0                     | 1                     | \n",
       "\n",
       "\n"
      ],
      "text/plain": [
       "    b_number t_number sf_number current_scan_date current_surgery_date\n",
       "381 3645      9213    10138     2014-10-22        2014-10-23          \n",
       "382 3645      9213    10138     2014-10-22        2014-10-23          \n",
       "383 3645      9213    10138     2014-10-22        2014-10-23          \n",
       "390 3670      9288    10199     2014-12-16        2014-12-17          \n",
       "391 3670      9288    10199     2014-12-16        2014-12-17          \n",
       "392 3670      9288    10199     2014-12-16        2014-12-17          \n",
       "425 3791      9970    10507     2015-08-25        2015-08-26          \n",
       "426 3791      9970    10507     2015-08-25        2015-08-26          \n",
       "427 3791      9970    10507     2015-08-25        2015-08-26          \n",
       "530 3783     11192    11150     2017-01-29        2017-01-30          \n",
       "531 3783     11192    11150     2017-01-29        2017-01-30          \n",
       "532 3783     11192    11150     2017-01-29        2017-01-30          \n",
       "    current_hist_grade current_hist_type roi.label tumor_cell_evaluation\n",
       "381 Grade IV           Glioblastoma      49B74     3                    \n",
       "382 Grade IV           Glioblastoma      49B74     3                    \n",
       "383 Grade IV           Glioblastoma      49B74     3                    \n",
       "390 Grade IV           Glioblastoma      49B75     2                    \n",
       "391 Grade IV           Glioblastoma      49B75     2                    \n",
       "392 Grade IV           Glioblastoma      49B75     2                    \n",
       "425 Treatment Effect   Treatment Effect  49B78     3                    \n",
       "426 Treatment Effect   Treatment Effect  49B78     3                    \n",
       "427 Treatment Effect   Treatment Effect  49B78     3                    \n",
       "530 Grade III          Astrocytoma       36B97     3                    \n",
       "531 Grade III          Astrocytoma       36B97     3                    \n",
       "532 Grade III          Astrocytoma       36B97     3                    \n",
       "    necrosis f8_delicate f8_simple f8_complex mib_1 bx_pure_treatment_effect\n",
       "381 0                                         40.81 f                       \n",
       "382 0                                         40.81 f                       \n",
       "383 0                                         40.81 f                       \n",
       "390 0                                          5.92                         \n",
       "391 0                                          5.92                         \n",
       "392 0                                          5.92                         \n",
       "425 0                                         10.53 f                       \n",
       "426 0                                         10.53 f                       \n",
       "427 0                                         10.53 f                       \n",
       "530 0        2           1         0           9.56 f                       \n",
       "531 0        2           1         0           9.56 f                       \n",
       "532 0        2           1         0           9.56 f                       \n",
       "    nfse nfl  nt1c nt1v nadc.1 nfa.1 nev1.1 nev2.1 nev3.1 nevrad.1 nadc.2 nfa.2\n",
       "381 1.65 1.55 1.32 0.66 1.70   0.50  1.39   1.66   1.83   1.73     1.74   0.61 \n",
       "382 1.65 1.55 1.32 0.66 1.70   0.50  1.39   1.66   1.83   1.73     1.74   0.61 \n",
       "383 1.65 1.55 1.32 0.66 1.70   0.50  1.39   1.66   1.83   1.73     1.74   0.61 \n",
       "390 1.74 1.82 1.35 0.92 1.64   0.72  1.26   1.55   1.83   1.54     1.71   0.72 \n",
       "391 1.74 1.82 1.35 0.92 1.64   0.72  1.26   1.55   1.83   1.54     1.71   0.72 \n",
       "392 1.74 1.82 1.35 0.92 1.64   0.72  1.26   1.55   1.83   1.54     1.71   0.72 \n",
       "425 2.11 1.83 0.96 0.68 1.97   0.50  1.54   1.79   2.08   1.85     1.99   0.61 \n",
       "426 2.11 1.83 0.96 0.68 1.97   0.50  1.54   1.79   2.08   1.85     1.99   0.61 \n",
       "427 2.11 1.83 0.96 0.68 1.97   0.50  1.54   1.79   2.08   1.85     1.99   0.61 \n",
       "530 1.80 1.86 1.39 1.26 1.67   0.73  1.42   1.60   1.77   1.60     1.69   1.06 \n",
       "531 1.80 1.86 1.39 1.26 1.67   0.73  1.42   1.60   1.77   1.60     1.69   1.06 \n",
       "532 1.80 1.86 1.39 1.26 1.67   0.73  1.42   1.60   1.77   1.60     1.69   1.06 \n",
       "    nev1.2 nev2.2 nev3.2 nevrad.2 cbvn_nlin phn_nlin phn_npar recovn_npar cni \n",
       "381   NA     NA     NA     NA     1.62      1.29     1.24     100           NA\n",
       "382   NA     NA     NA     NA     1.62      1.29     1.24     100         3.51\n",
       "383   NA     NA     NA     NA     1.62      1.29     1.24     100         3.51\n",
       "390   NA     NA     NA     NA     1.09      NA       1.04     100           NA\n",
       "391   NA     NA     NA     NA     1.09      NA       1.04     100           NA\n",
       "392   NA     NA     NA     NA     1.09      NA       1.04     100           NA\n",
       "425 1.49   1.72   2.03   1.79     0.59      0.57     0.55     100           NA\n",
       "426 1.49   1.72   2.03   1.79     0.59      0.57     0.55     100         1.54\n",
       "427 1.49   1.72   2.03   1.79     0.59      0.57     0.55     100         1.54\n",
       "530 1.40   1.46   1.64   1.52     0.67      0.79     0.75     100           NA\n",
       "531 1.40   1.46   1.64   1.52     0.67      0.79     0.75     100         5.83\n",
       "532 1.40   1.46   1.64   1.52     0.67      0.79     0.75     100         5.83\n",
       "    ccri crni ncho ncre nnaa nlip laclip nlac olddata newdata\n",
       "381   NA   NA   NA   NA   NA   NA   NA     NA 0       1      \n",
       "382 2.14 0.94 0.69 0.26 0.07 0.12 0.40   0.28 0       1      \n",
       "383 2.14 0.94 0.69 0.26 0.07 0.12 0.40   0.28 0       1      \n",
       "390   NA   NA   NA   NA   NA   NA   NA     NA 0       1      \n",
       "391   NA   NA   NA   NA   NA   NA   NA     NA 0       1      \n",
       "392   NA   NA   NA   NA   NA   NA   NA     NA 0       1      \n",
       "425   NA   NA   NA   NA   NA   NA   NA     NA 0       1      \n",
       "426 0.51 1.02 0.68 0.51 0.27 0.86 0.86   0.86 0       1      \n",
       "427 0.51 1.02 0.68 0.51 0.27 0.86 0.86   0.86 0       1      \n",
       "530   NA   NA   NA   NA   NA   NA   NA     NA 0       1      \n",
       "531 4.55 0.31 1.97 0.90 0.81 0.05 0.05   0.05 0       1      \n",
       "532 4.55 0.31 1.97 0.90 0.81 0.05 0.05   0.05 0       1      \n",
       "    comments              notes. imaging_code perf_quant spec_quant\n",
       "381                       NA     NA           0          1         \n",
       "382                       NA     NA           0          0         \n",
       "383                       NA     NA           0          0         \n",
       "390 \"foci of macrophages\" NA     NA           0          1         \n",
       "391 \"foci of macrophages\" NA     NA           0          1         \n",
       "392 \"foci of macrophages\" NA     NA           0          1         \n",
       "425                       NA     NA           0          1         \n",
       "426                       NA     NA           0          0         \n",
       "427                       NA     NA           0          0         \n",
       "530                       NA     NA           0          1         \n",
       "531                       NA     NA           0          0         \n",
       "532                       NA     NA           0          0         \n",
       "    include_anat include_diffu1000 include_diffu2000 include_diffu_all\n",
       "381 1            1                 1                 1                \n",
       "382 1            1                 1                 1                \n",
       "383 1            1                 1                 1                \n",
       "390 1            1                 1                 1                \n",
       "391 1            1                 1                 1                \n",
       "392 1            1                 1                 1                \n",
       "425 1            1                 1                 1                \n",
       "426 1            1                 1                 1                \n",
       "427 1            1                 1                 1                \n",
       "530 1            1                 1                 1                \n",
       "531 1            1                 1                 1                \n",
       "532 1            1                 1                 1                \n",
       "    include_perf include_spec include_one_advanced_mod\n",
       "381 1            0            1                       \n",
       "382 1            1            1                       \n",
       "383 1            1            1                       \n",
       "390 1            0            1                       \n",
       "391 1            0            1                       \n",
       "392 1            0            1                       \n",
       "425 1            0            1                       \n",
       "426 1            1            1                       \n",
       "427 1            1            1                       \n",
       "530 1            0            1                       \n",
       "531 1            1            1                       \n",
       "532 1            1            1                       \n",
       "    include_all_advanced_mods X.CEL X.NEL X.NEC sum in_CEL in_T2all in_NEL\n",
       "381 0                         95.74  4.26 NA    100 1      1        0     \n",
       "382 1                         95.74  4.26 NA    100 1      1        0     \n",
       "383 1                         95.74  4.26 NA    100 1      1        0     \n",
       "390 0                         58.33 41.67  0    100 1      1        0     \n",
       "391 0                         58.33 41.67  0    100 1      1        0     \n",
       "392 0                         58.33 41.67  0    100 1      1        0     \n",
       "425 0                         20.00 80.00  0    100 0      1        1     \n",
       "426 1                         20.00 80.00  0    100 0      1        1     \n",
       "427 1                         20.00 80.00  0    100 0      1        1     \n",
       "530 0                         33.33 66.67 NA    100 0      1        1     \n",
       "531 1                         33.33 66.67 NA    100 0      1        1     \n",
       "532 1                         33.33 66.67 NA    100 0      1        1     \n",
       "    in_NEC in_ROI multnom_out no_ffpe waiting_on_path rhgg_txe_analysis\n",
       "381 0      1      rHGG        0       0               1                \n",
       "382 0      1      rHGG        0       0               1                \n",
       "383 0      1      rHGG        0       0               1                \n",
       "390 0      1      rHGG        0       0               1                \n",
       "391 0      1      rHGG        0       0               1                \n",
       "392 0      1      rHGG        0       0               1                \n",
       "425 0      1      rHGG        0       0               1                \n",
       "426 0      1      rHGG        0       0               1                \n",
       "427 0      1      rHGG        0       0               1                \n",
       "530 0      1      rHGG        0       0               1                \n",
       "531 0      1      rHGG        0       0               1                \n",
       "532 0      1      rHGG        0       0               1                "
      ]
     },
     "metadata": {},
     "output_type": "display_data"
    }
   ],
   "source": [
    "## looking at duplicates: \n",
    "table(duplicated(recgli$roi.label))\n",
    "recgli[duplicated(recgli$roi.label),]"
   ]
  },
  {
   "cell_type": "code",
   "execution_count": 5,
   "metadata": {
    "collapsed": false,
    "deletable": true,
    "editable": true
   },
   "outputs": [
    {
     "data": {
      "text/html": [
       "<table>\n",
       "<thead><tr><th></th><th scope=col>b_number</th><th scope=col>t_number</th><th scope=col>sf_number</th><th scope=col>current_scan_date</th><th scope=col>current_surgery_date</th><th scope=col>current_hist_grade</th><th scope=col>current_hist_type</th><th scope=col>roi.label</th><th scope=col>tumor_cell_evaluation</th><th scope=col>necrosis</th><th scope=col>f8_delicate</th><th scope=col>f8_simple</th><th scope=col>f8_complex</th><th scope=col>mib_1</th><th scope=col>bx_pure_treatment_effect</th><th scope=col>nfse</th><th scope=col>nfl</th><th scope=col>nt1c</th><th scope=col>nt1v</th><th scope=col>nadc.1</th><th scope=col>nfa.1</th><th scope=col>nev1.1</th><th scope=col>nev2.1</th><th scope=col>nev3.1</th><th scope=col>nevrad.1</th><th scope=col>nadc.2</th><th scope=col>nfa.2</th><th scope=col>nev1.2</th><th scope=col>nev2.2</th><th scope=col>nev3.2</th><th scope=col>nevrad.2</th><th scope=col>cbvn_nlin</th><th scope=col>phn_nlin</th><th scope=col>phn_npar</th><th scope=col>recovn_npar</th><th scope=col>cni</th><th scope=col>ccri</th><th scope=col>crni</th><th scope=col>ncho</th><th scope=col>ncre</th><th scope=col>nnaa</th><th scope=col>nlip</th><th scope=col>laclip</th><th scope=col>nlac</th><th scope=col>olddata</th><th scope=col>newdata</th><th scope=col>comments</th><th scope=col>notes.</th><th scope=col>imaging_code</th><th scope=col>perf_quant</th><th scope=col>spec_quant</th><th scope=col>include_anat</th><th scope=col>include_diffu1000</th><th scope=col>include_diffu2000</th><th scope=col>include_diffu_all</th><th scope=col>include_perf</th><th scope=col>include_spec</th><th scope=col>include_one_advanced_mod</th><th scope=col>include_all_advanced_mods</th><th scope=col>X.CEL</th><th scope=col>X.NEL</th><th scope=col>X.NEC</th><th scope=col>sum</th><th scope=col>in_CEL</th><th scope=col>in_T2all</th><th scope=col>in_NEL</th><th scope=col>in_NEC</th><th scope=col>in_ROI</th><th scope=col>multnom_out</th><th scope=col>no_ffpe</th><th scope=col>waiting_on_path</th><th scope=col>rhgg_txe_analysis</th></tr></thead>\n",
       "<tbody>\n",
       "\t<tr><th scope=row>380</th><td>3645        </td><td>9213        </td><td>10138       </td><td>2014-10-22  </td><td>2014-10-23  </td><td>Grade IV    </td><td>Glioblastoma</td><td>49B74       </td><td>3           </td><td>0           </td><td>            </td><td>            </td><td>            </td><td>40.81       </td><td>f           </td><td>1.65        </td><td>1.55        </td><td>1.32        </td><td>0.66        </td><td>1.7         </td><td>0.5         </td><td>1.39        </td><td>1.66        </td><td>1.83        </td><td>1.73        </td><td>1.74        </td><td>0.61        </td><td>NA          </td><td>NA          </td><td>NA          </td><td>NA          </td><td>1.62        </td><td>1.29        </td><td>1.24        </td><td>100         </td><td>  NA        </td><td>  NA        </td><td>  NA        </td><td>  NA        </td><td>  NA        </td><td>  NA        </td><td>  NA        </td><td> NA         </td><td>  NA        </td><td>0           </td><td>1           </td><td>            </td><td>NA          </td><td>NA          </td><td>0           </td><td>1           </td><td>1           </td><td>1           </td><td>1           </td><td>1           </td><td>1           </td><td>0           </td><td>1           </td><td>0           </td><td>95.74       </td><td>4.26        </td><td>NA          </td><td>100         </td><td>1           </td><td>1           </td><td>0           </td><td>0           </td><td>1           </td><td>rHGG        </td><td>0           </td><td>0           </td><td>1           </td></tr>\n",
       "\t<tr><th scope=row>381</th><td>3645        </td><td>9213        </td><td>10138       </td><td>2014-10-22  </td><td>2014-10-23  </td><td>Grade IV    </td><td>Glioblastoma</td><td>49B74       </td><td>3           </td><td>0           </td><td>            </td><td>            </td><td>            </td><td>40.81       </td><td>f           </td><td>1.65        </td><td>1.55        </td><td>1.32        </td><td>0.66        </td><td>1.7         </td><td>0.5         </td><td>1.39        </td><td>1.66        </td><td>1.83        </td><td>1.73        </td><td>1.74        </td><td>0.61        </td><td>NA          </td><td>NA          </td><td>NA          </td><td>NA          </td><td>1.62        </td><td>1.29        </td><td>1.24        </td><td>100         </td><td>  NA        </td><td>  NA        </td><td>  NA        </td><td>  NA        </td><td>  NA        </td><td>  NA        </td><td>  NA        </td><td> NA         </td><td>  NA        </td><td>0           </td><td>1           </td><td>            </td><td>NA          </td><td>NA          </td><td>0           </td><td>1           </td><td>1           </td><td>1           </td><td>1           </td><td>1           </td><td>1           </td><td>0           </td><td>1           </td><td>0           </td><td>95.74       </td><td>4.26        </td><td>NA          </td><td>100         </td><td>1           </td><td>1           </td><td>0           </td><td>0           </td><td>1           </td><td>rHGG        </td><td>0           </td><td>0           </td><td>1           </td></tr>\n",
       "\t<tr><th scope=row>382</th><td>3645        </td><td>9213        </td><td>10138       </td><td>2014-10-22  </td><td>2014-10-23  </td><td>Grade IV    </td><td>Glioblastoma</td><td>49B74       </td><td>3           </td><td>0           </td><td>            </td><td>            </td><td>            </td><td>40.81       </td><td>f           </td><td>1.65        </td><td>1.55        </td><td>1.32        </td><td>0.66        </td><td>1.7         </td><td>0.5         </td><td>1.39        </td><td>1.66        </td><td>1.83        </td><td>1.73        </td><td>1.74        </td><td>0.61        </td><td>NA          </td><td>NA          </td><td>NA          </td><td>NA          </td><td>1.62        </td><td>1.29        </td><td>1.24        </td><td>100         </td><td>3.51        </td><td>2.14        </td><td>0.94        </td><td>0.69        </td><td>0.26        </td><td>0.07        </td><td>0.12        </td><td>0.4         </td><td>0.28        </td><td>0           </td><td>1           </td><td>            </td><td>NA          </td><td>NA          </td><td>0           </td><td>0           </td><td>1           </td><td>1           </td><td>1           </td><td>1           </td><td>1           </td><td>1           </td><td>1           </td><td>1           </td><td>95.74       </td><td>4.26        </td><td>NA          </td><td>100         </td><td>1           </td><td>1           </td><td>0           </td><td>0           </td><td>1           </td><td>rHGG        </td><td>0           </td><td>0           </td><td>1           </td></tr>\n",
       "\t<tr><th scope=row>383</th><td>3645        </td><td>9213        </td><td>10138       </td><td>2014-10-22  </td><td>2014-10-23  </td><td>Grade IV    </td><td>Glioblastoma</td><td>49B74       </td><td>3           </td><td>0           </td><td>            </td><td>            </td><td>            </td><td>40.81       </td><td>f           </td><td>1.65        </td><td>1.55        </td><td>1.32        </td><td>0.66        </td><td>1.7         </td><td>0.5         </td><td>1.39        </td><td>1.66        </td><td>1.83        </td><td>1.73        </td><td>1.74        </td><td>0.61        </td><td>NA          </td><td>NA          </td><td>NA          </td><td>NA          </td><td>1.62        </td><td>1.29        </td><td>1.24        </td><td>100         </td><td>3.51        </td><td>2.14        </td><td>0.94        </td><td>0.69        </td><td>0.26        </td><td>0.07        </td><td>0.12        </td><td>0.4         </td><td>0.28        </td><td>0           </td><td>1           </td><td>            </td><td>NA          </td><td>NA          </td><td>0           </td><td>0           </td><td>1           </td><td>1           </td><td>1           </td><td>1           </td><td>1           </td><td>1           </td><td>1           </td><td>1           </td><td>95.74       </td><td>4.26        </td><td>NA          </td><td>100         </td><td>1           </td><td>1           </td><td>0           </td><td>0           </td><td>1           </td><td>rHGG        </td><td>0           </td><td>0           </td><td>1           </td></tr>\n",
       "</tbody>\n",
       "</table>\n"
      ],
      "text/latex": [
       "\\begin{tabular}{r|llllllllllllllllllllllllllllllllllllllllllllllllllllllllllllllllllllllll}\n",
       "  & b\\_number & t\\_number & sf\\_number & current\\_scan\\_date & current\\_surgery\\_date & current\\_hist\\_grade & current\\_hist\\_type & roi.label & tumor\\_cell\\_evaluation & necrosis & f8\\_delicate & f8\\_simple & f8\\_complex & mib\\_1 & bx\\_pure\\_treatment\\_effect & nfse & nfl & nt1c & nt1v & nadc.1 & nfa.1 & nev1.1 & nev2.1 & nev3.1 & nevrad.1 & nadc.2 & nfa.2 & nev1.2 & nev2.2 & nev3.2 & nevrad.2 & cbvn\\_nlin & phn\\_nlin & phn\\_npar & recovn\\_npar & cni & ccri & crni & ncho & ncre & nnaa & nlip & laclip & nlac & olddata & newdata & comments & notes. & imaging\\_code & perf\\_quant & spec\\_quant & include\\_anat & include\\_diffu1000 & include\\_diffu2000 & include\\_diffu\\_all & include\\_perf & include\\_spec & include\\_one\\_advanced\\_mod & include\\_all\\_advanced\\_mods & X.CEL & X.NEL & X.NEC & sum & in\\_CEL & in\\_T2all & in\\_NEL & in\\_NEC & in\\_ROI & multnom\\_out & no\\_ffpe & waiting\\_on\\_path & rhgg\\_txe\\_analysis\\\\\n",
       "\\hline\n",
       "\t380 & 3645         & 9213         & 10138        & 2014-10-22   & 2014-10-23   & Grade IV     & Glioblastoma & 49B74        & 3            & 0            &              &              &              & 40.81        & f            & 1.65         & 1.55         & 1.32         & 0.66         & 1.7          & 0.5          & 1.39         & 1.66         & 1.83         & 1.73         & 1.74         & 0.61         & NA           & NA           & NA           & NA           & 1.62         & 1.29         & 1.24         & 100          &   NA         &   NA         &   NA         &   NA         &   NA         &   NA         &   NA         &  NA          &   NA         & 0            & 1            &              & NA           & NA           & 0            & 1            & 1            & 1            & 1            & 1            & 1            & 0            & 1            & 0            & 95.74        & 4.26         & NA           & 100          & 1            & 1            & 0            & 0            & 1            & rHGG         & 0            & 0            & 1           \\\\\n",
       "\t381 & 3645         & 9213         & 10138        & 2014-10-22   & 2014-10-23   & Grade IV     & Glioblastoma & 49B74        & 3            & 0            &              &              &              & 40.81        & f            & 1.65         & 1.55         & 1.32         & 0.66         & 1.7          & 0.5          & 1.39         & 1.66         & 1.83         & 1.73         & 1.74         & 0.61         & NA           & NA           & NA           & NA           & 1.62         & 1.29         & 1.24         & 100          &   NA         &   NA         &   NA         &   NA         &   NA         &   NA         &   NA         &  NA          &   NA         & 0            & 1            &              & NA           & NA           & 0            & 1            & 1            & 1            & 1            & 1            & 1            & 0            & 1            & 0            & 95.74        & 4.26         & NA           & 100          & 1            & 1            & 0            & 0            & 1            & rHGG         & 0            & 0            & 1           \\\\\n",
       "\t382 & 3645         & 9213         & 10138        & 2014-10-22   & 2014-10-23   & Grade IV     & Glioblastoma & 49B74        & 3            & 0            &              &              &              & 40.81        & f            & 1.65         & 1.55         & 1.32         & 0.66         & 1.7          & 0.5          & 1.39         & 1.66         & 1.83         & 1.73         & 1.74         & 0.61         & NA           & NA           & NA           & NA           & 1.62         & 1.29         & 1.24         & 100          & 3.51         & 2.14         & 0.94         & 0.69         & 0.26         & 0.07         & 0.12         & 0.4          & 0.28         & 0            & 1            &              & NA           & NA           & 0            & 0            & 1            & 1            & 1            & 1            & 1            & 1            & 1            & 1            & 95.74        & 4.26         & NA           & 100          & 1            & 1            & 0            & 0            & 1            & rHGG         & 0            & 0            & 1           \\\\\n",
       "\t383 & 3645         & 9213         & 10138        & 2014-10-22   & 2014-10-23   & Grade IV     & Glioblastoma & 49B74        & 3            & 0            &              &              &              & 40.81        & f            & 1.65         & 1.55         & 1.32         & 0.66         & 1.7          & 0.5          & 1.39         & 1.66         & 1.83         & 1.73         & 1.74         & 0.61         & NA           & NA           & NA           & NA           & 1.62         & 1.29         & 1.24         & 100          & 3.51         & 2.14         & 0.94         & 0.69         & 0.26         & 0.07         & 0.12         & 0.4          & 0.28         & 0            & 1            &              & NA           & NA           & 0            & 0            & 1            & 1            & 1            & 1            & 1            & 1            & 1            & 1            & 95.74        & 4.26         & NA           & 100          & 1            & 1            & 0            & 0            & 1            & rHGG         & 0            & 0            & 1           \\\\\n",
       "\\end{tabular}\n"
      ],
      "text/markdown": [
       "\n",
       "| <!--/--> | b_number | t_number | sf_number | current_scan_date | current_surgery_date | current_hist_grade | current_hist_type | roi.label | tumor_cell_evaluation | necrosis | f8_delicate | f8_simple | f8_complex | mib_1 | bx_pure_treatment_effect | nfse | nfl | nt1c | nt1v | nadc.1 | nfa.1 | nev1.1 | nev2.1 | nev3.1 | nevrad.1 | nadc.2 | nfa.2 | nev1.2 | nev2.2 | nev3.2 | nevrad.2 | cbvn_nlin | phn_nlin | phn_npar | recovn_npar | cni | ccri | crni | ncho | ncre | nnaa | nlip | laclip | nlac | olddata | newdata | comments | notes. | imaging_code | perf_quant | spec_quant | include_anat | include_diffu1000 | include_diffu2000 | include_diffu_all | include_perf | include_spec | include_one_advanced_mod | include_all_advanced_mods | X.CEL | X.NEL | X.NEC | sum | in_CEL | in_T2all | in_NEL | in_NEC | in_ROI | multnom_out | no_ffpe | waiting_on_path | rhgg_txe_analysis | \n",
       "|---|---|---|---|\n",
       "| 380 | 3645         | 9213         | 10138        | 2014-10-22   | 2014-10-23   | Grade IV     | Glioblastoma | 49B74        | 3            | 0            |              |              |              | 40.81        | f            | 1.65         | 1.55         | 1.32         | 0.66         | 1.7          | 0.5          | 1.39         | 1.66         | 1.83         | 1.73         | 1.74         | 0.61         | NA           | NA           | NA           | NA           | 1.62         | 1.29         | 1.24         | 100          |   NA         |   NA         |   NA         |   NA         |   NA         |   NA         |   NA         |  NA          |   NA         | 0            | 1            |              | NA           | NA           | 0            | 1            | 1            | 1            | 1            | 1            | 1            | 0            | 1            | 0            | 95.74        | 4.26         | NA           | 100          | 1            | 1            | 0            | 0            | 1            | rHGG         | 0            | 0            | 1            | \n",
       "| 381 | 3645         | 9213         | 10138        | 2014-10-22   | 2014-10-23   | Grade IV     | Glioblastoma | 49B74        | 3            | 0            |              |              |              | 40.81        | f            | 1.65         | 1.55         | 1.32         | 0.66         | 1.7          | 0.5          | 1.39         | 1.66         | 1.83         | 1.73         | 1.74         | 0.61         | NA           | NA           | NA           | NA           | 1.62         | 1.29         | 1.24         | 100          |   NA         |   NA         |   NA         |   NA         |   NA         |   NA         |   NA         |  NA          |   NA         | 0            | 1            |              | NA           | NA           | 0            | 1            | 1            | 1            | 1            | 1            | 1            | 0            | 1            | 0            | 95.74        | 4.26         | NA           | 100          | 1            | 1            | 0            | 0            | 1            | rHGG         | 0            | 0            | 1            | \n",
       "| 382 | 3645         | 9213         | 10138        | 2014-10-22   | 2014-10-23   | Grade IV     | Glioblastoma | 49B74        | 3            | 0            |              |              |              | 40.81        | f            | 1.65         | 1.55         | 1.32         | 0.66         | 1.7          | 0.5          | 1.39         | 1.66         | 1.83         | 1.73         | 1.74         | 0.61         | NA           | NA           | NA           | NA           | 1.62         | 1.29         | 1.24         | 100          | 3.51         | 2.14         | 0.94         | 0.69         | 0.26         | 0.07         | 0.12         | 0.4          | 0.28         | 0            | 1            |              | NA           | NA           | 0            | 0            | 1            | 1            | 1            | 1            | 1            | 1            | 1            | 1            | 95.74        | 4.26         | NA           | 100          | 1            | 1            | 0            | 0            | 1            | rHGG         | 0            | 0            | 1            | \n",
       "| 383 | 3645         | 9213         | 10138        | 2014-10-22   | 2014-10-23   | Grade IV     | Glioblastoma | 49B74        | 3            | 0            |              |              |              | 40.81        | f            | 1.65         | 1.55         | 1.32         | 0.66         | 1.7          | 0.5          | 1.39         | 1.66         | 1.83         | 1.73         | 1.74         | 0.61         | NA           | NA           | NA           | NA           | 1.62         | 1.29         | 1.24         | 100          | 3.51         | 2.14         | 0.94         | 0.69         | 0.26         | 0.07         | 0.12         | 0.4          | 0.28         | 0            | 1            |              | NA           | NA           | 0            | 0            | 1            | 1            | 1            | 1            | 1            | 1            | 1            | 1            | 95.74        | 4.26         | NA           | 100          | 1            | 1            | 0            | 0            | 1            | rHGG         | 0            | 0            | 1            | \n",
       "\n",
       "\n"
      ],
      "text/plain": [
       "    b_number t_number sf_number current_scan_date current_surgery_date\n",
       "380 3645     9213     10138     2014-10-22        2014-10-23          \n",
       "381 3645     9213     10138     2014-10-22        2014-10-23          \n",
       "382 3645     9213     10138     2014-10-22        2014-10-23          \n",
       "383 3645     9213     10138     2014-10-22        2014-10-23          \n",
       "    current_hist_grade current_hist_type roi.label tumor_cell_evaluation\n",
       "380 Grade IV           Glioblastoma      49B74     3                    \n",
       "381 Grade IV           Glioblastoma      49B74     3                    \n",
       "382 Grade IV           Glioblastoma      49B74     3                    \n",
       "383 Grade IV           Glioblastoma      49B74     3                    \n",
       "    necrosis f8_delicate f8_simple f8_complex mib_1 bx_pure_treatment_effect\n",
       "380 0                                         40.81 f                       \n",
       "381 0                                         40.81 f                       \n",
       "382 0                                         40.81 f                       \n",
       "383 0                                         40.81 f                       \n",
       "    nfse nfl  nt1c nt1v nadc.1 nfa.1 nev1.1 nev2.1 nev3.1 nevrad.1 nadc.2 nfa.2\n",
       "380 1.65 1.55 1.32 0.66 1.7    0.5   1.39   1.66   1.83   1.73     1.74   0.61 \n",
       "381 1.65 1.55 1.32 0.66 1.7    0.5   1.39   1.66   1.83   1.73     1.74   0.61 \n",
       "382 1.65 1.55 1.32 0.66 1.7    0.5   1.39   1.66   1.83   1.73     1.74   0.61 \n",
       "383 1.65 1.55 1.32 0.66 1.7    0.5   1.39   1.66   1.83   1.73     1.74   0.61 \n",
       "    nev1.2 nev2.2 nev3.2 nevrad.2 cbvn_nlin phn_nlin phn_npar recovn_npar cni \n",
       "380 NA     NA     NA     NA       1.62      1.29     1.24     100           NA\n",
       "381 NA     NA     NA     NA       1.62      1.29     1.24     100           NA\n",
       "382 NA     NA     NA     NA       1.62      1.29     1.24     100         3.51\n",
       "383 NA     NA     NA     NA       1.62      1.29     1.24     100         3.51\n",
       "    ccri crni ncho ncre nnaa nlip laclip nlac olddata newdata comments notes.\n",
       "380   NA   NA   NA   NA   NA   NA  NA      NA 0       1                NA    \n",
       "381   NA   NA   NA   NA   NA   NA  NA      NA 0       1                NA    \n",
       "382 2.14 0.94 0.69 0.26 0.07 0.12 0.4    0.28 0       1                NA    \n",
       "383 2.14 0.94 0.69 0.26 0.07 0.12 0.4    0.28 0       1                NA    \n",
       "    imaging_code perf_quant spec_quant include_anat include_diffu1000\n",
       "380 NA           0          1          1            1                \n",
       "381 NA           0          1          1            1                \n",
       "382 NA           0          0          1            1                \n",
       "383 NA           0          0          1            1                \n",
       "    include_diffu2000 include_diffu_all include_perf include_spec\n",
       "380 1                 1                 1            0           \n",
       "381 1                 1                 1            0           \n",
       "382 1                 1                 1            1           \n",
       "383 1                 1                 1            1           \n",
       "    include_one_advanced_mod include_all_advanced_mods X.CEL X.NEL X.NEC sum\n",
       "380 1                        0                         95.74 4.26  NA    100\n",
       "381 1                        0                         95.74 4.26  NA    100\n",
       "382 1                        1                         95.74 4.26  NA    100\n",
       "383 1                        1                         95.74 4.26  NA    100\n",
       "    in_CEL in_T2all in_NEL in_NEC in_ROI multnom_out no_ffpe waiting_on_path\n",
       "380 1      1        0      0      1      rHGG        0       0              \n",
       "381 1      1        0      0      1      rHGG        0       0              \n",
       "382 1      1        0      0      1      rHGG        0       0              \n",
       "383 1      1        0      0      1      rHGG        0       0              \n",
       "    rhgg_txe_analysis\n",
       "380 1                \n",
       "381 1                \n",
       "382 1                \n",
       "383 1                "
      ]
     },
     "metadata": {},
     "output_type": "display_data"
    },
    {
     "data": {
      "text/html": [
       "<ol class=list-inline>\n",
       "\t<li>615</li>\n",
       "\t<li>72</li>\n",
       "</ol>\n"
      ],
      "text/latex": [
       "\\begin{enumerate*}\n",
       "\\item 615\n",
       "\\item 72\n",
       "\\end{enumerate*}\n"
      ],
      "text/markdown": [
       "1. 615\n",
       "2. 72\n",
       "\n",
       "\n"
      ],
      "text/plain": [
       "[1] 615  72"
      ]
     },
     "metadata": {},
     "output_type": "display_data"
    }
   ],
   "source": [
    "## looks like they all somehow got duplicated ... all have the exact same parameters, so we can just eliminate these. Just to make sure: \n",
    "recgli[grep('49B74', recgli$roi.label),]\n",
    "## yep, all the same; we can actually now just delete these: \n",
    "recgli = recgli[!duplicated(recgli$roi.label),]\n",
    "dim(recgli)"
   ]
  },
  {
   "cell_type": "code",
   "execution_count": 6,
   "metadata": {
    "collapsed": false,
    "deletable": true,
    "editable": true
   },
   "outputs": [
    {
     "data": {
      "text/html": [
       "<table>\n",
       "<thead><tr><th></th><th scope=col>b_number</th><th scope=col>t_number</th><th scope=col>sf_number</th><th scope=col>current_scan_date</th><th scope=col>current_surgery_date</th><th scope=col>current_hist_grade</th><th scope=col>current_hist_type</th><th scope=col>roi.label</th><th scope=col>tumor_cell_evaluation</th><th scope=col>necrosis</th><th scope=col>f8_delicate</th><th scope=col>f8_simple</th><th scope=col>f8_complex</th><th scope=col>mib_1</th><th scope=col>bx_pure_treatment_effect</th><th scope=col>nfse</th><th scope=col>nfl</th><th scope=col>nt1c</th><th scope=col>nt1v</th><th scope=col>nadc.1</th><th scope=col>nfa.1</th><th scope=col>nev1.1</th><th scope=col>nev2.1</th><th scope=col>nev3.1</th><th scope=col>nevrad.1</th><th scope=col>nadc.2</th><th scope=col>nfa.2</th><th scope=col>nev1.2</th><th scope=col>nev2.2</th><th scope=col>nev3.2</th><th scope=col>nevrad.2</th><th scope=col>cbvn_nlin</th><th scope=col>phn_nlin</th><th scope=col>phn_npar</th><th scope=col>recovn_npar</th><th scope=col>cni</th><th scope=col>ccri</th><th scope=col>crni</th><th scope=col>ncho</th><th scope=col>ncre</th><th scope=col>nnaa</th><th scope=col>nlip</th><th scope=col>laclip</th><th scope=col>nlac</th><th scope=col>olddata</th><th scope=col>newdata</th><th scope=col>comments</th><th scope=col>notes.</th><th scope=col>imaging_code</th><th scope=col>perf_quant</th><th scope=col>spec_quant</th><th scope=col>include_anat</th><th scope=col>include_diffu1000</th><th scope=col>include_diffu2000</th><th scope=col>include_diffu_all</th><th scope=col>include_perf</th><th scope=col>include_spec</th><th scope=col>include_one_advanced_mod</th><th scope=col>include_all_advanced_mods</th><th scope=col>X.CEL</th><th scope=col>X.NEL</th><th scope=col>X.NEC</th><th scope=col>sum</th><th scope=col>in_CEL</th><th scope=col>in_T2all</th><th scope=col>in_NEL</th><th scope=col>in_NEC</th><th scope=col>in_ROI</th><th scope=col>multnom_out</th><th scope=col>no_ffpe</th><th scope=col>waiting_on_path</th><th scope=col>rhgg_txe_analysis</th></tr></thead>\n",
       "<tbody>\n",
       "\t<tr><th scope=row>210</th><td>2273                           </td><td>5934                           </td><td>7909                           </td><td>1/11/09                        </td><td>1/12/09                        </td><td>Grade IV                       </td><td>Glioblastoma                   </td><td>7909 T1                        </td><td>3                              </td><td>0                              </td><td>1                              </td><td>3                              </td><td>1                              </td><td>27.57                          </td><td>f                              </td><td>  NA                           </td><td>  NA                           </td><td>  NA                           </td><td>  NA                           </td><td>  NA                           </td><td>  NA                           </td><td>  NA                           </td><td>  NA                           </td><td>  NA                           </td><td>  NA                           </td><td>  NA                           </td><td>  NA                           </td><td>  NA                           </td><td>  NA                           </td><td>  NA                           </td><td>  NA                           </td><td>NA                             </td><td>NA                             </td><td>NA                             </td><td>NA                             </td><td>   NA                          </td><td>   NA                          </td><td>  NA                           </td><td>  NA                           </td><td>  NA                           </td><td>  NA                           </td><td>  NA                           </td><td>  NA                           </td><td>  NA                           </td><td>1                              </td><td>0                              </td><td>                               </td><td>NA                             </td><td>biopsy_quant                   </td><td>NA                             </td><td>NA                             </td><td>0                              </td><td>0                              </td><td>0                              </td><td>0                              </td><td>0                              </td><td>0                              </td><td>0                              </td><td>0                              </td><td>NA                             </td><td>NA                             </td><td>NA                             </td><td>NA                             </td><td>0                              </td><td>0                              </td><td>0                              </td><td>0                              </td><td>0                              </td><td>rHGG                           </td><td>0                              </td><td>0                              </td><td>1                              </td></tr>\n",
       "\t<tr><th scope=row>211</th><td>2273                           </td><td>5934                           </td><td>7909                           </td><td>1/11/09                        </td><td>1/12/09                        </td><td>Grade IV                       </td><td>Glioblastoma                   </td><td>7909 T2                        </td><td>0                              </td><td>0                              </td><td>2                              </td><td>0                              </td><td>0                              </td><td> 0.00                          </td><td>f                              </td><td>  NA                           </td><td>  NA                           </td><td>  NA                           </td><td>  NA                           </td><td>  NA                           </td><td>  NA                           </td><td>  NA                           </td><td>  NA                           </td><td>  NA                           </td><td>  NA                           </td><td>  NA                           </td><td>  NA                           </td><td>  NA                           </td><td>  NA                           </td><td>  NA                           </td><td>  NA                           </td><td>NA                             </td><td>NA                             </td><td>NA                             </td><td>NA                             </td><td>   NA                          </td><td>   NA                          </td><td>  NA                           </td><td>  NA                           </td><td>  NA                           </td><td>  NA                           </td><td>  NA                           </td><td>  NA                           </td><td>  NA                           </td><td>1                              </td><td>0                              </td><td>                               </td><td>NA                             </td><td>biopsy_quant                   </td><td>NA                             </td><td>NA                             </td><td>0                              </td><td>0                              </td><td>0                              </td><td>0                              </td><td>0                              </td><td>0                              </td><td>0                              </td><td>0                              </td><td>NA                             </td><td>NA                             </td><td>NA                             </td><td>NA                             </td><td>0                              </td><td>0                              </td><td>0                              </td><td>0                              </td><td>0                              </td><td>PN                             </td><td>0                              </td><td>0                              </td><td>0                              </td></tr>\n",
       "\t<tr><th scope=row>212</th><td>2273                           </td><td>5934                           </td><td>7909                           </td><td>1/11/09                        </td><td>1/12/09                        </td><td>Grade IV                       </td><td>Glioblastoma                   </td><td>7909 T3                        </td><td>2                              </td><td>0                              </td><td>3                              </td><td>0                              </td><td>0                              </td><td>14.89                          </td><td>f                              </td><td>  NA                           </td><td>  NA                           </td><td>  NA                           </td><td>  NA                           </td><td>  NA                           </td><td>  NA                           </td><td>  NA                           </td><td>  NA                           </td><td>  NA                           </td><td>  NA                           </td><td>  NA                           </td><td>  NA                           </td><td>  NA                           </td><td>  NA                           </td><td>  NA                           </td><td>  NA                           </td><td>NA                             </td><td>NA                             </td><td>NA                             </td><td>NA                             </td><td>   NA                          </td><td>   NA                          </td><td>  NA                           </td><td>  NA                           </td><td>  NA                           </td><td>  NA                           </td><td>  NA                           </td><td>  NA                           </td><td>  NA                           </td><td>1                              </td><td>0                              </td><td>                               </td><td>NA                             </td><td>biopsy_quant                   </td><td>NA                             </td><td>NA                             </td><td>0                              </td><td>0                              </td><td>0                              </td><td>0                              </td><td>0                              </td><td>0                              </td><td>0                              </td><td>0                              </td><td>NA                             </td><td>NA                             </td><td>NA                             </td><td>NA                             </td><td>0                              </td><td>0                              </td><td>0                              </td><td>0                              </td><td>0                              </td><td>rHGG                           </td><td>0                              </td><td>0                              </td><td>1                              </td></tr>\n",
       "\t<tr><th scope=row>236</th><td>2578                           </td><td>6826                           </td><td>8343                           </td><td>5/19/10                        </td><td>5/21/10                        </td><td>Grade IV                       </td><td>Glioblastoma                   </td><td>8343 G3                        </td><td>0                              </td><td>0                              </td><td>2                              </td><td>0                              </td><td>0                              </td><td> 0.66                          </td><td>f                              </td><td>  NA                           </td><td>  NA                           </td><td>  NA                           </td><td>  NA                           </td><td>  NA                           </td><td>  NA                           </td><td>  NA                           </td><td>  NA                           </td><td>  NA                           </td><td>  NA                           </td><td>  NA                           </td><td>  NA                           </td><td>  NA                           </td><td>  NA                           </td><td>  NA                           </td><td>  NA                           </td><td>NA                             </td><td>NA                             </td><td>NA                             </td><td>NA                             </td><td>   NA                          </td><td>   NA                          </td><td>  NA                           </td><td>  NA                           </td><td>  NA                           </td><td>  NA                           </td><td>  NA                           </td><td>  NA                           </td><td>  NA                           </td><td>1                              </td><td>0                              </td><td>                               </td><td>NA                             </td><td>biopsy_quant                   </td><td>NA                             </td><td>NA                             </td><td>0                              </td><td>0                              </td><td>0                              </td><td>0                              </td><td>0                              </td><td>0                              </td><td>0                              </td><td>0                              </td><td>NA                             </td><td>NA                             </td><td>NA                             </td><td>NA                             </td><td>0                              </td><td>0                              </td><td>0                              </td><td>0                              </td><td>0                              </td><td>PN                             </td><td>0                              </td><td>0                              </td><td>0                              </td></tr>\n",
       "\t<tr><th scope=row>237</th><td>2578                           </td><td>6826                           </td><td>8343                           </td><td>5/19/10                        </td><td>5/21/10                        </td><td>Grade IV                       </td><td>Glioblastoma                   </td><td>8343 P2                        </td><td>1                              </td><td>0                              </td><td>2                              </td><td>0                              </td><td>0                              </td><td>30.72                          </td><td>f                              </td><td>  NA                           </td><td>  NA                           </td><td>  NA                           </td><td>  NA                           </td><td>  NA                           </td><td>  NA                           </td><td>  NA                           </td><td>  NA                           </td><td>  NA                           </td><td>  NA                           </td><td>  NA                           </td><td>  NA                           </td><td>  NA                           </td><td>  NA                           </td><td>  NA                           </td><td>  NA                           </td><td>NA                             </td><td>NA                             </td><td>NA                             </td><td>NA                             </td><td>   NA                          </td><td>   NA                          </td><td>  NA                           </td><td>  NA                           </td><td>  NA                           </td><td>  NA                           </td><td>  NA                           </td><td>  NA                           </td><td>  NA                           </td><td>1                              </td><td>0                              </td><td>                               </td><td>NA                             </td><td>biopsy_quant                   </td><td>NA                             </td><td>NA                             </td><td>0                              </td><td>0                              </td><td>0                              </td><td>0                              </td><td>0                              </td><td>0                              </td><td>0                              </td><td>0                              </td><td>NA                             </td><td>NA                             </td><td>NA                             </td><td>NA                             </td><td>0                              </td><td>0                              </td><td>0                              </td><td>0                              </td><td>0                              </td><td>Ts1DNI                         </td><td>0                              </td><td>0                              </td><td>0                              </td></tr>\n",
       "\t<tr><th scope=row>238</th><td>2578                           </td><td>6826                           </td><td>8343                           </td><td>5/19/10                        </td><td>5/21/10                        </td><td>Grade IV                       </td><td>Glioblastoma                   </td><td>8343 Y1                        </td><td>0                              </td><td>0                              </td><td>2                              </td><td>0                              </td><td>0                              </td><td> 0.00                          </td><td>f                              </td><td>  NA                           </td><td>  NA                           </td><td>  NA                           </td><td>  NA                           </td><td>  NA                           </td><td>  NA                           </td><td>  NA                           </td><td>  NA                           </td><td>  NA                           </td><td>  NA                           </td><td>  NA                           </td><td>  NA                           </td><td>  NA                           </td><td>  NA                           </td><td>  NA                           </td><td>  NA                           </td><td>NA                             </td><td>NA                             </td><td>NA                             </td><td>NA                             </td><td>   NA                          </td><td>   NA                          </td><td>  NA                           </td><td>  NA                           </td><td>  NA                           </td><td>  NA                           </td><td>  NA                           </td><td>  NA                           </td><td>  NA                           </td><td>1                              </td><td>0                              </td><td>small cell GBM?, PNET component</td><td>NA                             </td><td>biopsy_quant                   </td><td>NA                             </td><td>NA                             </td><td>0                              </td><td>0                              </td><td>0                              </td><td>0                              </td><td>0                              </td><td>0                              </td><td>0                              </td><td>0                              </td><td>NA                             </td><td>NA                             </td><td>NA                             </td><td>NA                             </td><td>0                              </td><td>0                              </td><td>0                              </td><td>0                              </td><td>0                              </td><td>PN                             </td><td>0                              </td><td>0                              </td><td>0                              </td></tr>\n",
       "\t<tr><th scope=row>239</th><td>2927                           </td><td>8068                           </td><td>8352                           </td><td>5/23/10                        </td><td>5/28/10                        </td><td>Grade IV                       </td><td>Glioblastoma                   </td><td>8352 T1                        </td><td>3                              </td><td>1                              </td><td>0                              </td><td>3                              </td><td>0                              </td><td>48.73                          </td><td>f                              </td><td>2.13                           </td><td>1.41                           </td><td>1.09                           </td><td>1.06                           </td><td>0.90                           </td><td>  NA                           </td><td>  NA                           </td><td>  NA                           </td><td>  NA                           </td><td>  NA                           </td><td>  NA                           </td><td>  NA                           </td><td>  NA                           </td><td>  NA                           </td><td>  NA                           </td><td>  NA                           </td><td>NA                             </td><td>NA                             </td><td>NA                             </td><td>NA                             </td><td>   NA                          </td><td>   NA                          </td><td>  NA                           </td><td>  NA                           </td><td>  NA                           </td><td>  NA                           </td><td>  NA                           </td><td>  NA                           </td><td>  NA                           </td><td>1                              </td><td>0                              </td><td>                               </td><td>NA                             </td><td>NA                             </td><td>NA                             </td><td>NA                             </td><td>1                              </td><td>1                              </td><td>0                              </td><td>1                              </td><td>0                              </td><td>0                              </td><td>1                              </td><td>0                              </td><td>NA                             </td><td>NA                             </td><td>NA                             </td><td>NA                             </td><td>0                              </td><td>1                              </td><td>1                              </td><td>0                              </td><td>1                              </td><td>rHGG                           </td><td>0                              </td><td>0                              </td><td>1                              </td></tr>\n",
       "\t<tr><th scope=row>240</th><td>2927                           </td><td>8068                           </td><td>8352                           </td><td>5/23/10                        </td><td>5/28/10                        </td><td>Grade IV                       </td><td>Glioblastoma                   </td><td>8352 T2                        </td><td>3                              </td><td>1                              </td><td>0                              </td><td>2                              </td><td>1                              </td><td>51.27                          </td><td>f                              </td><td>1.01                           </td><td>1.12                           </td><td>1.00                           </td><td>1.19                           </td><td>1.03                           </td><td>  NA                           </td><td>  NA                           </td><td>  NA                           </td><td>  NA                           </td><td>  NA                           </td><td>  NA                           </td><td>  NA                           </td><td>  NA                           </td><td>  NA                           </td><td>  NA                           </td><td>  NA                           </td><td>NA                             </td><td>NA                             </td><td>NA                             </td><td>NA                             </td><td>   NA                          </td><td>   NA                          </td><td>  NA                           </td><td>  NA                           </td><td>  NA                           </td><td>  NA                           </td><td>  NA                           </td><td>  NA                           </td><td>  NA                           </td><td>1                              </td><td>0                              </td><td>                               </td><td>NA                             </td><td>NA                             </td><td>NA                             </td><td>NA                             </td><td>1                              </td><td>1                              </td><td>0                              </td><td>1                              </td><td>0                              </td><td>0                              </td><td>1                              </td><td>0                              </td><td>NA                             </td><td>NA                             </td><td>NA                             </td><td>NA                             </td><td>0                              </td><td>0                              </td><td>0                              </td><td>0                              </td><td>0                              </td><td>rHGG                           </td><td>0                              </td><td>0                              </td><td>1                              </td></tr>\n",
       "\t<tr><th scope=row>241</th><td>2927                           </td><td>8068                           </td><td>8352                           </td><td>5/23/10                        </td><td>5/28/10                        </td><td>Grade IV                       </td><td>Glioblastoma                   </td><td>8352 T3                        </td><td>3                              </td><td>1                              </td><td>0                              </td><td>2                              </td><td>1                              </td><td>60.86                          </td><td>f                              </td><td>1.84                           </td><td>1.26                           </td><td>1.16                           </td><td>1.11                           </td><td>0.94                           </td><td>  NA                           </td><td>  NA                           </td><td>  NA                           </td><td>  NA                           </td><td>  NA                           </td><td>  NA                           </td><td>  NA                           </td><td>  NA                           </td><td>  NA                           </td><td>  NA                           </td><td>  NA                           </td><td>NA                             </td><td>NA                             </td><td>NA                             </td><td>NA                             </td><td>   NA                          </td><td>   NA                          </td><td>  NA                           </td><td>  NA                           </td><td>  NA                           </td><td>  NA                           </td><td>  NA                           </td><td>  NA                           </td><td>  NA                           </td><td>1                              </td><td>0                              </td><td>                               </td><td>NA                             </td><td>NA                             </td><td>NA                             </td><td>NA                             </td><td>1                              </td><td>1                              </td><td>0                              </td><td>1                              </td><td>0                              </td><td>0                              </td><td>1                              </td><td>0                              </td><td>NA                             </td><td>NA                             </td><td>NA                             </td><td>NA                             </td><td>0                              </td><td>1                              </td><td>1                              </td><td>0                              </td><td>1                              </td><td>rHGG                           </td><td>0                              </td><td>0                              </td><td>1                              </td></tr>\n",
       "\t<tr><th scope=row>242</th><td>2927                           </td><td>8068                           </td><td>8352                           </td><td>5/23/10                        </td><td>5/28/10                        </td><td>Grade IV                       </td><td>Glioblastoma                   </td><td>8352 T4                        </td><td>3                              </td><td>1                              </td><td>0                              </td><td>2                              </td><td>1                              </td><td>47.24                          </td><td>f                              </td><td>4.10                           </td><td>1.10                           </td><td>0.66                           </td><td>1.04                           </td><td>3.37                           </td><td>  NA                           </td><td>  NA                           </td><td>  NA                           </td><td>  NA                           </td><td>  NA                           </td><td>  NA                           </td><td>  NA                           </td><td>  NA                           </td><td>  NA                           </td><td>  NA                           </td><td>  NA                           </td><td>NA                             </td><td>NA                             </td><td>NA                             </td><td>NA                             </td><td>   NA                          </td><td>   NA                          </td><td>  NA                           </td><td>  NA                           </td><td>  NA                           </td><td>  NA                           </td><td>  NA                           </td><td>  NA                           </td><td>  NA                           </td><td>1                              </td><td>0                              </td><td>                               </td><td>NA                             </td><td>NA                             </td><td>NA                             </td><td>NA                             </td><td>1                              </td><td>1                              </td><td>0                              </td><td>1                              </td><td>0                              </td><td>0                              </td><td>1                              </td><td>0                              </td><td>NA                             </td><td>NA                             </td><td>NA                             </td><td>NA                             </td><td>0                              </td><td>0                              </td><td>0                              </td><td>0                              </td><td>0                              </td><td>rHGG                           </td><td>0                              </td><td>0                              </td><td>1                              </td></tr>\n",
       "\t<tr><th scope=row>243</th><td>2262                           </td><td>6891                           </td><td>8393                           </td><td>6/25/10                        </td><td>6/25/10                        </td><td>Treatment Effect               </td><td>Treatment Effect               </td><td>8393 B2                        </td><td>1                              </td><td>0                              </td><td>2                              </td><td>0                              </td><td>0                              </td><td> 4.10                          </td><td>f                              </td><td>2.56                           </td><td>1.64                           </td><td>2.09                           </td><td>0.95                           </td><td>1.45                           </td><td>0.54                           </td><td>1.24                           </td><td>1.45                           </td><td>1.85                           </td><td>1.68                           </td><td>  NA                           </td><td>  NA                           </td><td>  NA                           </td><td>  NA                           </td><td>  NA                           </td><td>  NA                           </td><td>NA                             </td><td>NA                             </td><td>NA                             </td><td>NA                             </td><td>   NA                          </td><td>   NA                          </td><td>  NA                           </td><td>  NA                           </td><td>  NA                           </td><td>  NA                           </td><td>  NA                           </td><td>  NA                           </td><td>  NA                           </td><td>1                              </td><td>0                              </td><td>                               </td><td>NA                             </td><td>NA                             </td><td>NA                             </td><td>NA                             </td><td>1                              </td><td>1                              </td><td>0                              </td><td>1                              </td><td>0                              </td><td>0                              </td><td>1                              </td><td>0                              </td><td>NA                             </td><td>NA                             </td><td>NA                             </td><td>NA                             </td><td>1                              </td><td>1                              </td><td>0                              </td><td>0                              </td><td>1                              </td><td>Ts1DNI                         </td><td>0                              </td><td>0                              </td><td>0                              </td></tr>\n",
       "\t<tr><th scope=row>244</th><td>2262                           </td><td>6891                           </td><td>8393                           </td><td>6/25/10                        </td><td>6/25/10                        </td><td>Treatment Effect               </td><td>Treatment Effect               </td><td>8393 B3                        </td><td>0                              </td><td>0                              </td><td>2                              </td><td>0                              </td><td>0                              </td><td> 0.00                          </td><td>f                              </td><td>2.34                           </td><td>2.01                           </td><td>1.14                           </td><td>1.04                           </td><td>1.79                           </td><td>0.96                           </td><td>1.73                           </td><td>1.62                           </td><td>2.16                           </td><td>1.92                           </td><td>  NA                           </td><td>  NA                           </td><td>  NA                           </td><td>  NA                           </td><td>  NA                           </td><td>  NA                           </td><td>NA                             </td><td>NA                             </td><td>NA                             </td><td>NA                             </td><td>-0.23                          </td><td>-1.18                          </td><td>0.77                           </td><td>0.54                           </td><td>0.82                           </td><td>0.64                           </td><td>0.19                           </td><td>0.27                           </td><td>0.08                           </td><td>1                              </td><td>0                              </td><td>                               </td><td>NA                             </td><td>NA                             </td><td>NA                             </td><td> 0                             </td><td>1                              </td><td>1                              </td><td>0                              </td><td>1                              </td><td>0                              </td><td>1                              </td><td>1                              </td><td>0                              </td><td>NA                             </td><td>NA                             </td><td>NA                             </td><td>NA                             </td><td>0                              </td><td>1                              </td><td>1                              </td><td>0                              </td><td>1                              </td><td>TxE                            </td><td>0                              </td><td>0                              </td><td>1                              </td></tr>\n",
       "\t<tr><th scope=row>245</th><td>2262                           </td><td>6891                           </td><td>8393                           </td><td>6/25/10                        </td><td>6/25/10                        </td><td>Treatment Effect               </td><td>Treatment Effect               </td><td>8393 Y1                        </td><td>0                              </td><td>0                              </td><td>2                              </td><td>0                              </td><td>0                              </td><td> 0.00                          </td><td>f                              </td><td>3.47                           </td><td>1.78                           </td><td>1.89                           </td><td>0.87                           </td><td>1.63                           </td><td>0.54                           </td><td>1.35                           </td><td>1.73                           </td><td>2.08                           </td><td>1.95                           </td><td>  NA                           </td><td>  NA                           </td><td>  NA                           </td><td>  NA                           </td><td>  NA                           </td><td>  NA                           </td><td>NA                             </td><td>NA                             </td><td>NA                             </td><td>NA                             </td><td>   NA                          </td><td>   NA                          </td><td>  NA                           </td><td>  NA                           </td><td>  NA                           </td><td>  NA                           </td><td>  NA                           </td><td>  NA                           </td><td>  NA                           </td><td>1                              </td><td>0                              </td><td>                               </td><td>NA                             </td><td>NA                             </td><td>NA                             </td><td>NA                             </td><td>1                              </td><td>1                              </td><td>0                              </td><td>1                              </td><td>0                              </td><td>0                              </td><td>1                              </td><td>0                              </td><td>NA                             </td><td>NA                             </td><td>NA                             </td><td>NA                             </td><td>1                              </td><td>1                              </td><td>0                              </td><td>0                              </td><td>1                              </td><td>TxE                            </td><td>0                              </td><td>0                              </td><td>1                              </td></tr>\n",
       "\t<tr><th scope=row>252</th><td>2994                           </td><td>7055                           </td><td>8491                           </td><td>9/16/10                        </td><td>9/17/10                        </td><td>Grade IV                       </td><td>Glioblastoma                   </td><td>8491 B3                        </td><td>3                              </td><td>1                              </td><td>1                              </td><td>2                              </td><td>0                              </td><td>24.11                          </td><td>f                              </td><td>1.80                           </td><td>1.14                           </td><td>2.31                           </td><td>0.91                           </td><td>1.28                           </td><td>0.61                           </td><td>1.12                           </td><td>1.29                           </td><td>1.55                           </td><td>1.42                           </td><td>1.12                           </td><td>0.63                           </td><td>1.01                           </td><td>1.17                           </td><td>1.38                           </td><td>1.29                           </td><td>NA                             </td><td>NA                             </td><td>NA                             </td><td>NA                             </td><td>   NA                          </td><td>   NA                          </td><td>  NA                           </td><td>  NA                           </td><td>  NA                           </td><td>  NA                           </td><td>  NA                           </td><td>  NA                           </td><td>  NA                           </td><td>1                              </td><td>0                              </td><td>                               </td><td>NA                             </td><td>NA                             </td><td>NA                             </td><td>NA                             </td><td>1                              </td><td>1                              </td><td>1                              </td><td>1                              </td><td>0                              </td><td>0                              </td><td>1                              </td><td>0                              </td><td>NA                             </td><td>NA                             </td><td>NA                             </td><td>NA                             </td><td>1                              </td><td>0                              </td><td>0                              </td><td>0                              </td><td>1                              </td><td>rHGG                           </td><td>0                              </td><td>0                              </td><td>1                              </td></tr>\n",
       "\t<tr><th scope=row>253</th><td>2994                           </td><td>7055                           </td><td>8491                           </td><td>9/16/10                        </td><td>9/17/10                        </td><td>Grade IV                       </td><td>Glioblastoma                   </td><td>8491 V1                        </td><td>3                              </td><td>2                              </td><td>0                              </td><td>2                              </td><td>1                              </td><td>44.64                          </td><td>f                              </td><td>2.37                           </td><td>0.95                           </td><td>1.54                           </td><td>0.78                           </td><td>1.38                           </td><td>0.50                           </td><td>1.18                           </td><td>1.40                           </td><td>1.73                           </td><td>1.56                           </td><td>1.14                           </td><td>0.43                           </td><td>0.97                           </td><td>1.15                           </td><td>1.45                           </td><td>1.30                           </td><td>NA                             </td><td>NA                             </td><td>NA                             </td><td>NA                             </td><td> 4.48                          </td><td> 5.42                          </td><td>0.47                           </td><td>1.79                           </td><td>0.51                           </td><td>0.29                           </td><td>0.55                           </td><td>1.18                           </td><td>0.63                           </td><td>1                              </td><td>0                              </td><td>                               </td><td>NA                             </td><td>NA                             </td><td>NA                             </td><td> 0                             </td><td>1                              </td><td>1                              </td><td>1                              </td><td>1                              </td><td>0                              </td><td>1                              </td><td>1                              </td><td>0                              </td><td>NA                             </td><td>NA                             </td><td>NA                             </td><td>NA                             </td><td>1                              </td><td>0                              </td><td>0                              </td><td>0                              </td><td>1                              </td><td>NecDNI                         </td><td>0                              </td><td>0                              </td><td>0                              </td></tr>\n",
       "\t<tr><th scope=row>254</th><td>2994                           </td><td>7055                           </td><td>8491                           </td><td>9/16/10                        </td><td>9/17/10                        </td><td>Grade IV                       </td><td>Glioblastoma                   </td><td>8491 Y2                        </td><td>2                              </td><td>0                              </td><td>2                              </td><td>0                              </td><td>0                              </td><td>41.46                          </td><td>f                              </td><td>1.69                           </td><td>1.17                           </td><td>2.42                           </td><td>0.99                           </td><td>1.11                           </td><td>0.94                           </td><td>1.00                           </td><td>1.13                           </td><td>1.29                           </td><td>1.22                           </td><td>1.09                           </td><td>0.63                           </td><td>0.97                           </td><td>1.08                           </td><td>1.29                           </td><td>1.20                           </td><td>NA                             </td><td>NA                             </td><td>NA                             </td><td>NA                             </td><td> 7.18                          </td><td> 5.22                          </td><td>2.97                           </td><td>2.41                           </td><td>1.36                           </td><td>0.35                           </td><td>0.33                           </td><td>0.74                           </td><td>0.41                           </td><td>1                              </td><td>0                              </td><td>                               </td><td>NA                             </td><td>NA                             </td><td>NA                             </td><td> 0                             </td><td>1                              </td><td>1                              </td><td>1                              </td><td>1                              </td><td>0                              </td><td>1                              </td><td>1                              </td><td>0                              </td><td>NA                             </td><td>NA                             </td><td>NA                             </td><td>NA                             </td><td>1                              </td><td>0                              </td><td>0                              </td><td>0                              </td><td>1                              </td><td>rHGG                           </td><td>0                              </td><td>0                              </td><td>1                              </td></tr>\n",
       "\t<tr><th scope=row>265</th><td>3084                           </td><td>7332                           </td><td>8653                           </td><td>2/10/11                        </td><td>2/11/11                        </td><td>Grade IV                       </td><td>Glioblastoma                   </td><td>8653 B1                        </td><td>Ind                            </td><td>2                              </td><td>Indeterminable                 </td><td>Indeterminable                 </td><td>Indeterminable                 </td><td>   NA                          </td><td>t                              </td><td>  NA                           </td><td>  NA                           </td><td>  NA                           </td><td>  NA                           </td><td>  NA                           </td><td>  NA                           </td><td>  NA                           </td><td>  NA                           </td><td>  NA                           </td><td>  NA                           </td><td>  NA                           </td><td>  NA                           </td><td>  NA                           </td><td>  NA                           </td><td>  NA                           </td><td>  NA                           </td><td>NA                             </td><td>NA                             </td><td>NA                             </td><td>NA                             </td><td>   NA                          </td><td>   NA                          </td><td>  NA                           </td><td>  NA                           </td><td>  NA                           </td><td>  NA                           </td><td>  NA                           </td><td>  NA                           </td><td>  NA                           </td><td>1                              </td><td>0                              </td><td>necrosis 100%                  </td><td>NA                             </td><td>biopsy_quant                   </td><td>NA                             </td><td>NA                             </td><td>0                              </td><td>0                              </td><td>0                              </td><td>0                              </td><td>0                              </td><td>0                              </td><td>0                              </td><td>0                              </td><td>NA                             </td><td>NA                             </td><td>NA                             </td><td>NA                             </td><td>0                              </td><td>0                              </td><td>0                              </td><td>0                              </td><td>0                              </td><td>NecDNI                         </td><td>0                              </td><td>0                              </td><td>0                              </td></tr>\n",
       "\t<tr><th scope=row>266</th><td>3084                           </td><td>7332                           </td><td>8653                           </td><td>2/10/11                        </td><td>2/11/11                        </td><td>Grade IV                       </td><td>Glioblastoma                   </td><td>8653 B2                        </td><td>1                              </td><td>0                              </td><td>2                              </td><td>1                              </td><td>0                              </td><td> 9.11                          </td><td>f                              </td><td>  NA                           </td><td>  NA                           </td><td>  NA                           </td><td>  NA                           </td><td>  NA                           </td><td>  NA                           </td><td>  NA                           </td><td>  NA                           </td><td>  NA                           </td><td>  NA                           </td><td>  NA                           </td><td>  NA                           </td><td>  NA                           </td><td>  NA                           </td><td>  NA                           </td><td>  NA                           </td><td>NA                             </td><td>NA                             </td><td>NA                             </td><td>NA                             </td><td>   NA                          </td><td>   NA                          </td><td>  NA                           </td><td>  NA                           </td><td>  NA                           </td><td>  NA                           </td><td>  NA                           </td><td>  NA                           </td><td>  NA                           </td><td>1                              </td><td>0                              </td><td>                               </td><td>NA                             </td><td>biopsy_quant                   </td><td>NA                             </td><td>NA                             </td><td>0                              </td><td>0                              </td><td>0                              </td><td>0                              </td><td>0                              </td><td>0                              </td><td>0                              </td><td>0                              </td><td>NA                             </td><td>NA                             </td><td>NA                             </td><td>NA                             </td><td>0                              </td><td>0                              </td><td>0                              </td><td>0                              </td><td>0                              </td><td>Ts1DNI                         </td><td>0                              </td><td>0                              </td><td>0                              </td></tr>\n",
       "</tbody>\n",
       "</table>\n"
      ],
      "text/latex": [
       "\\begin{tabular}{r|llllllllllllllllllllllllllllllllllllllllllllllllllllllllllllllllllllllll}\n",
       "  & b\\_number & t\\_number & sf\\_number & current\\_scan\\_date & current\\_surgery\\_date & current\\_hist\\_grade & current\\_hist\\_type & roi.label & tumor\\_cell\\_evaluation & necrosis & f8\\_delicate & f8\\_simple & f8\\_complex & mib\\_1 & bx\\_pure\\_treatment\\_effect & nfse & nfl & nt1c & nt1v & nadc.1 & nfa.1 & nev1.1 & nev2.1 & nev3.1 & nevrad.1 & nadc.2 & nfa.2 & nev1.2 & nev2.2 & nev3.2 & nevrad.2 & cbvn\\_nlin & phn\\_nlin & phn\\_npar & recovn\\_npar & cni & ccri & crni & ncho & ncre & nnaa & nlip & laclip & nlac & olddata & newdata & comments & notes. & imaging\\_code & perf\\_quant & spec\\_quant & include\\_anat & include\\_diffu1000 & include\\_diffu2000 & include\\_diffu\\_all & include\\_perf & include\\_spec & include\\_one\\_advanced\\_mod & include\\_all\\_advanced\\_mods & X.CEL & X.NEL & X.NEC & sum & in\\_CEL & in\\_T2all & in\\_NEL & in\\_NEC & in\\_ROI & multnom\\_out & no\\_ffpe & waiting\\_on\\_path & rhgg\\_txe\\_analysis\\\\\n",
       "\\hline\n",
       "\t210 & 2273                            & 5934                            & 7909                            & 1/11/09                         & 1/12/09                         & Grade IV                        & Glioblastoma                    & 7909 T1                         & 3                               & 0                               & 1                               & 3                               & 1                               & 27.57                           & f                               &   NA                            &   NA                            &   NA                            &   NA                            &   NA                            &   NA                            &   NA                            &   NA                            &   NA                            &   NA                            &   NA                            &   NA                            &   NA                            &   NA                            &   NA                            &   NA                            & NA                              & NA                              & NA                              & NA                              &    NA                           &    NA                           &   NA                            &   NA                            &   NA                            &   NA                            &   NA                            &   NA                            &   NA                            & 1                               & 0                               &                                 & NA                              & biopsy\\_quant                  & NA                              & NA                              & 0                               & 0                               & 0                               & 0                               & 0                               & 0                               & 0                               & 0                               & NA                              & NA                              & NA                              & NA                              & 0                               & 0                               & 0                               & 0                               & 0                               & rHGG                            & 0                               & 0                               & 1                              \\\\\n",
       "\t211 & 2273                            & 5934                            & 7909                            & 1/11/09                         & 1/12/09                         & Grade IV                        & Glioblastoma                    & 7909 T2                         & 0                               & 0                               & 2                               & 0                               & 0                               &  0.00                           & f                               &   NA                            &   NA                            &   NA                            &   NA                            &   NA                            &   NA                            &   NA                            &   NA                            &   NA                            &   NA                            &   NA                            &   NA                            &   NA                            &   NA                            &   NA                            &   NA                            & NA                              & NA                              & NA                              & NA                              &    NA                           &    NA                           &   NA                            &   NA                            &   NA                            &   NA                            &   NA                            &   NA                            &   NA                            & 1                               & 0                               &                                 & NA                              & biopsy\\_quant                  & NA                              & NA                              & 0                               & 0                               & 0                               & 0                               & 0                               & 0                               & 0                               & 0                               & NA                              & NA                              & NA                              & NA                              & 0                               & 0                               & 0                               & 0                               & 0                               & PN                              & 0                               & 0                               & 0                              \\\\\n",
       "\t212 & 2273                            & 5934                            & 7909                            & 1/11/09                         & 1/12/09                         & Grade IV                        & Glioblastoma                    & 7909 T3                         & 2                               & 0                               & 3                               & 0                               & 0                               & 14.89                           & f                               &   NA                            &   NA                            &   NA                            &   NA                            &   NA                            &   NA                            &   NA                            &   NA                            &   NA                            &   NA                            &   NA                            &   NA                            &   NA                            &   NA                            &   NA                            &   NA                            & NA                              & NA                              & NA                              & NA                              &    NA                           &    NA                           &   NA                            &   NA                            &   NA                            &   NA                            &   NA                            &   NA                            &   NA                            & 1                               & 0                               &                                 & NA                              & biopsy\\_quant                  & NA                              & NA                              & 0                               & 0                               & 0                               & 0                               & 0                               & 0                               & 0                               & 0                               & NA                              & NA                              & NA                              & NA                              & 0                               & 0                               & 0                               & 0                               & 0                               & rHGG                            & 0                               & 0                               & 1                              \\\\\n",
       "\t236 & 2578                            & 6826                            & 8343                            & 5/19/10                         & 5/21/10                         & Grade IV                        & Glioblastoma                    & 8343 G3                         & 0                               & 0                               & 2                               & 0                               & 0                               &  0.66                           & f                               &   NA                            &   NA                            &   NA                            &   NA                            &   NA                            &   NA                            &   NA                            &   NA                            &   NA                            &   NA                            &   NA                            &   NA                            &   NA                            &   NA                            &   NA                            &   NA                            & NA                              & NA                              & NA                              & NA                              &    NA                           &    NA                           &   NA                            &   NA                            &   NA                            &   NA                            &   NA                            &   NA                            &   NA                            & 1                               & 0                               &                                 & NA                              & biopsy\\_quant                  & NA                              & NA                              & 0                               & 0                               & 0                               & 0                               & 0                               & 0                               & 0                               & 0                               & NA                              & NA                              & NA                              & NA                              & 0                               & 0                               & 0                               & 0                               & 0                               & PN                              & 0                               & 0                               & 0                              \\\\\n",
       "\t237 & 2578                            & 6826                            & 8343                            & 5/19/10                         & 5/21/10                         & Grade IV                        & Glioblastoma                    & 8343 P2                         & 1                               & 0                               & 2                               & 0                               & 0                               & 30.72                           & f                               &   NA                            &   NA                            &   NA                            &   NA                            &   NA                            &   NA                            &   NA                            &   NA                            &   NA                            &   NA                            &   NA                            &   NA                            &   NA                            &   NA                            &   NA                            &   NA                            & NA                              & NA                              & NA                              & NA                              &    NA                           &    NA                           &   NA                            &   NA                            &   NA                            &   NA                            &   NA                            &   NA                            &   NA                            & 1                               & 0                               &                                 & NA                              & biopsy\\_quant                  & NA                              & NA                              & 0                               & 0                               & 0                               & 0                               & 0                               & 0                               & 0                               & 0                               & NA                              & NA                              & NA                              & NA                              & 0                               & 0                               & 0                               & 0                               & 0                               & Ts1DNI                          & 0                               & 0                               & 0                              \\\\\n",
       "\t238 & 2578                            & 6826                            & 8343                            & 5/19/10                         & 5/21/10                         & Grade IV                        & Glioblastoma                    & 8343 Y1                         & 0                               & 0                               & 2                               & 0                               & 0                               &  0.00                           & f                               &   NA                            &   NA                            &   NA                            &   NA                            &   NA                            &   NA                            &   NA                            &   NA                            &   NA                            &   NA                            &   NA                            &   NA                            &   NA                            &   NA                            &   NA                            &   NA                            & NA                              & NA                              & NA                              & NA                              &    NA                           &    NA                           &   NA                            &   NA                            &   NA                            &   NA                            &   NA                            &   NA                            &   NA                            & 1                               & 0                               & small cell GBM?, PNET component & NA                              & biopsy\\_quant                  & NA                              & NA                              & 0                               & 0                               & 0                               & 0                               & 0                               & 0                               & 0                               & 0                               & NA                              & NA                              & NA                              & NA                              & 0                               & 0                               & 0                               & 0                               & 0                               & PN                              & 0                               & 0                               & 0                              \\\\\n",
       "\t239 & 2927                            & 8068                            & 8352                            & 5/23/10                         & 5/28/10                         & Grade IV                        & Glioblastoma                    & 8352 T1                         & 3                               & 1                               & 0                               & 3                               & 0                               & 48.73                           & f                               & 2.13                            & 1.41                            & 1.09                            & 1.06                            & 0.90                            &   NA                            &   NA                            &   NA                            &   NA                            &   NA                            &   NA                            &   NA                            &   NA                            &   NA                            &   NA                            &   NA                            & NA                              & NA                              & NA                              & NA                              &    NA                           &    NA                           &   NA                            &   NA                            &   NA                            &   NA                            &   NA                            &   NA                            &   NA                            & 1                               & 0                               &                                 & NA                              & NA                              & NA                              & NA                              & 1                               & 1                               & 0                               & 1                               & 0                               & 0                               & 1                               & 0                               & NA                              & NA                              & NA                              & NA                              & 0                               & 1                               & 1                               & 0                               & 1                               & rHGG                            & 0                               & 0                               & 1                              \\\\\n",
       "\t240 & 2927                            & 8068                            & 8352                            & 5/23/10                         & 5/28/10                         & Grade IV                        & Glioblastoma                    & 8352 T2                         & 3                               & 1                               & 0                               & 2                               & 1                               & 51.27                           & f                               & 1.01                            & 1.12                            & 1.00                            & 1.19                            & 1.03                            &   NA                            &   NA                            &   NA                            &   NA                            &   NA                            &   NA                            &   NA                            &   NA                            &   NA                            &   NA                            &   NA                            & NA                              & NA                              & NA                              & NA                              &    NA                           &    NA                           &   NA                            &   NA                            &   NA                            &   NA                            &   NA                            &   NA                            &   NA                            & 1                               & 0                               &                                 & NA                              & NA                              & NA                              & NA                              & 1                               & 1                               & 0                               & 1                               & 0                               & 0                               & 1                               & 0                               & NA                              & NA                              & NA                              & NA                              & 0                               & 0                               & 0                               & 0                               & 0                               & rHGG                            & 0                               & 0                               & 1                              \\\\\n",
       "\t241 & 2927                            & 8068                            & 8352                            & 5/23/10                         & 5/28/10                         & Grade IV                        & Glioblastoma                    & 8352 T3                         & 3                               & 1                               & 0                               & 2                               & 1                               & 60.86                           & f                               & 1.84                            & 1.26                            & 1.16                            & 1.11                            & 0.94                            &   NA                            &   NA                            &   NA                            &   NA                            &   NA                            &   NA                            &   NA                            &   NA                            &   NA                            &   NA                            &   NA                            & NA                              & NA                              & NA                              & NA                              &    NA                           &    NA                           &   NA                            &   NA                            &   NA                            &   NA                            &   NA                            &   NA                            &   NA                            & 1                               & 0                               &                                 & NA                              & NA                              & NA                              & NA                              & 1                               & 1                               & 0                               & 1                               & 0                               & 0                               & 1                               & 0                               & NA                              & NA                              & NA                              & NA                              & 0                               & 1                               & 1                               & 0                               & 1                               & rHGG                            & 0                               & 0                               & 1                              \\\\\n",
       "\t242 & 2927                            & 8068                            & 8352                            & 5/23/10                         & 5/28/10                         & Grade IV                        & Glioblastoma                    & 8352 T4                         & 3                               & 1                               & 0                               & 2                               & 1                               & 47.24                           & f                               & 4.10                            & 1.10                            & 0.66                            & 1.04                            & 3.37                            &   NA                            &   NA                            &   NA                            &   NA                            &   NA                            &   NA                            &   NA                            &   NA                            &   NA                            &   NA                            &   NA                            & NA                              & NA                              & NA                              & NA                              &    NA                           &    NA                           &   NA                            &   NA                            &   NA                            &   NA                            &   NA                            &   NA                            &   NA                            & 1                               & 0                               &                                 & NA                              & NA                              & NA                              & NA                              & 1                               & 1                               & 0                               & 1                               & 0                               & 0                               & 1                               & 0                               & NA                              & NA                              & NA                              & NA                              & 0                               & 0                               & 0                               & 0                               & 0                               & rHGG                            & 0                               & 0                               & 1                              \\\\\n",
       "\t243 & 2262                            & 6891                            & 8393                            & 6/25/10                         & 6/25/10                         & Treatment Effect                & Treatment Effect                & 8393 B2                         & 1                               & 0                               & 2                               & 0                               & 0                               &  4.10                           & f                               & 2.56                            & 1.64                            & 2.09                            & 0.95                            & 1.45                            & 0.54                            & 1.24                            & 1.45                            & 1.85                            & 1.68                            &   NA                            &   NA                            &   NA                            &   NA                            &   NA                            &   NA                            & NA                              & NA                              & NA                              & NA                              &    NA                           &    NA                           &   NA                            &   NA                            &   NA                            &   NA                            &   NA                            &   NA                            &   NA                            & 1                               & 0                               &                                 & NA                              & NA                              & NA                              & NA                              & 1                               & 1                               & 0                               & 1                               & 0                               & 0                               & 1                               & 0                               & NA                              & NA                              & NA                              & NA                              & 1                               & 1                               & 0                               & 0                               & 1                               & Ts1DNI                          & 0                               & 0                               & 0                              \\\\\n",
       "\t244 & 2262                            & 6891                            & 8393                            & 6/25/10                         & 6/25/10                         & Treatment Effect                & Treatment Effect                & 8393 B3                         & 0                               & 0                               & 2                               & 0                               & 0                               &  0.00                           & f                               & 2.34                            & 2.01                            & 1.14                            & 1.04                            & 1.79                            & 0.96                            & 1.73                            & 1.62                            & 2.16                            & 1.92                            &   NA                            &   NA                            &   NA                            &   NA                            &   NA                            &   NA                            & NA                              & NA                              & NA                              & NA                              & -0.23                           & -1.18                           & 0.77                            & 0.54                            & 0.82                            & 0.64                            & 0.19                            & 0.27                            & 0.08                            & 1                               & 0                               &                                 & NA                              & NA                              & NA                              &  0                              & 1                               & 1                               & 0                               & 1                               & 0                               & 1                               & 1                               & 0                               & NA                              & NA                              & NA                              & NA                              & 0                               & 1                               & 1                               & 0                               & 1                               & TxE                             & 0                               & 0                               & 1                              \\\\\n",
       "\t245 & 2262                            & 6891                            & 8393                            & 6/25/10                         & 6/25/10                         & Treatment Effect                & Treatment Effect                & 8393 Y1                         & 0                               & 0                               & 2                               & 0                               & 0                               &  0.00                           & f                               & 3.47                            & 1.78                            & 1.89                            & 0.87                            & 1.63                            & 0.54                            & 1.35                            & 1.73                            & 2.08                            & 1.95                            &   NA                            &   NA                            &   NA                            &   NA                            &   NA                            &   NA                            & NA                              & NA                              & NA                              & NA                              &    NA                           &    NA                           &   NA                            &   NA                            &   NA                            &   NA                            &   NA                            &   NA                            &   NA                            & 1                               & 0                               &                                 & NA                              & NA                              & NA                              & NA                              & 1                               & 1                               & 0                               & 1                               & 0                               & 0                               & 1                               & 0                               & NA                              & NA                              & NA                              & NA                              & 1                               & 1                               & 0                               & 0                               & 1                               & TxE                             & 0                               & 0                               & 1                              \\\\\n",
       "\t252 & 2994                            & 7055                            & 8491                            & 9/16/10                         & 9/17/10                         & Grade IV                        & Glioblastoma                    & 8491 B3                         & 3                               & 1                               & 1                               & 2                               & 0                               & 24.11                           & f                               & 1.80                            & 1.14                            & 2.31                            & 0.91                            & 1.28                            & 0.61                            & 1.12                            & 1.29                            & 1.55                            & 1.42                            & 1.12                            & 0.63                            & 1.01                            & 1.17                            & 1.38                            & 1.29                            & NA                              & NA                              & NA                              & NA                              &    NA                           &    NA                           &   NA                            &   NA                            &   NA                            &   NA                            &   NA                            &   NA                            &   NA                            & 1                               & 0                               &                                 & NA                              & NA                              & NA                              & NA                              & 1                               & 1                               & 1                               & 1                               & 0                               & 0                               & 1                               & 0                               & NA                              & NA                              & NA                              & NA                              & 1                               & 0                               & 0                               & 0                               & 1                               & rHGG                            & 0                               & 0                               & 1                              \\\\\n",
       "\t253 & 2994                            & 7055                            & 8491                            & 9/16/10                         & 9/17/10                         & Grade IV                        & Glioblastoma                    & 8491 V1                         & 3                               & 2                               & 0                               & 2                               & 1                               & 44.64                           & f                               & 2.37                            & 0.95                            & 1.54                            & 0.78                            & 1.38                            & 0.50                            & 1.18                            & 1.40                            & 1.73                            & 1.56                            & 1.14                            & 0.43                            & 0.97                            & 1.15                            & 1.45                            & 1.30                            & NA                              & NA                              & NA                              & NA                              &  4.48                           &  5.42                           & 0.47                            & 1.79                            & 0.51                            & 0.29                            & 0.55                            & 1.18                            & 0.63                            & 1                               & 0                               &                                 & NA                              & NA                              & NA                              &  0                              & 1                               & 1                               & 1                               & 1                               & 0                               & 1                               & 1                               & 0                               & NA                              & NA                              & NA                              & NA                              & 1                               & 0                               & 0                               & 0                               & 1                               & NecDNI                          & 0                               & 0                               & 0                              \\\\\n",
       "\t254 & 2994                            & 7055                            & 8491                            & 9/16/10                         & 9/17/10                         & Grade IV                        & Glioblastoma                    & 8491 Y2                         & 2                               & 0                               & 2                               & 0                               & 0                               & 41.46                           & f                               & 1.69                            & 1.17                            & 2.42                            & 0.99                            & 1.11                            & 0.94                            & 1.00                            & 1.13                            & 1.29                            & 1.22                            & 1.09                            & 0.63                            & 0.97                            & 1.08                            & 1.29                            & 1.20                            & NA                              & NA                              & NA                              & NA                              &  7.18                           &  5.22                           & 2.97                            & 2.41                            & 1.36                            & 0.35                            & 0.33                            & 0.74                            & 0.41                            & 1                               & 0                               &                                 & NA                              & NA                              & NA                              &  0                              & 1                               & 1                               & 1                               & 1                               & 0                               & 1                               & 1                               & 0                               & NA                              & NA                              & NA                              & NA                              & 1                               & 0                               & 0                               & 0                               & 1                               & rHGG                            & 0                               & 0                               & 1                              \\\\\n",
       "\t265 & 3084                              & 7332                              & 8653                              & 2/10/11                           & 2/11/11                           & Grade IV                          & Glioblastoma                      & 8653 B1                           & Ind                               & 2                                 & Indeterminable                    & Indeterminable                    & Indeterminable                    &    NA                             & t                                 &   NA                              &   NA                              &   NA                              &   NA                              &   NA                              &   NA                              &   NA                              &   NA                              &   NA                              &   NA                              &   NA                              &   NA                              &   NA                              &   NA                              &   NA                              &   NA                              & NA                                & NA                                & NA                                & NA                                &    NA                             &    NA                             &   NA                              &   NA                              &   NA                              &   NA                              &   NA                              &   NA                              &   NA                              & 1                                 & 0                                 & necrosis 100\\%                   & NA                                & biopsy\\_quant                    & NA                                & NA                                & 0                                 & 0                                 & 0                                 & 0                                 & 0                                 & 0                                 & 0                                 & 0                                 & NA                                & NA                                & NA                                & NA                                & 0                                 & 0                                 & 0                                 & 0                                 & 0                                 & NecDNI                            & 0                                 & 0                                 & 0                                \\\\\n",
       "\t266 & 3084                            & 7332                            & 8653                            & 2/10/11                         & 2/11/11                         & Grade IV                        & Glioblastoma                    & 8653 B2                         & 1                               & 0                               & 2                               & 1                               & 0                               &  9.11                           & f                               &   NA                            &   NA                            &   NA                            &   NA                            &   NA                            &   NA                            &   NA                            &   NA                            &   NA                            &   NA                            &   NA                            &   NA                            &   NA                            &   NA                            &   NA                            &   NA                            & NA                              & NA                              & NA                              & NA                              &    NA                           &    NA                           &   NA                            &   NA                            &   NA                            &   NA                            &   NA                            &   NA                            &   NA                            & 1                               & 0                               &                                 & NA                              & biopsy\\_quant                  & NA                              & NA                              & 0                               & 0                               & 0                               & 0                               & 0                               & 0                               & 0                               & 0                               & NA                              & NA                              & NA                              & NA                              & 0                               & 0                               & 0                               & 0                               & 0                               & Ts1DNI                          & 0                               & 0                               & 0                              \\\\\n",
       "\\end{tabular}\n"
      ],
      "text/markdown": [
       "\n",
       "| <!--/--> | b_number | t_number | sf_number | current_scan_date | current_surgery_date | current_hist_grade | current_hist_type | roi.label | tumor_cell_evaluation | necrosis | f8_delicate | f8_simple | f8_complex | mib_1 | bx_pure_treatment_effect | nfse | nfl | nt1c | nt1v | nadc.1 | nfa.1 | nev1.1 | nev2.1 | nev3.1 | nevrad.1 | nadc.2 | nfa.2 | nev1.2 | nev2.2 | nev3.2 | nevrad.2 | cbvn_nlin | phn_nlin | phn_npar | recovn_npar | cni | ccri | crni | ncho | ncre | nnaa | nlip | laclip | nlac | olddata | newdata | comments | notes. | imaging_code | perf_quant | spec_quant | include_anat | include_diffu1000 | include_diffu2000 | include_diffu_all | include_perf | include_spec | include_one_advanced_mod | include_all_advanced_mods | X.CEL | X.NEL | X.NEC | sum | in_CEL | in_T2all | in_NEL | in_NEC | in_ROI | multnom_out | no_ffpe | waiting_on_path | rhgg_txe_analysis | \n",
       "|---|---|---|---|---|---|---|---|---|---|---|---|---|---|---|---|---|---|\n",
       "| 210 | 2273                            | 5934                            | 7909                            | 1/11/09                         | 1/12/09                         | Grade IV                        | Glioblastoma                    | 7909 T1                         | 3                               | 0                               | 1                               | 3                               | 1                               | 27.57                           | f                               |   NA                            |   NA                            |   NA                            |   NA                            |   NA                            |   NA                            |   NA                            |   NA                            |   NA                            |   NA                            |   NA                            |   NA                            |   NA                            |   NA                            |   NA                            |   NA                            | NA                              | NA                              | NA                              | NA                              |    NA                           |    NA                           |   NA                            |   NA                            |   NA                            |   NA                            |   NA                            |   NA                            |   NA                            | 1                               | 0                               |                                 | NA                              | biopsy_quant                    | NA                              | NA                              | 0                               | 0                               | 0                               | 0                               | 0                               | 0                               | 0                               | 0                               | NA                              | NA                              | NA                              | NA                              | 0                               | 0                               | 0                               | 0                               | 0                               | rHGG                            | 0                               | 0                               | 1                               | \n",
       "| 211 | 2273                            | 5934                            | 7909                            | 1/11/09                         | 1/12/09                         | Grade IV                        | Glioblastoma                    | 7909 T2                         | 0                               | 0                               | 2                               | 0                               | 0                               |  0.00                           | f                               |   NA                            |   NA                            |   NA                            |   NA                            |   NA                            |   NA                            |   NA                            |   NA                            |   NA                            |   NA                            |   NA                            |   NA                            |   NA                            |   NA                            |   NA                            |   NA                            | NA                              | NA                              | NA                              | NA                              |    NA                           |    NA                           |   NA                            |   NA                            |   NA                            |   NA                            |   NA                            |   NA                            |   NA                            | 1                               | 0                               |                                 | NA                              | biopsy_quant                    | NA                              | NA                              | 0                               | 0                               | 0                               | 0                               | 0                               | 0                               | 0                               | 0                               | NA                              | NA                              | NA                              | NA                              | 0                               | 0                               | 0                               | 0                               | 0                               | PN                              | 0                               | 0                               | 0                               | \n",
       "| 212 | 2273                            | 5934                            | 7909                            | 1/11/09                         | 1/12/09                         | Grade IV                        | Glioblastoma                    | 7909 T3                         | 2                               | 0                               | 3                               | 0                               | 0                               | 14.89                           | f                               |   NA                            |   NA                            |   NA                            |   NA                            |   NA                            |   NA                            |   NA                            |   NA                            |   NA                            |   NA                            |   NA                            |   NA                            |   NA                            |   NA                            |   NA                            |   NA                            | NA                              | NA                              | NA                              | NA                              |    NA                           |    NA                           |   NA                            |   NA                            |   NA                            |   NA                            |   NA                            |   NA                            |   NA                            | 1                               | 0                               |                                 | NA                              | biopsy_quant                    | NA                              | NA                              | 0                               | 0                               | 0                               | 0                               | 0                               | 0                               | 0                               | 0                               | NA                              | NA                              | NA                              | NA                              | 0                               | 0                               | 0                               | 0                               | 0                               | rHGG                            | 0                               | 0                               | 1                               | \n",
       "| 236 | 2578                            | 6826                            | 8343                            | 5/19/10                         | 5/21/10                         | Grade IV                        | Glioblastoma                    | 8343 G3                         | 0                               | 0                               | 2                               | 0                               | 0                               |  0.66                           | f                               |   NA                            |   NA                            |   NA                            |   NA                            |   NA                            |   NA                            |   NA                            |   NA                            |   NA                            |   NA                            |   NA                            |   NA                            |   NA                            |   NA                            |   NA                            |   NA                            | NA                              | NA                              | NA                              | NA                              |    NA                           |    NA                           |   NA                            |   NA                            |   NA                            |   NA                            |   NA                            |   NA                            |   NA                            | 1                               | 0                               |                                 | NA                              | biopsy_quant                    | NA                              | NA                              | 0                               | 0                               | 0                               | 0                               | 0                               | 0                               | 0                               | 0                               | NA                              | NA                              | NA                              | NA                              | 0                               | 0                               | 0                               | 0                               | 0                               | PN                              | 0                               | 0                               | 0                               | \n",
       "| 237 | 2578                            | 6826                            | 8343                            | 5/19/10                         | 5/21/10                         | Grade IV                        | Glioblastoma                    | 8343 P2                         | 1                               | 0                               | 2                               | 0                               | 0                               | 30.72                           | f                               |   NA                            |   NA                            |   NA                            |   NA                            |   NA                            |   NA                            |   NA                            |   NA                            |   NA                            |   NA                            |   NA                            |   NA                            |   NA                            |   NA                            |   NA                            |   NA                            | NA                              | NA                              | NA                              | NA                              |    NA                           |    NA                           |   NA                            |   NA                            |   NA                            |   NA                            |   NA                            |   NA                            |   NA                            | 1                               | 0                               |                                 | NA                              | biopsy_quant                    | NA                              | NA                              | 0                               | 0                               | 0                               | 0                               | 0                               | 0                               | 0                               | 0                               | NA                              | NA                              | NA                              | NA                              | 0                               | 0                               | 0                               | 0                               | 0                               | Ts1DNI                          | 0                               | 0                               | 0                               | \n",
       "| 238 | 2578                            | 6826                            | 8343                            | 5/19/10                         | 5/21/10                         | Grade IV                        | Glioblastoma                    | 8343 Y1                         | 0                               | 0                               | 2                               | 0                               | 0                               |  0.00                           | f                               |   NA                            |   NA                            |   NA                            |   NA                            |   NA                            |   NA                            |   NA                            |   NA                            |   NA                            |   NA                            |   NA                            |   NA                            |   NA                            |   NA                            |   NA                            |   NA                            | NA                              | NA                              | NA                              | NA                              |    NA                           |    NA                           |   NA                            |   NA                            |   NA                            |   NA                            |   NA                            |   NA                            |   NA                            | 1                               | 0                               | small cell GBM?, PNET component | NA                              | biopsy_quant                    | NA                              | NA                              | 0                               | 0                               | 0                               | 0                               | 0                               | 0                               | 0                               | 0                               | NA                              | NA                              | NA                              | NA                              | 0                               | 0                               | 0                               | 0                               | 0                               | PN                              | 0                               | 0                               | 0                               | \n",
       "| 239 | 2927                            | 8068                            | 8352                            | 5/23/10                         | 5/28/10                         | Grade IV                        | Glioblastoma                    | 8352 T1                         | 3                               | 1                               | 0                               | 3                               | 0                               | 48.73                           | f                               | 2.13                            | 1.41                            | 1.09                            | 1.06                            | 0.90                            |   NA                            |   NA                            |   NA                            |   NA                            |   NA                            |   NA                            |   NA                            |   NA                            |   NA                            |   NA                            |   NA                            | NA                              | NA                              | NA                              | NA                              |    NA                           |    NA                           |   NA                            |   NA                            |   NA                            |   NA                            |   NA                            |   NA                            |   NA                            | 1                               | 0                               |                                 | NA                              | NA                              | NA                              | NA                              | 1                               | 1                               | 0                               | 1                               | 0                               | 0                               | 1                               | 0                               | NA                              | NA                              | NA                              | NA                              | 0                               | 1                               | 1                               | 0                               | 1                               | rHGG                            | 0                               | 0                               | 1                               | \n",
       "| 240 | 2927                            | 8068                            | 8352                            | 5/23/10                         | 5/28/10                         | Grade IV                        | Glioblastoma                    | 8352 T2                         | 3                               | 1                               | 0                               | 2                               | 1                               | 51.27                           | f                               | 1.01                            | 1.12                            | 1.00                            | 1.19                            | 1.03                            |   NA                            |   NA                            |   NA                            |   NA                            |   NA                            |   NA                            |   NA                            |   NA                            |   NA                            |   NA                            |   NA                            | NA                              | NA                              | NA                              | NA                              |    NA                           |    NA                           |   NA                            |   NA                            |   NA                            |   NA                            |   NA                            |   NA                            |   NA                            | 1                               | 0                               |                                 | NA                              | NA                              | NA                              | NA                              | 1                               | 1                               | 0                               | 1                               | 0                               | 0                               | 1                               | 0                               | NA                              | NA                              | NA                              | NA                              | 0                               | 0                               | 0                               | 0                               | 0                               | rHGG                            | 0                               | 0                               | 1                               | \n",
       "| 241 | 2927                            | 8068                            | 8352                            | 5/23/10                         | 5/28/10                         | Grade IV                        | Glioblastoma                    | 8352 T3                         | 3                               | 1                               | 0                               | 2                               | 1                               | 60.86                           | f                               | 1.84                            | 1.26                            | 1.16                            | 1.11                            | 0.94                            |   NA                            |   NA                            |   NA                            |   NA                            |   NA                            |   NA                            |   NA                            |   NA                            |   NA                            |   NA                            |   NA                            | NA                              | NA                              | NA                              | NA                              |    NA                           |    NA                           |   NA                            |   NA                            |   NA                            |   NA                            |   NA                            |   NA                            |   NA                            | 1                               | 0                               |                                 | NA                              | NA                              | NA                              | NA                              | 1                               | 1                               | 0                               | 1                               | 0                               | 0                               | 1                               | 0                               | NA                              | NA                              | NA                              | NA                              | 0                               | 1                               | 1                               | 0                               | 1                               | rHGG                            | 0                               | 0                               | 1                               | \n",
       "| 242 | 2927                            | 8068                            | 8352                            | 5/23/10                         | 5/28/10                         | Grade IV                        | Glioblastoma                    | 8352 T4                         | 3                               | 1                               | 0                               | 2                               | 1                               | 47.24                           | f                               | 4.10                            | 1.10                            | 0.66                            | 1.04                            | 3.37                            |   NA                            |   NA                            |   NA                            |   NA                            |   NA                            |   NA                            |   NA                            |   NA                            |   NA                            |   NA                            |   NA                            | NA                              | NA                              | NA                              | NA                              |    NA                           |    NA                           |   NA                            |   NA                            |   NA                            |   NA                            |   NA                            |   NA                            |   NA                            | 1                               | 0                               |                                 | NA                              | NA                              | NA                              | NA                              | 1                               | 1                               | 0                               | 1                               | 0                               | 0                               | 1                               | 0                               | NA                              | NA                              | NA                              | NA                              | 0                               | 0                               | 0                               | 0                               | 0                               | rHGG                            | 0                               | 0                               | 1                               | \n",
       "| 243 | 2262                            | 6891                            | 8393                            | 6/25/10                         | 6/25/10                         | Treatment Effect                | Treatment Effect                | 8393 B2                         | 1                               | 0                               | 2                               | 0                               | 0                               |  4.10                           | f                               | 2.56                            | 1.64                            | 2.09                            | 0.95                            | 1.45                            | 0.54                            | 1.24                            | 1.45                            | 1.85                            | 1.68                            |   NA                            |   NA                            |   NA                            |   NA                            |   NA                            |   NA                            | NA                              | NA                              | NA                              | NA                              |    NA                           |    NA                           |   NA                            |   NA                            |   NA                            |   NA                            |   NA                            |   NA                            |   NA                            | 1                               | 0                               |                                 | NA                              | NA                              | NA                              | NA                              | 1                               | 1                               | 0                               | 1                               | 0                               | 0                               | 1                               | 0                               | NA                              | NA                              | NA                              | NA                              | 1                               | 1                               | 0                               | 0                               | 1                               | Ts1DNI                          | 0                               | 0                               | 0                               | \n",
       "| 244 | 2262                            | 6891                            | 8393                            | 6/25/10                         | 6/25/10                         | Treatment Effect                | Treatment Effect                | 8393 B3                         | 0                               | 0                               | 2                               | 0                               | 0                               |  0.00                           | f                               | 2.34                            | 2.01                            | 1.14                            | 1.04                            | 1.79                            | 0.96                            | 1.73                            | 1.62                            | 2.16                            | 1.92                            |   NA                            |   NA                            |   NA                            |   NA                            |   NA                            |   NA                            | NA                              | NA                              | NA                              | NA                              | -0.23                           | -1.18                           | 0.77                            | 0.54                            | 0.82                            | 0.64                            | 0.19                            | 0.27                            | 0.08                            | 1                               | 0                               |                                 | NA                              | NA                              | NA                              |  0                              | 1                               | 1                               | 0                               | 1                               | 0                               | 1                               | 1                               | 0                               | NA                              | NA                              | NA                              | NA                              | 0                               | 1                               | 1                               | 0                               | 1                               | TxE                             | 0                               | 0                               | 1                               | \n",
       "| 245 | 2262                            | 6891                            | 8393                            | 6/25/10                         | 6/25/10                         | Treatment Effect                | Treatment Effect                | 8393 Y1                         | 0                               | 0                               | 2                               | 0                               | 0                               |  0.00                           | f                               | 3.47                            | 1.78                            | 1.89                            | 0.87                            | 1.63                            | 0.54                            | 1.35                            | 1.73                            | 2.08                            | 1.95                            |   NA                            |   NA                            |   NA                            |   NA                            |   NA                            |   NA                            | NA                              | NA                              | NA                              | NA                              |    NA                           |    NA                           |   NA                            |   NA                            |   NA                            |   NA                            |   NA                            |   NA                            |   NA                            | 1                               | 0                               |                                 | NA                              | NA                              | NA                              | NA                              | 1                               | 1                               | 0                               | 1                               | 0                               | 0                               | 1                               | 0                               | NA                              | NA                              | NA                              | NA                              | 1                               | 1                               | 0                               | 0                               | 1                               | TxE                             | 0                               | 0                               | 1                               | \n",
       "| 252 | 2994                            | 7055                            | 8491                            | 9/16/10                         | 9/17/10                         | Grade IV                        | Glioblastoma                    | 8491 B3                         | 3                               | 1                               | 1                               | 2                               | 0                               | 24.11                           | f                               | 1.80                            | 1.14                            | 2.31                            | 0.91                            | 1.28                            | 0.61                            | 1.12                            | 1.29                            | 1.55                            | 1.42                            | 1.12                            | 0.63                            | 1.01                            | 1.17                            | 1.38                            | 1.29                            | NA                              | NA                              | NA                              | NA                              |    NA                           |    NA                           |   NA                            |   NA                            |   NA                            |   NA                            |   NA                            |   NA                            |   NA                            | 1                               | 0                               |                                 | NA                              | NA                              | NA                              | NA                              | 1                               | 1                               | 1                               | 1                               | 0                               | 0                               | 1                               | 0                               | NA                              | NA                              | NA                              | NA                              | 1                               | 0                               | 0                               | 0                               | 1                               | rHGG                            | 0                               | 0                               | 1                               | \n",
       "| 253 | 2994                            | 7055                            | 8491                            | 9/16/10                         | 9/17/10                         | Grade IV                        | Glioblastoma                    | 8491 V1                         | 3                               | 2                               | 0                               | 2                               | 1                               | 44.64                           | f                               | 2.37                            | 0.95                            | 1.54                            | 0.78                            | 1.38                            | 0.50                            | 1.18                            | 1.40                            | 1.73                            | 1.56                            | 1.14                            | 0.43                            | 0.97                            | 1.15                            | 1.45                            | 1.30                            | NA                              | NA                              | NA                              | NA                              |  4.48                           |  5.42                           | 0.47                            | 1.79                            | 0.51                            | 0.29                            | 0.55                            | 1.18                            | 0.63                            | 1                               | 0                               |                                 | NA                              | NA                              | NA                              |  0                              | 1                               | 1                               | 1                               | 1                               | 0                               | 1                               | 1                               | 0                               | NA                              | NA                              | NA                              | NA                              | 1                               | 0                               | 0                               | 0                               | 1                               | NecDNI                          | 0                               | 0                               | 0                               | \n",
       "| 254 | 2994                            | 7055                            | 8491                            | 9/16/10                         | 9/17/10                         | Grade IV                        | Glioblastoma                    | 8491 Y2                         | 2                               | 0                               | 2                               | 0                               | 0                               | 41.46                           | f                               | 1.69                            | 1.17                            | 2.42                            | 0.99                            | 1.11                            | 0.94                            | 1.00                            | 1.13                            | 1.29                            | 1.22                            | 1.09                            | 0.63                            | 0.97                            | 1.08                            | 1.29                            | 1.20                            | NA                              | NA                              | NA                              | NA                              |  7.18                           |  5.22                           | 2.97                            | 2.41                            | 1.36                            | 0.35                            | 0.33                            | 0.74                            | 0.41                            | 1                               | 0                               |                                 | NA                              | NA                              | NA                              |  0                              | 1                               | 1                               | 1                               | 1                               | 0                               | 1                               | 1                               | 0                               | NA                              | NA                              | NA                              | NA                              | 1                               | 0                               | 0                               | 0                               | 1                               | rHGG                            | 0                               | 0                               | 1                               | \n",
       "| 265 | 3084                            | 7332                            | 8653                            | 2/10/11                         | 2/11/11                         | Grade IV                        | Glioblastoma                    | 8653 B1                         | Ind                             | 2                               | Indeterminable                  | Indeterminable                  | Indeterminable                  |    NA                           | t                               |   NA                            |   NA                            |   NA                            |   NA                            |   NA                            |   NA                            |   NA                            |   NA                            |   NA                            |   NA                            |   NA                            |   NA                            |   NA                            |   NA                            |   NA                            |   NA                            | NA                              | NA                              | NA                              | NA                              |    NA                           |    NA                           |   NA                            |   NA                            |   NA                            |   NA                            |   NA                            |   NA                            |   NA                            | 1                               | 0                               | necrosis 100%                   | NA                              | biopsy_quant                    | NA                              | NA                              | 0                               | 0                               | 0                               | 0                               | 0                               | 0                               | 0                               | 0                               | NA                              | NA                              | NA                              | NA                              | 0                               | 0                               | 0                               | 0                               | 0                               | NecDNI                          | 0                               | 0                               | 0                               | \n",
       "| 266 | 3084                            | 7332                            | 8653                            | 2/10/11                         | 2/11/11                         | Grade IV                        | Glioblastoma                    | 8653 B2                         | 1                               | 0                               | 2                               | 1                               | 0                               |  9.11                           | f                               |   NA                            |   NA                            |   NA                            |   NA                            |   NA                            |   NA                            |   NA                            |   NA                            |   NA                            |   NA                            |   NA                            |   NA                            |   NA                            |   NA                            |   NA                            |   NA                            | NA                              | NA                              | NA                              | NA                              |    NA                           |    NA                           |   NA                            |   NA                            |   NA                            |   NA                            |   NA                            |   NA                            |   NA                            | 1                               | 0                               |                                 | NA                              | biopsy_quant                    | NA                              | NA                              | 0                               | 0                               | 0                               | 0                               | 0                               | 0                               | 0                               | 0                               | NA                              | NA                              | NA                              | NA                              | 0                               | 0                               | 0                               | 0                               | 0                               | Ts1DNI                          | 0                               | 0                               | 0                               | \n",
       "\n",
       "\n"
      ],
      "text/plain": [
       "    b_number t_number sf_number current_scan_date current_surgery_date\n",
       "210 2273     5934     7909      1/11/09           1/12/09             \n",
       "211 2273     5934     7909      1/11/09           1/12/09             \n",
       "212 2273     5934     7909      1/11/09           1/12/09             \n",
       "236 2578     6826     8343      5/19/10           5/21/10             \n",
       "237 2578     6826     8343      5/19/10           5/21/10             \n",
       "238 2578     6826     8343      5/19/10           5/21/10             \n",
       "239 2927     8068     8352      5/23/10           5/28/10             \n",
       "240 2927     8068     8352      5/23/10           5/28/10             \n",
       "241 2927     8068     8352      5/23/10           5/28/10             \n",
       "242 2927     8068     8352      5/23/10           5/28/10             \n",
       "243 2262     6891     8393      6/25/10           6/25/10             \n",
       "244 2262     6891     8393      6/25/10           6/25/10             \n",
       "245 2262     6891     8393      6/25/10           6/25/10             \n",
       "252 2994     7055     8491      9/16/10           9/17/10             \n",
       "253 2994     7055     8491      9/16/10           9/17/10             \n",
       "254 2994     7055     8491      9/16/10           9/17/10             \n",
       "265 3084     7332     8653      2/10/11           2/11/11             \n",
       "266 3084     7332     8653      2/10/11           2/11/11             \n",
       "    current_hist_grade current_hist_type roi.label tumor_cell_evaluation\n",
       "210 Grade IV           Glioblastoma      7909 T1   3                    \n",
       "211 Grade IV           Glioblastoma      7909 T2   0                    \n",
       "212 Grade IV           Glioblastoma      7909 T3   2                    \n",
       "236 Grade IV           Glioblastoma      8343 G3   0                    \n",
       "237 Grade IV           Glioblastoma      8343 P2   1                    \n",
       "238 Grade IV           Glioblastoma      8343 Y1   0                    \n",
       "239 Grade IV           Glioblastoma      8352 T1   3                    \n",
       "240 Grade IV           Glioblastoma      8352 T2   3                    \n",
       "241 Grade IV           Glioblastoma      8352 T3   3                    \n",
       "242 Grade IV           Glioblastoma      8352 T4   3                    \n",
       "243 Treatment Effect   Treatment Effect  8393 B2   1                    \n",
       "244 Treatment Effect   Treatment Effect  8393 B3   0                    \n",
       "245 Treatment Effect   Treatment Effect  8393 Y1   0                    \n",
       "252 Grade IV           Glioblastoma      8491 B3   3                    \n",
       "253 Grade IV           Glioblastoma      8491 V1   3                    \n",
       "254 Grade IV           Glioblastoma      8491 Y2   2                    \n",
       "265 Grade IV           Glioblastoma      8653 B1   Ind                  \n",
       "266 Grade IV           Glioblastoma      8653 B2   1                    \n",
       "    necrosis f8_delicate    f8_simple      f8_complex     mib_1\n",
       "210 0        1              3              1              27.57\n",
       "211 0        2              0              0               0.00\n",
       "212 0        3              0              0              14.89\n",
       "236 0        2              0              0               0.66\n",
       "237 0        2              0              0              30.72\n",
       "238 0        2              0              0               0.00\n",
       "239 1        0              3              0              48.73\n",
       "240 1        0              2              1              51.27\n",
       "241 1        0              2              1              60.86\n",
       "242 1        0              2              1              47.24\n",
       "243 0        2              0              0               4.10\n",
       "244 0        2              0              0               0.00\n",
       "245 0        2              0              0               0.00\n",
       "252 1        1              2              0              24.11\n",
       "253 2        0              2              1              44.64\n",
       "254 0        2              0              0              41.46\n",
       "265 2        Indeterminable Indeterminable Indeterminable    NA\n",
       "266 0        2              1              0               9.11\n",
       "    bx_pure_treatment_effect nfse nfl  nt1c nt1v nadc.1 nfa.1 nev1.1 nev2.1\n",
       "210 f                          NA   NA   NA   NA   NA     NA    NA     NA  \n",
       "211 f                          NA   NA   NA   NA   NA     NA    NA     NA  \n",
       "212 f                          NA   NA   NA   NA   NA     NA    NA     NA  \n",
       "236 f                          NA   NA   NA   NA   NA     NA    NA     NA  \n",
       "237 f                          NA   NA   NA   NA   NA     NA    NA     NA  \n",
       "238 f                          NA   NA   NA   NA   NA     NA    NA     NA  \n",
       "239 f                        2.13 1.41 1.09 1.06 0.90     NA    NA     NA  \n",
       "240 f                        1.01 1.12 1.00 1.19 1.03     NA    NA     NA  \n",
       "241 f                        1.84 1.26 1.16 1.11 0.94     NA    NA     NA  \n",
       "242 f                        4.10 1.10 0.66 1.04 3.37     NA    NA     NA  \n",
       "243 f                        2.56 1.64 2.09 0.95 1.45   0.54  1.24   1.45  \n",
       "244 f                        2.34 2.01 1.14 1.04 1.79   0.96  1.73   1.62  \n",
       "245 f                        3.47 1.78 1.89 0.87 1.63   0.54  1.35   1.73  \n",
       "252 f                        1.80 1.14 2.31 0.91 1.28   0.61  1.12   1.29  \n",
       "253 f                        2.37 0.95 1.54 0.78 1.38   0.50  1.18   1.40  \n",
       "254 f                        1.69 1.17 2.42 0.99 1.11   0.94  1.00   1.13  \n",
       "265 t                          NA   NA   NA   NA   NA     NA    NA     NA  \n",
       "266 f                          NA   NA   NA   NA   NA     NA    NA     NA  \n",
       "    nev3.1 nevrad.1 nadc.2 nfa.2 nev1.2 nev2.2 nev3.2 nevrad.2 cbvn_nlin\n",
       "210   NA     NA       NA     NA    NA     NA     NA     NA     NA       \n",
       "211   NA     NA       NA     NA    NA     NA     NA     NA     NA       \n",
       "212   NA     NA       NA     NA    NA     NA     NA     NA     NA       \n",
       "236   NA     NA       NA     NA    NA     NA     NA     NA     NA       \n",
       "237   NA     NA       NA     NA    NA     NA     NA     NA     NA       \n",
       "238   NA     NA       NA     NA    NA     NA     NA     NA     NA       \n",
       "239   NA     NA       NA     NA    NA     NA     NA     NA     NA       \n",
       "240   NA     NA       NA     NA    NA     NA     NA     NA     NA       \n",
       "241   NA     NA       NA     NA    NA     NA     NA     NA     NA       \n",
       "242   NA     NA       NA     NA    NA     NA     NA     NA     NA       \n",
       "243 1.85   1.68       NA     NA    NA     NA     NA     NA     NA       \n",
       "244 2.16   1.92       NA     NA    NA     NA     NA     NA     NA       \n",
       "245 2.08   1.95       NA     NA    NA     NA     NA     NA     NA       \n",
       "252 1.55   1.42     1.12   0.63  1.01   1.17   1.38   1.29     NA       \n",
       "253 1.73   1.56     1.14   0.43  0.97   1.15   1.45   1.30     NA       \n",
       "254 1.29   1.22     1.09   0.63  0.97   1.08   1.29   1.20     NA       \n",
       "265   NA     NA       NA     NA    NA     NA     NA     NA     NA       \n",
       "266   NA     NA       NA     NA    NA     NA     NA     NA     NA       \n",
       "    phn_nlin phn_npar recovn_npar cni   ccri  crni ncho ncre nnaa nlip laclip\n",
       "210 NA       NA       NA             NA    NA   NA   NA   NA   NA   NA   NA  \n",
       "211 NA       NA       NA             NA    NA   NA   NA   NA   NA   NA   NA  \n",
       "212 NA       NA       NA             NA    NA   NA   NA   NA   NA   NA   NA  \n",
       "236 NA       NA       NA             NA    NA   NA   NA   NA   NA   NA   NA  \n",
       "237 NA       NA       NA             NA    NA   NA   NA   NA   NA   NA   NA  \n",
       "238 NA       NA       NA             NA    NA   NA   NA   NA   NA   NA   NA  \n",
       "239 NA       NA       NA             NA    NA   NA   NA   NA   NA   NA   NA  \n",
       "240 NA       NA       NA             NA    NA   NA   NA   NA   NA   NA   NA  \n",
       "241 NA       NA       NA             NA    NA   NA   NA   NA   NA   NA   NA  \n",
       "242 NA       NA       NA             NA    NA   NA   NA   NA   NA   NA   NA  \n",
       "243 NA       NA       NA             NA    NA   NA   NA   NA   NA   NA   NA  \n",
       "244 NA       NA       NA          -0.23 -1.18 0.77 0.54 0.82 0.64 0.19 0.27  \n",
       "245 NA       NA       NA             NA    NA   NA   NA   NA   NA   NA   NA  \n",
       "252 NA       NA       NA             NA    NA   NA   NA   NA   NA   NA   NA  \n",
       "253 NA       NA       NA           4.48  5.42 0.47 1.79 0.51 0.29 0.55 1.18  \n",
       "254 NA       NA       NA           7.18  5.22 2.97 2.41 1.36 0.35 0.33 0.74  \n",
       "265 NA       NA       NA             NA    NA   NA   NA   NA   NA   NA   NA  \n",
       "266 NA       NA       NA             NA    NA   NA   NA   NA   NA   NA   NA  \n",
       "    nlac olddata newdata comments                        notes. imaging_code\n",
       "210   NA 1       0                                       NA     biopsy_quant\n",
       "211   NA 1       0                                       NA     biopsy_quant\n",
       "212   NA 1       0                                       NA     biopsy_quant\n",
       "236   NA 1       0                                       NA     biopsy_quant\n",
       "237   NA 1       0                                       NA     biopsy_quant\n",
       "238   NA 1       0       small cell GBM?, PNET component NA     biopsy_quant\n",
       "239   NA 1       0                                       NA     NA          \n",
       "240   NA 1       0                                       NA     NA          \n",
       "241   NA 1       0                                       NA     NA          \n",
       "242   NA 1       0                                       NA     NA          \n",
       "243   NA 1       0                                       NA     NA          \n",
       "244 0.08 1       0                                       NA     NA          \n",
       "245   NA 1       0                                       NA     NA          \n",
       "252   NA 1       0                                       NA     NA          \n",
       "253 0.63 1       0                                       NA     NA          \n",
       "254 0.41 1       0                                       NA     NA          \n",
       "265   NA 1       0       necrosis 100%                   NA     biopsy_quant\n",
       "266   NA 1       0                                       NA     biopsy_quant\n",
       "    perf_quant spec_quant include_anat include_diffu1000 include_diffu2000\n",
       "210 NA         NA         0            0                 0                \n",
       "211 NA         NA         0            0                 0                \n",
       "212 NA         NA         0            0                 0                \n",
       "236 NA         NA         0            0                 0                \n",
       "237 NA         NA         0            0                 0                \n",
       "238 NA         NA         0            0                 0                \n",
       "239 NA         NA         1            1                 0                \n",
       "240 NA         NA         1            1                 0                \n",
       "241 NA         NA         1            1                 0                \n",
       "242 NA         NA         1            1                 0                \n",
       "243 NA         NA         1            1                 0                \n",
       "244 NA          0         1            1                 0                \n",
       "245 NA         NA         1            1                 0                \n",
       "252 NA         NA         1            1                 1                \n",
       "253 NA          0         1            1                 1                \n",
       "254 NA          0         1            1                 1                \n",
       "265 NA         NA         0            0                 0                \n",
       "266 NA         NA         0            0                 0                \n",
       "    include_diffu_all include_perf include_spec include_one_advanced_mod\n",
       "210 0                 0            0            0                       \n",
       "211 0                 0            0            0                       \n",
       "212 0                 0            0            0                       \n",
       "236 0                 0            0            0                       \n",
       "237 0                 0            0            0                       \n",
       "238 0                 0            0            0                       \n",
       "239 1                 0            0            1                       \n",
       "240 1                 0            0            1                       \n",
       "241 1                 0            0            1                       \n",
       "242 1                 0            0            1                       \n",
       "243 1                 0            0            1                       \n",
       "244 1                 0            1            1                       \n",
       "245 1                 0            0            1                       \n",
       "252 1                 0            0            1                       \n",
       "253 1                 0            1            1                       \n",
       "254 1                 0            1            1                       \n",
       "265 0                 0            0            0                       \n",
       "266 0                 0            0            0                       \n",
       "    include_all_advanced_mods X.CEL X.NEL X.NEC sum in_CEL in_T2all in_NEL\n",
       "210 0                         NA    NA    NA    NA  0      0        0     \n",
       "211 0                         NA    NA    NA    NA  0      0        0     \n",
       "212 0                         NA    NA    NA    NA  0      0        0     \n",
       "236 0                         NA    NA    NA    NA  0      0        0     \n",
       "237 0                         NA    NA    NA    NA  0      0        0     \n",
       "238 0                         NA    NA    NA    NA  0      0        0     \n",
       "239 0                         NA    NA    NA    NA  0      1        1     \n",
       "240 0                         NA    NA    NA    NA  0      0        0     \n",
       "241 0                         NA    NA    NA    NA  0      1        1     \n",
       "242 0                         NA    NA    NA    NA  0      0        0     \n",
       "243 0                         NA    NA    NA    NA  1      1        0     \n",
       "244 0                         NA    NA    NA    NA  0      1        1     \n",
       "245 0                         NA    NA    NA    NA  1      1        0     \n",
       "252 0                         NA    NA    NA    NA  1      0        0     \n",
       "253 0                         NA    NA    NA    NA  1      0        0     \n",
       "254 0                         NA    NA    NA    NA  1      0        0     \n",
       "265 0                         NA    NA    NA    NA  0      0        0     \n",
       "266 0                         NA    NA    NA    NA  0      0        0     \n",
       "    in_NEC in_ROI multnom_out no_ffpe waiting_on_path rhgg_txe_analysis\n",
       "210 0      0      rHGG        0       0               1                \n",
       "211 0      0      PN          0       0               0                \n",
       "212 0      0      rHGG        0       0               1                \n",
       "236 0      0      PN          0       0               0                \n",
       "237 0      0      Ts1DNI      0       0               0                \n",
       "238 0      0      PN          0       0               0                \n",
       "239 0      1      rHGG        0       0               1                \n",
       "240 0      0      rHGG        0       0               1                \n",
       "241 0      1      rHGG        0       0               1                \n",
       "242 0      0      rHGG        0       0               1                \n",
       "243 0      1      Ts1DNI      0       0               0                \n",
       "244 0      1      TxE         0       0               1                \n",
       "245 0      1      TxE         0       0               1                \n",
       "252 0      1      rHGG        0       0               1                \n",
       "253 0      1      NecDNI      0       0               0                \n",
       "254 0      1      rHGG        0       0               1                \n",
       "265 0      0      NecDNI      0       0               0                \n",
       "266 0      0      Ts1DNI      0       0               0                "
      ]
     },
     "metadata": {},
     "output_type": "display_data"
    }
   ],
   "source": [
    "## looking at spaces: \n",
    "recgli[grep(' ', recgli$roi.label),]"
   ]
  },
  {
   "cell_type": "code",
   "execution_count": 7,
   "metadata": {
    "collapsed": false,
    "deletable": true,
    "editable": true
   },
   "outputs": [],
   "source": [
    "## if we delete the spaces, do we have duplicates ? or no? \n",
    "recgli$roi.label = gsub(\" \", \"\", recgli$roi.label)"
   ]
  },
  {
   "cell_type": "code",
   "execution_count": 8,
   "metadata": {
    "collapsed": false,
    "deletable": true,
    "editable": true
   },
   "outputs": [
    {
     "data": {
      "text/plain": [
       "\n",
       "FALSE \n",
       "  615 "
      ]
     },
     "metadata": {},
     "output_type": "display_data"
    }
   ],
   "source": [
    "table(duplicated(recgli$roi.label))"
   ]
  },
  {
   "cell_type": "code",
   "execution_count": 9,
   "metadata": {
    "collapsed": true,
    "deletable": true,
    "editable": true
   },
   "outputs": [],
   "source": [
    "## great, so the spaces don't really matter all that much it turns out. Now we have 615 biopsies to start with. "
   ]
  },
  {
   "cell_type": "code",
   "execution_count": 10,
   "metadata": {
    "collapsed": true,
    "deletable": true,
    "editable": true
   },
   "outputs": [],
   "source": [
    "write.csv(recgli, \"1stParse_researchpath_withInVivo.csv\", row.names = F)"
   ]
  },
  {
   "cell_type": "markdown",
   "metadata": {
    "deletable": true,
    "editable": true
   },
   "source": [
    "## 3. Use template to look at all data\n"
   ]
  },
  {
   "cell_type": "code",
   "execution_count": 11,
   "metadata": {
    "collapsed": false,
    "deletable": true,
    "editable": true
   },
   "outputs": [
    {
     "data": {
      "text/html": [
       "<ol class=list-inline>\n",
       "\t<li>615</li>\n",
       "\t<li>72</li>\n",
       "</ol>\n"
      ],
      "text/latex": [
       "\\begin{enumerate*}\n",
       "\\item 615\n",
       "\\item 72\n",
       "\\end{enumerate*}\n"
      ],
      "text/markdown": [
       "1. 615\n",
       "2. 72\n",
       "\n",
       "\n"
      ],
      "text/plain": [
       "[1] 615  72"
      ]
     },
     "metadata": {},
     "output_type": "display_data"
    }
   ],
   "source": [
    "recgli = read.csv(\"1stParse_researchpath_withInVivo.csv\")\n",
    "dim(recgli)"
   ]
  },
  {
   "cell_type": "code",
   "execution_count": 12,
   "metadata": {
    "collapsed": false,
    "deletable": true,
    "editable": true
   },
   "outputs": [
    {
     "data": {
      "text/html": [
       "<table>\n",
       "<thead><tr><th scope=col>data</th><th scope=col>patients</th><th scope=col>scans</th><th scope=col>samples</th></tr></thead>\n",
       "<tbody>\n",
       "\t<tr><td>old_po1</td><td>124    </td><td>129    </td><td>316    </td></tr>\n",
       "\t<tr><td>REC_HGG</td><td>91     </td><td>95     </td><td>299    </td></tr>\n",
       "\t<tr><td>TOTAL  </td><td>215    </td><td>224    </td><td>615    </td></tr>\n",
       "</tbody>\n",
       "</table>\n"
      ],
      "text/latex": [
       "\\begin{tabular}{llll}\n",
       " data & patients & scans & samples\\\\\n",
       "\\hline\n",
       "\t old\\_po1 & 124       & 129       & 316      \\\\\n",
       "\t REC\\_HGG & 91        & 95        & 299      \\\\\n",
       "\t TOTAL   & 215     & 224     & 615    \\\\\n",
       "\\end{tabular}\n"
      ],
      "text/markdown": [
       "\n",
       "data | patients | scans | samples | \n",
       "|---|---|---|\n",
       "| old_po1 | 124     | 129     | 316     | \n",
       "| REC_HGG | 91      | 95      | 299     | \n",
       "| TOTAL   | 215     | 224     | 615     | \n",
       "\n",
       "\n"
      ],
      "text/plain": [
       "     data    patients scans samples\n",
       "[1,] old_po1 124      129   316    \n",
       "[2,] REC_HGG 91       95    299    \n",
       "[3,] TOTAL   215      224   615    "
      ]
     },
     "metadata": {},
     "output_type": "display_data"
    }
   ],
   "source": [
    "all_possible = temp\n",
    "all_possible[1,2] = sum(ifelse(duplicated(recgli$b_number)==FALSE & recgli$olddata==1, 1, 0))\n",
    "all_possible[1,3] = sum(ifelse(duplicated(recgli$t_number)==FALSE & recgli$olddata==1, 1, 0))\n",
    "all_possible[1,4] = sum(recgli$olddata==1)\n",
    "all_possible[2,2] = sum(ifelse(duplicated(recgli$b_number)==FALSE & recgli$newdata==1, 1, 0))\n",
    "all_possible[2,3] = sum(ifelse(duplicated(recgli$t_number)==FALSE & recgli$newdata==1, 1, 0))\n",
    "all_possible[2,4] = sum(recgli$newdata==1)\n",
    "all_possible[3,2:4]= as.numeric(all_possible[1,2:4]) + as.numeric(all_possible[2,2:4])\n",
    "all_possible"
   ]
  },
  {
   "cell_type": "markdown",
   "metadata": {
    "deletable": true,
    "editable": true
   },
   "source": [
    "## 4. Remove samples without tissue/consent: "
   ]
  },
  {
   "cell_type": "code",
   "execution_count": 13,
   "metadata": {
    "collapsed": false,
    "deletable": true,
    "editable": true
   },
   "outputs": [
    {
     "data": {
      "text/html": [
       "<ol class=list-inline>\n",
       "\t<li>607</li>\n",
       "\t<li>72</li>\n",
       "</ol>\n"
      ],
      "text/latex": [
       "\\begin{enumerate*}\n",
       "\\item 607\n",
       "\\item 72\n",
       "\\end{enumerate*}\n"
      ],
      "text/markdown": [
       "1. 607\n",
       "2. 72\n",
       "\n",
       "\n"
      ],
      "text/plain": [
       "[1] 607  72"
      ]
     },
     "metadata": {},
     "output_type": "display_data"
    },
    {
     "data": {
      "text/html": [
       "<table>\n",
       "<thead><tr><th scope=col>data</th><th scope=col>patients</th><th scope=col>scans</th><th scope=col>samples</th></tr></thead>\n",
       "<tbody>\n",
       "\t<tr><td>old_po1</td><td>123    </td><td>128    </td><td>313    </td></tr>\n",
       "\t<tr><td>REC_HGG</td><td>89     </td><td>93     </td><td>294    </td></tr>\n",
       "\t<tr><td>TOTAL  </td><td>212    </td><td>221    </td><td>607    </td></tr>\n",
       "</tbody>\n",
       "</table>\n"
      ],
      "text/latex": [
       "\\begin{tabular}{llll}\n",
       " data & patients & scans & samples\\\\\n",
       "\\hline\n",
       "\t old\\_po1 & 123       & 128       & 313      \\\\\n",
       "\t REC\\_HGG & 89        & 93        & 294      \\\\\n",
       "\t TOTAL   & 212     & 221     & 607    \\\\\n",
       "\\end{tabular}\n"
      ],
      "text/markdown": [
       "\n",
       "data | patients | scans | samples | \n",
       "|---|---|---|\n",
       "| old_po1 | 123     | 128     | 313     | \n",
       "| REC_HGG | 89      | 93      | 294     | \n",
       "| TOTAL   | 212     | 221     | 607     | \n",
       "\n",
       "\n"
      ],
      "text/plain": [
       "     data    patients scans samples\n",
       "[1,] old_po1 123      128   313    \n",
       "[2,] REC_HGG 89       93    294    \n",
       "[3,] TOTAL   212      221   607    "
      ]
     },
     "metadata": {},
     "output_type": "display_data"
    }
   ],
   "source": [
    "recgli.noconsent = recgli[-which(recgli$imaging_code==\"tiss_cons\"),]\n",
    "dim(recgli.noconsent)\n",
    "noconsent = temp\n",
    "noconsent[1,2] = sum(ifelse(duplicated(recgli.noconsent$b_number)==FALSE & recgli.noconsent$olddata==1, 1, 0))\n",
    "noconsent[1,3] = sum(ifelse(duplicated(recgli.noconsent$t_number)==FALSE & recgli.noconsent$olddata==1, 1, 0))\n",
    "noconsent[1,4] = sum(recgli.noconsent$olddata==1)\n",
    "noconsent[2,2] = sum(ifelse(duplicated(recgli.noconsent$b_number)==FALSE & recgli.noconsent$newdata==1, 1, 0))\n",
    "noconsent[2,3] = sum(ifelse(duplicated(recgli.noconsent$t_number)==FALSE & recgli.noconsent$newdata==1, 1, 0))\n",
    "noconsent[2,4] = sum(recgli.noconsent$newdata==1)\n",
    "noconsent[3,2:4]= as.numeric(noconsent[1,2:4]) + as.numeric(noconsent[2,2:4])\n",
    "noconsent"
   ]
  },
  {
   "cell_type": "code",
   "execution_count": 14,
   "metadata": {
    "collapsed": true,
    "deletable": true,
    "editable": true
   },
   "outputs": [],
   "source": [
    "write.csv(recgli.noconsent, \"2ndparse_researchPath_withInVivo.csv\", row.names = F)"
   ]
  },
  {
   "cell_type": "markdown",
   "metadata": {
    "deletable": true,
    "editable": true
   },
   "source": [
    "## 5. Remove those w/ no FFPE tissue"
   ]
  },
  {
   "cell_type": "code",
   "execution_count": 15,
   "metadata": {
    "collapsed": true,
    "deletable": true,
    "editable": true
   },
   "outputs": [],
   "source": [
    "recgli.noconsent = read.csv(\"2ndparse_researchPath_withInVivo.csv\")"
   ]
  },
  {
   "cell_type": "code",
   "execution_count": 16,
   "metadata": {
    "collapsed": false,
    "deletable": true,
    "editable": true
   },
   "outputs": [
    {
     "data": {
      "text/html": [
       "<ol class=list-inline>\n",
       "\t<li>588</li>\n",
       "\t<li>72</li>\n",
       "</ol>\n"
      ],
      "text/latex": [
       "\\begin{enumerate*}\n",
       "\\item 588\n",
       "\\item 72\n",
       "\\end{enumerate*}\n"
      ],
      "text/markdown": [
       "1. 588\n",
       "2. 72\n",
       "\n",
       "\n"
      ],
      "text/plain": [
       "[1] 588  72"
      ]
     },
     "metadata": {},
     "output_type": "display_data"
    },
    {
     "data": {
      "text/html": [
       "<table>\n",
       "<thead><tr><th scope=col>data</th><th scope=col>patients</th><th scope=col>scans</th><th scope=col>samples</th></tr></thead>\n",
       "<tbody>\n",
       "\t<tr><td>old_po1</td><td>123    </td><td>128    </td><td>313    </td></tr>\n",
       "\t<tr><td>REC_HGG</td><td>89     </td><td>93     </td><td>275    </td></tr>\n",
       "\t<tr><td>TOTAL  </td><td>212    </td><td>221    </td><td>588    </td></tr>\n",
       "</tbody>\n",
       "</table>\n"
      ],
      "text/latex": [
       "\\begin{tabular}{llll}\n",
       " data & patients & scans & samples\\\\\n",
       "\\hline\n",
       "\t old\\_po1 & 123       & 128       & 313      \\\\\n",
       "\t REC\\_HGG & 89        & 93        & 275      \\\\\n",
       "\t TOTAL   & 212     & 221     & 588    \\\\\n",
       "\\end{tabular}\n"
      ],
      "text/markdown": [
       "\n",
       "data | patients | scans | samples | \n",
       "|---|---|---|\n",
       "| old_po1 | 123     | 128     | 313     | \n",
       "| REC_HGG | 89      | 93      | 275     | \n",
       "| TOTAL   | 212     | 221     | 588     | \n",
       "\n",
       "\n"
      ],
      "text/plain": [
       "     data    patients scans samples\n",
       "[1,] old_po1 123      128   313    \n",
       "[2,] REC_HGG 89       93    275    \n",
       "[3,] TOTAL   212      221   588    "
      ]
     },
     "metadata": {},
     "output_type": "display_data"
    }
   ],
   "source": [
    "recgli.noffpe = recgli.noconsent[-which(recgli.noconsent$no_ffpe==1),]\n",
    "dim(recgli.noffpe) #584\n",
    "noffpe = temp\n",
    "noffpe[1,2] = sum(ifelse(duplicated(recgli.noffpe$b_number)==FALSE & recgli.noffpe$olddata==1, 1, 0))\n",
    "noffpe[1,3] = sum(ifelse(duplicated(recgli.noffpe$t_number)==FALSE & recgli.noffpe$olddata==1, 1, 0))\n",
    "noffpe[1,4] = sum(recgli.noffpe$olddata==1)\n",
    "noffpe[2,2] = sum(ifelse(duplicated(recgli.noffpe$b_number)==FALSE & recgli.noffpe$newdata==1, 1, 0))\n",
    "noffpe[2,3] = sum(ifelse(duplicated(recgli.noffpe$t_number)==FALSE & recgli.noffpe$newdata==1, 1, 0))\n",
    "noffpe[2,4] = sum(recgli.noffpe$newdata==1)\n",
    "noffpe[3,2:4]= as.numeric(noffpe[1,2:4]) + as.numeric(noffpe[2,2:4])\n",
    "noffpe "
   ]
  },
  {
   "cell_type": "code",
   "execution_count": 17,
   "metadata": {
    "collapsed": true,
    "deletable": true,
    "editable": true
   },
   "outputs": [],
   "source": [
    "write.csv(recgli.noffpe, \"3rdParse_researchPath_withInVivo.csv\", row.names = F)"
   ]
  },
  {
   "cell_type": "markdown",
   "metadata": {
    "deletable": true,
    "editable": true
   },
   "source": [
    "## 6. Remove those w/ missing screenshots from BrainLab Neuronav software\n"
   ]
  },
  {
   "cell_type": "code",
   "execution_count": 18,
   "metadata": {
    "collapsed": false,
    "deletable": true,
    "editable": true
   },
   "outputs": [
    {
     "data": {
      "text/html": [
       "<ol class=list-inline>\n",
       "\t<li>588</li>\n",
       "\t<li>72</li>\n",
       "</ol>\n"
      ],
      "text/latex": [
       "\\begin{enumerate*}\n",
       "\\item 588\n",
       "\\item 72\n",
       "\\end{enumerate*}\n"
      ],
      "text/markdown": [
       "1. 588\n",
       "2. 72\n",
       "\n",
       "\n"
      ],
      "text/plain": [
       "[1] 588  72"
      ]
     },
     "metadata": {},
     "output_type": "display_data"
    }
   ],
   "source": [
    "recgli.noffpe = read.csv(\"3rdParse_researchPath_withInVivo.csv\")\n",
    "dim(recgli.noffpe)"
   ]
  },
  {
   "cell_type": "code",
   "execution_count": 19,
   "metadata": {
    "collapsed": false,
    "deletable": true,
    "editable": true
   },
   "outputs": [
    {
     "data": {
      "text/html": [
       "<ol class=list-inline>\n",
       "\t<li>545</li>\n",
       "\t<li>72</li>\n",
       "</ol>\n"
      ],
      "text/latex": [
       "\\begin{enumerate*}\n",
       "\\item 545\n",
       "\\item 72\n",
       "\\end{enumerate*}\n"
      ],
      "text/markdown": [
       "1. 545\n",
       "2. 72\n",
       "\n",
       "\n"
      ],
      "text/plain": [
       "[1] 545  72"
      ]
     },
     "metadata": {},
     "output_type": "display_data"
    },
    {
     "data": {
      "text/html": [
       "<table>\n",
       "<thead><tr><th scope=col>data</th><th scope=col>patients</th><th scope=col>scans</th><th scope=col>samples</th></tr></thead>\n",
       "<tbody>\n",
       "\t<tr><td>old_po1</td><td>112    </td><td>115    </td><td>281    </td></tr>\n",
       "\t<tr><td>REC_HGG</td><td>86     </td><td>90     </td><td>264    </td></tr>\n",
       "\t<tr><td>TOTAL  </td><td>198    </td><td>205    </td><td>545    </td></tr>\n",
       "</tbody>\n",
       "</table>\n"
      ],
      "text/latex": [
       "\\begin{tabular}{llll}\n",
       " data & patients & scans & samples\\\\\n",
       "\\hline\n",
       "\t old\\_po1 & 112       & 115       & 281      \\\\\n",
       "\t REC\\_HGG & 86        & 90        & 264      \\\\\n",
       "\t TOTAL   & 198     & 205     & 545    \\\\\n",
       "\\end{tabular}\n"
      ],
      "text/markdown": [
       "\n",
       "data | patients | scans | samples | \n",
       "|---|---|---|\n",
       "| old_po1 | 112     | 115     | 281     | \n",
       "| REC_HGG | 86      | 90      | 264     | \n",
       "| TOTAL   | 198     | 205     | 545     | \n",
       "\n",
       "\n"
      ],
      "text/plain": [
       "     data    patients scans samples\n",
       "[1,] old_po1 112      115   281    \n",
       "[2,] REC_HGG 86       90    264    \n",
       "[3,] TOTAL   198      205   545    "
      ]
     },
     "metadata": {},
     "output_type": "display_data"
    }
   ],
   "source": [
    "recgli.noscreenshots = recgli.noffpe[-which(recgli.noffpe$imaging_code==\"scrn\"),]\n",
    "dim(recgli.noscreenshots)  # 541 \n",
    "noscreenshots = temp\n",
    "noscreenshots[1,2] = sum(ifelse(duplicated(recgli.noscreenshots$b_number)==FALSE & recgli.noscreenshots$olddata==1, 1, 0))\n",
    "noscreenshots[1,3] = sum(ifelse(duplicated(recgli.noscreenshots$t_number)==FALSE & recgli.noscreenshots$olddata==1, 1, 0))\n",
    "noscreenshots[1,4] = sum(recgli.noscreenshots$olddata==1)\n",
    "noscreenshots[2,2] = sum(ifelse(duplicated(recgli.noscreenshots$b_number)==FALSE & recgli.noscreenshots$newdata==1, 1, 0))\n",
    "noscreenshots[2,3] = sum(ifelse(duplicated(recgli.noscreenshots$t_number)==FALSE & recgli.noscreenshots$newdata==1, 1, 0))\n",
    "noscreenshots[2,4] = sum(recgli.noscreenshots$newdata==1)\n",
    "noscreenshots[3,2:4]= as.numeric(noscreenshots[1,2:4]) + as.numeric(noscreenshots[2,2:4])\n",
    "noscreenshots"
   ]
  },
  {
   "cell_type": "code",
   "execution_count": 20,
   "metadata": {
    "collapsed": true,
    "deletable": true,
    "editable": true
   },
   "outputs": [],
   "source": [
    "write.csv(recgli.noscreenshots, \"4thParse_researchPath_withInVivo.csv\", row.names = F)"
   ]
  },
  {
   "cell_type": "markdown",
   "metadata": {
    "deletable": true,
    "editable": true
   },
   "source": [
    "## 7. Remove those w/o pathological outcome assigned in multnom_out (missing pathology)\n"
   ]
  },
  {
   "cell_type": "code",
   "execution_count": 21,
   "metadata": {
    "collapsed": false,
    "deletable": true,
    "editable": true
   },
   "outputs": [],
   "source": [
    "recgli.noscreenshots = read.csv(\"4thParse_researchPath_withInVivo.csv\")"
   ]
  },
  {
   "cell_type": "code",
   "execution_count": 22,
   "metadata": {
    "collapsed": false,
    "deletable": true,
    "editable": true
   },
   "outputs": [
    {
     "data": {
      "text/html": [
       "<ol class=list-inline>\n",
       "\t<li>479</li>\n",
       "\t<li>72</li>\n",
       "</ol>\n"
      ],
      "text/latex": [
       "\\begin{enumerate*}\n",
       "\\item 479\n",
       "\\item 72\n",
       "\\end{enumerate*}\n"
      ],
      "text/markdown": [
       "1. 479\n",
       "2. 72\n",
       "\n",
       "\n"
      ],
      "text/plain": [
       "[1] 479  72"
      ]
     },
     "metadata": {},
     "output_type": "display_data"
    },
    {
     "data": {
      "text/html": [
       "<table>\n",
       "<thead><tr><th scope=col>data</th><th scope=col>patients</th><th scope=col>scans</th><th scope=col>samples</th></tr></thead>\n",
       "<tbody>\n",
       "\t<tr><td>old_po1</td><td>110    </td><td>113    </td><td>276    </td></tr>\n",
       "\t<tr><td>REC_HGG</td><td>68     </td><td>70     </td><td>203    </td></tr>\n",
       "\t<tr><td>TOTAL  </td><td>178    </td><td>183    </td><td>479    </td></tr>\n",
       "</tbody>\n",
       "</table>\n"
      ],
      "text/latex": [
       "\\begin{tabular}{llll}\n",
       " data & patients & scans & samples\\\\\n",
       "\\hline\n",
       "\t old\\_po1 & 110       & 113       & 276      \\\\\n",
       "\t REC\\_HGG & 68        & 70        & 203      \\\\\n",
       "\t TOTAL   & 178     & 183     & 479    \\\\\n",
       "\\end{tabular}\n"
      ],
      "text/markdown": [
       "\n",
       "data | patients | scans | samples | \n",
       "|---|---|---|\n",
       "| old_po1 | 110     | 113     | 276     | \n",
       "| REC_HGG | 68      | 70      | 203     | \n",
       "| TOTAL   | 178     | 183     | 479     | \n",
       "\n",
       "\n"
      ],
      "text/plain": [
       "     data    patients scans samples\n",
       "[1,] old_po1 110      113   276    \n",
       "[2,] REC_HGG 68       70    203    \n",
       "[3,] TOTAL   178      183   479    "
      ]
     },
     "metadata": {},
     "output_type": "display_data"
    }
   ],
   "source": [
    "nopath_index = c(grep(\"dneDNI\", recgli.noscreenshots$multnom_out))\n",
    "recgli.nopath = recgli.noscreenshots[-nopath_index,]\n",
    "dim(recgli.nopath) # 480 \n",
    "nopath = temp\n",
    "nopath[1,2] = sum(ifelse(duplicated(recgli.nopath$b_number)==FALSE & recgli.nopath$olddata==1, 1, 0))\n",
    "nopath[1,3] = sum(ifelse(duplicated(recgli.nopath$t_number)==FALSE & recgli.nopath$olddata==1, 1, 0))\n",
    "nopath[1,4] = sum(recgli.nopath$olddata==1)\n",
    "nopath[2,2] = sum(ifelse(duplicated(recgli.nopath$b_number)==FALSE & recgli.nopath$newdata==1, 1, 0))\n",
    "nopath[2,3] = sum(ifelse(duplicated(recgli.nopath$t_number)==FALSE & recgli.nopath$newdata==1, 1, 0))\n",
    "nopath[2,4] = sum(recgli.nopath$newdata==1)\n",
    "nopath[3,2:4]= as.numeric(nopath[1,2:4]) + as.numeric(nopath[2,2:4])\n",
    "nopath"
   ]
  },
  {
   "cell_type": "code",
   "execution_count": 23,
   "metadata": {
    "collapsed": true,
    "deletable": true,
    "editable": true
   },
   "outputs": [],
   "source": [
    "write.csv(recgli.nopath, \"5thParse_researchPath_withInVivo.csv\", row.names = F)"
   ]
  },
  {
   "cell_type": "markdown",
   "metadata": {
    "deletable": true,
    "editable": true
   },
   "source": [
    "## 8. Remove those whose imaging failed to be quantified for some reason \n"
   ]
  },
  {
   "cell_type": "code",
   "execution_count": 24,
   "metadata": {
    "collapsed": false,
    "deletable": true,
    "editable": true
   },
   "outputs": [
    {
     "data": {
      "text/html": [
       "<ol class=list-inline>\n",
       "\t<li>479</li>\n",
       "\t<li>72</li>\n",
       "</ol>\n"
      ],
      "text/latex": [
       "\\begin{enumerate*}\n",
       "\\item 479\n",
       "\\item 72\n",
       "\\end{enumerate*}\n"
      ],
      "text/markdown": [
       "1. 479\n",
       "2. 72\n",
       "\n",
       "\n"
      ],
      "text/plain": [
       "[1] 479  72"
      ]
     },
     "metadata": {},
     "output_type": "display_data"
    }
   ],
   "source": [
    "recgli.nopath = read.csv(\"5thParse_researchPath_withInVivo.csv\")\n",
    "dim(recgli.nopath)"
   ]
  },
  {
   "cell_type": "code",
   "execution_count": 25,
   "metadata": {
    "collapsed": false,
    "deletable": true,
    "editable": true
   },
   "outputs": [
    {
     "data": {
      "text/html": [
       "<ol class=list-inline>\n",
       "\t<li>441</li>\n",
       "\t<li>72</li>\n",
       "</ol>\n"
      ],
      "text/latex": [
       "\\begin{enumerate*}\n",
       "\\item 441\n",
       "\\item 72\n",
       "\\end{enumerate*}\n"
      ],
      "text/markdown": [
       "1. 441\n",
       "2. 72\n",
       "\n",
       "\n"
      ],
      "text/plain": [
       "[1] 441  72"
      ]
     },
     "metadata": {},
     "output_type": "display_data"
    },
    {
     "data": {
      "text/html": [
       "<table>\n",
       "<thead><tr><th scope=col>data</th><th scope=col>patients</th><th scope=col>scans</th><th scope=col>samples</th></tr></thead>\n",
       "<tbody>\n",
       "\t<tr><td>old_po1</td><td>97     </td><td>99     </td><td>244    </td></tr>\n",
       "\t<tr><td>REC_HGG</td><td>68     </td><td>70     </td><td>197    </td></tr>\n",
       "\t<tr><td>TOTAL  </td><td>165    </td><td>169    </td><td>441    </td></tr>\n",
       "</tbody>\n",
       "</table>\n"
      ],
      "text/latex": [
       "\\begin{tabular}{llll}\n",
       " data & patients & scans & samples\\\\\n",
       "\\hline\n",
       "\t old\\_po1 & 97        & 99        & 244      \\\\\n",
       "\t REC\\_HGG & 68        & 70        & 197      \\\\\n",
       "\t TOTAL   & 165     & 169     & 441    \\\\\n",
       "\\end{tabular}\n"
      ],
      "text/markdown": [
       "\n",
       "data | patients | scans | samples | \n",
       "|---|---|---|\n",
       "| old_po1 | 97      | 99      | 244     | \n",
       "| REC_HGG | 68      | 70      | 197     | \n",
       "| TOTAL   | 165     | 169     | 441     | \n",
       "\n",
       "\n"
      ],
      "text/plain": [
       "     data    patients scans samples\n",
       "[1,] old_po1 97       99    244    \n",
       "[2,] REC_HGG 68       70    197    \n",
       "[3,] TOTAL   165      169   441    "
      ]
     },
     "metadata": {},
     "output_type": "display_data"
    }
   ],
   "source": [
    "recgli.imagingfailed = recgli.nopath[-grep(\"biopsy_quant\", recgli.nopath$imaging_code),]\n",
    "dim(recgli.imagingfailed) # 438 \n",
    "imagingfailed = temp\n",
    "imagingfailed[1,2] = sum(ifelse(duplicated(recgli.imagingfailed$b_number)==FALSE & recgli.imagingfailed$olddata==1, 1, 0))\n",
    "imagingfailed[1,3] = sum(ifelse(duplicated(recgli.imagingfailed$t_number)==FALSE & recgli.imagingfailed$olddata==1, 1, 0))\n",
    "imagingfailed[1,4] = sum(recgli.imagingfailed$olddata==1)\n",
    "imagingfailed[2,2] = sum(ifelse(duplicated(recgli.imagingfailed$b_number)==FALSE & recgli.imagingfailed$newdata==1, 1, 0))\n",
    "imagingfailed[2,3] = sum(ifelse(duplicated(recgli.imagingfailed$t_number)==FALSE & recgli.imagingfailed$newdata==1, 1, 0))\n",
    "imagingfailed[2,4] = sum(recgli.imagingfailed$newdata==1)\n",
    "imagingfailed[3,2:4]= as.numeric(imagingfailed[1,2:4]) + as.numeric(imagingfailed[2,2:4])\n",
    "imagingfailed"
   ]
  },
  {
   "cell_type": "code",
   "execution_count": 26,
   "metadata": {
    "collapsed": true,
    "deletable": true,
    "editable": true
   },
   "outputs": [],
   "source": [
    "write.csv(recgli.imagingfailed, \"6thParse_researchPath_withInVivo.csv\", row.names = F)"
   ]
  },
  {
   "cell_type": "markdown",
   "metadata": {
    "deletable": true,
    "editable": true
   },
   "source": [
    "## 9. Remove ependymomas and other extraneous \n"
   ]
  },
  {
   "cell_type": "code",
   "execution_count": 27,
   "metadata": {
    "collapsed": true,
    "deletable": true,
    "editable": true
   },
   "outputs": [],
   "source": [
    "recgli.imagingfailed = read.csv(\"6thParse_researchPath_withInVivo.csv\")"
   ]
  },
  {
   "cell_type": "code",
   "execution_count": 28,
   "metadata": {
    "collapsed": false,
    "deletable": true,
    "editable": true
   },
   "outputs": [
    {
     "data": {
      "text/html": [
       "<ol class=list-inline>\n",
       "\t<li>441</li>\n",
       "\t<li>72</li>\n",
       "</ol>\n"
      ],
      "text/latex": [
       "\\begin{enumerate*}\n",
       "\\item 441\n",
       "\\item 72\n",
       "\\end{enumerate*}\n"
      ],
      "text/markdown": [
       "1. 441\n",
       "2. 72\n",
       "\n",
       "\n"
      ],
      "text/plain": [
       "[1] 441  72"
      ]
     },
     "metadata": {},
     "output_type": "display_data"
    },
    {
     "data": {
      "text/html": [
       "<ol class=list-inline>\n",
       "\t<li>'b_number'</li>\n",
       "\t<li>'t_number'</li>\n",
       "\t<li>'sf_number'</li>\n",
       "\t<li>'current_scan_date'</li>\n",
       "\t<li>'current_surgery_date'</li>\n",
       "\t<li>'current_hist_grade'</li>\n",
       "\t<li>'current_hist_type'</li>\n",
       "\t<li>'roi.label'</li>\n",
       "\t<li>'tumor_cell_evaluation'</li>\n",
       "\t<li>'necrosis'</li>\n",
       "\t<li>'f8_delicate'</li>\n",
       "\t<li>'f8_simple'</li>\n",
       "\t<li>'f8_complex'</li>\n",
       "\t<li>'mib_1'</li>\n",
       "\t<li>'bx_pure_treatment_effect'</li>\n",
       "\t<li>'nfse'</li>\n",
       "\t<li>'nfl'</li>\n",
       "\t<li>'nt1c'</li>\n",
       "\t<li>'nt1v'</li>\n",
       "\t<li>'nadc.1'</li>\n",
       "\t<li>'nfa.1'</li>\n",
       "\t<li>'nev1.1'</li>\n",
       "\t<li>'nev2.1'</li>\n",
       "\t<li>'nev3.1'</li>\n",
       "\t<li>'nevrad.1'</li>\n",
       "\t<li>'nadc.2'</li>\n",
       "\t<li>'nfa.2'</li>\n",
       "\t<li>'nev1.2'</li>\n",
       "\t<li>'nev2.2'</li>\n",
       "\t<li>'nev3.2'</li>\n",
       "\t<li>'nevrad.2'</li>\n",
       "\t<li>'cbvn_nlin'</li>\n",
       "\t<li>'phn_nlin'</li>\n",
       "\t<li>'phn_npar'</li>\n",
       "\t<li>'recovn_npar'</li>\n",
       "\t<li>'cni'</li>\n",
       "\t<li>'ccri'</li>\n",
       "\t<li>'crni'</li>\n",
       "\t<li>'ncho'</li>\n",
       "\t<li>'ncre'</li>\n",
       "\t<li>'nnaa'</li>\n",
       "\t<li>'nlip'</li>\n",
       "\t<li>'laclip'</li>\n",
       "\t<li>'nlac'</li>\n",
       "\t<li>'olddata'</li>\n",
       "\t<li>'newdata'</li>\n",
       "\t<li>'comments'</li>\n",
       "\t<li>'notes.'</li>\n",
       "\t<li>'imaging_code'</li>\n",
       "\t<li>'perf_quant'</li>\n",
       "\t<li>'spec_quant'</li>\n",
       "\t<li>'include_anat'</li>\n",
       "\t<li>'include_diffu1000'</li>\n",
       "\t<li>'include_diffu2000'</li>\n",
       "\t<li>'include_diffu_all'</li>\n",
       "\t<li>'include_perf'</li>\n",
       "\t<li>'include_spec'</li>\n",
       "\t<li>'include_one_advanced_mod'</li>\n",
       "\t<li>'include_all_advanced_mods'</li>\n",
       "\t<li>'X.CEL'</li>\n",
       "\t<li>'X.NEL'</li>\n",
       "\t<li>'X.NEC'</li>\n",
       "\t<li>'sum'</li>\n",
       "\t<li>'in_CEL'</li>\n",
       "\t<li>'in_T2all'</li>\n",
       "\t<li>'in_NEL'</li>\n",
       "\t<li>'in_NEC'</li>\n",
       "\t<li>'in_ROI'</li>\n",
       "\t<li>'multnom_out'</li>\n",
       "\t<li>'no_ffpe'</li>\n",
       "\t<li>'waiting_on_path'</li>\n",
       "\t<li>'rhgg_txe_analysis'</li>\n",
       "</ol>\n"
      ],
      "text/latex": [
       "\\begin{enumerate*}\n",
       "\\item 'b\\_number'\n",
       "\\item 't\\_number'\n",
       "\\item 'sf\\_number'\n",
       "\\item 'current\\_scan\\_date'\n",
       "\\item 'current\\_surgery\\_date'\n",
       "\\item 'current\\_hist\\_grade'\n",
       "\\item 'current\\_hist\\_type'\n",
       "\\item 'roi.label'\n",
       "\\item 'tumor\\_cell\\_evaluation'\n",
       "\\item 'necrosis'\n",
       "\\item 'f8\\_delicate'\n",
       "\\item 'f8\\_simple'\n",
       "\\item 'f8\\_complex'\n",
       "\\item 'mib\\_1'\n",
       "\\item 'bx\\_pure\\_treatment\\_effect'\n",
       "\\item 'nfse'\n",
       "\\item 'nfl'\n",
       "\\item 'nt1c'\n",
       "\\item 'nt1v'\n",
       "\\item 'nadc.1'\n",
       "\\item 'nfa.1'\n",
       "\\item 'nev1.1'\n",
       "\\item 'nev2.1'\n",
       "\\item 'nev3.1'\n",
       "\\item 'nevrad.1'\n",
       "\\item 'nadc.2'\n",
       "\\item 'nfa.2'\n",
       "\\item 'nev1.2'\n",
       "\\item 'nev2.2'\n",
       "\\item 'nev3.2'\n",
       "\\item 'nevrad.2'\n",
       "\\item 'cbvn\\_nlin'\n",
       "\\item 'phn\\_nlin'\n",
       "\\item 'phn\\_npar'\n",
       "\\item 'recovn\\_npar'\n",
       "\\item 'cni'\n",
       "\\item 'ccri'\n",
       "\\item 'crni'\n",
       "\\item 'ncho'\n",
       "\\item 'ncre'\n",
       "\\item 'nnaa'\n",
       "\\item 'nlip'\n",
       "\\item 'laclip'\n",
       "\\item 'nlac'\n",
       "\\item 'olddata'\n",
       "\\item 'newdata'\n",
       "\\item 'comments'\n",
       "\\item 'notes.'\n",
       "\\item 'imaging\\_code'\n",
       "\\item 'perf\\_quant'\n",
       "\\item 'spec\\_quant'\n",
       "\\item 'include\\_anat'\n",
       "\\item 'include\\_diffu1000'\n",
       "\\item 'include\\_diffu2000'\n",
       "\\item 'include\\_diffu\\_all'\n",
       "\\item 'include\\_perf'\n",
       "\\item 'include\\_spec'\n",
       "\\item 'include\\_one\\_advanced\\_mod'\n",
       "\\item 'include\\_all\\_advanced\\_mods'\n",
       "\\item 'X.CEL'\n",
       "\\item 'X.NEL'\n",
       "\\item 'X.NEC'\n",
       "\\item 'sum'\n",
       "\\item 'in\\_CEL'\n",
       "\\item 'in\\_T2all'\n",
       "\\item 'in\\_NEL'\n",
       "\\item 'in\\_NEC'\n",
       "\\item 'in\\_ROI'\n",
       "\\item 'multnom\\_out'\n",
       "\\item 'no\\_ffpe'\n",
       "\\item 'waiting\\_on\\_path'\n",
       "\\item 'rhgg\\_txe\\_analysis'\n",
       "\\end{enumerate*}\n"
      ],
      "text/markdown": [
       "1. 'b_number'\n",
       "2. 't_number'\n",
       "3. 'sf_number'\n",
       "4. 'current_scan_date'\n",
       "5. 'current_surgery_date'\n",
       "6. 'current_hist_grade'\n",
       "7. 'current_hist_type'\n",
       "8. 'roi.label'\n",
       "9. 'tumor_cell_evaluation'\n",
       "10. 'necrosis'\n",
       "11. 'f8_delicate'\n",
       "12. 'f8_simple'\n",
       "13. 'f8_complex'\n",
       "14. 'mib_1'\n",
       "15. 'bx_pure_treatment_effect'\n",
       "16. 'nfse'\n",
       "17. 'nfl'\n",
       "18. 'nt1c'\n",
       "19. 'nt1v'\n",
       "20. 'nadc.1'\n",
       "21. 'nfa.1'\n",
       "22. 'nev1.1'\n",
       "23. 'nev2.1'\n",
       "24. 'nev3.1'\n",
       "25. 'nevrad.1'\n",
       "26. 'nadc.2'\n",
       "27. 'nfa.2'\n",
       "28. 'nev1.2'\n",
       "29. 'nev2.2'\n",
       "30. 'nev3.2'\n",
       "31. 'nevrad.2'\n",
       "32. 'cbvn_nlin'\n",
       "33. 'phn_nlin'\n",
       "34. 'phn_npar'\n",
       "35. 'recovn_npar'\n",
       "36. 'cni'\n",
       "37. 'ccri'\n",
       "38. 'crni'\n",
       "39. 'ncho'\n",
       "40. 'ncre'\n",
       "41. 'nnaa'\n",
       "42. 'nlip'\n",
       "43. 'laclip'\n",
       "44. 'nlac'\n",
       "45. 'olddata'\n",
       "46. 'newdata'\n",
       "47. 'comments'\n",
       "48. 'notes.'\n",
       "49. 'imaging_code'\n",
       "50. 'perf_quant'\n",
       "51. 'spec_quant'\n",
       "52. 'include_anat'\n",
       "53. 'include_diffu1000'\n",
       "54. 'include_diffu2000'\n",
       "55. 'include_diffu_all'\n",
       "56. 'include_perf'\n",
       "57. 'include_spec'\n",
       "58. 'include_one_advanced_mod'\n",
       "59. 'include_all_advanced_mods'\n",
       "60. 'X.CEL'\n",
       "61. 'X.NEL'\n",
       "62. 'X.NEC'\n",
       "63. 'sum'\n",
       "64. 'in_CEL'\n",
       "65. 'in_T2all'\n",
       "66. 'in_NEL'\n",
       "67. 'in_NEC'\n",
       "68. 'in_ROI'\n",
       "69. 'multnom_out'\n",
       "70. 'no_ffpe'\n",
       "71. 'waiting_on_path'\n",
       "72. 'rhgg_txe_analysis'\n",
       "\n",
       "\n"
      ],
      "text/plain": [
       " [1] \"b_number\"                  \"t_number\"                 \n",
       " [3] \"sf_number\"                 \"current_scan_date\"        \n",
       " [5] \"current_surgery_date\"      \"current_hist_grade\"       \n",
       " [7] \"current_hist_type\"         \"roi.label\"                \n",
       " [9] \"tumor_cell_evaluation\"     \"necrosis\"                 \n",
       "[11] \"f8_delicate\"               \"f8_simple\"                \n",
       "[13] \"f8_complex\"                \"mib_1\"                    \n",
       "[15] \"bx_pure_treatment_effect\"  \"nfse\"                     \n",
       "[17] \"nfl\"                       \"nt1c\"                     \n",
       "[19] \"nt1v\"                      \"nadc.1\"                   \n",
       "[21] \"nfa.1\"                     \"nev1.1\"                   \n",
       "[23] \"nev2.1\"                    \"nev3.1\"                   \n",
       "[25] \"nevrad.1\"                  \"nadc.2\"                   \n",
       "[27] \"nfa.2\"                     \"nev1.2\"                   \n",
       "[29] \"nev2.2\"                    \"nev3.2\"                   \n",
       "[31] \"nevrad.2\"                  \"cbvn_nlin\"                \n",
       "[33] \"phn_nlin\"                  \"phn_npar\"                 \n",
       "[35] \"recovn_npar\"               \"cni\"                      \n",
       "[37] \"ccri\"                      \"crni\"                     \n",
       "[39] \"ncho\"                      \"ncre\"                     \n",
       "[41] \"nnaa\"                      \"nlip\"                     \n",
       "[43] \"laclip\"                    \"nlac\"                     \n",
       "[45] \"olddata\"                   \"newdata\"                  \n",
       "[47] \"comments\"                  \"notes.\"                   \n",
       "[49] \"imaging_code\"              \"perf_quant\"               \n",
       "[51] \"spec_quant\"                \"include_anat\"             \n",
       "[53] \"include_diffu1000\"         \"include_diffu2000\"        \n",
       "[55] \"include_diffu_all\"         \"include_perf\"             \n",
       "[57] \"include_spec\"              \"include_one_advanced_mod\" \n",
       "[59] \"include_all_advanced_mods\" \"X.CEL\"                    \n",
       "[61] \"X.NEL\"                     \"X.NEC\"                    \n",
       "[63] \"sum\"                       \"in_CEL\"                   \n",
       "[65] \"in_T2all\"                  \"in_NEL\"                   \n",
       "[67] \"in_NEC\"                    \"in_ROI\"                   \n",
       "[69] \"multnom_out\"               \"no_ffpe\"                  \n",
       "[71] \"waiting_on_path\"           \"rhgg_txe_analysis\"        "
      ]
     },
     "metadata": {},
     "output_type": "display_data"
    }
   ],
   "source": [
    "dim(recgli.imagingfailed)\n",
    "colnames(recgli.imagingfailed)"
   ]
  },
  {
   "cell_type": "code",
   "execution_count": 29,
   "metadata": {
    "collapsed": false,
    "deletable": true,
    "editable": true
   },
   "outputs": [
    {
     "data": {
      "text/html": [
       "<ol class=list-inline>\n",
       "\t<li>0</li>\n",
       "\t<li>72</li>\n",
       "</ol>\n"
      ],
      "text/latex": [
       "\\begin{enumerate*}\n",
       "\\item 0\n",
       "\\item 72\n",
       "\\end{enumerate*}\n"
      ],
      "text/markdown": [
       "1. 0\n",
       "2. 72\n",
       "\n",
       "\n"
      ],
      "text/plain": [
       "[1]  0 72"
      ]
     },
     "metadata": {},
     "output_type": "display_data"
    },
    {
     "data": {
      "text/html": [
       "<table>\n",
       "<thead><tr><th scope=col>data</th><th scope=col>patients</th><th scope=col>scans</th><th scope=col>samples</th></tr></thead>\n",
       "<tbody>\n",
       "\t<tr><td>old_po1</td><td>0      </td><td>0      </td><td>0      </td></tr>\n",
       "\t<tr><td>REC_HGG</td><td>0      </td><td>0      </td><td>0      </td></tr>\n",
       "\t<tr><td>TOTAL  </td><td>0      </td><td>0      </td><td>0      </td></tr>\n",
       "</tbody>\n",
       "</table>\n"
      ],
      "text/latex": [
       "\\begin{tabular}{llll}\n",
       " data & patients & scans & samples\\\\\n",
       "\\hline\n",
       "\t old\\_po1 & 0         & 0         & 0        \\\\\n",
       "\t REC\\_HGG & 0         & 0         & 0        \\\\\n",
       "\t TOTAL   & 0       & 0       & 0      \\\\\n",
       "\\end{tabular}\n"
      ],
      "text/markdown": [
       "\n",
       "data | patients | scans | samples | \n",
       "|---|---|---|\n",
       "| old_po1 | 0       | 0       | 0       | \n",
       "| REC_HGG | 0       | 0       | 0       | \n",
       "| TOTAL   | 0       | 0       | 0       | \n",
       "\n",
       "\n"
      ],
      "text/plain": [
       "     data    patients scans samples\n",
       "[1,] old_po1 0        0     0      \n",
       "[2,] REC_HGG 0        0     0      \n",
       "[3,] TOTAL   0        0     0      "
      ]
     },
     "metadata": {},
     "output_type": "display_data"
    }
   ],
   "source": [
    "recgli.desiredhist = recgli.imagingfailed[recgli.imagingfailed$desired_hist==1,]\n",
    "dim(recgli.desiredhist) \n",
    "desiredhist = temp\n",
    "desiredhist[1,2] = sum(ifelse(duplicated(recgli.desiredhist$b_number)==FALSE & recgli.desiredhist$olddata==1, 1, 0))\n",
    "desiredhist[1,3] = sum(ifelse(duplicated(recgli.desiredhist$t_number)==FALSE & recgli.desiredhist$olddata==1, 1, 0))\n",
    "desiredhist[1,4] = sum(recgli.desiredhist$olddata==1)\n",
    "desiredhist[2,2] = sum(ifelse(duplicated(recgli.desiredhist$b_number)==FALSE & recgli.desiredhist$newdata==1, 1, 0))\n",
    "desiredhist[2,3] = sum(ifelse(duplicated(recgli.desiredhist$t_number)==FALSE & recgli.desiredhist$newdata==1, 1, 0))\n",
    "desiredhist[2,4] = sum(recgli.desiredhist$newdata==1)\n",
    "desiredhist[3,2:4]= as.numeric(desiredhist[1,2:4]) + as.numeric(desiredhist[2,2:4])\n",
    "desiredhist"
   ]
  },
  {
   "cell_type": "code",
   "execution_count": null,
   "metadata": {
    "collapsed": true,
    "deletable": true,
    "editable": true
   },
   "outputs": [],
   "source": []
  },
  {
   "cell_type": "code",
   "execution_count": null,
   "metadata": {
    "collapsed": true,
    "deletable": true,
    "editable": true
   },
   "outputs": [],
   "source": []
  },
  {
   "cell_type": "code",
   "execution_count": null,
   "metadata": {
    "collapsed": true,
    "deletable": true,
    "editable": true
   },
   "outputs": [],
   "source": []
  }
 ],
 "metadata": {
  "kernelspec": {
   "display_name": "R",
   "language": "R",
   "name": "ir"
  },
  "language_info": {
   "codemirror_mode": "r",
   "file_extension": ".r",
   "mimetype": "text/x-r-source",
   "name": "R",
   "pygments_lexer": "r",
   "version": "3.4.0"
  }
 },
 "nbformat": 4,
 "nbformat_minor": 2
}
