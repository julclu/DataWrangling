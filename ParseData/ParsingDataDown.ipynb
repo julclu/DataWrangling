{
 "cells": [
  {
   "cell_type": "markdown",
   "metadata": {
    "collapsed": true,
    "deletable": true,
    "editable": true
   },
   "source": [
    "# Parsing data down to usable data"
   ]
  },
  {
   "cell_type": "markdown",
   "metadata": {
    "deletable": true,
    "editable": true
   },
   "source": [
    "#### In this notebook, we will take the output and perform a series of removals based on the output of biopsyAnnotation\n",
    "1. Create a template for investigating data\n",
    "2. Investigate all data, remove those that may be repeated (look for spaces in the biopsy name) [1stParse]\n",
    "3. Use template to look at all data \n",
    "4. Remove biopsies w/ missing tissue or consent [2ndParse]\n",
    "5. Remove those w/ no FFPE tissue [3rdParse]\n",
    "6. Remove those w/ missing screenshots from BrainLab Neuronav software [4thParse]\n",
    "7. Remove those w/o pathological outcome assigned in multnom_out (missing pathology) [5thParse]\n",
    "8. Remove those whose imaging failed to be quantified for some reason [6thParse]\n",
    "9. Remove ependymomas and other extraneous histologies [7thParse]\n",
    "10. Remove necrotic samples [8thParse]\n",
    "11. Only include rHGG or TxE [9thParse]"
   ]
  },
  {
   "cell_type": "markdown",
   "metadata": {
    "deletable": true,
    "editable": true
   },
   "source": [
    "## 1. Create template: "
   ]
  },
  {
   "cell_type": "code",
   "execution_count": 1,
   "metadata": {
    "collapsed": true,
    "deletable": true,
    "editable": true
   },
   "outputs": [],
   "source": [
    "options(repr.matrix.max.rows=600, repr.matrix.max.cols=200)\n",
    "\n",
    "temp = matrix(nrow = 3, ncol = 4)\n",
    "colnames(temp) = c(\"data\", \"patients\", \"scans\", \"samples\")\n",
    "temp[1,1] = \"old_po1\"\n",
    "temp[2,1] = \"REC_HGG\"\n",
    "temp[3,1] = \"TOTAL\""
   ]
  },
  {
   "cell_type": "markdown",
   "metadata": {
    "deletable": true,
    "editable": true
   },
   "source": [
    "## 2. Investigate data, remove those that look repeated, look for those w/ spaces in biopsy names (when merged w/ igt_stats data) "
   ]
  },
  {
   "cell_type": "code",
   "execution_count": 2,
   "metadata": {
    "collapsed": true,
    "deletable": true,
    "editable": true
   },
   "outputs": [],
   "source": [
    "recgli = read.csv(\"../AnnotateData/10thAnnot_researchPath_withInVivo.csv\")"
   ]
  },
  {
   "cell_type": "code",
   "execution_count": 3,
   "metadata": {
    "collapsed": false,
    "deletable": true,
    "editable": true
   },
   "outputs": [
    {
     "data": {
      "text/html": [
       "<ol class=list-inline>\n",
       "\t<li>627</li>\n",
       "\t<li>75</li>\n",
       "</ol>\n"
      ],
      "text/latex": [
       "\\begin{enumerate*}\n",
       "\\item 627\n",
       "\\item 75\n",
       "\\end{enumerate*}\n"
      ],
      "text/markdown": [
       "1. 627\n",
       "2. 75\n",
       "\n",
       "\n"
      ],
      "text/plain": [
       "[1] 627  75"
      ]
     },
     "metadata": {},
     "output_type": "display_data"
    }
   ],
   "source": [
    "dim(recgli)"
   ]
  },
  {
   "cell_type": "code",
   "execution_count": 4,
   "metadata": {
    "collapsed": false,
    "deletable": true,
    "editable": true
   },
   "outputs": [
    {
     "data": {
      "text/plain": [
       "\n",
       "FALSE  TRUE \n",
       "  615    12 "
      ]
     },
     "metadata": {},
     "output_type": "display_data"
    },
    {
     "data": {
      "text/html": [
       "<table>\n",
       "<thead><tr><th></th><th scope=col>b_number</th><th scope=col>t_number</th><th scope=col>sf_number</th><th scope=col>current_scan_date</th><th scope=col>current_surgery_date</th><th scope=col>current_hist_grade</th><th scope=col>current_hist_type</th><th scope=col>roi.label</th><th scope=col>tumor_cell_evaluation</th><th scope=col>necrosis</th><th scope=col>f8_delicate</th><th scope=col>f8_simple</th><th scope=col>f8_complex</th><th scope=col>mib_1</th><th scope=col>bx_pure_treatment_effect</th><th scope=col>nfse</th><th scope=col>nfl</th><th scope=col>nt1c</th><th scope=col>nt1v</th><th scope=col>nt1d</th><th scope=col>nadc.1</th><th scope=col>nfa.1</th><th scope=col>nev1.1</th><th scope=col>nev2.1</th><th scope=col>nev3.1</th><th scope=col>nevrad.1</th><th scope=col>nadc.2</th><th scope=col>nfa.2</th><th scope=col>nev1.2</th><th scope=col>nev2.2</th><th scope=col>nev3.2</th><th scope=col>nevrad.2</th><th scope=col>cbvn_nlin</th><th scope=col>phn_nlin</th><th scope=col>phn_npar</th><th scope=col>recovn_npar</th><th scope=col>cni</th><th scope=col>ccri</th><th scope=col>crni</th><th scope=col>ncho</th><th scope=col>ncre</th><th scope=col>nnaa</th><th scope=col>laclip</th><th scope=col>nlip</th><th scope=col>nlac</th><th scope=col>olddata</th><th scope=col>newdata</th><th scope=col>comments</th><th scope=col>notes.</th><th scope=col>imaging_code</th><th scope=col>perf_quant</th><th scope=col>cbv_nlin</th><th scope=col>spec_quant</th><th scope=col>include_anat</th><th scope=col>include_diffu1000</th><th scope=col>include_diffu2000</th><th scope=col>include_diffu_all</th><th scope=col>include_perf</th><th scope=col>include_spec</th><th scope=col>include_one_advanced_mod</th><th scope=col>include_all_advanced_mods</th><th scope=col>X.CEL</th><th scope=col>X.NEL</th><th scope=col>X.NEC</th><th scope=col>sum</th><th scope=col>in_CEL</th><th scope=col>in_T2all</th><th scope=col>in_NEL</th><th scope=col>in_NEC</th><th scope=col>in_ROI</th><th scope=col>desired_hist</th><th scope=col>multnom_out</th><th scope=col>no_ffpe</th><th scope=col>waiting_on_path</th><th scope=col>rhgg_txe_analysis</th></tr></thead>\n",
       "<tbody>\n",
       "\t<tr><th scope=row>381</th><td>3645                   </td><td> 9213                  </td><td>10138                  </td><td>2014-10-22             </td><td>2014-10-23             </td><td>Grade IV               </td><td>Glioblastoma           </td><td>49B74                  </td><td>3                      </td><td>0                      </td><td>                       </td><td>                       </td><td>                       </td><td>40.81                  </td><td>f                      </td><td>1.65                   </td><td>1.55                   </td><td>1.32                   </td><td>0.66                   </td><td>-6.92                  </td><td>1.70                   </td><td>0.50                   </td><td>1.39                   </td><td>1.66                   </td><td>1.83                   </td><td>1.73                   </td><td>1.74                   </td><td>0.61                   </td><td>  NA                   </td><td>  NA                   </td><td>  NA                   </td><td>  NA                   </td><td>1.62                   </td><td>1.29                   </td><td>1.24                   </td><td>100                    </td><td>  NA                   </td><td>  NA                   </td><td>  NA                   </td><td>  NA                   </td><td>  NA                   </td><td>  NA                   </td><td>  NA                   </td><td>  NA                   </td><td>  NA                   </td><td>0                      </td><td>1                      </td><td>                       </td><td>NA                     </td><td>NA                     </td><td>                       </td><td>NA                     </td><td>1                      </td><td>1                      </td><td>1                      </td><td>1                      </td><td>1                      </td><td>1                      </td><td>0                      </td><td>1                      </td><td>0                      </td><td>95.74                  </td><td> 4.26                  </td><td>NA                     </td><td>100                    </td><td>1                      </td><td>1                      </td><td>0                      </td><td>0                      </td><td>1                      </td><td>1                      </td><td>rHGG                   </td><td>0                      </td><td>0                      </td><td>1                      </td></tr>\n",
       "\t<tr><th scope=row>382</th><td>3645                   </td><td> 9213                  </td><td>10138                  </td><td>2014-10-22             </td><td>2014-10-23             </td><td>Grade IV               </td><td>Glioblastoma           </td><td>49B74                  </td><td>3                      </td><td>0                      </td><td>                       </td><td>                       </td><td>                       </td><td>40.81                  </td><td>f                      </td><td>1.65                   </td><td>1.55                   </td><td>1.32                   </td><td>0.66                   </td><td>-6.92                  </td><td>1.70                   </td><td>0.50                   </td><td>1.39                   </td><td>1.66                   </td><td>1.83                   </td><td>1.73                   </td><td>1.74                   </td><td>0.61                   </td><td>  NA                   </td><td>  NA                   </td><td>  NA                   </td><td>  NA                   </td><td>1.62                   </td><td>1.29                   </td><td>1.24                   </td><td>100                    </td><td>3.51                   </td><td>2.14                   </td><td>0.94                   </td><td>0.69                   </td><td>0.26                   </td><td>0.07                   </td><td>0.40                   </td><td>0.12                   </td><td>0.28                   </td><td>0                      </td><td>1                      </td><td>                       </td><td>NA                     </td><td>NA                     </td><td>                       </td><td>NA                     </td><td>0                      </td><td>1                      </td><td>1                      </td><td>1                      </td><td>1                      </td><td>1                      </td><td>1                      </td><td>1                      </td><td>1                      </td><td>95.74                  </td><td> 4.26                  </td><td>NA                     </td><td>100                    </td><td>1                      </td><td>1                      </td><td>0                      </td><td>0                      </td><td>1                      </td><td>1                      </td><td>rHGG                   </td><td>0                      </td><td>0                      </td><td>1                      </td></tr>\n",
       "\t<tr><th scope=row>383</th><td>3645                   </td><td> 9213                  </td><td>10138                  </td><td>2014-10-22             </td><td>2014-10-23             </td><td>Grade IV               </td><td>Glioblastoma           </td><td>49B74                  </td><td>3                      </td><td>0                      </td><td>                       </td><td>                       </td><td>                       </td><td>40.81                  </td><td>f                      </td><td>1.65                   </td><td>1.55                   </td><td>1.32                   </td><td>0.66                   </td><td>-6.92                  </td><td>1.70                   </td><td>0.50                   </td><td>1.39                   </td><td>1.66                   </td><td>1.83                   </td><td>1.73                   </td><td>1.74                   </td><td>0.61                   </td><td>  NA                   </td><td>  NA                   </td><td>  NA                   </td><td>  NA                   </td><td>1.62                   </td><td>1.29                   </td><td>1.24                   </td><td>100                    </td><td>3.51                   </td><td>2.14                   </td><td>0.94                   </td><td>0.69                   </td><td>0.26                   </td><td>0.07                   </td><td>0.40                   </td><td>0.12                   </td><td>0.28                   </td><td>0                      </td><td>1                      </td><td>                       </td><td>NA                     </td><td>NA                     </td><td>                       </td><td>NA                     </td><td>0                      </td><td>1                      </td><td>1                      </td><td>1                      </td><td>1                      </td><td>1                      </td><td>1                      </td><td>1                      </td><td>1                      </td><td>95.74                  </td><td> 4.26                  </td><td>NA                     </td><td>100                    </td><td>1                      </td><td>1                      </td><td>0                      </td><td>0                      </td><td>1                      </td><td>1                      </td><td>rHGG                   </td><td>0                      </td><td>0                      </td><td>1                      </td></tr>\n",
       "\t<tr><th scope=row>390</th><td>3670                   </td><td> 9288                  </td><td>10199                  </td><td>2014-12-16             </td><td>2014-12-17             </td><td>Grade IV               </td><td>Glioblastoma           </td><td>49B75                  </td><td>2                      </td><td>0                      </td><td>                       </td><td>                       </td><td>                       </td><td> 5.92                  </td><td>                       </td><td>1.74                   </td><td>1.82                   </td><td>1.35                   </td><td>0.92                   </td><td>-3.35                  </td><td>1.64                   </td><td>0.72                   </td><td>1.26                   </td><td>1.55                   </td><td>1.83                   </td><td>1.54                   </td><td>1.71                   </td><td>0.72                   </td><td>  NA                   </td><td>  NA                   </td><td>  NA                   </td><td>  NA                   </td><td>1.09                   </td><td>  NA                   </td><td>  NA                   </td><td> NA                    </td><td>  NA                   </td><td>  NA                   </td><td>  NA                   </td><td>  NA                   </td><td>  NA                   </td><td>  NA                   </td><td>  NA                   </td><td>  NA                   </td><td>  NA                   </td><td>0                      </td><td>1                      </td><td>\"foci of macrophages\"  </td><td>NA                     </td><td>NA                     </td><td>noPerf_or_makePerfIssue</td><td>NA                     </td><td>1                      </td><td>1                      </td><td>1                      </td><td>1                      </td><td>1                      </td><td>0                      </td><td>0                      </td><td>1                      </td><td>0                      </td><td>58.33                  </td><td>41.67                  </td><td> 0                     </td><td>100                    </td><td>1                      </td><td>1                      </td><td>0                      </td><td>0                      </td><td>1                      </td><td>1                      </td><td>rHGG                   </td><td>0                      </td><td>0                      </td><td>1                      </td></tr>\n",
       "\t<tr><th scope=row>391</th><td>3670                   </td><td> 9288                  </td><td>10199                  </td><td>2014-12-16             </td><td>2014-12-17             </td><td>Grade IV               </td><td>Glioblastoma           </td><td>49B75                  </td><td>2                      </td><td>0                      </td><td>                       </td><td>                       </td><td>                       </td><td> 5.92                  </td><td>                       </td><td>1.74                   </td><td>1.82                   </td><td>1.35                   </td><td>0.92                   </td><td>-3.35                  </td><td>1.64                   </td><td>0.72                   </td><td>1.26                   </td><td>1.55                   </td><td>1.83                   </td><td>1.54                   </td><td>1.71                   </td><td>0.72                   </td><td>  NA                   </td><td>  NA                   </td><td>  NA                   </td><td>  NA                   </td><td>1.09                   </td><td>  NA                   </td><td>  NA                   </td><td> NA                    </td><td>  NA                   </td><td>  NA                   </td><td>  NA                   </td><td>  NA                   </td><td>  NA                   </td><td>  NA                   </td><td>  NA                   </td><td>  NA                   </td><td>  NA                   </td><td>0                      </td><td>1                      </td><td>\"foci of macrophages\"  </td><td>NA                     </td><td>NA                     </td><td>noPerf_or_makePerfIssue</td><td>NA                     </td><td>1                      </td><td>1                      </td><td>1                      </td><td>1                      </td><td>1                      </td><td>0                      </td><td>0                      </td><td>1                      </td><td>0                      </td><td>58.33                  </td><td>41.67                  </td><td> 0                     </td><td>100                    </td><td>1                      </td><td>1                      </td><td>0                      </td><td>0                      </td><td>1                      </td><td>1                      </td><td>rHGG                   </td><td>0                      </td><td>0                      </td><td>1                      </td></tr>\n",
       "\t<tr><th scope=row>392</th><td>3670                   </td><td> 9288                  </td><td>10199                  </td><td>2014-12-16             </td><td>2014-12-17             </td><td>Grade IV               </td><td>Glioblastoma           </td><td>49B75                  </td><td>2                      </td><td>0                      </td><td>                       </td><td>                       </td><td>                       </td><td> 5.92                  </td><td>                       </td><td>1.74                   </td><td>1.82                   </td><td>1.35                   </td><td>0.92                   </td><td>-3.35                  </td><td>1.64                   </td><td>0.72                   </td><td>1.26                   </td><td>1.55                   </td><td>1.83                   </td><td>1.54                   </td><td>1.71                   </td><td>0.72                   </td><td>  NA                   </td><td>  NA                   </td><td>  NA                   </td><td>  NA                   </td><td>1.09                   </td><td>  NA                   </td><td>  NA                   </td><td> NA                    </td><td>  NA                   </td><td>  NA                   </td><td>  NA                   </td><td>  NA                   </td><td>  NA                   </td><td>  NA                   </td><td>  NA                   </td><td>  NA                   </td><td>  NA                   </td><td>0                      </td><td>1                      </td><td>\"foci of macrophages\"  </td><td>NA                     </td><td>NA                     </td><td>noPerf_or_makePerfIssue</td><td>NA                     </td><td>1                      </td><td>1                      </td><td>1                      </td><td>1                      </td><td>1                      </td><td>0                      </td><td>0                      </td><td>1                      </td><td>0                      </td><td>58.33                  </td><td>41.67                  </td><td> 0                     </td><td>100                    </td><td>1                      </td><td>1                      </td><td>0                      </td><td>0                      </td><td>1                      </td><td>1                      </td><td>rHGG                   </td><td>0                      </td><td>0                      </td><td>1                      </td></tr>\n",
       "\t<tr><th scope=row>425</th><td>3791                   </td><td> 9970                  </td><td>10507                  </td><td>2015-08-25             </td><td>2015-08-26             </td><td>Treatment Effect       </td><td>Treatment Effect       </td><td>49B78                  </td><td>3                      </td><td>0                      </td><td>                       </td><td>                       </td><td>                       </td><td>10.53                  </td><td>f                      </td><td>2.11                   </td><td>1.83                   </td><td>0.96                   </td><td>0.68                   </td><td>-2.03                  </td><td>1.97                   </td><td>0.50                   </td><td>1.54                   </td><td>1.79                   </td><td>2.08                   </td><td>1.85                   </td><td>1.99                   </td><td>0.61                   </td><td>1.49                   </td><td>1.72                   </td><td>2.03                   </td><td>1.79                   </td><td>0.59                   </td><td>0.57                   </td><td>0.55                   </td><td>100                    </td><td>  NA                   </td><td>  NA                   </td><td>  NA                   </td><td>  NA                   </td><td>  NA                   </td><td>  NA                   </td><td>  NA                   </td><td>  NA                   </td><td>  NA                   </td><td>0                      </td><td>1                      </td><td>                       </td><td>NA                     </td><td>NA                     </td><td>                       </td><td>NA                     </td><td>1                      </td><td>1                      </td><td>1                      </td><td>1                      </td><td>1                      </td><td>1                      </td><td>0                      </td><td>1                      </td><td>0                      </td><td>20.00                  </td><td>80.00                  </td><td> 0                     </td><td>100                    </td><td>0                      </td><td>1                      </td><td>1                      </td><td>0                      </td><td>1                      </td><td>1                      </td><td>rHGG                   </td><td>0                      </td><td>0                      </td><td>1                      </td></tr>\n",
       "\t<tr><th scope=row>426</th><td>3791                   </td><td> 9970                  </td><td>10507                  </td><td>2015-08-25             </td><td>2015-08-26             </td><td>Treatment Effect       </td><td>Treatment Effect       </td><td>49B78                  </td><td>3                      </td><td>0                      </td><td>                       </td><td>                       </td><td>                       </td><td>10.53                  </td><td>f                      </td><td>2.11                   </td><td>1.83                   </td><td>0.96                   </td><td>0.68                   </td><td>-2.03                  </td><td>1.97                   </td><td>0.50                   </td><td>1.54                   </td><td>1.79                   </td><td>2.08                   </td><td>1.85                   </td><td>1.99                   </td><td>0.61                   </td><td>1.49                   </td><td>1.72                   </td><td>2.03                   </td><td>1.79                   </td><td>0.59                   </td><td>0.57                   </td><td>0.55                   </td><td>100                    </td><td>1.54                   </td><td>0.51                   </td><td>1.02                   </td><td>0.68                   </td><td>0.51                   </td><td>0.27                   </td><td>0.86                   </td><td>0.86                   </td><td>0.86                   </td><td>0                      </td><td>1                      </td><td>                       </td><td>NA                     </td><td>NA                     </td><td>                       </td><td>NA                     </td><td>0                      </td><td>1                      </td><td>1                      </td><td>1                      </td><td>1                      </td><td>1                      </td><td>1                      </td><td>1                      </td><td>1                      </td><td>20.00                  </td><td>80.00                  </td><td> 0                     </td><td>100                    </td><td>0                      </td><td>1                      </td><td>1                      </td><td>0                      </td><td>1                      </td><td>1                      </td><td>rHGG                   </td><td>0                      </td><td>0                      </td><td>1                      </td></tr>\n",
       "\t<tr><th scope=row>427</th><td>3791                   </td><td> 9970                  </td><td>10507                  </td><td>2015-08-25             </td><td>2015-08-26             </td><td>Treatment Effect       </td><td>Treatment Effect       </td><td>49B78                  </td><td>3                      </td><td>0                      </td><td>                       </td><td>                       </td><td>                       </td><td>10.53                  </td><td>f                      </td><td>2.11                   </td><td>1.83                   </td><td>0.96                   </td><td>0.68                   </td><td>-2.03                  </td><td>1.97                   </td><td>0.50                   </td><td>1.54                   </td><td>1.79                   </td><td>2.08                   </td><td>1.85                   </td><td>1.99                   </td><td>0.61                   </td><td>1.49                   </td><td>1.72                   </td><td>2.03                   </td><td>1.79                   </td><td>0.59                   </td><td>0.57                   </td><td>0.55                   </td><td>100                    </td><td>1.54                   </td><td>0.51                   </td><td>1.02                   </td><td>0.68                   </td><td>0.51                   </td><td>0.27                   </td><td>0.86                   </td><td>0.86                   </td><td>0.86                   </td><td>0                      </td><td>1                      </td><td>                       </td><td>NA                     </td><td>NA                     </td><td>                       </td><td>NA                     </td><td>0                      </td><td>1                      </td><td>1                      </td><td>1                      </td><td>1                      </td><td>1                      </td><td>1                      </td><td>1                      </td><td>1                      </td><td>20.00                  </td><td>80.00                  </td><td> 0                     </td><td>100                    </td><td>0                      </td><td>1                      </td><td>1                      </td><td>0                      </td><td>1                      </td><td>1                      </td><td>rHGG                   </td><td>0                      </td><td>0                      </td><td>1                      </td></tr>\n",
       "\t<tr><th scope=row>530</th><td>3783                   </td><td>11192                  </td><td>11150                  </td><td>2017-01-29             </td><td>2017-01-30             </td><td>Grade III              </td><td>Astrocytoma            </td><td>36B97                  </td><td>3                      </td><td>0                      </td><td>2                      </td><td>1                      </td><td>0                      </td><td> 9.56                  </td><td>f                      </td><td>1.80                   </td><td>1.86                   </td><td>1.39                   </td><td>1.26                   </td><td>-1.17                  </td><td>1.67                   </td><td>0.73                   </td><td>1.42                   </td><td>1.60                   </td><td>1.77                   </td><td>1.60                   </td><td>1.69                   </td><td>1.06                   </td><td>1.40                   </td><td>1.46                   </td><td>1.64                   </td><td>1.52                   </td><td>0.67                   </td><td>0.79                   </td><td>0.75                   </td><td>100                    </td><td>  NA                   </td><td>  NA                   </td><td>  NA                   </td><td>  NA                   </td><td>  NA                   </td><td>  NA                   </td><td>  NA                   </td><td>  NA                   </td><td>  NA                   </td><td>0                      </td><td>1                      </td><td>                       </td><td>NA                     </td><td>NA                     </td><td>                       </td><td>NA                     </td><td>1                      </td><td>1                      </td><td>1                      </td><td>1                      </td><td>1                      </td><td>1                      </td><td>0                      </td><td>1                      </td><td>0                      </td><td>33.33                  </td><td>66.67                  </td><td>NA                     </td><td>100                    </td><td>1                      </td><td>1                      </td><td>1                      </td><td>0                      </td><td>1                      </td><td>1                      </td><td>rHGG                   </td><td>0                      </td><td>0                      </td><td>1                      </td></tr>\n",
       "\t<tr><th scope=row>531</th><td>3783                   </td><td>11192                  </td><td>11150                  </td><td>2017-01-29             </td><td>2017-01-30             </td><td>Grade III              </td><td>Astrocytoma            </td><td>36B97                  </td><td>3                      </td><td>0                      </td><td>2                      </td><td>1                      </td><td>0                      </td><td> 9.56                  </td><td>f                      </td><td>1.80                   </td><td>1.86                   </td><td>1.39                   </td><td>1.26                   </td><td>-1.17                  </td><td>1.67                   </td><td>0.73                   </td><td>1.42                   </td><td>1.60                   </td><td>1.77                   </td><td>1.60                   </td><td>1.69                   </td><td>1.06                   </td><td>1.40                   </td><td>1.46                   </td><td>1.64                   </td><td>1.52                   </td><td>0.67                   </td><td>0.79                   </td><td>0.75                   </td><td>100                    </td><td>5.83                   </td><td>4.55                   </td><td>0.31                   </td><td>1.97                   </td><td>0.90                   </td><td>0.81                   </td><td>0.05                   </td><td>0.05                   </td><td>0.05                   </td><td>0                      </td><td>1                      </td><td>                       </td><td>NA                     </td><td>NA                     </td><td>                       </td><td>NA                     </td><td>0                      </td><td>1                      </td><td>1                      </td><td>1                      </td><td>1                      </td><td>1                      </td><td>1                      </td><td>1                      </td><td>1                      </td><td>33.33                  </td><td>66.67                  </td><td>NA                     </td><td>100                    </td><td>1                      </td><td>1                      </td><td>1                      </td><td>0                      </td><td>1                      </td><td>1                      </td><td>rHGG                   </td><td>0                      </td><td>0                      </td><td>1                      </td></tr>\n",
       "\t<tr><th scope=row>532</th><td>3783                   </td><td>11192                  </td><td>11150                  </td><td>2017-01-29             </td><td>2017-01-30             </td><td>Grade III              </td><td>Astrocytoma            </td><td>36B97                  </td><td>3                      </td><td>0                      </td><td>2                      </td><td>1                      </td><td>0                      </td><td> 9.56                  </td><td>f                      </td><td>1.80                   </td><td>1.86                   </td><td>1.39                   </td><td>1.26                   </td><td>-1.17                  </td><td>1.67                   </td><td>0.73                   </td><td>1.42                   </td><td>1.60                   </td><td>1.77                   </td><td>1.60                   </td><td>1.69                   </td><td>1.06                   </td><td>1.40                   </td><td>1.46                   </td><td>1.64                   </td><td>1.52                   </td><td>0.67                   </td><td>0.79                   </td><td>0.75                   </td><td>100                    </td><td>5.83                   </td><td>4.55                   </td><td>0.31                   </td><td>1.97                   </td><td>0.90                   </td><td>0.81                   </td><td>0.05                   </td><td>0.05                   </td><td>0.05                   </td><td>0                      </td><td>1                      </td><td>                       </td><td>NA                     </td><td>NA                     </td><td>                       </td><td>NA                     </td><td>0                      </td><td>1                      </td><td>1                      </td><td>1                      </td><td>1                      </td><td>1                      </td><td>1                      </td><td>1                      </td><td>1                      </td><td>33.33                  </td><td>66.67                  </td><td>NA                     </td><td>100                    </td><td>1                      </td><td>1                      </td><td>1                      </td><td>0                      </td><td>1                      </td><td>1                      </td><td>rHGG                   </td><td>0                      </td><td>0                      </td><td>1                      </td></tr>\n",
       "</tbody>\n",
       "</table>\n"
      ],
      "text/latex": [
       "\\begin{tabular}{r|lllllllllllllllllllllllllllllllllllllllllllllllllllllllllllllllllllllllllll}\n",
       "  & b\\_number & t\\_number & sf\\_number & current\\_scan\\_date & current\\_surgery\\_date & current\\_hist\\_grade & current\\_hist\\_type & roi.label & tumor\\_cell\\_evaluation & necrosis & f8\\_delicate & f8\\_simple & f8\\_complex & mib\\_1 & bx\\_pure\\_treatment\\_effect & nfse & nfl & nt1c & nt1v & nt1d & nadc.1 & nfa.1 & nev1.1 & nev2.1 & nev3.1 & nevrad.1 & nadc.2 & nfa.2 & nev1.2 & nev2.2 & nev3.2 & nevrad.2 & cbvn\\_nlin & phn\\_nlin & phn\\_npar & recovn\\_npar & cni & ccri & crni & ncho & ncre & nnaa & laclip & nlip & nlac & olddata & newdata & comments & notes. & imaging\\_code & perf\\_quant & cbv\\_nlin & spec\\_quant & include\\_anat & include\\_diffu1000 & include\\_diffu2000 & include\\_diffu\\_all & include\\_perf & include\\_spec & include\\_one\\_advanced\\_mod & include\\_all\\_advanced\\_mods & X.CEL & X.NEL & X.NEC & sum & in\\_CEL & in\\_T2all & in\\_NEL & in\\_NEC & in\\_ROI & desired\\_hist & multnom\\_out & no\\_ffpe & waiting\\_on\\_path & rhgg\\_txe\\_analysis\\\\\n",
       "\\hline\n",
       "\t381 & 3645                    &  9213                   & 10138                   & 2014-10-22              & 2014-10-23              & Grade IV                & Glioblastoma            & 49B74                   & 3                       & 0                       &                         &                         &                         & 40.81                   & f                       & 1.65                    & 1.55                    & 1.32                    & 0.66                    & -6.92                   & 1.70                    & 0.50                    & 1.39                    & 1.66                    & 1.83                    & 1.73                    & 1.74                    & 0.61                    &   NA                    &   NA                    &   NA                    &   NA                    & 1.62                    & 1.29                    & 1.24                    & 100                     &   NA                    &   NA                    &   NA                    &   NA                    &   NA                    &   NA                    &   NA                    &   NA                    &   NA                    & 0                       & 1                       &                         & NA                      & NA                      &                         & NA                      & 1                       & 1                       & 1                       & 1                       & 1                       & 1                       & 0                       & 1                       & 0                       & 95.74                   &  4.26                   & NA                      & 100                     & 1                       & 1                       & 0                       & 0                       & 1                       & 1                       & rHGG                    & 0                       & 0                       & 1                      \\\\\n",
       "\t382 & 3645                    &  9213                   & 10138                   & 2014-10-22              & 2014-10-23              & Grade IV                & Glioblastoma            & 49B74                   & 3                       & 0                       &                         &                         &                         & 40.81                   & f                       & 1.65                    & 1.55                    & 1.32                    & 0.66                    & -6.92                   & 1.70                    & 0.50                    & 1.39                    & 1.66                    & 1.83                    & 1.73                    & 1.74                    & 0.61                    &   NA                    &   NA                    &   NA                    &   NA                    & 1.62                    & 1.29                    & 1.24                    & 100                     & 3.51                    & 2.14                    & 0.94                    & 0.69                    & 0.26                    & 0.07                    & 0.40                    & 0.12                    & 0.28                    & 0                       & 1                       &                         & NA                      & NA                      &                         & NA                      & 0                       & 1                       & 1                       & 1                       & 1                       & 1                       & 1                       & 1                       & 1                       & 95.74                   &  4.26                   & NA                      & 100                     & 1                       & 1                       & 0                       & 0                       & 1                       & 1                       & rHGG                    & 0                       & 0                       & 1                      \\\\\n",
       "\t383 & 3645                    &  9213                   & 10138                   & 2014-10-22              & 2014-10-23              & Grade IV                & Glioblastoma            & 49B74                   & 3                       & 0                       &                         &                         &                         & 40.81                   & f                       & 1.65                    & 1.55                    & 1.32                    & 0.66                    & -6.92                   & 1.70                    & 0.50                    & 1.39                    & 1.66                    & 1.83                    & 1.73                    & 1.74                    & 0.61                    &   NA                    &   NA                    &   NA                    &   NA                    & 1.62                    & 1.29                    & 1.24                    & 100                     & 3.51                    & 2.14                    & 0.94                    & 0.69                    & 0.26                    & 0.07                    & 0.40                    & 0.12                    & 0.28                    & 0                       & 1                       &                         & NA                      & NA                      &                         & NA                      & 0                       & 1                       & 1                       & 1                       & 1                       & 1                       & 1                       & 1                       & 1                       & 95.74                   &  4.26                   & NA                      & 100                     & 1                       & 1                       & 0                       & 0                       & 1                       & 1                       & rHGG                    & 0                       & 0                       & 1                      \\\\\n",
       "\t390 & 3670                        &  9288                       & 10199                       & 2014-12-16                  & 2014-12-17                  & Grade IV                    & Glioblastoma                & 49B75                       & 2                           & 0                           &                             &                             &                             &  5.92                       &                             & 1.74                        & 1.82                        & 1.35                        & 0.92                        & -3.35                       & 1.64                        & 0.72                        & 1.26                        & 1.55                        & 1.83                        & 1.54                        & 1.71                        & 0.72                        &   NA                        &   NA                        &   NA                        &   NA                        & 1.09                        &   NA                        &   NA                        &  NA                         &   NA                        &   NA                        &   NA                        &   NA                        &   NA                        &   NA                        &   NA                        &   NA                        &   NA                        & 0                           & 1                           & \"foci of macrophages\"       & NA                          & NA                          & noPerf\\_or\\_makePerfIssue & NA                          & 1                           & 1                           & 1                           & 1                           & 1                           & 0                           & 0                           & 1                           & 0                           & 58.33                       & 41.67                       &  0                          & 100                         & 1                           & 1                           & 0                           & 0                           & 1                           & 1                           & rHGG                        & 0                           & 0                           & 1                          \\\\\n",
       "\t391 & 3670                        &  9288                       & 10199                       & 2014-12-16                  & 2014-12-17                  & Grade IV                    & Glioblastoma                & 49B75                       & 2                           & 0                           &                             &                             &                             &  5.92                       &                             & 1.74                        & 1.82                        & 1.35                        & 0.92                        & -3.35                       & 1.64                        & 0.72                        & 1.26                        & 1.55                        & 1.83                        & 1.54                        & 1.71                        & 0.72                        &   NA                        &   NA                        &   NA                        &   NA                        & 1.09                        &   NA                        &   NA                        &  NA                         &   NA                        &   NA                        &   NA                        &   NA                        &   NA                        &   NA                        &   NA                        &   NA                        &   NA                        & 0                           & 1                           & \"foci of macrophages\"       & NA                          & NA                          & noPerf\\_or\\_makePerfIssue & NA                          & 1                           & 1                           & 1                           & 1                           & 1                           & 0                           & 0                           & 1                           & 0                           & 58.33                       & 41.67                       &  0                          & 100                         & 1                           & 1                           & 0                           & 0                           & 1                           & 1                           & rHGG                        & 0                           & 0                           & 1                          \\\\\n",
       "\t392 & 3670                        &  9288                       & 10199                       & 2014-12-16                  & 2014-12-17                  & Grade IV                    & Glioblastoma                & 49B75                       & 2                           & 0                           &                             &                             &                             &  5.92                       &                             & 1.74                        & 1.82                        & 1.35                        & 0.92                        & -3.35                       & 1.64                        & 0.72                        & 1.26                        & 1.55                        & 1.83                        & 1.54                        & 1.71                        & 0.72                        &   NA                        &   NA                        &   NA                        &   NA                        & 1.09                        &   NA                        &   NA                        &  NA                         &   NA                        &   NA                        &   NA                        &   NA                        &   NA                        &   NA                        &   NA                        &   NA                        &   NA                        & 0                           & 1                           & \"foci of macrophages\"       & NA                          & NA                          & noPerf\\_or\\_makePerfIssue & NA                          & 1                           & 1                           & 1                           & 1                           & 1                           & 0                           & 0                           & 1                           & 0                           & 58.33                       & 41.67                       &  0                          & 100                         & 1                           & 1                           & 0                           & 0                           & 1                           & 1                           & rHGG                        & 0                           & 0                           & 1                          \\\\\n",
       "\t425 & 3791                    &  9970                   & 10507                   & 2015-08-25              & 2015-08-26              & Treatment Effect        & Treatment Effect        & 49B78                   & 3                       & 0                       &                         &                         &                         & 10.53                   & f                       & 2.11                    & 1.83                    & 0.96                    & 0.68                    & -2.03                   & 1.97                    & 0.50                    & 1.54                    & 1.79                    & 2.08                    & 1.85                    & 1.99                    & 0.61                    & 1.49                    & 1.72                    & 2.03                    & 1.79                    & 0.59                    & 0.57                    & 0.55                    & 100                     &   NA                    &   NA                    &   NA                    &   NA                    &   NA                    &   NA                    &   NA                    &   NA                    &   NA                    & 0                       & 1                       &                         & NA                      & NA                      &                         & NA                      & 1                       & 1                       & 1                       & 1                       & 1                       & 1                       & 0                       & 1                       & 0                       & 20.00                   & 80.00                   &  0                      & 100                     & 0                       & 1                       & 1                       & 0                       & 1                       & 1                       & rHGG                    & 0                       & 0                       & 1                      \\\\\n",
       "\t426 & 3791                    &  9970                   & 10507                   & 2015-08-25              & 2015-08-26              & Treatment Effect        & Treatment Effect        & 49B78                   & 3                       & 0                       &                         &                         &                         & 10.53                   & f                       & 2.11                    & 1.83                    & 0.96                    & 0.68                    & -2.03                   & 1.97                    & 0.50                    & 1.54                    & 1.79                    & 2.08                    & 1.85                    & 1.99                    & 0.61                    & 1.49                    & 1.72                    & 2.03                    & 1.79                    & 0.59                    & 0.57                    & 0.55                    & 100                     & 1.54                    & 0.51                    & 1.02                    & 0.68                    & 0.51                    & 0.27                    & 0.86                    & 0.86                    & 0.86                    & 0                       & 1                       &                         & NA                      & NA                      &                         & NA                      & 0                       & 1                       & 1                       & 1                       & 1                       & 1                       & 1                       & 1                       & 1                       & 20.00                   & 80.00                   &  0                      & 100                     & 0                       & 1                       & 1                       & 0                       & 1                       & 1                       & rHGG                    & 0                       & 0                       & 1                      \\\\\n",
       "\t427 & 3791                    &  9970                   & 10507                   & 2015-08-25              & 2015-08-26              & Treatment Effect        & Treatment Effect        & 49B78                   & 3                       & 0                       &                         &                         &                         & 10.53                   & f                       & 2.11                    & 1.83                    & 0.96                    & 0.68                    & -2.03                   & 1.97                    & 0.50                    & 1.54                    & 1.79                    & 2.08                    & 1.85                    & 1.99                    & 0.61                    & 1.49                    & 1.72                    & 2.03                    & 1.79                    & 0.59                    & 0.57                    & 0.55                    & 100                     & 1.54                    & 0.51                    & 1.02                    & 0.68                    & 0.51                    & 0.27                    & 0.86                    & 0.86                    & 0.86                    & 0                       & 1                       &                         & NA                      & NA                      &                         & NA                      & 0                       & 1                       & 1                       & 1                       & 1                       & 1                       & 1                       & 1                       & 1                       & 20.00                   & 80.00                   &  0                      & 100                     & 0                       & 1                       & 1                       & 0                       & 1                       & 1                       & rHGG                    & 0                       & 0                       & 1                      \\\\\n",
       "\t530 & 3783                    & 11192                   & 11150                   & 2017-01-29              & 2017-01-30              & Grade III               & Astrocytoma             & 36B97                   & 3                       & 0                       & 2                       & 1                       & 0                       &  9.56                   & f                       & 1.80                    & 1.86                    & 1.39                    & 1.26                    & -1.17                   & 1.67                    & 0.73                    & 1.42                    & 1.60                    & 1.77                    & 1.60                    & 1.69                    & 1.06                    & 1.40                    & 1.46                    & 1.64                    & 1.52                    & 0.67                    & 0.79                    & 0.75                    & 100                     &   NA                    &   NA                    &   NA                    &   NA                    &   NA                    &   NA                    &   NA                    &   NA                    &   NA                    & 0                       & 1                       &                         & NA                      & NA                      &                         & NA                      & 1                       & 1                       & 1                       & 1                       & 1                       & 1                       & 0                       & 1                       & 0                       & 33.33                   & 66.67                   & NA                      & 100                     & 1                       & 1                       & 1                       & 0                       & 1                       & 1                       & rHGG                    & 0                       & 0                       & 1                      \\\\\n",
       "\t531 & 3783                    & 11192                   & 11150                   & 2017-01-29              & 2017-01-30              & Grade III               & Astrocytoma             & 36B97                   & 3                       & 0                       & 2                       & 1                       & 0                       &  9.56                   & f                       & 1.80                    & 1.86                    & 1.39                    & 1.26                    & -1.17                   & 1.67                    & 0.73                    & 1.42                    & 1.60                    & 1.77                    & 1.60                    & 1.69                    & 1.06                    & 1.40                    & 1.46                    & 1.64                    & 1.52                    & 0.67                    & 0.79                    & 0.75                    & 100                     & 5.83                    & 4.55                    & 0.31                    & 1.97                    & 0.90                    & 0.81                    & 0.05                    & 0.05                    & 0.05                    & 0                       & 1                       &                         & NA                      & NA                      &                         & NA                      & 0                       & 1                       & 1                       & 1                       & 1                       & 1                       & 1                       & 1                       & 1                       & 33.33                   & 66.67                   & NA                      & 100                     & 1                       & 1                       & 1                       & 0                       & 1                       & 1                       & rHGG                    & 0                       & 0                       & 1                      \\\\\n",
       "\t532 & 3783                    & 11192                   & 11150                   & 2017-01-29              & 2017-01-30              & Grade III               & Astrocytoma             & 36B97                   & 3                       & 0                       & 2                       & 1                       & 0                       &  9.56                   & f                       & 1.80                    & 1.86                    & 1.39                    & 1.26                    & -1.17                   & 1.67                    & 0.73                    & 1.42                    & 1.60                    & 1.77                    & 1.60                    & 1.69                    & 1.06                    & 1.40                    & 1.46                    & 1.64                    & 1.52                    & 0.67                    & 0.79                    & 0.75                    & 100                     & 5.83                    & 4.55                    & 0.31                    & 1.97                    & 0.90                    & 0.81                    & 0.05                    & 0.05                    & 0.05                    & 0                       & 1                       &                         & NA                      & NA                      &                         & NA                      & 0                       & 1                       & 1                       & 1                       & 1                       & 1                       & 1                       & 1                       & 1                       & 33.33                   & 66.67                   & NA                      & 100                     & 1                       & 1                       & 1                       & 0                       & 1                       & 1                       & rHGG                    & 0                       & 0                       & 1                      \\\\\n",
       "\\end{tabular}\n"
      ],
      "text/markdown": [
       "\n",
       "| <!--/--> | b_number | t_number | sf_number | current_scan_date | current_surgery_date | current_hist_grade | current_hist_type | roi.label | tumor_cell_evaluation | necrosis | f8_delicate | f8_simple | f8_complex | mib_1 | bx_pure_treatment_effect | nfse | nfl | nt1c | nt1v | nt1d | nadc.1 | nfa.1 | nev1.1 | nev2.1 | nev3.1 | nevrad.1 | nadc.2 | nfa.2 | nev1.2 | nev2.2 | nev3.2 | nevrad.2 | cbvn_nlin | phn_nlin | phn_npar | recovn_npar | cni | ccri | crni | ncho | ncre | nnaa | laclip | nlip | nlac | olddata | newdata | comments | notes. | imaging_code | perf_quant | cbv_nlin | spec_quant | include_anat | include_diffu1000 | include_diffu2000 | include_diffu_all | include_perf | include_spec | include_one_advanced_mod | include_all_advanced_mods | X.CEL | X.NEL | X.NEC | sum | in_CEL | in_T2all | in_NEL | in_NEC | in_ROI | desired_hist | multnom_out | no_ffpe | waiting_on_path | rhgg_txe_analysis | \n",
       "|---|---|---|---|---|---|---|---|---|---|---|---|\n",
       "| 381 | 3645                    |  9213                   | 10138                   | 2014-10-22              | 2014-10-23              | Grade IV                | Glioblastoma            | 49B74                   | 3                       | 0                       |                         |                         |                         | 40.81                   | f                       | 1.65                    | 1.55                    | 1.32                    | 0.66                    | -6.92                   | 1.70                    | 0.50                    | 1.39                    | 1.66                    | 1.83                    | 1.73                    | 1.74                    | 0.61                    |   NA                    |   NA                    |   NA                    |   NA                    | 1.62                    | 1.29                    | 1.24                    | 100                     |   NA                    |   NA                    |   NA                    |   NA                    |   NA                    |   NA                    |   NA                    |   NA                    |   NA                    | 0                       | 1                       |                         | NA                      | NA                      |                         | NA                      | 1                       | 1                       | 1                       | 1                       | 1                       | 1                       | 0                       | 1                       | 0                       | 95.74                   |  4.26                   | NA                      | 100                     | 1                       | 1                       | 0                       | 0                       | 1                       | 1                       | rHGG                    | 0                       | 0                       | 1                       | \n",
       "| 382 | 3645                    |  9213                   | 10138                   | 2014-10-22              | 2014-10-23              | Grade IV                | Glioblastoma            | 49B74                   | 3                       | 0                       |                         |                         |                         | 40.81                   | f                       | 1.65                    | 1.55                    | 1.32                    | 0.66                    | -6.92                   | 1.70                    | 0.50                    | 1.39                    | 1.66                    | 1.83                    | 1.73                    | 1.74                    | 0.61                    |   NA                    |   NA                    |   NA                    |   NA                    | 1.62                    | 1.29                    | 1.24                    | 100                     | 3.51                    | 2.14                    | 0.94                    | 0.69                    | 0.26                    | 0.07                    | 0.40                    | 0.12                    | 0.28                    | 0                       | 1                       |                         | NA                      | NA                      |                         | NA                      | 0                       | 1                       | 1                       | 1                       | 1                       | 1                       | 1                       | 1                       | 1                       | 95.74                   |  4.26                   | NA                      | 100                     | 1                       | 1                       | 0                       | 0                       | 1                       | 1                       | rHGG                    | 0                       | 0                       | 1                       | \n",
       "| 383 | 3645                    |  9213                   | 10138                   | 2014-10-22              | 2014-10-23              | Grade IV                | Glioblastoma            | 49B74                   | 3                       | 0                       |                         |                         |                         | 40.81                   | f                       | 1.65                    | 1.55                    | 1.32                    | 0.66                    | -6.92                   | 1.70                    | 0.50                    | 1.39                    | 1.66                    | 1.83                    | 1.73                    | 1.74                    | 0.61                    |   NA                    |   NA                    |   NA                    |   NA                    | 1.62                    | 1.29                    | 1.24                    | 100                     | 3.51                    | 2.14                    | 0.94                    | 0.69                    | 0.26                    | 0.07                    | 0.40                    | 0.12                    | 0.28                    | 0                       | 1                       |                         | NA                      | NA                      |                         | NA                      | 0                       | 1                       | 1                       | 1                       | 1                       | 1                       | 1                       | 1                       | 1                       | 95.74                   |  4.26                   | NA                      | 100                     | 1                       | 1                       | 0                       | 0                       | 1                       | 1                       | rHGG                    | 0                       | 0                       | 1                       | \n",
       "| 390 | 3670                    |  9288                   | 10199                   | 2014-12-16              | 2014-12-17              | Grade IV                | Glioblastoma            | 49B75                   | 2                       | 0                       |                         |                         |                         |  5.92                   |                         | 1.74                    | 1.82                    | 1.35                    | 0.92                    | -3.35                   | 1.64                    | 0.72                    | 1.26                    | 1.55                    | 1.83                    | 1.54                    | 1.71                    | 0.72                    |   NA                    |   NA                    |   NA                    |   NA                    | 1.09                    |   NA                    |   NA                    |  NA                     |   NA                    |   NA                    |   NA                    |   NA                    |   NA                    |   NA                    |   NA                    |   NA                    |   NA                    | 0                       | 1                       | \"foci of macrophages\"   | NA                      | NA                      | noPerf_or_makePerfIssue | NA                      | 1                       | 1                       | 1                       | 1                       | 1                       | 0                       | 0                       | 1                       | 0                       | 58.33                   | 41.67                   |  0                      | 100                     | 1                       | 1                       | 0                       | 0                       | 1                       | 1                       | rHGG                    | 0                       | 0                       | 1                       | \n",
       "| 391 | 3670                    |  9288                   | 10199                   | 2014-12-16              | 2014-12-17              | Grade IV                | Glioblastoma            | 49B75                   | 2                       | 0                       |                         |                         |                         |  5.92                   |                         | 1.74                    | 1.82                    | 1.35                    | 0.92                    | -3.35                   | 1.64                    | 0.72                    | 1.26                    | 1.55                    | 1.83                    | 1.54                    | 1.71                    | 0.72                    |   NA                    |   NA                    |   NA                    |   NA                    | 1.09                    |   NA                    |   NA                    |  NA                     |   NA                    |   NA                    |   NA                    |   NA                    |   NA                    |   NA                    |   NA                    |   NA                    |   NA                    | 0                       | 1                       | \"foci of macrophages\"   | NA                      | NA                      | noPerf_or_makePerfIssue | NA                      | 1                       | 1                       | 1                       | 1                       | 1                       | 0                       | 0                       | 1                       | 0                       | 58.33                   | 41.67                   |  0                      | 100                     | 1                       | 1                       | 0                       | 0                       | 1                       | 1                       | rHGG                    | 0                       | 0                       | 1                       | \n",
       "| 392 | 3670                    |  9288                   | 10199                   | 2014-12-16              | 2014-12-17              | Grade IV                | Glioblastoma            | 49B75                   | 2                       | 0                       |                         |                         |                         |  5.92                   |                         | 1.74                    | 1.82                    | 1.35                    | 0.92                    | -3.35                   | 1.64                    | 0.72                    | 1.26                    | 1.55                    | 1.83                    | 1.54                    | 1.71                    | 0.72                    |   NA                    |   NA                    |   NA                    |   NA                    | 1.09                    |   NA                    |   NA                    |  NA                     |   NA                    |   NA                    |   NA                    |   NA                    |   NA                    |   NA                    |   NA                    |   NA                    |   NA                    | 0                       | 1                       | \"foci of macrophages\"   | NA                      | NA                      | noPerf_or_makePerfIssue | NA                      | 1                       | 1                       | 1                       | 1                       | 1                       | 0                       | 0                       | 1                       | 0                       | 58.33                   | 41.67                   |  0                      | 100                     | 1                       | 1                       | 0                       | 0                       | 1                       | 1                       | rHGG                    | 0                       | 0                       | 1                       | \n",
       "| 425 | 3791                    |  9970                   | 10507                   | 2015-08-25              | 2015-08-26              | Treatment Effect        | Treatment Effect        | 49B78                   | 3                       | 0                       |                         |                         |                         | 10.53                   | f                       | 2.11                    | 1.83                    | 0.96                    | 0.68                    | -2.03                   | 1.97                    | 0.50                    | 1.54                    | 1.79                    | 2.08                    | 1.85                    | 1.99                    | 0.61                    | 1.49                    | 1.72                    | 2.03                    | 1.79                    | 0.59                    | 0.57                    | 0.55                    | 100                     |   NA                    |   NA                    |   NA                    |   NA                    |   NA                    |   NA                    |   NA                    |   NA                    |   NA                    | 0                       | 1                       |                         | NA                      | NA                      |                         | NA                      | 1                       | 1                       | 1                       | 1                       | 1                       | 1                       | 0                       | 1                       | 0                       | 20.00                   | 80.00                   |  0                      | 100                     | 0                       | 1                       | 1                       | 0                       | 1                       | 1                       | rHGG                    | 0                       | 0                       | 1                       | \n",
       "| 426 | 3791                    |  9970                   | 10507                   | 2015-08-25              | 2015-08-26              | Treatment Effect        | Treatment Effect        | 49B78                   | 3                       | 0                       |                         |                         |                         | 10.53                   | f                       | 2.11                    | 1.83                    | 0.96                    | 0.68                    | -2.03                   | 1.97                    | 0.50                    | 1.54                    | 1.79                    | 2.08                    | 1.85                    | 1.99                    | 0.61                    | 1.49                    | 1.72                    | 2.03                    | 1.79                    | 0.59                    | 0.57                    | 0.55                    | 100                     | 1.54                    | 0.51                    | 1.02                    | 0.68                    | 0.51                    | 0.27                    | 0.86                    | 0.86                    | 0.86                    | 0                       | 1                       |                         | NA                      | NA                      |                         | NA                      | 0                       | 1                       | 1                       | 1                       | 1                       | 1                       | 1                       | 1                       | 1                       | 20.00                   | 80.00                   |  0                      | 100                     | 0                       | 1                       | 1                       | 0                       | 1                       | 1                       | rHGG                    | 0                       | 0                       | 1                       | \n",
       "| 427 | 3791                    |  9970                   | 10507                   | 2015-08-25              | 2015-08-26              | Treatment Effect        | Treatment Effect        | 49B78                   | 3                       | 0                       |                         |                         |                         | 10.53                   | f                       | 2.11                    | 1.83                    | 0.96                    | 0.68                    | -2.03                   | 1.97                    | 0.50                    | 1.54                    | 1.79                    | 2.08                    | 1.85                    | 1.99                    | 0.61                    | 1.49                    | 1.72                    | 2.03                    | 1.79                    | 0.59                    | 0.57                    | 0.55                    | 100                     | 1.54                    | 0.51                    | 1.02                    | 0.68                    | 0.51                    | 0.27                    | 0.86                    | 0.86                    | 0.86                    | 0                       | 1                       |                         | NA                      | NA                      |                         | NA                      | 0                       | 1                       | 1                       | 1                       | 1                       | 1                       | 1                       | 1                       | 1                       | 20.00                   | 80.00                   |  0                      | 100                     | 0                       | 1                       | 1                       | 0                       | 1                       | 1                       | rHGG                    | 0                       | 0                       | 1                       | \n",
       "| 530 | 3783                    | 11192                   | 11150                   | 2017-01-29              | 2017-01-30              | Grade III               | Astrocytoma             | 36B97                   | 3                       | 0                       | 2                       | 1                       | 0                       |  9.56                   | f                       | 1.80                    | 1.86                    | 1.39                    | 1.26                    | -1.17                   | 1.67                    | 0.73                    | 1.42                    | 1.60                    | 1.77                    | 1.60                    | 1.69                    | 1.06                    | 1.40                    | 1.46                    | 1.64                    | 1.52                    | 0.67                    | 0.79                    | 0.75                    | 100                     |   NA                    |   NA                    |   NA                    |   NA                    |   NA                    |   NA                    |   NA                    |   NA                    |   NA                    | 0                       | 1                       |                         | NA                      | NA                      |                         | NA                      | 1                       | 1                       | 1                       | 1                       | 1                       | 1                       | 0                       | 1                       | 0                       | 33.33                   | 66.67                   | NA                      | 100                     | 1                       | 1                       | 1                       | 0                       | 1                       | 1                       | rHGG                    | 0                       | 0                       | 1                       | \n",
       "| 531 | 3783                    | 11192                   | 11150                   | 2017-01-29              | 2017-01-30              | Grade III               | Astrocytoma             | 36B97                   | 3                       | 0                       | 2                       | 1                       | 0                       |  9.56                   | f                       | 1.80                    | 1.86                    | 1.39                    | 1.26                    | -1.17                   | 1.67                    | 0.73                    | 1.42                    | 1.60                    | 1.77                    | 1.60                    | 1.69                    | 1.06                    | 1.40                    | 1.46                    | 1.64                    | 1.52                    | 0.67                    | 0.79                    | 0.75                    | 100                     | 5.83                    | 4.55                    | 0.31                    | 1.97                    | 0.90                    | 0.81                    | 0.05                    | 0.05                    | 0.05                    | 0                       | 1                       |                         | NA                      | NA                      |                         | NA                      | 0                       | 1                       | 1                       | 1                       | 1                       | 1                       | 1                       | 1                       | 1                       | 33.33                   | 66.67                   | NA                      | 100                     | 1                       | 1                       | 1                       | 0                       | 1                       | 1                       | rHGG                    | 0                       | 0                       | 1                       | \n",
       "| 532 | 3783                    | 11192                   | 11150                   | 2017-01-29              | 2017-01-30              | Grade III               | Astrocytoma             | 36B97                   | 3                       | 0                       | 2                       | 1                       | 0                       |  9.56                   | f                       | 1.80                    | 1.86                    | 1.39                    | 1.26                    | -1.17                   | 1.67                    | 0.73                    | 1.42                    | 1.60                    | 1.77                    | 1.60                    | 1.69                    | 1.06                    | 1.40                    | 1.46                    | 1.64                    | 1.52                    | 0.67                    | 0.79                    | 0.75                    | 100                     | 5.83                    | 4.55                    | 0.31                    | 1.97                    | 0.90                    | 0.81                    | 0.05                    | 0.05                    | 0.05                    | 0                       | 1                       |                         | NA                      | NA                      |                         | NA                      | 0                       | 1                       | 1                       | 1                       | 1                       | 1                       | 1                       | 1                       | 1                       | 33.33                   | 66.67                   | NA                      | 100                     | 1                       | 1                       | 1                       | 0                       | 1                       | 1                       | rHGG                    | 0                       | 0                       | 1                       | \n",
       "\n",
       "\n"
      ],
      "text/plain": [
       "    b_number t_number sf_number current_scan_date current_surgery_date\n",
       "381 3645      9213    10138     2014-10-22        2014-10-23          \n",
       "382 3645      9213    10138     2014-10-22        2014-10-23          \n",
       "383 3645      9213    10138     2014-10-22        2014-10-23          \n",
       "390 3670      9288    10199     2014-12-16        2014-12-17          \n",
       "391 3670      9288    10199     2014-12-16        2014-12-17          \n",
       "392 3670      9288    10199     2014-12-16        2014-12-17          \n",
       "425 3791      9970    10507     2015-08-25        2015-08-26          \n",
       "426 3791      9970    10507     2015-08-25        2015-08-26          \n",
       "427 3791      9970    10507     2015-08-25        2015-08-26          \n",
       "530 3783     11192    11150     2017-01-29        2017-01-30          \n",
       "531 3783     11192    11150     2017-01-29        2017-01-30          \n",
       "532 3783     11192    11150     2017-01-29        2017-01-30          \n",
       "    current_hist_grade current_hist_type roi.label tumor_cell_evaluation\n",
       "381 Grade IV           Glioblastoma      49B74     3                    \n",
       "382 Grade IV           Glioblastoma      49B74     3                    \n",
       "383 Grade IV           Glioblastoma      49B74     3                    \n",
       "390 Grade IV           Glioblastoma      49B75     2                    \n",
       "391 Grade IV           Glioblastoma      49B75     2                    \n",
       "392 Grade IV           Glioblastoma      49B75     2                    \n",
       "425 Treatment Effect   Treatment Effect  49B78     3                    \n",
       "426 Treatment Effect   Treatment Effect  49B78     3                    \n",
       "427 Treatment Effect   Treatment Effect  49B78     3                    \n",
       "530 Grade III          Astrocytoma       36B97     3                    \n",
       "531 Grade III          Astrocytoma       36B97     3                    \n",
       "532 Grade III          Astrocytoma       36B97     3                    \n",
       "    necrosis f8_delicate f8_simple f8_complex mib_1 bx_pure_treatment_effect\n",
       "381 0                                         40.81 f                       \n",
       "382 0                                         40.81 f                       \n",
       "383 0                                         40.81 f                       \n",
       "390 0                                          5.92                         \n",
       "391 0                                          5.92                         \n",
       "392 0                                          5.92                         \n",
       "425 0                                         10.53 f                       \n",
       "426 0                                         10.53 f                       \n",
       "427 0                                         10.53 f                       \n",
       "530 0        2           1         0           9.56 f                       \n",
       "531 0        2           1         0           9.56 f                       \n",
       "532 0        2           1         0           9.56 f                       \n",
       "    nfse nfl  nt1c nt1v nt1d  nadc.1 nfa.1 nev1.1 nev2.1 nev3.1 nevrad.1 nadc.2\n",
       "381 1.65 1.55 1.32 0.66 -6.92 1.70   0.50  1.39   1.66   1.83   1.73     1.74  \n",
       "382 1.65 1.55 1.32 0.66 -6.92 1.70   0.50  1.39   1.66   1.83   1.73     1.74  \n",
       "383 1.65 1.55 1.32 0.66 -6.92 1.70   0.50  1.39   1.66   1.83   1.73     1.74  \n",
       "390 1.74 1.82 1.35 0.92 -3.35 1.64   0.72  1.26   1.55   1.83   1.54     1.71  \n",
       "391 1.74 1.82 1.35 0.92 -3.35 1.64   0.72  1.26   1.55   1.83   1.54     1.71  \n",
       "392 1.74 1.82 1.35 0.92 -3.35 1.64   0.72  1.26   1.55   1.83   1.54     1.71  \n",
       "425 2.11 1.83 0.96 0.68 -2.03 1.97   0.50  1.54   1.79   2.08   1.85     1.99  \n",
       "426 2.11 1.83 0.96 0.68 -2.03 1.97   0.50  1.54   1.79   2.08   1.85     1.99  \n",
       "427 2.11 1.83 0.96 0.68 -2.03 1.97   0.50  1.54   1.79   2.08   1.85     1.99  \n",
       "530 1.80 1.86 1.39 1.26 -1.17 1.67   0.73  1.42   1.60   1.77   1.60     1.69  \n",
       "531 1.80 1.86 1.39 1.26 -1.17 1.67   0.73  1.42   1.60   1.77   1.60     1.69  \n",
       "532 1.80 1.86 1.39 1.26 -1.17 1.67   0.73  1.42   1.60   1.77   1.60     1.69  \n",
       "    nfa.2 nev1.2 nev2.2 nev3.2 nevrad.2 cbvn_nlin phn_nlin phn_npar recovn_npar\n",
       "381 0.61    NA     NA     NA     NA     1.62      1.29     1.24     100        \n",
       "382 0.61    NA     NA     NA     NA     1.62      1.29     1.24     100        \n",
       "383 0.61    NA     NA     NA     NA     1.62      1.29     1.24     100        \n",
       "390 0.72    NA     NA     NA     NA     1.09        NA       NA      NA        \n",
       "391 0.72    NA     NA     NA     NA     1.09        NA       NA      NA        \n",
       "392 0.72    NA     NA     NA     NA     1.09        NA       NA      NA        \n",
       "425 0.61  1.49   1.72   2.03   1.79     0.59      0.57     0.55     100        \n",
       "426 0.61  1.49   1.72   2.03   1.79     0.59      0.57     0.55     100        \n",
       "427 0.61  1.49   1.72   2.03   1.79     0.59      0.57     0.55     100        \n",
       "530 1.06  1.40   1.46   1.64   1.52     0.67      0.79     0.75     100        \n",
       "531 1.06  1.40   1.46   1.64   1.52     0.67      0.79     0.75     100        \n",
       "532 1.06  1.40   1.46   1.64   1.52     0.67      0.79     0.75     100        \n",
       "    cni  ccri crni ncho ncre nnaa laclip nlip nlac olddata newdata\n",
       "381   NA   NA   NA   NA   NA   NA   NA     NA   NA 0       1      \n",
       "382 3.51 2.14 0.94 0.69 0.26 0.07 0.40   0.12 0.28 0       1      \n",
       "383 3.51 2.14 0.94 0.69 0.26 0.07 0.40   0.12 0.28 0       1      \n",
       "390   NA   NA   NA   NA   NA   NA   NA     NA   NA 0       1      \n",
       "391   NA   NA   NA   NA   NA   NA   NA     NA   NA 0       1      \n",
       "392   NA   NA   NA   NA   NA   NA   NA     NA   NA 0       1      \n",
       "425   NA   NA   NA   NA   NA   NA   NA     NA   NA 0       1      \n",
       "426 1.54 0.51 1.02 0.68 0.51 0.27 0.86   0.86 0.86 0       1      \n",
       "427 1.54 0.51 1.02 0.68 0.51 0.27 0.86   0.86 0.86 0       1      \n",
       "530   NA   NA   NA   NA   NA   NA   NA     NA   NA 0       1      \n",
       "531 5.83 4.55 0.31 1.97 0.90 0.81 0.05   0.05 0.05 0       1      \n",
       "532 5.83 4.55 0.31 1.97 0.90 0.81 0.05   0.05 0.05 0       1      \n",
       "    comments              notes. imaging_code perf_quant              cbv_nlin\n",
       "381                       NA     NA                                   NA      \n",
       "382                       NA     NA                                   NA      \n",
       "383                       NA     NA                                   NA      \n",
       "390 \"foci of macrophages\" NA     NA           noPerf_or_makePerfIssue NA      \n",
       "391 \"foci of macrophages\" NA     NA           noPerf_or_makePerfIssue NA      \n",
       "392 \"foci of macrophages\" NA     NA           noPerf_or_makePerfIssue NA      \n",
       "425                       NA     NA                                   NA      \n",
       "426                       NA     NA                                   NA      \n",
       "427                       NA     NA                                   NA      \n",
       "530                       NA     NA                                   NA      \n",
       "531                       NA     NA                                   NA      \n",
       "532                       NA     NA                                   NA      \n",
       "    spec_quant include_anat include_diffu1000 include_diffu2000\n",
       "381 1          1            1                 1                \n",
       "382 0          1            1                 1                \n",
       "383 0          1            1                 1                \n",
       "390 1          1            1                 1                \n",
       "391 1          1            1                 1                \n",
       "392 1          1            1                 1                \n",
       "425 1          1            1                 1                \n",
       "426 0          1            1                 1                \n",
       "427 0          1            1                 1                \n",
       "530 1          1            1                 1                \n",
       "531 0          1            1                 1                \n",
       "532 0          1            1                 1                \n",
       "    include_diffu_all include_perf include_spec include_one_advanced_mod\n",
       "381 1                 1            0            1                       \n",
       "382 1                 1            1            1                       \n",
       "383 1                 1            1            1                       \n",
       "390 1                 0            0            1                       \n",
       "391 1                 0            0            1                       \n",
       "392 1                 0            0            1                       \n",
       "425 1                 1            0            1                       \n",
       "426 1                 1            1            1                       \n",
       "427 1                 1            1            1                       \n",
       "530 1                 1            0            1                       \n",
       "531 1                 1            1            1                       \n",
       "532 1                 1            1            1                       \n",
       "    include_all_advanced_mods X.CEL X.NEL X.NEC sum in_CEL in_T2all in_NEL\n",
       "381 0                         95.74  4.26 NA    100 1      1        0     \n",
       "382 1                         95.74  4.26 NA    100 1      1        0     \n",
       "383 1                         95.74  4.26 NA    100 1      1        0     \n",
       "390 0                         58.33 41.67  0    100 1      1        0     \n",
       "391 0                         58.33 41.67  0    100 1      1        0     \n",
       "392 0                         58.33 41.67  0    100 1      1        0     \n",
       "425 0                         20.00 80.00  0    100 0      1        1     \n",
       "426 1                         20.00 80.00  0    100 0      1        1     \n",
       "427 1                         20.00 80.00  0    100 0      1        1     \n",
       "530 0                         33.33 66.67 NA    100 1      1        1     \n",
       "531 1                         33.33 66.67 NA    100 1      1        1     \n",
       "532 1                         33.33 66.67 NA    100 1      1        1     \n",
       "    in_NEC in_ROI desired_hist multnom_out no_ffpe waiting_on_path\n",
       "381 0      1      1            rHGG        0       0              \n",
       "382 0      1      1            rHGG        0       0              \n",
       "383 0      1      1            rHGG        0       0              \n",
       "390 0      1      1            rHGG        0       0              \n",
       "391 0      1      1            rHGG        0       0              \n",
       "392 0      1      1            rHGG        0       0              \n",
       "425 0      1      1            rHGG        0       0              \n",
       "426 0      1      1            rHGG        0       0              \n",
       "427 0      1      1            rHGG        0       0              \n",
       "530 0      1      1            rHGG        0       0              \n",
       "531 0      1      1            rHGG        0       0              \n",
       "532 0      1      1            rHGG        0       0              \n",
       "    rhgg_txe_analysis\n",
       "381 1                \n",
       "382 1                \n",
       "383 1                \n",
       "390 1                \n",
       "391 1                \n",
       "392 1                \n",
       "425 1                \n",
       "426 1                \n",
       "427 1                \n",
       "530 1                \n",
       "531 1                \n",
       "532 1                "
      ]
     },
     "metadata": {},
     "output_type": "display_data"
    }
   ],
   "source": [
    "## looking at duplicates: \n",
    "table(duplicated(recgli$roi.label))\n",
    "recgli[duplicated(recgli$roi.label),]"
   ]
  },
  {
   "cell_type": "code",
   "execution_count": 5,
   "metadata": {
    "collapsed": false,
    "deletable": true,
    "editable": true
   },
   "outputs": [
    {
     "data": {
      "text/html": [
       "<table>\n",
       "<thead><tr><th></th><th scope=col>b_number</th><th scope=col>t_number</th><th scope=col>sf_number</th><th scope=col>current_scan_date</th><th scope=col>current_surgery_date</th><th scope=col>current_hist_grade</th><th scope=col>current_hist_type</th><th scope=col>roi.label</th><th scope=col>tumor_cell_evaluation</th><th scope=col>necrosis</th><th scope=col>f8_delicate</th><th scope=col>f8_simple</th><th scope=col>f8_complex</th><th scope=col>mib_1</th><th scope=col>bx_pure_treatment_effect</th><th scope=col>nfse</th><th scope=col>nfl</th><th scope=col>nt1c</th><th scope=col>nt1v</th><th scope=col>nt1d</th><th scope=col>nadc.1</th><th scope=col>nfa.1</th><th scope=col>nev1.1</th><th scope=col>nev2.1</th><th scope=col>nev3.1</th><th scope=col>nevrad.1</th><th scope=col>nadc.2</th><th scope=col>nfa.2</th><th scope=col>nev1.2</th><th scope=col>nev2.2</th><th scope=col>nev3.2</th><th scope=col>nevrad.2</th><th scope=col>cbvn_nlin</th><th scope=col>phn_nlin</th><th scope=col>phn_npar</th><th scope=col>recovn_npar</th><th scope=col>cni</th><th scope=col>ccri</th><th scope=col>crni</th><th scope=col>ncho</th><th scope=col>ncre</th><th scope=col>nnaa</th><th scope=col>laclip</th><th scope=col>nlip</th><th scope=col>nlac</th><th scope=col>olddata</th><th scope=col>newdata</th><th scope=col>comments</th><th scope=col>notes.</th><th scope=col>imaging_code</th><th scope=col>perf_quant</th><th scope=col>cbv_nlin</th><th scope=col>spec_quant</th><th scope=col>include_anat</th><th scope=col>include_diffu1000</th><th scope=col>include_diffu2000</th><th scope=col>include_diffu_all</th><th scope=col>include_perf</th><th scope=col>include_spec</th><th scope=col>include_one_advanced_mod</th><th scope=col>include_all_advanced_mods</th><th scope=col>X.CEL</th><th scope=col>X.NEL</th><th scope=col>X.NEC</th><th scope=col>sum</th><th scope=col>in_CEL</th><th scope=col>in_T2all</th><th scope=col>in_NEL</th><th scope=col>in_NEC</th><th scope=col>in_ROI</th><th scope=col>desired_hist</th><th scope=col>multnom_out</th><th scope=col>no_ffpe</th><th scope=col>waiting_on_path</th><th scope=col>rhgg_txe_analysis</th></tr></thead>\n",
       "<tbody>\n",
       "\t<tr><th scope=row>380</th><td>3645        </td><td>9213        </td><td>10138       </td><td>2014-10-22  </td><td>2014-10-23  </td><td>Grade IV    </td><td>Glioblastoma</td><td>49B74       </td><td>3           </td><td>0           </td><td>            </td><td>            </td><td>            </td><td>40.81       </td><td>f           </td><td>1.65        </td><td>1.55        </td><td>1.32        </td><td>0.66        </td><td>-6.92       </td><td>1.7         </td><td>0.5         </td><td>1.39        </td><td>1.66        </td><td>1.83        </td><td>1.73        </td><td>1.74        </td><td>0.61        </td><td>NA          </td><td>NA          </td><td>NA          </td><td>NA          </td><td>1.62        </td><td>1.29        </td><td>1.24        </td><td>100         </td><td>  NA        </td><td>  NA        </td><td>  NA        </td><td>  NA        </td><td>  NA        </td><td>  NA        </td><td> NA         </td><td>  NA        </td><td>  NA        </td><td>0           </td><td>1           </td><td>            </td><td>NA          </td><td>NA          </td><td>            </td><td>NA          </td><td>1           </td><td>1           </td><td>1           </td><td>1           </td><td>1           </td><td>1           </td><td>0           </td><td>1           </td><td>0           </td><td>95.74       </td><td>4.26        </td><td>NA          </td><td>100         </td><td>1           </td><td>1           </td><td>0           </td><td>0           </td><td>1           </td><td>1           </td><td>rHGG        </td><td>0           </td><td>0           </td><td>1           </td></tr>\n",
       "\t<tr><th scope=row>381</th><td>3645        </td><td>9213        </td><td>10138       </td><td>2014-10-22  </td><td>2014-10-23  </td><td>Grade IV    </td><td>Glioblastoma</td><td>49B74       </td><td>3           </td><td>0           </td><td>            </td><td>            </td><td>            </td><td>40.81       </td><td>f           </td><td>1.65        </td><td>1.55        </td><td>1.32        </td><td>0.66        </td><td>-6.92       </td><td>1.7         </td><td>0.5         </td><td>1.39        </td><td>1.66        </td><td>1.83        </td><td>1.73        </td><td>1.74        </td><td>0.61        </td><td>NA          </td><td>NA          </td><td>NA          </td><td>NA          </td><td>1.62        </td><td>1.29        </td><td>1.24        </td><td>100         </td><td>  NA        </td><td>  NA        </td><td>  NA        </td><td>  NA        </td><td>  NA        </td><td>  NA        </td><td> NA         </td><td>  NA        </td><td>  NA        </td><td>0           </td><td>1           </td><td>            </td><td>NA          </td><td>NA          </td><td>            </td><td>NA          </td><td>1           </td><td>1           </td><td>1           </td><td>1           </td><td>1           </td><td>1           </td><td>0           </td><td>1           </td><td>0           </td><td>95.74       </td><td>4.26        </td><td>NA          </td><td>100         </td><td>1           </td><td>1           </td><td>0           </td><td>0           </td><td>1           </td><td>1           </td><td>rHGG        </td><td>0           </td><td>0           </td><td>1           </td></tr>\n",
       "\t<tr><th scope=row>382</th><td>3645        </td><td>9213        </td><td>10138       </td><td>2014-10-22  </td><td>2014-10-23  </td><td>Grade IV    </td><td>Glioblastoma</td><td>49B74       </td><td>3           </td><td>0           </td><td>            </td><td>            </td><td>            </td><td>40.81       </td><td>f           </td><td>1.65        </td><td>1.55        </td><td>1.32        </td><td>0.66        </td><td>-6.92       </td><td>1.7         </td><td>0.5         </td><td>1.39        </td><td>1.66        </td><td>1.83        </td><td>1.73        </td><td>1.74        </td><td>0.61        </td><td>NA          </td><td>NA          </td><td>NA          </td><td>NA          </td><td>1.62        </td><td>1.29        </td><td>1.24        </td><td>100         </td><td>3.51        </td><td>2.14        </td><td>0.94        </td><td>0.69        </td><td>0.26        </td><td>0.07        </td><td>0.4         </td><td>0.12        </td><td>0.28        </td><td>0           </td><td>1           </td><td>            </td><td>NA          </td><td>NA          </td><td>            </td><td>NA          </td><td>0           </td><td>1           </td><td>1           </td><td>1           </td><td>1           </td><td>1           </td><td>1           </td><td>1           </td><td>1           </td><td>95.74       </td><td>4.26        </td><td>NA          </td><td>100         </td><td>1           </td><td>1           </td><td>0           </td><td>0           </td><td>1           </td><td>1           </td><td>rHGG        </td><td>0           </td><td>0           </td><td>1           </td></tr>\n",
       "\t<tr><th scope=row>383</th><td>3645        </td><td>9213        </td><td>10138       </td><td>2014-10-22  </td><td>2014-10-23  </td><td>Grade IV    </td><td>Glioblastoma</td><td>49B74       </td><td>3           </td><td>0           </td><td>            </td><td>            </td><td>            </td><td>40.81       </td><td>f           </td><td>1.65        </td><td>1.55        </td><td>1.32        </td><td>0.66        </td><td>-6.92       </td><td>1.7         </td><td>0.5         </td><td>1.39        </td><td>1.66        </td><td>1.83        </td><td>1.73        </td><td>1.74        </td><td>0.61        </td><td>NA          </td><td>NA          </td><td>NA          </td><td>NA          </td><td>1.62        </td><td>1.29        </td><td>1.24        </td><td>100         </td><td>3.51        </td><td>2.14        </td><td>0.94        </td><td>0.69        </td><td>0.26        </td><td>0.07        </td><td>0.4         </td><td>0.12        </td><td>0.28        </td><td>0           </td><td>1           </td><td>            </td><td>NA          </td><td>NA          </td><td>            </td><td>NA          </td><td>0           </td><td>1           </td><td>1           </td><td>1           </td><td>1           </td><td>1           </td><td>1           </td><td>1           </td><td>1           </td><td>95.74       </td><td>4.26        </td><td>NA          </td><td>100         </td><td>1           </td><td>1           </td><td>0           </td><td>0           </td><td>1           </td><td>1           </td><td>rHGG        </td><td>0           </td><td>0           </td><td>1           </td></tr>\n",
       "</tbody>\n",
       "</table>\n"
      ],
      "text/latex": [
       "\\begin{tabular}{r|lllllllllllllllllllllllllllllllllllllllllllllllllllllllllllllllllllllllllll}\n",
       "  & b\\_number & t\\_number & sf\\_number & current\\_scan\\_date & current\\_surgery\\_date & current\\_hist\\_grade & current\\_hist\\_type & roi.label & tumor\\_cell\\_evaluation & necrosis & f8\\_delicate & f8\\_simple & f8\\_complex & mib\\_1 & bx\\_pure\\_treatment\\_effect & nfse & nfl & nt1c & nt1v & nt1d & nadc.1 & nfa.1 & nev1.1 & nev2.1 & nev3.1 & nevrad.1 & nadc.2 & nfa.2 & nev1.2 & nev2.2 & nev3.2 & nevrad.2 & cbvn\\_nlin & phn\\_nlin & phn\\_npar & recovn\\_npar & cni & ccri & crni & ncho & ncre & nnaa & laclip & nlip & nlac & olddata & newdata & comments & notes. & imaging\\_code & perf\\_quant & cbv\\_nlin & spec\\_quant & include\\_anat & include\\_diffu1000 & include\\_diffu2000 & include\\_diffu\\_all & include\\_perf & include\\_spec & include\\_one\\_advanced\\_mod & include\\_all\\_advanced\\_mods & X.CEL & X.NEL & X.NEC & sum & in\\_CEL & in\\_T2all & in\\_NEL & in\\_NEC & in\\_ROI & desired\\_hist & multnom\\_out & no\\_ffpe & waiting\\_on\\_path & rhgg\\_txe\\_analysis\\\\\n",
       "\\hline\n",
       "\t380 & 3645         & 9213         & 10138        & 2014-10-22   & 2014-10-23   & Grade IV     & Glioblastoma & 49B74        & 3            & 0            &              &              &              & 40.81        & f            & 1.65         & 1.55         & 1.32         & 0.66         & -6.92        & 1.7          & 0.5          & 1.39         & 1.66         & 1.83         & 1.73         & 1.74         & 0.61         & NA           & NA           & NA           & NA           & 1.62         & 1.29         & 1.24         & 100          &   NA         &   NA         &   NA         &   NA         &   NA         &   NA         &  NA          &   NA         &   NA         & 0            & 1            &              & NA           & NA           &              & NA           & 1            & 1            & 1            & 1            & 1            & 1            & 0            & 1            & 0            & 95.74        & 4.26         & NA           & 100          & 1            & 1            & 0            & 0            & 1            & 1            & rHGG         & 0            & 0            & 1           \\\\\n",
       "\t381 & 3645         & 9213         & 10138        & 2014-10-22   & 2014-10-23   & Grade IV     & Glioblastoma & 49B74        & 3            & 0            &              &              &              & 40.81        & f            & 1.65         & 1.55         & 1.32         & 0.66         & -6.92        & 1.7          & 0.5          & 1.39         & 1.66         & 1.83         & 1.73         & 1.74         & 0.61         & NA           & NA           & NA           & NA           & 1.62         & 1.29         & 1.24         & 100          &   NA         &   NA         &   NA         &   NA         &   NA         &   NA         &  NA          &   NA         &   NA         & 0            & 1            &              & NA           & NA           &              & NA           & 1            & 1            & 1            & 1            & 1            & 1            & 0            & 1            & 0            & 95.74        & 4.26         & NA           & 100          & 1            & 1            & 0            & 0            & 1            & 1            & rHGG         & 0            & 0            & 1           \\\\\n",
       "\t382 & 3645         & 9213         & 10138        & 2014-10-22   & 2014-10-23   & Grade IV     & Glioblastoma & 49B74        & 3            & 0            &              &              &              & 40.81        & f            & 1.65         & 1.55         & 1.32         & 0.66         & -6.92        & 1.7          & 0.5          & 1.39         & 1.66         & 1.83         & 1.73         & 1.74         & 0.61         & NA           & NA           & NA           & NA           & 1.62         & 1.29         & 1.24         & 100          & 3.51         & 2.14         & 0.94         & 0.69         & 0.26         & 0.07         & 0.4          & 0.12         & 0.28         & 0            & 1            &              & NA           & NA           &              & NA           & 0            & 1            & 1            & 1            & 1            & 1            & 1            & 1            & 1            & 95.74        & 4.26         & NA           & 100          & 1            & 1            & 0            & 0            & 1            & 1            & rHGG         & 0            & 0            & 1           \\\\\n",
       "\t383 & 3645         & 9213         & 10138        & 2014-10-22   & 2014-10-23   & Grade IV     & Glioblastoma & 49B74        & 3            & 0            &              &              &              & 40.81        & f            & 1.65         & 1.55         & 1.32         & 0.66         & -6.92        & 1.7          & 0.5          & 1.39         & 1.66         & 1.83         & 1.73         & 1.74         & 0.61         & NA           & NA           & NA           & NA           & 1.62         & 1.29         & 1.24         & 100          & 3.51         & 2.14         & 0.94         & 0.69         & 0.26         & 0.07         & 0.4          & 0.12         & 0.28         & 0            & 1            &              & NA           & NA           &              & NA           & 0            & 1            & 1            & 1            & 1            & 1            & 1            & 1            & 1            & 95.74        & 4.26         & NA           & 100          & 1            & 1            & 0            & 0            & 1            & 1            & rHGG         & 0            & 0            & 1           \\\\\n",
       "\\end{tabular}\n"
      ],
      "text/markdown": [
       "\n",
       "| <!--/--> | b_number | t_number | sf_number | current_scan_date | current_surgery_date | current_hist_grade | current_hist_type | roi.label | tumor_cell_evaluation | necrosis | f8_delicate | f8_simple | f8_complex | mib_1 | bx_pure_treatment_effect | nfse | nfl | nt1c | nt1v | nt1d | nadc.1 | nfa.1 | nev1.1 | nev2.1 | nev3.1 | nevrad.1 | nadc.2 | nfa.2 | nev1.2 | nev2.2 | nev3.2 | nevrad.2 | cbvn_nlin | phn_nlin | phn_npar | recovn_npar | cni | ccri | crni | ncho | ncre | nnaa | laclip | nlip | nlac | olddata | newdata | comments | notes. | imaging_code | perf_quant | cbv_nlin | spec_quant | include_anat | include_diffu1000 | include_diffu2000 | include_diffu_all | include_perf | include_spec | include_one_advanced_mod | include_all_advanced_mods | X.CEL | X.NEL | X.NEC | sum | in_CEL | in_T2all | in_NEL | in_NEC | in_ROI | desired_hist | multnom_out | no_ffpe | waiting_on_path | rhgg_txe_analysis | \n",
       "|---|---|---|---|\n",
       "| 380 | 3645         | 9213         | 10138        | 2014-10-22   | 2014-10-23   | Grade IV     | Glioblastoma | 49B74        | 3            | 0            |              |              |              | 40.81        | f            | 1.65         | 1.55         | 1.32         | 0.66         | -6.92        | 1.7          | 0.5          | 1.39         | 1.66         | 1.83         | 1.73         | 1.74         | 0.61         | NA           | NA           | NA           | NA           | 1.62         | 1.29         | 1.24         | 100          |   NA         |   NA         |   NA         |   NA         |   NA         |   NA         |  NA          |   NA         |   NA         | 0            | 1            |              | NA           | NA           |              | NA           | 1            | 1            | 1            | 1            | 1            | 1            | 0            | 1            | 0            | 95.74        | 4.26         | NA           | 100          | 1            | 1            | 0            | 0            | 1            | 1            | rHGG         | 0            | 0            | 1            | \n",
       "| 381 | 3645         | 9213         | 10138        | 2014-10-22   | 2014-10-23   | Grade IV     | Glioblastoma | 49B74        | 3            | 0            |              |              |              | 40.81        | f            | 1.65         | 1.55         | 1.32         | 0.66         | -6.92        | 1.7          | 0.5          | 1.39         | 1.66         | 1.83         | 1.73         | 1.74         | 0.61         | NA           | NA           | NA           | NA           | 1.62         | 1.29         | 1.24         | 100          |   NA         |   NA         |   NA         |   NA         |   NA         |   NA         |  NA          |   NA         |   NA         | 0            | 1            |              | NA           | NA           |              | NA           | 1            | 1            | 1            | 1            | 1            | 1            | 0            | 1            | 0            | 95.74        | 4.26         | NA           | 100          | 1            | 1            | 0            | 0            | 1            | 1            | rHGG         | 0            | 0            | 1            | \n",
       "| 382 | 3645         | 9213         | 10138        | 2014-10-22   | 2014-10-23   | Grade IV     | Glioblastoma | 49B74        | 3            | 0            |              |              |              | 40.81        | f            | 1.65         | 1.55         | 1.32         | 0.66         | -6.92        | 1.7          | 0.5          | 1.39         | 1.66         | 1.83         | 1.73         | 1.74         | 0.61         | NA           | NA           | NA           | NA           | 1.62         | 1.29         | 1.24         | 100          | 3.51         | 2.14         | 0.94         | 0.69         | 0.26         | 0.07         | 0.4          | 0.12         | 0.28         | 0            | 1            |              | NA           | NA           |              | NA           | 0            | 1            | 1            | 1            | 1            | 1            | 1            | 1            | 1            | 95.74        | 4.26         | NA           | 100          | 1            | 1            | 0            | 0            | 1            | 1            | rHGG         | 0            | 0            | 1            | \n",
       "| 383 | 3645         | 9213         | 10138        | 2014-10-22   | 2014-10-23   | Grade IV     | Glioblastoma | 49B74        | 3            | 0            |              |              |              | 40.81        | f            | 1.65         | 1.55         | 1.32         | 0.66         | -6.92        | 1.7          | 0.5          | 1.39         | 1.66         | 1.83         | 1.73         | 1.74         | 0.61         | NA           | NA           | NA           | NA           | 1.62         | 1.29         | 1.24         | 100          | 3.51         | 2.14         | 0.94         | 0.69         | 0.26         | 0.07         | 0.4          | 0.12         | 0.28         | 0            | 1            |              | NA           | NA           |              | NA           | 0            | 1            | 1            | 1            | 1            | 1            | 1            | 1            | 1            | 95.74        | 4.26         | NA           | 100          | 1            | 1            | 0            | 0            | 1            | 1            | rHGG         | 0            | 0            | 1            | \n",
       "\n",
       "\n"
      ],
      "text/plain": [
       "    b_number t_number sf_number current_scan_date current_surgery_date\n",
       "380 3645     9213     10138     2014-10-22        2014-10-23          \n",
       "381 3645     9213     10138     2014-10-22        2014-10-23          \n",
       "382 3645     9213     10138     2014-10-22        2014-10-23          \n",
       "383 3645     9213     10138     2014-10-22        2014-10-23          \n",
       "    current_hist_grade current_hist_type roi.label tumor_cell_evaluation\n",
       "380 Grade IV           Glioblastoma      49B74     3                    \n",
       "381 Grade IV           Glioblastoma      49B74     3                    \n",
       "382 Grade IV           Glioblastoma      49B74     3                    \n",
       "383 Grade IV           Glioblastoma      49B74     3                    \n",
       "    necrosis f8_delicate f8_simple f8_complex mib_1 bx_pure_treatment_effect\n",
       "380 0                                         40.81 f                       \n",
       "381 0                                         40.81 f                       \n",
       "382 0                                         40.81 f                       \n",
       "383 0                                         40.81 f                       \n",
       "    nfse nfl  nt1c nt1v nt1d  nadc.1 nfa.1 nev1.1 nev2.1 nev3.1 nevrad.1 nadc.2\n",
       "380 1.65 1.55 1.32 0.66 -6.92 1.7    0.5   1.39   1.66   1.83   1.73     1.74  \n",
       "381 1.65 1.55 1.32 0.66 -6.92 1.7    0.5   1.39   1.66   1.83   1.73     1.74  \n",
       "382 1.65 1.55 1.32 0.66 -6.92 1.7    0.5   1.39   1.66   1.83   1.73     1.74  \n",
       "383 1.65 1.55 1.32 0.66 -6.92 1.7    0.5   1.39   1.66   1.83   1.73     1.74  \n",
       "    nfa.2 nev1.2 nev2.2 nev3.2 nevrad.2 cbvn_nlin phn_nlin phn_npar recovn_npar\n",
       "380 0.61  NA     NA     NA     NA       1.62      1.29     1.24     100        \n",
       "381 0.61  NA     NA     NA     NA       1.62      1.29     1.24     100        \n",
       "382 0.61  NA     NA     NA     NA       1.62      1.29     1.24     100        \n",
       "383 0.61  NA     NA     NA     NA       1.62      1.29     1.24     100        \n",
       "    cni  ccri crni ncho ncre nnaa laclip nlip nlac olddata newdata comments\n",
       "380   NA   NA   NA   NA   NA   NA  NA      NA   NA 0       1               \n",
       "381   NA   NA   NA   NA   NA   NA  NA      NA   NA 0       1               \n",
       "382 3.51 2.14 0.94 0.69 0.26 0.07 0.4    0.12 0.28 0       1               \n",
       "383 3.51 2.14 0.94 0.69 0.26 0.07 0.4    0.12 0.28 0       1               \n",
       "    notes. imaging_code perf_quant cbv_nlin spec_quant include_anat\n",
       "380 NA     NA                      NA       1          1           \n",
       "381 NA     NA                      NA       1          1           \n",
       "382 NA     NA                      NA       0          1           \n",
       "383 NA     NA                      NA       0          1           \n",
       "    include_diffu1000 include_diffu2000 include_diffu_all include_perf\n",
       "380 1                 1                 1                 1           \n",
       "381 1                 1                 1                 1           \n",
       "382 1                 1                 1                 1           \n",
       "383 1                 1                 1                 1           \n",
       "    include_spec include_one_advanced_mod include_all_advanced_mods X.CEL X.NEL\n",
       "380 0            1                        0                         95.74 4.26 \n",
       "381 0            1                        0                         95.74 4.26 \n",
       "382 1            1                        1                         95.74 4.26 \n",
       "383 1            1                        1                         95.74 4.26 \n",
       "    X.NEC sum in_CEL in_T2all in_NEL in_NEC in_ROI desired_hist multnom_out\n",
       "380 NA    100 1      1        0      0      1      1            rHGG       \n",
       "381 NA    100 1      1        0      0      1      1            rHGG       \n",
       "382 NA    100 1      1        0      0      1      1            rHGG       \n",
       "383 NA    100 1      1        0      0      1      1            rHGG       \n",
       "    no_ffpe waiting_on_path rhgg_txe_analysis\n",
       "380 0       0               1                \n",
       "381 0       0               1                \n",
       "382 0       0               1                \n",
       "383 0       0               1                "
      ]
     },
     "metadata": {},
     "output_type": "display_data"
    },
    {
     "data": {
      "text/html": [
       "<ol class=list-inline>\n",
       "\t<li>615</li>\n",
       "\t<li>75</li>\n",
       "</ol>\n"
      ],
      "text/latex": [
       "\\begin{enumerate*}\n",
       "\\item 615\n",
       "\\item 75\n",
       "\\end{enumerate*}\n"
      ],
      "text/markdown": [
       "1. 615\n",
       "2. 75\n",
       "\n",
       "\n"
      ],
      "text/plain": [
       "[1] 615  75"
      ]
     },
     "metadata": {},
     "output_type": "display_data"
    }
   ],
   "source": [
    "## looks like they all somehow got duplicated ... all have the exact same parameters, so we can just eliminate these. Just to make sure: \n",
    "recgli[grep('49B74', recgli$roi.label),]\n",
    "## yep, all the same; we can actually now just delete these: \n",
    "recgli = recgli[!duplicated(recgli$roi.label),]\n",
    "dim(recgli)"
   ]
  },
  {
   "cell_type": "code",
   "execution_count": 6,
   "metadata": {
    "collapsed": false,
    "deletable": true,
    "editable": true
   },
   "outputs": [
    {
     "data": {
      "text/html": [
       "<table>\n",
       "<thead><tr><th scope=col>b_number</th><th scope=col>t_number</th><th scope=col>sf_number</th><th scope=col>current_scan_date</th><th scope=col>current_surgery_date</th><th scope=col>current_hist_grade</th><th scope=col>current_hist_type</th><th scope=col>roi.label</th><th scope=col>tumor_cell_evaluation</th><th scope=col>necrosis</th><th scope=col>f8_delicate</th><th scope=col>f8_simple</th><th scope=col>f8_complex</th><th scope=col>mib_1</th><th scope=col>bx_pure_treatment_effect</th><th scope=col>nfse</th><th scope=col>nfl</th><th scope=col>nt1c</th><th scope=col>nt1v</th><th scope=col>nt1d</th><th scope=col>nadc.1</th><th scope=col>nfa.1</th><th scope=col>nev1.1</th><th scope=col>nev2.1</th><th scope=col>nev3.1</th><th scope=col>nevrad.1</th><th scope=col>nadc.2</th><th scope=col>nfa.2</th><th scope=col>nev1.2</th><th scope=col>nev2.2</th><th scope=col>nev3.2</th><th scope=col>nevrad.2</th><th scope=col>cbvn_nlin</th><th scope=col>phn_nlin</th><th scope=col>phn_npar</th><th scope=col>recovn_npar</th><th scope=col>cni</th><th scope=col>ccri</th><th scope=col>crni</th><th scope=col>ncho</th><th scope=col>ncre</th><th scope=col>nnaa</th><th scope=col>laclip</th><th scope=col>nlip</th><th scope=col>nlac</th><th scope=col>olddata</th><th scope=col>newdata</th><th scope=col>comments</th><th scope=col>notes.</th><th scope=col>imaging_code</th><th scope=col>perf_quant</th><th scope=col>cbv_nlin</th><th scope=col>spec_quant</th><th scope=col>include_anat</th><th scope=col>include_diffu1000</th><th scope=col>include_diffu2000</th><th scope=col>include_diffu_all</th><th scope=col>include_perf</th><th scope=col>include_spec</th><th scope=col>include_one_advanced_mod</th><th scope=col>include_all_advanced_mods</th><th scope=col>X.CEL</th><th scope=col>X.NEL</th><th scope=col>X.NEC</th><th scope=col>sum</th><th scope=col>in_CEL</th><th scope=col>in_T2all</th><th scope=col>in_NEL</th><th scope=col>in_NEC</th><th scope=col>in_ROI</th><th scope=col>desired_hist</th><th scope=col>multnom_out</th><th scope=col>no_ffpe</th><th scope=col>waiting_on_path</th><th scope=col>rhgg_txe_analysis</th></tr></thead>\n",
       "<tbody>\n",
       "</tbody>\n",
       "</table>\n"
      ],
      "text/latex": [
       "\\begin{tabular}{r|lllllllllllllllllllllllllllllllllllllllllllllllllllllllllllllllllllllllllll}\n",
       " b\\_number & t\\_number & sf\\_number & current\\_scan\\_date & current\\_surgery\\_date & current\\_hist\\_grade & current\\_hist\\_type & roi.label & tumor\\_cell\\_evaluation & necrosis & f8\\_delicate & f8\\_simple & f8\\_complex & mib\\_1 & bx\\_pure\\_treatment\\_effect & nfse & nfl & nt1c & nt1v & nt1d & nadc.1 & nfa.1 & nev1.1 & nev2.1 & nev3.1 & nevrad.1 & nadc.2 & nfa.2 & nev1.2 & nev2.2 & nev3.2 & nevrad.2 & cbvn\\_nlin & phn\\_nlin & phn\\_npar & recovn\\_npar & cni & ccri & crni & ncho & ncre & nnaa & laclip & nlip & nlac & olddata & newdata & comments & notes. & imaging\\_code & perf\\_quant & cbv\\_nlin & spec\\_quant & include\\_anat & include\\_diffu1000 & include\\_diffu2000 & include\\_diffu\\_all & include\\_perf & include\\_spec & include\\_one\\_advanced\\_mod & include\\_all\\_advanced\\_mods & X.CEL & X.NEL & X.NEC & sum & in\\_CEL & in\\_T2all & in\\_NEL & in\\_NEC & in\\_ROI & desired\\_hist & multnom\\_out & no\\_ffpe & waiting\\_on\\_path & rhgg\\_txe\\_analysis\\\\\n",
       "\\hline\n",
       "\\end{tabular}\n"
      ],
      "text/markdown": [
       "\n",
       "b_number | t_number | sf_number | current_scan_date | current_surgery_date | current_hist_grade | current_hist_type | roi.label | tumor_cell_evaluation | necrosis | f8_delicate | f8_simple | f8_complex | mib_1 | bx_pure_treatment_effect | nfse | nfl | nt1c | nt1v | nt1d | nadc.1 | nfa.1 | nev1.1 | nev2.1 | nev3.1 | nevrad.1 | nadc.2 | nfa.2 | nev1.2 | nev2.2 | nev3.2 | nevrad.2 | cbvn_nlin | phn_nlin | phn_npar | recovn_npar | cni | ccri | crni | ncho | ncre | nnaa | laclip | nlip | nlac | olddata | newdata | comments | notes. | imaging_code | perf_quant | cbv_nlin | spec_quant | include_anat | include_diffu1000 | include_diffu2000 | include_diffu_all | include_perf | include_spec | include_one_advanced_mod | include_all_advanced_mods | X.CEL | X.NEL | X.NEC | sum | in_CEL | in_T2all | in_NEL | in_NEC | in_ROI | desired_hist | multnom_out | no_ffpe | waiting_on_path | rhgg_txe_analysis | \n",
       "||\n",
       "\n",
       "\n"
      ],
      "text/plain": [
       "     b_number t_number sf_number current_scan_date current_surgery_date\n",
       "     current_hist_grade current_hist_type roi.label tumor_cell_evaluation\n",
       "     necrosis f8_delicate f8_simple f8_complex mib_1 bx_pure_treatment_effect\n",
       "     nfse nfl nt1c nt1v nt1d nadc.1 nfa.1 nev1.1 nev2.1 nev3.1 nevrad.1 nadc.2\n",
       "     nfa.2 nev1.2 nev2.2 nev3.2 nevrad.2 cbvn_nlin phn_nlin phn_npar\n",
       "     recovn_npar cni ccri crni ncho ncre nnaa laclip nlip nlac olddata newdata\n",
       "     comments notes. imaging_code perf_quant cbv_nlin spec_quant include_anat\n",
       "     include_diffu1000 include_diffu2000 include_diffu_all include_perf\n",
       "     include_spec include_one_advanced_mod include_all_advanced_mods X.CEL\n",
       "     X.NEL X.NEC sum in_CEL in_T2all in_NEL in_NEC in_ROI desired_hist\n",
       "     multnom_out no_ffpe waiting_on_path rhgg_txe_analysis"
      ]
     },
     "metadata": {},
     "output_type": "display_data"
    }
   ],
   "source": [
    "## looking at spaces: \n",
    "recgli[grep(' ', recgli$roi.label),]"
   ]
  },
  {
   "cell_type": "code",
   "execution_count": 7,
   "metadata": {
    "collapsed": false,
    "deletable": true,
    "editable": true
   },
   "outputs": [],
   "source": [
    "## if we delete the spaces, do we have duplicates ? or no? \n",
    "recgli$roi.label = gsub(\" \", \"\", recgli$roi.label)"
   ]
  },
  {
   "cell_type": "code",
   "execution_count": 8,
   "metadata": {
    "collapsed": false,
    "deletable": true,
    "editable": true
   },
   "outputs": [
    {
     "data": {
      "text/plain": [
       "\n",
       "FALSE \n",
       "  615 "
      ]
     },
     "metadata": {},
     "output_type": "display_data"
    }
   ],
   "source": [
    "table(duplicated(recgli$roi.label))"
   ]
  },
  {
   "cell_type": "code",
   "execution_count": 9,
   "metadata": {
    "collapsed": true,
    "deletable": true,
    "editable": true
   },
   "outputs": [],
   "source": [
    "## great, so the spaces don't really matter all that much it turns out. Now we have 615 biopsies to start with. "
   ]
  },
  {
   "cell_type": "code",
   "execution_count": 10,
   "metadata": {
    "collapsed": true,
    "deletable": true,
    "editable": true
   },
   "outputs": [],
   "source": [
    "write.csv(recgli, \"1stParse_researchpath_withInVivo.csv\", row.names = F)"
   ]
  },
  {
   "cell_type": "markdown",
   "metadata": {
    "deletable": true,
    "editable": true
   },
   "source": [
    "## 3. Use template to look at all data\n"
   ]
  },
  {
   "cell_type": "code",
   "execution_count": 11,
   "metadata": {
    "collapsed": false,
    "deletable": true,
    "editable": true
   },
   "outputs": [
    {
     "data": {
      "text/html": [
       "<ol class=list-inline>\n",
       "\t<li>615</li>\n",
       "\t<li>75</li>\n",
       "</ol>\n"
      ],
      "text/latex": [
       "\\begin{enumerate*}\n",
       "\\item 615\n",
       "\\item 75\n",
       "\\end{enumerate*}\n"
      ],
      "text/markdown": [
       "1. 615\n",
       "2. 75\n",
       "\n",
       "\n"
      ],
      "text/plain": [
       "[1] 615  75"
      ]
     },
     "metadata": {},
     "output_type": "display_data"
    }
   ],
   "source": [
    "recgli = read.csv(\"1stParse_researchpath_withInVivo.csv\")\n",
    "dim(recgli)"
   ]
  },
  {
   "cell_type": "code",
   "execution_count": 12,
   "metadata": {
    "collapsed": false,
    "deletable": true,
    "editable": true
   },
   "outputs": [
    {
     "data": {
      "text/html": [
       "<table>\n",
       "<thead><tr><th scope=col>data</th><th scope=col>patients</th><th scope=col>scans</th><th scope=col>samples</th></tr></thead>\n",
       "<tbody>\n",
       "\t<tr><td>old_po1</td><td>124    </td><td>129    </td><td>316    </td></tr>\n",
       "\t<tr><td>REC_HGG</td><td>91     </td><td>95     </td><td>299    </td></tr>\n",
       "\t<tr><td>TOTAL  </td><td>215    </td><td>224    </td><td>615    </td></tr>\n",
       "</tbody>\n",
       "</table>\n"
      ],
      "text/latex": [
       "\\begin{tabular}{llll}\n",
       " data & patients & scans & samples\\\\\n",
       "\\hline\n",
       "\t old\\_po1 & 124       & 129       & 316      \\\\\n",
       "\t REC\\_HGG & 91        & 95        & 299      \\\\\n",
       "\t TOTAL   & 215     & 224     & 615    \\\\\n",
       "\\end{tabular}\n"
      ],
      "text/markdown": [
       "\n",
       "data | patients | scans | samples | \n",
       "|---|---|---|\n",
       "| old_po1 | 124     | 129     | 316     | \n",
       "| REC_HGG | 91      | 95      | 299     | \n",
       "| TOTAL   | 215     | 224     | 615     | \n",
       "\n",
       "\n"
      ],
      "text/plain": [
       "     data    patients scans samples\n",
       "[1,] old_po1 124      129   316    \n",
       "[2,] REC_HGG 91       95    299    \n",
       "[3,] TOTAL   215      224   615    "
      ]
     },
     "metadata": {},
     "output_type": "display_data"
    }
   ],
   "source": [
    "all_possible = temp\n",
    "all_possible[1,2] = sum(ifelse(duplicated(recgli$b_number)==FALSE & recgli$olddata==1, 1, 0))\n",
    "all_possible[1,3] = sum(ifelse(duplicated(recgli$t_number)==FALSE & recgli$olddata==1, 1, 0))\n",
    "all_possible[1,4] = sum(recgli$olddata==1)\n",
    "all_possible[2,2] = sum(ifelse(duplicated(recgli$b_number)==FALSE & recgli$newdata==1, 1, 0))\n",
    "all_possible[2,3] = sum(ifelse(duplicated(recgli$t_number)==FALSE & recgli$newdata==1, 1, 0))\n",
    "all_possible[2,4] = sum(recgli$newdata==1)\n",
    "all_possible[3,2:4]= as.numeric(all_possible[1,2:4]) + as.numeric(all_possible[2,2:4])\n",
    "all_possible"
   ]
  },
  {
   "cell_type": "markdown",
   "metadata": {
    "deletable": true,
    "editable": true
   },
   "source": [
    "## 4. Remove samples without tissue/consent: "
   ]
  },
  {
   "cell_type": "code",
   "execution_count": 13,
   "metadata": {
    "collapsed": false,
    "deletable": true,
    "editable": true
   },
   "outputs": [
    {
     "data": {
      "text/html": [
       "<ol class=list-inline>\n",
       "\t<li>607</li>\n",
       "\t<li>75</li>\n",
       "</ol>\n"
      ],
      "text/latex": [
       "\\begin{enumerate*}\n",
       "\\item 607\n",
       "\\item 75\n",
       "\\end{enumerate*}\n"
      ],
      "text/markdown": [
       "1. 607\n",
       "2. 75\n",
       "\n",
       "\n"
      ],
      "text/plain": [
       "[1] 607  75"
      ]
     },
     "metadata": {},
     "output_type": "display_data"
    },
    {
     "data": {
      "text/html": [
       "<table>\n",
       "<thead><tr><th scope=col>data</th><th scope=col>patients</th><th scope=col>scans</th><th scope=col>samples</th></tr></thead>\n",
       "<tbody>\n",
       "\t<tr><td>old_po1</td><td>123    </td><td>128    </td><td>313    </td></tr>\n",
       "\t<tr><td>REC_HGG</td><td>89     </td><td>93     </td><td>294    </td></tr>\n",
       "\t<tr><td>TOTAL  </td><td>212    </td><td>221    </td><td>607    </td></tr>\n",
       "</tbody>\n",
       "</table>\n"
      ],
      "text/latex": [
       "\\begin{tabular}{llll}\n",
       " data & patients & scans & samples\\\\\n",
       "\\hline\n",
       "\t old\\_po1 & 123       & 128       & 313      \\\\\n",
       "\t REC\\_HGG & 89        & 93        & 294      \\\\\n",
       "\t TOTAL   & 212     & 221     & 607    \\\\\n",
       "\\end{tabular}\n"
      ],
      "text/markdown": [
       "\n",
       "data | patients | scans | samples | \n",
       "|---|---|---|\n",
       "| old_po1 | 123     | 128     | 313     | \n",
       "| REC_HGG | 89      | 93      | 294     | \n",
       "| TOTAL   | 212     | 221     | 607     | \n",
       "\n",
       "\n"
      ],
      "text/plain": [
       "     data    patients scans samples\n",
       "[1,] old_po1 123      128   313    \n",
       "[2,] REC_HGG 89       93    294    \n",
       "[3,] TOTAL   212      221   607    "
      ]
     },
     "metadata": {},
     "output_type": "display_data"
    }
   ],
   "source": [
    "recgli.noconsent = recgli[-which(recgli$imaging_code==\"tiss_cons\"),]\n",
    "dim(recgli.noconsent)\n",
    "noconsent = temp\n",
    "noconsent[1,2] = sum(ifelse(duplicated(recgli.noconsent$b_number)==FALSE & recgli.noconsent$olddata==1, 1, 0))\n",
    "noconsent[1,3] = sum(ifelse(duplicated(recgli.noconsent$t_number)==FALSE & recgli.noconsent$olddata==1, 1, 0))\n",
    "noconsent[1,4] = sum(recgli.noconsent$olddata==1)\n",
    "noconsent[2,2] = sum(ifelse(duplicated(recgli.noconsent$b_number)==FALSE & recgli.noconsent$newdata==1, 1, 0))\n",
    "noconsent[2,3] = sum(ifelse(duplicated(recgli.noconsent$t_number)==FALSE & recgli.noconsent$newdata==1, 1, 0))\n",
    "noconsent[2,4] = sum(recgli.noconsent$newdata==1)\n",
    "noconsent[3,2:4]= as.numeric(noconsent[1,2:4]) + as.numeric(noconsent[2,2:4])\n",
    "noconsent"
   ]
  },
  {
   "cell_type": "code",
   "execution_count": 14,
   "metadata": {
    "collapsed": true,
    "deletable": true,
    "editable": true
   },
   "outputs": [],
   "source": [
    "write.csv(recgli.noconsent, \"2ndparse_researchPath_withInVivo.csv\", row.names = F)"
   ]
  },
  {
   "cell_type": "markdown",
   "metadata": {
    "deletable": true,
    "editable": true
   },
   "source": [
    "## 5. Remove those w/ no FFPE tissue"
   ]
  },
  {
   "cell_type": "code",
   "execution_count": 15,
   "metadata": {
    "collapsed": true,
    "deletable": true,
    "editable": true
   },
   "outputs": [],
   "source": [
    "recgli.noconsent = read.csv(\"2ndparse_researchPath_withInVivo.csv\")"
   ]
  },
  {
   "cell_type": "code",
   "execution_count": 16,
   "metadata": {
    "collapsed": false,
    "deletable": true,
    "editable": true
   },
   "outputs": [
    {
     "data": {
      "text/html": [
       "<ol class=list-inline>\n",
       "\t<li>585</li>\n",
       "\t<li>75</li>\n",
       "</ol>\n"
      ],
      "text/latex": [
       "\\begin{enumerate*}\n",
       "\\item 585\n",
       "\\item 75\n",
       "\\end{enumerate*}\n"
      ],
      "text/markdown": [
       "1. 585\n",
       "2. 75\n",
       "\n",
       "\n"
      ],
      "text/plain": [
       "[1] 585  75"
      ]
     },
     "metadata": {},
     "output_type": "display_data"
    },
    {
     "data": {
      "text/html": [
       "<table>\n",
       "<thead><tr><th scope=col>data</th><th scope=col>patients</th><th scope=col>scans</th><th scope=col>samples</th></tr></thead>\n",
       "<tbody>\n",
       "\t<tr><td>old_po1</td><td>123    </td><td>128    </td><td>313    </td></tr>\n",
       "\t<tr><td>REC_HGG</td><td>89     </td><td>92     </td><td>272    </td></tr>\n",
       "\t<tr><td>TOTAL  </td><td>212    </td><td>220    </td><td>585    </td></tr>\n",
       "</tbody>\n",
       "</table>\n"
      ],
      "text/latex": [
       "\\begin{tabular}{llll}\n",
       " data & patients & scans & samples\\\\\n",
       "\\hline\n",
       "\t old\\_po1 & 123       & 128       & 313      \\\\\n",
       "\t REC\\_HGG & 89        & 92        & 272      \\\\\n",
       "\t TOTAL   & 212     & 220     & 585    \\\\\n",
       "\\end{tabular}\n"
      ],
      "text/markdown": [
       "\n",
       "data | patients | scans | samples | \n",
       "|---|---|---|\n",
       "| old_po1 | 123     | 128     | 313     | \n",
       "| REC_HGG | 89      | 92      | 272     | \n",
       "| TOTAL   | 212     | 220     | 585     | \n",
       "\n",
       "\n"
      ],
      "text/plain": [
       "     data    patients scans samples\n",
       "[1,] old_po1 123      128   313    \n",
       "[2,] REC_HGG 89       92    272    \n",
       "[3,] TOTAL   212      220   585    "
      ]
     },
     "metadata": {},
     "output_type": "display_data"
    }
   ],
   "source": [
    "recgli.noffpe = recgli.noconsent[-which(recgli.noconsent$no_ffpe==1),]\n",
    "dim(recgli.noffpe) #584\n",
    "noffpe = temp\n",
    "noffpe[1,2] = sum(ifelse(duplicated(recgli.noffpe$b_number)==FALSE & recgli.noffpe$olddata==1, 1, 0))\n",
    "noffpe[1,3] = sum(ifelse(duplicated(recgli.noffpe$t_number)==FALSE & recgli.noffpe$olddata==1, 1, 0))\n",
    "noffpe[1,4] = sum(recgli.noffpe$olddata==1)\n",
    "noffpe[2,2] = sum(ifelse(duplicated(recgli.noffpe$b_number)==FALSE & recgli.noffpe$newdata==1, 1, 0))\n",
    "noffpe[2,3] = sum(ifelse(duplicated(recgli.noffpe$t_number)==FALSE & recgli.noffpe$newdata==1, 1, 0))\n",
    "noffpe[2,4] = sum(recgli.noffpe$newdata==1)\n",
    "noffpe[3,2:4]= as.numeric(noffpe[1,2:4]) + as.numeric(noffpe[2,2:4])\n",
    "noffpe "
   ]
  },
  {
   "cell_type": "code",
   "execution_count": 17,
   "metadata": {
    "collapsed": true,
    "deletable": true,
    "editable": true
   },
   "outputs": [],
   "source": [
    "write.csv(recgli.noffpe, \"3rdParse_researchPath_withInVivo.csv\", row.names = F)"
   ]
  },
  {
   "cell_type": "markdown",
   "metadata": {
    "deletable": true,
    "editable": true
   },
   "source": [
    "## 6. Remove those w/ missing screenshots from BrainLab Neuronav software\n"
   ]
  },
  {
   "cell_type": "code",
   "execution_count": 18,
   "metadata": {
    "collapsed": false,
    "deletable": true,
    "editable": true
   },
   "outputs": [
    {
     "data": {
      "text/html": [
       "<ol class=list-inline>\n",
       "\t<li>585</li>\n",
       "\t<li>75</li>\n",
       "</ol>\n"
      ],
      "text/latex": [
       "\\begin{enumerate*}\n",
       "\\item 585\n",
       "\\item 75\n",
       "\\end{enumerate*}\n"
      ],
      "text/markdown": [
       "1. 585\n",
       "2. 75\n",
       "\n",
       "\n"
      ],
      "text/plain": [
       "[1] 585  75"
      ]
     },
     "metadata": {},
     "output_type": "display_data"
    }
   ],
   "source": [
    "recgli.noffpe = read.csv(\"3rdParse_researchPath_withInVivo.csv\")\n",
    "dim(recgli.noffpe)"
   ]
  },
  {
   "cell_type": "code",
   "execution_count": 19,
   "metadata": {
    "collapsed": false,
    "deletable": true,
    "editable": true
   },
   "outputs": [
    {
     "data": {
      "text/html": [
       "<ol class=list-inline>\n",
       "\t<li>536</li>\n",
       "\t<li>75</li>\n",
       "</ol>\n"
      ],
      "text/latex": [
       "\\begin{enumerate*}\n",
       "\\item 536\n",
       "\\item 75\n",
       "\\end{enumerate*}\n"
      ],
      "text/markdown": [
       "1. 536\n",
       "2. 75\n",
       "\n",
       "\n"
      ],
      "text/plain": [
       "[1] 536  75"
      ]
     },
     "metadata": {},
     "output_type": "display_data"
    },
    {
     "data": {
      "text/html": [
       "<table>\n",
       "<thead><tr><th scope=col>data</th><th scope=col>patients</th><th scope=col>scans</th><th scope=col>samples</th></tr></thead>\n",
       "<tbody>\n",
       "\t<tr><td>old_po1</td><td>110    </td><td>113    </td><td>275    </td></tr>\n",
       "\t<tr><td>REC_HGG</td><td>86     </td><td>89     </td><td>261    </td></tr>\n",
       "\t<tr><td>TOTAL  </td><td>196    </td><td>202    </td><td>536    </td></tr>\n",
       "</tbody>\n",
       "</table>\n"
      ],
      "text/latex": [
       "\\begin{tabular}{llll}\n",
       " data & patients & scans & samples\\\\\n",
       "\\hline\n",
       "\t old\\_po1 & 110       & 113       & 275      \\\\\n",
       "\t REC\\_HGG & 86        & 89        & 261      \\\\\n",
       "\t TOTAL   & 196     & 202     & 536    \\\\\n",
       "\\end{tabular}\n"
      ],
      "text/markdown": [
       "\n",
       "data | patients | scans | samples | \n",
       "|---|---|---|\n",
       "| old_po1 | 110     | 113     | 275     | \n",
       "| REC_HGG | 86      | 89      | 261     | \n",
       "| TOTAL   | 196     | 202     | 536     | \n",
       "\n",
       "\n"
      ],
      "text/plain": [
       "     data    patients scans samples\n",
       "[1,] old_po1 110      113   275    \n",
       "[2,] REC_HGG 86       89    261    \n",
       "[3,] TOTAL   196      202   536    "
      ]
     },
     "metadata": {},
     "output_type": "display_data"
    }
   ],
   "source": [
    "recgli.noscreenshots = recgli.noffpe[-which(recgli.noffpe$imaging_code==\"scrn\"),]\n",
    "dim(recgli.noscreenshots)  # 541 \n",
    "noscreenshots = temp\n",
    "noscreenshots[1,2] = sum(ifelse(duplicated(recgli.noscreenshots$b_number)==FALSE & recgli.noscreenshots$olddata==1, 1, 0))\n",
    "noscreenshots[1,3] = sum(ifelse(duplicated(recgli.noscreenshots$t_number)==FALSE & recgli.noscreenshots$olddata==1, 1, 0))\n",
    "noscreenshots[1,4] = sum(recgli.noscreenshots$olddata==1)\n",
    "noscreenshots[2,2] = sum(ifelse(duplicated(recgli.noscreenshots$b_number)==FALSE & recgli.noscreenshots$newdata==1, 1, 0))\n",
    "noscreenshots[2,3] = sum(ifelse(duplicated(recgli.noscreenshots$t_number)==FALSE & recgli.noscreenshots$newdata==1, 1, 0))\n",
    "noscreenshots[2,4] = sum(recgli.noscreenshots$newdata==1)\n",
    "noscreenshots[3,2:4]= as.numeric(noscreenshots[1,2:4]) + as.numeric(noscreenshots[2,2:4])\n",
    "noscreenshots"
   ]
  },
  {
   "cell_type": "code",
   "execution_count": 20,
   "metadata": {
    "collapsed": true,
    "deletable": true,
    "editable": true
   },
   "outputs": [],
   "source": [
    "write.csv(recgli.noscreenshots, \"4thParse_researchPath_withInVivo.csv\", row.names = F)"
   ]
  },
  {
   "cell_type": "markdown",
   "metadata": {
    "deletable": true,
    "editable": true
   },
   "source": [
    "## 7. Remove those w/o pathological outcome assigned in multnom_out (missing pathology)\n"
   ]
  },
  {
   "cell_type": "code",
   "execution_count": 21,
   "metadata": {
    "collapsed": false,
    "deletable": true,
    "editable": true
   },
   "outputs": [],
   "source": [
    "recgli.noscreenshots = read.csv(\"4thParse_researchPath_withInVivo.csv\")"
   ]
  },
  {
   "cell_type": "code",
   "execution_count": 22,
   "metadata": {
    "collapsed": false,
    "deletable": true,
    "editable": true
   },
   "outputs": [
    {
     "data": {
      "text/html": [
       "<ol class=list-inline>\n",
       "\t<li>475</li>\n",
       "\t<li>75</li>\n",
       "</ol>\n"
      ],
      "text/latex": [
       "\\begin{enumerate*}\n",
       "\\item 475\n",
       "\\item 75\n",
       "\\end{enumerate*}\n"
      ],
      "text/markdown": [
       "1. 475\n",
       "2. 75\n",
       "\n",
       "\n"
      ],
      "text/plain": [
       "[1] 475  75"
      ]
     },
     "metadata": {},
     "output_type": "display_data"
    },
    {
     "data": {
      "text/html": [
       "<table>\n",
       "<thead><tr><th scope=col>data</th><th scope=col>patients</th><th scope=col>scans</th><th scope=col>samples</th></tr></thead>\n",
       "<tbody>\n",
       "\t<tr><td>old_po1</td><td>108    </td><td>111    </td><td>270    </td></tr>\n",
       "\t<tr><td>REC_HGG</td><td>69     </td><td>71     </td><td>205    </td></tr>\n",
       "\t<tr><td>TOTAL  </td><td>177    </td><td>182    </td><td>475    </td></tr>\n",
       "</tbody>\n",
       "</table>\n"
      ],
      "text/latex": [
       "\\begin{tabular}{llll}\n",
       " data & patients & scans & samples\\\\\n",
       "\\hline\n",
       "\t old\\_po1 & 108       & 111       & 270      \\\\\n",
       "\t REC\\_HGG & 69        & 71        & 205      \\\\\n",
       "\t TOTAL   & 177     & 182     & 475    \\\\\n",
       "\\end{tabular}\n"
      ],
      "text/markdown": [
       "\n",
       "data | patients | scans | samples | \n",
       "|---|---|---|\n",
       "| old_po1 | 108     | 111     | 270     | \n",
       "| REC_HGG | 69      | 71      | 205     | \n",
       "| TOTAL   | 177     | 182     | 475     | \n",
       "\n",
       "\n"
      ],
      "text/plain": [
       "     data    patients scans samples\n",
       "[1,] old_po1 108      111   270    \n",
       "[2,] REC_HGG 69       71    205    \n",
       "[3,] TOTAL   177      182   475    "
      ]
     },
     "metadata": {},
     "output_type": "display_data"
    }
   ],
   "source": [
    "nopath_index = c(grep(\"dneDNI\", recgli.noscreenshots$multnom_out))\n",
    "recgli.nopath = recgli.noscreenshots[-nopath_index,]\n",
    "dim(recgli.nopath) # 480 \n",
    "nopath = temp\n",
    "nopath[1,2] = sum(ifelse(duplicated(recgli.nopath$b_number)==FALSE & recgli.nopath$olddata==1, 1, 0))\n",
    "nopath[1,3] = sum(ifelse(duplicated(recgli.nopath$t_number)==FALSE & recgli.nopath$olddata==1, 1, 0))\n",
    "nopath[1,4] = sum(recgli.nopath$olddata==1)\n",
    "nopath[2,2] = sum(ifelse(duplicated(recgli.nopath$b_number)==FALSE & recgli.nopath$newdata==1, 1, 0))\n",
    "nopath[2,3] = sum(ifelse(duplicated(recgli.nopath$t_number)==FALSE & recgli.nopath$newdata==1, 1, 0))\n",
    "nopath[2,4] = sum(recgli.nopath$newdata==1)\n",
    "nopath[3,2:4]= as.numeric(nopath[1,2:4]) + as.numeric(nopath[2,2:4])\n",
    "nopath"
   ]
  },
  {
   "cell_type": "code",
   "execution_count": 23,
   "metadata": {
    "collapsed": true,
    "deletable": true,
    "editable": true
   },
   "outputs": [],
   "source": [
    "write.csv(recgli.nopath, \"5thParse_researchPath_withInVivo.csv\", row.names = F)"
   ]
  },
  {
   "cell_type": "code",
   "execution_count": 24,
   "metadata": {
    "collapsed": false,
    "deletable": true,
    "editable": true
   },
   "outputs": [
    {
     "data": {
      "text/html": [
       "<table>\n",
       "<thead><tr><th scope=col>b_number</th><th scope=col>t_number</th><th scope=col>sf_number</th><th scope=col>current_scan_date</th><th scope=col>current_surgery_date</th><th scope=col>current_hist_grade</th><th scope=col>current_hist_type</th><th scope=col>roi.label</th><th scope=col>tumor_cell_evaluation</th><th scope=col>necrosis</th><th scope=col>f8_delicate</th><th scope=col>f8_simple</th><th scope=col>f8_complex</th><th scope=col>mib_1</th><th scope=col>bx_pure_treatment_effect</th><th scope=col>nfse</th><th scope=col>nfl</th><th scope=col>nt1c</th><th scope=col>nt1v</th><th scope=col>nt1d</th><th scope=col>nadc.1</th><th scope=col>nfa.1</th><th scope=col>nev1.1</th><th scope=col>nev2.1</th><th scope=col>nev3.1</th><th scope=col>nevrad.1</th><th scope=col>nadc.2</th><th scope=col>nfa.2</th><th scope=col>nev1.2</th><th scope=col>nev2.2</th><th scope=col>nev3.2</th><th scope=col>nevrad.2</th><th scope=col>cbvn_nlin</th><th scope=col>phn_nlin</th><th scope=col>phn_npar</th><th scope=col>recovn_npar</th><th scope=col>cni</th><th scope=col>ccri</th><th scope=col>crni</th><th scope=col>ncho</th><th scope=col>ncre</th><th scope=col>nnaa</th><th scope=col>laclip</th><th scope=col>nlip</th><th scope=col>nlac</th><th scope=col>olddata</th><th scope=col>newdata</th><th scope=col>comments</th><th scope=col>notes.</th><th scope=col>imaging_code</th><th scope=col>perf_quant</th><th scope=col>cbv_nlin</th><th scope=col>spec_quant</th><th scope=col>include_anat</th><th scope=col>include_diffu1000</th><th scope=col>include_diffu2000</th><th scope=col>include_diffu_all</th><th scope=col>include_perf</th><th scope=col>include_spec</th><th scope=col>include_one_advanced_mod</th><th scope=col>include_all_advanced_mods</th><th scope=col>X.CEL</th><th scope=col>X.NEL</th><th scope=col>X.NEC</th><th scope=col>sum</th><th scope=col>in_CEL</th><th scope=col>in_T2all</th><th scope=col>in_NEL</th><th scope=col>in_NEC</th><th scope=col>in_ROI</th><th scope=col>desired_hist</th><th scope=col>multnom_out</th><th scope=col>no_ffpe</th><th scope=col>waiting_on_path</th><th scope=col>rhgg_txe_analysis</th></tr></thead>\n",
       "<tbody>\n",
       "</tbody>\n",
       "</table>\n"
      ],
      "text/latex": [
       "\\begin{tabular}{r|lllllllllllllllllllllllllllllllllllllllllllllllllllllllllllllllllllllllllll}\n",
       " b\\_number & t\\_number & sf\\_number & current\\_scan\\_date & current\\_surgery\\_date & current\\_hist\\_grade & current\\_hist\\_type & roi.label & tumor\\_cell\\_evaluation & necrosis & f8\\_delicate & f8\\_simple & f8\\_complex & mib\\_1 & bx\\_pure\\_treatment\\_effect & nfse & nfl & nt1c & nt1v & nt1d & nadc.1 & nfa.1 & nev1.1 & nev2.1 & nev3.1 & nevrad.1 & nadc.2 & nfa.2 & nev1.2 & nev2.2 & nev3.2 & nevrad.2 & cbvn\\_nlin & phn\\_nlin & phn\\_npar & recovn\\_npar & cni & ccri & crni & ncho & ncre & nnaa & laclip & nlip & nlac & olddata & newdata & comments & notes. & imaging\\_code & perf\\_quant & cbv\\_nlin & spec\\_quant & include\\_anat & include\\_diffu1000 & include\\_diffu2000 & include\\_diffu\\_all & include\\_perf & include\\_spec & include\\_one\\_advanced\\_mod & include\\_all\\_advanced\\_mods & X.CEL & X.NEL & X.NEC & sum & in\\_CEL & in\\_T2all & in\\_NEL & in\\_NEC & in\\_ROI & desired\\_hist & multnom\\_out & no\\_ffpe & waiting\\_on\\_path & rhgg\\_txe\\_analysis\\\\\n",
       "\\hline\n",
       "\\end{tabular}\n"
      ],
      "text/markdown": [
       "\n",
       "b_number | t_number | sf_number | current_scan_date | current_surgery_date | current_hist_grade | current_hist_type | roi.label | tumor_cell_evaluation | necrosis | f8_delicate | f8_simple | f8_complex | mib_1 | bx_pure_treatment_effect | nfse | nfl | nt1c | nt1v | nt1d | nadc.1 | nfa.1 | nev1.1 | nev2.1 | nev3.1 | nevrad.1 | nadc.2 | nfa.2 | nev1.2 | nev2.2 | nev3.2 | nevrad.2 | cbvn_nlin | phn_nlin | phn_npar | recovn_npar | cni | ccri | crni | ncho | ncre | nnaa | laclip | nlip | nlac | olddata | newdata | comments | notes. | imaging_code | perf_quant | cbv_nlin | spec_quant | include_anat | include_diffu1000 | include_diffu2000 | include_diffu_all | include_perf | include_spec | include_one_advanced_mod | include_all_advanced_mods | X.CEL | X.NEL | X.NEC | sum | in_CEL | in_T2all | in_NEL | in_NEC | in_ROI | desired_hist | multnom_out | no_ffpe | waiting_on_path | rhgg_txe_analysis | \n",
       "||\n",
       "\n",
       "\n"
      ],
      "text/plain": [
       "     b_number t_number sf_number current_scan_date current_surgery_date\n",
       "     current_hist_grade current_hist_type roi.label tumor_cell_evaluation\n",
       "     necrosis f8_delicate f8_simple f8_complex mib_1 bx_pure_treatment_effect\n",
       "     nfse nfl nt1c nt1v nt1d nadc.1 nfa.1 nev1.1 nev2.1 nev3.1 nevrad.1 nadc.2\n",
       "     nfa.2 nev1.2 nev2.2 nev3.2 nevrad.2 cbvn_nlin phn_nlin phn_npar\n",
       "     recovn_npar cni ccri crni ncho ncre nnaa laclip nlip nlac olddata newdata\n",
       "     comments notes. imaging_code perf_quant cbv_nlin spec_quant include_anat\n",
       "     include_diffu1000 include_diffu2000 include_diffu_all include_perf\n",
       "     include_spec include_one_advanced_mod include_all_advanced_mods X.CEL\n",
       "     X.NEL X.NEC sum in_CEL in_T2all in_NEL in_NEC in_ROI desired_hist\n",
       "     multnom_out no_ffpe waiting_on_path rhgg_txe_analysis"
      ]
     },
     "metadata": {},
     "output_type": "display_data"
    }
   ],
   "source": [
    "recgli.noscreenshots[grep(5934, recgli.noscreenshots$t_number),]"
   ]
  },
  {
   "cell_type": "markdown",
   "metadata": {
    "deletable": true,
    "editable": true
   },
   "source": [
    "## 8. Remove those whose imaging failed to be quantified for some reason \n"
   ]
  },
  {
   "cell_type": "code",
   "execution_count": 25,
   "metadata": {
    "collapsed": false,
    "deletable": true,
    "editable": true
   },
   "outputs": [
    {
     "data": {
      "text/html": [
       "<ol class=list-inline>\n",
       "\t<li>475</li>\n",
       "\t<li>75</li>\n",
       "</ol>\n"
      ],
      "text/latex": [
       "\\begin{enumerate*}\n",
       "\\item 475\n",
       "\\item 75\n",
       "\\end{enumerate*}\n"
      ],
      "text/markdown": [
       "1. 475\n",
       "2. 75\n",
       "\n",
       "\n"
      ],
      "text/plain": [
       "[1] 475  75"
      ]
     },
     "metadata": {},
     "output_type": "display_data"
    }
   ],
   "source": [
    "recgli.nopath = read.csv(\"5thParse_researchPath_withInVivo.csv\")\n",
    "dim(recgli.nopath)"
   ]
  },
  {
   "cell_type": "code",
   "execution_count": 26,
   "metadata": {
    "collapsed": false,
    "deletable": true,
    "editable": true
   },
   "outputs": [
    {
     "data": {
      "text/html": [
       "<ol class=list-inline>\n",
       "\t<li>443</li>\n",
       "\t<li>75</li>\n",
       "</ol>\n"
      ],
      "text/latex": [
       "\\begin{enumerate*}\n",
       "\\item 443\n",
       "\\item 75\n",
       "\\end{enumerate*}\n"
      ],
      "text/markdown": [
       "1. 443\n",
       "2. 75\n",
       "\n",
       "\n"
      ],
      "text/plain": [
       "[1] 443  75"
      ]
     },
     "metadata": {},
     "output_type": "display_data"
    },
    {
     "data": {
      "text/html": [
       "<table>\n",
       "<thead><tr><th scope=col>data</th><th scope=col>patients</th><th scope=col>scans</th><th scope=col>samples</th></tr></thead>\n",
       "<tbody>\n",
       "\t<tr><td>old_po1</td><td>97     </td><td>99     </td><td>244    </td></tr>\n",
       "\t<tr><td>REC_HGG</td><td>69     </td><td>71     </td><td>199    </td></tr>\n",
       "\t<tr><td>TOTAL  </td><td>166    </td><td>170    </td><td>443    </td></tr>\n",
       "</tbody>\n",
       "</table>\n"
      ],
      "text/latex": [
       "\\begin{tabular}{llll}\n",
       " data & patients & scans & samples\\\\\n",
       "\\hline\n",
       "\t old\\_po1 & 97        & 99        & 244      \\\\\n",
       "\t REC\\_HGG & 69        & 71        & 199      \\\\\n",
       "\t TOTAL   & 166     & 170     & 443    \\\\\n",
       "\\end{tabular}\n"
      ],
      "text/markdown": [
       "\n",
       "data | patients | scans | samples | \n",
       "|---|---|---|\n",
       "| old_po1 | 97      | 99      | 244     | \n",
       "| REC_HGG | 69      | 71      | 199     | \n",
       "| TOTAL   | 166     | 170     | 443     | \n",
       "\n",
       "\n"
      ],
      "text/plain": [
       "     data    patients scans samples\n",
       "[1,] old_po1 97       99    244    \n",
       "[2,] REC_HGG 69       71    199    \n",
       "[3,] TOTAL   166      170   443    "
      ]
     },
     "metadata": {},
     "output_type": "display_data"
    }
   ],
   "source": [
    "recgli.imagingfailed = recgli.nopath[-grep(\"biopsy_quant\", recgli.nopath$imaging_code),]\n",
    "dim(recgli.imagingfailed) # 438 \n",
    "imagingfailed = temp\n",
    "imagingfailed[1,2] = sum(ifelse(duplicated(recgli.imagingfailed$b_number)==FALSE & recgli.imagingfailed$olddata==1, 1, 0))\n",
    "imagingfailed[1,3] = sum(ifelse(duplicated(recgli.imagingfailed$t_number)==FALSE & recgli.imagingfailed$olddata==1, 1, 0))\n",
    "imagingfailed[1,4] = sum(recgli.imagingfailed$olddata==1)\n",
    "imagingfailed[2,2] = sum(ifelse(duplicated(recgli.imagingfailed$b_number)==FALSE & recgli.imagingfailed$newdata==1, 1, 0))\n",
    "imagingfailed[2,3] = sum(ifelse(duplicated(recgli.imagingfailed$t_number)==FALSE & recgli.imagingfailed$newdata==1, 1, 0))\n",
    "imagingfailed[2,4] = sum(recgli.imagingfailed$newdata==1)\n",
    "imagingfailed[3,2:4]= as.numeric(imagingfailed[1,2:4]) + as.numeric(imagingfailed[2,2:4])\n",
    "imagingfailed"
   ]
  },
  {
   "cell_type": "code",
   "execution_count": 27,
   "metadata": {
    "collapsed": true,
    "deletable": true,
    "editable": true
   },
   "outputs": [],
   "source": [
    "write.csv(recgli.imagingfailed, \"6thParse_researchPath_withInVivo.csv\", row.names = F)"
   ]
  },
  {
   "cell_type": "markdown",
   "metadata": {
    "deletable": true,
    "editable": true
   },
   "source": [
    "## 9. Remove ependymomas and other extraneous histologies\n"
   ]
  },
  {
   "cell_type": "code",
   "execution_count": 28,
   "metadata": {
    "collapsed": true,
    "deletable": true,
    "editable": true
   },
   "outputs": [],
   "source": [
    "recgli.imagingfailed = read.csv(\"6thParse_researchPath_withInVivo.csv\")"
   ]
  },
  {
   "cell_type": "code",
   "execution_count": 29,
   "metadata": {
    "collapsed": false,
    "deletable": true,
    "editable": true
   },
   "outputs": [
    {
     "data": {
      "text/html": [
       "<ol class=list-inline>\n",
       "\t<li>443</li>\n",
       "\t<li>75</li>\n",
       "</ol>\n"
      ],
      "text/latex": [
       "\\begin{enumerate*}\n",
       "\\item 443\n",
       "\\item 75\n",
       "\\end{enumerate*}\n"
      ],
      "text/markdown": [
       "1. 443\n",
       "2. 75\n",
       "\n",
       "\n"
      ],
      "text/plain": [
       "[1] 443  75"
      ]
     },
     "metadata": {},
     "output_type": "display_data"
    },
    {
     "data": {
      "text/html": [
       "<ol class=list-inline>\n",
       "\t<li>'b_number'</li>\n",
       "\t<li>'t_number'</li>\n",
       "\t<li>'sf_number'</li>\n",
       "\t<li>'current_scan_date'</li>\n",
       "\t<li>'current_surgery_date'</li>\n",
       "\t<li>'current_hist_grade'</li>\n",
       "\t<li>'current_hist_type'</li>\n",
       "\t<li>'roi.label'</li>\n",
       "\t<li>'tumor_cell_evaluation'</li>\n",
       "\t<li>'necrosis'</li>\n",
       "\t<li>'f8_delicate'</li>\n",
       "\t<li>'f8_simple'</li>\n",
       "\t<li>'f8_complex'</li>\n",
       "\t<li>'mib_1'</li>\n",
       "\t<li>'bx_pure_treatment_effect'</li>\n",
       "\t<li>'nfse'</li>\n",
       "\t<li>'nfl'</li>\n",
       "\t<li>'nt1c'</li>\n",
       "\t<li>'nt1v'</li>\n",
       "\t<li>'nt1d'</li>\n",
       "\t<li>'nadc.1'</li>\n",
       "\t<li>'nfa.1'</li>\n",
       "\t<li>'nev1.1'</li>\n",
       "\t<li>'nev2.1'</li>\n",
       "\t<li>'nev3.1'</li>\n",
       "\t<li>'nevrad.1'</li>\n",
       "\t<li>'nadc.2'</li>\n",
       "\t<li>'nfa.2'</li>\n",
       "\t<li>'nev1.2'</li>\n",
       "\t<li>'nev2.2'</li>\n",
       "\t<li>'nev3.2'</li>\n",
       "\t<li>'nevrad.2'</li>\n",
       "\t<li>'cbvn_nlin'</li>\n",
       "\t<li>'phn_nlin'</li>\n",
       "\t<li>'phn_npar'</li>\n",
       "\t<li>'recovn_npar'</li>\n",
       "\t<li>'cni'</li>\n",
       "\t<li>'ccri'</li>\n",
       "\t<li>'crni'</li>\n",
       "\t<li>'ncho'</li>\n",
       "\t<li>'ncre'</li>\n",
       "\t<li>'nnaa'</li>\n",
       "\t<li>'laclip'</li>\n",
       "\t<li>'nlip'</li>\n",
       "\t<li>'nlac'</li>\n",
       "\t<li>'olddata'</li>\n",
       "\t<li>'newdata'</li>\n",
       "\t<li>'comments'</li>\n",
       "\t<li>'notes.'</li>\n",
       "\t<li>'imaging_code'</li>\n",
       "\t<li>'perf_quant'</li>\n",
       "\t<li>'cbv_nlin'</li>\n",
       "\t<li>'spec_quant'</li>\n",
       "\t<li>'include_anat'</li>\n",
       "\t<li>'include_diffu1000'</li>\n",
       "\t<li>'include_diffu2000'</li>\n",
       "\t<li>'include_diffu_all'</li>\n",
       "\t<li>'include_perf'</li>\n",
       "\t<li>'include_spec'</li>\n",
       "\t<li>'include_one_advanced_mod'</li>\n",
       "\t<li>'include_all_advanced_mods'</li>\n",
       "\t<li>'X.CEL'</li>\n",
       "\t<li>'X.NEL'</li>\n",
       "\t<li>'X.NEC'</li>\n",
       "\t<li>'sum'</li>\n",
       "\t<li>'in_CEL'</li>\n",
       "\t<li>'in_T2all'</li>\n",
       "\t<li>'in_NEL'</li>\n",
       "\t<li>'in_NEC'</li>\n",
       "\t<li>'in_ROI'</li>\n",
       "\t<li>'desired_hist'</li>\n",
       "\t<li>'multnom_out'</li>\n",
       "\t<li>'no_ffpe'</li>\n",
       "\t<li>'waiting_on_path'</li>\n",
       "\t<li>'rhgg_txe_analysis'</li>\n",
       "</ol>\n"
      ],
      "text/latex": [
       "\\begin{enumerate*}\n",
       "\\item 'b\\_number'\n",
       "\\item 't\\_number'\n",
       "\\item 'sf\\_number'\n",
       "\\item 'current\\_scan\\_date'\n",
       "\\item 'current\\_surgery\\_date'\n",
       "\\item 'current\\_hist\\_grade'\n",
       "\\item 'current\\_hist\\_type'\n",
       "\\item 'roi.label'\n",
       "\\item 'tumor\\_cell\\_evaluation'\n",
       "\\item 'necrosis'\n",
       "\\item 'f8\\_delicate'\n",
       "\\item 'f8\\_simple'\n",
       "\\item 'f8\\_complex'\n",
       "\\item 'mib\\_1'\n",
       "\\item 'bx\\_pure\\_treatment\\_effect'\n",
       "\\item 'nfse'\n",
       "\\item 'nfl'\n",
       "\\item 'nt1c'\n",
       "\\item 'nt1v'\n",
       "\\item 'nt1d'\n",
       "\\item 'nadc.1'\n",
       "\\item 'nfa.1'\n",
       "\\item 'nev1.1'\n",
       "\\item 'nev2.1'\n",
       "\\item 'nev3.1'\n",
       "\\item 'nevrad.1'\n",
       "\\item 'nadc.2'\n",
       "\\item 'nfa.2'\n",
       "\\item 'nev1.2'\n",
       "\\item 'nev2.2'\n",
       "\\item 'nev3.2'\n",
       "\\item 'nevrad.2'\n",
       "\\item 'cbvn\\_nlin'\n",
       "\\item 'phn\\_nlin'\n",
       "\\item 'phn\\_npar'\n",
       "\\item 'recovn\\_npar'\n",
       "\\item 'cni'\n",
       "\\item 'ccri'\n",
       "\\item 'crni'\n",
       "\\item 'ncho'\n",
       "\\item 'ncre'\n",
       "\\item 'nnaa'\n",
       "\\item 'laclip'\n",
       "\\item 'nlip'\n",
       "\\item 'nlac'\n",
       "\\item 'olddata'\n",
       "\\item 'newdata'\n",
       "\\item 'comments'\n",
       "\\item 'notes.'\n",
       "\\item 'imaging\\_code'\n",
       "\\item 'perf\\_quant'\n",
       "\\item 'cbv\\_nlin'\n",
       "\\item 'spec\\_quant'\n",
       "\\item 'include\\_anat'\n",
       "\\item 'include\\_diffu1000'\n",
       "\\item 'include\\_diffu2000'\n",
       "\\item 'include\\_diffu\\_all'\n",
       "\\item 'include\\_perf'\n",
       "\\item 'include\\_spec'\n",
       "\\item 'include\\_one\\_advanced\\_mod'\n",
       "\\item 'include\\_all\\_advanced\\_mods'\n",
       "\\item 'X.CEL'\n",
       "\\item 'X.NEL'\n",
       "\\item 'X.NEC'\n",
       "\\item 'sum'\n",
       "\\item 'in\\_CEL'\n",
       "\\item 'in\\_T2all'\n",
       "\\item 'in\\_NEL'\n",
       "\\item 'in\\_NEC'\n",
       "\\item 'in\\_ROI'\n",
       "\\item 'desired\\_hist'\n",
       "\\item 'multnom\\_out'\n",
       "\\item 'no\\_ffpe'\n",
       "\\item 'waiting\\_on\\_path'\n",
       "\\item 'rhgg\\_txe\\_analysis'\n",
       "\\end{enumerate*}\n"
      ],
      "text/markdown": [
       "1. 'b_number'\n",
       "2. 't_number'\n",
       "3. 'sf_number'\n",
       "4. 'current_scan_date'\n",
       "5. 'current_surgery_date'\n",
       "6. 'current_hist_grade'\n",
       "7. 'current_hist_type'\n",
       "8. 'roi.label'\n",
       "9. 'tumor_cell_evaluation'\n",
       "10. 'necrosis'\n",
       "11. 'f8_delicate'\n",
       "12. 'f8_simple'\n",
       "13. 'f8_complex'\n",
       "14. 'mib_1'\n",
       "15. 'bx_pure_treatment_effect'\n",
       "16. 'nfse'\n",
       "17. 'nfl'\n",
       "18. 'nt1c'\n",
       "19. 'nt1v'\n",
       "20. 'nt1d'\n",
       "21. 'nadc.1'\n",
       "22. 'nfa.1'\n",
       "23. 'nev1.1'\n",
       "24. 'nev2.1'\n",
       "25. 'nev3.1'\n",
       "26. 'nevrad.1'\n",
       "27. 'nadc.2'\n",
       "28. 'nfa.2'\n",
       "29. 'nev1.2'\n",
       "30. 'nev2.2'\n",
       "31. 'nev3.2'\n",
       "32. 'nevrad.2'\n",
       "33. 'cbvn_nlin'\n",
       "34. 'phn_nlin'\n",
       "35. 'phn_npar'\n",
       "36. 'recovn_npar'\n",
       "37. 'cni'\n",
       "38. 'ccri'\n",
       "39. 'crni'\n",
       "40. 'ncho'\n",
       "41. 'ncre'\n",
       "42. 'nnaa'\n",
       "43. 'laclip'\n",
       "44. 'nlip'\n",
       "45. 'nlac'\n",
       "46. 'olddata'\n",
       "47. 'newdata'\n",
       "48. 'comments'\n",
       "49. 'notes.'\n",
       "50. 'imaging_code'\n",
       "51. 'perf_quant'\n",
       "52. 'cbv_nlin'\n",
       "53. 'spec_quant'\n",
       "54. 'include_anat'\n",
       "55. 'include_diffu1000'\n",
       "56. 'include_diffu2000'\n",
       "57. 'include_diffu_all'\n",
       "58. 'include_perf'\n",
       "59. 'include_spec'\n",
       "60. 'include_one_advanced_mod'\n",
       "61. 'include_all_advanced_mods'\n",
       "62. 'X.CEL'\n",
       "63. 'X.NEL'\n",
       "64. 'X.NEC'\n",
       "65. 'sum'\n",
       "66. 'in_CEL'\n",
       "67. 'in_T2all'\n",
       "68. 'in_NEL'\n",
       "69. 'in_NEC'\n",
       "70. 'in_ROI'\n",
       "71. 'desired_hist'\n",
       "72. 'multnom_out'\n",
       "73. 'no_ffpe'\n",
       "74. 'waiting_on_path'\n",
       "75. 'rhgg_txe_analysis'\n",
       "\n",
       "\n"
      ],
      "text/plain": [
       " [1] \"b_number\"                  \"t_number\"                 \n",
       " [3] \"sf_number\"                 \"current_scan_date\"        \n",
       " [5] \"current_surgery_date\"      \"current_hist_grade\"       \n",
       " [7] \"current_hist_type\"         \"roi.label\"                \n",
       " [9] \"tumor_cell_evaluation\"     \"necrosis\"                 \n",
       "[11] \"f8_delicate\"               \"f8_simple\"                \n",
       "[13] \"f8_complex\"                \"mib_1\"                    \n",
       "[15] \"bx_pure_treatment_effect\"  \"nfse\"                     \n",
       "[17] \"nfl\"                       \"nt1c\"                     \n",
       "[19] \"nt1v\"                      \"nt1d\"                     \n",
       "[21] \"nadc.1\"                    \"nfa.1\"                    \n",
       "[23] \"nev1.1\"                    \"nev2.1\"                   \n",
       "[25] \"nev3.1\"                    \"nevrad.1\"                 \n",
       "[27] \"nadc.2\"                    \"nfa.2\"                    \n",
       "[29] \"nev1.2\"                    \"nev2.2\"                   \n",
       "[31] \"nev3.2\"                    \"nevrad.2\"                 \n",
       "[33] \"cbvn_nlin\"                 \"phn_nlin\"                 \n",
       "[35] \"phn_npar\"                  \"recovn_npar\"              \n",
       "[37] \"cni\"                       \"ccri\"                     \n",
       "[39] \"crni\"                      \"ncho\"                     \n",
       "[41] \"ncre\"                      \"nnaa\"                     \n",
       "[43] \"laclip\"                    \"nlip\"                     \n",
       "[45] \"nlac\"                      \"olddata\"                  \n",
       "[47] \"newdata\"                   \"comments\"                 \n",
       "[49] \"notes.\"                    \"imaging_code\"             \n",
       "[51] \"perf_quant\"                \"cbv_nlin\"                 \n",
       "[53] \"spec_quant\"                \"include_anat\"             \n",
       "[55] \"include_diffu1000\"         \"include_diffu2000\"        \n",
       "[57] \"include_diffu_all\"         \"include_perf\"             \n",
       "[59] \"include_spec\"              \"include_one_advanced_mod\" \n",
       "[61] \"include_all_advanced_mods\" \"X.CEL\"                    \n",
       "[63] \"X.NEL\"                     \"X.NEC\"                    \n",
       "[65] \"sum\"                       \"in_CEL\"                   \n",
       "[67] \"in_T2all\"                  \"in_NEL\"                   \n",
       "[69] \"in_NEC\"                    \"in_ROI\"                   \n",
       "[71] \"desired_hist\"              \"multnom_out\"              \n",
       "[73] \"no_ffpe\"                   \"waiting_on_path\"          \n",
       "[75] \"rhgg_txe_analysis\"        "
      ]
     },
     "metadata": {},
     "output_type": "display_data"
    }
   ],
   "source": [
    "dim(recgli.imagingfailed)\n",
    "colnames(recgli.imagingfailed)"
   ]
  },
  {
   "cell_type": "code",
   "execution_count": 30,
   "metadata": {
    "collapsed": false,
    "deletable": true,
    "editable": true
   },
   "outputs": [
    {
     "data": {
      "text/html": [
       "<ol class=list-inline>\n",
       "\t<li>435</li>\n",
       "\t<li>75</li>\n",
       "</ol>\n"
      ],
      "text/latex": [
       "\\begin{enumerate*}\n",
       "\\item 435\n",
       "\\item 75\n",
       "\\end{enumerate*}\n"
      ],
      "text/markdown": [
       "1. 435\n",
       "2. 75\n",
       "\n",
       "\n"
      ],
      "text/plain": [
       "[1] 435  75"
      ]
     },
     "metadata": {},
     "output_type": "display_data"
    },
    {
     "data": {
      "text/html": [
       "<table>\n",
       "<thead><tr><th scope=col>data</th><th scope=col>patients</th><th scope=col>scans</th><th scope=col>samples</th></tr></thead>\n",
       "<tbody>\n",
       "\t<tr><td>old_po1</td><td>95     </td><td>97     </td><td>239    </td></tr>\n",
       "\t<tr><td>REC_HGG</td><td>68     </td><td>70     </td><td>196    </td></tr>\n",
       "\t<tr><td>TOTAL  </td><td>163    </td><td>167    </td><td>435    </td></tr>\n",
       "</tbody>\n",
       "</table>\n"
      ],
      "text/latex": [
       "\\begin{tabular}{llll}\n",
       " data & patients & scans & samples\\\\\n",
       "\\hline\n",
       "\t old\\_po1 & 95        & 97        & 239      \\\\\n",
       "\t REC\\_HGG & 68        & 70        & 196      \\\\\n",
       "\t TOTAL   & 163     & 167     & 435    \\\\\n",
       "\\end{tabular}\n"
      ],
      "text/markdown": [
       "\n",
       "data | patients | scans | samples | \n",
       "|---|---|---|\n",
       "| old_po1 | 95      | 97      | 239     | \n",
       "| REC_HGG | 68      | 70      | 196     | \n",
       "| TOTAL   | 163     | 167     | 435     | \n",
       "\n",
       "\n"
      ],
      "text/plain": [
       "     data    patients scans samples\n",
       "[1,] old_po1 95       97    239    \n",
       "[2,] REC_HGG 68       70    196    \n",
       "[3,] TOTAL   163      167   435    "
      ]
     },
     "metadata": {},
     "output_type": "display_data"
    }
   ],
   "source": [
    "recgli.desiredhist = recgli.imagingfailed[recgli.imagingfailed$desired_hist==1,]\n",
    "dim(recgli.desiredhist) \n",
    "desiredhist = temp\n",
    "desiredhist[1,2] = sum(ifelse(duplicated(recgli.desiredhist$b_number)==FALSE & recgli.desiredhist$olddata==1, 1, 0))\n",
    "desiredhist[1,3] = sum(ifelse(duplicated(recgli.desiredhist$t_number)==FALSE & recgli.desiredhist$olddata==1, 1, 0))\n",
    "desiredhist[1,4] = sum(recgli.desiredhist$olddata==1)\n",
    "desiredhist[2,2] = sum(ifelse(duplicated(recgli.desiredhist$b_number)==FALSE & recgli.desiredhist$newdata==1, 1, 0))\n",
    "desiredhist[2,3] = sum(ifelse(duplicated(recgli.desiredhist$t_number)==FALSE & recgli.desiredhist$newdata==1, 1, 0))\n",
    "desiredhist[2,4] = sum(recgli.desiredhist$newdata==1)\n",
    "desiredhist[3,2:4]= as.numeric(desiredhist[1,2:4]) + as.numeric(desiredhist[2,2:4])\n",
    "desiredhist"
   ]
  },
  {
   "cell_type": "code",
   "execution_count": 31,
   "metadata": {
    "collapsed": false,
    "deletable": true,
    "editable": true
   },
   "outputs": [],
   "source": [
    "write.csv(recgli.desiredhist, file = \"7thParse_researchPath_withInVivo.csv\", row.names = F)"
   ]
  },
  {
   "cell_type": "markdown",
   "metadata": {
    "collapsed": true,
    "deletable": true,
    "editable": true
   },
   "source": [
    "## 10. Removing Necrotic samples"
   ]
  },
  {
   "cell_type": "markdown",
   "metadata": {
    "collapsed": true,
    "deletable": true,
    "editable": true
   },
   "source": [
    "There are two definitions of necrosis: if the sample is in the NEC as defined by X.NEC, or if it's necrotic based on its pathology (with an \"necrosis\" score of 2) "
   ]
  },
  {
   "cell_type": "code",
   "execution_count": 32,
   "metadata": {
    "collapsed": true,
    "deletable": true,
    "editable": true
   },
   "outputs": [],
   "source": [
    "recgli.desiredhist = read.csv(\"7thParse_researchPath_withInVivo.csv\")"
   ]
  },
  {
   "cell_type": "code",
   "execution_count": 33,
   "metadata": {
    "collapsed": false,
    "deletable": true,
    "editable": true
   },
   "outputs": [
    {
     "data": {
      "text/html": [
       "<ol class=list-inline>\n",
       "\t<li>435</li>\n",
       "\t<li>75</li>\n",
       "</ol>\n"
      ],
      "text/latex": [
       "\\begin{enumerate*}\n",
       "\\item 435\n",
       "\\item 75\n",
       "\\end{enumerate*}\n"
      ],
      "text/markdown": [
       "1. 435\n",
       "2. 75\n",
       "\n",
       "\n"
      ],
      "text/plain": [
       "[1] 435  75"
      ]
     },
     "metadata": {},
     "output_type": "display_data"
    }
   ],
   "source": [
    "dim(recgli.desiredhist)"
   ]
  },
  {
   "cell_type": "code",
   "execution_count": 34,
   "metadata": {
    "collapsed": false,
    "deletable": true,
    "editable": true
   },
   "outputs": [
    {
     "data": {
      "text/html": [
       "<ol class=list-inline>\n",
       "\t<li>391</li>\n",
       "\t<li>75</li>\n",
       "</ol>\n"
      ],
      "text/latex": [
       "\\begin{enumerate*}\n",
       "\\item 391\n",
       "\\item 75\n",
       "\\end{enumerate*}\n"
      ],
      "text/markdown": [
       "1. 391\n",
       "2. 75\n",
       "\n",
       "\n"
      ],
      "text/plain": [
       "[1] 391  75"
      ]
     },
     "metadata": {},
     "output_type": "display_data"
    },
    {
     "data": {
      "text/html": [
       "<table>\n",
       "<thead><tr><th scope=col>data</th><th scope=col>patients</th><th scope=col>scans</th><th scope=col>samples</th></tr></thead>\n",
       "<tbody>\n",
       "\t<tr><td>old_po1</td><td>95     </td><td>97     </td><td>214    </td></tr>\n",
       "\t<tr><td>REC_HGG</td><td>63     </td><td>65     </td><td>177    </td></tr>\n",
       "\t<tr><td>TOTAL  </td><td>158    </td><td>162    </td><td>391    </td></tr>\n",
       "</tbody>\n",
       "</table>\n"
      ],
      "text/latex": [
       "\\begin{tabular}{llll}\n",
       " data & patients & scans & samples\\\\\n",
       "\\hline\n",
       "\t old\\_po1 & 95        & 97        & 214      \\\\\n",
       "\t REC\\_HGG & 63        & 65        & 177      \\\\\n",
       "\t TOTAL   & 158     & 162     & 391    \\\\\n",
       "\\end{tabular}\n"
      ],
      "text/markdown": [
       "\n",
       "data | patients | scans | samples | \n",
       "|---|---|---|\n",
       "| old_po1 | 95      | 97      | 214     | \n",
       "| REC_HGG | 63      | 65      | 177     | \n",
       "| TOTAL   | 158     | 162     | 391     | \n",
       "\n",
       "\n"
      ],
      "text/plain": [
       "     data    patients scans samples\n",
       "[1,] old_po1 95       97    214    \n",
       "[2,] REC_HGG 63       65    177    \n",
       "[3,] TOTAL   158      162   391    "
      ]
     },
     "metadata": {},
     "output_type": "display_data"
    }
   ],
   "source": [
    "desiredhist = temp\n",
    "recgli.nonecrosis = recgli.desiredhist[-which(recgli.desiredhist$necrosis==2),]\n",
    "recgli.nonecrosis = recgli.nonecrosis[-which(recgli.nonecrosis$in_NEC == 1),]\n",
    "dim(recgli.nonecrosis) \n",
    "nonecrosis = temp\n",
    "nonecrosis[1,2] = sum(ifelse(duplicated(recgli.nonecrosis$b_number)==FALSE & recgli.nonecrosis$olddata==1, 1, 0))\n",
    "nonecrosis[1,3] = sum(ifelse(duplicated(recgli.nonecrosis$t_number)==FALSE & recgli.nonecrosis$olddata==1, 1, 0))\n",
    "nonecrosis[1,4] = sum(recgli.nonecrosis$olddata==1)\n",
    "nonecrosis[2,2] = sum(ifelse(duplicated(recgli.nonecrosis$b_number)==FALSE & recgli.nonecrosis$newdata==1, 1, 0))\n",
    "nonecrosis[2,3] = sum(ifelse(duplicated(recgli.nonecrosis$t_number)==FALSE & recgli.nonecrosis$newdata==1, 1, 0))\n",
    "nonecrosis[2,4] = sum(recgli.nonecrosis$newdata==1)\n",
    "nonecrosis[3,2:4]= as.numeric(nonecrosis[1,2:4]) + as.numeric(nonecrosis[2,2:4])\n",
    "nonecrosis"
   ]
  },
  {
   "cell_type": "code",
   "execution_count": 35,
   "metadata": {
    "collapsed": false,
    "deletable": true,
    "editable": true
   },
   "outputs": [],
   "source": [
    "write.csv(recgli.nonecrosis, file = \"8thParse_researchPath_withInVivo.csv\", row.names = F)"
   ]
  },
  {
   "cell_type": "markdown",
   "metadata": {
    "deletable": true,
    "editable": true
   },
   "source": [
    "## 11. Only including rHGG or TxE designation: "
   ]
  },
  {
   "cell_type": "code",
   "execution_count": 36,
   "metadata": {
    "collapsed": true,
    "deletable": true,
    "editable": true
   },
   "outputs": [],
   "source": [
    "recgli.nonecrosis = read.csv(\"8thParse_researchPath_withInVivo.csv\")"
   ]
  },
  {
   "cell_type": "code",
   "execution_count": 37,
   "metadata": {
    "collapsed": false,
    "deletable": true,
    "editable": true
   },
   "outputs": [
    {
     "data": {
      "text/html": [
       "<ol class=list-inline>\n",
       "\t<li>322</li>\n",
       "\t<li>75</li>\n",
       "</ol>\n"
      ],
      "text/latex": [
       "\\begin{enumerate*}\n",
       "\\item 322\n",
       "\\item 75\n",
       "\\end{enumerate*}\n"
      ],
      "text/markdown": [
       "1. 322\n",
       "2. 75\n",
       "\n",
       "\n"
      ],
      "text/plain": [
       "[1] 322  75"
      ]
     },
     "metadata": {},
     "output_type": "display_data"
    },
    {
     "data": {
      "text/plain": [
       "\n",
       "IndDNI     PN   rHGG Ts1DNI    TxE \n",
       "     0      0    239      0     83 "
      ]
     },
     "metadata": {},
     "output_type": "display_data"
    },
    {
     "data": {
      "text/html": [
       "<ol class=list-inline>\n",
       "\t<li>322</li>\n",
       "\t<li>75</li>\n",
       "</ol>\n"
      ],
      "text/latex": [
       "\\begin{enumerate*}\n",
       "\\item 322\n",
       "\\item 75\n",
       "\\end{enumerate*}\n"
      ],
      "text/markdown": [
       "1. 322\n",
       "2. 75\n",
       "\n",
       "\n"
      ],
      "text/plain": [
       "[1] 322  75"
      ]
     },
     "metadata": {},
     "output_type": "display_data"
    },
    {
     "data": {
      "text/html": [
       "<table>\n",
       "<thead><tr><th scope=col>data</th><th scope=col>patients</th><th scope=col>scans</th><th scope=col>samples</th></tr></thead>\n",
       "<tbody>\n",
       "\t<tr><td>old_po1</td><td>85     </td><td>87     </td><td>171    </td></tr>\n",
       "\t<tr><td>REC_HGG</td><td>61     </td><td>63     </td><td>151    </td></tr>\n",
       "\t<tr><td>TOTAL  </td><td>146    </td><td>150    </td><td>322    </td></tr>\n",
       "</tbody>\n",
       "</table>\n"
      ],
      "text/latex": [
       "\\begin{tabular}{llll}\n",
       " data & patients & scans & samples\\\\\n",
       "\\hline\n",
       "\t old\\_po1 & 85        & 87        & 171      \\\\\n",
       "\t REC\\_HGG & 61        & 63        & 151      \\\\\n",
       "\t TOTAL   & 146     & 150     & 322    \\\\\n",
       "\\end{tabular}\n"
      ],
      "text/markdown": [
       "\n",
       "data | patients | scans | samples | \n",
       "|---|---|---|\n",
       "| old_po1 | 85      | 87      | 171     | \n",
       "| REC_HGG | 61      | 63      | 151     | \n",
       "| TOTAL   | 146     | 150     | 322     | \n",
       "\n",
       "\n"
      ],
      "text/plain": [
       "     data    patients scans samples\n",
       "[1,] old_po1 85       87    171    \n",
       "[2,] REC_HGG 61       63    151    \n",
       "[3,] TOTAL   146      150   322    "
      ]
     },
     "metadata": {},
     "output_type": "display_data"
    }
   ],
   "source": [
    "recgli.desiredpath = recgli.nonecrosis[recgli.nonecrosis$multnom_out==\"TxE\" |\n",
    "                                         recgli.nonecrosis$multnom_out==\"rHGG\",]\n",
    "dim(recgli.desiredpath)\n",
    "table(recgli.desiredpath$multnom_out)\n",
    "\n",
    "dim(recgli.desiredpath) # 438 \n",
    "desiredpath = temp\n",
    "desiredpath[1,2] = sum(ifelse(duplicated(recgli.desiredpath$b_number)==FALSE & recgli.desiredpath$olddata==1, 1, 0))\n",
    "desiredpath[1,3] = sum(ifelse(duplicated(recgli.desiredpath$t_number)==FALSE & recgli.desiredpath$olddata==1, 1, 0))\n",
    "desiredpath[1,4] = sum(recgli.desiredpath$olddata==1)\n",
    "desiredpath[2,2] = sum(ifelse(duplicated(recgli.desiredpath$b_number)==FALSE & recgli.desiredpath$newdata==1, 1, 0))\n",
    "desiredpath[2,3] = sum(ifelse(duplicated(recgli.desiredpath$t_number)==FALSE & recgli.desiredpath$newdata==1, 1, 0))\n",
    "desiredpath[2,4] = sum(recgli.desiredpath$newdata==1)\n",
    "desiredpath[3,2:4]= as.numeric(desiredpath[1,2:4]) + as.numeric(desiredpath[2,2:4])\n",
    "desiredpath"
   ]
  },
  {
   "cell_type": "code",
   "execution_count": 38,
   "metadata": {
    "collapsed": true,
    "deletable": true,
    "editable": true
   },
   "outputs": [],
   "source": [
    "write.csv(recgli.desiredpath, file = \"9thParse_researchPath_withInVivo.csv\", row.names = F)"
   ]
  }
 ],
 "metadata": {
  "kernelspec": {
   "display_name": "R",
   "language": "R",
   "name": "ir"
  },
  "language_info": {
   "codemirror_mode": "r",
   "file_extension": ".r",
   "mimetype": "text/x-r-source",
   "name": "R",
   "pygments_lexer": "r",
   "version": "3.4.0"
  }
 },
 "nbformat": 4,
 "nbformat_minor": 2
}
