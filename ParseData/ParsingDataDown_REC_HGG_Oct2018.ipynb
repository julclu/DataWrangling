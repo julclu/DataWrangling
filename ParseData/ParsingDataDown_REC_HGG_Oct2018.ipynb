{
 "cells": [
  {
   "cell_type": "markdown",
   "metadata": {
    "collapsed": true,
    "deletable": true,
    "editable": true
   },
   "source": [
    "# Parsing data down to usable data"
   ]
  },
  {
   "cell_type": "markdown",
   "metadata": {
    "deletable": true,
    "editable": true
   },
   "source": [
    "#### In this notebook, we will take the output and perform a series of removals based on the output of biopsyAnnotation\n",
    "1. Create a template for investigating data\n",
    "2. Investigate all data, remove those that may be repeated (look for spaces in the biopsy name) [1stParse]\n",
    "3. Use template to look at all data \n",
    "4. Remove biopsies w/ missing tissue or consent [2ndParse]\n",
    "5. Remove those w/ no FFPE tissue [3rdParse]\n",
    "6. Remove those w/ missing screenshots from BrainLab Neuronav software [4thParse]\n",
    "7. Remove those w/o pathological outcome assigned in multnom_out (missing pathology) [5thParse]\n",
    "8. Remove those whose imaging failed to be quantified for some reason [6thParse]\n",
    "9. Remove ependymomas and other extraneous histologies [7thParse]\n",
    "10. Remove necrotic samples [8thParse]\n",
    "11. Only include rHGG or TxE [9thParse]"
   ]
  },
  {
   "cell_type": "markdown",
   "metadata": {
    "deletable": true,
    "editable": true
   },
   "source": [
    "## 1. Create template: "
   ]
  },
  {
   "cell_type": "code",
   "execution_count": 86,
   "metadata": {
    "collapsed": true,
    "deletable": true,
    "editable": true
   },
   "outputs": [],
   "source": [
    "options(repr.matrix.max.rows=600, repr.matrix.max.cols=200)\n",
    "\n",
    "temp = matrix(nrow = 3, ncol = 4)\n",
    "colnames(temp) = c(\"data\", \"patients\", \"scans\", \"samples\")\n",
    "temp[1,1] = \"old_po1\"\n",
    "temp[2,1] = \"REC_HGG\"\n",
    "temp[3,1] = \"TOTAL\""
   ]
  },
  {
   "cell_type": "markdown",
   "metadata": {
    "deletable": true,
    "editable": true
   },
   "source": [
    "## 2. Investigate data, remove those that look repeated, look for those w/ spaces in biopsy names (when merged w/ igt_stats data) "
   ]
  },
  {
   "cell_type": "code",
   "execution_count": 87,
   "metadata": {
    "collapsed": true,
    "deletable": true,
    "editable": true
   },
   "outputs": [],
   "source": [
    "recgli = read.csv(\"../AnnotateData/REC_HGG_Annotation_Oct2018/10thAnnot_researchPath_withInVivo.csv\")"
   ]
  },
  {
   "cell_type": "code",
   "execution_count": 88,
   "metadata": {
    "collapsed": false,
    "deletable": true,
    "editable": true
   },
   "outputs": [
    {
     "data": {
      "text/html": [
       "<ol class=list-inline>\n",
       "\t<li>303</li>\n",
       "\t<li>69</li>\n",
       "</ol>\n"
      ],
      "text/latex": [
       "\\begin{enumerate*}\n",
       "\\item 303\n",
       "\\item 69\n",
       "\\end{enumerate*}\n"
      ],
      "text/markdown": [
       "1. 303\n",
       "2. 69\n",
       "\n",
       "\n"
      ],
      "text/plain": [
       "[1] 303  69"
      ]
     },
     "metadata": {},
     "output_type": "display_data"
    }
   ],
   "source": [
    "dim(recgli)"
   ]
  },
  {
   "cell_type": "code",
   "execution_count": 89,
   "metadata": {
    "collapsed": false,
    "deletable": true,
    "editable": true
   },
   "outputs": [
    {
     "data": {
      "text/plain": [
       "\n",
       "FALSE  TRUE \n",
       "  299     4 "
      ]
     },
     "metadata": {},
     "output_type": "display_data"
    },
    {
     "data": {
      "text/html": [
       "<table>\n",
       "<thead><tr><th></th><th scope=col>b_number</th><th scope=col>t_number</th><th scope=col>sf_number</th><th scope=col>current_scan_date</th><th scope=col>current_surgery_date</th><th scope=col>current_hist_grade</th><th scope=col>current_hist_type</th><th scope=col>roi.label</th><th scope=col>tumor_cell_evaluation</th><th scope=col>necrosis</th><th scope=col>mv_hyperplasia</th><th scope=col>f8_delicate</th><th scope=col>f8_simple</th><th scope=col>f8_complex</th><th scope=col>mib_1</th><th scope=col>avgerage_cells</th><th scope=col>bx_pure_treatment_effect</th><th scope=col>percent_tumor_nuclei</th><th scope=col>nfse</th><th scope=col>nfl</th><th scope=col>nt1c</th><th scope=col>nt1v</th><th scope=col>nt1d</th><th scope=col>nadc.1</th><th scope=col>nfa.1</th><th scope=col>nadc.2</th><th scope=col>nfa.2</th><th scope=col>phn_nlin</th><th scope=col>cbvn_nlin</th><th scope=col>recov_nlin</th><th scope=col>phn_npar</th><th scope=col>recov_npar</th><th scope=col>recovn_npar</th><th scope=col>cni</th><th scope=col>ccri</th><th scope=col>crni</th><th scope=col>ncho</th><th scope=col>ncre</th><th scope=col>nnaa</th><th scope=col>nlip</th><th scope=col>nlac</th><th scope=col>laclip</th><th scope=col>comments</th><th scope=col>notes.</th><th scope=col>imaging_code</th><th scope=col>perf_quant</th><th scope=col>spec_quant</th><th scope=col>include_anat</th><th scope=col>include_diffu1000</th><th scope=col>include_diffu2000</th><th scope=col>include_diffu_all</th><th scope=col>include_perf</th><th scope=col>include_spec</th><th scope=col>include_one_advanced_mod</th><th scope=col>include_all_advanced_mods</th><th scope=col>X.CEL</th><th scope=col>X.NEL</th><th scope=col>X.NEC</th><th scope=col>sum</th><th scope=col>in_CEL</th><th scope=col>in_T2all</th><th scope=col>in_NEL</th><th scope=col>in_NEC</th><th scope=col>in_ROI</th><th scope=col>desired_hist</th><th scope=col>multnom_out</th><th scope=col>no_ffpe</th><th scope=col>waiting_on_path</th><th scope=col>rhgg_txe_analysis</th></tr></thead>\n",
       "<tbody>\n",
       "\t<tr><th scope=row>65</th><td>3645                 </td><td> 9213                </td><td>10138                </td><td>2014-10-22           </td><td>2014-10-23           </td><td>Grade IV             </td><td>Glioblastoma         </td><td>49B74                </td><td>3                    </td><td>0                    </td><td>2                    </td><td>                     </td><td>                     </td><td>                     </td><td>40.81                </td><td>   NA                </td><td>f                    </td><td>80                   </td><td>1.65                 </td><td>1.55                 </td><td>1.32                 </td><td>0.66                 </td><td>-6.92                </td><td>1.700000             </td><td>0.5000000            </td><td>1.74                 </td><td>0.61                 </td><td>1.29                 </td><td>1.62                 </td><td>100                  </td><td>1.24                 </td><td>100                  </td><td>100                  </td><td>3.51                 </td><td>2.14                 </td><td>0.94                 </td><td>0.69                 </td><td>0.26                 </td><td>0.07                 </td><td>0.12                 </td><td>0.28                 </td><td>0.40                 </td><td>                     </td><td>NA                   </td><td>NA                   </td><td>                     </td><td>0                    </td><td>1                    </td><td>1                    </td><td>1                    </td><td>1                    </td><td>1                    </td><td>1                    </td><td>1                    </td><td>1                    </td><td>95.74                </td><td> 4.26                </td><td>NA                   </td><td>100                  </td><td>1                    </td><td>1                    </td><td>0                    </td><td>0                    </td><td>1                    </td><td>1                    </td><td>rHGG                 </td><td>0                    </td><td>0                    </td><td>1                    </td></tr>\n",
       "\t<tr><th scope=row>72</th><td>3670                 </td><td> 9288                </td><td>10199                </td><td>2014-12-16           </td><td>2014-12-17           </td><td>Grade IV             </td><td>Glioblastoma         </td><td>49B75                </td><td>2                    </td><td>0                    </td><td>2                    </td><td>                     </td><td>                     </td><td>                     </td><td> 5.92                </td><td>261.0                </td><td>                     </td><td>70                   </td><td>1.74                 </td><td>1.82                 </td><td>1.35                 </td><td>0.92                 </td><td>-3.35                </td><td>1.640000             </td><td>0.7200000            </td><td>1.71                 </td><td>0.72                 </td><td>1.12                 </td><td>1.09                 </td><td>100                  </td><td>1.04                 </td><td>100                  </td><td>100                  </td><td>  NA                 </td><td>  NA                 </td><td>  NA                 </td><td>  NA                 </td><td>  NA                 </td><td>  NA                 </td><td>  NA                 </td><td>  NA                 </td><td>  NA                 </td><td>\"foci of macrophages\"</td><td>NA                   </td><td>NA                   </td><td>                     </td><td>1                    </td><td>1                    </td><td>1                    </td><td>1                    </td><td>1                    </td><td>1                    </td><td>0                    </td><td>1                    </td><td>0                    </td><td>58.33                </td><td>41.67                </td><td> 0                   </td><td>100                  </td><td>1                    </td><td>1                    </td><td>0                    </td><td>0                    </td><td>1                    </td><td>1                    </td><td>rHGG                 </td><td>0                    </td><td>0                    </td><td>1                    </td></tr>\n",
       "\t<tr><th scope=row>105</th><td>3791                 </td><td> 9970                </td><td>10507                </td><td>2015-08-25           </td><td>2015-08-26           </td><td>Treatment Effect     </td><td>Treatment Effect     </td><td>49B78                </td><td>3                    </td><td>0                    </td><td>1                    </td><td>                     </td><td>                     </td><td>                     </td><td>10.53                </td><td>339.0                </td><td>f                    </td><td>85                   </td><td>2.11                 </td><td>1.83                 </td><td>0.96                 </td><td>0.68                 </td><td>-2.03                </td><td>2.077567             </td><td>0.6070571            </td><td>1.99                 </td><td>0.61                 </td><td>0.57                 </td><td>0.59                 </td><td>100                  </td><td>0.55                 </td><td>100                  </td><td>100                  </td><td>1.54                 </td><td>0.51                 </td><td>1.02                 </td><td>0.68                 </td><td>0.51                 </td><td>0.27                 </td><td>0.86                 </td><td>0.86                 </td><td>0.86                 </td><td>                     </td><td>NA                   </td><td>NA                   </td><td>                     </td><td>0                    </td><td>1                    </td><td>0                    </td><td>1                    </td><td>1                    </td><td>1                    </td><td>1                    </td><td>1                    </td><td>1                    </td><td>20.00                </td><td>80.00                </td><td> 0                   </td><td>100                  </td><td>0                    </td><td>1                    </td><td>1                    </td><td>0                    </td><td>1                    </td><td>1                    </td><td>rHGG                 </td><td>0                    </td><td>0                    </td><td>1                    </td></tr>\n",
       "\t<tr><th scope=row>208</th><td>3783                 </td><td>11192                </td><td>11150                </td><td>2017-01-29           </td><td>2017-01-30           </td><td>Grade III            </td><td>Astrocytoma          </td><td>36B97                </td><td>3                    </td><td>0                    </td><td>1                    </td><td>2                    </td><td>1                    </td><td>0                    </td><td> 9.56                </td><td>207.2                </td><td>f                    </td><td>75                   </td><td>1.80                 </td><td>1.86                 </td><td>1.39                 </td><td>1.26                 </td><td>-1.17                </td><td>1.670000             </td><td>0.7300000            </td><td>1.69                 </td><td>1.06                 </td><td>0.79                 </td><td>0.67                 </td><td>100                  </td><td>0.75                 </td><td>100                  </td><td>100                  </td><td>5.83                 </td><td>4.55                 </td><td>0.31                 </td><td>1.97                 </td><td>0.90                 </td><td>0.81                 </td><td>0.05                 </td><td>0.05                 </td><td>0.05                 </td><td>                     </td><td>NA                   </td><td>NA                   </td><td>                     </td><td>0                    </td><td>1                    </td><td>1                    </td><td>1                    </td><td>1                    </td><td>1                    </td><td>1                    </td><td>1                    </td><td>1                    </td><td>33.33                </td><td>66.67                </td><td>NA                   </td><td>100                  </td><td>1                    </td><td>1                    </td><td>1                    </td><td>0                    </td><td>1                    </td><td>1                    </td><td>rHGG                 </td><td>0                    </td><td>0                    </td><td>1                    </td></tr>\n",
       "</tbody>\n",
       "</table>\n"
      ],
      "text/latex": [
       "\\begin{tabular}{r|lllllllllllllllllllllllllllllllllllllllllllllllllllllllllllllllllllll}\n",
       "  & b\\_number & t\\_number & sf\\_number & current\\_scan\\_date & current\\_surgery\\_date & current\\_hist\\_grade & current\\_hist\\_type & roi.label & tumor\\_cell\\_evaluation & necrosis & mv\\_hyperplasia & f8\\_delicate & f8\\_simple & f8\\_complex & mib\\_1 & avgerage\\_cells & bx\\_pure\\_treatment\\_effect & percent\\_tumor\\_nuclei & nfse & nfl & nt1c & nt1v & nt1d & nadc.1 & nfa.1 & nadc.2 & nfa.2 & phn\\_nlin & cbvn\\_nlin & recov\\_nlin & phn\\_npar & recov\\_npar & recovn\\_npar & cni & ccri & crni & ncho & ncre & nnaa & nlip & nlac & laclip & comments & notes. & imaging\\_code & perf\\_quant & spec\\_quant & include\\_anat & include\\_diffu1000 & include\\_diffu2000 & include\\_diffu\\_all & include\\_perf & include\\_spec & include\\_one\\_advanced\\_mod & include\\_all\\_advanced\\_mods & X.CEL & X.NEL & X.NEC & sum & in\\_CEL & in\\_T2all & in\\_NEL & in\\_NEC & in\\_ROI & desired\\_hist & multnom\\_out & no\\_ffpe & waiting\\_on\\_path & rhgg\\_txe\\_analysis\\\\\n",
       "\\hline\n",
       "\t65 & 3645                  &  9213                 & 10138                 & 2014-10-22            & 2014-10-23            & Grade IV              & Glioblastoma          & 49B74                 & 3                     & 0                     & 2                     &                       &                       &                       & 40.81                 &    NA                 & f                     & 80                    & 1.65                  & 1.55                  & 1.32                  & 0.66                  & -6.92                 & 1.700000              & 0.5000000             & 1.74                  & 0.61                  & 1.29                  & 1.62                  & 100                   & 1.24                  & 100                   & 100                   & 3.51                  & 2.14                  & 0.94                  & 0.69                  & 0.26                  & 0.07                  & 0.12                  & 0.28                  & 0.40                  &                       & NA                    & NA                    &                       & 0                     & 1                     & 1                     & 1                     & 1                     & 1                     & 1                     & 1                     & 1                     & 95.74                 &  4.26                 & NA                    & 100                   & 1                     & 1                     & 0                     & 0                     & 1                     & 1                     & rHGG                  & 0                     & 0                     & 1                    \\\\\n",
       "\t72 & 3670                  &  9288                 & 10199                 & 2014-12-16            & 2014-12-17            & Grade IV              & Glioblastoma          & 49B75                 & 2                     & 0                     & 2                     &                       &                       &                       &  5.92                 & 261.0                 &                       & 70                    & 1.74                  & 1.82                  & 1.35                  & 0.92                  & -3.35                 & 1.640000              & 0.7200000             & 1.71                  & 0.72                  & 1.12                  & 1.09                  & 100                   & 1.04                  & 100                   & 100                   &   NA                  &   NA                  &   NA                  &   NA                  &   NA                  &   NA                  &   NA                  &   NA                  &   NA                  & \"foci of macrophages\" & NA                    & NA                    &                       & 1                     & 1                     & 1                     & 1                     & 1                     & 1                     & 0                     & 1                     & 0                     & 58.33                 & 41.67                 &  0                    & 100                   & 1                     & 1                     & 0                     & 0                     & 1                     & 1                     & rHGG                  & 0                     & 0                     & 1                    \\\\\n",
       "\t105 & 3791                  &  9970                 & 10507                 & 2015-08-25            & 2015-08-26            & Treatment Effect      & Treatment Effect      & 49B78                 & 3                     & 0                     & 1                     &                       &                       &                       & 10.53                 & 339.0                 & f                     & 85                    & 2.11                  & 1.83                  & 0.96                  & 0.68                  & -2.03                 & 2.077567              & 0.6070571             & 1.99                  & 0.61                  & 0.57                  & 0.59                  & 100                   & 0.55                  & 100                   & 100                   & 1.54                  & 0.51                  & 1.02                  & 0.68                  & 0.51                  & 0.27                  & 0.86                  & 0.86                  & 0.86                  &                       & NA                    & NA                    &                       & 0                     & 1                     & 0                     & 1                     & 1                     & 1                     & 1                     & 1                     & 1                     & 20.00                 & 80.00                 &  0                    & 100                   & 0                     & 1                     & 1                     & 0                     & 1                     & 1                     & rHGG                  & 0                     & 0                     & 1                    \\\\\n",
       "\t208 & 3783                  & 11192                 & 11150                 & 2017-01-29            & 2017-01-30            & Grade III             & Astrocytoma           & 36B97                 & 3                     & 0                     & 1                     & 2                     & 1                     & 0                     &  9.56                 & 207.2                 & f                     & 75                    & 1.80                  & 1.86                  & 1.39                  & 1.26                  & -1.17                 & 1.670000              & 0.7300000             & 1.69                  & 1.06                  & 0.79                  & 0.67                  & 100                   & 0.75                  & 100                   & 100                   & 5.83                  & 4.55                  & 0.31                  & 1.97                  & 0.90                  & 0.81                  & 0.05                  & 0.05                  & 0.05                  &                       & NA                    & NA                    &                       & 0                     & 1                     & 1                     & 1                     & 1                     & 1                     & 1                     & 1                     & 1                     & 33.33                 & 66.67                 & NA                    & 100                   & 1                     & 1                     & 1                     & 0                     & 1                     & 1                     & rHGG                  & 0                     & 0                     & 1                    \\\\\n",
       "\\end{tabular}\n"
      ],
      "text/markdown": [
       "\n",
       "| <!--/--> | b_number | t_number | sf_number | current_scan_date | current_surgery_date | current_hist_grade | current_hist_type | roi.label | tumor_cell_evaluation | necrosis | mv_hyperplasia | f8_delicate | f8_simple | f8_complex | mib_1 | avgerage_cells | bx_pure_treatment_effect | percent_tumor_nuclei | nfse | nfl | nt1c | nt1v | nt1d | nadc.1 | nfa.1 | nadc.2 | nfa.2 | phn_nlin | cbvn_nlin | recov_nlin | phn_npar | recov_npar | recovn_npar | cni | ccri | crni | ncho | ncre | nnaa | nlip | nlac | laclip | comments | notes. | imaging_code | perf_quant | spec_quant | include_anat | include_diffu1000 | include_diffu2000 | include_diffu_all | include_perf | include_spec | include_one_advanced_mod | include_all_advanced_mods | X.CEL | X.NEL | X.NEC | sum | in_CEL | in_T2all | in_NEL | in_NEC | in_ROI | desired_hist | multnom_out | no_ffpe | waiting_on_path | rhgg_txe_analysis | \n",
       "|---|---|---|---|\n",
       "| 65 | 3645                  |  9213                 | 10138                 | 2014-10-22            | 2014-10-23            | Grade IV              | Glioblastoma          | 49B74                 | 3                     | 0                     | 2                     |                       |                       |                       | 40.81                 |    NA                 | f                     | 80                    | 1.65                  | 1.55                  | 1.32                  | 0.66                  | -6.92                 | 1.700000              | 0.5000000             | 1.74                  | 0.61                  | 1.29                  | 1.62                  | 100                   | 1.24                  | 100                   | 100                   | 3.51                  | 2.14                  | 0.94                  | 0.69                  | 0.26                  | 0.07                  | 0.12                  | 0.28                  | 0.40                  |                       | NA                    | NA                    |                       | 0                     | 1                     | 1                     | 1                     | 1                     | 1                     | 1                     | 1                     | 1                     | 95.74                 |  4.26                 | NA                    | 100                   | 1                     | 1                     | 0                     | 0                     | 1                     | 1                     | rHGG                  | 0                     | 0                     | 1                     | \n",
       "| 72 | 3670                  |  9288                 | 10199                 | 2014-12-16            | 2014-12-17            | Grade IV              | Glioblastoma          | 49B75                 | 2                     | 0                     | 2                     |                       |                       |                       |  5.92                 | 261.0                 |                       | 70                    | 1.74                  | 1.82                  | 1.35                  | 0.92                  | -3.35                 | 1.640000              | 0.7200000             | 1.71                  | 0.72                  | 1.12                  | 1.09                  | 100                   | 1.04                  | 100                   | 100                   |   NA                  |   NA                  |   NA                  |   NA                  |   NA                  |   NA                  |   NA                  |   NA                  |   NA                  | \"foci of macrophages\" | NA                    | NA                    |                       | 1                     | 1                     | 1                     | 1                     | 1                     | 1                     | 0                     | 1                     | 0                     | 58.33                 | 41.67                 |  0                    | 100                   | 1                     | 1                     | 0                     | 0                     | 1                     | 1                     | rHGG                  | 0                     | 0                     | 1                     | \n",
       "| 105 | 3791                  |  9970                 | 10507                 | 2015-08-25            | 2015-08-26            | Treatment Effect      | Treatment Effect      | 49B78                 | 3                     | 0                     | 1                     |                       |                       |                       | 10.53                 | 339.0                 | f                     | 85                    | 2.11                  | 1.83                  | 0.96                  | 0.68                  | -2.03                 | 2.077567              | 0.6070571             | 1.99                  | 0.61                  | 0.57                  | 0.59                  | 100                   | 0.55                  | 100                   | 100                   | 1.54                  | 0.51                  | 1.02                  | 0.68                  | 0.51                  | 0.27                  | 0.86                  | 0.86                  | 0.86                  |                       | NA                    | NA                    |                       | 0                     | 1                     | 0                     | 1                     | 1                     | 1                     | 1                     | 1                     | 1                     | 20.00                 | 80.00                 |  0                    | 100                   | 0                     | 1                     | 1                     | 0                     | 1                     | 1                     | rHGG                  | 0                     | 0                     | 1                     | \n",
       "| 208 | 3783                  | 11192                 | 11150                 | 2017-01-29            | 2017-01-30            | Grade III             | Astrocytoma           | 36B97                 | 3                     | 0                     | 1                     | 2                     | 1                     | 0                     |  9.56                 | 207.2                 | f                     | 75                    | 1.80                  | 1.86                  | 1.39                  | 1.26                  | -1.17                 | 1.670000              | 0.7300000             | 1.69                  | 1.06                  | 0.79                  | 0.67                  | 100                   | 0.75                  | 100                   | 100                   | 5.83                  | 4.55                  | 0.31                  | 1.97                  | 0.90                  | 0.81                  | 0.05                  | 0.05                  | 0.05                  |                       | NA                    | NA                    |                       | 0                     | 1                     | 1                     | 1                     | 1                     | 1                     | 1                     | 1                     | 1                     | 33.33                 | 66.67                 | NA                    | 100                   | 1                     | 1                     | 1                     | 0                     | 1                     | 1                     | rHGG                  | 0                     | 0                     | 1                     | \n",
       "\n",
       "\n"
      ],
      "text/plain": [
       "    b_number t_number sf_number current_scan_date current_surgery_date\n",
       "65  3645      9213    10138     2014-10-22        2014-10-23          \n",
       "72  3670      9288    10199     2014-12-16        2014-12-17          \n",
       "105 3791      9970    10507     2015-08-25        2015-08-26          \n",
       "208 3783     11192    11150     2017-01-29        2017-01-30          \n",
       "    current_hist_grade current_hist_type roi.label tumor_cell_evaluation\n",
       "65  Grade IV           Glioblastoma      49B74     3                    \n",
       "72  Grade IV           Glioblastoma      49B75     2                    \n",
       "105 Treatment Effect   Treatment Effect  49B78     3                    \n",
       "208 Grade III          Astrocytoma       36B97     3                    \n",
       "    necrosis mv_hyperplasia f8_delicate f8_simple f8_complex mib_1\n",
       "65  0        2                                               40.81\n",
       "72  0        2                                                5.92\n",
       "105 0        1                                               10.53\n",
       "208 0        1              2           1         0           9.56\n",
       "    avgerage_cells bx_pure_treatment_effect percent_tumor_nuclei nfse nfl  nt1c\n",
       "65     NA          f                        80                   1.65 1.55 1.32\n",
       "72  261.0                                   70                   1.74 1.82 1.35\n",
       "105 339.0          f                        85                   2.11 1.83 0.96\n",
       "208 207.2          f                        75                   1.80 1.86 1.39\n",
       "    nt1v nt1d  nadc.1   nfa.1     nadc.2 nfa.2 phn_nlin cbvn_nlin recov_nlin\n",
       "65  0.66 -6.92 1.700000 0.5000000 1.74   0.61  1.29     1.62      100       \n",
       "72  0.92 -3.35 1.640000 0.7200000 1.71   0.72  1.12     1.09      100       \n",
       "105 0.68 -2.03 2.077567 0.6070571 1.99   0.61  0.57     0.59      100       \n",
       "208 1.26 -1.17 1.670000 0.7300000 1.69   1.06  0.79     0.67      100       \n",
       "    phn_npar recov_npar recovn_npar cni  ccri crni ncho ncre nnaa nlip nlac\n",
       "65  1.24     100        100         3.51 2.14 0.94 0.69 0.26 0.07 0.12 0.28\n",
       "72  1.04     100        100           NA   NA   NA   NA   NA   NA   NA   NA\n",
       "105 0.55     100        100         1.54 0.51 1.02 0.68 0.51 0.27 0.86 0.86\n",
       "208 0.75     100        100         5.83 4.55 0.31 1.97 0.90 0.81 0.05 0.05\n",
       "    laclip comments              notes. imaging_code perf_quant spec_quant\n",
       "65  0.40                         NA     NA                      0         \n",
       "72    NA   \"foci of macrophages\" NA     NA                      1         \n",
       "105 0.86                         NA     NA                      0         \n",
       "208 0.05                         NA     NA                      0         \n",
       "    include_anat include_diffu1000 include_diffu2000 include_diffu_all\n",
       "65  1            1                 1                 1                \n",
       "72  1            1                 1                 1                \n",
       "105 1            0                 1                 1                \n",
       "208 1            1                 1                 1                \n",
       "    include_perf include_spec include_one_advanced_mod\n",
       "65  1            1            1                       \n",
       "72  1            0            1                       \n",
       "105 1            1            1                       \n",
       "208 1            1            1                       \n",
       "    include_all_advanced_mods X.CEL X.NEL X.NEC sum in_CEL in_T2all in_NEL\n",
       "65  1                         95.74  4.26 NA    100 1      1        0     \n",
       "72  0                         58.33 41.67  0    100 1      1        0     \n",
       "105 1                         20.00 80.00  0    100 0      1        1     \n",
       "208 1                         33.33 66.67 NA    100 1      1        1     \n",
       "    in_NEC in_ROI desired_hist multnom_out no_ffpe waiting_on_path\n",
       "65  0      1      1            rHGG        0       0              \n",
       "72  0      1      1            rHGG        0       0              \n",
       "105 0      1      1            rHGG        0       0              \n",
       "208 0      1      1            rHGG        0       0              \n",
       "    rhgg_txe_analysis\n",
       "65  1                \n",
       "72  1                \n",
       "105 1                \n",
       "208 1                "
      ]
     },
     "metadata": {},
     "output_type": "display_data"
    }
   ],
   "source": [
    "## looking at duplicates: \n",
    "table(duplicated(recgli$roi.label))\n",
    "recgli[duplicated(recgli$roi.label),]"
   ]
  },
  {
   "cell_type": "code",
   "execution_count": 90,
   "metadata": {
    "collapsed": false,
    "deletable": true,
    "editable": true
   },
   "outputs": [
    {
     "data": {
      "text/html": [
       "<table>\n",
       "<thead><tr><th></th><th scope=col>b_number</th><th scope=col>t_number</th><th scope=col>sf_number</th><th scope=col>current_scan_date</th><th scope=col>current_surgery_date</th><th scope=col>current_hist_grade</th><th scope=col>current_hist_type</th><th scope=col>roi.label</th><th scope=col>tumor_cell_evaluation</th><th scope=col>necrosis</th><th scope=col>mv_hyperplasia</th><th scope=col>f8_delicate</th><th scope=col>f8_simple</th><th scope=col>f8_complex</th><th scope=col>mib_1</th><th scope=col>avgerage_cells</th><th scope=col>bx_pure_treatment_effect</th><th scope=col>percent_tumor_nuclei</th><th scope=col>nfse</th><th scope=col>nfl</th><th scope=col>nt1c</th><th scope=col>nt1v</th><th scope=col>nt1d</th><th scope=col>nadc.1</th><th scope=col>nfa.1</th><th scope=col>nadc.2</th><th scope=col>nfa.2</th><th scope=col>phn_nlin</th><th scope=col>cbvn_nlin</th><th scope=col>recov_nlin</th><th scope=col>phn_npar</th><th scope=col>recov_npar</th><th scope=col>recovn_npar</th><th scope=col>cni</th><th scope=col>ccri</th><th scope=col>crni</th><th scope=col>ncho</th><th scope=col>ncre</th><th scope=col>nnaa</th><th scope=col>nlip</th><th scope=col>nlac</th><th scope=col>laclip</th><th scope=col>comments</th><th scope=col>notes.</th><th scope=col>imaging_code</th><th scope=col>perf_quant</th><th scope=col>spec_quant</th><th scope=col>include_anat</th><th scope=col>include_diffu1000</th><th scope=col>include_diffu2000</th><th scope=col>include_diffu_all</th><th scope=col>include_perf</th><th scope=col>include_spec</th><th scope=col>include_one_advanced_mod</th><th scope=col>include_all_advanced_mods</th><th scope=col>X.CEL</th><th scope=col>X.NEL</th><th scope=col>X.NEC</th><th scope=col>sum</th><th scope=col>in_CEL</th><th scope=col>in_T2all</th><th scope=col>in_NEL</th><th scope=col>in_NEC</th><th scope=col>in_ROI</th><th scope=col>desired_hist</th><th scope=col>multnom_out</th><th scope=col>no_ffpe</th><th scope=col>waiting_on_path</th><th scope=col>rhgg_txe_analysis</th></tr></thead>\n",
       "<tbody>\n",
       "\t<tr><th scope=row>64</th><td>3645        </td><td>9213        </td><td>10138       </td><td>2014-10-22  </td><td>2014-10-23  </td><td>Grade IV    </td><td>Glioblastoma</td><td>49B74       </td><td>3           </td><td>0           </td><td>2           </td><td>            </td><td>            </td><td>            </td><td>40.81       </td><td>NA          </td><td>f           </td><td>80          </td><td>1.65        </td><td>1.55        </td><td>1.32        </td><td>0.66        </td><td>-6.92       </td><td>1.7         </td><td>0.5         </td><td>1.74        </td><td>0.61        </td><td>1.29        </td><td>1.62        </td><td>100         </td><td>1.24        </td><td>100         </td><td>100         </td><td>3.51        </td><td>2.14        </td><td>0.94        </td><td>0.69        </td><td>0.26        </td><td>0.07        </td><td>0.12        </td><td>0.28        </td><td>0.4         </td><td>            </td><td>NA          </td><td>NA          </td><td>            </td><td>0           </td><td>1           </td><td>1           </td><td>1           </td><td>1           </td><td>1           </td><td>1           </td><td>1           </td><td>1           </td><td>95.74       </td><td>4.26        </td><td>NA          </td><td>100         </td><td>1           </td><td>1           </td><td>0           </td><td>0           </td><td>1           </td><td>1           </td><td>rHGG        </td><td>0           </td><td>0           </td><td>1           </td></tr>\n",
       "\t<tr><th scope=row>65</th><td>3645        </td><td>9213        </td><td>10138       </td><td>2014-10-22  </td><td>2014-10-23  </td><td>Grade IV    </td><td>Glioblastoma</td><td>49B74       </td><td>3           </td><td>0           </td><td>2           </td><td>            </td><td>            </td><td>            </td><td>40.81       </td><td>NA          </td><td>f           </td><td>80          </td><td>1.65        </td><td>1.55        </td><td>1.32        </td><td>0.66        </td><td>-6.92       </td><td>1.7         </td><td>0.5         </td><td>1.74        </td><td>0.61        </td><td>1.29        </td><td>1.62        </td><td>100         </td><td>1.24        </td><td>100         </td><td>100         </td><td>3.51        </td><td>2.14        </td><td>0.94        </td><td>0.69        </td><td>0.26        </td><td>0.07        </td><td>0.12        </td><td>0.28        </td><td>0.4         </td><td>            </td><td>NA          </td><td>NA          </td><td>            </td><td>0           </td><td>1           </td><td>1           </td><td>1           </td><td>1           </td><td>1           </td><td>1           </td><td>1           </td><td>1           </td><td>95.74       </td><td>4.26        </td><td>NA          </td><td>100         </td><td>1           </td><td>1           </td><td>0           </td><td>0           </td><td>1           </td><td>1           </td><td>rHGG        </td><td>0           </td><td>0           </td><td>1           </td></tr>\n",
       "</tbody>\n",
       "</table>\n"
      ],
      "text/latex": [
       "\\begin{tabular}{r|lllllllllllllllllllllllllllllllllllllllllllllllllllllllllllllllllllll}\n",
       "  & b\\_number & t\\_number & sf\\_number & current\\_scan\\_date & current\\_surgery\\_date & current\\_hist\\_grade & current\\_hist\\_type & roi.label & tumor\\_cell\\_evaluation & necrosis & mv\\_hyperplasia & f8\\_delicate & f8\\_simple & f8\\_complex & mib\\_1 & avgerage\\_cells & bx\\_pure\\_treatment\\_effect & percent\\_tumor\\_nuclei & nfse & nfl & nt1c & nt1v & nt1d & nadc.1 & nfa.1 & nadc.2 & nfa.2 & phn\\_nlin & cbvn\\_nlin & recov\\_nlin & phn\\_npar & recov\\_npar & recovn\\_npar & cni & ccri & crni & ncho & ncre & nnaa & nlip & nlac & laclip & comments & notes. & imaging\\_code & perf\\_quant & spec\\_quant & include\\_anat & include\\_diffu1000 & include\\_diffu2000 & include\\_diffu\\_all & include\\_perf & include\\_spec & include\\_one\\_advanced\\_mod & include\\_all\\_advanced\\_mods & X.CEL & X.NEL & X.NEC & sum & in\\_CEL & in\\_T2all & in\\_NEL & in\\_NEC & in\\_ROI & desired\\_hist & multnom\\_out & no\\_ffpe & waiting\\_on\\_path & rhgg\\_txe\\_analysis\\\\\n",
       "\\hline\n",
       "\t64 & 3645         & 9213         & 10138        & 2014-10-22   & 2014-10-23   & Grade IV     & Glioblastoma & 49B74        & 3            & 0            & 2            &              &              &              & 40.81        & NA           & f            & 80           & 1.65         & 1.55         & 1.32         & 0.66         & -6.92        & 1.7          & 0.5          & 1.74         & 0.61         & 1.29         & 1.62         & 100          & 1.24         & 100          & 100          & 3.51         & 2.14         & 0.94         & 0.69         & 0.26         & 0.07         & 0.12         & 0.28         & 0.4          &              & NA           & NA           &              & 0            & 1            & 1            & 1            & 1            & 1            & 1            & 1            & 1            & 95.74        & 4.26         & NA           & 100          & 1            & 1            & 0            & 0            & 1            & 1            & rHGG         & 0            & 0            & 1           \\\\\n",
       "\t65 & 3645         & 9213         & 10138        & 2014-10-22   & 2014-10-23   & Grade IV     & Glioblastoma & 49B74        & 3            & 0            & 2            &              &              &              & 40.81        & NA           & f            & 80           & 1.65         & 1.55         & 1.32         & 0.66         & -6.92        & 1.7          & 0.5          & 1.74         & 0.61         & 1.29         & 1.62         & 100          & 1.24         & 100          & 100          & 3.51         & 2.14         & 0.94         & 0.69         & 0.26         & 0.07         & 0.12         & 0.28         & 0.4          &              & NA           & NA           &              & 0            & 1            & 1            & 1            & 1            & 1            & 1            & 1            & 1            & 95.74        & 4.26         & NA           & 100          & 1            & 1            & 0            & 0            & 1            & 1            & rHGG         & 0            & 0            & 1           \\\\\n",
       "\\end{tabular}\n"
      ],
      "text/markdown": [
       "\n",
       "| <!--/--> | b_number | t_number | sf_number | current_scan_date | current_surgery_date | current_hist_grade | current_hist_type | roi.label | tumor_cell_evaluation | necrosis | mv_hyperplasia | f8_delicate | f8_simple | f8_complex | mib_1 | avgerage_cells | bx_pure_treatment_effect | percent_tumor_nuclei | nfse | nfl | nt1c | nt1v | nt1d | nadc.1 | nfa.1 | nadc.2 | nfa.2 | phn_nlin | cbvn_nlin | recov_nlin | phn_npar | recov_npar | recovn_npar | cni | ccri | crni | ncho | ncre | nnaa | nlip | nlac | laclip | comments | notes. | imaging_code | perf_quant | spec_quant | include_anat | include_diffu1000 | include_diffu2000 | include_diffu_all | include_perf | include_spec | include_one_advanced_mod | include_all_advanced_mods | X.CEL | X.NEL | X.NEC | sum | in_CEL | in_T2all | in_NEL | in_NEC | in_ROI | desired_hist | multnom_out | no_ffpe | waiting_on_path | rhgg_txe_analysis | \n",
       "|---|---|\n",
       "| 64 | 3645         | 9213         | 10138        | 2014-10-22   | 2014-10-23   | Grade IV     | Glioblastoma | 49B74        | 3            | 0            | 2            |              |              |              | 40.81        | NA           | f            | 80           | 1.65         | 1.55         | 1.32         | 0.66         | -6.92        | 1.7          | 0.5          | 1.74         | 0.61         | 1.29         | 1.62         | 100          | 1.24         | 100          | 100          | 3.51         | 2.14         | 0.94         | 0.69         | 0.26         | 0.07         | 0.12         | 0.28         | 0.4          |              | NA           | NA           |              | 0            | 1            | 1            | 1            | 1            | 1            | 1            | 1            | 1            | 95.74        | 4.26         | NA           | 100          | 1            | 1            | 0            | 0            | 1            | 1            | rHGG         | 0            | 0            | 1            | \n",
       "| 65 | 3645         | 9213         | 10138        | 2014-10-22   | 2014-10-23   | Grade IV     | Glioblastoma | 49B74        | 3            | 0            | 2            |              |              |              | 40.81        | NA           | f            | 80           | 1.65         | 1.55         | 1.32         | 0.66         | -6.92        | 1.7          | 0.5          | 1.74         | 0.61         | 1.29         | 1.62         | 100          | 1.24         | 100          | 100          | 3.51         | 2.14         | 0.94         | 0.69         | 0.26         | 0.07         | 0.12         | 0.28         | 0.4          |              | NA           | NA           |              | 0            | 1            | 1            | 1            | 1            | 1            | 1            | 1            | 1            | 95.74        | 4.26         | NA           | 100          | 1            | 1            | 0            | 0            | 1            | 1            | rHGG         | 0            | 0            | 1            | \n",
       "\n",
       "\n"
      ],
      "text/plain": [
       "   b_number t_number sf_number current_scan_date current_surgery_date\n",
       "64 3645     9213     10138     2014-10-22        2014-10-23          \n",
       "65 3645     9213     10138     2014-10-22        2014-10-23          \n",
       "   current_hist_grade current_hist_type roi.label tumor_cell_evaluation\n",
       "64 Grade IV           Glioblastoma      49B74     3                    \n",
       "65 Grade IV           Glioblastoma      49B74     3                    \n",
       "   necrosis mv_hyperplasia f8_delicate f8_simple f8_complex mib_1\n",
       "64 0        2                                               40.81\n",
       "65 0        2                                               40.81\n",
       "   avgerage_cells bx_pure_treatment_effect percent_tumor_nuclei nfse nfl  nt1c\n",
       "64 NA             f                        80                   1.65 1.55 1.32\n",
       "65 NA             f                        80                   1.65 1.55 1.32\n",
       "   nt1v nt1d  nadc.1 nfa.1 nadc.2 nfa.2 phn_nlin cbvn_nlin recov_nlin phn_npar\n",
       "64 0.66 -6.92 1.7    0.5   1.74   0.61  1.29     1.62      100        1.24    \n",
       "65 0.66 -6.92 1.7    0.5   1.74   0.61  1.29     1.62      100        1.24    \n",
       "   recov_npar recovn_npar cni  ccri crni ncho ncre nnaa nlip nlac laclip\n",
       "64 100        100         3.51 2.14 0.94 0.69 0.26 0.07 0.12 0.28 0.4   \n",
       "65 100        100         3.51 2.14 0.94 0.69 0.26 0.07 0.12 0.28 0.4   \n",
       "   comments notes. imaging_code perf_quant spec_quant include_anat\n",
       "64          NA     NA                      0          1           \n",
       "65          NA     NA                      0          1           \n",
       "   include_diffu1000 include_diffu2000 include_diffu_all include_perf\n",
       "64 1                 1                 1                 1           \n",
       "65 1                 1                 1                 1           \n",
       "   include_spec include_one_advanced_mod include_all_advanced_mods X.CEL X.NEL\n",
       "64 1            1                        1                         95.74 4.26 \n",
       "65 1            1                        1                         95.74 4.26 \n",
       "   X.NEC sum in_CEL in_T2all in_NEL in_NEC in_ROI desired_hist multnom_out\n",
       "64 NA    100 1      1        0      0      1      1            rHGG       \n",
       "65 NA    100 1      1        0      0      1      1            rHGG       \n",
       "   no_ffpe waiting_on_path rhgg_txe_analysis\n",
       "64 0       0               1                \n",
       "65 0       0               1                "
      ]
     },
     "metadata": {},
     "output_type": "display_data"
    },
    {
     "data": {
      "text/html": [
       "<ol class=list-inline>\n",
       "\t<li>299</li>\n",
       "\t<li>69</li>\n",
       "</ol>\n"
      ],
      "text/latex": [
       "\\begin{enumerate*}\n",
       "\\item 299\n",
       "\\item 69\n",
       "\\end{enumerate*}\n"
      ],
      "text/markdown": [
       "1. 299\n",
       "2. 69\n",
       "\n",
       "\n"
      ],
      "text/plain": [
       "[1] 299  69"
      ]
     },
     "metadata": {},
     "output_type": "display_data"
    }
   ],
   "source": [
    "## looks like they all somehow got duplicated ... all have the exact same parameters, so we can just eliminate these. Just to make sure: \n",
    "recgli[grep('49B74', recgli$roi.label),]\n",
    "## yep, all the same; we can actually now just delete these: \n",
    "recgli = recgli[!duplicated(recgli$roi.label),]\n",
    "dim(recgli)"
   ]
  },
  {
   "cell_type": "code",
   "execution_count": 91,
   "metadata": {
    "collapsed": false,
    "deletable": true,
    "editable": true
   },
   "outputs": [
    {
     "data": {
      "text/html": [
       "<table>\n",
       "<thead><tr><th scope=col>b_number</th><th scope=col>t_number</th><th scope=col>sf_number</th><th scope=col>current_scan_date</th><th scope=col>current_surgery_date</th><th scope=col>current_hist_grade</th><th scope=col>current_hist_type</th><th scope=col>roi.label</th><th scope=col>tumor_cell_evaluation</th><th scope=col>necrosis</th><th scope=col>mv_hyperplasia</th><th scope=col>f8_delicate</th><th scope=col>f8_simple</th><th scope=col>f8_complex</th><th scope=col>mib_1</th><th scope=col>avgerage_cells</th><th scope=col>bx_pure_treatment_effect</th><th scope=col>percent_tumor_nuclei</th><th scope=col>nfse</th><th scope=col>nfl</th><th scope=col>nt1c</th><th scope=col>nt1v</th><th scope=col>nt1d</th><th scope=col>nadc.1</th><th scope=col>nfa.1</th><th scope=col>nadc.2</th><th scope=col>nfa.2</th><th scope=col>phn_nlin</th><th scope=col>cbvn_nlin</th><th scope=col>recov_nlin</th><th scope=col>phn_npar</th><th scope=col>recov_npar</th><th scope=col>recovn_npar</th><th scope=col>cni</th><th scope=col>ccri</th><th scope=col>crni</th><th scope=col>ncho</th><th scope=col>ncre</th><th scope=col>nnaa</th><th scope=col>nlip</th><th scope=col>nlac</th><th scope=col>laclip</th><th scope=col>comments</th><th scope=col>notes.</th><th scope=col>imaging_code</th><th scope=col>perf_quant</th><th scope=col>spec_quant</th><th scope=col>include_anat</th><th scope=col>include_diffu1000</th><th scope=col>include_diffu2000</th><th scope=col>include_diffu_all</th><th scope=col>include_perf</th><th scope=col>include_spec</th><th scope=col>include_one_advanced_mod</th><th scope=col>include_all_advanced_mods</th><th scope=col>X.CEL</th><th scope=col>X.NEL</th><th scope=col>X.NEC</th><th scope=col>sum</th><th scope=col>in_CEL</th><th scope=col>in_T2all</th><th scope=col>in_NEL</th><th scope=col>in_NEC</th><th scope=col>in_ROI</th><th scope=col>desired_hist</th><th scope=col>multnom_out</th><th scope=col>no_ffpe</th><th scope=col>waiting_on_path</th><th scope=col>rhgg_txe_analysis</th></tr></thead>\n",
       "<tbody>\n",
       "</tbody>\n",
       "</table>\n"
      ],
      "text/latex": [
       "\\begin{tabular}{r|lllllllllllllllllllllllllllllllllllllllllllllllllllllllllllllllllllll}\n",
       " b\\_number & t\\_number & sf\\_number & current\\_scan\\_date & current\\_surgery\\_date & current\\_hist\\_grade & current\\_hist\\_type & roi.label & tumor\\_cell\\_evaluation & necrosis & mv\\_hyperplasia & f8\\_delicate & f8\\_simple & f8\\_complex & mib\\_1 & avgerage\\_cells & bx\\_pure\\_treatment\\_effect & percent\\_tumor\\_nuclei & nfse & nfl & nt1c & nt1v & nt1d & nadc.1 & nfa.1 & nadc.2 & nfa.2 & phn\\_nlin & cbvn\\_nlin & recov\\_nlin & phn\\_npar & recov\\_npar & recovn\\_npar & cni & ccri & crni & ncho & ncre & nnaa & nlip & nlac & laclip & comments & notes. & imaging\\_code & perf\\_quant & spec\\_quant & include\\_anat & include\\_diffu1000 & include\\_diffu2000 & include\\_diffu\\_all & include\\_perf & include\\_spec & include\\_one\\_advanced\\_mod & include\\_all\\_advanced\\_mods & X.CEL & X.NEL & X.NEC & sum & in\\_CEL & in\\_T2all & in\\_NEL & in\\_NEC & in\\_ROI & desired\\_hist & multnom\\_out & no\\_ffpe & waiting\\_on\\_path & rhgg\\_txe\\_analysis\\\\\n",
       "\\hline\n",
       "\\end{tabular}\n"
      ],
      "text/markdown": [
       "\n",
       "b_number | t_number | sf_number | current_scan_date | current_surgery_date | current_hist_grade | current_hist_type | roi.label | tumor_cell_evaluation | necrosis | mv_hyperplasia | f8_delicate | f8_simple | f8_complex | mib_1 | avgerage_cells | bx_pure_treatment_effect | percent_tumor_nuclei | nfse | nfl | nt1c | nt1v | nt1d | nadc.1 | nfa.1 | nadc.2 | nfa.2 | phn_nlin | cbvn_nlin | recov_nlin | phn_npar | recov_npar | recovn_npar | cni | ccri | crni | ncho | ncre | nnaa | nlip | nlac | laclip | comments | notes. | imaging_code | perf_quant | spec_quant | include_anat | include_diffu1000 | include_diffu2000 | include_diffu_all | include_perf | include_spec | include_one_advanced_mod | include_all_advanced_mods | X.CEL | X.NEL | X.NEC | sum | in_CEL | in_T2all | in_NEL | in_NEC | in_ROI | desired_hist | multnom_out | no_ffpe | waiting_on_path | rhgg_txe_analysis | \n",
       "||\n",
       "\n",
       "\n"
      ],
      "text/plain": [
       "     b_number t_number sf_number current_scan_date current_surgery_date\n",
       "     current_hist_grade current_hist_type roi.label tumor_cell_evaluation\n",
       "     necrosis mv_hyperplasia f8_delicate f8_simple f8_complex mib_1\n",
       "     avgerage_cells bx_pure_treatment_effect percent_tumor_nuclei nfse nfl nt1c\n",
       "     nt1v nt1d nadc.1 nfa.1 nadc.2 nfa.2 phn_nlin cbvn_nlin recov_nlin phn_npar\n",
       "     recov_npar recovn_npar cni ccri crni ncho ncre nnaa nlip nlac laclip\n",
       "     comments notes. imaging_code perf_quant spec_quant include_anat\n",
       "     include_diffu1000 include_diffu2000 include_diffu_all include_perf\n",
       "     include_spec include_one_advanced_mod include_all_advanced_mods X.CEL\n",
       "     X.NEL X.NEC sum in_CEL in_T2all in_NEL in_NEC in_ROI desired_hist\n",
       "     multnom_out no_ffpe waiting_on_path rhgg_txe_analysis"
      ]
     },
     "metadata": {},
     "output_type": "display_data"
    }
   ],
   "source": [
    "## looking at spaces: \n",
    "recgli[grep(' ', recgli$roi.label),]"
   ]
  },
  {
   "cell_type": "code",
   "execution_count": 92,
   "metadata": {
    "collapsed": false,
    "deletable": true,
    "editable": true
   },
   "outputs": [],
   "source": [
    "## if we delete the spaces, do we have duplicates ? or no? \n",
    "recgli$roi.label = gsub(\" \", \"\", recgli$roi.label)"
   ]
  },
  {
   "cell_type": "code",
   "execution_count": 93,
   "metadata": {
    "collapsed": false,
    "deletable": true,
    "editable": true
   },
   "outputs": [
    {
     "data": {
      "text/plain": [
       "\n",
       "FALSE \n",
       "  299 "
      ]
     },
     "metadata": {},
     "output_type": "display_data"
    }
   ],
   "source": [
    "table(duplicated(recgli$roi.label))"
   ]
  },
  {
   "cell_type": "code",
   "execution_count": 94,
   "metadata": {
    "collapsed": true,
    "deletable": true,
    "editable": true
   },
   "outputs": [],
   "source": [
    "## great, so the spaces don't really matter all that much it turns out. Now we have 615 biopsies to start with. "
   ]
  },
  {
   "cell_type": "code",
   "execution_count": 95,
   "metadata": {
    "collapsed": true,
    "deletable": true,
    "editable": true
   },
   "outputs": [],
   "source": [
    "write.csv(recgli, \"Parsing_REC_HGG_Oct2018/1stParse_researchpath_withInVivo.csv\", row.names = F)"
   ]
  },
  {
   "cell_type": "markdown",
   "metadata": {
    "deletable": true,
    "editable": true
   },
   "source": [
    "## 3. Use template to look at all data\n"
   ]
  },
  {
   "cell_type": "code",
   "execution_count": 96,
   "metadata": {
    "collapsed": false,
    "deletable": true,
    "editable": true
   },
   "outputs": [
    {
     "data": {
      "text/html": [
       "<ol class=list-inline>\n",
       "\t<li>299</li>\n",
       "\t<li>69</li>\n",
       "</ol>\n"
      ],
      "text/latex": [
       "\\begin{enumerate*}\n",
       "\\item 299\n",
       "\\item 69\n",
       "\\end{enumerate*}\n"
      ],
      "text/markdown": [
       "1. 299\n",
       "2. 69\n",
       "\n",
       "\n"
      ],
      "text/plain": [
       "[1] 299  69"
      ]
     },
     "metadata": {},
     "output_type": "display_data"
    }
   ],
   "source": [
    "recgli = read.csv(\"Parsing_REC_HGG_Oct2018/1stParse_researchpath_withInVivo.csv\")\n",
    "dim(recgli)"
   ]
  },
  {
   "cell_type": "code",
   "execution_count": 97,
   "metadata": {
    "collapsed": true,
    "deletable": true,
    "editable": true
   },
   "outputs": [],
   "source": [
    "recgli = data.frame(recgli, olddata =0, newdata = 1)"
   ]
  },
  {
   "cell_type": "code",
   "execution_count": 98,
   "metadata": {
    "collapsed": false,
    "deletable": true,
    "editable": true
   },
   "outputs": [
    {
     "data": {
      "text/html": [
       "<table>\n",
       "<thead><tr><th scope=col>data</th><th scope=col>patients</th><th scope=col>scans</th><th scope=col>samples</th></tr></thead>\n",
       "<tbody>\n",
       "\t<tr><td>old_po1</td><td>0      </td><td>0      </td><td>0      </td></tr>\n",
       "\t<tr><td>REC_HGG</td><td>91     </td><td>95     </td><td>299    </td></tr>\n",
       "\t<tr><td>TOTAL  </td><td>91     </td><td>95     </td><td>299    </td></tr>\n",
       "</tbody>\n",
       "</table>\n"
      ],
      "text/latex": [
       "\\begin{tabular}{llll}\n",
       " data & patients & scans & samples\\\\\n",
       "\\hline\n",
       "\t old\\_po1 & 0         & 0         & 0        \\\\\n",
       "\t REC\\_HGG & 91        & 95        & 299      \\\\\n",
       "\t TOTAL   & 91      & 95      & 299    \\\\\n",
       "\\end{tabular}\n"
      ],
      "text/markdown": [
       "\n",
       "data | patients | scans | samples | \n",
       "|---|---|---|\n",
       "| old_po1 | 0       | 0       | 0       | \n",
       "| REC_HGG | 91      | 95      | 299     | \n",
       "| TOTAL   | 91      | 95      | 299     | \n",
       "\n",
       "\n"
      ],
      "text/plain": [
       "     data    patients scans samples\n",
       "[1,] old_po1 0        0     0      \n",
       "[2,] REC_HGG 91       95    299    \n",
       "[3,] TOTAL   91       95    299    "
      ]
     },
     "metadata": {},
     "output_type": "display_data"
    }
   ],
   "source": [
    "all_possible = temp\n",
    "all_possible[1,2] = sum(ifelse(duplicated(recgli$b_number)==FALSE & recgli$olddata==1, 1, 0))\n",
    "all_possible[1,3] = sum(ifelse(duplicated(recgli$t_number)==FALSE & recgli$olddata==1, 1, 0))\n",
    "all_possible[1,4] = sum(recgli$olddata==1)\n",
    "all_possible[2,2] = sum(ifelse(duplicated(recgli$b_number)==FALSE & recgli$newdata==1, 1, 0))\n",
    "all_possible[2,3] = sum(ifelse(duplicated(recgli$t_number)==FALSE & recgli$newdata==1, 1, 0))\n",
    "all_possible[2,4] = sum(recgli$newdata==1)\n",
    "all_possible[3,2:4]= as.numeric(all_possible[1,2:4]) + as.numeric(all_possible[2,2:4])\n",
    "all_possible"
   ]
  },
  {
   "cell_type": "markdown",
   "metadata": {
    "deletable": true,
    "editable": true
   },
   "source": [
    "## 4. Remove samples without tissue/consent: "
   ]
  },
  {
   "cell_type": "code",
   "execution_count": 99,
   "metadata": {
    "collapsed": false,
    "deletable": true,
    "editable": true
   },
   "outputs": [
    {
     "data": {
      "text/html": [
       "<ol class=list-inline>\n",
       "\t<li>294</li>\n",
       "\t<li>71</li>\n",
       "</ol>\n"
      ],
      "text/latex": [
       "\\begin{enumerate*}\n",
       "\\item 294\n",
       "\\item 71\n",
       "\\end{enumerate*}\n"
      ],
      "text/markdown": [
       "1. 294\n",
       "2. 71\n",
       "\n",
       "\n"
      ],
      "text/plain": [
       "[1] 294  71"
      ]
     },
     "metadata": {},
     "output_type": "display_data"
    },
    {
     "data": {
      "text/html": [
       "<table>\n",
       "<thead><tr><th scope=col>data</th><th scope=col>patients</th><th scope=col>scans</th><th scope=col>samples</th></tr></thead>\n",
       "<tbody>\n",
       "\t<tr><td>old_po1</td><td>0      </td><td>0      </td><td>0      </td></tr>\n",
       "\t<tr><td>REC_HGG</td><td>89     </td><td>93     </td><td>294    </td></tr>\n",
       "\t<tr><td>TOTAL  </td><td>89     </td><td>93     </td><td>294    </td></tr>\n",
       "</tbody>\n",
       "</table>\n"
      ],
      "text/latex": [
       "\\begin{tabular}{llll}\n",
       " data & patients & scans & samples\\\\\n",
       "\\hline\n",
       "\t old\\_po1 & 0         & 0         & 0        \\\\\n",
       "\t REC\\_HGG & 89        & 93        & 294      \\\\\n",
       "\t TOTAL   & 89      & 93      & 294    \\\\\n",
       "\\end{tabular}\n"
      ],
      "text/markdown": [
       "\n",
       "data | patients | scans | samples | \n",
       "|---|---|---|\n",
       "| old_po1 | 0       | 0       | 0       | \n",
       "| REC_HGG | 89      | 93      | 294     | \n",
       "| TOTAL   | 89      | 93      | 294     | \n",
       "\n",
       "\n"
      ],
      "text/plain": [
       "     data    patients scans samples\n",
       "[1,] old_po1 0        0     0      \n",
       "[2,] REC_HGG 89       93    294    \n",
       "[3,] TOTAL   89       93    294    "
      ]
     },
     "metadata": {},
     "output_type": "display_data"
    }
   ],
   "source": [
    "recgli.noconsent = recgli[-which(recgli$imaging_code==\"tiss_cons\"),]\n",
    "dim(recgli.noconsent)\n",
    "noconsent = temp\n",
    "noconsent[1,2] = sum(ifelse(duplicated(recgli.noconsent$b_number)==FALSE & recgli.noconsent$olddata==1, 1, 0))\n",
    "noconsent[1,3] = sum(ifelse(duplicated(recgli.noconsent$t_number)==FALSE & recgli.noconsent$olddata==1, 1, 0))\n",
    "noconsent[1,4] = sum(recgli.noconsent$olddata==1)\n",
    "noconsent[2,2] = sum(ifelse(duplicated(recgli.noconsent$b_number)==FALSE & recgli.noconsent$newdata==1, 1, 0))\n",
    "noconsent[2,3] = sum(ifelse(duplicated(recgli.noconsent$t_number)==FALSE & recgli.noconsent$newdata==1, 1, 0))\n",
    "noconsent[2,4] = sum(recgli.noconsent$newdata==1)\n",
    "noconsent[3,2:4]= as.numeric(noconsent[1,2:4]) + as.numeric(noconsent[2,2:4])\n",
    "noconsent"
   ]
  },
  {
   "cell_type": "code",
   "execution_count": 100,
   "metadata": {
    "collapsed": true,
    "deletable": true,
    "editable": true
   },
   "outputs": [],
   "source": [
    "write.csv(recgli.noconsent, \"Parsing_REC_HGG_Oct2018/2ndparse_researchPath_withInVivo.csv\", row.names = F)"
   ]
  },
  {
   "cell_type": "markdown",
   "metadata": {
    "deletable": true,
    "editable": true
   },
   "source": [
    "## 5. Remove those w/ no FFPE tissue"
   ]
  },
  {
   "cell_type": "code",
   "execution_count": 101,
   "metadata": {
    "collapsed": true,
    "deletable": true,
    "editable": true
   },
   "outputs": [],
   "source": [
    "recgli.noconsent = read.csv(\"Parsing_REC_HGG_Oct2018/2ndparse_researchPath_withInVivo.csv\")"
   ]
  },
  {
   "cell_type": "code",
   "execution_count": 102,
   "metadata": {
    "collapsed": false,
    "deletable": true,
    "editable": true
   },
   "outputs": [
    {
     "data": {
      "text/html": [
       "<ol class=list-inline>\n",
       "\t<li>272</li>\n",
       "\t<li>71</li>\n",
       "</ol>\n"
      ],
      "text/latex": [
       "\\begin{enumerate*}\n",
       "\\item 272\n",
       "\\item 71\n",
       "\\end{enumerate*}\n"
      ],
      "text/markdown": [
       "1. 272\n",
       "2. 71\n",
       "\n",
       "\n"
      ],
      "text/plain": [
       "[1] 272  71"
      ]
     },
     "metadata": {},
     "output_type": "display_data"
    },
    {
     "data": {
      "text/html": [
       "<table>\n",
       "<thead><tr><th scope=col>data</th><th scope=col>patients</th><th scope=col>scans</th><th scope=col>samples</th></tr></thead>\n",
       "<tbody>\n",
       "\t<tr><td>old_po1</td><td>0      </td><td>0      </td><td>0      </td></tr>\n",
       "\t<tr><td>REC_HGG</td><td>89     </td><td>92     </td><td>272    </td></tr>\n",
       "\t<tr><td>TOTAL  </td><td>89     </td><td>92     </td><td>272    </td></tr>\n",
       "</tbody>\n",
       "</table>\n"
      ],
      "text/latex": [
       "\\begin{tabular}{llll}\n",
       " data & patients & scans & samples\\\\\n",
       "\\hline\n",
       "\t old\\_po1 & 0         & 0         & 0        \\\\\n",
       "\t REC\\_HGG & 89        & 92        & 272      \\\\\n",
       "\t TOTAL   & 89      & 92      & 272    \\\\\n",
       "\\end{tabular}\n"
      ],
      "text/markdown": [
       "\n",
       "data | patients | scans | samples | \n",
       "|---|---|---|\n",
       "| old_po1 | 0       | 0       | 0       | \n",
       "| REC_HGG | 89      | 92      | 272     | \n",
       "| TOTAL   | 89      | 92      | 272     | \n",
       "\n",
       "\n"
      ],
      "text/plain": [
       "     data    patients scans samples\n",
       "[1,] old_po1 0        0     0      \n",
       "[2,] REC_HGG 89       92    272    \n",
       "[3,] TOTAL   89       92    272    "
      ]
     },
     "metadata": {},
     "output_type": "display_data"
    }
   ],
   "source": [
    "recgli.noffpe = recgli.noconsent[-which(recgli.noconsent$no_ffpe==1),]\n",
    "dim(recgli.noffpe) #584\n",
    "noffpe = temp\n",
    "noffpe[1,2] = sum(ifelse(duplicated(recgli.noffpe$b_number)==FALSE & recgli.noffpe$olddata==1, 1, 0))\n",
    "noffpe[1,3] = sum(ifelse(duplicated(recgli.noffpe$t_number)==FALSE & recgli.noffpe$olddata==1, 1, 0))\n",
    "noffpe[1,4] = sum(recgli.noffpe$olddata==1)\n",
    "noffpe[2,2] = sum(ifelse(duplicated(recgli.noffpe$b_number)==FALSE & recgli.noffpe$newdata==1, 1, 0))\n",
    "noffpe[2,3] = sum(ifelse(duplicated(recgli.noffpe$t_number)==FALSE & recgli.noffpe$newdata==1, 1, 0))\n",
    "noffpe[2,4] = sum(recgli.noffpe$newdata==1)\n",
    "noffpe[3,2:4]= as.numeric(noffpe[1,2:4]) + as.numeric(noffpe[2,2:4])\n",
    "noffpe "
   ]
  },
  {
   "cell_type": "code",
   "execution_count": 103,
   "metadata": {
    "collapsed": true,
    "deletable": true,
    "editable": true
   },
   "outputs": [],
   "source": [
    "write.csv(recgli.noffpe, \"Parsing_REC_HGG_Oct2018/3rdParse_researchPath_withInVivo.csv\", row.names = F)"
   ]
  },
  {
   "cell_type": "markdown",
   "metadata": {
    "deletable": true,
    "editable": true
   },
   "source": [
    "## 6. Remove those w/ missing screenshots from BrainLab Neuronav software\n"
   ]
  },
  {
   "cell_type": "code",
   "execution_count": 104,
   "metadata": {
    "collapsed": false,
    "deletable": true,
    "editable": true
   },
   "outputs": [
    {
     "data": {
      "text/html": [
       "<ol class=list-inline>\n",
       "\t<li>272</li>\n",
       "\t<li>71</li>\n",
       "</ol>\n"
      ],
      "text/latex": [
       "\\begin{enumerate*}\n",
       "\\item 272\n",
       "\\item 71\n",
       "\\end{enumerate*}\n"
      ],
      "text/markdown": [
       "1. 272\n",
       "2. 71\n",
       "\n",
       "\n"
      ],
      "text/plain": [
       "[1] 272  71"
      ]
     },
     "metadata": {},
     "output_type": "display_data"
    }
   ],
   "source": [
    "recgli.noffpe = read.csv(\"Parsing_REC_HGG_Oct2018/3rdParse_researchPath_withInVivo.csv\")\n",
    "dim(recgli.noffpe)"
   ]
  },
  {
   "cell_type": "code",
   "execution_count": 105,
   "metadata": {
    "collapsed": false,
    "deletable": true,
    "editable": true
   },
   "outputs": [
    {
     "data": {
      "text/html": [
       "<ol class=list-inline>\n",
       "\t<li>261</li>\n",
       "\t<li>71</li>\n",
       "</ol>\n"
      ],
      "text/latex": [
       "\\begin{enumerate*}\n",
       "\\item 261\n",
       "\\item 71\n",
       "\\end{enumerate*}\n"
      ],
      "text/markdown": [
       "1. 261\n",
       "2. 71\n",
       "\n",
       "\n"
      ],
      "text/plain": [
       "[1] 261  71"
      ]
     },
     "metadata": {},
     "output_type": "display_data"
    },
    {
     "data": {
      "text/html": [
       "<table>\n",
       "<thead><tr><th scope=col>data</th><th scope=col>patients</th><th scope=col>scans</th><th scope=col>samples</th></tr></thead>\n",
       "<tbody>\n",
       "\t<tr><td>old_po1</td><td>0      </td><td>0      </td><td>0      </td></tr>\n",
       "\t<tr><td>REC_HGG</td><td>86     </td><td>89     </td><td>261    </td></tr>\n",
       "\t<tr><td>TOTAL  </td><td>86     </td><td>89     </td><td>261    </td></tr>\n",
       "</tbody>\n",
       "</table>\n"
      ],
      "text/latex": [
       "\\begin{tabular}{llll}\n",
       " data & patients & scans & samples\\\\\n",
       "\\hline\n",
       "\t old\\_po1 & 0         & 0         & 0        \\\\\n",
       "\t REC\\_HGG & 86        & 89        & 261      \\\\\n",
       "\t TOTAL   & 86      & 89      & 261    \\\\\n",
       "\\end{tabular}\n"
      ],
      "text/markdown": [
       "\n",
       "data | patients | scans | samples | \n",
       "|---|---|---|\n",
       "| old_po1 | 0       | 0       | 0       | \n",
       "| REC_HGG | 86      | 89      | 261     | \n",
       "| TOTAL   | 86      | 89      | 261     | \n",
       "\n",
       "\n"
      ],
      "text/plain": [
       "     data    patients scans samples\n",
       "[1,] old_po1 0        0     0      \n",
       "[2,] REC_HGG 86       89    261    \n",
       "[3,] TOTAL   86       89    261    "
      ]
     },
     "metadata": {},
     "output_type": "display_data"
    }
   ],
   "source": [
    "recgli.noscreenshots = recgli.noffpe[-which(recgli.noffpe$imaging_code==\"scrn\"),]\n",
    "dim(recgli.noscreenshots)  # 541 \n",
    "noscreenshots = temp\n",
    "noscreenshots[1,2] = sum(ifelse(duplicated(recgli.noscreenshots$b_number)==FALSE & recgli.noscreenshots$olddata==1, 1, 0))\n",
    "noscreenshots[1,3] = sum(ifelse(duplicated(recgli.noscreenshots$t_number)==FALSE & recgli.noscreenshots$olddata==1, 1, 0))\n",
    "noscreenshots[1,4] = sum(recgli.noscreenshots$olddata==1)\n",
    "noscreenshots[2,2] = sum(ifelse(duplicated(recgli.noscreenshots$b_number)==FALSE & recgli.noscreenshots$newdata==1, 1, 0))\n",
    "noscreenshots[2,3] = sum(ifelse(duplicated(recgli.noscreenshots$t_number)==FALSE & recgli.noscreenshots$newdata==1, 1, 0))\n",
    "noscreenshots[2,4] = sum(recgli.noscreenshots$newdata==1)\n",
    "noscreenshots[3,2:4]= as.numeric(noscreenshots[1,2:4]) + as.numeric(noscreenshots[2,2:4])\n",
    "noscreenshots"
   ]
  },
  {
   "cell_type": "code",
   "execution_count": 106,
   "metadata": {
    "collapsed": true,
    "deletable": true,
    "editable": true
   },
   "outputs": [],
   "source": [
    "write.csv(recgli.noscreenshots, \"Parsing_REC_HGG_Oct2018/4thParse_researchPath_withInVivo.csv\", row.names = F)"
   ]
  },
  {
   "cell_type": "markdown",
   "metadata": {
    "deletable": true,
    "editable": true
   },
   "source": [
    "## 7. Remove those w/o pathological outcome assigned in multnom_out (missing pathology)\n"
   ]
  },
  {
   "cell_type": "code",
   "execution_count": 107,
   "metadata": {
    "collapsed": false,
    "deletable": true,
    "editable": true
   },
   "outputs": [],
   "source": [
    "recgli.noscreenshots = read.csv(\"Parsing_REC_HGG_Oct2018/4thParse_researchPath_withInVivo.csv\")"
   ]
  },
  {
   "cell_type": "code",
   "execution_count": 108,
   "metadata": {
    "collapsed": false,
    "deletable": true,
    "editable": true
   },
   "outputs": [
    {
     "data": {
      "text/html": [
       "<ol class=list-inline>\n",
       "\t<li>205</li>\n",
       "\t<li>71</li>\n",
       "</ol>\n"
      ],
      "text/latex": [
       "\\begin{enumerate*}\n",
       "\\item 205\n",
       "\\item 71\n",
       "\\end{enumerate*}\n"
      ],
      "text/markdown": [
       "1. 205\n",
       "2. 71\n",
       "\n",
       "\n"
      ],
      "text/plain": [
       "[1] 205  71"
      ]
     },
     "metadata": {},
     "output_type": "display_data"
    },
    {
     "data": {
      "text/html": [
       "<table>\n",
       "<thead><tr><th scope=col>data</th><th scope=col>patients</th><th scope=col>scans</th><th scope=col>samples</th></tr></thead>\n",
       "<tbody>\n",
       "\t<tr><td>old_po1</td><td>0      </td><td>0      </td><td>0      </td></tr>\n",
       "\t<tr><td>REC_HGG</td><td>69     </td><td>71     </td><td>205    </td></tr>\n",
       "\t<tr><td>TOTAL  </td><td>69     </td><td>71     </td><td>205    </td></tr>\n",
       "</tbody>\n",
       "</table>\n"
      ],
      "text/latex": [
       "\\begin{tabular}{llll}\n",
       " data & patients & scans & samples\\\\\n",
       "\\hline\n",
       "\t old\\_po1 & 0         & 0         & 0        \\\\\n",
       "\t REC\\_HGG & 69        & 71        & 205      \\\\\n",
       "\t TOTAL   & 69      & 71      & 205    \\\\\n",
       "\\end{tabular}\n"
      ],
      "text/markdown": [
       "\n",
       "data | patients | scans | samples | \n",
       "|---|---|---|\n",
       "| old_po1 | 0       | 0       | 0       | \n",
       "| REC_HGG | 69      | 71      | 205     | \n",
       "| TOTAL   | 69      | 71      | 205     | \n",
       "\n",
       "\n"
      ],
      "text/plain": [
       "     data    patients scans samples\n",
       "[1,] old_po1 0        0     0      \n",
       "[2,] REC_HGG 69       71    205    \n",
       "[3,] TOTAL   69       71    205    "
      ]
     },
     "metadata": {},
     "output_type": "display_data"
    }
   ],
   "source": [
    "nopath_index = c(grep(\"dneDNI\", recgli.noscreenshots$multnom_out))\n",
    "recgli.nopath = recgli.noscreenshots[-nopath_index,]\n",
    "dim(recgli.nopath) # 480 \n",
    "nopath = temp\n",
    "nopath[1,2] = sum(ifelse(duplicated(recgli.nopath$b_number)==FALSE & recgli.nopath$olddata==1, 1, 0))\n",
    "nopath[1,3] = sum(ifelse(duplicated(recgli.nopath$t_number)==FALSE & recgli.nopath$olddata==1, 1, 0))\n",
    "nopath[1,4] = sum(recgli.nopath$olddata==1)\n",
    "nopath[2,2] = sum(ifelse(duplicated(recgli.nopath$b_number)==FALSE & recgli.nopath$newdata==1, 1, 0))\n",
    "nopath[2,3] = sum(ifelse(duplicated(recgli.nopath$t_number)==FALSE & recgli.nopath$newdata==1, 1, 0))\n",
    "nopath[2,4] = sum(recgli.nopath$newdata==1)\n",
    "nopath[3,2:4]= as.numeric(nopath[1,2:4]) + as.numeric(nopath[2,2:4])\n",
    "nopath"
   ]
  },
  {
   "cell_type": "code",
   "execution_count": 109,
   "metadata": {
    "collapsed": true,
    "deletable": true,
    "editable": true
   },
   "outputs": [],
   "source": [
    "write.csv(recgli.nopath, \"Parsing_REC_HGG_Oct2018/5thParse_researchPath_withInVivo.csv\", row.names = F)"
   ]
  },
  {
   "cell_type": "code",
   "execution_count": 110,
   "metadata": {
    "collapsed": false,
    "deletable": true,
    "editable": true
   },
   "outputs": [
    {
     "data": {
      "text/html": [
       "<table>\n",
       "<thead><tr><th scope=col>b_number</th><th scope=col>t_number</th><th scope=col>sf_number</th><th scope=col>current_scan_date</th><th scope=col>current_surgery_date</th><th scope=col>current_hist_grade</th><th scope=col>current_hist_type</th><th scope=col>roi.label</th><th scope=col>tumor_cell_evaluation</th><th scope=col>necrosis</th><th scope=col>mv_hyperplasia</th><th scope=col>f8_delicate</th><th scope=col>f8_simple</th><th scope=col>f8_complex</th><th scope=col>mib_1</th><th scope=col>avgerage_cells</th><th scope=col>bx_pure_treatment_effect</th><th scope=col>percent_tumor_nuclei</th><th scope=col>nfse</th><th scope=col>nfl</th><th scope=col>nt1c</th><th scope=col>nt1v</th><th scope=col>nt1d</th><th scope=col>nadc.1</th><th scope=col>nfa.1</th><th scope=col>nadc.2</th><th scope=col>nfa.2</th><th scope=col>phn_nlin</th><th scope=col>cbvn_nlin</th><th scope=col>recov_nlin</th><th scope=col>phn_npar</th><th scope=col>recov_npar</th><th scope=col>recovn_npar</th><th scope=col>cni</th><th scope=col>ccri</th><th scope=col>crni</th><th scope=col>ncho</th><th scope=col>ncre</th><th scope=col>nnaa</th><th scope=col>nlip</th><th scope=col>nlac</th><th scope=col>laclip</th><th scope=col>comments</th><th scope=col>notes.</th><th scope=col>imaging_code</th><th scope=col>perf_quant</th><th scope=col>spec_quant</th><th scope=col>include_anat</th><th scope=col>include_diffu1000</th><th scope=col>include_diffu2000</th><th scope=col>include_diffu_all</th><th scope=col>include_perf</th><th scope=col>include_spec</th><th scope=col>include_one_advanced_mod</th><th scope=col>include_all_advanced_mods</th><th scope=col>X.CEL</th><th scope=col>X.NEL</th><th scope=col>X.NEC</th><th scope=col>sum</th><th scope=col>in_CEL</th><th scope=col>in_T2all</th><th scope=col>in_NEL</th><th scope=col>in_NEC</th><th scope=col>in_ROI</th><th scope=col>desired_hist</th><th scope=col>multnom_out</th><th scope=col>no_ffpe</th><th scope=col>waiting_on_path</th><th scope=col>rhgg_txe_analysis</th><th scope=col>olddata</th><th scope=col>newdata</th></tr></thead>\n",
       "<tbody>\n",
       "</tbody>\n",
       "</table>\n"
      ],
      "text/latex": [
       "\\begin{tabular}{r|lllllllllllllllllllllllllllllllllllllllllllllllllllllllllllllllllllllll}\n",
       " b\\_number & t\\_number & sf\\_number & current\\_scan\\_date & current\\_surgery\\_date & current\\_hist\\_grade & current\\_hist\\_type & roi.label & tumor\\_cell\\_evaluation & necrosis & mv\\_hyperplasia & f8\\_delicate & f8\\_simple & f8\\_complex & mib\\_1 & avgerage\\_cells & bx\\_pure\\_treatment\\_effect & percent\\_tumor\\_nuclei & nfse & nfl & nt1c & nt1v & nt1d & nadc.1 & nfa.1 & nadc.2 & nfa.2 & phn\\_nlin & cbvn\\_nlin & recov\\_nlin & phn\\_npar & recov\\_npar & recovn\\_npar & cni & ccri & crni & ncho & ncre & nnaa & nlip & nlac & laclip & comments & notes. & imaging\\_code & perf\\_quant & spec\\_quant & include\\_anat & include\\_diffu1000 & include\\_diffu2000 & include\\_diffu\\_all & include\\_perf & include\\_spec & include\\_one\\_advanced\\_mod & include\\_all\\_advanced\\_mods & X.CEL & X.NEL & X.NEC & sum & in\\_CEL & in\\_T2all & in\\_NEL & in\\_NEC & in\\_ROI & desired\\_hist & multnom\\_out & no\\_ffpe & waiting\\_on\\_path & rhgg\\_txe\\_analysis & olddata & newdata\\\\\n",
       "\\hline\n",
       "\\end{tabular}\n"
      ],
      "text/markdown": [
       "\n",
       "b_number | t_number | sf_number | current_scan_date | current_surgery_date | current_hist_grade | current_hist_type | roi.label | tumor_cell_evaluation | necrosis | mv_hyperplasia | f8_delicate | f8_simple | f8_complex | mib_1 | avgerage_cells | bx_pure_treatment_effect | percent_tumor_nuclei | nfse | nfl | nt1c | nt1v | nt1d | nadc.1 | nfa.1 | nadc.2 | nfa.2 | phn_nlin | cbvn_nlin | recov_nlin | phn_npar | recov_npar | recovn_npar | cni | ccri | crni | ncho | ncre | nnaa | nlip | nlac | laclip | comments | notes. | imaging_code | perf_quant | spec_quant | include_anat | include_diffu1000 | include_diffu2000 | include_diffu_all | include_perf | include_spec | include_one_advanced_mod | include_all_advanced_mods | X.CEL | X.NEL | X.NEC | sum | in_CEL | in_T2all | in_NEL | in_NEC | in_ROI | desired_hist | multnom_out | no_ffpe | waiting_on_path | rhgg_txe_analysis | olddata | newdata | \n",
       "||\n",
       "\n",
       "\n"
      ],
      "text/plain": [
       "     b_number t_number sf_number current_scan_date current_surgery_date\n",
       "     current_hist_grade current_hist_type roi.label tumor_cell_evaluation\n",
       "     necrosis mv_hyperplasia f8_delicate f8_simple f8_complex mib_1\n",
       "     avgerage_cells bx_pure_treatment_effect percent_tumor_nuclei nfse nfl nt1c\n",
       "     nt1v nt1d nadc.1 nfa.1 nadc.2 nfa.2 phn_nlin cbvn_nlin recov_nlin phn_npar\n",
       "     recov_npar recovn_npar cni ccri crni ncho ncre nnaa nlip nlac laclip\n",
       "     comments notes. imaging_code perf_quant spec_quant include_anat\n",
       "     include_diffu1000 include_diffu2000 include_diffu_all include_perf\n",
       "     include_spec include_one_advanced_mod include_all_advanced_mods X.CEL\n",
       "     X.NEL X.NEC sum in_CEL in_T2all in_NEL in_NEC in_ROI desired_hist\n",
       "     multnom_out no_ffpe waiting_on_path rhgg_txe_analysis olddata newdata"
      ]
     },
     "metadata": {},
     "output_type": "display_data"
    }
   ],
   "source": [
    "recgli.noscreenshots[grep(5934, recgli.noscreenshots$t_number),]"
   ]
  },
  {
   "cell_type": "markdown",
   "metadata": {
    "deletable": true,
    "editable": true
   },
   "source": [
    "## 8. Remove those whose imaging failed to be quantified for some reason \n"
   ]
  },
  {
   "cell_type": "code",
   "execution_count": 111,
   "metadata": {
    "collapsed": false,
    "deletable": true,
    "editable": true
   },
   "outputs": [
    {
     "data": {
      "text/html": [
       "<ol class=list-inline>\n",
       "\t<li>205</li>\n",
       "\t<li>71</li>\n",
       "</ol>\n"
      ],
      "text/latex": [
       "\\begin{enumerate*}\n",
       "\\item 205\n",
       "\\item 71\n",
       "\\end{enumerate*}\n"
      ],
      "text/markdown": [
       "1. 205\n",
       "2. 71\n",
       "\n",
       "\n"
      ],
      "text/plain": [
       "[1] 205  71"
      ]
     },
     "metadata": {},
     "output_type": "display_data"
    }
   ],
   "source": [
    "recgli.nopath = read.csv(\"Parsing_REC_HGG_Oct2018/5thParse_researchPath_withInVivo.csv\")\n",
    "dim(recgli.nopath)"
   ]
  },
  {
   "cell_type": "code",
   "execution_count": 112,
   "metadata": {
    "collapsed": false,
    "deletable": true,
    "editable": true
   },
   "outputs": [
    {
     "data": {
      "text/html": [
       "<ol class=list-inline>\n",
       "\t<li>195</li>\n",
       "\t<li>71</li>\n",
       "</ol>\n"
      ],
      "text/latex": [
       "\\begin{enumerate*}\n",
       "\\item 195\n",
       "\\item 71\n",
       "\\end{enumerate*}\n"
      ],
      "text/markdown": [
       "1. 195\n",
       "2. 71\n",
       "\n",
       "\n"
      ],
      "text/plain": [
       "[1] 195  71"
      ]
     },
     "metadata": {},
     "output_type": "display_data"
    },
    {
     "data": {
      "text/html": [
       "<table>\n",
       "<thead><tr><th scope=col>data</th><th scope=col>patients</th><th scope=col>scans</th><th scope=col>samples</th></tr></thead>\n",
       "<tbody>\n",
       "\t<tr><td>old_po1</td><td>0      </td><td>0      </td><td>0      </td></tr>\n",
       "\t<tr><td>REC_HGG</td><td>68     </td><td>70     </td><td>195    </td></tr>\n",
       "\t<tr><td>TOTAL  </td><td>68     </td><td>70     </td><td>195    </td></tr>\n",
       "</tbody>\n",
       "</table>\n"
      ],
      "text/latex": [
       "\\begin{tabular}{llll}\n",
       " data & patients & scans & samples\\\\\n",
       "\\hline\n",
       "\t old\\_po1 & 0         & 0         & 0        \\\\\n",
       "\t REC\\_HGG & 68        & 70        & 195      \\\\\n",
       "\t TOTAL   & 68      & 70      & 195    \\\\\n",
       "\\end{tabular}\n"
      ],
      "text/markdown": [
       "\n",
       "data | patients | scans | samples | \n",
       "|---|---|---|\n",
       "| old_po1 | 0       | 0       | 0       | \n",
       "| REC_HGG | 68      | 70      | 195     | \n",
       "| TOTAL   | 68      | 70      | 195     | \n",
       "\n",
       "\n"
      ],
      "text/plain": [
       "     data    patients scans samples\n",
       "[1,] old_po1 0        0     0      \n",
       "[2,] REC_HGG 68       70    195    \n",
       "[3,] TOTAL   68       70    195    "
      ]
     },
     "metadata": {},
     "output_type": "display_data"
    }
   ],
   "source": [
    "recgli.imagingfailed = recgli.nopath[!is.na(recgli.nopath$nfse),]\n",
    "dim(recgli.imagingfailed) # 438 \n",
    "imagingfailed = temp\n",
    "imagingfailed[1,2] = sum(ifelse(duplicated(recgli.imagingfailed$b_number)==FALSE & recgli.imagingfailed$olddata==1, 1, 0))\n",
    "imagingfailed[1,3] = sum(ifelse(duplicated(recgli.imagingfailed$t_number)==FALSE & recgli.imagingfailed$olddata==1, 1, 0))\n",
    "imagingfailed[1,4] = sum(recgli.imagingfailed$olddata==1)\n",
    "imagingfailed[2,2] = sum(ifelse(duplicated(recgli.imagingfailed$b_number)==FALSE & recgli.imagingfailed$newdata==1, 1, 0))\n",
    "imagingfailed[2,3] = sum(ifelse(duplicated(recgli.imagingfailed$t_number)==FALSE & recgli.imagingfailed$newdata==1, 1, 0))\n",
    "imagingfailed[2,4] = sum(recgli.imagingfailed$newdata==1)\n",
    "imagingfailed[3,2:4]= as.numeric(imagingfailed[1,2:4]) + as.numeric(imagingfailed[2,2:4])\n",
    "imagingfailed"
   ]
  },
  {
   "cell_type": "code",
   "execution_count": 113,
   "metadata": {
    "collapsed": true,
    "deletable": true,
    "editable": true
   },
   "outputs": [],
   "source": [
    "write.csv(recgli.imagingfailed, \"Parsing_REC_HGG_Oct2018/6thParse_researchPath_withInVivo.csv\", row.names = F)"
   ]
  },
  {
   "cell_type": "markdown",
   "metadata": {
    "deletable": true,
    "editable": true
   },
   "source": [
    "## 9. Remove ependymomas and other extraneous histologies\n"
   ]
  },
  {
   "cell_type": "code",
   "execution_count": 114,
   "metadata": {
    "collapsed": true,
    "deletable": true,
    "editable": true
   },
   "outputs": [],
   "source": [
    "recgli.imagingfailed = read.csv(\"Parsing_REC_HGG_Oct2018/6thParse_researchPath_withInVivo.csv\")"
   ]
  },
  {
   "cell_type": "code",
   "execution_count": 115,
   "metadata": {
    "collapsed": false,
    "deletable": true,
    "editable": true
   },
   "outputs": [
    {
     "data": {
      "text/html": [
       "<ol class=list-inline>\n",
       "\t<li>195</li>\n",
       "\t<li>71</li>\n",
       "</ol>\n"
      ],
      "text/latex": [
       "\\begin{enumerate*}\n",
       "\\item 195\n",
       "\\item 71\n",
       "\\end{enumerate*}\n"
      ],
      "text/markdown": [
       "1. 195\n",
       "2. 71\n",
       "\n",
       "\n"
      ],
      "text/plain": [
       "[1] 195  71"
      ]
     },
     "metadata": {},
     "output_type": "display_data"
    },
    {
     "data": {
      "text/html": [
       "<ol class=list-inline>\n",
       "\t<li>'b_number'</li>\n",
       "\t<li>'t_number'</li>\n",
       "\t<li>'sf_number'</li>\n",
       "\t<li>'current_scan_date'</li>\n",
       "\t<li>'current_surgery_date'</li>\n",
       "\t<li>'current_hist_grade'</li>\n",
       "\t<li>'current_hist_type'</li>\n",
       "\t<li>'roi.label'</li>\n",
       "\t<li>'tumor_cell_evaluation'</li>\n",
       "\t<li>'necrosis'</li>\n",
       "\t<li>'mv_hyperplasia'</li>\n",
       "\t<li>'f8_delicate'</li>\n",
       "\t<li>'f8_simple'</li>\n",
       "\t<li>'f8_complex'</li>\n",
       "\t<li>'mib_1'</li>\n",
       "\t<li>'avgerage_cells'</li>\n",
       "\t<li>'bx_pure_treatment_effect'</li>\n",
       "\t<li>'percent_tumor_nuclei'</li>\n",
       "\t<li>'nfse'</li>\n",
       "\t<li>'nfl'</li>\n",
       "\t<li>'nt1c'</li>\n",
       "\t<li>'nt1v'</li>\n",
       "\t<li>'nt1d'</li>\n",
       "\t<li>'nadc.1'</li>\n",
       "\t<li>'nfa.1'</li>\n",
       "\t<li>'nadc.2'</li>\n",
       "\t<li>'nfa.2'</li>\n",
       "\t<li>'phn_nlin'</li>\n",
       "\t<li>'cbvn_nlin'</li>\n",
       "\t<li>'recov_nlin'</li>\n",
       "\t<li>'phn_npar'</li>\n",
       "\t<li>'recov_npar'</li>\n",
       "\t<li>'recovn_npar'</li>\n",
       "\t<li>'cni'</li>\n",
       "\t<li>'ccri'</li>\n",
       "\t<li>'crni'</li>\n",
       "\t<li>'ncho'</li>\n",
       "\t<li>'ncre'</li>\n",
       "\t<li>'nnaa'</li>\n",
       "\t<li>'nlip'</li>\n",
       "\t<li>'nlac'</li>\n",
       "\t<li>'laclip'</li>\n",
       "\t<li>'comments'</li>\n",
       "\t<li>'notes.'</li>\n",
       "\t<li>'imaging_code'</li>\n",
       "\t<li>'perf_quant'</li>\n",
       "\t<li>'spec_quant'</li>\n",
       "\t<li>'include_anat'</li>\n",
       "\t<li>'include_diffu1000'</li>\n",
       "\t<li>'include_diffu2000'</li>\n",
       "\t<li>'include_diffu_all'</li>\n",
       "\t<li>'include_perf'</li>\n",
       "\t<li>'include_spec'</li>\n",
       "\t<li>'include_one_advanced_mod'</li>\n",
       "\t<li>'include_all_advanced_mods'</li>\n",
       "\t<li>'X.CEL'</li>\n",
       "\t<li>'X.NEL'</li>\n",
       "\t<li>'X.NEC'</li>\n",
       "\t<li>'sum'</li>\n",
       "\t<li>'in_CEL'</li>\n",
       "\t<li>'in_T2all'</li>\n",
       "\t<li>'in_NEL'</li>\n",
       "\t<li>'in_NEC'</li>\n",
       "\t<li>'in_ROI'</li>\n",
       "\t<li>'desired_hist'</li>\n",
       "\t<li>'multnom_out'</li>\n",
       "\t<li>'no_ffpe'</li>\n",
       "\t<li>'waiting_on_path'</li>\n",
       "\t<li>'rhgg_txe_analysis'</li>\n",
       "\t<li>'olddata'</li>\n",
       "\t<li>'newdata'</li>\n",
       "</ol>\n"
      ],
      "text/latex": [
       "\\begin{enumerate*}\n",
       "\\item 'b\\_number'\n",
       "\\item 't\\_number'\n",
       "\\item 'sf\\_number'\n",
       "\\item 'current\\_scan\\_date'\n",
       "\\item 'current\\_surgery\\_date'\n",
       "\\item 'current\\_hist\\_grade'\n",
       "\\item 'current\\_hist\\_type'\n",
       "\\item 'roi.label'\n",
       "\\item 'tumor\\_cell\\_evaluation'\n",
       "\\item 'necrosis'\n",
       "\\item 'mv\\_hyperplasia'\n",
       "\\item 'f8\\_delicate'\n",
       "\\item 'f8\\_simple'\n",
       "\\item 'f8\\_complex'\n",
       "\\item 'mib\\_1'\n",
       "\\item 'avgerage\\_cells'\n",
       "\\item 'bx\\_pure\\_treatment\\_effect'\n",
       "\\item 'percent\\_tumor\\_nuclei'\n",
       "\\item 'nfse'\n",
       "\\item 'nfl'\n",
       "\\item 'nt1c'\n",
       "\\item 'nt1v'\n",
       "\\item 'nt1d'\n",
       "\\item 'nadc.1'\n",
       "\\item 'nfa.1'\n",
       "\\item 'nadc.2'\n",
       "\\item 'nfa.2'\n",
       "\\item 'phn\\_nlin'\n",
       "\\item 'cbvn\\_nlin'\n",
       "\\item 'recov\\_nlin'\n",
       "\\item 'phn\\_npar'\n",
       "\\item 'recov\\_npar'\n",
       "\\item 'recovn\\_npar'\n",
       "\\item 'cni'\n",
       "\\item 'ccri'\n",
       "\\item 'crni'\n",
       "\\item 'ncho'\n",
       "\\item 'ncre'\n",
       "\\item 'nnaa'\n",
       "\\item 'nlip'\n",
       "\\item 'nlac'\n",
       "\\item 'laclip'\n",
       "\\item 'comments'\n",
       "\\item 'notes.'\n",
       "\\item 'imaging\\_code'\n",
       "\\item 'perf\\_quant'\n",
       "\\item 'spec\\_quant'\n",
       "\\item 'include\\_anat'\n",
       "\\item 'include\\_diffu1000'\n",
       "\\item 'include\\_diffu2000'\n",
       "\\item 'include\\_diffu\\_all'\n",
       "\\item 'include\\_perf'\n",
       "\\item 'include\\_spec'\n",
       "\\item 'include\\_one\\_advanced\\_mod'\n",
       "\\item 'include\\_all\\_advanced\\_mods'\n",
       "\\item 'X.CEL'\n",
       "\\item 'X.NEL'\n",
       "\\item 'X.NEC'\n",
       "\\item 'sum'\n",
       "\\item 'in\\_CEL'\n",
       "\\item 'in\\_T2all'\n",
       "\\item 'in\\_NEL'\n",
       "\\item 'in\\_NEC'\n",
       "\\item 'in\\_ROI'\n",
       "\\item 'desired\\_hist'\n",
       "\\item 'multnom\\_out'\n",
       "\\item 'no\\_ffpe'\n",
       "\\item 'waiting\\_on\\_path'\n",
       "\\item 'rhgg\\_txe\\_analysis'\n",
       "\\item 'olddata'\n",
       "\\item 'newdata'\n",
       "\\end{enumerate*}\n"
      ],
      "text/markdown": [
       "1. 'b_number'\n",
       "2. 't_number'\n",
       "3. 'sf_number'\n",
       "4. 'current_scan_date'\n",
       "5. 'current_surgery_date'\n",
       "6. 'current_hist_grade'\n",
       "7. 'current_hist_type'\n",
       "8. 'roi.label'\n",
       "9. 'tumor_cell_evaluation'\n",
       "10. 'necrosis'\n",
       "11. 'mv_hyperplasia'\n",
       "12. 'f8_delicate'\n",
       "13. 'f8_simple'\n",
       "14. 'f8_complex'\n",
       "15. 'mib_1'\n",
       "16. 'avgerage_cells'\n",
       "17. 'bx_pure_treatment_effect'\n",
       "18. 'percent_tumor_nuclei'\n",
       "19. 'nfse'\n",
       "20. 'nfl'\n",
       "21. 'nt1c'\n",
       "22. 'nt1v'\n",
       "23. 'nt1d'\n",
       "24. 'nadc.1'\n",
       "25. 'nfa.1'\n",
       "26. 'nadc.2'\n",
       "27. 'nfa.2'\n",
       "28. 'phn_nlin'\n",
       "29. 'cbvn_nlin'\n",
       "30. 'recov_nlin'\n",
       "31. 'phn_npar'\n",
       "32. 'recov_npar'\n",
       "33. 'recovn_npar'\n",
       "34. 'cni'\n",
       "35. 'ccri'\n",
       "36. 'crni'\n",
       "37. 'ncho'\n",
       "38. 'ncre'\n",
       "39. 'nnaa'\n",
       "40. 'nlip'\n",
       "41. 'nlac'\n",
       "42. 'laclip'\n",
       "43. 'comments'\n",
       "44. 'notes.'\n",
       "45. 'imaging_code'\n",
       "46. 'perf_quant'\n",
       "47. 'spec_quant'\n",
       "48. 'include_anat'\n",
       "49. 'include_diffu1000'\n",
       "50. 'include_diffu2000'\n",
       "51. 'include_diffu_all'\n",
       "52. 'include_perf'\n",
       "53. 'include_spec'\n",
       "54. 'include_one_advanced_mod'\n",
       "55. 'include_all_advanced_mods'\n",
       "56. 'X.CEL'\n",
       "57. 'X.NEL'\n",
       "58. 'X.NEC'\n",
       "59. 'sum'\n",
       "60. 'in_CEL'\n",
       "61. 'in_T2all'\n",
       "62. 'in_NEL'\n",
       "63. 'in_NEC'\n",
       "64. 'in_ROI'\n",
       "65. 'desired_hist'\n",
       "66. 'multnom_out'\n",
       "67. 'no_ffpe'\n",
       "68. 'waiting_on_path'\n",
       "69. 'rhgg_txe_analysis'\n",
       "70. 'olddata'\n",
       "71. 'newdata'\n",
       "\n",
       "\n"
      ],
      "text/plain": [
       " [1] \"b_number\"                  \"t_number\"                 \n",
       " [3] \"sf_number\"                 \"current_scan_date\"        \n",
       " [5] \"current_surgery_date\"      \"current_hist_grade\"       \n",
       " [7] \"current_hist_type\"         \"roi.label\"                \n",
       " [9] \"tumor_cell_evaluation\"     \"necrosis\"                 \n",
       "[11] \"mv_hyperplasia\"            \"f8_delicate\"              \n",
       "[13] \"f8_simple\"                 \"f8_complex\"               \n",
       "[15] \"mib_1\"                     \"avgerage_cells\"           \n",
       "[17] \"bx_pure_treatment_effect\"  \"percent_tumor_nuclei\"     \n",
       "[19] \"nfse\"                      \"nfl\"                      \n",
       "[21] \"nt1c\"                      \"nt1v\"                     \n",
       "[23] \"nt1d\"                      \"nadc.1\"                   \n",
       "[25] \"nfa.1\"                     \"nadc.2\"                   \n",
       "[27] \"nfa.2\"                     \"phn_nlin\"                 \n",
       "[29] \"cbvn_nlin\"                 \"recov_nlin\"               \n",
       "[31] \"phn_npar\"                  \"recov_npar\"               \n",
       "[33] \"recovn_npar\"               \"cni\"                      \n",
       "[35] \"ccri\"                      \"crni\"                     \n",
       "[37] \"ncho\"                      \"ncre\"                     \n",
       "[39] \"nnaa\"                      \"nlip\"                     \n",
       "[41] \"nlac\"                      \"laclip\"                   \n",
       "[43] \"comments\"                  \"notes.\"                   \n",
       "[45] \"imaging_code\"              \"perf_quant\"               \n",
       "[47] \"spec_quant\"                \"include_anat\"             \n",
       "[49] \"include_diffu1000\"         \"include_diffu2000\"        \n",
       "[51] \"include_diffu_all\"         \"include_perf\"             \n",
       "[53] \"include_spec\"              \"include_one_advanced_mod\" \n",
       "[55] \"include_all_advanced_mods\" \"X.CEL\"                    \n",
       "[57] \"X.NEL\"                     \"X.NEC\"                    \n",
       "[59] \"sum\"                       \"in_CEL\"                   \n",
       "[61] \"in_T2all\"                  \"in_NEL\"                   \n",
       "[63] \"in_NEC\"                    \"in_ROI\"                   \n",
       "[65] \"desired_hist\"              \"multnom_out\"              \n",
       "[67] \"no_ffpe\"                   \"waiting_on_path\"          \n",
       "[69] \"rhgg_txe_analysis\"         \"olddata\"                  \n",
       "[71] \"newdata\"                  "
      ]
     },
     "metadata": {},
     "output_type": "display_data"
    }
   ],
   "source": [
    "dim(recgli.imagingfailed)\n",
    "colnames(recgli.imagingfailed)"
   ]
  },
  {
   "cell_type": "code",
   "execution_count": 116,
   "metadata": {
    "collapsed": false,
    "deletable": true,
    "editable": true
   },
   "outputs": [
    {
     "data": {
      "text/html": [
       "<ol class=list-inline>\n",
       "\t<li>192</li>\n",
       "\t<li>71</li>\n",
       "</ol>\n"
      ],
      "text/latex": [
       "\\begin{enumerate*}\n",
       "\\item 192\n",
       "\\item 71\n",
       "\\end{enumerate*}\n"
      ],
      "text/markdown": [
       "1. 192\n",
       "2. 71\n",
       "\n",
       "\n"
      ],
      "text/plain": [
       "[1] 192  71"
      ]
     },
     "metadata": {},
     "output_type": "display_data"
    },
    {
     "data": {
      "text/html": [
       "<table>\n",
       "<thead><tr><th scope=col>data</th><th scope=col>patients</th><th scope=col>scans</th><th scope=col>samples</th></tr></thead>\n",
       "<tbody>\n",
       "\t<tr><td>old_po1</td><td>0      </td><td>0      </td><td>0      </td></tr>\n",
       "\t<tr><td>REC_HGG</td><td>67     </td><td>69     </td><td>192    </td></tr>\n",
       "\t<tr><td>TOTAL  </td><td>67     </td><td>69     </td><td>192    </td></tr>\n",
       "</tbody>\n",
       "</table>\n"
      ],
      "text/latex": [
       "\\begin{tabular}{llll}\n",
       " data & patients & scans & samples\\\\\n",
       "\\hline\n",
       "\t old\\_po1 & 0         & 0         & 0        \\\\\n",
       "\t REC\\_HGG & 67        & 69        & 192      \\\\\n",
       "\t TOTAL   & 67      & 69      & 192    \\\\\n",
       "\\end{tabular}\n"
      ],
      "text/markdown": [
       "\n",
       "data | patients | scans | samples | \n",
       "|---|---|---|\n",
       "| old_po1 | 0       | 0       | 0       | \n",
       "| REC_HGG | 67      | 69      | 192     | \n",
       "| TOTAL   | 67      | 69      | 192     | \n",
       "\n",
       "\n"
      ],
      "text/plain": [
       "     data    patients scans samples\n",
       "[1,] old_po1 0        0     0      \n",
       "[2,] REC_HGG 67       69    192    \n",
       "[3,] TOTAL   67       69    192    "
      ]
     },
     "metadata": {},
     "output_type": "display_data"
    }
   ],
   "source": [
    "recgli.desiredhist = recgli.imagingfailed[recgli.imagingfailed$desired_hist==1,]\n",
    "dim(recgli.desiredhist) \n",
    "desiredhist = temp\n",
    "desiredhist[1,2] = sum(ifelse(duplicated(recgli.desiredhist$b_number)==FALSE & recgli.desiredhist$olddata==1, 1, 0))\n",
    "desiredhist[1,3] = sum(ifelse(duplicated(recgli.desiredhist$t_number)==FALSE & recgli.desiredhist$olddata==1, 1, 0))\n",
    "desiredhist[1,4] = sum(recgli.desiredhist$olddata==1)\n",
    "desiredhist[2,2] = sum(ifelse(duplicated(recgli.desiredhist$b_number)==FALSE & recgli.desiredhist$newdata==1, 1, 0))\n",
    "desiredhist[2,3] = sum(ifelse(duplicated(recgli.desiredhist$t_number)==FALSE & recgli.desiredhist$newdata==1, 1, 0))\n",
    "desiredhist[2,4] = sum(recgli.desiredhist$newdata==1)\n",
    "desiredhist[3,2:4]= as.numeric(desiredhist[1,2:4]) + as.numeric(desiredhist[2,2:4])\n",
    "desiredhist"
   ]
  },
  {
   "cell_type": "code",
   "execution_count": 117,
   "metadata": {
    "collapsed": false,
    "deletable": true,
    "editable": true
   },
   "outputs": [],
   "source": [
    "write.csv(recgli.desiredhist, file = \"Parsing_REC_HGG_Oct2018/7thParse_researchPath_withInVivo.csv\", row.names = F)"
   ]
  },
  {
   "cell_type": "markdown",
   "metadata": {
    "collapsed": true,
    "deletable": true,
    "editable": true
   },
   "source": [
    "## 10. Removing Necrotic samples"
   ]
  },
  {
   "cell_type": "markdown",
   "metadata": {
    "collapsed": true,
    "deletable": true,
    "editable": true
   },
   "source": [
    "There are two definitions of necrosis: if the sample is in the NEC as defined by X.NEC, or if it's necrotic based on its pathology (with an \"necrosis\" score of 2) "
   ]
  },
  {
   "cell_type": "code",
   "execution_count": 118,
   "metadata": {
    "collapsed": true,
    "deletable": true,
    "editable": true
   },
   "outputs": [],
   "source": [
    "recgli.desiredhist = read.csv(\"Parsing_REC_HGG_Oct2018/7thParse_researchPath_withInVivo.csv\")"
   ]
  },
  {
   "cell_type": "code",
   "execution_count": 119,
   "metadata": {
    "collapsed": false,
    "deletable": true,
    "editable": true
   },
   "outputs": [
    {
     "data": {
      "text/html": [
       "<ol class=list-inline>\n",
       "\t<li>192</li>\n",
       "\t<li>71</li>\n",
       "</ol>\n"
      ],
      "text/latex": [
       "\\begin{enumerate*}\n",
       "\\item 192\n",
       "\\item 71\n",
       "\\end{enumerate*}\n"
      ],
      "text/markdown": [
       "1. 192\n",
       "2. 71\n",
       "\n",
       "\n"
      ],
      "text/plain": [
       "[1] 192  71"
      ]
     },
     "metadata": {},
     "output_type": "display_data"
    }
   ],
   "source": [
    "dim(recgli.desiredhist)"
   ]
  },
  {
   "cell_type": "code",
   "execution_count": 120,
   "metadata": {
    "collapsed": false,
    "deletable": true,
    "editable": true
   },
   "outputs": [
    {
     "data": {
      "text/html": [
       "<ol class=list-inline>\n",
       "\t<li>173</li>\n",
       "\t<li>71</li>\n",
       "</ol>\n"
      ],
      "text/latex": [
       "\\begin{enumerate*}\n",
       "\\item 173\n",
       "\\item 71\n",
       "\\end{enumerate*}\n"
      ],
      "text/markdown": [
       "1. 173\n",
       "2. 71\n",
       "\n",
       "\n"
      ],
      "text/plain": [
       "[1] 173  71"
      ]
     },
     "metadata": {},
     "output_type": "display_data"
    },
    {
     "data": {
      "text/html": [
       "<table>\n",
       "<thead><tr><th scope=col>data</th><th scope=col>patients</th><th scope=col>scans</th><th scope=col>samples</th></tr></thead>\n",
       "<tbody>\n",
       "\t<tr><td>old_po1</td><td>0      </td><td>0      </td><td>0      </td></tr>\n",
       "\t<tr><td>REC_HGG</td><td>62     </td><td>64     </td><td>173    </td></tr>\n",
       "\t<tr><td>TOTAL  </td><td>62     </td><td>64     </td><td>173    </td></tr>\n",
       "</tbody>\n",
       "</table>\n"
      ],
      "text/latex": [
       "\\begin{tabular}{llll}\n",
       " data & patients & scans & samples\\\\\n",
       "\\hline\n",
       "\t old\\_po1 & 0         & 0         & 0        \\\\\n",
       "\t REC\\_HGG & 62        & 64        & 173      \\\\\n",
       "\t TOTAL   & 62      & 64      & 173    \\\\\n",
       "\\end{tabular}\n"
      ],
      "text/markdown": [
       "\n",
       "data | patients | scans | samples | \n",
       "|---|---|---|\n",
       "| old_po1 | 0       | 0       | 0       | \n",
       "| REC_HGG | 62      | 64      | 173     | \n",
       "| TOTAL   | 62      | 64      | 173     | \n",
       "\n",
       "\n"
      ],
      "text/plain": [
       "     data    patients scans samples\n",
       "[1,] old_po1 0        0     0      \n",
       "[2,] REC_HGG 62       64    173    \n",
       "[3,] TOTAL   62       64    173    "
      ]
     },
     "metadata": {},
     "output_type": "display_data"
    }
   ],
   "source": [
    "desiredhist = temp\n",
    "recgli.nonecrosis = recgli.desiredhist[-which(recgli.desiredhist$necrosis==2),]\n",
    "recgli.nonecrosis = recgli.nonecrosis[-which(recgli.nonecrosis$in_NEC == 1),]\n",
    "dim(recgli.nonecrosis) \n",
    "nonecrosis = temp\n",
    "nonecrosis[1,2] = sum(ifelse(duplicated(recgli.nonecrosis$b_number)==FALSE & recgli.nonecrosis$olddata==1, 1, 0))\n",
    "nonecrosis[1,3] = sum(ifelse(duplicated(recgli.nonecrosis$t_number)==FALSE & recgli.nonecrosis$olddata==1, 1, 0))\n",
    "nonecrosis[1,4] = sum(recgli.nonecrosis$olddata==1)\n",
    "nonecrosis[2,2] = sum(ifelse(duplicated(recgli.nonecrosis$b_number)==FALSE & recgli.nonecrosis$newdata==1, 1, 0))\n",
    "nonecrosis[2,3] = sum(ifelse(duplicated(recgli.nonecrosis$t_number)==FALSE & recgli.nonecrosis$newdata==1, 1, 0))\n",
    "nonecrosis[2,4] = sum(recgli.nonecrosis$newdata==1)\n",
    "nonecrosis[3,2:4]= as.numeric(nonecrosis[1,2:4]) + as.numeric(nonecrosis[2,2:4])\n",
    "nonecrosis"
   ]
  },
  {
   "cell_type": "code",
   "execution_count": 121,
   "metadata": {
    "collapsed": false,
    "deletable": true,
    "editable": true
   },
   "outputs": [],
   "source": [
    "write.csv(recgli.nonecrosis, file = \"Parsing_REC_HGG_Oct2018/8thParse_researchPath_withInVivo.csv\", row.names = F)"
   ]
  },
  {
   "cell_type": "markdown",
   "metadata": {
    "deletable": true,
    "editable": true
   },
   "source": [
    "## 11. Only including rHGG or TxE designation: "
   ]
  },
  {
   "cell_type": "code",
   "execution_count": 122,
   "metadata": {
    "collapsed": true,
    "deletable": true,
    "editable": true
   },
   "outputs": [],
   "source": [
    "recgli.nonecrosis = read.csv(\"Parsing_REC_HGG_Oct2018/8thParse_researchPath_withInVivo.csv\")"
   ]
  },
  {
   "cell_type": "code",
   "execution_count": 123,
   "metadata": {
    "collapsed": false,
    "deletable": true,
    "editable": true
   },
   "outputs": [
    {
     "data": {
      "text/html": [
       "<ol class=list-inline>\n",
       "\t<li>147</li>\n",
       "\t<li>71</li>\n",
       "</ol>\n"
      ],
      "text/latex": [
       "\\begin{enumerate*}\n",
       "\\item 147\n",
       "\\item 71\n",
       "\\end{enumerate*}\n"
      ],
      "text/markdown": [
       "1. 147\n",
       "2. 71\n",
       "\n",
       "\n"
      ],
      "text/plain": [
       "[1] 147  71"
      ]
     },
     "metadata": {},
     "output_type": "display_data"
    },
    {
     "data": {
      "text/plain": [
       "\n",
       "    PN   rHGG Ts1DNI    TxE \n",
       "     0    123      0     24 "
      ]
     },
     "metadata": {},
     "output_type": "display_data"
    },
    {
     "data": {
      "text/html": [
       "<ol class=list-inline>\n",
       "\t<li>147</li>\n",
       "\t<li>71</li>\n",
       "</ol>\n"
      ],
      "text/latex": [
       "\\begin{enumerate*}\n",
       "\\item 147\n",
       "\\item 71\n",
       "\\end{enumerate*}\n"
      ],
      "text/markdown": [
       "1. 147\n",
       "2. 71\n",
       "\n",
       "\n"
      ],
      "text/plain": [
       "[1] 147  71"
      ]
     },
     "metadata": {},
     "output_type": "display_data"
    },
    {
     "data": {
      "text/html": [
       "<table>\n",
       "<thead><tr><th scope=col>data</th><th scope=col>patients</th><th scope=col>scans</th><th scope=col>samples</th></tr></thead>\n",
       "<tbody>\n",
       "\t<tr><td>old_po1</td><td>0      </td><td>0      </td><td>0      </td></tr>\n",
       "\t<tr><td>REC_HGG</td><td>60     </td><td>62     </td><td>147    </td></tr>\n",
       "\t<tr><td>TOTAL  </td><td>60     </td><td>62     </td><td>147    </td></tr>\n",
       "</tbody>\n",
       "</table>\n"
      ],
      "text/latex": [
       "\\begin{tabular}{llll}\n",
       " data & patients & scans & samples\\\\\n",
       "\\hline\n",
       "\t old\\_po1 & 0         & 0         & 0        \\\\\n",
       "\t REC\\_HGG & 60        & 62        & 147      \\\\\n",
       "\t TOTAL   & 60      & 62      & 147    \\\\\n",
       "\\end{tabular}\n"
      ],
      "text/markdown": [
       "\n",
       "data | patients | scans | samples | \n",
       "|---|---|---|\n",
       "| old_po1 | 0       | 0       | 0       | \n",
       "| REC_HGG | 60      | 62      | 147     | \n",
       "| TOTAL   | 60      | 62      | 147     | \n",
       "\n",
       "\n"
      ],
      "text/plain": [
       "     data    patients scans samples\n",
       "[1,] old_po1 0        0     0      \n",
       "[2,] REC_HGG 60       62    147    \n",
       "[3,] TOTAL   60       62    147    "
      ]
     },
     "metadata": {},
     "output_type": "display_data"
    }
   ],
   "source": [
    "recgli.desiredpath = recgli.nonecrosis[recgli.nonecrosis$multnom_out==\"TxE\" |\n",
    "                                         recgli.nonecrosis$multnom_out==\"rHGG\",]\n",
    "dim(recgli.desiredpath)\n",
    "table(recgli.desiredpath$multnom_out)\n",
    "\n",
    "dim(recgli.desiredpath) # 438 \n",
    "desiredpath = temp\n",
    "desiredpath[1,2] = sum(ifelse(duplicated(recgli.desiredpath$b_number)==FALSE & recgli.desiredpath$olddata==1, 1, 0))\n",
    "desiredpath[1,3] = sum(ifelse(duplicated(recgli.desiredpath$t_number)==FALSE & recgli.desiredpath$olddata==1, 1, 0))\n",
    "desiredpath[1,4] = sum(recgli.desiredpath$olddata==1)\n",
    "desiredpath[2,2] = sum(ifelse(duplicated(recgli.desiredpath$b_number)==FALSE & recgli.desiredpath$newdata==1, 1, 0))\n",
    "desiredpath[2,3] = sum(ifelse(duplicated(recgli.desiredpath$t_number)==FALSE & recgli.desiredpath$newdata==1, 1, 0))\n",
    "desiredpath[2,4] = sum(recgli.desiredpath$newdata==1)\n",
    "desiredpath[3,2:4]= as.numeric(desiredpath[1,2:4]) + as.numeric(desiredpath[2,2:4])\n",
    "desiredpath"
   ]
  },
  {
   "cell_type": "code",
   "execution_count": 124,
   "metadata": {
    "collapsed": true,
    "deletable": true,
    "editable": true
   },
   "outputs": [],
   "source": [
    "write.csv(recgli.desiredpath, file = \"Parsing_REC_HGG_Oct2018/9thParse_researchPath_withInVivo.csv\", row.names = F)"
   ]
  },
  {
   "cell_type": "code",
   "execution_count": null,
   "metadata": {
    "collapsed": true,
    "deletable": true,
    "editable": true
   },
   "outputs": [],
   "source": []
  }
 ],
 "metadata": {
  "kernelspec": {
   "display_name": "R",
   "language": "R",
   "name": "ir"
  },
  "language_info": {
   "codemirror_mode": "r",
   "file_extension": ".r",
   "mimetype": "text/x-r-source",
   "name": "R",
   "pygments_lexer": "r",
   "version": "3.4.0"
  }
 },
 "nbformat": 4,
 "nbformat_minor": 2
}
