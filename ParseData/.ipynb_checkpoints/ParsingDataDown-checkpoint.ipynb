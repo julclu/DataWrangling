{
 "cells": [
  {
   "cell_type": "code",
   "execution_count": null,
   "metadata": {
    "collapsed": true
   },
   "outputs": [],
   "source": [
    "recgli = all_recgli[-(which(duplicated(all_recgli$roi.label) & all_recgli$roi.label == \"\")),]\n",
    "dim(recgli)\n",
    "recgli[which(duplicated(recgli$roi.label)),]$roi.label\n",
    "recgli[recgli$roi.label %in% recgli[which(duplicated(recgli$roi.label)),]$roi.label,]"
   ]
  }
 ],
 "metadata": {
  "kernelspec": {
   "display_name": "R",
   "language": "R",
   "name": "ir"
  },
  "language_info": {
   "codemirror_mode": "r",
   "file_extension": ".r",
   "mimetype": "text/x-r-source",
   "name": "R",
   "pygments_lexer": "r",
   "version": "3.4.0"
  }
 },
 "nbformat": 4,
 "nbformat_minor": 2
}
