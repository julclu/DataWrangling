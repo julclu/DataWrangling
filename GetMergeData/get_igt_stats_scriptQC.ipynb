{
 "cells": [
  {
   "cell_type": "code",
   "execution_count": 17,
   "metadata": {
    "collapsed": false
   },
   "outputs": [
    {
     "data": {
      "text/html": [
       "<ol class=list-inline>\n",
       "\t<li>'Aug2018'</li>\n",
       "\t<li>'get_data_merge_data.ipynb'</li>\n",
       "\t<li>'get_igt_stats_scriptQC.ipynb'</li>\n",
       "\t<li>'get_igt_stats-Aug2018.ipynb'</li>\n",
       "\t<li>'get_igt_stats.ipynb'</li>\n",
       "\t<li>'GetIGTstats_commands.ipynb'</li>\n",
       "\t<li>'Inspect_Perfusion.ipynb'</li>\n",
       "\t<li>'July2018'</li>\n",
       "</ol>\n"
      ],
      "text/latex": [
       "\\begin{enumerate*}\n",
       "\\item 'Aug2018'\n",
       "\\item 'get\\_data\\_merge\\_data.ipynb'\n",
       "\\item 'get\\_igt\\_stats\\_scriptQC.ipynb'\n",
       "\\item 'get\\_igt\\_stats-Aug2018.ipynb'\n",
       "\\item 'get\\_igt\\_stats.ipynb'\n",
       "\\item 'GetIGTstats\\_commands.ipynb'\n",
       "\\item 'Inspect\\_Perfusion.ipynb'\n",
       "\\item 'July2018'\n",
       "\\end{enumerate*}\n"
      ],
      "text/markdown": [
       "1. 'Aug2018'\n",
       "2. 'get_data_merge_data.ipynb'\n",
       "3. 'get_igt_stats_scriptQC.ipynb'\n",
       "4. 'get_igt_stats-Aug2018.ipynb'\n",
       "5. 'get_igt_stats.ipynb'\n",
       "6. 'GetIGTstats_commands.ipynb'\n",
       "7. 'Inspect_Perfusion.ipynb'\n",
       "8. 'July2018'\n",
       "\n",
       "\n"
      ],
      "text/plain": [
       "[1] \"Aug2018\"                      \"get_data_merge_data.ipynb\"   \n",
       "[3] \"get_igt_stats_scriptQC.ipynb\" \"get_igt_stats-Aug2018.ipynb\" \n",
       "[5] \"get_igt_stats.ipynb\"          \"GetIGTstats_commands.ipynb\"  \n",
       "[7] \"Inspect_Perfusion.ipynb\"      \"July2018\"                    "
      ]
     },
     "metadata": {},
     "output_type": "display_data"
    }
   ],
   "source": [
    "list.files()"
   ]
  },
  {
   "cell_type": "code",
   "execution_count": 18,
   "metadata": {
    "collapsed": true
   },
   "outputs": [],
   "source": [
    "bnum_tnum_df = read.csv(\"Aug2018/bnum_tnum_forIGTstats_olddata.129.csv\", header = F)\n",
    "colnames(bnum_tnum_df) = c(\"bnum\", \"tnum\", \"DUMMY\")"
   ]
  },
  {
   "cell_type": "code",
   "execution_count": 19,
   "metadata": {
    "collapsed": false
   },
   "outputs": [
    {
     "data": {
      "text/html": [
       "<table>\n",
       "<thead><tr><th scope=col>bnum</th><th scope=col>tnum</th><th scope=col>DUMMY</th></tr></thead>\n",
       "<tbody>\n",
       "\t<tr><td>b2723</td><td>t6369</td><td>DUMMY</td></tr>\n",
       "\t<tr><td>b2312</td><td>t5317</td><td>DUMMY</td></tr>\n",
       "\t<tr><td>b2901</td><td>t8089</td><td>DUMMY</td></tr>\n",
       "\t<tr><td>b2474</td><td>t7408</td><td>DUMMY</td></tr>\n",
       "\t<tr><td>b3169</td><td>t7540</td><td>DUMMY</td></tr>\n",
       "\t<tr><td>b2379</td><td>t5950</td><td>DUMMY</td></tr>\n",
       "</tbody>\n",
       "</table>\n"
      ],
      "text/latex": [
       "\\begin{tabular}{r|lll}\n",
       " bnum & tnum & DUMMY\\\\\n",
       "\\hline\n",
       "\t b2723 & t6369 & DUMMY\\\\\n",
       "\t b2312 & t5317 & DUMMY\\\\\n",
       "\t b2901 & t8089 & DUMMY\\\\\n",
       "\t b2474 & t7408 & DUMMY\\\\\n",
       "\t b3169 & t7540 & DUMMY\\\\\n",
       "\t b2379 & t5950 & DUMMY\\\\\n",
       "\\end{tabular}\n"
      ],
      "text/markdown": [
       "\n",
       "bnum | tnum | DUMMY | \n",
       "|---|---|---|---|---|---|\n",
       "| b2723 | t6369 | DUMMY | \n",
       "| b2312 | t5317 | DUMMY | \n",
       "| b2901 | t8089 | DUMMY | \n",
       "| b2474 | t7408 | DUMMY | \n",
       "| b3169 | t7540 | DUMMY | \n",
       "| b2379 | t5950 | DUMMY | \n",
       "\n",
       "\n"
      ],
      "text/plain": [
       "  bnum  tnum  DUMMY\n",
       "1 b2723 t6369 DUMMY\n",
       "2 b2312 t5317 DUMMY\n",
       "3 b2901 t8089 DUMMY\n",
       "4 b2474 t7408 DUMMY\n",
       "5 b3169 t7540 DUMMY\n",
       "6 b2379 t5950 DUMMY"
      ]
     },
     "metadata": {},
     "output_type": "display_data"
    }
   ],
   "source": [
    "head(bnum_tnum_df)"
   ]
  },
  {
   "cell_type": "code",
   "execution_count": 25,
   "metadata": {
    "collapsed": true
   },
   "outputs": [],
   "source": [
    "i = grep(\"t5739\", as.character(bnum_tnum_df$tnum))"
   ]
  },
  {
   "cell_type": "code",
   "execution_count": 26,
   "metadata": {
    "collapsed": false
   },
   "outputs": [
    {
     "data": {
      "text/html": [
       "101"
      ],
      "text/latex": [
       "101"
      ],
      "text/markdown": [
       "101"
      ],
      "text/plain": [
       "[1] 101"
      ]
     },
     "metadata": {},
     "output_type": "display_data"
    }
   ],
   "source": [
    "i"
   ]
  },
  {
   "cell_type": "code",
   "execution_count": 27,
   "metadata": {
    "collapsed": true
   },
   "outputs": [],
   "source": [
    "y=paste(\"/data/bioe4/po1_preop_recur/\", bnum_tnum_df$bnum[i], \"/\", bnum_tnum_df$tnum[i], sep=\"\")\n",
    "    "
   ]
  },
  {
   "cell_type": "code",
   "execution_count": 28,
   "metadata": {
    "collapsed": false
   },
   "outputs": [
    {
     "data": {
      "text/html": [
       "'/data/bioe4/po1_preop_recur/b2451/t5739'"
      ],
      "text/latex": [
       "'/data/bioe4/po1\\_preop\\_recur/b2451/t5739'"
      ],
      "text/markdown": [
       "'/data/bioe4/po1_preop_recur/b2451/t5739'"
      ],
      "text/plain": [
       "[1] \"/data/bioe4/po1_preop_recur/b2451/t5739\""
      ]
     },
     "metadata": {},
     "output_type": "display_data"
    }
   ],
   "source": [
    "y\n"
   ]
  },
  {
   "cell_type": "code",
   "execution_count": 29,
   "metadata": {
    "collapsed": true
   },
   "outputs": [],
   "source": [
    "tnum_files = list.files(y)"
   ]
  },
  {
   "cell_type": "code",
   "execution_count": 30,
   "metadata": {
    "collapsed": false
   },
   "outputs": [
    {
     "data": {
      "text/html": [
       "TRUE"
      ],
      "text/latex": [
       "TRUE"
      ],
      "text/markdown": [
       "TRUE"
      ],
      "text/plain": [
       "[1] TRUE"
      ]
     },
     "metadata": {},
     "output_type": "display_data"
    }
   ],
   "source": [
    "\"roi_analysis\" %in% tnum_files"
   ]
  },
  {
   "cell_type": "code",
   "execution_count": 31,
   "metadata": {
    "collapsed": true
   },
   "outputs": [],
   "source": [
    "setwd(paste(y, \"/roi_analysis\", sep=\"\"))"
   ]
  },
  {
   "cell_type": "code",
   "execution_count": 32,
   "metadata": {
    "collapsed": true
   },
   "outputs": [],
   "source": [
    "svk_csv_files=list.files(pattern=\"csv\")"
   ]
  },
  {
   "cell_type": "code",
   "execution_count": null,
   "metadata": {
    "collapsed": true
   },
   "outputs": [],
   "source": []
  }
 ],
 "metadata": {
  "kernelspec": {
   "display_name": "R",
   "language": "R",
   "name": "ir"
  },
  "language_info": {
   "codemirror_mode": "r",
   "file_extension": ".r",
   "mimetype": "text/x-r-source",
   "name": "R",
   "pygments_lexer": "r",
   "version": "3.4.0"
  }
 },
 "nbformat": 4,
 "nbformat_minor": 2
}
