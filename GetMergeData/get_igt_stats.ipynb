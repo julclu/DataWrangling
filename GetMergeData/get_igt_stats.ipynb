{
 "cells": [
  {
   "cell_type": "markdown",
   "metadata": {
    "collapsed": false,
    "deletable": true,
    "editable": true
   },
   "source": [
    "## Index: \n",
    "1. Scripts for running batch_igt_stats.x\n",
    "2. Merging old and new outputs for batch_igt_stats.x \n",
    "3. Summing the different regions to see how many are completely outside ROIs / not fully inside ROIs\n",
    "4. Writing these out to different .csv files for inspection \n",
    "5. Exploratory analysis for finding range of thresholds for assigning biopsies to CEL \n",
    "6. Adding in whether a biopsy is inside CEL or not\n",
    "7. Exploratory analysis for finding range of thresholds for assigning biopsies to T2all lesion\n",
    "8. Adding in whether a biopsy is inside T2all or not\n",
    "9. Exploratory analysis for finding range of thresholds for assigning biopsies to NEC lesion\n",
    "10. Adding in whether a biopsy is inside NEC or not\n",
    "11. Reordering for insertion in Biopsy Annotation easily\n"
   ]
  },
  {
   "cell_type": "markdown",
   "metadata": {},
   "source": [
    "## 1. Scripts for running batch_igt_stats.x"
   ]
  },
  {
   "cell_type": "code",
   "execution_count": 1,
   "metadata": {
    "collapsed": false
   },
   "outputs": [
    {
     "data": {
      "text/html": [
       "'/home/sf673542/DataWrangling/GetMergeData'"
      ],
      "text/latex": [
       "'/home/sf673542/DataWrangling/GetMergeData'"
      ],
      "text/markdown": [
       "'/home/sf673542/DataWrangling/GetMergeData'"
      ],
      "text/plain": [
       "[1] \"/home/sf673542/DataWrangling/GetMergeData\""
      ]
     },
     "metadata": {},
     "output_type": "display_data"
    }
   ],
   "source": [
    "getwd()"
   ]
  },
  {
   "cell_type": "code",
   "execution_count": 2,
   "metadata": {
    "collapsed": true,
    "deletable": true,
    "editable": true
   },
   "outputs": [],
   "source": [
    "options(repr.matrix.max.rows=600, repr.matrix.max.cols=200)"
   ]
  },
  {
   "cell_type": "code",
   "execution_count": 3,
   "metadata": {
    "collapsed": true,
    "deletable": true,
    "editable": true
   },
   "outputs": [],
   "source": [
    "setwd(\"/home/sf673542/DataWrangling/GetMergeData/July2018/\")"
   ]
  },
  {
   "cell_type": "code",
   "execution_count": 4,
   "metadata": {
    "collapsed": false,
    "deletable": true,
    "editable": true
   },
   "outputs": [
    {
     "data": {
      "text/html": [
       "<ol class=list-inline>\n",
       "\t<li>'ajnr_bnum_tnum.95.csv'</li>\n",
       "\t<li>'anat.csv'</li>\n",
       "\t<li>'biopsies_less100more50inROIs_to_check.csv'</li>\n",
       "\t<li>'biopsies_less50more0inROIs_to_check.csv'</li>\n",
       "\t<li>'biopsies_less95more50inROIs_to_check.csv'</li>\n",
       "\t<li>'biopsies_outside_rois_to_check.csv'</li>\n",
       "\t<li>'bnum_tnum_forIGTstats_olddata.129.csv'</li>\n",
       "\t<li>'bnum_tnum_newdata_fit_failed_for_batch_perf_biopsy.16.csv'</li>\n",
       "\t<li>'diffu1000.csv'</li>\n",
       "\t<li>'diffu2000.csv'</li>\n",
       "\t<li>'new_data_fit_failed_to_janine.csv'</li>\n",
       "\t<li>'new.call_getigtstats.07062018.csv'</li>\n",
       "\t<li>'oldData_updatedColnames.csv'</li>\n",
       "\t<li>'olddata_updatedPerf_updatedColnames.csv'</li>\n",
       "\t<li>'out_batch_perf_biopsy.16.csv'</li>\n",
       "\t<li>'out_callIGTstats_old.csv'</li>\n",
       "\t<li>'out_callIGTstats_rechgg.csv'</li>\n",
       "\t<li>'pathology_report_072018.csv'</li>\n",
       "\t<li>'pathology_report.csv'</li>\n",
       "\t<li>'perf_biopsy_notes_lastrun.csv'</li>\n",
       "\t<li>'perf.csv'</li>\n",
       "\t<li>'researchpath_withInVivo_oldP01_updatedPERF.apr21.csv'</li>\n",
       "\t<li>'researchPath_withInVivoData.csv'</li>\n",
       "\t<li>'spec.csv'</li>\n",
       "</ol>\n"
      ],
      "text/latex": [
       "\\begin{enumerate*}\n",
       "\\item 'ajnr\\_bnum\\_tnum.95.csv'\n",
       "\\item 'anat.csv'\n",
       "\\item 'biopsies\\_less100more50inROIs\\_to\\_check.csv'\n",
       "\\item 'biopsies\\_less50more0inROIs\\_to\\_check.csv'\n",
       "\\item 'biopsies\\_less95more50inROIs\\_to\\_check.csv'\n",
       "\\item 'biopsies\\_outside\\_rois\\_to\\_check.csv'\n",
       "\\item 'bnum\\_tnum\\_forIGTstats\\_olddata.129.csv'\n",
       "\\item 'bnum\\_tnum\\_newdata\\_fit\\_failed\\_for\\_batch\\_perf\\_biopsy.16.csv'\n",
       "\\item 'diffu1000.csv'\n",
       "\\item 'diffu2000.csv'\n",
       "\\item 'new\\_data\\_fit\\_failed\\_to\\_janine.csv'\n",
       "\\item 'new.call\\_getigtstats.07062018.csv'\n",
       "\\item 'oldData\\_updatedColnames.csv'\n",
       "\\item 'olddata\\_updatedPerf\\_updatedColnames.csv'\n",
       "\\item 'out\\_batch\\_perf\\_biopsy.16.csv'\n",
       "\\item 'out\\_callIGTstats\\_old.csv'\n",
       "\\item 'out\\_callIGTstats\\_rechgg.csv'\n",
       "\\item 'pathology\\_report\\_072018.csv'\n",
       "\\item 'pathology\\_report.csv'\n",
       "\\item 'perf\\_biopsy\\_notes\\_lastrun.csv'\n",
       "\\item 'perf.csv'\n",
       "\\item 'researchpath\\_withInVivo\\_oldP01\\_updatedPERF.apr21.csv'\n",
       "\\item 'researchPath\\_withInVivoData.csv'\n",
       "\\item 'spec.csv'\n",
       "\\end{enumerate*}\n"
      ],
      "text/markdown": [
       "1. 'ajnr_bnum_tnum.95.csv'\n",
       "2. 'anat.csv'\n",
       "3. 'biopsies_less100more50inROIs_to_check.csv'\n",
       "4. 'biopsies_less50more0inROIs_to_check.csv'\n",
       "5. 'biopsies_less95more50inROIs_to_check.csv'\n",
       "6. 'biopsies_outside_rois_to_check.csv'\n",
       "7. 'bnum_tnum_forIGTstats_olddata.129.csv'\n",
       "8. 'bnum_tnum_newdata_fit_failed_for_batch_perf_biopsy.16.csv'\n",
       "9. 'diffu1000.csv'\n",
       "10. 'diffu2000.csv'\n",
       "11. 'new_data_fit_failed_to_janine.csv'\n",
       "12. 'new.call_getigtstats.07062018.csv'\n",
       "13. 'oldData_updatedColnames.csv'\n",
       "14. 'olddata_updatedPerf_updatedColnames.csv'\n",
       "15. 'out_batch_perf_biopsy.16.csv'\n",
       "16. 'out_callIGTstats_old.csv'\n",
       "17. 'out_callIGTstats_rechgg.csv'\n",
       "18. 'pathology_report_072018.csv'\n",
       "19. 'pathology_report.csv'\n",
       "20. 'perf_biopsy_notes_lastrun.csv'\n",
       "21. 'perf.csv'\n",
       "22. 'researchpath_withInVivo_oldP01_updatedPERF.apr21.csv'\n",
       "23. 'researchPath_withInVivoData.csv'\n",
       "24. 'spec.csv'\n",
       "\n",
       "\n"
      ],
      "text/plain": [
       " [1] \"ajnr_bnum_tnum.95.csv\"                                    \n",
       " [2] \"anat.csv\"                                                 \n",
       " [3] \"biopsies_less100more50inROIs_to_check.csv\"                \n",
       " [4] \"biopsies_less50more0inROIs_to_check.csv\"                  \n",
       " [5] \"biopsies_less95more50inROIs_to_check.csv\"                 \n",
       " [6] \"biopsies_outside_rois_to_check.csv\"                       \n",
       " [7] \"bnum_tnum_forIGTstats_olddata.129.csv\"                    \n",
       " [8] \"bnum_tnum_newdata_fit_failed_for_batch_perf_biopsy.16.csv\"\n",
       " [9] \"diffu1000.csv\"                                            \n",
       "[10] \"diffu2000.csv\"                                            \n",
       "[11] \"new_data_fit_failed_to_janine.csv\"                        \n",
       "[12] \"new.call_getigtstats.07062018.csv\"                        \n",
       "[13] \"oldData_updatedColnames.csv\"                              \n",
       "[14] \"olddata_updatedPerf_updatedColnames.csv\"                  \n",
       "[15] \"out_batch_perf_biopsy.16.csv\"                             \n",
       "[16] \"out_callIGTstats_old.csv\"                                 \n",
       "[17] \"out_callIGTstats_rechgg.csv\"                              \n",
       "[18] \"pathology_report_072018.csv\"                              \n",
       "[19] \"pathology_report.csv\"                                     \n",
       "[20] \"perf_biopsy_notes_lastrun.csv\"                            \n",
       "[21] \"perf.csv\"                                                 \n",
       "[22] \"researchpath_withInVivo_oldP01_updatedPERF.apr21.csv\"     \n",
       "[23] \"researchPath_withInVivoData.csv\"                          \n",
       "[24] \"spec.csv\"                                                 "
      ]
     },
     "metadata": {},
     "output_type": "display_data"
    }
   ],
   "source": [
    "list.files()"
   ]
  },
  {
   "cell_type": "markdown",
   "metadata": {
    "deletable": true,
    "editable": true
   },
   "source": [
    "We will use the ajnr_bnum_tnum.95.csv to run batch_igt_stats.x on:"
   ]
  },
  {
   "cell_type": "code",
   "execution_count": 5,
   "metadata": {
    "collapsed": true,
    "deletable": true,
    "editable": true
   },
   "outputs": [],
   "source": [
    "## I edited the batch_igt_stats.x and the get_igtStats.R to include \".dev.csv\" \n",
    "## This is to account for the new igt_stats.dev \n",
    "## Then run: \n",
    "#batch_igt_stats.x /home/sf673542/DataWrangling/GetMergeData/July2018/ajnr_bnum_tnum.95.csv\n",
    "\n",
    "## I edited the oldgli_get_igtStats.R to include \".dev.csv\" \n",
    "## I also edited batch_igt_stats_oldgli.x to include \".dev.csv\"\n",
    "## Then run: batch_igt_stats_oldgli.x /home/sf673542/DataWrangling/GetMergeData/July2018/bnum_tnum_forIGTstats_olddata.129.csv"
   ]
  },
  {
   "cell_type": "code",
   "execution_count": 6,
   "metadata": {
    "collapsed": true,
    "deletable": true,
    "editable": true
   },
   "outputs": [],
   "source": [
    "## Now I want to get the output & ensure it looks OK: \n",
    "# Rscript /home/sf673542/pushed_scripts/Rscript/oldgli_call_igtStats.R /home/sf673542/DataWrangling/GetMergeData/July2018/bnum_tnum_forIGTstats_olddata.129.csv /home/sf673542/DataWrangling/GetMergeData/July2018/out_callIGTstats_old.csv"
   ]
  },
  {
   "cell_type": "code",
   "execution_count": 7,
   "metadata": {
    "collapsed": true,
    "deletable": true,
    "editable": true
   },
   "outputs": [],
   "source": [
    "## There is an error in the script that says: Error in read.table(file = file, header = header, sep = sep, quote = quote,  no lines available in input\n",
    "## Let's see why: \n",
    "## NOTE: The error arises from vialIDs with a single digit in its first two, taht is named 01B65 instead of 1B65 for example.\n",
    "## Must go into the perf_biopsy folder & rename these.\n",
    "## Re-run igt_stats.dev in there, then it's all good."
   ]
  },
  {
   "cell_type": "code",
   "execution_count": 8,
   "metadata": {
    "collapsed": true,
    "deletable": true,
    "editable": true
   },
   "outputs": [],
   "source": [
    "## Everything is working well now. Time to collect data from the new igt_stats.dev in new data: \n",
    "# Rscript /home/sf673542/pushed_scripts/Rscript/call_getigtStats.R /home/sf673542/DataWrangling/GetMergeData/July2018/ajnr_bnum_tnum.95.csv /home/sf673542/DataWrangling/GetMergeData/July2018/out_callIGTstats_rechgg.csv"
   ]
  },
  {
   "cell_type": "code",
   "execution_count": 9,
   "metadata": {
    "collapsed": true,
    "deletable": true,
    "editable": true
   },
   "outputs": [],
   "source": [
    "## Now let's inspect the data: "
   ]
  },
  {
   "cell_type": "markdown",
   "metadata": {},
   "source": [
    "## 2. Merging old and new outputs for batch_igt_stats.x \n"
   ]
  },
  {
   "cell_type": "code",
   "execution_count": 10,
   "metadata": {
    "collapsed": true,
    "deletable": true,
    "editable": true
   },
   "outputs": [],
   "source": [
    "rechgg_igtstats = read.csv(\"out_callIGTstats_rechgg.csv\")"
   ]
  },
  {
   "cell_type": "code",
   "execution_count": 11,
   "metadata": {
    "collapsed": true,
    "deletable": true,
    "editable": true
   },
   "outputs": [],
   "source": [
    "oldpo1_igtstats = read.csv(\"out_callIGTstats_old.csv\")"
   ]
  },
  {
   "cell_type": "code",
   "execution_count": 12,
   "metadata": {
    "collapsed": false,
    "deletable": true,
    "editable": true
   },
   "outputs": [
    {
     "data": {
      "text/html": [
       "<table>\n",
       "<thead><tr><th scope=col>tnum</th><th scope=col>sfnum</th><th scope=col>vialID</th><th scope=col>index</th><th scope=col>X.CEL</th><th scope=col>X.NEL</th><th scope=col>X.NEC</th></tr></thead>\n",
       "<tbody>\n",
       "\t<tr><td>NA    </td><td>NA    </td><td>NA    </td><td>NA    </td><td>    NA</td><td>   NA </td><td>NA    </td></tr>\n",
       "\t<tr><td>t8773 </td><td>sf9727</td><td>61B60 </td><td> 1    </td><td>  4.26</td><td>85.11 </td><td>NA    </td></tr>\n",
       "\t<tr><td>t8773 </td><td>sf9727</td><td>62B60 </td><td> 2    </td><td> 47.62</td><td>52.38 </td><td>NA    </td></tr>\n",
       "\t<tr><td>t8773 </td><td>sf9727</td><td>63B60 </td><td> 3    </td><td>  2.38</td><td>30.95 </td><td>NA    </td></tr>\n",
       "\t<tr><td>t8783 </td><td>sf9739</td><td>31B61 </td><td> 1    </td><td>  0.00</td><td> 0.00 </td><td>NA    </td></tr>\n",
       "\t<tr><td>t8783 </td><td>sf9739</td><td>33B61 </td><td> 2    </td><td>100.00</td><td> 0.00 </td><td>NA    </td></tr>\n",
       "</tbody>\n",
       "</table>\n"
      ],
      "text/latex": [
       "\\begin{tabular}{r|lllllll}\n",
       " tnum & sfnum & vialID & index & X.CEL & X.NEL & X.NEC\\\\\n",
       "\\hline\n",
       "\t NA     & NA     & NA     & NA     &     NA &    NA  & NA    \\\\\n",
       "\t t8773  & sf9727 & 61B60  &  1     &   4.26 & 85.11  & NA    \\\\\n",
       "\t t8773  & sf9727 & 62B60  &  2     &  47.62 & 52.38  & NA    \\\\\n",
       "\t t8773  & sf9727 & 63B60  &  3     &   2.38 & 30.95  & NA    \\\\\n",
       "\t t8783  & sf9739 & 31B61  &  1     &   0.00 &  0.00  & NA    \\\\\n",
       "\t t8783  & sf9739 & 33B61  &  2     & 100.00 &  0.00  & NA    \\\\\n",
       "\\end{tabular}\n"
      ],
      "text/markdown": [
       "\n",
       "tnum | sfnum | vialID | index | X.CEL | X.NEL | X.NEC | \n",
       "|---|---|---|---|---|---|\n",
       "| NA     | NA     | NA     | NA     |     NA |    NA  | NA     | \n",
       "| t8773  | sf9727 | 61B60  |  1     |   4.26 | 85.11  | NA     | \n",
       "| t8773  | sf9727 | 62B60  |  2     |  47.62 | 52.38  | NA     | \n",
       "| t8773  | sf9727 | 63B60  |  3     |   2.38 | 30.95  | NA     | \n",
       "| t8783  | sf9739 | 31B61  |  1     |   0.00 |  0.00  | NA     | \n",
       "| t8783  | sf9739 | 33B61  |  2     | 100.00 |  0.00  | NA     | \n",
       "\n",
       "\n"
      ],
      "text/plain": [
       "  tnum  sfnum  vialID index X.CEL  X.NEL X.NEC\n",
       "1 NA    NA     NA     NA        NA    NA NA   \n",
       "2 t8773 sf9727 61B60   1      4.26 85.11 NA   \n",
       "3 t8773 sf9727 62B60   2     47.62 52.38 NA   \n",
       "4 t8773 sf9727 63B60   3      2.38 30.95 NA   \n",
       "5 t8783 sf9739 31B61   1      0.00  0.00 NA   \n",
       "6 t8783 sf9739 33B61   2    100.00  0.00 NA   "
      ]
     },
     "metadata": {},
     "output_type": "display_data"
    },
    {
     "data": {
      "text/html": [
       "<ol class=list-inline>\n",
       "\t<li>259</li>\n",
       "\t<li>7</li>\n",
       "</ol>\n"
      ],
      "text/latex": [
       "\\begin{enumerate*}\n",
       "\\item 259\n",
       "\\item 7\n",
       "\\end{enumerate*}\n"
      ],
      "text/markdown": [
       "1. 259\n",
       "2. 7\n",
       "\n",
       "\n"
      ],
      "text/plain": [
       "[1] 259   7"
      ]
     },
     "metadata": {},
     "output_type": "display_data"
    },
    {
     "data": {
      "text/html": [
       "<table>\n",
       "<thead><tr><th scope=col>tnum</th><th scope=col>sfnum</th><th scope=col>vialID</th><th scope=col>index</th><th scope=col>X.CEL</th><th scope=col>X.NEL</th><th scope=col>X.NEC</th></tr></thead>\n",
       "<tbody>\n",
       "\t<tr><td>NA    </td><td>NA    </td><td>NA    </td><td>NA    </td><td>    NA</td><td>    NA</td><td>NA    </td></tr>\n",
       "\t<tr><td>t6369 </td><td>sf8122</td><td>10B28 </td><td> 1    </td><td> 53.85</td><td> 46.15</td><td>NA    </td></tr>\n",
       "\t<tr><td>t6369 </td><td>sf8122</td><td>17B28 </td><td> 2    </td><td>  0.00</td><td>100.00</td><td>NA    </td></tr>\n",
       "\t<tr><td>t6369 </td><td>sf8122</td><td>3B28  </td><td> 3    </td><td> 93.33</td><td>  6.67</td><td>NA    </td></tr>\n",
       "\t<tr><td>t5317 </td><td>sf7679</td><td>11B16 </td><td> 1    </td><td>100.00</td><td>  0.00</td><td>NA    </td></tr>\n",
       "\t<tr><td>t5317 </td><td>sf7679</td><td>12B16 </td><td> 2    </td><td>100.00</td><td>  0.00</td><td>NA    </td></tr>\n",
       "</tbody>\n",
       "</table>\n"
      ],
      "text/latex": [
       "\\begin{tabular}{r|lllllll}\n",
       " tnum & sfnum & vialID & index & X.CEL & X.NEL & X.NEC\\\\\n",
       "\\hline\n",
       "\t NA     & NA     & NA     & NA     &     NA &     NA & NA    \\\\\n",
       "\t t6369  & sf8122 & 10B28  &  1     &  53.85 &  46.15 & NA    \\\\\n",
       "\t t6369  & sf8122 & 17B28  &  2     &   0.00 & 100.00 & NA    \\\\\n",
       "\t t6369  & sf8122 & 3B28   &  3     &  93.33 &   6.67 & NA    \\\\\n",
       "\t t5317  & sf7679 & 11B16  &  1     & 100.00 &   0.00 & NA    \\\\\n",
       "\t t5317  & sf7679 & 12B16  &  2     & 100.00 &   0.00 & NA    \\\\\n",
       "\\end{tabular}\n"
      ],
      "text/markdown": [
       "\n",
       "tnum | sfnum | vialID | index | X.CEL | X.NEL | X.NEC | \n",
       "|---|---|---|---|---|---|\n",
       "| NA     | NA     | NA     | NA     |     NA |     NA | NA     | \n",
       "| t6369  | sf8122 | 10B28  |  1     |  53.85 |  46.15 | NA     | \n",
       "| t6369  | sf8122 | 17B28  |  2     |   0.00 | 100.00 | NA     | \n",
       "| t6369  | sf8122 | 3B28   |  3     |  93.33 |   6.67 | NA     | \n",
       "| t5317  | sf7679 | 11B16  |  1     | 100.00 |   0.00 | NA     | \n",
       "| t5317  | sf7679 | 12B16  |  2     | 100.00 |   0.00 | NA     | \n",
       "\n",
       "\n"
      ],
      "text/plain": [
       "  tnum  sfnum  vialID index X.CEL  X.NEL  X.NEC\n",
       "1 NA    NA     NA     NA        NA     NA NA   \n",
       "2 t6369 sf8122 10B28   1     53.85  46.15 NA   \n",
       "3 t6369 sf8122 17B28   2      0.00 100.00 NA   \n",
       "4 t6369 sf8122 3B28    3     93.33   6.67 NA   \n",
       "5 t5317 sf7679 11B16   1    100.00   0.00 NA   \n",
       "6 t5317 sf7679 12B16   2    100.00   0.00 NA   "
      ]
     },
     "metadata": {},
     "output_type": "display_data"
    },
    {
     "data": {
      "text/html": [
       "<ol class=list-inline>\n",
       "\t<li>240</li>\n",
       "\t<li>7</li>\n",
       "</ol>\n"
      ],
      "text/latex": [
       "\\begin{enumerate*}\n",
       "\\item 240\n",
       "\\item 7\n",
       "\\end{enumerate*}\n"
      ],
      "text/markdown": [
       "1. 240\n",
       "2. 7\n",
       "\n",
       "\n"
      ],
      "text/plain": [
       "[1] 240   7"
      ]
     },
     "metadata": {},
     "output_type": "display_data"
    }
   ],
   "source": [
    "head(rechgg_igtstats)\n",
    "dim(rechgg_igtstats)\n",
    "head(oldpo1_igtstats)\n",
    "dim(oldpo1_igtstats)"
   ]
  },
  {
   "cell_type": "code",
   "execution_count": 13,
   "metadata": {
    "collapsed": true,
    "deletable": true,
    "editable": true
   },
   "outputs": [],
   "source": [
    "rechgg_igtstats=rechgg_igtstats[-1,]\n",
    "oldpo1_igtstats=oldpo1_igtstats[-1,]"
   ]
  },
  {
   "cell_type": "code",
   "execution_count": 14,
   "metadata": {
    "collapsed": false,
    "deletable": true,
    "editable": true
   },
   "outputs": [
    {
     "data": {
      "text/html": [
       "<table>\n",
       "<thead><tr><th></th><th scope=col>tnum</th><th scope=col>sfnum</th><th scope=col>vialID</th><th scope=col>index</th><th scope=col>X.CEL</th><th scope=col>X.NEL</th><th scope=col>X.NEC</th></tr></thead>\n",
       "<tbody>\n",
       "\t<tr><th scope=row>2</th><td>t8773 </td><td>sf9727</td><td>61B60 </td><td>1     </td><td>  4.26</td><td>85.11 </td><td>NA    </td></tr>\n",
       "\t<tr><th scope=row>3</th><td>t8773 </td><td>sf9727</td><td>62B60 </td><td>2     </td><td> 47.62</td><td>52.38 </td><td>NA    </td></tr>\n",
       "\t<tr><th scope=row>4</th><td>t8773 </td><td>sf9727</td><td>63B60 </td><td>3     </td><td>  2.38</td><td>30.95 </td><td>NA    </td></tr>\n",
       "\t<tr><th scope=row>5</th><td>t8783 </td><td>sf9739</td><td>31B61 </td><td>1     </td><td>  0.00</td><td> 0.00 </td><td>NA    </td></tr>\n",
       "\t<tr><th scope=row>6</th><td>t8783 </td><td>sf9739</td><td>33B61 </td><td>2     </td><td>100.00</td><td> 0.00 </td><td>NA    </td></tr>\n",
       "\t<tr><th scope=row>7</th><td>t8869 </td><td>sf9795</td><td>65B60 </td><td>1     </td><td>100.00</td><td> 0.00 </td><td>NA    </td></tr>\n",
       "</tbody>\n",
       "</table>\n"
      ],
      "text/latex": [
       "\\begin{tabular}{r|lllllll}\n",
       "  & tnum & sfnum & vialID & index & X.CEL & X.NEL & X.NEC\\\\\n",
       "\\hline\n",
       "\t2 & t8773  & sf9727 & 61B60  & 1      &   4.26 & 85.11  & NA    \\\\\n",
       "\t3 & t8773  & sf9727 & 62B60  & 2      &  47.62 & 52.38  & NA    \\\\\n",
       "\t4 & t8773  & sf9727 & 63B60  & 3      &   2.38 & 30.95  & NA    \\\\\n",
       "\t5 & t8783  & sf9739 & 31B61  & 1      &   0.00 &  0.00  & NA    \\\\\n",
       "\t6 & t8783  & sf9739 & 33B61  & 2      & 100.00 &  0.00  & NA    \\\\\n",
       "\t7 & t8869  & sf9795 & 65B60  & 1      & 100.00 &  0.00  & NA    \\\\\n",
       "\\end{tabular}\n"
      ],
      "text/markdown": [
       "\n",
       "| <!--/--> | tnum | sfnum | vialID | index | X.CEL | X.NEL | X.NEC | \n",
       "|---|---|---|---|---|---|\n",
       "| 2 | t8773  | sf9727 | 61B60  | 1      |   4.26 | 85.11  | NA     | \n",
       "| 3 | t8773  | sf9727 | 62B60  | 2      |  47.62 | 52.38  | NA     | \n",
       "| 4 | t8773  | sf9727 | 63B60  | 3      |   2.38 | 30.95  | NA     | \n",
       "| 5 | t8783  | sf9739 | 31B61  | 1      |   0.00 |  0.00  | NA     | \n",
       "| 6 | t8783  | sf9739 | 33B61  | 2      | 100.00 |  0.00  | NA     | \n",
       "| 7 | t8869  | sf9795 | 65B60  | 1      | 100.00 |  0.00  | NA     | \n",
       "\n",
       "\n"
      ],
      "text/plain": [
       "  tnum  sfnum  vialID index X.CEL  X.NEL X.NEC\n",
       "2 t8773 sf9727 61B60  1       4.26 85.11 NA   \n",
       "3 t8773 sf9727 62B60  2      47.62 52.38 NA   \n",
       "4 t8773 sf9727 63B60  3       2.38 30.95 NA   \n",
       "5 t8783 sf9739 31B61  1       0.00  0.00 NA   \n",
       "6 t8783 sf9739 33B61  2     100.00  0.00 NA   \n",
       "7 t8869 sf9795 65B60  1     100.00  0.00 NA   "
      ]
     },
     "metadata": {},
     "output_type": "display_data"
    },
    {
     "data": {
      "text/html": [
       "<ol class=list-inline>\n",
       "\t<li>258</li>\n",
       "\t<li>7</li>\n",
       "</ol>\n"
      ],
      "text/latex": [
       "\\begin{enumerate*}\n",
       "\\item 258\n",
       "\\item 7\n",
       "\\end{enumerate*}\n"
      ],
      "text/markdown": [
       "1. 258\n",
       "2. 7\n",
       "\n",
       "\n"
      ],
      "text/plain": [
       "[1] 258   7"
      ]
     },
     "metadata": {},
     "output_type": "display_data"
    },
    {
     "data": {
      "text/html": [
       "<table>\n",
       "<thead><tr><th></th><th scope=col>tnum</th><th scope=col>sfnum</th><th scope=col>vialID</th><th scope=col>index</th><th scope=col>X.CEL</th><th scope=col>X.NEL</th><th scope=col>X.NEC</th></tr></thead>\n",
       "<tbody>\n",
       "\t<tr><th scope=row>2</th><td>t6369 </td><td>sf8122</td><td>10B28 </td><td>1     </td><td> 53.85</td><td> 46.15</td><td>NA    </td></tr>\n",
       "\t<tr><th scope=row>3</th><td>t6369 </td><td>sf8122</td><td>17B28 </td><td>2     </td><td>  0.00</td><td>100.00</td><td>NA    </td></tr>\n",
       "\t<tr><th scope=row>4</th><td>t6369 </td><td>sf8122</td><td>3B28  </td><td>3     </td><td> 93.33</td><td>  6.67</td><td>NA    </td></tr>\n",
       "\t<tr><th scope=row>5</th><td>t5317 </td><td>sf7679</td><td>11B16 </td><td>1     </td><td>100.00</td><td>  0.00</td><td>NA    </td></tr>\n",
       "\t<tr><th scope=row>6</th><td>t5317 </td><td>sf7679</td><td>12B16 </td><td>2     </td><td>100.00</td><td>  0.00</td><td>NA    </td></tr>\n",
       "\t<tr><th scope=row>7</th><td>t7408 </td><td>sf8701</td><td>11B40 </td><td>1     </td><td>  8.70</td><td> 13.04</td><td>NA    </td></tr>\n",
       "</tbody>\n",
       "</table>\n"
      ],
      "text/latex": [
       "\\begin{tabular}{r|lllllll}\n",
       "  & tnum & sfnum & vialID & index & X.CEL & X.NEL & X.NEC\\\\\n",
       "\\hline\n",
       "\t2 & t6369  & sf8122 & 10B28  & 1      &  53.85 &  46.15 & NA    \\\\\n",
       "\t3 & t6369  & sf8122 & 17B28  & 2      &   0.00 & 100.00 & NA    \\\\\n",
       "\t4 & t6369  & sf8122 & 3B28   & 3      &  93.33 &   6.67 & NA    \\\\\n",
       "\t5 & t5317  & sf7679 & 11B16  & 1      & 100.00 &   0.00 & NA    \\\\\n",
       "\t6 & t5317  & sf7679 & 12B16  & 2      & 100.00 &   0.00 & NA    \\\\\n",
       "\t7 & t7408  & sf8701 & 11B40  & 1      &   8.70 &  13.04 & NA    \\\\\n",
       "\\end{tabular}\n"
      ],
      "text/markdown": [
       "\n",
       "| <!--/--> | tnum | sfnum | vialID | index | X.CEL | X.NEL | X.NEC | \n",
       "|---|---|---|---|---|---|\n",
       "| 2 | t6369  | sf8122 | 10B28  | 1      |  53.85 |  46.15 | NA     | \n",
       "| 3 | t6369  | sf8122 | 17B28  | 2      |   0.00 | 100.00 | NA     | \n",
       "| 4 | t6369  | sf8122 | 3B28   | 3      |  93.33 |   6.67 | NA     | \n",
       "| 5 | t5317  | sf7679 | 11B16  | 1      | 100.00 |   0.00 | NA     | \n",
       "| 6 | t5317  | sf7679 | 12B16  | 2      | 100.00 |   0.00 | NA     | \n",
       "| 7 | t7408  | sf8701 | 11B40  | 1      |   8.70 |  13.04 | NA     | \n",
       "\n",
       "\n"
      ],
      "text/plain": [
       "  tnum  sfnum  vialID index X.CEL  X.NEL  X.NEC\n",
       "2 t6369 sf8122 10B28  1      53.85  46.15 NA   \n",
       "3 t6369 sf8122 17B28  2       0.00 100.00 NA   \n",
       "4 t6369 sf8122 3B28   3      93.33   6.67 NA   \n",
       "5 t5317 sf7679 11B16  1     100.00   0.00 NA   \n",
       "6 t5317 sf7679 12B16  2     100.00   0.00 NA   \n",
       "7 t7408 sf8701 11B40  1       8.70  13.04 NA   "
      ]
     },
     "metadata": {},
     "output_type": "display_data"
    },
    {
     "data": {
      "text/html": [
       "<ol class=list-inline>\n",
       "\t<li>239</li>\n",
       "\t<li>7</li>\n",
       "</ol>\n"
      ],
      "text/latex": [
       "\\begin{enumerate*}\n",
       "\\item 239\n",
       "\\item 7\n",
       "\\end{enumerate*}\n"
      ],
      "text/markdown": [
       "1. 239\n",
       "2. 7\n",
       "\n",
       "\n"
      ],
      "text/plain": [
       "[1] 239   7"
      ]
     },
     "metadata": {},
     "output_type": "display_data"
    }
   ],
   "source": [
    "head(rechgg_igtstats)\n",
    "dim(rechgg_igtstats)\n",
    "head(oldpo1_igtstats)\n",
    "dim(oldpo1_igtstats)\n"
   ]
  },
  {
   "cell_type": "code",
   "execution_count": 15,
   "metadata": {
    "collapsed": true,
    "deletable": true,
    "editable": true
   },
   "outputs": [],
   "source": [
    "igtstats = rbind(oldpo1_igtstats, rechgg_igtstats)"
   ]
  },
  {
   "cell_type": "markdown",
   "metadata": {},
   "source": [
    "## 3. Summing the different regions to see how many are completely outside ROIs / not fully inside ROIs\n"
   ]
  },
  {
   "cell_type": "code",
   "execution_count": 16,
   "metadata": {
    "collapsed": true,
    "deletable": true,
    "editable": true
   },
   "outputs": [],
   "source": [
    "sum_regions = c()\n",
    "for(i in 1:dim(igtstats)[1]){\n",
    "    if(is.na(igtstats$X.CEL[i]) & is.na(igtstats$X.NEL[i]) & is.na(igtstats$X.NEC[i])){\n",
    "        sum_regions[i]= NA\n",
    "    }\n",
    "    else if(is.na(igtstats$X.CEL[i]) & is.na(igtstats$X.NEL[i]) & !is.na(igtstats$X.NEC[i])){\n",
    "        sum_regions[i]=igtstats$X.NEC[i]\n",
    "    }\n",
    "    else if(is.na(igtstats$X.CEL[i]) & !is.na(igtstats$X.NEL[i]) & is.na(igtstats$X.NEC[i])){\n",
    "        sum_regions[i]=igtstats$X.NEL[i]\n",
    "    }\n",
    "    else if(!is.na(igtstats$X.CEL[i]) & is.na(igtstats$X.NEL[i]) & is.na(igtstats$X.NEC[i])){\n",
    "        sum_regions[i]=igtstats$X.CEL[i]\n",
    "    }\n",
    "    else if(!is.na(igtstats$X.CEL[i]) & !is.na(igtstats$X.NEL[i]) & is.na(igtstats$X.NEC[i])){\n",
    "        sum_regions[i]=igtstats$X.CEL[i]+igtstats$X.NEL[i]\n",
    "    }\n",
    "    else if(!is.na(igtstats$X.CEL[i]) & is.na(igtstats$X.NEL[i]) & !is.na(igtstats$X.NEC[i])){\n",
    "        sum_regions[i]=igtstats$X.CEL[i]+igtstats$X.NEC[i]\n",
    "    }\n",
    "    else if(is.na(igtstats$X.CEL[i]) & !is.na(igtstats$X.NEL[i]) & !is.na(igtstats$X.NEC[i])){\n",
    "        sum_regions[i]=igtstats$X.NEL[i]+igtstats$X.NEC[i]\n",
    "    }\n",
    "    else if(!is.na(igtstats$X.CEL[i]) & !is.na(igtstats$X.NEL[i]) & !is.na(igtstats$X.NEC[i])){\n",
    "        sum_regions[i]=igtstats$X.CEL[i]+igtstats$X.NEL[i]+igtstats$X.NEC[i]\n",
    "    }\n",
    "}"
   ]
  },
  {
   "cell_type": "code",
   "execution_count": 17,
   "metadata": {
    "collapsed": false,
    "deletable": true,
    "editable": true
   },
   "outputs": [
    {
     "data": {
      "text/plain": [
       "\n",
       "FALSE  TRUE \n",
       "  213   257 "
      ]
     },
     "metadata": {},
     "output_type": "display_data"
    },
    {
     "data": {
      "text/plain": [
       "\n",
       "FALSE  TRUE \n",
       "  443    27 "
      ]
     },
     "metadata": {},
     "output_type": "display_data"
    },
    {
     "data": {
      "text/plain": [
       "\n",
       "FALSE  TRUE \n",
       "  263   207 "
      ]
     },
     "metadata": {},
     "output_type": "display_data"
    },
    {
     "data": {
      "text/plain": [
       "\n",
       "FALSE  TRUE \n",
       "  468     2 "
      ]
     },
     "metadata": {},
     "output_type": "display_data"
    },
    {
     "data": {
      "text/html": [
       "497"
      ],
      "text/latex": [
       "497"
      ],
      "text/markdown": [
       "497"
      ],
      "text/plain": [
       "[1] 497"
      ]
     },
     "metadata": {},
     "output_type": "display_data"
    }
   ],
   "source": [
    "table(sum_regions==100)\n",
    "table(sum_regions==0)\n",
    "table(sum_regions<100)\n",
    "table(sum_regions>100.1)\n",
    "length(sum_regions)\n"
   ]
  },
  {
   "cell_type": "code",
   "execution_count": 18,
   "metadata": {
    "collapsed": true,
    "deletable": true,
    "editable": true
   },
   "outputs": [],
   "source": [
    "igtstats = data.frame(igtstats, sum = sum_regions)"
   ]
  },
  {
   "cell_type": "code",
   "execution_count": 19,
   "metadata": {
    "collapsed": false,
    "deletable": true,
    "editable": true
   },
   "outputs": [
    {
     "data": {
      "text/html": [
       "<table>\n",
       "<thead><tr><th></th><th scope=col>tnum</th><th scope=col>sfnum</th><th scope=col>vialID</th><th scope=col>index</th><th scope=col>X.CEL</th><th scope=col>X.NEL</th><th scope=col>X.NEC</th><th scope=col>sum</th></tr></thead>\n",
       "<tbody>\n",
       "\t<tr><th scope=row>22</th><td>t7584  </td><td>sf8842 </td><td>14B44  </td><td>1      </td><td> 0     </td><td> 0     </td><td>NA     </td><td>0      </td></tr>\n",
       "\t<tr><th scope=row>28</th><td>t8070  </td><td>sf7540 </td><td>18B13  </td><td>1      </td><td> 0     </td><td>NA     </td><td>NA     </td><td>0      </td></tr>\n",
       "\t<tr><th scope=row>29</th><td>t8070  </td><td>sf7540 </td><td>26B13  </td><td>2      </td><td> 0     </td><td>NA     </td><td>NA     </td><td>0      </td></tr>\n",
       "\t<tr><th scope=row>55</th><td>t7555  </td><td>sf8808 </td><td>29B43  </td><td>1      </td><td> 0     </td><td> 0     </td><td>NA     </td><td>0      </td></tr>\n",
       "\t<tr><th scope=row>58</th><td>t7555  </td><td>sf8808 </td><td>32B43  </td><td>4      </td><td> 0     </td><td> 0     </td><td>NA     </td><td>0      </td></tr>\n",
       "\t<tr><th scope=row>77</th><td>t7227  </td><td>sf8580 </td><td>37B39  </td><td>3      </td><td> 0     </td><td> 0     </td><td>NA     </td><td>0      </td></tr>\n",
       "\t<tr><th scope=row>117</th><td>t5550  </td><td>sf7732 </td><td>56B17  </td><td>2      </td><td> 0     </td><td> 0     </td><td>NA     </td><td>0      </td></tr>\n",
       "\t<tr><th scope=row>140</th><td>t6929  </td><td>sf8425 </td><td>62B35  </td><td>3      </td><td> 0     </td><td> 0     </td><td>NA     </td><td>0      </td></tr>\n",
       "\t<tr><th scope=row>143</th><td>t7225  </td><td>sf8582 </td><td>62B39  </td><td>1      </td><td> 0     </td><td> 0     </td><td>NA     </td><td>0      </td></tr>\n",
       "\t<tr><th scope=row>144</th><td>t7225  </td><td>sf8582 </td><td>63B39  </td><td>2      </td><td> 0     </td><td> 0     </td><td>NA     </td><td>0      </td></tr>\n",
       "\t<tr><th scope=row>174</th><td>t5577  </td><td>sf7750 </td><td>73B17  </td><td>2      </td><td> 0     </td><td> 0     </td><td> 0     </td><td>0      </td></tr>\n",
       "\t<tr><th scope=row>191</th><td>t5728  </td><td>sf7818 </td><td>76B19  </td><td>2      </td><td> 0     </td><td> 0     </td><td> 0     </td><td>0      </td></tr>\n",
       "\t<tr><th scope=row>194</th><td>t5880  </td><td>sf7894 </td><td>7894a  </td><td>1      </td><td> 0     </td><td> 0     </td><td> 0     </td><td>0      </td></tr>\n",
       "\t<tr><th scope=row>195</th><td>t5880  </td><td>sf7894 </td><td>7894b  </td><td>2      </td><td> 0     </td><td> 0     </td><td> 0     </td><td>0      </td></tr>\n",
       "\t<tr><th scope=row>219</th><td>t6296  </td><td>sf8112 </td><td>84B27  </td><td>2      </td><td> 0     </td><td> 0     </td><td> 0     </td><td>0      </td></tr>\n",
       "\t<tr><th scope=row>220</th><td>t7055  </td><td>sf8491 </td><td>8491B3 </td><td>1      </td><td> 0     </td><td> 0     </td><td>NA     </td><td>0      </td></tr>\n",
       "\t<tr><th scope=row>221</th><td>t7055  </td><td>sf8491 </td><td>8491V1 </td><td>2      </td><td> 0     </td><td> 0     </td><td>NA     </td><td>0      </td></tr>\n",
       "\t<tr><th scope=row>222</th><td>t7055  </td><td>sf8491 </td><td>8491Y2 </td><td>3      </td><td> 0     </td><td> 0     </td><td>NA     </td><td>0      </td></tr>\n",
       "\t<tr><th scope=row>227</th><td>t5668  </td><td>sf7793 </td><td>87B18  </td><td>3      </td><td> 0     </td><td> 0     </td><td> 0     </td><td>0      </td></tr>\n",
       "\t<tr><th scope=row>231</th><td>t7628  </td><td>sf8873 </td><td>88B44  </td><td>2      </td><td> 0     </td><td> 0     </td><td>NA     </td><td>0      </td></tr>\n",
       "\t<tr><th scope=row>240</th><td>t6495  </td><td>sf8196 </td><td>98B29  </td><td>3      </td><td> 0     </td><td> 0     </td><td>NA     </td><td>0      </td></tr>\n",
       "\t<tr><th scope=row>510</th><td>t8783  </td><td>sf9739 </td><td>31B61  </td><td>1      </td><td> 0     </td><td> 0     </td><td>NA     </td><td>0      </td></tr>\n",
       "\t<tr><th scope=row>531</th><td>t9134  </td><td>sf10071</td><td>15B71  </td><td>2      </td><td> 0     </td><td> 0     </td><td>NA     </td><td>0      </td></tr>\n",
       "\t<tr><th scope=row>811</th><td>t10152 </td><td>sf10560</td><td>60B78  </td><td>3      </td><td> 0     </td><td> 0     </td><td>NA     </td><td>0      </td></tr>\n",
       "\t<tr><th scope=row>1701</th><td>t11218 </td><td>sf11163</td><td>42B97  </td><td>4      </td><td> 0     </td><td> 0     </td><td>NA     </td><td>0      </td></tr>\n",
       "\t<tr><th scope=row>2071</th><td>t11482 </td><td>sf11334</td><td>15D1   </td><td>2      </td><td>NA     </td><td> 0     </td><td>NA     </td><td>0      </td></tr>\n",
       "\t<tr><th scope=row>2391</th><td>t11876 </td><td>sf11560</td><td>11560A0</td><td>3      </td><td> 0     </td><td> 0     </td><td> 0     </td><td>0      </td></tr>\n",
       "</tbody>\n",
       "</table>\n"
      ],
      "text/latex": [
       "\\begin{tabular}{r|llllllll}\n",
       "  & tnum & sfnum & vialID & index & X.CEL & X.NEL & X.NEC & sum\\\\\n",
       "\\hline\n",
       "\t22 & t7584   & sf8842  & 14B44   & 1       &  0      &  0      & NA      & 0      \\\\\n",
       "\t28 & t8070   & sf7540  & 18B13   & 1       &  0      & NA      & NA      & 0      \\\\\n",
       "\t29 & t8070   & sf7540  & 26B13   & 2       &  0      & NA      & NA      & 0      \\\\\n",
       "\t55 & t7555   & sf8808  & 29B43   & 1       &  0      &  0      & NA      & 0      \\\\\n",
       "\t58 & t7555   & sf8808  & 32B43   & 4       &  0      &  0      & NA      & 0      \\\\\n",
       "\t77 & t7227   & sf8580  & 37B39   & 3       &  0      &  0      & NA      & 0      \\\\\n",
       "\t117 & t5550   & sf7732  & 56B17   & 2       &  0      &  0      & NA      & 0      \\\\\n",
       "\t140 & t6929   & sf8425  & 62B35   & 3       &  0      &  0      & NA      & 0      \\\\\n",
       "\t143 & t7225   & sf8582  & 62B39   & 1       &  0      &  0      & NA      & 0      \\\\\n",
       "\t144 & t7225   & sf8582  & 63B39   & 2       &  0      &  0      & NA      & 0      \\\\\n",
       "\t174 & t5577   & sf7750  & 73B17   & 2       &  0      &  0      &  0      & 0      \\\\\n",
       "\t191 & t5728   & sf7818  & 76B19   & 2       &  0      &  0      &  0      & 0      \\\\\n",
       "\t194 & t5880   & sf7894  & 7894a   & 1       &  0      &  0      &  0      & 0      \\\\\n",
       "\t195 & t5880   & sf7894  & 7894b   & 2       &  0      &  0      &  0      & 0      \\\\\n",
       "\t219 & t6296   & sf8112  & 84B27   & 2       &  0      &  0      &  0      & 0      \\\\\n",
       "\t220 & t7055   & sf8491  & 8491B3  & 1       &  0      &  0      & NA      & 0      \\\\\n",
       "\t221 & t7055   & sf8491  & 8491V1  & 2       &  0      &  0      & NA      & 0      \\\\\n",
       "\t222 & t7055   & sf8491  & 8491Y2  & 3       &  0      &  0      & NA      & 0      \\\\\n",
       "\t227 & t5668   & sf7793  & 87B18   & 3       &  0      &  0      &  0      & 0      \\\\\n",
       "\t231 & t7628   & sf8873  & 88B44   & 2       &  0      &  0      & NA      & 0      \\\\\n",
       "\t240 & t6495   & sf8196  & 98B29   & 3       &  0      &  0      & NA      & 0      \\\\\n",
       "\t510 & t8783   & sf9739  & 31B61   & 1       &  0      &  0      & NA      & 0      \\\\\n",
       "\t531 & t9134   & sf10071 & 15B71   & 2       &  0      &  0      & NA      & 0      \\\\\n",
       "\t811 & t10152  & sf10560 & 60B78   & 3       &  0      &  0      & NA      & 0      \\\\\n",
       "\t1701 & t11218  & sf11163 & 42B97   & 4       &  0      &  0      & NA      & 0      \\\\\n",
       "\t2071 & t11482  & sf11334 & 15D1    & 2       & NA      &  0      & NA      & 0      \\\\\n",
       "\t2391 & t11876  & sf11560 & 11560A0 & 3       &  0      &  0      &  0      & 0      \\\\\n",
       "\\end{tabular}\n"
      ],
      "text/markdown": [
       "\n",
       "| <!--/--> | tnum | sfnum | vialID | index | X.CEL | X.NEL | X.NEC | sum | \n",
       "|---|---|---|---|---|---|---|---|---|---|---|---|---|---|---|---|---|---|---|---|---|---|---|---|---|---|---|\n",
       "| 22 | t7584   | sf8842  | 14B44   | 1       |  0      |  0      | NA      | 0       | \n",
       "| 28 | t8070   | sf7540  | 18B13   | 1       |  0      | NA      | NA      | 0       | \n",
       "| 29 | t8070   | sf7540  | 26B13   | 2       |  0      | NA      | NA      | 0       | \n",
       "| 55 | t7555   | sf8808  | 29B43   | 1       |  0      |  0      | NA      | 0       | \n",
       "| 58 | t7555   | sf8808  | 32B43   | 4       |  0      |  0      | NA      | 0       | \n",
       "| 77 | t7227   | sf8580  | 37B39   | 3       |  0      |  0      | NA      | 0       | \n",
       "| 117 | t5550   | sf7732  | 56B17   | 2       |  0      |  0      | NA      | 0       | \n",
       "| 140 | t6929   | sf8425  | 62B35   | 3       |  0      |  0      | NA      | 0       | \n",
       "| 143 | t7225   | sf8582  | 62B39   | 1       |  0      |  0      | NA      | 0       | \n",
       "| 144 | t7225   | sf8582  | 63B39   | 2       |  0      |  0      | NA      | 0       | \n",
       "| 174 | t5577   | sf7750  | 73B17   | 2       |  0      |  0      |  0      | 0       | \n",
       "| 191 | t5728   | sf7818  | 76B19   | 2       |  0      |  0      |  0      | 0       | \n",
       "| 194 | t5880   | sf7894  | 7894a   | 1       |  0      |  0      |  0      | 0       | \n",
       "| 195 | t5880   | sf7894  | 7894b   | 2       |  0      |  0      |  0      | 0       | \n",
       "| 219 | t6296   | sf8112  | 84B27   | 2       |  0      |  0      |  0      | 0       | \n",
       "| 220 | t7055   | sf8491  | 8491B3  | 1       |  0      |  0      | NA      | 0       | \n",
       "| 221 | t7055   | sf8491  | 8491V1  | 2       |  0      |  0      | NA      | 0       | \n",
       "| 222 | t7055   | sf8491  | 8491Y2  | 3       |  0      |  0      | NA      | 0       | \n",
       "| 227 | t5668   | sf7793  | 87B18   | 3       |  0      |  0      |  0      | 0       | \n",
       "| 231 | t7628   | sf8873  | 88B44   | 2       |  0      |  0      | NA      | 0       | \n",
       "| 240 | t6495   | sf8196  | 98B29   | 3       |  0      |  0      | NA      | 0       | \n",
       "| 510 | t8783   | sf9739  | 31B61   | 1       |  0      |  0      | NA      | 0       | \n",
       "| 531 | t9134   | sf10071 | 15B71   | 2       |  0      |  0      | NA      | 0       | \n",
       "| 811 | t10152  | sf10560 | 60B78   | 3       |  0      |  0      | NA      | 0       | \n",
       "| 1701 | t11218  | sf11163 | 42B97   | 4       |  0      |  0      | NA      | 0       | \n",
       "| 2071 | t11482  | sf11334 | 15D1    | 2       | NA      |  0      | NA      | 0       | \n",
       "| 2391 | t11876  | sf11560 | 11560A0 | 3       |  0      |  0      |  0      | 0       | \n",
       "\n",
       "\n"
      ],
      "text/plain": [
       "     tnum   sfnum   vialID  index X.CEL X.NEL X.NEC sum\n",
       "22   t7584  sf8842  14B44   1      0     0    NA    0  \n",
       "28   t8070  sf7540  18B13   1      0    NA    NA    0  \n",
       "29   t8070  sf7540  26B13   2      0    NA    NA    0  \n",
       "55   t7555  sf8808  29B43   1      0     0    NA    0  \n",
       "58   t7555  sf8808  32B43   4      0     0    NA    0  \n",
       "77   t7227  sf8580  37B39   3      0     0    NA    0  \n",
       "117  t5550  sf7732  56B17   2      0     0    NA    0  \n",
       "140  t6929  sf8425  62B35   3      0     0    NA    0  \n",
       "143  t7225  sf8582  62B39   1      0     0    NA    0  \n",
       "144  t7225  sf8582  63B39   2      0     0    NA    0  \n",
       "174  t5577  sf7750  73B17   2      0     0     0    0  \n",
       "191  t5728  sf7818  76B19   2      0     0     0    0  \n",
       "194  t5880  sf7894  7894a   1      0     0     0    0  \n",
       "195  t5880  sf7894  7894b   2      0     0     0    0  \n",
       "219  t6296  sf8112  84B27   2      0     0     0    0  \n",
       "220  t7055  sf8491  8491B3  1      0     0    NA    0  \n",
       "221  t7055  sf8491  8491V1  2      0     0    NA    0  \n",
       "222  t7055  sf8491  8491Y2  3      0     0    NA    0  \n",
       "227  t5668  sf7793  87B18   3      0     0     0    0  \n",
       "231  t7628  sf8873  88B44   2      0     0    NA    0  \n",
       "240  t6495  sf8196  98B29   3      0     0    NA    0  \n",
       "510  t8783  sf9739  31B61   1      0     0    NA    0  \n",
       "531  t9134  sf10071 15B71   2      0     0    NA    0  \n",
       "811  t10152 sf10560 60B78   3      0     0    NA    0  \n",
       "1701 t11218 sf11163 42B97   4      0     0    NA    0  \n",
       "2071 t11482 sf11334 15D1    2     NA     0    NA    0  \n",
       "2391 t11876 sf11560 11560A0 3      0     0     0    0  "
      ]
     },
     "metadata": {},
     "output_type": "display_data"
    }
   ],
   "source": [
    "igtstats[which(igtstats$sum ==0),]"
   ]
  },
  {
   "cell_type": "markdown",
   "metadata": {},
   "source": [
    "## 4. Writing these out to different .csv files for inspection \n"
   ]
  },
  {
   "cell_type": "code",
   "execution_count": 20,
   "metadata": {
    "collapsed": true,
    "deletable": true,
    "editable": true
   },
   "outputs": [],
   "source": [
    "## I looked at some (t7055 & t5880) and it seems that these are just \n",
    "## poorly drawn ROIs, I'm wondering what to do with all that.. \n",
    "write.csv(igtstats[which(igtstats$sum ==0),], \"biopsies_outside_rois_to_check.csv\", row.names = F)"
   ]
  },
  {
   "cell_type": "code",
   "execution_count": 21,
   "metadata": {
    "collapsed": false,
    "deletable": true,
    "editable": true
   },
   "outputs": [],
   "source": [
    "## Looking at those with less than 100 %, let's see which ones are under 50 % and see what the problem might be there: \n",
    "write.csv(igtstats[which(igtstats$sum<50 & igtstats$sum>0),], \"biopsies_less50more0inROIs_to_check.csv\", row.names = F) \n",
    "write.csv(igtstats[which(igtstats$sum>50 & igtstats$sum<95),], \"biopsies_less95more50inROIs_to_check.csv\", row.names = F) \n"
   ]
  },
  {
   "cell_type": "markdown",
   "metadata": {
    "collapsed": true,
    "deletable": true,
    "editable": true
   },
   "source": [
    "## 5. Exploratory analysis for finding range of thresholds for assigning biopsies to CEL \n"
   ]
  },
  {
   "cell_type": "code",
   "execution_count": 22,
   "metadata": {
    "collapsed": false,
    "deletable": true,
    "editable": true
   },
   "outputs": [
    {
     "data": {
      "text/html": [
       "'/home/sf673542/DataWrangling/GetMergeData/July2018'"
      ],
      "text/latex": [
       "'/home/sf673542/DataWrangling/GetMergeData/July2018'"
      ],
      "text/markdown": [
       "'/home/sf673542/DataWrangling/GetMergeData/July2018'"
      ],
      "text/plain": [
       "[1] \"/home/sf673542/DataWrangling/GetMergeData/July2018\""
      ]
     },
     "metadata": {},
     "output_type": "display_data"
    }
   ],
   "source": [
    "getwd()"
   ]
  },
  {
   "cell_type": "code",
   "execution_count": 23,
   "metadata": {
    "collapsed": false,
    "deletable": true,
    "editable": true
   },
   "outputs": [],
   "source": [
    "rechgg_igtstats = read.csv(\"out_callIGTstats_rechgg.csv\")\n",
    "oldpo1_igtstats = read.csv(\"out_callIGTstats_old.csv\")"
   ]
  },
  {
   "cell_type": "code",
   "execution_count": 24,
   "metadata": {
    "collapsed": true,
    "deletable": true,
    "editable": true
   },
   "outputs": [],
   "source": [
    "igtstats = rbind(oldpo1_igtstats, rechgg_igtstats)\n",
    "sum_regions = c()\n",
    "for(i in 1:dim(igtstats)[1]){\n",
    "    if(is.na(igtstats$X.CEL[i]) & is.na(igtstats$X.NEL[i]) & is.na(igtstats$X.NEC[i])){\n",
    "        sum_regions[i]= NA\n",
    "    }\n",
    "    else if(is.na(igtstats$X.CEL[i]) & is.na(igtstats$X.NEL[i]) & !is.na(igtstats$X.NEC[i])){\n",
    "        sum_regions[i]=igtstats$X.NEC[i]\n",
    "    }\n",
    "    else if(is.na(igtstats$X.CEL[i]) & !is.na(igtstats$X.NEL[i]) & is.na(igtstats$X.NEC[i])){\n",
    "        sum_regions[i]=igtstats$X.NEL[i]\n",
    "    }\n",
    "    else if(!is.na(igtstats$X.CEL[i]) & is.na(igtstats$X.NEL[i]) & is.na(igtstats$X.NEC[i])){\n",
    "        sum_regions[i]=igtstats$X.CEL[i]\n",
    "    }\n",
    "    else if(!is.na(igtstats$X.CEL[i]) & !is.na(igtstats$X.NEL[i]) & is.na(igtstats$X.NEC[i])){\n",
    "        sum_regions[i]=igtstats$X.CEL[i]+igtstats$X.NEL[i]\n",
    "    }\n",
    "    else if(!is.na(igtstats$X.CEL[i]) & is.na(igtstats$X.NEL[i]) & !is.na(igtstats$X.NEC[i])){\n",
    "        sum_regions[i]=igtstats$X.CEL[i]+igtstats$X.NEC[i]\n",
    "    }\n",
    "    else if(is.na(igtstats$X.CEL[i]) & !is.na(igtstats$X.NEL[i]) & !is.na(igtstats$X.NEC[i])){\n",
    "        sum_regions[i]=igtstats$X.NEL[i]+igtstats$X.NEC[i]\n",
    "    }\n",
    "    else if(!is.na(igtstats$X.CEL[i]) & !is.na(igtstats$X.NEL[i]) & !is.na(igtstats$X.NEC[i])){\n",
    "        sum_regions[i]=igtstats$X.CEL[i]+igtstats$X.NEL[i]+igtstats$X.NEC[i]\n",
    "    }\n",
    "}\n",
    "igtstats = data.frame(igtstats, sum = sum_regions)"
   ]
  },
  {
   "cell_type": "code",
   "execution_count": 25,
   "metadata": {
    "collapsed": false,
    "deletable": true,
    "editable": true
   },
   "outputs": [],
   "source": [
    "igtstats = igtstats[-1,]"
   ]
  },
  {
   "cell_type": "code",
   "execution_count": 26,
   "metadata": {
    "collapsed": false,
    "deletable": true,
    "editable": true
   },
   "outputs": [
    {
     "data": {
      "text/html": [
       "<table>\n",
       "<thead><tr><th></th><th scope=col>tnum</th><th scope=col>sfnum</th><th scope=col>vialID</th><th scope=col>index</th><th scope=col>X.CEL</th><th scope=col>X.NEL</th><th scope=col>X.NEC</th><th scope=col>sum</th></tr></thead>\n",
       "<tbody>\n",
       "\t<tr><th scope=row>2</th><td>t6369 </td><td>sf8122</td><td>10B28 </td><td>1     </td><td> 53.85</td><td> 46.15</td><td>NA    </td><td>100.00</td></tr>\n",
       "\t<tr><th scope=row>3</th><td>t6369 </td><td>sf8122</td><td>17B28 </td><td>2     </td><td>  0.00</td><td>100.00</td><td>NA    </td><td>100.00</td></tr>\n",
       "\t<tr><th scope=row>4</th><td>t6369 </td><td>sf8122</td><td>3B28  </td><td>3     </td><td> 93.33</td><td>  6.67</td><td>NA    </td><td>100.00</td></tr>\n",
       "\t<tr><th scope=row>5</th><td>t5317 </td><td>sf7679</td><td>11B16 </td><td>1     </td><td>100.00</td><td>  0.00</td><td>NA    </td><td>100.00</td></tr>\n",
       "\t<tr><th scope=row>6</th><td>t5317 </td><td>sf7679</td><td>12B16 </td><td>2     </td><td>100.00</td><td>  0.00</td><td>NA    </td><td>100.00</td></tr>\n",
       "\t<tr><th scope=row>7</th><td>t7408 </td><td>sf8701</td><td>11B40 </td><td>1     </td><td>  8.70</td><td> 13.04</td><td>NA    </td><td> 21.74</td></tr>\n",
       "</tbody>\n",
       "</table>\n"
      ],
      "text/latex": [
       "\\begin{tabular}{r|llllllll}\n",
       "  & tnum & sfnum & vialID & index & X.CEL & X.NEL & X.NEC & sum\\\\\n",
       "\\hline\n",
       "\t2 & t6369  & sf8122 & 10B28  & 1      &  53.85 &  46.15 & NA     & 100.00\\\\\n",
       "\t3 & t6369  & sf8122 & 17B28  & 2      &   0.00 & 100.00 & NA     & 100.00\\\\\n",
       "\t4 & t6369  & sf8122 & 3B28   & 3      &  93.33 &   6.67 & NA     & 100.00\\\\\n",
       "\t5 & t5317  & sf7679 & 11B16  & 1      & 100.00 &   0.00 & NA     & 100.00\\\\\n",
       "\t6 & t5317  & sf7679 & 12B16  & 2      & 100.00 &   0.00 & NA     & 100.00\\\\\n",
       "\t7 & t7408  & sf8701 & 11B40  & 1      &   8.70 &  13.04 & NA     &  21.74\\\\\n",
       "\\end{tabular}\n"
      ],
      "text/markdown": [
       "\n",
       "| <!--/--> | tnum | sfnum | vialID | index | X.CEL | X.NEL | X.NEC | sum | \n",
       "|---|---|---|---|---|---|\n",
       "| 2 | t6369  | sf8122 | 10B28  | 1      |  53.85 |  46.15 | NA     | 100.00 | \n",
       "| 3 | t6369  | sf8122 | 17B28  | 2      |   0.00 | 100.00 | NA     | 100.00 | \n",
       "| 4 | t6369  | sf8122 | 3B28   | 3      |  93.33 |   6.67 | NA     | 100.00 | \n",
       "| 5 | t5317  | sf7679 | 11B16  | 1      | 100.00 |   0.00 | NA     | 100.00 | \n",
       "| 6 | t5317  | sf7679 | 12B16  | 2      | 100.00 |   0.00 | NA     | 100.00 | \n",
       "| 7 | t7408  | sf8701 | 11B40  | 1      |   8.70 |  13.04 | NA     |  21.74 | \n",
       "\n",
       "\n"
      ],
      "text/plain": [
       "  tnum  sfnum  vialID index X.CEL  X.NEL  X.NEC sum   \n",
       "2 t6369 sf8122 10B28  1      53.85  46.15 NA    100.00\n",
       "3 t6369 sf8122 17B28  2       0.00 100.00 NA    100.00\n",
       "4 t6369 sf8122 3B28   3      93.33   6.67 NA    100.00\n",
       "5 t5317 sf7679 11B16  1     100.00   0.00 NA    100.00\n",
       "6 t5317 sf7679 12B16  2     100.00   0.00 NA    100.00\n",
       "7 t7408 sf8701 11B40  1       8.70  13.04 NA     21.74"
      ]
     },
     "metadata": {},
     "output_type": "display_data"
    }
   ],
   "source": [
    "head(igtstats)"
   ]
  },
  {
   "cell_type": "code",
   "execution_count": 27,
   "metadata": {
    "collapsed": false,
    "deletable": true,
    "editable": true
   },
   "outputs": [
    {
     "data": {
      "text/plain": [
       "\n",
       "FALSE  TRUE \n",
       "  390    63 "
      ]
     },
     "metadata": {},
     "output_type": "display_data"
    }
   ],
   "source": [
    "table(igtstats$X.CEL==100)"
   ]
  },
  {
   "cell_type": "markdown",
   "metadata": {
    "deletable": true,
    "editable": true
   },
   "source": [
    "Here I want to look at the range of CEL values (t1v) of these particular cases so that I can use that for thresholding (if possible) ... so therefore I must read in the values from anat.csv"
   ]
  },
  {
   "cell_type": "code",
   "execution_count": 28,
   "metadata": {
    "collapsed": false,
    "deletable": true,
    "editable": true
   },
   "outputs": [
    {
     "data": {
      "text/html": [
       "<ol class=list-inline>\n",
       "\t<li>'b_number'</li>\n",
       "\t<li>'t_number'</li>\n",
       "\t<li>'sf_number'</li>\n",
       "\t<li>'current_scan_date'</li>\n",
       "\t<li>'current_surgery_date'</li>\n",
       "\t<li>'current_hist_grade'</li>\n",
       "\t<li>'current_hist_type'</li>\n",
       "\t<li>'roi.label'</li>\n",
       "\t<li>'tumor_cell_evaluation'</li>\n",
       "\t<li>'necrosis'</li>\n",
       "\t<li>'f8_delicate'</li>\n",
       "\t<li>'f8_simple'</li>\n",
       "\t<li>'f8_complex'</li>\n",
       "\t<li>'mib_1'</li>\n",
       "\t<li>'bx_pure_treatment_effect'</li>\n",
       "\t<li>'nfse'</li>\n",
       "\t<li>'nfl'</li>\n",
       "\t<li>'nt1c'</li>\n",
       "\t<li>'nt1v'</li>\n",
       "\t<li>'nadc.1'</li>\n",
       "\t<li>'nfa.1'</li>\n",
       "\t<li>'nev1.1'</li>\n",
       "\t<li>'nev2.1'</li>\n",
       "\t<li>'nev3.1'</li>\n",
       "\t<li>'nevrad.1'</li>\n",
       "\t<li>'nadc.2'</li>\n",
       "\t<li>'nfa.2'</li>\n",
       "\t<li>'nev1.2'</li>\n",
       "\t<li>'nev2.2'</li>\n",
       "\t<li>'nev3.2'</li>\n",
       "\t<li>'nevrad.2'</li>\n",
       "\t<li>'cbvn_nlin'</li>\n",
       "\t<li>'phn_npar'</li>\n",
       "\t<li>'recovn_npar'</li>\n",
       "\t<li>'cni'</li>\n",
       "\t<li>'ccri'</li>\n",
       "\t<li>'crni'</li>\n",
       "\t<li>'ncho'</li>\n",
       "\t<li>'ncre'</li>\n",
       "\t<li>'nnaa'</li>\n",
       "\t<li>'nlip'</li>\n",
       "\t<li>'nlac'</li>\n",
       "\t<li>'laclip'</li>\n",
       "\t<li>'olddata'</li>\n",
       "\t<li>'newdata'</li>\n",
       "</ol>\n"
      ],
      "text/latex": [
       "\\begin{enumerate*}\n",
       "\\item 'b\\_number'\n",
       "\\item 't\\_number'\n",
       "\\item 'sf\\_number'\n",
       "\\item 'current\\_scan\\_date'\n",
       "\\item 'current\\_surgery\\_date'\n",
       "\\item 'current\\_hist\\_grade'\n",
       "\\item 'current\\_hist\\_type'\n",
       "\\item 'roi.label'\n",
       "\\item 'tumor\\_cell\\_evaluation'\n",
       "\\item 'necrosis'\n",
       "\\item 'f8\\_delicate'\n",
       "\\item 'f8\\_simple'\n",
       "\\item 'f8\\_complex'\n",
       "\\item 'mib\\_1'\n",
       "\\item 'bx\\_pure\\_treatment\\_effect'\n",
       "\\item 'nfse'\n",
       "\\item 'nfl'\n",
       "\\item 'nt1c'\n",
       "\\item 'nt1v'\n",
       "\\item 'nadc.1'\n",
       "\\item 'nfa.1'\n",
       "\\item 'nev1.1'\n",
       "\\item 'nev2.1'\n",
       "\\item 'nev3.1'\n",
       "\\item 'nevrad.1'\n",
       "\\item 'nadc.2'\n",
       "\\item 'nfa.2'\n",
       "\\item 'nev1.2'\n",
       "\\item 'nev2.2'\n",
       "\\item 'nev3.2'\n",
       "\\item 'nevrad.2'\n",
       "\\item 'cbvn\\_nlin'\n",
       "\\item 'phn\\_npar'\n",
       "\\item 'recovn\\_npar'\n",
       "\\item 'cni'\n",
       "\\item 'ccri'\n",
       "\\item 'crni'\n",
       "\\item 'ncho'\n",
       "\\item 'ncre'\n",
       "\\item 'nnaa'\n",
       "\\item 'nlip'\n",
       "\\item 'nlac'\n",
       "\\item 'laclip'\n",
       "\\item 'olddata'\n",
       "\\item 'newdata'\n",
       "\\end{enumerate*}\n"
      ],
      "text/markdown": [
       "1. 'b_number'\n",
       "2. 't_number'\n",
       "3. 'sf_number'\n",
       "4. 'current_scan_date'\n",
       "5. 'current_surgery_date'\n",
       "6. 'current_hist_grade'\n",
       "7. 'current_hist_type'\n",
       "8. 'roi.label'\n",
       "9. 'tumor_cell_evaluation'\n",
       "10. 'necrosis'\n",
       "11. 'f8_delicate'\n",
       "12. 'f8_simple'\n",
       "13. 'f8_complex'\n",
       "14. 'mib_1'\n",
       "15. 'bx_pure_treatment_effect'\n",
       "16. 'nfse'\n",
       "17. 'nfl'\n",
       "18. 'nt1c'\n",
       "19. 'nt1v'\n",
       "20. 'nadc.1'\n",
       "21. 'nfa.1'\n",
       "22. 'nev1.1'\n",
       "23. 'nev2.1'\n",
       "24. 'nev3.1'\n",
       "25. 'nevrad.1'\n",
       "26. 'nadc.2'\n",
       "27. 'nfa.2'\n",
       "28. 'nev1.2'\n",
       "29. 'nev2.2'\n",
       "30. 'nev3.2'\n",
       "31. 'nevrad.2'\n",
       "32. 'cbvn_nlin'\n",
       "33. 'phn_npar'\n",
       "34. 'recovn_npar'\n",
       "35. 'cni'\n",
       "36. 'ccri'\n",
       "37. 'crni'\n",
       "38. 'ncho'\n",
       "39. 'ncre'\n",
       "40. 'nnaa'\n",
       "41. 'nlip'\n",
       "42. 'nlac'\n",
       "43. 'laclip'\n",
       "44. 'olddata'\n",
       "45. 'newdata'\n",
       "\n",
       "\n"
      ],
      "text/plain": [
       " [1] \"b_number\"                 \"t_number\"                \n",
       " [3] \"sf_number\"                \"current_scan_date\"       \n",
       " [5] \"current_surgery_date\"     \"current_hist_grade\"      \n",
       " [7] \"current_hist_type\"        \"roi.label\"               \n",
       " [9] \"tumor_cell_evaluation\"    \"necrosis\"                \n",
       "[11] \"f8_delicate\"              \"f8_simple\"               \n",
       "[13] \"f8_complex\"               \"mib_1\"                   \n",
       "[15] \"bx_pure_treatment_effect\" \"nfse\"                    \n",
       "[17] \"nfl\"                      \"nt1c\"                    \n",
       "[19] \"nt1v\"                     \"nadc.1\"                  \n",
       "[21] \"nfa.1\"                    \"nev1.1\"                  \n",
       "[23] \"nev2.1\"                   \"nev3.1\"                  \n",
       "[25] \"nevrad.1\"                 \"nadc.2\"                  \n",
       "[27] \"nfa.2\"                    \"nev1.2\"                  \n",
       "[29] \"nev2.2\"                   \"nev3.2\"                  \n",
       "[31] \"nevrad.2\"                 \"cbvn_nlin\"               \n",
       "[33] \"phn_npar\"                 \"recovn_npar\"             \n",
       "[35] \"cni\"                      \"ccri\"                    \n",
       "[37] \"crni\"                     \"ncho\"                    \n",
       "[39] \"ncre\"                     \"nnaa\"                    \n",
       "[41] \"nlip\"                     \"nlac\"                    \n",
       "[43] \"laclip\"                   \"olddata\"                 \n",
       "[45] \"newdata\"                 "
      ]
     },
     "metadata": {},
     "output_type": "display_data"
    }
   ],
   "source": [
    "data = read.csv(\"../../AnnotateData/Annot1_researchPath_withInVivoData.csv\")\n",
    "colnames(data)"
   ]
  },
  {
   "cell_type": "code",
   "execution_count": 29,
   "metadata": {
    "collapsed": false,
    "deletable": true,
    "editable": true
   },
   "outputs": [
    {
     "data": {
      "text/html": [
       "<ol class=list-inline>\n",
       "\t<li>639</li>\n",
       "\t<li>6</li>\n",
       "</ol>\n"
      ],
      "text/latex": [
       "\\begin{enumerate*}\n",
       "\\item 639\n",
       "\\item 6\n",
       "\\end{enumerate*}\n"
      ],
      "text/markdown": [
       "1. 639\n",
       "2. 6\n",
       "\n",
       "\n"
      ],
      "text/plain": [
       "[1] 639   6"
      ]
     },
     "metadata": {},
     "output_type": "display_data"
    }
   ],
   "source": [
    "anat_data = data[,c(\"t_number\",\"roi.label\",\"nfse\", \"nfl\", \"nt1c\", \"nt1v\")]\n",
    "dim(anat_data)"
   ]
  },
  {
   "cell_type": "code",
   "execution_count": 30,
   "metadata": {
    "collapsed": false,
    "deletable": true,
    "editable": true
   },
   "outputs": [
    {
     "name": "stderr",
     "output_type": "stream",
     "text": [
      "\n",
      "Attaching package: ‘dplyr’\n",
      "\n",
      "The following objects are masked from ‘package:stats’:\n",
      "\n",
      "    filter, lag\n",
      "\n",
      "The following objects are masked from ‘package:base’:\n",
      "\n",
      "    intersect, setdiff, setequal, union\n",
      "\n"
     ]
    }
   ],
   "source": [
    "library(dplyr)"
   ]
  },
  {
   "cell_type": "code",
   "execution_count": 31,
   "metadata": {
    "collapsed": false,
    "deletable": true,
    "editable": true
   },
   "outputs": [],
   "source": [
    "colnames(igtstats)[3]=\"roi.label\""
   ]
  },
  {
   "cell_type": "code",
   "execution_count": 32,
   "metadata": {
    "collapsed": false,
    "deletable": true,
    "editable": true
   },
   "outputs": [
    {
     "name": "stderr",
     "output_type": "stream",
     "text": [
      "Warning message:\n",
      "“Column `roi.label` joining factors with different levels, coercing to character vector”"
     ]
    }
   ],
   "source": [
    "data = full_join(anat_data, igtstats, by = \"roi.label\")"
   ]
  },
  {
   "cell_type": "code",
   "execution_count": 33,
   "metadata": {
    "collapsed": false,
    "deletable": true,
    "editable": true,
    "scrolled": false
   },
   "outputs": [
    {
     "data": {
      "text/html": [
       "<ol class=list-inline>\n",
       "\t<li>650</li>\n",
       "\t<li>13</li>\n",
       "</ol>\n"
      ],
      "text/latex": [
       "\\begin{enumerate*}\n",
       "\\item 650\n",
       "\\item 13\n",
       "\\end{enumerate*}\n"
      ],
      "text/markdown": [
       "1. 650\n",
       "2. 13\n",
       "\n",
       "\n"
      ],
      "text/plain": [
       "[1] 650  13"
      ]
     },
     "metadata": {},
     "output_type": "display_data"
    }
   ],
   "source": [
    "dim(data)"
   ]
  },
  {
   "cell_type": "code",
   "execution_count": 34,
   "metadata": {
    "collapsed": false,
    "deletable": true,
    "editable": true
   },
   "outputs": [
    {
     "data": {
      "text/html": [
       "<table>\n",
       "<thead><tr><th scope=col>t_number</th><th scope=col>roi.label</th><th scope=col>nfse</th><th scope=col>nfl</th><th scope=col>nt1c</th><th scope=col>nt1v</th><th scope=col>tnum</th><th scope=col>sfnum</th><th scope=col>index</th><th scope=col>X.CEL</th><th scope=col>X.NEL</th><th scope=col>X.NEC</th><th scope=col>sum</th></tr></thead>\n",
       "<tbody>\n",
       "\t<tr><td>6369  </td><td>10B28 </td><td>2.10  </td><td>1.84  </td><td>1.20  </td><td>0.84  </td><td>t6369 </td><td>sf8122</td><td> 1    </td><td> 53.85</td><td>46.15 </td><td>NA    </td><td>100.00</td></tr>\n",
       "\t<tr><td>5317  </td><td>11B16 </td><td>2.27  </td><td>1.44  </td><td>1.88  </td><td>0.78  </td><td>t5317 </td><td>sf7679</td><td> 1    </td><td>100.00</td><td> 0.00 </td><td>NA    </td><td>100.00</td></tr>\n",
       "\t<tr><td>8089  </td><td>11B35 </td><td>  NA  </td><td>  NA  </td><td>  NA  </td><td>  NA  </td><td>NA    </td><td>NA    </td><td>NA    </td><td>    NA</td><td>   NA </td><td>NA    </td><td>    NA</td></tr>\n",
       "\t<tr><td>7408  </td><td>11B40 </td><td>1.84  </td><td>1.13  </td><td>0.82  </td><td>0.79  </td><td>t7408 </td><td>sf8701</td><td> 1    </td><td>  8.70</td><td>13.04 </td><td>NA    </td><td> 21.74</td></tr>\n",
       "\t<tr><td>7540  </td><td>11B43 </td><td>2.35  </td><td>1.97  </td><td>0.76  </td><td>0.78  </td><td>t7540 </td><td>sf8796</td><td> 1    </td><td>  0.00</td><td>28.00 </td><td>NA    </td><td> 28.00</td></tr>\n",
       "\t<tr><td>5317  </td><td>12B16 </td><td>2.20  </td><td>1.56  </td><td>2.04  </td><td>0.74  </td><td>t5317 </td><td>sf7679</td><td> 2    </td><td>100.00</td><td> 0.00 </td><td>NA    </td><td>100.00</td></tr>\n",
       "</tbody>\n",
       "</table>\n"
      ],
      "text/latex": [
       "\\begin{tabular}{r|lllllllllllll}\n",
       " t\\_number & roi.label & nfse & nfl & nt1c & nt1v & tnum & sfnum & index & X.CEL & X.NEL & X.NEC & sum\\\\\n",
       "\\hline\n",
       "\t 6369   & 10B28  & 2.10   & 1.84   & 1.20   & 0.84   & t6369  & sf8122 &  1     &  53.85 & 46.15  & NA     & 100.00\\\\\n",
       "\t 5317   & 11B16  & 2.27   & 1.44   & 1.88   & 0.78   & t5317  & sf7679 &  1     & 100.00 &  0.00  & NA     & 100.00\\\\\n",
       "\t 8089   & 11B35  &   NA   &   NA   &   NA   &   NA   & NA     & NA     & NA     &     NA &    NA  & NA     &     NA\\\\\n",
       "\t 7408   & 11B40  & 1.84   & 1.13   & 0.82   & 0.79   & t7408  & sf8701 &  1     &   8.70 & 13.04  & NA     &  21.74\\\\\n",
       "\t 7540   & 11B43  & 2.35   & 1.97   & 0.76   & 0.78   & t7540  & sf8796 &  1     &   0.00 & 28.00  & NA     &  28.00\\\\\n",
       "\t 5317   & 12B16  & 2.20   & 1.56   & 2.04   & 0.74   & t5317  & sf7679 &  2     & 100.00 &  0.00  & NA     & 100.00\\\\\n",
       "\\end{tabular}\n"
      ],
      "text/markdown": [
       "\n",
       "t_number | roi.label | nfse | nfl | nt1c | nt1v | tnum | sfnum | index | X.CEL | X.NEL | X.NEC | sum | \n",
       "|---|---|---|---|---|---|\n",
       "| 6369   | 10B28  | 2.10   | 1.84   | 1.20   | 0.84   | t6369  | sf8122 |  1     |  53.85 | 46.15  | NA     | 100.00 | \n",
       "| 5317   | 11B16  | 2.27   | 1.44   | 1.88   | 0.78   | t5317  | sf7679 |  1     | 100.00 |  0.00  | NA     | 100.00 | \n",
       "| 8089   | 11B35  |   NA   |   NA   |   NA   |   NA   | NA     | NA     | NA     |     NA |    NA  | NA     |     NA | \n",
       "| 7408   | 11B40  | 1.84   | 1.13   | 0.82   | 0.79   | t7408  | sf8701 |  1     |   8.70 | 13.04  | NA     |  21.74 | \n",
       "| 7540   | 11B43  | 2.35   | 1.97   | 0.76   | 0.78   | t7540  | sf8796 |  1     |   0.00 | 28.00  | NA     |  28.00 | \n",
       "| 5317   | 12B16  | 2.20   | 1.56   | 2.04   | 0.74   | t5317  | sf7679 |  2     | 100.00 |  0.00  | NA     | 100.00 | \n",
       "\n",
       "\n"
      ],
      "text/plain": [
       "  t_number roi.label nfse nfl  nt1c nt1v tnum  sfnum  index X.CEL  X.NEL X.NEC\n",
       "1 6369     10B28     2.10 1.84 1.20 0.84 t6369 sf8122  1     53.85 46.15 NA   \n",
       "2 5317     11B16     2.27 1.44 1.88 0.78 t5317 sf7679  1    100.00  0.00 NA   \n",
       "3 8089     11B35       NA   NA   NA   NA NA    NA     NA        NA    NA NA   \n",
       "4 7408     11B40     1.84 1.13 0.82 0.79 t7408 sf8701  1      8.70 13.04 NA   \n",
       "5 7540     11B43     2.35 1.97 0.76 0.78 t7540 sf8796  1      0.00 28.00 NA   \n",
       "6 5317     12B16     2.20 1.56 2.04 0.74 t5317 sf7679  2    100.00  0.00 NA   \n",
       "  sum   \n",
       "1 100.00\n",
       "2 100.00\n",
       "3     NA\n",
       "4  21.74\n",
       "5  28.00\n",
       "6 100.00"
      ]
     },
     "metadata": {},
     "output_type": "display_data"
    }
   ],
   "source": [
    "head(data)"
   ]
  },
  {
   "cell_type": "markdown",
   "metadata": {
    "deletable": true,
    "editable": true
   },
   "source": [
    "We want to know the range of the CEL values for those completely in the CEL region versus completely in the NEL. "
   ]
  },
  {
   "cell_type": "code",
   "execution_count": 35,
   "metadata": {
    "collapsed": false,
    "deletable": true,
    "editable": true
   },
   "outputs": [
    {
     "data": {
      "text/plain": [
       "\n",
       "FALSE  TRUE \n",
       "  381    76 "
      ]
     },
     "metadata": {},
     "output_type": "display_data"
    },
    {
     "data": {
      "text/plain": [
       "\n",
       "FALSE  TRUE \n",
       "  396    73 "
      ]
     },
     "metadata": {},
     "output_type": "display_data"
    },
    {
     "data": {
      "text/plain": [
       "\n",
       "FALSE  TRUE \n",
       "  133    11 "
      ]
     },
     "metadata": {},
     "output_type": "display_data"
    }
   ],
   "source": [
    "table(data$X.CEL>95 & data$X.CEL < 105)\n",
    "table(data$X.NEL>95 & data$X.NEL < 105)\n",
    "table(data$X.NEC>50 & data$X.NEC < 105)"
   ]
  },
  {
   "cell_type": "code",
   "execution_count": 36,
   "metadata": {
    "collapsed": true,
    "deletable": true,
    "editable": true
   },
   "outputs": [],
   "source": [
    "cel_t1c_vals = data$nt1c[data$X.CEL>95 & data$X.CEL < 105]\n",
    "nel_t1c_vals = data$nt1c[data$X.NEL>95 & data$X.NEL < 105]\n",
    "\n"
   ]
  },
  {
   "cell_type": "code",
   "execution_count": 37,
   "metadata": {
    "collapsed": false,
    "deletable": true,
    "editable": true
   },
   "outputs": [
    {
     "data": {
      "text/plain": [
       "   Min. 1st Qu.  Median    Mean 3rd Qu.    Max.    NA's \n",
       "  0.940   1.488   1.850   1.928   2.342   3.370     193 "
      ]
     },
     "metadata": {},
     "output_type": "display_data"
    },
    {
     "data": {
      "text/plain": [
       "   Min. 1st Qu.  Median    Mean 3rd Qu.    Max.    NA's \n",
       " 0.5300  0.7100  0.8400  0.8532  0.9500  1.4700     185 "
      ]
     },
     "metadata": {},
     "output_type": "display_data"
    },
    {
     "data": {
      "text/html": [
       "<dl class=dl-horizontal>\n",
       "\t<dt>10%</dt>\n",
       "\t\t<dd>1.255</dd>\n",
       "\t<dt>20%</dt>\n",
       "\t\t<dd>1.35</dd>\n",
       "\t<dt>30%</dt>\n",
       "\t\t<dd>1.565</dd>\n",
       "</dl>\n"
      ],
      "text/latex": [
       "\\begin{description*}\n",
       "\\item[10\\textbackslash{}\\%] 1.255\n",
       "\\item[20\\textbackslash{}\\%] 1.35\n",
       "\\item[30\\textbackslash{}\\%] 1.565\n",
       "\\end{description*}\n"
      ],
      "text/markdown": [
       "10%\n",
       ":   1.25520%\n",
       ":   1.3530%\n",
       ":   1.565\n",
       "\n"
      ],
      "text/plain": [
       "  10%   20%   30% \n",
       "1.255 1.350 1.565 "
      ]
     },
     "metadata": {},
     "output_type": "display_data"
    }
   ],
   "source": [
    "summary(cel_t1c_vals)\n",
    "summary(nel_t1c_vals)\n",
    "\n",
    "quantile(cel_t1c_vals, c(.1, .2, .3), na.rm=T)"
   ]
  },
  {
   "cell_type": "code",
   "execution_count": 38,
   "metadata": {
    "collapsed": true,
    "deletable": true,
    "editable": true
   },
   "outputs": [],
   "source": [
    "cel_fl_vals = data$nfl[data$X.CEL>95 & data$X.CEL < 105]\n",
    "nel_fl_vals = data$nfl[data$X.NEL>95 & data$X.NEL < 105]"
   ]
  },
  {
   "cell_type": "code",
   "execution_count": 39,
   "metadata": {
    "collapsed": false,
    "deletable": true,
    "editable": true
   },
   "outputs": [
    {
     "data": {
      "text/plain": [
       "   Min. 1st Qu.  Median    Mean 3rd Qu.    Max.    NA's \n",
       "  1.050   1.502   1.650   1.754   1.940   2.950     193 "
      ]
     },
     "metadata": {},
     "output_type": "display_data"
    },
    {
     "data": {
      "text/plain": [
       "   Min. 1st Qu.  Median    Mean 3rd Qu.    Max.    NA's \n",
       "  1.100   1.740   1.990   2.011   2.180   3.880     185 "
      ]
     },
     "metadata": {},
     "output_type": "display_data"
    }
   ],
   "source": [
    "summary(cel_fl_vals)\n",
    "summary(nel_fl_vals)"
   ]
  },
  {
   "cell_type": "markdown",
   "metadata": {
    "deletable": true,
    "editable": true
   },
   "source": [
    "### Accounting for multiple samples per patient in this comparison: "
   ]
  },
  {
   "cell_type": "code",
   "execution_count": 40,
   "metadata": {
    "collapsed": false,
    "deletable": true,
    "editable": true
   },
   "outputs": [
    {
     "data": {
      "text/html": [
       "<ol class=list-inline>\n",
       "\t<li>'t_number'</li>\n",
       "\t<li>'roi.label'</li>\n",
       "\t<li>'nfse'</li>\n",
       "\t<li>'nfl'</li>\n",
       "\t<li>'nt1c'</li>\n",
       "\t<li>'nt1v'</li>\n",
       "\t<li>'tnum'</li>\n",
       "\t<li>'sfnum'</li>\n",
       "\t<li>'index'</li>\n",
       "\t<li>'X.CEL'</li>\n",
       "\t<li>'X.NEL'</li>\n",
       "\t<li>'X.NEC'</li>\n",
       "\t<li>'sum'</li>\n",
       "</ol>\n"
      ],
      "text/latex": [
       "\\begin{enumerate*}\n",
       "\\item 't\\_number'\n",
       "\\item 'roi.label'\n",
       "\\item 'nfse'\n",
       "\\item 'nfl'\n",
       "\\item 'nt1c'\n",
       "\\item 'nt1v'\n",
       "\\item 'tnum'\n",
       "\\item 'sfnum'\n",
       "\\item 'index'\n",
       "\\item 'X.CEL'\n",
       "\\item 'X.NEL'\n",
       "\\item 'X.NEC'\n",
       "\\item 'sum'\n",
       "\\end{enumerate*}\n"
      ],
      "text/markdown": [
       "1. 't_number'\n",
       "2. 'roi.label'\n",
       "3. 'nfse'\n",
       "4. 'nfl'\n",
       "5. 'nt1c'\n",
       "6. 'nt1v'\n",
       "7. 'tnum'\n",
       "8. 'sfnum'\n",
       "9. 'index'\n",
       "10. 'X.CEL'\n",
       "11. 'X.NEL'\n",
       "12. 'X.NEC'\n",
       "13. 'sum'\n",
       "\n",
       "\n"
      ],
      "text/plain": [
       " [1] \"t_number\"  \"roi.label\" \"nfse\"      \"nfl\"       \"nt1c\"      \"nt1v\"     \n",
       " [7] \"tnum\"      \"sfnum\"     \"index\"     \"X.CEL\"     \"X.NEL\"     \"X.NEC\"    \n",
       "[13] \"sum\"      "
      ]
     },
     "metadata": {},
     "output_type": "display_data"
    }
   ],
   "source": [
    "colnames(data)"
   ]
  },
  {
   "cell_type": "code",
   "execution_count": 41,
   "metadata": {
    "collapsed": false,
    "deletable": true,
    "editable": true
   },
   "outputs": [
    {
     "data": {
      "text/html": [
       "<ol class=list-inline>\n",
       "\t<li>76</li>\n",
       "\t<li>4</li>\n",
       "</ol>\n"
      ],
      "text/latex": [
       "\\begin{enumerate*}\n",
       "\\item 76\n",
       "\\item 4\n",
       "\\end{enumerate*}\n"
      ],
      "text/markdown": [
       "1. 76\n",
       "2. 4\n",
       "\n",
       "\n"
      ],
      "text/plain": [
       "[1] 76  4"
      ]
     },
     "metadata": {},
     "output_type": "display_data"
    },
    {
     "data": {
      "text/html": [
       "<table>\n",
       "<thead><tr><th></th><th scope=col>t_number</th><th scope=col>roi.label</th><th scope=col>nt1c</th><th scope=col>X.CEL</th></tr></thead>\n",
       "<tbody>\n",
       "\t<tr><th scope=row>2</th><td> 5317 </td><td>11B16 </td><td>1.88  </td><td>100.00</td></tr>\n",
       "\t<tr><th scope=row>6</th><td> 5317 </td><td>12B16 </td><td>2.04  </td><td>100.00</td></tr>\n",
       "\t<tr><th scope=row>8</th><td> 6367 </td><td>12B26 </td><td>0.94  </td><td>100.00</td></tr>\n",
       "\t<tr><th scope=row>33</th><td> 5603 </td><td>21B18 </td><td>1.63  </td><td>100.00</td></tr>\n",
       "\t<tr><th scope=row>50</th><td> 6367 </td><td>29B26 </td><td>1.05  </td><td>100.00</td></tr>\n",
       "\t<tr><th scope=row>61</th><td> 5682 </td><td>31B19 </td><td>1.67  </td><td>100.00</td></tr>\n",
       "\t<tr><th scope=row>63</th><td> 6313 </td><td>31B27 </td><td>1.83  </td><td>100.00</td></tr>\n",
       "\t<tr><th scope=row>64</th><td> 7555 </td><td>31B43 </td><td>1.70  </td><td>100.00</td></tr>\n",
       "\t<tr><th scope=row>83</th><td> 5365 </td><td>38B16 </td><td>1.72  </td><td>100.00</td></tr>\n",
       "\t<tr><th scope=row>92</th><td> 6415 </td><td>3B29  </td><td>1.21  </td><td> 95.24</td></tr>\n",
       "\t<tr><th scope=row>94</th><td> 5681 </td><td>40B19 </td><td>2.05  </td><td>100.00</td></tr>\n",
       "\t<tr><th scope=row>116</th><td> 7759 </td><td>51B46 </td><td>1.28  </td><td>100.00</td></tr>\n",
       "\t<tr><th scope=row>120</th><td> 7759 </td><td>52B46 </td><td>1.72  </td><td> 95.74</td></tr>\n",
       "\t<tr><th scope=row>122</th><td> 6619 </td><td>53B31 </td><td>2.30  </td><td> 96.55</td></tr>\n",
       "\t<tr><th scope=row>134</th><td> 6604 </td><td>58B31 </td><td>2.34  </td><td>100.00</td></tr>\n",
       "\t<tr><th scope=row>137</th><td> 6604 </td><td>59B31 </td><td>2.24  </td><td>100.00</td></tr>\n",
       "\t<tr><th scope=row>138</th><td> 7768 </td><td>59B46 </td><td>1.25  </td><td>100.00</td></tr>\n",
       "\t<tr><th scope=row>143</th><td> 6285 </td><td>60B27 </td><td>0.94  </td><td>100.00</td></tr>\n",
       "\t<tr><th scope=row>160</th><td> 6472 </td><td>64B29 </td><td>1.41  </td><td> 96.43</td></tr>\n",
       "\t<tr><th scope=row>161</th><td> 7556 </td><td>64B43 </td><td>2.14  </td><td>100.00</td></tr>\n",
       "\t<tr><th scope=row>170</th><td> 4966 </td><td>68B12 </td><td>2.40  </td><td>100.00</td></tr>\n",
       "\t<tr><th scope=row>179</th><td> 6630 </td><td>70B31 </td><td>1.72  </td><td>100.00</td></tr>\n",
       "\t<tr><th scope=row>180</th><td> 6771 </td><td>70B33 </td><td>1.54  </td><td>100.00</td></tr>\n",
       "\t<tr><th scope=row>183</th><td> 6386 </td><td>71B28 </td><td>2.84  </td><td>100.00</td></tr>\n",
       "\t<tr><th scope=row>187</th><td> 6386 </td><td>72B28 </td><td>2.91  </td><td>100.00</td></tr>\n",
       "\t<tr><th scope=row>190</th><td> 5944 </td><td>73B22 </td><td>2.50  </td><td>100.00</td></tr>\n",
       "\t<tr><th scope=row>197</th><td> 6707 </td><td>74B31 </td><td>1.91  </td><td>100.00</td></tr>\n",
       "\t<tr><th scope=row>199</th><td> 5728 </td><td>75B19 </td><td>2.51  </td><td>100.00</td></tr>\n",
       "\t<tr><th scope=row>215</th><td> 5819 </td><td>7B21  </td><td>1.12  </td><td>100.00</td></tr>\n",
       "\t<tr><th scope=row>218</th><td> 6367 </td><td>7B26  </td><td>0.97  </td><td>100.00</td></tr>\n",
       "\t<tr><th scope=row>225</th><td> 6038 </td><td>81B23 </td><td>1.76  </td><td> 96.43</td></tr>\n",
       "\t<tr><th scope=row>246</th><td> 5365 </td><td>83B16 </td><td>1.72  </td><td>100.00</td></tr>\n",
       "\t<tr><th scope=row>248</th><td> 6114 </td><td>83B24 </td><td>1.39  </td><td>100.00</td></tr>\n",
       "\t<tr><th scope=row>251</th><td> 7417 </td><td>83B41 </td><td>1.85  </td><td>100.00</td></tr>\n",
       "\t<tr><th scope=row>261</th><td> 6313 </td><td>85B27 </td><td>1.85  </td><td>100.00</td></tr>\n",
       "\t<tr><th scope=row>313</th><td> 6144 </td><td>9B25  </td><td>0.94  </td><td>100.00</td></tr>\n",
       "\t<tr><th scope=row>326</th><td> 8783 </td><td>33B61 </td><td>1.92  </td><td>100.00</td></tr>\n",
       "\t<tr><th scope=row>327</th><td> 8869 </td><td>65B60 </td><td>2.57  </td><td>100.00</td></tr>\n",
       "\t<tr><th scope=row>334</th><td> 8943 </td><td>66B63 </td><td>1.51  </td><td> 95.12</td></tr>\n",
       "\t<tr><th scope=row>335</th><td> 8943 </td><td>67B63 </td><td>2.65  </td><td>100.00</td></tr>\n",
       "\t<tr><th scope=row>341</th><td> 8960 </td><td>88B63 </td><td>1.30  </td><td>100.00</td></tr>\n",
       "\t<tr><th scope=row>364</th><td> 9084 </td><td>82B66 </td><td>2.35  </td><td> 95.56</td></tr>\n",
       "\t<tr><th scope=row>382</th><td> 9213 </td><td>47B74 </td><td>1.29  </td><td>100.00</td></tr>\n",
       "\t<tr><th scope=row>384</th><td> 9213 </td><td>49B74 </td><td>1.32  </td><td> 95.74</td></tr>\n",
       "\t<tr><th scope=row>385</th><td> 9213 </td><td>49B74 </td><td>1.32  </td><td> 95.74</td></tr>\n",
       "\t<tr><th scope=row>397</th><td> 9406 </td><td>38B75 </td><td>2.06  </td><td>100.00</td></tr>\n",
       "\t<tr><th scope=row>410</th><td> 9586 </td><td>10B77 </td><td>1.26  </td><td>100.00</td></tr>\n",
       "\t<tr><th scope=row>411</th><td> 9586 </td><td>11B77 </td><td>1.67  </td><td>100.00</td></tr>\n",
       "\t<tr><th scope=row>413</th><td> 9586 </td><td>13B77 </td><td>1.56  </td><td>100.00</td></tr>\n",
       "\t<tr><th scope=row>430</th><td> 9971 </td><td>41B78 </td><td>2.11  </td><td>100.00</td></tr>\n",
       "\t<tr><th scope=row>431</th><td> 9971 </td><td>42B78 </td><td>2.45  </td><td>100.00</td></tr>\n",
       "\t<tr><th scope=row>433</th><td>10152 </td><td>59B78 </td><td>3.21  </td><td>100.00</td></tr>\n",
       "\t<tr><th scope=row>436</th><td>10160 </td><td>65B80 </td><td>2.83  </td><td>100.00</td></tr>\n",
       "\t<tr><th scope=row>437</th><td>10160 </td><td>66B80 </td><td>2.33  </td><td>100.00</td></tr>\n",
       "\t<tr><th scope=row>438</th><td>10160 </td><td>67B80 </td><td>3.08  </td><td>100.00</td></tr>\n",
       "\t<tr><th scope=row>441</th><td>10202 </td><td>15B90 </td><td>1.26  </td><td>100.00</td></tr>\n",
       "\t<tr><th scope=row>442</th><td>10218 </td><td>23B90 </td><td>3.37  </td><td>100.00</td></tr>\n",
       "\t<tr><th scope=row>443</th><td>10218 </td><td>24B90 </td><td>2.72  </td><td>100.00</td></tr>\n",
       "\t<tr><th scope=row>445</th><td>10218 </td><td>26B90 </td><td>2.91  </td><td>100.00</td></tr>\n",
       "\t<tr><th scope=row>449</th><td>10242 </td><td>2B81  </td><td>1.88  </td><td>100.00</td></tr>\n",
       "\t<tr><th scope=row>454</th><td>10251 </td><td>13B81 </td><td>2.33  </td><td>100.00</td></tr>\n",
       "\t<tr><th scope=row>459</th><td>10343 </td><td>25B81 </td><td>2.41  </td><td>100.00</td></tr>\n",
       "\t<tr><th scope=row>469</th><td>10448 </td><td>29B82 </td><td>1.80  </td><td>100.00</td></tr>\n",
       "\t<tr><th scope=row>491</th><td>10708 </td><td>50B91 </td><td>1.35  </td><td>100.00</td></tr>\n",
       "\t<tr><th scope=row>492</th><td>10708 </td><td>51B91 </td><td>1.50  </td><td>100.00</td></tr>\n",
       "\t<tr><th scope=row>493</th><td>10708 </td><td>52B91 </td><td>1.57  </td><td>100.00</td></tr>\n",
       "\t<tr><th scope=row>508</th><td>10770 </td><td>83B91 </td><td>1.93  </td><td> 97.87</td></tr>\n",
       "\t<tr><th scope=row>509</th><td>10770 </td><td>84B91 </td><td>1.67  </td><td>100.00</td></tr>\n",
       "\t<tr><th scope=row>521</th><td>10793 </td><td>13B92 </td><td>2.76  </td><td>100.00</td></tr>\n",
       "\t<tr><th scope=row>536</th><td>11218 </td><td>39B97 </td><td>2.55  </td><td> 95.56</td></tr>\n",
       "\t<tr><th scope=row>548</th><td>11323 </td><td>53B97 </td><td>2.03  </td><td> 95.56</td></tr>\n",
       "\t<tr><th scope=row>556</th><td>11382 </td><td>63B97 </td><td>2.25  </td><td>100.00</td></tr>\n",
       "\t<tr><th scope=row>583</th><td>11506 </td><td>20D1  </td><td>3.06  </td><td>100.00</td></tr>\n",
       "\t<tr><th scope=row>625</th><td>12072 </td><td>82D3  </td><td>1.57  </td><td> 97.78</td></tr>\n",
       "\t<tr><th scope=row>629</th><td>12095 </td><td>38D5  </td><td>1.45  </td><td>100.00</td></tr>\n",
       "\t<tr><th scope=row>633</th><td>12105 </td><td>42D5  </td><td>2.10  </td><td>100.00</td></tr>\n",
       "</tbody>\n",
       "</table>\n"
      ],
      "text/latex": [
       "\\begin{tabular}{r|llll}\n",
       "  & t\\_number & roi.label & nt1c & X.CEL\\\\\n",
       "\\hline\n",
       "\t2 &  5317  & 11B16  & 1.88   & 100.00\\\\\n",
       "\t6 &  5317  & 12B16  & 2.04   & 100.00\\\\\n",
       "\t8 &  6367  & 12B26  & 0.94   & 100.00\\\\\n",
       "\t33 &  5603  & 21B18  & 1.63   & 100.00\\\\\n",
       "\t50 &  6367  & 29B26  & 1.05   & 100.00\\\\\n",
       "\t61 &  5682  & 31B19  & 1.67   & 100.00\\\\\n",
       "\t63 &  6313  & 31B27  & 1.83   & 100.00\\\\\n",
       "\t64 &  7555  & 31B43  & 1.70   & 100.00\\\\\n",
       "\t83 &  5365  & 38B16  & 1.72   & 100.00\\\\\n",
       "\t92 &  6415  & 3B29   & 1.21   &  95.24\\\\\n",
       "\t94 &  5681  & 40B19  & 2.05   & 100.00\\\\\n",
       "\t116 &  7759  & 51B46  & 1.28   & 100.00\\\\\n",
       "\t120 &  7759  & 52B46  & 1.72   &  95.74\\\\\n",
       "\t122 &  6619  & 53B31  & 2.30   &  96.55\\\\\n",
       "\t134 &  6604  & 58B31  & 2.34   & 100.00\\\\\n",
       "\t137 &  6604  & 59B31  & 2.24   & 100.00\\\\\n",
       "\t138 &  7768  & 59B46  & 1.25   & 100.00\\\\\n",
       "\t143 &  6285  & 60B27  & 0.94   & 100.00\\\\\n",
       "\t160 &  6472  & 64B29  & 1.41   &  96.43\\\\\n",
       "\t161 &  7556  & 64B43  & 2.14   & 100.00\\\\\n",
       "\t170 &  4966  & 68B12  & 2.40   & 100.00\\\\\n",
       "\t179 &  6630  & 70B31  & 1.72   & 100.00\\\\\n",
       "\t180 &  6771  & 70B33  & 1.54   & 100.00\\\\\n",
       "\t183 &  6386  & 71B28  & 2.84   & 100.00\\\\\n",
       "\t187 &  6386  & 72B28  & 2.91   & 100.00\\\\\n",
       "\t190 &  5944  & 73B22  & 2.50   & 100.00\\\\\n",
       "\t197 &  6707  & 74B31  & 1.91   & 100.00\\\\\n",
       "\t199 &  5728  & 75B19  & 2.51   & 100.00\\\\\n",
       "\t215 &  5819  & 7B21   & 1.12   & 100.00\\\\\n",
       "\t218 &  6367  & 7B26   & 0.97   & 100.00\\\\\n",
       "\t225 &  6038  & 81B23  & 1.76   &  96.43\\\\\n",
       "\t246 &  5365  & 83B16  & 1.72   & 100.00\\\\\n",
       "\t248 &  6114  & 83B24  & 1.39   & 100.00\\\\\n",
       "\t251 &  7417  & 83B41  & 1.85   & 100.00\\\\\n",
       "\t261 &  6313  & 85B27  & 1.85   & 100.00\\\\\n",
       "\t313 &  6144  & 9B25   & 0.94   & 100.00\\\\\n",
       "\t326 &  8783  & 33B61  & 1.92   & 100.00\\\\\n",
       "\t327 &  8869  & 65B60  & 2.57   & 100.00\\\\\n",
       "\t334 &  8943  & 66B63  & 1.51   &  95.12\\\\\n",
       "\t335 &  8943  & 67B63  & 2.65   & 100.00\\\\\n",
       "\t341 &  8960  & 88B63  & 1.30   & 100.00\\\\\n",
       "\t364 &  9084  & 82B66  & 2.35   &  95.56\\\\\n",
       "\t382 &  9213  & 47B74  & 1.29   & 100.00\\\\\n",
       "\t384 &  9213  & 49B74  & 1.32   &  95.74\\\\\n",
       "\t385 &  9213  & 49B74  & 1.32   &  95.74\\\\\n",
       "\t397 &  9406  & 38B75  & 2.06   & 100.00\\\\\n",
       "\t410 &  9586  & 10B77  & 1.26   & 100.00\\\\\n",
       "\t411 &  9586  & 11B77  & 1.67   & 100.00\\\\\n",
       "\t413 &  9586  & 13B77  & 1.56   & 100.00\\\\\n",
       "\t430 &  9971  & 41B78  & 2.11   & 100.00\\\\\n",
       "\t431 &  9971  & 42B78  & 2.45   & 100.00\\\\\n",
       "\t433 & 10152  & 59B78  & 3.21   & 100.00\\\\\n",
       "\t436 & 10160  & 65B80  & 2.83   & 100.00\\\\\n",
       "\t437 & 10160  & 66B80  & 2.33   & 100.00\\\\\n",
       "\t438 & 10160  & 67B80  & 3.08   & 100.00\\\\\n",
       "\t441 & 10202  & 15B90  & 1.26   & 100.00\\\\\n",
       "\t442 & 10218  & 23B90  & 3.37   & 100.00\\\\\n",
       "\t443 & 10218  & 24B90  & 2.72   & 100.00\\\\\n",
       "\t445 & 10218  & 26B90  & 2.91   & 100.00\\\\\n",
       "\t449 & 10242  & 2B81   & 1.88   & 100.00\\\\\n",
       "\t454 & 10251  & 13B81  & 2.33   & 100.00\\\\\n",
       "\t459 & 10343  & 25B81  & 2.41   & 100.00\\\\\n",
       "\t469 & 10448  & 29B82  & 1.80   & 100.00\\\\\n",
       "\t491 & 10708  & 50B91  & 1.35   & 100.00\\\\\n",
       "\t492 & 10708  & 51B91  & 1.50   & 100.00\\\\\n",
       "\t493 & 10708  & 52B91  & 1.57   & 100.00\\\\\n",
       "\t508 & 10770  & 83B91  & 1.93   &  97.87\\\\\n",
       "\t509 & 10770  & 84B91  & 1.67   & 100.00\\\\\n",
       "\t521 & 10793  & 13B92  & 2.76   & 100.00\\\\\n",
       "\t536 & 11218  & 39B97  & 2.55   &  95.56\\\\\n",
       "\t548 & 11323  & 53B97  & 2.03   &  95.56\\\\\n",
       "\t556 & 11382  & 63B97  & 2.25   & 100.00\\\\\n",
       "\t583 & 11506  & 20D1   & 3.06   & 100.00\\\\\n",
       "\t625 & 12072  & 82D3   & 1.57   &  97.78\\\\\n",
       "\t629 & 12095  & 38D5   & 1.45   & 100.00\\\\\n",
       "\t633 & 12105  & 42D5   & 2.10   & 100.00\\\\\n",
       "\\end{tabular}\n"
      ],
      "text/markdown": [
       "\n",
       "| <!--/--> | t_number | roi.label | nt1c | X.CEL | \n",
       "|---|---|---|---|---|---|---|---|---|---|---|---|---|---|---|---|---|---|---|---|---|---|---|---|---|---|---|---|---|---|---|---|---|---|---|---|---|---|---|---|---|---|---|---|---|---|---|---|---|---|---|---|---|---|---|---|---|---|---|---|---|---|---|---|---|---|---|---|---|---|---|---|---|---|---|---|\n",
       "| 2 |  5317  | 11B16  | 1.88   | 100.00 | \n",
       "| 6 |  5317  | 12B16  | 2.04   | 100.00 | \n",
       "| 8 |  6367  | 12B26  | 0.94   | 100.00 | \n",
       "| 33 |  5603  | 21B18  | 1.63   | 100.00 | \n",
       "| 50 |  6367  | 29B26  | 1.05   | 100.00 | \n",
       "| 61 |  5682  | 31B19  | 1.67   | 100.00 | \n",
       "| 63 |  6313  | 31B27  | 1.83   | 100.00 | \n",
       "| 64 |  7555  | 31B43  | 1.70   | 100.00 | \n",
       "| 83 |  5365  | 38B16  | 1.72   | 100.00 | \n",
       "| 92 |  6415  | 3B29   | 1.21   |  95.24 | \n",
       "| 94 |  5681  | 40B19  | 2.05   | 100.00 | \n",
       "| 116 |  7759  | 51B46  | 1.28   | 100.00 | \n",
       "| 120 |  7759  | 52B46  | 1.72   |  95.74 | \n",
       "| 122 |  6619  | 53B31  | 2.30   |  96.55 | \n",
       "| 134 |  6604  | 58B31  | 2.34   | 100.00 | \n",
       "| 137 |  6604  | 59B31  | 2.24   | 100.00 | \n",
       "| 138 |  7768  | 59B46  | 1.25   | 100.00 | \n",
       "| 143 |  6285  | 60B27  | 0.94   | 100.00 | \n",
       "| 160 |  6472  | 64B29  | 1.41   |  96.43 | \n",
       "| 161 |  7556  | 64B43  | 2.14   | 100.00 | \n",
       "| 170 |  4966  | 68B12  | 2.40   | 100.00 | \n",
       "| 179 |  6630  | 70B31  | 1.72   | 100.00 | \n",
       "| 180 |  6771  | 70B33  | 1.54   | 100.00 | \n",
       "| 183 |  6386  | 71B28  | 2.84   | 100.00 | \n",
       "| 187 |  6386  | 72B28  | 2.91   | 100.00 | \n",
       "| 190 |  5944  | 73B22  | 2.50   | 100.00 | \n",
       "| 197 |  6707  | 74B31  | 1.91   | 100.00 | \n",
       "| 199 |  5728  | 75B19  | 2.51   | 100.00 | \n",
       "| 215 |  5819  | 7B21   | 1.12   | 100.00 | \n",
       "| 218 |  6367  | 7B26   | 0.97   | 100.00 | \n",
       "| 225 |  6038  | 81B23  | 1.76   |  96.43 | \n",
       "| 246 |  5365  | 83B16  | 1.72   | 100.00 | \n",
       "| 248 |  6114  | 83B24  | 1.39   | 100.00 | \n",
       "| 251 |  7417  | 83B41  | 1.85   | 100.00 | \n",
       "| 261 |  6313  | 85B27  | 1.85   | 100.00 | \n",
       "| 313 |  6144  | 9B25   | 0.94   | 100.00 | \n",
       "| 326 |  8783  | 33B61  | 1.92   | 100.00 | \n",
       "| 327 |  8869  | 65B60  | 2.57   | 100.00 | \n",
       "| 334 |  8943  | 66B63  | 1.51   |  95.12 | \n",
       "| 335 |  8943  | 67B63  | 2.65   | 100.00 | \n",
       "| 341 |  8960  | 88B63  | 1.30   | 100.00 | \n",
       "| 364 |  9084  | 82B66  | 2.35   |  95.56 | \n",
       "| 382 |  9213  | 47B74  | 1.29   | 100.00 | \n",
       "| 384 |  9213  | 49B74  | 1.32   |  95.74 | \n",
       "| 385 |  9213  | 49B74  | 1.32   |  95.74 | \n",
       "| 397 |  9406  | 38B75  | 2.06   | 100.00 | \n",
       "| 410 |  9586  | 10B77  | 1.26   | 100.00 | \n",
       "| 411 |  9586  | 11B77  | 1.67   | 100.00 | \n",
       "| 413 |  9586  | 13B77  | 1.56   | 100.00 | \n",
       "| 430 |  9971  | 41B78  | 2.11   | 100.00 | \n",
       "| 431 |  9971  | 42B78  | 2.45   | 100.00 | \n",
       "| 433 | 10152  | 59B78  | 3.21   | 100.00 | \n",
       "| 436 | 10160  | 65B80  | 2.83   | 100.00 | \n",
       "| 437 | 10160  | 66B80  | 2.33   | 100.00 | \n",
       "| 438 | 10160  | 67B80  | 3.08   | 100.00 | \n",
       "| 441 | 10202  | 15B90  | 1.26   | 100.00 | \n",
       "| 442 | 10218  | 23B90  | 3.37   | 100.00 | \n",
       "| 443 | 10218  | 24B90  | 2.72   | 100.00 | \n",
       "| 445 | 10218  | 26B90  | 2.91   | 100.00 | \n",
       "| 449 | 10242  | 2B81   | 1.88   | 100.00 | \n",
       "| 454 | 10251  | 13B81  | 2.33   | 100.00 | \n",
       "| 459 | 10343  | 25B81  | 2.41   | 100.00 | \n",
       "| 469 | 10448  | 29B82  | 1.80   | 100.00 | \n",
       "| 491 | 10708  | 50B91  | 1.35   | 100.00 | \n",
       "| 492 | 10708  | 51B91  | 1.50   | 100.00 | \n",
       "| 493 | 10708  | 52B91  | 1.57   | 100.00 | \n",
       "| 508 | 10770  | 83B91  | 1.93   |  97.87 | \n",
       "| 509 | 10770  | 84B91  | 1.67   | 100.00 | \n",
       "| 521 | 10793  | 13B92  | 2.76   | 100.00 | \n",
       "| 536 | 11218  | 39B97  | 2.55   |  95.56 | \n",
       "| 548 | 11323  | 53B97  | 2.03   |  95.56 | \n",
       "| 556 | 11382  | 63B97  | 2.25   | 100.00 | \n",
       "| 583 | 11506  | 20D1   | 3.06   | 100.00 | \n",
       "| 625 | 12072  | 82D3   | 1.57   |  97.78 | \n",
       "| 629 | 12095  | 38D5   | 1.45   | 100.00 | \n",
       "| 633 | 12105  | 42D5   | 2.10   | 100.00 | \n",
       "\n",
       "\n"
      ],
      "text/plain": [
       "    t_number roi.label nt1c X.CEL \n",
       "2    5317    11B16     1.88 100.00\n",
       "6    5317    12B16     2.04 100.00\n",
       "8    6367    12B26     0.94 100.00\n",
       "33   5603    21B18     1.63 100.00\n",
       "50   6367    29B26     1.05 100.00\n",
       "61   5682    31B19     1.67 100.00\n",
       "63   6313    31B27     1.83 100.00\n",
       "64   7555    31B43     1.70 100.00\n",
       "83   5365    38B16     1.72 100.00\n",
       "92   6415    3B29      1.21  95.24\n",
       "94   5681    40B19     2.05 100.00\n",
       "116  7759    51B46     1.28 100.00\n",
       "120  7759    52B46     1.72  95.74\n",
       "122  6619    53B31     2.30  96.55\n",
       "134  6604    58B31     2.34 100.00\n",
       "137  6604    59B31     2.24 100.00\n",
       "138  7768    59B46     1.25 100.00\n",
       "143  6285    60B27     0.94 100.00\n",
       "160  6472    64B29     1.41  96.43\n",
       "161  7556    64B43     2.14 100.00\n",
       "170  4966    68B12     2.40 100.00\n",
       "179  6630    70B31     1.72 100.00\n",
       "180  6771    70B33     1.54 100.00\n",
       "183  6386    71B28     2.84 100.00\n",
       "187  6386    72B28     2.91 100.00\n",
       "190  5944    73B22     2.50 100.00\n",
       "197  6707    74B31     1.91 100.00\n",
       "199  5728    75B19     2.51 100.00\n",
       "215  5819    7B21      1.12 100.00\n",
       "218  6367    7B26      0.97 100.00\n",
       "225  6038    81B23     1.76  96.43\n",
       "246  5365    83B16     1.72 100.00\n",
       "248  6114    83B24     1.39 100.00\n",
       "251  7417    83B41     1.85 100.00\n",
       "261  6313    85B27     1.85 100.00\n",
       "313  6144    9B25      0.94 100.00\n",
       "326  8783    33B61     1.92 100.00\n",
       "327  8869    65B60     2.57 100.00\n",
       "334  8943    66B63     1.51  95.12\n",
       "335  8943    67B63     2.65 100.00\n",
       "341  8960    88B63     1.30 100.00\n",
       "364  9084    82B66     2.35  95.56\n",
       "382  9213    47B74     1.29 100.00\n",
       "384  9213    49B74     1.32  95.74\n",
       "385  9213    49B74     1.32  95.74\n",
       "397  9406    38B75     2.06 100.00\n",
       "410  9586    10B77     1.26 100.00\n",
       "411  9586    11B77     1.67 100.00\n",
       "413  9586    13B77     1.56 100.00\n",
       "430  9971    41B78     2.11 100.00\n",
       "431  9971    42B78     2.45 100.00\n",
       "433 10152    59B78     3.21 100.00\n",
       "436 10160    65B80     2.83 100.00\n",
       "437 10160    66B80     2.33 100.00\n",
       "438 10160    67B80     3.08 100.00\n",
       "441 10202    15B90     1.26 100.00\n",
       "442 10218    23B90     3.37 100.00\n",
       "443 10218    24B90     2.72 100.00\n",
       "445 10218    26B90     2.91 100.00\n",
       "449 10242    2B81      1.88 100.00\n",
       "454 10251    13B81     2.33 100.00\n",
       "459 10343    25B81     2.41 100.00\n",
       "469 10448    29B82     1.80 100.00\n",
       "491 10708    50B91     1.35 100.00\n",
       "492 10708    51B91     1.50 100.00\n",
       "493 10708    52B91     1.57 100.00\n",
       "508 10770    83B91     1.93  97.87\n",
       "509 10770    84B91     1.67 100.00\n",
       "521 10793    13B92     2.76 100.00\n",
       "536 11218    39B97     2.55  95.56\n",
       "548 11323    53B97     2.03  95.56\n",
       "556 11382    63B97     2.25 100.00\n",
       "583 11506    20D1      3.06 100.00\n",
       "625 12072    82D3      1.57  97.78\n",
       "629 12095    38D5      1.45 100.00\n",
       "633 12105    42D5      2.10 100.00"
      ]
     },
     "metadata": {},
     "output_type": "display_data"
    }
   ],
   "source": [
    "## beginning w/ CEL values and selecting the highest per patient: \n",
    "cel_t1c_vals.dat = data[!is.na(data$X.CEL) & data$X.CEL>95 & data$X.CEL < 105, c(\"t_number\", \"roi.label\", \"nt1c\", \"X.CEL\")]\n",
    "dim(cel_t1c_vals.dat)\n",
    "cel_t1c_vals.dat\n"
   ]
  },
  {
   "cell_type": "code",
   "execution_count": 42,
   "metadata": {
    "collapsed": false,
    "deletable": true,
    "editable": true
   },
   "outputs": [],
   "source": [
    "cel_t1c_vals.dat=cel_t1c_vals.dat[order(-cel_t1c_vals.dat$nt1c),]"
   ]
  },
  {
   "cell_type": "code",
   "execution_count": 43,
   "metadata": {
    "collapsed": false,
    "deletable": true,
    "editable": true
   },
   "outputs": [
    {
     "data": {
      "text/html": [
       "<ol class=list-inline>\n",
       "\t<li>55</li>\n",
       "\t<li>4</li>\n",
       "</ol>\n"
      ],
      "text/latex": [
       "\\begin{enumerate*}\n",
       "\\item 55\n",
       "\\item 4\n",
       "\\end{enumerate*}\n"
      ],
      "text/markdown": [
       "1. 55\n",
       "2. 4\n",
       "\n",
       "\n"
      ],
      "text/plain": [
       "[1] 55  4"
      ]
     },
     "metadata": {},
     "output_type": "display_data"
    }
   ],
   "source": [
    "cel_t1c_vals.nodup = cel_t1c_vals.dat[!duplicated(cel_t1c_vals.dat$t_number),]\n",
    "dim(cel_t1c_vals.nodup)"
   ]
  },
  {
   "cell_type": "code",
   "execution_count": 44,
   "metadata": {
    "collapsed": false,
    "deletable": true,
    "editable": true
   },
   "outputs": [],
   "source": [
    "nel_t1c_vals.dat = data[!is.na(data$X.CEL) & data$X.NEL>95 & data$X.NEL < 105, c(\"t_number\", \"roi.label\", \"nt1c\", \"X.CEL\")]\n",
    "nel_t1c_vals.dat = nel_t1c_vals.dat[order(-nel_t1c_vals.dat$nt1c),]"
   ]
  },
  {
   "cell_type": "code",
   "execution_count": 45,
   "metadata": {
    "collapsed": false,
    "deletable": true,
    "editable": true
   },
   "outputs": [
    {
     "data": {
      "text/html": [
       "<table>\n",
       "<thead><tr><th></th><th scope=col>t_number</th><th scope=col>roi.label</th><th scope=col>nt1c</th><th scope=col>X.CEL</th></tr></thead>\n",
       "<tbody>\n",
       "\t<tr><th scope=row>507</th><td>10768</td><td>74B91</td><td>1.47 </td><td>57.14</td></tr>\n",
       "\t<tr><th scope=row>177</th><td> 6020</td><td>70B23</td><td>1.39 </td><td> 0.00</td></tr>\n",
       "\t<tr><th scope=row>494</th><td>10708</td><td>53B91</td><td>1.30 </td><td> 0.00</td></tr>\n",
       "\t<tr><th scope=row>367</th><td> 9085</td><td>85B66</td><td>1.29 </td><td> 4.65</td></tr>\n",
       "\t<tr><th scope=row>530</th><td>11165</td><td>28B92</td><td>1.26 </td><td> 4.44</td></tr>\n",
       "\t<tr><th scope=row>368</th><td> 9085</td><td>87B66</td><td>1.17 </td><td> 0.00</td></tr>\n",
       "</tbody>\n",
       "</table>\n"
      ],
      "text/latex": [
       "\\begin{tabular}{r|llll}\n",
       "  & t\\_number & roi.label & nt1c & X.CEL\\\\\n",
       "\\hline\n",
       "\t507 & 10768 & 74B91 & 1.47  & 57.14\\\\\n",
       "\t177 &  6020 & 70B23 & 1.39  &  0.00\\\\\n",
       "\t494 & 10708 & 53B91 & 1.30  &  0.00\\\\\n",
       "\t367 &  9085 & 85B66 & 1.29  &  4.65\\\\\n",
       "\t530 & 11165 & 28B92 & 1.26  &  4.44\\\\\n",
       "\t368 &  9085 & 87B66 & 1.17  &  0.00\\\\\n",
       "\\end{tabular}\n"
      ],
      "text/markdown": [
       "\n",
       "| <!--/--> | t_number | roi.label | nt1c | X.CEL | \n",
       "|---|---|---|---|---|---|\n",
       "| 507 | 10768 | 74B91 | 1.47  | 57.14 | \n",
       "| 177 |  6020 | 70B23 | 1.39  |  0.00 | \n",
       "| 494 | 10708 | 53B91 | 1.30  |  0.00 | \n",
       "| 367 |  9085 | 85B66 | 1.29  |  4.65 | \n",
       "| 530 | 11165 | 28B92 | 1.26  |  4.44 | \n",
       "| 368 |  9085 | 87B66 | 1.17  |  0.00 | \n",
       "\n",
       "\n"
      ],
      "text/plain": [
       "    t_number roi.label nt1c X.CEL\n",
       "507 10768    74B91     1.47 57.14\n",
       "177  6020    70B23     1.39  0.00\n",
       "494 10708    53B91     1.30  0.00\n",
       "367  9085    85B66     1.29  4.65\n",
       "530 11165    28B92     1.26  4.44\n",
       "368  9085    87B66     1.17  0.00"
      ]
     },
     "metadata": {},
     "output_type": "display_data"
    },
    {
     "data": {
      "text/html": [
       "<ol class=list-inline>\n",
       "\t<li>68</li>\n",
       "\t<li>4</li>\n",
       "</ol>\n"
      ],
      "text/latex": [
       "\\begin{enumerate*}\n",
       "\\item 68\n",
       "\\item 4\n",
       "\\end{enumerate*}\n"
      ],
      "text/markdown": [
       "1. 68\n",
       "2. 4\n",
       "\n",
       "\n"
      ],
      "text/plain": [
       "[1] 68  4"
      ]
     },
     "metadata": {},
     "output_type": "display_data"
    },
    {
     "data": {
      "text/html": [
       "<ol class=list-inline>\n",
       "\t<li>46</li>\n",
       "\t<li>4</li>\n",
       "</ol>\n"
      ],
      "text/latex": [
       "\\begin{enumerate*}\n",
       "\\item 46\n",
       "\\item 4\n",
       "\\end{enumerate*}\n"
      ],
      "text/markdown": [
       "1. 46\n",
       "2. 4\n",
       "\n",
       "\n"
      ],
      "text/plain": [
       "[1] 46  4"
      ]
     },
     "metadata": {},
     "output_type": "display_data"
    }
   ],
   "source": [
    "head(nel_t1c_vals.dat)\n",
    "dim(nel_t1c_vals.dat)\n",
    "nel_t1c_vals.dat = nel_t1c_vals.dat[!duplicated(nel_t1c_vals.dat$t_number),]\n",
    "dim(nel_t1c_vals.dat)"
   ]
  },
  {
   "cell_type": "code",
   "execution_count": 46,
   "metadata": {
    "collapsed": false,
    "deletable": true,
    "editable": true
   },
   "outputs": [
    {
     "data": {
      "image/png": "[encoded data removed]",
      "text/plain": [
       "plot without title"
      ]
     },
     "metadata": {},
     "output_type": "display_data"
    }
   ],
   "source": [
    "boxplot(nel_t1c_vals.dat$nt1c, cel_t1c_vals.dat$nt1c, notch = T)"
   ]
  },
  {
   "cell_type": "code",
   "execution_count": 47,
   "metadata": {
    "collapsed": false,
    "deletable": true,
    "editable": true
   },
   "outputs": [
    {
     "data": {
      "text/plain": [
       "   Min. 1st Qu.  Median    Mean 3rd Qu.    Max. \n",
       "  0.940   1.488   1.850   1.928   2.342   3.370 "
      ]
     },
     "metadata": {},
     "output_type": "display_data"
    }
   ],
   "source": [
    "summary(cel_t1c_vals.dat$nt1c)"
   ]
  },
  {
   "cell_type": "code",
   "execution_count": 48,
   "metadata": {
    "collapsed": false,
    "deletable": true,
    "editable": true
   },
   "outputs": [
    {
     "data": {
      "text/plain": [
       "   Min. 1st Qu.  Median    Mean 3rd Qu.    Max.    NA's \n",
       " 0.5300  0.7275  0.8600  0.8905  0.9725  1.4700       2 "
      ]
     },
     "metadata": {},
     "output_type": "display_data"
    }
   ],
   "source": [
    "summary(nel_t1c_vals.dat$nt1c)\n"
   ]
  },
  {
   "cell_type": "markdown",
   "metadata": {
    "deletable": true,
    "editable": true
   },
   "source": [
    "## 6. Adding in whether a biopsy is inside CEL or not\n",
    "#### We can make this assignment if it's \"in\" CEL or if its within the 1st - 3rd quartile? "
   ]
  },
  {
   "cell_type": "code",
   "execution_count": 49,
   "metadata": {
    "collapsed": true,
    "deletable": true,
    "editable": true
   },
   "outputs": [],
   "source": [
    "cel_data = data.frame(data, in_CEL = NA)"
   ]
  },
  {
   "cell_type": "code",
   "execution_count": 50,
   "metadata": {
    "collapsed": false,
    "deletable": true,
    "editable": true
   },
   "outputs": [
    {
     "data": {
      "text/html": [
       "<table>\n",
       "<thead><tr><th scope=col>t_number</th><th scope=col>roi.label</th><th scope=col>nfse</th><th scope=col>nfl</th><th scope=col>nt1c</th><th scope=col>nt1v</th><th scope=col>tnum</th><th scope=col>sfnum</th><th scope=col>index</th><th scope=col>X.CEL</th><th scope=col>X.NEL</th><th scope=col>X.NEC</th><th scope=col>sum</th><th scope=col>in_CEL</th></tr></thead>\n",
       "<tbody>\n",
       "\t<tr><td>6369  </td><td>10B28 </td><td>2.10  </td><td>1.84  </td><td>1.20  </td><td>0.84  </td><td>t6369 </td><td>sf8122</td><td> 1    </td><td> 53.85</td><td>46.15 </td><td>NA    </td><td>100.00</td><td>NA    </td></tr>\n",
       "\t<tr><td>5317  </td><td>11B16 </td><td>2.27  </td><td>1.44  </td><td>1.88  </td><td>0.78  </td><td>t5317 </td><td>sf7679</td><td> 1    </td><td>100.00</td><td> 0.00 </td><td>NA    </td><td>100.00</td><td>NA    </td></tr>\n",
       "\t<tr><td>8089  </td><td>11B35 </td><td>  NA  </td><td>  NA  </td><td>  NA  </td><td>  NA  </td><td>NA    </td><td>NA    </td><td>NA    </td><td>    NA</td><td>   NA </td><td>NA    </td><td>    NA</td><td>NA    </td></tr>\n",
       "\t<tr><td>7408  </td><td>11B40 </td><td>1.84  </td><td>1.13  </td><td>0.82  </td><td>0.79  </td><td>t7408 </td><td>sf8701</td><td> 1    </td><td>  8.70</td><td>13.04 </td><td>NA    </td><td> 21.74</td><td>NA    </td></tr>\n",
       "\t<tr><td>7540  </td><td>11B43 </td><td>2.35  </td><td>1.97  </td><td>0.76  </td><td>0.78  </td><td>t7540 </td><td>sf8796</td><td> 1    </td><td>  0.00</td><td>28.00 </td><td>NA    </td><td> 28.00</td><td>NA    </td></tr>\n",
       "\t<tr><td>5317  </td><td>12B16 </td><td>2.20  </td><td>1.56  </td><td>2.04  </td><td>0.74  </td><td>t5317 </td><td>sf7679</td><td> 2    </td><td>100.00</td><td> 0.00 </td><td>NA    </td><td>100.00</td><td>NA    </td></tr>\n",
       "</tbody>\n",
       "</table>\n"
      ],
      "text/latex": [
       "\\begin{tabular}{r|llllllllllllll}\n",
       " t\\_number & roi.label & nfse & nfl & nt1c & nt1v & tnum & sfnum & index & X.CEL & X.NEL & X.NEC & sum & in\\_CEL\\\\\n",
       "\\hline\n",
       "\t 6369   & 10B28  & 2.10   & 1.84   & 1.20   & 0.84   & t6369  & sf8122 &  1     &  53.85 & 46.15  & NA     & 100.00 & NA    \\\\\n",
       "\t 5317   & 11B16  & 2.27   & 1.44   & 1.88   & 0.78   & t5317  & sf7679 &  1     & 100.00 &  0.00  & NA     & 100.00 & NA    \\\\\n",
       "\t 8089   & 11B35  &   NA   &   NA   &   NA   &   NA   & NA     & NA     & NA     &     NA &    NA  & NA     &     NA & NA    \\\\\n",
       "\t 7408   & 11B40  & 1.84   & 1.13   & 0.82   & 0.79   & t7408  & sf8701 &  1     &   8.70 & 13.04  & NA     &  21.74 & NA    \\\\\n",
       "\t 7540   & 11B43  & 2.35   & 1.97   & 0.76   & 0.78   & t7540  & sf8796 &  1     &   0.00 & 28.00  & NA     &  28.00 & NA    \\\\\n",
       "\t 5317   & 12B16  & 2.20   & 1.56   & 2.04   & 0.74   & t5317  & sf7679 &  2     & 100.00 &  0.00  & NA     & 100.00 & NA    \\\\\n",
       "\\end{tabular}\n"
      ],
      "text/markdown": [
       "\n",
       "t_number | roi.label | nfse | nfl | nt1c | nt1v | tnum | sfnum | index | X.CEL | X.NEL | X.NEC | sum | in_CEL | \n",
       "|---|---|---|---|---|---|\n",
       "| 6369   | 10B28  | 2.10   | 1.84   | 1.20   | 0.84   | t6369  | sf8122 |  1     |  53.85 | 46.15  | NA     | 100.00 | NA     | \n",
       "| 5317   | 11B16  | 2.27   | 1.44   | 1.88   | 0.78   | t5317  | sf7679 |  1     | 100.00 |  0.00  | NA     | 100.00 | NA     | \n",
       "| 8089   | 11B35  |   NA   |   NA   |   NA   |   NA   | NA     | NA     | NA     |     NA |    NA  | NA     |     NA | NA     | \n",
       "| 7408   | 11B40  | 1.84   | 1.13   | 0.82   | 0.79   | t7408  | sf8701 |  1     |   8.70 | 13.04  | NA     |  21.74 | NA     | \n",
       "| 7540   | 11B43  | 2.35   | 1.97   | 0.76   | 0.78   | t7540  | sf8796 |  1     |   0.00 | 28.00  | NA     |  28.00 | NA     | \n",
       "| 5317   | 12B16  | 2.20   | 1.56   | 2.04   | 0.74   | t5317  | sf7679 |  2     | 100.00 |  0.00  | NA     | 100.00 | NA     | \n",
       "\n",
       "\n"
      ],
      "text/plain": [
       "  t_number roi.label nfse nfl  nt1c nt1v tnum  sfnum  index X.CEL  X.NEL X.NEC\n",
       "1 6369     10B28     2.10 1.84 1.20 0.84 t6369 sf8122  1     53.85 46.15 NA   \n",
       "2 5317     11B16     2.27 1.44 1.88 0.78 t5317 sf7679  1    100.00  0.00 NA   \n",
       "3 8089     11B35       NA   NA   NA   NA NA    NA     NA        NA    NA NA   \n",
       "4 7408     11B40     1.84 1.13 0.82 0.79 t7408 sf8701  1      8.70 13.04 NA   \n",
       "5 7540     11B43     2.35 1.97 0.76 0.78 t7540 sf8796  1      0.00 28.00 NA   \n",
       "6 5317     12B16     2.20 1.56 2.04 0.74 t5317 sf7679  2    100.00  0.00 NA   \n",
       "  sum    in_CEL\n",
       "1 100.00 NA    \n",
       "2 100.00 NA    \n",
       "3     NA NA    \n",
       "4  21.74 NA    \n",
       "5  28.00 NA    \n",
       "6 100.00 NA    "
      ]
     },
     "metadata": {},
     "output_type": "display_data"
    }
   ],
   "source": [
    "head(cel_data)"
   ]
  },
  {
   "cell_type": "code",
   "execution_count": 51,
   "metadata": {
    "collapsed": true,
    "deletable": true,
    "editable": true
   },
   "outputs": [],
   "source": [
    "## we want to include those with a normalized t1c value above 1.48 it should be in the CEL region\n",
    "cel_data$in_CEL[which(cel_data$nt1c>1.48)]=1"
   ]
  },
  {
   "cell_type": "code",
   "execution_count": 52,
   "metadata": {
    "collapsed": false,
    "deletable": true,
    "editable": true
   },
   "outputs": [
    {
     "data": {
      "text/plain": [
       "\n",
       "  1 \n",
       "163 "
      ]
     },
     "metadata": {},
     "output_type": "display_data"
    }
   ],
   "source": [
    "table(cel_data$in_CEL)"
   ]
  },
  {
   "cell_type": "code",
   "execution_count": 53,
   "metadata": {
    "collapsed": true,
    "deletable": true,
    "editable": true
   },
   "outputs": [],
   "source": [
    "## also adding in percentages based on igt_stats\n",
    "cel_data$in_CEL[which(cel_data$X.CEL > 49.9 & cel_data$X.NEL<50)]=1"
   ]
  },
  {
   "cell_type": "code",
   "execution_count": 54,
   "metadata": {
    "collapsed": false,
    "deletable": true,
    "editable": true
   },
   "outputs": [
    {
     "data": {
      "text/plain": [
       "\n",
       "  1 \n",
       "231 "
      ]
     },
     "metadata": {},
     "output_type": "display_data"
    }
   ],
   "source": [
    "table(cel_data$in_CEL)"
   ]
  },
  {
   "cell_type": "code",
   "execution_count": 55,
   "metadata": {
    "collapsed": false
   },
   "outputs": [],
   "source": [
    "## now adding in if it's NOT in CEL region: \n",
    "cel_data$in_CEL = ifelse(is.na(cel_data$in_CEL), 0, 1)"
   ]
  },
  {
   "cell_type": "code",
   "execution_count": 56,
   "metadata": {
    "collapsed": false
   },
   "outputs": [
    {
     "data": {
      "text/plain": [
       "\n",
       "  0   1 \n",
       "419 231 "
      ]
     },
     "metadata": {},
     "output_type": "display_data"
    }
   ],
   "source": [
    "table(cel_data$in_CEL)"
   ]
  },
  {
   "cell_type": "markdown",
   "metadata": {
    "deletable": true,
    "editable": true
   },
   "source": [
    "## 7. Exploratory analysis for finding range of thresholds for assigning biopsies to T2all lesion\n"
   ]
  },
  {
   "cell_type": "markdown",
   "metadata": {
    "deletable": true,
    "editable": true
   },
   "source": [
    "Since it's normalized against NAWM, we should have a good idea of what it's like to be in a FLAIR hyperintense region if we just take a look at those that are certainly COMPLETELY in t2L"
   ]
  },
  {
   "cell_type": "code",
   "execution_count": 57,
   "metadata": {
    "collapsed": true,
    "deletable": true,
    "editable": true
   },
   "outputs": [],
   "source": [
    "## finding things that are def in NEL: \n",
    "nel_fl_vals = data$nfl[data$X.NEL>95 & data$X.NEL < 105]"
   ]
  },
  {
   "cell_type": "code",
   "execution_count": 58,
   "metadata": {
    "collapsed": false,
    "deletable": true,
    "editable": true
   },
   "outputs": [
    {
     "data": {
      "text/plain": [
       "   Min. 1st Qu.  Median    Mean 3rd Qu.    Max.    NA's \n",
       "  1.100   1.740   1.990   2.011   2.180   3.880     185 "
      ]
     },
     "metadata": {},
     "output_type": "display_data"
    },
    {
     "data": {
      "text/html": [
       "<dl class=dl-horizontal>\n",
       "\t<dt>10%</dt>\n",
       "\t\t<dd>1.566</dd>\n",
       "\t<dt>20%</dt>\n",
       "\t\t<dd>1.67</dd>\n",
       "\t<dt>30%</dt>\n",
       "\t\t<dd>1.798</dd>\n",
       "</dl>\n"
      ],
      "text/latex": [
       "\\begin{description*}\n",
       "\\item[10\\textbackslash{}\\%] 1.566\n",
       "\\item[20\\textbackslash{}\\%] 1.67\n",
       "\\item[30\\textbackslash{}\\%] 1.798\n",
       "\\end{description*}\n"
      ],
      "text/markdown": [
       "10%\n",
       ":   1.56620%\n",
       ":   1.6730%\n",
       ":   1.798\n",
       "\n"
      ],
      "text/plain": [
       "  10%   20%   30% \n",
       "1.566 1.670 1.798 "
      ]
     },
     "metadata": {},
     "output_type": "display_data"
    }
   ],
   "source": [
    "summary(nel_fl_vals)\n",
    "quantile(nel_fl_vals, c(.1, .2, .3), na.rm = T)"
   ]
  },
  {
   "cell_type": "code",
   "execution_count": 59,
   "metadata": {
    "collapsed": true,
    "deletable": true,
    "editable": true
   },
   "outputs": [],
   "source": [
    "## We can essentially say with confidence that if it's greater than 1.74, it's in the t2L\n",
    "## we can also use the 10th percentile as a cutoff to see how that goes: "
   ]
  },
  {
   "cell_type": "markdown",
   "metadata": {
    "deletable": true,
    "editable": true
   },
   "source": [
    "## 8. Adding in whether a biopsy is inside NEL or not"
   ]
  },
  {
   "cell_type": "code",
   "execution_count": 60,
   "metadata": {
    "collapsed": true,
    "deletable": true,
    "editable": true
   },
   "outputs": [],
   "source": [
    "t2_cel_data = data.frame(cel_data, in_T2all = NA)"
   ]
  },
  {
   "cell_type": "code",
   "execution_count": 61,
   "metadata": {
    "collapsed": false,
    "deletable": true,
    "editable": true
   },
   "outputs": [],
   "source": [
    "t2_cel_data$in_T2all[which(t2_cel_data$nfl>1.25)]=1\n",
    "t2_cel_data$in_T2all[which(t2_cel_data$X.NEL>50)]=1\n",
    "\n",
    "## adding in zeros here: \n",
    "t2_cel_data$in_T2all=ifelse(is.na(t2_cel_data$in_T2all), 0, 1) \n"
   ]
  },
  {
   "cell_type": "code",
   "execution_count": 62,
   "metadata": {
    "collapsed": false,
    "deletable": true,
    "editable": true
   },
   "outputs": [
    {
     "data": {
      "text/plain": [
       "\n",
       "  0   1 \n",
       "202 448 "
      ]
     },
     "metadata": {},
     "output_type": "display_data"
    }
   ],
   "source": [
    "table(t2_cel_data$in_T2all)"
   ]
  },
  {
   "cell_type": "code",
   "execution_count": 63,
   "metadata": {
    "collapsed": false,
    "deletable": true,
    "editable": true
   },
   "outputs": [
    {
     "data": {
      "text/html": [
       "<ol class=list-inline>\n",
       "\t<li>'t_number'</li>\n",
       "\t<li>'roi.label'</li>\n",
       "\t<li>'nfse'</li>\n",
       "\t<li>'nfl'</li>\n",
       "\t<li>'nt1c'</li>\n",
       "\t<li>'nt1v'</li>\n",
       "\t<li>'tnum'</li>\n",
       "\t<li>'sfnum'</li>\n",
       "\t<li>'index'</li>\n",
       "\t<li>'X.CEL'</li>\n",
       "\t<li>'X.NEL'</li>\n",
       "\t<li>'X.NEC'</li>\n",
       "\t<li>'sum'</li>\n",
       "\t<li>'in_CEL'</li>\n",
       "\t<li>'in_T2all'</li>\n",
       "\t<li>'in_NEL'</li>\n",
       "</ol>\n"
      ],
      "text/latex": [
       "\\begin{enumerate*}\n",
       "\\item 't\\_number'\n",
       "\\item 'roi.label'\n",
       "\\item 'nfse'\n",
       "\\item 'nfl'\n",
       "\\item 'nt1c'\n",
       "\\item 'nt1v'\n",
       "\\item 'tnum'\n",
       "\\item 'sfnum'\n",
       "\\item 'index'\n",
       "\\item 'X.CEL'\n",
       "\\item 'X.NEL'\n",
       "\\item 'X.NEC'\n",
       "\\item 'sum'\n",
       "\\item 'in\\_CEL'\n",
       "\\item 'in\\_T2all'\n",
       "\\item 'in\\_NEL'\n",
       "\\end{enumerate*}\n"
      ],
      "text/markdown": [
       "1. 't_number'\n",
       "2. 'roi.label'\n",
       "3. 'nfse'\n",
       "4. 'nfl'\n",
       "5. 'nt1c'\n",
       "6. 'nt1v'\n",
       "7. 'tnum'\n",
       "8. 'sfnum'\n",
       "9. 'index'\n",
       "10. 'X.CEL'\n",
       "11. 'X.NEL'\n",
       "12. 'X.NEC'\n",
       "13. 'sum'\n",
       "14. 'in_CEL'\n",
       "15. 'in_T2all'\n",
       "16. 'in_NEL'\n",
       "\n",
       "\n"
      ],
      "text/plain": [
       " [1] \"t_number\"  \"roi.label\" \"nfse\"      \"nfl\"       \"nt1c\"      \"nt1v\"     \n",
       " [7] \"tnum\"      \"sfnum\"     \"index\"     \"X.CEL\"     \"X.NEL\"     \"X.NEC\"    \n",
       "[13] \"sum\"       \"in_CEL\"    \"in_T2all\"  \"in_NEL\"   "
      ]
     },
     "metadata": {},
     "output_type": "display_data"
    }
   ],
   "source": [
    "nel_cel_data = data.frame(t2_cel_data, in_NEL = NA)\n",
    "colnames(nel_cel_data)"
   ]
  },
  {
   "cell_type": "code",
   "execution_count": 64,
   "metadata": {
    "collapsed": false,
    "deletable": true,
    "editable": true
   },
   "outputs": [],
   "source": [
    "nel_cel_data$in_NEL[which(nel_cel_data$in_T2all == 1 & nel_cel_data$in_CEL==0)]=1\n",
    "nel_cel_data$in_NEL[which(nel_cel_data$X.NEL>40 & nel_cel_data$X.CEL <50)]=1\n"
   ]
  },
  {
   "cell_type": "code",
   "execution_count": 65,
   "metadata": {
    "collapsed": false,
    "deletable": true,
    "editable": true
   },
   "outputs": [],
   "source": [
    "nel_cel_data$in_NEL = ifelse(is.na(nel_cel_data$in_NEL==1), 0, 1)"
   ]
  },
  {
   "cell_type": "code",
   "execution_count": 66,
   "metadata": {
    "collapsed": false,
    "deletable": true,
    "editable": true
   },
   "outputs": [
    {
     "data": {
      "text/plain": [
       "\n",
       "  0   1 \n",
       "386 264 "
      ]
     },
     "metadata": {},
     "output_type": "display_data"
    }
   ],
   "source": [
    "table(nel_cel_data$in_NEL)"
   ]
  },
  {
   "cell_type": "code",
   "execution_count": 67,
   "metadata": {
    "collapsed": false,
    "deletable": true,
    "editable": true
   },
   "outputs": [
    {
     "data": {
      "text/plain": [
       "\n",
       "  0   1 \n",
       "386 264 "
      ]
     },
     "metadata": {},
     "output_type": "display_data"
    }
   ],
   "source": [
    "table(nel_cel_data$in_NEL)"
   ]
  },
  {
   "cell_type": "code",
   "execution_count": 68,
   "metadata": {
    "collapsed": false,
    "deletable": true,
    "editable": true
   },
   "outputs": [
    {
     "data": {
      "text/html": [
       "<ol class=list-inline>\n",
       "\t<li>650</li>\n",
       "\t<li>16</li>\n",
       "</ol>\n"
      ],
      "text/latex": [
       "\\begin{enumerate*}\n",
       "\\item 650\n",
       "\\item 16\n",
       "\\end{enumerate*}\n"
      ],
      "text/markdown": [
       "1. 650\n",
       "2. 16\n",
       "\n",
       "\n"
      ],
      "text/plain": [
       "[1] 650  16"
      ]
     },
     "metadata": {},
     "output_type": "display_data"
    }
   ],
   "source": [
    "dim(nel_cel_data)"
   ]
  },
  {
   "cell_type": "code",
   "execution_count": 69,
   "metadata": {
    "collapsed": false
   },
   "outputs": [
    {
     "data": {
      "text/html": [
       "<table>\n",
       "<thead><tr><th></th><th scope=col>t_number</th><th scope=col>roi.label</th><th scope=col>nfse</th><th scope=col>nfl</th><th scope=col>nt1c</th><th scope=col>nt1v</th><th scope=col>tnum</th><th scope=col>sfnum</th><th scope=col>index</th><th scope=col>X.CEL</th><th scope=col>X.NEL</th><th scope=col>X.NEC</th><th scope=col>sum</th><th scope=col>in_CEL</th><th scope=col>in_T2all</th><th scope=col>in_NEL</th></tr></thead>\n",
       "<tbody>\n",
       "\t<tr><th scope=row>456</th><td>10269  </td><td>29B90  </td><td>1.61   </td><td>1.81   </td><td>0.80   </td><td>0.83   </td><td>t10269 </td><td>sf10723</td><td>1      </td><td>NA     </td><td>100.00 </td><td>NA     </td><td>100.00 </td><td>0      </td><td>1      </td><td>1      </td></tr>\n",
       "\t<tr><th scope=row>457</th><td>10269  </td><td>87B80  </td><td>2.74   </td><td>1.28   </td><td>0.57   </td><td>0.64   </td><td>t10269 </td><td>sf10723</td><td>2      </td><td>NA     </td><td> 68.09 </td><td>NA     </td><td> 68.09 </td><td>0      </td><td>1      </td><td>1      </td></tr>\n",
       "\t<tr><th scope=row>458</th><td>10269  </td><td>90B80  </td><td>2.08   </td><td>1.84   </td><td>0.88   </td><td>0.71   </td><td>t10269 </td><td>sf10723</td><td>3      </td><td>NA     </td><td>100.00 </td><td>NA     </td><td>100.00 </td><td>0      </td><td>1      </td><td>1      </td></tr>\n",
       "</tbody>\n",
       "</table>\n"
      ],
      "text/latex": [
       "\\begin{tabular}{r|llllllllllllllll}\n",
       "  & t\\_number & roi.label & nfse & nfl & nt1c & nt1v & tnum & sfnum & index & X.CEL & X.NEL & X.NEC & sum & in\\_CEL & in\\_T2all & in\\_NEL\\\\\n",
       "\\hline\n",
       "\t456 & 10269   & 29B90   & 1.61    & 1.81    & 0.80    & 0.83    & t10269  & sf10723 & 1       & NA      & 100.00  & NA      & 100.00  & 0       & 1       & 1      \\\\\n",
       "\t457 & 10269   & 87B80   & 2.74    & 1.28    & 0.57    & 0.64    & t10269  & sf10723 & 2       & NA      &  68.09  & NA      &  68.09  & 0       & 1       & 1      \\\\\n",
       "\t458 & 10269   & 90B80   & 2.08    & 1.84    & 0.88    & 0.71    & t10269  & sf10723 & 3       & NA      & 100.00  & NA      & 100.00  & 0       & 1       & 1      \\\\\n",
       "\\end{tabular}\n"
      ],
      "text/markdown": [
       "\n",
       "| <!--/--> | t_number | roi.label | nfse | nfl | nt1c | nt1v | tnum | sfnum | index | X.CEL | X.NEL | X.NEC | sum | in_CEL | in_T2all | in_NEL | \n",
       "|---|---|---|\n",
       "| 456 | 10269   | 29B90   | 1.61    | 1.81    | 0.80    | 0.83    | t10269  | sf10723 | 1       | NA      | 100.00  | NA      | 100.00  | 0       | 1       | 1       | \n",
       "| 457 | 10269   | 87B80   | 2.74    | 1.28    | 0.57    | 0.64    | t10269  | sf10723 | 2       | NA      |  68.09  | NA      |  68.09  | 0       | 1       | 1       | \n",
       "| 458 | 10269   | 90B80   | 2.08    | 1.84    | 0.88    | 0.71    | t10269  | sf10723 | 3       | NA      | 100.00  | NA      | 100.00  | 0       | 1       | 1       | \n",
       "\n",
       "\n"
      ],
      "text/plain": [
       "    t_number roi.label nfse nfl  nt1c nt1v tnum   sfnum   index X.CEL X.NEL \n",
       "456 10269    29B90     1.61 1.81 0.80 0.83 t10269 sf10723 1     NA    100.00\n",
       "457 10269    87B80     2.74 1.28 0.57 0.64 t10269 sf10723 2     NA     68.09\n",
       "458 10269    90B80     2.08 1.84 0.88 0.71 t10269 sf10723 3     NA    100.00\n",
       "    X.NEC sum    in_CEL in_T2all in_NEL\n",
       "456 NA    100.00 0      1        1     \n",
       "457 NA     68.09 0      1        1     \n",
       "458 NA    100.00 0      1        1     "
      ]
     },
     "metadata": {},
     "output_type": "display_data"
    }
   ],
   "source": [
    "nel_cel_data[grep(10269, nel_cel_data$t_number),]"
   ]
  },
  {
   "cell_type": "code",
   "execution_count": 70,
   "metadata": {
    "collapsed": false,
    "deletable": true,
    "editable": true
   },
   "outputs": [
    {
     "data": {
      "text/html": [
       "<ol class=list-inline>\n",
       "\t<li>650</li>\n",
       "\t<li>13</li>\n",
       "</ol>\n"
      ],
      "text/latex": [
       "\\begin{enumerate*}\n",
       "\\item 650\n",
       "\\item 13\n",
       "\\end{enumerate*}\n"
      ],
      "text/markdown": [
       "1. 650\n",
       "2. 13\n",
       "\n",
       "\n"
      ],
      "text/plain": [
       "[1] 650  13"
      ]
     },
     "metadata": {},
     "output_type": "display_data"
    }
   ],
   "source": [
    "dim(data)"
   ]
  },
  {
   "cell_type": "code",
   "execution_count": 71,
   "metadata": {
    "collapsed": true,
    "deletable": true,
    "editable": true
   },
   "outputs": [],
   "source": [
    "data = nel_cel_data"
   ]
  },
  {
   "cell_type": "code",
   "execution_count": 72,
   "metadata": {
    "collapsed": false,
    "deletable": true,
    "editable": true
   },
   "outputs": [
    {
     "data": {
      "text/html": [
       "<ol class=list-inline>\n",
       "\t<li>650</li>\n",
       "\t<li>16</li>\n",
       "</ol>\n"
      ],
      "text/latex": [
       "\\begin{enumerate*}\n",
       "\\item 650\n",
       "\\item 16\n",
       "\\end{enumerate*}\n"
      ],
      "text/markdown": [
       "1. 650\n",
       "2. 16\n",
       "\n",
       "\n"
      ],
      "text/plain": [
       "[1] 650  16"
      ]
     },
     "metadata": {},
     "output_type": "display_data"
    },
    {
     "data": {
      "text/html": [
       "<ol class=list-inline>\n",
       "\t<li>'t_number'</li>\n",
       "\t<li>'roi.label'</li>\n",
       "\t<li>'nfse'</li>\n",
       "\t<li>'nfl'</li>\n",
       "\t<li>'nt1c'</li>\n",
       "\t<li>'nt1v'</li>\n",
       "\t<li>'tnum'</li>\n",
       "\t<li>'sfnum'</li>\n",
       "\t<li>'index'</li>\n",
       "\t<li>'X.CEL'</li>\n",
       "\t<li>'X.NEL'</li>\n",
       "\t<li>'X.NEC'</li>\n",
       "\t<li>'sum'</li>\n",
       "\t<li>'in_CEL'</li>\n",
       "\t<li>'in_T2all'</li>\n",
       "\t<li>'in_NEL'</li>\n",
       "</ol>\n"
      ],
      "text/latex": [
       "\\begin{enumerate*}\n",
       "\\item 't\\_number'\n",
       "\\item 'roi.label'\n",
       "\\item 'nfse'\n",
       "\\item 'nfl'\n",
       "\\item 'nt1c'\n",
       "\\item 'nt1v'\n",
       "\\item 'tnum'\n",
       "\\item 'sfnum'\n",
       "\\item 'index'\n",
       "\\item 'X.CEL'\n",
       "\\item 'X.NEL'\n",
       "\\item 'X.NEC'\n",
       "\\item 'sum'\n",
       "\\item 'in\\_CEL'\n",
       "\\item 'in\\_T2all'\n",
       "\\item 'in\\_NEL'\n",
       "\\end{enumerate*}\n"
      ],
      "text/markdown": [
       "1. 't_number'\n",
       "2. 'roi.label'\n",
       "3. 'nfse'\n",
       "4. 'nfl'\n",
       "5. 'nt1c'\n",
       "6. 'nt1v'\n",
       "7. 'tnum'\n",
       "8. 'sfnum'\n",
       "9. 'index'\n",
       "10. 'X.CEL'\n",
       "11. 'X.NEL'\n",
       "12. 'X.NEC'\n",
       "13. 'sum'\n",
       "14. 'in_CEL'\n",
       "15. 'in_T2all'\n",
       "16. 'in_NEL'\n",
       "\n",
       "\n"
      ],
      "text/plain": [
       " [1] \"t_number\"  \"roi.label\" \"nfse\"      \"nfl\"       \"nt1c\"      \"nt1v\"     \n",
       " [7] \"tnum\"      \"sfnum\"     \"index\"     \"X.CEL\"     \"X.NEL\"     \"X.NEC\"    \n",
       "[13] \"sum\"       \"in_CEL\"    \"in_T2all\"  \"in_NEL\"   "
      ]
     },
     "metadata": {},
     "output_type": "display_data"
    }
   ],
   "source": [
    "dim(data)\n",
    "colnames(data)"
   ]
  },
  {
   "cell_type": "code",
   "execution_count": 73,
   "metadata": {
    "collapsed": true,
    "deletable": true,
    "editable": true
   },
   "outputs": [],
   "source": [
    "data = data[!is.na(data$roi.label),]"
   ]
  },
  {
   "cell_type": "code",
   "execution_count": 74,
   "metadata": {
    "collapsed": false
   },
   "outputs": [
    {
     "data": {
      "text/html": [
       "<ol class=list-inline>\n",
       "\t<li>649</li>\n",
       "\t<li>16</li>\n",
       "</ol>\n"
      ],
      "text/latex": [
       "\\begin{enumerate*}\n",
       "\\item 649\n",
       "\\item 16\n",
       "\\end{enumerate*}\n"
      ],
      "text/markdown": [
       "1. 649\n",
       "2. 16\n",
       "\n",
       "\n"
      ],
      "text/plain": [
       "[1] 649  16"
      ]
     },
     "metadata": {},
     "output_type": "display_data"
    }
   ],
   "source": [
    "dim(data)"
   ]
  },
  {
   "cell_type": "markdown",
   "metadata": {},
   "source": [
    "## 9. Exploratory analysis for finding range of thresholds for assigning biopsies to NEC lesion"
   ]
  },
  {
   "cell_type": "code",
   "execution_count": 75,
   "metadata": {
    "collapsed": false
   },
   "outputs": [
    {
     "data": {
      "text/html": [
       "<table>\n",
       "<thead><tr><th scope=col>t_number</th><th scope=col>roi.label</th><th scope=col>nfse</th><th scope=col>nfl</th><th scope=col>nt1c</th><th scope=col>nt1v</th><th scope=col>tnum</th><th scope=col>sfnum</th><th scope=col>index</th><th scope=col>X.CEL</th><th scope=col>X.NEL</th><th scope=col>X.NEC</th><th scope=col>sum</th><th scope=col>in_CEL</th><th scope=col>in_T2all</th><th scope=col>in_NEL</th></tr></thead>\n",
       "<tbody>\n",
       "\t<tr><td>6369  </td><td>10B28 </td><td>2.10  </td><td>1.84  </td><td>1.20  </td><td>0.84  </td><td>t6369 </td><td>sf8122</td><td> 1    </td><td> 53.85</td><td>46.15 </td><td>NA    </td><td>100.00</td><td>1     </td><td>1     </td><td>0     </td></tr>\n",
       "\t<tr><td>5317  </td><td>11B16 </td><td>2.27  </td><td>1.44  </td><td>1.88  </td><td>0.78  </td><td>t5317 </td><td>sf7679</td><td> 1    </td><td>100.00</td><td> 0.00 </td><td>NA    </td><td>100.00</td><td>1     </td><td>1     </td><td>0     </td></tr>\n",
       "\t<tr><td>8089  </td><td>11B35 </td><td>  NA  </td><td>  NA  </td><td>  NA  </td><td>  NA  </td><td>NA    </td><td>NA    </td><td>NA    </td><td>    NA</td><td>   NA </td><td>NA    </td><td>    NA</td><td>0     </td><td>0     </td><td>0     </td></tr>\n",
       "\t<tr><td>7408  </td><td>11B40 </td><td>1.84  </td><td>1.13  </td><td>0.82  </td><td>0.79  </td><td>t7408 </td><td>sf8701</td><td> 1    </td><td>  8.70</td><td>13.04 </td><td>NA    </td><td> 21.74</td><td>0     </td><td>0     </td><td>0     </td></tr>\n",
       "\t<tr><td>7540  </td><td>11B43 </td><td>2.35  </td><td>1.97  </td><td>0.76  </td><td>0.78  </td><td>t7540 </td><td>sf8796</td><td> 1    </td><td>  0.00</td><td>28.00 </td><td>NA    </td><td> 28.00</td><td>0     </td><td>1     </td><td>1     </td></tr>\n",
       "\t<tr><td>5317  </td><td>12B16 </td><td>2.20  </td><td>1.56  </td><td>2.04  </td><td>0.74  </td><td>t5317 </td><td>sf7679</td><td> 2    </td><td>100.00</td><td> 0.00 </td><td>NA    </td><td>100.00</td><td>1     </td><td>1     </td><td>0     </td></tr>\n",
       "</tbody>\n",
       "</table>\n"
      ],
      "text/latex": [
       "\\begin{tabular}{r|llllllllllllllll}\n",
       " t\\_number & roi.label & nfse & nfl & nt1c & nt1v & tnum & sfnum & index & X.CEL & X.NEL & X.NEC & sum & in\\_CEL & in\\_T2all & in\\_NEL\\\\\n",
       "\\hline\n",
       "\t 6369   & 10B28  & 2.10   & 1.84   & 1.20   & 0.84   & t6369  & sf8122 &  1     &  53.85 & 46.15  & NA     & 100.00 & 1      & 1      & 0     \\\\\n",
       "\t 5317   & 11B16  & 2.27   & 1.44   & 1.88   & 0.78   & t5317  & sf7679 &  1     & 100.00 &  0.00  & NA     & 100.00 & 1      & 1      & 0     \\\\\n",
       "\t 8089   & 11B35  &   NA   &   NA   &   NA   &   NA   & NA     & NA     & NA     &     NA &    NA  & NA     &     NA & 0      & 0      & 0     \\\\\n",
       "\t 7408   & 11B40  & 1.84   & 1.13   & 0.82   & 0.79   & t7408  & sf8701 &  1     &   8.70 & 13.04  & NA     &  21.74 & 0      & 0      & 0     \\\\\n",
       "\t 7540   & 11B43  & 2.35   & 1.97   & 0.76   & 0.78   & t7540  & sf8796 &  1     &   0.00 & 28.00  & NA     &  28.00 & 0      & 1      & 1     \\\\\n",
       "\t 5317   & 12B16  & 2.20   & 1.56   & 2.04   & 0.74   & t5317  & sf7679 &  2     & 100.00 &  0.00  & NA     & 100.00 & 1      & 1      & 0     \\\\\n",
       "\\end{tabular}\n"
      ],
      "text/markdown": [
       "\n",
       "t_number | roi.label | nfse | nfl | nt1c | nt1v | tnum | sfnum | index | X.CEL | X.NEL | X.NEC | sum | in_CEL | in_T2all | in_NEL | \n",
       "|---|---|---|---|---|---|\n",
       "| 6369   | 10B28  | 2.10   | 1.84   | 1.20   | 0.84   | t6369  | sf8122 |  1     |  53.85 | 46.15  | NA     | 100.00 | 1      | 1      | 0      | \n",
       "| 5317   | 11B16  | 2.27   | 1.44   | 1.88   | 0.78   | t5317  | sf7679 |  1     | 100.00 |  0.00  | NA     | 100.00 | 1      | 1      | 0      | \n",
       "| 8089   | 11B35  |   NA   |   NA   |   NA   |   NA   | NA     | NA     | NA     |     NA |    NA  | NA     |     NA | 0      | 0      | 0      | \n",
       "| 7408   | 11B40  | 1.84   | 1.13   | 0.82   | 0.79   | t7408  | sf8701 |  1     |   8.70 | 13.04  | NA     |  21.74 | 0      | 0      | 0      | \n",
       "| 7540   | 11B43  | 2.35   | 1.97   | 0.76   | 0.78   | t7540  | sf8796 |  1     |   0.00 | 28.00  | NA     |  28.00 | 0      | 1      | 1      | \n",
       "| 5317   | 12B16  | 2.20   | 1.56   | 2.04   | 0.74   | t5317  | sf7679 |  2     | 100.00 |  0.00  | NA     | 100.00 | 1      | 1      | 0      | \n",
       "\n",
       "\n"
      ],
      "text/plain": [
       "  t_number roi.label nfse nfl  nt1c nt1v tnum  sfnum  index X.CEL  X.NEL X.NEC\n",
       "1 6369     10B28     2.10 1.84 1.20 0.84 t6369 sf8122  1     53.85 46.15 NA   \n",
       "2 5317     11B16     2.27 1.44 1.88 0.78 t5317 sf7679  1    100.00  0.00 NA   \n",
       "3 8089     11B35       NA   NA   NA   NA NA    NA     NA        NA    NA NA   \n",
       "4 7408     11B40     1.84 1.13 0.82 0.79 t7408 sf8701  1      8.70 13.04 NA   \n",
       "5 7540     11B43     2.35 1.97 0.76 0.78 t7540 sf8796  1      0.00 28.00 NA   \n",
       "6 5317     12B16     2.20 1.56 2.04 0.74 t5317 sf7679  2    100.00  0.00 NA   \n",
       "  sum    in_CEL in_T2all in_NEL\n",
       "1 100.00 1      1        0     \n",
       "2 100.00 1      1        0     \n",
       "3     NA 0      0        0     \n",
       "4  21.74 0      0        0     \n",
       "5  28.00 0      1        1     \n",
       "6 100.00 1      1        0     "
      ]
     },
     "metadata": {},
     "output_type": "display_data"
    }
   ],
   "source": [
    "head(data)"
   ]
  },
  {
   "cell_type": "code",
   "execution_count": 76,
   "metadata": {
    "collapsed": false
   },
   "outputs": [],
   "source": [
    "data = data.frame(data, in_NEC = NA) "
   ]
  },
  {
   "cell_type": "markdown",
   "metadata": {},
   "source": [
    "### Here we're going to find out what the range of necrosis is: "
   ]
  },
  {
   "cell_type": "code",
   "execution_count": 77,
   "metadata": {
    "collapsed": true
   },
   "outputs": [],
   "source": [
    "necdata = data[which(data$X.NEC>40 & data$X.CEL < 40),]"
   ]
  },
  {
   "cell_type": "code",
   "execution_count": 78,
   "metadata": {
    "collapsed": false
   },
   "outputs": [
    {
     "data": {
      "text/html": [
       "<ol class=list-inline>\n",
       "\t<li>11</li>\n",
       "\t<li>17</li>\n",
       "</ol>\n"
      ],
      "text/latex": [
       "\\begin{enumerate*}\n",
       "\\item 11\n",
       "\\item 17\n",
       "\\end{enumerate*}\n"
      ],
      "text/markdown": [
       "1. 11\n",
       "2. 17\n",
       "\n",
       "\n"
      ],
      "text/plain": [
       "[1] 11 17"
      ]
     },
     "metadata": {},
     "output_type": "display_data"
    }
   ],
   "source": [
    "dim(necdata)"
   ]
  },
  {
   "cell_type": "code",
   "execution_count": 79,
   "metadata": {
    "collapsed": false
   },
   "outputs": [
    {
     "data": {
      "text/html": [
       "<table>\n",
       "<thead><tr><th></th><th scope=col>t_number</th><th scope=col>roi.label</th><th scope=col>nfse</th><th scope=col>nfl</th><th scope=col>nt1c</th><th scope=col>nt1v</th><th scope=col>tnum</th><th scope=col>sfnum</th><th scope=col>index</th><th scope=col>X.CEL</th><th scope=col>X.NEL</th><th scope=col>X.NEC</th><th scope=col>sum</th><th scope=col>in_CEL</th><th scope=col>in_T2all</th><th scope=col>in_NEL</th><th scope=col>in_NEC</th></tr></thead>\n",
       "<tbody>\n",
       "\t<tr><th scope=row>182</th><td> 5944  </td><td>71B22  </td><td>3.89   </td><td>1.68   </td><td>1.20   </td><td>0.58   </td><td>t5944  </td><td>sf7926 </td><td>1      </td><td> 8.70  </td><td>39.13  </td><td> 47.83 </td><td> 95.66 </td><td>0      </td><td>1      </td><td>1      </td><td>NA     </td></tr>\n",
       "\t<tr><th scope=row>214</th><td> 6671  </td><td>79B31  </td><td>2.54   </td><td>2.07   </td><td>0.76   </td><td>0.58   </td><td>t6671  </td><td>sf8263 </td><td>1      </td><td>33.33  </td><td>14.29  </td><td> 52.38 </td><td>100.00 </td><td>0      </td><td>1      </td><td>1      </td><td>NA     </td></tr>\n",
       "\t<tr><th scope=row>234</th><td> 6671  </td><td>82B31  </td><td>2.90   </td><td>1.50   </td><td>0.72   </td><td>0.65   </td><td>t6671  </td><td>sf8263 </td><td>4      </td><td> 0.00  </td><td> 0.00  </td><td> 95.65 </td><td> 95.65 </td><td>0      </td><td>1      </td><td>1      </td><td>NA     </td></tr>\n",
       "\t<tr><th scope=row>269</th><td> 6241  </td><td>86B25  </td><td>2.72   </td><td>1.76   </td><td>1.72   </td><td>0.85   </td><td>t6241  </td><td>sf8076 </td><td>2      </td><td>36.36  </td><td> 0.00  </td><td> 63.64 </td><td>100.00 </td><td>1      </td><td>1      </td><td>0      </td><td>NA     </td></tr>\n",
       "\t<tr><th scope=row>361</th><td> 9063  </td><td>82B64  </td><td>3.38   </td><td>1.54   </td><td>0.62   </td><td>0.67   </td><td>t9063  </td><td>sf10012</td><td>2      </td><td> 0.00  </td><td> 0.00  </td><td>100.00 </td><td>100.00 </td><td>0      </td><td>1      </td><td>1      </td><td>NA     </td></tr>\n",
       "\t<tr><th scope=row>391</th><td> 9288  </td><td>48B75  </td><td>1.88   </td><td>1.67   </td><td>1.10   </td><td>0.86   </td><td>t9288  </td><td>sf10199</td><td>2      </td><td> 0.00  </td><td> 0.00  </td><td>100.00 </td><td>100.00 </td><td>0      </td><td>1      </td><td>1      </td><td>NA     </td></tr>\n",
       "\t<tr><th scope=row>485</th><td>10655  </td><td>7B91   </td><td>1.33   </td><td>1.40   </td><td>0.94   </td><td>0.94   </td><td>t10655 </td><td>sf10912</td><td>2      </td><td>10.64  </td><td>27.66  </td><td> 57.45 </td><td> 95.75 </td><td>0      </td><td>1      </td><td>1      </td><td>NA     </td></tr>\n",
       "\t<tr><th scope=row>544</th><td>11295  </td><td>49B97  </td><td>1.73   </td><td>1.98   </td><td>1.54   </td><td>0.87   </td><td>t11295 </td><td>sf11196</td><td>2      </td><td>22.50  </td><td> 0.00  </td><td> 77.50 </td><td>100.00 </td><td>1      </td><td>1      </td><td>0      </td><td>NA     </td></tr>\n",
       "\t<tr><th scope=row>545</th><td>11318  </td><td>50B97  </td><td>2.51   </td><td>2.53   </td><td>0.82   </td><td>0.73   </td><td>t11318 </td><td>sf11206</td><td>1      </td><td> 0.00  </td><td>   NA  </td><td> 77.78 </td><td> 77.78 </td><td>0      </td><td>1      </td><td>1      </td><td>NA     </td></tr>\n",
       "\t<tr><th scope=row>610</th><td>11876  </td><td>11560-1</td><td>1.87   </td><td>1.83   </td><td>1.09   </td><td>0.98   </td><td>t11876 </td><td>sf11560</td><td>1      </td><td>17.78  </td><td>28.89  </td><td> 53.33 </td><td>100.00 </td><td>0      </td><td>1      </td><td>1      </td><td>NA     </td></tr>\n",
       "\t<tr><th scope=row>617</th><td>11929  </td><td>76D3   </td><td>1.89   </td><td>2.04   </td><td>0.88   </td><td>0.90   </td><td>t11929 </td><td>sf11597</td><td>1      </td><td>21.95  </td><td>14.63  </td><td> 63.41 </td><td> 99.99 </td><td>0      </td><td>1      </td><td>1      </td><td>NA     </td></tr>\n",
       "</tbody>\n",
       "</table>\n"
      ],
      "text/latex": [
       "\\begin{tabular}{r|lllllllllllllllll}\n",
       "  & t\\_number & roi.label & nfse & nfl & nt1c & nt1v & tnum & sfnum & index & X.CEL & X.NEL & X.NEC & sum & in\\_CEL & in\\_T2all & in\\_NEL & in\\_NEC\\\\\n",
       "\\hline\n",
       "\t182 &  5944   & 71B22   & 3.89    & 1.68    & 1.20    & 0.58    & t5944   & sf7926  & 1       &  8.70   & 39.13   &  47.83  &  95.66  & 0       & 1       & 1       & NA     \\\\\n",
       "\t214 &  6671   & 79B31   & 2.54    & 2.07    & 0.76    & 0.58    & t6671   & sf8263  & 1       & 33.33   & 14.29   &  52.38  & 100.00  & 0       & 1       & 1       & NA     \\\\\n",
       "\t234 &  6671   & 82B31   & 2.90    & 1.50    & 0.72    & 0.65    & t6671   & sf8263  & 4       &  0.00   &  0.00   &  95.65  &  95.65  & 0       & 1       & 1       & NA     \\\\\n",
       "\t269 &  6241   & 86B25   & 2.72    & 1.76    & 1.72    & 0.85    & t6241   & sf8076  & 2       & 36.36   &  0.00   &  63.64  & 100.00  & 1       & 1       & 0       & NA     \\\\\n",
       "\t361 &  9063   & 82B64   & 3.38    & 1.54    & 0.62    & 0.67    & t9063   & sf10012 & 2       &  0.00   &  0.00   & 100.00  & 100.00  & 0       & 1       & 1       & NA     \\\\\n",
       "\t391 &  9288   & 48B75   & 1.88    & 1.67    & 1.10    & 0.86    & t9288   & sf10199 & 2       &  0.00   &  0.00   & 100.00  & 100.00  & 0       & 1       & 1       & NA     \\\\\n",
       "\t485 & 10655   & 7B91    & 1.33    & 1.40    & 0.94    & 0.94    & t10655  & sf10912 & 2       & 10.64   & 27.66   &  57.45  &  95.75  & 0       & 1       & 1       & NA     \\\\\n",
       "\t544 & 11295   & 49B97   & 1.73    & 1.98    & 1.54    & 0.87    & t11295  & sf11196 & 2       & 22.50   &  0.00   &  77.50  & 100.00  & 1       & 1       & 0       & NA     \\\\\n",
       "\t545 & 11318   & 50B97   & 2.51    & 2.53    & 0.82    & 0.73    & t11318  & sf11206 & 1       &  0.00   &    NA   &  77.78  &  77.78  & 0       & 1       & 1       & NA     \\\\\n",
       "\t610 & 11876   & 11560-1 & 1.87    & 1.83    & 1.09    & 0.98    & t11876  & sf11560 & 1       & 17.78   & 28.89   &  53.33  & 100.00  & 0       & 1       & 1       & NA     \\\\\n",
       "\t617 & 11929   & 76D3    & 1.89    & 2.04    & 0.88    & 0.90    & t11929  & sf11597 & 1       & 21.95   & 14.63   &  63.41  &  99.99  & 0       & 1       & 1       & NA     \\\\\n",
       "\\end{tabular}\n"
      ],
      "text/markdown": [
       "\n",
       "| <!--/--> | t_number | roi.label | nfse | nfl | nt1c | nt1v | tnum | sfnum | index | X.CEL | X.NEL | X.NEC | sum | in_CEL | in_T2all | in_NEL | in_NEC | \n",
       "|---|---|---|---|---|---|---|---|---|---|---|\n",
       "| 182 |  5944   | 71B22   | 3.89    | 1.68    | 1.20    | 0.58    | t5944   | sf7926  | 1       |  8.70   | 39.13   |  47.83  |  95.66  | 0       | 1       | 1       | NA      | \n",
       "| 214 |  6671   | 79B31   | 2.54    | 2.07    | 0.76    | 0.58    | t6671   | sf8263  | 1       | 33.33   | 14.29   |  52.38  | 100.00  | 0       | 1       | 1       | NA      | \n",
       "| 234 |  6671   | 82B31   | 2.90    | 1.50    | 0.72    | 0.65    | t6671   | sf8263  | 4       |  0.00   |  0.00   |  95.65  |  95.65  | 0       | 1       | 1       | NA      | \n",
       "| 269 |  6241   | 86B25   | 2.72    | 1.76    | 1.72    | 0.85    | t6241   | sf8076  | 2       | 36.36   |  0.00   |  63.64  | 100.00  | 1       | 1       | 0       | NA      | \n",
       "| 361 |  9063   | 82B64   | 3.38    | 1.54    | 0.62    | 0.67    | t9063   | sf10012 | 2       |  0.00   |  0.00   | 100.00  | 100.00  | 0       | 1       | 1       | NA      | \n",
       "| 391 |  9288   | 48B75   | 1.88    | 1.67    | 1.10    | 0.86    | t9288   | sf10199 | 2       |  0.00   |  0.00   | 100.00  | 100.00  | 0       | 1       | 1       | NA      | \n",
       "| 485 | 10655   | 7B91    | 1.33    | 1.40    | 0.94    | 0.94    | t10655  | sf10912 | 2       | 10.64   | 27.66   |  57.45  |  95.75  | 0       | 1       | 1       | NA      | \n",
       "| 544 | 11295   | 49B97   | 1.73    | 1.98    | 1.54    | 0.87    | t11295  | sf11196 | 2       | 22.50   |  0.00   |  77.50  | 100.00  | 1       | 1       | 0       | NA      | \n",
       "| 545 | 11318   | 50B97   | 2.51    | 2.53    | 0.82    | 0.73    | t11318  | sf11206 | 1       |  0.00   |    NA   |  77.78  |  77.78  | 0       | 1       | 1       | NA      | \n",
       "| 610 | 11876   | 11560-1 | 1.87    | 1.83    | 1.09    | 0.98    | t11876  | sf11560 | 1       | 17.78   | 28.89   |  53.33  | 100.00  | 0       | 1       | 1       | NA      | \n",
       "| 617 | 11929   | 76D3    | 1.89    | 2.04    | 0.88    | 0.90    | t11929  | sf11597 | 1       | 21.95   | 14.63   |  63.41  |  99.99  | 0       | 1       | 1       | NA      | \n",
       "\n",
       "\n"
      ],
      "text/plain": [
       "    t_number roi.label nfse nfl  nt1c nt1v tnum   sfnum   index X.CEL X.NEL\n",
       "182  5944    71B22     3.89 1.68 1.20 0.58 t5944  sf7926  1      8.70 39.13\n",
       "214  6671    79B31     2.54 2.07 0.76 0.58 t6671  sf8263  1     33.33 14.29\n",
       "234  6671    82B31     2.90 1.50 0.72 0.65 t6671  sf8263  4      0.00  0.00\n",
       "269  6241    86B25     2.72 1.76 1.72 0.85 t6241  sf8076  2     36.36  0.00\n",
       "361  9063    82B64     3.38 1.54 0.62 0.67 t9063  sf10012 2      0.00  0.00\n",
       "391  9288    48B75     1.88 1.67 1.10 0.86 t9288  sf10199 2      0.00  0.00\n",
       "485 10655    7B91      1.33 1.40 0.94 0.94 t10655 sf10912 2     10.64 27.66\n",
       "544 11295    49B97     1.73 1.98 1.54 0.87 t11295 sf11196 2     22.50  0.00\n",
       "545 11318    50B97     2.51 2.53 0.82 0.73 t11318 sf11206 1      0.00    NA\n",
       "610 11876    11560-1   1.87 1.83 1.09 0.98 t11876 sf11560 1     17.78 28.89\n",
       "617 11929    76D3      1.89 2.04 0.88 0.90 t11929 sf11597 1     21.95 14.63\n",
       "    X.NEC  sum    in_CEL in_T2all in_NEL in_NEC\n",
       "182  47.83  95.66 0      1        1      NA    \n",
       "214  52.38 100.00 0      1        1      NA    \n",
       "234  95.65  95.65 0      1        1      NA    \n",
       "269  63.64 100.00 1      1        0      NA    \n",
       "361 100.00 100.00 0      1        1      NA    \n",
       "391 100.00 100.00 0      1        1      NA    \n",
       "485  57.45  95.75 0      1        1      NA    \n",
       "544  77.50 100.00 1      1        0      NA    \n",
       "545  77.78  77.78 0      1        1      NA    \n",
       "610  53.33 100.00 0      1        1      NA    \n",
       "617  63.41  99.99 0      1        1      NA    "
      ]
     },
     "metadata": {},
     "output_type": "display_data"
    }
   ],
   "source": [
    "necdata"
   ]
  },
  {
   "cell_type": "code",
   "execution_count": 80,
   "metadata": {
    "collapsed": false
   },
   "outputs": [
    {
     "data": {
      "text/plain": [
       "   Min. 1st Qu.  Median    Mean 3rd Qu.    Max. \n",
       "  0.620   0.790   0.940   1.035   1.150   1.720 "
      ]
     },
     "metadata": {},
     "output_type": "display_data"
    }
   ],
   "source": [
    "summary(necdata$nt1c)"
   ]
  },
  {
   "cell_type": "code",
   "execution_count": 81,
   "metadata": {
    "collapsed": false
   },
   "outputs": [
    {
     "data": {
      "text/plain": [
       "   Min. 1st Qu.  Median    Mean 3rd Qu.    Max. \n",
       "  1.400   1.605   1.760   1.818   2.010   2.530 "
      ]
     },
     "metadata": {},
     "output_type": "display_data"
    }
   ],
   "source": [
    "summary(necdata$nfl)"
   ]
  },
  {
   "cell_type": "code",
   "execution_count": 82,
   "metadata": {
    "collapsed": true
   },
   "outputs": [],
   "source": [
    "## maybe it is safe to say that those w/ darkness on nt1c <.75 have necrosis "
   ]
  },
  {
   "cell_type": "code",
   "execution_count": 83,
   "metadata": {
    "collapsed": true
   },
   "outputs": [],
   "source": [
    "potentialnecdata = data[which(data$nt1c<.75 & data$in_CEL==0 & data$in_NEL ==0) ,]"
   ]
  },
  {
   "cell_type": "code",
   "execution_count": 84,
   "metadata": {
    "collapsed": false
   },
   "outputs": [
    {
     "data": {
      "text/html": [
       "<ol class=list-inline>\n",
       "\t<li>11</li>\n",
       "\t<li>17</li>\n",
       "</ol>\n"
      ],
      "text/latex": [
       "\\begin{enumerate*}\n",
       "\\item 11\n",
       "\\item 17\n",
       "\\end{enumerate*}\n"
      ],
      "text/markdown": [
       "1. 11\n",
       "2. 17\n",
       "\n",
       "\n"
      ],
      "text/plain": [
       "[1] 11 17"
      ]
     },
     "metadata": {},
     "output_type": "display_data"
    }
   ],
   "source": [
    "dim(potentialnecdata)"
   ]
  },
  {
   "cell_type": "code",
   "execution_count": 85,
   "metadata": {
    "collapsed": false
   },
   "outputs": [
    {
     "data": {
      "text/html": [
       "<table>\n",
       "<thead><tr><th></th><th scope=col>t_number</th><th scope=col>roi.label</th><th scope=col>nfse</th><th scope=col>nfl</th><th scope=col>nt1c</th><th scope=col>nt1v</th><th scope=col>tnum</th><th scope=col>sfnum</th><th scope=col>index</th><th scope=col>X.CEL</th><th scope=col>X.NEL</th><th scope=col>X.NEC</th><th scope=col>sum</th><th scope=col>in_CEL</th><th scope=col>in_T2all</th><th scope=col>in_NEL</th><th scope=col>in_NEC</th></tr></thead>\n",
       "<tbody>\n",
       "\t<tr><th scope=row>15</th><td>7394   </td><td>14B41  </td><td>4.23   </td><td>1.03   </td><td>0.51   </td><td>0.52   </td><td>t7394  </td><td>sf8688 </td><td> 2     </td><td>42.86  </td><td> 0     </td><td>   NA  </td><td>42.86  </td><td>0      </td><td>0      </td><td>0      </td><td>NA     </td></tr>\n",
       "\t<tr><th scope=row>102</th><td>6556   </td><td>46B30  </td><td>9.46   </td><td>0.37   </td><td>0.29   </td><td>0.36   </td><td>t6556  </td><td>sf8218 </td><td> 2     </td><td>   NA  </td><td>NA     </td><td>   NA  </td><td>   NA  </td><td>0      </td><td>0      </td><td>0      </td><td>NA     </td></tr>\n",
       "\t<tr><th scope=row>110</th><td>6218   </td><td>4B26   </td><td>2.34   </td><td>0.99   </td><td>0.69   </td><td>0.45   </td><td>t6218  </td><td>sf8057 </td><td> 2     </td><td> 7.69  </td><td> 0     </td><td>30.77  </td><td>38.46  </td><td>0      </td><td>0      </td><td>0      </td><td>NA     </td></tr>\n",
       "\t<tr><th scope=row>202</th><td>5728   </td><td>76B19  </td><td>3.33   </td><td>0.83   </td><td>0.70   </td><td>  NA   </td><td>t5728  </td><td>sf7818 </td><td> 2     </td><td> 0.00  </td><td> 0     </td><td> 0.00  </td><td> 0.00  </td><td>0      </td><td>0      </td><td>0      </td><td>NA     </td></tr>\n",
       "\t<tr><th scope=row>242</th><td>8068   </td><td>8352 T4</td><td>4.10   </td><td>1.10   </td><td>0.66   </td><td>1.04   </td><td>NA     </td><td>NA     </td><td>NA     </td><td>   NA  </td><td>NA     </td><td>   NA  </td><td>   NA  </td><td>0      </td><td>0      </td><td>0      </td><td>NA     </td></tr>\n",
       "\t<tr><th scope=row>282</th><td>7628   </td><td>88B44  </td><td>1.38   </td><td>1.02   </td><td>0.74   </td><td>0.66   </td><td>t7628  </td><td>sf8873 </td><td> 2     </td><td> 0.00  </td><td> 0     </td><td>   NA  </td><td> 0.00  </td><td>0      </td><td>0      </td><td>0      </td><td>NA     </td></tr>\n",
       "\t<tr><th scope=row>298</th><td>6243   </td><td>93B26  </td><td>4.67   </td><td>0.67   </td><td>0.73   </td><td>0.51   </td><td>NA     </td><td>NA     </td><td>NA     </td><td>   NA  </td><td>NA     </td><td>   NA  </td><td>   NA  </td><td>0      </td><td>0      </td><td>0      </td><td>NA     </td></tr>\n",
       "\t<tr><th scope=row>321</th><td>8775   </td><td>1B61   </td><td>0.00   </td><td>0.00   </td><td>0.00   </td><td>  NA   </td><td>NA     </td><td>NA     </td><td>NA     </td><td>   NA  </td><td>NA     </td><td>   NA  </td><td>   NA  </td><td>0      </td><td>0      </td><td>0      </td><td>NA     </td></tr>\n",
       "\t<tr><th scope=row>322</th><td>8775   </td><td>2B61   </td><td>0.00   </td><td>0.00   </td><td>0.00   </td><td>  NA   </td><td>NA     </td><td>NA     </td><td>NA     </td><td>   NA  </td><td>NA     </td><td>   NA  </td><td>   NA  </td><td>0      </td><td>0      </td><td>0      </td><td>NA     </td></tr>\n",
       "\t<tr><th scope=row>323</th><td>8775   </td><td>3B61   </td><td>0.00   </td><td>0.00   </td><td>0.00   </td><td>  NA   </td><td>NA     </td><td>NA     </td><td>NA     </td><td>   NA  </td><td>NA     </td><td>   NA  </td><td>   NA  </td><td>0      </td><td>0      </td><td>0      </td><td>NA     </td></tr>\n",
       "\t<tr><th scope=row>324</th><td>8775   </td><td>4B61   </td><td>0.00   </td><td>0.00   </td><td>0.00   </td><td>  NA   </td><td>NA     </td><td>NA     </td><td>NA     </td><td>   NA  </td><td>NA     </td><td>   NA  </td><td>   NA  </td><td>0      </td><td>0      </td><td>0      </td><td>NA     </td></tr>\n",
       "</tbody>\n",
       "</table>\n"
      ],
      "text/latex": [
       "\\begin{tabular}{r|lllllllllllllllll}\n",
       "  & t\\_number & roi.label & nfse & nfl & nt1c & nt1v & tnum & sfnum & index & X.CEL & X.NEL & X.NEC & sum & in\\_CEL & in\\_T2all & in\\_NEL & in\\_NEC\\\\\n",
       "\\hline\n",
       "\t15 & 7394    & 14B41   & 4.23    & 1.03    & 0.51    & 0.52    & t7394   & sf8688  &  2      & 42.86   &  0      &    NA   & 42.86   & 0       & 0       & 0       & NA     \\\\\n",
       "\t102 & 6556    & 46B30   & 9.46    & 0.37    & 0.29    & 0.36    & t6556   & sf8218  &  2      &    NA   & NA      &    NA   &    NA   & 0       & 0       & 0       & NA     \\\\\n",
       "\t110 & 6218    & 4B26    & 2.34    & 0.99    & 0.69    & 0.45    & t6218   & sf8057  &  2      &  7.69   &  0      & 30.77   & 38.46   & 0       & 0       & 0       & NA     \\\\\n",
       "\t202 & 5728    & 76B19   & 3.33    & 0.83    & 0.70    &   NA    & t5728   & sf7818  &  2      &  0.00   &  0      &  0.00   &  0.00   & 0       & 0       & 0       & NA     \\\\\n",
       "\t242 & 8068    & 8352 T4 & 4.10    & 1.10    & 0.66    & 1.04    & NA      & NA      & NA      &    NA   & NA      &    NA   &    NA   & 0       & 0       & 0       & NA     \\\\\n",
       "\t282 & 7628    & 88B44   & 1.38    & 1.02    & 0.74    & 0.66    & t7628   & sf8873  &  2      &  0.00   &  0      &    NA   &  0.00   & 0       & 0       & 0       & NA     \\\\\n",
       "\t298 & 6243    & 93B26   & 4.67    & 0.67    & 0.73    & 0.51    & NA      & NA      & NA      &    NA   & NA      &    NA   &    NA   & 0       & 0       & 0       & NA     \\\\\n",
       "\t321 & 8775    & 1B61    & 0.00    & 0.00    & 0.00    &   NA    & NA      & NA      & NA      &    NA   & NA      &    NA   &    NA   & 0       & 0       & 0       & NA     \\\\\n",
       "\t322 & 8775    & 2B61    & 0.00    & 0.00    & 0.00    &   NA    & NA      & NA      & NA      &    NA   & NA      &    NA   &    NA   & 0       & 0       & 0       & NA     \\\\\n",
       "\t323 & 8775    & 3B61    & 0.00    & 0.00    & 0.00    &   NA    & NA      & NA      & NA      &    NA   & NA      &    NA   &    NA   & 0       & 0       & 0       & NA     \\\\\n",
       "\t324 & 8775    & 4B61    & 0.00    & 0.00    & 0.00    &   NA    & NA      & NA      & NA      &    NA   & NA      &    NA   &    NA   & 0       & 0       & 0       & NA     \\\\\n",
       "\\end{tabular}\n"
      ],
      "text/markdown": [
       "\n",
       "| <!--/--> | t_number | roi.label | nfse | nfl | nt1c | nt1v | tnum | sfnum | index | X.CEL | X.NEL | X.NEC | sum | in_CEL | in_T2all | in_NEL | in_NEC | \n",
       "|---|---|---|---|---|---|---|---|---|---|---|\n",
       "| 15 | 7394    | 14B41   | 4.23    | 1.03    | 0.51    | 0.52    | t7394   | sf8688  |  2      | 42.86   |  0      |    NA   | 42.86   | 0       | 0       | 0       | NA      | \n",
       "| 102 | 6556    | 46B30   | 9.46    | 0.37    | 0.29    | 0.36    | t6556   | sf8218  |  2      |    NA   | NA      |    NA   |    NA   | 0       | 0       | 0       | NA      | \n",
       "| 110 | 6218    | 4B26    | 2.34    | 0.99    | 0.69    | 0.45    | t6218   | sf8057  |  2      |  7.69   |  0      | 30.77   | 38.46   | 0       | 0       | 0       | NA      | \n",
       "| 202 | 5728    | 76B19   | 3.33    | 0.83    | 0.70    |   NA    | t5728   | sf7818  |  2      |  0.00   |  0      |  0.00   |  0.00   | 0       | 0       | 0       | NA      | \n",
       "| 242 | 8068    | 8352 T4 | 4.10    | 1.10    | 0.66    | 1.04    | NA      | NA      | NA      |    NA   | NA      |    NA   |    NA   | 0       | 0       | 0       | NA      | \n",
       "| 282 | 7628    | 88B44   | 1.38    | 1.02    | 0.74    | 0.66    | t7628   | sf8873  |  2      |  0.00   |  0      |    NA   |  0.00   | 0       | 0       | 0       | NA      | \n",
       "| 298 | 6243    | 93B26   | 4.67    | 0.67    | 0.73    | 0.51    | NA      | NA      | NA      |    NA   | NA      |    NA   |    NA   | 0       | 0       | 0       | NA      | \n",
       "| 321 | 8775    | 1B61    | 0.00    | 0.00    | 0.00    |   NA    | NA      | NA      | NA      |    NA   | NA      |    NA   |    NA   | 0       | 0       | 0       | NA      | \n",
       "| 322 | 8775    | 2B61    | 0.00    | 0.00    | 0.00    |   NA    | NA      | NA      | NA      |    NA   | NA      |    NA   |    NA   | 0       | 0       | 0       | NA      | \n",
       "| 323 | 8775    | 3B61    | 0.00    | 0.00    | 0.00    |   NA    | NA      | NA      | NA      |    NA   | NA      |    NA   |    NA   | 0       | 0       | 0       | NA      | \n",
       "| 324 | 8775    | 4B61    | 0.00    | 0.00    | 0.00    |   NA    | NA      | NA      | NA      |    NA   | NA      |    NA   |    NA   | 0       | 0       | 0       | NA      | \n",
       "\n",
       "\n"
      ],
      "text/plain": [
       "    t_number roi.label nfse nfl  nt1c nt1v tnum  sfnum  index X.CEL X.NEL X.NEC\n",
       "15  7394     14B41     4.23 1.03 0.51 0.52 t7394 sf8688  2    42.86  0       NA\n",
       "102 6556     46B30     9.46 0.37 0.29 0.36 t6556 sf8218  2       NA NA       NA\n",
       "110 6218     4B26      2.34 0.99 0.69 0.45 t6218 sf8057  2     7.69  0    30.77\n",
       "202 5728     76B19     3.33 0.83 0.70   NA t5728 sf7818  2     0.00  0     0.00\n",
       "242 8068     8352 T4   4.10 1.10 0.66 1.04 NA    NA     NA       NA NA       NA\n",
       "282 7628     88B44     1.38 1.02 0.74 0.66 t7628 sf8873  2     0.00  0       NA\n",
       "298 6243     93B26     4.67 0.67 0.73 0.51 NA    NA     NA       NA NA       NA\n",
       "321 8775     1B61      0.00 0.00 0.00   NA NA    NA     NA       NA NA       NA\n",
       "322 8775     2B61      0.00 0.00 0.00   NA NA    NA     NA       NA NA       NA\n",
       "323 8775     3B61      0.00 0.00 0.00   NA NA    NA     NA       NA NA       NA\n",
       "324 8775     4B61      0.00 0.00 0.00   NA NA    NA     NA       NA NA       NA\n",
       "    sum   in_CEL in_T2all in_NEL in_NEC\n",
       "15  42.86 0      0        0      NA    \n",
       "102    NA 0      0        0      NA    \n",
       "110 38.46 0      0        0      NA    \n",
       "202  0.00 0      0        0      NA    \n",
       "242    NA 0      0        0      NA    \n",
       "282  0.00 0      0        0      NA    \n",
       "298    NA 0      0        0      NA    \n",
       "321    NA 0      0        0      NA    \n",
       "322    NA 0      0        0      NA    \n",
       "323    NA 0      0        0      NA    \n",
       "324    NA 0      0        0      NA    "
      ]
     },
     "metadata": {},
     "output_type": "display_data"
    }
   ],
   "source": [
    "potentialnecdata"
   ]
  },
  {
   "cell_type": "code",
   "execution_count": 86,
   "metadata": {
    "collapsed": true
   },
   "outputs": [],
   "source": [
    "## Here I'm going to check a random one of these to see if it's really in necrotic regions\n",
    "## Starting with 5728 - this one is in the cavity (so that we know there is brain shift here... can't take tissue from the cavity )\n",
    "## Checked 5961, 58 seems to be in the t2L, 56 also in t2L, maybe b/c so close to cavity near orbits getting these values\n",
    "## 6218 seems to be in necrosis \n",
    "## 6556 is in the cavity \n",
    "## 7934 is definitely in necrosis\n",
    "## 8068 looks like it's definitely in the FLAIR \n",
    "## 5272 looks like its' in cavity \n",
    "## 7628 looks like it's in the lesion but really can't tell how to categorize this, probably not necrosis\n",
    "## 6243 can't open \n",
    "## 8775 has issue\n",
    "\n",
    "## doesn't look like we can call these necrosis "
   ]
  },
  {
   "cell_type": "markdown",
   "metadata": {},
   "source": [
    "## 10. Adding in whether a biopsy is inside NEC or not\n"
   ]
  },
  {
   "cell_type": "code",
   "execution_count": 87,
   "metadata": {
    "collapsed": false
   },
   "outputs": [
    {
     "data": {
      "text/plain": [
       "\n",
       "  0   1 \n",
       "623  26 "
      ]
     },
     "metadata": {},
     "output_type": "display_data"
    }
   ],
   "source": [
    "data$in_NEC[which(data$X.NEC>20)]=1\n",
    "data$in_NEC=ifelse(is.na(data$in_NEC), 0, 1)\n",
    "table(data$in_NEC)"
   ]
  },
  {
   "cell_type": "markdown",
   "metadata": {},
   "source": [
    "## 11. Exploring whether things are looking as they should/we expect: \n"
   ]
  },
  {
   "cell_type": "code",
   "execution_count": 88,
   "metadata": {
    "collapsed": false,
    "deletable": true,
    "editable": true
   },
   "outputs": [
    {
     "data": {
      "text/html": [
       "<table>\n",
       "<thead><tr><th></th><th scope=col>t_number</th><th scope=col>roi.label</th><th scope=col>nfse</th><th scope=col>nfl</th><th scope=col>nt1c</th><th scope=col>nt1v</th><th scope=col>tnum</th><th scope=col>sfnum</th><th scope=col>index</th><th scope=col>X.CEL</th><th scope=col>X.NEL</th><th scope=col>X.NEC</th><th scope=col>sum</th><th scope=col>in_CEL</th><th scope=col>in_T2all</th><th scope=col>in_NEL</th><th scope=col>in_NEC</th></tr></thead>\n",
       "<tbody>\n",
       "\t<tr><th scope=row>22</th><td>8070  </td><td>18B13 </td><td>1.72  </td><td>1.11  </td><td>2.31  </td><td>1.14  </td><td>t8070 </td><td>sf7540</td><td>1     </td><td>0     </td><td>   NA </td><td>NA    </td><td> 0.00 </td><td>1     </td><td>0     </td><td>0     </td><td>0     </td></tr>\n",
       "\t<tr><th scope=row>37</th><td>5656  </td><td>23B18 </td><td>1.79  </td><td>1.50  </td><td>2.72  </td><td>1.77  </td><td>t5656 </td><td>sf7760</td><td>1     </td><td>0     </td><td>80.77 </td><td>NA    </td><td>80.77 </td><td>1     </td><td>1     </td><td>1     </td><td>0     </td></tr>\n",
       "\t<tr><th scope=row>128</th><td>5550  </td><td>55B17 </td><td>2.69  </td><td>2.03  </td><td>2.06  </td><td>0.83  </td><td>t5550 </td><td>sf7732</td><td>1     </td><td>0     </td><td>86.96 </td><td>NA    </td><td>86.96 </td><td>1     </td><td>1     </td><td>1     </td><td>0     </td></tr>\n",
       "\t<tr><th scope=row>130</th><td>5550  </td><td>56B17 </td><td>2.27  </td><td>1.83  </td><td>2.17  </td><td>0.92  </td><td>t5550 </td><td>sf7732</td><td>2     </td><td>0     </td><td> 0.00 </td><td>NA    </td><td> 0.00 </td><td>1     </td><td>1     </td><td>0     </td><td>0     </td></tr>\n",
       "\t<tr><th scope=row>156</th><td>7225  </td><td>62B39 </td><td>1.50  </td><td>1.29  </td><td>1.83  </td><td>1.08  </td><td>t7225 </td><td>sf8582</td><td>1     </td><td>0     </td><td> 0.00 </td><td>NA    </td><td> 0.00 </td><td>1     </td><td>1     </td><td>0     </td><td>0     </td></tr>\n",
       "\t<tr><th scope=row>189</th><td>5577  </td><td>73B17 </td><td>0.95  </td><td>1.24  </td><td>1.55  </td><td>1.07  </td><td>t5577 </td><td>sf7750</td><td>2     </td><td>0     </td><td> 0.00 </td><td> 0    </td><td> 0.00 </td><td>1     </td><td>0     </td><td>0     </td><td>0     </td></tr>\n",
       "</tbody>\n",
       "</table>\n"
      ],
      "text/latex": [
       "\\begin{tabular}{r|lllllllllllllllll}\n",
       "  & t\\_number & roi.label & nfse & nfl & nt1c & nt1v & tnum & sfnum & index & X.CEL & X.NEL & X.NEC & sum & in\\_CEL & in\\_T2all & in\\_NEL & in\\_NEC\\\\\n",
       "\\hline\n",
       "\t22 & 8070   & 18B13  & 1.72   & 1.11   & 2.31   & 1.14   & t8070  & sf7540 & 1      & 0      &    NA  & NA     &  0.00  & 1      & 0      & 0      & 0     \\\\\n",
       "\t37 & 5656   & 23B18  & 1.79   & 1.50   & 2.72   & 1.77   & t5656  & sf7760 & 1      & 0      & 80.77  & NA     & 80.77  & 1      & 1      & 1      & 0     \\\\\n",
       "\t128 & 5550   & 55B17  & 2.69   & 2.03   & 2.06   & 0.83   & t5550  & sf7732 & 1      & 0      & 86.96  & NA     & 86.96  & 1      & 1      & 1      & 0     \\\\\n",
       "\t130 & 5550   & 56B17  & 2.27   & 1.83   & 2.17   & 0.92   & t5550  & sf7732 & 2      & 0      &  0.00  & NA     &  0.00  & 1      & 1      & 0      & 0     \\\\\n",
       "\t156 & 7225   & 62B39  & 1.50   & 1.29   & 1.83   & 1.08   & t7225  & sf8582 & 1      & 0      &  0.00  & NA     &  0.00  & 1      & 1      & 0      & 0     \\\\\n",
       "\t189 & 5577   & 73B17  & 0.95   & 1.24   & 1.55   & 1.07   & t5577  & sf7750 & 2      & 0      &  0.00  &  0     &  0.00  & 1      & 0      & 0      & 0     \\\\\n",
       "\\end{tabular}\n"
      ],
      "text/markdown": [
       "\n",
       "| <!--/--> | t_number | roi.label | nfse | nfl | nt1c | nt1v | tnum | sfnum | index | X.CEL | X.NEL | X.NEC | sum | in_CEL | in_T2all | in_NEL | in_NEC | \n",
       "|---|---|---|---|---|---|\n",
       "| 22 | 8070   | 18B13  | 1.72   | 1.11   | 2.31   | 1.14   | t8070  | sf7540 | 1      | 0      |    NA  | NA     |  0.00  | 1      | 0      | 0      | 0      | \n",
       "| 37 | 5656   | 23B18  | 1.79   | 1.50   | 2.72   | 1.77   | t5656  | sf7760 | 1      | 0      | 80.77  | NA     | 80.77  | 1      | 1      | 1      | 0      | \n",
       "| 128 | 5550   | 55B17  | 2.69   | 2.03   | 2.06   | 0.83   | t5550  | sf7732 | 1      | 0      | 86.96  | NA     | 86.96  | 1      | 1      | 1      | 0      | \n",
       "| 130 | 5550   | 56B17  | 2.27   | 1.83   | 2.17   | 0.92   | t5550  | sf7732 | 2      | 0      |  0.00  | NA     |  0.00  | 1      | 1      | 0      | 0      | \n",
       "| 156 | 7225   | 62B39  | 1.50   | 1.29   | 1.83   | 1.08   | t7225  | sf8582 | 1      | 0      |  0.00  | NA     |  0.00  | 1      | 1      | 0      | 0      | \n",
       "| 189 | 5577   | 73B17  | 0.95   | 1.24   | 1.55   | 1.07   | t5577  | sf7750 | 2      | 0      |  0.00  |  0     |  0.00  | 1      | 0      | 0      | 0      | \n",
       "\n",
       "\n"
      ],
      "text/plain": [
       "    t_number roi.label nfse nfl  nt1c nt1v tnum  sfnum  index X.CEL X.NEL X.NEC\n",
       "22  8070     18B13     1.72 1.11 2.31 1.14 t8070 sf7540 1     0        NA NA   \n",
       "37  5656     23B18     1.79 1.50 2.72 1.77 t5656 sf7760 1     0     80.77 NA   \n",
       "128 5550     55B17     2.69 2.03 2.06 0.83 t5550 sf7732 1     0     86.96 NA   \n",
       "130 5550     56B17     2.27 1.83 2.17 0.92 t5550 sf7732 2     0      0.00 NA   \n",
       "156 7225     62B39     1.50 1.29 1.83 1.08 t7225 sf8582 1     0      0.00 NA   \n",
       "189 5577     73B17     0.95 1.24 1.55 1.07 t5577 sf7750 2     0      0.00  0   \n",
       "    sum   in_CEL in_T2all in_NEL in_NEC\n",
       "22   0.00 1      0        0      0     \n",
       "37  80.77 1      1        1      0     \n",
       "128 86.96 1      1        1      0     \n",
       "130  0.00 1      1        0      0     \n",
       "156  0.00 1      1        0      0     \n",
       "189  0.00 1      0        0      0     "
      ]
     },
     "metadata": {},
     "output_type": "display_data"
    }
   ],
   "source": [
    "head(data[which(data$in_CEL==1 & data$X.CEL==0),])"
   ]
  },
  {
   "cell_type": "code",
   "execution_count": 89,
   "metadata": {
    "collapsed": true,
    "deletable": true,
    "editable": true
   },
   "outputs": [],
   "source": [
    "## all of these have issues with the ROI, not with the designation of CEL given the range of inputs. \n",
    "## great to know, now let's just make sure that all of the ones in NEL are all in NEL "
   ]
  },
  {
   "cell_type": "code",
   "execution_count": 90,
   "metadata": {
    "collapsed": false,
    "deletable": true,
    "editable": true
   },
   "outputs": [
    {
     "data": {
      "text/html": [
       "<table>\n",
       "<thead><tr><th></th><th scope=col>t_number</th><th scope=col>roi.label</th><th scope=col>nfse</th><th scope=col>nfl</th><th scope=col>nt1c</th><th scope=col>nt1v</th><th scope=col>tnum</th><th scope=col>sfnum</th><th scope=col>index</th><th scope=col>X.CEL</th><th scope=col>X.NEL</th><th scope=col>X.NEC</th><th scope=col>sum</th><th scope=col>in_CEL</th><th scope=col>in_T2all</th><th scope=col>in_NEL</th><th scope=col>in_NEC</th></tr></thead>\n",
       "<tbody>\n",
       "\t<tr><th scope=row>23</th><td>5983  </td><td>18B23 </td><td>2.01  </td><td>1.34  </td><td>0.91  </td><td>0.85  </td><td>t5983 </td><td>sf7949</td><td>1     </td><td>33.33 </td><td>0     </td><td>   NA </td><td>33.33 </td><td>0     </td><td>1     </td><td>1     </td><td>0     </td></tr>\n",
       "\t<tr><th scope=row>49</th><td>6274  </td><td>28B27 </td><td>1.53  </td><td>1.27  </td><td>0.84  </td><td>1.04  </td><td>t6274 </td><td>sf8093</td><td>1     </td><td> 9.09 </td><td>0     </td><td> 0.00 </td><td> 9.09 </td><td>0     </td><td>1     </td><td>1     </td><td>0     </td></tr>\n",
       "\t<tr><th scope=row>100</th><td>6274  </td><td>44B27 </td><td>1.51  </td><td>1.26  </td><td>0.90  </td><td>0.98  </td><td>t6274 </td><td>sf8093</td><td>4     </td><td>40.91 </td><td>0     </td><td> 0.00 </td><td>40.91 </td><td>0     </td><td>1     </td><td>1     </td><td>0     </td></tr>\n",
       "\t<tr><th scope=row>234</th><td>6671  </td><td>82B31 </td><td>2.90  </td><td>1.50  </td><td>0.72  </td><td>0.65  </td><td>t6671 </td><td>sf8263</td><td>4     </td><td> 0.00 </td><td>0     </td><td>95.65 </td><td>95.65 </td><td>0     </td><td>1     </td><td>1     </td><td>1     </td></tr>\n",
       "\t<tr><th scope=row>274</th><td>5668  </td><td>87B18 </td><td>0.66  </td><td>1.28  </td><td>0.94  </td><td>  NA  </td><td>t5668 </td><td>sf7793</td><td>3     </td><td> 0.00 </td><td>0     </td><td> 0.00 </td><td> 0.00 </td><td>0     </td><td>1     </td><td>1     </td><td>0     </td></tr>\n",
       "\t<tr><th scope=row>325</th><td>8783  </td><td>31B61 </td><td>1.08  </td><td>1.38  </td><td>0.97  </td><td>  NA  </td><td>t8783 </td><td>sf9739</td><td>1     </td><td> 0.00 </td><td>0     </td><td>   NA </td><td> 0.00 </td><td>0     </td><td>1     </td><td>1     </td><td>0     </td></tr>\n",
       "</tbody>\n",
       "</table>\n"
      ],
      "text/latex": [
       "\\begin{tabular}{r|lllllllllllllllll}\n",
       "  & t\\_number & roi.label & nfse & nfl & nt1c & nt1v & tnum & sfnum & index & X.CEL & X.NEL & X.NEC & sum & in\\_CEL & in\\_T2all & in\\_NEL & in\\_NEC\\\\\n",
       "\\hline\n",
       "\t23 & 5983   & 18B23  & 2.01   & 1.34   & 0.91   & 0.85   & t5983  & sf7949 & 1      & 33.33  & 0      &    NA  & 33.33  & 0      & 1      & 1      & 0     \\\\\n",
       "\t49 & 6274   & 28B27  & 1.53   & 1.27   & 0.84   & 1.04   & t6274  & sf8093 & 1      &  9.09  & 0      &  0.00  &  9.09  & 0      & 1      & 1      & 0     \\\\\n",
       "\t100 & 6274   & 44B27  & 1.51   & 1.26   & 0.90   & 0.98   & t6274  & sf8093 & 4      & 40.91  & 0      &  0.00  & 40.91  & 0      & 1      & 1      & 0     \\\\\n",
       "\t234 & 6671   & 82B31  & 2.90   & 1.50   & 0.72   & 0.65   & t6671  & sf8263 & 4      &  0.00  & 0      & 95.65  & 95.65  & 0      & 1      & 1      & 1     \\\\\n",
       "\t274 & 5668   & 87B18  & 0.66   & 1.28   & 0.94   &   NA   & t5668  & sf7793 & 3      &  0.00  & 0      &  0.00  &  0.00  & 0      & 1      & 1      & 0     \\\\\n",
       "\t325 & 8783   & 31B61  & 1.08   & 1.38   & 0.97   &   NA   & t8783  & sf9739 & 1      &  0.00  & 0      &    NA  &  0.00  & 0      & 1      & 1      & 0     \\\\\n",
       "\\end{tabular}\n"
      ],
      "text/markdown": [
       "\n",
       "| <!--/--> | t_number | roi.label | nfse | nfl | nt1c | nt1v | tnum | sfnum | index | X.CEL | X.NEL | X.NEC | sum | in_CEL | in_T2all | in_NEL | in_NEC | \n",
       "|---|---|---|---|---|---|\n",
       "| 23 | 5983   | 18B23  | 2.01   | 1.34   | 0.91   | 0.85   | t5983  | sf7949 | 1      | 33.33  | 0      |    NA  | 33.33  | 0      | 1      | 1      | 0      | \n",
       "| 49 | 6274   | 28B27  | 1.53   | 1.27   | 0.84   | 1.04   | t6274  | sf8093 | 1      |  9.09  | 0      |  0.00  |  9.09  | 0      | 1      | 1      | 0      | \n",
       "| 100 | 6274   | 44B27  | 1.51   | 1.26   | 0.90   | 0.98   | t6274  | sf8093 | 4      | 40.91  | 0      |  0.00  | 40.91  | 0      | 1      | 1      | 0      | \n",
       "| 234 | 6671   | 82B31  | 2.90   | 1.50   | 0.72   | 0.65   | t6671  | sf8263 | 4      |  0.00  | 0      | 95.65  | 95.65  | 0      | 1      | 1      | 1      | \n",
       "| 274 | 5668   | 87B18  | 0.66   | 1.28   | 0.94   |   NA   | t5668  | sf7793 | 3      |  0.00  | 0      |  0.00  |  0.00  | 0      | 1      | 1      | 0      | \n",
       "| 325 | 8783   | 31B61  | 1.08   | 1.38   | 0.97   |   NA   | t8783  | sf9739 | 1      |  0.00  | 0      |    NA  |  0.00  | 0      | 1      | 1      | 0      | \n",
       "\n",
       "\n"
      ],
      "text/plain": [
       "    t_number roi.label nfse nfl  nt1c nt1v tnum  sfnum  index X.CEL X.NEL X.NEC\n",
       "23  5983     18B23     2.01 1.34 0.91 0.85 t5983 sf7949 1     33.33 0        NA\n",
       "49  6274     28B27     1.53 1.27 0.84 1.04 t6274 sf8093 1      9.09 0      0.00\n",
       "100 6274     44B27     1.51 1.26 0.90 0.98 t6274 sf8093 4     40.91 0      0.00\n",
       "234 6671     82B31     2.90 1.50 0.72 0.65 t6671 sf8263 4      0.00 0     95.65\n",
       "274 5668     87B18     0.66 1.28 0.94   NA t5668 sf7793 3      0.00 0      0.00\n",
       "325 8783     31B61     1.08 1.38 0.97   NA t8783 sf9739 1      0.00 0        NA\n",
       "    sum   in_CEL in_T2all in_NEL in_NEC\n",
       "23  33.33 0      1        1      0     \n",
       "49   9.09 0      1        1      0     \n",
       "100 40.91 0      1        1      0     \n",
       "234 95.65 0      1        1      1     \n",
       "274  0.00 0      1        1      0     \n",
       "325  0.00 0      1        1      0     "
      ]
     },
     "metadata": {},
     "output_type": "display_data"
    }
   ],
   "source": [
    "head(data[which(data$in_NEL ==1 & data$X.NEL ==0),])"
   ]
  },
  {
   "cell_type": "code",
   "execution_count": 91,
   "metadata": {
    "collapsed": true,
    "deletable": true,
    "editable": true
   },
   "outputs": [],
   "source": [
    "## ok so the first one i inspected, 9288, is in necrosis. i don't think i took this into consideration above. we will have to go back and do that: \n",
    "## 10152 57 would have been in the NEL if drawn more liberally \n"
   ]
  },
  {
   "cell_type": "markdown",
   "metadata": {},
   "source": [
    "### Here we want to see if the biopsy is in an ROI at all: "
   ]
  },
  {
   "cell_type": "code",
   "execution_count": 92,
   "metadata": {
    "collapsed": true
   },
   "outputs": [],
   "source": [
    "data = data.frame(data, in_ROI = NA)"
   ]
  },
  {
   "cell_type": "code",
   "execution_count": 93,
   "metadata": {
    "collapsed": false
   },
   "outputs": [],
   "source": [
    "data$in_ROI = ifelse(data$in_CEL==1 | data$in_NEL ==1 | data$in_NEC ==1, 1, 0)"
   ]
  },
  {
   "cell_type": "code",
   "execution_count": 94,
   "metadata": {
    "collapsed": false
   },
   "outputs": [
    {
     "data": {
      "text/plain": [
       "\n",
       "  0   1 \n",
       "166 483 "
      ]
     },
     "metadata": {},
     "output_type": "display_data"
    }
   ],
   "source": [
    "table(data$in_ROI)"
   ]
  },
  {
   "cell_type": "code",
   "execution_count": 95,
   "metadata": {
    "collapsed": false
   },
   "outputs": [
    {
     "data": {
      "text/html": [
       "<table>\n",
       "<thead><tr><th></th><th scope=col>t_number</th><th scope=col>roi.label</th><th scope=col>nfse</th><th scope=col>nfl</th><th scope=col>nt1c</th><th scope=col>nt1v</th><th scope=col>tnum</th><th scope=col>sfnum</th><th scope=col>index</th><th scope=col>X.CEL</th><th scope=col>X.NEL</th><th scope=col>X.NEC</th><th scope=col>sum</th><th scope=col>in_CEL</th><th scope=col>in_T2all</th><th scope=col>in_NEL</th><th scope=col>in_NEC</th><th scope=col>in_ROI</th></tr></thead>\n",
       "<tbody>\n",
       "\t<tr><th scope=row>3</th><td> 8089  </td><td>11B35  </td><td>  NA   </td><td>  NA   </td><td>  NA   </td><td>  NA   </td><td>NA     </td><td>NA     </td><td>NA     </td><td>   NA  </td><td>   NA  </td><td>NA     </td><td>   NA  </td><td>0      </td><td>0      </td><td>0      </td><td>0      </td><td>0      </td></tr>\n",
       "\t<tr><th scope=row>4</th><td> 7408  </td><td>11B40  </td><td>1.84   </td><td>1.13   </td><td>0.82   </td><td>0.79   </td><td>t7408  </td><td>sf8701 </td><td> 1     </td><td> 8.70  </td><td>13.04  </td><td>NA     </td><td>21.74  </td><td>0      </td><td>0      </td><td>0      </td><td>0      </td><td>0      </td></tr>\n",
       "\t<tr><th scope=row>9</th><td> 8089  </td><td>12B35  </td><td>  NA   </td><td>  NA   </td><td>  NA   </td><td>  NA   </td><td>NA     </td><td>NA     </td><td>NA     </td><td>   NA  </td><td>   NA  </td><td>NA     </td><td>   NA  </td><td>0      </td><td>0      </td><td>0      </td><td>0      </td><td>0      </td></tr>\n",
       "\t<tr><th scope=row>10</th><td> 7408  </td><td>12B40  </td><td>1.87   </td><td>0.96   </td><td>0.91   </td><td>0.87   </td><td>t7408  </td><td>sf8701 </td><td> 2     </td><td> 0.00  </td><td>21.43  </td><td>NA     </td><td>21.43  </td><td>0      </td><td>0      </td><td>0      </td><td>0      </td><td>0      </td></tr>\n",
       "\t<tr><th scope=row>12</th><td> 8089  </td><td>13B35  </td><td>  NA   </td><td>  NA   </td><td>  NA   </td><td>  NA   </td><td>NA     </td><td>NA     </td><td>NA     </td><td>   NA  </td><td>   NA  </td><td>NA     </td><td>   NA  </td><td>0      </td><td>0      </td><td>0      </td><td>0      </td><td>0      </td></tr>\n",
       "\t<tr><th scope=row>13</th><td> 7394  </td><td>13B41  </td><td>2.42   </td><td>1.07   </td><td>1.11   </td><td>0.90   </td><td>t7394  </td><td>sf8688 </td><td> 1     </td><td> 8.70  </td><td> 0.00  </td><td>NA     </td><td> 8.70  </td><td>0      </td><td>0      </td><td>0      </td><td>0      </td><td>0      </td></tr>\n",
       "\t<tr><th scope=row>14</th><td> 6709  </td><td>14B32  </td><td>1.08   </td><td>1.23   </td><td>0.95   </td><td>  NA   </td><td>t6709  </td><td>sf8269 </td><td> 2     </td><td> 9.09  </td><td> 0.00  </td><td>NA     </td><td> 9.09  </td><td>0      </td><td>0      </td><td>0      </td><td>0      </td><td>0      </td></tr>\n",
       "\t<tr><th scope=row>15</th><td> 7394  </td><td>14B41  </td><td>4.23   </td><td>1.03   </td><td>0.51   </td><td>0.52   </td><td>t7394  </td><td>sf8688 </td><td> 2     </td><td>42.86  </td><td> 0.00  </td><td>NA     </td><td>42.86  </td><td>0      </td><td>0      </td><td>0      </td><td>0      </td><td>0      </td></tr>\n",
       "\t<tr><th scope=row>16</th><td> 7584  </td><td>14B44  </td><td>3.34   </td><td>0.85   </td><td>1.08   </td><td>0.72   </td><td>t7584  </td><td>sf8842 </td><td> 1     </td><td> 0.00  </td><td> 0.00  </td><td>NA     </td><td> 0.00  </td><td>0      </td><td>0      </td><td>0      </td><td>0      </td><td>0      </td></tr>\n",
       "\t<tr><th scope=row>18</th><td> 6709  </td><td>15B32  </td><td>1.85   </td><td>1.12   </td><td>0.92   </td><td>  NA   </td><td>t6709  </td><td>sf8269 </td><td> 3     </td><td> 9.09  </td><td>22.73  </td><td>NA     </td><td>31.82  </td><td>0      </td><td>0      </td><td>0      </td><td>0      </td><td>0      </td></tr>\n",
       "\t<tr><th scope=row>29</th><td> 7111  </td><td>1B38   </td><td>  NA   </td><td>  NA   </td><td>  NA   </td><td>  NA   </td><td>NA     </td><td>NA     </td><td>NA     </td><td>   NA  </td><td>   NA  </td><td>NA     </td><td>   NA  </td><td>0      </td><td>0      </td><td>0      </td><td>0      </td><td>0      </td></tr>\n",
       "\t<tr><th scope=row>34</th><td> 6586  </td><td>21B31  </td><td>  NA   </td><td>  NA   </td><td>  NA   </td><td>  NA   </td><td>NA     </td><td>NA     </td><td>NA     </td><td>   NA  </td><td>   NA  </td><td>NA     </td><td>   NA  </td><td>0      </td><td>0      </td><td>0      </td><td>0      </td><td>0      </td></tr>\n",
       "\t<tr><th scope=row>36</th><td> 6586  </td><td>22B31  </td><td>  NA   </td><td>  NA   </td><td>  NA   </td><td>  NA   </td><td>NA     </td><td>NA     </td><td>NA     </td><td>   NA  </td><td>   NA  </td><td>NA     </td><td>   NA  </td><td>0      </td><td>0      </td><td>0      </td><td>0      </td><td>0      </td></tr>\n",
       "\t<tr><th scope=row>39</th><td> 6586  </td><td>23B31  </td><td>  NA   </td><td>  NA   </td><td>  NA   </td><td>  NA   </td><td>NA     </td><td>NA     </td><td>NA     </td><td>   NA  </td><td>   NA  </td><td>NA     </td><td>   NA  </td><td>0      </td><td>0      </td><td>0      </td><td>0      </td><td>0      </td></tr>\n",
       "\t<tr><th scope=row>40</th><td> 7444  </td><td>23B42  </td><td>  NA   </td><td>  NA   </td><td>  NA   </td><td>  NA   </td><td>NA     </td><td>NA     </td><td>NA     </td><td>   NA  </td><td>   NA  </td><td>NA     </td><td>   NA  </td><td>0      </td><td>0      </td><td>0      </td><td>0      </td><td>0      </td></tr>\n",
       "\t<tr><th scope=row>41</th><td> 6586  </td><td>24B31  </td><td>  NA   </td><td>  NA   </td><td>  NA   </td><td>  NA   </td><td>NA     </td><td>NA     </td><td>NA     </td><td>   NA  </td><td>   NA  </td><td>NA     </td><td>   NA  </td><td>0      </td><td>0      </td><td>0      </td><td>0      </td><td>0      </td></tr>\n",
       "\t<tr><th scope=row>42</th><td> 7444  </td><td>24B42  </td><td>  NA   </td><td>  NA   </td><td>  NA   </td><td>  NA   </td><td>NA     </td><td>NA     </td><td>NA     </td><td>   NA  </td><td>   NA  </td><td>NA     </td><td>   NA  </td><td>0      </td><td>0      </td><td>0      </td><td>0      </td><td>0      </td></tr>\n",
       "\t<tr><th scope=row>43</th><td> 7444  </td><td>25B42  </td><td>  NA   </td><td>  NA   </td><td>  NA   </td><td>  NA   </td><td>NA     </td><td>NA     </td><td>NA     </td><td>   NA  </td><td>   NA  </td><td>NA     </td><td>   NA  </td><td>0      </td><td>0      </td><td>0      </td><td>0      </td><td>0      </td></tr>\n",
       "\t<tr><th scope=row>44</th><td> 7553  </td><td>25B43  </td><td>0.66   </td><td>0.54   </td><td>1.11   </td><td>0.87   </td><td>t7553  </td><td>sf8804 </td><td> 1     </td><td>   NA  </td><td>   NA  </td><td>NA     </td><td>   NA  </td><td>0      </td><td>0      </td><td>0      </td><td>0      </td><td>0      </td></tr>\n",
       "\t<tr><th scope=row>45</th><td> 8070  </td><td>26B13  </td><td>1.44   </td><td>0.99   </td><td>0.86   </td><td>0.84   </td><td>t8070  </td><td>sf7540 </td><td> 2     </td><td> 0.00  </td><td>   NA  </td><td>NA     </td><td> 0.00  </td><td>0      </td><td>0      </td><td>0      </td><td>0      </td><td>0      </td></tr>\n",
       "\t<tr><th scope=row>52</th><td> 7555  </td><td>29B43  </td><td>1.49   </td><td>1.25   </td><td>0.81   </td><td>0.81   </td><td>t7555  </td><td>sf8808 </td><td> 1     </td><td> 0.00  </td><td> 0.00  </td><td>NA     </td><td> 0.00  </td><td>0      </td><td>0      </td><td>0      </td><td>0      </td><td>0      </td></tr>\n",
       "\t<tr><th scope=row>54</th><td> 7111  </td><td>2B38   </td><td>  NA   </td><td>  NA   </td><td>  NA   </td><td>  NA   </td><td>NA     </td><td>NA     </td><td>NA     </td><td>   NA  </td><td>   NA  </td><td>NA     </td><td>   NA  </td><td>0      </td><td>0      </td><td>0      </td><td>0      </td><td>0      </td></tr>\n",
       "\t<tr><th scope=row>60</th><td> 6127  </td><td>31B18  </td><td>  NA   </td><td>  NA   </td><td>  NA   </td><td>  NA   </td><td>NA     </td><td>NA     </td><td>NA     </td><td>   NA  </td><td>   NA  </td><td>NA     </td><td>   NA  </td><td>0      </td><td>0      </td><td>0      </td><td>0      </td><td>0      </td></tr>\n",
       "\t<tr><th scope=row>67</th><td> 7555  </td><td>32B43  </td><td>1.36   </td><td>0.53   </td><td>0.76   </td><td>0.72   </td><td>t7555  </td><td>sf8808 </td><td> 4     </td><td> 0.00  </td><td> 0.00  </td><td>NA     </td><td> 0.00  </td><td>0      </td><td>0      </td><td>0      </td><td>0      </td><td>0      </td></tr>\n",
       "\t<tr><th scope=row>78</th><td> 6436  </td><td>36B29  </td><td>  NA   </td><td>  NA   </td><td>  NA   </td><td>  NA   </td><td>NA     </td><td>NA     </td><td>NA     </td><td>   NA  </td><td>   NA  </td><td>NA     </td><td>   NA  </td><td>0      </td><td>0      </td><td>0      </td><td>0      </td><td>0      </td></tr>\n",
       "\t<tr><th scope=row>80</th><td> 5538  </td><td>37B17  </td><td>2.62   </td><td>0.82   </td><td>0.90   </td><td>  NA   </td><td>t5538  </td><td>sf7728 </td><td> 1     </td><td> 0.00  </td><td> 3.70  </td><td> 0     </td><td> 3.70  </td><td>0      </td><td>0      </td><td>0      </td><td>0      </td><td>0      </td></tr>\n",
       "\t<tr><th scope=row>81</th><td> 6148  </td><td>37B22  </td><td>  NA   </td><td>  NA   </td><td>  NA   </td><td>  NA   </td><td>NA     </td><td>NA     </td><td>NA     </td><td>   NA  </td><td>   NA  </td><td>NA     </td><td>   NA  </td><td>0      </td><td>0      </td><td>0      </td><td>0      </td><td>0      </td></tr>\n",
       "\t<tr><th scope=row>82</th><td> 7227  </td><td>37B39  </td><td>0.97   </td><td>0.57   </td><td>1.17   </td><td>0.98   </td><td>t7227  </td><td>sf8580 </td><td> 3     </td><td> 0.00  </td><td> 0.00  </td><td>NA     </td><td> 0.00  </td><td>0      </td><td>0      </td><td>0      </td><td>0      </td><td>0      </td></tr>\n",
       "\t<tr><th scope=row>86</th><td> 6148  </td><td>38B22  </td><td>  NA   </td><td>  NA   </td><td>  NA   </td><td>  NA   </td><td>NA     </td><td>NA     </td><td>NA     </td><td>   NA  </td><td>   NA  </td><td>NA     </td><td>   NA  </td><td>0      </td><td>0      </td><td>0      </td><td>0      </td><td>0      </td></tr>\n",
       "\t<tr><th scope=row>88</th><td> 6148  </td><td>39B22  </td><td>  NA   </td><td>  NA   </td><td>  NA   </td><td>  NA   </td><td>NA     </td><td>NA     </td><td>NA     </td><td>   NA  </td><td>   NA  </td><td>NA     </td><td>   NA  </td><td>0      </td><td>0      </td><td>0      </td><td>0      </td><td>0      </td></tr>\n",
       "\t<tr><th scope=row>89</th><td> 6436  </td><td>39B29  </td><td>  NA   </td><td>  NA   </td><td>  NA   </td><td>  NA   </td><td>NA     </td><td>NA     </td><td>NA     </td><td>   NA  </td><td>   NA  </td><td>NA     </td><td>   NA  </td><td>0      </td><td>0      </td><td>0      </td><td>0      </td><td>0      </td></tr>\n",
       "\t<tr><th scope=row>99</th><td> 6274  </td><td>43B27  </td><td>1.50   </td><td>1.15   </td><td>0.96   </td><td>0.98   </td><td>t6274  </td><td>sf8093 </td><td> 3     </td><td>19.05  </td><td> 0.00  </td><td> 0     </td><td>19.05  </td><td>0      </td><td>0      </td><td>0      </td><td>0      </td><td>0      </td></tr>\n",
       "\t<tr><th scope=row>102</th><td> 6556  </td><td>46B30  </td><td>9.46   </td><td>0.37   </td><td>0.29   </td><td>0.36   </td><td>t6556  </td><td>sf8218 </td><td> 2     </td><td>   NA  </td><td>   NA  </td><td>NA     </td><td>   NA  </td><td>0      </td><td>0      </td><td>0      </td><td>0      </td><td>0      </td></tr>\n",
       "\t<tr><th scope=row>105</th><td> 7043  </td><td>48B37  </td><td>  NA   </td><td>  NA   </td><td>  NA   </td><td>  NA   </td><td>NA     </td><td>NA     </td><td>NA     </td><td>   NA  </td><td>   NA  </td><td>NA     </td><td>   NA  </td><td>0      </td><td>0      </td><td>0      </td><td>0      </td><td>0      </td></tr>\n",
       "\t<tr><th scope=row>106</th><td> 7329  </td><td>48B40  </td><td>3.77   </td><td>1.17   </td><td>0.78   </td><td>0.57   </td><td>t7329  </td><td>sf8649 </td><td> 2     </td><td>24.14  </td><td> 0.00  </td><td>NA     </td><td>24.14  </td><td>0      </td><td>0      </td><td>0      </td><td>0      </td><td>0      </td></tr>\n",
       "\t<tr><th scope=row>107</th><td> 7039  </td><td>49B15  </td><td>1.88   </td><td>1.13   </td><td>1.18   </td><td>0.83   </td><td>t7039  </td><td>sf7640 </td><td> 1     </td><td> 4.35  </td><td>34.78  </td><td>NA     </td><td>39.13  </td><td>0      </td><td>0      </td><td>0      </td><td>0      </td><td>0      </td></tr>\n",
       "\t<tr><th scope=row>108</th><td> 7338  </td><td>49B40  </td><td>  NA   </td><td>  NA   </td><td>  NA   </td><td>  NA   </td><td>NA     </td><td>NA     </td><td>NA     </td><td>   NA  </td><td>   NA  </td><td>NA     </td><td>   NA  </td><td>0      </td><td>0      </td><td>0      </td><td>0      </td><td>0      </td></tr>\n",
       "\t<tr><th scope=row>115</th><td> 8088  </td><td>51B43  </td><td>  NA   </td><td>  NA   </td><td>  NA   </td><td>  NA   </td><td>NA     </td><td>NA     </td><td>NA     </td><td>   NA  </td><td>   NA  </td><td>NA     </td><td>   NA  </td><td>0      </td><td>0      </td><td>0      </td><td>0      </td><td>0      </td></tr>\n",
       "\t<tr><th scope=row>118</th><td> 6925  </td><td>52B35  </td><td>1.26   </td><td>0.87   </td><td>1.03   </td><td>  NA   </td><td>t6925  </td><td>sf8422 </td><td> 1     </td><td>   NA  </td><td>   NA  </td><td>NA     </td><td>   NA  </td><td>0      </td><td>0      </td><td>0      </td><td>0      </td><td>0      </td></tr>\n",
       "\t<tr><th scope=row>119</th><td> 8088  </td><td>52B43  </td><td>  NA   </td><td>  NA   </td><td>  NA   </td><td>  NA   </td><td>NA     </td><td>NA     </td><td>NA     </td><td>   NA  </td><td>   NA  </td><td>NA     </td><td>   NA  </td><td>0      </td><td>0      </td><td>0      </td><td>0      </td><td>0      </td></tr>\n",
       "\t<tr><th scope=row>121</th><td> 5333  </td><td>53B16  </td><td>1.11   </td><td>1.25   </td><td>0.85   </td><td>  NA   </td><td>NA     </td><td>NA     </td><td>NA     </td><td>   NA  </td><td>   NA  </td><td>NA     </td><td>   NA  </td><td>0      </td><td>0      </td><td>0      </td><td>0      </td><td>0      </td></tr>\n",
       "\t<tr><th scope=row>123</th><td> 6925  </td><td>53B35  </td><td>1.19   </td><td>0.83   </td><td>0.96   </td><td>  NA   </td><td>t6925  </td><td>sf8422 </td><td> 2     </td><td>   NA  </td><td>   NA  </td><td>NA     </td><td>   NA  </td><td>0      </td><td>0      </td><td>0      </td><td>0      </td><td>0      </td></tr>\n",
       "\t<tr><th scope=row>124</th><td> 7001  </td><td>53B36  </td><td>  NA   </td><td>  NA   </td><td>  NA   </td><td>  NA   </td><td>NA     </td><td>NA     </td><td>NA     </td><td>   NA  </td><td>   NA  </td><td>NA     </td><td>   NA  </td><td>0      </td><td>0      </td><td>0      </td><td>0      </td><td>0      </td></tr>\n",
       "\t<tr><th scope=row>127</th><td> 6925  </td><td>54B35  </td><td>  NA   </td><td>  NA   </td><td>  NA   </td><td>  NA   </td><td>NA     </td><td>NA     </td><td>NA     </td><td>   NA  </td><td>   NA  </td><td>NA     </td><td>   NA  </td><td>0      </td><td>0      </td><td>0      </td><td>0      </td><td>0      </td></tr>\n",
       "\t<tr><th scope=row>147</th><td> 7338  </td><td>60B40  </td><td>  NA   </td><td>  NA   </td><td>  NA   </td><td>  NA   </td><td>NA     </td><td>NA     </td><td>NA     </td><td>   NA  </td><td>   NA  </td><td>NA     </td><td>   NA  </td><td>0      </td><td>0      </td><td>0      </td><td>0      </td><td>0      </td></tr>\n",
       "\t<tr><th scope=row>150</th><td> 6152  </td><td>61B24  </td><td>2.74   </td><td>1.21   </td><td>0.92   </td><td>0.91   </td><td>t6152  </td><td>sf7997 </td><td> 2     </td><td>   NA  </td><td>   NA  </td><td>NA     </td><td>   NA  </td><td>0      </td><td>0      </td><td>0      </td><td>0      </td><td>0      </td></tr>\n",
       "\t<tr><th scope=row>155</th><td> 6929  </td><td>62B35  </td><td>1.06   </td><td>1.08   </td><td>1.01   </td><td>0.93   </td><td>t6929  </td><td>sf8425 </td><td> 3     </td><td> 0.00  </td><td> 0.00  </td><td>NA     </td><td> 0.00  </td><td>0      </td><td>0      </td><td>0      </td><td>0      </td><td>0      </td></tr>\n",
       "\t<tr><th scope=row>157</th><td> 6472  </td><td>63B29  </td><td>2.39   </td><td>0.61   </td><td>1.16   </td><td>0.58   </td><td>t6472  </td><td>sf8186 </td><td> 1     </td><td>18.52  </td><td> 0.00  </td><td> 0     </td><td>18.52  </td><td>0      </td><td>0      </td><td>0      </td><td>0      </td><td>0      </td></tr>\n",
       "\t<tr><th scope=row>158</th><td> 7225  </td><td>63B39  </td><td>1.54   </td><td>1.16   </td><td>0.91   </td><td>1.00   </td><td>t7225  </td><td>sf8582 </td><td> 2     </td><td> 0.00  </td><td> 0.00  </td><td>NA     </td><td> 0.00  </td><td>0      </td><td>0      </td><td>0      </td><td>0      </td><td>0      </td></tr>\n",
       "\t<tr><th scope=row>159</th><td> 6285  </td><td>64B27  </td><td>1.83   </td><td>1.16   </td><td>1.04   </td><td>0.58   </td><td>t6285  </td><td>sf8104 </td><td> 3     </td><td>33.33  </td><td> 0.00  </td><td>NA     </td><td>33.33  </td><td>0      </td><td>0      </td><td>0      </td><td>0      </td><td>0      </td></tr>\n",
       "\t<tr><th scope=row>166</th><td> 6708  </td><td>66B31  </td><td>  NA   </td><td>  NA   </td><td>  NA   </td><td>  NA   </td><td>NA     </td><td>NA     </td><td>NA     </td><td>   NA  </td><td>   NA  </td><td>NA     </td><td>   NA  </td><td>0      </td><td>0      </td><td>0      </td><td>0      </td><td>0      </td></tr>\n",
       "\t<tr><th scope=row>168</th><td> 6708  </td><td>67B31  </td><td>  NA   </td><td>  NA   </td><td>  NA   </td><td>  NA   </td><td>NA     </td><td>NA     </td><td>NA     </td><td>   NA  </td><td>   NA  </td><td>NA     </td><td>   NA  </td><td>0      </td><td>0      </td><td>0      </td><td>0      </td><td>0      </td></tr>\n",
       "\t<tr><th scope=row>176</th><td> 7540  </td><td>6B43   </td><td>  NA   </td><td>  NA   </td><td>  NA   </td><td>  NA   </td><td>t7540  </td><td>sf8796 </td><td> 2     </td><td> 0.00  </td><td>22.92  </td><td>NA     </td><td>22.92  </td><td>0      </td><td>0      </td><td>0      </td><td>0      </td><td>0      </td></tr>\n",
       "\t<tr><th scope=row>181</th><td> 5577  </td><td>71B17  </td><td>1.60   </td><td>1.24   </td><td>1.46   </td><td>0.82   </td><td>t5577  </td><td>sf7750 </td><td> 1     </td><td>36.00  </td><td> 0.00  </td><td> 0     </td><td>36.00  </td><td>0      </td><td>0      </td><td>0      </td><td>0      </td><td>0      </td></tr>\n",
       "\t<tr><th scope=row>184</th><td> 6630  </td><td>71B31  </td><td>1.80   </td><td>1.12   </td><td>1.06   </td><td>  NA   </td><td>t6630  </td><td>sf8250 </td><td> 2     </td><td> 0.00  </td><td>17.24  </td><td> 0     </td><td>17.24  </td><td>0      </td><td>0      </td><td>0      </td><td>0      </td><td>0      </td></tr>\n",
       "\t<tr><th scope=row>202</th><td> 5728  </td><td>76B19  </td><td>3.33   </td><td>0.83   </td><td>0.70   </td><td>  NA   </td><td>t5728  </td><td>sf7818 </td><td> 2     </td><td> 0.00  </td><td> 0.00  </td><td> 0     </td><td> 0.00  </td><td>0      </td><td>0      </td><td>0      </td><td>0      </td><td>0      </td></tr>\n",
       "\t<tr><th scope=row>203</th><td> 8085  </td><td>77B22  </td><td>  NA   </td><td>  NA   </td><td>  NA   </td><td>  NA   </td><td>NA     </td><td>NA     </td><td>NA     </td><td>   NA  </td><td>   NA  </td><td>NA     </td><td>   NA  </td><td>0      </td><td>0      </td><td>0      </td><td>0      </td><td>0      </td></tr>\n",
       "\t<tr><th scope=row>209</th><td> 8085  </td><td>78B22  </td><td>  NA   </td><td>  NA   </td><td>  NA   </td><td>  NA   </td><td>NA     </td><td>NA     </td><td>NA     </td><td>   NA  </td><td>   NA  </td><td>NA     </td><td>   NA  </td><td>0      </td><td>0      </td><td>0      </td><td>0      </td><td>0      </td></tr>\n",
       "\t<tr><th scope=row>210</th><td> 5934  </td><td>7909 T1</td><td>  NA   </td><td>  NA   </td><td>  NA   </td><td>  NA   </td><td>NA     </td><td>NA     </td><td>NA     </td><td>   NA  </td><td>   NA  </td><td>NA     </td><td>   NA  </td><td>0      </td><td>0      </td><td>0      </td><td>0      </td><td>0      </td></tr>\n",
       "\t<tr><th scope=row>211</th><td> 5934  </td><td>7909 T2</td><td>  NA   </td><td>  NA   </td><td>  NA   </td><td>  NA   </td><td>NA     </td><td>NA     </td><td>NA     </td><td>   NA  </td><td>   NA  </td><td>NA     </td><td>   NA  </td><td>0      </td><td>0      </td><td>0      </td><td>0      </td><td>0      </td></tr>\n",
       "\t<tr><th scope=row>212</th><td> 5934  </td><td>7909 T3</td><td>  NA   </td><td>  NA   </td><td>  NA   </td><td>  NA   </td><td>NA     </td><td>NA     </td><td>NA     </td><td>   NA  </td><td>   NA  </td><td>NA     </td><td>   NA  </td><td>0      </td><td>0      </td><td>0      </td><td>0      </td><td>0      </td></tr>\n",
       "\t<tr><th scope=row>213</th><td> 8085  </td><td>79B22  </td><td>  NA   </td><td>  NA   </td><td>  NA   </td><td>  NA   </td><td>NA     </td><td>NA     </td><td>NA     </td><td>   NA  </td><td>   NA  </td><td>NA     </td><td>   NA  </td><td>0      </td><td>0      </td><td>0      </td><td>0      </td><td>0      </td></tr>\n",
       "\t<tr><th scope=row>220</th><td> 7486  </td><td>80B24  </td><td>  NA   </td><td>  NA   </td><td>  NA   </td><td>  NA   </td><td>NA     </td><td>NA     </td><td>NA     </td><td>   NA  </td><td>   NA  </td><td>NA     </td><td>   NA  </td><td>0      </td><td>0      </td><td>0      </td><td>0      </td><td>0      </td></tr>\n",
       "\t<tr><th scope=row>224</th><td> 5739  </td><td>81B19  </td><td>1.38   </td><td>  NA   </td><td>0.83   </td><td>  NA   </td><td>t5739  </td><td>sf7821 </td><td> 1     </td><td>   NA  </td><td>   NA  </td><td>NA     </td><td>   NA  </td><td>0      </td><td>0      </td><td>0      </td><td>0      </td><td>0      </td></tr>\n",
       "\t<tr><th scope=row>226</th><td> 7486  </td><td>81B24  </td><td>  NA   </td><td>  NA   </td><td>  NA   </td><td>  NA   </td><td>NA     </td><td>NA     </td><td>NA     </td><td>   NA  </td><td>   NA  </td><td>NA     </td><td>   NA  </td><td>0      </td><td>0      </td><td>0      </td><td>0      </td><td>0      </td></tr>\n",
       "\t<tr><th scope=row>227</th><td> 6304  </td><td>81B27  </td><td>  NA   </td><td>  NA   </td><td>  NA   </td><td>  NA   </td><td>NA     </td><td>NA     </td><td>NA     </td><td>   NA  </td><td>   NA  </td><td>NA     </td><td>   NA  </td><td>0      </td><td>0      </td><td>0      </td><td>0      </td><td>0      </td></tr>\n",
       "\t<tr><th scope=row>229</th><td> 7338  </td><td>81B40  </td><td>  NA   </td><td>  NA   </td><td>  NA   </td><td>  NA   </td><td>NA     </td><td>NA     </td><td>NA     </td><td>   NA  </td><td>   NA  </td><td>NA     </td><td>   NA  </td><td>0      </td><td>0      </td><td>0      </td><td>0      </td><td>0      </td></tr>\n",
       "\t<tr><th scope=row>231</th><td> 7486  </td><td>82B24  </td><td>  NA   </td><td>  NA   </td><td>  NA   </td><td>  NA   </td><td>NA     </td><td>NA     </td><td>NA     </td><td>   NA  </td><td>   NA  </td><td>NA     </td><td>   NA  </td><td>0      </td><td>0      </td><td>0      </td><td>0      </td><td>0      </td></tr>\n",
       "\t<tr><th scope=row>233</th><td> 6405  </td><td>82B28  </td><td>  NA   </td><td>  NA   </td><td>  NA   </td><td>  NA   </td><td>NA     </td><td>NA     </td><td>NA     </td><td>   NA  </td><td>   NA  </td><td>NA     </td><td>   NA  </td><td>0      </td><td>0      </td><td>0      </td><td>0      </td><td>0      </td></tr>\n",
       "\t<tr><th scope=row>236</th><td> 6826  </td><td>8343 G3</td><td>  NA   </td><td>  NA   </td><td>  NA   </td><td>  NA   </td><td>NA     </td><td>NA     </td><td>NA     </td><td>   NA  </td><td>   NA  </td><td>NA     </td><td>   NA  </td><td>0      </td><td>0      </td><td>0      </td><td>0      </td><td>0      </td></tr>\n",
       "\t<tr><th scope=row>237</th><td> 6826  </td><td>8343 P2</td><td>  NA   </td><td>  NA   </td><td>  NA   </td><td>  NA   </td><td>NA     </td><td>NA     </td><td>NA     </td><td>   NA  </td><td>   NA  </td><td>NA     </td><td>   NA  </td><td>0      </td><td>0      </td><td>0      </td><td>0      </td><td>0      </td></tr>\n",
       "\t<tr><th scope=row>238</th><td> 6826  </td><td>8343 Y1</td><td>  NA   </td><td>  NA   </td><td>  NA   </td><td>  NA   </td><td>NA     </td><td>NA     </td><td>NA     </td><td>   NA  </td><td>   NA  </td><td>NA     </td><td>   NA  </td><td>0      </td><td>0      </td><td>0      </td><td>0      </td><td>0      </td></tr>\n",
       "\t<tr><th scope=row>240</th><td> 8068  </td><td>8352 T2</td><td>1.01   </td><td>1.12   </td><td>1.00   </td><td>1.19   </td><td>NA     </td><td>NA     </td><td>NA     </td><td>   NA  </td><td>   NA  </td><td>NA     </td><td>   NA  </td><td>0      </td><td>0      </td><td>0      </td><td>0      </td><td>0      </td></tr>\n",
       "\t<tr><th scope=row>242</th><td> 8068  </td><td>8352 T4</td><td>4.10   </td><td>1.10   </td><td>0.66   </td><td>1.04   </td><td>NA     </td><td>NA     </td><td>NA     </td><td>   NA  </td><td>   NA  </td><td>NA     </td><td>   NA  </td><td>0      </td><td>0      </td><td>0      </td><td>0      </td><td>0      </td></tr>\n",
       "\t<tr><th scope=row>250</th><td> 6405  </td><td>83B28  </td><td>  NA   </td><td>  NA   </td><td>  NA   </td><td>  NA   </td><td>NA     </td><td>NA     </td><td>NA     </td><td>   NA  </td><td>   NA  </td><td>NA     </td><td>   NA  </td><td>0      </td><td>0      </td><td>0      </td><td>0      </td><td>0      </td></tr>\n",
       "\t<tr><th scope=row>256</th><td> 6296  </td><td>84B27  </td><td>2.02   </td><td>0.78   </td><td>1.14   </td><td>0.72   </td><td>t6296  </td><td>sf8112 </td><td> 2     </td><td> 0.00  </td><td> 0.00  </td><td> 0     </td><td> 0.00  </td><td>0      </td><td>0      </td><td>0      </td><td>0      </td><td>0      </td></tr>\n",
       "\t<tr><th scope=row>257</th><td> 8090  </td><td>84B29  </td><td>  NA   </td><td>  NA   </td><td>  NA   </td><td>  NA   </td><td>NA     </td><td>NA     </td><td>NA     </td><td>   NA  </td><td>   NA  </td><td>NA     </td><td>   NA  </td><td>0      </td><td>0      </td><td>0      </td><td>0      </td><td>0      </td></tr>\n",
       "\t<tr><th scope=row>262</th><td> 6405  </td><td>85B28  </td><td>  NA   </td><td>  NA   </td><td>  NA   </td><td>  NA   </td><td>NA     </td><td>NA     </td><td>NA     </td><td>   NA  </td><td>   NA  </td><td>NA     </td><td>   NA  </td><td>0      </td><td>0      </td><td>0      </td><td>0      </td><td>0      </td></tr>\n",
       "\t<tr><th scope=row>263</th><td> 8090  </td><td>85B29  </td><td>  NA   </td><td>  NA   </td><td>  NA   </td><td>  NA   </td><td>NA     </td><td>NA     </td><td>NA     </td><td>   NA  </td><td>   NA  </td><td>NA     </td><td>   NA  </td><td>0      </td><td>0      </td><td>0      </td><td>0      </td><td>0      </td></tr>\n",
       "\t<tr><th scope=row>265</th><td> 7332  </td><td>8653 B1</td><td>  NA   </td><td>  NA   </td><td>  NA   </td><td>  NA   </td><td>NA     </td><td>NA     </td><td>NA     </td><td>   NA  </td><td>   NA  </td><td>NA     </td><td>   NA  </td><td>0      </td><td>0      </td><td>0      </td><td>0      </td><td>0      </td></tr>\n",
       "\t<tr><th scope=row>266</th><td> 7332  </td><td>8653 B2</td><td>  NA   </td><td>  NA   </td><td>  NA   </td><td>  NA   </td><td>NA     </td><td>NA     </td><td>NA     </td><td>   NA  </td><td>   NA  </td><td>NA     </td><td>   NA  </td><td>0      </td><td>0      </td><td>0      </td><td>0      </td><td>0      </td></tr>\n",
       "\t<tr><th scope=row>267</th><td> 5272  </td><td>86B15  </td><td>1.23   </td><td>1.11   </td><td>0.96   </td><td>1.02   </td><td>t5272  </td><td>sf7659 </td><td> 2     </td><td>   NA  </td><td>   NA  </td><td>NA     </td><td>   NA  </td><td>0      </td><td>0      </td><td>0      </td><td>0      </td><td>0      </td></tr>\n",
       "\t<tr><th scope=row>271</th><td> 8090  </td><td>86B29  </td><td>  NA   </td><td>  NA   </td><td>  NA   </td><td>  NA   </td><td>NA     </td><td>NA     </td><td>NA     </td><td>   NA  </td><td>   NA  </td><td>NA     </td><td>   NA  </td><td>0      </td><td>0      </td><td>0      </td><td>0      </td><td>0      </td></tr>\n",
       "\t<tr><th scope=row>273</th><td> 7015  </td><td>87B15  </td><td>1.19   </td><td>1.14   </td><td>0.76   </td><td>0.85   </td><td>NA     </td><td>NA     </td><td>NA     </td><td>   NA  </td><td>   NA  </td><td>NA     </td><td>   NA  </td><td>0      </td><td>0      </td><td>0      </td><td>0      </td><td>0      </td></tr>\n",
       "\t<tr><th scope=row>277</th><td> 7776  </td><td>87B46  </td><td>  NA   </td><td>  NA   </td><td>  NA   </td><td>  NA   </td><td>NA     </td><td>NA     </td><td>NA     </td><td>   NA  </td><td>   NA  </td><td>NA     </td><td>   NA  </td><td>0      </td><td>0      </td><td>0      </td><td>0      </td><td>0      </td></tr>\n",
       "\t<tr><th scope=row>278</th><td> 7015  </td><td>88B15  </td><td>2.19   </td><td>1.24   </td><td>0.99   </td><td>0.57   </td><td>NA     </td><td>NA     </td><td>NA     </td><td>   NA  </td><td>   NA  </td><td>NA     </td><td>   NA  </td><td>0      </td><td>0      </td><td>0      </td><td>0      </td><td>0      </td></tr>\n",
       "\t<tr><th scope=row>280</th><td> 8098  </td><td>88B22  </td><td>  NA   </td><td>  NA   </td><td>  NA   </td><td>  NA   </td><td>NA     </td><td>NA     </td><td>NA     </td><td>   NA  </td><td>   NA  </td><td>NA     </td><td>   NA  </td><td>0      </td><td>0      </td><td>0      </td><td>0      </td><td>0      </td></tr>\n",
       "\t<tr><th scope=row>282</th><td> 7628  </td><td>88B44  </td><td>1.38   </td><td>1.02   </td><td>0.74   </td><td>0.66   </td><td>t7628  </td><td>sf8873 </td><td> 2     </td><td> 0.00  </td><td> 0.00  </td><td>NA     </td><td> 0.00  </td><td>0      </td><td>0      </td><td>0      </td><td>0      </td><td>0      </td></tr>\n",
       "\t<tr><th scope=row>283</th><td> 7776  </td><td>88B46  </td><td>  NA   </td><td>  NA   </td><td>  NA   </td><td>  NA   </td><td>NA     </td><td>NA     </td><td>NA     </td><td>   NA  </td><td>   NA  </td><td>NA     </td><td>   NA  </td><td>0      </td><td>0      </td><td>0      </td><td>0      </td><td>0      </td></tr>\n",
       "\t<tr><th scope=row>285</th><td> 8098  </td><td>89B22  </td><td>  NA   </td><td>  NA   </td><td>  NA   </td><td>  NA   </td><td>NA     </td><td>NA     </td><td>NA     </td><td>   NA  </td><td>   NA  </td><td>NA     </td><td>   NA  </td><td>0      </td><td>0      </td><td>0      </td><td>0      </td><td>0      </td></tr>\n",
       "\t<tr><th scope=row>290</th><td> 7035  </td><td>8B37   </td><td>  NA   </td><td>  NA   </td><td>  NA   </td><td>  NA   </td><td>NA     </td><td>NA     </td><td>NA     </td><td>   NA  </td><td>   NA  </td><td>NA     </td><td>   NA  </td><td>0      </td><td>0      </td><td>0      </td><td>0      </td><td>0      </td></tr>\n",
       "\t<tr><th scope=row>298</th><td> 6243  </td><td>93B26  </td><td>4.67   </td><td>0.67   </td><td>0.73   </td><td>0.51   </td><td>NA     </td><td>NA     </td><td>NA     </td><td>   NA  </td><td>   NA  </td><td>NA     </td><td>   NA  </td><td>0      </td><td>0      </td><td>0      </td><td>0      </td><td>0      </td></tr>\n",
       "\t<tr><th scope=row>301</th><td> 7282  </td><td>95B39  </td><td>  NA   </td><td>  NA   </td><td>  NA   </td><td>  NA   </td><td>NA     </td><td>NA     </td><td>NA     </td><td>   NA  </td><td>   NA  </td><td>NA     </td><td>   NA  </td><td>0      </td><td>0      </td><td>0      </td><td>0      </td><td>0      </td></tr>\n",
       "\t<tr><th scope=row>303</th><td> 7282  </td><td>96B39  </td><td>  NA   </td><td>  NA   </td><td>  NA   </td><td>  NA   </td><td>NA     </td><td>NA     </td><td>NA     </td><td>   NA  </td><td>   NA  </td><td>NA     </td><td>   NA  </td><td>0      </td><td>0      </td><td>0      </td><td>0      </td><td>0      </td></tr>\n",
       "\t<tr><th scope=row>306</th><td> 6865  </td><td>97B34  </td><td>  NA   </td><td>  NA   </td><td>  NA   </td><td>  NA   </td><td>NA     </td><td>NA     </td><td>NA     </td><td>   NA  </td><td>   NA  </td><td>NA     </td><td>   NA  </td><td>0      </td><td>0      </td><td>0      </td><td>0      </td><td>0      </td></tr>\n",
       "\t<tr><th scope=row>307</th><td> 5739  </td><td>98B19  </td><td>2.08   </td><td>  NA   </td><td>1.17   </td><td>  NA   </td><td>t5739  </td><td>sf7821 </td><td> 2     </td><td>   NA  </td><td>   NA  </td><td>NA     </td><td>   NA  </td><td>0      </td><td>0      </td><td>0      </td><td>0      </td><td>0      </td></tr>\n",
       "\t<tr><th scope=row>308</th><td> 6495  </td><td>98B29  </td><td>1.31   </td><td>1.10   </td><td>1.02   </td><td>0.81   </td><td>t6495  </td><td>sf8196 </td><td> 3     </td><td> 0.00  </td><td> 0.00  </td><td>NA     </td><td> 0.00  </td><td>0      </td><td>0      </td><td>0      </td><td>0      </td><td>0      </td></tr>\n",
       "\t<tr><th scope=row>309</th><td> 6865  </td><td>98B34  </td><td>  NA   </td><td>  NA   </td><td>  NA   </td><td>  NA   </td><td>NA     </td><td>NA     </td><td>NA     </td><td>   NA  </td><td>   NA  </td><td>NA     </td><td>   NA  </td><td>0      </td><td>0      </td><td>0      </td><td>0      </td><td>0      </td></tr>\n",
       "\t<tr><th scope=row>310</th><td> 5739  </td><td>99B19  </td><td>1.67   </td><td>  NA   </td><td>0.94   </td><td>  NA   </td><td>t5739  </td><td>sf7821 </td><td> 3     </td><td>   NA  </td><td>   NA  </td><td>NA     </td><td>   NA  </td><td>0      </td><td>0      </td><td>0      </td><td>0      </td><td>0      </td></tr>\n",
       "\t<tr><th scope=row>312</th><td> 6865  </td><td>99B34  </td><td>  NA   </td><td>  NA   </td><td>  NA   </td><td>  NA   </td><td>NA     </td><td>NA     </td><td>NA     </td><td>   NA  </td><td>   NA  </td><td>NA     </td><td>   NA  </td><td>0      </td><td>0      </td><td>0      </td><td>0      </td><td>0      </td></tr>\n",
       "\t<tr><th scope=row>314</th><td> 7035  </td><td>9B37   </td><td>  NA   </td><td>  NA   </td><td>  NA   </td><td>  NA   </td><td>NA     </td><td>NA     </td><td>NA     </td><td>   NA  </td><td>   NA  </td><td>NA     </td><td>   NA  </td><td>0      </td><td>0      </td><td>0      </td><td>0      </td><td>0      </td></tr>\n",
       "\t<tr><th scope=row>317</th><td> 8773  </td><td>60B60  </td><td>  NA   </td><td>  NA   </td><td>  NA   </td><td>  NA   </td><td>NA     </td><td>NA     </td><td>NA     </td><td>   NA  </td><td>   NA  </td><td>NA     </td><td>   NA  </td><td>0      </td><td>0      </td><td>0      </td><td>0      </td><td>0      </td></tr>\n",
       "\t<tr><th scope=row>320</th><td> 8773  </td><td>63B60  </td><td>1.22   </td><td>1.18   </td><td>0.92   </td><td>  NA   </td><td>t8773  </td><td>sf9727 </td><td> 3     </td><td> 2.38  </td><td>30.95  </td><td>NA     </td><td>33.33  </td><td>0      </td><td>0      </td><td>0      </td><td>0      </td><td>0      </td></tr>\n",
       "\t<tr><th scope=row>321</th><td> 8775  </td><td>1B61   </td><td>0.00   </td><td>0.00   </td><td>0.00   </td><td>  NA   </td><td>NA     </td><td>NA     </td><td>NA     </td><td>   NA  </td><td>   NA  </td><td>NA     </td><td>   NA  </td><td>0      </td><td>0      </td><td>0      </td><td>0      </td><td>0      </td></tr>\n",
       "\t<tr><th scope=row>322</th><td> 8775  </td><td>2B61   </td><td>0.00   </td><td>0.00   </td><td>0.00   </td><td>  NA   </td><td>NA     </td><td>NA     </td><td>NA     </td><td>   NA  </td><td>   NA  </td><td>NA     </td><td>   NA  </td><td>0      </td><td>0      </td><td>0      </td><td>0      </td><td>0      </td></tr>\n",
       "\t<tr><th scope=row>323</th><td> 8775  </td><td>3B61   </td><td>0.00   </td><td>0.00   </td><td>0.00   </td><td>  NA   </td><td>NA     </td><td>NA     </td><td>NA     </td><td>   NA  </td><td>   NA  </td><td>NA     </td><td>   NA  </td><td>0      </td><td>0      </td><td>0      </td><td>0      </td><td>0      </td></tr>\n",
       "\t<tr><th scope=row>324</th><td> 8775  </td><td>4B61   </td><td>0.00   </td><td>0.00   </td><td>0.00   </td><td>  NA   </td><td>NA     </td><td>NA     </td><td>NA     </td><td>   NA  </td><td>   NA  </td><td>NA     </td><td>   NA  </td><td>0      </td><td>0      </td><td>0      </td><td>0      </td><td>0      </td></tr>\n",
       "\t<tr><th scope=row>328</th><td> 8869  </td><td>68B60  </td><td>  NA   </td><td>  NA   </td><td>  NA   </td><td>  NA   </td><td>NA     </td><td>NA     </td><td>NA     </td><td>   NA  </td><td>   NA  </td><td>NA     </td><td>   NA  </td><td>0      </td><td>0      </td><td>0      </td><td>0      </td><td>0      </td></tr>\n",
       "\t<tr><th scope=row>339</th><td> 8956  </td><td>82B63  </td><td>1.38   </td><td>1.11   </td><td>1.46   </td><td>0.76   </td><td>t8956  </td><td>sf9907 </td><td> 2     </td><td> 0.00  </td><td> 2.50  </td><td>NA     </td><td> 2.50  </td><td>0      </td><td>0      </td><td>0      </td><td>0      </td><td>0      </td></tr>\n",
       "\t<tr><th scope=row>343</th><td> 8969  </td><td>       </td><td>  NA   </td><td>  NA   </td><td>  NA   </td><td>  NA   </td><td>NA     </td><td>NA     </td><td>NA     </td><td>   NA  </td><td>   NA  </td><td>NA     </td><td>   NA  </td><td>0      </td><td>0      </td><td>0      </td><td>0      </td><td>0      </td></tr>\n",
       "\t<tr><th scope=row>375</th><td> 9134  </td><td>15B71  </td><td>  NA   </td><td>  NA   </td><td>  NA   </td><td>  NA   </td><td>t9134  </td><td>sf10071</td><td> 2     </td><td> 0.00  </td><td> 0.00  </td><td>NA     </td><td> 0.00  </td><td>0      </td><td>0      </td><td>0      </td><td>0      </td><td>0      </td></tr>\n",
       "\t<tr><th scope=row>376</th><td> 9163  </td><td>       </td><td>  NA   </td><td>  NA   </td><td>  NA   </td><td>  NA   </td><td>NA     </td><td>NA     </td><td>NA     </td><td>   NA  </td><td>   NA  </td><td>NA     </td><td>   NA  </td><td>0      </td><td>0      </td><td>0      </td><td>0      </td><td>0      </td></tr>\n",
       "\t<tr><th scope=row>377</th><td> 9170  </td><td>       </td><td>  NA   </td><td>  NA   </td><td>  NA   </td><td>  NA   </td><td>NA     </td><td>NA     </td><td>NA     </td><td>   NA  </td><td>   NA  </td><td>NA     </td><td>   NA  </td><td>0      </td><td>0      </td><td>0      </td><td>0      </td><td>0      </td></tr>\n",
       "\t<tr><th scope=row>378</th><td> 9200  </td><td>       </td><td>  NA   </td><td>  NA   </td><td>  NA   </td><td>  NA   </td><td>NA     </td><td>NA     </td><td>NA     </td><td>   NA  </td><td>   NA  </td><td>NA     </td><td>   NA  </td><td>0      </td><td>0      </td><td>0      </td><td>0      </td><td>0      </td></tr>\n",
       "\t<tr><th scope=row>379</th><td> 9212  </td><td>44B74  </td><td>  NA   </td><td>  NA   </td><td>  NA   </td><td>  NA   </td><td>NA     </td><td>NA     </td><td>NA     </td><td>   NA  </td><td>   NA  </td><td>NA     </td><td>   NA  </td><td>0      </td><td>0      </td><td>0      </td><td>0      </td><td>0      </td></tr>\n",
       "\t<tr><th scope=row>380</th><td> 9212  </td><td>45B74  </td><td>  NA   </td><td>  NA   </td><td>  NA   </td><td>  NA   </td><td>NA     </td><td>NA     </td><td>NA     </td><td>   NA  </td><td>   NA  </td><td>NA     </td><td>   NA  </td><td>0      </td><td>0      </td><td>0      </td><td>0      </td><td>0      </td></tr>\n",
       "\t<tr><th scope=row>381</th><td> 9212  </td><td>46B74  </td><td>  NA   </td><td>  NA   </td><td>  NA   </td><td>  NA   </td><td>NA     </td><td>NA     </td><td>NA     </td><td>   NA  </td><td>   NA  </td><td>NA     </td><td>   NA  </td><td>0      </td><td>0      </td><td>0      </td><td>0      </td><td>0      </td></tr>\n",
       "\t<tr><th scope=row>389</th><td> 9287  </td><td>       </td><td>  NA   </td><td>  NA   </td><td>  NA   </td><td>  NA   </td><td>NA     </td><td>NA     </td><td>NA     </td><td>   NA  </td><td>   NA  </td><td>NA     </td><td>   NA  </td><td>0      </td><td>0      </td><td>0      </td><td>0      </td><td>0      </td></tr>\n",
       "\t<tr><th scope=row>395</th><td> 9316  </td><td>       </td><td>  NA   </td><td>  NA   </td><td>  NA   </td><td>  NA   </td><td>NA     </td><td>NA     </td><td>NA     </td><td>   NA  </td><td>   NA  </td><td>NA     </td><td>   NA  </td><td>0      </td><td>0      </td><td>0      </td><td>0      </td><td>0      </td></tr>\n",
       "\t<tr><th scope=row>396</th><td> 9386  </td><td>       </td><td>  NA   </td><td>  NA   </td><td>  NA   </td><td>  NA   </td><td>NA     </td><td>NA     </td><td>NA     </td><td>   NA  </td><td>   NA  </td><td>NA     </td><td>   NA  </td><td>0      </td><td>0      </td><td>0      </td><td>0      </td><td>0      </td></tr>\n",
       "\t<tr><th scope=row>400</th><td> 9408  </td><td>54B75  </td><td>  NA   </td><td>  NA   </td><td>  NA   </td><td>  NA   </td><td>NA     </td><td>NA     </td><td>NA     </td><td>   NA  </td><td>   NA  </td><td>NA     </td><td>   NA  </td><td>0      </td><td>0      </td><td>0      </td><td>0      </td><td>0      </td></tr>\n",
       "\t<tr><th scope=row>401</th><td> 9408  </td><td>55B75  </td><td>  NA   </td><td>  NA   </td><td>  NA   </td><td>  NA   </td><td>NA     </td><td>NA     </td><td>NA     </td><td>   NA  </td><td>   NA  </td><td>NA     </td><td>   NA  </td><td>0      </td><td>0      </td><td>0      </td><td>0      </td><td>0      </td></tr>\n",
       "\t<tr><th scope=row>414</th><td> 9683  </td><td>33B77  </td><td>  NA   </td><td>  NA   </td><td>  NA   </td><td>  NA   </td><td>NA     </td><td>NA     </td><td>NA     </td><td>   NA  </td><td>   NA  </td><td>NA     </td><td>   NA  </td><td>0      </td><td>0      </td><td>0      </td><td>0      </td><td>0      </td></tr>\n",
       "\t<tr><th scope=row>417</th><td> 9784  </td><td>56B77  </td><td>  NA   </td><td>  NA   </td><td>  NA   </td><td>  NA   </td><td>NA     </td><td>NA     </td><td>NA     </td><td>   NA  </td><td>   NA  </td><td>NA     </td><td>   NA  </td><td>0      </td><td>0      </td><td>0      </td><td>0      </td><td>0      </td></tr>\n",
       "\t<tr><th scope=row>418</th><td> 9784  </td><td>58B77  </td><td>  NA   </td><td>  NA   </td><td>  NA   </td><td>  NA   </td><td>NA     </td><td>NA     </td><td>NA     </td><td>   NA  </td><td>   NA  </td><td>NA     </td><td>   NA  </td><td>0      </td><td>0      </td><td>0      </td><td>0      </td><td>0      </td></tr>\n",
       "\t<tr><th scope=row>419</th><td> 9784  </td><td>59B77  </td><td>  NA   </td><td>  NA   </td><td>  NA   </td><td>  NA   </td><td>NA     </td><td>NA     </td><td>NA     </td><td>   NA  </td><td>   NA  </td><td>NA     </td><td>   NA  </td><td>0      </td><td>0      </td><td>0      </td><td>0      </td><td>0      </td></tr>\n",
       "\t<tr><th scope=row>420</th><td> 9784  </td><td>60B77  </td><td>  NA   </td><td>  NA   </td><td>  NA   </td><td>  NA   </td><td>NA     </td><td>NA     </td><td>NA     </td><td>   NA  </td><td>   NA  </td><td>NA     </td><td>   NA  </td><td>0      </td><td>0      </td><td>0      </td><td>0      </td><td>0      </td></tr>\n",
       "\t<tr><th scope=row>421</th><td> 9901  </td><td>12B78  </td><td>  NA   </td><td>  NA   </td><td>  NA   </td><td>  NA   </td><td>NA     </td><td>NA     </td><td>NA     </td><td>   NA  </td><td>   NA  </td><td>NA     </td><td>   NA  </td><td>0      </td><td>0      </td><td>0      </td><td>0      </td><td>0      </td></tr>\n",
       "\t<tr><th scope=row>422</th><td> 9901  </td><td>14B78  </td><td>  NA   </td><td>  NA   </td><td>  NA   </td><td>  NA   </td><td>NA     </td><td>NA     </td><td>NA     </td><td>   NA  </td><td>   NA  </td><td>NA     </td><td>   NA  </td><td>0      </td><td>0      </td><td>0      </td><td>0      </td><td>0      </td></tr>\n",
       "\t<tr><th scope=row>423</th><td> 9901  </td><td>16B78  </td><td>  NA   </td><td>  NA   </td><td>  NA   </td><td>  NA   </td><td>NA     </td><td>NA     </td><td>NA     </td><td>   NA  </td><td>   NA  </td><td>NA     </td><td>   NA  </td><td>0      </td><td>0      </td><td>0      </td><td>0      </td><td>0      </td></tr>\n",
       "\t<tr><th scope=row>424</th><td> 9901  </td><td>17B78  </td><td>  NA   </td><td>  NA   </td><td>  NA   </td><td>  NA   </td><td>NA     </td><td>NA     </td><td>NA     </td><td>   NA  </td><td>   NA  </td><td>NA     </td><td>   NA  </td><td>0      </td><td>0      </td><td>0      </td><td>0      </td><td>0      </td></tr>\n",
       "\t<tr><th scope=row>434</th><td>10152  </td><td>60B78  </td><td>1.23   </td><td>1.13   </td><td>1.20   </td><td>1.05   </td><td>t10152 </td><td>sf10560</td><td> 3     </td><td> 0.00  </td><td> 0.00  </td><td>NA     </td><td> 0.00  </td><td>0      </td><td>0      </td><td>0      </td><td>0      </td><td>0      </td></tr>\n",
       "\t<tr><th scope=row>451</th><td>10242  </td><td>4B81   </td><td>  NA   </td><td>  NA   </td><td>  NA   </td><td>  NA   </td><td>NA     </td><td>NA     </td><td>NA     </td><td>   NA  </td><td>   NA  </td><td>NA     </td><td>   NA  </td><td>0      </td><td>0      </td><td>0      </td><td>0      </td><td>0      </td></tr>\n",
       "\t<tr><th scope=row>472</th><td>10572  </td><td>46B90  </td><td>1.04   </td><td>0.96   </td><td>0.86   </td><td>0.93   </td><td>t10572 </td><td>sf10823</td><td> 3     </td><td> 0.00  </td><td>19.15  </td><td>NA     </td><td>19.15  </td><td>0      </td><td>0      </td><td>0      </td><td>0      </td><td>0      </td></tr>\n",
       "\t<tr><th scope=row>477</th><td>10601  </td><td>74B90  </td><td>  NA   </td><td>  NA   </td><td>  NA   </td><td>  NA   </td><td>NA     </td><td>NA     </td><td>NA     </td><td>   NA  </td><td>   NA  </td><td>NA     </td><td>   NA  </td><td>0      </td><td>0      </td><td>0      </td><td>0      </td><td>0      </td></tr>\n",
       "\t<tr><th scope=row>478</th><td>10601  </td><td>76B90  </td><td>  NA   </td><td>  NA   </td><td>  NA   </td><td>  NA   </td><td>NA     </td><td>NA     </td><td>NA     </td><td>   NA  </td><td>   NA  </td><td>NA     </td><td>   NA  </td><td>0      </td><td>0      </td><td>0      </td><td>0      </td><td>0      </td></tr>\n",
       "\t<tr><th scope=row>479</th><td>10619  </td><td>81B90  </td><td>  NA   </td><td>  NA   </td><td>  NA   </td><td>  NA   </td><td>NA     </td><td>NA     </td><td>NA     </td><td>   NA  </td><td>   NA  </td><td>NA     </td><td>   NA  </td><td>0      </td><td>0      </td><td>0      </td><td>0      </td><td>0      </td></tr>\n",
       "\t<tr><th scope=row>480</th><td>10619  </td><td>82B90  </td><td>  NA   </td><td>  NA   </td><td>  NA   </td><td>  NA   </td><td>NA     </td><td>NA     </td><td>NA     </td><td>   NA  </td><td>   NA  </td><td>NA     </td><td>   NA  </td><td>0      </td><td>0      </td><td>0      </td><td>0      </td><td>0      </td></tr>\n",
       "\t<tr><th scope=row>481</th><td>10619  </td><td>83B90  </td><td>  NA   </td><td>  NA   </td><td>  NA   </td><td>  NA   </td><td>NA     </td><td>NA     </td><td>NA     </td><td>   NA  </td><td>   NA  </td><td>NA     </td><td>   NA  </td><td>0      </td><td>0      </td><td>0      </td><td>0      </td><td>0      </td></tr>\n",
       "\t<tr><th scope=row>482</th><td>10643  </td><td>       </td><td>  NA   </td><td>  NA   </td><td>  NA   </td><td>  NA   </td><td>NA     </td><td>NA     </td><td>NA     </td><td>   NA  </td><td>   NA  </td><td>NA     </td><td>   NA  </td><td>0      </td><td>0      </td><td>0      </td><td>0      </td><td>0      </td></tr>\n",
       "\t<tr><th scope=row>483</th><td>10654  </td><td>       </td><td>  NA   </td><td>  NA   </td><td>  NA   </td><td>  NA   </td><td>NA     </td><td>NA     </td><td>NA     </td><td>   NA  </td><td>   NA  </td><td>NA     </td><td>   NA  </td><td>0      </td><td>0      </td><td>0      </td><td>0      </td><td>0      </td></tr>\n",
       "\t<tr><th scope=row>499</th><td>10756  </td><td>67B91  </td><td>1.34   </td><td>1.00   </td><td>0.96   </td><td>1.03   </td><td>t10756 </td><td>sf11017</td><td> 1     </td><td> 0.00  </td><td> 6.67  </td><td>NA     </td><td> 6.67  </td><td>0      </td><td>0      </td><td>0      </td><td>0      </td><td>0      </td></tr>\n",
       "\t<tr><th scope=row>506</th><td>10766  </td><td>       </td><td>  NA   </td><td>  NA   </td><td>  NA   </td><td>  NA   </td><td>NA     </td><td>NA     </td><td>NA     </td><td>   NA  </td><td>   NA  </td><td>NA     </td><td>   NA  </td><td>0      </td><td>0      </td><td>0      </td><td>0      </td><td>0      </td></tr>\n",
       "\t<tr><th scope=row>535</th><td>11192  </td><td>37B97  </td><td>1.59   </td><td>1.03   </td><td>0.94   </td><td>0.91   </td><td>t11192 </td><td>sf11150</td><td> 4     </td><td> 0.00  </td><td>24.44  </td><td>NA     </td><td>24.44  </td><td>0      </td><td>0      </td><td>0      </td><td>0      </td><td>0      </td></tr>\n",
       "\t<tr><th scope=row>572</th><td>11420  </td><td>       </td><td>  NA   </td><td>  NA   </td><td>  NA   </td><td>  NA   </td><td>NA     </td><td>NA     </td><td>NA     </td><td>   NA  </td><td>   NA  </td><td>NA     </td><td>   NA  </td><td>0      </td><td>0      </td><td>0      </td><td>0      </td><td>0      </td></tr>\n",
       "\t<tr><th scope=row>573</th><td>11424  </td><td>       </td><td>  NA   </td><td>  NA   </td><td>  NA   </td><td>  NA   </td><td>NA     </td><td>NA     </td><td>NA     </td><td>   NA  </td><td>   NA  </td><td>NA     </td><td>   NA  </td><td>0      </td><td>0      </td><td>0      </td><td>0      </td><td>0      </td></tr>\n",
       "\t<tr><th scope=row>578</th><td>11482  </td><td>15D1   </td><td>0.97   </td><td>1.11   </td><td>1.08   </td><td>1.20   </td><td>t11482 </td><td>sf11334</td><td> 2     </td><td>   NA  </td><td> 0.00  </td><td>NA     </td><td> 0.00  </td><td>0      </td><td>0      </td><td>0      </td><td>0      </td><td>0      </td></tr>\n",
       "\t<tr><th scope=row>579</th><td>11484  </td><td>13D1   </td><td>2.89   </td><td>1.18   </td><td>1.24   </td><td>0.52   </td><td>t11484 </td><td>sf11338</td><td> 1     </td><td>22.22  </td><td> 0.00  </td><td>NA     </td><td>22.22  </td><td>0      </td><td>0      </td><td>0      </td><td>0      </td><td>0      </td></tr>\n",
       "\t<tr><th scope=row>590</th><td>11596  </td><td>       </td><td>  NA   </td><td>  NA   </td><td>  NA   </td><td>  NA   </td><td>NA     </td><td>NA     </td><td>NA     </td><td>   NA  </td><td>   NA  </td><td>NA     </td><td>   NA  </td><td>0      </td><td>0      </td><td>0      </td><td>0      </td><td>0      </td></tr>\n",
       "\t<tr><th scope=row>599</th><td>11747  </td><td>11485-4</td><td>  NA   </td><td>  NA   </td><td>  NA   </td><td>  NA   </td><td>NA     </td><td>NA     </td><td>NA     </td><td>   NA  </td><td>   NA  </td><td>NA     </td><td>   NA  </td><td>0      </td><td>0      </td><td>0      </td><td>0      </td><td>0      </td></tr>\n",
       "\t<tr><th scope=row>612</th><td>11876  </td><td>11560A0</td><td>1.03   </td><td>0.92   </td><td>1.16   </td><td>1.28   </td><td>t11876 </td><td>sf11560</td><td> 3     </td><td> 0.00  </td><td> 0.00  </td><td> 0     </td><td> 0.00  </td><td>0      </td><td>0      </td><td>0      </td><td>0      </td><td>0      </td></tr>\n",
       "\t<tr><th scope=row>615</th><td>11898  </td><td>62D3   </td><td>1.96   </td><td>1.08   </td><td>1.06   </td><td>0.41   </td><td>t11898 </td><td>sf11574</td><td> 2     </td><td>13.64  </td><td> 2.27  </td><td>NA     </td><td>15.91  </td><td>0      </td><td>0      </td><td>0      </td><td>0      </td><td>0      </td></tr>\n",
       "\t<tr><th scope=row>619</th><td>12000  </td><td>       </td><td>  NA   </td><td>  NA   </td><td>  NA   </td><td>  NA   </td><td>NA     </td><td>NA     </td><td>NA     </td><td>   NA  </td><td>   NA  </td><td>NA     </td><td>   NA  </td><td>0      </td><td>0      </td><td>0      </td><td>0      </td><td>0      </td></tr>\n",
       "\t<tr><th scope=row>630</th><td>12097  </td><td>       </td><td>  NA   </td><td>  NA   </td><td>  NA   </td><td>  NA   </td><td>NA     </td><td>NA     </td><td>NA     </td><td>   NA  </td><td>   NA  </td><td>NA     </td><td>   NA  </td><td>0      </td><td>0      </td><td>0      </td><td>0      </td><td>0      </td></tr>\n",
       "\t<tr><th scope=row>635</th><td>12181  </td><td>       </td><td>  NA   </td><td>  NA   </td><td>  NA   </td><td>  NA   </td><td>NA     </td><td>NA     </td><td>NA     </td><td>   NA  </td><td>   NA  </td><td>NA     </td><td>   NA  </td><td>0      </td><td>0      </td><td>0      </td><td>0      </td><td>0      </td></tr>\n",
       "\t<tr><th scope=row>636</th><td>12259  </td><td>       </td><td>  NA   </td><td>  NA   </td><td>  NA   </td><td>  NA   </td><td>NA     </td><td>NA     </td><td>NA     </td><td>   NA  </td><td>   NA  </td><td>NA     </td><td>   NA  </td><td>0      </td><td>0      </td><td>0      </td><td>0      </td><td>0      </td></tr>\n",
       "\t<tr><th scope=row>637</th><td>12320  </td><td>       </td><td>  NA   </td><td>  NA   </td><td>  NA   </td><td>  NA   </td><td>NA     </td><td>NA     </td><td>NA     </td><td>   NA  </td><td>   NA  </td><td>NA     </td><td>   NA  </td><td>0      </td><td>0      </td><td>0      </td><td>0      </td><td>0      </td></tr>\n",
       "\t<tr><th scope=row>638</th><td>12345  </td><td>       </td><td>  NA   </td><td>  NA   </td><td>  NA   </td><td>  NA   </td><td>NA     </td><td>NA     </td><td>NA     </td><td>   NA  </td><td>   NA  </td><td>NA     </td><td>   NA  </td><td>0      </td><td>0      </td><td>0      </td><td>0      </td><td>0      </td></tr>\n",
       "\t<tr><th scope=row>639</th><td>12357  </td><td>       </td><td>  NA   </td><td>  NA   </td><td>  NA   </td><td>  NA   </td><td>NA     </td><td>NA     </td><td>NA     </td><td>   NA  </td><td>   NA  </td><td>NA     </td><td>   NA  </td><td>0      </td><td>0      </td><td>0      </td><td>0      </td><td>0      </td></tr>\n",
       "\t<tr><th scope=row>640</th><td>   NA  </td><td>8352T1 </td><td>  NA   </td><td>  NA   </td><td>  NA   </td><td>  NA   </td><td>t8068  </td><td>sf8352 </td><td> 1     </td><td>   NA  </td><td>   NA  </td><td>NA     </td><td>   NA  </td><td>0      </td><td>0      </td><td>0      </td><td>0      </td><td>0      </td></tr>\n",
       "\t<tr><th scope=row>641</th><td>   NA  </td><td>8352T2 </td><td>  NA   </td><td>  NA   </td><td>  NA   </td><td>  NA   </td><td>t8068  </td><td>sf8352 </td><td> 2     </td><td>   NA  </td><td>   NA  </td><td>NA     </td><td>   NA  </td><td>0      </td><td>0      </td><td>0      </td><td>0      </td><td>0      </td></tr>\n",
       "\t<tr><th scope=row>642</th><td>   NA  </td><td>8352T3 </td><td>  NA   </td><td>  NA   </td><td>  NA   </td><td>  NA   </td><td>t8068  </td><td>sf8352 </td><td> 3     </td><td>   NA  </td><td>   NA  </td><td>NA     </td><td>   NA  </td><td>0      </td><td>0      </td><td>0      </td><td>0      </td><td>0      </td></tr>\n",
       "\t<tr><th scope=row>643</th><td>   NA  </td><td>8352T4 </td><td>  NA   </td><td>  NA   </td><td>  NA   </td><td>  NA   </td><td>t8068  </td><td>sf8352 </td><td> 4     </td><td>   NA  </td><td>   NA  </td><td>NA     </td><td>   NA  </td><td>0      </td><td>0      </td><td>0      </td><td>0      </td><td>0      </td></tr>\n",
       "\t<tr><th scope=row>647</th><td>   NA  </td><td>8491B3 </td><td>  NA   </td><td>  NA   </td><td>  NA   </td><td>  NA   </td><td>t7055  </td><td>sf8491 </td><td> 1     </td><td> 0.00  </td><td> 0.00  </td><td>NA     </td><td> 0.00  </td><td>0      </td><td>0      </td><td>0      </td><td>0      </td><td>0      </td></tr>\n",
       "\t<tr><th scope=row>648</th><td>   NA  </td><td>8491V1 </td><td>  NA   </td><td>  NA   </td><td>  NA   </td><td>  NA   </td><td>t7055  </td><td>sf8491 </td><td> 2     </td><td> 0.00  </td><td> 0.00  </td><td>NA     </td><td> 0.00  </td><td>0      </td><td>0      </td><td>0      </td><td>0      </td><td>0      </td></tr>\n",
       "\t<tr><th scope=row>649</th><td>   NA  </td><td>8491Y2 </td><td>  NA   </td><td>  NA   </td><td>  NA   </td><td>  NA   </td><td>t7055  </td><td>sf8491 </td><td> 3     </td><td> 0.00  </td><td> 0.00  </td><td>NA     </td><td> 0.00  </td><td>0      </td><td>0      </td><td>0      </td><td>0      </td><td>0      </td></tr>\n",
       "</tbody>\n",
       "</table>\n"
      ],
      "text/latex": [
       "\\begin{tabular}{r|llllllllllllllllll}\n",
       "  & t\\_number & roi.label & nfse & nfl & nt1c & nt1v & tnum & sfnum & index & X.CEL & X.NEL & X.NEC & sum & in\\_CEL & in\\_T2all & in\\_NEL & in\\_NEC & in\\_ROI\\\\\n",
       "\\hline\n",
       "\t3 &  8089   & 11B35   &   NA    &   NA    &   NA    &   NA    & NA      & NA      & NA      &    NA   &    NA   & NA      &    NA   & 0       & 0       & 0       & 0       & 0      \\\\\n",
       "\t4 &  7408   & 11B40   & 1.84    & 1.13    & 0.82    & 0.79    & t7408   & sf8701  &  1      &  8.70   & 13.04   & NA      & 21.74   & 0       & 0       & 0       & 0       & 0      \\\\\n",
       "\t9 &  8089   & 12B35   &   NA    &   NA    &   NA    &   NA    & NA      & NA      & NA      &    NA   &    NA   & NA      &    NA   & 0       & 0       & 0       & 0       & 0      \\\\\n",
       "\t10 &  7408   & 12B40   & 1.87    & 0.96    & 0.91    & 0.87    & t7408   & sf8701  &  2      &  0.00   & 21.43   & NA      & 21.43   & 0       & 0       & 0       & 0       & 0      \\\\\n",
       "\t12 &  8089   & 13B35   &   NA    &   NA    &   NA    &   NA    & NA      & NA      & NA      &    NA   &    NA   & NA      &    NA   & 0       & 0       & 0       & 0       & 0      \\\\\n",
       "\t13 &  7394   & 13B41   & 2.42    & 1.07    & 1.11    & 0.90    & t7394   & sf8688  &  1      &  8.70   &  0.00   & NA      &  8.70   & 0       & 0       & 0       & 0       & 0      \\\\\n",
       "\t14 &  6709   & 14B32   & 1.08    & 1.23    & 0.95    &   NA    & t6709   & sf8269  &  2      &  9.09   &  0.00   & NA      &  9.09   & 0       & 0       & 0       & 0       & 0      \\\\\n",
       "\t15 &  7394   & 14B41   & 4.23    & 1.03    & 0.51    & 0.52    & t7394   & sf8688  &  2      & 42.86   &  0.00   & NA      & 42.86   & 0       & 0       & 0       & 0       & 0      \\\\\n",
       "\t16 &  7584   & 14B44   & 3.34    & 0.85    & 1.08    & 0.72    & t7584   & sf8842  &  1      &  0.00   &  0.00   & NA      &  0.00   & 0       & 0       & 0       & 0       & 0      \\\\\n",
       "\t18 &  6709   & 15B32   & 1.85    & 1.12    & 0.92    &   NA    & t6709   & sf8269  &  3      &  9.09   & 22.73   & NA      & 31.82   & 0       & 0       & 0       & 0       & 0      \\\\\n",
       "\t29 &  7111   & 1B38    &   NA    &   NA    &   NA    &   NA    & NA      & NA      & NA      &    NA   &    NA   & NA      &    NA   & 0       & 0       & 0       & 0       & 0      \\\\\n",
       "\t34 &  6586   & 21B31   &   NA    &   NA    &   NA    &   NA    & NA      & NA      & NA      &    NA   &    NA   & NA      &    NA   & 0       & 0       & 0       & 0       & 0      \\\\\n",
       "\t36 &  6586   & 22B31   &   NA    &   NA    &   NA    &   NA    & NA      & NA      & NA      &    NA   &    NA   & NA      &    NA   & 0       & 0       & 0       & 0       & 0      \\\\\n",
       "\t39 &  6586   & 23B31   &   NA    &   NA    &   NA    &   NA    & NA      & NA      & NA      &    NA   &    NA   & NA      &    NA   & 0       & 0       & 0       & 0       & 0      \\\\\n",
       "\t40 &  7444   & 23B42   &   NA    &   NA    &   NA    &   NA    & NA      & NA      & NA      &    NA   &    NA   & NA      &    NA   & 0       & 0       & 0       & 0       & 0      \\\\\n",
       "\t41 &  6586   & 24B31   &   NA    &   NA    &   NA    &   NA    & NA      & NA      & NA      &    NA   &    NA   & NA      &    NA   & 0       & 0       & 0       & 0       & 0      \\\\\n",
       "\t42 &  7444   & 24B42   &   NA    &   NA    &   NA    &   NA    & NA      & NA      & NA      &    NA   &    NA   & NA      &    NA   & 0       & 0       & 0       & 0       & 0      \\\\\n",
       "\t43 &  7444   & 25B42   &   NA    &   NA    &   NA    &   NA    & NA      & NA      & NA      &    NA   &    NA   & NA      &    NA   & 0       & 0       & 0       & 0       & 0      \\\\\n",
       "\t44 &  7553   & 25B43   & 0.66    & 0.54    & 1.11    & 0.87    & t7553   & sf8804  &  1      &    NA   &    NA   & NA      &    NA   & 0       & 0       & 0       & 0       & 0      \\\\\n",
       "\t45 &  8070   & 26B13   & 1.44    & 0.99    & 0.86    & 0.84    & t8070   & sf7540  &  2      &  0.00   &    NA   & NA      &  0.00   & 0       & 0       & 0       & 0       & 0      \\\\\n",
       "\t52 &  7555   & 29B43   & 1.49    & 1.25    & 0.81    & 0.81    & t7555   & sf8808  &  1      &  0.00   &  0.00   & NA      &  0.00   & 0       & 0       & 0       & 0       & 0      \\\\\n",
       "\t54 &  7111   & 2B38    &   NA    &   NA    &   NA    &   NA    & NA      & NA      & NA      &    NA   &    NA   & NA      &    NA   & 0       & 0       & 0       & 0       & 0      \\\\\n",
       "\t60 &  6127   & 31B18   &   NA    &   NA    &   NA    &   NA    & NA      & NA      & NA      &    NA   &    NA   & NA      &    NA   & 0       & 0       & 0       & 0       & 0      \\\\\n",
       "\t67 &  7555   & 32B43   & 1.36    & 0.53    & 0.76    & 0.72    & t7555   & sf8808  &  4      &  0.00   &  0.00   & NA      &  0.00   & 0       & 0       & 0       & 0       & 0      \\\\\n",
       "\t78 &  6436   & 36B29   &   NA    &   NA    &   NA    &   NA    & NA      & NA      & NA      &    NA   &    NA   & NA      &    NA   & 0       & 0       & 0       & 0       & 0      \\\\\n",
       "\t80 &  5538   & 37B17   & 2.62    & 0.82    & 0.90    &   NA    & t5538   & sf7728  &  1      &  0.00   &  3.70   &  0      &  3.70   & 0       & 0       & 0       & 0       & 0      \\\\\n",
       "\t81 &  6148   & 37B22   &   NA    &   NA    &   NA    &   NA    & NA      & NA      & NA      &    NA   &    NA   & NA      &    NA   & 0       & 0       & 0       & 0       & 0      \\\\\n",
       "\t82 &  7227   & 37B39   & 0.97    & 0.57    & 1.17    & 0.98    & t7227   & sf8580  &  3      &  0.00   &  0.00   & NA      &  0.00   & 0       & 0       & 0       & 0       & 0      \\\\\n",
       "\t86 &  6148   & 38B22   &   NA    &   NA    &   NA    &   NA    & NA      & NA      & NA      &    NA   &    NA   & NA      &    NA   & 0       & 0       & 0       & 0       & 0      \\\\\n",
       "\t88 &  6148   & 39B22   &   NA    &   NA    &   NA    &   NA    & NA      & NA      & NA      &    NA   &    NA   & NA      &    NA   & 0       & 0       & 0       & 0       & 0      \\\\\n",
       "\t89 &  6436   & 39B29   &   NA    &   NA    &   NA    &   NA    & NA      & NA      & NA      &    NA   &    NA   & NA      &    NA   & 0       & 0       & 0       & 0       & 0      \\\\\n",
       "\t99 &  6274   & 43B27   & 1.50    & 1.15    & 0.96    & 0.98    & t6274   & sf8093  &  3      & 19.05   &  0.00   &  0      & 19.05   & 0       & 0       & 0       & 0       & 0      \\\\\n",
       "\t102 &  6556   & 46B30   & 9.46    & 0.37    & 0.29    & 0.36    & t6556   & sf8218  &  2      &    NA   &    NA   & NA      &    NA   & 0       & 0       & 0       & 0       & 0      \\\\\n",
       "\t105 &  7043   & 48B37   &   NA    &   NA    &   NA    &   NA    & NA      & NA      & NA      &    NA   &    NA   & NA      &    NA   & 0       & 0       & 0       & 0       & 0      \\\\\n",
       "\t106 &  7329   & 48B40   & 3.77    & 1.17    & 0.78    & 0.57    & t7329   & sf8649  &  2      & 24.14   &  0.00   & NA      & 24.14   & 0       & 0       & 0       & 0       & 0      \\\\\n",
       "\t107 &  7039   & 49B15   & 1.88    & 1.13    & 1.18    & 0.83    & t7039   & sf7640  &  1      &  4.35   & 34.78   & NA      & 39.13   & 0       & 0       & 0       & 0       & 0      \\\\\n",
       "\t108 &  7338   & 49B40   &   NA    &   NA    &   NA    &   NA    & NA      & NA      & NA      &    NA   &    NA   & NA      &    NA   & 0       & 0       & 0       & 0       & 0      \\\\\n",
       "\t115 &  8088   & 51B43   &   NA    &   NA    &   NA    &   NA    & NA      & NA      & NA      &    NA   &    NA   & NA      &    NA   & 0       & 0       & 0       & 0       & 0      \\\\\n",
       "\t118 &  6925   & 52B35   & 1.26    & 0.87    & 1.03    &   NA    & t6925   & sf8422  &  1      &    NA   &    NA   & NA      &    NA   & 0       & 0       & 0       & 0       & 0      \\\\\n",
       "\t119 &  8088   & 52B43   &   NA    &   NA    &   NA    &   NA    & NA      & NA      & NA      &    NA   &    NA   & NA      &    NA   & 0       & 0       & 0       & 0       & 0      \\\\\n",
       "\t121 &  5333   & 53B16   & 1.11    & 1.25    & 0.85    &   NA    & NA      & NA      & NA      &    NA   &    NA   & NA      &    NA   & 0       & 0       & 0       & 0       & 0      \\\\\n",
       "\t123 &  6925   & 53B35   & 1.19    & 0.83    & 0.96    &   NA    & t6925   & sf8422  &  2      &    NA   &    NA   & NA      &    NA   & 0       & 0       & 0       & 0       & 0      \\\\\n",
       "\t124 &  7001   & 53B36   &   NA    &   NA    &   NA    &   NA    & NA      & NA      & NA      &    NA   &    NA   & NA      &    NA   & 0       & 0       & 0       & 0       & 0      \\\\\n",
       "\t127 &  6925   & 54B35   &   NA    &   NA    &   NA    &   NA    & NA      & NA      & NA      &    NA   &    NA   & NA      &    NA   & 0       & 0       & 0       & 0       & 0      \\\\\n",
       "\t147 &  7338   & 60B40   &   NA    &   NA    &   NA    &   NA    & NA      & NA      & NA      &    NA   &    NA   & NA      &    NA   & 0       & 0       & 0       & 0       & 0      \\\\\n",
       "\t150 &  6152   & 61B24   & 2.74    & 1.21    & 0.92    & 0.91    & t6152   & sf7997  &  2      &    NA   &    NA   & NA      &    NA   & 0       & 0       & 0       & 0       & 0      \\\\\n",
       "\t155 &  6929   & 62B35   & 1.06    & 1.08    & 1.01    & 0.93    & t6929   & sf8425  &  3      &  0.00   &  0.00   & NA      &  0.00   & 0       & 0       & 0       & 0       & 0      \\\\\n",
       "\t157 &  6472   & 63B29   & 2.39    & 0.61    & 1.16    & 0.58    & t6472   & sf8186  &  1      & 18.52   &  0.00   &  0      & 18.52   & 0       & 0       & 0       & 0       & 0      \\\\\n",
       "\t158 &  7225   & 63B39   & 1.54    & 1.16    & 0.91    & 1.00    & t7225   & sf8582  &  2      &  0.00   &  0.00   & NA      &  0.00   & 0       & 0       & 0       & 0       & 0      \\\\\n",
       "\t159 &  6285   & 64B27   & 1.83    & 1.16    & 1.04    & 0.58    & t6285   & sf8104  &  3      & 33.33   &  0.00   & NA      & 33.33   & 0       & 0       & 0       & 0       & 0      \\\\\n",
       "\t166 &  6708   & 66B31   &   NA    &   NA    &   NA    &   NA    & NA      & NA      & NA      &    NA   &    NA   & NA      &    NA   & 0       & 0       & 0       & 0       & 0      \\\\\n",
       "\t168 &  6708   & 67B31   &   NA    &   NA    &   NA    &   NA    & NA      & NA      & NA      &    NA   &    NA   & NA      &    NA   & 0       & 0       & 0       & 0       & 0      \\\\\n",
       "\t176 &  7540   & 6B43    &   NA    &   NA    &   NA    &   NA    & t7540   & sf8796  &  2      &  0.00   & 22.92   & NA      & 22.92   & 0       & 0       & 0       & 0       & 0      \\\\\n",
       "\t181 &  5577   & 71B17   & 1.60    & 1.24    & 1.46    & 0.82    & t5577   & sf7750  &  1      & 36.00   &  0.00   &  0      & 36.00   & 0       & 0       & 0       & 0       & 0      \\\\\n",
       "\t184 &  6630   & 71B31   & 1.80    & 1.12    & 1.06    &   NA    & t6630   & sf8250  &  2      &  0.00   & 17.24   &  0      & 17.24   & 0       & 0       & 0       & 0       & 0      \\\\\n",
       "\t202 &  5728   & 76B19   & 3.33    & 0.83    & 0.70    &   NA    & t5728   & sf7818  &  2      &  0.00   &  0.00   &  0      &  0.00   & 0       & 0       & 0       & 0       & 0      \\\\\n",
       "\t203 &  8085   & 77B22   &   NA    &   NA    &   NA    &   NA    & NA      & NA      & NA      &    NA   &    NA   & NA      &    NA   & 0       & 0       & 0       & 0       & 0      \\\\\n",
       "\t209 &  8085   & 78B22   &   NA    &   NA    &   NA    &   NA    & NA      & NA      & NA      &    NA   &    NA   & NA      &    NA   & 0       & 0       & 0       & 0       & 0      \\\\\n",
       "\t210 &  5934   & 7909 T1 &   NA    &   NA    &   NA    &   NA    & NA      & NA      & NA      &    NA   &    NA   & NA      &    NA   & 0       & 0       & 0       & 0       & 0      \\\\\n",
       "\t211 &  5934   & 7909 T2 &   NA    &   NA    &   NA    &   NA    & NA      & NA      & NA      &    NA   &    NA   & NA      &    NA   & 0       & 0       & 0       & 0       & 0      \\\\\n",
       "\t212 &  5934   & 7909 T3 &   NA    &   NA    &   NA    &   NA    & NA      & NA      & NA      &    NA   &    NA   & NA      &    NA   & 0       & 0       & 0       & 0       & 0      \\\\\n",
       "\t213 &  8085   & 79B22   &   NA    &   NA    &   NA    &   NA    & NA      & NA      & NA      &    NA   &    NA   & NA      &    NA   & 0       & 0       & 0       & 0       & 0      \\\\\n",
       "\t220 &  7486   & 80B24   &   NA    &   NA    &   NA    &   NA    & NA      & NA      & NA      &    NA   &    NA   & NA      &    NA   & 0       & 0       & 0       & 0       & 0      \\\\\n",
       "\t224 &  5739   & 81B19   & 1.38    &   NA    & 0.83    &   NA    & t5739   & sf7821  &  1      &    NA   &    NA   & NA      &    NA   & 0       & 0       & 0       & 0       & 0      \\\\\n",
       "\t226 &  7486   & 81B24   &   NA    &   NA    &   NA    &   NA    & NA      & NA      & NA      &    NA   &    NA   & NA      &    NA   & 0       & 0       & 0       & 0       & 0      \\\\\n",
       "\t227 &  6304   & 81B27   &   NA    &   NA    &   NA    &   NA    & NA      & NA      & NA      &    NA   &    NA   & NA      &    NA   & 0       & 0       & 0       & 0       & 0      \\\\\n",
       "\t229 &  7338   & 81B40   &   NA    &   NA    &   NA    &   NA    & NA      & NA      & NA      &    NA   &    NA   & NA      &    NA   & 0       & 0       & 0       & 0       & 0      \\\\\n",
       "\t231 &  7486   & 82B24   &   NA    &   NA    &   NA    &   NA    & NA      & NA      & NA      &    NA   &    NA   & NA      &    NA   & 0       & 0       & 0       & 0       & 0      \\\\\n",
       "\t233 &  6405   & 82B28   &   NA    &   NA    &   NA    &   NA    & NA      & NA      & NA      &    NA   &    NA   & NA      &    NA   & 0       & 0       & 0       & 0       & 0      \\\\\n",
       "\t236 &  6826   & 8343 G3 &   NA    &   NA    &   NA    &   NA    & NA      & NA      & NA      &    NA   &    NA   & NA      &    NA   & 0       & 0       & 0       & 0       & 0      \\\\\n",
       "\t237 &  6826   & 8343 P2 &   NA    &   NA    &   NA    &   NA    & NA      & NA      & NA      &    NA   &    NA   & NA      &    NA   & 0       & 0       & 0       & 0       & 0      \\\\\n",
       "\t238 &  6826   & 8343 Y1 &   NA    &   NA    &   NA    &   NA    & NA      & NA      & NA      &    NA   &    NA   & NA      &    NA   & 0       & 0       & 0       & 0       & 0      \\\\\n",
       "\t240 &  8068   & 8352 T2 & 1.01    & 1.12    & 1.00    & 1.19    & NA      & NA      & NA      &    NA   &    NA   & NA      &    NA   & 0       & 0       & 0       & 0       & 0      \\\\\n",
       "\t242 &  8068   & 8352 T4 & 4.10    & 1.10    & 0.66    & 1.04    & NA      & NA      & NA      &    NA   &    NA   & NA      &    NA   & 0       & 0       & 0       & 0       & 0      \\\\\n",
       "\t250 &  6405   & 83B28   &   NA    &   NA    &   NA    &   NA    & NA      & NA      & NA      &    NA   &    NA   & NA      &    NA   & 0       & 0       & 0       & 0       & 0      \\\\\n",
       "\t256 &  6296   & 84B27   & 2.02    & 0.78    & 1.14    & 0.72    & t6296   & sf8112  &  2      &  0.00   &  0.00   &  0      &  0.00   & 0       & 0       & 0       & 0       & 0      \\\\\n",
       "\t257 &  8090   & 84B29   &   NA    &   NA    &   NA    &   NA    & NA      & NA      & NA      &    NA   &    NA   & NA      &    NA   & 0       & 0       & 0       & 0       & 0      \\\\\n",
       "\t262 &  6405   & 85B28   &   NA    &   NA    &   NA    &   NA    & NA      & NA      & NA      &    NA   &    NA   & NA      &    NA   & 0       & 0       & 0       & 0       & 0      \\\\\n",
       "\t263 &  8090   & 85B29   &   NA    &   NA    &   NA    &   NA    & NA      & NA      & NA      &    NA   &    NA   & NA      &    NA   & 0       & 0       & 0       & 0       & 0      \\\\\n",
       "\t265 &  7332   & 8653 B1 &   NA    &   NA    &   NA    &   NA    & NA      & NA      & NA      &    NA   &    NA   & NA      &    NA   & 0       & 0       & 0       & 0       & 0      \\\\\n",
       "\t266 &  7332   & 8653 B2 &   NA    &   NA    &   NA    &   NA    & NA      & NA      & NA      &    NA   &    NA   & NA      &    NA   & 0       & 0       & 0       & 0       & 0      \\\\\n",
       "\t267 &  5272   & 86B15   & 1.23    & 1.11    & 0.96    & 1.02    & t5272   & sf7659  &  2      &    NA   &    NA   & NA      &    NA   & 0       & 0       & 0       & 0       & 0      \\\\\n",
       "\t271 &  8090   & 86B29   &   NA    &   NA    &   NA    &   NA    & NA      & NA      & NA      &    NA   &    NA   & NA      &    NA   & 0       & 0       & 0       & 0       & 0      \\\\\n",
       "\t273 &  7015   & 87B15   & 1.19    & 1.14    & 0.76    & 0.85    & NA      & NA      & NA      &    NA   &    NA   & NA      &    NA   & 0       & 0       & 0       & 0       & 0      \\\\\n",
       "\t277 &  7776   & 87B46   &   NA    &   NA    &   NA    &   NA    & NA      & NA      & NA      &    NA   &    NA   & NA      &    NA   & 0       & 0       & 0       & 0       & 0      \\\\\n",
       "\t278 &  7015   & 88B15   & 2.19    & 1.24    & 0.99    & 0.57    & NA      & NA      & NA      &    NA   &    NA   & NA      &    NA   & 0       & 0       & 0       & 0       & 0      \\\\\n",
       "\t280 &  8098   & 88B22   &   NA    &   NA    &   NA    &   NA    & NA      & NA      & NA      &    NA   &    NA   & NA      &    NA   & 0       & 0       & 0       & 0       & 0      \\\\\n",
       "\t282 &  7628   & 88B44   & 1.38    & 1.02    & 0.74    & 0.66    & t7628   & sf8873  &  2      &  0.00   &  0.00   & NA      &  0.00   & 0       & 0       & 0       & 0       & 0      \\\\\n",
       "\t283 &  7776   & 88B46   &   NA    &   NA    &   NA    &   NA    & NA      & NA      & NA      &    NA   &    NA   & NA      &    NA   & 0       & 0       & 0       & 0       & 0      \\\\\n",
       "\t285 &  8098   & 89B22   &   NA    &   NA    &   NA    &   NA    & NA      & NA      & NA      &    NA   &    NA   & NA      &    NA   & 0       & 0       & 0       & 0       & 0      \\\\\n",
       "\t290 &  7035   & 8B37    &   NA    &   NA    &   NA    &   NA    & NA      & NA      & NA      &    NA   &    NA   & NA      &    NA   & 0       & 0       & 0       & 0       & 0      \\\\\n",
       "\t298 &  6243   & 93B26   & 4.67    & 0.67    & 0.73    & 0.51    & NA      & NA      & NA      &    NA   &    NA   & NA      &    NA   & 0       & 0       & 0       & 0       & 0      \\\\\n",
       "\t301 &  7282   & 95B39   &   NA    &   NA    &   NA    &   NA    & NA      & NA      & NA      &    NA   &    NA   & NA      &    NA   & 0       & 0       & 0       & 0       & 0      \\\\\n",
       "\t303 &  7282   & 96B39   &   NA    &   NA    &   NA    &   NA    & NA      & NA      & NA      &    NA   &    NA   & NA      &    NA   & 0       & 0       & 0       & 0       & 0      \\\\\n",
       "\t306 &  6865   & 97B34   &   NA    &   NA    &   NA    &   NA    & NA      & NA      & NA      &    NA   &    NA   & NA      &    NA   & 0       & 0       & 0       & 0       & 0      \\\\\n",
       "\t307 &  5739   & 98B19   & 2.08    &   NA    & 1.17    &   NA    & t5739   & sf7821  &  2      &    NA   &    NA   & NA      &    NA   & 0       & 0       & 0       & 0       & 0      \\\\\n",
       "\t308 &  6495   & 98B29   & 1.31    & 1.10    & 1.02    & 0.81    & t6495   & sf8196  &  3      &  0.00   &  0.00   & NA      &  0.00   & 0       & 0       & 0       & 0       & 0      \\\\\n",
       "\t309 &  6865   & 98B34   &   NA    &   NA    &   NA    &   NA    & NA      & NA      & NA      &    NA   &    NA   & NA      &    NA   & 0       & 0       & 0       & 0       & 0      \\\\\n",
       "\t310 &  5739   & 99B19   & 1.67    &   NA    & 0.94    &   NA    & t5739   & sf7821  &  3      &    NA   &    NA   & NA      &    NA   & 0       & 0       & 0       & 0       & 0      \\\\\n",
       "\t312 &  6865   & 99B34   &   NA    &   NA    &   NA    &   NA    & NA      & NA      & NA      &    NA   &    NA   & NA      &    NA   & 0       & 0       & 0       & 0       & 0      \\\\\n",
       "\t314 &  7035   & 9B37    &   NA    &   NA    &   NA    &   NA    & NA      & NA      & NA      &    NA   &    NA   & NA      &    NA   & 0       & 0       & 0       & 0       & 0      \\\\\n",
       "\t317 &  8773   & 60B60   &   NA    &   NA    &   NA    &   NA    & NA      & NA      & NA      &    NA   &    NA   & NA      &    NA   & 0       & 0       & 0       & 0       & 0      \\\\\n",
       "\t320 &  8773   & 63B60   & 1.22    & 1.18    & 0.92    &   NA    & t8773   & sf9727  &  3      &  2.38   & 30.95   & NA      & 33.33   & 0       & 0       & 0       & 0       & 0      \\\\\n",
       "\t321 &  8775   & 1B61    & 0.00    & 0.00    & 0.00    &   NA    & NA      & NA      & NA      &    NA   &    NA   & NA      &    NA   & 0       & 0       & 0       & 0       & 0      \\\\\n",
       "\t322 &  8775   & 2B61    & 0.00    & 0.00    & 0.00    &   NA    & NA      & NA      & NA      &    NA   &    NA   & NA      &    NA   & 0       & 0       & 0       & 0       & 0      \\\\\n",
       "\t323 &  8775   & 3B61    & 0.00    & 0.00    & 0.00    &   NA    & NA      & NA      & NA      &    NA   &    NA   & NA      &    NA   & 0       & 0       & 0       & 0       & 0      \\\\\n",
       "\t324 &  8775   & 4B61    & 0.00    & 0.00    & 0.00    &   NA    & NA      & NA      & NA      &    NA   &    NA   & NA      &    NA   & 0       & 0       & 0       & 0       & 0      \\\\\n",
       "\t328 &  8869   & 68B60   &   NA    &   NA    &   NA    &   NA    & NA      & NA      & NA      &    NA   &    NA   & NA      &    NA   & 0       & 0       & 0       & 0       & 0      \\\\\n",
       "\t339 &  8956   & 82B63   & 1.38    & 1.11    & 1.46    & 0.76    & t8956   & sf9907  &  2      &  0.00   &  2.50   & NA      &  2.50   & 0       & 0       & 0       & 0       & 0      \\\\\n",
       "\t343 &  8969   &         &   NA    &   NA    &   NA    &   NA    & NA      & NA      & NA      &    NA   &    NA   & NA      &    NA   & 0       & 0       & 0       & 0       & 0      \\\\\n",
       "\t375 &  9134   & 15B71   &   NA    &   NA    &   NA    &   NA    & t9134   & sf10071 &  2      &  0.00   &  0.00   & NA      &  0.00   & 0       & 0       & 0       & 0       & 0      \\\\\n",
       "\t376 &  9163   &         &   NA    &   NA    &   NA    &   NA    & NA      & NA      & NA      &    NA   &    NA   & NA      &    NA   & 0       & 0       & 0       & 0       & 0      \\\\\n",
       "\t377 &  9170   &         &   NA    &   NA    &   NA    &   NA    & NA      & NA      & NA      &    NA   &    NA   & NA      &    NA   & 0       & 0       & 0       & 0       & 0      \\\\\n",
       "\t378 &  9200   &         &   NA    &   NA    &   NA    &   NA    & NA      & NA      & NA      &    NA   &    NA   & NA      &    NA   & 0       & 0       & 0       & 0       & 0      \\\\\n",
       "\t379 &  9212   & 44B74   &   NA    &   NA    &   NA    &   NA    & NA      & NA      & NA      &    NA   &    NA   & NA      &    NA   & 0       & 0       & 0       & 0       & 0      \\\\\n",
       "\t380 &  9212   & 45B74   &   NA    &   NA    &   NA    &   NA    & NA      & NA      & NA      &    NA   &    NA   & NA      &    NA   & 0       & 0       & 0       & 0       & 0      \\\\\n",
       "\t381 &  9212   & 46B74   &   NA    &   NA    &   NA    &   NA    & NA      & NA      & NA      &    NA   &    NA   & NA      &    NA   & 0       & 0       & 0       & 0       & 0      \\\\\n",
       "\t389 &  9287   &         &   NA    &   NA    &   NA    &   NA    & NA      & NA      & NA      &    NA   &    NA   & NA      &    NA   & 0       & 0       & 0       & 0       & 0      \\\\\n",
       "\t395 &  9316   &         &   NA    &   NA    &   NA    &   NA    & NA      & NA      & NA      &    NA   &    NA   & NA      &    NA   & 0       & 0       & 0       & 0       & 0      \\\\\n",
       "\t396 &  9386   &         &   NA    &   NA    &   NA    &   NA    & NA      & NA      & NA      &    NA   &    NA   & NA      &    NA   & 0       & 0       & 0       & 0       & 0      \\\\\n",
       "\t400 &  9408   & 54B75   &   NA    &   NA    &   NA    &   NA    & NA      & NA      & NA      &    NA   &    NA   & NA      &    NA   & 0       & 0       & 0       & 0       & 0      \\\\\n",
       "\t401 &  9408   & 55B75   &   NA    &   NA    &   NA    &   NA    & NA      & NA      & NA      &    NA   &    NA   & NA      &    NA   & 0       & 0       & 0       & 0       & 0      \\\\\n",
       "\t414 &  9683   & 33B77   &   NA    &   NA    &   NA    &   NA    & NA      & NA      & NA      &    NA   &    NA   & NA      &    NA   & 0       & 0       & 0       & 0       & 0      \\\\\n",
       "\t417 &  9784   & 56B77   &   NA    &   NA    &   NA    &   NA    & NA      & NA      & NA      &    NA   &    NA   & NA      &    NA   & 0       & 0       & 0       & 0       & 0      \\\\\n",
       "\t418 &  9784   & 58B77   &   NA    &   NA    &   NA    &   NA    & NA      & NA      & NA      &    NA   &    NA   & NA      &    NA   & 0       & 0       & 0       & 0       & 0      \\\\\n",
       "\t419 &  9784   & 59B77   &   NA    &   NA    &   NA    &   NA    & NA      & NA      & NA      &    NA   &    NA   & NA      &    NA   & 0       & 0       & 0       & 0       & 0      \\\\\n",
       "\t420 &  9784   & 60B77   &   NA    &   NA    &   NA    &   NA    & NA      & NA      & NA      &    NA   &    NA   & NA      &    NA   & 0       & 0       & 0       & 0       & 0      \\\\\n",
       "\t421 &  9901   & 12B78   &   NA    &   NA    &   NA    &   NA    & NA      & NA      & NA      &    NA   &    NA   & NA      &    NA   & 0       & 0       & 0       & 0       & 0      \\\\\n",
       "\t422 &  9901   & 14B78   &   NA    &   NA    &   NA    &   NA    & NA      & NA      & NA      &    NA   &    NA   & NA      &    NA   & 0       & 0       & 0       & 0       & 0      \\\\\n",
       "\t423 &  9901   & 16B78   &   NA    &   NA    &   NA    &   NA    & NA      & NA      & NA      &    NA   &    NA   & NA      &    NA   & 0       & 0       & 0       & 0       & 0      \\\\\n",
       "\t424 &  9901   & 17B78   &   NA    &   NA    &   NA    &   NA    & NA      & NA      & NA      &    NA   &    NA   & NA      &    NA   & 0       & 0       & 0       & 0       & 0      \\\\\n",
       "\t434 & 10152   & 60B78   & 1.23    & 1.13    & 1.20    & 1.05    & t10152  & sf10560 &  3      &  0.00   &  0.00   & NA      &  0.00   & 0       & 0       & 0       & 0       & 0      \\\\\n",
       "\t451 & 10242   & 4B81    &   NA    &   NA    &   NA    &   NA    & NA      & NA      & NA      &    NA   &    NA   & NA      &    NA   & 0       & 0       & 0       & 0       & 0      \\\\\n",
       "\t472 & 10572   & 46B90   & 1.04    & 0.96    & 0.86    & 0.93    & t10572  & sf10823 &  3      &  0.00   & 19.15   & NA      & 19.15   & 0       & 0       & 0       & 0       & 0      \\\\\n",
       "\t477 & 10601   & 74B90   &   NA    &   NA    &   NA    &   NA    & NA      & NA      & NA      &    NA   &    NA   & NA      &    NA   & 0       & 0       & 0       & 0       & 0      \\\\\n",
       "\t478 & 10601   & 76B90   &   NA    &   NA    &   NA    &   NA    & NA      & NA      & NA      &    NA   &    NA   & NA      &    NA   & 0       & 0       & 0       & 0       & 0      \\\\\n",
       "\t479 & 10619   & 81B90   &   NA    &   NA    &   NA    &   NA    & NA      & NA      & NA      &    NA   &    NA   & NA      &    NA   & 0       & 0       & 0       & 0       & 0      \\\\\n",
       "\t480 & 10619   & 82B90   &   NA    &   NA    &   NA    &   NA    & NA      & NA      & NA      &    NA   &    NA   & NA      &    NA   & 0       & 0       & 0       & 0       & 0      \\\\\n",
       "\t481 & 10619   & 83B90   &   NA    &   NA    &   NA    &   NA    & NA      & NA      & NA      &    NA   &    NA   & NA      &    NA   & 0       & 0       & 0       & 0       & 0      \\\\\n",
       "\t482 & 10643   &         &   NA    &   NA    &   NA    &   NA    & NA      & NA      & NA      &    NA   &    NA   & NA      &    NA   & 0       & 0       & 0       & 0       & 0      \\\\\n",
       "\t483 & 10654   &         &   NA    &   NA    &   NA    &   NA    & NA      & NA      & NA      &    NA   &    NA   & NA      &    NA   & 0       & 0       & 0       & 0       & 0      \\\\\n",
       "\t499 & 10756   & 67B91   & 1.34    & 1.00    & 0.96    & 1.03    & t10756  & sf11017 &  1      &  0.00   &  6.67   & NA      &  6.67   & 0       & 0       & 0       & 0       & 0      \\\\\n",
       "\t506 & 10766   &         &   NA    &   NA    &   NA    &   NA    & NA      & NA      & NA      &    NA   &    NA   & NA      &    NA   & 0       & 0       & 0       & 0       & 0      \\\\\n",
       "\t535 & 11192   & 37B97   & 1.59    & 1.03    & 0.94    & 0.91    & t11192  & sf11150 &  4      &  0.00   & 24.44   & NA      & 24.44   & 0       & 0       & 0       & 0       & 0      \\\\\n",
       "\t572 & 11420   &         &   NA    &   NA    &   NA    &   NA    & NA      & NA      & NA      &    NA   &    NA   & NA      &    NA   & 0       & 0       & 0       & 0       & 0      \\\\\n",
       "\t573 & 11424   &         &   NA    &   NA    &   NA    &   NA    & NA      & NA      & NA      &    NA   &    NA   & NA      &    NA   & 0       & 0       & 0       & 0       & 0      \\\\\n",
       "\t578 & 11482   & 15D1    & 0.97    & 1.11    & 1.08    & 1.20    & t11482  & sf11334 &  2      &    NA   &  0.00   & NA      &  0.00   & 0       & 0       & 0       & 0       & 0      \\\\\n",
       "\t579 & 11484   & 13D1    & 2.89    & 1.18    & 1.24    & 0.52    & t11484  & sf11338 &  1      & 22.22   &  0.00   & NA      & 22.22   & 0       & 0       & 0       & 0       & 0      \\\\\n",
       "\t590 & 11596   &         &   NA    &   NA    &   NA    &   NA    & NA      & NA      & NA      &    NA   &    NA   & NA      &    NA   & 0       & 0       & 0       & 0       & 0      \\\\\n",
       "\t599 & 11747   & 11485-4 &   NA    &   NA    &   NA    &   NA    & NA      & NA      & NA      &    NA   &    NA   & NA      &    NA   & 0       & 0       & 0       & 0       & 0      \\\\\n",
       "\t612 & 11876   & 11560A0 & 1.03    & 0.92    & 1.16    & 1.28    & t11876  & sf11560 &  3      &  0.00   &  0.00   &  0      &  0.00   & 0       & 0       & 0       & 0       & 0      \\\\\n",
       "\t615 & 11898   & 62D3    & 1.96    & 1.08    & 1.06    & 0.41    & t11898  & sf11574 &  2      & 13.64   &  2.27   & NA      & 15.91   & 0       & 0       & 0       & 0       & 0      \\\\\n",
       "\t619 & 12000   &         &   NA    &   NA    &   NA    &   NA    & NA      & NA      & NA      &    NA   &    NA   & NA      &    NA   & 0       & 0       & 0       & 0       & 0      \\\\\n",
       "\t630 & 12097   &         &   NA    &   NA    &   NA    &   NA    & NA      & NA      & NA      &    NA   &    NA   & NA      &    NA   & 0       & 0       & 0       & 0       & 0      \\\\\n",
       "\t635 & 12181   &         &   NA    &   NA    &   NA    &   NA    & NA      & NA      & NA      &    NA   &    NA   & NA      &    NA   & 0       & 0       & 0       & 0       & 0      \\\\\n",
       "\t636 & 12259   &         &   NA    &   NA    &   NA    &   NA    & NA      & NA      & NA      &    NA   &    NA   & NA      &    NA   & 0       & 0       & 0       & 0       & 0      \\\\\n",
       "\t637 & 12320   &         &   NA    &   NA    &   NA    &   NA    & NA      & NA      & NA      &    NA   &    NA   & NA      &    NA   & 0       & 0       & 0       & 0       & 0      \\\\\n",
       "\t638 & 12345   &         &   NA    &   NA    &   NA    &   NA    & NA      & NA      & NA      &    NA   &    NA   & NA      &    NA   & 0       & 0       & 0       & 0       & 0      \\\\\n",
       "\t639 & 12357   &         &   NA    &   NA    &   NA    &   NA    & NA      & NA      & NA      &    NA   &    NA   & NA      &    NA   & 0       & 0       & 0       & 0       & 0      \\\\\n",
       "\t640 &    NA   & 8352T1  &   NA    &   NA    &   NA    &   NA    & t8068   & sf8352  &  1      &    NA   &    NA   & NA      &    NA   & 0       & 0       & 0       & 0       & 0      \\\\\n",
       "\t641 &    NA   & 8352T2  &   NA    &   NA    &   NA    &   NA    & t8068   & sf8352  &  2      &    NA   &    NA   & NA      &    NA   & 0       & 0       & 0       & 0       & 0      \\\\\n",
       "\t642 &    NA   & 8352T3  &   NA    &   NA    &   NA    &   NA    & t8068   & sf8352  &  3      &    NA   &    NA   & NA      &    NA   & 0       & 0       & 0       & 0       & 0      \\\\\n",
       "\t643 &    NA   & 8352T4  &   NA    &   NA    &   NA    &   NA    & t8068   & sf8352  &  4      &    NA   &    NA   & NA      &    NA   & 0       & 0       & 0       & 0       & 0      \\\\\n",
       "\t647 &    NA   & 8491B3  &   NA    &   NA    &   NA    &   NA    & t7055   & sf8491  &  1      &  0.00   &  0.00   & NA      &  0.00   & 0       & 0       & 0       & 0       & 0      \\\\\n",
       "\t648 &    NA   & 8491V1  &   NA    &   NA    &   NA    &   NA    & t7055   & sf8491  &  2      &  0.00   &  0.00   & NA      &  0.00   & 0       & 0       & 0       & 0       & 0      \\\\\n",
       "\t649 &    NA   & 8491Y2  &   NA    &   NA    &   NA    &   NA    & t7055   & sf8491  &  3      &  0.00   &  0.00   & NA      &  0.00   & 0       & 0       & 0       & 0       & 0      \\\\\n",
       "\\end{tabular}\n"
      ],
      "text/markdown": [
       "\n",
       "| <!--/--> | t_number | roi.label | nfse | nfl | nt1c | nt1v | tnum | sfnum | index | X.CEL | X.NEL | X.NEC | sum | in_CEL | in_T2all | in_NEL | in_NEC | in_ROI | \n",
       "|---|---|---|---|---|---|---|---|---|---|---|---|---|---|---|---|---|---|---|---|---|---|---|---|---|---|---|---|---|---|---|---|---|---|---|---|---|---|---|---|---|---|---|---|---|---|---|---|---|---|---|---|---|---|---|---|---|---|---|---|---|---|---|---|---|---|---|---|---|---|---|---|---|---|---|---|---|---|---|---|---|---|---|---|---|---|---|---|---|---|---|---|---|---|---|---|---|---|---|---|---|---|---|---|---|---|---|---|---|---|---|---|---|---|---|---|---|---|---|---|---|---|---|---|---|---|---|---|---|---|---|---|---|---|---|---|---|---|---|---|---|---|---|---|---|---|---|---|---|---|---|---|---|---|---|---|---|---|---|---|---|---|---|---|---|---|\n",
       "| 3 |  8089   | 11B35   |   NA    |   NA    |   NA    |   NA    | NA      | NA      | NA      |    NA   |    NA   | NA      |    NA   | 0       | 0       | 0       | 0       | 0       | \n",
       "| 4 |  7408   | 11B40   | 1.84    | 1.13    | 0.82    | 0.79    | t7408   | sf8701  |  1      |  8.70   | 13.04   | NA      | 21.74   | 0       | 0       | 0       | 0       | 0       | \n",
       "| 9 |  8089   | 12B35   |   NA    |   NA    |   NA    |   NA    | NA      | NA      | NA      |    NA   |    NA   | NA      |    NA   | 0       | 0       | 0       | 0       | 0       | \n",
       "| 10 |  7408   | 12B40   | 1.87    | 0.96    | 0.91    | 0.87    | t7408   | sf8701  |  2      |  0.00   | 21.43   | NA      | 21.43   | 0       | 0       | 0       | 0       | 0       | \n",
       "| 12 |  8089   | 13B35   |   NA    |   NA    |   NA    |   NA    | NA      | NA      | NA      |    NA   |    NA   | NA      |    NA   | 0       | 0       | 0       | 0       | 0       | \n",
       "| 13 |  7394   | 13B41   | 2.42    | 1.07    | 1.11    | 0.90    | t7394   | sf8688  |  1      |  8.70   |  0.00   | NA      |  8.70   | 0       | 0       | 0       | 0       | 0       | \n",
       "| 14 |  6709   | 14B32   | 1.08    | 1.23    | 0.95    |   NA    | t6709   | sf8269  |  2      |  9.09   |  0.00   | NA      |  9.09   | 0       | 0       | 0       | 0       | 0       | \n",
       "| 15 |  7394   | 14B41   | 4.23    | 1.03    | 0.51    | 0.52    | t7394   | sf8688  |  2      | 42.86   |  0.00   | NA      | 42.86   | 0       | 0       | 0       | 0       | 0       | \n",
       "| 16 |  7584   | 14B44   | 3.34    | 0.85    | 1.08    | 0.72    | t7584   | sf8842  |  1      |  0.00   |  0.00   | NA      |  0.00   | 0       | 0       | 0       | 0       | 0       | \n",
       "| 18 |  6709   | 15B32   | 1.85    | 1.12    | 0.92    |   NA    | t6709   | sf8269  |  3      |  9.09   | 22.73   | NA      | 31.82   | 0       | 0       | 0       | 0       | 0       | \n",
       "| 29 |  7111   | 1B38    |   NA    |   NA    |   NA    |   NA    | NA      | NA      | NA      |    NA   |    NA   | NA      |    NA   | 0       | 0       | 0       | 0       | 0       | \n",
       "| 34 |  6586   | 21B31   |   NA    |   NA    |   NA    |   NA    | NA      | NA      | NA      |    NA   |    NA   | NA      |    NA   | 0       | 0       | 0       | 0       | 0       | \n",
       "| 36 |  6586   | 22B31   |   NA    |   NA    |   NA    |   NA    | NA      | NA      | NA      |    NA   |    NA   | NA      |    NA   | 0       | 0       | 0       | 0       | 0       | \n",
       "| 39 |  6586   | 23B31   |   NA    |   NA    |   NA    |   NA    | NA      | NA      | NA      |    NA   |    NA   | NA      |    NA   | 0       | 0       | 0       | 0       | 0       | \n",
       "| 40 |  7444   | 23B42   |   NA    |   NA    |   NA    |   NA    | NA      | NA      | NA      |    NA   |    NA   | NA      |    NA   | 0       | 0       | 0       | 0       | 0       | \n",
       "| 41 |  6586   | 24B31   |   NA    |   NA    |   NA    |   NA    | NA      | NA      | NA      |    NA   |    NA   | NA      |    NA   | 0       | 0       | 0       | 0       | 0       | \n",
       "| 42 |  7444   | 24B42   |   NA    |   NA    |   NA    |   NA    | NA      | NA      | NA      |    NA   |    NA   | NA      |    NA   | 0       | 0       | 0       | 0       | 0       | \n",
       "| 43 |  7444   | 25B42   |   NA    |   NA    |   NA    |   NA    | NA      | NA      | NA      |    NA   |    NA   | NA      |    NA   | 0       | 0       | 0       | 0       | 0       | \n",
       "| 44 |  7553   | 25B43   | 0.66    | 0.54    | 1.11    | 0.87    | t7553   | sf8804  |  1      |    NA   |    NA   | NA      |    NA   | 0       | 0       | 0       | 0       | 0       | \n",
       "| 45 |  8070   | 26B13   | 1.44    | 0.99    | 0.86    | 0.84    | t8070   | sf7540  |  2      |  0.00   |    NA   | NA      |  0.00   | 0       | 0       | 0       | 0       | 0       | \n",
       "| 52 |  7555   | 29B43   | 1.49    | 1.25    | 0.81    | 0.81    | t7555   | sf8808  |  1      |  0.00   |  0.00   | NA      |  0.00   | 0       | 0       | 0       | 0       | 0       | \n",
       "| 54 |  7111   | 2B38    |   NA    |   NA    |   NA    |   NA    | NA      | NA      | NA      |    NA   |    NA   | NA      |    NA   | 0       | 0       | 0       | 0       | 0       | \n",
       "| 60 |  6127   | 31B18   |   NA    |   NA    |   NA    |   NA    | NA      | NA      | NA      |    NA   |    NA   | NA      |    NA   | 0       | 0       | 0       | 0       | 0       | \n",
       "| 67 |  7555   | 32B43   | 1.36    | 0.53    | 0.76    | 0.72    | t7555   | sf8808  |  4      |  0.00   |  0.00   | NA      |  0.00   | 0       | 0       | 0       | 0       | 0       | \n",
       "| 78 |  6436   | 36B29   |   NA    |   NA    |   NA    |   NA    | NA      | NA      | NA      |    NA   |    NA   | NA      |    NA   | 0       | 0       | 0       | 0       | 0       | \n",
       "| 80 |  5538   | 37B17   | 2.62    | 0.82    | 0.90    |   NA    | t5538   | sf7728  |  1      |  0.00   |  3.70   |  0      |  3.70   | 0       | 0       | 0       | 0       | 0       | \n",
       "| 81 |  6148   | 37B22   |   NA    |   NA    |   NA    |   NA    | NA      | NA      | NA      |    NA   |    NA   | NA      |    NA   | 0       | 0       | 0       | 0       | 0       | \n",
       "| 82 |  7227   | 37B39   | 0.97    | 0.57    | 1.17    | 0.98    | t7227   | sf8580  |  3      |  0.00   |  0.00   | NA      |  0.00   | 0       | 0       | 0       | 0       | 0       | \n",
       "| 86 |  6148   | 38B22   |   NA    |   NA    |   NA    |   NA    | NA      | NA      | NA      |    NA   |    NA   | NA      |    NA   | 0       | 0       | 0       | 0       | 0       | \n",
       "| 88 |  6148   | 39B22   |   NA    |   NA    |   NA    |   NA    | NA      | NA      | NA      |    NA   |    NA   | NA      |    NA   | 0       | 0       | 0       | 0       | 0       | \n",
       "| 89 |  6436   | 39B29   |   NA    |   NA    |   NA    |   NA    | NA      | NA      | NA      |    NA   |    NA   | NA      |    NA   | 0       | 0       | 0       | 0       | 0       | \n",
       "| 99 |  6274   | 43B27   | 1.50    | 1.15    | 0.96    | 0.98    | t6274   | sf8093  |  3      | 19.05   |  0.00   |  0      | 19.05   | 0       | 0       | 0       | 0       | 0       | \n",
       "| 102 |  6556   | 46B30   | 9.46    | 0.37    | 0.29    | 0.36    | t6556   | sf8218  |  2      |    NA   |    NA   | NA      |    NA   | 0       | 0       | 0       | 0       | 0       | \n",
       "| 105 |  7043   | 48B37   |   NA    |   NA    |   NA    |   NA    | NA      | NA      | NA      |    NA   |    NA   | NA      |    NA   | 0       | 0       | 0       | 0       | 0       | \n",
       "| 106 |  7329   | 48B40   | 3.77    | 1.17    | 0.78    | 0.57    | t7329   | sf8649  |  2      | 24.14   |  0.00   | NA      | 24.14   | 0       | 0       | 0       | 0       | 0       | \n",
       "| 107 |  7039   | 49B15   | 1.88    | 1.13    | 1.18    | 0.83    | t7039   | sf7640  |  1      |  4.35   | 34.78   | NA      | 39.13   | 0       | 0       | 0       | 0       | 0       | \n",
       "| 108 |  7338   | 49B40   |   NA    |   NA    |   NA    |   NA    | NA      | NA      | NA      |    NA   |    NA   | NA      |    NA   | 0       | 0       | 0       | 0       | 0       | \n",
       "| 115 |  8088   | 51B43   |   NA    |   NA    |   NA    |   NA    | NA      | NA      | NA      |    NA   |    NA   | NA      |    NA   | 0       | 0       | 0       | 0       | 0       | \n",
       "| 118 |  6925   | 52B35   | 1.26    | 0.87    | 1.03    |   NA    | t6925   | sf8422  |  1      |    NA   |    NA   | NA      |    NA   | 0       | 0       | 0       | 0       | 0       | \n",
       "| 119 |  8088   | 52B43   |   NA    |   NA    |   NA    |   NA    | NA      | NA      | NA      |    NA   |    NA   | NA      |    NA   | 0       | 0       | 0       | 0       | 0       | \n",
       "| 121 |  5333   | 53B16   | 1.11    | 1.25    | 0.85    |   NA    | NA      | NA      | NA      |    NA   |    NA   | NA      |    NA   | 0       | 0       | 0       | 0       | 0       | \n",
       "| 123 |  6925   | 53B35   | 1.19    | 0.83    | 0.96    |   NA    | t6925   | sf8422  |  2      |    NA   |    NA   | NA      |    NA   | 0       | 0       | 0       | 0       | 0       | \n",
       "| 124 |  7001   | 53B36   |   NA    |   NA    |   NA    |   NA    | NA      | NA      | NA      |    NA   |    NA   | NA      |    NA   | 0       | 0       | 0       | 0       | 0       | \n",
       "| 127 |  6925   | 54B35   |   NA    |   NA    |   NA    |   NA    | NA      | NA      | NA      |    NA   |    NA   | NA      |    NA   | 0       | 0       | 0       | 0       | 0       | \n",
       "| 147 |  7338   | 60B40   |   NA    |   NA    |   NA    |   NA    | NA      | NA      | NA      |    NA   |    NA   | NA      |    NA   | 0       | 0       | 0       | 0       | 0       | \n",
       "| 150 |  6152   | 61B24   | 2.74    | 1.21    | 0.92    | 0.91    | t6152   | sf7997  |  2      |    NA   |    NA   | NA      |    NA   | 0       | 0       | 0       | 0       | 0       | \n",
       "| 155 |  6929   | 62B35   | 1.06    | 1.08    | 1.01    | 0.93    | t6929   | sf8425  |  3      |  0.00   |  0.00   | NA      |  0.00   | 0       | 0       | 0       | 0       | 0       | \n",
       "| 157 |  6472   | 63B29   | 2.39    | 0.61    | 1.16    | 0.58    | t6472   | sf8186  |  1      | 18.52   |  0.00   |  0      | 18.52   | 0       | 0       | 0       | 0       | 0       | \n",
       "| 158 |  7225   | 63B39   | 1.54    | 1.16    | 0.91    | 1.00    | t7225   | sf8582  |  2      |  0.00   |  0.00   | NA      |  0.00   | 0       | 0       | 0       | 0       | 0       | \n",
       "| 159 |  6285   | 64B27   | 1.83    | 1.16    | 1.04    | 0.58    | t6285   | sf8104  |  3      | 33.33   |  0.00   | NA      | 33.33   | 0       | 0       | 0       | 0       | 0       | \n",
       "| 166 |  6708   | 66B31   |   NA    |   NA    |   NA    |   NA    | NA      | NA      | NA      |    NA   |    NA   | NA      |    NA   | 0       | 0       | 0       | 0       | 0       | \n",
       "| 168 |  6708   | 67B31   |   NA    |   NA    |   NA    |   NA    | NA      | NA      | NA      |    NA   |    NA   | NA      |    NA   | 0       | 0       | 0       | 0       | 0       | \n",
       "| 176 |  7540   | 6B43    |   NA    |   NA    |   NA    |   NA    | t7540   | sf8796  |  2      |  0.00   | 22.92   | NA      | 22.92   | 0       | 0       | 0       | 0       | 0       | \n",
       "| 181 |  5577   | 71B17   | 1.60    | 1.24    | 1.46    | 0.82    | t5577   | sf7750  |  1      | 36.00   |  0.00   |  0      | 36.00   | 0       | 0       | 0       | 0       | 0       | \n",
       "| 184 |  6630   | 71B31   | 1.80    | 1.12    | 1.06    |   NA    | t6630   | sf8250  |  2      |  0.00   | 17.24   |  0      | 17.24   | 0       | 0       | 0       | 0       | 0       | \n",
       "| 202 |  5728   | 76B19   | 3.33    | 0.83    | 0.70    |   NA    | t5728   | sf7818  |  2      |  0.00   |  0.00   |  0      |  0.00   | 0       | 0       | 0       | 0       | 0       | \n",
       "| 203 |  8085   | 77B22   |   NA    |   NA    |   NA    |   NA    | NA      | NA      | NA      |    NA   |    NA   | NA      |    NA   | 0       | 0       | 0       | 0       | 0       | \n",
       "| 209 |  8085   | 78B22   |   NA    |   NA    |   NA    |   NA    | NA      | NA      | NA      |    NA   |    NA   | NA      |    NA   | 0       | 0       | 0       | 0       | 0       | \n",
       "| 210 |  5934   | 7909 T1 |   NA    |   NA    |   NA    |   NA    | NA      | NA      | NA      |    NA   |    NA   | NA      |    NA   | 0       | 0       | 0       | 0       | 0       | \n",
       "| 211 |  5934   | 7909 T2 |   NA    |   NA    |   NA    |   NA    | NA      | NA      | NA      |    NA   |    NA   | NA      |    NA   | 0       | 0       | 0       | 0       | 0       | \n",
       "| 212 |  5934   | 7909 T3 |   NA    |   NA    |   NA    |   NA    | NA      | NA      | NA      |    NA   |    NA   | NA      |    NA   | 0       | 0       | 0       | 0       | 0       | \n",
       "| 213 |  8085   | 79B22   |   NA    |   NA    |   NA    |   NA    | NA      | NA      | NA      |    NA   |    NA   | NA      |    NA   | 0       | 0       | 0       | 0       | 0       | \n",
       "| 220 |  7486   | 80B24   |   NA    |   NA    |   NA    |   NA    | NA      | NA      | NA      |    NA   |    NA   | NA      |    NA   | 0       | 0       | 0       | 0       | 0       | \n",
       "| 224 |  5739   | 81B19   | 1.38    |   NA    | 0.83    |   NA    | t5739   | sf7821  |  1      |    NA   |    NA   | NA      |    NA   | 0       | 0       | 0       | 0       | 0       | \n",
       "| 226 |  7486   | 81B24   |   NA    |   NA    |   NA    |   NA    | NA      | NA      | NA      |    NA   |    NA   | NA      |    NA   | 0       | 0       | 0       | 0       | 0       | \n",
       "| 227 |  6304   | 81B27   |   NA    |   NA    |   NA    |   NA    | NA      | NA      | NA      |    NA   |    NA   | NA      |    NA   | 0       | 0       | 0       | 0       | 0       | \n",
       "| 229 |  7338   | 81B40   |   NA    |   NA    |   NA    |   NA    | NA      | NA      | NA      |    NA   |    NA   | NA      |    NA   | 0       | 0       | 0       | 0       | 0       | \n",
       "| 231 |  7486   | 82B24   |   NA    |   NA    |   NA    |   NA    | NA      | NA      | NA      |    NA   |    NA   | NA      |    NA   | 0       | 0       | 0       | 0       | 0       | \n",
       "| 233 |  6405   | 82B28   |   NA    |   NA    |   NA    |   NA    | NA      | NA      | NA      |    NA   |    NA   | NA      |    NA   | 0       | 0       | 0       | 0       | 0       | \n",
       "| 236 |  6826   | 8343 G3 |   NA    |   NA    |   NA    |   NA    | NA      | NA      | NA      |    NA   |    NA   | NA      |    NA   | 0       | 0       | 0       | 0       | 0       | \n",
       "| 237 |  6826   | 8343 P2 |   NA    |   NA    |   NA    |   NA    | NA      | NA      | NA      |    NA   |    NA   | NA      |    NA   | 0       | 0       | 0       | 0       | 0       | \n",
       "| 238 |  6826   | 8343 Y1 |   NA    |   NA    |   NA    |   NA    | NA      | NA      | NA      |    NA   |    NA   | NA      |    NA   | 0       | 0       | 0       | 0       | 0       | \n",
       "| 240 |  8068   | 8352 T2 | 1.01    | 1.12    | 1.00    | 1.19    | NA      | NA      | NA      |    NA   |    NA   | NA      |    NA   | 0       | 0       | 0       | 0       | 0       | \n",
       "| 242 |  8068   | 8352 T4 | 4.10    | 1.10    | 0.66    | 1.04    | NA      | NA      | NA      |    NA   |    NA   | NA      |    NA   | 0       | 0       | 0       | 0       | 0       | \n",
       "| 250 |  6405   | 83B28   |   NA    |   NA    |   NA    |   NA    | NA      | NA      | NA      |    NA   |    NA   | NA      |    NA   | 0       | 0       | 0       | 0       | 0       | \n",
       "| 256 |  6296   | 84B27   | 2.02    | 0.78    | 1.14    | 0.72    | t6296   | sf8112  |  2      |  0.00   |  0.00   |  0      |  0.00   | 0       | 0       | 0       | 0       | 0       | \n",
       "| 257 |  8090   | 84B29   |   NA    |   NA    |   NA    |   NA    | NA      | NA      | NA      |    NA   |    NA   | NA      |    NA   | 0       | 0       | 0       | 0       | 0       | \n",
       "| 262 |  6405   | 85B28   |   NA    |   NA    |   NA    |   NA    | NA      | NA      | NA      |    NA   |    NA   | NA      |    NA   | 0       | 0       | 0       | 0       | 0       | \n",
       "| 263 |  8090   | 85B29   |   NA    |   NA    |   NA    |   NA    | NA      | NA      | NA      |    NA   |    NA   | NA      |    NA   | 0       | 0       | 0       | 0       | 0       | \n",
       "| 265 |  7332   | 8653 B1 |   NA    |   NA    |   NA    |   NA    | NA      | NA      | NA      |    NA   |    NA   | NA      |    NA   | 0       | 0       | 0       | 0       | 0       | \n",
       "| 266 |  7332   | 8653 B2 |   NA    |   NA    |   NA    |   NA    | NA      | NA      | NA      |    NA   |    NA   | NA      |    NA   | 0       | 0       | 0       | 0       | 0       | \n",
       "| 267 |  5272   | 86B15   | 1.23    | 1.11    | 0.96    | 1.02    | t5272   | sf7659  |  2      |    NA   |    NA   | NA      |    NA   | 0       | 0       | 0       | 0       | 0       | \n",
       "| 271 |  8090   | 86B29   |   NA    |   NA    |   NA    |   NA    | NA      | NA      | NA      |    NA   |    NA   | NA      |    NA   | 0       | 0       | 0       | 0       | 0       | \n",
       "| 273 |  7015   | 87B15   | 1.19    | 1.14    | 0.76    | 0.85    | NA      | NA      | NA      |    NA   |    NA   | NA      |    NA   | 0       | 0       | 0       | 0       | 0       | \n",
       "| 277 |  7776   | 87B46   |   NA    |   NA    |   NA    |   NA    | NA      | NA      | NA      |    NA   |    NA   | NA      |    NA   | 0       | 0       | 0       | 0       | 0       | \n",
       "| 278 |  7015   | 88B15   | 2.19    | 1.24    | 0.99    | 0.57    | NA      | NA      | NA      |    NA   |    NA   | NA      |    NA   | 0       | 0       | 0       | 0       | 0       | \n",
       "| 280 |  8098   | 88B22   |   NA    |   NA    |   NA    |   NA    | NA      | NA      | NA      |    NA   |    NA   | NA      |    NA   | 0       | 0       | 0       | 0       | 0       | \n",
       "| 282 |  7628   | 88B44   | 1.38    | 1.02    | 0.74    | 0.66    | t7628   | sf8873  |  2      |  0.00   |  0.00   | NA      |  0.00   | 0       | 0       | 0       | 0       | 0       | \n",
       "| 283 |  7776   | 88B46   |   NA    |   NA    |   NA    |   NA    | NA      | NA      | NA      |    NA   |    NA   | NA      |    NA   | 0       | 0       | 0       | 0       | 0       | \n",
       "| 285 |  8098   | 89B22   |   NA    |   NA    |   NA    |   NA    | NA      | NA      | NA      |    NA   |    NA   | NA      |    NA   | 0       | 0       | 0       | 0       | 0       | \n",
       "| 290 |  7035   | 8B37    |   NA    |   NA    |   NA    |   NA    | NA      | NA      | NA      |    NA   |    NA   | NA      |    NA   | 0       | 0       | 0       | 0       | 0       | \n",
       "| 298 |  6243   | 93B26   | 4.67    | 0.67    | 0.73    | 0.51    | NA      | NA      | NA      |    NA   |    NA   | NA      |    NA   | 0       | 0       | 0       | 0       | 0       | \n",
       "| 301 |  7282   | 95B39   |   NA    |   NA    |   NA    |   NA    | NA      | NA      | NA      |    NA   |    NA   | NA      |    NA   | 0       | 0       | 0       | 0       | 0       | \n",
       "| 303 |  7282   | 96B39   |   NA    |   NA    |   NA    |   NA    | NA      | NA      | NA      |    NA   |    NA   | NA      |    NA   | 0       | 0       | 0       | 0       | 0       | \n",
       "| 306 |  6865   | 97B34   |   NA    |   NA    |   NA    |   NA    | NA      | NA      | NA      |    NA   |    NA   | NA      |    NA   | 0       | 0       | 0       | 0       | 0       | \n",
       "| 307 |  5739   | 98B19   | 2.08    |   NA    | 1.17    |   NA    | t5739   | sf7821  |  2      |    NA   |    NA   | NA      |    NA   | 0       | 0       | 0       | 0       | 0       | \n",
       "| 308 |  6495   | 98B29   | 1.31    | 1.10    | 1.02    | 0.81    | t6495   | sf8196  |  3      |  0.00   |  0.00   | NA      |  0.00   | 0       | 0       | 0       | 0       | 0       | \n",
       "| 309 |  6865   | 98B34   |   NA    |   NA    |   NA    |   NA    | NA      | NA      | NA      |    NA   |    NA   | NA      |    NA   | 0       | 0       | 0       | 0       | 0       | \n",
       "| 310 |  5739   | 99B19   | 1.67    |   NA    | 0.94    |   NA    | t5739   | sf7821  |  3      |    NA   |    NA   | NA      |    NA   | 0       | 0       | 0       | 0       | 0       | \n",
       "| 312 |  6865   | 99B34   |   NA    |   NA    |   NA    |   NA    | NA      | NA      | NA      |    NA   |    NA   | NA      |    NA   | 0       | 0       | 0       | 0       | 0       | \n",
       "| 314 |  7035   | 9B37    |   NA    |   NA    |   NA    |   NA    | NA      | NA      | NA      |    NA   |    NA   | NA      |    NA   | 0       | 0       | 0       | 0       | 0       | \n",
       "| 317 |  8773   | 60B60   |   NA    |   NA    |   NA    |   NA    | NA      | NA      | NA      |    NA   |    NA   | NA      |    NA   | 0       | 0       | 0       | 0       | 0       | \n",
       "| 320 |  8773   | 63B60   | 1.22    | 1.18    | 0.92    |   NA    | t8773   | sf9727  |  3      |  2.38   | 30.95   | NA      | 33.33   | 0       | 0       | 0       | 0       | 0       | \n",
       "| 321 |  8775   | 1B61    | 0.00    | 0.00    | 0.00    |   NA    | NA      | NA      | NA      |    NA   |    NA   | NA      |    NA   | 0       | 0       | 0       | 0       | 0       | \n",
       "| 322 |  8775   | 2B61    | 0.00    | 0.00    | 0.00    |   NA    | NA      | NA      | NA      |    NA   |    NA   | NA      |    NA   | 0       | 0       | 0       | 0       | 0       | \n",
       "| 323 |  8775   | 3B61    | 0.00    | 0.00    | 0.00    |   NA    | NA      | NA      | NA      |    NA   |    NA   | NA      |    NA   | 0       | 0       | 0       | 0       | 0       | \n",
       "| 324 |  8775   | 4B61    | 0.00    | 0.00    | 0.00    |   NA    | NA      | NA      | NA      |    NA   |    NA   | NA      |    NA   | 0       | 0       | 0       | 0       | 0       | \n",
       "| 328 |  8869   | 68B60   |   NA    |   NA    |   NA    |   NA    | NA      | NA      | NA      |    NA   |    NA   | NA      |    NA   | 0       | 0       | 0       | 0       | 0       | \n",
       "| 339 |  8956   | 82B63   | 1.38    | 1.11    | 1.46    | 0.76    | t8956   | sf9907  |  2      |  0.00   |  2.50   | NA      |  2.50   | 0       | 0       | 0       | 0       | 0       | \n",
       "| 343 |  8969   |         |   NA    |   NA    |   NA    |   NA    | NA      | NA      | NA      |    NA   |    NA   | NA      |    NA   | 0       | 0       | 0       | 0       | 0       | \n",
       "| 375 |  9134   | 15B71   |   NA    |   NA    |   NA    |   NA    | t9134   | sf10071 |  2      |  0.00   |  0.00   | NA      |  0.00   | 0       | 0       | 0       | 0       | 0       | \n",
       "| 376 |  9163   |         |   NA    |   NA    |   NA    |   NA    | NA      | NA      | NA      |    NA   |    NA   | NA      |    NA   | 0       | 0       | 0       | 0       | 0       | \n",
       "| 377 |  9170   |         |   NA    |   NA    |   NA    |   NA    | NA      | NA      | NA      |    NA   |    NA   | NA      |    NA   | 0       | 0       | 0       | 0       | 0       | \n",
       "| 378 |  9200   |         |   NA    |   NA    |   NA    |   NA    | NA      | NA      | NA      |    NA   |    NA   | NA      |    NA   | 0       | 0       | 0       | 0       | 0       | \n",
       "| 379 |  9212   | 44B74   |   NA    |   NA    |   NA    |   NA    | NA      | NA      | NA      |    NA   |    NA   | NA      |    NA   | 0       | 0       | 0       | 0       | 0       | \n",
       "| 380 |  9212   | 45B74   |   NA    |   NA    |   NA    |   NA    | NA      | NA      | NA      |    NA   |    NA   | NA      |    NA   | 0       | 0       | 0       | 0       | 0       | \n",
       "| 381 |  9212   | 46B74   |   NA    |   NA    |   NA    |   NA    | NA      | NA      | NA      |    NA   |    NA   | NA      |    NA   | 0       | 0       | 0       | 0       | 0       | \n",
       "| 389 |  9287   |         |   NA    |   NA    |   NA    |   NA    | NA      | NA      | NA      |    NA   |    NA   | NA      |    NA   | 0       | 0       | 0       | 0       | 0       | \n",
       "| 395 |  9316   |         |   NA    |   NA    |   NA    |   NA    | NA      | NA      | NA      |    NA   |    NA   | NA      |    NA   | 0       | 0       | 0       | 0       | 0       | \n",
       "| 396 |  9386   |         |   NA    |   NA    |   NA    |   NA    | NA      | NA      | NA      |    NA   |    NA   | NA      |    NA   | 0       | 0       | 0       | 0       | 0       | \n",
       "| 400 |  9408   | 54B75   |   NA    |   NA    |   NA    |   NA    | NA      | NA      | NA      |    NA   |    NA   | NA      |    NA   | 0       | 0       | 0       | 0       | 0       | \n",
       "| 401 |  9408   | 55B75   |   NA    |   NA    |   NA    |   NA    | NA      | NA      | NA      |    NA   |    NA   | NA      |    NA   | 0       | 0       | 0       | 0       | 0       | \n",
       "| 414 |  9683   | 33B77   |   NA    |   NA    |   NA    |   NA    | NA      | NA      | NA      |    NA   |    NA   | NA      |    NA   | 0       | 0       | 0       | 0       | 0       | \n",
       "| 417 |  9784   | 56B77   |   NA    |   NA    |   NA    |   NA    | NA      | NA      | NA      |    NA   |    NA   | NA      |    NA   | 0       | 0       | 0       | 0       | 0       | \n",
       "| 418 |  9784   | 58B77   |   NA    |   NA    |   NA    |   NA    | NA      | NA      | NA      |    NA   |    NA   | NA      |    NA   | 0       | 0       | 0       | 0       | 0       | \n",
       "| 419 |  9784   | 59B77   |   NA    |   NA    |   NA    |   NA    | NA      | NA      | NA      |    NA   |    NA   | NA      |    NA   | 0       | 0       | 0       | 0       | 0       | \n",
       "| 420 |  9784   | 60B77   |   NA    |   NA    |   NA    |   NA    | NA      | NA      | NA      |    NA   |    NA   | NA      |    NA   | 0       | 0       | 0       | 0       | 0       | \n",
       "| 421 |  9901   | 12B78   |   NA    |   NA    |   NA    |   NA    | NA      | NA      | NA      |    NA   |    NA   | NA      |    NA   | 0       | 0       | 0       | 0       | 0       | \n",
       "| 422 |  9901   | 14B78   |   NA    |   NA    |   NA    |   NA    | NA      | NA      | NA      |    NA   |    NA   | NA      |    NA   | 0       | 0       | 0       | 0       | 0       | \n",
       "| 423 |  9901   | 16B78   |   NA    |   NA    |   NA    |   NA    | NA      | NA      | NA      |    NA   |    NA   | NA      |    NA   | 0       | 0       | 0       | 0       | 0       | \n",
       "| 424 |  9901   | 17B78   |   NA    |   NA    |   NA    |   NA    | NA      | NA      | NA      |    NA   |    NA   | NA      |    NA   | 0       | 0       | 0       | 0       | 0       | \n",
       "| 434 | 10152   | 60B78   | 1.23    | 1.13    | 1.20    | 1.05    | t10152  | sf10560 |  3      |  0.00   |  0.00   | NA      |  0.00   | 0       | 0       | 0       | 0       | 0       | \n",
       "| 451 | 10242   | 4B81    |   NA    |   NA    |   NA    |   NA    | NA      | NA      | NA      |    NA   |    NA   | NA      |    NA   | 0       | 0       | 0       | 0       | 0       | \n",
       "| 472 | 10572   | 46B90   | 1.04    | 0.96    | 0.86    | 0.93    | t10572  | sf10823 |  3      |  0.00   | 19.15   | NA      | 19.15   | 0       | 0       | 0       | 0       | 0       | \n",
       "| 477 | 10601   | 74B90   |   NA    |   NA    |   NA    |   NA    | NA      | NA      | NA      |    NA   |    NA   | NA      |    NA   | 0       | 0       | 0       | 0       | 0       | \n",
       "| 478 | 10601   | 76B90   |   NA    |   NA    |   NA    |   NA    | NA      | NA      | NA      |    NA   |    NA   | NA      |    NA   | 0       | 0       | 0       | 0       | 0       | \n",
       "| 479 | 10619   | 81B90   |   NA    |   NA    |   NA    |   NA    | NA      | NA      | NA      |    NA   |    NA   | NA      |    NA   | 0       | 0       | 0       | 0       | 0       | \n",
       "| 480 | 10619   | 82B90   |   NA    |   NA    |   NA    |   NA    | NA      | NA      | NA      |    NA   |    NA   | NA      |    NA   | 0       | 0       | 0       | 0       | 0       | \n",
       "| 481 | 10619   | 83B90   |   NA    |   NA    |   NA    |   NA    | NA      | NA      | NA      |    NA   |    NA   | NA      |    NA   | 0       | 0       | 0       | 0       | 0       | \n",
       "| 482 | 10643   |         |   NA    |   NA    |   NA    |   NA    | NA      | NA      | NA      |    NA   |    NA   | NA      |    NA   | 0       | 0       | 0       | 0       | 0       | \n",
       "| 483 | 10654   |         |   NA    |   NA    |   NA    |   NA    | NA      | NA      | NA      |    NA   |    NA   | NA      |    NA   | 0       | 0       | 0       | 0       | 0       | \n",
       "| 499 | 10756   | 67B91   | 1.34    | 1.00    | 0.96    | 1.03    | t10756  | sf11017 |  1      |  0.00   |  6.67   | NA      |  6.67   | 0       | 0       | 0       | 0       | 0       | \n",
       "| 506 | 10766   |         |   NA    |   NA    |   NA    |   NA    | NA      | NA      | NA      |    NA   |    NA   | NA      |    NA   | 0       | 0       | 0       | 0       | 0       | \n",
       "| 535 | 11192   | 37B97   | 1.59    | 1.03    | 0.94    | 0.91    | t11192  | sf11150 |  4      |  0.00   | 24.44   | NA      | 24.44   | 0       | 0       | 0       | 0       | 0       | \n",
       "| 572 | 11420   |         |   NA    |   NA    |   NA    |   NA    | NA      | NA      | NA      |    NA   |    NA   | NA      |    NA   | 0       | 0       | 0       | 0       | 0       | \n",
       "| 573 | 11424   |         |   NA    |   NA    |   NA    |   NA    | NA      | NA      | NA      |    NA   |    NA   | NA      |    NA   | 0       | 0       | 0       | 0       | 0       | \n",
       "| 578 | 11482   | 15D1    | 0.97    | 1.11    | 1.08    | 1.20    | t11482  | sf11334 |  2      |    NA   |  0.00   | NA      |  0.00   | 0       | 0       | 0       | 0       | 0       | \n",
       "| 579 | 11484   | 13D1    | 2.89    | 1.18    | 1.24    | 0.52    | t11484  | sf11338 |  1      | 22.22   |  0.00   | NA      | 22.22   | 0       | 0       | 0       | 0       | 0       | \n",
       "| 590 | 11596   |         |   NA    |   NA    |   NA    |   NA    | NA      | NA      | NA      |    NA   |    NA   | NA      |    NA   | 0       | 0       | 0       | 0       | 0       | \n",
       "| 599 | 11747   | 11485-4 |   NA    |   NA    |   NA    |   NA    | NA      | NA      | NA      |    NA   |    NA   | NA      |    NA   | 0       | 0       | 0       | 0       | 0       | \n",
       "| 612 | 11876   | 11560A0 | 1.03    | 0.92    | 1.16    | 1.28    | t11876  | sf11560 |  3      |  0.00   |  0.00   |  0      |  0.00   | 0       | 0       | 0       | 0       | 0       | \n",
       "| 615 | 11898   | 62D3    | 1.96    | 1.08    | 1.06    | 0.41    | t11898  | sf11574 |  2      | 13.64   |  2.27   | NA      | 15.91   | 0       | 0       | 0       | 0       | 0       | \n",
       "| 619 | 12000   |         |   NA    |   NA    |   NA    |   NA    | NA      | NA      | NA      |    NA   |    NA   | NA      |    NA   | 0       | 0       | 0       | 0       | 0       | \n",
       "| 630 | 12097   |         |   NA    |   NA    |   NA    |   NA    | NA      | NA      | NA      |    NA   |    NA   | NA      |    NA   | 0       | 0       | 0       | 0       | 0       | \n",
       "| 635 | 12181   |         |   NA    |   NA    |   NA    |   NA    | NA      | NA      | NA      |    NA   |    NA   | NA      |    NA   | 0       | 0       | 0       | 0       | 0       | \n",
       "| 636 | 12259   |         |   NA    |   NA    |   NA    |   NA    | NA      | NA      | NA      |    NA   |    NA   | NA      |    NA   | 0       | 0       | 0       | 0       | 0       | \n",
       "| 637 | 12320   |         |   NA    |   NA    |   NA    |   NA    | NA      | NA      | NA      |    NA   |    NA   | NA      |    NA   | 0       | 0       | 0       | 0       | 0       | \n",
       "| 638 | 12345   |         |   NA    |   NA    |   NA    |   NA    | NA      | NA      | NA      |    NA   |    NA   | NA      |    NA   | 0       | 0       | 0       | 0       | 0       | \n",
       "| 639 | 12357   |         |   NA    |   NA    |   NA    |   NA    | NA      | NA      | NA      |    NA   |    NA   | NA      |    NA   | 0       | 0       | 0       | 0       | 0       | \n",
       "| 640 |    NA   | 8352T1  |   NA    |   NA    |   NA    |   NA    | t8068   | sf8352  |  1      |    NA   |    NA   | NA      |    NA   | 0       | 0       | 0       | 0       | 0       | \n",
       "| 641 |    NA   | 8352T2  |   NA    |   NA    |   NA    |   NA    | t8068   | sf8352  |  2      |    NA   |    NA   | NA      |    NA   | 0       | 0       | 0       | 0       | 0       | \n",
       "| 642 |    NA   | 8352T3  |   NA    |   NA    |   NA    |   NA    | t8068   | sf8352  |  3      |    NA   |    NA   | NA      |    NA   | 0       | 0       | 0       | 0       | 0       | \n",
       "| 643 |    NA   | 8352T4  |   NA    |   NA    |   NA    |   NA    | t8068   | sf8352  |  4      |    NA   |    NA   | NA      |    NA   | 0       | 0       | 0       | 0       | 0       | \n",
       "| 647 |    NA   | 8491B3  |   NA    |   NA    |   NA    |   NA    | t7055   | sf8491  |  1      |  0.00   |  0.00   | NA      |  0.00   | 0       | 0       | 0       | 0       | 0       | \n",
       "| 648 |    NA   | 8491V1  |   NA    |   NA    |   NA    |   NA    | t7055   | sf8491  |  2      |  0.00   |  0.00   | NA      |  0.00   | 0       | 0       | 0       | 0       | 0       | \n",
       "| 649 |    NA   | 8491Y2  |   NA    |   NA    |   NA    |   NA    | t7055   | sf8491  |  3      |  0.00   |  0.00   | NA      |  0.00   | 0       | 0       | 0       | 0       | 0       | \n",
       "\n",
       "\n"
      ],
      "text/plain": [
       "    t_number roi.label nfse nfl  nt1c nt1v tnum   sfnum   index X.CEL X.NEL\n",
       "3    8089    11B35       NA   NA   NA   NA NA     NA      NA       NA    NA\n",
       "4    7408    11B40     1.84 1.13 0.82 0.79 t7408  sf8701   1     8.70 13.04\n",
       "9    8089    12B35       NA   NA   NA   NA NA     NA      NA       NA    NA\n",
       "10   7408    12B40     1.87 0.96 0.91 0.87 t7408  sf8701   2     0.00 21.43\n",
       "12   8089    13B35       NA   NA   NA   NA NA     NA      NA       NA    NA\n",
       "13   7394    13B41     2.42 1.07 1.11 0.90 t7394  sf8688   1     8.70  0.00\n",
       "14   6709    14B32     1.08 1.23 0.95   NA t6709  sf8269   2     9.09  0.00\n",
       "15   7394    14B41     4.23 1.03 0.51 0.52 t7394  sf8688   2    42.86  0.00\n",
       "16   7584    14B44     3.34 0.85 1.08 0.72 t7584  sf8842   1     0.00  0.00\n",
       "18   6709    15B32     1.85 1.12 0.92   NA t6709  sf8269   3     9.09 22.73\n",
       "29   7111    1B38        NA   NA   NA   NA NA     NA      NA       NA    NA\n",
       "34   6586    21B31       NA   NA   NA   NA NA     NA      NA       NA    NA\n",
       "36   6586    22B31       NA   NA   NA   NA NA     NA      NA       NA    NA\n",
       "39   6586    23B31       NA   NA   NA   NA NA     NA      NA       NA    NA\n",
       "40   7444    23B42       NA   NA   NA   NA NA     NA      NA       NA    NA\n",
       "41   6586    24B31       NA   NA   NA   NA NA     NA      NA       NA    NA\n",
       "42   7444    24B42       NA   NA   NA   NA NA     NA      NA       NA    NA\n",
       "43   7444    25B42       NA   NA   NA   NA NA     NA      NA       NA    NA\n",
       "44   7553    25B43     0.66 0.54 1.11 0.87 t7553  sf8804   1       NA    NA\n",
       "45   8070    26B13     1.44 0.99 0.86 0.84 t8070  sf7540   2     0.00    NA\n",
       "52   7555    29B43     1.49 1.25 0.81 0.81 t7555  sf8808   1     0.00  0.00\n",
       "54   7111    2B38        NA   NA   NA   NA NA     NA      NA       NA    NA\n",
       "60   6127    31B18       NA   NA   NA   NA NA     NA      NA       NA    NA\n",
       "67   7555    32B43     1.36 0.53 0.76 0.72 t7555  sf8808   4     0.00  0.00\n",
       "78   6436    36B29       NA   NA   NA   NA NA     NA      NA       NA    NA\n",
       "80   5538    37B17     2.62 0.82 0.90   NA t5538  sf7728   1     0.00  3.70\n",
       "81   6148    37B22       NA   NA   NA   NA NA     NA      NA       NA    NA\n",
       "82   7227    37B39     0.97 0.57 1.17 0.98 t7227  sf8580   3     0.00  0.00\n",
       "86   6148    38B22       NA   NA   NA   NA NA     NA      NA       NA    NA\n",
       "88   6148    39B22       NA   NA   NA   NA NA     NA      NA       NA    NA\n",
       "89   6436    39B29       NA   NA   NA   NA NA     NA      NA       NA    NA\n",
       "99   6274    43B27     1.50 1.15 0.96 0.98 t6274  sf8093   3    19.05  0.00\n",
       "102  6556    46B30     9.46 0.37 0.29 0.36 t6556  sf8218   2       NA    NA\n",
       "105  7043    48B37       NA   NA   NA   NA NA     NA      NA       NA    NA\n",
       "106  7329    48B40     3.77 1.17 0.78 0.57 t7329  sf8649   2    24.14  0.00\n",
       "107  7039    49B15     1.88 1.13 1.18 0.83 t7039  sf7640   1     4.35 34.78\n",
       "108  7338    49B40       NA   NA   NA   NA NA     NA      NA       NA    NA\n",
       "115  8088    51B43       NA   NA   NA   NA NA     NA      NA       NA    NA\n",
       "118  6925    52B35     1.26 0.87 1.03   NA t6925  sf8422   1       NA    NA\n",
       "119  8088    52B43       NA   NA   NA   NA NA     NA      NA       NA    NA\n",
       "121  5333    53B16     1.11 1.25 0.85   NA NA     NA      NA       NA    NA\n",
       "123  6925    53B35     1.19 0.83 0.96   NA t6925  sf8422   2       NA    NA\n",
       "124  7001    53B36       NA   NA   NA   NA NA     NA      NA       NA    NA\n",
       "127  6925    54B35       NA   NA   NA   NA NA     NA      NA       NA    NA\n",
       "147  7338    60B40       NA   NA   NA   NA NA     NA      NA       NA    NA\n",
       "150  6152    61B24     2.74 1.21 0.92 0.91 t6152  sf7997   2       NA    NA\n",
       "155  6929    62B35     1.06 1.08 1.01 0.93 t6929  sf8425   3     0.00  0.00\n",
       "157  6472    63B29     2.39 0.61 1.16 0.58 t6472  sf8186   1    18.52  0.00\n",
       "158  7225    63B39     1.54 1.16 0.91 1.00 t7225  sf8582   2     0.00  0.00\n",
       "159  6285    64B27     1.83 1.16 1.04 0.58 t6285  sf8104   3    33.33  0.00\n",
       "166  6708    66B31       NA   NA   NA   NA NA     NA      NA       NA    NA\n",
       "168  6708    67B31       NA   NA   NA   NA NA     NA      NA       NA    NA\n",
       "176  7540    6B43        NA   NA   NA   NA t7540  sf8796   2     0.00 22.92\n",
       "181  5577    71B17     1.60 1.24 1.46 0.82 t5577  sf7750   1    36.00  0.00\n",
       "184  6630    71B31     1.80 1.12 1.06   NA t6630  sf8250   2     0.00 17.24\n",
       "202  5728    76B19     3.33 0.83 0.70   NA t5728  sf7818   2     0.00  0.00\n",
       "203  8085    77B22       NA   NA   NA   NA NA     NA      NA       NA    NA\n",
       "209  8085    78B22       NA   NA   NA   NA NA     NA      NA       NA    NA\n",
       "210  5934    7909 T1     NA   NA   NA   NA NA     NA      NA       NA    NA\n",
       "211  5934    7909 T2     NA   NA   NA   NA NA     NA      NA       NA    NA\n",
       "212  5934    7909 T3     NA   NA   NA   NA NA     NA      NA       NA    NA\n",
       "213  8085    79B22       NA   NA   NA   NA NA     NA      NA       NA    NA\n",
       "220  7486    80B24       NA   NA   NA   NA NA     NA      NA       NA    NA\n",
       "224  5739    81B19     1.38   NA 0.83   NA t5739  sf7821   1       NA    NA\n",
       "226  7486    81B24       NA   NA   NA   NA NA     NA      NA       NA    NA\n",
       "227  6304    81B27       NA   NA   NA   NA NA     NA      NA       NA    NA\n",
       "229  7338    81B40       NA   NA   NA   NA NA     NA      NA       NA    NA\n",
       "231  7486    82B24       NA   NA   NA   NA NA     NA      NA       NA    NA\n",
       "233  6405    82B28       NA   NA   NA   NA NA     NA      NA       NA    NA\n",
       "236  6826    8343 G3     NA   NA   NA   NA NA     NA      NA       NA    NA\n",
       "237  6826    8343 P2     NA   NA   NA   NA NA     NA      NA       NA    NA\n",
       "238  6826    8343 Y1     NA   NA   NA   NA NA     NA      NA       NA    NA\n",
       "240  8068    8352 T2   1.01 1.12 1.00 1.19 NA     NA      NA       NA    NA\n",
       "242  8068    8352 T4   4.10 1.10 0.66 1.04 NA     NA      NA       NA    NA\n",
       "250  6405    83B28       NA   NA   NA   NA NA     NA      NA       NA    NA\n",
       "256  6296    84B27     2.02 0.78 1.14 0.72 t6296  sf8112   2     0.00  0.00\n",
       "257  8090    84B29       NA   NA   NA   NA NA     NA      NA       NA    NA\n",
       "262  6405    85B28       NA   NA   NA   NA NA     NA      NA       NA    NA\n",
       "263  8090    85B29       NA   NA   NA   NA NA     NA      NA       NA    NA\n",
       "265  7332    8653 B1     NA   NA   NA   NA NA     NA      NA       NA    NA\n",
       "266  7332    8653 B2     NA   NA   NA   NA NA     NA      NA       NA    NA\n",
       "267  5272    86B15     1.23 1.11 0.96 1.02 t5272  sf7659   2       NA    NA\n",
       "271  8090    86B29       NA   NA   NA   NA NA     NA      NA       NA    NA\n",
       "273  7015    87B15     1.19 1.14 0.76 0.85 NA     NA      NA       NA    NA\n",
       "277  7776    87B46       NA   NA   NA   NA NA     NA      NA       NA    NA\n",
       "278  7015    88B15     2.19 1.24 0.99 0.57 NA     NA      NA       NA    NA\n",
       "280  8098    88B22       NA   NA   NA   NA NA     NA      NA       NA    NA\n",
       "282  7628    88B44     1.38 1.02 0.74 0.66 t7628  sf8873   2     0.00  0.00\n",
       "283  7776    88B46       NA   NA   NA   NA NA     NA      NA       NA    NA\n",
       "285  8098    89B22       NA   NA   NA   NA NA     NA      NA       NA    NA\n",
       "290  7035    8B37        NA   NA   NA   NA NA     NA      NA       NA    NA\n",
       "298  6243    93B26     4.67 0.67 0.73 0.51 NA     NA      NA       NA    NA\n",
       "301  7282    95B39       NA   NA   NA   NA NA     NA      NA       NA    NA\n",
       "303  7282    96B39       NA   NA   NA   NA NA     NA      NA       NA    NA\n",
       "306  6865    97B34       NA   NA   NA   NA NA     NA      NA       NA    NA\n",
       "307  5739    98B19     2.08   NA 1.17   NA t5739  sf7821   2       NA    NA\n",
       "308  6495    98B29     1.31 1.10 1.02 0.81 t6495  sf8196   3     0.00  0.00\n",
       "309  6865    98B34       NA   NA   NA   NA NA     NA      NA       NA    NA\n",
       "310  5739    99B19     1.67   NA 0.94   NA t5739  sf7821   3       NA    NA\n",
       "312  6865    99B34       NA   NA   NA   NA NA     NA      NA       NA    NA\n",
       "314  7035    9B37        NA   NA   NA   NA NA     NA      NA       NA    NA\n",
       "317  8773    60B60       NA   NA   NA   NA NA     NA      NA       NA    NA\n",
       "320  8773    63B60     1.22 1.18 0.92   NA t8773  sf9727   3     2.38 30.95\n",
       "321  8775    1B61      0.00 0.00 0.00   NA NA     NA      NA       NA    NA\n",
       "322  8775    2B61      0.00 0.00 0.00   NA NA     NA      NA       NA    NA\n",
       "323  8775    3B61      0.00 0.00 0.00   NA NA     NA      NA       NA    NA\n",
       "324  8775    4B61      0.00 0.00 0.00   NA NA     NA      NA       NA    NA\n",
       "328  8869    68B60       NA   NA   NA   NA NA     NA      NA       NA    NA\n",
       "339  8956    82B63     1.38 1.11 1.46 0.76 t8956  sf9907   2     0.00  2.50\n",
       "343  8969                NA   NA   NA   NA NA     NA      NA       NA    NA\n",
       "375  9134    15B71       NA   NA   NA   NA t9134  sf10071  2     0.00  0.00\n",
       "376  9163                NA   NA   NA   NA NA     NA      NA       NA    NA\n",
       "377  9170                NA   NA   NA   NA NA     NA      NA       NA    NA\n",
       "378  9200                NA   NA   NA   NA NA     NA      NA       NA    NA\n",
       "379  9212    44B74       NA   NA   NA   NA NA     NA      NA       NA    NA\n",
       "380  9212    45B74       NA   NA   NA   NA NA     NA      NA       NA    NA\n",
       "381  9212    46B74       NA   NA   NA   NA NA     NA      NA       NA    NA\n",
       "389  9287                NA   NA   NA   NA NA     NA      NA       NA    NA\n",
       "395  9316                NA   NA   NA   NA NA     NA      NA       NA    NA\n",
       "396  9386                NA   NA   NA   NA NA     NA      NA       NA    NA\n",
       "400  9408    54B75       NA   NA   NA   NA NA     NA      NA       NA    NA\n",
       "401  9408    55B75       NA   NA   NA   NA NA     NA      NA       NA    NA\n",
       "414  9683    33B77       NA   NA   NA   NA NA     NA      NA       NA    NA\n",
       "417  9784    56B77       NA   NA   NA   NA NA     NA      NA       NA    NA\n",
       "418  9784    58B77       NA   NA   NA   NA NA     NA      NA       NA    NA\n",
       "419  9784    59B77       NA   NA   NA   NA NA     NA      NA       NA    NA\n",
       "420  9784    60B77       NA   NA   NA   NA NA     NA      NA       NA    NA\n",
       "421  9901    12B78       NA   NA   NA   NA NA     NA      NA       NA    NA\n",
       "422  9901    14B78       NA   NA   NA   NA NA     NA      NA       NA    NA\n",
       "423  9901    16B78       NA   NA   NA   NA NA     NA      NA       NA    NA\n",
       "424  9901    17B78       NA   NA   NA   NA NA     NA      NA       NA    NA\n",
       "434 10152    60B78     1.23 1.13 1.20 1.05 t10152 sf10560  3     0.00  0.00\n",
       "451 10242    4B81        NA   NA   NA   NA NA     NA      NA       NA    NA\n",
       "472 10572    46B90     1.04 0.96 0.86 0.93 t10572 sf10823  3     0.00 19.15\n",
       "477 10601    74B90       NA   NA   NA   NA NA     NA      NA       NA    NA\n",
       "478 10601    76B90       NA   NA   NA   NA NA     NA      NA       NA    NA\n",
       "479 10619    81B90       NA   NA   NA   NA NA     NA      NA       NA    NA\n",
       "480 10619    82B90       NA   NA   NA   NA NA     NA      NA       NA    NA\n",
       "481 10619    83B90       NA   NA   NA   NA NA     NA      NA       NA    NA\n",
       "482 10643                NA   NA   NA   NA NA     NA      NA       NA    NA\n",
       "483 10654                NA   NA   NA   NA NA     NA      NA       NA    NA\n",
       "499 10756    67B91     1.34 1.00 0.96 1.03 t10756 sf11017  1     0.00  6.67\n",
       "506 10766                NA   NA   NA   NA NA     NA      NA       NA    NA\n",
       "535 11192    37B97     1.59 1.03 0.94 0.91 t11192 sf11150  4     0.00 24.44\n",
       "572 11420                NA   NA   NA   NA NA     NA      NA       NA    NA\n",
       "573 11424                NA   NA   NA   NA NA     NA      NA       NA    NA\n",
       "578 11482    15D1      0.97 1.11 1.08 1.20 t11482 sf11334  2       NA  0.00\n",
       "579 11484    13D1      2.89 1.18 1.24 0.52 t11484 sf11338  1    22.22  0.00\n",
       "590 11596                NA   NA   NA   NA NA     NA      NA       NA    NA\n",
       "599 11747    11485-4     NA   NA   NA   NA NA     NA      NA       NA    NA\n",
       "612 11876    11560A0   1.03 0.92 1.16 1.28 t11876 sf11560  3     0.00  0.00\n",
       "615 11898    62D3      1.96 1.08 1.06 0.41 t11898 sf11574  2    13.64  2.27\n",
       "619 12000                NA   NA   NA   NA NA     NA      NA       NA    NA\n",
       "630 12097                NA   NA   NA   NA NA     NA      NA       NA    NA\n",
       "635 12181                NA   NA   NA   NA NA     NA      NA       NA    NA\n",
       "636 12259                NA   NA   NA   NA NA     NA      NA       NA    NA\n",
       "637 12320                NA   NA   NA   NA NA     NA      NA       NA    NA\n",
       "638 12345                NA   NA   NA   NA NA     NA      NA       NA    NA\n",
       "639 12357                NA   NA   NA   NA NA     NA      NA       NA    NA\n",
       "640    NA    8352T1      NA   NA   NA   NA t8068  sf8352   1       NA    NA\n",
       "641    NA    8352T2      NA   NA   NA   NA t8068  sf8352   2       NA    NA\n",
       "642    NA    8352T3      NA   NA   NA   NA t8068  sf8352   3       NA    NA\n",
       "643    NA    8352T4      NA   NA   NA   NA t8068  sf8352   4       NA    NA\n",
       "647    NA    8491B3      NA   NA   NA   NA t7055  sf8491   1     0.00  0.00\n",
       "648    NA    8491V1      NA   NA   NA   NA t7055  sf8491   2     0.00  0.00\n",
       "649    NA    8491Y2      NA   NA   NA   NA t7055  sf8491   3     0.00  0.00\n",
       "    X.NEC sum   in_CEL in_T2all in_NEL in_NEC in_ROI\n",
       "3   NA       NA 0      0        0      0      0     \n",
       "4   NA    21.74 0      0        0      0      0     \n",
       "9   NA       NA 0      0        0      0      0     \n",
       "10  NA    21.43 0      0        0      0      0     \n",
       "12  NA       NA 0      0        0      0      0     \n",
       "13  NA     8.70 0      0        0      0      0     \n",
       "14  NA     9.09 0      0        0      0      0     \n",
       "15  NA    42.86 0      0        0      0      0     \n",
       "16  NA     0.00 0      0        0      0      0     \n",
       "18  NA    31.82 0      0        0      0      0     \n",
       "29  NA       NA 0      0        0      0      0     \n",
       "34  NA       NA 0      0        0      0      0     \n",
       "36  NA       NA 0      0        0      0      0     \n",
       "39  NA       NA 0      0        0      0      0     \n",
       "40  NA       NA 0      0        0      0      0     \n",
       "41  NA       NA 0      0        0      0      0     \n",
       "42  NA       NA 0      0        0      0      0     \n",
       "43  NA       NA 0      0        0      0      0     \n",
       "44  NA       NA 0      0        0      0      0     \n",
       "45  NA     0.00 0      0        0      0      0     \n",
       "52  NA     0.00 0      0        0      0      0     \n",
       "54  NA       NA 0      0        0      0      0     \n",
       "60  NA       NA 0      0        0      0      0     \n",
       "67  NA     0.00 0      0        0      0      0     \n",
       "78  NA       NA 0      0        0      0      0     \n",
       "80   0     3.70 0      0        0      0      0     \n",
       "81  NA       NA 0      0        0      0      0     \n",
       "82  NA     0.00 0      0        0      0      0     \n",
       "86  NA       NA 0      0        0      0      0     \n",
       "88  NA       NA 0      0        0      0      0     \n",
       "89  NA       NA 0      0        0      0      0     \n",
       "99   0    19.05 0      0        0      0      0     \n",
       "102 NA       NA 0      0        0      0      0     \n",
       "105 NA       NA 0      0        0      0      0     \n",
       "106 NA    24.14 0      0        0      0      0     \n",
       "107 NA    39.13 0      0        0      0      0     \n",
       "108 NA       NA 0      0        0      0      0     \n",
       "115 NA       NA 0      0        0      0      0     \n",
       "118 NA       NA 0      0        0      0      0     \n",
       "119 NA       NA 0      0        0      0      0     \n",
       "121 NA       NA 0      0        0      0      0     \n",
       "123 NA       NA 0      0        0      0      0     \n",
       "124 NA       NA 0      0        0      0      0     \n",
       "127 NA       NA 0      0        0      0      0     \n",
       "147 NA       NA 0      0        0      0      0     \n",
       "150 NA       NA 0      0        0      0      0     \n",
       "155 NA     0.00 0      0        0      0      0     \n",
       "157  0    18.52 0      0        0      0      0     \n",
       "158 NA     0.00 0      0        0      0      0     \n",
       "159 NA    33.33 0      0        0      0      0     \n",
       "166 NA       NA 0      0        0      0      0     \n",
       "168 NA       NA 0      0        0      0      0     \n",
       "176 NA    22.92 0      0        0      0      0     \n",
       "181  0    36.00 0      0        0      0      0     \n",
       "184  0    17.24 0      0        0      0      0     \n",
       "202  0     0.00 0      0        0      0      0     \n",
       "203 NA       NA 0      0        0      0      0     \n",
       "209 NA       NA 0      0        0      0      0     \n",
       "210 NA       NA 0      0        0      0      0     \n",
       "211 NA       NA 0      0        0      0      0     \n",
       "212 NA       NA 0      0        0      0      0     \n",
       "213 NA       NA 0      0        0      0      0     \n",
       "220 NA       NA 0      0        0      0      0     \n",
       "224 NA       NA 0      0        0      0      0     \n",
       "226 NA       NA 0      0        0      0      0     \n",
       "227 NA       NA 0      0        0      0      0     \n",
       "229 NA       NA 0      0        0      0      0     \n",
       "231 NA       NA 0      0        0      0      0     \n",
       "233 NA       NA 0      0        0      0      0     \n",
       "236 NA       NA 0      0        0      0      0     \n",
       "237 NA       NA 0      0        0      0      0     \n",
       "238 NA       NA 0      0        0      0      0     \n",
       "240 NA       NA 0      0        0      0      0     \n",
       "242 NA       NA 0      0        0      0      0     \n",
       "250 NA       NA 0      0        0      0      0     \n",
       "256  0     0.00 0      0        0      0      0     \n",
       "257 NA       NA 0      0        0      0      0     \n",
       "262 NA       NA 0      0        0      0      0     \n",
       "263 NA       NA 0      0        0      0      0     \n",
       "265 NA       NA 0      0        0      0      0     \n",
       "266 NA       NA 0      0        0      0      0     \n",
       "267 NA       NA 0      0        0      0      0     \n",
       "271 NA       NA 0      0        0      0      0     \n",
       "273 NA       NA 0      0        0      0      0     \n",
       "277 NA       NA 0      0        0      0      0     \n",
       "278 NA       NA 0      0        0      0      0     \n",
       "280 NA       NA 0      0        0      0      0     \n",
       "282 NA     0.00 0      0        0      0      0     \n",
       "283 NA       NA 0      0        0      0      0     \n",
       "285 NA       NA 0      0        0      0      0     \n",
       "290 NA       NA 0      0        0      0      0     \n",
       "298 NA       NA 0      0        0      0      0     \n",
       "301 NA       NA 0      0        0      0      0     \n",
       "303 NA       NA 0      0        0      0      0     \n",
       "306 NA       NA 0      0        0      0      0     \n",
       "307 NA       NA 0      0        0      0      0     \n",
       "308 NA     0.00 0      0        0      0      0     \n",
       "309 NA       NA 0      0        0      0      0     \n",
       "310 NA       NA 0      0        0      0      0     \n",
       "312 NA       NA 0      0        0      0      0     \n",
       "314 NA       NA 0      0        0      0      0     \n",
       "317 NA       NA 0      0        0      0      0     \n",
       "320 NA    33.33 0      0        0      0      0     \n",
       "321 NA       NA 0      0        0      0      0     \n",
       "322 NA       NA 0      0        0      0      0     \n",
       "323 NA       NA 0      0        0      0      0     \n",
       "324 NA       NA 0      0        0      0      0     \n",
       "328 NA       NA 0      0        0      0      0     \n",
       "339 NA     2.50 0      0        0      0      0     \n",
       "343 NA       NA 0      0        0      0      0     \n",
       "375 NA     0.00 0      0        0      0      0     \n",
       "376 NA       NA 0      0        0      0      0     \n",
       "377 NA       NA 0      0        0      0      0     \n",
       "378 NA       NA 0      0        0      0      0     \n",
       "379 NA       NA 0      0        0      0      0     \n",
       "380 NA       NA 0      0        0      0      0     \n",
       "381 NA       NA 0      0        0      0      0     \n",
       "389 NA       NA 0      0        0      0      0     \n",
       "395 NA       NA 0      0        0      0      0     \n",
       "396 NA       NA 0      0        0      0      0     \n",
       "400 NA       NA 0      0        0      0      0     \n",
       "401 NA       NA 0      0        0      0      0     \n",
       "414 NA       NA 0      0        0      0      0     \n",
       "417 NA       NA 0      0        0      0      0     \n",
       "418 NA       NA 0      0        0      0      0     \n",
       "419 NA       NA 0      0        0      0      0     \n",
       "420 NA       NA 0      0        0      0      0     \n",
       "421 NA       NA 0      0        0      0      0     \n",
       "422 NA       NA 0      0        0      0      0     \n",
       "423 NA       NA 0      0        0      0      0     \n",
       "424 NA       NA 0      0        0      0      0     \n",
       "434 NA     0.00 0      0        0      0      0     \n",
       "451 NA       NA 0      0        0      0      0     \n",
       "472 NA    19.15 0      0        0      0      0     \n",
       "477 NA       NA 0      0        0      0      0     \n",
       "478 NA       NA 0      0        0      0      0     \n",
       "479 NA       NA 0      0        0      0      0     \n",
       "480 NA       NA 0      0        0      0      0     \n",
       "481 NA       NA 0      0        0      0      0     \n",
       "482 NA       NA 0      0        0      0      0     \n",
       "483 NA       NA 0      0        0      0      0     \n",
       "499 NA     6.67 0      0        0      0      0     \n",
       "506 NA       NA 0      0        0      0      0     \n",
       "535 NA    24.44 0      0        0      0      0     \n",
       "572 NA       NA 0      0        0      0      0     \n",
       "573 NA       NA 0      0        0      0      0     \n",
       "578 NA     0.00 0      0        0      0      0     \n",
       "579 NA    22.22 0      0        0      0      0     \n",
       "590 NA       NA 0      0        0      0      0     \n",
       "599 NA       NA 0      0        0      0      0     \n",
       "612  0     0.00 0      0        0      0      0     \n",
       "615 NA    15.91 0      0        0      0      0     \n",
       "619 NA       NA 0      0        0      0      0     \n",
       "630 NA       NA 0      0        0      0      0     \n",
       "635 NA       NA 0      0        0      0      0     \n",
       "636 NA       NA 0      0        0      0      0     \n",
       "637 NA       NA 0      0        0      0      0     \n",
       "638 NA       NA 0      0        0      0      0     \n",
       "639 NA       NA 0      0        0      0      0     \n",
       "640 NA       NA 0      0        0      0      0     \n",
       "641 NA       NA 0      0        0      0      0     \n",
       "642 NA       NA 0      0        0      0      0     \n",
       "643 NA       NA 0      0        0      0      0     \n",
       "647 NA     0.00 0      0        0      0      0     \n",
       "648 NA     0.00 0      0        0      0      0     \n",
       "649 NA     0.00 0      0        0      0      0     "
      ]
     },
     "metadata": {},
     "output_type": "display_data"
    }
   ],
   "source": [
    "## inspecting those that aren't in ROI:\n",
    "data[which(data$in_ROI==0),]"
   ]
  },
  {
   "cell_type": "code",
   "execution_count": 96,
   "metadata": {
    "collapsed": false
   },
   "outputs": [
    {
     "data": {
      "text/html": [
       "<ol class=list-inline>\n",
       "\t<li>527</li>\n",
       "\t<li>18</li>\n",
       "</ol>\n"
      ],
      "text/latex": [
       "\\begin{enumerate*}\n",
       "\\item 527\n",
       "\\item 18\n",
       "\\end{enumerate*}\n"
      ],
      "text/markdown": [
       "1. 527\n",
       "2. 18\n",
       "\n",
       "\n"
      ],
      "text/plain": [
       "[1] 527  18"
      ]
     },
     "metadata": {},
     "output_type": "display_data"
    }
   ],
   "source": [
    "## Many of these biopsies have zero value for nfse, meaning that biopsy_quant failed. Let's get rid of those & take another look: \n",
    "biopsyquant = data[!is.na(data$nfse),]\n",
    "dim(biopsyquant)"
   ]
  },
  {
   "cell_type": "code",
   "execution_count": 97,
   "metadata": {
    "collapsed": false
   },
   "outputs": [
    {
     "data": {
      "text/html": [
       "<ol class=list-inline>\n",
       "\t<li>54</li>\n",
       "\t<li>18</li>\n",
       "</ol>\n"
      ],
      "text/latex": [
       "\\begin{enumerate*}\n",
       "\\item 54\n",
       "\\item 18\n",
       "\\end{enumerate*}\n"
      ],
      "text/markdown": [
       "1. 54\n",
       "2. 18\n",
       "\n",
       "\n"
      ],
      "text/plain": [
       "[1] 54 18"
      ]
     },
     "metadata": {},
     "output_type": "display_data"
    }
   ],
   "source": [
    "dim(biopsyquant[which(biopsyquant$in_ROI==0),])"
   ]
  },
  {
   "cell_type": "code",
   "execution_count": 98,
   "metadata": {
    "collapsed": false
   },
   "outputs": [
    {
     "data": {
      "text/html": [
       "<table>\n",
       "<thead><tr><th></th><th scope=col>t_number</th><th scope=col>roi.label</th><th scope=col>nfse</th><th scope=col>nfl</th><th scope=col>nt1c</th><th scope=col>nt1v</th><th scope=col>tnum</th><th scope=col>sfnum</th><th scope=col>index</th><th scope=col>X.CEL</th><th scope=col>X.NEL</th><th scope=col>X.NEC</th><th scope=col>sum</th><th scope=col>in_CEL</th><th scope=col>in_T2all</th><th scope=col>in_NEL</th><th scope=col>in_NEC</th><th scope=col>in_ROI</th></tr></thead>\n",
       "<tbody>\n",
       "\t<tr><th scope=row>4</th><td> 7408  </td><td>11B40  </td><td>1.84   </td><td>1.13   </td><td>0.82   </td><td>0.79   </td><td>t7408  </td><td>sf8701 </td><td> 1     </td><td> 8.70  </td><td>13.04  </td><td>NA     </td><td>21.74  </td><td>0      </td><td>0      </td><td>0      </td><td>0      </td><td>0      </td></tr>\n",
       "\t<tr><th scope=row>10</th><td> 7408  </td><td>12B40  </td><td>1.87   </td><td>0.96   </td><td>0.91   </td><td>0.87   </td><td>t7408  </td><td>sf8701 </td><td> 2     </td><td> 0.00  </td><td>21.43  </td><td>NA     </td><td>21.43  </td><td>0      </td><td>0      </td><td>0      </td><td>0      </td><td>0      </td></tr>\n",
       "\t<tr><th scope=row>13</th><td> 7394  </td><td>13B41  </td><td>2.42   </td><td>1.07   </td><td>1.11   </td><td>0.90   </td><td>t7394  </td><td>sf8688 </td><td> 1     </td><td> 8.70  </td><td> 0.00  </td><td>NA     </td><td> 8.70  </td><td>0      </td><td>0      </td><td>0      </td><td>0      </td><td>0      </td></tr>\n",
       "\t<tr><th scope=row>14</th><td> 6709  </td><td>14B32  </td><td>1.08   </td><td>1.23   </td><td>0.95   </td><td>  NA   </td><td>t6709  </td><td>sf8269 </td><td> 2     </td><td> 9.09  </td><td> 0.00  </td><td>NA     </td><td> 9.09  </td><td>0      </td><td>0      </td><td>0      </td><td>0      </td><td>0      </td></tr>\n",
       "\t<tr><th scope=row>15</th><td> 7394  </td><td>14B41  </td><td>4.23   </td><td>1.03   </td><td>0.51   </td><td>0.52   </td><td>t7394  </td><td>sf8688 </td><td> 2     </td><td>42.86  </td><td> 0.00  </td><td>NA     </td><td>42.86  </td><td>0      </td><td>0      </td><td>0      </td><td>0      </td><td>0      </td></tr>\n",
       "\t<tr><th scope=row>16</th><td> 7584  </td><td>14B44  </td><td>3.34   </td><td>0.85   </td><td>1.08   </td><td>0.72   </td><td>t7584  </td><td>sf8842 </td><td> 1     </td><td> 0.00  </td><td> 0.00  </td><td>NA     </td><td> 0.00  </td><td>0      </td><td>0      </td><td>0      </td><td>0      </td><td>0      </td></tr>\n",
       "\t<tr><th scope=row>18</th><td> 6709  </td><td>15B32  </td><td>1.85   </td><td>1.12   </td><td>0.92   </td><td>  NA   </td><td>t6709  </td><td>sf8269 </td><td> 3     </td><td> 9.09  </td><td>22.73  </td><td>NA     </td><td>31.82  </td><td>0      </td><td>0      </td><td>0      </td><td>0      </td><td>0      </td></tr>\n",
       "\t<tr><th scope=row>44</th><td> 7553  </td><td>25B43  </td><td>0.66   </td><td>0.54   </td><td>1.11   </td><td>0.87   </td><td>t7553  </td><td>sf8804 </td><td> 1     </td><td>   NA  </td><td>   NA  </td><td>NA     </td><td>   NA  </td><td>0      </td><td>0      </td><td>0      </td><td>0      </td><td>0      </td></tr>\n",
       "\t<tr><th scope=row>45</th><td> 8070  </td><td>26B13  </td><td>1.44   </td><td>0.99   </td><td>0.86   </td><td>0.84   </td><td>t8070  </td><td>sf7540 </td><td> 2     </td><td> 0.00  </td><td>   NA  </td><td>NA     </td><td> 0.00  </td><td>0      </td><td>0      </td><td>0      </td><td>0      </td><td>0      </td></tr>\n",
       "\t<tr><th scope=row>52</th><td> 7555  </td><td>29B43  </td><td>1.49   </td><td>1.25   </td><td>0.81   </td><td>0.81   </td><td>t7555  </td><td>sf8808 </td><td> 1     </td><td> 0.00  </td><td> 0.00  </td><td>NA     </td><td> 0.00  </td><td>0      </td><td>0      </td><td>0      </td><td>0      </td><td>0      </td></tr>\n",
       "\t<tr><th scope=row>67</th><td> 7555  </td><td>32B43  </td><td>1.36   </td><td>0.53   </td><td>0.76   </td><td>0.72   </td><td>t7555  </td><td>sf8808 </td><td> 4     </td><td> 0.00  </td><td> 0.00  </td><td>NA     </td><td> 0.00  </td><td>0      </td><td>0      </td><td>0      </td><td>0      </td><td>0      </td></tr>\n",
       "\t<tr><th scope=row>80</th><td> 5538  </td><td>37B17  </td><td>2.62   </td><td>0.82   </td><td>0.90   </td><td>  NA   </td><td>t5538  </td><td>sf7728 </td><td> 1     </td><td> 0.00  </td><td> 3.70  </td><td> 0     </td><td> 3.70  </td><td>0      </td><td>0      </td><td>0      </td><td>0      </td><td>0      </td></tr>\n",
       "\t<tr><th scope=row>82</th><td> 7227  </td><td>37B39  </td><td>0.97   </td><td>0.57   </td><td>1.17   </td><td>0.98   </td><td>t7227  </td><td>sf8580 </td><td> 3     </td><td> 0.00  </td><td> 0.00  </td><td>NA     </td><td> 0.00  </td><td>0      </td><td>0      </td><td>0      </td><td>0      </td><td>0      </td></tr>\n",
       "\t<tr><th scope=row>99</th><td> 6274  </td><td>43B27  </td><td>1.50   </td><td>1.15   </td><td>0.96   </td><td>0.98   </td><td>t6274  </td><td>sf8093 </td><td> 3     </td><td>19.05  </td><td> 0.00  </td><td> 0     </td><td>19.05  </td><td>0      </td><td>0      </td><td>0      </td><td>0      </td><td>0      </td></tr>\n",
       "\t<tr><th scope=row>102</th><td> 6556  </td><td>46B30  </td><td>9.46   </td><td>0.37   </td><td>0.29   </td><td>0.36   </td><td>t6556  </td><td>sf8218 </td><td> 2     </td><td>   NA  </td><td>   NA  </td><td>NA     </td><td>   NA  </td><td>0      </td><td>0      </td><td>0      </td><td>0      </td><td>0      </td></tr>\n",
       "\t<tr><th scope=row>106</th><td> 7329  </td><td>48B40  </td><td>3.77   </td><td>1.17   </td><td>0.78   </td><td>0.57   </td><td>t7329  </td><td>sf8649 </td><td> 2     </td><td>24.14  </td><td> 0.00  </td><td>NA     </td><td>24.14  </td><td>0      </td><td>0      </td><td>0      </td><td>0      </td><td>0      </td></tr>\n",
       "\t<tr><th scope=row>107</th><td> 7039  </td><td>49B15  </td><td>1.88   </td><td>1.13   </td><td>1.18   </td><td>0.83   </td><td>t7039  </td><td>sf7640 </td><td> 1     </td><td> 4.35  </td><td>34.78  </td><td>NA     </td><td>39.13  </td><td>0      </td><td>0      </td><td>0      </td><td>0      </td><td>0      </td></tr>\n",
       "\t<tr><th scope=row>118</th><td> 6925  </td><td>52B35  </td><td>1.26   </td><td>0.87   </td><td>1.03   </td><td>  NA   </td><td>t6925  </td><td>sf8422 </td><td> 1     </td><td>   NA  </td><td>   NA  </td><td>NA     </td><td>   NA  </td><td>0      </td><td>0      </td><td>0      </td><td>0      </td><td>0      </td></tr>\n",
       "\t<tr><th scope=row>121</th><td> 5333  </td><td>53B16  </td><td>1.11   </td><td>1.25   </td><td>0.85   </td><td>  NA   </td><td>NA     </td><td>NA     </td><td>NA     </td><td>   NA  </td><td>   NA  </td><td>NA     </td><td>   NA  </td><td>0      </td><td>0      </td><td>0      </td><td>0      </td><td>0      </td></tr>\n",
       "\t<tr><th scope=row>123</th><td> 6925  </td><td>53B35  </td><td>1.19   </td><td>0.83   </td><td>0.96   </td><td>  NA   </td><td>t6925  </td><td>sf8422 </td><td> 2     </td><td>   NA  </td><td>   NA  </td><td>NA     </td><td>   NA  </td><td>0      </td><td>0      </td><td>0      </td><td>0      </td><td>0      </td></tr>\n",
       "\t<tr><th scope=row>150</th><td> 6152  </td><td>61B24  </td><td>2.74   </td><td>1.21   </td><td>0.92   </td><td>0.91   </td><td>t6152  </td><td>sf7997 </td><td> 2     </td><td>   NA  </td><td>   NA  </td><td>NA     </td><td>   NA  </td><td>0      </td><td>0      </td><td>0      </td><td>0      </td><td>0      </td></tr>\n",
       "\t<tr><th scope=row>155</th><td> 6929  </td><td>62B35  </td><td>1.06   </td><td>1.08   </td><td>1.01   </td><td>0.93   </td><td>t6929  </td><td>sf8425 </td><td> 3     </td><td> 0.00  </td><td> 0.00  </td><td>NA     </td><td> 0.00  </td><td>0      </td><td>0      </td><td>0      </td><td>0      </td><td>0      </td></tr>\n",
       "\t<tr><th scope=row>157</th><td> 6472  </td><td>63B29  </td><td>2.39   </td><td>0.61   </td><td>1.16   </td><td>0.58   </td><td>t6472  </td><td>sf8186 </td><td> 1     </td><td>18.52  </td><td> 0.00  </td><td> 0     </td><td>18.52  </td><td>0      </td><td>0      </td><td>0      </td><td>0      </td><td>0      </td></tr>\n",
       "\t<tr><th scope=row>158</th><td> 7225  </td><td>63B39  </td><td>1.54   </td><td>1.16   </td><td>0.91   </td><td>1.00   </td><td>t7225  </td><td>sf8582 </td><td> 2     </td><td> 0.00  </td><td> 0.00  </td><td>NA     </td><td> 0.00  </td><td>0      </td><td>0      </td><td>0      </td><td>0      </td><td>0      </td></tr>\n",
       "\t<tr><th scope=row>159</th><td> 6285  </td><td>64B27  </td><td>1.83   </td><td>1.16   </td><td>1.04   </td><td>0.58   </td><td>t6285  </td><td>sf8104 </td><td> 3     </td><td>33.33  </td><td> 0.00  </td><td>NA     </td><td>33.33  </td><td>0      </td><td>0      </td><td>0      </td><td>0      </td><td>0      </td></tr>\n",
       "\t<tr><th scope=row>181</th><td> 5577  </td><td>71B17  </td><td>1.60   </td><td>1.24   </td><td>1.46   </td><td>0.82   </td><td>t5577  </td><td>sf7750 </td><td> 1     </td><td>36.00  </td><td> 0.00  </td><td> 0     </td><td>36.00  </td><td>0      </td><td>0      </td><td>0      </td><td>0      </td><td>0      </td></tr>\n",
       "\t<tr><th scope=row>184</th><td> 6630  </td><td>71B31  </td><td>1.80   </td><td>1.12   </td><td>1.06   </td><td>  NA   </td><td>t6630  </td><td>sf8250 </td><td> 2     </td><td> 0.00  </td><td>17.24  </td><td> 0     </td><td>17.24  </td><td>0      </td><td>0      </td><td>0      </td><td>0      </td><td>0      </td></tr>\n",
       "\t<tr><th scope=row>202</th><td> 5728  </td><td>76B19  </td><td>3.33   </td><td>0.83   </td><td>0.70   </td><td>  NA   </td><td>t5728  </td><td>sf7818 </td><td> 2     </td><td> 0.00  </td><td> 0.00  </td><td> 0     </td><td> 0.00  </td><td>0      </td><td>0      </td><td>0      </td><td>0      </td><td>0      </td></tr>\n",
       "\t<tr><th scope=row>224</th><td> 5739  </td><td>81B19  </td><td>1.38   </td><td>  NA   </td><td>0.83   </td><td>  NA   </td><td>t5739  </td><td>sf7821 </td><td> 1     </td><td>   NA  </td><td>   NA  </td><td>NA     </td><td>   NA  </td><td>0      </td><td>0      </td><td>0      </td><td>0      </td><td>0      </td></tr>\n",
       "\t<tr><th scope=row>240</th><td> 8068  </td><td>8352 T2</td><td>1.01   </td><td>1.12   </td><td>1.00   </td><td>1.19   </td><td>NA     </td><td>NA     </td><td>NA     </td><td>   NA  </td><td>   NA  </td><td>NA     </td><td>   NA  </td><td>0      </td><td>0      </td><td>0      </td><td>0      </td><td>0      </td></tr>\n",
       "\t<tr><th scope=row>242</th><td> 8068  </td><td>8352 T4</td><td>4.10   </td><td>1.10   </td><td>0.66   </td><td>1.04   </td><td>NA     </td><td>NA     </td><td>NA     </td><td>   NA  </td><td>   NA  </td><td>NA     </td><td>   NA  </td><td>0      </td><td>0      </td><td>0      </td><td>0      </td><td>0      </td></tr>\n",
       "\t<tr><th scope=row>256</th><td> 6296  </td><td>84B27  </td><td>2.02   </td><td>0.78   </td><td>1.14   </td><td>0.72   </td><td>t6296  </td><td>sf8112 </td><td> 2     </td><td> 0.00  </td><td> 0.00  </td><td> 0     </td><td> 0.00  </td><td>0      </td><td>0      </td><td>0      </td><td>0      </td><td>0      </td></tr>\n",
       "\t<tr><th scope=row>267</th><td> 5272  </td><td>86B15  </td><td>1.23   </td><td>1.11   </td><td>0.96   </td><td>1.02   </td><td>t5272  </td><td>sf7659 </td><td> 2     </td><td>   NA  </td><td>   NA  </td><td>NA     </td><td>   NA  </td><td>0      </td><td>0      </td><td>0      </td><td>0      </td><td>0      </td></tr>\n",
       "\t<tr><th scope=row>273</th><td> 7015  </td><td>87B15  </td><td>1.19   </td><td>1.14   </td><td>0.76   </td><td>0.85   </td><td>NA     </td><td>NA     </td><td>NA     </td><td>   NA  </td><td>   NA  </td><td>NA     </td><td>   NA  </td><td>0      </td><td>0      </td><td>0      </td><td>0      </td><td>0      </td></tr>\n",
       "\t<tr><th scope=row>278</th><td> 7015  </td><td>88B15  </td><td>2.19   </td><td>1.24   </td><td>0.99   </td><td>0.57   </td><td>NA     </td><td>NA     </td><td>NA     </td><td>   NA  </td><td>   NA  </td><td>NA     </td><td>   NA  </td><td>0      </td><td>0      </td><td>0      </td><td>0      </td><td>0      </td></tr>\n",
       "\t<tr><th scope=row>282</th><td> 7628  </td><td>88B44  </td><td>1.38   </td><td>1.02   </td><td>0.74   </td><td>0.66   </td><td>t7628  </td><td>sf8873 </td><td> 2     </td><td> 0.00  </td><td> 0.00  </td><td>NA     </td><td> 0.00  </td><td>0      </td><td>0      </td><td>0      </td><td>0      </td><td>0      </td></tr>\n",
       "\t<tr><th scope=row>298</th><td> 6243  </td><td>93B26  </td><td>4.67   </td><td>0.67   </td><td>0.73   </td><td>0.51   </td><td>NA     </td><td>NA     </td><td>NA     </td><td>   NA  </td><td>   NA  </td><td>NA     </td><td>   NA  </td><td>0      </td><td>0      </td><td>0      </td><td>0      </td><td>0      </td></tr>\n",
       "\t<tr><th scope=row>307</th><td> 5739  </td><td>98B19  </td><td>2.08   </td><td>  NA   </td><td>1.17   </td><td>  NA   </td><td>t5739  </td><td>sf7821 </td><td> 2     </td><td>   NA  </td><td>   NA  </td><td>NA     </td><td>   NA  </td><td>0      </td><td>0      </td><td>0      </td><td>0      </td><td>0      </td></tr>\n",
       "\t<tr><th scope=row>308</th><td> 6495  </td><td>98B29  </td><td>1.31   </td><td>1.10   </td><td>1.02   </td><td>0.81   </td><td>t6495  </td><td>sf8196 </td><td> 3     </td><td> 0.00  </td><td> 0.00  </td><td>NA     </td><td> 0.00  </td><td>0      </td><td>0      </td><td>0      </td><td>0      </td><td>0      </td></tr>\n",
       "\t<tr><th scope=row>310</th><td> 5739  </td><td>99B19  </td><td>1.67   </td><td>  NA   </td><td>0.94   </td><td>  NA   </td><td>t5739  </td><td>sf7821 </td><td> 3     </td><td>   NA  </td><td>   NA  </td><td>NA     </td><td>   NA  </td><td>0      </td><td>0      </td><td>0      </td><td>0      </td><td>0      </td></tr>\n",
       "\t<tr><th scope=row>320</th><td> 8773  </td><td>63B60  </td><td>1.22   </td><td>1.18   </td><td>0.92   </td><td>  NA   </td><td>t8773  </td><td>sf9727 </td><td> 3     </td><td> 2.38  </td><td>30.95  </td><td>NA     </td><td>33.33  </td><td>0      </td><td>0      </td><td>0      </td><td>0      </td><td>0      </td></tr>\n",
       "\t<tr><th scope=row>321</th><td> 8775  </td><td>1B61   </td><td>0.00   </td><td>0.00   </td><td>0.00   </td><td>  NA   </td><td>NA     </td><td>NA     </td><td>NA     </td><td>   NA  </td><td>   NA  </td><td>NA     </td><td>   NA  </td><td>0      </td><td>0      </td><td>0      </td><td>0      </td><td>0      </td></tr>\n",
       "\t<tr><th scope=row>322</th><td> 8775  </td><td>2B61   </td><td>0.00   </td><td>0.00   </td><td>0.00   </td><td>  NA   </td><td>NA     </td><td>NA     </td><td>NA     </td><td>   NA  </td><td>   NA  </td><td>NA     </td><td>   NA  </td><td>0      </td><td>0      </td><td>0      </td><td>0      </td><td>0      </td></tr>\n",
       "\t<tr><th scope=row>323</th><td> 8775  </td><td>3B61   </td><td>0.00   </td><td>0.00   </td><td>0.00   </td><td>  NA   </td><td>NA     </td><td>NA     </td><td>NA     </td><td>   NA  </td><td>   NA  </td><td>NA     </td><td>   NA  </td><td>0      </td><td>0      </td><td>0      </td><td>0      </td><td>0      </td></tr>\n",
       "\t<tr><th scope=row>324</th><td> 8775  </td><td>4B61   </td><td>0.00   </td><td>0.00   </td><td>0.00   </td><td>  NA   </td><td>NA     </td><td>NA     </td><td>NA     </td><td>   NA  </td><td>   NA  </td><td>NA     </td><td>   NA  </td><td>0      </td><td>0      </td><td>0      </td><td>0      </td><td>0      </td></tr>\n",
       "\t<tr><th scope=row>339</th><td> 8956  </td><td>82B63  </td><td>1.38   </td><td>1.11   </td><td>1.46   </td><td>0.76   </td><td>t8956  </td><td>sf9907 </td><td> 2     </td><td> 0.00  </td><td> 2.50  </td><td>NA     </td><td> 2.50  </td><td>0      </td><td>0      </td><td>0      </td><td>0      </td><td>0      </td></tr>\n",
       "\t<tr><th scope=row>434</th><td>10152  </td><td>60B78  </td><td>1.23   </td><td>1.13   </td><td>1.20   </td><td>1.05   </td><td>t10152 </td><td>sf10560</td><td> 3     </td><td> 0.00  </td><td> 0.00  </td><td>NA     </td><td> 0.00  </td><td>0      </td><td>0      </td><td>0      </td><td>0      </td><td>0      </td></tr>\n",
       "\t<tr><th scope=row>472</th><td>10572  </td><td>46B90  </td><td>1.04   </td><td>0.96   </td><td>0.86   </td><td>0.93   </td><td>t10572 </td><td>sf10823</td><td> 3     </td><td> 0.00  </td><td>19.15  </td><td>NA     </td><td>19.15  </td><td>0      </td><td>0      </td><td>0      </td><td>0      </td><td>0      </td></tr>\n",
       "\t<tr><th scope=row>499</th><td>10756  </td><td>67B91  </td><td>1.34   </td><td>1.00   </td><td>0.96   </td><td>1.03   </td><td>t10756 </td><td>sf11017</td><td> 1     </td><td> 0.00  </td><td> 6.67  </td><td>NA     </td><td> 6.67  </td><td>0      </td><td>0      </td><td>0      </td><td>0      </td><td>0      </td></tr>\n",
       "\t<tr><th scope=row>535</th><td>11192  </td><td>37B97  </td><td>1.59   </td><td>1.03   </td><td>0.94   </td><td>0.91   </td><td>t11192 </td><td>sf11150</td><td> 4     </td><td> 0.00  </td><td>24.44  </td><td>NA     </td><td>24.44  </td><td>0      </td><td>0      </td><td>0      </td><td>0      </td><td>0      </td></tr>\n",
       "\t<tr><th scope=row>578</th><td>11482  </td><td>15D1   </td><td>0.97   </td><td>1.11   </td><td>1.08   </td><td>1.20   </td><td>t11482 </td><td>sf11334</td><td> 2     </td><td>   NA  </td><td> 0.00  </td><td>NA     </td><td> 0.00  </td><td>0      </td><td>0      </td><td>0      </td><td>0      </td><td>0      </td></tr>\n",
       "\t<tr><th scope=row>579</th><td>11484  </td><td>13D1   </td><td>2.89   </td><td>1.18   </td><td>1.24   </td><td>0.52   </td><td>t11484 </td><td>sf11338</td><td> 1     </td><td>22.22  </td><td> 0.00  </td><td>NA     </td><td>22.22  </td><td>0      </td><td>0      </td><td>0      </td><td>0      </td><td>0      </td></tr>\n",
       "\t<tr><th scope=row>612</th><td>11876  </td><td>11560A0</td><td>1.03   </td><td>0.92   </td><td>1.16   </td><td>1.28   </td><td>t11876 </td><td>sf11560</td><td> 3     </td><td> 0.00  </td><td> 0.00  </td><td> 0     </td><td> 0.00  </td><td>0      </td><td>0      </td><td>0      </td><td>0      </td><td>0      </td></tr>\n",
       "\t<tr><th scope=row>615</th><td>11898  </td><td>62D3   </td><td>1.96   </td><td>1.08   </td><td>1.06   </td><td>0.41   </td><td>t11898 </td><td>sf11574</td><td> 2     </td><td>13.64  </td><td> 2.27  </td><td>NA     </td><td>15.91  </td><td>0      </td><td>0      </td><td>0      </td><td>0      </td><td>0      </td></tr>\n",
       "</tbody>\n",
       "</table>\n"
      ],
      "text/latex": [
       "\\begin{tabular}{r|llllllllllllllllll}\n",
       "  & t\\_number & roi.label & nfse & nfl & nt1c & nt1v & tnum & sfnum & index & X.CEL & X.NEL & X.NEC & sum & in\\_CEL & in\\_T2all & in\\_NEL & in\\_NEC & in\\_ROI\\\\\n",
       "\\hline\n",
       "\t4 &  7408   & 11B40   & 1.84    & 1.13    & 0.82    & 0.79    & t7408   & sf8701  &  1      &  8.70   & 13.04   & NA      & 21.74   & 0       & 0       & 0       & 0       & 0      \\\\\n",
       "\t10 &  7408   & 12B40   & 1.87    & 0.96    & 0.91    & 0.87    & t7408   & sf8701  &  2      &  0.00   & 21.43   & NA      & 21.43   & 0       & 0       & 0       & 0       & 0      \\\\\n",
       "\t13 &  7394   & 13B41   & 2.42    & 1.07    & 1.11    & 0.90    & t7394   & sf8688  &  1      &  8.70   &  0.00   & NA      &  8.70   & 0       & 0       & 0       & 0       & 0      \\\\\n",
       "\t14 &  6709   & 14B32   & 1.08    & 1.23    & 0.95    &   NA    & t6709   & sf8269  &  2      &  9.09   &  0.00   & NA      &  9.09   & 0       & 0       & 0       & 0       & 0      \\\\\n",
       "\t15 &  7394   & 14B41   & 4.23    & 1.03    & 0.51    & 0.52    & t7394   & sf8688  &  2      & 42.86   &  0.00   & NA      & 42.86   & 0       & 0       & 0       & 0       & 0      \\\\\n",
       "\t16 &  7584   & 14B44   & 3.34    & 0.85    & 1.08    & 0.72    & t7584   & sf8842  &  1      &  0.00   &  0.00   & NA      &  0.00   & 0       & 0       & 0       & 0       & 0      \\\\\n",
       "\t18 &  6709   & 15B32   & 1.85    & 1.12    & 0.92    &   NA    & t6709   & sf8269  &  3      &  9.09   & 22.73   & NA      & 31.82   & 0       & 0       & 0       & 0       & 0      \\\\\n",
       "\t44 &  7553   & 25B43   & 0.66    & 0.54    & 1.11    & 0.87    & t7553   & sf8804  &  1      &    NA   &    NA   & NA      &    NA   & 0       & 0       & 0       & 0       & 0      \\\\\n",
       "\t45 &  8070   & 26B13   & 1.44    & 0.99    & 0.86    & 0.84    & t8070   & sf7540  &  2      &  0.00   &    NA   & NA      &  0.00   & 0       & 0       & 0       & 0       & 0      \\\\\n",
       "\t52 &  7555   & 29B43   & 1.49    & 1.25    & 0.81    & 0.81    & t7555   & sf8808  &  1      &  0.00   &  0.00   & NA      &  0.00   & 0       & 0       & 0       & 0       & 0      \\\\\n",
       "\t67 &  7555   & 32B43   & 1.36    & 0.53    & 0.76    & 0.72    & t7555   & sf8808  &  4      &  0.00   &  0.00   & NA      &  0.00   & 0       & 0       & 0       & 0       & 0      \\\\\n",
       "\t80 &  5538   & 37B17   & 2.62    & 0.82    & 0.90    &   NA    & t5538   & sf7728  &  1      &  0.00   &  3.70   &  0      &  3.70   & 0       & 0       & 0       & 0       & 0      \\\\\n",
       "\t82 &  7227   & 37B39   & 0.97    & 0.57    & 1.17    & 0.98    & t7227   & sf8580  &  3      &  0.00   &  0.00   & NA      &  0.00   & 0       & 0       & 0       & 0       & 0      \\\\\n",
       "\t99 &  6274   & 43B27   & 1.50    & 1.15    & 0.96    & 0.98    & t6274   & sf8093  &  3      & 19.05   &  0.00   &  0      & 19.05   & 0       & 0       & 0       & 0       & 0      \\\\\n",
       "\t102 &  6556   & 46B30   & 9.46    & 0.37    & 0.29    & 0.36    & t6556   & sf8218  &  2      &    NA   &    NA   & NA      &    NA   & 0       & 0       & 0       & 0       & 0      \\\\\n",
       "\t106 &  7329   & 48B40   & 3.77    & 1.17    & 0.78    & 0.57    & t7329   & sf8649  &  2      & 24.14   &  0.00   & NA      & 24.14   & 0       & 0       & 0       & 0       & 0      \\\\\n",
       "\t107 &  7039   & 49B15   & 1.88    & 1.13    & 1.18    & 0.83    & t7039   & sf7640  &  1      &  4.35   & 34.78   & NA      & 39.13   & 0       & 0       & 0       & 0       & 0      \\\\\n",
       "\t118 &  6925   & 52B35   & 1.26    & 0.87    & 1.03    &   NA    & t6925   & sf8422  &  1      &    NA   &    NA   & NA      &    NA   & 0       & 0       & 0       & 0       & 0      \\\\\n",
       "\t121 &  5333   & 53B16   & 1.11    & 1.25    & 0.85    &   NA    & NA      & NA      & NA      &    NA   &    NA   & NA      &    NA   & 0       & 0       & 0       & 0       & 0      \\\\\n",
       "\t123 &  6925   & 53B35   & 1.19    & 0.83    & 0.96    &   NA    & t6925   & sf8422  &  2      &    NA   &    NA   & NA      &    NA   & 0       & 0       & 0       & 0       & 0      \\\\\n",
       "\t150 &  6152   & 61B24   & 2.74    & 1.21    & 0.92    & 0.91    & t6152   & sf7997  &  2      &    NA   &    NA   & NA      &    NA   & 0       & 0       & 0       & 0       & 0      \\\\\n",
       "\t155 &  6929   & 62B35   & 1.06    & 1.08    & 1.01    & 0.93    & t6929   & sf8425  &  3      &  0.00   &  0.00   & NA      &  0.00   & 0       & 0       & 0       & 0       & 0      \\\\\n",
       "\t157 &  6472   & 63B29   & 2.39    & 0.61    & 1.16    & 0.58    & t6472   & sf8186  &  1      & 18.52   &  0.00   &  0      & 18.52   & 0       & 0       & 0       & 0       & 0      \\\\\n",
       "\t158 &  7225   & 63B39   & 1.54    & 1.16    & 0.91    & 1.00    & t7225   & sf8582  &  2      &  0.00   &  0.00   & NA      &  0.00   & 0       & 0       & 0       & 0       & 0      \\\\\n",
       "\t159 &  6285   & 64B27   & 1.83    & 1.16    & 1.04    & 0.58    & t6285   & sf8104  &  3      & 33.33   &  0.00   & NA      & 33.33   & 0       & 0       & 0       & 0       & 0      \\\\\n",
       "\t181 &  5577   & 71B17   & 1.60    & 1.24    & 1.46    & 0.82    & t5577   & sf7750  &  1      & 36.00   &  0.00   &  0      & 36.00   & 0       & 0       & 0       & 0       & 0      \\\\\n",
       "\t184 &  6630   & 71B31   & 1.80    & 1.12    & 1.06    &   NA    & t6630   & sf8250  &  2      &  0.00   & 17.24   &  0      & 17.24   & 0       & 0       & 0       & 0       & 0      \\\\\n",
       "\t202 &  5728   & 76B19   & 3.33    & 0.83    & 0.70    &   NA    & t5728   & sf7818  &  2      &  0.00   &  0.00   &  0      &  0.00   & 0       & 0       & 0       & 0       & 0      \\\\\n",
       "\t224 &  5739   & 81B19   & 1.38    &   NA    & 0.83    &   NA    & t5739   & sf7821  &  1      &    NA   &    NA   & NA      &    NA   & 0       & 0       & 0       & 0       & 0      \\\\\n",
       "\t240 &  8068   & 8352 T2 & 1.01    & 1.12    & 1.00    & 1.19    & NA      & NA      & NA      &    NA   &    NA   & NA      &    NA   & 0       & 0       & 0       & 0       & 0      \\\\\n",
       "\t242 &  8068   & 8352 T4 & 4.10    & 1.10    & 0.66    & 1.04    & NA      & NA      & NA      &    NA   &    NA   & NA      &    NA   & 0       & 0       & 0       & 0       & 0      \\\\\n",
       "\t256 &  6296   & 84B27   & 2.02    & 0.78    & 1.14    & 0.72    & t6296   & sf8112  &  2      &  0.00   &  0.00   &  0      &  0.00   & 0       & 0       & 0       & 0       & 0      \\\\\n",
       "\t267 &  5272   & 86B15   & 1.23    & 1.11    & 0.96    & 1.02    & t5272   & sf7659  &  2      &    NA   &    NA   & NA      &    NA   & 0       & 0       & 0       & 0       & 0      \\\\\n",
       "\t273 &  7015   & 87B15   & 1.19    & 1.14    & 0.76    & 0.85    & NA      & NA      & NA      &    NA   &    NA   & NA      &    NA   & 0       & 0       & 0       & 0       & 0      \\\\\n",
       "\t278 &  7015   & 88B15   & 2.19    & 1.24    & 0.99    & 0.57    & NA      & NA      & NA      &    NA   &    NA   & NA      &    NA   & 0       & 0       & 0       & 0       & 0      \\\\\n",
       "\t282 &  7628   & 88B44   & 1.38    & 1.02    & 0.74    & 0.66    & t7628   & sf8873  &  2      &  0.00   &  0.00   & NA      &  0.00   & 0       & 0       & 0       & 0       & 0      \\\\\n",
       "\t298 &  6243   & 93B26   & 4.67    & 0.67    & 0.73    & 0.51    & NA      & NA      & NA      &    NA   &    NA   & NA      &    NA   & 0       & 0       & 0       & 0       & 0      \\\\\n",
       "\t307 &  5739   & 98B19   & 2.08    &   NA    & 1.17    &   NA    & t5739   & sf7821  &  2      &    NA   &    NA   & NA      &    NA   & 0       & 0       & 0       & 0       & 0      \\\\\n",
       "\t308 &  6495   & 98B29   & 1.31    & 1.10    & 1.02    & 0.81    & t6495   & sf8196  &  3      &  0.00   &  0.00   & NA      &  0.00   & 0       & 0       & 0       & 0       & 0      \\\\\n",
       "\t310 &  5739   & 99B19   & 1.67    &   NA    & 0.94    &   NA    & t5739   & sf7821  &  3      &    NA   &    NA   & NA      &    NA   & 0       & 0       & 0       & 0       & 0      \\\\\n",
       "\t320 &  8773   & 63B60   & 1.22    & 1.18    & 0.92    &   NA    & t8773   & sf9727  &  3      &  2.38   & 30.95   & NA      & 33.33   & 0       & 0       & 0       & 0       & 0      \\\\\n",
       "\t321 &  8775   & 1B61    & 0.00    & 0.00    & 0.00    &   NA    & NA      & NA      & NA      &    NA   &    NA   & NA      &    NA   & 0       & 0       & 0       & 0       & 0      \\\\\n",
       "\t322 &  8775   & 2B61    & 0.00    & 0.00    & 0.00    &   NA    & NA      & NA      & NA      &    NA   &    NA   & NA      &    NA   & 0       & 0       & 0       & 0       & 0      \\\\\n",
       "\t323 &  8775   & 3B61    & 0.00    & 0.00    & 0.00    &   NA    & NA      & NA      & NA      &    NA   &    NA   & NA      &    NA   & 0       & 0       & 0       & 0       & 0      \\\\\n",
       "\t324 &  8775   & 4B61    & 0.00    & 0.00    & 0.00    &   NA    & NA      & NA      & NA      &    NA   &    NA   & NA      &    NA   & 0       & 0       & 0       & 0       & 0      \\\\\n",
       "\t339 &  8956   & 82B63   & 1.38    & 1.11    & 1.46    & 0.76    & t8956   & sf9907  &  2      &  0.00   &  2.50   & NA      &  2.50   & 0       & 0       & 0       & 0       & 0      \\\\\n",
       "\t434 & 10152   & 60B78   & 1.23    & 1.13    & 1.20    & 1.05    & t10152  & sf10560 &  3      &  0.00   &  0.00   & NA      &  0.00   & 0       & 0       & 0       & 0       & 0      \\\\\n",
       "\t472 & 10572   & 46B90   & 1.04    & 0.96    & 0.86    & 0.93    & t10572  & sf10823 &  3      &  0.00   & 19.15   & NA      & 19.15   & 0       & 0       & 0       & 0       & 0      \\\\\n",
       "\t499 & 10756   & 67B91   & 1.34    & 1.00    & 0.96    & 1.03    & t10756  & sf11017 &  1      &  0.00   &  6.67   & NA      &  6.67   & 0       & 0       & 0       & 0       & 0      \\\\\n",
       "\t535 & 11192   & 37B97   & 1.59    & 1.03    & 0.94    & 0.91    & t11192  & sf11150 &  4      &  0.00   & 24.44   & NA      & 24.44   & 0       & 0       & 0       & 0       & 0      \\\\\n",
       "\t578 & 11482   & 15D1    & 0.97    & 1.11    & 1.08    & 1.20    & t11482  & sf11334 &  2      &    NA   &  0.00   & NA      &  0.00   & 0       & 0       & 0       & 0       & 0      \\\\\n",
       "\t579 & 11484   & 13D1    & 2.89    & 1.18    & 1.24    & 0.52    & t11484  & sf11338 &  1      & 22.22   &  0.00   & NA      & 22.22   & 0       & 0       & 0       & 0       & 0      \\\\\n",
       "\t612 & 11876   & 11560A0 & 1.03    & 0.92    & 1.16    & 1.28    & t11876  & sf11560 &  3      &  0.00   &  0.00   &  0      &  0.00   & 0       & 0       & 0       & 0       & 0      \\\\\n",
       "\t615 & 11898   & 62D3    & 1.96    & 1.08    & 1.06    & 0.41    & t11898  & sf11574 &  2      & 13.64   &  2.27   & NA      & 15.91   & 0       & 0       & 0       & 0       & 0      \\\\\n",
       "\\end{tabular}\n"
      ],
      "text/markdown": [
       "\n",
       "| <!--/--> | t_number | roi.label | nfse | nfl | nt1c | nt1v | tnum | sfnum | index | X.CEL | X.NEL | X.NEC | sum | in_CEL | in_T2all | in_NEL | in_NEC | in_ROI | \n",
       "|---|---|---|---|---|---|---|---|---|---|---|---|---|---|---|---|---|---|---|---|---|---|---|---|---|---|---|---|---|---|---|---|---|---|---|---|---|---|---|---|---|---|---|---|---|---|---|---|---|---|---|---|---|---|\n",
       "| 4 |  7408   | 11B40   | 1.84    | 1.13    | 0.82    | 0.79    | t7408   | sf8701  |  1      |  8.70   | 13.04   | NA      | 21.74   | 0       | 0       | 0       | 0       | 0       | \n",
       "| 10 |  7408   | 12B40   | 1.87    | 0.96    | 0.91    | 0.87    | t7408   | sf8701  |  2      |  0.00   | 21.43   | NA      | 21.43   | 0       | 0       | 0       | 0       | 0       | \n",
       "| 13 |  7394   | 13B41   | 2.42    | 1.07    | 1.11    | 0.90    | t7394   | sf8688  |  1      |  8.70   |  0.00   | NA      |  8.70   | 0       | 0       | 0       | 0       | 0       | \n",
       "| 14 |  6709   | 14B32   | 1.08    | 1.23    | 0.95    |   NA    | t6709   | sf8269  |  2      |  9.09   |  0.00   | NA      |  9.09   | 0       | 0       | 0       | 0       | 0       | \n",
       "| 15 |  7394   | 14B41   | 4.23    | 1.03    | 0.51    | 0.52    | t7394   | sf8688  |  2      | 42.86   |  0.00   | NA      | 42.86   | 0       | 0       | 0       | 0       | 0       | \n",
       "| 16 |  7584   | 14B44   | 3.34    | 0.85    | 1.08    | 0.72    | t7584   | sf8842  |  1      |  0.00   |  0.00   | NA      |  0.00   | 0       | 0       | 0       | 0       | 0       | \n",
       "| 18 |  6709   | 15B32   | 1.85    | 1.12    | 0.92    |   NA    | t6709   | sf8269  |  3      |  9.09   | 22.73   | NA      | 31.82   | 0       | 0       | 0       | 0       | 0       | \n",
       "| 44 |  7553   | 25B43   | 0.66    | 0.54    | 1.11    | 0.87    | t7553   | sf8804  |  1      |    NA   |    NA   | NA      |    NA   | 0       | 0       | 0       | 0       | 0       | \n",
       "| 45 |  8070   | 26B13   | 1.44    | 0.99    | 0.86    | 0.84    | t8070   | sf7540  |  2      |  0.00   |    NA   | NA      |  0.00   | 0       | 0       | 0       | 0       | 0       | \n",
       "| 52 |  7555   | 29B43   | 1.49    | 1.25    | 0.81    | 0.81    | t7555   | sf8808  |  1      |  0.00   |  0.00   | NA      |  0.00   | 0       | 0       | 0       | 0       | 0       | \n",
       "| 67 |  7555   | 32B43   | 1.36    | 0.53    | 0.76    | 0.72    | t7555   | sf8808  |  4      |  0.00   |  0.00   | NA      |  0.00   | 0       | 0       | 0       | 0       | 0       | \n",
       "| 80 |  5538   | 37B17   | 2.62    | 0.82    | 0.90    |   NA    | t5538   | sf7728  |  1      |  0.00   |  3.70   |  0      |  3.70   | 0       | 0       | 0       | 0       | 0       | \n",
       "| 82 |  7227   | 37B39   | 0.97    | 0.57    | 1.17    | 0.98    | t7227   | sf8580  |  3      |  0.00   |  0.00   | NA      |  0.00   | 0       | 0       | 0       | 0       | 0       | \n",
       "| 99 |  6274   | 43B27   | 1.50    | 1.15    | 0.96    | 0.98    | t6274   | sf8093  |  3      | 19.05   |  0.00   |  0      | 19.05   | 0       | 0       | 0       | 0       | 0       | \n",
       "| 102 |  6556   | 46B30   | 9.46    | 0.37    | 0.29    | 0.36    | t6556   | sf8218  |  2      |    NA   |    NA   | NA      |    NA   | 0       | 0       | 0       | 0       | 0       | \n",
       "| 106 |  7329   | 48B40   | 3.77    | 1.17    | 0.78    | 0.57    | t7329   | sf8649  |  2      | 24.14   |  0.00   | NA      | 24.14   | 0       | 0       | 0       | 0       | 0       | \n",
       "| 107 |  7039   | 49B15   | 1.88    | 1.13    | 1.18    | 0.83    | t7039   | sf7640  |  1      |  4.35   | 34.78   | NA      | 39.13   | 0       | 0       | 0       | 0       | 0       | \n",
       "| 118 |  6925   | 52B35   | 1.26    | 0.87    | 1.03    |   NA    | t6925   | sf8422  |  1      |    NA   |    NA   | NA      |    NA   | 0       | 0       | 0       | 0       | 0       | \n",
       "| 121 |  5333   | 53B16   | 1.11    | 1.25    | 0.85    |   NA    | NA      | NA      | NA      |    NA   |    NA   | NA      |    NA   | 0       | 0       | 0       | 0       | 0       | \n",
       "| 123 |  6925   | 53B35   | 1.19    | 0.83    | 0.96    |   NA    | t6925   | sf8422  |  2      |    NA   |    NA   | NA      |    NA   | 0       | 0       | 0       | 0       | 0       | \n",
       "| 150 |  6152   | 61B24   | 2.74    | 1.21    | 0.92    | 0.91    | t6152   | sf7997  |  2      |    NA   |    NA   | NA      |    NA   | 0       | 0       | 0       | 0       | 0       | \n",
       "| 155 |  6929   | 62B35   | 1.06    | 1.08    | 1.01    | 0.93    | t6929   | sf8425  |  3      |  0.00   |  0.00   | NA      |  0.00   | 0       | 0       | 0       | 0       | 0       | \n",
       "| 157 |  6472   | 63B29   | 2.39    | 0.61    | 1.16    | 0.58    | t6472   | sf8186  |  1      | 18.52   |  0.00   |  0      | 18.52   | 0       | 0       | 0       | 0       | 0       | \n",
       "| 158 |  7225   | 63B39   | 1.54    | 1.16    | 0.91    | 1.00    | t7225   | sf8582  |  2      |  0.00   |  0.00   | NA      |  0.00   | 0       | 0       | 0       | 0       | 0       | \n",
       "| 159 |  6285   | 64B27   | 1.83    | 1.16    | 1.04    | 0.58    | t6285   | sf8104  |  3      | 33.33   |  0.00   | NA      | 33.33   | 0       | 0       | 0       | 0       | 0       | \n",
       "| 181 |  5577   | 71B17   | 1.60    | 1.24    | 1.46    | 0.82    | t5577   | sf7750  |  1      | 36.00   |  0.00   |  0      | 36.00   | 0       | 0       | 0       | 0       | 0       | \n",
       "| 184 |  6630   | 71B31   | 1.80    | 1.12    | 1.06    |   NA    | t6630   | sf8250  |  2      |  0.00   | 17.24   |  0      | 17.24   | 0       | 0       | 0       | 0       | 0       | \n",
       "| 202 |  5728   | 76B19   | 3.33    | 0.83    | 0.70    |   NA    | t5728   | sf7818  |  2      |  0.00   |  0.00   |  0      |  0.00   | 0       | 0       | 0       | 0       | 0       | \n",
       "| 224 |  5739   | 81B19   | 1.38    |   NA    | 0.83    |   NA    | t5739   | sf7821  |  1      |    NA   |    NA   | NA      |    NA   | 0       | 0       | 0       | 0       | 0       | \n",
       "| 240 |  8068   | 8352 T2 | 1.01    | 1.12    | 1.00    | 1.19    | NA      | NA      | NA      |    NA   |    NA   | NA      |    NA   | 0       | 0       | 0       | 0       | 0       | \n",
       "| 242 |  8068   | 8352 T4 | 4.10    | 1.10    | 0.66    | 1.04    | NA      | NA      | NA      |    NA   |    NA   | NA      |    NA   | 0       | 0       | 0       | 0       | 0       | \n",
       "| 256 |  6296   | 84B27   | 2.02    | 0.78    | 1.14    | 0.72    | t6296   | sf8112  |  2      |  0.00   |  0.00   |  0      |  0.00   | 0       | 0       | 0       | 0       | 0       | \n",
       "| 267 |  5272   | 86B15   | 1.23    | 1.11    | 0.96    | 1.02    | t5272   | sf7659  |  2      |    NA   |    NA   | NA      |    NA   | 0       | 0       | 0       | 0       | 0       | \n",
       "| 273 |  7015   | 87B15   | 1.19    | 1.14    | 0.76    | 0.85    | NA      | NA      | NA      |    NA   |    NA   | NA      |    NA   | 0       | 0       | 0       | 0       | 0       | \n",
       "| 278 |  7015   | 88B15   | 2.19    | 1.24    | 0.99    | 0.57    | NA      | NA      | NA      |    NA   |    NA   | NA      |    NA   | 0       | 0       | 0       | 0       | 0       | \n",
       "| 282 |  7628   | 88B44   | 1.38    | 1.02    | 0.74    | 0.66    | t7628   | sf8873  |  2      |  0.00   |  0.00   | NA      |  0.00   | 0       | 0       | 0       | 0       | 0       | \n",
       "| 298 |  6243   | 93B26   | 4.67    | 0.67    | 0.73    | 0.51    | NA      | NA      | NA      |    NA   |    NA   | NA      |    NA   | 0       | 0       | 0       | 0       | 0       | \n",
       "| 307 |  5739   | 98B19   | 2.08    |   NA    | 1.17    |   NA    | t5739   | sf7821  |  2      |    NA   |    NA   | NA      |    NA   | 0       | 0       | 0       | 0       | 0       | \n",
       "| 308 |  6495   | 98B29   | 1.31    | 1.10    | 1.02    | 0.81    | t6495   | sf8196  |  3      |  0.00   |  0.00   | NA      |  0.00   | 0       | 0       | 0       | 0       | 0       | \n",
       "| 310 |  5739   | 99B19   | 1.67    |   NA    | 0.94    |   NA    | t5739   | sf7821  |  3      |    NA   |    NA   | NA      |    NA   | 0       | 0       | 0       | 0       | 0       | \n",
       "| 320 |  8773   | 63B60   | 1.22    | 1.18    | 0.92    |   NA    | t8773   | sf9727  |  3      |  2.38   | 30.95   | NA      | 33.33   | 0       | 0       | 0       | 0       | 0       | \n",
       "| 321 |  8775   | 1B61    | 0.00    | 0.00    | 0.00    |   NA    | NA      | NA      | NA      |    NA   |    NA   | NA      |    NA   | 0       | 0       | 0       | 0       | 0       | \n",
       "| 322 |  8775   | 2B61    | 0.00    | 0.00    | 0.00    |   NA    | NA      | NA      | NA      |    NA   |    NA   | NA      |    NA   | 0       | 0       | 0       | 0       | 0       | \n",
       "| 323 |  8775   | 3B61    | 0.00    | 0.00    | 0.00    |   NA    | NA      | NA      | NA      |    NA   |    NA   | NA      |    NA   | 0       | 0       | 0       | 0       | 0       | \n",
       "| 324 |  8775   | 4B61    | 0.00    | 0.00    | 0.00    |   NA    | NA      | NA      | NA      |    NA   |    NA   | NA      |    NA   | 0       | 0       | 0       | 0       | 0       | \n",
       "| 339 |  8956   | 82B63   | 1.38    | 1.11    | 1.46    | 0.76    | t8956   | sf9907  |  2      |  0.00   |  2.50   | NA      |  2.50   | 0       | 0       | 0       | 0       | 0       | \n",
       "| 434 | 10152   | 60B78   | 1.23    | 1.13    | 1.20    | 1.05    | t10152  | sf10560 |  3      |  0.00   |  0.00   | NA      |  0.00   | 0       | 0       | 0       | 0       | 0       | \n",
       "| 472 | 10572   | 46B90   | 1.04    | 0.96    | 0.86    | 0.93    | t10572  | sf10823 |  3      |  0.00   | 19.15   | NA      | 19.15   | 0       | 0       | 0       | 0       | 0       | \n",
       "| 499 | 10756   | 67B91   | 1.34    | 1.00    | 0.96    | 1.03    | t10756  | sf11017 |  1      |  0.00   |  6.67   | NA      |  6.67   | 0       | 0       | 0       | 0       | 0       | \n",
       "| 535 | 11192   | 37B97   | 1.59    | 1.03    | 0.94    | 0.91    | t11192  | sf11150 |  4      |  0.00   | 24.44   | NA      | 24.44   | 0       | 0       | 0       | 0       | 0       | \n",
       "| 578 | 11482   | 15D1    | 0.97    | 1.11    | 1.08    | 1.20    | t11482  | sf11334 |  2      |    NA   |  0.00   | NA      |  0.00   | 0       | 0       | 0       | 0       | 0       | \n",
       "| 579 | 11484   | 13D1    | 2.89    | 1.18    | 1.24    | 0.52    | t11484  | sf11338 |  1      | 22.22   |  0.00   | NA      | 22.22   | 0       | 0       | 0       | 0       | 0       | \n",
       "| 612 | 11876   | 11560A0 | 1.03    | 0.92    | 1.16    | 1.28    | t11876  | sf11560 |  3      |  0.00   |  0.00   |  0      |  0.00   | 0       | 0       | 0       | 0       | 0       | \n",
       "| 615 | 11898   | 62D3    | 1.96    | 1.08    | 1.06    | 0.41    | t11898  | sf11574 |  2      | 13.64   |  2.27   | NA      | 15.91   | 0       | 0       | 0       | 0       | 0       | \n",
       "\n",
       "\n"
      ],
      "text/plain": [
       "    t_number roi.label nfse nfl  nt1c nt1v tnum   sfnum   index X.CEL X.NEL\n",
       "4    7408    11B40     1.84 1.13 0.82 0.79 t7408  sf8701   1     8.70 13.04\n",
       "10   7408    12B40     1.87 0.96 0.91 0.87 t7408  sf8701   2     0.00 21.43\n",
       "13   7394    13B41     2.42 1.07 1.11 0.90 t7394  sf8688   1     8.70  0.00\n",
       "14   6709    14B32     1.08 1.23 0.95   NA t6709  sf8269   2     9.09  0.00\n",
       "15   7394    14B41     4.23 1.03 0.51 0.52 t7394  sf8688   2    42.86  0.00\n",
       "16   7584    14B44     3.34 0.85 1.08 0.72 t7584  sf8842   1     0.00  0.00\n",
       "18   6709    15B32     1.85 1.12 0.92   NA t6709  sf8269   3     9.09 22.73\n",
       "44   7553    25B43     0.66 0.54 1.11 0.87 t7553  sf8804   1       NA    NA\n",
       "45   8070    26B13     1.44 0.99 0.86 0.84 t8070  sf7540   2     0.00    NA\n",
       "52   7555    29B43     1.49 1.25 0.81 0.81 t7555  sf8808   1     0.00  0.00\n",
       "67   7555    32B43     1.36 0.53 0.76 0.72 t7555  sf8808   4     0.00  0.00\n",
       "80   5538    37B17     2.62 0.82 0.90   NA t5538  sf7728   1     0.00  3.70\n",
       "82   7227    37B39     0.97 0.57 1.17 0.98 t7227  sf8580   3     0.00  0.00\n",
       "99   6274    43B27     1.50 1.15 0.96 0.98 t6274  sf8093   3    19.05  0.00\n",
       "102  6556    46B30     9.46 0.37 0.29 0.36 t6556  sf8218   2       NA    NA\n",
       "106  7329    48B40     3.77 1.17 0.78 0.57 t7329  sf8649   2    24.14  0.00\n",
       "107  7039    49B15     1.88 1.13 1.18 0.83 t7039  sf7640   1     4.35 34.78\n",
       "118  6925    52B35     1.26 0.87 1.03   NA t6925  sf8422   1       NA    NA\n",
       "121  5333    53B16     1.11 1.25 0.85   NA NA     NA      NA       NA    NA\n",
       "123  6925    53B35     1.19 0.83 0.96   NA t6925  sf8422   2       NA    NA\n",
       "150  6152    61B24     2.74 1.21 0.92 0.91 t6152  sf7997   2       NA    NA\n",
       "155  6929    62B35     1.06 1.08 1.01 0.93 t6929  sf8425   3     0.00  0.00\n",
       "157  6472    63B29     2.39 0.61 1.16 0.58 t6472  sf8186   1    18.52  0.00\n",
       "158  7225    63B39     1.54 1.16 0.91 1.00 t7225  sf8582   2     0.00  0.00\n",
       "159  6285    64B27     1.83 1.16 1.04 0.58 t6285  sf8104   3    33.33  0.00\n",
       "181  5577    71B17     1.60 1.24 1.46 0.82 t5577  sf7750   1    36.00  0.00\n",
       "184  6630    71B31     1.80 1.12 1.06   NA t6630  sf8250   2     0.00 17.24\n",
       "202  5728    76B19     3.33 0.83 0.70   NA t5728  sf7818   2     0.00  0.00\n",
       "224  5739    81B19     1.38   NA 0.83   NA t5739  sf7821   1       NA    NA\n",
       "240  8068    8352 T2   1.01 1.12 1.00 1.19 NA     NA      NA       NA    NA\n",
       "242  8068    8352 T4   4.10 1.10 0.66 1.04 NA     NA      NA       NA    NA\n",
       "256  6296    84B27     2.02 0.78 1.14 0.72 t6296  sf8112   2     0.00  0.00\n",
       "267  5272    86B15     1.23 1.11 0.96 1.02 t5272  sf7659   2       NA    NA\n",
       "273  7015    87B15     1.19 1.14 0.76 0.85 NA     NA      NA       NA    NA\n",
       "278  7015    88B15     2.19 1.24 0.99 0.57 NA     NA      NA       NA    NA\n",
       "282  7628    88B44     1.38 1.02 0.74 0.66 t7628  sf8873   2     0.00  0.00\n",
       "298  6243    93B26     4.67 0.67 0.73 0.51 NA     NA      NA       NA    NA\n",
       "307  5739    98B19     2.08   NA 1.17   NA t5739  sf7821   2       NA    NA\n",
       "308  6495    98B29     1.31 1.10 1.02 0.81 t6495  sf8196   3     0.00  0.00\n",
       "310  5739    99B19     1.67   NA 0.94   NA t5739  sf7821   3       NA    NA\n",
       "320  8773    63B60     1.22 1.18 0.92   NA t8773  sf9727   3     2.38 30.95\n",
       "321  8775    1B61      0.00 0.00 0.00   NA NA     NA      NA       NA    NA\n",
       "322  8775    2B61      0.00 0.00 0.00   NA NA     NA      NA       NA    NA\n",
       "323  8775    3B61      0.00 0.00 0.00   NA NA     NA      NA       NA    NA\n",
       "324  8775    4B61      0.00 0.00 0.00   NA NA     NA      NA       NA    NA\n",
       "339  8956    82B63     1.38 1.11 1.46 0.76 t8956  sf9907   2     0.00  2.50\n",
       "434 10152    60B78     1.23 1.13 1.20 1.05 t10152 sf10560  3     0.00  0.00\n",
       "472 10572    46B90     1.04 0.96 0.86 0.93 t10572 sf10823  3     0.00 19.15\n",
       "499 10756    67B91     1.34 1.00 0.96 1.03 t10756 sf11017  1     0.00  6.67\n",
       "535 11192    37B97     1.59 1.03 0.94 0.91 t11192 sf11150  4     0.00 24.44\n",
       "578 11482    15D1      0.97 1.11 1.08 1.20 t11482 sf11334  2       NA  0.00\n",
       "579 11484    13D1      2.89 1.18 1.24 0.52 t11484 sf11338  1    22.22  0.00\n",
       "612 11876    11560A0   1.03 0.92 1.16 1.28 t11876 sf11560  3     0.00  0.00\n",
       "615 11898    62D3      1.96 1.08 1.06 0.41 t11898 sf11574  2    13.64  2.27\n",
       "    X.NEC sum   in_CEL in_T2all in_NEL in_NEC in_ROI\n",
       "4   NA    21.74 0      0        0      0      0     \n",
       "10  NA    21.43 0      0        0      0      0     \n",
       "13  NA     8.70 0      0        0      0      0     \n",
       "14  NA     9.09 0      0        0      0      0     \n",
       "15  NA    42.86 0      0        0      0      0     \n",
       "16  NA     0.00 0      0        0      0      0     \n",
       "18  NA    31.82 0      0        0      0      0     \n",
       "44  NA       NA 0      0        0      0      0     \n",
       "45  NA     0.00 0      0        0      0      0     \n",
       "52  NA     0.00 0      0        0      0      0     \n",
       "67  NA     0.00 0      0        0      0      0     \n",
       "80   0     3.70 0      0        0      0      0     \n",
       "82  NA     0.00 0      0        0      0      0     \n",
       "99   0    19.05 0      0        0      0      0     \n",
       "102 NA       NA 0      0        0      0      0     \n",
       "106 NA    24.14 0      0        0      0      0     \n",
       "107 NA    39.13 0      0        0      0      0     \n",
       "118 NA       NA 0      0        0      0      0     \n",
       "121 NA       NA 0      0        0      0      0     \n",
       "123 NA       NA 0      0        0      0      0     \n",
       "150 NA       NA 0      0        0      0      0     \n",
       "155 NA     0.00 0      0        0      0      0     \n",
       "157  0    18.52 0      0        0      0      0     \n",
       "158 NA     0.00 0      0        0      0      0     \n",
       "159 NA    33.33 0      0        0      0      0     \n",
       "181  0    36.00 0      0        0      0      0     \n",
       "184  0    17.24 0      0        0      0      0     \n",
       "202  0     0.00 0      0        0      0      0     \n",
       "224 NA       NA 0      0        0      0      0     \n",
       "240 NA       NA 0      0        0      0      0     \n",
       "242 NA       NA 0      0        0      0      0     \n",
       "256  0     0.00 0      0        0      0      0     \n",
       "267 NA       NA 0      0        0      0      0     \n",
       "273 NA       NA 0      0        0      0      0     \n",
       "278 NA       NA 0      0        0      0      0     \n",
       "282 NA     0.00 0      0        0      0      0     \n",
       "298 NA       NA 0      0        0      0      0     \n",
       "307 NA       NA 0      0        0      0      0     \n",
       "308 NA     0.00 0      0        0      0      0     \n",
       "310 NA       NA 0      0        0      0      0     \n",
       "320 NA    33.33 0      0        0      0      0     \n",
       "321 NA       NA 0      0        0      0      0     \n",
       "322 NA       NA 0      0        0      0      0     \n",
       "323 NA       NA 0      0        0      0      0     \n",
       "324 NA       NA 0      0        0      0      0     \n",
       "339 NA     2.50 0      0        0      0      0     \n",
       "434 NA     0.00 0      0        0      0      0     \n",
       "472 NA    19.15 0      0        0      0      0     \n",
       "499 NA     6.67 0      0        0      0      0     \n",
       "535 NA    24.44 0      0        0      0      0     \n",
       "578 NA     0.00 0      0        0      0      0     \n",
       "579 NA    22.22 0      0        0      0      0     \n",
       "612  0     0.00 0      0        0      0      0     \n",
       "615 NA    15.91 0      0        0      0      0     "
      ]
     },
     "metadata": {},
     "output_type": "display_data"
    }
   ],
   "source": [
    "biopsyquant[which(biopsyquant$in_ROI==0),]"
   ]
  },
  {
   "cell_type": "markdown",
   "metadata": {},
   "source": [
    "## 12. Write out biopsies that are unaccounted for based on being inside of an ROI or not\n",
    "#### (this can be used later for figuring out the most important biopsies to check on) \n"
   ]
  },
  {
   "cell_type": "code",
   "execution_count": 99,
   "metadata": {
    "collapsed": false
   },
   "outputs": [
    {
     "data": {
      "text/html": [
       "'/home/sf673542/DataWrangling/GetMergeData/July2018'"
      ],
      "text/latex": [
       "'/home/sf673542/DataWrangling/GetMergeData/July2018'"
      ],
      "text/markdown": [
       "'/home/sf673542/DataWrangling/GetMergeData/July2018'"
      ],
      "text/plain": [
       "[1] \"/home/sf673542/DataWrangling/GetMergeData/July2018\""
      ]
     },
     "metadata": {},
     "output_type": "display_data"
    }
   ],
   "source": [
    "getwd()"
   ]
  },
  {
   "cell_type": "code",
   "execution_count": 100,
   "metadata": {
    "collapsed": true
   },
   "outputs": [],
   "source": [
    "write.csv(biopsyquant[which(biopsyquant$in_ROI==0),], \"Biopsies_outside_of_ROIs_from_get_igt_stats.csv\", row.names = F)"
   ]
  },
  {
   "cell_type": "markdown",
   "metadata": {},
   "source": [
    "## 13. Write out IGT_stats in usable way for Biopsy Annotation! "
   ]
  },
  {
   "cell_type": "code",
   "execution_count": 104,
   "metadata": {
    "collapsed": false
   },
   "outputs": [
    {
     "data": {
      "text/html": [
       "<table>\n",
       "<thead><tr><th scope=col>index</th><th scope=col>colnames</th></tr></thead>\n",
       "<tbody>\n",
       "\t<tr><td> 1       </td><td>t_number </td></tr>\n",
       "\t<tr><td> 2       </td><td>roi.label</td></tr>\n",
       "\t<tr><td> 3       </td><td>nfse     </td></tr>\n",
       "\t<tr><td> 4       </td><td>nfl      </td></tr>\n",
       "\t<tr><td> 5       </td><td>nt1c     </td></tr>\n",
       "\t<tr><td> 6       </td><td>nt1v     </td></tr>\n",
       "\t<tr><td> 7       </td><td>tnum     </td></tr>\n",
       "\t<tr><td> 8       </td><td>sfnum    </td></tr>\n",
       "\t<tr><td> 9       </td><td>index    </td></tr>\n",
       "\t<tr><td>10       </td><td>X.CEL    </td></tr>\n",
       "\t<tr><td>11       </td><td>X.NEL    </td></tr>\n",
       "\t<tr><td>12       </td><td>X.NEC    </td></tr>\n",
       "\t<tr><td>13       </td><td>sum      </td></tr>\n",
       "\t<tr><td>14       </td><td>in_CEL   </td></tr>\n",
       "\t<tr><td>15       </td><td>in_T2all </td></tr>\n",
       "\t<tr><td>16       </td><td>in_NEL   </td></tr>\n",
       "\t<tr><td>17       </td><td>in_NEC   </td></tr>\n",
       "\t<tr><td>18       </td><td>in_ROI   </td></tr>\n",
       "</tbody>\n",
       "</table>\n"
      ],
      "text/latex": [
       "\\begin{tabular}{r|ll}\n",
       " index & colnames\\\\\n",
       "\\hline\n",
       "\t  1          & t\\_number \\\\\n",
       "\t  2        & roi.label\\\\\n",
       "\t  3        & nfse     \\\\\n",
       "\t  4        & nfl      \\\\\n",
       "\t  5        & nt1c     \\\\\n",
       "\t  6        & nt1v     \\\\\n",
       "\t  7        & tnum     \\\\\n",
       "\t  8        & sfnum    \\\\\n",
       "\t  9        & index    \\\\\n",
       "\t 10        & X.CEL    \\\\\n",
       "\t 11        & X.NEL    \\\\\n",
       "\t 12        & X.NEC    \\\\\n",
       "\t 13        & sum      \\\\\n",
       "\t 14          & in\\_CEL   \\\\\n",
       "\t 15          & in\\_T2all \\\\\n",
       "\t 16          & in\\_NEL   \\\\\n",
       "\t 17          & in\\_NEC   \\\\\n",
       "\t 18          & in\\_ROI   \\\\\n",
       "\\end{tabular}\n"
      ],
      "text/markdown": [
       "\n",
       "index | colnames | \n",
       "|---|---|---|---|---|---|---|---|---|---|---|---|---|---|---|---|---|---|\n",
       "|  1        | t_number  | \n",
       "|  2        | roi.label | \n",
       "|  3        | nfse      | \n",
       "|  4        | nfl       | \n",
       "|  5        | nt1c      | \n",
       "|  6        | nt1v      | \n",
       "|  7        | tnum      | \n",
       "|  8        | sfnum     | \n",
       "|  9        | index     | \n",
       "| 10        | X.CEL     | \n",
       "| 11        | X.NEL     | \n",
       "| 12        | X.NEC     | \n",
       "| 13        | sum       | \n",
       "| 14        | in_CEL    | \n",
       "| 15        | in_T2all  | \n",
       "| 16        | in_NEL    | \n",
       "| 17        | in_NEC    | \n",
       "| 18        | in_ROI    | \n",
       "\n",
       "\n"
      ],
      "text/plain": [
       "   index colnames \n",
       "1   1    t_number \n",
       "2   2    roi.label\n",
       "3   3    nfse     \n",
       "4   4    nfl      \n",
       "5   5    nt1c     \n",
       "6   6    nt1v     \n",
       "7   7    tnum     \n",
       "8   8    sfnum    \n",
       "9   9    index    \n",
       "10 10    X.CEL    \n",
       "11 11    X.NEL    \n",
       "12 12    X.NEC    \n",
       "13 13    sum      \n",
       "14 14    in_CEL   \n",
       "15 15    in_T2all \n",
       "16 16    in_NEL   \n",
       "17 17    in_NEC   \n",
       "18 18    in_ROI   "
      ]
     },
     "metadata": {},
     "output_type": "display_data"
    }
   ],
   "source": [
    "data.frame(index = 1:length(colnames(data)), colnames = colnames(data))"
   ]
  },
  {
   "cell_type": "code",
   "execution_count": 105,
   "metadata": {
    "collapsed": true
   },
   "outputs": [],
   "source": [
    "data_to_write = data[,c(1, 2, 10:18)]"
   ]
  },
  {
   "cell_type": "code",
   "execution_count": 106,
   "metadata": {
    "collapsed": true
   },
   "outputs": [],
   "source": [
    "write.csv(data_to_write, \"igt_stats_information_forBiopsyAnnot.csv\", row.names = F )"
   ]
  },
  {
   "cell_type": "code",
   "execution_count": null,
   "metadata": {
    "collapsed": true
   },
   "outputs": [],
   "source": []
  }
 ],
 "metadata": {
  "kernelspec": {
   "display_name": "R",
   "language": "R",
   "name": "ir"
  },
  "language_info": {
   "codemirror_mode": "r",
   "file_extension": ".r",
   "mimetype": "text/x-r-source",
   "name": "R",
   "pygments_lexer": "r",
   "version": "3.4.0"
  }
 },
 "nbformat": 4,
 "nbformat_minor": 2
}
