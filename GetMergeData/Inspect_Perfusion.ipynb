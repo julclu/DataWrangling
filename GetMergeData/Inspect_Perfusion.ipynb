{
 "cells": [
  {
   "cell_type": "markdown",
   "metadata": {
    "deletable": true,
    "editable": true
   },
   "source": [
    "We need to use this notebook to inspect the perfusion data & ensure that we correct for when nonlinear fitting failed. <br> <br> The first step we need to take is plotting nonlinear peak height against nonparametric peak height. <br> <br> We will begin with <b> NEW DATA: </b>"
   ]
  },
  {
   "cell_type": "code",
   "execution_count": 20,
   "metadata": {
    "collapsed": true,
    "deletable": true,
    "editable": true
   },
   "outputs": [],
   "source": [
    "options(repr.matrix.max.rows=600, repr.matrix.max.cols=200)"
   ]
  },
  {
   "cell_type": "code",
   "execution_count": 21,
   "metadata": {
    "collapsed": false,
    "deletable": true,
    "editable": true
   },
   "outputs": [
    {
     "ename": "ERROR",
     "evalue": "Error in setwd(\"July2018\"): cannot change working directory\n",
     "output_type": "error",
     "traceback": [
      "Error in setwd(\"July2018\"): cannot change working directory\nTraceback:\n",
      "1. setwd(\"July2018\")"
     ]
    }
   ],
   "source": [
    "setwd(\"July2018\")"
   ]
  },
  {
   "cell_type": "code",
   "execution_count": 22,
   "metadata": {
    "collapsed": false,
    "deletable": true,
    "editable": true
   },
   "outputs": [
    {
     "data": {
      "text/html": [
       "<ol class=list-inline>\n",
       "\t<li>'ajnr_bnum_tnum.95.csv'</li>\n",
       "\t<li>'anat.csv'</li>\n",
       "\t<li>'biopsies_less100more50inROIs_to_check.csv'</li>\n",
       "\t<li>'biopsies_less50more0inROIs_to_check.csv'</li>\n",
       "\t<li>'biopsies_less95more50inROIs_to_check.csv'</li>\n",
       "\t<li>'biopsies_outside_rois_to_check.csv'</li>\n",
       "\t<li>'bnum_tnum_forIGTstats_olddata.129.csv'</li>\n",
       "\t<li>'diffu1000.csv'</li>\n",
       "\t<li>'diffu2000.csv'</li>\n",
       "\t<li>'new.call_getigtstats.07062018.csv'</li>\n",
       "\t<li>'oldData_updatedColnames.csv'</li>\n",
       "\t<li>'olddata_updatedPerf_updatedColnames.csv'</li>\n",
       "\t<li>'out_callIGTstats_old.csv'</li>\n",
       "\t<li>'out_callIGTstats_rechgg.csv'</li>\n",
       "\t<li>'pathology_report_072018.csv'</li>\n",
       "\t<li>'pathology_report.csv'</li>\n",
       "\t<li>'perf.csv'</li>\n",
       "\t<li>'researchpath_withInVivo_oldP01_updatedPERF.apr21.csv'</li>\n",
       "\t<li>'researchPath_withInVivoData.csv'</li>\n",
       "\t<li>'spec.csv'</li>\n",
       "</ol>\n"
      ],
      "text/latex": [
       "\\begin{enumerate*}\n",
       "\\item 'ajnr\\_bnum\\_tnum.95.csv'\n",
       "\\item 'anat.csv'\n",
       "\\item 'biopsies\\_less100more50inROIs\\_to\\_check.csv'\n",
       "\\item 'biopsies\\_less50more0inROIs\\_to\\_check.csv'\n",
       "\\item 'biopsies\\_less95more50inROIs\\_to\\_check.csv'\n",
       "\\item 'biopsies\\_outside\\_rois\\_to\\_check.csv'\n",
       "\\item 'bnum\\_tnum\\_forIGTstats\\_olddata.129.csv'\n",
       "\\item 'diffu1000.csv'\n",
       "\\item 'diffu2000.csv'\n",
       "\\item 'new.call\\_getigtstats.07062018.csv'\n",
       "\\item 'oldData\\_updatedColnames.csv'\n",
       "\\item 'olddata\\_updatedPerf\\_updatedColnames.csv'\n",
       "\\item 'out\\_callIGTstats\\_old.csv'\n",
       "\\item 'out\\_callIGTstats\\_rechgg.csv'\n",
       "\\item 'pathology\\_report\\_072018.csv'\n",
       "\\item 'pathology\\_report.csv'\n",
       "\\item 'perf.csv'\n",
       "\\item 'researchpath\\_withInVivo\\_oldP01\\_updatedPERF.apr21.csv'\n",
       "\\item 'researchPath\\_withInVivoData.csv'\n",
       "\\item 'spec.csv'\n",
       "\\end{enumerate*}\n"
      ],
      "text/markdown": [
       "1. 'ajnr_bnum_tnum.95.csv'\n",
       "2. 'anat.csv'\n",
       "3. 'biopsies_less100more50inROIs_to_check.csv'\n",
       "4. 'biopsies_less50more0inROIs_to_check.csv'\n",
       "5. 'biopsies_less95more50inROIs_to_check.csv'\n",
       "6. 'biopsies_outside_rois_to_check.csv'\n",
       "7. 'bnum_tnum_forIGTstats_olddata.129.csv'\n",
       "8. 'diffu1000.csv'\n",
       "9. 'diffu2000.csv'\n",
       "10. 'new.call_getigtstats.07062018.csv'\n",
       "11. 'oldData_updatedColnames.csv'\n",
       "12. 'olddata_updatedPerf_updatedColnames.csv'\n",
       "13. 'out_callIGTstats_old.csv'\n",
       "14. 'out_callIGTstats_rechgg.csv'\n",
       "15. 'pathology_report_072018.csv'\n",
       "16. 'pathology_report.csv'\n",
       "17. 'perf.csv'\n",
       "18. 'researchpath_withInVivo_oldP01_updatedPERF.apr21.csv'\n",
       "19. 'researchPath_withInVivoData.csv'\n",
       "20. 'spec.csv'\n",
       "\n",
       "\n"
      ],
      "text/plain": [
       " [1] \"ajnr_bnum_tnum.95.csv\"                               \n",
       " [2] \"anat.csv\"                                            \n",
       " [3] \"biopsies_less100more50inROIs_to_check.csv\"           \n",
       " [4] \"biopsies_less50more0inROIs_to_check.csv\"             \n",
       " [5] \"biopsies_less95more50inROIs_to_check.csv\"            \n",
       " [6] \"biopsies_outside_rois_to_check.csv\"                  \n",
       " [7] \"bnum_tnum_forIGTstats_olddata.129.csv\"               \n",
       " [8] \"diffu1000.csv\"                                       \n",
       " [9] \"diffu2000.csv\"                                       \n",
       "[10] \"new.call_getigtstats.07062018.csv\"                   \n",
       "[11] \"oldData_updatedColnames.csv\"                         \n",
       "[12] \"olddata_updatedPerf_updatedColnames.csv\"             \n",
       "[13] \"out_callIGTstats_old.csv\"                            \n",
       "[14] \"out_callIGTstats_rechgg.csv\"                         \n",
       "[15] \"pathology_report_072018.csv\"                         \n",
       "[16] \"pathology_report.csv\"                                \n",
       "[17] \"perf.csv\"                                            \n",
       "[18] \"researchpath_withInVivo_oldP01_updatedPERF.apr21.csv\"\n",
       "[19] \"researchPath_withInVivoData.csv\"                     \n",
       "[20] \"spec.csv\"                                            "
      ]
     },
     "metadata": {},
     "output_type": "display_data"
    }
   ],
   "source": [
    "list.files()"
   ]
  },
  {
   "cell_type": "code",
   "execution_count": 23,
   "metadata": {
    "collapsed": true,
    "deletable": true,
    "editable": true
   },
   "outputs": [],
   "source": [
    "perf = read.csv(\"perf.csv\")"
   ]
  },
  {
   "cell_type": "code",
   "execution_count": 24,
   "metadata": {
    "collapsed": false,
    "deletable": true,
    "editable": true
   },
   "outputs": [
    {
     "data": {
      "text/html": [
       "<ol class=list-inline>\n",
       "\t<li>'bnum'</li>\n",
       "\t<li>'tnum'</li>\n",
       "\t<li>'vialid'</li>\n",
       "\t<li>'ph_nonlin'</li>\n",
       "\t<li>'phn_nonlin'</li>\n",
       "\t<li>'cbv_nonlin'</li>\n",
       "\t<li>'cbvn_nonlin'</li>\n",
       "\t<li>'recov_nonlin'</li>\n",
       "\t<li>'recovn_nonlin'</li>\n",
       "\t<li>'rf_nonlin'</li>\n",
       "\t<li>'rfn_nonlin'</li>\n",
       "\t<li>'ttp_nonlin'</li>\n",
       "\t<li>'fwhm_nonlin'</li>\n",
       "\t<li>'rsquare_nonlin'</li>\n",
       "\t<li>'ph_nonpar'</li>\n",
       "\t<li>'phn_nonpar'</li>\n",
       "\t<li>'pbs_nonpar'</li>\n",
       "\t<li>'pbsn_nonpar'</li>\n",
       "\t<li>'recov_nonpar'</li>\n",
       "\t<li>'recovn_nonpar'</li>\n",
       "\t<li>'acorr_nonpar'</li>\n",
       "</ol>\n"
      ],
      "text/latex": [
       "\\begin{enumerate*}\n",
       "\\item 'bnum'\n",
       "\\item 'tnum'\n",
       "\\item 'vialid'\n",
       "\\item 'ph\\_nonlin'\n",
       "\\item 'phn\\_nonlin'\n",
       "\\item 'cbv\\_nonlin'\n",
       "\\item 'cbvn\\_nonlin'\n",
       "\\item 'recov\\_nonlin'\n",
       "\\item 'recovn\\_nonlin'\n",
       "\\item 'rf\\_nonlin'\n",
       "\\item 'rfn\\_nonlin'\n",
       "\\item 'ttp\\_nonlin'\n",
       "\\item 'fwhm\\_nonlin'\n",
       "\\item 'rsquare\\_nonlin'\n",
       "\\item 'ph\\_nonpar'\n",
       "\\item 'phn\\_nonpar'\n",
       "\\item 'pbs\\_nonpar'\n",
       "\\item 'pbsn\\_nonpar'\n",
       "\\item 'recov\\_nonpar'\n",
       "\\item 'recovn\\_nonpar'\n",
       "\\item 'acorr\\_nonpar'\n",
       "\\end{enumerate*}\n"
      ],
      "text/markdown": [
       "1. 'bnum'\n",
       "2. 'tnum'\n",
       "3. 'vialid'\n",
       "4. 'ph_nonlin'\n",
       "5. 'phn_nonlin'\n",
       "6. 'cbv_nonlin'\n",
       "7. 'cbvn_nonlin'\n",
       "8. 'recov_nonlin'\n",
       "9. 'recovn_nonlin'\n",
       "10. 'rf_nonlin'\n",
       "11. 'rfn_nonlin'\n",
       "12. 'ttp_nonlin'\n",
       "13. 'fwhm_nonlin'\n",
       "14. 'rsquare_nonlin'\n",
       "15. 'ph_nonpar'\n",
       "16. 'phn_nonpar'\n",
       "17. 'pbs_nonpar'\n",
       "18. 'pbsn_nonpar'\n",
       "19. 'recov_nonpar'\n",
       "20. 'recovn_nonpar'\n",
       "21. 'acorr_nonpar'\n",
       "\n",
       "\n"
      ],
      "text/plain": [
       " [1] \"bnum\"           \"tnum\"           \"vialid\"         \"ph_nonlin\"     \n",
       " [5] \"phn_nonlin\"     \"cbv_nonlin\"     \"cbvn_nonlin\"    \"recov_nonlin\"  \n",
       " [9] \"recovn_nonlin\"  \"rf_nonlin\"      \"rfn_nonlin\"     \"ttp_nonlin\"    \n",
       "[13] \"fwhm_nonlin\"    \"rsquare_nonlin\" \"ph_nonpar\"      \"phn_nonpar\"    \n",
       "[17] \"pbs_nonpar\"     \"pbsn_nonpar\"    \"recov_nonpar\"   \"recovn_nonpar\" \n",
       "[21] \"acorr_nonpar\"  "
      ]
     },
     "metadata": {},
     "output_type": "display_data"
    }
   ],
   "source": [
    "colnames(perf)"
   ]
  },
  {
   "cell_type": "code",
   "execution_count": 25,
   "metadata": {
    "collapsed": false,
    "deletable": true,
    "editable": true
   },
   "outputs": [
    {
     "data": {
      "image/png": "[encoded data removed]",
      "text/plain": [
       "plot without title"
      ]
     },
     "metadata": {},
     "output_type": "display_data"
    }
   ],
   "source": [
    "plot(perf$phn_nonpar, perf$phn_nonlin)"
   ]
  },
  {
   "cell_type": "markdown",
   "metadata": {
    "deletable": true,
    "editable": true
   },
   "source": [
    "From this initial plot it is quite obvious where at least one fit has failed, let's find which & annotate that: "
   ]
  },
  {
   "cell_type": "markdown",
   "metadata": {
    "deletable": true,
    "editable": true
   },
   "source": [
    "## Extreme values: "
   ]
  },
  {
   "cell_type": "code",
   "execution_count": 26,
   "metadata": {
    "collapsed": true,
    "deletable": true,
    "editable": true
   },
   "outputs": [],
   "source": [
    "perf_annot = data.frame(perf, fit_failed = NA )"
   ]
  },
  {
   "cell_type": "code",
   "execution_count": 28,
   "metadata": {
    "collapsed": false,
    "deletable": true,
    "editable": true
   },
   "outputs": [
    {
     "data": {
      "text/html": [
       "<table>\n",
       "<thead><tr><th></th><th scope=col>bnum</th><th scope=col>tnum</th><th scope=col>vialid</th><th scope=col>ph_nonlin</th><th scope=col>phn_nonlin</th><th scope=col>cbv_nonlin</th><th scope=col>cbvn_nonlin</th><th scope=col>recov_nonlin</th><th scope=col>recovn_nonlin</th><th scope=col>rf_nonlin</th><th scope=col>rfn_nonlin</th><th scope=col>ttp_nonlin</th><th scope=col>fwhm_nonlin</th><th scope=col>rsquare_nonlin</th><th scope=col>ph_nonpar</th><th scope=col>phn_nonpar</th><th scope=col>pbs_nonpar</th><th scope=col>pbsn_nonpar</th><th scope=col>recov_nonpar</th><th scope=col>recovn_nonpar</th><th scope=col>acorr_nonpar</th><th scope=col>fit_failed</th></tr></thead>\n",
       "<tbody>\n",
       "\t<tr><th scope=row>127</th><td>b4266     </td><td>t11295    </td><td>48B97     </td><td>  76788.98</td><td>NA        </td><td>23145.38  </td><td>NA        </td><td>100       </td><td>-100.43   </td><td>0         </td><td>0         </td><td>43.57     </td><td>0.28      </td><td> -42.35   </td><td>398.34    </td><td>1.12      </td><td>0         </td><td>0         </td><td>100       </td><td>100       </td><td>0.03      </td><td>1         </td></tr>\n",
       "\t<tr><th scope=row>128</th><td>b4266     </td><td>t11295    </td><td>49B97     </td><td>   6063.48</td><td>NA        </td><td>23431.72  </td><td>NA        </td><td>100       </td><td>-100.43   </td><td>0         </td><td>0         </td><td>47.11     </td><td>3.56      </td><td>-233.72   </td><td>310.51    </td><td>0.88      </td><td>0         </td><td>0         </td><td>100       </td><td>100       </td><td>0.06      </td><td>1         </td></tr>\n",
       "\t<tr><th scope=row>132</th><td>b4273     </td><td>t11333    </td><td>56B97     </td><td>3001100.34</td><td>NA        </td><td>23504.97  </td><td>NA        </td><td>100       </td><td>-135.44   </td><td>0         </td><td>0         </td><td> 2.70     </td><td>0.01      </td><td> -69.44   </td><td>155.87    </td><td>0.55      </td><td>0         </td><td>0         </td><td>100       </td><td>100       </td><td>0.09      </td><td>1         </td></tr>\n",
       "</tbody>\n",
       "</table>\n"
      ],
      "text/latex": [
       "\\begin{tabular}{r|llllllllllllllllllllll}\n",
       "  & bnum & tnum & vialid & ph\\_nonlin & phn\\_nonlin & cbv\\_nonlin & cbvn\\_nonlin & recov\\_nonlin & recovn\\_nonlin & rf\\_nonlin & rfn\\_nonlin & ttp\\_nonlin & fwhm\\_nonlin & rsquare\\_nonlin & ph\\_nonpar & phn\\_nonpar & pbs\\_nonpar & pbsn\\_nonpar & recov\\_nonpar & recovn\\_nonpar & acorr\\_nonpar & fit\\_failed\\\\\n",
       "\\hline\n",
       "\t127 & b4266      & t11295     & 48B97      &   76788.98 & NA         & 23145.38   & NA         & 100        & -100.43    & 0          & 0          & 43.57      & 0.28       &  -42.35    & 398.34     & 1.12       & 0          & 0          & 100        & 100        & 0.03       & 1         \\\\\n",
       "\t128 & b4266      & t11295     & 49B97      &    6063.48 & NA         & 23431.72   & NA         & 100        & -100.43    & 0          & 0          & 47.11      & 3.56       & -233.72    & 310.51     & 0.88       & 0          & 0          & 100        & 100        & 0.06       & 1         \\\\\n",
       "\t132 & b4273      & t11333     & 56B97      & 3001100.34 & NA         & 23504.97   & NA         & 100        & -135.44    & 0          & 0          &  2.70      & 0.01       &  -69.44    & 155.87     & 0.55       & 0          & 0          & 100        & 100        & 0.09       & 1         \\\\\n",
       "\\end{tabular}\n"
      ],
      "text/markdown": [
       "\n",
       "| <!--/--> | bnum | tnum | vialid | ph_nonlin | phn_nonlin | cbv_nonlin | cbvn_nonlin | recov_nonlin | recovn_nonlin | rf_nonlin | rfn_nonlin | ttp_nonlin | fwhm_nonlin | rsquare_nonlin | ph_nonpar | phn_nonpar | pbs_nonpar | pbsn_nonpar | recov_nonpar | recovn_nonpar | acorr_nonpar | fit_failed | \n",
       "|---|---|---|\n",
       "| 127 | b4266      | t11295     | 48B97      |   76788.98 | NA         | 23145.38   | NA         | 100        | -100.43    | 0          | 0          | 43.57      | 0.28       |  -42.35    | 398.34     | 1.12       | 0          | 0          | 100        | 100        | 0.03       | 1          | \n",
       "| 128 | b4266      | t11295     | 49B97      |    6063.48 | NA         | 23431.72   | NA         | 100        | -100.43    | 0          | 0          | 47.11      | 3.56       | -233.72    | 310.51     | 0.88       | 0          | 0          | 100        | 100        | 0.06       | 1          | \n",
       "| 132 | b4273      | t11333     | 56B97      | 3001100.34 | NA         | 23504.97   | NA         | 100        | -135.44    | 0          | 0          |  2.70      | 0.01       |  -69.44    | 155.87     | 0.55       | 0          | 0          | 100        | 100        | 0.09       | 1          | \n",
       "\n",
       "\n"
      ],
      "text/plain": [
       "    bnum  tnum   vialid ph_nonlin  phn_nonlin cbv_nonlin cbvn_nonlin\n",
       "127 b4266 t11295 48B97    76788.98 NA         23145.38   NA         \n",
       "128 b4266 t11295 49B97     6063.48 NA         23431.72   NA         \n",
       "132 b4273 t11333 56B97  3001100.34 NA         23504.97   NA         \n",
       "    recov_nonlin recovn_nonlin rf_nonlin rfn_nonlin ttp_nonlin fwhm_nonlin\n",
       "127 100          -100.43       0         0          43.57      0.28       \n",
       "128 100          -100.43       0         0          47.11      3.56       \n",
       "132 100          -135.44       0         0           2.70      0.01       \n",
       "    rsquare_nonlin ph_nonpar phn_nonpar pbs_nonpar pbsn_nonpar recov_nonpar\n",
       "127  -42.35        398.34    1.12       0          0           100         \n",
       "128 -233.72        310.51    0.88       0          0           100         \n",
       "132  -69.44        155.87    0.55       0          0           100         \n",
       "    recovn_nonpar acorr_nonpar fit_failed\n",
       "127 100           0.03         1         \n",
       "128 100           0.06         1         \n",
       "132 100           0.09         1         "
      ]
     },
     "metadata": {},
     "output_type": "display_data"
    }
   ],
   "source": [
    "perf_annot$fit_failed[which(perf_annot$phn_nonlin>20)]=1\n",
    "perf_annot$cbvn_nonlin[which(perf_annot$phn_nonlin>20)]=NA\n",
    "perf_annot$phn_nonlin[which(perf_annot$phn_nonlin>20)]=NA\n",
    "\n",
    "perf_annot[which(perf_annot$fit_failed ==1),]\n"
   ]
  },
  {
   "cell_type": "code",
   "execution_count": 14,
   "metadata": {
    "collapsed": false,
    "deletable": true,
    "editable": true
   },
   "outputs": [
    {
     "data": {
      "image/png": "[encoded data removed]",
      "text/plain": [
       "plot without title"
      ]
     },
     "metadata": {},
     "output_type": "display_data"
    }
   ],
   "source": [
    "plot(perf_annot$phn_nonpar, perf_annot$phn_nonlin)\n"
   ]
  },
  {
   "cell_type": "code",
   "execution_count": 15,
   "metadata": {
    "collapsed": false,
    "deletable": true,
    "editable": true
   },
   "outputs": [
    {
     "data": {
      "text/html": [
       "<table>\n",
       "<thead><tr><th></th><th scope=col>bnum</th><th scope=col>tnum</th><th scope=col>vialid</th><th scope=col>ph_nonlin</th><th scope=col>phn_nonlin</th><th scope=col>cbv_nonlin</th><th scope=col>cbvn_nonlin</th><th scope=col>recov_nonlin</th><th scope=col>recovn_nonlin</th><th scope=col>rf_nonlin</th><th scope=col>rfn_nonlin</th><th scope=col>ttp_nonlin</th><th scope=col>fwhm_nonlin</th><th scope=col>rsquare_nonlin</th><th scope=col>ph_nonpar</th><th scope=col>phn_nonpar</th><th scope=col>pbs_nonpar</th><th scope=col>pbsn_nonpar</th><th scope=col>recov_nonpar</th><th scope=col>recovn_nonpar</th><th scope=col>acorr_nonpar</th></tr></thead>\n",
       "<tbody>\n",
       "\t<tr><th scope=row>127</th><td>b4266     </td><td>t11295    </td><td>48B97     </td><td>  76788.98</td><td>  325.90  </td><td>23145.38  </td><td> 2.29     </td><td>100       </td><td>-100.43   </td><td>0         </td><td>0         </td><td>43.57     </td><td>0.28      </td><td>-42.35    </td><td>398.34    </td><td>1.12      </td><td>0         </td><td>0         </td><td>100       </td><td>100       </td><td>0.03      </td></tr>\n",
       "\t<tr><th scope=row>132</th><td>b4273     </td><td>t11333    </td><td>56B97     </td><td>3001100.34</td><td>85693.93  </td><td>23504.97  </td><td>23.82     </td><td>100       </td><td>-135.44   </td><td>0         </td><td>0         </td><td> 2.70     </td><td>0.01      </td><td>-69.44    </td><td>155.87    </td><td>0.55      </td><td>0         </td><td>0         </td><td>100       </td><td>100       </td><td>0.09      </td></tr>\n",
       "</tbody>\n",
       "</table>\n"
      ],
      "text/latex": [
       "\\begin{tabular}{r|lllllllllllllllllllll}\n",
       "  & bnum & tnum & vialid & ph\\_nonlin & phn\\_nonlin & cbv\\_nonlin & cbvn\\_nonlin & recov\\_nonlin & recovn\\_nonlin & rf\\_nonlin & rfn\\_nonlin & ttp\\_nonlin & fwhm\\_nonlin & rsquare\\_nonlin & ph\\_nonpar & phn\\_nonpar & pbs\\_nonpar & pbsn\\_nonpar & recov\\_nonpar & recovn\\_nonpar & acorr\\_nonpar\\\\\n",
       "\\hline\n",
       "\t127 & b4266      & t11295     & 48B97      &   76788.98 &   325.90   & 23145.38   &  2.29      & 100        & -100.43    & 0          & 0          & 43.57      & 0.28       & -42.35     & 398.34     & 1.12       & 0          & 0          & 100        & 100        & 0.03      \\\\\n",
       "\t132 & b4273      & t11333     & 56B97      & 3001100.34 & 85693.93   & 23504.97   & 23.82      & 100        & -135.44    & 0          & 0          &  2.70      & 0.01       & -69.44     & 155.87     & 0.55       & 0          & 0          & 100        & 100        & 0.09      \\\\\n",
       "\\end{tabular}\n"
      ],
      "text/markdown": [
       "\n",
       "| <!--/--> | bnum | tnum | vialid | ph_nonlin | phn_nonlin | cbv_nonlin | cbvn_nonlin | recov_nonlin | recovn_nonlin | rf_nonlin | rfn_nonlin | ttp_nonlin | fwhm_nonlin | rsquare_nonlin | ph_nonpar | phn_nonpar | pbs_nonpar | pbsn_nonpar | recov_nonpar | recovn_nonpar | acorr_nonpar | \n",
       "|---|---|\n",
       "| 127 | b4266      | t11295     | 48B97      |   76788.98 |   325.90   | 23145.38   |  2.29      | 100        | -100.43    | 0          | 0          | 43.57      | 0.28       | -42.35     | 398.34     | 1.12       | 0          | 0          | 100        | 100        | 0.03       | \n",
       "| 132 | b4273      | t11333     | 56B97      | 3001100.34 | 85693.93   | 23504.97   | 23.82      | 100        | -135.44    | 0          | 0          |  2.70      | 0.01       | -69.44     | 155.87     | 0.55       | 0          | 0          | 100        | 100        | 0.09       | \n",
       "\n",
       "\n"
      ],
      "text/plain": [
       "    bnum  tnum   vialid ph_nonlin  phn_nonlin cbv_nonlin cbvn_nonlin\n",
       "127 b4266 t11295 48B97    76788.98   325.90   23145.38    2.29      \n",
       "132 b4273 t11333 56B97  3001100.34 85693.93   23504.97   23.82      \n",
       "    recov_nonlin recovn_nonlin rf_nonlin rfn_nonlin ttp_nonlin fwhm_nonlin\n",
       "127 100          -100.43       0         0          43.57      0.28       \n",
       "132 100          -135.44       0         0           2.70      0.01       \n",
       "    rsquare_nonlin ph_nonpar phn_nonpar pbs_nonpar pbsn_nonpar recov_nonpar\n",
       "127 -42.35         398.34    1.12       0          0           100         \n",
       "132 -69.44         155.87    0.55       0          0           100         \n",
       "    recovn_nonpar acorr_nonpar\n",
       "127 100           0.03        \n",
       "132 100           0.09        "
      ]
     },
     "metadata": {},
     "output_type": "display_data"
    }
   ],
   "source": [
    "perf[which(perf$phn_nonlin > 200),]"
   ]
  },
  {
   "cell_type": "markdown",
   "metadata": {
    "deletable": true,
    "editable": true
   },
   "source": [
    "Going to redo the quant for: \n",
    "1. t11295 48B97\n",
    "2. t11333 56B97"
   ]
  },
  {
   "cell_type": "code",
   "execution_count": 11,
   "metadata": {
    "collapsed": true,
    "deletable": true,
    "editable": true
   },
   "outputs": [],
   "source": [
    "## So I went to t11295 & ran: \n",
    "# make_perf.dev -f -b nonlinear t11295 --align r \n",
    "# perf_biopsy_all.x \n",
    "\n",
    "## Nothing changed; still strange fitting. Will just have to accept for now &\n",
    "## annotate as failing fit. "
   ]
  },
  {
   "cell_type": "code",
   "execution_count": 29,
   "metadata": {
    "collapsed": false,
    "deletable": true,
    "editable": true
   },
   "outputs": [
    {
     "data": {
      "image/png": "[encoded data removed]",
      "text/plain": [
       "plot without title"
      ]
     },
     "metadata": {},
     "output_type": "display_data"
    }
   ],
   "source": [
    "plot(perf_annot$phn_nonpar, perf_annot$cbvn_nonlin)\n",
    "## This looks good, now must move onto zero analysis."
   ]
  },
  {
   "cell_type": "code",
   "execution_count": null,
   "metadata": {
    "collapsed": true,
    "deletable": true,
    "editable": true
   },
   "outputs": [],
   "source": []
  },
  {
   "cell_type": "markdown",
   "metadata": {
    "deletable": true,
    "editable": true
   },
   "source": [
    "## Values of zero: "
   ]
  },
  {
   "cell_type": "code",
   "execution_count": 13,
   "metadata": {
    "collapsed": false,
    "deletable": true,
    "editable": true
   },
   "outputs": [
    {
     "data": {
      "text/html": [
       "<ol class=list-inline>\n",
       "\t<li>12</li>\n",
       "\t<li>16</li>\n",
       "\t<li>35</li>\n",
       "\t<li>65</li>\n",
       "\t<li>66</li>\n",
       "\t<li>69</li>\n",
       "\t<li>80</li>\n",
       "\t<li>103</li>\n",
       "\t<li>125</li>\n",
       "\t<li>143</li>\n",
       "\t<li>161</li>\n",
       "\t<li>167</li>\n",
       "\t<li>169</li>\n",
       "</ol>\n"
      ],
      "text/latex": [
       "\\begin{enumerate*}\n",
       "\\item 12\n",
       "\\item 16\n",
       "\\item 35\n",
       "\\item 65\n",
       "\\item 66\n",
       "\\item 69\n",
       "\\item 80\n",
       "\\item 103\n",
       "\\item 125\n",
       "\\item 143\n",
       "\\item 161\n",
       "\\item 167\n",
       "\\item 169\n",
       "\\end{enumerate*}\n"
      ],
      "text/markdown": [
       "1. 12\n",
       "2. 16\n",
       "3. 35\n",
       "4. 65\n",
       "5. 66\n",
       "6. 69\n",
       "7. 80\n",
       "8. 103\n",
       "9. 125\n",
       "10. 143\n",
       "11. 161\n",
       "12. 167\n",
       "13. 169\n",
       "\n",
       "\n"
      ],
      "text/plain": [
       " [1]  12  16  35  65  66  69  80 103 125 143 161 167 169"
      ]
     },
     "metadata": {},
     "output_type": "display_data"
    },
    {
     "data": {
      "text/html": [
       "<ol class=list-inline>\n",
       "\t<li>12</li>\n",
       "\t<li>16</li>\n",
       "\t<li>35</li>\n",
       "\t<li>65</li>\n",
       "\t<li>66</li>\n",
       "\t<li>69</li>\n",
       "\t<li>80</li>\n",
       "\t<li>103</li>\n",
       "\t<li>125</li>\n",
       "\t<li>143</li>\n",
       "\t<li>161</li>\n",
       "\t<li>167</li>\n",
       "\t<li>169</li>\n",
       "</ol>\n"
      ],
      "text/latex": [
       "\\begin{enumerate*}\n",
       "\\item 12\n",
       "\\item 16\n",
       "\\item 35\n",
       "\\item 65\n",
       "\\item 66\n",
       "\\item 69\n",
       "\\item 80\n",
       "\\item 103\n",
       "\\item 125\n",
       "\\item 143\n",
       "\\item 161\n",
       "\\item 167\n",
       "\\item 169\n",
       "\\end{enumerate*}\n"
      ],
      "text/markdown": [
       "1. 12\n",
       "2. 16\n",
       "3. 35\n",
       "4. 65\n",
       "5. 66\n",
       "6. 69\n",
       "7. 80\n",
       "8. 103\n",
       "9. 125\n",
       "10. 143\n",
       "11. 161\n",
       "12. 167\n",
       "13. 169\n",
       "\n",
       "\n"
      ],
      "text/plain": [
       " [1]  12  16  35  65  66  69  80 103 125 143 161 167 169"
      ]
     },
     "metadata": {},
     "output_type": "display_data"
    },
    {
     "data": {
      "text/html": [
       "<table>\n",
       "<thead><tr><th></th><th scope=col>bnum</th><th scope=col>tnum</th><th scope=col>vialid</th><th scope=col>ph_nonlin</th><th scope=col>phn_nonlin</th><th scope=col>cbv_nonlin</th><th scope=col>cbvn_nonlin</th><th scope=col>recov_nonlin</th><th scope=col>recovn_nonlin</th><th scope=col>rf_nonlin</th><th scope=col>rfn_nonlin</th><th scope=col>ttp_nonlin</th><th scope=col>fwhm_nonlin</th><th scope=col>rsquare_nonlin</th><th scope=col>ph_nonpar</th><th scope=col>phn_nonpar</th><th scope=col>pbs_nonpar</th><th scope=col>pbsn_nonpar</th><th scope=col>recov_nonpar</th><th scope=col>recovn_nonpar</th><th scope=col>acorr_nonpar</th><th scope=col>fit_failed</th></tr></thead>\n",
       "<tbody>\n",
       "\t<tr><th scope=row>12</th><td>b3526  </td><td>t8943  </td><td>67B63  </td><td>0      </td><td>0      </td><td>0      </td><td>0      </td><td>0      </td><td>0      </td><td>0      </td><td>0      </td><td>0      </td><td>0      </td><td>0      </td><td>0      </td><td>0      </td><td>0      </td><td>0      </td><td>0      </td><td>0      </td><td>0      </td><td>NA     </td></tr>\n",
       "\t<tr><th scope=row>16</th><td>b1837  </td><td>t8960  </td><td>88B63  </td><td>0      </td><td>0      </td><td>0      </td><td>0      </td><td>0      </td><td>0      </td><td>0      </td><td>0      </td><td>0      </td><td>0      </td><td>0      </td><td>0      </td><td>0      </td><td>0      </td><td>0      </td><td>0      </td><td>0      </td><td>0      </td><td>NA     </td></tr>\n",
       "\t<tr><th scope=row>35</th><td>b3577  </td><td>t9063  </td><td>82B64  </td><td>0      </td><td>0      </td><td>0      </td><td>0      </td><td>0      </td><td>0      </td><td>0      </td><td>0      </td><td>0      </td><td>0      </td><td>0      </td><td>0      </td><td>0      </td><td>0      </td><td>0      </td><td>0      </td><td>0      </td><td>0      </td><td>NA     </td></tr>\n",
       "\t<tr><th scope=row>65</th><td>b3704  </td><td>t9410  </td><td>41B76  </td><td>0      </td><td>0      </td><td>0      </td><td>0      </td><td>0      </td><td>0      </td><td>0      </td><td>0      </td><td>0      </td><td>0      </td><td>0      </td><td>0      </td><td>0      </td><td>0      </td><td>0      </td><td>0      </td><td>0      </td><td>0      </td><td>NA     </td></tr>\n",
       "\t<tr><th scope=row>66</th><td>b3739  </td><td>t9586  </td><td>10B77  </td><td>0      </td><td>0      </td><td>0      </td><td>0      </td><td>0      </td><td>0      </td><td>0      </td><td>0      </td><td>0      </td><td>0      </td><td>0      </td><td>0      </td><td>0      </td><td>0      </td><td>0      </td><td>0      </td><td>0      </td><td>0      </td><td>NA     </td></tr>\n",
       "\t<tr><th scope=row>69</th><td>b3739  </td><td>t9586  </td><td>13B77  </td><td>0      </td><td>0      </td><td>0      </td><td>0      </td><td>0      </td><td>0      </td><td>0      </td><td>0      </td><td>0      </td><td>0      </td><td>0      </td><td>0      </td><td>0      </td><td>0      </td><td>0      </td><td>0      </td><td>0      </td><td>0      </td><td>NA     </td></tr>\n",
       "\t<tr><th scope=row>80</th><td>b4080  </td><td>t10366 </td><td>4B82   </td><td>0      </td><td>0      </td><td>0      </td><td>0      </td><td>0      </td><td>0      </td><td>0      </td><td>0      </td><td>0      </td><td>0      </td><td>0      </td><td>0      </td><td>0      </td><td>0      </td><td>0      </td><td>0      </td><td>0      </td><td>0      </td><td>NA     </td></tr>\n",
       "\t<tr><th scope=row>103</th><td>b4205  </td><td>t10756 </td><td>69B91  </td><td>0      </td><td>0      </td><td>0      </td><td>0      </td><td>0      </td><td>0      </td><td>0      </td><td>0      </td><td>0      </td><td>0      </td><td>0      </td><td>0      </td><td>0      </td><td>0      </td><td>0      </td><td>0      </td><td>0      </td><td>0      </td><td>NA     </td></tr>\n",
       "\t<tr><th scope=row>125</th><td>b4260  </td><td>t11263 </td><td>44B97  </td><td>0      </td><td>0      </td><td>0      </td><td>0      </td><td>0      </td><td>0      </td><td>0      </td><td>0      </td><td>0      </td><td>0      </td><td>0      </td><td>0      </td><td>0      </td><td>0      </td><td>0      </td><td>0      </td><td>0      </td><td>0      </td><td>NA     </td></tr>\n",
       "\t<tr><th scope=row>143</th><td>b4295  </td><td>t11406 </td><td>34D3   </td><td>0      </td><td>0      </td><td>0      </td><td>0      </td><td>0      </td><td>0      </td><td>0      </td><td>0      </td><td>0      </td><td>0      </td><td>0      </td><td>0      </td><td>0      </td><td>0      </td><td>0      </td><td>0      </td><td>0      </td><td>0      </td><td>NA     </td></tr>\n",
       "\t<tr><th scope=row>161</th><td>b4314  </td><td>t11579 </td><td>42D1   </td><td>0      </td><td>0      </td><td>0      </td><td>0      </td><td>0      </td><td>0      </td><td>0      </td><td>0      </td><td>0      </td><td>0      </td><td>0      </td><td>0      </td><td>0      </td><td>0      </td><td>0      </td><td>0      </td><td>0      </td><td>0      </td><td>NA     </td></tr>\n",
       "\t<tr><th scope=row>167</th><td>b4133  </td><td>t11753 </td><td>11492A1</td><td>0      </td><td>0      </td><td>0      </td><td>0      </td><td>0      </td><td>0      </td><td>0      </td><td>0      </td><td>0      </td><td>0      </td><td>0      </td><td>0      </td><td>0      </td><td>0      </td><td>0      </td><td>0      </td><td>0      </td><td>0      </td><td>NA     </td></tr>\n",
       "\t<tr><th scope=row>169</th><td>b4133  </td><td>t11753 </td><td>11492C0</td><td>0      </td><td>0      </td><td>0      </td><td>0      </td><td>0      </td><td>0      </td><td>0      </td><td>0      </td><td>0      </td><td>0      </td><td>0      </td><td>0      </td><td>0      </td><td>0      </td><td>0      </td><td>0      </td><td>0      </td><td>0      </td><td>NA     </td></tr>\n",
       "</tbody>\n",
       "</table>\n"
      ],
      "text/latex": [
       "\\begin{tabular}{r|llllllllllllllllllllll}\n",
       "  & bnum & tnum & vialid & ph\\_nonlin & phn\\_nonlin & cbv\\_nonlin & cbvn\\_nonlin & recov\\_nonlin & recovn\\_nonlin & rf\\_nonlin & rfn\\_nonlin & ttp\\_nonlin & fwhm\\_nonlin & rsquare\\_nonlin & ph\\_nonpar & phn\\_nonpar & pbs\\_nonpar & pbsn\\_nonpar & recov\\_nonpar & recovn\\_nonpar & acorr\\_nonpar & fit\\_failed\\\\\n",
       "\\hline\n",
       "\t12 & b3526   & t8943   & 67B63   & 0       & 0       & 0       & 0       & 0       & 0       & 0       & 0       & 0       & 0       & 0       & 0       & 0       & 0       & 0       & 0       & 0       & 0       & NA     \\\\\n",
       "\t16 & b1837   & t8960   & 88B63   & 0       & 0       & 0       & 0       & 0       & 0       & 0       & 0       & 0       & 0       & 0       & 0       & 0       & 0       & 0       & 0       & 0       & 0       & NA     \\\\\n",
       "\t35 & b3577   & t9063   & 82B64   & 0       & 0       & 0       & 0       & 0       & 0       & 0       & 0       & 0       & 0       & 0       & 0       & 0       & 0       & 0       & 0       & 0       & 0       & NA     \\\\\n",
       "\t65 & b3704   & t9410   & 41B76   & 0       & 0       & 0       & 0       & 0       & 0       & 0       & 0       & 0       & 0       & 0       & 0       & 0       & 0       & 0       & 0       & 0       & 0       & NA     \\\\\n",
       "\t66 & b3739   & t9586   & 10B77   & 0       & 0       & 0       & 0       & 0       & 0       & 0       & 0       & 0       & 0       & 0       & 0       & 0       & 0       & 0       & 0       & 0       & 0       & NA     \\\\\n",
       "\t69 & b3739   & t9586   & 13B77   & 0       & 0       & 0       & 0       & 0       & 0       & 0       & 0       & 0       & 0       & 0       & 0       & 0       & 0       & 0       & 0       & 0       & 0       & NA     \\\\\n",
       "\t80 & b4080   & t10366  & 4B82    & 0       & 0       & 0       & 0       & 0       & 0       & 0       & 0       & 0       & 0       & 0       & 0       & 0       & 0       & 0       & 0       & 0       & 0       & NA     \\\\\n",
       "\t103 & b4205   & t10756  & 69B91   & 0       & 0       & 0       & 0       & 0       & 0       & 0       & 0       & 0       & 0       & 0       & 0       & 0       & 0       & 0       & 0       & 0       & 0       & NA     \\\\\n",
       "\t125 & b4260   & t11263  & 44B97   & 0       & 0       & 0       & 0       & 0       & 0       & 0       & 0       & 0       & 0       & 0       & 0       & 0       & 0       & 0       & 0       & 0       & 0       & NA     \\\\\n",
       "\t143 & b4295   & t11406  & 34D3    & 0       & 0       & 0       & 0       & 0       & 0       & 0       & 0       & 0       & 0       & 0       & 0       & 0       & 0       & 0       & 0       & 0       & 0       & NA     \\\\\n",
       "\t161 & b4314   & t11579  & 42D1    & 0       & 0       & 0       & 0       & 0       & 0       & 0       & 0       & 0       & 0       & 0       & 0       & 0       & 0       & 0       & 0       & 0       & 0       & NA     \\\\\n",
       "\t167 & b4133   & t11753  & 11492A1 & 0       & 0       & 0       & 0       & 0       & 0       & 0       & 0       & 0       & 0       & 0       & 0       & 0       & 0       & 0       & 0       & 0       & 0       & NA     \\\\\n",
       "\t169 & b4133   & t11753  & 11492C0 & 0       & 0       & 0       & 0       & 0       & 0       & 0       & 0       & 0       & 0       & 0       & 0       & 0       & 0       & 0       & 0       & 0       & 0       & NA     \\\\\n",
       "\\end{tabular}\n"
      ],
      "text/markdown": [
       "\n",
       "| <!--/--> | bnum | tnum | vialid | ph_nonlin | phn_nonlin | cbv_nonlin | cbvn_nonlin | recov_nonlin | recovn_nonlin | rf_nonlin | rfn_nonlin | ttp_nonlin | fwhm_nonlin | rsquare_nonlin | ph_nonpar | phn_nonpar | pbs_nonpar | pbsn_nonpar | recov_nonpar | recovn_nonpar | acorr_nonpar | fit_failed | \n",
       "|---|---|---|---|---|---|---|---|---|---|---|---|---|\n",
       "| 12 | b3526   | t8943   | 67B63   | 0       | 0       | 0       | 0       | 0       | 0       | 0       | 0       | 0       | 0       | 0       | 0       | 0       | 0       | 0       | 0       | 0       | 0       | NA      | \n",
       "| 16 | b1837   | t8960   | 88B63   | 0       | 0       | 0       | 0       | 0       | 0       | 0       | 0       | 0       | 0       | 0       | 0       | 0       | 0       | 0       | 0       | 0       | 0       | NA      | \n",
       "| 35 | b3577   | t9063   | 82B64   | 0       | 0       | 0       | 0       | 0       | 0       | 0       | 0       | 0       | 0       | 0       | 0       | 0       | 0       | 0       | 0       | 0       | 0       | NA      | \n",
       "| 65 | b3704   | t9410   | 41B76   | 0       | 0       | 0       | 0       | 0       | 0       | 0       | 0       | 0       | 0       | 0       | 0       | 0       | 0       | 0       | 0       | 0       | 0       | NA      | \n",
       "| 66 | b3739   | t9586   | 10B77   | 0       | 0       | 0       | 0       | 0       | 0       | 0       | 0       | 0       | 0       | 0       | 0       | 0       | 0       | 0       | 0       | 0       | 0       | NA      | \n",
       "| 69 | b3739   | t9586   | 13B77   | 0       | 0       | 0       | 0       | 0       | 0       | 0       | 0       | 0       | 0       | 0       | 0       | 0       | 0       | 0       | 0       | 0       | 0       | NA      | \n",
       "| 80 | b4080   | t10366  | 4B82    | 0       | 0       | 0       | 0       | 0       | 0       | 0       | 0       | 0       | 0       | 0       | 0       | 0       | 0       | 0       | 0       | 0       | 0       | NA      | \n",
       "| 103 | b4205   | t10756  | 69B91   | 0       | 0       | 0       | 0       | 0       | 0       | 0       | 0       | 0       | 0       | 0       | 0       | 0       | 0       | 0       | 0       | 0       | 0       | NA      | \n",
       "| 125 | b4260   | t11263  | 44B97   | 0       | 0       | 0       | 0       | 0       | 0       | 0       | 0       | 0       | 0       | 0       | 0       | 0       | 0       | 0       | 0       | 0       | 0       | NA      | \n",
       "| 143 | b4295   | t11406  | 34D3    | 0       | 0       | 0       | 0       | 0       | 0       | 0       | 0       | 0       | 0       | 0       | 0       | 0       | 0       | 0       | 0       | 0       | 0       | NA      | \n",
       "| 161 | b4314   | t11579  | 42D1    | 0       | 0       | 0       | 0       | 0       | 0       | 0       | 0       | 0       | 0       | 0       | 0       | 0       | 0       | 0       | 0       | 0       | 0       | NA      | \n",
       "| 167 | b4133   | t11753  | 11492A1 | 0       | 0       | 0       | 0       | 0       | 0       | 0       | 0       | 0       | 0       | 0       | 0       | 0       | 0       | 0       | 0       | 0       | 0       | NA      | \n",
       "| 169 | b4133   | t11753  | 11492C0 | 0       | 0       | 0       | 0       | 0       | 0       | 0       | 0       | 0       | 0       | 0       | 0       | 0       | 0       | 0       | 0       | 0       | 0       | NA      | \n",
       "\n",
       "\n"
      ],
      "text/plain": [
       "    bnum  tnum   vialid  ph_nonlin phn_nonlin cbv_nonlin cbvn_nonlin\n",
       "12  b3526 t8943  67B63   0         0          0          0          \n",
       "16  b1837 t8960  88B63   0         0          0          0          \n",
       "35  b3577 t9063  82B64   0         0          0          0          \n",
       "65  b3704 t9410  41B76   0         0          0          0          \n",
       "66  b3739 t9586  10B77   0         0          0          0          \n",
       "69  b3739 t9586  13B77   0         0          0          0          \n",
       "80  b4080 t10366 4B82    0         0          0          0          \n",
       "103 b4205 t10756 69B91   0         0          0          0          \n",
       "125 b4260 t11263 44B97   0         0          0          0          \n",
       "143 b4295 t11406 34D3    0         0          0          0          \n",
       "161 b4314 t11579 42D1    0         0          0          0          \n",
       "167 b4133 t11753 11492A1 0         0          0          0          \n",
       "169 b4133 t11753 11492C0 0         0          0          0          \n",
       "    recov_nonlin recovn_nonlin rf_nonlin rfn_nonlin ttp_nonlin fwhm_nonlin\n",
       "12  0            0             0         0          0          0          \n",
       "16  0            0             0         0          0          0          \n",
       "35  0            0             0         0          0          0          \n",
       "65  0            0             0         0          0          0          \n",
       "66  0            0             0         0          0          0          \n",
       "69  0            0             0         0          0          0          \n",
       "80  0            0             0         0          0          0          \n",
       "103 0            0             0         0          0          0          \n",
       "125 0            0             0         0          0          0          \n",
       "143 0            0             0         0          0          0          \n",
       "161 0            0             0         0          0          0          \n",
       "167 0            0             0         0          0          0          \n",
       "169 0            0             0         0          0          0          \n",
       "    rsquare_nonlin ph_nonpar phn_nonpar pbs_nonpar pbsn_nonpar recov_nonpar\n",
       "12  0              0         0          0          0           0           \n",
       "16  0              0         0          0          0           0           \n",
       "35  0              0         0          0          0           0           \n",
       "65  0              0         0          0          0           0           \n",
       "66  0              0         0          0          0           0           \n",
       "69  0              0         0          0          0           0           \n",
       "80  0              0         0          0          0           0           \n",
       "103 0              0         0          0          0           0           \n",
       "125 0              0         0          0          0           0           \n",
       "143 0              0         0          0          0           0           \n",
       "161 0              0         0          0          0           0           \n",
       "167 0              0         0          0          0           0           \n",
       "169 0              0         0          0          0           0           \n",
       "    recovn_nonpar acorr_nonpar fit_failed\n",
       "12  0             0            NA        \n",
       "16  0             0            NA        \n",
       "35  0             0            NA        \n",
       "65  0             0            NA        \n",
       "66  0             0            NA        \n",
       "69  0             0            NA        \n",
       "80  0             0            NA        \n",
       "103 0             0            NA        \n",
       "125 0             0            NA        \n",
       "143 0             0            NA        \n",
       "161 0             0            NA        \n",
       "167 0             0            NA        \n",
       "169 0             0            NA        "
      ]
     },
     "metadata": {},
     "output_type": "display_data"
    }
   ],
   "source": [
    "which(perf_annot$phn_nonpar==0)\n",
    "which(perf_annot$phn_nonlin==0)\n",
    "perf_annot[which(perf_annot$phn_nonlin==0),]\n"
   ]
  },
  {
   "cell_type": "markdown",
   "metadata": {
    "deletable": true,
    "editable": true
   },
   "source": [
    "1. t11406 - these curves were totally messed up so I am re-running make_perf.dev, hoping that might change something for the better. \n",
    "2. t11579 - re-running make_perf.dev, perhaps will quantify cbv \n",
    "3. t11753 - necrosis needs to be drawn, I believe it's right in the necrotic region... at least for A1; biopsy doesn't open in sivic for some reason. Seems to have worked, run perf_biopsy_all.x\n",
    "4. t11263 - seems like low perfusion throughout, wouldn't be surprised if it had zero perf params \n",
    "5. t9586 - seems like low perfusion throughout, wouldn't be surprised if it had zero perf params, but re-running everythign anyway \n",
    "6. t9063 - \n",
    "7. t8943 - \n",
    "8. t8960 - \n",
    "9. t9410 - \n",
    "10. t10366 - \n",
    "11. t10756 - \n"
   ]
  },
  {
   "cell_type": "code",
   "execution_count": 15,
   "metadata": {
    "collapsed": false,
    "deletable": true,
    "editable": true
   },
   "outputs": [
    {
     "data": {
      "image/png": "[encoded data removed]",
      "text/plain": [
       "plot without title"
      ]
     },
     "metadata": {},
     "output_type": "display_data"
    }
   ],
   "source": [
    "plot(perf_annot$phn_nonpar, perf_annot$cbvn_nonlin)"
   ]
  },
  {
   "cell_type": "code",
   "execution_count": 17,
   "metadata": {
    "collapsed": false,
    "deletable": true,
    "editable": true
   },
   "outputs": [
    {
     "data": {
      "text/html": [
       "<table>\n",
       "<thead><tr><th></th><th scope=col>bnum</th><th scope=col>tnum</th><th scope=col>vialid</th><th scope=col>ph_nonlin</th><th scope=col>phn_nonlin</th><th scope=col>cbv_nonlin</th><th scope=col>cbvn_nonlin</th><th scope=col>recov_nonlin</th><th scope=col>recovn_nonlin</th><th scope=col>rf_nonlin</th><th scope=col>rfn_nonlin</th><th scope=col>ttp_nonlin</th><th scope=col>fwhm_nonlin</th><th scope=col>rsquare_nonlin</th><th scope=col>ph_nonpar</th><th scope=col>phn_nonpar</th><th scope=col>pbs_nonpar</th><th scope=col>pbsn_nonpar</th><th scope=col>recov_nonpar</th><th scope=col>recovn_nonpar</th><th scope=col>acorr_nonpar</th><th scope=col>fit_failed</th></tr></thead>\n",
       "<tbody>\n",
       "\t<tr><th scope=row>46</th><td>b3605  </td><td>t9127  </td><td>14B71  </td><td>66.72  </td><td>0.36   </td><td>0.42   </td><td>0      </td><td>100    </td><td> 114.04</td><td>0      </td><td>0      </td><td>0.00   </td><td>0.00   </td><td>-0.90  </td><td> 64.00 </td><td>0.33   </td><td>0      </td><td>0      </td><td>100    </td><td>100    </td><td>0.18   </td><td>NA     </td></tr>\n",
       "\t<tr><th scope=row>131</th><td>b4273  </td><td>t11333 </td><td>55B97  </td><td>16.00  </td><td>0.46   </td><td>3.17   </td><td>0      </td><td>100    </td><td>-135.44</td><td>0      </td><td>0      </td><td>2.93   </td><td>0.16   </td><td>-4.18  </td><td>159.04 </td><td>0.56   </td><td>0      </td><td>0      </td><td>100    </td><td>100    </td><td>0.05   </td><td>NA     </td></tr>\n",
       "</tbody>\n",
       "</table>\n"
      ],
      "text/latex": [
       "\\begin{tabular}{r|llllllllllllllllllllll}\n",
       "  & bnum & tnum & vialid & ph\\_nonlin & phn\\_nonlin & cbv\\_nonlin & cbvn\\_nonlin & recov\\_nonlin & recovn\\_nonlin & rf\\_nonlin & rfn\\_nonlin & ttp\\_nonlin & fwhm\\_nonlin & rsquare\\_nonlin & ph\\_nonpar & phn\\_nonpar & pbs\\_nonpar & pbsn\\_nonpar & recov\\_nonpar & recovn\\_nonpar & acorr\\_nonpar & fit\\_failed\\\\\n",
       "\\hline\n",
       "\t46 & b3605   & t9127   & 14B71   & 66.72   & 0.36    & 0.42    & 0       & 100     &  114.04 & 0       & 0       & 0.00    & 0.00    & -0.90   &  64.00  & 0.33    & 0       & 0       & 100     & 100     & 0.18    & NA     \\\\\n",
       "\t131 & b4273   & t11333  & 55B97   & 16.00   & 0.46    & 3.17    & 0       & 100     & -135.44 & 0       & 0       & 2.93    & 0.16    & -4.18   & 159.04  & 0.56    & 0       & 0       & 100     & 100     & 0.05    & NA     \\\\\n",
       "\\end{tabular}\n"
      ],
      "text/markdown": [
       "\n",
       "| <!--/--> | bnum | tnum | vialid | ph_nonlin | phn_nonlin | cbv_nonlin | cbvn_nonlin | recov_nonlin | recovn_nonlin | rf_nonlin | rfn_nonlin | ttp_nonlin | fwhm_nonlin | rsquare_nonlin | ph_nonpar | phn_nonpar | pbs_nonpar | pbsn_nonpar | recov_nonpar | recovn_nonpar | acorr_nonpar | fit_failed | \n",
       "|---|---|\n",
       "| 46 | b3605   | t9127   | 14B71   | 66.72   | 0.36    | 0.42    | 0       | 100     |  114.04 | 0       | 0       | 0.00    | 0.00    | -0.90   |  64.00  | 0.33    | 0       | 0       | 100     | 100     | 0.18    | NA      | \n",
       "| 131 | b4273   | t11333  | 55B97   | 16.00   | 0.46    | 3.17    | 0       | 100     | -135.44 | 0       | 0       | 2.93    | 0.16    | -4.18   | 159.04  | 0.56    | 0       | 0       | 100     | 100     | 0.05    | NA      | \n",
       "\n",
       "\n"
      ],
      "text/plain": [
       "    bnum  tnum   vialid ph_nonlin phn_nonlin cbv_nonlin cbvn_nonlin\n",
       "46  b3605 t9127  14B71  66.72     0.36       0.42       0          \n",
       "131 b4273 t11333 55B97  16.00     0.46       3.17       0          \n",
       "    recov_nonlin recovn_nonlin rf_nonlin rfn_nonlin ttp_nonlin fwhm_nonlin\n",
       "46  100           114.04       0         0          0.00       0.00       \n",
       "131 100          -135.44       0         0          2.93       0.16       \n",
       "    rsquare_nonlin ph_nonpar phn_nonpar pbs_nonpar pbsn_nonpar recov_nonpar\n",
       "46  -0.90           64.00    0.33       0          0           100         \n",
       "131 -4.18          159.04    0.56       0          0           100         \n",
       "    recovn_nonpar acorr_nonpar fit_failed\n",
       "46  100           0.18         NA        \n",
       "131 100           0.05         NA        "
      ]
     },
     "metadata": {},
     "output_type": "display_data"
    }
   ],
   "source": [
    "perf_annot[which(perf_annot$phn_nonpar !=0  & perf_annot$cbvn_nonlin ==0),]"
   ]
  },
  {
   "cell_type": "code",
   "execution_count": 17,
   "metadata": {
    "collapsed": true,
    "deletable": true,
    "editable": true
   },
   "outputs": [],
   "source": [
    "perf_annot$fit_failed[which(perf_annot$phn_nonpar ==0 & perf_annot$cbvn_nonlin ==0 & perf_annot$phn_nonlin ==0)]=2 "
   ]
  },
  {
   "cell_type": "code",
   "execution_count": 32,
   "metadata": {
    "collapsed": false
   },
   "outputs": [],
   "source": [
    "perf_annot[which(perf_annot$phn_nonlin==0),]$fit_failed = 2"
   ]
  },
  {
   "cell_type": "code",
   "execution_count": 37,
   "metadata": {
    "collapsed": false
   },
   "outputs": [],
   "source": [
    "fit_failed = perf_annot[which(perf_annot$fit_failed > 0),]"
   ]
  },
  {
   "cell_type": "code",
   "execution_count": 38,
   "metadata": {
    "collapsed": true
   },
   "outputs": [],
   "source": [
    "write.csv(fit_failed, \"new_data_fit_failed_to_janine.csv\", row.names = F)"
   ]
  },
  {
   "cell_type": "markdown",
   "metadata": {},
   "source": [
    "I just realized that I can use batch_perf_biopsy.x to write out reasons why these things might fail, let's use the bnum tnum of fit_failed to run batch_perf_biopsy.x"
   ]
  },
  {
   "cell_type": "code",
   "execution_count": 50,
   "metadata": {
    "collapsed": false
   },
   "outputs": [
    {
     "data": {
      "text/html": [
       "<ol class=list-inline>\n",
       "\t<li>'ajnr_bnum_tnum.95.csv'</li>\n",
       "\t<li>'anat.csv'</li>\n",
       "\t<li>'biopsies_less100more50inROIs_to_check.csv'</li>\n",
       "\t<li>'biopsies_less50more0inROIs_to_check.csv'</li>\n",
       "\t<li>'biopsies_less95more50inROIs_to_check.csv'</li>\n",
       "\t<li>'biopsies_outside_rois_to_check.csv'</li>\n",
       "\t<li>'bnum_tnum_forIGTstats_olddata.129.csv'</li>\n",
       "\t<li>'bnum_tnum_newdata_fit_failed_for_batch_perf_biopsy.csv'</li>\n",
       "\t<li>'diffu1000.csv'</li>\n",
       "\t<li>'diffu2000.csv'</li>\n",
       "\t<li>'new_data_fit_failed_to_janine.csv'</li>\n",
       "\t<li>'new.call_getigtstats.07062018.csv'</li>\n",
       "\t<li>'oldData_updatedColnames.csv'</li>\n",
       "\t<li>'olddata_updatedPerf_updatedColnames.csv'</li>\n",
       "\t<li>'out_callIGTstats_old.csv'</li>\n",
       "\t<li>'out_callIGTstats_rechgg.csv'</li>\n",
       "\t<li>'pathology_report_072018.csv'</li>\n",
       "\t<li>'pathology_report.csv'</li>\n",
       "\t<li>'perf.csv'</li>\n",
       "\t<li>'researchpath_withInVivo_oldP01_updatedPERF.apr21.csv'</li>\n",
       "\t<li>'researchPath_withInVivoData.csv'</li>\n",
       "\t<li>'spec.csv'</li>\n",
       "</ol>\n"
      ],
      "text/latex": [
       "\\begin{enumerate*}\n",
       "\\item 'ajnr\\_bnum\\_tnum.95.csv'\n",
       "\\item 'anat.csv'\n",
       "\\item 'biopsies\\_less100more50inROIs\\_to\\_check.csv'\n",
       "\\item 'biopsies\\_less50more0inROIs\\_to\\_check.csv'\n",
       "\\item 'biopsies\\_less95more50inROIs\\_to\\_check.csv'\n",
       "\\item 'biopsies\\_outside\\_rois\\_to\\_check.csv'\n",
       "\\item 'bnum\\_tnum\\_forIGTstats\\_olddata.129.csv'\n",
       "\\item 'bnum\\_tnum\\_newdata\\_fit\\_failed\\_for\\_batch\\_perf\\_biopsy.csv'\n",
       "\\item 'diffu1000.csv'\n",
       "\\item 'diffu2000.csv'\n",
       "\\item 'new\\_data\\_fit\\_failed\\_to\\_janine.csv'\n",
       "\\item 'new.call\\_getigtstats.07062018.csv'\n",
       "\\item 'oldData\\_updatedColnames.csv'\n",
       "\\item 'olddata\\_updatedPerf\\_updatedColnames.csv'\n",
       "\\item 'out\\_callIGTstats\\_old.csv'\n",
       "\\item 'out\\_callIGTstats\\_rechgg.csv'\n",
       "\\item 'pathology\\_report\\_072018.csv'\n",
       "\\item 'pathology\\_report.csv'\n",
       "\\item 'perf.csv'\n",
       "\\item 'researchpath\\_withInVivo\\_oldP01\\_updatedPERF.apr21.csv'\n",
       "\\item 'researchPath\\_withInVivoData.csv'\n",
       "\\item 'spec.csv'\n",
       "\\end{enumerate*}\n"
      ],
      "text/markdown": [
       "1. 'ajnr_bnum_tnum.95.csv'\n",
       "2. 'anat.csv'\n",
       "3. 'biopsies_less100more50inROIs_to_check.csv'\n",
       "4. 'biopsies_less50more0inROIs_to_check.csv'\n",
       "5. 'biopsies_less95more50inROIs_to_check.csv'\n",
       "6. 'biopsies_outside_rois_to_check.csv'\n",
       "7. 'bnum_tnum_forIGTstats_olddata.129.csv'\n",
       "8. 'bnum_tnum_newdata_fit_failed_for_batch_perf_biopsy.csv'\n",
       "9. 'diffu1000.csv'\n",
       "10. 'diffu2000.csv'\n",
       "11. 'new_data_fit_failed_to_janine.csv'\n",
       "12. 'new.call_getigtstats.07062018.csv'\n",
       "13. 'oldData_updatedColnames.csv'\n",
       "14. 'olddata_updatedPerf_updatedColnames.csv'\n",
       "15. 'out_callIGTstats_old.csv'\n",
       "16. 'out_callIGTstats_rechgg.csv'\n",
       "17. 'pathology_report_072018.csv'\n",
       "18. 'pathology_report.csv'\n",
       "19. 'perf.csv'\n",
       "20. 'researchpath_withInVivo_oldP01_updatedPERF.apr21.csv'\n",
       "21. 'researchPath_withInVivoData.csv'\n",
       "22. 'spec.csv'\n",
       "\n",
       "\n"
      ],
      "text/plain": [
       " [1] \"ajnr_bnum_tnum.95.csv\"                                 \n",
       " [2] \"anat.csv\"                                              \n",
       " [3] \"biopsies_less100more50inROIs_to_check.csv\"             \n",
       " [4] \"biopsies_less50more0inROIs_to_check.csv\"               \n",
       " [5] \"biopsies_less95more50inROIs_to_check.csv\"              \n",
       " [6] \"biopsies_outside_rois_to_check.csv\"                    \n",
       " [7] \"bnum_tnum_forIGTstats_olddata.129.csv\"                 \n",
       " [8] \"bnum_tnum_newdata_fit_failed_for_batch_perf_biopsy.csv\"\n",
       " [9] \"diffu1000.csv\"                                         \n",
       "[10] \"diffu2000.csv\"                                         \n",
       "[11] \"new_data_fit_failed_to_janine.csv\"                     \n",
       "[12] \"new.call_getigtstats.07062018.csv\"                     \n",
       "[13] \"oldData_updatedColnames.csv\"                           \n",
       "[14] \"olddata_updatedPerf_updatedColnames.csv\"               \n",
       "[15] \"out_callIGTstats_old.csv\"                              \n",
       "[16] \"out_callIGTstats_rechgg.csv\"                           \n",
       "[17] \"pathology_report_072018.csv\"                           \n",
       "[18] \"pathology_report.csv\"                                  \n",
       "[19] \"perf.csv\"                                              \n",
       "[20] \"researchpath_withInVivo_oldP01_updatedPERF.apr21.csv\"  \n",
       "[21] \"researchPath_withInVivoData.csv\"                       \n",
       "[22] \"spec.csv\"                                              "
      ]
     },
     "metadata": {},
     "output_type": "display_data"
    }
   ],
   "source": [
    "list.files()"
   ]
  },
  {
   "cell_type": "code",
   "execution_count": null,
   "metadata": {
    "collapsed": true
   },
   "outputs": [],
   "source": [
    "## batch_perf_biopsy.x bnum_tnum_newdata_fit_failed_for_batch_perf_biopsy.16.csv out_batch_perf_biopsy.16.csv"
   ]
  },
  {
   "cell_type": "code",
   "execution_count": null,
   "metadata": {
    "collapsed": true
   },
   "outputs": [],
   "source": []
  },
  {
   "cell_type": "markdown",
   "metadata": {},
   "source": [
    "# Old data: where did perfusion fail? "
   ]
  },
  {
   "cell_type": "code",
   "execution_count": 41,
   "metadata": {
    "collapsed": false
   },
   "outputs": [
    {
     "data": {
      "text/html": [
       "<ol class=list-inline>\n",
       "\t<li>'ajnr_bnum_tnum.95.csv'</li>\n",
       "\t<li>'anat.csv'</li>\n",
       "\t<li>'biopsies_less100more50inROIs_to_check.csv'</li>\n",
       "\t<li>'biopsies_less50more0inROIs_to_check.csv'</li>\n",
       "\t<li>'biopsies_less95more50inROIs_to_check.csv'</li>\n",
       "\t<li>'biopsies_outside_rois_to_check.csv'</li>\n",
       "\t<li>'bnum_tnum_forIGTstats_olddata.129.csv'</li>\n",
       "\t<li>'diffu1000.csv'</li>\n",
       "\t<li>'diffu2000.csv'</li>\n",
       "\t<li>'new_data_fit_failed_to_janine.csv'</li>\n",
       "\t<li>'new.call_getigtstats.07062018.csv'</li>\n",
       "\t<li>'oldData_updatedColnames.csv'</li>\n",
       "\t<li>'olddata_updatedPerf_updatedColnames.csv'</li>\n",
       "\t<li>'out_callIGTstats_old.csv'</li>\n",
       "\t<li>'out_callIGTstats_rechgg.csv'</li>\n",
       "\t<li>'pathology_report_072018.csv'</li>\n",
       "\t<li>'pathology_report.csv'</li>\n",
       "\t<li>'perf.csv'</li>\n",
       "\t<li>'researchpath_withInVivo_oldP01_updatedPERF.apr21.csv'</li>\n",
       "\t<li>'researchPath_withInVivoData.csv'</li>\n",
       "\t<li>'spec.csv'</li>\n",
       "</ol>\n"
      ],
      "text/latex": [
       "\\begin{enumerate*}\n",
       "\\item 'ajnr\\_bnum\\_tnum.95.csv'\n",
       "\\item 'anat.csv'\n",
       "\\item 'biopsies\\_less100more50inROIs\\_to\\_check.csv'\n",
       "\\item 'biopsies\\_less50more0inROIs\\_to\\_check.csv'\n",
       "\\item 'biopsies\\_less95more50inROIs\\_to\\_check.csv'\n",
       "\\item 'biopsies\\_outside\\_rois\\_to\\_check.csv'\n",
       "\\item 'bnum\\_tnum\\_forIGTstats\\_olddata.129.csv'\n",
       "\\item 'diffu1000.csv'\n",
       "\\item 'diffu2000.csv'\n",
       "\\item 'new\\_data\\_fit\\_failed\\_to\\_janine.csv'\n",
       "\\item 'new.call\\_getigtstats.07062018.csv'\n",
       "\\item 'oldData\\_updatedColnames.csv'\n",
       "\\item 'olddata\\_updatedPerf\\_updatedColnames.csv'\n",
       "\\item 'out\\_callIGTstats\\_old.csv'\n",
       "\\item 'out\\_callIGTstats\\_rechgg.csv'\n",
       "\\item 'pathology\\_report\\_072018.csv'\n",
       "\\item 'pathology\\_report.csv'\n",
       "\\item 'perf.csv'\n",
       "\\item 'researchpath\\_withInVivo\\_oldP01\\_updatedPERF.apr21.csv'\n",
       "\\item 'researchPath\\_withInVivoData.csv'\n",
       "\\item 'spec.csv'\n",
       "\\end{enumerate*}\n"
      ],
      "text/markdown": [
       "1. 'ajnr_bnum_tnum.95.csv'\n",
       "2. 'anat.csv'\n",
       "3. 'biopsies_less100more50inROIs_to_check.csv'\n",
       "4. 'biopsies_less50more0inROIs_to_check.csv'\n",
       "5. 'biopsies_less95more50inROIs_to_check.csv'\n",
       "6. 'biopsies_outside_rois_to_check.csv'\n",
       "7. 'bnum_tnum_forIGTstats_olddata.129.csv'\n",
       "8. 'diffu1000.csv'\n",
       "9. 'diffu2000.csv'\n",
       "10. 'new_data_fit_failed_to_janine.csv'\n",
       "11. 'new.call_getigtstats.07062018.csv'\n",
       "12. 'oldData_updatedColnames.csv'\n",
       "13. 'olddata_updatedPerf_updatedColnames.csv'\n",
       "14. 'out_callIGTstats_old.csv'\n",
       "15. 'out_callIGTstats_rechgg.csv'\n",
       "16. 'pathology_report_072018.csv'\n",
       "17. 'pathology_report.csv'\n",
       "18. 'perf.csv'\n",
       "19. 'researchpath_withInVivo_oldP01_updatedPERF.apr21.csv'\n",
       "20. 'researchPath_withInVivoData.csv'\n",
       "21. 'spec.csv'\n",
       "\n",
       "\n"
      ],
      "text/plain": [
       " [1] \"ajnr_bnum_tnum.95.csv\"                               \n",
       " [2] \"anat.csv\"                                            \n",
       " [3] \"biopsies_less100more50inROIs_to_check.csv\"           \n",
       " [4] \"biopsies_less50more0inROIs_to_check.csv\"             \n",
       " [5] \"biopsies_less95more50inROIs_to_check.csv\"            \n",
       " [6] \"biopsies_outside_rois_to_check.csv\"                  \n",
       " [7] \"bnum_tnum_forIGTstats_olddata.129.csv\"               \n",
       " [8] \"diffu1000.csv\"                                       \n",
       " [9] \"diffu2000.csv\"                                       \n",
       "[10] \"new_data_fit_failed_to_janine.csv\"                   \n",
       "[11] \"new.call_getigtstats.07062018.csv\"                   \n",
       "[12] \"oldData_updatedColnames.csv\"                         \n",
       "[13] \"olddata_updatedPerf_updatedColnames.csv\"             \n",
       "[14] \"out_callIGTstats_old.csv\"                            \n",
       "[15] \"out_callIGTstats_rechgg.csv\"                         \n",
       "[16] \"pathology_report_072018.csv\"                         \n",
       "[17] \"pathology_report.csv\"                                \n",
       "[18] \"perf.csv\"                                            \n",
       "[19] \"researchpath_withInVivo_oldP01_updatedPERF.apr21.csv\"\n",
       "[20] \"researchPath_withInVivoData.csv\"                     \n",
       "[21] \"spec.csv\"                                            "
      ]
     },
     "metadata": {},
     "output_type": "display_data"
    }
   ],
   "source": [
    "list.files()"
   ]
  },
  {
   "cell_type": "code",
   "execution_count": 44,
   "metadata": {
    "collapsed": false
   },
   "outputs": [],
   "source": [
    "old.data = read.csv(\"researchpath_withInVivo_oldP01_updatedPERF.apr21.csv\")"
   ]
  },
  {
   "cell_type": "code",
   "execution_count": 46,
   "metadata": {
    "collapsed": false
   },
   "outputs": [
    {
     "data": {
      "text/html": [
       "<table>\n",
       "<thead><tr><th scope=col>X</th><th scope=col>vial_id</th><th scope=col>b_number</th><th scope=col>t_number</th><th scope=col>sf_number</th><th scope=col>current_scan_date</th><th scope=col>current_surgery_date</th><th scope=col>current_hist_grade</th><th scope=col>current_hist_type</th><th scope=col>tumor_cell_evaluation</th><th scope=col>necrosis</th><th scope=col>f8_delicate</th><th scope=col>f8_simple</th><th scope=col>f8_complex</th><th scope=col>mib_1</th><th scope=col>bx_pure_treatment_effect</th><th scope=col>nfse</th><th scope=col>nfl</th><th scope=col>nt1v</th><th scope=col>nt1c</th><th scope=col>nadc</th><th scope=col>nfa</th><th scope=col>nev1</th><th scope=col>nev2</th><th scope=col>nev3</th><th scope=col>nevrad</th><th scope=col>nadc.1</th><th scope=col>nfa.1</th><th scope=col>nev1.1</th><th scope=col>nev2.1</th><th scope=col>nev3.1</th><th scope=col>nevrad.1</th><th scope=col>phn_nlin</th><th scope=col>cbvn_nlin</th><th scope=col>recovn_nlin</th><th scope=col>rfn_nlin</th><th scope=col>phn_npar</th><th scope=col>recovn_npar</th><th scope=col>cni</th><th scope=col>ccri</th><th scope=col>crni</th><th scope=col>ncho</th><th scope=col>ncre</th><th scope=col>nnaa</th><th scope=col>nlip</th><th scope=col>nlac</th><th scope=col>nxsch</th><th scope=col>nxscc</th><th scope=col>nxscr</th></tr></thead>\n",
       "<tbody>\n",
       "\t<tr><td>17                 </td><td>10B28              </td><td>2723               </td><td>6369               </td><td>8122               </td><td>9/13/09            </td><td>9/14/09            </td><td>Grade IV           </td><td>Glioblastoma       </td><td>0                  </td><td>0                  </td><td>2                  </td><td>1                  </td><td>0                  </td><td> 0.82              </td><td>t                  </td><td>2.10               </td><td>1.84               </td><td>0.84               </td><td>1.20               </td><td>1.31               </td><td>0.75               </td><td>1.19               </td><td>1.28               </td><td>1.58               </td><td>1.45               </td><td>  NA               </td><td>  NA               </td><td>  NA               </td><td>  NA               </td><td>  NA               </td><td>  NA               </td><td>0.81               </td><td>0.66               </td><td>103.17             </td><td>1.055              </td><td>0.79               </td><td>100.00             </td><td>4.98               </td><td>3.28               </td><td>0.24               </td><td>1.65               </td><td>0.53               </td><td>0.41               </td><td>-0.01              </td><td>0.28               </td><td>1.34               </td><td>1.28               </td><td>0.06               </td></tr>\n",
       "\t<tr><td>18                 </td><td>11B16              </td><td>2312               </td><td>5317               </td><td>7679               </td><td>5/4/08             </td><td>5/4/08             </td><td>Grade IV           </td><td>Glioblastoma       </td><td>2                  </td><td>1                  </td><td>2                  </td><td>3                  </td><td>0                  </td><td> 3.31              </td><td>f                  </td><td>2.27               </td><td>1.44               </td><td>0.78               </td><td>1.88               </td><td>1.92               </td><td>0.68               </td><td>1.63               </td><td>1.93               </td><td>2.34               </td><td>2.14               </td><td>1.91               </td><td>1.03               </td><td>1.91               </td><td>1.87               </td><td>1.88               </td><td>1.92               </td><td>2.25               </td><td>2.24               </td><td> 97.69             </td><td>1.158              </td><td>2.25               </td><td> 98.51             </td><td>1.56               </td><td>0.30               </td><td>0.75               </td><td>0.86               </td><td>0.84               </td><td>0.46               </td><td> 0.61              </td><td>0.47               </td><td>0.51               </td><td>0.16               </td><td>0.41               </td></tr>\n",
       "\t<tr><td>19                 </td><td>11B35              </td><td>2901               </td><td>8089               </td><td>8403               </td><td>6/25/10            </td><td>6/30/10            </td><td>Grade IV           </td><td>Glioblastoma       </td><td>3                  </td><td>2                  </td><td>1                  </td><td>0                  </td><td>0                  </td><td>   NA              </td><td>f                  </td><td>  NA               </td><td>  NA               </td><td>  NA               </td><td>  NA               </td><td>  NA               </td><td>  NA               </td><td>  NA               </td><td>  NA               </td><td>  NA               </td><td>  NA               </td><td>  NA               </td><td>  NA               </td><td>  NA               </td><td>  NA               </td><td>  NA               </td><td>  NA               </td><td>biopsymask-nonexist</td><td>  NA               </td><td>    NA             </td><td>   NA              </td><td>  NA               </td><td>    NA             </td><td>  NA               </td><td>  NA               </td><td>  NA               </td><td>  NA               </td><td>  NA               </td><td>  NA               </td><td>   NA              </td><td>  NA               </td><td>  NA               </td><td>  NA               </td><td>  NA               </td></tr>\n",
       "\t<tr><td>20                 </td><td>11B40              </td><td>2474               </td><td>7408               </td><td>8701               </td><td>3/23/11            </td><td>3/24/11            </td><td>Grade IV           </td><td>Glioblastoma       </td><td>                   </td><td>                   </td><td>                   </td><td>                   </td><td>                   </td><td>   NA              </td><td>                   </td><td>1.84               </td><td>1.13               </td><td>0.79               </td><td>0.82               </td><td>1.71               </td><td>0.50               </td><td>1.35               </td><td>1.79               </td><td>2.47               </td><td>2.12               </td><td>1.71               </td><td>0.68               </td><td>1.43               </td><td>1.72               </td><td>2.02               </td><td>1.96               </td><td>1.28               </td><td>1.23               </td><td>112.64             </td><td>0.000              </td><td>1.21               </td><td>100.00             </td><td>2.48               </td><td>0.22               </td><td>1.66               </td><td>0.88               </td><td>0.81               </td><td>0.37               </td><td> 0.24              </td><td>0.32               </td><td>0.53               </td><td>0.19               </td><td>0.39               </td></tr>\n",
       "\t<tr><td>21                 </td><td>11B43              </td><td>3169               </td><td>7540               </td><td>8796               </td><td>6/19/11            </td><td>6/20/11            </td><td>Grade IV           </td><td>Glioblastoma       </td><td>2                  </td><td>0                  </td><td>3                  </td><td>0                  </td><td>0                  </td><td>17.00              </td><td>f                  </td><td>2.35               </td><td>1.97               </td><td>0.78               </td><td>0.76               </td><td>1.34               </td><td>0.68               </td><td>1.13               </td><td>1.34               </td><td>1.63               </td><td>1.50               </td><td>  NA               </td><td>  NA               </td><td>  NA               </td><td>  NA               </td><td>  NA               </td><td>  NA               </td><td>0.67               </td><td>0.58               </td><td>133.94             </td><td>0.000              </td><td>0.60               </td><td>100.00             </td><td>  NA               </td><td>  NA               </td><td>  NA               </td><td>  NA               </td><td>  NA               </td><td>  NA               </td><td>   NA              </td><td>  NA               </td><td>  NA               </td><td>  NA               </td><td>  NA               </td></tr>\n",
       "\t<tr><td>22                 </td><td>12B16              </td><td>2312               </td><td>5317               </td><td>7679               </td><td>5/4/08             </td><td>5/4/08             </td><td>Grade IV           </td><td>Glioblastoma       </td><td>2                  </td><td>1                  </td><td>3                  </td><td>2                  </td><td>0                  </td><td>12.84              </td><td>f                  </td><td>2.20               </td><td>1.56               </td><td>0.74               </td><td>2.04               </td><td>2.04               </td><td>0.89               </td><td>1.83               </td><td>2.12               </td><td>2.22               </td><td>2.23               </td><td>1.75               </td><td>0.69               </td><td>1.54               </td><td>1.72               </td><td>2.16               </td><td>1.96               </td><td>1.73               </td><td>1.71               </td><td> 97.87             </td><td>1.157              </td><td>1.88               </td><td> 99.20             </td><td>2.46               </td><td>1.30               </td><td>0.55               </td><td>1.19               </td><td>0.87               </td><td>0.59               </td><td> 0.34              </td><td>0.49               </td><td>0.75               </td><td>0.46               </td><td>0.35               </td></tr>\n",
       "</tbody>\n",
       "</table>\n"
      ],
      "text/latex": [
       "\\begin{tabular}{r|lllllllllllllllllllllllllllllllllllllllllllllllll}\n",
       " X & vial\\_id & b\\_number & t\\_number & sf\\_number & current\\_scan\\_date & current\\_surgery\\_date & current\\_hist\\_grade & current\\_hist\\_type & tumor\\_cell\\_evaluation & necrosis & f8\\_delicate & f8\\_simple & f8\\_complex & mib\\_1 & bx\\_pure\\_treatment\\_effect & nfse & nfl & nt1v & nt1c & nadc & nfa & nev1 & nev2 & nev3 & nevrad & nadc.1 & nfa.1 & nev1.1 & nev2.1 & nev3.1 & nevrad.1 & phn\\_nlin & cbvn\\_nlin & recovn\\_nlin & rfn\\_nlin & phn\\_npar & recovn\\_npar & cni & ccri & crni & ncho & ncre & nnaa & nlip & nlac & nxsch & nxscc & nxscr\\\\\n",
       "\\hline\n",
       "\t 17                  & 10B28               & 2723                & 6369                & 8122                & 9/13/09             & 9/14/09             & Grade IV            & Glioblastoma        & 0                   & 0                   & 2                   & 1                   & 0                   &  0.82               & t                   & 2.10                & 1.84                & 0.84                & 1.20                & 1.31                & 0.75                & 1.19                & 1.28                & 1.58                & 1.45                &   NA                &   NA                &   NA                &   NA                &   NA                &   NA                & 0.81                & 0.66                & 103.17              & 1.055               & 0.79                & 100.00              & 4.98                & 3.28                & 0.24                & 1.65                & 0.53                & 0.41                & -0.01               & 0.28                & 1.34                & 1.28                & 0.06               \\\\\n",
       "\t 18                  & 11B16               & 2312                & 5317                & 7679                & 5/4/08              & 5/4/08              & Grade IV            & Glioblastoma        & 2                   & 1                   & 2                   & 3                   & 0                   &  3.31               & f                   & 2.27                & 1.44                & 0.78                & 1.88                & 1.92                & 0.68                & 1.63                & 1.93                & 2.34                & 2.14                & 1.91                & 1.03                & 1.91                & 1.87                & 1.88                & 1.92                & 2.25                & 2.24                &  97.69              & 1.158               & 2.25                &  98.51              & 1.56                & 0.30                & 0.75                & 0.86                & 0.84                & 0.46                &  0.61               & 0.47                & 0.51                & 0.16                & 0.41               \\\\\n",
       "\t 19                  & 11B35               & 2901                & 8089                & 8403                & 6/25/10             & 6/30/10             & Grade IV            & Glioblastoma        & 3                   & 2                   & 1                   & 0                   & 0                   &    NA               & f                   &   NA                &   NA                &   NA                &   NA                &   NA                &   NA                &   NA                &   NA                &   NA                &   NA                &   NA                &   NA                &   NA                &   NA                &   NA                &   NA                & biopsymask-nonexist &   NA                &     NA              &    NA               &   NA                &     NA              &   NA                &   NA                &   NA                &   NA                &   NA                &   NA                &    NA               &   NA                &   NA                &   NA                &   NA               \\\\\n",
       "\t 20                  & 11B40               & 2474                & 7408                & 8701                & 3/23/11             & 3/24/11             & Grade IV            & Glioblastoma        &                     &                     &                     &                     &                     &    NA               &                     & 1.84                & 1.13                & 0.79                & 0.82                & 1.71                & 0.50                & 1.35                & 1.79                & 2.47                & 2.12                & 1.71                & 0.68                & 1.43                & 1.72                & 2.02                & 1.96                & 1.28                & 1.23                & 112.64              & 0.000               & 1.21                & 100.00              & 2.48                & 0.22                & 1.66                & 0.88                & 0.81                & 0.37                &  0.24               & 0.32                & 0.53                & 0.19                & 0.39               \\\\\n",
       "\t 21                  & 11B43               & 3169                & 7540                & 8796                & 6/19/11             & 6/20/11             & Grade IV            & Glioblastoma        & 2                   & 0                   & 3                   & 0                   & 0                   & 17.00               & f                   & 2.35                & 1.97                & 0.78                & 0.76                & 1.34                & 0.68                & 1.13                & 1.34                & 1.63                & 1.50                &   NA                &   NA                &   NA                &   NA                &   NA                &   NA                & 0.67                & 0.58                & 133.94              & 0.000               & 0.60                & 100.00              &   NA                &   NA                &   NA                &   NA                &   NA                &   NA                &    NA               &   NA                &   NA                &   NA                &   NA               \\\\\n",
       "\t 22                  & 12B16               & 2312                & 5317                & 7679                & 5/4/08              & 5/4/08              & Grade IV            & Glioblastoma        & 2                   & 1                   & 3                   & 2                   & 0                   & 12.84               & f                   & 2.20                & 1.56                & 0.74                & 2.04                & 2.04                & 0.89                & 1.83                & 2.12                & 2.22                & 2.23                & 1.75                & 0.69                & 1.54                & 1.72                & 2.16                & 1.96                & 1.73                & 1.71                &  97.87              & 1.157               & 1.88                &  99.20              & 2.46                & 1.30                & 0.55                & 1.19                & 0.87                & 0.59                &  0.34               & 0.49                & 0.75                & 0.46                & 0.35               \\\\\n",
       "\\end{tabular}\n"
      ],
      "text/markdown": [
       "\n",
       "X | vial_id | b_number | t_number | sf_number | current_scan_date | current_surgery_date | current_hist_grade | current_hist_type | tumor_cell_evaluation | necrosis | f8_delicate | f8_simple | f8_complex | mib_1 | bx_pure_treatment_effect | nfse | nfl | nt1v | nt1c | nadc | nfa | nev1 | nev2 | nev3 | nevrad | nadc.1 | nfa.1 | nev1.1 | nev2.1 | nev3.1 | nevrad.1 | phn_nlin | cbvn_nlin | recovn_nlin | rfn_nlin | phn_npar | recovn_npar | cni | ccri | crni | ncho | ncre | nnaa | nlip | nlac | nxsch | nxscc | nxscr | \n",
       "|---|---|---|---|---|---|\n",
       "| 17                  | 10B28               | 2723                | 6369                | 8122                | 9/13/09             | 9/14/09             | Grade IV            | Glioblastoma        | 0                   | 0                   | 2                   | 1                   | 0                   |  0.82               | t                   | 2.10                | 1.84                | 0.84                | 1.20                | 1.31                | 0.75                | 1.19                | 1.28                | 1.58                | 1.45                |   NA                |   NA                |   NA                |   NA                |   NA                |   NA                | 0.81                | 0.66                | 103.17              | 1.055               | 0.79                | 100.00              | 4.98                | 3.28                | 0.24                | 1.65                | 0.53                | 0.41                | -0.01               | 0.28                | 1.34                | 1.28                | 0.06                | \n",
       "| 18                  | 11B16               | 2312                | 5317                | 7679                | 5/4/08              | 5/4/08              | Grade IV            | Glioblastoma        | 2                   | 1                   | 2                   | 3                   | 0                   |  3.31               | f                   | 2.27                | 1.44                | 0.78                | 1.88                | 1.92                | 0.68                | 1.63                | 1.93                | 2.34                | 2.14                | 1.91                | 1.03                | 1.91                | 1.87                | 1.88                | 1.92                | 2.25                | 2.24                |  97.69              | 1.158               | 2.25                |  98.51              | 1.56                | 0.30                | 0.75                | 0.86                | 0.84                | 0.46                |  0.61               | 0.47                | 0.51                | 0.16                | 0.41                | \n",
       "| 19                  | 11B35               | 2901                | 8089                | 8403                | 6/25/10             | 6/30/10             | Grade IV            | Glioblastoma        | 3                   | 2                   | 1                   | 0                   | 0                   |    NA               | f                   |   NA                |   NA                |   NA                |   NA                |   NA                |   NA                |   NA                |   NA                |   NA                |   NA                |   NA                |   NA                |   NA                |   NA                |   NA                |   NA                | biopsymask-nonexist |   NA                |     NA              |    NA               |   NA                |     NA              |   NA                |   NA                |   NA                |   NA                |   NA                |   NA                |    NA               |   NA                |   NA                |   NA                |   NA                | \n",
       "| 20                  | 11B40               | 2474                | 7408                | 8701                | 3/23/11             | 3/24/11             | Grade IV            | Glioblastoma        |                     |                     |                     |                     |                     |    NA               |                     | 1.84                | 1.13                | 0.79                | 0.82                | 1.71                | 0.50                | 1.35                | 1.79                | 2.47                | 2.12                | 1.71                | 0.68                | 1.43                | 1.72                | 2.02                | 1.96                | 1.28                | 1.23                | 112.64              | 0.000               | 1.21                | 100.00              | 2.48                | 0.22                | 1.66                | 0.88                | 0.81                | 0.37                |  0.24               | 0.32                | 0.53                | 0.19                | 0.39                | \n",
       "| 21                  | 11B43               | 3169                | 7540                | 8796                | 6/19/11             | 6/20/11             | Grade IV            | Glioblastoma        | 2                   | 0                   | 3                   | 0                   | 0                   | 17.00               | f                   | 2.35                | 1.97                | 0.78                | 0.76                | 1.34                | 0.68                | 1.13                | 1.34                | 1.63                | 1.50                |   NA                |   NA                |   NA                |   NA                |   NA                |   NA                | 0.67                | 0.58                | 133.94              | 0.000               | 0.60                | 100.00              |   NA                |   NA                |   NA                |   NA                |   NA                |   NA                |    NA               |   NA                |   NA                |   NA                |   NA                | \n",
       "| 22                  | 12B16               | 2312                | 5317                | 7679                | 5/4/08              | 5/4/08              | Grade IV            | Glioblastoma        | 2                   | 1                   | 3                   | 2                   | 0                   | 12.84               | f                   | 2.20                | 1.56                | 0.74                | 2.04                | 2.04                | 0.89                | 1.83                | 2.12                | 2.22                | 2.23                | 1.75                | 0.69                | 1.54                | 1.72                | 2.16                | 1.96                | 1.73                | 1.71                |  97.87              | 1.157               | 1.88                |  99.20              | 2.46                | 1.30                | 0.55                | 1.19                | 0.87                | 0.59                |  0.34               | 0.49                | 0.75                | 0.46                | 0.35                | \n",
       "\n",
       "\n"
      ],
      "text/plain": [
       "  X  vial_id b_number t_number sf_number current_scan_date current_surgery_date\n",
       "1 17 10B28   2723     6369     8122      9/13/09           9/14/09             \n",
       "2 18 11B16   2312     5317     7679      5/4/08            5/4/08              \n",
       "3 19 11B35   2901     8089     8403      6/25/10           6/30/10             \n",
       "4 20 11B40   2474     7408     8701      3/23/11           3/24/11             \n",
       "5 21 11B43   3169     7540     8796      6/19/11           6/20/11             \n",
       "6 22 12B16   2312     5317     7679      5/4/08            5/4/08              \n",
       "  current_hist_grade current_hist_type tumor_cell_evaluation necrosis\n",
       "1 Grade IV           Glioblastoma      0                     0       \n",
       "2 Grade IV           Glioblastoma      2                     1       \n",
       "3 Grade IV           Glioblastoma      3                     2       \n",
       "4 Grade IV           Glioblastoma                                    \n",
       "5 Grade IV           Glioblastoma      2                     0       \n",
       "6 Grade IV           Glioblastoma      2                     1       \n",
       "  f8_delicate f8_simple f8_complex mib_1 bx_pure_treatment_effect nfse nfl \n",
       "1 2           1         0           0.82 t                        2.10 1.84\n",
       "2 2           3         0           3.31 f                        2.27 1.44\n",
       "3 1           0         0             NA f                          NA   NA\n",
       "4                                     NA                          1.84 1.13\n",
       "5 3           0         0          17.00 f                        2.35 1.97\n",
       "6 3           2         0          12.84 f                        2.20 1.56\n",
       "  nt1v nt1c nadc nfa  nev1 nev2 nev3 nevrad nadc.1 nfa.1 nev1.1 nev2.1 nev3.1\n",
       "1 0.84 1.20 1.31 0.75 1.19 1.28 1.58 1.45     NA     NA    NA     NA     NA  \n",
       "2 0.78 1.88 1.92 0.68 1.63 1.93 2.34 2.14   1.91   1.03  1.91   1.87   1.88  \n",
       "3   NA   NA   NA   NA   NA   NA   NA   NA     NA     NA    NA     NA     NA  \n",
       "4 0.79 0.82 1.71 0.50 1.35 1.79 2.47 2.12   1.71   0.68  1.43   1.72   2.02  \n",
       "5 0.78 0.76 1.34 0.68 1.13 1.34 1.63 1.50     NA     NA    NA     NA     NA  \n",
       "6 0.74 2.04 2.04 0.89 1.83 2.12 2.22 2.23   1.75   0.69  1.54   1.72   2.16  \n",
       "  nevrad.1 phn_nlin            cbvn_nlin recovn_nlin rfn_nlin phn_npar\n",
       "1   NA     0.81                0.66      103.17      1.055    0.79    \n",
       "2 1.92     2.25                2.24       97.69      1.158    2.25    \n",
       "3   NA     biopsymask-nonexist   NA          NA         NA      NA    \n",
       "4 1.96     1.28                1.23      112.64      0.000    1.21    \n",
       "5   NA     0.67                0.58      133.94      0.000    0.60    \n",
       "6 1.96     1.73                1.71       97.87      1.157    1.88    \n",
       "  recovn_npar cni  ccri crni ncho ncre nnaa nlip  nlac nxsch nxscc nxscr\n",
       "1 100.00      4.98 3.28 0.24 1.65 0.53 0.41 -0.01 0.28 1.34  1.28  0.06 \n",
       "2  98.51      1.56 0.30 0.75 0.86 0.84 0.46  0.61 0.47 0.51  0.16  0.41 \n",
       "3     NA        NA   NA   NA   NA   NA   NA    NA   NA   NA    NA    NA \n",
       "4 100.00      2.48 0.22 1.66 0.88 0.81 0.37  0.24 0.32 0.53  0.19  0.39 \n",
       "5 100.00        NA   NA   NA   NA   NA   NA    NA   NA   NA    NA    NA \n",
       "6  99.20      2.46 1.30 0.55 1.19 0.87 0.59  0.34 0.49 0.75  0.46  0.35 "
      ]
     },
     "metadata": {},
     "output_type": "display_data"
    }
   ],
   "source": [
    "head(old.data)"
   ]
  },
  {
   "cell_type": "code",
   "execution_count": 45,
   "metadata": {
    "collapsed": false
   },
   "outputs": [
    {
     "data": {
      "text/html": [
       "<table>\n",
       "<thead><tr><th scope=col>index</th><th scope=col>colnames</th></tr></thead>\n",
       "<tbody>\n",
       "\t<tr><td> 1                      </td><td>X                       </td></tr>\n",
       "\t<tr><td> 2                      </td><td>vial_id                 </td></tr>\n",
       "\t<tr><td> 3                      </td><td>b_number                </td></tr>\n",
       "\t<tr><td> 4                      </td><td>t_number                </td></tr>\n",
       "\t<tr><td> 5                      </td><td>sf_number               </td></tr>\n",
       "\t<tr><td> 6                      </td><td>current_scan_date       </td></tr>\n",
       "\t<tr><td> 7                      </td><td>current_surgery_date    </td></tr>\n",
       "\t<tr><td> 8                      </td><td>current_hist_grade      </td></tr>\n",
       "\t<tr><td> 9                      </td><td>current_hist_type       </td></tr>\n",
       "\t<tr><td>10                      </td><td>tumor_cell_evaluation   </td></tr>\n",
       "\t<tr><td>11                      </td><td>necrosis                </td></tr>\n",
       "\t<tr><td>12                      </td><td>f8_delicate             </td></tr>\n",
       "\t<tr><td>13                      </td><td>f8_simple               </td></tr>\n",
       "\t<tr><td>14                      </td><td>f8_complex              </td></tr>\n",
       "\t<tr><td>15                      </td><td>mib_1                   </td></tr>\n",
       "\t<tr><td>16                      </td><td>bx_pure_treatment_effect</td></tr>\n",
       "\t<tr><td>17                      </td><td>nfse                    </td></tr>\n",
       "\t<tr><td>18                      </td><td>nfl                     </td></tr>\n",
       "\t<tr><td>19                      </td><td>nt1v                    </td></tr>\n",
       "\t<tr><td>20                      </td><td>nt1c                    </td></tr>\n",
       "\t<tr><td>21                      </td><td>nadc                    </td></tr>\n",
       "\t<tr><td>22                      </td><td>nfa                     </td></tr>\n",
       "\t<tr><td>23                      </td><td>nev1                    </td></tr>\n",
       "\t<tr><td>24                      </td><td>nev2                    </td></tr>\n",
       "\t<tr><td>25                      </td><td>nev3                    </td></tr>\n",
       "\t<tr><td>26                      </td><td>nevrad                  </td></tr>\n",
       "\t<tr><td>27                      </td><td>nadc.1                  </td></tr>\n",
       "\t<tr><td>28                      </td><td>nfa.1                   </td></tr>\n",
       "\t<tr><td>29                      </td><td>nev1.1                  </td></tr>\n",
       "\t<tr><td>30                      </td><td>nev2.1                  </td></tr>\n",
       "\t<tr><td>31                      </td><td>nev3.1                  </td></tr>\n",
       "\t<tr><td>32                      </td><td>nevrad.1                </td></tr>\n",
       "\t<tr><td>33                      </td><td>phn_nlin                </td></tr>\n",
       "\t<tr><td>34                      </td><td>cbvn_nlin               </td></tr>\n",
       "\t<tr><td>35                      </td><td>recovn_nlin             </td></tr>\n",
       "\t<tr><td>36                      </td><td>rfn_nlin                </td></tr>\n",
       "\t<tr><td>37                      </td><td>phn_npar                </td></tr>\n",
       "\t<tr><td>38                      </td><td>recovn_npar             </td></tr>\n",
       "\t<tr><td>39                      </td><td>cni                     </td></tr>\n",
       "\t<tr><td>40                      </td><td>ccri                    </td></tr>\n",
       "\t<tr><td>41                      </td><td>crni                    </td></tr>\n",
       "\t<tr><td>42                      </td><td>ncho                    </td></tr>\n",
       "\t<tr><td>43                      </td><td>ncre                    </td></tr>\n",
       "\t<tr><td>44                      </td><td>nnaa                    </td></tr>\n",
       "\t<tr><td>45                      </td><td>nlip                    </td></tr>\n",
       "\t<tr><td>46                      </td><td>nlac                    </td></tr>\n",
       "\t<tr><td>47                      </td><td>nxsch                   </td></tr>\n",
       "\t<tr><td>48                      </td><td>nxscc                   </td></tr>\n",
       "\t<tr><td>49                      </td><td>nxscr                   </td></tr>\n",
       "</tbody>\n",
       "</table>\n"
      ],
      "text/latex": [
       "\\begin{tabular}{r|ll}\n",
       " index & colnames\\\\\n",
       "\\hline\n",
       "\t  1                       & X                       \\\\\n",
       "\t  2                         & vial\\_id                 \\\\\n",
       "\t  3                         & b\\_number                \\\\\n",
       "\t  4                         & t\\_number                \\\\\n",
       "\t  5                         & sf\\_number               \\\\\n",
       "\t  6                           & current\\_scan\\_date       \\\\\n",
       "\t  7                           & current\\_surgery\\_date    \\\\\n",
       "\t  8                           & current\\_hist\\_grade      \\\\\n",
       "\t  9                           & current\\_hist\\_type       \\\\\n",
       "\t 10                           & tumor\\_cell\\_evaluation   \\\\\n",
       "\t 11                       & necrosis                \\\\\n",
       "\t 12                         & f8\\_delicate             \\\\\n",
       "\t 13                         & f8\\_simple               \\\\\n",
       "\t 14                         & f8\\_complex              \\\\\n",
       "\t 15                         & mib\\_1                   \\\\\n",
       "\t 16                             & bx\\_pure\\_treatment\\_effect\\\\\n",
       "\t 17                       & nfse                    \\\\\n",
       "\t 18                       & nfl                     \\\\\n",
       "\t 19                       & nt1v                    \\\\\n",
       "\t 20                       & nt1c                    \\\\\n",
       "\t 21                       & nadc                    \\\\\n",
       "\t 22                       & nfa                     \\\\\n",
       "\t 23                       & nev1                    \\\\\n",
       "\t 24                       & nev2                    \\\\\n",
       "\t 25                       & nev3                    \\\\\n",
       "\t 26                       & nevrad                  \\\\\n",
       "\t 27                       & nadc.1                  \\\\\n",
       "\t 28                       & nfa.1                   \\\\\n",
       "\t 29                       & nev1.1                  \\\\\n",
       "\t 30                       & nev2.1                  \\\\\n",
       "\t 31                       & nev3.1                  \\\\\n",
       "\t 32                       & nevrad.1                \\\\\n",
       "\t 33                         & phn\\_nlin                \\\\\n",
       "\t 34                         & cbvn\\_nlin               \\\\\n",
       "\t 35                         & recovn\\_nlin             \\\\\n",
       "\t 36                         & rfn\\_nlin                \\\\\n",
       "\t 37                         & phn\\_npar                \\\\\n",
       "\t 38                         & recovn\\_npar             \\\\\n",
       "\t 39                       & cni                     \\\\\n",
       "\t 40                       & ccri                    \\\\\n",
       "\t 41                       & crni                    \\\\\n",
       "\t 42                       & ncho                    \\\\\n",
       "\t 43                       & ncre                    \\\\\n",
       "\t 44                       & nnaa                    \\\\\n",
       "\t 45                       & nlip                    \\\\\n",
       "\t 46                       & nlac                    \\\\\n",
       "\t 47                       & nxsch                   \\\\\n",
       "\t 48                       & nxscc                   \\\\\n",
       "\t 49                       & nxscr                   \\\\\n",
       "\\end{tabular}\n"
      ],
      "text/markdown": [
       "\n",
       "index | colnames | \n",
       "|---|---|---|---|---|---|---|---|---|---|---|---|---|---|---|---|---|---|---|---|---|---|---|---|---|---|---|---|---|---|---|---|---|---|---|---|---|---|---|---|---|---|---|---|---|---|---|---|---|\n",
       "|  1                       | X                        | \n",
       "|  2                       | vial_id                  | \n",
       "|  3                       | b_number                 | \n",
       "|  4                       | t_number                 | \n",
       "|  5                       | sf_number                | \n",
       "|  6                       | current_scan_date        | \n",
       "|  7                       | current_surgery_date     | \n",
       "|  8                       | current_hist_grade       | \n",
       "|  9                       | current_hist_type        | \n",
       "| 10                       | tumor_cell_evaluation    | \n",
       "| 11                       | necrosis                 | \n",
       "| 12                       | f8_delicate              | \n",
       "| 13                       | f8_simple                | \n",
       "| 14                       | f8_complex               | \n",
       "| 15                       | mib_1                    | \n",
       "| 16                       | bx_pure_treatment_effect | \n",
       "| 17                       | nfse                     | \n",
       "| 18                       | nfl                      | \n",
       "| 19                       | nt1v                     | \n",
       "| 20                       | nt1c                     | \n",
       "| 21                       | nadc                     | \n",
       "| 22                       | nfa                      | \n",
       "| 23                       | nev1                     | \n",
       "| 24                       | nev2                     | \n",
       "| 25                       | nev3                     | \n",
       "| 26                       | nevrad                   | \n",
       "| 27                       | nadc.1                   | \n",
       "| 28                       | nfa.1                    | \n",
       "| 29                       | nev1.1                   | \n",
       "| 30                       | nev2.1                   | \n",
       "| 31                       | nev3.1                   | \n",
       "| 32                       | nevrad.1                 | \n",
       "| 33                       | phn_nlin                 | \n",
       "| 34                       | cbvn_nlin                | \n",
       "| 35                       | recovn_nlin              | \n",
       "| 36                       | rfn_nlin                 | \n",
       "| 37                       | phn_npar                 | \n",
       "| 38                       | recovn_npar              | \n",
       "| 39                       | cni                      | \n",
       "| 40                       | ccri                     | \n",
       "| 41                       | crni                     | \n",
       "| 42                       | ncho                     | \n",
       "| 43                       | ncre                     | \n",
       "| 44                       | nnaa                     | \n",
       "| 45                       | nlip                     | \n",
       "| 46                       | nlac                     | \n",
       "| 47                       | nxsch                    | \n",
       "| 48                       | nxscc                    | \n",
       "| 49                       | nxscr                    | \n",
       "\n",
       "\n"
      ],
      "text/plain": [
       "   index colnames                \n",
       "1   1    X                       \n",
       "2   2    vial_id                 \n",
       "3   3    b_number                \n",
       "4   4    t_number                \n",
       "5   5    sf_number               \n",
       "6   6    current_scan_date       \n",
       "7   7    current_surgery_date    \n",
       "8   8    current_hist_grade      \n",
       "9   9    current_hist_type       \n",
       "10 10    tumor_cell_evaluation   \n",
       "11 11    necrosis                \n",
       "12 12    f8_delicate             \n",
       "13 13    f8_simple               \n",
       "14 14    f8_complex              \n",
       "15 15    mib_1                   \n",
       "16 16    bx_pure_treatment_effect\n",
       "17 17    nfse                    \n",
       "18 18    nfl                     \n",
       "19 19    nt1v                    \n",
       "20 20    nt1c                    \n",
       "21 21    nadc                    \n",
       "22 22    nfa                     \n",
       "23 23    nev1                    \n",
       "24 24    nev2                    \n",
       "25 25    nev3                    \n",
       "26 26    nevrad                  \n",
       "27 27    nadc.1                  \n",
       "28 28    nfa.1                   \n",
       "29 29    nev1.1                  \n",
       "30 30    nev2.1                  \n",
       "31 31    nev3.1                  \n",
       "32 32    nevrad.1                \n",
       "33 33    phn_nlin                \n",
       "34 34    cbvn_nlin               \n",
       "35 35    recovn_nlin             \n",
       "36 36    rfn_nlin                \n",
       "37 37    phn_npar                \n",
       "38 38    recovn_npar             \n",
       "39 39    cni                     \n",
       "40 40    ccri                    \n",
       "41 41    crni                    \n",
       "42 42    ncho                    \n",
       "43 43    ncre                    \n",
       "44 44    nnaa                    \n",
       "45 45    nlip                    \n",
       "46 46    nlac                    \n",
       "47 47    nxsch                   \n",
       "48 48    nxscc                   \n",
       "49 49    nxscr                   "
      ]
     },
     "metadata": {},
     "output_type": "display_data"
    }
   ],
   "source": [
    "data.frame(index = 1:length(colnames(old.data)), colnames = colnames(old.data))\n"
   ]
  },
  {
   "cell_type": "code",
   "execution_count": 47,
   "metadata": {
    "collapsed": true
   },
   "outputs": [],
   "source": [
    "perf.olddata = old.data[,c(2:4, 33:38)]"
   ]
  },
  {
   "cell_type": "code",
   "execution_count": 48,
   "metadata": {
    "collapsed": false
   },
   "outputs": [
    {
     "data": {
      "text/html": [
       "<table>\n",
       "<thead><tr><th scope=col>vial_id</th><th scope=col>b_number</th><th scope=col>t_number</th><th scope=col>phn_nlin</th><th scope=col>cbvn_nlin</th><th scope=col>recovn_nlin</th><th scope=col>rfn_nlin</th><th scope=col>phn_npar</th><th scope=col>recovn_npar</th></tr></thead>\n",
       "<tbody>\n",
       "\t<tr><td>10B28              </td><td>2723               </td><td>6369               </td><td>0.81               </td><td>0.66               </td><td>103.17             </td><td>1.055              </td><td>0.79               </td><td>100.00             </td></tr>\n",
       "\t<tr><td>11B16              </td><td>2312               </td><td>5317               </td><td>2.25               </td><td>2.24               </td><td> 97.69             </td><td>1.158              </td><td>2.25               </td><td> 98.51             </td></tr>\n",
       "\t<tr><td>11B35              </td><td>2901               </td><td>8089               </td><td>biopsymask-nonexist</td><td>  NA               </td><td>    NA             </td><td>   NA              </td><td>  NA               </td><td>    NA             </td></tr>\n",
       "\t<tr><td>11B40              </td><td>2474               </td><td>7408               </td><td>1.28               </td><td>1.23               </td><td>112.64             </td><td>0.000              </td><td>1.21               </td><td>100.00             </td></tr>\n",
       "\t<tr><td>11B43              </td><td>3169               </td><td>7540               </td><td>0.67               </td><td>0.58               </td><td>133.94             </td><td>0.000              </td><td>0.60               </td><td>100.00             </td></tr>\n",
       "\t<tr><td>12B16              </td><td>2312               </td><td>5317               </td><td>1.73               </td><td>1.71               </td><td> 97.87             </td><td>1.157              </td><td>1.88               </td><td> 99.20             </td></tr>\n",
       "</tbody>\n",
       "</table>\n"
      ],
      "text/latex": [
       "\\begin{tabular}{r|lllllllll}\n",
       " vial\\_id & b\\_number & t\\_number & phn\\_nlin & cbvn\\_nlin & recovn\\_nlin & rfn\\_nlin & phn\\_npar & recovn\\_npar\\\\\n",
       "\\hline\n",
       "\t 10B28               & 2723                & 6369                & 0.81                & 0.66                & 103.17              & 1.055               & 0.79                & 100.00             \\\\\n",
       "\t 11B16               & 2312                & 5317                & 2.25                & 2.24                &  97.69              & 1.158               & 2.25                &  98.51             \\\\\n",
       "\t 11B35               & 2901                & 8089                & biopsymask-nonexist &   NA                &     NA              &    NA               &   NA                &     NA             \\\\\n",
       "\t 11B40               & 2474                & 7408                & 1.28                & 1.23                & 112.64              & 0.000               & 1.21                & 100.00             \\\\\n",
       "\t 11B43               & 3169                & 7540                & 0.67                & 0.58                & 133.94              & 0.000               & 0.60                & 100.00             \\\\\n",
       "\t 12B16               & 2312                & 5317                & 1.73                & 1.71                &  97.87              & 1.157               & 1.88                &  99.20             \\\\\n",
       "\\end{tabular}\n"
      ],
      "text/markdown": [
       "\n",
       "vial_id | b_number | t_number | phn_nlin | cbvn_nlin | recovn_nlin | rfn_nlin | phn_npar | recovn_npar | \n",
       "|---|---|---|---|---|---|\n",
       "| 10B28               | 2723                | 6369                | 0.81                | 0.66                | 103.17              | 1.055               | 0.79                | 100.00              | \n",
       "| 11B16               | 2312                | 5317                | 2.25                | 2.24                |  97.69              | 1.158               | 2.25                |  98.51              | \n",
       "| 11B35               | 2901                | 8089                | biopsymask-nonexist |   NA                |     NA              |    NA               |   NA                |     NA              | \n",
       "| 11B40               | 2474                | 7408                | 1.28                | 1.23                | 112.64              | 0.000               | 1.21                | 100.00              | \n",
       "| 11B43               | 3169                | 7540                | 0.67                | 0.58                | 133.94              | 0.000               | 0.60                | 100.00              | \n",
       "| 12B16               | 2312                | 5317                | 1.73                | 1.71                |  97.87              | 1.157               | 1.88                |  99.20              | \n",
       "\n",
       "\n"
      ],
      "text/plain": [
       "  vial_id b_number t_number phn_nlin            cbvn_nlin recovn_nlin rfn_nlin\n",
       "1 10B28   2723     6369     0.81                0.66      103.17      1.055   \n",
       "2 11B16   2312     5317     2.25                2.24       97.69      1.158   \n",
       "3 11B35   2901     8089     biopsymask-nonexist   NA          NA         NA   \n",
       "4 11B40   2474     7408     1.28                1.23      112.64      0.000   \n",
       "5 11B43   3169     7540     0.67                0.58      133.94      0.000   \n",
       "6 12B16   2312     5317     1.73                1.71       97.87      1.157   \n",
       "  phn_npar recovn_npar\n",
       "1 0.79     100.00     \n",
       "2 2.25      98.51     \n",
       "3   NA         NA     \n",
       "4 1.21     100.00     \n",
       "5 0.60     100.00     \n",
       "6 1.88      99.20     "
      ]
     },
     "metadata": {},
     "output_type": "display_data"
    }
   ],
   "source": [
    "head(perf.olddata)"
   ]
  },
  {
   "cell_type": "code",
   "execution_count": 49,
   "metadata": {
    "collapsed": false
   },
   "outputs": [
    {
     "data": {
      "text/plain": [
       "\n",
       "                            0                          0.08 \n",
       "                           32                             1 \n",
       "                         0.19                          0.22 \n",
       "                            1                             1 \n",
       "                         0.24                          0.25 \n",
       "                            2                             1 \n",
       "                         0.27                          0.31 \n",
       "                            2                             1 \n",
       "                         0.32                          0.33 \n",
       "                            1                             1 \n",
       "                         0.38                          0.39 \n",
       "                            1                             1 \n",
       "                         0.42                          0.43 \n",
       "                            1                             1 \n",
       "                         0.44                          0.45 \n",
       "                            1                             1 \n",
       "                         0.48                           0.5 \n",
       "                            1                             2 \n",
       "                         0.51                          0.52 \n",
       "                            1                             1 \n",
       "                         0.53                          0.56 \n",
       "                            1                             1 \n",
       "                         0.57                           0.6 \n",
       "                            1                             3 \n",
       "                         0.62                          0.63 \n",
       "                            1                             1 \n",
       "                         0.65                          0.67 \n",
       "                            1                             3 \n",
       "                         0.68                          0.69 \n",
       "                            1                             1 \n",
       "                         0.73                          0.74 \n",
       "                            1                             1 \n",
       "                         0.75                          0.79 \n",
       "                            3                             1 \n",
       "                         0.81                          0.82 \n",
       "                            1                             1 \n",
       "                         0.83                          0.84 \n",
       "                            3                             1 \n",
       "                         0.86                          0.87 \n",
       "                            1                             1 \n",
       "                         0.88                           0.9 \n",
       "                            2                             2 \n",
       "                         0.92                          0.93 \n",
       "                            1                             2 \n",
       "                         0.94                          0.95 \n",
       "                            3                             1 \n",
       "                         0.96                          0.97 \n",
       "                            1                             1 \n",
       "                         1.01                          1.03 \n",
       "                            1                             2 \n",
       "                         1.05                          1.06 \n",
       "                            1                             1 \n",
       "                         1.07                          1.08 \n",
       "                            1                             2 \n",
       "                         1.09                           1.1 \n",
       "                            1                             1 \n",
       "                         1.11                          1.13 \n",
       "                            2                             1 \n",
       "                         1.14                          1.15 \n",
       "                            3                             2 \n",
       "                         1.17                          1.18 \n",
       "                            1                             1 \n",
       "                         1.19                          1.21 \n",
       "                            3                             4 \n",
       "                         1.24                          1.25 \n",
       "                            1                             1 \n",
       "                         1.26                          1.27 \n",
       "                            1                             1 \n",
       "                         1.28                          1.29 \n",
       "                            2                             2 \n",
       "                         1.32                          1.35 \n",
       "                            1                             1 \n",
       "                         1.36                           1.4 \n",
       "                            3                             2 \n",
       "                         1.43                          1.44 \n",
       "                            1                             1 \n",
       "                         1.46                          1.49 \n",
       "                            2                             2 \n",
       "                         1.54                          1.56 \n",
       "                            1                             2 \n",
       "                         1.57                           1.6 \n",
       "                            1                             1 \n",
       "                         1.61                          1.64 \n",
       "                            1                             1 \n",
       "                         1.66                          1.68 \n",
       "                            1                             1 \n",
       "                          1.7                          1.71 \n",
       "                            2                             1 \n",
       "                         1.73                          1.74 \n",
       "                            1                             1 \n",
       "                         1.75                          1.77 \n",
       "                            3                             3 \n",
       "                         1.79                          1.82 \n",
       "                            2                             1 \n",
       "                         1.88                          1.89 \n",
       "                            1                             4 \n",
       "                          1.9                          1.93 \n",
       "                            1                             1 \n",
       "                         2.01                          2.11 \n",
       "                            1                             1 \n",
       "                         2.15                          2.16 \n",
       "                            1                             3 \n",
       "                         2.18                          2.25 \n",
       "                            1                             1 \n",
       "                         2.35                          2.36 \n",
       "                            1                             2 \n",
       "                          2.4                          2.42 \n",
       "                            1                             1 \n",
       "                         2.52                          2.57 \n",
       "                            1                             1 \n",
       "                         2.62                          2.63 \n",
       "                            1                             1 \n",
       "                         2.75                          2.87 \n",
       "                            2                             1 \n",
       "                         2.88                          2.94 \n",
       "                            1                             1 \n",
       "                         3.07                          3.13 \n",
       "                            1                             1 \n",
       "                         3.19                          3.25 \n",
       "                            1                             1 \n",
       "                         3.37                          3.38 \n",
       "                            1                             1 \n",
       "                          3.4                          3.48 \n",
       "                            1                             1 \n",
       "                          3.5                          3.51 \n",
       "                            1                             1 \n",
       "                         3.52                          3.54 \n",
       "                            1                             1 \n",
       "                         3.75                          3.88 \n",
       "                            1                             1 \n",
       "                         3.91                          4.72 \n",
       "                            1                             1 \n",
       "                         5.54           biopsymask-nonexist \n",
       "                            1                            30 \n",
       "          perf_align-nonexist             PERF_BIOPSY_ISSUE \n",
       "                           30                             2 \n",
       "t5668_87B18_outside_perfusion t5730_74B18_outside_perfusion \n",
       "                            1                             1 \n",
       "t5730_75B18_outside_perfusion t5961_58B22_outside_perfusion \n",
       "                            1                             1 \n",
       "t5983_19B23_outside_perfusion  t6218_4B26_outside_perfusion \n",
       "                            1                             1 \n",
       " t6367_7B26_outside_perfusion t6495_98B29_outside_perfusion \n",
       "                            1                             1 \n",
       "t6604_59B31_outside_perfusion \n",
       "                            1 "
      ]
     },
     "metadata": {},
     "output_type": "display_data"
    }
   ],
   "source": [
    "table(perf.olddata$phn_nlin)"
   ]
  },
  {
   "cell_type": "code",
   "execution_count": null,
   "metadata": {
    "collapsed": true
   },
   "outputs": [],
   "source": []
  }
 ],
 "metadata": {
  "kernelspec": {
   "display_name": "R",
   "language": "R",
   "name": "ir"
  },
  "language_info": {
   "codemirror_mode": "r",
   "file_extension": ".r",
   "mimetype": "text/x-r-source",
   "name": "R",
   "pygments_lexer": "r",
   "version": "3.4.0"
  }
 },
 "nbformat": 4,
 "nbformat_minor": 2
}
