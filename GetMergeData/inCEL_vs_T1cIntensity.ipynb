{
 "cells": [
  {
   "cell_type": "markdown",
   "metadata": {
    "deletable": true,
    "editable": true
   },
   "source": [
    "### Do we need manually drawn ROIs? \n",
    "In this notebook, I'm interested in asking the question: do we really need manually drawn ROIs, or should we rely on a threshold of median value rather than re-doing all the ROIs? \n",
    "I'm going to use all biopsies that sum to >75% in their regions and correlate:\n",
    "1. T1c median biopsy intensity w/ CEL percentage \n",
    "2. T1c median biopsy w/ binary \"in CEL\" designation \n",
    "\n",
    "Problematically we can't really use the all of those that are in T2all b/c it may be entirely in t2 lesion, but as a percentage, only partially in the T2 lesion due to overlap w/ CEL. <br>\n",
    "Instead, perhaps we will use those entirely in the T2 lesion, and those entirely outside of the T2lesion, and plot their median biopsy intensity values: \n",
    "\n",
    "1. Categorize those fully in T2L (but still add up to >95%) \n",
    "2. Categorize those fully outside of T2L (but still add up to >95%) **** actually this might be too difficult. Resume plan later\n",
    "3. Plot their median biopsy intensity values "
   ]
  },
  {
   "cell_type": "code",
   "execution_count": 7,
   "metadata": {
    "collapsed": false,
    "deletable": true,
    "editable": true
   },
   "outputs": [
    {
     "data": {
      "text/html": [
       "<ol class=list-inline>\n",
       "\t<li>'get_data_from_bnum_tnum_list.ipynb'</li>\n",
       "\t<li>'get_igt_stats.ipynb'</li>\n",
       "\t<li>'GetMergeIGTstats.ipynb'</li>\n",
       "\t<li>'inCEL_vs_T1cIntensity.ipynb'</li>\n",
       "\t<li>'Inspect_Perfusion.ipynb'</li>\n",
       "\t<li>'July2018'</li>\n",
       "\t<li>'untitled.txt'</li>\n",
       "</ol>\n"
      ],
      "text/latex": [
       "\\begin{enumerate*}\n",
       "\\item 'get\\_data\\_from\\_bnum\\_tnum\\_list.ipynb'\n",
       "\\item 'get\\_igt\\_stats.ipynb'\n",
       "\\item 'GetMergeIGTstats.ipynb'\n",
       "\\item 'inCEL\\_vs\\_T1cIntensity.ipynb'\n",
       "\\item 'Inspect\\_Perfusion.ipynb'\n",
       "\\item 'July2018'\n",
       "\\item 'untitled.txt'\n",
       "\\end{enumerate*}\n"
      ],
      "text/markdown": [
       "1. 'get_data_from_bnum_tnum_list.ipynb'\n",
       "2. 'get_igt_stats.ipynb'\n",
       "3. 'GetMergeIGTstats.ipynb'\n",
       "4. 'inCEL_vs_T1cIntensity.ipynb'\n",
       "5. 'Inspect_Perfusion.ipynb'\n",
       "6. 'July2018'\n",
       "7. 'untitled.txt'\n",
       "\n",
       "\n"
      ],
      "text/plain": [
       "[1] \"get_data_from_bnum_tnum_list.ipynb\" \"get_igt_stats.ipynb\"               \n",
       "[3] \"GetMergeIGTstats.ipynb\"             \"inCEL_vs_T1cIntensity.ipynb\"       \n",
       "[5] \"Inspect_Perfusion.ipynb\"            \"July2018\"                          \n",
       "[7] \"untitled.txt\"                      "
      ]
     },
     "metadata": {},
     "output_type": "display_data"
    }
   ],
   "source": [
    "setwd(\"~/DataWrangling/GetMergeData/\")\n",
    "list.files()"
   ]
  },
  {
   "cell_type": "code",
   "execution_count": 8,
   "metadata": {
    "collapsed": false,
    "deletable": true,
    "editable": true
   },
   "outputs": [],
   "source": [
    "dat_annot = read.csv(\"../AnnotateData/6thAnnot_researchpath_withInVivo.csv\")"
   ]
  },
  {
   "cell_type": "code",
   "execution_count": 10,
   "metadata": {
    "collapsed": false
   },
   "outputs": [
    {
     "data": {
      "text/html": [
       "<ol class=list-inline>\n",
       "\t<li>639</li>\n",
       "\t<li>58</li>\n",
       "</ol>\n"
      ],
      "text/latex": [
       "\\begin{enumerate*}\n",
       "\\item 639\n",
       "\\item 58\n",
       "\\end{enumerate*}\n"
      ],
      "text/markdown": [
       "1. 639\n",
       "2. 58\n",
       "\n",
       "\n"
      ],
      "text/plain": [
       "[1] 639  58"
      ]
     },
     "metadata": {},
     "output_type": "display_data"
    }
   ],
   "source": [
    "dim(dat_annot)"
   ]
  },
  {
   "cell_type": "code",
   "execution_count": 11,
   "metadata": {
    "collapsed": false
   },
   "outputs": [
    {
     "data": {
      "text/html": [
       "<ol class=list-inline>\n",
       "\t<li>'b_number'</li>\n",
       "\t<li>'t_number'</li>\n",
       "\t<li>'sf_number'</li>\n",
       "\t<li>'current_scan_date'</li>\n",
       "\t<li>'current_surgery_date'</li>\n",
       "\t<li>'current_hist_grade'</li>\n",
       "\t<li>'current_hist_type'</li>\n",
       "\t<li>'roi.label'</li>\n",
       "\t<li>'tumor_cell_evaluation'</li>\n",
       "\t<li>'necrosis'</li>\n",
       "\t<li>'f8_delicate'</li>\n",
       "\t<li>'f8_simple'</li>\n",
       "\t<li>'f8_complex'</li>\n",
       "\t<li>'mib_1'</li>\n",
       "\t<li>'bx_pure_treatment_effect'</li>\n",
       "\t<li>'nfse'</li>\n",
       "\t<li>'nfl'</li>\n",
       "\t<li>'nt1c'</li>\n",
       "\t<li>'nt1v'</li>\n",
       "\t<li>'nadc.1'</li>\n",
       "\t<li>'nfa.1'</li>\n",
       "\t<li>'nev1.1'</li>\n",
       "\t<li>'nev2.1'</li>\n",
       "\t<li>'nev3.1'</li>\n",
       "\t<li>'nevrad.1'</li>\n",
       "\t<li>'nadc.2'</li>\n",
       "\t<li>'nfa.2'</li>\n",
       "\t<li>'nev1.2'</li>\n",
       "\t<li>'nev2.2'</li>\n",
       "\t<li>'nev3.2'</li>\n",
       "\t<li>'nevrad.2'</li>\n",
       "\t<li>'cbvn_nlin'</li>\n",
       "\t<li>'phn_npar'</li>\n",
       "\t<li>'recovn_npar'</li>\n",
       "\t<li>'cni'</li>\n",
       "\t<li>'ccri'</li>\n",
       "\t<li>'crni'</li>\n",
       "\t<li>'ncho'</li>\n",
       "\t<li>'ncre'</li>\n",
       "\t<li>'nnaa'</li>\n",
       "\t<li>'nlip'</li>\n",
       "\t<li>'nlac'</li>\n",
       "\t<li>'laclip'</li>\n",
       "\t<li>'olddata'</li>\n",
       "\t<li>'newdata'</li>\n",
       "\t<li>'comments'</li>\n",
       "\t<li>'notes.'</li>\n",
       "\t<li>'imaging_code'</li>\n",
       "\t<li>'perf_quant'</li>\n",
       "\t<li>'spec_quant'</li>\n",
       "\t<li>'include_anat'</li>\n",
       "\t<li>'include_diffu1000'</li>\n",
       "\t<li>'include_diffu2000'</li>\n",
       "\t<li>'include_diffu_all'</li>\n",
       "\t<li>'include_perf'</li>\n",
       "\t<li>'include_spec'</li>\n",
       "\t<li>'include_one_advanced_mod'</li>\n",
       "\t<li>'include_all_advanced_mods'</li>\n",
       "</ol>\n"
      ],
      "text/latex": [
       "\\begin{enumerate*}\n",
       "\\item 'b\\_number'\n",
       "\\item 't\\_number'\n",
       "\\item 'sf\\_number'\n",
       "\\item 'current\\_scan\\_date'\n",
       "\\item 'current\\_surgery\\_date'\n",
       "\\item 'current\\_hist\\_grade'\n",
       "\\item 'current\\_hist\\_type'\n",
       "\\item 'roi.label'\n",
       "\\item 'tumor\\_cell\\_evaluation'\n",
       "\\item 'necrosis'\n",
       "\\item 'f8\\_delicate'\n",
       "\\item 'f8\\_simple'\n",
       "\\item 'f8\\_complex'\n",
       "\\item 'mib\\_1'\n",
       "\\item 'bx\\_pure\\_treatment\\_effect'\n",
       "\\item 'nfse'\n",
       "\\item 'nfl'\n",
       "\\item 'nt1c'\n",
       "\\item 'nt1v'\n",
       "\\item 'nadc.1'\n",
       "\\item 'nfa.1'\n",
       "\\item 'nev1.1'\n",
       "\\item 'nev2.1'\n",
       "\\item 'nev3.1'\n",
       "\\item 'nevrad.1'\n",
       "\\item 'nadc.2'\n",
       "\\item 'nfa.2'\n",
       "\\item 'nev1.2'\n",
       "\\item 'nev2.2'\n",
       "\\item 'nev3.2'\n",
       "\\item 'nevrad.2'\n",
       "\\item 'cbvn\\_nlin'\n",
       "\\item 'phn\\_npar'\n",
       "\\item 'recovn\\_npar'\n",
       "\\item 'cni'\n",
       "\\item 'ccri'\n",
       "\\item 'crni'\n",
       "\\item 'ncho'\n",
       "\\item 'ncre'\n",
       "\\item 'nnaa'\n",
       "\\item 'nlip'\n",
       "\\item 'nlac'\n",
       "\\item 'laclip'\n",
       "\\item 'olddata'\n",
       "\\item 'newdata'\n",
       "\\item 'comments'\n",
       "\\item 'notes.'\n",
       "\\item 'imaging\\_code'\n",
       "\\item 'perf\\_quant'\n",
       "\\item 'spec\\_quant'\n",
       "\\item 'include\\_anat'\n",
       "\\item 'include\\_diffu1000'\n",
       "\\item 'include\\_diffu2000'\n",
       "\\item 'include\\_diffu\\_all'\n",
       "\\item 'include\\_perf'\n",
       "\\item 'include\\_spec'\n",
       "\\item 'include\\_one\\_advanced\\_mod'\n",
       "\\item 'include\\_all\\_advanced\\_mods'\n",
       "\\end{enumerate*}\n"
      ],
      "text/markdown": [
       "1. 'b_number'\n",
       "2. 't_number'\n",
       "3. 'sf_number'\n",
       "4. 'current_scan_date'\n",
       "5. 'current_surgery_date'\n",
       "6. 'current_hist_grade'\n",
       "7. 'current_hist_type'\n",
       "8. 'roi.label'\n",
       "9. 'tumor_cell_evaluation'\n",
       "10. 'necrosis'\n",
       "11. 'f8_delicate'\n",
       "12. 'f8_simple'\n",
       "13. 'f8_complex'\n",
       "14. 'mib_1'\n",
       "15. 'bx_pure_treatment_effect'\n",
       "16. 'nfse'\n",
       "17. 'nfl'\n",
       "18. 'nt1c'\n",
       "19. 'nt1v'\n",
       "20. 'nadc.1'\n",
       "21. 'nfa.1'\n",
       "22. 'nev1.1'\n",
       "23. 'nev2.1'\n",
       "24. 'nev3.1'\n",
       "25. 'nevrad.1'\n",
       "26. 'nadc.2'\n",
       "27. 'nfa.2'\n",
       "28. 'nev1.2'\n",
       "29. 'nev2.2'\n",
       "30. 'nev3.2'\n",
       "31. 'nevrad.2'\n",
       "32. 'cbvn_nlin'\n",
       "33. 'phn_npar'\n",
       "34. 'recovn_npar'\n",
       "35. 'cni'\n",
       "36. 'ccri'\n",
       "37. 'crni'\n",
       "38. 'ncho'\n",
       "39. 'ncre'\n",
       "40. 'nnaa'\n",
       "41. 'nlip'\n",
       "42. 'nlac'\n",
       "43. 'laclip'\n",
       "44. 'olddata'\n",
       "45. 'newdata'\n",
       "46. 'comments'\n",
       "47. 'notes.'\n",
       "48. 'imaging_code'\n",
       "49. 'perf_quant'\n",
       "50. 'spec_quant'\n",
       "51. 'include_anat'\n",
       "52. 'include_diffu1000'\n",
       "53. 'include_diffu2000'\n",
       "54. 'include_diffu_all'\n",
       "55. 'include_perf'\n",
       "56. 'include_spec'\n",
       "57. 'include_one_advanced_mod'\n",
       "58. 'include_all_advanced_mods'\n",
       "\n",
       "\n"
      ],
      "text/plain": [
       " [1] \"b_number\"                  \"t_number\"                 \n",
       " [3] \"sf_number\"                 \"current_scan_date\"        \n",
       " [5] \"current_surgery_date\"      \"current_hist_grade\"       \n",
       " [7] \"current_hist_type\"         \"roi.label\"                \n",
       " [9] \"tumor_cell_evaluation\"     \"necrosis\"                 \n",
       "[11] \"f8_delicate\"               \"f8_simple\"                \n",
       "[13] \"f8_complex\"                \"mib_1\"                    \n",
       "[15] \"bx_pure_treatment_effect\"  \"nfse\"                     \n",
       "[17] \"nfl\"                       \"nt1c\"                     \n",
       "[19] \"nt1v\"                      \"nadc.1\"                   \n",
       "[21] \"nfa.1\"                     \"nev1.1\"                   \n",
       "[23] \"nev2.1\"                    \"nev3.1\"                   \n",
       "[25] \"nevrad.1\"                  \"nadc.2\"                   \n",
       "[27] \"nfa.2\"                     \"nev1.2\"                   \n",
       "[29] \"nev2.2\"                    \"nev3.2\"                   \n",
       "[31] \"nevrad.2\"                  \"cbvn_nlin\"                \n",
       "[33] \"phn_npar\"                  \"recovn_npar\"              \n",
       "[35] \"cni\"                       \"ccri\"                     \n",
       "[37] \"crni\"                      \"ncho\"                     \n",
       "[39] \"ncre\"                      \"nnaa\"                     \n",
       "[41] \"nlip\"                      \"nlac\"                     \n",
       "[43] \"laclip\"                    \"olddata\"                  \n",
       "[45] \"newdata\"                   \"comments\"                 \n",
       "[47] \"notes.\"                    \"imaging_code\"             \n",
       "[49] \"perf_quant\"                \"spec_quant\"               \n",
       "[51] \"include_anat\"              \"include_diffu1000\"        \n",
       "[53] \"include_diffu2000\"         \"include_diffu_all\"        \n",
       "[55] \"include_perf\"              \"include_spec\"             \n",
       "[57] \"include_one_advanced_mod\"  \"include_all_advanced_mods\""
      ]
     },
     "metadata": {},
     "output_type": "display_data"
    }
   ],
   "source": [
    "colnames(dat_annot)"
   ]
  },
  {
   "cell_type": "code",
   "execution_count": null,
   "metadata": {
    "collapsed": true
   },
   "outputs": [],
   "source": [
    "roi_info = read.csv(\"\")"
   ]
  }
 ],
 "metadata": {
  "kernelspec": {
   "display_name": "R",
   "language": "R",
   "name": "ir"
  },
  "language_info": {
   "codemirror_mode": "r",
   "file_extension": ".r",
   "mimetype": "text/x-r-source",
   "name": "R",
   "pygments_lexer": "r",
   "version": "3.4.0"
  }
 },
 "nbformat": 4,
 "nbformat_minor": 2
}
