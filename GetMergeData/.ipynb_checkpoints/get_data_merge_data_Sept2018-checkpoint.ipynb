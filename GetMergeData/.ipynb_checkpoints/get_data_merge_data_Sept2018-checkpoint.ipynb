{
 "cells": [
  {
   "cell_type": "code",
   "execution_count": 1,
   "metadata": {
    "collapsed": false,
    "deletable": true,
    "editable": true
   },
   "outputs": [
    {
     "data": {
      "text/html": [
       "<ol class=list-inline>\n",
       "\t<li>'Aug2018'</li>\n",
       "\t<li>'get_data_merge_data_Sept2018.ipynb'</li>\n",
       "\t<li>'get_data_merge_data.ipynb'</li>\n",
       "\t<li>'get_igt_stats_scriptQC.ipynb'</li>\n",
       "\t<li>'get_igt_stats-Aug2018.ipynb'</li>\n",
       "\t<li>'get_igt_stats.ipynb'</li>\n",
       "\t<li>'GetIGTstats_commands.ipynb'</li>\n",
       "\t<li>'Inspect_Perfusion.ipynb'</li>\n",
       "\t<li>'July2018'</li>\n",
       "\t<li>'Sept2018'</li>\n",
       "</ol>\n"
      ],
      "text/latex": [
       "\\begin{enumerate*}\n",
       "\\item 'Aug2018'\n",
       "\\item 'get\\_data\\_merge\\_data\\_Sept2018.ipynb'\n",
       "\\item 'get\\_data\\_merge\\_data.ipynb'\n",
       "\\item 'get\\_igt\\_stats\\_scriptQC.ipynb'\n",
       "\\item 'get\\_igt\\_stats-Aug2018.ipynb'\n",
       "\\item 'get\\_igt\\_stats.ipynb'\n",
       "\\item 'GetIGTstats\\_commands.ipynb'\n",
       "\\item 'Inspect\\_Perfusion.ipynb'\n",
       "\\item 'July2018'\n",
       "\\item 'Sept2018'\n",
       "\\end{enumerate*}\n"
      ],
      "text/markdown": [
       "1. 'Aug2018'\n",
       "2. 'get_data_merge_data_Sept2018.ipynb'\n",
       "3. 'get_data_merge_data.ipynb'\n",
       "4. 'get_igt_stats_scriptQC.ipynb'\n",
       "5. 'get_igt_stats-Aug2018.ipynb'\n",
       "6. 'get_igt_stats.ipynb'\n",
       "7. 'GetIGTstats_commands.ipynb'\n",
       "8. 'Inspect_Perfusion.ipynb'\n",
       "9. 'July2018'\n",
       "10. 'Sept2018'\n",
       "\n",
       "\n"
      ],
      "text/plain": [
       " [1] \"Aug2018\"                            \"get_data_merge_data_Sept2018.ipynb\"\n",
       " [3] \"get_data_merge_data.ipynb\"          \"get_igt_stats_scriptQC.ipynb\"      \n",
       " [5] \"get_igt_stats-Aug2018.ipynb\"        \"get_igt_stats.ipynb\"               \n",
       " [7] \"GetIGTstats_commands.ipynb\"         \"Inspect_Perfusion.ipynb\"           \n",
       " [9] \"July2018\"                           \"Sept2018\"                          "
      ]
     },
     "metadata": {},
     "output_type": "display_data"
    }
   ],
   "source": [
    "list.files()"
   ]
  },
  {
   "cell_type": "code",
   "execution_count": 2,
   "metadata": {
    "collapsed": false,
    "deletable": true,
    "editable": true
   },
   "outputs": [
    {
     "data": {
      "text/html": [
       "'/home/sf673542/DataWrangling/GetMergeData'"
      ],
      "text/latex": [
       "'/home/sf673542/DataWrangling/GetMergeData'"
      ],
      "text/markdown": [
       "'/home/sf673542/DataWrangling/GetMergeData'"
      ],
      "text/plain": [
       "[1] \"/home/sf673542/DataWrangling/GetMergeData\""
      ]
     },
     "metadata": {},
     "output_type": "display_data"
    }
   ],
   "source": [
    "getwd()"
   ]
  },
  {
   "cell_type": "markdown",
   "metadata": {
    "deletable": true,
    "editable": true
   },
   "source": [
    "## Getting & Reading in Data"
   ]
  },
  {
   "cell_type": "markdown",
   "metadata": {
    "deletable": true,
    "editable": true
   },
   "source": [
    "Here we're going to use the ajnr_bnum_tnum.95.csv that we generated (using the R code in /Paula_AJNR/creating_bnum_tnum_list.R) in order to generate new blocks of data & merge them with old data from Sarah's old P01. \n",
    "\n",
    "The first step is to use the R code in /pushed_scripts/Rscripts/ to get the data. We will using the following commands: "
   ]
  },
  {
   "cell_type": "code",
   "execution_count": null,
   "metadata": {
    "collapsed": false
   },
   "outputs": [],
   "source": [
    "## for this, going to just copy over the results from Aug 2018"
   ]
  },
  {
   "cell_type": "markdown",
   "metadata": {
    "deletable": true,
    "editable": true
   },
   "source": [
    "This produced the outputs in /July2018:\n",
    "anat.csv  diffu1000.csv  diffu2000.csv  perf.csv  spec.csv"
   ]
  },
  {
   "cell_type": "code",
   "execution_count": 4,
   "metadata": {
    "collapsed": true,
    "deletable": true,
    "editable": true
   },
   "outputs": [],
   "source": [
    "setwd(\"Sept2018\")"
   ]
  },
  {
   "cell_type": "markdown",
   "metadata": {
    "deletable": true,
    "editable": true
   },
   "source": [
    "Reading in data & parsing it down to fewer meaningless trash columns: "
   ]
  },
  {
   "cell_type": "code",
   "execution_count": 5,
   "metadata": {
    "collapsed": true,
    "deletable": true,
    "editable": true
   },
   "outputs": [],
   "source": [
    "anat = read.csv(\"anat.csv\")\n",
    "diffu1000 = read.csv(\"diffu1000.csv\")\n",
    "diffu2000 = read.csv(\"diffu2000.csv\")\n",
    "perf = read.csv(\"perf.csv\")\n",
    "spec = read.csv(\"spec.csv\")"
   ]
  },
  {
   "cell_type": "code",
   "execution_count": 12,
   "metadata": {
    "collapsed": false,
    "deletable": true,
    "editable": true
   },
   "outputs": [
    {
     "data": {
      "text/html": [
       "<ol class=list-inline>\n",
       "\t<li>'tab.file'</li>\n",
       "\t<li>'t.num'</li>\n",
       "\t<li>'measure'</li>\n",
       "\t<li>'roi.label'</li>\n",
       "\t<li>'vol.cc.'</li>\n",
       "\t<li>'fse'</li>\n",
       "\t<li>'fl'</li>\n",
       "\t<li>'t1c'</li>\n",
       "\t<li>'nfse'</li>\n",
       "\t<li>'nfl'</li>\n",
       "\t<li>'nt1c'</li>\n",
       "\t<li>'t1v'</li>\n",
       "\t<li>'t1d'</li>\n",
       "\t<li>'nt1v'</li>\n",
       "\t<li>'nt1d'</li>\n",
       "</ol>\n"
      ],
      "text/latex": [
       "\\begin{enumerate*}\n",
       "\\item 'tab.file'\n",
       "\\item 't.num'\n",
       "\\item 'measure'\n",
       "\\item 'roi.label'\n",
       "\\item 'vol.cc.'\n",
       "\\item 'fse'\n",
       "\\item 'fl'\n",
       "\\item 't1c'\n",
       "\\item 'nfse'\n",
       "\\item 'nfl'\n",
       "\\item 'nt1c'\n",
       "\\item 't1v'\n",
       "\\item 't1d'\n",
       "\\item 'nt1v'\n",
       "\\item 'nt1d'\n",
       "\\end{enumerate*}\n"
      ],
      "text/markdown": [
       "1. 'tab.file'\n",
       "2. 't.num'\n",
       "3. 'measure'\n",
       "4. 'roi.label'\n",
       "5. 'vol.cc.'\n",
       "6. 'fse'\n",
       "7. 'fl'\n",
       "8. 't1c'\n",
       "9. 'nfse'\n",
       "10. 'nfl'\n",
       "11. 'nt1c'\n",
       "12. 't1v'\n",
       "13. 't1d'\n",
       "14. 'nt1v'\n",
       "15. 'nt1d'\n",
       "\n",
       "\n"
      ],
      "text/plain": [
       " [1] \"tab.file\"  \"t.num\"     \"measure\"   \"roi.label\" \"vol.cc.\"   \"fse\"      \n",
       " [7] \"fl\"        \"t1c\"       \"nfse\"      \"nfl\"       \"nt1c\"      \"t1v\"      \n",
       "[13] \"t1d\"       \"nt1v\"      \"nt1d\"     "
      ]
     },
     "metadata": {},
     "output_type": "display_data"
    },
    {
     "data": {
      "text/html": [
       "<ol class=list-inline>\n",
       "\t<li>275</li>\n",
       "\t<li>15</li>\n",
       "</ol>\n"
      ],
      "text/latex": [
       "\\begin{enumerate*}\n",
       "\\item 275\n",
       "\\item 15\n",
       "\\end{enumerate*}\n"
      ],
      "text/markdown": [
       "1. 275\n",
       "2. 15\n",
       "\n",
       "\n"
      ],
      "text/plain": [
       "[1] 275  15"
      ]
     },
     "metadata": {},
     "output_type": "display_data"
    },
    {
     "data": {
      "text/html": [
       "<ol class=list-inline>\n",
       "\t<li>'tnum_anat'</li>\n",
       "\t<li>'roi.label'</li>\n",
       "\t<li>'fse'</li>\n",
       "\t<li>'fl'</li>\n",
       "\t<li>'t1c'</li>\n",
       "\t<li>'nfse'</li>\n",
       "\t<li>'nfl'</li>\n",
       "\t<li>'nt1c'</li>\n",
       "\t<li>'t1v'</li>\n",
       "\t<li>'t1d'</li>\n",
       "\t<li>'nt1v'</li>\n",
       "\t<li>'nt1d'</li>\n",
       "</ol>\n"
      ],
      "text/latex": [
       "\\begin{enumerate*}\n",
       "\\item 'tnum\\_anat'\n",
       "\\item 'roi.label'\n",
       "\\item 'fse'\n",
       "\\item 'fl'\n",
       "\\item 't1c'\n",
       "\\item 'nfse'\n",
       "\\item 'nfl'\n",
       "\\item 'nt1c'\n",
       "\\item 't1v'\n",
       "\\item 't1d'\n",
       "\\item 'nt1v'\n",
       "\\item 'nt1d'\n",
       "\\end{enumerate*}\n"
      ],
      "text/markdown": [
       "1. 'tnum_anat'\n",
       "2. 'roi.label'\n",
       "3. 'fse'\n",
       "4. 'fl'\n",
       "5. 't1c'\n",
       "6. 'nfse'\n",
       "7. 'nfl'\n",
       "8. 'nt1c'\n",
       "9. 't1v'\n",
       "10. 't1d'\n",
       "11. 'nt1v'\n",
       "12. 'nt1d'\n",
       "\n",
       "\n"
      ],
      "text/plain": [
       " [1] \"tnum_anat\" \"roi.label\" \"fse\"       \"fl\"        \"t1c\"       \"nfse\"     \n",
       " [7] \"nfl\"       \"nt1c\"      \"t1v\"       \"t1d\"       \"nt1v\"      \"nt1d\"     "
      ]
     },
     "metadata": {},
     "output_type": "display_data"
    },
    {
     "data": {
      "text/html": [
       "<ol class=list-inline>\n",
       "\t<li>275</li>\n",
       "\t<li>12</li>\n",
       "</ol>\n"
      ],
      "text/latex": [
       "\\begin{enumerate*}\n",
       "\\item 275\n",
       "\\item 12\n",
       "\\end{enumerate*}\n"
      ],
      "text/markdown": [
       "1. 275\n",
       "2. 12\n",
       "\n",
       "\n"
      ],
      "text/plain": [
       "[1] 275  12"
      ]
     },
     "metadata": {},
     "output_type": "display_data"
    }
   ],
   "source": [
    "colnames(anat)\n",
    "dim(anat)\n",
    "anat_impt = anat[,-c(1,3,5)]\n",
    "colnames(anat_impt)= c(\"tnum_anat\", colnames(anat_impt)[2:length(colnames(anat_impt))])\n",
    "colnames(anat_impt)\n",
    "dim(anat_impt)"
   ]
  },
  {
   "cell_type": "code",
   "execution_count": 13,
   "metadata": {
    "collapsed": false,
    "deletable": true,
    "editable": true
   },
   "outputs": [
    {
     "data": {
      "text/html": [
       "<ol class=list-inline>\n",
       "\t<li>'tab.file'</li>\n",
       "\t<li>'t.num.adcfa'</li>\n",
       "\t<li>'t.num.ev'</li>\n",
       "\t<li>'roi.label'</li>\n",
       "\t<li>'measure'</li>\n",
       "\t<li>'adc'</li>\n",
       "\t<li>'fa'</li>\n",
       "\t<li>'nadc'</li>\n",
       "\t<li>'nfa'</li>\n",
       "\t<li>'ev1'</li>\n",
       "\t<li>'ev2'</li>\n",
       "\t<li>'ev3'</li>\n",
       "\t<li>'evrad'</li>\n",
       "\t<li>'nev1'</li>\n",
       "\t<li>'nev2'</li>\n",
       "\t<li>'nev3'</li>\n",
       "\t<li>'nevrad'</li>\n",
       "</ol>\n"
      ],
      "text/latex": [
       "\\begin{enumerate*}\n",
       "\\item 'tab.file'\n",
       "\\item 't.num.adcfa'\n",
       "\\item 't.num.ev'\n",
       "\\item 'roi.label'\n",
       "\\item 'measure'\n",
       "\\item 'adc'\n",
       "\\item 'fa'\n",
       "\\item 'nadc'\n",
       "\\item 'nfa'\n",
       "\\item 'ev1'\n",
       "\\item 'ev2'\n",
       "\\item 'ev3'\n",
       "\\item 'evrad'\n",
       "\\item 'nev1'\n",
       "\\item 'nev2'\n",
       "\\item 'nev3'\n",
       "\\item 'nevrad'\n",
       "\\end{enumerate*}\n"
      ],
      "text/markdown": [
       "1. 'tab.file'\n",
       "2. 't.num.adcfa'\n",
       "3. 't.num.ev'\n",
       "4. 'roi.label'\n",
       "5. 'measure'\n",
       "6. 'adc'\n",
       "7. 'fa'\n",
       "8. 'nadc'\n",
       "9. 'nfa'\n",
       "10. 'ev1'\n",
       "11. 'ev2'\n",
       "12. 'ev3'\n",
       "13. 'evrad'\n",
       "14. 'nev1'\n",
       "15. 'nev2'\n",
       "16. 'nev3'\n",
       "17. 'nevrad'\n",
       "\n",
       "\n"
      ],
      "text/plain": [
       " [1] \"tab.file\"    \"t.num.adcfa\" \"t.num.ev\"    \"roi.label\"   \"measure\"    \n",
       " [6] \"adc\"         \"fa\"          \"nadc\"        \"nfa\"         \"ev1\"        \n",
       "[11] \"ev2\"         \"ev3\"         \"evrad\"       \"nev1\"        \"nev2\"       \n",
       "[16] \"nev3\"        \"nevrad\"     "
      ]
     },
     "metadata": {},
     "output_type": "display_data"
    },
    {
     "data": {
      "text/html": [
       "<ol class=list-inline>\n",
       "\t<li>223</li>\n",
       "\t<li>17</li>\n",
       "</ol>\n"
      ],
      "text/latex": [
       "\\begin{enumerate*}\n",
       "\\item 223\n",
       "\\item 17\n",
       "\\end{enumerate*}\n"
      ],
      "text/markdown": [
       "1. 223\n",
       "2. 17\n",
       "\n",
       "\n"
      ],
      "text/plain": [
       "[1] 223  17"
      ]
     },
     "metadata": {},
     "output_type": "display_data"
    },
    {
     "data": {
      "text/html": [
       "<ol class=list-inline>\n",
       "\t<li>'t.num.adcfa.1'</li>\n",
       "\t<li>'roi.label'</li>\n",
       "\t<li>'adc.1'</li>\n",
       "\t<li>'fa.1'</li>\n",
       "\t<li>'nadc.1'</li>\n",
       "\t<li>'nfa.1'</li>\n",
       "\t<li>'ev1.1'</li>\n",
       "\t<li>'ev2.1'</li>\n",
       "\t<li>'ev3.1'</li>\n",
       "\t<li>'evrad.1'</li>\n",
       "\t<li>'nev1.1'</li>\n",
       "\t<li>'nev2.1'</li>\n",
       "\t<li>'nev3.1'</li>\n",
       "\t<li>'nevrad.1'</li>\n",
       "</ol>\n"
      ],
      "text/latex": [
       "\\begin{enumerate*}\n",
       "\\item 't.num.adcfa.1'\n",
       "\\item 'roi.label'\n",
       "\\item 'adc.1'\n",
       "\\item 'fa.1'\n",
       "\\item 'nadc.1'\n",
       "\\item 'nfa.1'\n",
       "\\item 'ev1.1'\n",
       "\\item 'ev2.1'\n",
       "\\item 'ev3.1'\n",
       "\\item 'evrad.1'\n",
       "\\item 'nev1.1'\n",
       "\\item 'nev2.1'\n",
       "\\item 'nev3.1'\n",
       "\\item 'nevrad.1'\n",
       "\\end{enumerate*}\n"
      ],
      "text/markdown": [
       "1. 't.num.adcfa.1'\n",
       "2. 'roi.label'\n",
       "3. 'adc.1'\n",
       "4. 'fa.1'\n",
       "5. 'nadc.1'\n",
       "6. 'nfa.1'\n",
       "7. 'ev1.1'\n",
       "8. 'ev2.1'\n",
       "9. 'ev3.1'\n",
       "10. 'evrad.1'\n",
       "11. 'nev1.1'\n",
       "12. 'nev2.1'\n",
       "13. 'nev3.1'\n",
       "14. 'nevrad.1'\n",
       "\n",
       "\n"
      ],
      "text/plain": [
       " [1] \"t.num.adcfa.1\" \"roi.label\"     \"adc.1\"         \"fa.1\"         \n",
       " [5] \"nadc.1\"        \"nfa.1\"         \"ev1.1\"         \"ev2.1\"        \n",
       " [9] \"ev3.1\"         \"evrad.1\"       \"nev1.1\"        \"nev2.1\"       \n",
       "[13] \"nev3.1\"        \"nevrad.1\"     "
      ]
     },
     "metadata": {},
     "output_type": "display_data"
    },
    {
     "data": {
      "text/html": [
       "<ol class=list-inline>\n",
       "\t<li>223</li>\n",
       "\t<li>14</li>\n",
       "</ol>\n"
      ],
      "text/latex": [
       "\\begin{enumerate*}\n",
       "\\item 223\n",
       "\\item 14\n",
       "\\end{enumerate*}\n"
      ],
      "text/markdown": [
       "1. 223\n",
       "2. 14\n",
       "\n",
       "\n"
      ],
      "text/plain": [
       "[1] 223  14"
      ]
     },
     "metadata": {},
     "output_type": "display_data"
    }
   ],
   "source": [
    "colnames(diffu1000)\n",
    "dim(diffu1000)\n",
    "diffu1000_impt = diffu1000[,-c(1,3,5)]\n",
    "colnames(diffu1000_impt)=c(paste(colnames(diffu1000_impt)[1], \".1\", sep = \"\"), colnames(diffu1000_impt)[2], paste(colnames(diffu1000_impt)[3:length(colnames(diffu1000_impt))], \".1\", sep = \"\"))\n",
    "colnames(diffu1000_impt)\n",
    "dim(diffu1000_impt)"
   ]
  },
  {
   "cell_type": "code",
   "execution_count": 14,
   "metadata": {
    "collapsed": false,
    "deletable": true,
    "editable": true
   },
   "outputs": [
    {
     "data": {
      "text/html": [
       "<ol class=list-inline>\n",
       "\t<li>'tab.file'</li>\n",
       "\t<li>'t.num.adcfa'</li>\n",
       "\t<li>'t.num.ev'</li>\n",
       "\t<li>'roi.label'</li>\n",
       "\t<li>'measure'</li>\n",
       "\t<li>'adc'</li>\n",
       "\t<li>'fa'</li>\n",
       "\t<li>'nadc'</li>\n",
       "\t<li>'nfa'</li>\n",
       "\t<li>'ev1'</li>\n",
       "\t<li>'ev2'</li>\n",
       "\t<li>'ev3'</li>\n",
       "\t<li>'evrad'</li>\n",
       "\t<li>'nev1'</li>\n",
       "\t<li>'nev2'</li>\n",
       "\t<li>'nev3'</li>\n",
       "\t<li>'nevrad'</li>\n",
       "</ol>\n"
      ],
      "text/latex": [
       "\\begin{enumerate*}\n",
       "\\item 'tab.file'\n",
       "\\item 't.num.adcfa'\n",
       "\\item 't.num.ev'\n",
       "\\item 'roi.label'\n",
       "\\item 'measure'\n",
       "\\item 'adc'\n",
       "\\item 'fa'\n",
       "\\item 'nadc'\n",
       "\\item 'nfa'\n",
       "\\item 'ev1'\n",
       "\\item 'ev2'\n",
       "\\item 'ev3'\n",
       "\\item 'evrad'\n",
       "\\item 'nev1'\n",
       "\\item 'nev2'\n",
       "\\item 'nev3'\n",
       "\\item 'nevrad'\n",
       "\\end{enumerate*}\n"
      ],
      "text/markdown": [
       "1. 'tab.file'\n",
       "2. 't.num.adcfa'\n",
       "3. 't.num.ev'\n",
       "4. 'roi.label'\n",
       "5. 'measure'\n",
       "6. 'adc'\n",
       "7. 'fa'\n",
       "8. 'nadc'\n",
       "9. 'nfa'\n",
       "10. 'ev1'\n",
       "11. 'ev2'\n",
       "12. 'ev3'\n",
       "13. 'evrad'\n",
       "14. 'nev1'\n",
       "15. 'nev2'\n",
       "16. 'nev3'\n",
       "17. 'nevrad'\n",
       "\n",
       "\n"
      ],
      "text/plain": [
       " [1] \"tab.file\"    \"t.num.adcfa\" \"t.num.ev\"    \"roi.label\"   \"measure\"    \n",
       " [6] \"adc\"         \"fa\"          \"nadc\"        \"nfa\"         \"ev1\"        \n",
       "[11] \"ev2\"         \"ev3\"         \"evrad\"       \"nev1\"        \"nev2\"       \n",
       "[16] \"nev3\"        \"nevrad\"     "
      ]
     },
     "metadata": {},
     "output_type": "display_data"
    },
    {
     "data": {
      "text/html": [
       "<ol class=list-inline>\n",
       "\t<li>263</li>\n",
       "\t<li>17</li>\n",
       "</ol>\n"
      ],
      "text/latex": [
       "\\begin{enumerate*}\n",
       "\\item 263\n",
       "\\item 17\n",
       "\\end{enumerate*}\n"
      ],
      "text/markdown": [
       "1. 263\n",
       "2. 17\n",
       "\n",
       "\n"
      ],
      "text/plain": [
       "[1] 263  17"
      ]
     },
     "metadata": {},
     "output_type": "display_data"
    },
    {
     "data": {
      "text/html": [
       "<ol class=list-inline>\n",
       "\t<li>'t.num.adcfa.2'</li>\n",
       "\t<li>'roi.label'</li>\n",
       "\t<li>'adc.2'</li>\n",
       "\t<li>'fa.2'</li>\n",
       "\t<li>'nadc.2'</li>\n",
       "\t<li>'nfa.2'</li>\n",
       "\t<li>'ev1.2'</li>\n",
       "\t<li>'ev2.2'</li>\n",
       "\t<li>'ev3.2'</li>\n",
       "\t<li>'evrad.2'</li>\n",
       "\t<li>'nev1.2'</li>\n",
       "\t<li>'nev2.2'</li>\n",
       "\t<li>'nev3.2'</li>\n",
       "\t<li>'nevrad.2'</li>\n",
       "</ol>\n"
      ],
      "text/latex": [
       "\\begin{enumerate*}\n",
       "\\item 't.num.adcfa.2'\n",
       "\\item 'roi.label'\n",
       "\\item 'adc.2'\n",
       "\\item 'fa.2'\n",
       "\\item 'nadc.2'\n",
       "\\item 'nfa.2'\n",
       "\\item 'ev1.2'\n",
       "\\item 'ev2.2'\n",
       "\\item 'ev3.2'\n",
       "\\item 'evrad.2'\n",
       "\\item 'nev1.2'\n",
       "\\item 'nev2.2'\n",
       "\\item 'nev3.2'\n",
       "\\item 'nevrad.2'\n",
       "\\end{enumerate*}\n"
      ],
      "text/markdown": [
       "1. 't.num.adcfa.2'\n",
       "2. 'roi.label'\n",
       "3. 'adc.2'\n",
       "4. 'fa.2'\n",
       "5. 'nadc.2'\n",
       "6. 'nfa.2'\n",
       "7. 'ev1.2'\n",
       "8. 'ev2.2'\n",
       "9. 'ev3.2'\n",
       "10. 'evrad.2'\n",
       "11. 'nev1.2'\n",
       "12. 'nev2.2'\n",
       "13. 'nev3.2'\n",
       "14. 'nevrad.2'\n",
       "\n",
       "\n"
      ],
      "text/plain": [
       " [1] \"t.num.adcfa.2\" \"roi.label\"     \"adc.2\"         \"fa.2\"         \n",
       " [5] \"nadc.2\"        \"nfa.2\"         \"ev1.2\"         \"ev2.2\"        \n",
       " [9] \"ev3.2\"         \"evrad.2\"       \"nev1.2\"        \"nev2.2\"       \n",
       "[13] \"nev3.2\"        \"nevrad.2\"     "
      ]
     },
     "metadata": {},
     "output_type": "display_data"
    },
    {
     "data": {
      "text/html": [
       "<ol class=list-inline>\n",
       "\t<li>263</li>\n",
       "\t<li>14</li>\n",
       "</ol>\n"
      ],
      "text/latex": [
       "\\begin{enumerate*}\n",
       "\\item 263\n",
       "\\item 14\n",
       "\\end{enumerate*}\n"
      ],
      "text/markdown": [
       "1. 263\n",
       "2. 14\n",
       "\n",
       "\n"
      ],
      "text/plain": [
       "[1] 263  14"
      ]
     },
     "metadata": {},
     "output_type": "display_data"
    }
   ],
   "source": [
    "colnames(diffu2000)\n",
    "dim(diffu2000)\n",
    "diffu2000_impt = diffu2000[,-c(1,3,5)]\n",
    "colnames(diffu2000_impt)=c(paste(colnames(diffu2000_impt)[1], \".2\", sep = \"\"), colnames(diffu2000_impt)[2], paste(colnames(diffu2000_impt)[3:length(colnames(diffu2000_impt))], \".2\", sep = \"\"))\n",
    "colnames(diffu2000_impt)\n",
    "dim(diffu2000_impt)"
   ]
  },
  {
   "cell_type": "code",
   "execution_count": 15,
   "metadata": {
    "collapsed": false,
    "deletable": true,
    "editable": true
   },
   "outputs": [
    {
     "data": {
      "text/html": [
       "<table>\n",
       "<thead><tr><th scope=col>index</th><th scope=col>colnames</th></tr></thead>\n",
       "<tbody>\n",
       "\t<tr><td> 1            </td><td>bnum          </td></tr>\n",
       "\t<tr><td> 2            </td><td>tnum          </td></tr>\n",
       "\t<tr><td> 3            </td><td>vialid        </td></tr>\n",
       "\t<tr><td> 4            </td><td>ph_nonlin     </td></tr>\n",
       "\t<tr><td> 5            </td><td>phn_nonlin    </td></tr>\n",
       "\t<tr><td> 6            </td><td>cbv_nonlin    </td></tr>\n",
       "\t<tr><td> 7            </td><td>cbvn_nonlin   </td></tr>\n",
       "\t<tr><td> 8            </td><td>recov_nonlin  </td></tr>\n",
       "\t<tr><td> 9            </td><td>recovn_nonlin </td></tr>\n",
       "\t<tr><td>10            </td><td>rf_nonlin     </td></tr>\n",
       "\t<tr><td>11            </td><td>rfn_nonlin    </td></tr>\n",
       "\t<tr><td>12            </td><td>ttp_nonlin    </td></tr>\n",
       "\t<tr><td>13            </td><td>fwhm_nonlin   </td></tr>\n",
       "\t<tr><td>14            </td><td>rsquare_nonlin</td></tr>\n",
       "\t<tr><td>15            </td><td>ph_nonpar     </td></tr>\n",
       "\t<tr><td>16            </td><td>phn_nonpar    </td></tr>\n",
       "\t<tr><td>17            </td><td>pbs_nonpar    </td></tr>\n",
       "\t<tr><td>18            </td><td>pbsn_nonpar   </td></tr>\n",
       "\t<tr><td>19            </td><td>recov_nonpar  </td></tr>\n",
       "\t<tr><td>20            </td><td>recovn_nonpar </td></tr>\n",
       "\t<tr><td>21            </td><td>acorr_nonpar  </td></tr>\n",
       "</tbody>\n",
       "</table>\n"
      ],
      "text/latex": [
       "\\begin{tabular}{r|ll}\n",
       " index & colnames\\\\\n",
       "\\hline\n",
       "\t  1             & bnum          \\\\\n",
       "\t  2             & tnum          \\\\\n",
       "\t  3             & vialid        \\\\\n",
       "\t  4               & ph\\_nonlin     \\\\\n",
       "\t  5               & phn\\_nonlin    \\\\\n",
       "\t  6               & cbv\\_nonlin    \\\\\n",
       "\t  7               & cbvn\\_nonlin   \\\\\n",
       "\t  8               & recov\\_nonlin  \\\\\n",
       "\t  9               & recovn\\_nonlin \\\\\n",
       "\t 10               & rf\\_nonlin     \\\\\n",
       "\t 11               & rfn\\_nonlin    \\\\\n",
       "\t 12               & ttp\\_nonlin    \\\\\n",
       "\t 13               & fwhm\\_nonlin   \\\\\n",
       "\t 14               & rsquare\\_nonlin\\\\\n",
       "\t 15               & ph\\_nonpar     \\\\\n",
       "\t 16               & phn\\_nonpar    \\\\\n",
       "\t 17               & pbs\\_nonpar    \\\\\n",
       "\t 18               & pbsn\\_nonpar   \\\\\n",
       "\t 19               & recov\\_nonpar  \\\\\n",
       "\t 20               & recovn\\_nonpar \\\\\n",
       "\t 21               & acorr\\_nonpar  \\\\\n",
       "\\end{tabular}\n"
      ],
      "text/markdown": [
       "\n",
       "index | colnames | \n",
       "|---|---|---|---|---|---|---|---|---|---|---|---|---|---|---|---|---|---|---|---|---|\n",
       "|  1             | bnum           | \n",
       "|  2             | tnum           | \n",
       "|  3             | vialid         | \n",
       "|  4             | ph_nonlin      | \n",
       "|  5             | phn_nonlin     | \n",
       "|  6             | cbv_nonlin     | \n",
       "|  7             | cbvn_nonlin    | \n",
       "|  8             | recov_nonlin   | \n",
       "|  9             | recovn_nonlin  | \n",
       "| 10             | rf_nonlin      | \n",
       "| 11             | rfn_nonlin     | \n",
       "| 12             | ttp_nonlin     | \n",
       "| 13             | fwhm_nonlin    | \n",
       "| 14             | rsquare_nonlin | \n",
       "| 15             | ph_nonpar      | \n",
       "| 16             | phn_nonpar     | \n",
       "| 17             | pbs_nonpar     | \n",
       "| 18             | pbsn_nonpar    | \n",
       "| 19             | recov_nonpar   | \n",
       "| 20             | recovn_nonpar  | \n",
       "| 21             | acorr_nonpar   | \n",
       "\n",
       "\n"
      ],
      "text/plain": [
       "   index colnames      \n",
       "1   1    bnum          \n",
       "2   2    tnum          \n",
       "3   3    vialid        \n",
       "4   4    ph_nonlin     \n",
       "5   5    phn_nonlin    \n",
       "6   6    cbv_nonlin    \n",
       "7   7    cbvn_nonlin   \n",
       "8   8    recov_nonlin  \n",
       "9   9    recovn_nonlin \n",
       "10 10    rf_nonlin     \n",
       "11 11    rfn_nonlin    \n",
       "12 12    ttp_nonlin    \n",
       "13 13    fwhm_nonlin   \n",
       "14 14    rsquare_nonlin\n",
       "15 15    ph_nonpar     \n",
       "16 16    phn_nonpar    \n",
       "17 17    pbs_nonpar    \n",
       "18 18    pbsn_nonpar   \n",
       "19 19    recov_nonpar  \n",
       "20 20    recovn_nonpar \n",
       "21 21    acorr_nonpar  "
      ]
     },
     "metadata": {},
     "output_type": "display_data"
    },
    {
     "data": {
      "text/html": [
       "<table>\n",
       "<thead><tr><th scope=col>bnum_perf</th><th scope=col>tnum_perf</th><th scope=col>roi.label</th><th scope=col>phn_nlin</th><th scope=col>cbvn_nlin</th><th scope=col>recov_nlin</th><th scope=col>recovn_nlin</th><th scope=col>phn_npar</th><th scope=col>recov_npar</th><th scope=col>recovn_npar</th></tr></thead>\n",
       "<tbody>\n",
       "\t<tr><td>b2947 </td><td>t8775 </td><td>1B61  </td><td>3.70  </td><td>4.88  </td><td> 88.72</td><td>121.00</td><td>3.62  </td><td> 93.68</td><td>100   </td></tr>\n",
       "\t<tr><td>b2947 </td><td>t8775 </td><td>2B61  </td><td>3.03  </td><td>3.82  </td><td>100.00</td><td>136.39</td><td>2.77  </td><td>100.00</td><td>100   </td></tr>\n",
       "\t<tr><td>b2947 </td><td>t8775 </td><td>3B61  </td><td>1.76  </td><td>2.57  </td><td> 88.01</td><td>120.04</td><td>1.83  </td><td> 95.04</td><td>100   </td></tr>\n",
       "\t<tr><td>b2947 </td><td>t8775 </td><td>4B61  </td><td>2.14  </td><td>2.17  </td><td> 81.89</td><td>111.69</td><td>2.10  </td><td> 87.26</td><td>100   </td></tr>\n",
       "\t<tr><td>b3472 </td><td>t8783 </td><td>31B61 </td><td>1.07  </td><td>0.98  </td><td> 99.97</td><td>110.53</td><td>0.99  </td><td>100.00</td><td>100   </td></tr>\n",
       "\t<tr><td>b3472 </td><td>t8783 </td><td>33B61 </td><td>0.90  </td><td>0.94  </td><td> 95.56</td><td>105.65</td><td>0.94  </td><td>100.00</td><td>100   </td></tr>\n",
       "</tbody>\n",
       "</table>\n"
      ],
      "text/latex": [
       "\\begin{tabular}{r|llllllllll}\n",
       " bnum\\_perf & tnum\\_perf & roi.label & phn\\_nlin & cbvn\\_nlin & recov\\_nlin & recovn\\_nlin & phn\\_npar & recov\\_npar & recovn\\_npar\\\\\n",
       "\\hline\n",
       "\t b2947  & t8775  & 1B61   & 3.70   & 4.88   &  88.72 & 121.00 & 3.62   &  93.68 & 100   \\\\\n",
       "\t b2947  & t8775  & 2B61   & 3.03   & 3.82   & 100.00 & 136.39 & 2.77   & 100.00 & 100   \\\\\n",
       "\t b2947  & t8775  & 3B61   & 1.76   & 2.57   &  88.01 & 120.04 & 1.83   &  95.04 & 100   \\\\\n",
       "\t b2947  & t8775  & 4B61   & 2.14   & 2.17   &  81.89 & 111.69 & 2.10   &  87.26 & 100   \\\\\n",
       "\t b3472  & t8783  & 31B61  & 1.07   & 0.98   &  99.97 & 110.53 & 0.99   & 100.00 & 100   \\\\\n",
       "\t b3472  & t8783  & 33B61  & 0.90   & 0.94   &  95.56 & 105.65 & 0.94   & 100.00 & 100   \\\\\n",
       "\\end{tabular}\n"
      ],
      "text/markdown": [
       "\n",
       "bnum_perf | tnum_perf | roi.label | phn_nlin | cbvn_nlin | recov_nlin | recovn_nlin | phn_npar | recov_npar | recovn_npar | \n",
       "|---|---|---|---|---|---|\n",
       "| b2947  | t8775  | 1B61   | 3.70   | 4.88   |  88.72 | 121.00 | 3.62   |  93.68 | 100    | \n",
       "| b2947  | t8775  | 2B61   | 3.03   | 3.82   | 100.00 | 136.39 | 2.77   | 100.00 | 100    | \n",
       "| b2947  | t8775  | 3B61   | 1.76   | 2.57   |  88.01 | 120.04 | 1.83   |  95.04 | 100    | \n",
       "| b2947  | t8775  | 4B61   | 2.14   | 2.17   |  81.89 | 111.69 | 2.10   |  87.26 | 100    | \n",
       "| b3472  | t8783  | 31B61  | 1.07   | 0.98   |  99.97 | 110.53 | 0.99   | 100.00 | 100    | \n",
       "| b3472  | t8783  | 33B61  | 0.90   | 0.94   |  95.56 | 105.65 | 0.94   | 100.00 | 100    | \n",
       "\n",
       "\n"
      ],
      "text/plain": [
       "  bnum_perf tnum_perf roi.label phn_nlin cbvn_nlin recov_nlin recovn_nlin\n",
       "1 b2947     t8775     1B61      3.70     4.88       88.72     121.00     \n",
       "2 b2947     t8775     2B61      3.03     3.82      100.00     136.39     \n",
       "3 b2947     t8775     3B61      1.76     2.57       88.01     120.04     \n",
       "4 b2947     t8775     4B61      2.14     2.17       81.89     111.69     \n",
       "5 b3472     t8783     31B61     1.07     0.98       99.97     110.53     \n",
       "6 b3472     t8783     33B61     0.90     0.94       95.56     105.65     \n",
       "  phn_npar recov_npar recovn_npar\n",
       "1 3.62      93.68     100        \n",
       "2 2.77     100.00     100        \n",
       "3 1.83      95.04     100        \n",
       "4 2.10      87.26     100        \n",
       "5 0.99     100.00     100        \n",
       "6 0.94     100.00     100        "
      ]
     },
     "metadata": {},
     "output_type": "display_data"
    }
   ],
   "source": [
    "data.frame(index = 1:length(colnames(perf)), colnames = colnames(perf))\n",
    "perf_impt = perf[,c(1:3,5,7, 8, 9 ,16,19, 20)]\n",
    "colnames(perf_impt) = c(\"bnum_perf\", \n",
    "                        \"tnum_perf\", \n",
    "                        \"roi.label\", \n",
    "                        \"phn_nlin\", \n",
    "                        \"cbvn_nlin\", \n",
    "                        \"recov_nlin\", \n",
    "                        \"recovn_nlin\",\n",
    "                        \"phn_npar\", \n",
    "                        \"recov_npar\", \n",
    "                        \"recovn_npar\")\n",
    "head(perf_impt)"
   ]
  },
  {
   "cell_type": "code",
   "execution_count": 16,
   "metadata": {
    "collapsed": true,
    "deletable": true,
    "editable": true
   },
   "outputs": [],
   "source": [
    "spec_impt = spec[,-c(1,3,5,14:16, 22:24)]\n",
    "colnames(spec_impt)=c(\"tnum_spec\", colnames(spec_impt)[2:length(colnames(spec_impt))])"
   ]
  },
  {
   "cell_type": "markdown",
   "metadata": {
    "deletable": true,
    "editable": true
   },
   "source": [
    "## Merging New Data into DF: "
   ]
  },
  {
   "cell_type": "code",
   "execution_count": 17,
   "metadata": {
    "collapsed": false,
    "deletable": true,
    "editable": true
   },
   "outputs": [],
   "source": [
    "library(dplyr)"
   ]
  },
  {
   "cell_type": "code",
   "execution_count": 18,
   "metadata": {
    "collapsed": false,
    "deletable": true,
    "editable": true
   },
   "outputs": [
    {
     "name": "stderr",
     "output_type": "stream",
     "text": [
      "Warning message:\n",
      "“Column `roi.label` joining factors with different levels, coercing to character vector”Warning message:\n",
      "“Column `roi.label` joining character vector and factor, coercing into character vector”Warning message:\n",
      "“Column `roi.label` joining character vector and factor, coercing into character vector”Warning message:\n",
      "“Column `roi.label` joining character vector and factor, coercing into character vector”"
     ]
    }
   ],
   "source": [
    "ad1 = full_join(anat_impt, diffu1000_impt, by = \"roi.label\")\n",
    "ad1d2 = full_join(ad1, diffu2000_impt, by = \"roi.label\")\n",
    "adp = full_join(ad1d2, perf_impt, by=\"roi.label\")\n",
    "adps = full_join(adp, spec_impt, by=\"roi.label\")"
   ]
  },
  {
   "cell_type": "markdown",
   "metadata": {
    "deletable": true,
    "editable": true
   },
   "source": [
    "Here we have to go to cerebro & download the latest path report. I named it pathology_report.csv"
   ]
  },
  {
   "cell_type": "code",
   "execution_count": 19,
   "metadata": {
    "collapsed": false,
    "deletable": true,
    "editable": true
   },
   "outputs": [
    {
     "data": {
      "text/html": [
       "<table>\n",
       "<thead><tr><th scope=col>b_number</th><th scope=col>t_number</th><th scope=col>sf_number</th><th scope=col>current_scan_date</th><th scope=col>current_surgery_date</th><th scope=col>post_t_number</th><th scope=col>post_scan_date</th><th scope=col>current_hist_grade</th><th scope=col>current_hist_type</th><th scope=col>vial_id</th><th scope=col>⋯</th><th scope=col>mv_density_overall</th><th scope=col>gfap_one_cell_type</th><th scope=col>h_and_e</th><th scope=col>bx_level_tissue_char</th><th scope=col>treatment_related_ab</th><th scope=col>bx_pure_treatment_effect</th><th scope=col>fields_counted</th><th scope=col>idh1</th><th scope=col>macrop_antibody</th><th scope=col>percent_tumor_nuclei</th></tr></thead>\n",
       "<tbody>\n",
       "\t<tr><td>1338        </td><td>8773        </td><td>9727        </td><td>2013-10-02  </td><td>2013-10-03  </td><td>9877        </td><td>2013-10-04  </td><td>Grade IV    </td><td>Glioblastoma</td><td>60B60       </td><td>⋯           </td><td>NA          </td><td>NA          </td><td>NA          </td><td>NA          </td><td>NA          </td><td>f           </td><td>NA          </td><td>1           </td><td>NA          </td><td> 5          </td></tr>\n",
       "\t<tr><td>1338        </td><td>8773        </td><td>9727        </td><td>2013-10-02  </td><td>2013-10-03  </td><td>9877        </td><td>2013-10-04  </td><td>Grade IV    </td><td>Glioblastoma</td><td>61B60       </td><td>⋯           </td><td>NA          </td><td>NA          </td><td>NA          </td><td>NA          </td><td>NA          </td><td>f           </td><td>NA          </td><td>1           </td><td>NA          </td><td>90          </td></tr>\n",
       "\t<tr><td>1338        </td><td>8773        </td><td>9727        </td><td>2013-10-02  </td><td>2013-10-03  </td><td>9877        </td><td>2013-10-04  </td><td>Grade IV    </td><td>Glioblastoma</td><td>62B60       </td><td>⋯           </td><td>NA          </td><td>NA          </td><td>NA          </td><td>NA          </td><td>NA          </td><td>f           </td><td>NA          </td><td>1           </td><td>NA          </td><td>25          </td></tr>\n",
       "\t<tr><td>1338        </td><td>8773        </td><td>9727        </td><td>2013-10-02  </td><td>2013-10-03  </td><td>9877        </td><td>2013-10-04  </td><td>Grade IV    </td><td>Glioblastoma</td><td>63B60       </td><td>⋯           </td><td>NA          </td><td>NA          </td><td>NA          </td><td>NA          </td><td>NA          </td><td>f           </td><td>NA          </td><td>1           </td><td>NA          </td><td>65          </td></tr>\n",
       "\t<tr><td>2947        </td><td>8775        </td><td>9729        </td><td>2013-10-06  </td><td>2013-10-07  </td><td>9878        </td><td>2013-10-08  </td><td>Grade IV    </td><td>Glioblastoma</td><td>1B61        </td><td>⋯           </td><td>NA          </td><td>NA          </td><td>NA          </td><td>NA          </td><td>NA          </td><td>t           </td><td>NA          </td><td>0           </td><td>NA          </td><td>75          </td></tr>\n",
       "\t<tr><td>2947        </td><td>8775        </td><td>9729        </td><td>2013-10-06  </td><td>2013-10-07  </td><td>9878        </td><td>2013-10-08  </td><td>Grade IV    </td><td>Glioblastoma</td><td>2B61        </td><td>⋯           </td><td>NA          </td><td>NA          </td><td>NA          </td><td>NA          </td><td>NA          </td><td>f           </td><td>NA          </td><td>0           </td><td>NA          </td><td>95          </td></tr>\n",
       "</tbody>\n",
       "</table>\n"
      ],
      "text/latex": [
       "\\begin{tabular}{r|llllllllllllllllllllllllllllllllll}\n",
       " b\\_number & t\\_number & sf\\_number & current\\_scan\\_date & current\\_surgery\\_date & post\\_t\\_number & post\\_scan\\_date & current\\_hist\\_grade & current\\_hist\\_type & vial\\_id & ⋯ & mv\\_density\\_overall & gfap\\_one\\_cell\\_type & h\\_and\\_e & bx\\_level\\_tissue\\_char & treatment\\_related\\_ab & bx\\_pure\\_treatment\\_effect & fields\\_counted & idh1 & macrop\\_antibody & percent\\_tumor\\_nuclei\\\\\n",
       "\\hline\n",
       "\t 1338         & 8773         & 9727         & 2013-10-02   & 2013-10-03   & 9877         & 2013-10-04   & Grade IV     & Glioblastoma & 60B60        & ⋯            & NA           & NA           & NA           & NA           & NA           & f            & NA           & 1            & NA           &  5          \\\\\n",
       "\t 1338         & 8773         & 9727         & 2013-10-02   & 2013-10-03   & 9877         & 2013-10-04   & Grade IV     & Glioblastoma & 61B60        & ⋯            & NA           & NA           & NA           & NA           & NA           & f            & NA           & 1            & NA           & 90          \\\\\n",
       "\t 1338         & 8773         & 9727         & 2013-10-02   & 2013-10-03   & 9877         & 2013-10-04   & Grade IV     & Glioblastoma & 62B60        & ⋯            & NA           & NA           & NA           & NA           & NA           & f            & NA           & 1            & NA           & 25          \\\\\n",
       "\t 1338         & 8773         & 9727         & 2013-10-02   & 2013-10-03   & 9877         & 2013-10-04   & Grade IV     & Glioblastoma & 63B60        & ⋯            & NA           & NA           & NA           & NA           & NA           & f            & NA           & 1            & NA           & 65          \\\\\n",
       "\t 2947         & 8775         & 9729         & 2013-10-06   & 2013-10-07   & 9878         & 2013-10-08   & Grade IV     & Glioblastoma & 1B61         & ⋯            & NA           & NA           & NA           & NA           & NA           & t            & NA           & 0            & NA           & 75          \\\\\n",
       "\t 2947         & 8775         & 9729         & 2013-10-06   & 2013-10-07   & 9878         & 2013-10-08   & Grade IV     & Glioblastoma & 2B61         & ⋯            & NA           & NA           & NA           & NA           & NA           & f            & NA           & 0            & NA           & 95          \\\\\n",
       "\\end{tabular}\n"
      ],
      "text/markdown": [
       "\n",
       "b_number | t_number | sf_number | current_scan_date | current_surgery_date | post_t_number | post_scan_date | current_hist_grade | current_hist_type | vial_id | ⋯ | mv_density_overall | gfap_one_cell_type | h_and_e | bx_level_tissue_char | treatment_related_ab | bx_pure_treatment_effect | fields_counted | idh1 | macrop_antibody | percent_tumor_nuclei | \n",
       "|---|---|---|---|---|---|\n",
       "| 1338         | 8773         | 9727         | 2013-10-02   | 2013-10-03   | 9877         | 2013-10-04   | Grade IV     | Glioblastoma | 60B60        | ⋯            | NA           | NA           | NA           | NA           | NA           | f            | NA           | 1            | NA           |  5           | \n",
       "| 1338         | 8773         | 9727         | 2013-10-02   | 2013-10-03   | 9877         | 2013-10-04   | Grade IV     | Glioblastoma | 61B60        | ⋯            | NA           | NA           | NA           | NA           | NA           | f            | NA           | 1            | NA           | 90           | \n",
       "| 1338         | 8773         | 9727         | 2013-10-02   | 2013-10-03   | 9877         | 2013-10-04   | Grade IV     | Glioblastoma | 62B60        | ⋯            | NA           | NA           | NA           | NA           | NA           | f            | NA           | 1            | NA           | 25           | \n",
       "| 1338         | 8773         | 9727         | 2013-10-02   | 2013-10-03   | 9877         | 2013-10-04   | Grade IV     | Glioblastoma | 63B60        | ⋯            | NA           | NA           | NA           | NA           | NA           | f            | NA           | 1            | NA           | 65           | \n",
       "| 2947         | 8775         | 9729         | 2013-10-06   | 2013-10-07   | 9878         | 2013-10-08   | Grade IV     | Glioblastoma | 1B61         | ⋯            | NA           | NA           | NA           | NA           | NA           | t            | NA           | 0            | NA           | 75           | \n",
       "| 2947         | 8775         | 9729         | 2013-10-06   | 2013-10-07   | 9878         | 2013-10-08   | Grade IV     | Glioblastoma | 2B61         | ⋯            | NA           | NA           | NA           | NA           | NA           | f            | NA           | 0            | NA           | 95           | \n",
       "\n",
       "\n"
      ],
      "text/plain": [
       "  b_number t_number sf_number current_scan_date current_surgery_date\n",
       "1 1338     8773     9727      2013-10-02        2013-10-03          \n",
       "2 1338     8773     9727      2013-10-02        2013-10-03          \n",
       "3 1338     8773     9727      2013-10-02        2013-10-03          \n",
       "4 1338     8773     9727      2013-10-02        2013-10-03          \n",
       "5 2947     8775     9729      2013-10-06        2013-10-07          \n",
       "6 2947     8775     9729      2013-10-06        2013-10-07          \n",
       "  post_t_number post_scan_date current_hist_grade current_hist_type vial_id ⋯\n",
       "1 9877          2013-10-04     Grade IV           Glioblastoma      60B60   ⋯\n",
       "2 9877          2013-10-04     Grade IV           Glioblastoma      61B60   ⋯\n",
       "3 9877          2013-10-04     Grade IV           Glioblastoma      62B60   ⋯\n",
       "4 9877          2013-10-04     Grade IV           Glioblastoma      63B60   ⋯\n",
       "5 9878          2013-10-08     Grade IV           Glioblastoma      1B61    ⋯\n",
       "6 9878          2013-10-08     Grade IV           Glioblastoma      2B61    ⋯\n",
       "  mv_density_overall gfap_one_cell_type h_and_e bx_level_tissue_char\n",
       "1 NA                 NA                 NA      NA                  \n",
       "2 NA                 NA                 NA      NA                  \n",
       "3 NA                 NA                 NA      NA                  \n",
       "4 NA                 NA                 NA      NA                  \n",
       "5 NA                 NA                 NA      NA                  \n",
       "6 NA                 NA                 NA      NA                  \n",
       "  treatment_related_ab bx_pure_treatment_effect fields_counted idh1\n",
       "1 NA                   f                        NA             1   \n",
       "2 NA                   f                        NA             1   \n",
       "3 NA                   f                        NA             1   \n",
       "4 NA                   f                        NA             1   \n",
       "5 NA                   t                        NA             0   \n",
       "6 NA                   f                        NA             0   \n",
       "  macrop_antibody percent_tumor_nuclei\n",
       "1 NA               5                  \n",
       "2 NA              90                  \n",
       "3 NA              25                  \n",
       "4 NA              65                  \n",
       "5 NA              75                  \n",
       "6 NA              95                  "
      ]
     },
     "metadata": {},
     "output_type": "display_data"
    },
    {
     "data": {
      "text/html": [
       "<table>\n",
       "<thead><tr><th scope=col>index</th><th scope=col>colnames.path_report.</th></tr></thead>\n",
       "<tbody>\n",
       "\t<tr><td> 1                      </td><td>b_number                </td></tr>\n",
       "\t<tr><td> 2                      </td><td>t_number                </td></tr>\n",
       "\t<tr><td> 3                      </td><td>sf_number               </td></tr>\n",
       "\t<tr><td> 4                      </td><td>current_scan_date       </td></tr>\n",
       "\t<tr><td> 5                      </td><td>current_surgery_date    </td></tr>\n",
       "\t<tr><td> 6                      </td><td>post_t_number           </td></tr>\n",
       "\t<tr><td> 7                      </td><td>post_scan_date          </td></tr>\n",
       "\t<tr><td> 8                      </td><td>current_hist_grade      </td></tr>\n",
       "\t<tr><td> 9                      </td><td>current_hist_type       </td></tr>\n",
       "\t<tr><td>10                      </td><td>vial_id                 </td></tr>\n",
       "\t<tr><td>11                      </td><td>tumor_cell_evaluation   </td></tr>\n",
       "\t<tr><td>12                      </td><td>necrosis                </td></tr>\n",
       "\t<tr><td>13                      </td><td>mv_hyperplasia          </td></tr>\n",
       "\t<tr><td>14                      </td><td>mv_delicate_vasculature </td></tr>\n",
       "\t<tr><td>15                      </td><td>ca9                     </td></tr>\n",
       "\t<tr><td>16                      </td><td>smi31                   </td></tr>\n",
       "\t<tr><td>17                      </td><td>f8_delicate             </td></tr>\n",
       "\t<tr><td>18                      </td><td>f8_simple               </td></tr>\n",
       "\t<tr><td>19                      </td><td>f8_complex              </td></tr>\n",
       "\t<tr><td>20                      </td><td>mib_1                   </td></tr>\n",
       "\t<tr><td>21                      </td><td>gfap_gliosis            </td></tr>\n",
       "\t<tr><td>22                      </td><td>cd45                    </td></tr>\n",
       "\t<tr><td>23                      </td><td>cd68                    </td></tr>\n",
       "\t<tr><td>24                      </td><td>avgerage_cells          </td></tr>\n",
       "\t<tr><td>25                      </td><td>mv_density_overall      </td></tr>\n",
       "\t<tr><td>26                      </td><td>gfap_one_cell_type      </td></tr>\n",
       "\t<tr><td>27                      </td><td>h_and_e                 </td></tr>\n",
       "\t<tr><td>28                      </td><td>bx_level_tissue_char    </td></tr>\n",
       "\t<tr><td>29                      </td><td>treatment_related_ab    </td></tr>\n",
       "\t<tr><td>30                      </td><td>bx_pure_treatment_effect</td></tr>\n",
       "\t<tr><td>31                      </td><td>fields_counted          </td></tr>\n",
       "\t<tr><td>32                      </td><td>idh1                    </td></tr>\n",
       "\t<tr><td>33                      </td><td>macrop_antibody         </td></tr>\n",
       "\t<tr><td>34                      </td><td>percent_tumor_nuclei    </td></tr>\n",
       "</tbody>\n",
       "</table>\n"
      ],
      "text/latex": [
       "\\begin{tabular}{r|ll}\n",
       " index & colnames.path\\_report.\\\\\n",
       "\\hline\n",
       "\t  1                         & b\\_number                \\\\\n",
       "\t  2                         & t\\_number                \\\\\n",
       "\t  3                         & sf\\_number               \\\\\n",
       "\t  4                           & current\\_scan\\_date       \\\\\n",
       "\t  5                           & current\\_surgery\\_date    \\\\\n",
       "\t  6                           & post\\_t\\_number           \\\\\n",
       "\t  7                           & post\\_scan\\_date          \\\\\n",
       "\t  8                           & current\\_hist\\_grade      \\\\\n",
       "\t  9                           & current\\_hist\\_type       \\\\\n",
       "\t 10                         & vial\\_id                 \\\\\n",
       "\t 11                           & tumor\\_cell\\_evaluation   \\\\\n",
       "\t 12                       & necrosis                \\\\\n",
       "\t 13                         & mv\\_hyperplasia          \\\\\n",
       "\t 14                           & mv\\_delicate\\_vasculature \\\\\n",
       "\t 15                       & ca9                     \\\\\n",
       "\t 16                       & smi31                   \\\\\n",
       "\t 17                         & f8\\_delicate             \\\\\n",
       "\t 18                         & f8\\_simple               \\\\\n",
       "\t 19                         & f8\\_complex              \\\\\n",
       "\t 20                         & mib\\_1                   \\\\\n",
       "\t 21                         & gfap\\_gliosis            \\\\\n",
       "\t 22                       & cd45                    \\\\\n",
       "\t 23                       & cd68                    \\\\\n",
       "\t 24                         & avgerage\\_cells          \\\\\n",
       "\t 25                           & mv\\_density\\_overall      \\\\\n",
       "\t 26                             & gfap\\_one\\_cell\\_type      \\\\\n",
       "\t 27                           & h\\_and\\_e                 \\\\\n",
       "\t 28                             & bx\\_level\\_tissue\\_char    \\\\\n",
       "\t 29                           & treatment\\_related\\_ab    \\\\\n",
       "\t 30                             & bx\\_pure\\_treatment\\_effect\\\\\n",
       "\t 31                         & fields\\_counted          \\\\\n",
       "\t 32                       & idh1                    \\\\\n",
       "\t 33                         & macrop\\_antibody         \\\\\n",
       "\t 34                           & percent\\_tumor\\_nuclei    \\\\\n",
       "\\end{tabular}\n"
      ],
      "text/markdown": [
       "\n",
       "index | colnames.path_report. | \n",
       "|---|---|---|---|---|---|---|---|---|---|---|---|---|---|---|---|---|---|---|---|---|---|---|---|---|---|---|---|---|---|---|---|---|---|\n",
       "|  1                       | b_number                 | \n",
       "|  2                       | t_number                 | \n",
       "|  3                       | sf_number                | \n",
       "|  4                       | current_scan_date        | \n",
       "|  5                       | current_surgery_date     | \n",
       "|  6                       | post_t_number            | \n",
       "|  7                       | post_scan_date           | \n",
       "|  8                       | current_hist_grade       | \n",
       "|  9                       | current_hist_type        | \n",
       "| 10                       | vial_id                  | \n",
       "| 11                       | tumor_cell_evaluation    | \n",
       "| 12                       | necrosis                 | \n",
       "| 13                       | mv_hyperplasia           | \n",
       "| 14                       | mv_delicate_vasculature  | \n",
       "| 15                       | ca9                      | \n",
       "| 16                       | smi31                    | \n",
       "| 17                       | f8_delicate              | \n",
       "| 18                       | f8_simple                | \n",
       "| 19                       | f8_complex               | \n",
       "| 20                       | mib_1                    | \n",
       "| 21                       | gfap_gliosis             | \n",
       "| 22                       | cd45                     | \n",
       "| 23                       | cd68                     | \n",
       "| 24                       | avgerage_cells           | \n",
       "| 25                       | mv_density_overall       | \n",
       "| 26                       | gfap_one_cell_type       | \n",
       "| 27                       | h_and_e                  | \n",
       "| 28                       | bx_level_tissue_char     | \n",
       "| 29                       | treatment_related_ab     | \n",
       "| 30                       | bx_pure_treatment_effect | \n",
       "| 31                       | fields_counted           | \n",
       "| 32                       | idh1                     | \n",
       "| 33                       | macrop_antibody          | \n",
       "| 34                       | percent_tumor_nuclei     | \n",
       "\n",
       "\n"
      ],
      "text/plain": [
       "   index colnames.path_report.   \n",
       "1   1    b_number                \n",
       "2   2    t_number                \n",
       "3   3    sf_number               \n",
       "4   4    current_scan_date       \n",
       "5   5    current_surgery_date    \n",
       "6   6    post_t_number           \n",
       "7   7    post_scan_date          \n",
       "8   8    current_hist_grade      \n",
       "9   9    current_hist_type       \n",
       "10 10    vial_id                 \n",
       "11 11    tumor_cell_evaluation   \n",
       "12 12    necrosis                \n",
       "13 13    mv_hyperplasia          \n",
       "14 14    mv_delicate_vasculature \n",
       "15 15    ca9                     \n",
       "16 16    smi31                   \n",
       "17 17    f8_delicate             \n",
       "18 18    f8_simple               \n",
       "19 19    f8_complex              \n",
       "20 20    mib_1                   \n",
       "21 21    gfap_gliosis            \n",
       "22 22    cd45                    \n",
       "23 23    cd68                    \n",
       "24 24    avgerage_cells          \n",
       "25 25    mv_density_overall      \n",
       "26 26    gfap_one_cell_type      \n",
       "27 27    h_and_e                 \n",
       "28 28    bx_level_tissue_char    \n",
       "29 29    treatment_related_ab    \n",
       "30 30    bx_pure_treatment_effect\n",
       "31 31    fields_counted          \n",
       "32 32    idh1                    \n",
       "33 33    macrop_antibody         \n",
       "34 34    percent_tumor_nuclei    "
      ]
     },
     "metadata": {},
     "output_type": "display_data"
    }
   ],
   "source": [
    "path_report = read.csv(\"../Aug2018/path_report_082018.csv\")\n",
    "head(path_report)\n",
    "data.frame(index = 1:length(colnames(path_report)), colnames(path_report))"
   ]
  },
  {
   "cell_type": "code",
   "execution_count": 20,
   "metadata": {
    "collapsed": false,
    "deletable": true,
    "editable": true
   },
   "outputs": [
    {
     "name": "stderr",
     "output_type": "stream",
     "text": [
      "Warning message:\n",
      "“Column `roi.label` joining factor and character vector, coercing into character vector”"
     ]
    },
    {
     "data": {
      "text/html": [
       "<ol class=list-inline>\n",
       "\t<li>333</li>\n",
       "\t<li>78</li>\n",
       "</ol>\n"
      ],
      "text/latex": [
       "\\begin{enumerate*}\n",
       "\\item 333\n",
       "\\item 78\n",
       "\\end{enumerate*}\n"
      ],
      "text/markdown": [
       "1. 333\n",
       "2. 78\n",
       "\n",
       "\n"
      ],
      "text/plain": [
       "[1] 333  78"
      ]
     },
     "metadata": {},
     "output_type": "display_data"
    },
    {
     "data": {
      "text/html": [
       "<table>\n",
       "<thead><tr><th scope=col>X1.length.colnames.adps_withpath..</th><th scope=col>colnames.adps_withpath.</th></tr></thead>\n",
       "<tbody>\n",
       "\t<tr><td> 1                      </td><td>b_number                </td></tr>\n",
       "\t<tr><td> 2                      </td><td>t_number                </td></tr>\n",
       "\t<tr><td> 3                      </td><td>sf_number               </td></tr>\n",
       "\t<tr><td> 4                      </td><td>current_scan_date       </td></tr>\n",
       "\t<tr><td> 5                      </td><td>current_surgery_date    </td></tr>\n",
       "\t<tr><td> 6                      </td><td>current_hist_grade      </td></tr>\n",
       "\t<tr><td> 7                      </td><td>current_hist_type       </td></tr>\n",
       "\t<tr><td> 8                      </td><td>roi.label               </td></tr>\n",
       "\t<tr><td> 9                      </td><td>tumor_cell_evaluation   </td></tr>\n",
       "\t<tr><td>10                      </td><td>necrosis                </td></tr>\n",
       "\t<tr><td>11                      </td><td>mv_hyperplasia          </td></tr>\n",
       "\t<tr><td>12                      </td><td>f8_delicate             </td></tr>\n",
       "\t<tr><td>13                      </td><td>f8_simple               </td></tr>\n",
       "\t<tr><td>14                      </td><td>f8_complex              </td></tr>\n",
       "\t<tr><td>15                      </td><td>mib_1                   </td></tr>\n",
       "\t<tr><td>16                      </td><td>avgerage_cells          </td></tr>\n",
       "\t<tr><td>17                      </td><td>bx_pure_treatment_effect</td></tr>\n",
       "\t<tr><td>18                      </td><td>percent_tumor_nuclei    </td></tr>\n",
       "\t<tr><td>19                      </td><td>tnum_anat               </td></tr>\n",
       "\t<tr><td>20                      </td><td>fse                     </td></tr>\n",
       "\t<tr><td>21                      </td><td>fl                      </td></tr>\n",
       "\t<tr><td>22                      </td><td>t1c                     </td></tr>\n",
       "\t<tr><td>23                      </td><td>nfse                    </td></tr>\n",
       "\t<tr><td>24                      </td><td>nfl                     </td></tr>\n",
       "\t<tr><td>25                      </td><td>nt1c                    </td></tr>\n",
       "\t<tr><td>26                      </td><td>t1v                     </td></tr>\n",
       "\t<tr><td>27                      </td><td>t1d                     </td></tr>\n",
       "\t<tr><td>28                      </td><td>nt1v                    </td></tr>\n",
       "\t<tr><td>29                      </td><td>nt1d                    </td></tr>\n",
       "\t<tr><td>30                      </td><td>t.num.adcfa.1           </td></tr>\n",
       "\t<tr><td>⋮</td><td>⋮</td></tr>\n",
       "\t<tr><td>49         </td><td>ev2.2      </td></tr>\n",
       "\t<tr><td>50         </td><td>ev3.2      </td></tr>\n",
       "\t<tr><td>51         </td><td>evrad.2    </td></tr>\n",
       "\t<tr><td>52         </td><td>nev1.2     </td></tr>\n",
       "\t<tr><td>53         </td><td>nev2.2     </td></tr>\n",
       "\t<tr><td>54         </td><td>nev3.2     </td></tr>\n",
       "\t<tr><td>55         </td><td>nevrad.2   </td></tr>\n",
       "\t<tr><td>56         </td><td>bnum_perf  </td></tr>\n",
       "\t<tr><td>57         </td><td>tnum_perf  </td></tr>\n",
       "\t<tr><td>58         </td><td>phn_nlin   </td></tr>\n",
       "\t<tr><td>59         </td><td>cbvn_nlin  </td></tr>\n",
       "\t<tr><td>60         </td><td>recov_nlin </td></tr>\n",
       "\t<tr><td>61         </td><td>recovn_nlin</td></tr>\n",
       "\t<tr><td>62         </td><td>phn_npar   </td></tr>\n",
       "\t<tr><td>63         </td><td>recov_npar </td></tr>\n",
       "\t<tr><td>64         </td><td>recovn_npar</td></tr>\n",
       "\t<tr><td>65         </td><td>tnum_spec  </td></tr>\n",
       "\t<tr><td>66         </td><td>cho        </td></tr>\n",
       "\t<tr><td>67         </td><td>cre        </td></tr>\n",
       "\t<tr><td>68         </td><td>naa        </td></tr>\n",
       "\t<tr><td>69         </td><td>lip        </td></tr>\n",
       "\t<tr><td>70         </td><td>lac        </td></tr>\n",
       "\t<tr><td>71         </td><td>cni        </td></tr>\n",
       "\t<tr><td>72         </td><td>ccri       </td></tr>\n",
       "\t<tr><td>73         </td><td>crni       </td></tr>\n",
       "\t<tr><td>74         </td><td>ncho       </td></tr>\n",
       "\t<tr><td>75         </td><td>ncre       </td></tr>\n",
       "\t<tr><td>76         </td><td>nnaa       </td></tr>\n",
       "\t<tr><td>77         </td><td>nlip       </td></tr>\n",
       "\t<tr><td>78         </td><td>nlac       </td></tr>\n",
       "</tbody>\n",
       "</table>\n"
      ],
      "text/latex": [
       "\\begin{tabular}{r|ll}\n",
       " X1.length.colnames.adps\\_withpath.. & colnames.adps\\_withpath.\\\\\n",
       "\\hline\n",
       "\t  1                         & b\\_number                \\\\\n",
       "\t  2                         & t\\_number                \\\\\n",
       "\t  3                         & sf\\_number               \\\\\n",
       "\t  4                           & current\\_scan\\_date       \\\\\n",
       "\t  5                           & current\\_surgery\\_date    \\\\\n",
       "\t  6                           & current\\_hist\\_grade      \\\\\n",
       "\t  7                           & current\\_hist\\_type       \\\\\n",
       "\t  8                       & roi.label               \\\\\n",
       "\t  9                           & tumor\\_cell\\_evaluation   \\\\\n",
       "\t 10                       & necrosis                \\\\\n",
       "\t 11                         & mv\\_hyperplasia          \\\\\n",
       "\t 12                         & f8\\_delicate             \\\\\n",
       "\t 13                         & f8\\_simple               \\\\\n",
       "\t 14                         & f8\\_complex              \\\\\n",
       "\t 15                         & mib\\_1                   \\\\\n",
       "\t 16                         & avgerage\\_cells          \\\\\n",
       "\t 17                             & bx\\_pure\\_treatment\\_effect\\\\\n",
       "\t 18                           & percent\\_tumor\\_nuclei    \\\\\n",
       "\t 19                         & tnum\\_anat               \\\\\n",
       "\t 20                       & fse                     \\\\\n",
       "\t 21                       & fl                      \\\\\n",
       "\t 22                       & t1c                     \\\\\n",
       "\t 23                       & nfse                    \\\\\n",
       "\t 24                       & nfl                     \\\\\n",
       "\t 25                       & nt1c                    \\\\\n",
       "\t 26                       & t1v                     \\\\\n",
       "\t 27                       & t1d                     \\\\\n",
       "\t 28                       & nt1v                    \\\\\n",
       "\t 29                       & nt1d                    \\\\\n",
       "\t 30                       & t.num.adcfa.1           \\\\\n",
       "\t ⋮ & ⋮\\\\\n",
       "\t 49          & ev2.2      \\\\\n",
       "\t 50          & ev3.2      \\\\\n",
       "\t 51          & evrad.2    \\\\\n",
       "\t 52          & nev1.2     \\\\\n",
       "\t 53          & nev2.2     \\\\\n",
       "\t 54          & nev3.2     \\\\\n",
       "\t 55          & nevrad.2   \\\\\n",
       "\t 56            & bnum\\_perf  \\\\\n",
       "\t 57            & tnum\\_perf  \\\\\n",
       "\t 58            & phn\\_nlin   \\\\\n",
       "\t 59            & cbvn\\_nlin  \\\\\n",
       "\t 60            & recov\\_nlin \\\\\n",
       "\t 61            & recovn\\_nlin\\\\\n",
       "\t 62            & phn\\_npar   \\\\\n",
       "\t 63            & recov\\_npar \\\\\n",
       "\t 64            & recovn\\_npar\\\\\n",
       "\t 65            & tnum\\_spec  \\\\\n",
       "\t 66          & cho        \\\\\n",
       "\t 67          & cre        \\\\\n",
       "\t 68          & naa        \\\\\n",
       "\t 69          & lip        \\\\\n",
       "\t 70          & lac        \\\\\n",
       "\t 71          & cni        \\\\\n",
       "\t 72          & ccri       \\\\\n",
       "\t 73          & crni       \\\\\n",
       "\t 74          & ncho       \\\\\n",
       "\t 75          & ncre       \\\\\n",
       "\t 76          & nnaa       \\\\\n",
       "\t 77          & nlip       \\\\\n",
       "\t 78          & nlac       \\\\\n",
       "\\end{tabular}\n"
      ],
      "text/markdown": [
       "\n",
       "X1.length.colnames.adps_withpath.. | colnames.adps_withpath. | \n",
       "|---|---|---|---|---|---|---|---|---|---|---|---|---|---|---|---|---|---|---|---|---|---|---|---|---|---|---|---|---|---|---|---|---|---|---|---|---|---|---|---|---|---|---|---|---|---|---|---|---|---|---|---|---|---|---|---|---|---|---|---|---|\n",
       "|  1                       | b_number                 | \n",
       "|  2                       | t_number                 | \n",
       "|  3                       | sf_number                | \n",
       "|  4                       | current_scan_date        | \n",
       "|  5                       | current_surgery_date     | \n",
       "|  6                       | current_hist_grade       | \n",
       "|  7                       | current_hist_type        | \n",
       "|  8                       | roi.label                | \n",
       "|  9                       | tumor_cell_evaluation    | \n",
       "| 10                       | necrosis                 | \n",
       "| 11                       | mv_hyperplasia           | \n",
       "| 12                       | f8_delicate              | \n",
       "| 13                       | f8_simple                | \n",
       "| 14                       | f8_complex               | \n",
       "| 15                       | mib_1                    | \n",
       "| 16                       | avgerage_cells           | \n",
       "| 17                       | bx_pure_treatment_effect | \n",
       "| 18                       | percent_tumor_nuclei     | \n",
       "| 19                       | tnum_anat                | \n",
       "| 20                       | fse                      | \n",
       "| 21                       | fl                       | \n",
       "| 22                       | t1c                      | \n",
       "| 23                       | nfse                     | \n",
       "| 24                       | nfl                      | \n",
       "| 25                       | nt1c                     | \n",
       "| 26                       | t1v                      | \n",
       "| 27                       | t1d                      | \n",
       "| 28                       | nt1v                     | \n",
       "| 29                       | nt1d                     | \n",
       "| 30                       | t.num.adcfa.1            | \n",
       "| ⋮ | ⋮ | \n",
       "| 49          | ev2.2       | \n",
       "| 50          | ev3.2       | \n",
       "| 51          | evrad.2     | \n",
       "| 52          | nev1.2      | \n",
       "| 53          | nev2.2      | \n",
       "| 54          | nev3.2      | \n",
       "| 55          | nevrad.2    | \n",
       "| 56          | bnum_perf   | \n",
       "| 57          | tnum_perf   | \n",
       "| 58          | phn_nlin    | \n",
       "| 59          | cbvn_nlin   | \n",
       "| 60          | recov_nlin  | \n",
       "| 61          | recovn_nlin | \n",
       "| 62          | phn_npar    | \n",
       "| 63          | recov_npar  | \n",
       "| 64          | recovn_npar | \n",
       "| 65          | tnum_spec   | \n",
       "| 66          | cho         | \n",
       "| 67          | cre         | \n",
       "| 68          | naa         | \n",
       "| 69          | lip         | \n",
       "| 70          | lac         | \n",
       "| 71          | cni         | \n",
       "| 72          | ccri        | \n",
       "| 73          | crni        | \n",
       "| 74          | ncho        | \n",
       "| 75          | ncre        | \n",
       "| 76          | nnaa        | \n",
       "| 77          | nlip        | \n",
       "| 78          | nlac        | \n",
       "\n",
       "\n"
      ],
      "text/plain": [
       "   X1.length.colnames.adps_withpath.. colnames.adps_withpath. \n",
       "1   1                                 b_number                \n",
       "2   2                                 t_number                \n",
       "3   3                                 sf_number               \n",
       "4   4                                 current_scan_date       \n",
       "5   5                                 current_surgery_date    \n",
       "6   6                                 current_hist_grade      \n",
       "7   7                                 current_hist_type       \n",
       "8   8                                 roi.label               \n",
       "9   9                                 tumor_cell_evaluation   \n",
       "10 10                                 necrosis                \n",
       "11 11                                 mv_hyperplasia          \n",
       "12 12                                 f8_delicate             \n",
       "13 13                                 f8_simple               \n",
       "14 14                                 f8_complex              \n",
       "15 15                                 mib_1                   \n",
       "16 16                                 avgerage_cells          \n",
       "17 17                                 bx_pure_treatment_effect\n",
       "18 18                                 percent_tumor_nuclei    \n",
       "19 19                                 tnum_anat               \n",
       "20 20                                 fse                     \n",
       "21 21                                 fl                      \n",
       "22 22                                 t1c                     \n",
       "23 23                                 nfse                    \n",
       "24 24                                 nfl                     \n",
       "25 25                                 nt1c                    \n",
       "26 26                                 t1v                     \n",
       "27 27                                 t1d                     \n",
       "28 28                                 nt1v                    \n",
       "29 29                                 nt1d                    \n",
       "30 30                                 t.num.adcfa.1           \n",
       "⋮  ⋮                                  ⋮                       \n",
       "49 49                                 ev2.2                   \n",
       "50 50                                 ev3.2                   \n",
       "51 51                                 evrad.2                 \n",
       "52 52                                 nev1.2                  \n",
       "53 53                                 nev2.2                  \n",
       "54 54                                 nev3.2                  \n",
       "55 55                                 nevrad.2                \n",
       "56 56                                 bnum_perf               \n",
       "57 57                                 tnum_perf               \n",
       "58 58                                 phn_nlin                \n",
       "59 59                                 cbvn_nlin               \n",
       "60 60                                 recov_nlin              \n",
       "61 61                                 recovn_nlin             \n",
       "62 62                                 phn_npar                \n",
       "63 63                                 recov_npar              \n",
       "64 64                                 recovn_npar             \n",
       "65 65                                 tnum_spec               \n",
       "66 66                                 cho                     \n",
       "67 67                                 cre                     \n",
       "68 68                                 naa                     \n",
       "69 69                                 lip                     \n",
       "70 70                                 lac                     \n",
       "71 71                                 cni                     \n",
       "72 72                                 ccri                    \n",
       "73 73                                 crni                    \n",
       "74 74                                 ncho                    \n",
       "75 75                                 ncre                    \n",
       "76 76                                 nnaa                    \n",
       "77 77                                 nlip                    \n",
       "78 78                                 nlac                    "
      ]
     },
     "metadata": {},
     "output_type": "display_data"
    }
   ],
   "source": [
    "clean_path_report = path_report[,-c(6,7,14:16, 21:23, 25:29, 31:33)]\n",
    "clean_path_report=clean_path_report[!is.na(clean_path_report$t_number),]\n",
    "colnames(clean_path_report)[8]=\"roi.label\"\n",
    "adps_withpath=full_join(clean_path_report, adps, by=\"roi.label\")\n",
    "dim(adps_withpath)\n",
    "data.frame(1:length(colnames(adps_withpath)), colnames(adps_withpath))"
   ]
  },
  {
   "cell_type": "code",
   "execution_count": 21,
   "metadata": {
    "collapsed": false,
    "deletable": true,
    "editable": true
   },
   "outputs": [
    {
     "data": {
      "text/html": [
       "<ol class=list-inline>\n",
       "\t<li>333</li>\n",
       "\t<li>44</li>\n",
       "</ol>\n"
      ],
      "text/latex": [
       "\\begin{enumerate*}\n",
       "\\item 333\n",
       "\\item 44\n",
       "\\end{enumerate*}\n"
      ],
      "text/markdown": [
       "1. 333\n",
       "2. 44\n",
       "\n",
       "\n"
      ],
      "text/plain": [
       "[1] 333  44"
      ]
     },
     "metadata": {},
     "output_type": "display_data"
    }
   ],
   "source": [
    "adps_foranalysis = adps_withpath[,c(\"b_number\", \n",
    "                                   \"t_number\", \n",
    "                                   \"sf_number\", \n",
    "                                   \"current_scan_date\", \n",
    "                                   \"current_surgery_date\", \n",
    "                                   \"current_hist_grade\", \n",
    "                                   'current_hist_type', \n",
    "                                    'roi.label', \n",
    "                                   'tumor_cell_evaluation',\n",
    "                                   'necrosis', \n",
    "                                    'f8_delicate', \n",
    "                                    'f8_simple', \n",
    "                                    'f8_complex',\n",
    "                                   'mib_1', \n",
    "                                   'bx_pure_treatment_effect',\n",
    "                                   'nfse', 'nfl', 'nt1c', 'nt1v', 'nt1d', \n",
    "                                   'nadc.1', 'nfa.1', \"nev1.1\", 'nev2.1',\n",
    "                                   'nev3.1', 'nevrad.1', \n",
    "                                   'nadc.2', 'nfa.2', 'nev1.2', 'nev2.2',\n",
    "                                   'nev3.2', 'nevrad.2', \n",
    "                                    'cbvn_nlin', 'phn_nlin',\n",
    "                                    'phn_npar', \n",
    "                                   'recovn_npar', \n",
    "                                    'cni', 'ccri', 'crni', \n",
    "                                   'ncho', 'ncre', 'nnaa', 'nlip', 'nlac')]\n",
    "dim(adps_foranalysis)"
   ]
  },
  {
   "cell_type": "code",
   "execution_count": 24,
   "metadata": {
    "collapsed": true,
    "deletable": true,
    "editable": true
   },
   "outputs": [],
   "source": [
    "## Copied the old data into this directory: cp ../../../Paula_AJNR/researchpath_withInVivo_oldP01_updatedPERF.apr21.csv ~/DataWrangling/GetData/July2018 |"
   ]
  },
  {
   "cell_type": "code",
   "execution_count": 25,
   "metadata": {
    "collapsed": false,
    "deletable": true,
    "editable": true
   },
   "outputs": [
    {
     "data": {
      "text/html": [
       "<ol class=list-inline>\n",
       "\t<li>328</li>\n",
       "\t<li>44</li>\n",
       "</ol>\n"
      ],
      "text/latex": [
       "\\begin{enumerate*}\n",
       "\\item 328\n",
       "\\item 44\n",
       "\\end{enumerate*}\n"
      ],
      "text/markdown": [
       "1. 328\n",
       "2. 44\n",
       "\n",
       "\n"
      ],
      "text/plain": [
       "[1] 328  44"
      ]
     },
     "metadata": {},
     "output_type": "display_data"
    }
   ],
   "source": [
    "dim(adps_foranalysis[-which((is.na(adps_foranalysis$t_number))),])"
   ]
  },
  {
   "cell_type": "code",
   "execution_count": 26,
   "metadata": {
    "collapsed": false,
    "deletable": true,
    "editable": true
   },
   "outputs": [
    {
     "data": {
      "text/html": [
       "<ol class=list-inline>\n",
       "\t<li>328</li>\n",
       "\t<li>44</li>\n",
       "</ol>\n"
      ],
      "text/latex": [
       "\\begin{enumerate*}\n",
       "\\item 328\n",
       "\\item 44\n",
       "\\end{enumerate*}\n"
      ],
      "text/markdown": [
       "1. 328\n",
       "2. 44\n",
       "\n",
       "\n"
      ],
      "text/plain": [
       "[1] 328  44"
      ]
     },
     "metadata": {},
     "output_type": "display_data"
    }
   ],
   "source": [
    "newdata = adps_foranalysis[-which((is.na(adps_foranalysis$t_number))),]\n",
    "dim(newdata)"
   ]
  },
  {
   "cell_type": "markdown",
   "metadata": {
    "deletable": true,
    "editable": true
   },
   "source": [
    "## Reading in & Cleaning Old Data: "
   ]
  },
  {
   "cell_type": "code",
   "execution_count": 96,
   "metadata": {
    "collapsed": false,
    "deletable": true,
    "editable": true
   },
   "outputs": [],
   "source": [
    "olddata = read.csv(\"../July2018/researchpath_withInVivo_oldP01_updatedPERF.apr21.csv\")"
   ]
  },
  {
   "cell_type": "code",
   "execution_count": 97,
   "metadata": {
    "collapsed": false,
    "deletable": true,
    "editable": true
   },
   "outputs": [
    {
     "data": {
      "text/html": [
       "<ol class=list-inline>\n",
       "\t<li>316</li>\n",
       "\t<li>50</li>\n",
       "</ol>\n"
      ],
      "text/latex": [
       "\\begin{enumerate*}\n",
       "\\item 316\n",
       "\\item 50\n",
       "\\end{enumerate*}\n"
      ],
      "text/markdown": [
       "1. 316\n",
       "2. 50\n",
       "\n",
       "\n"
      ],
      "text/plain": [
       "[1] 316  50"
      ]
     },
     "metadata": {},
     "output_type": "display_data"
    }
   ],
   "source": [
    "dim(olddata)"
   ]
  },
  {
   "cell_type": "code",
   "execution_count": 98,
   "metadata": {
    "collapsed": false,
    "deletable": true,
    "editable": true
   },
   "outputs": [
    {
     "data": {
      "text/html": [
       "<ol class=list-inline>\n",
       "\t<li>'X'</li>\n",
       "\t<li>'vial_id'</li>\n",
       "\t<li>'b_number'</li>\n",
       "\t<li>'t_number'</li>\n",
       "\t<li>'sf_number'</li>\n",
       "\t<li>'current_scan_date'</li>\n",
       "\t<li>'current_surgery_date'</li>\n",
       "\t<li>'current_hist_grade'</li>\n",
       "\t<li>'current_hist_type'</li>\n",
       "\t<li>'tumor_cell_evaluation'</li>\n",
       "\t<li>'necrosis'</li>\n",
       "\t<li>'f8_delicate'</li>\n",
       "\t<li>'f8_simple'</li>\n",
       "\t<li>'f8_complex'</li>\n",
       "\t<li>'mib_1'</li>\n",
       "\t<li>'bx_pure_treatment_effect'</li>\n",
       "\t<li>'nfse'</li>\n",
       "\t<li>'nfl'</li>\n",
       "\t<li>'nt1v'</li>\n",
       "\t<li>'nt1c'</li>\n",
       "\t<li>'nt1d'</li>\n",
       "\t<li>'nadc'</li>\n",
       "\t<li>'nfa'</li>\n",
       "\t<li>'nev1'</li>\n",
       "\t<li>'nev2'</li>\n",
       "\t<li>'nev3'</li>\n",
       "\t<li>'nevrad'</li>\n",
       "\t<li>'nadc.1'</li>\n",
       "\t<li>'nfa.1'</li>\n",
       "\t<li>'nev1.1'</li>\n",
       "\t<li>'nev2.1'</li>\n",
       "\t<li>'nev3.1'</li>\n",
       "\t<li>'nevrad.1'</li>\n",
       "\t<li>'phn_nlin'</li>\n",
       "\t<li>'cbvn_nlin'</li>\n",
       "\t<li>'recovn_nlin'</li>\n",
       "\t<li>'rfn_nlin'</li>\n",
       "\t<li>'phn_npar'</li>\n",
       "\t<li>'recovn_npar'</li>\n",
       "\t<li>'cni'</li>\n",
       "\t<li>'ccri'</li>\n",
       "\t<li>'crni'</li>\n",
       "\t<li>'ncho'</li>\n",
       "\t<li>'ncre'</li>\n",
       "\t<li>'nnaa'</li>\n",
       "\t<li>'nlip'</li>\n",
       "\t<li>'nlac'</li>\n",
       "\t<li>'nxsch'</li>\n",
       "\t<li>'nxscc'</li>\n",
       "\t<li>'nxscr'</li>\n",
       "</ol>\n"
      ],
      "text/latex": [
       "\\begin{enumerate*}\n",
       "\\item 'X'\n",
       "\\item 'vial\\_id'\n",
       "\\item 'b\\_number'\n",
       "\\item 't\\_number'\n",
       "\\item 'sf\\_number'\n",
       "\\item 'current\\_scan\\_date'\n",
       "\\item 'current\\_surgery\\_date'\n",
       "\\item 'current\\_hist\\_grade'\n",
       "\\item 'current\\_hist\\_type'\n",
       "\\item 'tumor\\_cell\\_evaluation'\n",
       "\\item 'necrosis'\n",
       "\\item 'f8\\_delicate'\n",
       "\\item 'f8\\_simple'\n",
       "\\item 'f8\\_complex'\n",
       "\\item 'mib\\_1'\n",
       "\\item 'bx\\_pure\\_treatment\\_effect'\n",
       "\\item 'nfse'\n",
       "\\item 'nfl'\n",
       "\\item 'nt1v'\n",
       "\\item 'nt1c'\n",
       "\\item 'nt1d'\n",
       "\\item 'nadc'\n",
       "\\item 'nfa'\n",
       "\\item 'nev1'\n",
       "\\item 'nev2'\n",
       "\\item 'nev3'\n",
       "\\item 'nevrad'\n",
       "\\item 'nadc.1'\n",
       "\\item 'nfa.1'\n",
       "\\item 'nev1.1'\n",
       "\\item 'nev2.1'\n",
       "\\item 'nev3.1'\n",
       "\\item 'nevrad.1'\n",
       "\\item 'phn\\_nlin'\n",
       "\\item 'cbvn\\_nlin'\n",
       "\\item 'recovn\\_nlin'\n",
       "\\item 'rfn\\_nlin'\n",
       "\\item 'phn\\_npar'\n",
       "\\item 'recovn\\_npar'\n",
       "\\item 'cni'\n",
       "\\item 'ccri'\n",
       "\\item 'crni'\n",
       "\\item 'ncho'\n",
       "\\item 'ncre'\n",
       "\\item 'nnaa'\n",
       "\\item 'nlip'\n",
       "\\item 'nlac'\n",
       "\\item 'nxsch'\n",
       "\\item 'nxscc'\n",
       "\\item 'nxscr'\n",
       "\\end{enumerate*}\n"
      ],
      "text/markdown": [
       "1. 'X'\n",
       "2. 'vial_id'\n",
       "3. 'b_number'\n",
       "4. 't_number'\n",
       "5. 'sf_number'\n",
       "6. 'current_scan_date'\n",
       "7. 'current_surgery_date'\n",
       "8. 'current_hist_grade'\n",
       "9. 'current_hist_type'\n",
       "10. 'tumor_cell_evaluation'\n",
       "11. 'necrosis'\n",
       "12. 'f8_delicate'\n",
       "13. 'f8_simple'\n",
       "14. 'f8_complex'\n",
       "15. 'mib_1'\n",
       "16. 'bx_pure_treatment_effect'\n",
       "17. 'nfse'\n",
       "18. 'nfl'\n",
       "19. 'nt1v'\n",
       "20. 'nt1c'\n",
       "21. 'nt1d'\n",
       "22. 'nadc'\n",
       "23. 'nfa'\n",
       "24. 'nev1'\n",
       "25. 'nev2'\n",
       "26. 'nev3'\n",
       "27. 'nevrad'\n",
       "28. 'nadc.1'\n",
       "29. 'nfa.1'\n",
       "30. 'nev1.1'\n",
       "31. 'nev2.1'\n",
       "32. 'nev3.1'\n",
       "33. 'nevrad.1'\n",
       "34. 'phn_nlin'\n",
       "35. 'cbvn_nlin'\n",
       "36. 'recovn_nlin'\n",
       "37. 'rfn_nlin'\n",
       "38. 'phn_npar'\n",
       "39. 'recovn_npar'\n",
       "40. 'cni'\n",
       "41. 'ccri'\n",
       "42. 'crni'\n",
       "43. 'ncho'\n",
       "44. 'ncre'\n",
       "45. 'nnaa'\n",
       "46. 'nlip'\n",
       "47. 'nlac'\n",
       "48. 'nxsch'\n",
       "49. 'nxscc'\n",
       "50. 'nxscr'\n",
       "\n",
       "\n"
      ],
      "text/plain": [
       " [1] \"X\"                        \"vial_id\"                 \n",
       " [3] \"b_number\"                 \"t_number\"                \n",
       " [5] \"sf_number\"                \"current_scan_date\"       \n",
       " [7] \"current_surgery_date\"     \"current_hist_grade\"      \n",
       " [9] \"current_hist_type\"        \"tumor_cell_evaluation\"   \n",
       "[11] \"necrosis\"                 \"f8_delicate\"             \n",
       "[13] \"f8_simple\"                \"f8_complex\"              \n",
       "[15] \"mib_1\"                    \"bx_pure_treatment_effect\"\n",
       "[17] \"nfse\"                     \"nfl\"                     \n",
       "[19] \"nt1v\"                     \"nt1c\"                    \n",
       "[21] \"nt1d\"                     \"nadc\"                    \n",
       "[23] \"nfa\"                      \"nev1\"                    \n",
       "[25] \"nev2\"                     \"nev3\"                    \n",
       "[27] \"nevrad\"                   \"nadc.1\"                  \n",
       "[29] \"nfa.1\"                    \"nev1.1\"                  \n",
       "[31] \"nev2.1\"                   \"nev3.1\"                  \n",
       "[33] \"nevrad.1\"                 \"phn_nlin\"                \n",
       "[35] \"cbvn_nlin\"                \"recovn_nlin\"             \n",
       "[37] \"rfn_nlin\"                 \"phn_npar\"                \n",
       "[39] \"recovn_npar\"              \"cni\"                     \n",
       "[41] \"ccri\"                     \"crni\"                    \n",
       "[43] \"ncho\"                     \"ncre\"                    \n",
       "[45] \"nnaa\"                     \"nlip\"                    \n",
       "[47] \"nlac\"                     \"nxsch\"                   \n",
       "[49] \"nxscc\"                    \"nxscr\"                   "
      ]
     },
     "metadata": {},
     "output_type": "display_data"
    },
    {
     "data": {
      "text/html": [
       "<ol class=list-inline>\n",
       "\t<li>'b_number'</li>\n",
       "\t<li>'t_number'</li>\n",
       "\t<li>'sf_number'</li>\n",
       "\t<li>'current_scan_date'</li>\n",
       "\t<li>'current_surgery_date'</li>\n",
       "\t<li>'current_hist_grade'</li>\n",
       "\t<li>'current_hist_type'</li>\n",
       "\t<li>'roi.label'</li>\n",
       "\t<li>'tumor_cell_evaluation'</li>\n",
       "\t<li>'necrosis'</li>\n",
       "\t<li>'f8_delicate'</li>\n",
       "\t<li>'f8_simple'</li>\n",
       "\t<li>'f8_complex'</li>\n",
       "\t<li>'mib_1'</li>\n",
       "\t<li>'bx_pure_treatment_effect'</li>\n",
       "\t<li>'nfse'</li>\n",
       "\t<li>'nfl'</li>\n",
       "\t<li>'nt1c'</li>\n",
       "\t<li>'nt1v'</li>\n",
       "\t<li>'nt1d'</li>\n",
       "\t<li>'nadc.1'</li>\n",
       "\t<li>'nfa.1'</li>\n",
       "\t<li>'nev1.1'</li>\n",
       "\t<li>'nev2.1'</li>\n",
       "\t<li>'nev3.1'</li>\n",
       "\t<li>'nevrad.1'</li>\n",
       "\t<li>'nadc.2'</li>\n",
       "\t<li>'nfa.2'</li>\n",
       "\t<li>'nev1.2'</li>\n",
       "\t<li>'nev2.2'</li>\n",
       "\t<li>'nev3.2'</li>\n",
       "\t<li>'nevrad.2'</li>\n",
       "\t<li>'cbvn_nlin'</li>\n",
       "\t<li>'phn_nlin'</li>\n",
       "\t<li>'phn_npar'</li>\n",
       "\t<li>'recovn_npar'</li>\n",
       "\t<li>'cni'</li>\n",
       "\t<li>'ccri'</li>\n",
       "\t<li>'crni'</li>\n",
       "\t<li>'ncho'</li>\n",
       "\t<li>'ncre'</li>\n",
       "\t<li>'nnaa'</li>\n",
       "\t<li>'nlip'</li>\n",
       "\t<li>'nlac'</li>\n",
       "</ol>\n"
      ],
      "text/latex": [
       "\\begin{enumerate*}\n",
       "\\item 'b\\_number'\n",
       "\\item 't\\_number'\n",
       "\\item 'sf\\_number'\n",
       "\\item 'current\\_scan\\_date'\n",
       "\\item 'current\\_surgery\\_date'\n",
       "\\item 'current\\_hist\\_grade'\n",
       "\\item 'current\\_hist\\_type'\n",
       "\\item 'roi.label'\n",
       "\\item 'tumor\\_cell\\_evaluation'\n",
       "\\item 'necrosis'\n",
       "\\item 'f8\\_delicate'\n",
       "\\item 'f8\\_simple'\n",
       "\\item 'f8\\_complex'\n",
       "\\item 'mib\\_1'\n",
       "\\item 'bx\\_pure\\_treatment\\_effect'\n",
       "\\item 'nfse'\n",
       "\\item 'nfl'\n",
       "\\item 'nt1c'\n",
       "\\item 'nt1v'\n",
       "\\item 'nt1d'\n",
       "\\item 'nadc.1'\n",
       "\\item 'nfa.1'\n",
       "\\item 'nev1.1'\n",
       "\\item 'nev2.1'\n",
       "\\item 'nev3.1'\n",
       "\\item 'nevrad.1'\n",
       "\\item 'nadc.2'\n",
       "\\item 'nfa.2'\n",
       "\\item 'nev1.2'\n",
       "\\item 'nev2.2'\n",
       "\\item 'nev3.2'\n",
       "\\item 'nevrad.2'\n",
       "\\item 'cbvn\\_nlin'\n",
       "\\item 'phn\\_nlin'\n",
       "\\item 'phn\\_npar'\n",
       "\\item 'recovn\\_npar'\n",
       "\\item 'cni'\n",
       "\\item 'ccri'\n",
       "\\item 'crni'\n",
       "\\item 'ncho'\n",
       "\\item 'ncre'\n",
       "\\item 'nnaa'\n",
       "\\item 'nlip'\n",
       "\\item 'nlac'\n",
       "\\end{enumerate*}\n"
      ],
      "text/markdown": [
       "1. 'b_number'\n",
       "2. 't_number'\n",
       "3. 'sf_number'\n",
       "4. 'current_scan_date'\n",
       "5. 'current_surgery_date'\n",
       "6. 'current_hist_grade'\n",
       "7. 'current_hist_type'\n",
       "8. 'roi.label'\n",
       "9. 'tumor_cell_evaluation'\n",
       "10. 'necrosis'\n",
       "11. 'f8_delicate'\n",
       "12. 'f8_simple'\n",
       "13. 'f8_complex'\n",
       "14. 'mib_1'\n",
       "15. 'bx_pure_treatment_effect'\n",
       "16. 'nfse'\n",
       "17. 'nfl'\n",
       "18. 'nt1c'\n",
       "19. 'nt1v'\n",
       "20. 'nt1d'\n",
       "21. 'nadc.1'\n",
       "22. 'nfa.1'\n",
       "23. 'nev1.1'\n",
       "24. 'nev2.1'\n",
       "25. 'nev3.1'\n",
       "26. 'nevrad.1'\n",
       "27. 'nadc.2'\n",
       "28. 'nfa.2'\n",
       "29. 'nev1.2'\n",
       "30. 'nev2.2'\n",
       "31. 'nev3.2'\n",
       "32. 'nevrad.2'\n",
       "33. 'cbvn_nlin'\n",
       "34. 'phn_nlin'\n",
       "35. 'phn_npar'\n",
       "36. 'recovn_npar'\n",
       "37. 'cni'\n",
       "38. 'ccri'\n",
       "39. 'crni'\n",
       "40. 'ncho'\n",
       "41. 'ncre'\n",
       "42. 'nnaa'\n",
       "43. 'nlip'\n",
       "44. 'nlac'\n",
       "\n",
       "\n"
      ],
      "text/plain": [
       " [1] \"b_number\"                 \"t_number\"                \n",
       " [3] \"sf_number\"                \"current_scan_date\"       \n",
       " [5] \"current_surgery_date\"     \"current_hist_grade\"      \n",
       " [7] \"current_hist_type\"        \"roi.label\"               \n",
       " [9] \"tumor_cell_evaluation\"    \"necrosis\"                \n",
       "[11] \"f8_delicate\"              \"f8_simple\"               \n",
       "[13] \"f8_complex\"               \"mib_1\"                   \n",
       "[15] \"bx_pure_treatment_effect\" \"nfse\"                    \n",
       "[17] \"nfl\"                      \"nt1c\"                    \n",
       "[19] \"nt1v\"                     \"nt1d\"                    \n",
       "[21] \"nadc.1\"                   \"nfa.1\"                   \n",
       "[23] \"nev1.1\"                   \"nev2.1\"                  \n",
       "[25] \"nev3.1\"                   \"nevrad.1\"                \n",
       "[27] \"nadc.2\"                   \"nfa.2\"                   \n",
       "[29] \"nev1.2\"                   \"nev2.2\"                  \n",
       "[31] \"nev3.2\"                   \"nevrad.2\"                \n",
       "[33] \"cbvn_nlin\"                \"phn_nlin\"                \n",
       "[35] \"phn_npar\"                 \"recovn_npar\"             \n",
       "[37] \"cni\"                      \"ccri\"                    \n",
       "[39] \"crni\"                     \"ncho\"                    \n",
       "[41] \"ncre\"                     \"nnaa\"                    \n",
       "[43] \"nlip\"                     \"nlac\"                    "
      ]
     },
     "metadata": {},
     "output_type": "display_data"
    }
   ],
   "source": [
    "colnames(olddata)\n",
    "colnames(newdata)"
   ]
  },
  {
   "cell_type": "code",
   "execution_count": 99,
   "metadata": {
    "collapsed": false,
    "deletable": true,
    "editable": true
   },
   "outputs": [],
   "source": [
    "olddata = olddata[,-1]"
   ]
  },
  {
   "cell_type": "code",
   "execution_count": 100,
   "metadata": {
    "collapsed": true,
    "deletable": true,
    "editable": true
   },
   "outputs": [],
   "source": [
    "olddata = olddata[,c(2:9,1,10:48)]"
   ]
  },
  {
   "cell_type": "code",
   "execution_count": 101,
   "metadata": {
    "collapsed": false,
    "deletable": true,
    "editable": true
   },
   "outputs": [
    {
     "data": {
      "text/html": [
       "<ol class=list-inline>\n",
       "\t<li>'b_number'</li>\n",
       "\t<li>'t_number'</li>\n",
       "\t<li>'sf_number'</li>\n",
       "\t<li>'current_scan_date'</li>\n",
       "\t<li>'current_surgery_date'</li>\n",
       "\t<li>'current_hist_grade'</li>\n",
       "\t<li>'current_hist_type'</li>\n",
       "\t<li>'roi.label'</li>\n",
       "\t<li>'tumor_cell_evaluation'</li>\n",
       "\t<li>'necrosis'</li>\n",
       "</ol>\n"
      ],
      "text/latex": [
       "\\begin{enumerate*}\n",
       "\\item 'b\\_number'\n",
       "\\item 't\\_number'\n",
       "\\item 'sf\\_number'\n",
       "\\item 'current\\_scan\\_date'\n",
       "\\item 'current\\_surgery\\_date'\n",
       "\\item 'current\\_hist\\_grade'\n",
       "\\item 'current\\_hist\\_type'\n",
       "\\item 'roi.label'\n",
       "\\item 'tumor\\_cell\\_evaluation'\n",
       "\\item 'necrosis'\n",
       "\\end{enumerate*}\n"
      ],
      "text/markdown": [
       "1. 'b_number'\n",
       "2. 't_number'\n",
       "3. 'sf_number'\n",
       "4. 'current_scan_date'\n",
       "5. 'current_surgery_date'\n",
       "6. 'current_hist_grade'\n",
       "7. 'current_hist_type'\n",
       "8. 'roi.label'\n",
       "9. 'tumor_cell_evaluation'\n",
       "10. 'necrosis'\n",
       "\n",
       "\n"
      ],
      "text/plain": [
       " [1] \"b_number\"              \"t_number\"              \"sf_number\"            \n",
       " [4] \"current_scan_date\"     \"current_surgery_date\"  \"current_hist_grade\"   \n",
       " [7] \"current_hist_type\"     \"roi.label\"             \"tumor_cell_evaluation\"\n",
       "[10] \"necrosis\"             "
      ]
     },
     "metadata": {},
     "output_type": "display_data"
    },
    {
     "data": {
      "text/html": [
       "<ol class=list-inline>\n",
       "\t<li>'b_number'</li>\n",
       "\t<li>'t_number'</li>\n",
       "\t<li>'sf_number'</li>\n",
       "\t<li>'current_scan_date'</li>\n",
       "\t<li>'current_surgery_date'</li>\n",
       "\t<li>'current_hist_grade'</li>\n",
       "\t<li>'current_hist_type'</li>\n",
       "\t<li>'tumor_cell_evaluation'</li>\n",
       "\t<li>'vial_id'</li>\n",
       "\t<li>'necrosis'</li>\n",
       "</ol>\n"
      ],
      "text/latex": [
       "\\begin{enumerate*}\n",
       "\\item 'b\\_number'\n",
       "\\item 't\\_number'\n",
       "\\item 'sf\\_number'\n",
       "\\item 'current\\_scan\\_date'\n",
       "\\item 'current\\_surgery\\_date'\n",
       "\\item 'current\\_hist\\_grade'\n",
       "\\item 'current\\_hist\\_type'\n",
       "\\item 'tumor\\_cell\\_evaluation'\n",
       "\\item 'vial\\_id'\n",
       "\\item 'necrosis'\n",
       "\\end{enumerate*}\n"
      ],
      "text/markdown": [
       "1. 'b_number'\n",
       "2. 't_number'\n",
       "3. 'sf_number'\n",
       "4. 'current_scan_date'\n",
       "5. 'current_surgery_date'\n",
       "6. 'current_hist_grade'\n",
       "7. 'current_hist_type'\n",
       "8. 'tumor_cell_evaluation'\n",
       "9. 'vial_id'\n",
       "10. 'necrosis'\n",
       "\n",
       "\n"
      ],
      "text/plain": [
       " [1] \"b_number\"              \"t_number\"              \"sf_number\"            \n",
       " [4] \"current_scan_date\"     \"current_surgery_date\"  \"current_hist_grade\"   \n",
       " [7] \"current_hist_type\"     \"tumor_cell_evaluation\" \"vial_id\"              \n",
       "[10] \"necrosis\"             "
      ]
     },
     "metadata": {},
     "output_type": "display_data"
    }
   ],
   "source": [
    "colnames(newdata)[1:10]\n",
    "colnames(olddata)[1:10]"
   ]
  },
  {
   "cell_type": "code",
   "execution_count": 102,
   "metadata": {
    "collapsed": true,
    "deletable": true,
    "editable": true
   },
   "outputs": [],
   "source": [
    "olddata = olddata[,c(1:7, 9, 8, 10:48)]"
   ]
  },
  {
   "cell_type": "code",
   "execution_count": 103,
   "metadata": {
    "collapsed": false,
    "deletable": true,
    "editable": true
   },
   "outputs": [],
   "source": [
    "colnames(olddata)[8]=\"roi.label\""
   ]
  },
  {
   "cell_type": "code",
   "execution_count": 104,
   "metadata": {
    "collapsed": false,
    "deletable": true,
    "editable": true
   },
   "outputs": [
    {
     "data": {
      "text/html": [
       "TRUE"
      ],
      "text/latex": [
       "TRUE"
      ],
      "text/markdown": [
       "TRUE"
      ],
      "text/plain": [
       "[1] TRUE"
      ]
     },
     "metadata": {},
     "output_type": "display_data"
    }
   ],
   "source": [
    "all.equal(colnames(olddata)[1:10], colnames(newdata)[1:10])"
   ]
  },
  {
   "cell_type": "code",
   "execution_count": 105,
   "metadata": {
    "collapsed": false,
    "deletable": true,
    "editable": true
   },
   "outputs": [
    {
     "data": {
      "text/html": [
       "<ol class=list-inline>\n",
       "\t<li>'f8_delicate'</li>\n",
       "\t<li>'f8_simple'</li>\n",
       "\t<li>'f8_complex'</li>\n",
       "\t<li>'mib_1'</li>\n",
       "\t<li>'bx_pure_treatment_effect'</li>\n",
       "\t<li>'nfse'</li>\n",
       "\t<li>'nfl'</li>\n",
       "\t<li>'nt1c'</li>\n",
       "\t<li>'nt1v'</li>\n",
       "\t<li>'nt1d'</li>\n",
       "</ol>\n"
      ],
      "text/latex": [
       "\\begin{enumerate*}\n",
       "\\item 'f8\\_delicate'\n",
       "\\item 'f8\\_simple'\n",
       "\\item 'f8\\_complex'\n",
       "\\item 'mib\\_1'\n",
       "\\item 'bx\\_pure\\_treatment\\_effect'\n",
       "\\item 'nfse'\n",
       "\\item 'nfl'\n",
       "\\item 'nt1c'\n",
       "\\item 'nt1v'\n",
       "\\item 'nt1d'\n",
       "\\end{enumerate*}\n"
      ],
      "text/markdown": [
       "1. 'f8_delicate'\n",
       "2. 'f8_simple'\n",
       "3. 'f8_complex'\n",
       "4. 'mib_1'\n",
       "5. 'bx_pure_treatment_effect'\n",
       "6. 'nfse'\n",
       "7. 'nfl'\n",
       "8. 'nt1c'\n",
       "9. 'nt1v'\n",
       "10. 'nt1d'\n",
       "\n",
       "\n"
      ],
      "text/plain": [
       " [1] \"f8_delicate\"              \"f8_simple\"               \n",
       " [3] \"f8_complex\"               \"mib_1\"                   \n",
       " [5] \"bx_pure_treatment_effect\" \"nfse\"                    \n",
       " [7] \"nfl\"                      \"nt1c\"                    \n",
       " [9] \"nt1v\"                     \"nt1d\"                    "
      ]
     },
     "metadata": {},
     "output_type": "display_data"
    },
    {
     "data": {
      "text/html": [
       "<ol class=list-inline>\n",
       "\t<li>'f8_delicate'</li>\n",
       "\t<li>'f8_simple'</li>\n",
       "\t<li>'f8_complex'</li>\n",
       "\t<li>'mib_1'</li>\n",
       "\t<li>'bx_pure_treatment_effect'</li>\n",
       "\t<li>'nfse'</li>\n",
       "\t<li>'nfl'</li>\n",
       "\t<li>'nt1v'</li>\n",
       "\t<li>'nt1c'</li>\n",
       "\t<li>'nt1d'</li>\n",
       "</ol>\n"
      ],
      "text/latex": [
       "\\begin{enumerate*}\n",
       "\\item 'f8\\_delicate'\n",
       "\\item 'f8\\_simple'\n",
       "\\item 'f8\\_complex'\n",
       "\\item 'mib\\_1'\n",
       "\\item 'bx\\_pure\\_treatment\\_effect'\n",
       "\\item 'nfse'\n",
       "\\item 'nfl'\n",
       "\\item 'nt1v'\n",
       "\\item 'nt1c'\n",
       "\\item 'nt1d'\n",
       "\\end{enumerate*}\n"
      ],
      "text/markdown": [
       "1. 'f8_delicate'\n",
       "2. 'f8_simple'\n",
       "3. 'f8_complex'\n",
       "4. 'mib_1'\n",
       "5. 'bx_pure_treatment_effect'\n",
       "6. 'nfse'\n",
       "7. 'nfl'\n",
       "8. 'nt1v'\n",
       "9. 'nt1c'\n",
       "10. 'nt1d'\n",
       "\n",
       "\n"
      ],
      "text/plain": [
       " [1] \"f8_delicate\"              \"f8_simple\"               \n",
       " [3] \"f8_complex\"               \"mib_1\"                   \n",
       " [5] \"bx_pure_treatment_effect\" \"nfse\"                    \n",
       " [7] \"nfl\"                      \"nt1v\"                    \n",
       " [9] \"nt1c\"                     \"nt1d\"                    "
      ]
     },
     "metadata": {},
     "output_type": "display_data"
    }
   ],
   "source": [
    "colnames(newdata)[11:20]\n",
    "colnames(olddata)[11:20]"
   ]
  },
  {
   "cell_type": "code",
   "execution_count": 106,
   "metadata": {
    "collapsed": true,
    "deletable": true,
    "editable": true
   },
   "outputs": [],
   "source": [
    "olddata = olddata[,c(1:17, 19, 18, 20:dim(olddata)[2])]"
   ]
  },
  {
   "cell_type": "code",
   "execution_count": 107,
   "metadata": {
    "collapsed": false,
    "deletable": true,
    "editable": true
   },
   "outputs": [
    {
     "data": {
      "text/html": [
       "<ol class=list-inline>\n",
       "\t<li>'f8_delicate'</li>\n",
       "\t<li>'f8_simple'</li>\n",
       "\t<li>'f8_complex'</li>\n",
       "\t<li>'mib_1'</li>\n",
       "\t<li>'bx_pure_treatment_effect'</li>\n",
       "\t<li>'nfse'</li>\n",
       "\t<li>'nfl'</li>\n",
       "\t<li>'nt1c'</li>\n",
       "\t<li>'nt1v'</li>\n",
       "\t<li>'nt1d'</li>\n",
       "</ol>\n"
      ],
      "text/latex": [
       "\\begin{enumerate*}\n",
       "\\item 'f8\\_delicate'\n",
       "\\item 'f8\\_simple'\n",
       "\\item 'f8\\_complex'\n",
       "\\item 'mib\\_1'\n",
       "\\item 'bx\\_pure\\_treatment\\_effect'\n",
       "\\item 'nfse'\n",
       "\\item 'nfl'\n",
       "\\item 'nt1c'\n",
       "\\item 'nt1v'\n",
       "\\item 'nt1d'\n",
       "\\end{enumerate*}\n"
      ],
      "text/markdown": [
       "1. 'f8_delicate'\n",
       "2. 'f8_simple'\n",
       "3. 'f8_complex'\n",
       "4. 'mib_1'\n",
       "5. 'bx_pure_treatment_effect'\n",
       "6. 'nfse'\n",
       "7. 'nfl'\n",
       "8. 'nt1c'\n",
       "9. 'nt1v'\n",
       "10. 'nt1d'\n",
       "\n",
       "\n"
      ],
      "text/plain": [
       " [1] \"f8_delicate\"              \"f8_simple\"               \n",
       " [3] \"f8_complex\"               \"mib_1\"                   \n",
       " [5] \"bx_pure_treatment_effect\" \"nfse\"                    \n",
       " [7] \"nfl\"                      \"nt1c\"                    \n",
       " [9] \"nt1v\"                     \"nt1d\"                    "
      ]
     },
     "metadata": {},
     "output_type": "display_data"
    },
    {
     "data": {
      "text/html": [
       "<ol class=list-inline>\n",
       "\t<li>'f8_delicate'</li>\n",
       "\t<li>'f8_simple'</li>\n",
       "\t<li>'f8_complex'</li>\n",
       "\t<li>'mib_1'</li>\n",
       "\t<li>'bx_pure_treatment_effect'</li>\n",
       "\t<li>'nfse'</li>\n",
       "\t<li>'nfl'</li>\n",
       "\t<li>'nt1c'</li>\n",
       "\t<li>'nt1v'</li>\n",
       "\t<li>'nt1d'</li>\n",
       "</ol>\n"
      ],
      "text/latex": [
       "\\begin{enumerate*}\n",
       "\\item 'f8\\_delicate'\n",
       "\\item 'f8\\_simple'\n",
       "\\item 'f8\\_complex'\n",
       "\\item 'mib\\_1'\n",
       "\\item 'bx\\_pure\\_treatment\\_effect'\n",
       "\\item 'nfse'\n",
       "\\item 'nfl'\n",
       "\\item 'nt1c'\n",
       "\\item 'nt1v'\n",
       "\\item 'nt1d'\n",
       "\\end{enumerate*}\n"
      ],
      "text/markdown": [
       "1. 'f8_delicate'\n",
       "2. 'f8_simple'\n",
       "3. 'f8_complex'\n",
       "4. 'mib_1'\n",
       "5. 'bx_pure_treatment_effect'\n",
       "6. 'nfse'\n",
       "7. 'nfl'\n",
       "8. 'nt1c'\n",
       "9. 'nt1v'\n",
       "10. 'nt1d'\n",
       "\n",
       "\n"
      ],
      "text/plain": [
       " [1] \"f8_delicate\"              \"f8_simple\"               \n",
       " [3] \"f8_complex\"               \"mib_1\"                   \n",
       " [5] \"bx_pure_treatment_effect\" \"nfse\"                    \n",
       " [7] \"nfl\"                      \"nt1c\"                    \n",
       " [9] \"nt1v\"                     \"nt1d\"                    "
      ]
     },
     "metadata": {},
     "output_type": "display_data"
    }
   ],
   "source": [
    "colnames(newdata)[11:20]\n",
    "colnames(olddata)[11:20]"
   ]
  },
  {
   "cell_type": "code",
   "execution_count": 108,
   "metadata": {
    "collapsed": false,
    "deletable": true,
    "editable": true
   },
   "outputs": [
    {
     "data": {
      "text/html": [
       "TRUE"
      ],
      "text/latex": [
       "TRUE"
      ],
      "text/markdown": [
       "TRUE"
      ],
      "text/plain": [
       "[1] TRUE"
      ]
     },
     "metadata": {},
     "output_type": "display_data"
    }
   ],
   "source": [
    "all.equal(colnames(olddata)[1:20], colnames(newdata)[1:20])"
   ]
  },
  {
   "cell_type": "code",
   "execution_count": 109,
   "metadata": {
    "collapsed": false,
    "deletable": true,
    "editable": true
   },
   "outputs": [
    {
     "data": {
      "text/html": [
       "<ol class=list-inline>\n",
       "\t<li>'nadc'</li>\n",
       "\t<li>'nfa'</li>\n",
       "\t<li>'nev1'</li>\n",
       "\t<li>'nev2'</li>\n",
       "\t<li>'nev3'</li>\n",
       "\t<li>'nevrad'</li>\n",
       "\t<li>'nadc.1'</li>\n",
       "\t<li>'nfa.1'</li>\n",
       "\t<li>'nev1.1'</li>\n",
       "\t<li>'nev2.1'</li>\n",
       "</ol>\n"
      ],
      "text/latex": [
       "\\begin{enumerate*}\n",
       "\\item 'nadc'\n",
       "\\item 'nfa'\n",
       "\\item 'nev1'\n",
       "\\item 'nev2'\n",
       "\\item 'nev3'\n",
       "\\item 'nevrad'\n",
       "\\item 'nadc.1'\n",
       "\\item 'nfa.1'\n",
       "\\item 'nev1.1'\n",
       "\\item 'nev2.1'\n",
       "\\end{enumerate*}\n"
      ],
      "text/markdown": [
       "1. 'nadc'\n",
       "2. 'nfa'\n",
       "3. 'nev1'\n",
       "4. 'nev2'\n",
       "5. 'nev3'\n",
       "6. 'nevrad'\n",
       "7. 'nadc.1'\n",
       "8. 'nfa.1'\n",
       "9. 'nev1.1'\n",
       "10. 'nev2.1'\n",
       "\n",
       "\n"
      ],
      "text/plain": [
       " [1] \"nadc\"   \"nfa\"    \"nev1\"   \"nev2\"   \"nev3\"   \"nevrad\" \"nadc.1\" \"nfa.1\" \n",
       " [9] \"nev1.1\" \"nev2.1\""
      ]
     },
     "metadata": {},
     "output_type": "display_data"
    },
    {
     "data": {
      "text/html": [
       "<ol class=list-inline>\n",
       "\t<li>'nadc.1'</li>\n",
       "\t<li>'nfa.1'</li>\n",
       "\t<li>'nev1.1'</li>\n",
       "\t<li>'nev2.1'</li>\n",
       "\t<li>'nev3.1'</li>\n",
       "\t<li>'nevrad.1'</li>\n",
       "\t<li>'nadc.2'</li>\n",
       "\t<li>'nfa.2'</li>\n",
       "\t<li>'nev1.2'</li>\n",
       "\t<li>'nev2.2'</li>\n",
       "</ol>\n"
      ],
      "text/latex": [
       "\\begin{enumerate*}\n",
       "\\item 'nadc.1'\n",
       "\\item 'nfa.1'\n",
       "\\item 'nev1.1'\n",
       "\\item 'nev2.1'\n",
       "\\item 'nev3.1'\n",
       "\\item 'nevrad.1'\n",
       "\\item 'nadc.2'\n",
       "\\item 'nfa.2'\n",
       "\\item 'nev1.2'\n",
       "\\item 'nev2.2'\n",
       "\\end{enumerate*}\n"
      ],
      "text/markdown": [
       "1. 'nadc.1'\n",
       "2. 'nfa.1'\n",
       "3. 'nev1.1'\n",
       "4. 'nev2.1'\n",
       "5. 'nev3.1'\n",
       "6. 'nevrad.1'\n",
       "7. 'nadc.2'\n",
       "8. 'nfa.2'\n",
       "9. 'nev1.2'\n",
       "10. 'nev2.2'\n",
       "\n",
       "\n"
      ],
      "text/plain": [
       " [1] \"nadc.1\"   \"nfa.1\"    \"nev1.1\"   \"nev2.1\"   \"nev3.1\"   \"nevrad.1\"\n",
       " [7] \"nadc.2\"   \"nfa.2\"    \"nev1.2\"   \"nev2.2\"  "
      ]
     },
     "metadata": {},
     "output_type": "display_data"
    }
   ],
   "source": [
    "colnames(olddata)[21:30]\n",
    "colnames(newdata)[21:30]"
   ]
  },
  {
   "cell_type": "code",
   "execution_count": 110,
   "metadata": {
    "collapsed": true,
    "deletable": true,
    "editable": true
   },
   "outputs": [],
   "source": [
    "colnames(olddata)[21:30] = c(\"nadc.1\", \"nfa.1\", \"nev1.1\", \"nev2.1\", \"nev3.1\", \"nevrad.1\", \"nadc.2\", \"nfa.2\", \"nev1.2\", \"nev2.2\")"
   ]
  },
  {
   "cell_type": "code",
   "execution_count": 111,
   "metadata": {
    "collapsed": false,
    "deletable": true,
    "editable": true
   },
   "outputs": [
    {
     "data": {
      "text/html": [
       "TRUE"
      ],
      "text/latex": [
       "TRUE"
      ],
      "text/markdown": [
       "TRUE"
      ],
      "text/plain": [
       "[1] TRUE"
      ]
     },
     "metadata": {},
     "output_type": "display_data"
    }
   ],
   "source": [
    "all.equal(colnames(olddata)[21:30],\n",
    "colnames(newdata)[21:30])"
   ]
  },
  {
   "cell_type": "code",
   "execution_count": 112,
   "metadata": {
    "collapsed": false,
    "deletable": true,
    "editable": true
   },
   "outputs": [
    {
     "data": {
      "text/html": [
       "<ol class=list-inline>\n",
       "\t<li>'nev3.1'</li>\n",
       "\t<li>'nevrad.1'</li>\n",
       "\t<li>'phn_nlin'</li>\n",
       "\t<li>'cbvn_nlin'</li>\n",
       "\t<li>'recovn_nlin'</li>\n",
       "\t<li>'rfn_nlin'</li>\n",
       "\t<li>'phn_npar'</li>\n",
       "\t<li>'recovn_npar'</li>\n",
       "\t<li>'cni'</li>\n",
       "\t<li>'ccri'</li>\n",
       "</ol>\n"
      ],
      "text/latex": [
       "\\begin{enumerate*}\n",
       "\\item 'nev3.1'\n",
       "\\item 'nevrad.1'\n",
       "\\item 'phn\\_nlin'\n",
       "\\item 'cbvn\\_nlin'\n",
       "\\item 'recovn\\_nlin'\n",
       "\\item 'rfn\\_nlin'\n",
       "\\item 'phn\\_npar'\n",
       "\\item 'recovn\\_npar'\n",
       "\\item 'cni'\n",
       "\\item 'ccri'\n",
       "\\end{enumerate*}\n"
      ],
      "text/markdown": [
       "1. 'nev3.1'\n",
       "2. 'nevrad.1'\n",
       "3. 'phn_nlin'\n",
       "4. 'cbvn_nlin'\n",
       "5. 'recovn_nlin'\n",
       "6. 'rfn_nlin'\n",
       "7. 'phn_npar'\n",
       "8. 'recovn_npar'\n",
       "9. 'cni'\n",
       "10. 'ccri'\n",
       "\n",
       "\n"
      ],
      "text/plain": [
       " [1] \"nev3.1\"      \"nevrad.1\"    \"phn_nlin\"    \"cbvn_nlin\"   \"recovn_nlin\"\n",
       " [6] \"rfn_nlin\"    \"phn_npar\"    \"recovn_npar\" \"cni\"         \"ccri\"       "
      ]
     },
     "metadata": {},
     "output_type": "display_data"
    },
    {
     "data": {
      "text/html": [
       "<ol class=list-inline>\n",
       "\t<li>'nev3.2'</li>\n",
       "\t<li>'nevrad.2'</li>\n",
       "\t<li>'cbvn_nlin'</li>\n",
       "\t<li>'phn_nlin'</li>\n",
       "\t<li>'phn_npar'</li>\n",
       "\t<li>'recovn_npar'</li>\n",
       "\t<li>'cni'</li>\n",
       "\t<li>'ccri'</li>\n",
       "\t<li>'crni'</li>\n",
       "\t<li>'ncho'</li>\n",
       "</ol>\n"
      ],
      "text/latex": [
       "\\begin{enumerate*}\n",
       "\\item 'nev3.2'\n",
       "\\item 'nevrad.2'\n",
       "\\item 'cbvn\\_nlin'\n",
       "\\item 'phn\\_nlin'\n",
       "\\item 'phn\\_npar'\n",
       "\\item 'recovn\\_npar'\n",
       "\\item 'cni'\n",
       "\\item 'ccri'\n",
       "\\item 'crni'\n",
       "\\item 'ncho'\n",
       "\\end{enumerate*}\n"
      ],
      "text/markdown": [
       "1. 'nev3.2'\n",
       "2. 'nevrad.2'\n",
       "3. 'cbvn_nlin'\n",
       "4. 'phn_nlin'\n",
       "5. 'phn_npar'\n",
       "6. 'recovn_npar'\n",
       "7. 'cni'\n",
       "8. 'ccri'\n",
       "9. 'crni'\n",
       "10. 'ncho'\n",
       "\n",
       "\n"
      ],
      "text/plain": [
       " [1] \"nev3.2\"      \"nevrad.2\"    \"cbvn_nlin\"   \"phn_nlin\"    \"phn_npar\"   \n",
       " [6] \"recovn_npar\" \"cni\"         \"ccri\"        \"crni\"        \"ncho\"       "
      ]
     },
     "metadata": {},
     "output_type": "display_data"
    }
   ],
   "source": [
    "colnames(olddata)[31:40]\n",
    "colnames(newdata)[31:40]"
   ]
  },
  {
   "cell_type": "code",
   "execution_count": 113,
   "metadata": {
    "collapsed": true,
    "deletable": true,
    "editable": true
   },
   "outputs": [],
   "source": [
    "colnames(olddata)[c(31,32)]=c('nev3.2', \"nevrad.2\")"
   ]
  },
  {
   "cell_type": "code",
   "execution_count": 114,
   "metadata": {
    "collapsed": false
   },
   "outputs": [
    {
     "data": {
      "text/html": [
       "<ol class=list-inline>\n",
       "\t<li>'nev3.2'</li>\n",
       "\t<li>'nevrad.2'</li>\n",
       "\t<li>'phn_nlin'</li>\n",
       "\t<li>'cbvn_nlin'</li>\n",
       "\t<li>'recovn_nlin'</li>\n",
       "\t<li>'rfn_nlin'</li>\n",
       "\t<li>'phn_npar'</li>\n",
       "\t<li>'recovn_npar'</li>\n",
       "\t<li>'cni'</li>\n",
       "\t<li>'ccri'</li>\n",
       "</ol>\n"
      ],
      "text/latex": [
       "\\begin{enumerate*}\n",
       "\\item 'nev3.2'\n",
       "\\item 'nevrad.2'\n",
       "\\item 'phn\\_nlin'\n",
       "\\item 'cbvn\\_nlin'\n",
       "\\item 'recovn\\_nlin'\n",
       "\\item 'rfn\\_nlin'\n",
       "\\item 'phn\\_npar'\n",
       "\\item 'recovn\\_npar'\n",
       "\\item 'cni'\n",
       "\\item 'ccri'\n",
       "\\end{enumerate*}\n"
      ],
      "text/markdown": [
       "1. 'nev3.2'\n",
       "2. 'nevrad.2'\n",
       "3. 'phn_nlin'\n",
       "4. 'cbvn_nlin'\n",
       "5. 'recovn_nlin'\n",
       "6. 'rfn_nlin'\n",
       "7. 'phn_npar'\n",
       "8. 'recovn_npar'\n",
       "9. 'cni'\n",
       "10. 'ccri'\n",
       "\n",
       "\n"
      ],
      "text/plain": [
       " [1] \"nev3.2\"      \"nevrad.2\"    \"phn_nlin\"    \"cbvn_nlin\"   \"recovn_nlin\"\n",
       " [6] \"rfn_nlin\"    \"phn_npar\"    \"recovn_npar\" \"cni\"         \"ccri\"       "
      ]
     },
     "metadata": {},
     "output_type": "display_data"
    },
    {
     "data": {
      "text/html": [
       "<ol class=list-inline>\n",
       "\t<li>'nev3.2'</li>\n",
       "\t<li>'nevrad.2'</li>\n",
       "\t<li>'cbvn_nlin'</li>\n",
       "\t<li>'phn_nlin'</li>\n",
       "\t<li>'phn_npar'</li>\n",
       "\t<li>'recovn_npar'</li>\n",
       "\t<li>'cni'</li>\n",
       "\t<li>'ccri'</li>\n",
       "\t<li>'crni'</li>\n",
       "\t<li>'ncho'</li>\n",
       "</ol>\n"
      ],
      "text/latex": [
       "\\begin{enumerate*}\n",
       "\\item 'nev3.2'\n",
       "\\item 'nevrad.2'\n",
       "\\item 'cbvn\\_nlin'\n",
       "\\item 'phn\\_nlin'\n",
       "\\item 'phn\\_npar'\n",
       "\\item 'recovn\\_npar'\n",
       "\\item 'cni'\n",
       "\\item 'ccri'\n",
       "\\item 'crni'\n",
       "\\item 'ncho'\n",
       "\\end{enumerate*}\n"
      ],
      "text/markdown": [
       "1. 'nev3.2'\n",
       "2. 'nevrad.2'\n",
       "3. 'cbvn_nlin'\n",
       "4. 'phn_nlin'\n",
       "5. 'phn_npar'\n",
       "6. 'recovn_npar'\n",
       "7. 'cni'\n",
       "8. 'ccri'\n",
       "9. 'crni'\n",
       "10. 'ncho'\n",
       "\n",
       "\n"
      ],
      "text/plain": [
       " [1] \"nev3.2\"      \"nevrad.2\"    \"cbvn_nlin\"   \"phn_nlin\"    \"phn_npar\"   \n",
       " [6] \"recovn_npar\" \"cni\"         \"ccri\"        \"crni\"        \"ncho\"       "
      ]
     },
     "metadata": {},
     "output_type": "display_data"
    }
   ],
   "source": [
    "colnames(olddata)[31:40]\n",
    "colnames(newdata)[31:40]"
   ]
  },
  {
   "cell_type": "code",
   "execution_count": 115,
   "metadata": {
    "collapsed": true,
    "deletable": true,
    "editable": true
   },
   "outputs": [],
   "source": [
    "olddata=olddata[,-c(35, 36)]"
   ]
  },
  {
   "cell_type": "code",
   "execution_count": 116,
   "metadata": {
    "collapsed": false
   },
   "outputs": [
    {
     "data": {
      "text/html": [
       "<ol class=list-inline>\n",
       "\t<li>'nev3.2'</li>\n",
       "\t<li>'nevrad.2'</li>\n",
       "\t<li>'phn_nlin'</li>\n",
       "\t<li>'cbvn_nlin'</li>\n",
       "\t<li>'phn_npar'</li>\n",
       "\t<li>'recovn_npar'</li>\n",
       "\t<li>'cni'</li>\n",
       "\t<li>'ccri'</li>\n",
       "\t<li>'crni'</li>\n",
       "\t<li>'ncho'</li>\n",
       "</ol>\n"
      ],
      "text/latex": [
       "\\begin{enumerate*}\n",
       "\\item 'nev3.2'\n",
       "\\item 'nevrad.2'\n",
       "\\item 'phn\\_nlin'\n",
       "\\item 'cbvn\\_nlin'\n",
       "\\item 'phn\\_npar'\n",
       "\\item 'recovn\\_npar'\n",
       "\\item 'cni'\n",
       "\\item 'ccri'\n",
       "\\item 'crni'\n",
       "\\item 'ncho'\n",
       "\\end{enumerate*}\n"
      ],
      "text/markdown": [
       "1. 'nev3.2'\n",
       "2. 'nevrad.2'\n",
       "3. 'phn_nlin'\n",
       "4. 'cbvn_nlin'\n",
       "5. 'phn_npar'\n",
       "6. 'recovn_npar'\n",
       "7. 'cni'\n",
       "8. 'ccri'\n",
       "9. 'crni'\n",
       "10. 'ncho'\n",
       "\n",
       "\n"
      ],
      "text/plain": [
       " [1] \"nev3.2\"      \"nevrad.2\"    \"phn_nlin\"    \"cbvn_nlin\"   \"phn_npar\"   \n",
       " [6] \"recovn_npar\" \"cni\"         \"ccri\"        \"crni\"        \"ncho\"       "
      ]
     },
     "metadata": {},
     "output_type": "display_data"
    },
    {
     "data": {
      "text/html": [
       "<ol class=list-inline>\n",
       "\t<li>'nev3.2'</li>\n",
       "\t<li>'nevrad.2'</li>\n",
       "\t<li>'cbvn_nlin'</li>\n",
       "\t<li>'phn_nlin'</li>\n",
       "\t<li>'phn_npar'</li>\n",
       "\t<li>'recovn_npar'</li>\n",
       "\t<li>'cni'</li>\n",
       "\t<li>'ccri'</li>\n",
       "\t<li>'crni'</li>\n",
       "\t<li>'ncho'</li>\n",
       "</ol>\n"
      ],
      "text/latex": [
       "\\begin{enumerate*}\n",
       "\\item 'nev3.2'\n",
       "\\item 'nevrad.2'\n",
       "\\item 'cbvn\\_nlin'\n",
       "\\item 'phn\\_nlin'\n",
       "\\item 'phn\\_npar'\n",
       "\\item 'recovn\\_npar'\n",
       "\\item 'cni'\n",
       "\\item 'ccri'\n",
       "\\item 'crni'\n",
       "\\item 'ncho'\n",
       "\\end{enumerate*}\n"
      ],
      "text/markdown": [
       "1. 'nev3.2'\n",
       "2. 'nevrad.2'\n",
       "3. 'cbvn_nlin'\n",
       "4. 'phn_nlin'\n",
       "5. 'phn_npar'\n",
       "6. 'recovn_npar'\n",
       "7. 'cni'\n",
       "8. 'ccri'\n",
       "9. 'crni'\n",
       "10. 'ncho'\n",
       "\n",
       "\n"
      ],
      "text/plain": [
       " [1] \"nev3.2\"      \"nevrad.2\"    \"cbvn_nlin\"   \"phn_nlin\"    \"phn_npar\"   \n",
       " [6] \"recovn_npar\" \"cni\"         \"ccri\"        \"crni\"        \"ncho\"       "
      ]
     },
     "metadata": {},
     "output_type": "display_data"
    }
   ],
   "source": [
    "colnames(olddata)[31:40]\n",
    "colnames(newdata)[31:40]"
   ]
  },
  {
   "cell_type": "code",
   "execution_count": 118,
   "metadata": {
    "collapsed": false
   },
   "outputs": [
    {
     "data": {
      "text/html": [
       "'2 string mismatches'"
      ],
      "text/latex": [
       "'2 string mismatches'"
      ],
      "text/markdown": [
       "'2 string mismatches'"
      ],
      "text/plain": [
       "[1] \"2 string mismatches\""
      ]
     },
     "metadata": {},
     "output_type": "display_data"
    }
   ],
   "source": [
    "all.equal(colnames(olddata)[31:40],colnames(newdata)[31:40])"
   ]
  },
  {
   "cell_type": "code",
   "execution_count": 119,
   "metadata": {
    "collapsed": false,
    "deletable": true,
    "editable": true
   },
   "outputs": [],
   "source": [
    "olddata=olddata[,c(1:32, 34, 33, 35:length(colnames(olddata)))]"
   ]
  },
  {
   "cell_type": "code",
   "execution_count": 120,
   "metadata": {
    "collapsed": false,
    "deletable": true,
    "editable": true
   },
   "outputs": [
    {
     "data": {
      "text/html": [
       "<ol class=list-inline>\n",
       "\t<li>'nev3.2'</li>\n",
       "\t<li>'nevrad.2'</li>\n",
       "\t<li>'cbvn_nlin'</li>\n",
       "\t<li>'phn_nlin'</li>\n",
       "\t<li>'phn_npar'</li>\n",
       "\t<li>'recovn_npar'</li>\n",
       "\t<li>'cni'</li>\n",
       "\t<li>'ccri'</li>\n",
       "\t<li>'crni'</li>\n",
       "\t<li>'ncho'</li>\n",
       "</ol>\n"
      ],
      "text/latex": [
       "\\begin{enumerate*}\n",
       "\\item 'nev3.2'\n",
       "\\item 'nevrad.2'\n",
       "\\item 'cbvn\\_nlin'\n",
       "\\item 'phn\\_nlin'\n",
       "\\item 'phn\\_npar'\n",
       "\\item 'recovn\\_npar'\n",
       "\\item 'cni'\n",
       "\\item 'ccri'\n",
       "\\item 'crni'\n",
       "\\item 'ncho'\n",
       "\\end{enumerate*}\n"
      ],
      "text/markdown": [
       "1. 'nev3.2'\n",
       "2. 'nevrad.2'\n",
       "3. 'cbvn_nlin'\n",
       "4. 'phn_nlin'\n",
       "5. 'phn_npar'\n",
       "6. 'recovn_npar'\n",
       "7. 'cni'\n",
       "8. 'ccri'\n",
       "9. 'crni'\n",
       "10. 'ncho'\n",
       "\n",
       "\n"
      ],
      "text/plain": [
       " [1] \"nev3.2\"      \"nevrad.2\"    \"cbvn_nlin\"   \"phn_nlin\"    \"phn_npar\"   \n",
       " [6] \"recovn_npar\" \"cni\"         \"ccri\"        \"crni\"        \"ncho\"       "
      ]
     },
     "metadata": {},
     "output_type": "display_data"
    },
    {
     "data": {
      "text/html": [
       "<ol class=list-inline>\n",
       "\t<li>'nev3.2'</li>\n",
       "\t<li>'nevrad.2'</li>\n",
       "\t<li>'cbvn_nlin'</li>\n",
       "\t<li>'phn_nlin'</li>\n",
       "\t<li>'phn_npar'</li>\n",
       "\t<li>'recovn_npar'</li>\n",
       "\t<li>'cni'</li>\n",
       "\t<li>'ccri'</li>\n",
       "\t<li>'crni'</li>\n",
       "\t<li>'ncho'</li>\n",
       "</ol>\n"
      ],
      "text/latex": [
       "\\begin{enumerate*}\n",
       "\\item 'nev3.2'\n",
       "\\item 'nevrad.2'\n",
       "\\item 'cbvn\\_nlin'\n",
       "\\item 'phn\\_nlin'\n",
       "\\item 'phn\\_npar'\n",
       "\\item 'recovn\\_npar'\n",
       "\\item 'cni'\n",
       "\\item 'ccri'\n",
       "\\item 'crni'\n",
       "\\item 'ncho'\n",
       "\\end{enumerate*}\n"
      ],
      "text/markdown": [
       "1. 'nev3.2'\n",
       "2. 'nevrad.2'\n",
       "3. 'cbvn_nlin'\n",
       "4. 'phn_nlin'\n",
       "5. 'phn_npar'\n",
       "6. 'recovn_npar'\n",
       "7. 'cni'\n",
       "8. 'ccri'\n",
       "9. 'crni'\n",
       "10. 'ncho'\n",
       "\n",
       "\n"
      ],
      "text/plain": [
       " [1] \"nev3.2\"      \"nevrad.2\"    \"cbvn_nlin\"   \"phn_nlin\"    \"phn_npar\"   \n",
       " [6] \"recovn_npar\" \"cni\"         \"ccri\"        \"crni\"        \"ncho\"       "
      ]
     },
     "metadata": {},
     "output_type": "display_data"
    }
   ],
   "source": [
    "colnames(olddata)[31:40]\n",
    "colnames(newdata)[31:40]"
   ]
  },
  {
   "cell_type": "code",
   "execution_count": 121,
   "metadata": {
    "collapsed": false,
    "deletable": true,
    "editable": true
   },
   "outputs": [
    {
     "data": {
      "text/html": [
       "TRUE"
      ],
      "text/latex": [
       "TRUE"
      ],
      "text/markdown": [
       "TRUE"
      ],
      "text/plain": [
       "[1] TRUE"
      ]
     },
     "metadata": {},
     "output_type": "display_data"
    }
   ],
   "source": [
    "all.equal(colnames(olddata)[31:40],colnames(newdata)[31:40])"
   ]
  },
  {
   "cell_type": "code",
   "execution_count": 122,
   "metadata": {
    "collapsed": false,
    "deletable": true,
    "editable": true
   },
   "outputs": [
    {
     "data": {
      "text/html": [
       "<ol class=list-inline>\n",
       "\t<li>'ncre'</li>\n",
       "\t<li>'nnaa'</li>\n",
       "\t<li>'nlip'</li>\n",
       "\t<li>'nlac'</li>\n",
       "\t<li>'nxsch'</li>\n",
       "\t<li>'nxscc'</li>\n",
       "</ol>\n"
      ],
      "text/latex": [
       "\\begin{enumerate*}\n",
       "\\item 'ncre'\n",
       "\\item 'nnaa'\n",
       "\\item 'nlip'\n",
       "\\item 'nlac'\n",
       "\\item 'nxsch'\n",
       "\\item 'nxscc'\n",
       "\\end{enumerate*}\n"
      ],
      "text/markdown": [
       "1. 'ncre'\n",
       "2. 'nnaa'\n",
       "3. 'nlip'\n",
       "4. 'nlac'\n",
       "5. 'nxsch'\n",
       "6. 'nxscc'\n",
       "\n",
       "\n"
      ],
      "text/plain": [
       "[1] \"ncre\"  \"nnaa\"  \"nlip\"  \"nlac\"  \"nxsch\" \"nxscc\""
      ]
     },
     "metadata": {},
     "output_type": "display_data"
    },
    {
     "data": {
      "text/html": [
       "<ol class=list-inline>\n",
       "\t<li>'ncre'</li>\n",
       "\t<li>'nnaa'</li>\n",
       "\t<li>'nlip'</li>\n",
       "\t<li>'nlac'</li>\n",
       "</ol>\n"
      ],
      "text/latex": [
       "\\begin{enumerate*}\n",
       "\\item 'ncre'\n",
       "\\item 'nnaa'\n",
       "\\item 'nlip'\n",
       "\\item 'nlac'\n",
       "\\end{enumerate*}\n"
      ],
      "text/markdown": [
       "1. 'ncre'\n",
       "2. 'nnaa'\n",
       "3. 'nlip'\n",
       "4. 'nlac'\n",
       "\n",
       "\n"
      ],
      "text/plain": [
       "[1] \"ncre\" \"nnaa\" \"nlip\" \"nlac\""
      ]
     },
     "metadata": {},
     "output_type": "display_data"
    }
   ],
   "source": [
    "colnames(olddata)[41:dim(olddata)[2]]\n",
    "colnames(newdata)[41:dim(newdata)[2]]"
   ]
  },
  {
   "cell_type": "code",
   "execution_count": 123,
   "metadata": {
    "collapsed": true,
    "deletable": true,
    "editable": true
   },
   "outputs": [],
   "source": [
    "olddata = olddata[,-c(45:46)]"
   ]
  },
  {
   "cell_type": "code",
   "execution_count": 124,
   "metadata": {
    "collapsed": false,
    "deletable": true,
    "editable": true
   },
   "outputs": [
    {
     "data": {
      "text/html": [
       "<ol class=list-inline>\n",
       "\t<li>'b_number'</li>\n",
       "\t<li>'t_number'</li>\n",
       "\t<li>'sf_number'</li>\n",
       "\t<li>'current_scan_date'</li>\n",
       "\t<li>'current_surgery_date'</li>\n",
       "\t<li>'current_hist_grade'</li>\n",
       "\t<li>'current_hist_type'</li>\n",
       "\t<li>'roi.label'</li>\n",
       "\t<li>'tumor_cell_evaluation'</li>\n",
       "\t<li>'necrosis'</li>\n",
       "\t<li>'f8_delicate'</li>\n",
       "\t<li>'f8_simple'</li>\n",
       "\t<li>'f8_complex'</li>\n",
       "\t<li>'mib_1'</li>\n",
       "\t<li>'bx_pure_treatment_effect'</li>\n",
       "\t<li>'nfse'</li>\n",
       "\t<li>'nfl'</li>\n",
       "\t<li>'nt1c'</li>\n",
       "\t<li>'nt1v'</li>\n",
       "\t<li>'nt1d'</li>\n",
       "\t<li>'nadc.1'</li>\n",
       "\t<li>'nfa.1'</li>\n",
       "\t<li>'nev1.1'</li>\n",
       "\t<li>'nev2.1'</li>\n",
       "\t<li>'nev3.1'</li>\n",
       "\t<li>'nevrad.1'</li>\n",
       "\t<li>'nadc.2'</li>\n",
       "\t<li>'nfa.2'</li>\n",
       "\t<li>'nev1.2'</li>\n",
       "\t<li>'nev2.2'</li>\n",
       "\t<li>'nev3.2'</li>\n",
       "\t<li>'nevrad.2'</li>\n",
       "\t<li>'cbvn_nlin'</li>\n",
       "\t<li>'phn_nlin'</li>\n",
       "\t<li>'phn_npar'</li>\n",
       "\t<li>'recovn_npar'</li>\n",
       "\t<li>'cni'</li>\n",
       "\t<li>'ccri'</li>\n",
       "\t<li>'crni'</li>\n",
       "\t<li>'ncho'</li>\n",
       "\t<li>'ncre'</li>\n",
       "\t<li>'nnaa'</li>\n",
       "\t<li>'nlip'</li>\n",
       "\t<li>'nlac'</li>\n",
       "</ol>\n"
      ],
      "text/latex": [
       "\\begin{enumerate*}\n",
       "\\item 'b\\_number'\n",
       "\\item 't\\_number'\n",
       "\\item 'sf\\_number'\n",
       "\\item 'current\\_scan\\_date'\n",
       "\\item 'current\\_surgery\\_date'\n",
       "\\item 'current\\_hist\\_grade'\n",
       "\\item 'current\\_hist\\_type'\n",
       "\\item 'roi.label'\n",
       "\\item 'tumor\\_cell\\_evaluation'\n",
       "\\item 'necrosis'\n",
       "\\item 'f8\\_delicate'\n",
       "\\item 'f8\\_simple'\n",
       "\\item 'f8\\_complex'\n",
       "\\item 'mib\\_1'\n",
       "\\item 'bx\\_pure\\_treatment\\_effect'\n",
       "\\item 'nfse'\n",
       "\\item 'nfl'\n",
       "\\item 'nt1c'\n",
       "\\item 'nt1v'\n",
       "\\item 'nt1d'\n",
       "\\item 'nadc.1'\n",
       "\\item 'nfa.1'\n",
       "\\item 'nev1.1'\n",
       "\\item 'nev2.1'\n",
       "\\item 'nev3.1'\n",
       "\\item 'nevrad.1'\n",
       "\\item 'nadc.2'\n",
       "\\item 'nfa.2'\n",
       "\\item 'nev1.2'\n",
       "\\item 'nev2.2'\n",
       "\\item 'nev3.2'\n",
       "\\item 'nevrad.2'\n",
       "\\item 'cbvn\\_nlin'\n",
       "\\item 'phn\\_nlin'\n",
       "\\item 'phn\\_npar'\n",
       "\\item 'recovn\\_npar'\n",
       "\\item 'cni'\n",
       "\\item 'ccri'\n",
       "\\item 'crni'\n",
       "\\item 'ncho'\n",
       "\\item 'ncre'\n",
       "\\item 'nnaa'\n",
       "\\item 'nlip'\n",
       "\\item 'nlac'\n",
       "\\end{enumerate*}\n"
      ],
      "text/markdown": [
       "1. 'b_number'\n",
       "2. 't_number'\n",
       "3. 'sf_number'\n",
       "4. 'current_scan_date'\n",
       "5. 'current_surgery_date'\n",
       "6. 'current_hist_grade'\n",
       "7. 'current_hist_type'\n",
       "8. 'roi.label'\n",
       "9. 'tumor_cell_evaluation'\n",
       "10. 'necrosis'\n",
       "11. 'f8_delicate'\n",
       "12. 'f8_simple'\n",
       "13. 'f8_complex'\n",
       "14. 'mib_1'\n",
       "15. 'bx_pure_treatment_effect'\n",
       "16. 'nfse'\n",
       "17. 'nfl'\n",
       "18. 'nt1c'\n",
       "19. 'nt1v'\n",
       "20. 'nt1d'\n",
       "21. 'nadc.1'\n",
       "22. 'nfa.1'\n",
       "23. 'nev1.1'\n",
       "24. 'nev2.1'\n",
       "25. 'nev3.1'\n",
       "26. 'nevrad.1'\n",
       "27. 'nadc.2'\n",
       "28. 'nfa.2'\n",
       "29. 'nev1.2'\n",
       "30. 'nev2.2'\n",
       "31. 'nev3.2'\n",
       "32. 'nevrad.2'\n",
       "33. 'cbvn_nlin'\n",
       "34. 'phn_nlin'\n",
       "35. 'phn_npar'\n",
       "36. 'recovn_npar'\n",
       "37. 'cni'\n",
       "38. 'ccri'\n",
       "39. 'crni'\n",
       "40. 'ncho'\n",
       "41. 'ncre'\n",
       "42. 'nnaa'\n",
       "43. 'nlip'\n",
       "44. 'nlac'\n",
       "\n",
       "\n"
      ],
      "text/plain": [
       " [1] \"b_number\"                 \"t_number\"                \n",
       " [3] \"sf_number\"                \"current_scan_date\"       \n",
       " [5] \"current_surgery_date\"     \"current_hist_grade\"      \n",
       " [7] \"current_hist_type\"        \"roi.label\"               \n",
       " [9] \"tumor_cell_evaluation\"    \"necrosis\"                \n",
       "[11] \"f8_delicate\"              \"f8_simple\"               \n",
       "[13] \"f8_complex\"               \"mib_1\"                   \n",
       "[15] \"bx_pure_treatment_effect\" \"nfse\"                    \n",
       "[17] \"nfl\"                      \"nt1c\"                    \n",
       "[19] \"nt1v\"                     \"nt1d\"                    \n",
       "[21] \"nadc.1\"                   \"nfa.1\"                   \n",
       "[23] \"nev1.1\"                   \"nev2.1\"                  \n",
       "[25] \"nev3.1\"                   \"nevrad.1\"                \n",
       "[27] \"nadc.2\"                   \"nfa.2\"                   \n",
       "[29] \"nev1.2\"                   \"nev2.2\"                  \n",
       "[31] \"nev3.2\"                   \"nevrad.2\"                \n",
       "[33] \"cbvn_nlin\"                \"phn_nlin\"                \n",
       "[35] \"phn_npar\"                 \"recovn_npar\"             \n",
       "[37] \"cni\"                      \"ccri\"                    \n",
       "[39] \"crni\"                     \"ncho\"                    \n",
       "[41] \"ncre\"                     \"nnaa\"                    \n",
       "[43] \"nlip\"                     \"nlac\"                    "
      ]
     },
     "metadata": {},
     "output_type": "display_data"
    },
    {
     "data": {
      "text/html": [
       "<ol class=list-inline>\n",
       "\t<li>'b_number'</li>\n",
       "\t<li>'t_number'</li>\n",
       "\t<li>'sf_number'</li>\n",
       "\t<li>'current_scan_date'</li>\n",
       "\t<li>'current_surgery_date'</li>\n",
       "\t<li>'current_hist_grade'</li>\n",
       "\t<li>'current_hist_type'</li>\n",
       "\t<li>'roi.label'</li>\n",
       "\t<li>'tumor_cell_evaluation'</li>\n",
       "\t<li>'necrosis'</li>\n",
       "\t<li>'f8_delicate'</li>\n",
       "\t<li>'f8_simple'</li>\n",
       "\t<li>'f8_complex'</li>\n",
       "\t<li>'mib_1'</li>\n",
       "\t<li>'bx_pure_treatment_effect'</li>\n",
       "\t<li>'nfse'</li>\n",
       "\t<li>'nfl'</li>\n",
       "\t<li>'nt1c'</li>\n",
       "\t<li>'nt1v'</li>\n",
       "\t<li>'nt1d'</li>\n",
       "\t<li>'nadc.1'</li>\n",
       "\t<li>'nfa.1'</li>\n",
       "\t<li>'nev1.1'</li>\n",
       "\t<li>'nev2.1'</li>\n",
       "\t<li>'nev3.1'</li>\n",
       "\t<li>'nevrad.1'</li>\n",
       "\t<li>'nadc.2'</li>\n",
       "\t<li>'nfa.2'</li>\n",
       "\t<li>'nev1.2'</li>\n",
       "\t<li>'nev2.2'</li>\n",
       "\t<li>'nev3.2'</li>\n",
       "\t<li>'nevrad.2'</li>\n",
       "\t<li>'cbvn_nlin'</li>\n",
       "\t<li>'phn_nlin'</li>\n",
       "\t<li>'phn_npar'</li>\n",
       "\t<li>'recovn_npar'</li>\n",
       "\t<li>'cni'</li>\n",
       "\t<li>'ccri'</li>\n",
       "\t<li>'crni'</li>\n",
       "\t<li>'ncho'</li>\n",
       "\t<li>'ncre'</li>\n",
       "\t<li>'nnaa'</li>\n",
       "\t<li>'nlip'</li>\n",
       "\t<li>'nlac'</li>\n",
       "</ol>\n"
      ],
      "text/latex": [
       "\\begin{enumerate*}\n",
       "\\item 'b\\_number'\n",
       "\\item 't\\_number'\n",
       "\\item 'sf\\_number'\n",
       "\\item 'current\\_scan\\_date'\n",
       "\\item 'current\\_surgery\\_date'\n",
       "\\item 'current\\_hist\\_grade'\n",
       "\\item 'current\\_hist\\_type'\n",
       "\\item 'roi.label'\n",
       "\\item 'tumor\\_cell\\_evaluation'\n",
       "\\item 'necrosis'\n",
       "\\item 'f8\\_delicate'\n",
       "\\item 'f8\\_simple'\n",
       "\\item 'f8\\_complex'\n",
       "\\item 'mib\\_1'\n",
       "\\item 'bx\\_pure\\_treatment\\_effect'\n",
       "\\item 'nfse'\n",
       "\\item 'nfl'\n",
       "\\item 'nt1c'\n",
       "\\item 'nt1v'\n",
       "\\item 'nt1d'\n",
       "\\item 'nadc.1'\n",
       "\\item 'nfa.1'\n",
       "\\item 'nev1.1'\n",
       "\\item 'nev2.1'\n",
       "\\item 'nev3.1'\n",
       "\\item 'nevrad.1'\n",
       "\\item 'nadc.2'\n",
       "\\item 'nfa.2'\n",
       "\\item 'nev1.2'\n",
       "\\item 'nev2.2'\n",
       "\\item 'nev3.2'\n",
       "\\item 'nevrad.2'\n",
       "\\item 'cbvn\\_nlin'\n",
       "\\item 'phn\\_nlin'\n",
       "\\item 'phn\\_npar'\n",
       "\\item 'recovn\\_npar'\n",
       "\\item 'cni'\n",
       "\\item 'ccri'\n",
       "\\item 'crni'\n",
       "\\item 'ncho'\n",
       "\\item 'ncre'\n",
       "\\item 'nnaa'\n",
       "\\item 'nlip'\n",
       "\\item 'nlac'\n",
       "\\end{enumerate*}\n"
      ],
      "text/markdown": [
       "1. 'b_number'\n",
       "2. 't_number'\n",
       "3. 'sf_number'\n",
       "4. 'current_scan_date'\n",
       "5. 'current_surgery_date'\n",
       "6. 'current_hist_grade'\n",
       "7. 'current_hist_type'\n",
       "8. 'roi.label'\n",
       "9. 'tumor_cell_evaluation'\n",
       "10. 'necrosis'\n",
       "11. 'f8_delicate'\n",
       "12. 'f8_simple'\n",
       "13. 'f8_complex'\n",
       "14. 'mib_1'\n",
       "15. 'bx_pure_treatment_effect'\n",
       "16. 'nfse'\n",
       "17. 'nfl'\n",
       "18. 'nt1c'\n",
       "19. 'nt1v'\n",
       "20. 'nt1d'\n",
       "21. 'nadc.1'\n",
       "22. 'nfa.1'\n",
       "23. 'nev1.1'\n",
       "24. 'nev2.1'\n",
       "25. 'nev3.1'\n",
       "26. 'nevrad.1'\n",
       "27. 'nadc.2'\n",
       "28. 'nfa.2'\n",
       "29. 'nev1.2'\n",
       "30. 'nev2.2'\n",
       "31. 'nev3.2'\n",
       "32. 'nevrad.2'\n",
       "33. 'cbvn_nlin'\n",
       "34. 'phn_nlin'\n",
       "35. 'phn_npar'\n",
       "36. 'recovn_npar'\n",
       "37. 'cni'\n",
       "38. 'ccri'\n",
       "39. 'crni'\n",
       "40. 'ncho'\n",
       "41. 'ncre'\n",
       "42. 'nnaa'\n",
       "43. 'nlip'\n",
       "44. 'nlac'\n",
       "\n",
       "\n"
      ],
      "text/plain": [
       " [1] \"b_number\"                 \"t_number\"                \n",
       " [3] \"sf_number\"                \"current_scan_date\"       \n",
       " [5] \"current_surgery_date\"     \"current_hist_grade\"      \n",
       " [7] \"current_hist_type\"        \"roi.label\"               \n",
       " [9] \"tumor_cell_evaluation\"    \"necrosis\"                \n",
       "[11] \"f8_delicate\"              \"f8_simple\"               \n",
       "[13] \"f8_complex\"               \"mib_1\"                   \n",
       "[15] \"bx_pure_treatment_effect\" \"nfse\"                    \n",
       "[17] \"nfl\"                      \"nt1c\"                    \n",
       "[19] \"nt1v\"                     \"nt1d\"                    \n",
       "[21] \"nadc.1\"                   \"nfa.1\"                   \n",
       "[23] \"nev1.1\"                   \"nev2.1\"                  \n",
       "[25] \"nev3.1\"                   \"nevrad.1\"                \n",
       "[27] \"nadc.2\"                   \"nfa.2\"                   \n",
       "[29] \"nev1.2\"                   \"nev2.2\"                  \n",
       "[31] \"nev3.2\"                   \"nevrad.2\"                \n",
       "[33] \"cbvn_nlin\"                \"phn_nlin\"                \n",
       "[35] \"phn_npar\"                 \"recovn_npar\"             \n",
       "[37] \"cni\"                      \"ccri\"                    \n",
       "[39] \"crni\"                     \"ncho\"                    \n",
       "[41] \"ncre\"                     \"nnaa\"                    \n",
       "[43] \"nlip\"                     \"nlac\"                    "
      ]
     },
     "metadata": {},
     "output_type": "display_data"
    }
   ],
   "source": [
    "colnames(newdata)\n",
    "colnames(olddata)"
   ]
  },
  {
   "cell_type": "code",
   "execution_count": 125,
   "metadata": {
    "collapsed": false,
    "deletable": true,
    "editable": true
   },
   "outputs": [
    {
     "data": {
      "text/html": [
       "TRUE"
      ],
      "text/latex": [
       "TRUE"
      ],
      "text/markdown": [
       "TRUE"
      ],
      "text/plain": [
       "[1] TRUE"
      ]
     },
     "metadata": {},
     "output_type": "display_data"
    }
   ],
   "source": [
    "all.equal(colnames(newdata), colnames(olddata))"
   ]
  },
  {
   "cell_type": "code",
   "execution_count": 126,
   "metadata": {
    "collapsed": true,
    "deletable": true,
    "editable": true
   },
   "outputs": [],
   "source": [
    "write.csv(olddata, \"olddata_updatedPerf_updatedColnames.csv\", row.names=F)"
   ]
  },
  {
   "cell_type": "code",
   "execution_count": 127,
   "metadata": {
    "collapsed": false,
    "deletable": true,
    "editable": true
   },
   "outputs": [],
   "source": [
    "olddata = data.frame(olddata, olddata = 1, newdata = 0)\n",
    "newdata = data.frame(newdata, olddata = 0, newdata = 1)"
   ]
  },
  {
   "cell_type": "code",
   "execution_count": null,
   "metadata": {
    "collapsed": true,
    "deletable": true,
    "editable": true
   },
   "outputs": [],
   "source": []
  },
  {
   "cell_type": "code",
   "execution_count": 128,
   "metadata": {
    "collapsed": false,
    "deletable": true,
    "editable": true
   },
   "outputs": [
    {
     "name": "stderr",
     "output_type": "stream",
     "text": [
      "Warning message in `[<-.factor`(`*tmp*`, ri, value = c(NA, NA, NA, NA, 3.7, 3.03, :\n",
      "“invalid factor level, NA generated”"
     ]
    }
   ],
   "source": [
    "allbiopsies= rbind(olddata, newdata)"
   ]
  },
  {
   "cell_type": "code",
   "execution_count": 129,
   "metadata": {
    "collapsed": false,
    "deletable": true,
    "editable": true
   },
   "outputs": [
    {
     "data": {
      "text/html": [
       "<ol class=list-inline>\n",
       "\t<li>644</li>\n",
       "\t<li>46</li>\n",
       "</ol>\n"
      ],
      "text/latex": [
       "\\begin{enumerate*}\n",
       "\\item 644\n",
       "\\item 46\n",
       "\\end{enumerate*}\n"
      ],
      "text/markdown": [
       "1. 644\n",
       "2. 46\n",
       "\n",
       "\n"
      ],
      "text/plain": [
       "[1] 644  46"
      ]
     },
     "metadata": {},
     "output_type": "display_data"
    }
   ],
   "source": [
    "dim(allbiopsies)"
   ]
  },
  {
   "cell_type": "code",
   "execution_count": 130,
   "metadata": {
    "collapsed": false,
    "deletable": true,
    "editable": true
   },
   "outputs": [],
   "source": [
    "write.csv(allbiopsies, \"researchPath_withInVivoData.csv\", row.names = F)"
   ]
  },
  {
   "cell_type": "code",
   "execution_count": 131,
   "metadata": {
    "collapsed": false,
    "deletable": true,
    "editable": true
   },
   "outputs": [
    {
     "data": {
      "text/plain": [
       "\n",
       "FALSE \n",
       "  644 "
      ]
     },
     "metadata": {},
     "output_type": "display_data"
    }
   ],
   "source": [
    "table(is.na(allbiopsies$roi.label))"
   ]
  },
  {
   "cell_type": "code",
   "execution_count": null,
   "metadata": {
    "collapsed": true,
    "deletable": true,
    "editable": true
   },
   "outputs": [],
   "source": []
  }
 ],
 "metadata": {
  "kernelspec": {
   "display_name": "R",
   "language": "R",
   "name": "ir"
  },
  "language_info": {
   "codemirror_mode": "r",
   "file_extension": ".r",
   "mimetype": "text/x-r-source",
   "name": "R",
   "pygments_lexer": "r",
   "version": "3.4.0"
  }
 },
 "nbformat": 4,
 "nbformat_minor": 2
}
