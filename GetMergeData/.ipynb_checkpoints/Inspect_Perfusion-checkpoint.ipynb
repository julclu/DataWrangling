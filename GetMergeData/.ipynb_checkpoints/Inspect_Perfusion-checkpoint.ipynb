{
 "cells": [
  {
   "cell_type": "markdown",
   "metadata": {
    "deletable": true,
    "editable": true
   },
   "source": [
    "We need to use this notebook to inspect the perfusion data & ensure that we correct for when nonlinear fitting failed. <br> <br> The first step we need to take is plotting nonlinear peak height against nonparametric peak height. <br> <br> We will begin with <b> NEW DATA: </b>"
   ]
  },
  {
   "cell_type": "code",
   "execution_count": 26,
   "metadata": {
    "collapsed": true
   },
   "outputs": [],
   "source": [
    "options(repr.matrix.max.rows=600, repr.matrix.max.cols=200)"
   ]
  },
  {
   "cell_type": "code",
   "execution_count": 1,
   "metadata": {
    "collapsed": false,
    "deletable": true,
    "editable": true
   },
   "outputs": [],
   "source": [
    "setwd(\"July2018\")"
   ]
  },
  {
   "cell_type": "code",
   "execution_count": 2,
   "metadata": {
    "collapsed": false,
    "deletable": true,
    "editable": true
   },
   "outputs": [
    {
     "data": {
      "text/html": [
       "<ol class=list-inline>\n",
       "\t<li>'ajnr_bnum_tnum.95.csv'</li>\n",
       "\t<li>'anat.csv'</li>\n",
       "\t<li>'biopsies_less100more50inROIs_to_check.csv'</li>\n",
       "\t<li>'biopsies_less50more0inROIs_to_check.csv'</li>\n",
       "\t<li>'biopsies_less95more50inROIs_to_check.csv'</li>\n",
       "\t<li>'biopsies_outside_rois_to_check.csv'</li>\n",
       "\t<li>'bnum_tnum_forIGTstats_olddata.129.csv'</li>\n",
       "\t<li>'diffu1000.csv'</li>\n",
       "\t<li>'diffu2000.csv'</li>\n",
       "\t<li>'new.call_getigtstats.07062018.csv'</li>\n",
       "\t<li>'oldData_updatedColnames.csv'</li>\n",
       "\t<li>'olddata_updatedPerf_updatedColnames.csv'</li>\n",
       "\t<li>'out_callIGTstats_old.csv'</li>\n",
       "\t<li>'out_callIGTstats_rechgg.csv'</li>\n",
       "\t<li>'pathology_report.csv'</li>\n",
       "\t<li>'perf.csv'</li>\n",
       "\t<li>'researchpath_withInVivo_oldP01_updatedPERF.apr21.csv'</li>\n",
       "\t<li>'researchPath_withInVivoData.csv'</li>\n",
       "\t<li>'spec.csv'</li>\n",
       "</ol>\n"
      ],
      "text/latex": [
       "\\begin{enumerate*}\n",
       "\\item 'ajnr\\_bnum\\_tnum.95.csv'\n",
       "\\item 'anat.csv'\n",
       "\\item 'biopsies\\_less100more50inROIs\\_to\\_check.csv'\n",
       "\\item 'biopsies\\_less50more0inROIs\\_to\\_check.csv'\n",
       "\\item 'biopsies\\_less95more50inROIs\\_to\\_check.csv'\n",
       "\\item 'biopsies\\_outside\\_rois\\_to\\_check.csv'\n",
       "\\item 'bnum\\_tnum\\_forIGTstats\\_olddata.129.csv'\n",
       "\\item 'diffu1000.csv'\n",
       "\\item 'diffu2000.csv'\n",
       "\\item 'new.call\\_getigtstats.07062018.csv'\n",
       "\\item 'oldData\\_updatedColnames.csv'\n",
       "\\item 'olddata\\_updatedPerf\\_updatedColnames.csv'\n",
       "\\item 'out\\_callIGTstats\\_old.csv'\n",
       "\\item 'out\\_callIGTstats\\_rechgg.csv'\n",
       "\\item 'pathology\\_report.csv'\n",
       "\\item 'perf.csv'\n",
       "\\item 'researchpath\\_withInVivo\\_oldP01\\_updatedPERF.apr21.csv'\n",
       "\\item 'researchPath\\_withInVivoData.csv'\n",
       "\\item 'spec.csv'\n",
       "\\end{enumerate*}\n"
      ],
      "text/markdown": [
       "1. 'ajnr_bnum_tnum.95.csv'\n",
       "2. 'anat.csv'\n",
       "3. 'biopsies_less100more50inROIs_to_check.csv'\n",
       "4. 'biopsies_less50more0inROIs_to_check.csv'\n",
       "5. 'biopsies_less95more50inROIs_to_check.csv'\n",
       "6. 'biopsies_outside_rois_to_check.csv'\n",
       "7. 'bnum_tnum_forIGTstats_olddata.129.csv'\n",
       "8. 'diffu1000.csv'\n",
       "9. 'diffu2000.csv'\n",
       "10. 'new.call_getigtstats.07062018.csv'\n",
       "11. 'oldData_updatedColnames.csv'\n",
       "12. 'olddata_updatedPerf_updatedColnames.csv'\n",
       "13. 'out_callIGTstats_old.csv'\n",
       "14. 'out_callIGTstats_rechgg.csv'\n",
       "15. 'pathology_report.csv'\n",
       "16. 'perf.csv'\n",
       "17. 'researchpath_withInVivo_oldP01_updatedPERF.apr21.csv'\n",
       "18. 'researchPath_withInVivoData.csv'\n",
       "19. 'spec.csv'\n",
       "\n",
       "\n"
      ],
      "text/plain": [
       " [1] \"ajnr_bnum_tnum.95.csv\"                               \n",
       " [2] \"anat.csv\"                                            \n",
       " [3] \"biopsies_less100more50inROIs_to_check.csv\"           \n",
       " [4] \"biopsies_less50more0inROIs_to_check.csv\"             \n",
       " [5] \"biopsies_less95more50inROIs_to_check.csv\"            \n",
       " [6] \"biopsies_outside_rois_to_check.csv\"                  \n",
       " [7] \"bnum_tnum_forIGTstats_olddata.129.csv\"               \n",
       " [8] \"diffu1000.csv\"                                       \n",
       " [9] \"diffu2000.csv\"                                       \n",
       "[10] \"new.call_getigtstats.07062018.csv\"                   \n",
       "[11] \"oldData_updatedColnames.csv\"                         \n",
       "[12] \"olddata_updatedPerf_updatedColnames.csv\"             \n",
       "[13] \"out_callIGTstats_old.csv\"                            \n",
       "[14] \"out_callIGTstats_rechgg.csv\"                         \n",
       "[15] \"pathology_report.csv\"                                \n",
       "[16] \"perf.csv\"                                            \n",
       "[17] \"researchpath_withInVivo_oldP01_updatedPERF.apr21.csv\"\n",
       "[18] \"researchPath_withInVivoData.csv\"                     \n",
       "[19] \"spec.csv\"                                            "
      ]
     },
     "metadata": {},
     "output_type": "display_data"
    }
   ],
   "source": [
    "list.files()"
   ]
  },
  {
   "cell_type": "code",
   "execution_count": 3,
   "metadata": {
    "collapsed": true,
    "deletable": true,
    "editable": true
   },
   "outputs": [],
   "source": [
    "perf = read.csv(\"perf.csv\")"
   ]
  },
  {
   "cell_type": "code",
   "execution_count": 4,
   "metadata": {
    "collapsed": false,
    "deletable": true,
    "editable": true
   },
   "outputs": [
    {
     "data": {
      "text/html": [
       "<ol class=list-inline>\n",
       "\t<li>'bnum'</li>\n",
       "\t<li>'tnum'</li>\n",
       "\t<li>'vialid'</li>\n",
       "\t<li>'ph_nonlin'</li>\n",
       "\t<li>'phn_nonlin'</li>\n",
       "\t<li>'cbv_nonlin'</li>\n",
       "\t<li>'cbvn_nonlin'</li>\n",
       "\t<li>'recov_nonlin'</li>\n",
       "\t<li>'recovn_nonlin'</li>\n",
       "\t<li>'rf_nonlin'</li>\n",
       "\t<li>'rfn_nonlin'</li>\n",
       "\t<li>'ttp_nonlin'</li>\n",
       "\t<li>'fwhm_nonlin'</li>\n",
       "\t<li>'rsquare_nonlin'</li>\n",
       "\t<li>'ph_nonpar'</li>\n",
       "\t<li>'phn_nonpar'</li>\n",
       "\t<li>'pbs_nonpar'</li>\n",
       "\t<li>'pbsn_nonpar'</li>\n",
       "\t<li>'recov_nonpar'</li>\n",
       "\t<li>'recovn_nonpar'</li>\n",
       "\t<li>'acorr_nonpar'</li>\n",
       "</ol>\n"
      ],
      "text/latex": [
       "\\begin{enumerate*}\n",
       "\\item 'bnum'\n",
       "\\item 'tnum'\n",
       "\\item 'vialid'\n",
       "\\item 'ph\\_nonlin'\n",
       "\\item 'phn\\_nonlin'\n",
       "\\item 'cbv\\_nonlin'\n",
       "\\item 'cbvn\\_nonlin'\n",
       "\\item 'recov\\_nonlin'\n",
       "\\item 'recovn\\_nonlin'\n",
       "\\item 'rf\\_nonlin'\n",
       "\\item 'rfn\\_nonlin'\n",
       "\\item 'ttp\\_nonlin'\n",
       "\\item 'fwhm\\_nonlin'\n",
       "\\item 'rsquare\\_nonlin'\n",
       "\\item 'ph\\_nonpar'\n",
       "\\item 'phn\\_nonpar'\n",
       "\\item 'pbs\\_nonpar'\n",
       "\\item 'pbsn\\_nonpar'\n",
       "\\item 'recov\\_nonpar'\n",
       "\\item 'recovn\\_nonpar'\n",
       "\\item 'acorr\\_nonpar'\n",
       "\\end{enumerate*}\n"
      ],
      "text/markdown": [
       "1. 'bnum'\n",
       "2. 'tnum'\n",
       "3. 'vialid'\n",
       "4. 'ph_nonlin'\n",
       "5. 'phn_nonlin'\n",
       "6. 'cbv_nonlin'\n",
       "7. 'cbvn_nonlin'\n",
       "8. 'recov_nonlin'\n",
       "9. 'recovn_nonlin'\n",
       "10. 'rf_nonlin'\n",
       "11. 'rfn_nonlin'\n",
       "12. 'ttp_nonlin'\n",
       "13. 'fwhm_nonlin'\n",
       "14. 'rsquare_nonlin'\n",
       "15. 'ph_nonpar'\n",
       "16. 'phn_nonpar'\n",
       "17. 'pbs_nonpar'\n",
       "18. 'pbsn_nonpar'\n",
       "19. 'recov_nonpar'\n",
       "20. 'recovn_nonpar'\n",
       "21. 'acorr_nonpar'\n",
       "\n",
       "\n"
      ],
      "text/plain": [
       " [1] \"bnum\"           \"tnum\"           \"vialid\"         \"ph_nonlin\"     \n",
       " [5] \"phn_nonlin\"     \"cbv_nonlin\"     \"cbvn_nonlin\"    \"recov_nonlin\"  \n",
       " [9] \"recovn_nonlin\"  \"rf_nonlin\"      \"rfn_nonlin\"     \"ttp_nonlin\"    \n",
       "[13] \"fwhm_nonlin\"    \"rsquare_nonlin\" \"ph_nonpar\"      \"phn_nonpar\"    \n",
       "[17] \"pbs_nonpar\"     \"pbsn_nonpar\"    \"recov_nonpar\"   \"recovn_nonpar\" \n",
       "[21] \"acorr_nonpar\"  "
      ]
     },
     "metadata": {},
     "output_type": "display_data"
    }
   ],
   "source": [
    "colnames(perf)"
   ]
  },
  {
   "cell_type": "code",
   "execution_count": 5,
   "metadata": {
    "collapsed": false,
    "deletable": true,
    "editable": true
   },
   "outputs": [
    {
     "data": {
      "image/png": "[encoded data removed]",
      "text/plain": [
       "plot without title"
      ]
     },
     "metadata": {},
     "output_type": "display_data"
    }
   ],
   "source": [
    "plot(perf$phn_nonpar, perf$phn_nonlin)"
   ]
  },
  {
   "cell_type": "markdown",
   "metadata": {
    "deletable": true,
    "editable": true
   },
   "source": [
    "From this initial plot it is quite obvious where at least one fit has failed, let's find which & annotate that: "
   ]
  },
  {
   "cell_type": "code",
   "execution_count": 18,
   "metadata": {
    "collapsed": true,
    "deletable": true,
    "editable": true
   },
   "outputs": [],
   "source": [
    "perf_annot = data.frame(perf, fit_failed = NA )"
   ]
  },
  {
   "cell_type": "code",
   "execution_count": 19,
   "metadata": {
    "collapsed": false,
    "deletable": true,
    "editable": true
   },
   "outputs": [],
   "source": [
    "perf_annot$fit_failed[which(perf_annot$phn_nonlin>20)]=1\n",
    "perf_annot$phn_nonlin[which(perf_annot$phn_nonlin>20)]=NA"
   ]
  },
  {
   "cell_type": "code",
   "execution_count": 20,
   "metadata": {
    "collapsed": false,
    "deletable": true,
    "editable": true
   },
   "outputs": [
    {
     "data": {
      "image/png": "[encoded data removed]",
      "text/plain": [
       "plot without title"
      ]
     },
     "metadata": {},
     "output_type": "display_data"
    }
   ],
   "source": [
    "plot(perf_annot$phn_nonpar, perf_annot$phn_nonlin)"
   ]
  },
  {
   "cell_type": "code",
   "execution_count": 27,
   "metadata": {
    "collapsed": false
   },
   "outputs": [
    {
     "data": {
      "text/html": [
       "<ol class=list-inline>\n",
       "\t<li>12</li>\n",
       "\t<li>16</li>\n",
       "\t<li>35</li>\n",
       "\t<li>65</li>\n",
       "\t<li>66</li>\n",
       "\t<li>69</li>\n",
       "\t<li>80</li>\n",
       "\t<li>103</li>\n",
       "\t<li>125</li>\n",
       "\t<li>143</li>\n",
       "\t<li>161</li>\n",
       "\t<li>167</li>\n",
       "\t<li>169</li>\n",
       "</ol>\n"
      ],
      "text/latex": [
       "\\begin{enumerate*}\n",
       "\\item 12\n",
       "\\item 16\n",
       "\\item 35\n",
       "\\item 65\n",
       "\\item 66\n",
       "\\item 69\n",
       "\\item 80\n",
       "\\item 103\n",
       "\\item 125\n",
       "\\item 143\n",
       "\\item 161\n",
       "\\item 167\n",
       "\\item 169\n",
       "\\end{enumerate*}\n"
      ],
      "text/markdown": [
       "1. 12\n",
       "2. 16\n",
       "3. 35\n",
       "4. 65\n",
       "5. 66\n",
       "6. 69\n",
       "7. 80\n",
       "8. 103\n",
       "9. 125\n",
       "10. 143\n",
       "11. 161\n",
       "12. 167\n",
       "13. 169\n",
       "\n",
       "\n"
      ],
      "text/plain": [
       " [1]  12  16  35  65  66  69  80 103 125 143 161 167 169"
      ]
     },
     "metadata": {},
     "output_type": "display_data"
    },
    {
     "data": {
      "text/html": [
       "<ol class=list-inline>\n",
       "\t<li>12</li>\n",
       "\t<li>16</li>\n",
       "\t<li>35</li>\n",
       "\t<li>65</li>\n",
       "\t<li>66</li>\n",
       "\t<li>69</li>\n",
       "\t<li>80</li>\n",
       "\t<li>103</li>\n",
       "\t<li>125</li>\n",
       "\t<li>143</li>\n",
       "\t<li>161</li>\n",
       "\t<li>167</li>\n",
       "\t<li>169</li>\n",
       "</ol>\n"
      ],
      "text/latex": [
       "\\begin{enumerate*}\n",
       "\\item 12\n",
       "\\item 16\n",
       "\\item 35\n",
       "\\item 65\n",
       "\\item 66\n",
       "\\item 69\n",
       "\\item 80\n",
       "\\item 103\n",
       "\\item 125\n",
       "\\item 143\n",
       "\\item 161\n",
       "\\item 167\n",
       "\\item 169\n",
       "\\end{enumerate*}\n"
      ],
      "text/markdown": [
       "1. 12\n",
       "2. 16\n",
       "3. 35\n",
       "4. 65\n",
       "5. 66\n",
       "6. 69\n",
       "7. 80\n",
       "8. 103\n",
       "9. 125\n",
       "10. 143\n",
       "11. 161\n",
       "12. 167\n",
       "13. 169\n",
       "\n",
       "\n"
      ],
      "text/plain": [
       " [1]  12  16  35  65  66  69  80 103 125 143 161 167 169"
      ]
     },
     "metadata": {},
     "output_type": "display_data"
    },
    {
     "data": {
      "text/html": [
       "<table>\n",
       "<thead><tr><th></th><th scope=col>bnum</th><th scope=col>tnum</th><th scope=col>vialid</th><th scope=col>ph_nonlin</th><th scope=col>phn_nonlin</th><th scope=col>cbv_nonlin</th><th scope=col>cbvn_nonlin</th><th scope=col>recov_nonlin</th><th scope=col>recovn_nonlin</th><th scope=col>rf_nonlin</th><th scope=col>rfn_nonlin</th><th scope=col>ttp_nonlin</th><th scope=col>fwhm_nonlin</th><th scope=col>rsquare_nonlin</th><th scope=col>ph_nonpar</th><th scope=col>phn_nonpar</th><th scope=col>pbs_nonpar</th><th scope=col>pbsn_nonpar</th><th scope=col>recov_nonpar</th><th scope=col>recovn_nonpar</th><th scope=col>acorr_nonpar</th><th scope=col>fit_failed</th></tr></thead>\n",
       "<tbody>\n",
       "\t<tr><th scope=row>12</th><td>b3526  </td><td>t8943  </td><td>67B63  </td><td>0      </td><td>0      </td><td>0      </td><td>0      </td><td>0      </td><td>0      </td><td>0      </td><td>0      </td><td>0      </td><td>0      </td><td>0      </td><td>0      </td><td>0      </td><td>0      </td><td>0      </td><td>0      </td><td>0      </td><td>0      </td><td>NA     </td></tr>\n",
       "\t<tr><th scope=row>16</th><td>b1837  </td><td>t8960  </td><td>88B63  </td><td>0      </td><td>0      </td><td>0      </td><td>0      </td><td>0      </td><td>0      </td><td>0      </td><td>0      </td><td>0      </td><td>0      </td><td>0      </td><td>0      </td><td>0      </td><td>0      </td><td>0      </td><td>0      </td><td>0      </td><td>0      </td><td>NA     </td></tr>\n",
       "\t<tr><th scope=row>35</th><td>b3577  </td><td>t9063  </td><td>82B64  </td><td>0      </td><td>0      </td><td>0      </td><td>0      </td><td>0      </td><td>0      </td><td>0      </td><td>0      </td><td>0      </td><td>0      </td><td>0      </td><td>0      </td><td>0      </td><td>0      </td><td>0      </td><td>0      </td><td>0      </td><td>0      </td><td>NA     </td></tr>\n",
       "\t<tr><th scope=row>65</th><td>b3704  </td><td>t9410  </td><td>41B76  </td><td>0      </td><td>0      </td><td>0      </td><td>0      </td><td>0      </td><td>0      </td><td>0      </td><td>0      </td><td>0      </td><td>0      </td><td>0      </td><td>0      </td><td>0      </td><td>0      </td><td>0      </td><td>0      </td><td>0      </td><td>0      </td><td>NA     </td></tr>\n",
       "\t<tr><th scope=row>66</th><td>b3739  </td><td>t9586  </td><td>10B77  </td><td>0      </td><td>0      </td><td>0      </td><td>0      </td><td>0      </td><td>0      </td><td>0      </td><td>0      </td><td>0      </td><td>0      </td><td>0      </td><td>0      </td><td>0      </td><td>0      </td><td>0      </td><td>0      </td><td>0      </td><td>0      </td><td>NA     </td></tr>\n",
       "\t<tr><th scope=row>69</th><td>b3739  </td><td>t9586  </td><td>13B77  </td><td>0      </td><td>0      </td><td>0      </td><td>0      </td><td>0      </td><td>0      </td><td>0      </td><td>0      </td><td>0      </td><td>0      </td><td>0      </td><td>0      </td><td>0      </td><td>0      </td><td>0      </td><td>0      </td><td>0      </td><td>0      </td><td>NA     </td></tr>\n",
       "\t<tr><th scope=row>80</th><td>b4080  </td><td>t10366 </td><td>4B82   </td><td>0      </td><td>0      </td><td>0      </td><td>0      </td><td>0      </td><td>0      </td><td>0      </td><td>0      </td><td>0      </td><td>0      </td><td>0      </td><td>0      </td><td>0      </td><td>0      </td><td>0      </td><td>0      </td><td>0      </td><td>0      </td><td>NA     </td></tr>\n",
       "\t<tr><th scope=row>103</th><td>b4205  </td><td>t10756 </td><td>69B91  </td><td>0      </td><td>0      </td><td>0      </td><td>0      </td><td>0      </td><td>0      </td><td>0      </td><td>0      </td><td>0      </td><td>0      </td><td>0      </td><td>0      </td><td>0      </td><td>0      </td><td>0      </td><td>0      </td><td>0      </td><td>0      </td><td>NA     </td></tr>\n",
       "\t<tr><th scope=row>125</th><td>b4260  </td><td>t11263 </td><td>44B97  </td><td>0      </td><td>0      </td><td>0      </td><td>0      </td><td>0      </td><td>0      </td><td>0      </td><td>0      </td><td>0      </td><td>0      </td><td>0      </td><td>0      </td><td>0      </td><td>0      </td><td>0      </td><td>0      </td><td>0      </td><td>0      </td><td>NA     </td></tr>\n",
       "\t<tr><th scope=row>143</th><td>b4295  </td><td>t11406 </td><td>34D3   </td><td>0      </td><td>0      </td><td>0      </td><td>0      </td><td>0      </td><td>0      </td><td>0      </td><td>0      </td><td>0      </td><td>0      </td><td>0      </td><td>0      </td><td>0      </td><td>0      </td><td>0      </td><td>0      </td><td>0      </td><td>0      </td><td>NA     </td></tr>\n",
       "\t<tr><th scope=row>161</th><td>b4314  </td><td>t11579 </td><td>42D1   </td><td>0      </td><td>0      </td><td>0      </td><td>0      </td><td>0      </td><td>0      </td><td>0      </td><td>0      </td><td>0      </td><td>0      </td><td>0      </td><td>0      </td><td>0      </td><td>0      </td><td>0      </td><td>0      </td><td>0      </td><td>0      </td><td>NA     </td></tr>\n",
       "\t<tr><th scope=row>167</th><td>b4133  </td><td>t11753 </td><td>11492A1</td><td>0      </td><td>0      </td><td>0      </td><td>0      </td><td>0      </td><td>0      </td><td>0      </td><td>0      </td><td>0      </td><td>0      </td><td>0      </td><td>0      </td><td>0      </td><td>0      </td><td>0      </td><td>0      </td><td>0      </td><td>0      </td><td>NA     </td></tr>\n",
       "\t<tr><th scope=row>169</th><td>b4133  </td><td>t11753 </td><td>11492C0</td><td>0      </td><td>0      </td><td>0      </td><td>0      </td><td>0      </td><td>0      </td><td>0      </td><td>0      </td><td>0      </td><td>0      </td><td>0      </td><td>0      </td><td>0      </td><td>0      </td><td>0      </td><td>0      </td><td>0      </td><td>0      </td><td>NA     </td></tr>\n",
       "</tbody>\n",
       "</table>\n"
      ],
      "text/latex": [
       "\\begin{tabular}{r|llllllllllllllllllllll}\n",
       "  & bnum & tnum & vialid & ph\\_nonlin & phn\\_nonlin & cbv\\_nonlin & cbvn\\_nonlin & recov\\_nonlin & recovn\\_nonlin & rf\\_nonlin & rfn\\_nonlin & ttp\\_nonlin & fwhm\\_nonlin & rsquare\\_nonlin & ph\\_nonpar & phn\\_nonpar & pbs\\_nonpar & pbsn\\_nonpar & recov\\_nonpar & recovn\\_nonpar & acorr\\_nonpar & fit\\_failed\\\\\n",
       "\\hline\n",
       "\t12 & b3526   & t8943   & 67B63   & 0       & 0       & 0       & 0       & 0       & 0       & 0       & 0       & 0       & 0       & 0       & 0       & 0       & 0       & 0       & 0       & 0       & 0       & NA     \\\\\n",
       "\t16 & b1837   & t8960   & 88B63   & 0       & 0       & 0       & 0       & 0       & 0       & 0       & 0       & 0       & 0       & 0       & 0       & 0       & 0       & 0       & 0       & 0       & 0       & NA     \\\\\n",
       "\t35 & b3577   & t9063   & 82B64   & 0       & 0       & 0       & 0       & 0       & 0       & 0       & 0       & 0       & 0       & 0       & 0       & 0       & 0       & 0       & 0       & 0       & 0       & NA     \\\\\n",
       "\t65 & b3704   & t9410   & 41B76   & 0       & 0       & 0       & 0       & 0       & 0       & 0       & 0       & 0       & 0       & 0       & 0       & 0       & 0       & 0       & 0       & 0       & 0       & NA     \\\\\n",
       "\t66 & b3739   & t9586   & 10B77   & 0       & 0       & 0       & 0       & 0       & 0       & 0       & 0       & 0       & 0       & 0       & 0       & 0       & 0       & 0       & 0       & 0       & 0       & NA     \\\\\n",
       "\t69 & b3739   & t9586   & 13B77   & 0       & 0       & 0       & 0       & 0       & 0       & 0       & 0       & 0       & 0       & 0       & 0       & 0       & 0       & 0       & 0       & 0       & 0       & NA     \\\\\n",
       "\t80 & b4080   & t10366  & 4B82    & 0       & 0       & 0       & 0       & 0       & 0       & 0       & 0       & 0       & 0       & 0       & 0       & 0       & 0       & 0       & 0       & 0       & 0       & NA     \\\\\n",
       "\t103 & b4205   & t10756  & 69B91   & 0       & 0       & 0       & 0       & 0       & 0       & 0       & 0       & 0       & 0       & 0       & 0       & 0       & 0       & 0       & 0       & 0       & 0       & NA     \\\\\n",
       "\t125 & b4260   & t11263  & 44B97   & 0       & 0       & 0       & 0       & 0       & 0       & 0       & 0       & 0       & 0       & 0       & 0       & 0       & 0       & 0       & 0       & 0       & 0       & NA     \\\\\n",
       "\t143 & b4295   & t11406  & 34D3    & 0       & 0       & 0       & 0       & 0       & 0       & 0       & 0       & 0       & 0       & 0       & 0       & 0       & 0       & 0       & 0       & 0       & 0       & NA     \\\\\n",
       "\t161 & b4314   & t11579  & 42D1    & 0       & 0       & 0       & 0       & 0       & 0       & 0       & 0       & 0       & 0       & 0       & 0       & 0       & 0       & 0       & 0       & 0       & 0       & NA     \\\\\n",
       "\t167 & b4133   & t11753  & 11492A1 & 0       & 0       & 0       & 0       & 0       & 0       & 0       & 0       & 0       & 0       & 0       & 0       & 0       & 0       & 0       & 0       & 0       & 0       & NA     \\\\\n",
       "\t169 & b4133   & t11753  & 11492C0 & 0       & 0       & 0       & 0       & 0       & 0       & 0       & 0       & 0       & 0       & 0       & 0       & 0       & 0       & 0       & 0       & 0       & 0       & NA     \\\\\n",
       "\\end{tabular}\n"
      ],
      "text/markdown": [
       "\n",
       "| <!--/--> | bnum | tnum | vialid | ph_nonlin | phn_nonlin | cbv_nonlin | cbvn_nonlin | recov_nonlin | recovn_nonlin | rf_nonlin | rfn_nonlin | ttp_nonlin | fwhm_nonlin | rsquare_nonlin | ph_nonpar | phn_nonpar | pbs_nonpar | pbsn_nonpar | recov_nonpar | recovn_nonpar | acorr_nonpar | fit_failed | \n",
       "|---|---|---|---|---|---|---|---|---|---|---|---|---|\n",
       "| 12 | b3526   | t8943   | 67B63   | 0       | 0       | 0       | 0       | 0       | 0       | 0       | 0       | 0       | 0       | 0       | 0       | 0       | 0       | 0       | 0       | 0       | 0       | NA      | \n",
       "| 16 | b1837   | t8960   | 88B63   | 0       | 0       | 0       | 0       | 0       | 0       | 0       | 0       | 0       | 0       | 0       | 0       | 0       | 0       | 0       | 0       | 0       | 0       | NA      | \n",
       "| 35 | b3577   | t9063   | 82B64   | 0       | 0       | 0       | 0       | 0       | 0       | 0       | 0       | 0       | 0       | 0       | 0       | 0       | 0       | 0       | 0       | 0       | 0       | NA      | \n",
       "| 65 | b3704   | t9410   | 41B76   | 0       | 0       | 0       | 0       | 0       | 0       | 0       | 0       | 0       | 0       | 0       | 0       | 0       | 0       | 0       | 0       | 0       | 0       | NA      | \n",
       "| 66 | b3739   | t9586   | 10B77   | 0       | 0       | 0       | 0       | 0       | 0       | 0       | 0       | 0       | 0       | 0       | 0       | 0       | 0       | 0       | 0       | 0       | 0       | NA      | \n",
       "| 69 | b3739   | t9586   | 13B77   | 0       | 0       | 0       | 0       | 0       | 0       | 0       | 0       | 0       | 0       | 0       | 0       | 0       | 0       | 0       | 0       | 0       | 0       | NA      | \n",
       "| 80 | b4080   | t10366  | 4B82    | 0       | 0       | 0       | 0       | 0       | 0       | 0       | 0       | 0       | 0       | 0       | 0       | 0       | 0       | 0       | 0       | 0       | 0       | NA      | \n",
       "| 103 | b4205   | t10756  | 69B91   | 0       | 0       | 0       | 0       | 0       | 0       | 0       | 0       | 0       | 0       | 0       | 0       | 0       | 0       | 0       | 0       | 0       | 0       | NA      | \n",
       "| 125 | b4260   | t11263  | 44B97   | 0       | 0       | 0       | 0       | 0       | 0       | 0       | 0       | 0       | 0       | 0       | 0       | 0       | 0       | 0       | 0       | 0       | 0       | NA      | \n",
       "| 143 | b4295   | t11406  | 34D3    | 0       | 0       | 0       | 0       | 0       | 0       | 0       | 0       | 0       | 0       | 0       | 0       | 0       | 0       | 0       | 0       | 0       | 0       | NA      | \n",
       "| 161 | b4314   | t11579  | 42D1    | 0       | 0       | 0       | 0       | 0       | 0       | 0       | 0       | 0       | 0       | 0       | 0       | 0       | 0       | 0       | 0       | 0       | 0       | NA      | \n",
       "| 167 | b4133   | t11753  | 11492A1 | 0       | 0       | 0       | 0       | 0       | 0       | 0       | 0       | 0       | 0       | 0       | 0       | 0       | 0       | 0       | 0       | 0       | 0       | NA      | \n",
       "| 169 | b4133   | t11753  | 11492C0 | 0       | 0       | 0       | 0       | 0       | 0       | 0       | 0       | 0       | 0       | 0       | 0       | 0       | 0       | 0       | 0       | 0       | 0       | NA      | \n",
       "\n",
       "\n"
      ],
      "text/plain": [
       "    bnum  tnum   vialid  ph_nonlin phn_nonlin cbv_nonlin cbvn_nonlin\n",
       "12  b3526 t8943  67B63   0         0          0          0          \n",
       "16  b1837 t8960  88B63   0         0          0          0          \n",
       "35  b3577 t9063  82B64   0         0          0          0          \n",
       "65  b3704 t9410  41B76   0         0          0          0          \n",
       "66  b3739 t9586  10B77   0         0          0          0          \n",
       "69  b3739 t9586  13B77   0         0          0          0          \n",
       "80  b4080 t10366 4B82    0         0          0          0          \n",
       "103 b4205 t10756 69B91   0         0          0          0          \n",
       "125 b4260 t11263 44B97   0         0          0          0          \n",
       "143 b4295 t11406 34D3    0         0          0          0          \n",
       "161 b4314 t11579 42D1    0         0          0          0          \n",
       "167 b4133 t11753 11492A1 0         0          0          0          \n",
       "169 b4133 t11753 11492C0 0         0          0          0          \n",
       "    recov_nonlin recovn_nonlin rf_nonlin rfn_nonlin ttp_nonlin fwhm_nonlin\n",
       "12  0            0             0         0          0          0          \n",
       "16  0            0             0         0          0          0          \n",
       "35  0            0             0         0          0          0          \n",
       "65  0            0             0         0          0          0          \n",
       "66  0            0             0         0          0          0          \n",
       "69  0            0             0         0          0          0          \n",
       "80  0            0             0         0          0          0          \n",
       "103 0            0             0         0          0          0          \n",
       "125 0            0             0         0          0          0          \n",
       "143 0            0             0         0          0          0          \n",
       "161 0            0             0         0          0          0          \n",
       "167 0            0             0         0          0          0          \n",
       "169 0            0             0         0          0          0          \n",
       "    rsquare_nonlin ph_nonpar phn_nonpar pbs_nonpar pbsn_nonpar recov_nonpar\n",
       "12  0              0         0          0          0           0           \n",
       "16  0              0         0          0          0           0           \n",
       "35  0              0         0          0          0           0           \n",
       "65  0              0         0          0          0           0           \n",
       "66  0              0         0          0          0           0           \n",
       "69  0              0         0          0          0           0           \n",
       "80  0              0         0          0          0           0           \n",
       "103 0              0         0          0          0           0           \n",
       "125 0              0         0          0          0           0           \n",
       "143 0              0         0          0          0           0           \n",
       "161 0              0         0          0          0           0           \n",
       "167 0              0         0          0          0           0           \n",
       "169 0              0         0          0          0           0           \n",
       "    recovn_nonpar acorr_nonpar fit_failed\n",
       "12  0             0            NA        \n",
       "16  0             0            NA        \n",
       "35  0             0            NA        \n",
       "65  0             0            NA        \n",
       "66  0             0            NA        \n",
       "69  0             0            NA        \n",
       "80  0             0            NA        \n",
       "103 0             0            NA        \n",
       "125 0             0            NA        \n",
       "143 0             0            NA        \n",
       "161 0             0            NA        \n",
       "167 0             0            NA        \n",
       "169 0             0            NA        "
      ]
     },
     "metadata": {},
     "output_type": "display_data"
    }
   ],
   "source": [
    "which(perf_annot$phn_nonpar==0)\n",
    "which(perf_annot$phn_nonlin==0)\n",
    "perf_annot[which(perf_annot$phn_nonlin==0),]\n"
   ]
  },
  {
   "cell_type": "markdown",
   "metadata": {},
   "source": [
    "1. t11406 - these curves were totally messed up so I am re-running make_perf.dev, hoping that might change something for the better. \n",
    "2. t11579 - re-running make_perf.dev, perhaps will quantify cbv \n",
    "3. t11753 - necrosis needs to be drawn, I believe it's right in the necrotic region... at least for A1; biopsy doesn't open in sivic for some reason. Seems to have worked, run perf_biopsy_all.x\n",
    "4. t11263 - seems like low perfusion throughout, wouldn't be surprised if it had zero perf params \n",
    "5. t9586 - seems like low perfusion throughout, wouldn't be surprised if it had zero perf params, but re-running everythign anyway \n",
    "6. t9063 - \n",
    "7. t8943 - \n",
    "8. t8960 - \n",
    "9. t9410 - \n",
    "10. t10366 - \n",
    "11. t10756 - \n"
   ]
  },
  {
   "cell_type": "code",
   "execution_count": 23,
   "metadata": {
    "collapsed": false
   },
   "outputs": [
    {
     "data": {
      "image/png": "[encoded data removed]",
      "text/plain": [
       "plot without title"
      ]
     },
     "metadata": {},
     "output_type": "display_data"
    }
   ],
   "source": [
    "plot(perf_annot$phn_nonpar, perf_annot$cbvn_nonlin)"
   ]
  },
  {
   "cell_type": "code",
   "execution_count": null,
   "metadata": {
    "collapsed": true
   },
   "outputs": [],
   "source": []
  }
 ],
 "metadata": {
  "kernelspec": {
   "display_name": "R",
   "language": "R",
   "name": "ir"
  },
  "language_info": {
   "codemirror_mode": "r",
   "file_extension": ".r",
   "mimetype": "text/x-r-source",
   "name": "R",
   "pygments_lexer": "r",
   "version": "3.4.0"
  }
 },
 "nbformat": 4,
 "nbformat_minor": 2
}
