{
 "cells": [
  {
   "cell_type": "markdown",
   "metadata": {
    "deletable": true,
    "editable": true
   },
   "source": [
    "1. Annotate w/ laclip \n",
    "2. Annotate w/ reason for pathology missing \n",
    "3. annotate for the reason that the imaging might be missing\n",
    "4. Substitution of 0's for NA's, Annotate those substitutions, find where quant failed for perf\n",
    "5. Annotates for inclusion of modalities \n",
    "6. Imputes b1000 data from b2000 using linear modeling \n",
    "7. Adds in output from get_igt_stats.ipynb, w/ %CEL, NEL, NEC & inclusion criteria (can be found in DataWrangling/GetMergeData/)\n",
    "8. Excludes ependymomas and other non-astro non-oligo HGGs (desired_hist) \n",
    "9. Creates outcome labels (multnom_out), adds necrosis, makes PN category (pathologically normal) that are in CEL or in the NEL region labeled TxE  \n",
    "12. Adds in binary operator to include the data only if it's rHGG or TxE \n"
   ]
  },
  {
   "cell_type": "code",
   "execution_count": 1,
   "metadata": {
    "collapsed": true,
    "deletable": true,
    "editable": true
   },
   "outputs": [],
   "source": [
    "options(repr.matrix.max.rows=600, repr.matrix.max.cols=200)"
   ]
  },
  {
   "cell_type": "markdown",
   "metadata": {
    "deletable": true,
    "editable": true
   },
   "source": [
    "## 1. LacLip Annotation"
   ]
  },
  {
   "cell_type": "code",
   "execution_count": 2,
   "metadata": {
    "collapsed": false,
    "deletable": true,
    "editable": true
   },
   "outputs": [
    {
     "data": {
      "text/html": [
       "'/home/sf673542/DataWrangling/AnnotateData'"
      ],
      "text/latex": [
       "'/home/sf673542/DataWrangling/AnnotateData'"
      ],
      "text/markdown": [
       "'/home/sf673542/DataWrangling/AnnotateData'"
      ],
      "text/plain": [
       "[1] \"/home/sf673542/DataWrangling/AnnotateData\""
      ]
     },
     "metadata": {},
     "output_type": "display_data"
    }
   ],
   "source": [
    "getwd()"
   ]
  },
  {
   "cell_type": "code",
   "execution_count": 3,
   "metadata": {
    "collapsed": false,
    "deletable": true,
    "editable": true
   },
   "outputs": [
    {
     "data": {
      "text/html": [
       "<ol class=list-inline>\n",
       "\t<li>644</li>\n",
       "\t<li>45</li>\n",
       "</ol>\n"
      ],
      "text/latex": [
       "\\begin{enumerate*}\n",
       "\\item 644\n",
       "\\item 45\n",
       "\\end{enumerate*}\n"
      ],
      "text/markdown": [
       "1. 644\n",
       "2. 45\n",
       "\n",
       "\n"
      ],
      "text/plain": [
       "[1] 644  45"
      ]
     },
     "metadata": {},
     "output_type": "display_data"
    }
   ],
   "source": [
    "all_recgli = read.csv(\"../GetMergeData/July2018/researchPath_withInVivoData.csv\")\n",
    "dim(all_recgli)"
   ]
  },
  {
   "cell_type": "code",
   "execution_count": 4,
   "metadata": {
    "collapsed": false,
    "deletable": true,
    "editable": true
   },
   "outputs": [
    {
     "data": {
      "text/plain": [
       "laclip\n",
       "  0   1 \n",
       "125 179 "
      ]
     },
     "metadata": {},
     "output_type": "display_data"
    },
    {
     "data": {
      "text/html": [
       "<ol class=list-inline>\n",
       "\t<li>644</li>\n",
       "\t<li>46</li>\n",
       "</ol>\n"
      ],
      "text/latex": [
       "\\begin{enumerate*}\n",
       "\\item 644\n",
       "\\item 46\n",
       "\\end{enumerate*}\n"
      ],
      "text/markdown": [
       "1. 644\n",
       "2. 46\n",
       "\n",
       "\n"
      ],
      "text/plain": [
       "[1] 644  46"
      ]
     },
     "metadata": {},
     "output_type": "display_data"
    }
   ],
   "source": [
    "laclip = ifelse(all_recgli$nlac == all_recgli$nlip, 1, 0)\n",
    "table(laclip)\n",
    "laclip_values = ifelse(laclip==1, all_recgli$nlac, all_recgli$nlac+all_recgli$nlip)\n",
    "all_recgli = data.frame(all_recgli[,c(1:42)], laclip = laclip_values, all_recgli[,c(43:dim(all_recgli)[2])])\n",
    "## making indeterminable shorter: \n",
    "all_recgli$tumor_cell_evaluation = gsub(\"Indeterminable\", \"Ind\", all_recgli$tumor_cell_evaluation)\n",
    "dim(all_recgli)"
   ]
  },
  {
   "cell_type": "code",
   "execution_count": 5,
   "metadata": {
    "collapsed": false,
    "deletable": true,
    "editable": true
   },
   "outputs": [
    {
     "data": {
      "text/html": [
       "<ol class=list-inline>\n",
       "\t<li>'b_number'</li>\n",
       "\t<li>'t_number'</li>\n",
       "\t<li>'sf_number'</li>\n",
       "\t<li>'current_scan_date'</li>\n",
       "\t<li>'current_surgery_date'</li>\n",
       "\t<li>'current_hist_grade'</li>\n",
       "\t<li>'current_hist_type'</li>\n",
       "\t<li>'roi.label'</li>\n",
       "\t<li>'tumor_cell_evaluation'</li>\n",
       "\t<li>'necrosis'</li>\n",
       "\t<li>'f8_delicate'</li>\n",
       "\t<li>'f8_simple'</li>\n",
       "\t<li>'f8_complex'</li>\n",
       "\t<li>'mib_1'</li>\n",
       "\t<li>'bx_pure_treatment_effect'</li>\n",
       "\t<li>'nfse'</li>\n",
       "\t<li>'nfl'</li>\n",
       "\t<li>'nt1c'</li>\n",
       "\t<li>'nt1v'</li>\n",
       "\t<li>'nadc.1'</li>\n",
       "\t<li>'nfa.1'</li>\n",
       "\t<li>'nev1.1'</li>\n",
       "\t<li>'nev2.1'</li>\n",
       "\t<li>'nev3.1'</li>\n",
       "\t<li>'nevrad.1'</li>\n",
       "\t<li>'nadc.2'</li>\n",
       "\t<li>'nfa.2'</li>\n",
       "\t<li>'nev1.2'</li>\n",
       "\t<li>'nev2.2'</li>\n",
       "\t<li>'nev3.2'</li>\n",
       "\t<li>'nevrad.2'</li>\n",
       "\t<li>'cbvn_nlin'</li>\n",
       "\t<li>'phn_nlin'</li>\n",
       "\t<li>'phn_npar'</li>\n",
       "\t<li>'recovn_npar'</li>\n",
       "\t<li>'cni'</li>\n",
       "\t<li>'ccri'</li>\n",
       "\t<li>'crni'</li>\n",
       "\t<li>'ncho'</li>\n",
       "\t<li>'ncre'</li>\n",
       "\t<li>'nnaa'</li>\n",
       "\t<li>'nlip'</li>\n",
       "\t<li>'laclip'</li>\n",
       "\t<li>'nlac'</li>\n",
       "\t<li>'olddata'</li>\n",
       "\t<li>'newdata'</li>\n",
       "</ol>\n"
      ],
      "text/latex": [
       "\\begin{enumerate*}\n",
       "\\item 'b\\_number'\n",
       "\\item 't\\_number'\n",
       "\\item 'sf\\_number'\n",
       "\\item 'current\\_scan\\_date'\n",
       "\\item 'current\\_surgery\\_date'\n",
       "\\item 'current\\_hist\\_grade'\n",
       "\\item 'current\\_hist\\_type'\n",
       "\\item 'roi.label'\n",
       "\\item 'tumor\\_cell\\_evaluation'\n",
       "\\item 'necrosis'\n",
       "\\item 'f8\\_delicate'\n",
       "\\item 'f8\\_simple'\n",
       "\\item 'f8\\_complex'\n",
       "\\item 'mib\\_1'\n",
       "\\item 'bx\\_pure\\_treatment\\_effect'\n",
       "\\item 'nfse'\n",
       "\\item 'nfl'\n",
       "\\item 'nt1c'\n",
       "\\item 'nt1v'\n",
       "\\item 'nadc.1'\n",
       "\\item 'nfa.1'\n",
       "\\item 'nev1.1'\n",
       "\\item 'nev2.1'\n",
       "\\item 'nev3.1'\n",
       "\\item 'nevrad.1'\n",
       "\\item 'nadc.2'\n",
       "\\item 'nfa.2'\n",
       "\\item 'nev1.2'\n",
       "\\item 'nev2.2'\n",
       "\\item 'nev3.2'\n",
       "\\item 'nevrad.2'\n",
       "\\item 'cbvn\\_nlin'\n",
       "\\item 'phn\\_nlin'\n",
       "\\item 'phn\\_npar'\n",
       "\\item 'recovn\\_npar'\n",
       "\\item 'cni'\n",
       "\\item 'ccri'\n",
       "\\item 'crni'\n",
       "\\item 'ncho'\n",
       "\\item 'ncre'\n",
       "\\item 'nnaa'\n",
       "\\item 'nlip'\n",
       "\\item 'laclip'\n",
       "\\item 'nlac'\n",
       "\\item 'olddata'\n",
       "\\item 'newdata'\n",
       "\\end{enumerate*}\n"
      ],
      "text/markdown": [
       "1. 'b_number'\n",
       "2. 't_number'\n",
       "3. 'sf_number'\n",
       "4. 'current_scan_date'\n",
       "5. 'current_surgery_date'\n",
       "6. 'current_hist_grade'\n",
       "7. 'current_hist_type'\n",
       "8. 'roi.label'\n",
       "9. 'tumor_cell_evaluation'\n",
       "10. 'necrosis'\n",
       "11. 'f8_delicate'\n",
       "12. 'f8_simple'\n",
       "13. 'f8_complex'\n",
       "14. 'mib_1'\n",
       "15. 'bx_pure_treatment_effect'\n",
       "16. 'nfse'\n",
       "17. 'nfl'\n",
       "18. 'nt1c'\n",
       "19. 'nt1v'\n",
       "20. 'nadc.1'\n",
       "21. 'nfa.1'\n",
       "22. 'nev1.1'\n",
       "23. 'nev2.1'\n",
       "24. 'nev3.1'\n",
       "25. 'nevrad.1'\n",
       "26. 'nadc.2'\n",
       "27. 'nfa.2'\n",
       "28. 'nev1.2'\n",
       "29. 'nev2.2'\n",
       "30. 'nev3.2'\n",
       "31. 'nevrad.2'\n",
       "32. 'cbvn_nlin'\n",
       "33. 'phn_nlin'\n",
       "34. 'phn_npar'\n",
       "35. 'recovn_npar'\n",
       "36. 'cni'\n",
       "37. 'ccri'\n",
       "38. 'crni'\n",
       "39. 'ncho'\n",
       "40. 'ncre'\n",
       "41. 'nnaa'\n",
       "42. 'nlip'\n",
       "43. 'laclip'\n",
       "44. 'nlac'\n",
       "45. 'olddata'\n",
       "46. 'newdata'\n",
       "\n",
       "\n"
      ],
      "text/plain": [
       " [1] \"b_number\"                 \"t_number\"                \n",
       " [3] \"sf_number\"                \"current_scan_date\"       \n",
       " [5] \"current_surgery_date\"     \"current_hist_grade\"      \n",
       " [7] \"current_hist_type\"        \"roi.label\"               \n",
       " [9] \"tumor_cell_evaluation\"    \"necrosis\"                \n",
       "[11] \"f8_delicate\"              \"f8_simple\"               \n",
       "[13] \"f8_complex\"               \"mib_1\"                   \n",
       "[15] \"bx_pure_treatment_effect\" \"nfse\"                    \n",
       "[17] \"nfl\"                      \"nt1c\"                    \n",
       "[19] \"nt1v\"                     \"nadc.1\"                  \n",
       "[21] \"nfa.1\"                    \"nev1.1\"                  \n",
       "[23] \"nev2.1\"                   \"nev3.1\"                  \n",
       "[25] \"nevrad.1\"                 \"nadc.2\"                  \n",
       "[27] \"nfa.2\"                    \"nev1.2\"                  \n",
       "[29] \"nev2.2\"                   \"nev3.2\"                  \n",
       "[31] \"nevrad.2\"                 \"cbvn_nlin\"               \n",
       "[33] \"phn_nlin\"                 \"phn_npar\"                \n",
       "[35] \"recovn_npar\"              \"cni\"                     \n",
       "[37] \"ccri\"                     \"crni\"                    \n",
       "[39] \"ncho\"                     \"ncre\"                    \n",
       "[41] \"nnaa\"                     \"nlip\"                    \n",
       "[43] \"laclip\"                   \"nlac\"                    \n",
       "[45] \"olddata\"                  \"newdata\"                 "
      ]
     },
     "metadata": {},
     "output_type": "display_data"
    }
   ],
   "source": [
    "colnames(all_recgli)"
   ]
  },
  {
   "cell_type": "code",
   "execution_count": 6,
   "metadata": {
    "collapsed": true,
    "deletable": true,
    "editable": true
   },
   "outputs": [],
   "source": [
    "write.csv(all_recgli, file = \"Annot1_researchPath_withInVivoData.csv\", row.names = F)"
   ]
  },
  {
   "cell_type": "markdown",
   "metadata": {
    "deletable": true,
    "editable": true
   },
   "source": [
    "## 2. Pathology Comments For Outcome Determination"
   ]
  },
  {
   "cell_type": "code",
   "execution_count": 7,
   "metadata": {
    "collapsed": true,
    "deletable": true,
    "editable": true
   },
   "outputs": [],
   "source": [
    "all_recgli = read.csv(\"Annot1_researchPath_withInVivoData.csv\")"
   ]
  },
  {
   "cell_type": "markdown",
   "metadata": {
    "deletable": true,
    "editable": true
   },
   "source": [
    "Here we have to go & download most recent pathology comment reports from cerebro. \n",
    "Go to https://braino.radiology.ucsf.edu/ncvi/secure/clinical/search/AdvancedSearch2.do?cid=5\n",
    "\n",
    "1. For old data, click Search Criteria = Study tag equals P01_PREOP_REC\n",
    "2. Under \"Tissue Samples (Research)\" Click \"Tissue Bank Vial ID\" \n",
    "3. Under \"Pathology Events (Research)\" Click \"Pathology Comments\" \n",
    "4. Click the green button to download, save as path_comments_oldP01.csv, & upload to CWD \n",
    "5. Repeat for new data, with Search Criteria = Study tag equals REC_HGG, save as path_comments_RECHGG.csv "
   ]
  },
  {
   "cell_type": "code",
   "execution_count": 8,
   "metadata": {
    "collapsed": false,
    "deletable": true,
    "editable": true
   },
   "outputs": [
    {
     "data": {
      "text/html": [
       "<ol class=list-inline>\n",
       "\t<li>371</li>\n",
       "\t<li>2</li>\n",
       "</ol>\n"
      ],
      "text/latex": [
       "\\begin{enumerate*}\n",
       "\\item 371\n",
       "\\item 2\n",
       "\\end{enumerate*}\n"
      ],
      "text/markdown": [
       "1. 371\n",
       "2. 2\n",
       "\n",
       "\n"
      ],
      "text/plain": [
       "[1] 371   2"
      ]
     },
     "metadata": {},
     "output_type": "display_data"
    },
    {
     "data": {
      "text/html": [
       "<ol class=list-inline>\n",
       "\t<li>417</li>\n",
       "\t<li>2</li>\n",
       "</ol>\n"
      ],
      "text/latex": [
       "\\begin{enumerate*}\n",
       "\\item 417\n",
       "\\item 2\n",
       "\\end{enumerate*}\n"
      ],
      "text/markdown": [
       "1. 417\n",
       "2. 2\n",
       "\n",
       "\n"
      ],
      "text/plain": [
       "[1] 417   2"
      ]
     },
     "metadata": {},
     "output_type": "display_data"
    }
   ],
   "source": [
    "oldpathcomments = read.csv(\"path_comments_oldP01.csv\")\n",
    "newpathcomments = read.csv(\"path_comments_RECHGG.csv\")\n",
    "dim(oldpathcomments)\n",
    "dim(newpathcomments)"
   ]
  },
  {
   "cell_type": "markdown",
   "metadata": {
    "deletable": true,
    "editable": true
   },
   "source": [
    "Previously I had looked at old spreadsheets and determined that there was no FFPE tissue and I annotated that in a file called no_path_in_data.csv. I moved that to CWD and will upload now: "
   ]
  },
  {
   "cell_type": "code",
   "execution_count": 9,
   "metadata": {
    "collapsed": true,
    "deletable": true,
    "editable": true
   },
   "outputs": [],
   "source": [
    "no_ffpe_determination_by_julia = read.csv(\"no_path_in_data.csv\")\n",
    "colnames(no_ffpe_determination_by_julia)[4]=\"roi.label\"\n",
    "colnames(oldpathcomments)=c('roi.label', 'comments')\n",
    "colnames(newpathcomments)=c('roi.label', 'comments')"
   ]
  },
  {
   "cell_type": "code",
   "execution_count": 10,
   "metadata": {
    "collapsed": false,
    "deletable": true,
    "editable": true
   },
   "outputs": [
    {
     "data": {
      "text/html": [
       "<ol class=list-inline>\n",
       "\t<li>788</li>\n",
       "\t<li>2</li>\n",
       "</ol>\n"
      ],
      "text/latex": [
       "\\begin{enumerate*}\n",
       "\\item 788\n",
       "\\item 2\n",
       "\\end{enumerate*}\n"
      ],
      "text/markdown": [
       "1. 788\n",
       "2. 2\n",
       "\n",
       "\n"
      ],
      "text/plain": [
       "[1] 788   2"
      ]
     },
     "metadata": {},
     "output_type": "display_data"
    }
   ],
   "source": [
    "allpathcomments = rbind(oldpathcomments, newpathcomments)\n",
    "dim(allpathcomments)\n",
    "allpathcomments[,1]=as.character(allpathcomments[,1])\n",
    "all_recgli$roi.label=as.character(all_recgli$roi.label)"
   ]
  },
  {
   "cell_type": "code",
   "execution_count": 11,
   "metadata": {
    "collapsed": false,
    "deletable": true,
    "editable": true
   },
   "outputs": [
    {
     "name": "stderr",
     "output_type": "stream",
     "text": [
      "\n",
      "Attaching package: ‘dplyr’\n",
      "\n",
      "The following objects are masked from ‘package:stats’:\n",
      "\n",
      "    filter, lag\n",
      "\n",
      "The following objects are masked from ‘package:base’:\n",
      "\n",
      "    intersect, setdiff, setequal, union\n",
      "\n"
     ]
    }
   ],
   "source": [
    "library(dplyr)"
   ]
  },
  {
   "cell_type": "code",
   "execution_count": 12,
   "metadata": {
    "collapsed": false,
    "deletable": true,
    "editable": true
   },
   "outputs": [
    {
     "data": {
      "text/plain": [
       "\n",
       "FALSE  TRUE \n",
       "  675   113 "
      ]
     },
     "metadata": {},
     "output_type": "display_data"
    },
    {
     "data": {
      "text/html": [
       "<ol class=list-inline>\n",
       "\t<li>373</li>\n",
       "\t<li>374</li>\n",
       "\t<li>375</li>\n",
       "\t<li>376</li>\n",
       "\t<li>377</li>\n",
       "\t<li>382</li>\n",
       "\t<li>386</li>\n",
       "\t<li>391</li>\n",
       "\t<li>392</li>\n",
       "\t<li>395</li>\n",
       "\t<li>400</li>\n",
       "\t<li>401</li>\n",
       "\t<li>405</li>\n",
       "\t<li>406</li>\n",
       "\t<li>409</li>\n",
       "\t<li>414</li>\n",
       "\t<li>419</li>\n",
       "\t<li>420</li>\n",
       "\t<li>423</li>\n",
       "\t<li>428</li>\n",
       "\t<li>431</li>\n",
       "\t<li>435</li>\n",
       "\t<li>439</li>\n",
       "\t<li>442</li>\n",
       "\t<li>446</li>\n",
       "\t<li>450</li>\n",
       "\t<li>453</li>\n",
       "\t<li>456</li>\n",
       "\t<li>460</li>\n",
       "\t<li>465</li>\n",
       "\t<li>470</li>\n",
       "\t<li>474</li>\n",
       "\t<li>478</li>\n",
       "\t<li>482</li>\n",
       "\t<li>484</li>\n",
       "\t<li>488</li>\n",
       "\t<li>493</li>\n",
       "\t<li>497</li>\n",
       "\t<li>501</li>\n",
       "\t<li>509</li>\n",
       "\t<li>511</li>\n",
       "\t<li>516</li>\n",
       "\t<li>517</li>\n",
       "\t<li>518</li>\n",
       "\t<li>521</li>\n",
       "\t<li>525</li>\n",
       "\t<li>528</li>\n",
       "\t<li>537</li>\n",
       "\t<li>542</li>\n",
       "\t<li>545</li>\n",
       "\t<li>550</li>\n",
       "\t<li>555</li>\n",
       "\t<li>559</li>\n",
       "\t<li>563</li>\n",
       "\t<li>568</li>\n",
       "\t<li>571</li>\n",
       "\t<li>576</li>\n",
       "\t<li>581</li>\n",
       "\t<li>586</li>\n",
       "\t<li>587</li>\n",
       "\t<li>592</li>\n",
       "\t<li>595</li>\n",
       "\t<li>600</li>\n",
       "\t<li>605</li>\n",
       "\t<li>612</li>\n",
       "\t<li>617</li>\n",
       "\t<li>626</li>\n",
       "\t<li>631</li>\n",
       "\t<li>634</li>\n",
       "\t<li>638</li>\n",
       "\t<li>647</li>\n",
       "\t<li>649</li>\n",
       "\t<li>650</li>\n",
       "\t<li>655</li>\n",
       "\t<li>664</li>\n",
       "\t<li>665</li>\n",
       "\t<li>666</li>\n",
       "\t<li>667</li>\n",
       "\t<li>668</li>\n",
       "\t<li>671</li>\n",
       "\t<li>675</li>\n",
       "\t<li>679</li>\n",
       "\t<li>682</li>\n",
       "\t<li>687</li>\n",
       "\t<li>692</li>\n",
       "\t<li>697</li>\n",
       "\t<li>702</li>\n",
       "\t<li>703</li>\n",
       "\t<li>706</li>\n",
       "\t<li>711</li>\n",
       "\t<li>714</li>\n",
       "\t<li>718</li>\n",
       "\t<li>721</li>\n",
       "\t<li>724</li>\n",
       "\t<li>727</li>\n",
       "\t<li>731</li>\n",
       "\t<li>733</li>\n",
       "\t<li>736</li>\n",
       "\t<li>741</li>\n",
       "\t<li>746</li>\n",
       "\t<li>747</li>\n",
       "\t<li>752</li>\n",
       "\t<li>757</li>\n",
       "\t<li>760</li>\n",
       "\t<li>761</li>\n",
       "\t<li>766</li>\n",
       "\t<li>770</li>\n",
       "\t<li>773</li>\n",
       "\t<li>777</li>\n",
       "\t<li>780</li>\n",
       "\t<li>785</li>\n",
       "\t<li>786</li>\n",
       "\t<li>788</li>\n",
       "</ol>\n"
      ],
      "text/latex": [
       "\\begin{enumerate*}\n",
       "\\item 373\n",
       "\\item 374\n",
       "\\item 375\n",
       "\\item 376\n",
       "\\item 377\n",
       "\\item 382\n",
       "\\item 386\n",
       "\\item 391\n",
       "\\item 392\n",
       "\\item 395\n",
       "\\item 400\n",
       "\\item 401\n",
       "\\item 405\n",
       "\\item 406\n",
       "\\item 409\n",
       "\\item 414\n",
       "\\item 419\n",
       "\\item 420\n",
       "\\item 423\n",
       "\\item 428\n",
       "\\item 431\n",
       "\\item 435\n",
       "\\item 439\n",
       "\\item 442\n",
       "\\item 446\n",
       "\\item 450\n",
       "\\item 453\n",
       "\\item 456\n",
       "\\item 460\n",
       "\\item 465\n",
       "\\item 470\n",
       "\\item 474\n",
       "\\item 478\n",
       "\\item 482\n",
       "\\item 484\n",
       "\\item 488\n",
       "\\item 493\n",
       "\\item 497\n",
       "\\item 501\n",
       "\\item 509\n",
       "\\item 511\n",
       "\\item 516\n",
       "\\item 517\n",
       "\\item 518\n",
       "\\item 521\n",
       "\\item 525\n",
       "\\item 528\n",
       "\\item 537\n",
       "\\item 542\n",
       "\\item 545\n",
       "\\item 550\n",
       "\\item 555\n",
       "\\item 559\n",
       "\\item 563\n",
       "\\item 568\n",
       "\\item 571\n",
       "\\item 576\n",
       "\\item 581\n",
       "\\item 586\n",
       "\\item 587\n",
       "\\item 592\n",
       "\\item 595\n",
       "\\item 600\n",
       "\\item 605\n",
       "\\item 612\n",
       "\\item 617\n",
       "\\item 626\n",
       "\\item 631\n",
       "\\item 634\n",
       "\\item 638\n",
       "\\item 647\n",
       "\\item 649\n",
       "\\item 650\n",
       "\\item 655\n",
       "\\item 664\n",
       "\\item 665\n",
       "\\item 666\n",
       "\\item 667\n",
       "\\item 668\n",
       "\\item 671\n",
       "\\item 675\n",
       "\\item 679\n",
       "\\item 682\n",
       "\\item 687\n",
       "\\item 692\n",
       "\\item 697\n",
       "\\item 702\n",
       "\\item 703\n",
       "\\item 706\n",
       "\\item 711\n",
       "\\item 714\n",
       "\\item 718\n",
       "\\item 721\n",
       "\\item 724\n",
       "\\item 727\n",
       "\\item 731\n",
       "\\item 733\n",
       "\\item 736\n",
       "\\item 741\n",
       "\\item 746\n",
       "\\item 747\n",
       "\\item 752\n",
       "\\item 757\n",
       "\\item 760\n",
       "\\item 761\n",
       "\\item 766\n",
       "\\item 770\n",
       "\\item 773\n",
       "\\item 777\n",
       "\\item 780\n",
       "\\item 785\n",
       "\\item 786\n",
       "\\item 788\n",
       "\\end{enumerate*}\n"
      ],
      "text/markdown": [
       "1. 373\n",
       "2. 374\n",
       "3. 375\n",
       "4. 376\n",
       "5. 377\n",
       "6. 382\n",
       "7. 386\n",
       "8. 391\n",
       "9. 392\n",
       "10. 395\n",
       "11. 400\n",
       "12. 401\n",
       "13. 405\n",
       "14. 406\n",
       "15. 409\n",
       "16. 414\n",
       "17. 419\n",
       "18. 420\n",
       "19. 423\n",
       "20. 428\n",
       "21. 431\n",
       "22. 435\n",
       "23. 439\n",
       "24. 442\n",
       "25. 446\n",
       "26. 450\n",
       "27. 453\n",
       "28. 456\n",
       "29. 460\n",
       "30. 465\n",
       "31. 470\n",
       "32. 474\n",
       "33. 478\n",
       "34. 482\n",
       "35. 484\n",
       "36. 488\n",
       "37. 493\n",
       "38. 497\n",
       "39. 501\n",
       "40. 509\n",
       "41. 511\n",
       "42. 516\n",
       "43. 517\n",
       "44. 518\n",
       "45. 521\n",
       "46. 525\n",
       "47. 528\n",
       "48. 537\n",
       "49. 542\n",
       "50. 545\n",
       "51. 550\n",
       "52. 555\n",
       "53. 559\n",
       "54. 563\n",
       "55. 568\n",
       "56. 571\n",
       "57. 576\n",
       "58. 581\n",
       "59. 586\n",
       "60. 587\n",
       "61. 592\n",
       "62. 595\n",
       "63. 600\n",
       "64. 605\n",
       "65. 612\n",
       "66. 617\n",
       "67. 626\n",
       "68. 631\n",
       "69. 634\n",
       "70. 638\n",
       "71. 647\n",
       "72. 649\n",
       "73. 650\n",
       "74. 655\n",
       "75. 664\n",
       "76. 665\n",
       "77. 666\n",
       "78. 667\n",
       "79. 668\n",
       "80. 671\n",
       "81. 675\n",
       "82. 679\n",
       "83. 682\n",
       "84. 687\n",
       "85. 692\n",
       "86. 697\n",
       "87. 702\n",
       "88. 703\n",
       "89. 706\n",
       "90. 711\n",
       "91. 714\n",
       "92. 718\n",
       "93. 721\n",
       "94. 724\n",
       "95. 727\n",
       "96. 731\n",
       "97. 733\n",
       "98. 736\n",
       "99. 741\n",
       "100. 746\n",
       "101. 747\n",
       "102. 752\n",
       "103. 757\n",
       "104. 760\n",
       "105. 761\n",
       "106. 766\n",
       "107. 770\n",
       "108. 773\n",
       "109. 777\n",
       "110. 780\n",
       "111. 785\n",
       "112. 786\n",
       "113. 788\n",
       "\n",
       "\n"
      ],
      "text/plain": [
       "  [1] 373 374 375 376 377 382 386 391 392 395 400 401 405 406 409 414 419 420\n",
       " [19] 423 428 431 435 439 442 446 450 453 456 460 465 470 474 478 482 484 488\n",
       " [37] 493 497 501 509 511 516 517 518 521 525 528 537 542 545 550 555 559 563\n",
       " [55] 568 571 576 581 586 587 592 595 600 605 612 617 626 631 634 638 647 649\n",
       " [73] 650 655 664 665 666 667 668 671 675 679 682 687 692 697 702 703 706 711\n",
       " [91] 714 718 721 724 727 731 733 736 741 746 747 752 757 760 761 766 770 773\n",
       "[109] 777 780 785 786 788"
      ]
     },
     "metadata": {},
     "output_type": "display_data"
    },
    {
     "data": {
      "text/html": [
       "<ol class=list-inline>\n",
       "\t<li>675</li>\n",
       "\t<li>2</li>\n",
       "</ol>\n"
      ],
      "text/latex": [
       "\\begin{enumerate*}\n",
       "\\item 675\n",
       "\\item 2\n",
       "\\end{enumerate*}\n"
      ],
      "text/markdown": [
       "1. 675\n",
       "2. 2\n",
       "\n",
       "\n"
      ],
      "text/plain": [
       "[1] 675   2"
      ]
     },
     "metadata": {},
     "output_type": "display_data"
    }
   ],
   "source": [
    "table(duplicated(allpathcomments$roi.label))\n",
    "which(duplicated(allpathcomments))\n",
    "allpathcomments=allpathcomments[-which(duplicated(allpathcomments)),]\n",
    "dim(allpathcomments)"
   ]
  },
  {
   "cell_type": "code",
   "execution_count": 13,
   "metadata": {
    "collapsed": true,
    "deletable": true,
    "editable": true
   },
   "outputs": [],
   "source": [
    "recgli.withpathcommments = left_join(all_recgli, allpathcomments, by = \"roi.label\")"
   ]
  },
  {
   "cell_type": "code",
   "execution_count": 14,
   "metadata": {
    "collapsed": false,
    "deletable": true,
    "editable": true
   },
   "outputs": [
    {
     "data": {
      "text/html": [
       "<ol class=list-inline>\n",
       "\t<li>644</li>\n",
       "\t<li>47</li>\n",
       "</ol>\n"
      ],
      "text/latex": [
       "\\begin{enumerate*}\n",
       "\\item 644\n",
       "\\item 47\n",
       "\\end{enumerate*}\n"
      ],
      "text/markdown": [
       "1. 644\n",
       "2. 47\n",
       "\n",
       "\n"
      ],
      "text/plain": [
       "[1] 644  47"
      ]
     },
     "metadata": {},
     "output_type": "display_data"
    }
   ],
   "source": [
    "dim(recgli.withpathcommments)"
   ]
  },
  {
   "cell_type": "code",
   "execution_count": 15,
   "metadata": {
    "collapsed": false,
    "deletable": true,
    "editable": true
   },
   "outputs": [
    {
     "data": {
      "text/plain": [
       "\n",
       "FALSE \n",
       "   77 "
      ]
     },
     "metadata": {},
     "output_type": "display_data"
    },
    {
     "name": "stderr",
     "output_type": "stream",
     "text": [
      "Warning message:\n",
      "“Column `roi.label` joining character vector and factor, coercing into character vector”"
     ]
    }
   ],
   "source": [
    "table(duplicated(no_ffpe_determination_by_julia$roi.label))\n",
    "recgli = left_join(recgli.withpathcommments, no_ffpe_determination_by_julia[,c(4,8)], by = \"roi.label\")"
   ]
  },
  {
   "cell_type": "code",
   "execution_count": 16,
   "metadata": {
    "collapsed": false,
    "deletable": true,
    "editable": true
   },
   "outputs": [
    {
     "data": {
      "text/html": [
       "<ol class=list-inline>\n",
       "\t<li>644</li>\n",
       "\t<li>48</li>\n",
       "</ol>\n"
      ],
      "text/latex": [
       "\\begin{enumerate*}\n",
       "\\item 644\n",
       "\\item 48\n",
       "\\end{enumerate*}\n"
      ],
      "text/markdown": [
       "1. 644\n",
       "2. 48\n",
       "\n",
       "\n"
      ],
      "text/plain": [
       "[1] 644  48"
      ]
     },
     "metadata": {},
     "output_type": "display_data"
    }
   ],
   "source": [
    "dim(recgli)"
   ]
  },
  {
   "cell_type": "code",
   "execution_count": 17,
   "metadata": {
    "collapsed": true,
    "deletable": true,
    "editable": true
   },
   "outputs": [],
   "source": [
    "write.csv(recgli, \"2ndAnnot_researchPath_withInVivo.csv\", row.names=F)"
   ]
  },
  {
   "cell_type": "markdown",
   "metadata": {
    "deletable": true,
    "editable": true
   },
   "source": [
    "## 3. Reason that Imaging is Missing "
   ]
  },
  {
   "cell_type": "code",
   "execution_count": 18,
   "metadata": {
    "collapsed": true,
    "deletable": true,
    "editable": true
   },
   "outputs": [],
   "source": [
    "all_recgli = read.csv(\"2ndAnnot_researchPath_withInVivo.csv\")"
   ]
  },
  {
   "cell_type": "markdown",
   "metadata": {
    "deletable": true,
    "editable": true
   },
   "source": [
    "Remove the spaces in the roi.label column in order to match our vialIDs from the missingDataReasons"
   ]
  },
  {
   "cell_type": "code",
   "execution_count": 19,
   "metadata": {
    "collapsed": true,
    "deletable": true,
    "editable": true
   },
   "outputs": [],
   "source": [
    "all_recgli$roi.label = gsub(\" \", \"\", as.character(all_recgli$roi.label))"
   ]
  },
  {
   "cell_type": "markdown",
   "metadata": {
    "deletable": true,
    "editable": true
   },
   "source": [
    "Earlier I had written up why imaging was missing for old data and for new data. I copied the files called \"REC_HGG_missingImagingNotes.csv\" and \"olddata_Nelson_missingDataReasons.csv\" to this directory."
   ]
  },
  {
   "cell_type": "code",
   "execution_count": 20,
   "metadata": {
    "collapsed": false,
    "deletable": true,
    "editable": true
   },
   "outputs": [
    {
     "data": {
      "text/html": [
       "<table>\n",
       "<thead><tr><th scope=col>tnum</th><th scope=col>vial_id</th><th scope=col>consent_issue</th><th scope=col>screenshot_issue</th><th scope=col>biopsy_quant_issue</th><th scope=col>screenshots_missing.</th></tr></thead>\n",
       "<tbody>\n",
       "\t<tr><td>5251  </td><td>none  </td><td>1     </td><td>0     </td><td>0     </td><td>t5934 </td></tr>\n",
       "\t<tr><td>5934  </td><td>7909T1</td><td>0     </td><td>1     </td><td>0     </td><td>t5970 </td></tr>\n",
       "\t<tr><td>5934  </td><td>7909T2</td><td>0     </td><td>1     </td><td>0     </td><td>t6024 </td></tr>\n",
       "\t<tr><td>5934  </td><td>7909T3</td><td>0     </td><td>1     </td><td>0     </td><td>t6127 </td></tr>\n",
       "\t<tr><td>5970  </td><td>none  </td><td>1     </td><td>1     </td><td>0     </td><td>t6148 </td></tr>\n",
       "\t<tr><td>6024  </td><td>none  </td><td>1     </td><td>1     </td><td>0     </td><td>t6366 </td></tr>\n",
       "</tbody>\n",
       "</table>\n"
      ],
      "text/latex": [
       "\\begin{tabular}{r|llllll}\n",
       " tnum & vial\\_id & consent\\_issue & screenshot\\_issue & biopsy\\_quant\\_issue & screenshots\\_missing.\\\\\n",
       "\\hline\n",
       "\t 5251   & none   & 1      & 0      & 0      & t5934 \\\\\n",
       "\t 5934   & 7909T1 & 0      & 1      & 0      & t5970 \\\\\n",
       "\t 5934   & 7909T2 & 0      & 1      & 0      & t6024 \\\\\n",
       "\t 5934   & 7909T3 & 0      & 1      & 0      & t6127 \\\\\n",
       "\t 5970   & none   & 1      & 1      & 0      & t6148 \\\\\n",
       "\t 6024   & none   & 1      & 1      & 0      & t6366 \\\\\n",
       "\\end{tabular}\n"
      ],
      "text/markdown": [
       "\n",
       "tnum | vial_id | consent_issue | screenshot_issue | biopsy_quant_issue | screenshots_missing. | \n",
       "|---|---|---|---|---|---|\n",
       "| 5251   | none   | 1      | 0      | 0      | t5934  | \n",
       "| 5934   | 7909T1 | 0      | 1      | 0      | t5970  | \n",
       "| 5934   | 7909T2 | 0      | 1      | 0      | t6024  | \n",
       "| 5934   | 7909T3 | 0      | 1      | 0      | t6127  | \n",
       "| 5970   | none   | 1      | 1      | 0      | t6148  | \n",
       "| 6024   | none   | 1      | 1      | 0      | t6366  | \n",
       "\n",
       "\n"
      ],
      "text/plain": [
       "  tnum vial_id consent_issue screenshot_issue biopsy_quant_issue\n",
       "1 5251 none    1             0                0                 \n",
       "2 5934 7909T1  0             1                0                 \n",
       "3 5934 7909T2  0             1                0                 \n",
       "4 5934 7909T3  0             1                0                 \n",
       "5 5970 none    1             1                0                 \n",
       "6 6024 none    1             1                0                 \n",
       "  screenshots_missing.\n",
       "1 t5934               \n",
       "2 t5970               \n",
       "3 t6024               \n",
       "4 t6127               \n",
       "5 t6148               \n",
       "6 t6366               "
      ]
     },
     "metadata": {},
     "output_type": "display_data"
    }
   ],
   "source": [
    "new_missingImaging = read.csv(\"REC_HGG_missingImagingNotes.csv\")\n",
    "old_missingImaging = read.csv(\"oldData_Nelson_missingDataReasons.csv\")\n",
    "head(old_missingImaging)"
   ]
  },
  {
   "cell_type": "code",
   "execution_count": 21,
   "metadata": {
    "collapsed": false,
    "deletable": true,
    "editable": true
   },
   "outputs": [
    {
     "data": {
      "text/plain": [
       "imaging_code\n",
       "biopsy_quant         scrn    tiss_cons \n",
       "          23           38            3 "
      ]
     },
     "metadata": {},
     "output_type": "display_data"
    }
   ],
   "source": [
    "## we want a vector containing an imaging reason code for not being there that is 622 biopsies long\n",
    "## scrn = no screenshots \n",
    "## tiss_cons = no tissue taken or no consent \n",
    "## biopsy_quant = biopsy quantification issue \n",
    "## beginning with old information: \n",
    "\n",
    "imaging_code = rep(NA, dim(all_recgli)[1])\n",
    "## creating imaging code to get rid of things: \n",
    "for (j in 1:dim(old_missingImaging)[1]){\n",
    "  ## first check to make sure that it is in the merge data frame t\n",
    "  if (as.character(old_missingImaging$vial_id[j]) %in% all_recgli$roi.label){\n",
    "    ## if it is in the data frame, let's match the vialIDs\n",
    "    index_in_all_recgli = match(old_missingImaging$vial_id[j], all_recgli$roi.label)\n",
    "    ## now we have to find out why it  has no imaging: \n",
    "    if(old_missingImaging$consent_issue[j]==1){\n",
    "      imaging_code[index_in_all_recgli] = \"tiss_cons\"\n",
    "    } else if (old_missingImaging$screenshot_issue[j]==1){\n",
    "      imaging_code[index_in_all_recgli] = \"scrn\"\n",
    "    } else if (old_missingImaging$biopsy_quant_issue[j]==1){\n",
    "      imaging_code[index_in_all_recgli] = 'biopsy_quant'\n",
    "    }\n",
    "  }\n",
    "  ## if not in merge data frame, i guess just skip? \n",
    "}\n",
    "table(imaging_code)"
   ]
  },
  {
   "cell_type": "code",
   "execution_count": 22,
   "metadata": {
    "collapsed": false,
    "deletable": true,
    "editable": true
   },
   "outputs": [
    {
     "data": {
      "text/plain": [
       "imaging_code\n",
       "biopsy_quant         scrn    tiss_cons \n",
       "          23           51           19 "
      ]
     },
     "metadata": {},
     "output_type": "display_data"
    }
   ],
   "source": [
    "for (j in 1:dim(new_missingImaging)[1]){\n",
    "  ## first check to make sure that it is in the all_recgli data frame t\n",
    "  if (new_missingImaging$tnum[j] %in% all_recgli$t_number){\n",
    "    ## if it is in the data frame, let's match the vialIDs\n",
    "    indexes_in_all_recgli = which(all_recgli$t_number == new_missingImaging$tnum[j])\n",
    "    ## now we have to find out why it  has no imaging: \n",
    "    if(new_missingImaging$tissue_consent[j]==1){\n",
    "      imaging_code[indexes_in_all_recgli] = \"tiss_cons\"\n",
    "    } else if (new_missingImaging$screenshots_unavailable[j]==1){\n",
    "      imaging_code[indexes_in_all_recgli] = \"scrn\"\n",
    "    } \n",
    "  }\n",
    "  ## if not in merge data frame, i guess just skip? \n",
    "}\n",
    "table(imaging_code)"
   ]
  },
  {
   "cell_type": "code",
   "execution_count": 23,
   "metadata": {
    "collapsed": false,
    "deletable": true,
    "editable": true
   },
   "outputs": [],
   "source": [
    "all_recgli= data.frame(all_recgli, imaging_code = imaging_code)"
   ]
  },
  {
   "cell_type": "code",
   "execution_count": 24,
   "metadata": {
    "collapsed": false,
    "deletable": true,
    "editable": true
   },
   "outputs": [
    {
     "data": {
      "text/html": [
       "<ol class=list-inline>\n",
       "\t<li>644</li>\n",
       "\t<li>49</li>\n",
       "</ol>\n"
      ],
      "text/latex": [
       "\\begin{enumerate*}\n",
       "\\item 644\n",
       "\\item 49\n",
       "\\end{enumerate*}\n"
      ],
      "text/markdown": [
       "1. 644\n",
       "2. 49\n",
       "\n",
       "\n"
      ],
      "text/plain": [
       "[1] 644  49"
      ]
     },
     "metadata": {},
     "output_type": "display_data"
    },
    {
     "data": {
      "text/html": [
       "<ol class=list-inline>\n",
       "\t<li>'b_number'</li>\n",
       "\t<li>'t_number'</li>\n",
       "\t<li>'sf_number'</li>\n",
       "\t<li>'current_scan_date'</li>\n",
       "\t<li>'current_surgery_date'</li>\n",
       "\t<li>'current_hist_grade'</li>\n",
       "\t<li>'current_hist_type'</li>\n",
       "\t<li>'roi.label'</li>\n",
       "\t<li>'tumor_cell_evaluation'</li>\n",
       "\t<li>'necrosis'</li>\n",
       "\t<li>'f8_delicate'</li>\n",
       "\t<li>'f8_simple'</li>\n",
       "\t<li>'f8_complex'</li>\n",
       "\t<li>'mib_1'</li>\n",
       "\t<li>'bx_pure_treatment_effect'</li>\n",
       "\t<li>'nfse'</li>\n",
       "\t<li>'nfl'</li>\n",
       "\t<li>'nt1c'</li>\n",
       "\t<li>'nt1v'</li>\n",
       "\t<li>'nadc.1'</li>\n",
       "\t<li>'nfa.1'</li>\n",
       "\t<li>'nev1.1'</li>\n",
       "\t<li>'nev2.1'</li>\n",
       "\t<li>'nev3.1'</li>\n",
       "\t<li>'nevrad.1'</li>\n",
       "\t<li>'nadc.2'</li>\n",
       "\t<li>'nfa.2'</li>\n",
       "\t<li>'nev1.2'</li>\n",
       "\t<li>'nev2.2'</li>\n",
       "\t<li>'nev3.2'</li>\n",
       "\t<li>'nevrad.2'</li>\n",
       "\t<li>'cbvn_nlin'</li>\n",
       "\t<li>'phn_nlin'</li>\n",
       "\t<li>'phn_npar'</li>\n",
       "\t<li>'recovn_npar'</li>\n",
       "\t<li>'cni'</li>\n",
       "\t<li>'ccri'</li>\n",
       "\t<li>'crni'</li>\n",
       "\t<li>'ncho'</li>\n",
       "\t<li>'ncre'</li>\n",
       "\t<li>'nnaa'</li>\n",
       "\t<li>'nlip'</li>\n",
       "\t<li>'laclip'</li>\n",
       "\t<li>'nlac'</li>\n",
       "\t<li>'olddata'</li>\n",
       "\t<li>'newdata'</li>\n",
       "\t<li>'comments'</li>\n",
       "\t<li>'notes.'</li>\n",
       "\t<li>'imaging_code'</li>\n",
       "</ol>\n"
      ],
      "text/latex": [
       "\\begin{enumerate*}\n",
       "\\item 'b\\_number'\n",
       "\\item 't\\_number'\n",
       "\\item 'sf\\_number'\n",
       "\\item 'current\\_scan\\_date'\n",
       "\\item 'current\\_surgery\\_date'\n",
       "\\item 'current\\_hist\\_grade'\n",
       "\\item 'current\\_hist\\_type'\n",
       "\\item 'roi.label'\n",
       "\\item 'tumor\\_cell\\_evaluation'\n",
       "\\item 'necrosis'\n",
       "\\item 'f8\\_delicate'\n",
       "\\item 'f8\\_simple'\n",
       "\\item 'f8\\_complex'\n",
       "\\item 'mib\\_1'\n",
       "\\item 'bx\\_pure\\_treatment\\_effect'\n",
       "\\item 'nfse'\n",
       "\\item 'nfl'\n",
       "\\item 'nt1c'\n",
       "\\item 'nt1v'\n",
       "\\item 'nadc.1'\n",
       "\\item 'nfa.1'\n",
       "\\item 'nev1.1'\n",
       "\\item 'nev2.1'\n",
       "\\item 'nev3.1'\n",
       "\\item 'nevrad.1'\n",
       "\\item 'nadc.2'\n",
       "\\item 'nfa.2'\n",
       "\\item 'nev1.2'\n",
       "\\item 'nev2.2'\n",
       "\\item 'nev3.2'\n",
       "\\item 'nevrad.2'\n",
       "\\item 'cbvn\\_nlin'\n",
       "\\item 'phn\\_nlin'\n",
       "\\item 'phn\\_npar'\n",
       "\\item 'recovn\\_npar'\n",
       "\\item 'cni'\n",
       "\\item 'ccri'\n",
       "\\item 'crni'\n",
       "\\item 'ncho'\n",
       "\\item 'ncre'\n",
       "\\item 'nnaa'\n",
       "\\item 'nlip'\n",
       "\\item 'laclip'\n",
       "\\item 'nlac'\n",
       "\\item 'olddata'\n",
       "\\item 'newdata'\n",
       "\\item 'comments'\n",
       "\\item 'notes.'\n",
       "\\item 'imaging\\_code'\n",
       "\\end{enumerate*}\n"
      ],
      "text/markdown": [
       "1. 'b_number'\n",
       "2. 't_number'\n",
       "3. 'sf_number'\n",
       "4. 'current_scan_date'\n",
       "5. 'current_surgery_date'\n",
       "6. 'current_hist_grade'\n",
       "7. 'current_hist_type'\n",
       "8. 'roi.label'\n",
       "9. 'tumor_cell_evaluation'\n",
       "10. 'necrosis'\n",
       "11. 'f8_delicate'\n",
       "12. 'f8_simple'\n",
       "13. 'f8_complex'\n",
       "14. 'mib_1'\n",
       "15. 'bx_pure_treatment_effect'\n",
       "16. 'nfse'\n",
       "17. 'nfl'\n",
       "18. 'nt1c'\n",
       "19. 'nt1v'\n",
       "20. 'nadc.1'\n",
       "21. 'nfa.1'\n",
       "22. 'nev1.1'\n",
       "23. 'nev2.1'\n",
       "24. 'nev3.1'\n",
       "25. 'nevrad.1'\n",
       "26. 'nadc.2'\n",
       "27. 'nfa.2'\n",
       "28. 'nev1.2'\n",
       "29. 'nev2.2'\n",
       "30. 'nev3.2'\n",
       "31. 'nevrad.2'\n",
       "32. 'cbvn_nlin'\n",
       "33. 'phn_nlin'\n",
       "34. 'phn_npar'\n",
       "35. 'recovn_npar'\n",
       "36. 'cni'\n",
       "37. 'ccri'\n",
       "38. 'crni'\n",
       "39. 'ncho'\n",
       "40. 'ncre'\n",
       "41. 'nnaa'\n",
       "42. 'nlip'\n",
       "43. 'laclip'\n",
       "44. 'nlac'\n",
       "45. 'olddata'\n",
       "46. 'newdata'\n",
       "47. 'comments'\n",
       "48. 'notes.'\n",
       "49. 'imaging_code'\n",
       "\n",
       "\n"
      ],
      "text/plain": [
       " [1] \"b_number\"                 \"t_number\"                \n",
       " [3] \"sf_number\"                \"current_scan_date\"       \n",
       " [5] \"current_surgery_date\"     \"current_hist_grade\"      \n",
       " [7] \"current_hist_type\"        \"roi.label\"               \n",
       " [9] \"tumor_cell_evaluation\"    \"necrosis\"                \n",
       "[11] \"f8_delicate\"              \"f8_simple\"               \n",
       "[13] \"f8_complex\"               \"mib_1\"                   \n",
       "[15] \"bx_pure_treatment_effect\" \"nfse\"                    \n",
       "[17] \"nfl\"                      \"nt1c\"                    \n",
       "[19] \"nt1v\"                     \"nadc.1\"                  \n",
       "[21] \"nfa.1\"                    \"nev1.1\"                  \n",
       "[23] \"nev2.1\"                   \"nev3.1\"                  \n",
       "[25] \"nevrad.1\"                 \"nadc.2\"                  \n",
       "[27] \"nfa.2\"                    \"nev1.2\"                  \n",
       "[29] \"nev2.2\"                   \"nev3.2\"                  \n",
       "[31] \"nevrad.2\"                 \"cbvn_nlin\"               \n",
       "[33] \"phn_nlin\"                 \"phn_npar\"                \n",
       "[35] \"recovn_npar\"              \"cni\"                     \n",
       "[37] \"ccri\"                     \"crni\"                    \n",
       "[39] \"ncho\"                     \"ncre\"                    \n",
       "[41] \"nnaa\"                     \"nlip\"                    \n",
       "[43] \"laclip\"                   \"nlac\"                    \n",
       "[45] \"olddata\"                  \"newdata\"                 \n",
       "[47] \"comments\"                 \"notes.\"                  \n",
       "[49] \"imaging_code\"            "
      ]
     },
     "metadata": {},
     "output_type": "display_data"
    }
   ],
   "source": [
    "dim(all_recgli)\n",
    "colnames(all_recgli)"
   ]
  },
  {
   "cell_type": "code",
   "execution_count": 25,
   "metadata": {
    "collapsed": false,
    "deletable": true,
    "editable": true
   },
   "outputs": [
    {
     "data": {
      "text/html": [
       "<ol class=list-inline>\n",
       "\t<li>21</li>\n",
       "\t<li>4</li>\n",
       "</ol>\n"
      ],
      "text/latex": [
       "\\begin{enumerate*}\n",
       "\\item 21\n",
       "\\item 4\n",
       "\\end{enumerate*}\n"
      ],
      "text/markdown": [
       "1. 21\n",
       "2. 4\n",
       "\n",
       "\n"
      ],
      "text/plain": [
       "[1] 21  4"
      ]
     },
     "metadata": {},
     "output_type": "display_data"
    }
   ],
   "source": [
    "get_imaging = all_recgli[is.na(all_recgli$imaging_code) & is.na(all_recgli$nfse) & all_recgli$newdata==1 ,c(\"b_number\", \"t_number\",\"sf_number\", \"roi.label\")]\n",
    "dim(get_imaging) #16 4\n"
   ]
  },
  {
   "cell_type": "code",
   "execution_count": 26,
   "metadata": {
    "collapsed": false,
    "deletable": true,
    "editable": true,
    "scrolled": true
   },
   "outputs": [
    {
     "data": {
      "text/plain": [
       "\n",
       "biopsy_quant         scrn    tiss_cons \n",
       "          33           51           18 "
      ]
     },
     "metadata": {},
     "output_type": "display_data"
    }
   ],
   "source": [
    "for(i in 1:dim(get_imaging)[1]){\n",
    "  ## want to add imaging_code \"biopsy_quant\" to those vialIDs in get_imaging1\n",
    "  index = match(get_imaging$roi.label[i], all_recgli$roi.label)\n",
    "  all_recgli$imaging_code[index]= \"biopsy_quant\"\n",
    "}\n",
    "table(all_recgli$imaging_code)"
   ]
  },
  {
   "cell_type": "code",
   "execution_count": 27,
   "metadata": {
    "collapsed": false,
    "deletable": true,
    "editable": true
   },
   "outputs": [
    {
     "data": {
      "text/plain": [
       "\n",
       "biopsy_quant         scrn    tiss_cons \n",
       "          48           51           18 "
      ]
     },
     "metadata": {},
     "output_type": "display_data"
    },
    {
     "data": {
      "text/plain": [
       "\n",
       "FALSE  TRUE \n",
       "  527   117 "
      ]
     },
     "metadata": {},
     "output_type": "display_data"
    },
    {
     "data": {
      "text/html": [
       "<table>\n",
       "<thead><tr><th></th><th scope=col>b_number</th><th scope=col>t_number</th><th scope=col>sf_number</th><th scope=col>current_scan_date</th><th scope=col>current_surgery_date</th><th scope=col>current_hist_grade</th><th scope=col>current_hist_type</th><th scope=col>roi.label</th><th scope=col>tumor_cell_evaluation</th><th scope=col>necrosis</th><th scope=col>f8_delicate</th><th scope=col>f8_simple</th><th scope=col>f8_complex</th><th scope=col>mib_1</th><th scope=col>bx_pure_treatment_effect</th><th scope=col>nfse</th><th scope=col>nfl</th><th scope=col>nt1c</th><th scope=col>nt1v</th><th scope=col>nadc.1</th><th scope=col>nfa.1</th><th scope=col>nev1.1</th><th scope=col>nev2.1</th><th scope=col>nev3.1</th><th scope=col>nevrad.1</th><th scope=col>nadc.2</th><th scope=col>nfa.2</th><th scope=col>nev1.2</th><th scope=col>nev2.2</th><th scope=col>nev3.2</th><th scope=col>nevrad.2</th><th scope=col>cbvn_nlin</th><th scope=col>phn_nlin</th><th scope=col>phn_npar</th><th scope=col>recovn_npar</th><th scope=col>cni</th><th scope=col>ccri</th><th scope=col>crni</th><th scope=col>ncho</th><th scope=col>ncre</th><th scope=col>nnaa</th><th scope=col>nlip</th><th scope=col>laclip</th><th scope=col>nlac</th><th scope=col>olddata</th><th scope=col>newdata</th><th scope=col>comments</th><th scope=col>notes.</th><th scope=col>imaging_code</th></tr></thead>\n",
       "<tbody>\n",
       "\t<tr><th scope=row>3</th><td>2901                                          </td><td> 8089                                         </td><td> 8403                                         </td><td>6/25/10                                       </td><td>6/30/10                                       </td><td>Grade IV                                      </td><td>Glioblastoma                                  </td><td>11B35                                         </td><td>3                                             </td><td>2                                             </td><td>1                                             </td><td>0                                             </td><td>0                                             </td><td>   NA                                         </td><td>f                                             </td><td>NA                                            </td><td>NA                                            </td><td>NA                                            </td><td>NA                                            </td><td>  NA                                          </td><td>  NA                                          </td><td> NA                                           </td><td>  NA                                          </td><td>  NA                                          </td><td> NA                                           </td><td>NA                                            </td><td>NA                                            </td><td>NA                                            </td><td>NA                                            </td><td>NA                                            </td><td>NA                                            </td><td>  NA                                          </td><td>biopsymask-nonexist                           </td><td>  NA                                          </td><td>   NA                                         </td><td>  NA                                          </td><td>  NA                                          </td><td>  NA                                          </td><td>  NA                                          </td><td>  NA                                          </td><td>  NA                                          </td><td> NA                                           </td><td> NA                                           </td><td> NA                                           </td><td>1                                             </td><td>0                                             </td><td>                                              </td><td>NA                                            </td><td>biopsy_quant                                  </td></tr>\n",
       "\t<tr><th scope=row>9</th><td>2901                                          </td><td> 8089                                         </td><td> 8403                                         </td><td>6/25/10                                       </td><td>6/30/10                                       </td><td>Grade IV                                      </td><td>Glioblastoma                                  </td><td>12B35                                         </td><td>3                                             </td><td>0                                             </td><td>1                                             </td><td>2                                             </td><td>0                                             </td><td>19.00                                         </td><td>f                                             </td><td>NA                                            </td><td>NA                                            </td><td>NA                                            </td><td>NA                                            </td><td>  NA                                          </td><td>  NA                                          </td><td> NA                                           </td><td>  NA                                          </td><td>  NA                                          </td><td> NA                                           </td><td>NA                                            </td><td>NA                                            </td><td>NA                                            </td><td>NA                                            </td><td>NA                                            </td><td>NA                                            </td><td>  NA                                          </td><td>biopsymask-nonexist                           </td><td>  NA                                          </td><td>   NA                                         </td><td>  NA                                          </td><td>  NA                                          </td><td>  NA                                          </td><td>  NA                                          </td><td>  NA                                          </td><td>  NA                                          </td><td> NA                                           </td><td> NA                                           </td><td> NA                                           </td><td>1                                             </td><td>0                                             </td><td>                                              </td><td>NA                                            </td><td>biopsy_quant                                  </td></tr>\n",
       "\t<tr><th scope=row>12</th><td>2901                                          </td><td> 8089                                         </td><td> 8403                                         </td><td>6/25/10                                       </td><td>6/30/10                                       </td><td>Grade IV                                      </td><td>Glioblastoma                                  </td><td>13B35                                         </td><td>0                                             </td><td>2                                             </td><td>1                                             </td><td>0                                             </td><td>0                                             </td><td>   NA                                         </td><td>t                                             </td><td>NA                                            </td><td>NA                                            </td><td>NA                                            </td><td>NA                                            </td><td>  NA                                          </td><td>  NA                                          </td><td> NA                                           </td><td>  NA                                          </td><td>  NA                                          </td><td> NA                                           </td><td>NA                                            </td><td>NA                                            </td><td>NA                                            </td><td>NA                                            </td><td>NA                                            </td><td>NA                                            </td><td>  NA                                          </td><td>biopsymask-nonexist                           </td><td>  NA                                          </td><td>   NA                                         </td><td>  NA                                          </td><td>  NA                                          </td><td>  NA                                          </td><td>  NA                                          </td><td>  NA                                          </td><td>  NA                                          </td><td> NA                                           </td><td> NA                                           </td><td> NA                                           </td><td>1                                             </td><td>0                                             </td><td>                                              </td><td>NA                                            </td><td>biopsy_quant                                  </td></tr>\n",
       "\t<tr><th scope=row>29</th><td>3012                                          </td><td> 7111                                         </td><td> 8521                                         </td><td>10/18/10                                      </td><td>10/19/10                                      </td><td>Grade III                                     </td><td>Oligodendroglioma                             </td><td>1B38                                          </td><td>2                                             </td><td>0                                             </td><td>2                                             </td><td>0                                             </td><td>0                                             </td><td> 0.75                                         </td><td>f                                             </td><td>NA                                            </td><td>NA                                            </td><td>NA                                            </td><td>NA                                            </td><td>  NA                                          </td><td>  NA                                          </td><td> NA                                           </td><td>  NA                                          </td><td>  NA                                          </td><td> NA                                           </td><td>NA                                            </td><td>NA                                            </td><td>NA                                            </td><td>NA                                            </td><td>NA                                            </td><td>NA                                            </td><td>  NA                                          </td><td>biopsymask-nonexist                           </td><td>  NA                                          </td><td>   NA                                         </td><td>  NA                                          </td><td>  NA                                          </td><td>  NA                                          </td><td>  NA                                          </td><td>  NA                                          </td><td>  NA                                          </td><td> NA                                           </td><td> NA                                           </td><td> NA                                           </td><td>1                                             </td><td>0                                             </td><td>oligo                                         </td><td>NA                                            </td><td>biopsy_quant                                  </td></tr>\n",
       "\t<tr><th scope=row>30</th><td>3207                                          </td><td> 7658                                         </td><td> 8896                                         </td><td>9/19/11                                       </td><td>9/20/11                                       </td><td>Grade IV                                      </td><td>Glioblastoma                                  </td><td>1B45                                          </td><td>3                                             </td><td>0                                             </td><td>0                                             </td><td>3                                             </td><td>0                                             </td><td>31.36                                         </td><td>f                                             </td><td>NA                                            </td><td>NA                                            </td><td>NA                                            </td><td>NA                                            </td><td>  NA                                          </td><td>  NA                                          </td><td> NA                                           </td><td>  NA                                          </td><td>  NA                                          </td><td> NA                                           </td><td>NA                                            </td><td>NA                                            </td><td>NA                                            </td><td>NA                                            </td><td>NA                                            </td><td>NA                                            </td><td>  NA                                          </td><td>NA                                            </td><td>  NA                                          </td><td>   NA                                         </td><td>  NA                                          </td><td>  NA                                          </td><td>  NA                                          </td><td>  NA                                          </td><td>  NA                                          </td><td>  NA                                          </td><td> NA                                           </td><td> NA                                           </td><td> NA                                           </td><td>1                                             </td><td>0                                             </td><td>                                              </td><td>NA                                            </td><td>biopsy_quant                                  </td></tr>\n",
       "\t<tr><th scope=row>40</th><td>2571                                          </td><td> 7444                                         </td><td> 8722                                         </td><td>4/14/11                                       </td><td>4/15/11                                       </td><td>Grade IV                                      </td><td>Glioblastoma                                  </td><td>23B42                                         </td><td>1                                             </td><td>0                                             </td><td>3                                             </td><td>0                                             </td><td>0                                             </td><td> 8.38                                         </td><td>f                                             </td><td>NA                                            </td><td>NA                                            </td><td>NA                                            </td><td>NA                                            </td><td>  NA                                          </td><td>  NA                                          </td><td> NA                                           </td><td>  NA                                          </td><td>  NA                                          </td><td> NA                                           </td><td>NA                                            </td><td>NA                                            </td><td>NA                                            </td><td>NA                                            </td><td>NA                                            </td><td>NA                                            </td><td>  NA                                          </td><td>biopsymask-nonexist                           </td><td>  NA                                          </td><td>   NA                                         </td><td>  NA                                          </td><td>  NA                                          </td><td>  NA                                          </td><td>  NA                                          </td><td>  NA                                          </td><td>  NA                                          </td><td> NA                                           </td><td> NA                                           </td><td> NA                                           </td><td>1                                             </td><td>0                                             </td><td>                                              </td><td>NA                                            </td><td>biopsy_quant                                  </td></tr>\n",
       "\t<tr><th scope=row>42</th><td>2571                                          </td><td> 7444                                         </td><td> 8722                                         </td><td>4/14/11                                       </td><td>4/15/11                                       </td><td>Grade IV                                      </td><td>Glioblastoma                                  </td><td>24B42                                         </td><td>2                                             </td><td>0                                             </td><td>3                                             </td><td>1                                             </td><td>0                                             </td><td>35.41                                         </td><td>f                                             </td><td>NA                                            </td><td>NA                                            </td><td>NA                                            </td><td>NA                                            </td><td>  NA                                          </td><td>  NA                                          </td><td> NA                                           </td><td>  NA                                          </td><td>  NA                                          </td><td> NA                                           </td><td>NA                                            </td><td>NA                                            </td><td>NA                                            </td><td>NA                                            </td><td>NA                                            </td><td>NA                                            </td><td>  NA                                          </td><td>biopsymask-nonexist                           </td><td>  NA                                          </td><td>   NA                                         </td><td>  NA                                          </td><td>  NA                                          </td><td>  NA                                          </td><td>  NA                                          </td><td>  NA                                          </td><td>  NA                                          </td><td> NA                                           </td><td> NA                                           </td><td> NA                                           </td><td>1                                             </td><td>0                                             </td><td>                                              </td><td>NA                                            </td><td>biopsy_quant                                  </td></tr>\n",
       "\t<tr><th scope=row>43</th><td>2571                                          </td><td> 7444                                         </td><td> 8722                                         </td><td>4/14/11                                       </td><td>4/15/11                                       </td><td>Grade IV                                      </td><td>Glioblastoma                                  </td><td>25B42                                         </td><td>0                                             </td><td>0                                             </td><td>2                                             </td><td>0                                             </td><td>0                                             </td><td> 0.00                                         </td><td>f                                             </td><td>NA                                            </td><td>NA                                            </td><td>NA                                            </td><td>NA                                            </td><td>  NA                                          </td><td>  NA                                          </td><td> NA                                           </td><td>  NA                                          </td><td>  NA                                          </td><td> NA                                           </td><td>NA                                            </td><td>NA                                            </td><td>NA                                            </td><td>NA                                            </td><td>NA                                            </td><td>NA                                            </td><td>  NA                                          </td><td>biopsymask-nonexist                           </td><td>  NA                                          </td><td>   NA                                         </td><td>  NA                                          </td><td>  NA                                          </td><td>  NA                                          </td><td>  NA                                          </td><td>  NA                                          </td><td>  NA                                          </td><td> NA                                           </td><td> NA                                           </td><td> NA                                           </td><td>1                                             </td><td>0                                             </td><td>                                              </td><td>NA                                            </td><td>biopsy_quant                                  </td></tr>\n",
       "\t<tr><th scope=row>54</th><td>3012                                          </td><td> 7111                                         </td><td> 8521                                         </td><td>10/18/10                                      </td><td>10/19/10                                      </td><td>Grade III                                     </td><td>Oligodendroglioma                             </td><td>2B38                                          </td><td>3                                             </td><td>0                                             </td><td>2                                             </td><td>1                                             </td><td>0                                             </td><td> 2.04                                         </td><td>f                                             </td><td>NA                                            </td><td>NA                                            </td><td>NA                                            </td><td>NA                                            </td><td>  NA                                          </td><td>  NA                                          </td><td> NA                                           </td><td>  NA                                          </td><td>  NA                                          </td><td> NA                                           </td><td>NA                                            </td><td>NA                                            </td><td>NA                                            </td><td>NA                                            </td><td>NA                                            </td><td>NA                                            </td><td>  NA                                          </td><td>biopsymask-nonexist                           </td><td>  NA                                          </td><td>   NA                                         </td><td>  NA                                          </td><td>  NA                                          </td><td>  NA                                          </td><td>  NA                                          </td><td>  NA                                          </td><td>  NA                                          </td><td> NA                                           </td><td> NA                                           </td><td> NA                                           </td><td>1                                             </td><td>0                                             </td><td>                                              </td><td>NA                                            </td><td>biopsy_quant                                  </td></tr>\n",
       "\t<tr><th scope=row>55</th><td>2939                                          </td><td> 7527                                         </td><td> 8786                                         </td><td>6/10/11                                       </td><td>6/12/11                                       </td><td>Grade IV                                      </td><td>Glioblastoma                                  </td><td>2B43                                          </td><td>3                                             </td><td>0                                             </td><td>3                                             </td><td>1                                             </td><td>0                                             </td><td>33.84                                         </td><td>f                                             </td><td>NA                                            </td><td>NA                                            </td><td>NA                                            </td><td>NA                                            </td><td>  NA                                          </td><td>  NA                                          </td><td> NA                                           </td><td>  NA                                          </td><td>  NA                                          </td><td> NA                                           </td><td>NA                                            </td><td>NA                                            </td><td>NA                                            </td><td>NA                                            </td><td>NA                                            </td><td>NA                                            </td><td>  NA                                          </td><td>NA                                            </td><td>  NA                                          </td><td>   NA                                         </td><td>  NA                                          </td><td>  NA                                          </td><td>  NA                                          </td><td>  NA                                          </td><td>  NA                                          </td><td>  NA                                          </td><td> NA                                           </td><td> NA                                           </td><td> NA                                           </td><td>1                                             </td><td>0                                             </td><td>                                              </td><td>NA                                            </td><td>biopsy_quant                                  </td></tr>\n",
       "\t<tr><th scope=row>56</th><td>3207                                          </td><td> 7658                                         </td><td> 8896                                         </td><td>9/19/11                                       </td><td>9/20/11                                       </td><td>Grade IV                                      </td><td>Glioblastoma                                  </td><td>2B45                                          </td><td>3                                             </td><td>0                                             </td><td>2                                             </td><td>0                                             </td><td>0                                             </td><td> 0.67                                         </td><td>f                                             </td><td>NA                                            </td><td>NA                                            </td><td>NA                                            </td><td>NA                                            </td><td>  NA                                          </td><td>  NA                                          </td><td> NA                                           </td><td>  NA                                          </td><td>  NA                                          </td><td> NA                                           </td><td>NA                                            </td><td>NA                                            </td><td>NA                                            </td><td>NA                                            </td><td>NA                                            </td><td>NA                                            </td><td>  NA                                          </td><td>NA                                            </td><td>  NA                                          </td><td>   NA                                         </td><td>  NA                                          </td><td>  NA                                          </td><td>  NA                                          </td><td>  NA                                          </td><td>  NA                                          </td><td>  NA                                          </td><td> NA                                           </td><td> NA                                           </td><td> NA                                           </td><td>1                                             </td><td>0                                             </td><td>                                              </td><td>NA                                            </td><td>biopsy_quant                                  </td></tr>\n",
       "\t<tr><th scope=row>78</th><td>2764                                          </td><td> 6436                                         </td><td> 8169                                         </td><td>11/8/09                                       </td><td>11/9/09                                       </td><td>Grade IV                                      </td><td>Glioblastoma                                  </td><td>36B29                                         </td><td>3                                             </td><td>0                                             </td><td>1                                             </td><td>2                                             </td><td>1                                             </td><td>33.78                                         </td><td>f                                             </td><td>NA                                            </td><td>NA                                            </td><td>NA                                            </td><td>NA                                            </td><td>  NA                                          </td><td>  NA                                          </td><td> NA                                           </td><td>  NA                                          </td><td>  NA                                          </td><td> NA                                           </td><td>NA                                            </td><td>NA                                            </td><td>NA                                            </td><td>NA                                            </td><td>NA                                            </td><td>NA                                            </td><td>  NA                                          </td><td>biopsymask-nonexist                           </td><td>  NA                                          </td><td>   NA                                         </td><td>  NA                                          </td><td>  NA                                          </td><td>  NA                                          </td><td>  NA                                          </td><td>  NA                                          </td><td>  NA                                          </td><td> NA                                           </td><td> NA                                           </td><td> NA                                           </td><td>1                                             </td><td>0                                             </td><td>GBM; glioma 1994!                             </td><td>NA                                            </td><td>biopsy_quant                                  </td></tr>\n",
       "\t<tr><th scope=row>89</th><td>2764                                          </td><td> 6436                                         </td><td> 8169                                         </td><td>11/8/09                                       </td><td>11/9/09                                       </td><td>Grade IV                                      </td><td>Glioblastoma                                  </td><td>39B29                                         </td><td>2                                             </td><td>0                                             </td><td>1                                             </td><td>2                                             </td><td>0                                             </td><td>34.96                                         </td><td>f                                             </td><td>NA                                            </td><td>NA                                            </td><td>NA                                            </td><td>NA                                            </td><td>  NA                                          </td><td>  NA                                          </td><td> NA                                           </td><td>  NA                                          </td><td>  NA                                          </td><td> NA                                           </td><td>NA                                            </td><td>NA                                            </td><td>NA                                            </td><td>NA                                            </td><td>NA                                            </td><td>NA                                            </td><td>  NA                                          </td><td>biopsymask-nonexist                           </td><td>  NA                                          </td><td>   NA                                         </td><td>  NA                                          </td><td>  NA                                          </td><td>  NA                                          </td><td>  NA                                          </td><td>  NA                                          </td><td>  NA                                          </td><td> NA                                           </td><td> NA                                           </td><td> NA                                           </td><td>1                                             </td><td>0                                             </td><td>                                              </td><td>NA                                            </td><td>biopsy_quant                                  </td></tr>\n",
       "\t<tr><th scope=row>93</th><td>2939                                          </td><td> 7527                                         </td><td> 8786                                         </td><td>6/10/11                                       </td><td>6/12/11                                       </td><td>Grade IV                                      </td><td>Glioblastoma                                  </td><td>3B43                                          </td><td>0                                             </td><td>0                                             </td><td>2                                             </td><td>0                                             </td><td>0                                             </td><td> 1.55                                         </td><td>f                                             </td><td>NA                                            </td><td>NA                                            </td><td>NA                                            </td><td>NA                                            </td><td>  NA                                          </td><td>  NA                                          </td><td> NA                                           </td><td>  NA                                          </td><td>  NA                                          </td><td> NA                                           </td><td>NA                                            </td><td>NA                                            </td><td>NA                                            </td><td>NA                                            </td><td>NA                                            </td><td>NA                                            </td><td>  NA                                          </td><td>NA                                            </td><td>  NA                                          </td><td>   NA                                         </td><td>  NA                                          </td><td>  NA                                          </td><td>  NA                                          </td><td>  NA                                          </td><td>  NA                                          </td><td>  NA                                          </td><td> NA                                           </td><td> NA                                           </td><td> NA                                           </td><td>1                                             </td><td>0                                             </td><td>PV inflammation edge                          </td><td>NA                                            </td><td>biopsy_quant                                  </td></tr>\n",
       "\t<tr><th scope=row>105</th><td>1256                                          </td><td> 7043                                         </td><td> 8488                                         </td><td>9/13/10                                       </td><td>9/14/10                                       </td><td>Grade IV                                      </td><td>Glioblastoma                                  </td><td>48B37                                         </td><td>3                                             </td><td>1                                             </td><td>0                                             </td><td>3                                             </td><td>2                                             </td><td>13.24                                         </td><td>f                                             </td><td>NA                                            </td><td>NA                                            </td><td>NA                                            </td><td>NA                                            </td><td>  NA                                          </td><td>  NA                                          </td><td> NA                                           </td><td>  NA                                          </td><td>  NA                                          </td><td> NA                                           </td><td>NA                                            </td><td>NA                                            </td><td>NA                                            </td><td>NA                                            </td><td>NA                                            </td><td>NA                                            </td><td>  NA                                          </td><td>biopsymask-nonexist                           </td><td>  NA                                          </td><td>   NA                                         </td><td>  NA                                          </td><td>  NA                                          </td><td>  NA                                          </td><td>  NA                                          </td><td>  NA                                          </td><td>  NA                                          </td><td> NA                                           </td><td> NA                                           </td><td> NA                                           </td><td>1                                             </td><td>0                                             </td><td>PV inflamm. Necrosis                          </td><td>NA                                            </td><td>biopsy_quant                                  </td></tr>\n",
       "\t<tr><th scope=row>108</th><td>3091                                          </td><td> 7338                                         </td><td> 8656                                         </td><td>2/13/11                                       </td><td>2/14/11                                       </td><td>Grade III                                     </td><td>Oligodendroglioma                             </td><td>49B40                                         </td><td>2                                             </td><td>0                                             </td><td>1                                             </td><td>2                                             </td><td>2                                             </td><td> 3.66                                         </td><td>f                                             </td><td>NA                                            </td><td>NA                                            </td><td>NA                                            </td><td>NA                                            </td><td>  NA                                          </td><td>  NA                                          </td><td> NA                                           </td><td>  NA                                          </td><td>  NA                                          </td><td> NA                                           </td><td>NA                                            </td><td>NA                                            </td><td>NA                                            </td><td>NA                                            </td><td>NA                                            </td><td>NA                                            </td><td>  NA                                          </td><td>biopsymask-nonexist                           </td><td>  NA                                          </td><td>   NA                                         </td><td>  NA                                          </td><td>  NA                                          </td><td>  NA                                          </td><td>  NA                                          </td><td>  NA                                          </td><td>  NA                                          </td><td> NA                                           </td><td> NA                                           </td><td> NA                                           </td><td>1                                             </td><td>0                                             </td><td>Anapl Oligo GIII, perreport 1p19q del         </td><td>NA                                            </td><td>biopsy_quant                                  </td></tr>\n",
       "\t<tr><th scope=row>124</th><td>1487                                          </td><td> 7001                                         </td><td> 8465                                         </td><td>8/24/10                                       </td><td>8/25/10                                       </td><td>Grade IV                                      </td><td>Glioblastoma                                  </td><td>53B36                                         </td><td>2                                             </td><td>0                                             </td><td>3                                             </td><td>1                                             </td><td>0                                             </td><td>18.63                                         </td><td>f                                             </td><td>NA                                            </td><td>NA                                            </td><td>NA                                            </td><td>NA                                            </td><td>  NA                                          </td><td>  NA                                          </td><td> NA                                           </td><td>  NA                                          </td><td>  NA                                          </td><td> NA                                           </td><td>NA                                            </td><td>NA                                            </td><td>NA                                            </td><td>NA                                            </td><td>NA                                            </td><td>NA                                            </td><td>  NA                                          </td><td>biopsymask-nonexist                           </td><td>  NA                                          </td><td>   NA                                         </td><td>  NA                                          </td><td>  NA                                          </td><td>  NA                                          </td><td>  NA                                          </td><td>  NA                                          </td><td>  NA                                          </td><td> NA                                           </td><td> NA                                           </td><td> NA                                           </td><td>1                                             </td><td>0                                             </td><td>                                              </td><td>NA                                            </td><td>biopsy_quant                                  </td></tr>\n",
       "\t<tr><th scope=row>127</th><td>2003                                          </td><td> 6925                                         </td><td> 8422                                         </td><td>7/16/10                                       </td><td>7/19/10                                       </td><td>Grade IV                                      </td><td>Glioblastoma                                  </td><td>54B35                                         </td><td>0                                             </td><td>0                                             </td><td>2                                             </td><td>0                                             </td><td>0                                             </td><td> 0.00                                         </td><td>f                                             </td><td>NA                                            </td><td>NA                                            </td><td>NA                                            </td><td>NA                                            </td><td>  NA                                          </td><td>  NA                                          </td><td> NA                                           </td><td>  NA                                          </td><td>  NA                                          </td><td> NA                                           </td><td>NA                                            </td><td>NA                                            </td><td>NA                                            </td><td>NA                                            </td><td>NA                                            </td><td>NA                                            </td><td>  NA                                          </td><td>biopsymask-nonexist                           </td><td>  NA                                          </td><td>   NA                                         </td><td>  NA                                          </td><td>  NA                                          </td><td>  NA                                          </td><td>  NA                                          </td><td>  NA                                          </td><td>  NA                                          </td><td> NA                                           </td><td> NA                                           </td><td> NA                                           </td><td>1                                             </td><td>0                                             </td><td>                                              </td><td>NA                                            </td><td>biopsy_quant                                  </td></tr>\n",
       "\t<tr><th scope=row>147</th><td>3091                                          </td><td> 7338                                         </td><td> 8656                                         </td><td>2/13/11                                       </td><td>2/14/11                                       </td><td>Grade III                                     </td><td>Oligodendroglioma                             </td><td>60B40                                         </td><td>3                                             </td><td>0                                             </td><td>3                                             </td><td>0                                             </td><td>0                                             </td><td> 5.05                                         </td><td>f                                             </td><td>NA                                            </td><td>NA                                            </td><td>NA                                            </td><td>NA                                            </td><td>  NA                                          </td><td>  NA                                          </td><td> NA                                           </td><td>  NA                                          </td><td>  NA                                          </td><td> NA                                           </td><td>NA                                            </td><td>NA                                            </td><td>NA                                            </td><td>NA                                            </td><td>NA                                            </td><td>NA                                            </td><td>  NA                                          </td><td>biopsymask-nonexist                           </td><td>  NA                                          </td><td>   NA                                         </td><td>  NA                                          </td><td>  NA                                          </td><td>  NA                                          </td><td>  NA                                          </td><td>  NA                                          </td><td>  NA                                          </td><td> NA                                           </td><td> NA                                           </td><td> NA                                           </td><td>1                                             </td><td>0                                             </td><td>                                              </td><td>NA                                            </td><td>biopsy_quant                                  </td></tr>\n",
       "\t<tr><th scope=row>176</th><td>3169                                          </td><td> 7540                                         </td><td> 8796                                         </td><td>6/19/11                                       </td><td>6/20/11                                       </td><td>Grade IV                                      </td><td>Glioblastoma                                  </td><td>6B43                                          </td><td>2                                             </td><td>0                                             </td><td>3                                             </td><td>0                                             </td><td>0                                             </td><td> 0.64                                         </td><td>f                                             </td><td>NA                                            </td><td>NA                                            </td><td>NA                                            </td><td>NA                                            </td><td>  NA                                          </td><td>  NA                                          </td><td> NA                                           </td><td>  NA                                          </td><td>  NA                                          </td><td> NA                                           </td><td>NA                                            </td><td>NA                                            </td><td>NA                                            </td><td>NA                                            </td><td>NA                                            </td><td>NA                                            </td><td>  NA                                          </td><td>NA                                            </td><td>  NA                                          </td><td>   NA                                         </td><td>  NA                                          </td><td>  NA                                          </td><td>  NA                                          </td><td>  NA                                          </td><td>  NA                                          </td><td>  NA                                          </td><td> NA                                           </td><td> NA                                           </td><td> NA                                           </td><td>1                                             </td><td>0                                             </td><td>focally 4.6%                                  </td><td>NA                                            </td><td>biopsy_quant                                  </td></tr>\n",
       "\t<tr><th scope=row>227</th><td>2712                                          </td><td> 6304                                         </td><td> 8110                                         </td><td>8/25/09                                       </td><td>8/26/09                                       </td><td>Grade III                                     </td><td>Oligodendroglioma                             </td><td>81B27                                         </td><td>2                                             </td><td>0                                             </td><td>2                                             </td><td>0                                             </td><td>0                                             </td><td> 5.13                                         </td><td>f                                             </td><td>NA                                            </td><td>NA                                            </td><td>NA                                            </td><td>NA                                            </td><td>  NA                                          </td><td>  NA                                          </td><td> NA                                           </td><td>  NA                                          </td><td>  NA                                          </td><td> NA                                           </td><td>NA                                            </td><td>NA                                            </td><td>NA                                            </td><td>NA                                            </td><td>NA                                            </td><td>NA                                            </td><td>  NA                                          </td><td>biopsymask-nonexist                           </td><td>  NA                                          </td><td>   NA                                         </td><td>  NA                                          </td><td>  NA                                          </td><td>  NA                                          </td><td>  NA                                          </td><td>  NA                                          </td><td>  NA                                          </td><td> NA                                           </td><td> NA                                           </td><td> NA                                           </td><td>1                                             </td><td>0                                             </td><td>Oligodendroglioma-hx GIII                     </td><td>NA                                            </td><td>biopsy_quant                                  </td></tr>\n",
       "\t<tr><th scope=row>229</th><td>3091                                          </td><td> 7338                                         </td><td> 8656                                         </td><td>2/13/11                                       </td><td>2/14/11                                       </td><td>Grade III                                     </td><td>Oligodendroglioma                             </td><td>81B40                                         </td><td>2                                             </td><td>0                                             </td><td>3                                             </td><td>0                                             </td><td>0                                             </td><td> 2.70                                         </td><td>f                                             </td><td>NA                                            </td><td>NA                                            </td><td>NA                                            </td><td>NA                                            </td><td>  NA                                          </td><td>  NA                                          </td><td> NA                                           </td><td>  NA                                          </td><td>  NA                                          </td><td> NA                                           </td><td>NA                                            </td><td>NA                                            </td><td>NA                                            </td><td>NA                                            </td><td>NA                                            </td><td>NA                                            </td><td>  NA                                          </td><td>biopsymask-nonexist                           </td><td>  NA                                          </td><td>   NA                                         </td><td>  NA                                          </td><td>  NA                                          </td><td>  NA                                          </td><td>  NA                                          </td><td>  NA                                          </td><td>  NA                                          </td><td> NA                                           </td><td> NA                                           </td><td> NA                                           </td><td>1                                             </td><td>0                                             </td><td>not as many processes                         </td><td>NA                                            </td><td>biopsy_quant                                  </td></tr>\n",
       "\t<tr><th scope=row>265</th><td>3084                                          </td><td> 7332                                         </td><td> 8653                                         </td><td>2/10/11                                       </td><td>2/11/11                                       </td><td>Grade IV                                      </td><td>Glioblastoma                                  </td><td>8653B1                                        </td><td>Ind                                           </td><td>2                                             </td><td>Indeterminable                                </td><td>Indeterminable                                </td><td>Indeterminable                                </td><td>   NA                                         </td><td>t                                             </td><td>NA                                            </td><td>NA                                            </td><td>NA                                            </td><td>NA                                            </td><td>  NA                                          </td><td>  NA                                          </td><td> NA                                           </td><td>  NA                                          </td><td>  NA                                          </td><td> NA                                           </td><td>NA                                            </td><td>NA                                            </td><td>NA                                            </td><td>NA                                            </td><td>NA                                            </td><td>NA                                            </td><td>  NA                                          </td><td>NA                                            </td><td>  NA                                          </td><td>   NA                                         </td><td>  NA                                          </td><td>  NA                                          </td><td>  NA                                          </td><td>  NA                                          </td><td>  NA                                          </td><td>  NA                                          </td><td> NA                                           </td><td> NA                                           </td><td> NA                                           </td><td>1                                             </td><td>0                                             </td><td>necrosis 100%                                 </td><td>NA                                            </td><td>biopsy_quant                                  </td></tr>\n",
       "\t<tr><th scope=row>266</th><td>3084                                          </td><td> 7332                                         </td><td> 8653                                         </td><td>2/10/11                                       </td><td>2/11/11                                       </td><td>Grade IV                                      </td><td>Glioblastoma                                  </td><td>8653B2                                        </td><td>1                                             </td><td>0                                             </td><td>2                                             </td><td>1                                             </td><td>0                                             </td><td> 9.11                                         </td><td>f                                             </td><td>NA                                            </td><td>NA                                            </td><td>NA                                            </td><td>NA                                            </td><td>  NA                                          </td><td>  NA                                          </td><td> NA                                           </td><td>  NA                                          </td><td>  NA                                          </td><td> NA                                           </td><td>NA                                            </td><td>NA                                            </td><td>NA                                            </td><td>NA                                            </td><td>NA                                            </td><td>NA                                            </td><td>  NA                                          </td><td>NA                                            </td><td>  NA                                          </td><td>   NA                                         </td><td>  NA                                          </td><td>  NA                                          </td><td>  NA                                          </td><td>  NA                                          </td><td>  NA                                          </td><td>  NA                                          </td><td> NA                                           </td><td> NA                                           </td><td> NA                                           </td><td>1                                             </td><td>0                                             </td><td>                                              </td><td>NA                                            </td><td>biopsy_quant                                  </td></tr>\n",
       "\t<tr><th scope=row>277</th><td>1814                                          </td><td> 7776                                         </td><td> 8986                                         </td><td>12/13/11                                      </td><td>12/14/11                                      </td><td>Grade IV                                      </td><td>Glioblastoma                                  </td><td>87B46                                         </td><td>3                                             </td><td>1                                             </td><td>2                                             </td><td>3                                             </td><td>0                                             </td><td>20.24                                         </td><td>f                                             </td><td>NA                                            </td><td>NA                                            </td><td>NA                                            </td><td>NA                                            </td><td>  NA                                          </td><td>  NA                                          </td><td> NA                                           </td><td>  NA                                          </td><td>  NA                                          </td><td> NA                                           </td><td>NA                                            </td><td>NA                                            </td><td>NA                                            </td><td>NA                                            </td><td>NA                                            </td><td>NA                                            </td><td>  NA                                          </td><td>NA                                            </td><td>  NA                                          </td><td>   NA                                         </td><td>  NA                                          </td><td>  NA                                          </td><td>  NA                                          </td><td>  NA                                          </td><td>  NA                                          </td><td>  NA                                          </td><td> NA                                           </td><td> NA                                           </td><td> NA                                           </td><td>1                                             </td><td>0                                             </td><td>                                              </td><td>NA                                            </td><td>biopsy_quant                                  </td></tr>\n",
       "\t<tr><th scope=row>283</th><td>1814                                          </td><td> 7776                                         </td><td> 8986                                         </td><td>12/13/11                                      </td><td>12/14/11                                      </td><td>Grade IV                                      </td><td>Glioblastoma                                  </td><td>88B46                                         </td><td>0                                             </td><td>0                                             </td><td>2                                             </td><td>0                                             </td><td>0                                             </td><td> 1.89                                         </td><td>f                                             </td><td>NA                                            </td><td>NA                                            </td><td>NA                                            </td><td>NA                                            </td><td>  NA                                          </td><td>  NA                                          </td><td> NA                                           </td><td>  NA                                          </td><td>  NA                                          </td><td> NA                                           </td><td>NA                                            </td><td>NA                                            </td><td>NA                                            </td><td>NA                                            </td><td>NA                                            </td><td>NA                                            </td><td>  NA                                          </td><td>NA                                            </td><td>  NA                                          </td><td>   NA                                         </td><td>  NA                                          </td><td>  NA                                          </td><td>  NA                                          </td><td>  NA                                          </td><td>  NA                                          </td><td>  NA                                          </td><td> NA                                           </td><td> NA                                           </td><td> NA                                           </td><td>1                                             </td><td>0                                             </td><td>                                              </td><td>NA                                            </td><td>biopsy_quant                                  </td></tr>\n",
       "\t<tr><th scope=row>317</th><td>1338                                          </td><td> 8773                                         </td><td> 9727                                         </td><td>2013-10-02                                    </td><td>2013-10-03                                    </td><td>Grade IV                                      </td><td>Glioblastoma                                  </td><td>60B60                                         </td><td>1                                             </td><td>0                                             </td><td>                                              </td><td>                                              </td><td>                                              </td><td> 2.01                                         </td><td>f                                             </td><td>NA                                            </td><td>NA                                            </td><td>NA                                            </td><td>NA                                            </td><td>  NA                                          </td><td>  NA                                          </td><td> NA                                           </td><td>  NA                                          </td><td>  NA                                          </td><td> NA                                           </td><td>NA                                            </td><td>NA                                            </td><td>NA                                            </td><td>NA                                            </td><td>NA                                            </td><td>NA                                            </td><td>  NA                                          </td><td>NA                                            </td><td>  NA                                          </td><td>   NA                                         </td><td>  NA                                          </td><td>  NA                                          </td><td>  NA                                          </td><td>  NA                                          </td><td>  NA                                          </td><td>  NA                                          </td><td> NA                                           </td><td> NA                                           </td><td> NA                                           </td><td>0                                             </td><td>1                                             </td><td>                                              </td><td>NA                                            </td><td>biopsy_quant                                  </td></tr>\n",
       "\t<tr><th scope=row>328</th><td>3499                                          </td><td> 8869                                         </td><td> 9795                                         </td><td>2013-12-10                                    </td><td>2013-12-11                                    </td><td>Grade IV                                      </td><td>Glioblastoma                                  </td><td>68B60                                         </td><td>3                                             </td><td>0                                             </td><td>                                              </td><td>                                              </td><td>                                              </td><td>52.39                                         </td><td>f                                             </td><td>NA                                            </td><td>NA                                            </td><td>NA                                            </td><td>NA                                            </td><td>  NA                                          </td><td>  NA                                          </td><td> NA                                           </td><td>  NA                                          </td><td>  NA                                          </td><td> NA                                           </td><td>NA                                            </td><td>NA                                            </td><td>NA                                            </td><td>NA                                            </td><td>NA                                            </td><td>NA                                            </td><td>  NA                                          </td><td>NA                                            </td><td>  NA                                          </td><td>   NA                                         </td><td>0.00                                          </td><td> 0.0                                          </td><td>0.00                                          </td><td>0.00                                          </td><td>0.00                                          </td><td>0.00                                          </td><td>0.0                                           </td><td>0.0                                           </td><td>0.0                                           </td><td>0                                             </td><td>1                                             </td><td>\"POORLY DIFFERENTIATED REGION\"                </td><td>NA                                            </td><td>biopsy_quant                                  </td></tr>\n",
       "\t<tr><th scope=row>343</th><td>3537                                          </td><td> 8969                                         </td><td>   NA                                         </td><td>2014-04-01                                    </td><td>2014-04-02                                    </td><td>Grade III                                     </td><td>Oligodendroglioma                             </td><td>                                              </td><td>                                              </td><td>NA                                            </td><td>                                              </td><td>                                              </td><td>                                              </td><td>   NA                                         </td><td>                                              </td><td>NA                                            </td><td>NA                                            </td><td>NA                                            </td><td>NA                                            </td><td>  NA                                          </td><td>  NA                                          </td><td> NA                                           </td><td>  NA                                          </td><td>  NA                                          </td><td> NA                                           </td><td>NA                                            </td><td>NA                                            </td><td>NA                                            </td><td>NA                                            </td><td>NA                                            </td><td>NA                                            </td><td>  NA                                          </td><td>NA                                            </td><td>  NA                                          </td><td>   NA                                         </td><td>  NA                                          </td><td>  NA                                          </td><td>  NA                                          </td><td>  NA                                          </td><td>  NA                                          </td><td>  NA                                          </td><td> NA                                           </td><td> NA                                           </td><td> NA                                           </td><td>0                                             </td><td>1                                             </td><td>                                              </td><td>NA                                            </td><td>biopsy_quant                                  </td></tr>\n",
       "\t<tr><th scope=row>375</th><td>1957                                          </td><td> 9134                                         </td><td>10071                                         </td><td>2014-08-12                                    </td><td>2014-08-13                                    </td><td>Grade III                                     </td><td>Oligodendroglioma                             </td><td>15B71                                         </td><td>                                              </td><td>NA                                            </td><td>                                              </td><td>                                              </td><td>                                              </td><td>   NA                                         </td><td>                                              </td><td>NA                                            </td><td>NA                                            </td><td>NA                                            </td><td>NA                                            </td><td>  NA                                          </td><td>  NA                                          </td><td> NA                                           </td><td>  NA                                          </td><td>  NA                                          </td><td> NA                                           </td><td>NA                                            </td><td>NA                                            </td><td>NA                                            </td><td>NA                                            </td><td>NA                                            </td><td>NA                                            </td><td>  NA                                          </td><td>NA                                            </td><td>  NA                                          </td><td>   NA                                         </td><td>  NA                                          </td><td>  NA                                          </td><td>  NA                                          </td><td>  NA                                          </td><td>  NA                                          </td><td>  NA                                          </td><td> NA                                           </td><td> NA                                           </td><td> NA                                           </td><td>0                                             </td><td>1                                             </td><td>                                              </td><td>NA                                            </td><td>biopsy_quant                                  </td></tr>\n",
       "\t<tr><th scope=row>389</th><td>3486                                          </td><td> 9287                                         </td><td>   NA                                         </td><td>2014-12-16                                    </td><td>2014-12-17                                    </td><td>Grade IV                                      </td><td>Glioblastoma                                  </td><td>                                              </td><td>                                              </td><td>NA                                            </td><td>                                              </td><td>                                              </td><td>                                              </td><td>   NA                                         </td><td>                                              </td><td>NA                                            </td><td>NA                                            </td><td>NA                                            </td><td>NA                                            </td><td>  NA                                          </td><td>  NA                                          </td><td> NA                                           </td><td>  NA                                          </td><td>  NA                                          </td><td> NA                                           </td><td>NA                                            </td><td>NA                                            </td><td>NA                                            </td><td>NA                                            </td><td>NA                                            </td><td>NA                                            </td><td>  NA                                          </td><td>NA                                            </td><td>  NA                                          </td><td>   NA                                         </td><td>  NA                                          </td><td>  NA                                          </td><td>  NA                                          </td><td>  NA                                          </td><td>  NA                                          </td><td>  NA                                          </td><td> NA                                           </td><td> NA                                           </td><td> NA                                           </td><td>0                                             </td><td>1                                             </td><td>                                              </td><td>NA                                            </td><td>biopsy_quant                                  </td></tr>\n",
       "\t<tr><th scope=row>400</th><td>3528                                          </td><td> 9408                                         </td><td>10205                                         </td><td>2014-12-22                                    </td><td>2014-12-23                                    </td><td>Grade III                                     </td><td>Oligodendroglioma                             </td><td>54B75                                         </td><td>1                                             </td><td>0                                             </td><td>                                              </td><td>                                              </td><td>                                              </td><td> 1.63                                         </td><td>f                                             </td><td>NA                                            </td><td>NA                                            </td><td>NA                                            </td><td>NA                                            </td><td>  NA                                          </td><td>  NA                                          </td><td> NA                                           </td><td>  NA                                          </td><td>  NA                                          </td><td> NA                                           </td><td>NA                                            </td><td>NA                                            </td><td>NA                                            </td><td>NA                                            </td><td>NA                                            </td><td>NA                                            </td><td>  NA                                          </td><td>NA                                            </td><td>  NA                                          </td><td>   NA                                         </td><td>  NA                                          </td><td>  NA                                          </td><td>  NA                                          </td><td>  NA                                          </td><td>  NA                                          </td><td>  NA                                          </td><td> NA                                           </td><td> NA                                           </td><td> NA                                           </td><td>0                                             </td><td>1                                             </td><td>                                              </td><td>NA                                            </td><td>biopsy_quant                                  </td></tr>\n",
       "\t<tr><th scope=row>401</th><td>3528                                          </td><td> 9408                                         </td><td>10205                                         </td><td>2014-12-22                                    </td><td>2014-12-23                                    </td><td>Grade III                                     </td><td>Oligodendroglioma                             </td><td>55B75                                         </td><td>1                                             </td><td>0                                             </td><td>                                              </td><td>                                              </td><td>                                              </td><td> 0.90                                         </td><td>f                                             </td><td>NA                                            </td><td>NA                                            </td><td>NA                                            </td><td>NA                                            </td><td>  NA                                          </td><td>  NA                                          </td><td> NA                                           </td><td>  NA                                          </td><td>  NA                                          </td><td> NA                                           </td><td>NA                                            </td><td>NA                                            </td><td>NA                                            </td><td>NA                                            </td><td>NA                                            </td><td>NA                                            </td><td>  NA                                          </td><td>NA                                            </td><td>  NA                                          </td><td>   NA                                         </td><td>  NA                                          </td><td>  NA                                          </td><td>  NA                                          </td><td>  NA                                          </td><td>  NA                                          </td><td>  NA                                          </td><td> NA                                           </td><td> NA                                           </td><td> NA                                           </td><td>0                                             </td><td>1                                             </td><td>\"P and CY appear to have XRT changes to cells\"</td><td>NA                                            </td><td>biopsy_quant                                  </td></tr>\n",
       "\t<tr><th scope=row>414</th><td>3759                                          </td><td> 9683                                         </td><td>10335                                         </td><td>2015-04-27                                    </td><td>2015-04-28                                    </td><td>Grade III                                     </td><td>Oligodendroglioma                             </td><td>33B77                                         </td><td>3                                             </td><td>0                                             </td><td>                                              </td><td>                                              </td><td>                                              </td><td>22.13                                         </td><td>f                                             </td><td>NA                                            </td><td>NA                                            </td><td>NA                                            </td><td>NA                                            </td><td>  NA                                          </td><td>  NA                                          </td><td> NA                                           </td><td>  NA                                          </td><td>  NA                                          </td><td> NA                                           </td><td>NA                                            </td><td>NA                                            </td><td>NA                                            </td><td>NA                                            </td><td>NA                                            </td><td>NA                                            </td><td>  NA                                          </td><td>NA                                            </td><td>  NA                                          </td><td>   NA                                         </td><td>  NA                                          </td><td>  NA                                          </td><td>  NA                                          </td><td>  NA                                          </td><td>  NA                                          </td><td>  NA                                          </td><td> NA                                           </td><td> NA                                           </td><td> NA                                           </td><td>0                                             </td><td>1                                             </td><td>\"PV tumor as well\"                            </td><td>NA                                            </td><td>biopsy_quant                                  </td></tr>\n",
       "\t<tr><th scope=row>451</th><td>4002                                          </td><td>10242                                         </td><td>10697                                         </td><td>2016-01-31                                    </td><td>2016-02-01                                    </td><td>Grade IV                                      </td><td>Glioblastoma                                  </td><td>4B81                                          </td><td>2                                             </td><td>0                                             </td><td>                                              </td><td>                                              </td><td>                                              </td><td>10.89                                         </td><td>f                                             </td><td>NA                                            </td><td>NA                                            </td><td>NA                                            </td><td>NA                                            </td><td>  NA                                          </td><td>  NA                                          </td><td> NA                                           </td><td>  NA                                          </td><td>  NA                                          </td><td> NA                                           </td><td>NA                                            </td><td>NA                                            </td><td>NA                                            </td><td>NA                                            </td><td>NA                                            </td><td>NA                                            </td><td>  NA                                          </td><td>NA                                            </td><td>  NA                                          </td><td>   NA                                         </td><td>  NA                                          </td><td>  NA                                          </td><td>  NA                                          </td><td>  NA                                          </td><td>  NA                                          </td><td>  NA                                          </td><td> NA                                           </td><td> NA                                           </td><td> NA                                           </td><td>0                                             </td><td>1                                             </td><td>                                              </td><td>NA                                            </td><td>biopsy_quant                                  </td></tr>\n",
       "\t<tr><th scope=row>486</th><td> 971                                          </td><td>10668                                         </td><td>10943                                         </td><td>2016-08-16                                    </td><td>2016-08-17                                    </td><td>Grade III                                     </td><td>Oligodendroglioma                             </td><td>38B91                                         </td><td>                                              </td><td>NA                                            </td><td>                                              </td><td>                                              </td><td>                                              </td><td>   NA                                         </td><td>                                              </td><td>NA                                            </td><td>NA                                            </td><td>NA                                            </td><td>NA                                            </td><td>1.08                                          </td><td>2.61                                          </td><td>1.2                                           </td><td>0.95                                          </td><td>0.82                                          </td><td>0.9                                           </td><td>NA                                            </td><td>NA                                            </td><td>NA                                            </td><td>NA                                            </td><td>NA                                            </td><td>NA                                            </td><td>0.92                                          </td><td>NA                                            </td><td>1.12                                          </td><td>80.41                                         </td><td>0.46                                          </td><td>-0.3                                          </td><td>0.49                                          </td><td>0.29                                          </td><td>0.36                                          </td><td>0.19                                          </td><td>0.6                                           </td><td>0.6                                           </td><td>0.6                                           </td><td>0                                             </td><td>1                                             </td><td>                                              </td><td>NA                                            </td><td>biopsy_quant                                  </td></tr>\n",
       "\t<tr><th scope=row>599</th><td>4193                                          </td><td>11747                                         </td><td>11485                                         </td><td>2017-09-28                                    </td><td>2017-09-29                                    </td><td>Grade IV                                      </td><td>Glioblastoma                                  </td><td>11485-4                                       </td><td>                                              </td><td>NA                                            </td><td>                                              </td><td>                                              </td><td>                                              </td><td>   NA                                         </td><td>                                              </td><td>NA                                            </td><td>NA                                            </td><td>NA                                            </td><td>NA                                            </td><td>  NA                                          </td><td>  NA                                          </td><td> NA                                           </td><td>  NA                                          </td><td>  NA                                          </td><td> NA                                           </td><td>NA                                            </td><td>NA                                            </td><td>NA                                            </td><td>NA                                            </td><td>NA                                            </td><td>NA                                            </td><td>  NA                                          </td><td>NA                                            </td><td>  NA                                          </td><td>   NA                                         </td><td>  NA                                          </td><td>  NA                                          </td><td>  NA                                          </td><td>  NA                                          </td><td>  NA                                          </td><td>  NA                                          </td><td> NA                                           </td><td> NA                                           </td><td> NA                                           </td><td>0                                             </td><td>1                                             </td><td>                                              </td><td>NA                                            </td><td>biopsy_quant                                  </td></tr>\n",
       "\t<tr><th scope=row>630</th><td>4424                                          </td><td>12097                                         </td><td>   NA                                         </td><td>2018-02-13                                    </td><td>                                              </td><td>Grade IV                                      </td><td>Glioblastoma                                  </td><td>                                              </td><td>                                              </td><td>NA                                            </td><td>                                              </td><td>                                              </td><td>                                              </td><td>   NA                                         </td><td>                                              </td><td>NA                                            </td><td>NA                                            </td><td>NA                                            </td><td>NA                                            </td><td>  NA                                          </td><td>  NA                                          </td><td> NA                                           </td><td>  NA                                          </td><td>  NA                                          </td><td> NA                                           </td><td>NA                                            </td><td>NA                                            </td><td>NA                                            </td><td>NA                                            </td><td>NA                                            </td><td>NA                                            </td><td>  NA                                          </td><td>NA                                            </td><td>  NA                                          </td><td>   NA                                         </td><td>  NA                                          </td><td>  NA                                          </td><td>  NA                                          </td><td>  NA                                          </td><td>  NA                                          </td><td>  NA                                          </td><td> NA                                           </td><td> NA                                           </td><td> NA                                           </td><td>0                                             </td><td>1                                             </td><td>                                              </td><td>NA                                            </td><td>biopsy_quant                                  </td></tr>\n",
       "\t<tr><th scope=row>635</th><td>4442                                          </td><td>12181                                         </td><td>   NA                                         </td><td>2018-03-26                                    </td><td>                                              </td><td>Grade IV                                      </td><td>Glioblastoma                                  </td><td>                                              </td><td>                                              </td><td>NA                                            </td><td>                                              </td><td>                                              </td><td>                                              </td><td>   NA                                         </td><td>                                              </td><td>NA                                            </td><td>NA                                            </td><td>NA                                            </td><td>NA                                            </td><td>  NA                                          </td><td>  NA                                          </td><td> NA                                           </td><td>  NA                                          </td><td>  NA                                          </td><td> NA                                           </td><td>NA                                            </td><td>NA                                            </td><td>NA                                            </td><td>NA                                            </td><td>NA                                            </td><td>NA                                            </td><td>  NA                                          </td><td>NA                                            </td><td>  NA                                          </td><td>   NA                                         </td><td>  NA                                          </td><td>  NA                                          </td><td>  NA                                          </td><td>  NA                                          </td><td>  NA                                          </td><td>  NA                                          </td><td> NA                                           </td><td> NA                                           </td><td> NA                                           </td><td>0                                             </td><td>1                                             </td><td>                                              </td><td>NA                                            </td><td>biopsy_quant                                  </td></tr>\n",
       "\t<tr><th scope=row>636</th><td>4462                                          </td><td>12259                                         </td><td>   NA                                         </td><td>2018-04-22                                    </td><td>                                              </td><td>Grade IV                                      </td><td>Glioblastoma                                  </td><td>                                              </td><td>                                              </td><td>NA                                            </td><td>                                              </td><td>                                              </td><td>                                              </td><td>   NA                                         </td><td>                                              </td><td>NA                                            </td><td>NA                                            </td><td>NA                                            </td><td>NA                                            </td><td>  NA                                          </td><td>  NA                                          </td><td> NA                                           </td><td>  NA                                          </td><td>  NA                                          </td><td> NA                                           </td><td>NA                                            </td><td>NA                                            </td><td>NA                                            </td><td>NA                                            </td><td>NA                                            </td><td>NA                                            </td><td>  NA                                          </td><td>NA                                            </td><td>  NA                                          </td><td>   NA                                         </td><td>  NA                                          </td><td>  NA                                          </td><td>  NA                                          </td><td>  NA                                          </td><td>  NA                                          </td><td>  NA                                          </td><td> NA                                           </td><td> NA                                           </td><td> NA                                           </td><td>0                                             </td><td>1                                             </td><td>                                              </td><td>NA                                            </td><td>biopsy_quant                                  </td></tr>\n",
       "\t<tr><th scope=row>637</th><td>2991                                          </td><td>12320                                         </td><td>   NA                                         </td><td>2018-05-16                                    </td><td>                                              </td><td>Grade III                                     </td><td>Oligodendroglioma                             </td><td>                                              </td><td>                                              </td><td>NA                                            </td><td>                                              </td><td>                                              </td><td>                                              </td><td>   NA                                         </td><td>                                              </td><td>NA                                            </td><td>NA                                            </td><td>NA                                            </td><td>NA                                            </td><td>  NA                                          </td><td>  NA                                          </td><td> NA                                           </td><td>  NA                                          </td><td>  NA                                          </td><td> NA                                           </td><td>NA                                            </td><td>NA                                            </td><td>NA                                            </td><td>NA                                            </td><td>NA                                            </td><td>NA                                            </td><td>  NA                                          </td><td>NA                                            </td><td>  NA                                          </td><td>   NA                                         </td><td>  NA                                          </td><td>  NA                                          </td><td>  NA                                          </td><td>  NA                                          </td><td>  NA                                          </td><td>  NA                                          </td><td> NA                                           </td><td> NA                                           </td><td> NA                                           </td><td>0                                             </td><td>1                                             </td><td>                                              </td><td>NA                                            </td><td>biopsy_quant                                  </td></tr>\n",
       "\t<tr><th scope=row>638</th><td>4481                                          </td><td>12343                                         </td><td>   NA                                         </td><td>2018-05-29                                    </td><td>                                              </td><td>                                              </td><td>                                              </td><td>                                              </td><td>                                              </td><td>NA                                            </td><td>                                              </td><td>                                              </td><td>                                              </td><td>   NA                                         </td><td>                                              </td><td>NA                                            </td><td>NA                                            </td><td>NA                                            </td><td>NA                                            </td><td>  NA                                          </td><td>  NA                                          </td><td> NA                                           </td><td>  NA                                          </td><td>  NA                                          </td><td> NA                                           </td><td>NA                                            </td><td>NA                                            </td><td>NA                                            </td><td>NA                                            </td><td>NA                                            </td><td>NA                                            </td><td>  NA                                          </td><td>NA                                            </td><td>  NA                                          </td><td>   NA                                         </td><td>  NA                                          </td><td>  NA                                          </td><td>  NA                                          </td><td>  NA                                          </td><td>  NA                                          </td><td>  NA                                          </td><td> NA                                           </td><td> NA                                           </td><td> NA                                           </td><td>0                                             </td><td>1                                             </td><td>                                              </td><td>NA                                            </td><td>biopsy_quant                                  </td></tr>\n",
       "\t<tr><th scope=row>639</th><td>4482                                          </td><td>12345                                         </td><td>   NA                                         </td><td>2018-05-29                                    </td><td>                                              </td><td>Grade IV                                      </td><td>Gliosarcoma                                   </td><td>                                              </td><td>                                              </td><td>NA                                            </td><td>                                              </td><td>                                              </td><td>                                              </td><td>   NA                                         </td><td>                                              </td><td>NA                                            </td><td>NA                                            </td><td>NA                                            </td><td>NA                                            </td><td>  NA                                          </td><td>  NA                                          </td><td> NA                                           </td><td>  NA                                          </td><td>  NA                                          </td><td> NA                                           </td><td>NA                                            </td><td>NA                                            </td><td>NA                                            </td><td>NA                                            </td><td>NA                                            </td><td>NA                                            </td><td>  NA                                          </td><td>NA                                            </td><td>  NA                                          </td><td>   NA                                         </td><td>  NA                                          </td><td>  NA                                          </td><td>  NA                                          </td><td>  NA                                          </td><td>  NA                                          </td><td>  NA                                          </td><td> NA                                           </td><td> NA                                           </td><td> NA                                           </td><td>0                                             </td><td>1                                             </td><td>                                              </td><td>NA                                            </td><td>biopsy_quant                                  </td></tr>\n",
       "\t<tr><th scope=row>640</th><td>4484                                          </td><td>12357                                         </td><td>   NA                                         </td><td>2018-06-04                                    </td><td>                                              </td><td>                                              </td><td>                                              </td><td>                                              </td><td>                                              </td><td>NA                                            </td><td>                                              </td><td>                                              </td><td>                                              </td><td>   NA                                         </td><td>                                              </td><td>NA                                            </td><td>NA                                            </td><td>NA                                            </td><td>NA                                            </td><td>  NA                                          </td><td>  NA                                          </td><td> NA                                           </td><td>  NA                                          </td><td>  NA                                          </td><td> NA                                           </td><td>NA                                            </td><td>NA                                            </td><td>NA                                            </td><td>NA                                            </td><td>NA                                            </td><td>NA                                            </td><td>  NA                                          </td><td>NA                                            </td><td>  NA                                          </td><td>   NA                                         </td><td>  NA                                          </td><td>  NA                                          </td><td>  NA                                          </td><td>  NA                                          </td><td>  NA                                          </td><td>  NA                                          </td><td> NA                                           </td><td> NA                                           </td><td> NA                                           </td><td>0                                             </td><td>1                                             </td><td>                                              </td><td>NA                                            </td><td>biopsy_quant                                  </td></tr>\n",
       "\t<tr><th scope=row>641</th><td>4491                                          </td><td>12377                                         </td><td>   NA                                         </td><td>2018-06-26                                    </td><td>                                              </td><td>                                              </td><td>                                              </td><td>                                              </td><td>                                              </td><td>NA                                            </td><td>                                              </td><td>                                              </td><td>                                              </td><td>   NA                                         </td><td>                                              </td><td>NA                                            </td><td>NA                                            </td><td>NA                                            </td><td>NA                                            </td><td>  NA                                          </td><td>  NA                                          </td><td> NA                                           </td><td>  NA                                          </td><td>  NA                                          </td><td> NA                                           </td><td>NA                                            </td><td>NA                                            </td><td>NA                                            </td><td>NA                                            </td><td>NA                                            </td><td>NA                                            </td><td>  NA                                          </td><td>NA                                            </td><td>  NA                                          </td><td>   NA                                         </td><td>  NA                                          </td><td>  NA                                          </td><td>  NA                                          </td><td>  NA                                          </td><td>  NA                                          </td><td>  NA                                          </td><td> NA                                           </td><td> NA                                           </td><td> NA                                           </td><td>0                                             </td><td>1                                             </td><td>                                              </td><td>NA                                            </td><td>biopsy_quant                                  </td></tr>\n",
       "\t<tr><th scope=row>642</th><td>3983                                          </td><td>12378                                         </td><td>   NA                                         </td><td>2018-06-26                                    </td><td>                                              </td><td>                                              </td><td>                                              </td><td>                                              </td><td>                                              </td><td>NA                                            </td><td>                                              </td><td>                                              </td><td>                                              </td><td>   NA                                         </td><td>                                              </td><td>NA                                            </td><td>NA                                            </td><td>NA                                            </td><td>NA                                            </td><td>  NA                                          </td><td>  NA                                          </td><td> NA                                           </td><td>  NA                                          </td><td>  NA                                          </td><td> NA                                           </td><td>NA                                            </td><td>NA                                            </td><td>NA                                            </td><td>NA                                            </td><td>NA                                            </td><td>NA                                            </td><td>  NA                                          </td><td>NA                                            </td><td>  NA                                          </td><td>   NA                                         </td><td>  NA                                          </td><td>  NA                                          </td><td>  NA                                          </td><td>  NA                                          </td><td>  NA                                          </td><td>  NA                                          </td><td> NA                                           </td><td> NA                                           </td><td> NA                                           </td><td>0                                             </td><td>1                                             </td><td>                                              </td><td>NA                                            </td><td>biopsy_quant                                  </td></tr>\n",
       "\t<tr><th scope=row>643</th><td>4493                                          </td><td>12381                                         </td><td>   NA                                         </td><td>2018-07-08                                    </td><td>                                              </td><td>                                              </td><td>                                              </td><td>                                              </td><td>                                              </td><td>NA                                            </td><td>                                              </td><td>                                              </td><td>                                              </td><td>   NA                                         </td><td>                                              </td><td>NA                                            </td><td>NA                                            </td><td>NA                                            </td><td>NA                                            </td><td>  NA                                          </td><td>  NA                                          </td><td> NA                                           </td><td>  NA                                          </td><td>  NA                                          </td><td> NA                                           </td><td>NA                                            </td><td>NA                                            </td><td>NA                                            </td><td>NA                                            </td><td>NA                                            </td><td>NA                                            </td><td>  NA                                          </td><td>NA                                            </td><td>  NA                                          </td><td>   NA                                         </td><td>  NA                                          </td><td>  NA                                          </td><td>  NA                                          </td><td>  NA                                          </td><td>  NA                                          </td><td>  NA                                          </td><td> NA                                           </td><td> NA                                           </td><td> NA                                           </td><td>0                                             </td><td>1                                             </td><td>                                              </td><td>NA                                            </td><td>biopsy_quant                                  </td></tr>\n",
       "\t<tr><th scope=row>644</th><td>3966                                          </td><td>12394                                         </td><td>   NA                                         </td><td>2018-07-17                                    </td><td>                                              </td><td>                                              </td><td>                                              </td><td>                                              </td><td>                                              </td><td>NA                                            </td><td>                                              </td><td>                                              </td><td>                                              </td><td>   NA                                         </td><td>                                              </td><td>NA                                            </td><td>NA                                            </td><td>NA                                            </td><td>NA                                            </td><td>  NA                                          </td><td>  NA                                          </td><td> NA                                           </td><td>  NA                                          </td><td>  NA                                          </td><td> NA                                           </td><td>NA                                            </td><td>NA                                            </td><td>NA                                            </td><td>NA                                            </td><td>NA                                            </td><td>NA                                            </td><td>  NA                                          </td><td>NA                                            </td><td>  NA                                          </td><td>   NA                                         </td><td>  NA                                          </td><td>  NA                                          </td><td>  NA                                          </td><td>  NA                                          </td><td>  NA                                          </td><td>  NA                                          </td><td> NA                                           </td><td> NA                                           </td><td> NA                                           </td><td>0                                             </td><td>1                                             </td><td>                                              </td><td>NA                                            </td><td>biopsy_quant                                  </td></tr>\n",
       "</tbody>\n",
       "</table>\n"
      ],
      "text/latex": [
       "\\begin{tabular}{r|lllllllllllllllllllllllllllllllllllllllllllllllll}\n",
       "  & b\\_number & t\\_number & sf\\_number & current\\_scan\\_date & current\\_surgery\\_date & current\\_hist\\_grade & current\\_hist\\_type & roi.label & tumor\\_cell\\_evaluation & necrosis & f8\\_delicate & f8\\_simple & f8\\_complex & mib\\_1 & bx\\_pure\\_treatment\\_effect & nfse & nfl & nt1c & nt1v & nadc.1 & nfa.1 & nev1.1 & nev2.1 & nev3.1 & nevrad.1 & nadc.2 & nfa.2 & nev1.2 & nev2.2 & nev3.2 & nevrad.2 & cbvn\\_nlin & phn\\_nlin & phn\\_npar & recovn\\_npar & cni & ccri & crni & ncho & ncre & nnaa & nlip & laclip & nlac & olddata & newdata & comments & notes. & imaging\\_code\\\\\n",
       "\\hline\n",
       "\t3 & 2901                                           &  8089                                          &  8403                                          & 6/25/10                                        & 6/30/10                                        & Grade IV                                       & Glioblastoma                                   & 11B35                                          & 3                                              & 2                                              & 1                                              & 0                                              & 0                                              &    NA                                          & f                                              & NA                                             & NA                                             & NA                                             & NA                                             &   NA                                           &   NA                                           &  NA                                            &   NA                                           &   NA                                           &  NA                                            & NA                                             & NA                                             & NA                                             & NA                                             & NA                                             & NA                                             &   NA                                           & biopsymask-nonexist                            &   NA                                           &    NA                                          &   NA                                           &   NA                                           &   NA                                           &   NA                                           &   NA                                           &   NA                                           &  NA                                            &  NA                                            &  NA                                            & 1                                              & 0                                              &                                                & NA                                             & biopsy\\_quant                                \\\\\n",
       "\t9 & 2901                                           &  8089                                          &  8403                                          & 6/25/10                                        & 6/30/10                                        & Grade IV                                       & Glioblastoma                                   & 12B35                                          & 3                                              & 0                                              & 1                                              & 2                                              & 0                                              & 19.00                                          & f                                              & NA                                             & NA                                             & NA                                             & NA                                             &   NA                                           &   NA                                           &  NA                                            &   NA                                           &   NA                                           &  NA                                            & NA                                             & NA                                             & NA                                             & NA                                             & NA                                             & NA                                             &   NA                                           & biopsymask-nonexist                            &   NA                                           &    NA                                          &   NA                                           &   NA                                           &   NA                                           &   NA                                           &   NA                                           &   NA                                           &  NA                                            &  NA                                            &  NA                                            & 1                                              & 0                                              &                                                & NA                                             & biopsy\\_quant                                \\\\\n",
       "\t12 & 2901                                           &  8089                                          &  8403                                          & 6/25/10                                        & 6/30/10                                        & Grade IV                                       & Glioblastoma                                   & 13B35                                          & 0                                              & 2                                              & 1                                              & 0                                              & 0                                              &    NA                                          & t                                              & NA                                             & NA                                             & NA                                             & NA                                             &   NA                                           &   NA                                           &  NA                                            &   NA                                           &   NA                                           &  NA                                            & NA                                             & NA                                             & NA                                             & NA                                             & NA                                             & NA                                             &   NA                                           & biopsymask-nonexist                            &   NA                                           &    NA                                          &   NA                                           &   NA                                           &   NA                                           &   NA                                           &   NA                                           &   NA                                           &  NA                                            &  NA                                            &  NA                                            & 1                                              & 0                                              &                                                & NA                                             & biopsy\\_quant                                \\\\\n",
       "\t29 & 3012                                           &  7111                                          &  8521                                          & 10/18/10                                       & 10/19/10                                       & Grade III                                      & Oligodendroglioma                              & 1B38                                           & 2                                              & 0                                              & 2                                              & 0                                              & 0                                              &  0.75                                          & f                                              & NA                                             & NA                                             & NA                                             & NA                                             &   NA                                           &   NA                                           &  NA                                            &   NA                                           &   NA                                           &  NA                                            & NA                                             & NA                                             & NA                                             & NA                                             & NA                                             & NA                                             &   NA                                           & biopsymask-nonexist                            &   NA                                           &    NA                                          &   NA                                           &   NA                                           &   NA                                           &   NA                                           &   NA                                           &   NA                                           &  NA                                            &  NA                                            &  NA                                            & 1                                              & 0                                              & oligo                                          & NA                                             & biopsy\\_quant                                \\\\\n",
       "\t30 & 3207                                           &  7658                                          &  8896                                          & 9/19/11                                        & 9/20/11                                        & Grade IV                                       & Glioblastoma                                   & 1B45                                           & 3                                              & 0                                              & 0                                              & 3                                              & 0                                              & 31.36                                          & f                                              & NA                                             & NA                                             & NA                                             & NA                                             &   NA                                           &   NA                                           &  NA                                            &   NA                                           &   NA                                           &  NA                                            & NA                                             & NA                                             & NA                                             & NA                                             & NA                                             & NA                                             &   NA                                           & NA                                             &   NA                                           &    NA                                          &   NA                                           &   NA                                           &   NA                                           &   NA                                           &   NA                                           &   NA                                           &  NA                                            &  NA                                            &  NA                                            & 1                                              & 0                                              &                                                & NA                                             & biopsy\\_quant                                \\\\\n",
       "\t40 & 2571                                           &  7444                                          &  8722                                          & 4/14/11                                        & 4/15/11                                        & Grade IV                                       & Glioblastoma                                   & 23B42                                          & 1                                              & 0                                              & 3                                              & 0                                              & 0                                              &  8.38                                          & f                                              & NA                                             & NA                                             & NA                                             & NA                                             &   NA                                           &   NA                                           &  NA                                            &   NA                                           &   NA                                           &  NA                                            & NA                                             & NA                                             & NA                                             & NA                                             & NA                                             & NA                                             &   NA                                           & biopsymask-nonexist                            &   NA                                           &    NA                                          &   NA                                           &   NA                                           &   NA                                           &   NA                                           &   NA                                           &   NA                                           &  NA                                            &  NA                                            &  NA                                            & 1                                              & 0                                              &                                                & NA                                             & biopsy\\_quant                                \\\\\n",
       "\t42 & 2571                                           &  7444                                          &  8722                                          & 4/14/11                                        & 4/15/11                                        & Grade IV                                       & Glioblastoma                                   & 24B42                                          & 2                                              & 0                                              & 3                                              & 1                                              & 0                                              & 35.41                                          & f                                              & NA                                             & NA                                             & NA                                             & NA                                             &   NA                                           &   NA                                           &  NA                                            &   NA                                           &   NA                                           &  NA                                            & NA                                             & NA                                             & NA                                             & NA                                             & NA                                             & NA                                             &   NA                                           & biopsymask-nonexist                            &   NA                                           &    NA                                          &   NA                                           &   NA                                           &   NA                                           &   NA                                           &   NA                                           &   NA                                           &  NA                                            &  NA                                            &  NA                                            & 1                                              & 0                                              &                                                & NA                                             & biopsy\\_quant                                \\\\\n",
       "\t43 & 2571                                           &  7444                                          &  8722                                          & 4/14/11                                        & 4/15/11                                        & Grade IV                                       & Glioblastoma                                   & 25B42                                          & 0                                              & 0                                              & 2                                              & 0                                              & 0                                              &  0.00                                          & f                                              & NA                                             & NA                                             & NA                                             & NA                                             &   NA                                           &   NA                                           &  NA                                            &   NA                                           &   NA                                           &  NA                                            & NA                                             & NA                                             & NA                                             & NA                                             & NA                                             & NA                                             &   NA                                           & biopsymask-nonexist                            &   NA                                           &    NA                                          &   NA                                           &   NA                                           &   NA                                           &   NA                                           &   NA                                           &   NA                                           &  NA                                            &  NA                                            &  NA                                            & 1                                              & 0                                              &                                                & NA                                             & biopsy\\_quant                                \\\\\n",
       "\t54 & 3012                                           &  7111                                          &  8521                                          & 10/18/10                                       & 10/19/10                                       & Grade III                                      & Oligodendroglioma                              & 2B38                                           & 3                                              & 0                                              & 2                                              & 1                                              & 0                                              &  2.04                                          & f                                              & NA                                             & NA                                             & NA                                             & NA                                             &   NA                                           &   NA                                           &  NA                                            &   NA                                           &   NA                                           &  NA                                            & NA                                             & NA                                             & NA                                             & NA                                             & NA                                             & NA                                             &   NA                                           & biopsymask-nonexist                            &   NA                                           &    NA                                          &   NA                                           &   NA                                           &   NA                                           &   NA                                           &   NA                                           &   NA                                           &  NA                                            &  NA                                            &  NA                                            & 1                                              & 0                                              &                                                & NA                                             & biopsy\\_quant                                \\\\\n",
       "\t55 & 2939                                           &  7527                                          &  8786                                          & 6/10/11                                        & 6/12/11                                        & Grade IV                                       & Glioblastoma                                   & 2B43                                           & 3                                              & 0                                              & 3                                              & 1                                              & 0                                              & 33.84                                          & f                                              & NA                                             & NA                                             & NA                                             & NA                                             &   NA                                           &   NA                                           &  NA                                            &   NA                                           &   NA                                           &  NA                                            & NA                                             & NA                                             & NA                                             & NA                                             & NA                                             & NA                                             &   NA                                           & NA                                             &   NA                                           &    NA                                          &   NA                                           &   NA                                           &   NA                                           &   NA                                           &   NA                                           &   NA                                           &  NA                                            &  NA                                            &  NA                                            & 1                                              & 0                                              &                                                & NA                                             & biopsy\\_quant                                \\\\\n",
       "\t56 & 3207                                           &  7658                                          &  8896                                          & 9/19/11                                        & 9/20/11                                        & Grade IV                                       & Glioblastoma                                   & 2B45                                           & 3                                              & 0                                              & 2                                              & 0                                              & 0                                              &  0.67                                          & f                                              & NA                                             & NA                                             & NA                                             & NA                                             &   NA                                           &   NA                                           &  NA                                            &   NA                                           &   NA                                           &  NA                                            & NA                                             & NA                                             & NA                                             & NA                                             & NA                                             & NA                                             &   NA                                           & NA                                             &   NA                                           &    NA                                          &   NA                                           &   NA                                           &   NA                                           &   NA                                           &   NA                                           &   NA                                           &  NA                                            &  NA                                            &  NA                                            & 1                                              & 0                                              &                                                & NA                                             & biopsy\\_quant                                \\\\\n",
       "\t78 & 2764                                           &  6436                                          &  8169                                          & 11/8/09                                        & 11/9/09                                        & Grade IV                                       & Glioblastoma                                   & 36B29                                          & 3                                              & 0                                              & 1                                              & 2                                              & 1                                              & 33.78                                          & f                                              & NA                                             & NA                                             & NA                                             & NA                                             &   NA                                           &   NA                                           &  NA                                            &   NA                                           &   NA                                           &  NA                                            & NA                                             & NA                                             & NA                                             & NA                                             & NA                                             & NA                                             &   NA                                           & biopsymask-nonexist                            &   NA                                           &    NA                                          &   NA                                           &   NA                                           &   NA                                           &   NA                                           &   NA                                           &   NA                                           &  NA                                            &  NA                                            &  NA                                            & 1                                              & 0                                              & GBM; glioma 1994!                              & NA                                             & biopsy\\_quant                                \\\\\n",
       "\t89 & 2764                                           &  6436                                          &  8169                                          & 11/8/09                                        & 11/9/09                                        & Grade IV                                       & Glioblastoma                                   & 39B29                                          & 2                                              & 0                                              & 1                                              & 2                                              & 0                                              & 34.96                                          & f                                              & NA                                             & NA                                             & NA                                             & NA                                             &   NA                                           &   NA                                           &  NA                                            &   NA                                           &   NA                                           &  NA                                            & NA                                             & NA                                             & NA                                             & NA                                             & NA                                             & NA                                             &   NA                                           & biopsymask-nonexist                            &   NA                                           &    NA                                          &   NA                                           &   NA                                           &   NA                                           &   NA                                           &   NA                                           &   NA                                           &  NA                                            &  NA                                            &  NA                                            & 1                                              & 0                                              &                                                & NA                                             & biopsy\\_quant                                \\\\\n",
       "\t93 & 2939                                           &  7527                                          &  8786                                          & 6/10/11                                        & 6/12/11                                        & Grade IV                                       & Glioblastoma                                   & 3B43                                           & 0                                              & 0                                              & 2                                              & 0                                              & 0                                              &  1.55                                          & f                                              & NA                                             & NA                                             & NA                                             & NA                                             &   NA                                           &   NA                                           &  NA                                            &   NA                                           &   NA                                           &  NA                                            & NA                                             & NA                                             & NA                                             & NA                                             & NA                                             & NA                                             &   NA                                           & NA                                             &   NA                                           &    NA                                          &   NA                                           &   NA                                           &   NA                                           &   NA                                           &   NA                                           &   NA                                           &  NA                                            &  NA                                            &  NA                                            & 1                                              & 0                                              & PV inflammation edge                           & NA                                             & biopsy\\_quant                                \\\\\n",
       "\t105 & 1256                                           &  7043                                          &  8488                                          & 9/13/10                                        & 9/14/10                                        & Grade IV                                       & Glioblastoma                                   & 48B37                                          & 3                                              & 1                                              & 0                                              & 3                                              & 2                                              & 13.24                                          & f                                              & NA                                             & NA                                             & NA                                             & NA                                             &   NA                                           &   NA                                           &  NA                                            &   NA                                           &   NA                                           &  NA                                            & NA                                             & NA                                             & NA                                             & NA                                             & NA                                             & NA                                             &   NA                                           & biopsymask-nonexist                            &   NA                                           &    NA                                          &   NA                                           &   NA                                           &   NA                                           &   NA                                           &   NA                                           &   NA                                           &  NA                                            &  NA                                            &  NA                                            & 1                                              & 0                                              & PV inflamm. Necrosis                           & NA                                             & biopsy\\_quant                                \\\\\n",
       "\t108 & 3091                                           &  7338                                          &  8656                                          & 2/13/11                                        & 2/14/11                                        & Grade III                                      & Oligodendroglioma                              & 49B40                                          & 2                                              & 0                                              & 1                                              & 2                                              & 2                                              &  3.66                                          & f                                              & NA                                             & NA                                             & NA                                             & NA                                             &   NA                                           &   NA                                           &  NA                                            &   NA                                           &   NA                                           &  NA                                            & NA                                             & NA                                             & NA                                             & NA                                             & NA                                             & NA                                             &   NA                                           & biopsymask-nonexist                            &   NA                                           &    NA                                          &   NA                                           &   NA                                           &   NA                                           &   NA                                           &   NA                                           &   NA                                           &  NA                                            &  NA                                            &  NA                                            & 1                                              & 0                                              & Anapl Oligo GIII, perreport 1p19q del          & NA                                             & biopsy\\_quant                                \\\\\n",
       "\t124 & 1487                                           &  7001                                          &  8465                                          & 8/24/10                                        & 8/25/10                                        & Grade IV                                       & Glioblastoma                                   & 53B36                                          & 2                                              & 0                                              & 3                                              & 1                                              & 0                                              & 18.63                                          & f                                              & NA                                             & NA                                             & NA                                             & NA                                             &   NA                                           &   NA                                           &  NA                                            &   NA                                           &   NA                                           &  NA                                            & NA                                             & NA                                             & NA                                             & NA                                             & NA                                             & NA                                             &   NA                                           & biopsymask-nonexist                            &   NA                                           &    NA                                          &   NA                                           &   NA                                           &   NA                                           &   NA                                           &   NA                                           &   NA                                           &  NA                                            &  NA                                            &  NA                                            & 1                                              & 0                                              &                                                & NA                                             & biopsy\\_quant                                \\\\\n",
       "\t127 & 2003                                           &  6925                                          &  8422                                          & 7/16/10                                        & 7/19/10                                        & Grade IV                                       & Glioblastoma                                   & 54B35                                          & 0                                              & 0                                              & 2                                              & 0                                              & 0                                              &  0.00                                          & f                                              & NA                                             & NA                                             & NA                                             & NA                                             &   NA                                           &   NA                                           &  NA                                            &   NA                                           &   NA                                           &  NA                                            & NA                                             & NA                                             & NA                                             & NA                                             & NA                                             & NA                                             &   NA                                           & biopsymask-nonexist                            &   NA                                           &    NA                                          &   NA                                           &   NA                                           &   NA                                           &   NA                                           &   NA                                           &   NA                                           &  NA                                            &  NA                                            &  NA                                            & 1                                              & 0                                              &                                                & NA                                             & biopsy\\_quant                                \\\\\n",
       "\t147 & 3091                                           &  7338                                          &  8656                                          & 2/13/11                                        & 2/14/11                                        & Grade III                                      & Oligodendroglioma                              & 60B40                                          & 3                                              & 0                                              & 3                                              & 0                                              & 0                                              &  5.05                                          & f                                              & NA                                             & NA                                             & NA                                             & NA                                             &   NA                                           &   NA                                           &  NA                                            &   NA                                           &   NA                                           &  NA                                            & NA                                             & NA                                             & NA                                             & NA                                             & NA                                             & NA                                             &   NA                                           & biopsymask-nonexist                            &   NA                                           &    NA                                          &   NA                                           &   NA                                           &   NA                                           &   NA                                           &   NA                                           &   NA                                           &  NA                                            &  NA                                            &  NA                                            & 1                                              & 0                                              &                                                & NA                                             & biopsy\\_quant                                \\\\\n",
       "\t176 & 3169                                             &  7540                                            &  8796                                            & 6/19/11                                          & 6/20/11                                          & Grade IV                                         & Glioblastoma                                     & 6B43                                             & 2                                                & 0                                                & 3                                                & 0                                                & 0                                                &  0.64                                            & f                                                & NA                                               & NA                                               & NA                                               & NA                                               &   NA                                             &   NA                                             &  NA                                              &   NA                                             &   NA                                             &  NA                                              & NA                                               & NA                                               & NA                                               & NA                                               & NA                                               & NA                                               &   NA                                             & NA                                               &   NA                                             &    NA                                            &   NA                                             &   NA                                             &   NA                                             &   NA                                             &   NA                                             &   NA                                             &  NA                                              &  NA                                              &  NA                                              & 1                                                & 0                                                & focally 4.6\\%                                   & NA                                               & biopsy\\_quant                                  \\\\\n",
       "\t227 & 2712                                           &  6304                                          &  8110                                          & 8/25/09                                        & 8/26/09                                        & Grade III                                      & Oligodendroglioma                              & 81B27                                          & 2                                              & 0                                              & 2                                              & 0                                              & 0                                              &  5.13                                          & f                                              & NA                                             & NA                                             & NA                                             & NA                                             &   NA                                           &   NA                                           &  NA                                            &   NA                                           &   NA                                           &  NA                                            & NA                                             & NA                                             & NA                                             & NA                                             & NA                                             & NA                                             &   NA                                           & biopsymask-nonexist                            &   NA                                           &    NA                                          &   NA                                           &   NA                                           &   NA                                           &   NA                                           &   NA                                           &   NA                                           &  NA                                            &  NA                                            &  NA                                            & 1                                              & 0                                              & Oligodendroglioma-hx GIII                      & NA                                             & biopsy\\_quant                                \\\\\n",
       "\t229 & 3091                                           &  7338                                          &  8656                                          & 2/13/11                                        & 2/14/11                                        & Grade III                                      & Oligodendroglioma                              & 81B40                                          & 2                                              & 0                                              & 3                                              & 0                                              & 0                                              &  2.70                                          & f                                              & NA                                             & NA                                             & NA                                             & NA                                             &   NA                                           &   NA                                           &  NA                                            &   NA                                           &   NA                                           &  NA                                            & NA                                             & NA                                             & NA                                             & NA                                             & NA                                             & NA                                             &   NA                                           & biopsymask-nonexist                            &   NA                                           &    NA                                          &   NA                                           &   NA                                           &   NA                                           &   NA                                           &   NA                                           &   NA                                           &  NA                                            &  NA                                            &  NA                                            & 1                                              & 0                                              & not as many processes                          & NA                                             & biopsy\\_quant                                \\\\\n",
       "\t265 & 3084                                             &  7332                                            &  8653                                            & 2/10/11                                          & 2/11/11                                          & Grade IV                                         & Glioblastoma                                     & 8653B1                                           & Ind                                              & 2                                                & Indeterminable                                   & Indeterminable                                   & Indeterminable                                   &    NA                                            & t                                                & NA                                               & NA                                               & NA                                               & NA                                               &   NA                                             &   NA                                             &  NA                                              &   NA                                             &   NA                                             &  NA                                              & NA                                               & NA                                               & NA                                               & NA                                               & NA                                               & NA                                               &   NA                                             & NA                                               &   NA                                             &    NA                                            &   NA                                             &   NA                                             &   NA                                             &   NA                                             &   NA                                             &   NA                                             &  NA                                              &  NA                                              &  NA                                              & 1                                                & 0                                                & necrosis 100\\%                                  & NA                                               & biopsy\\_quant                                  \\\\\n",
       "\t266 & 3084                                           &  7332                                          &  8653                                          & 2/10/11                                        & 2/11/11                                        & Grade IV                                       & Glioblastoma                                   & 8653B2                                         & 1                                              & 0                                              & 2                                              & 1                                              & 0                                              &  9.11                                          & f                                              & NA                                             & NA                                             & NA                                             & NA                                             &   NA                                           &   NA                                           &  NA                                            &   NA                                           &   NA                                           &  NA                                            & NA                                             & NA                                             & NA                                             & NA                                             & NA                                             & NA                                             &   NA                                           & NA                                             &   NA                                           &    NA                                          &   NA                                           &   NA                                           &   NA                                           &   NA                                           &   NA                                           &   NA                                           &  NA                                            &  NA                                            &  NA                                            & 1                                              & 0                                              &                                                & NA                                             & biopsy\\_quant                                \\\\\n",
       "\t277 & 1814                                           &  7776                                          &  8986                                          & 12/13/11                                       & 12/14/11                                       & Grade IV                                       & Glioblastoma                                   & 87B46                                          & 3                                              & 1                                              & 2                                              & 3                                              & 0                                              & 20.24                                          & f                                              & NA                                             & NA                                             & NA                                             & NA                                             &   NA                                           &   NA                                           &  NA                                            &   NA                                           &   NA                                           &  NA                                            & NA                                             & NA                                             & NA                                             & NA                                             & NA                                             & NA                                             &   NA                                           & NA                                             &   NA                                           &    NA                                          &   NA                                           &   NA                                           &   NA                                           &   NA                                           &   NA                                           &   NA                                           &  NA                                            &  NA                                            &  NA                                            & 1                                              & 0                                              &                                                & NA                                             & biopsy\\_quant                                \\\\\n",
       "\t283 & 1814                                           &  7776                                          &  8986                                          & 12/13/11                                       & 12/14/11                                       & Grade IV                                       & Glioblastoma                                   & 88B46                                          & 0                                              & 0                                              & 2                                              & 0                                              & 0                                              &  1.89                                          & f                                              & NA                                             & NA                                             & NA                                             & NA                                             &   NA                                           &   NA                                           &  NA                                            &   NA                                           &   NA                                           &  NA                                            & NA                                             & NA                                             & NA                                             & NA                                             & NA                                             & NA                                             &   NA                                           & NA                                             &   NA                                           &    NA                                          &   NA                                           &   NA                                           &   NA                                           &   NA                                           &   NA                                           &   NA                                           &  NA                                            &  NA                                            &  NA                                            & 1                                              & 0                                              &                                                & NA                                             & biopsy\\_quant                                \\\\\n",
       "\t317 & 1338                                           &  8773                                          &  9727                                          & 2013-10-02                                     & 2013-10-03                                     & Grade IV                                       & Glioblastoma                                   & 60B60                                          & 1                                              & 0                                              &                                                &                                                &                                                &  2.01                                          & f                                              & NA                                             & NA                                             & NA                                             & NA                                             &   NA                                           &   NA                                           &  NA                                            &   NA                                           &   NA                                           &  NA                                            & NA                                             & NA                                             & NA                                             & NA                                             & NA                                             & NA                                             &   NA                                           & NA                                             &   NA                                           &    NA                                          &   NA                                           &   NA                                           &   NA                                           &   NA                                           &   NA                                           &   NA                                           &  NA                                            &  NA                                            &  NA                                            & 0                                              & 1                                              &                                                & NA                                             & biopsy\\_quant                                \\\\\n",
       "\t328 & 3499                                           &  8869                                          &  9795                                          & 2013-12-10                                     & 2013-12-11                                     & Grade IV                                       & Glioblastoma                                   & 68B60                                          & 3                                              & 0                                              &                                                &                                                &                                                & 52.39                                          & f                                              & NA                                             & NA                                             & NA                                             & NA                                             &   NA                                           &   NA                                           &  NA                                            &   NA                                           &   NA                                           &  NA                                            & NA                                             & NA                                             & NA                                             & NA                                             & NA                                             & NA                                             &   NA                                           & NA                                             &   NA                                           &    NA                                          & 0.00                                           &  0.0                                           & 0.00                                           & 0.00                                           & 0.00                                           & 0.00                                           & 0.0                                            & 0.0                                            & 0.0                                            & 0                                              & 1                                              & \"POORLY DIFFERENTIATED REGION\"                 & NA                                             & biopsy\\_quant                                \\\\\n",
       "\t343 & 3537                                           &  8969                                          &    NA                                          & 2014-04-01                                     & 2014-04-02                                     & Grade III                                      & Oligodendroglioma                              &                                                &                                                & NA                                             &                                                &                                                &                                                &    NA                                          &                                                & NA                                             & NA                                             & NA                                             & NA                                             &   NA                                           &   NA                                           &  NA                                            &   NA                                           &   NA                                           &  NA                                            & NA                                             & NA                                             & NA                                             & NA                                             & NA                                             & NA                                             &   NA                                           & NA                                             &   NA                                           &    NA                                          &   NA                                           &   NA                                           &   NA                                           &   NA                                           &   NA                                           &   NA                                           &  NA                                            &  NA                                            &  NA                                            & 0                                              & 1                                              &                                                & NA                                             & biopsy\\_quant                                \\\\\n",
       "\t375 & 1957                                           &  9134                                          & 10071                                          & 2014-08-12                                     & 2014-08-13                                     & Grade III                                      & Oligodendroglioma                              & 15B71                                          &                                                & NA                                             &                                                &                                                &                                                &    NA                                          &                                                & NA                                             & NA                                             & NA                                             & NA                                             &   NA                                           &   NA                                           &  NA                                            &   NA                                           &   NA                                           &  NA                                            & NA                                             & NA                                             & NA                                             & NA                                             & NA                                             & NA                                             &   NA                                           & NA                                             &   NA                                           &    NA                                          &   NA                                           &   NA                                           &   NA                                           &   NA                                           &   NA                                           &   NA                                           &  NA                                            &  NA                                            &  NA                                            & 0                                              & 1                                              &                                                & NA                                             & biopsy\\_quant                                \\\\\n",
       "\t389 & 3486                                           &  9287                                          &    NA                                          & 2014-12-16                                     & 2014-12-17                                     & Grade IV                                       & Glioblastoma                                   &                                                &                                                & NA                                             &                                                &                                                &                                                &    NA                                          &                                                & NA                                             & NA                                             & NA                                             & NA                                             &   NA                                           &   NA                                           &  NA                                            &   NA                                           &   NA                                           &  NA                                            & NA                                             & NA                                             & NA                                             & NA                                             & NA                                             & NA                                             &   NA                                           & NA                                             &   NA                                           &    NA                                          &   NA                                           &   NA                                           &   NA                                           &   NA                                           &   NA                                           &   NA                                           &  NA                                            &  NA                                            &  NA                                            & 0                                              & 1                                              &                                                & NA                                             & biopsy\\_quant                                \\\\\n",
       "\t400 & 3528                                           &  9408                                          & 10205                                          & 2014-12-22                                     & 2014-12-23                                     & Grade III                                      & Oligodendroglioma                              & 54B75                                          & 1                                              & 0                                              &                                                &                                                &                                                &  1.63                                          & f                                              & NA                                             & NA                                             & NA                                             & NA                                             &   NA                                           &   NA                                           &  NA                                            &   NA                                           &   NA                                           &  NA                                            & NA                                             & NA                                             & NA                                             & NA                                             & NA                                             & NA                                             &   NA                                           & NA                                             &   NA                                           &    NA                                          &   NA                                           &   NA                                           &   NA                                           &   NA                                           &   NA                                           &   NA                                           &  NA                                            &  NA                                            &  NA                                            & 0                                              & 1                                              &                                                & NA                                             & biopsy\\_quant                                \\\\\n",
       "\t401 & 3528                                           &  9408                                          & 10205                                          & 2014-12-22                                     & 2014-12-23                                     & Grade III                                      & Oligodendroglioma                              & 55B75                                          & 1                                              & 0                                              &                                                &                                                &                                                &  0.90                                          & f                                              & NA                                             & NA                                             & NA                                             & NA                                             &   NA                                           &   NA                                           &  NA                                            &   NA                                           &   NA                                           &  NA                                            & NA                                             & NA                                             & NA                                             & NA                                             & NA                                             & NA                                             &   NA                                           & NA                                             &   NA                                           &    NA                                          &   NA                                           &   NA                                           &   NA                                           &   NA                                           &   NA                                           &   NA                                           &  NA                                            &  NA                                            &  NA                                            & 0                                              & 1                                              & \"P and CY appear to have XRT changes to cells\" & NA                                             & biopsy\\_quant                                \\\\\n",
       "\t414 & 3759                                           &  9683                                          & 10335                                          & 2015-04-27                                     & 2015-04-28                                     & Grade III                                      & Oligodendroglioma                              & 33B77                                          & 3                                              & 0                                              &                                                &                                                &                                                & 22.13                                          & f                                              & NA                                             & NA                                             & NA                                             & NA                                             &   NA                                           &   NA                                           &  NA                                            &   NA                                           &   NA                                           &  NA                                            & NA                                             & NA                                             & NA                                             & NA                                             & NA                                             & NA                                             &   NA                                           & NA                                             &   NA                                           &    NA                                          &   NA                                           &   NA                                           &   NA                                           &   NA                                           &   NA                                           &   NA                                           &  NA                                            &  NA                                            &  NA                                            & 0                                              & 1                                              & \"PV tumor as well\"                             & NA                                             & biopsy\\_quant                                \\\\\n",
       "\t451 & 4002                                           & 10242                                          & 10697                                          & 2016-01-31                                     & 2016-02-01                                     & Grade IV                                       & Glioblastoma                                   & 4B81                                           & 2                                              & 0                                              &                                                &                                                &                                                & 10.89                                          & f                                              & NA                                             & NA                                             & NA                                             & NA                                             &   NA                                           &   NA                                           &  NA                                            &   NA                                           &   NA                                           &  NA                                            & NA                                             & NA                                             & NA                                             & NA                                             & NA                                             & NA                                             &   NA                                           & NA                                             &   NA                                           &    NA                                          &   NA                                           &   NA                                           &   NA                                           &   NA                                           &   NA                                           &   NA                                           &  NA                                            &  NA                                            &  NA                                            & 0                                              & 1                                              &                                                & NA                                             & biopsy\\_quant                                \\\\\n",
       "\t486 &  971                                           & 10668                                          & 10943                                          & 2016-08-16                                     & 2016-08-17                                     & Grade III                                      & Oligodendroglioma                              & 38B91                                          &                                                & NA                                             &                                                &                                                &                                                &    NA                                          &                                                & NA                                             & NA                                             & NA                                             & NA                                             & 1.08                                           & 2.61                                           & 1.2                                            & 0.95                                           & 0.82                                           & 0.9                                            & NA                                             & NA                                             & NA                                             & NA                                             & NA                                             & NA                                             & 0.92                                           & NA                                             & 1.12                                           & 80.41                                          & 0.46                                           & -0.3                                           & 0.49                                           & 0.29                                           & 0.36                                           & 0.19                                           & 0.6                                            & 0.6                                            & 0.6                                            & 0                                              & 1                                              &                                                & NA                                             & biopsy\\_quant                                \\\\\n",
       "\t599 & 4193                                           & 11747                                          & 11485                                          & 2017-09-28                                     & 2017-09-29                                     & Grade IV                                       & Glioblastoma                                   & 11485-4                                        &                                                & NA                                             &                                                &                                                &                                                &    NA                                          &                                                & NA                                             & NA                                             & NA                                             & NA                                             &   NA                                           &   NA                                           &  NA                                            &   NA                                           &   NA                                           &  NA                                            & NA                                             & NA                                             & NA                                             & NA                                             & NA                                             & NA                                             &   NA                                           & NA                                             &   NA                                           &    NA                                          &   NA                                           &   NA                                           &   NA                                           &   NA                                           &   NA                                           &   NA                                           &  NA                                            &  NA                                            &  NA                                            & 0                                              & 1                                              &                                                & NA                                             & biopsy\\_quant                                \\\\\n",
       "\t630 & 4424                                           & 12097                                          &    NA                                          & 2018-02-13                                     &                                                & Grade IV                                       & Glioblastoma                                   &                                                &                                                & NA                                             &                                                &                                                &                                                &    NA                                          &                                                & NA                                             & NA                                             & NA                                             & NA                                             &   NA                                           &   NA                                           &  NA                                            &   NA                                           &   NA                                           &  NA                                            & NA                                             & NA                                             & NA                                             & NA                                             & NA                                             & NA                                             &   NA                                           & NA                                             &   NA                                           &    NA                                          &   NA                                           &   NA                                           &   NA                                           &   NA                                           &   NA                                           &   NA                                           &  NA                                            &  NA                                            &  NA                                            & 0                                              & 1                                              &                                                & NA                                             & biopsy\\_quant                                \\\\\n",
       "\t635 & 4442                                           & 12181                                          &    NA                                          & 2018-03-26                                     &                                                & Grade IV                                       & Glioblastoma                                   &                                                &                                                & NA                                             &                                                &                                                &                                                &    NA                                          &                                                & NA                                             & NA                                             & NA                                             & NA                                             &   NA                                           &   NA                                           &  NA                                            &   NA                                           &   NA                                           &  NA                                            & NA                                             & NA                                             & NA                                             & NA                                             & NA                                             & NA                                             &   NA                                           & NA                                             &   NA                                           &    NA                                          &   NA                                           &   NA                                           &   NA                                           &   NA                                           &   NA                                           &   NA                                           &  NA                                            &  NA                                            &  NA                                            & 0                                              & 1                                              &                                                & NA                                             & biopsy\\_quant                                \\\\\n",
       "\t636 & 4462                                           & 12259                                          &    NA                                          & 2018-04-22                                     &                                                & Grade IV                                       & Glioblastoma                                   &                                                &                                                & NA                                             &                                                &                                                &                                                &    NA                                          &                                                & NA                                             & NA                                             & NA                                             & NA                                             &   NA                                           &   NA                                           &  NA                                            &   NA                                           &   NA                                           &  NA                                            & NA                                             & NA                                             & NA                                             & NA                                             & NA                                             & NA                                             &   NA                                           & NA                                             &   NA                                           &    NA                                          &   NA                                           &   NA                                           &   NA                                           &   NA                                           &   NA                                           &   NA                                           &  NA                                            &  NA                                            &  NA                                            & 0                                              & 1                                              &                                                & NA                                             & biopsy\\_quant                                \\\\\n",
       "\t637 & 2991                                           & 12320                                          &    NA                                          & 2018-05-16                                     &                                                & Grade III                                      & Oligodendroglioma                              &                                                &                                                & NA                                             &                                                &                                                &                                                &    NA                                          &                                                & NA                                             & NA                                             & NA                                             & NA                                             &   NA                                           &   NA                                           &  NA                                            &   NA                                           &   NA                                           &  NA                                            & NA                                             & NA                                             & NA                                             & NA                                             & NA                                             & NA                                             &   NA                                           & NA                                             &   NA                                           &    NA                                          &   NA                                           &   NA                                           &   NA                                           &   NA                                           &   NA                                           &   NA                                           &  NA                                            &  NA                                            &  NA                                            & 0                                              & 1                                              &                                                & NA                                             & biopsy\\_quant                                \\\\\n",
       "\t638 & 4481                                           & 12343                                          &    NA                                          & 2018-05-29                                     &                                                &                                                &                                                &                                                &                                                & NA                                             &                                                &                                                &                                                &    NA                                          &                                                & NA                                             & NA                                             & NA                                             & NA                                             &   NA                                           &   NA                                           &  NA                                            &   NA                                           &   NA                                           &  NA                                            & NA                                             & NA                                             & NA                                             & NA                                             & NA                                             & NA                                             &   NA                                           & NA                                             &   NA                                           &    NA                                          &   NA                                           &   NA                                           &   NA                                           &   NA                                           &   NA                                           &   NA                                           &  NA                                            &  NA                                            &  NA                                            & 0                                              & 1                                              &                                                & NA                                             & biopsy\\_quant                                \\\\\n",
       "\t639 & 4482                                           & 12345                                          &    NA                                          & 2018-05-29                                     &                                                & Grade IV                                       & Gliosarcoma                                    &                                                &                                                & NA                                             &                                                &                                                &                                                &    NA                                          &                                                & NA                                             & NA                                             & NA                                             & NA                                             &   NA                                           &   NA                                           &  NA                                            &   NA                                           &   NA                                           &  NA                                            & NA                                             & NA                                             & NA                                             & NA                                             & NA                                             & NA                                             &   NA                                           & NA                                             &   NA                                           &    NA                                          &   NA                                           &   NA                                           &   NA                                           &   NA                                           &   NA                                           &   NA                                           &  NA                                            &  NA                                            &  NA                                            & 0                                              & 1                                              &                                                & NA                                             & biopsy\\_quant                                \\\\\n",
       "\t640 & 4484                                           & 12357                                          &    NA                                          & 2018-06-04                                     &                                                &                                                &                                                &                                                &                                                & NA                                             &                                                &                                                &                                                &    NA                                          &                                                & NA                                             & NA                                             & NA                                             & NA                                             &   NA                                           &   NA                                           &  NA                                            &   NA                                           &   NA                                           &  NA                                            & NA                                             & NA                                             & NA                                             & NA                                             & NA                                             & NA                                             &   NA                                           & NA                                             &   NA                                           &    NA                                          &   NA                                           &   NA                                           &   NA                                           &   NA                                           &   NA                                           &   NA                                           &  NA                                            &  NA                                            &  NA                                            & 0                                              & 1                                              &                                                & NA                                             & biopsy\\_quant                                \\\\\n",
       "\t641 & 4491                                           & 12377                                          &    NA                                          & 2018-06-26                                     &                                                &                                                &                                                &                                                &                                                & NA                                             &                                                &                                                &                                                &    NA                                          &                                                & NA                                             & NA                                             & NA                                             & NA                                             &   NA                                           &   NA                                           &  NA                                            &   NA                                           &   NA                                           &  NA                                            & NA                                             & NA                                             & NA                                             & NA                                             & NA                                             & NA                                             &   NA                                           & NA                                             &   NA                                           &    NA                                          &   NA                                           &   NA                                           &   NA                                           &   NA                                           &   NA                                           &   NA                                           &  NA                                            &  NA                                            &  NA                                            & 0                                              & 1                                              &                                                & NA                                             & biopsy\\_quant                                \\\\\n",
       "\t642 & 3983                                           & 12378                                          &    NA                                          & 2018-06-26                                     &                                                &                                                &                                                &                                                &                                                & NA                                             &                                                &                                                &                                                &    NA                                          &                                                & NA                                             & NA                                             & NA                                             & NA                                             &   NA                                           &   NA                                           &  NA                                            &   NA                                           &   NA                                           &  NA                                            & NA                                             & NA                                             & NA                                             & NA                                             & NA                                             & NA                                             &   NA                                           & NA                                             &   NA                                           &    NA                                          &   NA                                           &   NA                                           &   NA                                           &   NA                                           &   NA                                           &   NA                                           &  NA                                            &  NA                                            &  NA                                            & 0                                              & 1                                              &                                                & NA                                             & biopsy\\_quant                                \\\\\n",
       "\t643 & 4493                                           & 12381                                          &    NA                                          & 2018-07-08                                     &                                                &                                                &                                                &                                                &                                                & NA                                             &                                                &                                                &                                                &    NA                                          &                                                & NA                                             & NA                                             & NA                                             & NA                                             &   NA                                           &   NA                                           &  NA                                            &   NA                                           &   NA                                           &  NA                                            & NA                                             & NA                                             & NA                                             & NA                                             & NA                                             & NA                                             &   NA                                           & NA                                             &   NA                                           &    NA                                          &   NA                                           &   NA                                           &   NA                                           &   NA                                           &   NA                                           &   NA                                           &  NA                                            &  NA                                            &  NA                                            & 0                                              & 1                                              &                                                & NA                                             & biopsy\\_quant                                \\\\\n",
       "\t644 & 3966                                           & 12394                                          &    NA                                          & 2018-07-17                                     &                                                &                                                &                                                &                                                &                                                & NA                                             &                                                &                                                &                                                &    NA                                          &                                                & NA                                             & NA                                             & NA                                             & NA                                             &   NA                                           &   NA                                           &  NA                                            &   NA                                           &   NA                                           &  NA                                            & NA                                             & NA                                             & NA                                             & NA                                             & NA                                             & NA                                             &   NA                                           & NA                                             &   NA                                           &    NA                                          &   NA                                           &   NA                                           &   NA                                           &   NA                                           &   NA                                           &   NA                                           &  NA                                            &  NA                                            &  NA                                            & 0                                              & 1                                              &                                                & NA                                             & biopsy\\_quant                                \\\\\n",
       "\\end{tabular}\n"
      ],
      "text/markdown": [
       "\n",
       "| <!--/--> | b_number | t_number | sf_number | current_scan_date | current_surgery_date | current_hist_grade | current_hist_type | roi.label | tumor_cell_evaluation | necrosis | f8_delicate | f8_simple | f8_complex | mib_1 | bx_pure_treatment_effect | nfse | nfl | nt1c | nt1v | nadc.1 | nfa.1 | nev1.1 | nev2.1 | nev3.1 | nevrad.1 | nadc.2 | nfa.2 | nev1.2 | nev2.2 | nev3.2 | nevrad.2 | cbvn_nlin | phn_nlin | phn_npar | recovn_npar | cni | ccri | crni | ncho | ncre | nnaa | nlip | laclip | nlac | olddata | newdata | comments | notes. | imaging_code | \n",
       "|---|---|---|---|---|---|---|---|---|---|---|---|---|---|---|---|---|---|---|---|---|---|---|---|---|---|---|---|---|---|---|---|---|---|---|---|---|---|---|---|---|---|---|---|---|---|---|---|\n",
       "| 3 | 2901                                           |  8089                                          |  8403                                          | 6/25/10                                        | 6/30/10                                        | Grade IV                                       | Glioblastoma                                   | 11B35                                          | 3                                              | 2                                              | 1                                              | 0                                              | 0                                              |    NA                                          | f                                              | NA                                             | NA                                             | NA                                             | NA                                             |   NA                                           |   NA                                           |  NA                                            |   NA                                           |   NA                                           |  NA                                            | NA                                             | NA                                             | NA                                             | NA                                             | NA                                             | NA                                             |   NA                                           | biopsymask-nonexist                            |   NA                                           |    NA                                          |   NA                                           |   NA                                           |   NA                                           |   NA                                           |   NA                                           |   NA                                           |  NA                                            |  NA                                            |  NA                                            | 1                                              | 0                                              |                                                | NA                                             | biopsy_quant                                   | \n",
       "| 9 | 2901                                           |  8089                                          |  8403                                          | 6/25/10                                        | 6/30/10                                        | Grade IV                                       | Glioblastoma                                   | 12B35                                          | 3                                              | 0                                              | 1                                              | 2                                              | 0                                              | 19.00                                          | f                                              | NA                                             | NA                                             | NA                                             | NA                                             |   NA                                           |   NA                                           |  NA                                            |   NA                                           |   NA                                           |  NA                                            | NA                                             | NA                                             | NA                                             | NA                                             | NA                                             | NA                                             |   NA                                           | biopsymask-nonexist                            |   NA                                           |    NA                                          |   NA                                           |   NA                                           |   NA                                           |   NA                                           |   NA                                           |   NA                                           |  NA                                            |  NA                                            |  NA                                            | 1                                              | 0                                              |                                                | NA                                             | biopsy_quant                                   | \n",
       "| 12 | 2901                                           |  8089                                          |  8403                                          | 6/25/10                                        | 6/30/10                                        | Grade IV                                       | Glioblastoma                                   | 13B35                                          | 0                                              | 2                                              | 1                                              | 0                                              | 0                                              |    NA                                          | t                                              | NA                                             | NA                                             | NA                                             | NA                                             |   NA                                           |   NA                                           |  NA                                            |   NA                                           |   NA                                           |  NA                                            | NA                                             | NA                                             | NA                                             | NA                                             | NA                                             | NA                                             |   NA                                           | biopsymask-nonexist                            |   NA                                           |    NA                                          |   NA                                           |   NA                                           |   NA                                           |   NA                                           |   NA                                           |   NA                                           |  NA                                            |  NA                                            |  NA                                            | 1                                              | 0                                              |                                                | NA                                             | biopsy_quant                                   | \n",
       "| 29 | 3012                                           |  7111                                          |  8521                                          | 10/18/10                                       | 10/19/10                                       | Grade III                                      | Oligodendroglioma                              | 1B38                                           | 2                                              | 0                                              | 2                                              | 0                                              | 0                                              |  0.75                                          | f                                              | NA                                             | NA                                             | NA                                             | NA                                             |   NA                                           |   NA                                           |  NA                                            |   NA                                           |   NA                                           |  NA                                            | NA                                             | NA                                             | NA                                             | NA                                             | NA                                             | NA                                             |   NA                                           | biopsymask-nonexist                            |   NA                                           |    NA                                          |   NA                                           |   NA                                           |   NA                                           |   NA                                           |   NA                                           |   NA                                           |  NA                                            |  NA                                            |  NA                                            | 1                                              | 0                                              | oligo                                          | NA                                             | biopsy_quant                                   | \n",
       "| 30 | 3207                                           |  7658                                          |  8896                                          | 9/19/11                                        | 9/20/11                                        | Grade IV                                       | Glioblastoma                                   | 1B45                                           | 3                                              | 0                                              | 0                                              | 3                                              | 0                                              | 31.36                                          | f                                              | NA                                             | NA                                             | NA                                             | NA                                             |   NA                                           |   NA                                           |  NA                                            |   NA                                           |   NA                                           |  NA                                            | NA                                             | NA                                             | NA                                             | NA                                             | NA                                             | NA                                             |   NA                                           | NA                                             |   NA                                           |    NA                                          |   NA                                           |   NA                                           |   NA                                           |   NA                                           |   NA                                           |   NA                                           |  NA                                            |  NA                                            |  NA                                            | 1                                              | 0                                              |                                                | NA                                             | biopsy_quant                                   | \n",
       "| 40 | 2571                                           |  7444                                          |  8722                                          | 4/14/11                                        | 4/15/11                                        | Grade IV                                       | Glioblastoma                                   | 23B42                                          | 1                                              | 0                                              | 3                                              | 0                                              | 0                                              |  8.38                                          | f                                              | NA                                             | NA                                             | NA                                             | NA                                             |   NA                                           |   NA                                           |  NA                                            |   NA                                           |   NA                                           |  NA                                            | NA                                             | NA                                             | NA                                             | NA                                             | NA                                             | NA                                             |   NA                                           | biopsymask-nonexist                            |   NA                                           |    NA                                          |   NA                                           |   NA                                           |   NA                                           |   NA                                           |   NA                                           |   NA                                           |  NA                                            |  NA                                            |  NA                                            | 1                                              | 0                                              |                                                | NA                                             | biopsy_quant                                   | \n",
       "| 42 | 2571                                           |  7444                                          |  8722                                          | 4/14/11                                        | 4/15/11                                        | Grade IV                                       | Glioblastoma                                   | 24B42                                          | 2                                              | 0                                              | 3                                              | 1                                              | 0                                              | 35.41                                          | f                                              | NA                                             | NA                                             | NA                                             | NA                                             |   NA                                           |   NA                                           |  NA                                            |   NA                                           |   NA                                           |  NA                                            | NA                                             | NA                                             | NA                                             | NA                                             | NA                                             | NA                                             |   NA                                           | biopsymask-nonexist                            |   NA                                           |    NA                                          |   NA                                           |   NA                                           |   NA                                           |   NA                                           |   NA                                           |   NA                                           |  NA                                            |  NA                                            |  NA                                            | 1                                              | 0                                              |                                                | NA                                             | biopsy_quant                                   | \n",
       "| 43 | 2571                                           |  7444                                          |  8722                                          | 4/14/11                                        | 4/15/11                                        | Grade IV                                       | Glioblastoma                                   | 25B42                                          | 0                                              | 0                                              | 2                                              | 0                                              | 0                                              |  0.00                                          | f                                              | NA                                             | NA                                             | NA                                             | NA                                             |   NA                                           |   NA                                           |  NA                                            |   NA                                           |   NA                                           |  NA                                            | NA                                             | NA                                             | NA                                             | NA                                             | NA                                             | NA                                             |   NA                                           | biopsymask-nonexist                            |   NA                                           |    NA                                          |   NA                                           |   NA                                           |   NA                                           |   NA                                           |   NA                                           |   NA                                           |  NA                                            |  NA                                            |  NA                                            | 1                                              | 0                                              |                                                | NA                                             | biopsy_quant                                   | \n",
       "| 54 | 3012                                           |  7111                                          |  8521                                          | 10/18/10                                       | 10/19/10                                       | Grade III                                      | Oligodendroglioma                              | 2B38                                           | 3                                              | 0                                              | 2                                              | 1                                              | 0                                              |  2.04                                          | f                                              | NA                                             | NA                                             | NA                                             | NA                                             |   NA                                           |   NA                                           |  NA                                            |   NA                                           |   NA                                           |  NA                                            | NA                                             | NA                                             | NA                                             | NA                                             | NA                                             | NA                                             |   NA                                           | biopsymask-nonexist                            |   NA                                           |    NA                                          |   NA                                           |   NA                                           |   NA                                           |   NA                                           |   NA                                           |   NA                                           |  NA                                            |  NA                                            |  NA                                            | 1                                              | 0                                              |                                                | NA                                             | biopsy_quant                                   | \n",
       "| 55 | 2939                                           |  7527                                          |  8786                                          | 6/10/11                                        | 6/12/11                                        | Grade IV                                       | Glioblastoma                                   | 2B43                                           | 3                                              | 0                                              | 3                                              | 1                                              | 0                                              | 33.84                                          | f                                              | NA                                             | NA                                             | NA                                             | NA                                             |   NA                                           |   NA                                           |  NA                                            |   NA                                           |   NA                                           |  NA                                            | NA                                             | NA                                             | NA                                             | NA                                             | NA                                             | NA                                             |   NA                                           | NA                                             |   NA                                           |    NA                                          |   NA                                           |   NA                                           |   NA                                           |   NA                                           |   NA                                           |   NA                                           |  NA                                            |  NA                                            |  NA                                            | 1                                              | 0                                              |                                                | NA                                             | biopsy_quant                                   | \n",
       "| 56 | 3207                                           |  7658                                          |  8896                                          | 9/19/11                                        | 9/20/11                                        | Grade IV                                       | Glioblastoma                                   | 2B45                                           | 3                                              | 0                                              | 2                                              | 0                                              | 0                                              |  0.67                                          | f                                              | NA                                             | NA                                             | NA                                             | NA                                             |   NA                                           |   NA                                           |  NA                                            |   NA                                           |   NA                                           |  NA                                            | NA                                             | NA                                             | NA                                             | NA                                             | NA                                             | NA                                             |   NA                                           | NA                                             |   NA                                           |    NA                                          |   NA                                           |   NA                                           |   NA                                           |   NA                                           |   NA                                           |   NA                                           |  NA                                            |  NA                                            |  NA                                            | 1                                              | 0                                              |                                                | NA                                             | biopsy_quant                                   | \n",
       "| 78 | 2764                                           |  6436                                          |  8169                                          | 11/8/09                                        | 11/9/09                                        | Grade IV                                       | Glioblastoma                                   | 36B29                                          | 3                                              | 0                                              | 1                                              | 2                                              | 1                                              | 33.78                                          | f                                              | NA                                             | NA                                             | NA                                             | NA                                             |   NA                                           |   NA                                           |  NA                                            |   NA                                           |   NA                                           |  NA                                            | NA                                             | NA                                             | NA                                             | NA                                             | NA                                             | NA                                             |   NA                                           | biopsymask-nonexist                            |   NA                                           |    NA                                          |   NA                                           |   NA                                           |   NA                                           |   NA                                           |   NA                                           |   NA                                           |  NA                                            |  NA                                            |  NA                                            | 1                                              | 0                                              | GBM; glioma 1994!                              | NA                                             | biopsy_quant                                   | \n",
       "| 89 | 2764                                           |  6436                                          |  8169                                          | 11/8/09                                        | 11/9/09                                        | Grade IV                                       | Glioblastoma                                   | 39B29                                          | 2                                              | 0                                              | 1                                              | 2                                              | 0                                              | 34.96                                          | f                                              | NA                                             | NA                                             | NA                                             | NA                                             |   NA                                           |   NA                                           |  NA                                            |   NA                                           |   NA                                           |  NA                                            | NA                                             | NA                                             | NA                                             | NA                                             | NA                                             | NA                                             |   NA                                           | biopsymask-nonexist                            |   NA                                           |    NA                                          |   NA                                           |   NA                                           |   NA                                           |   NA                                           |   NA                                           |   NA                                           |  NA                                            |  NA                                            |  NA                                            | 1                                              | 0                                              |                                                | NA                                             | biopsy_quant                                   | \n",
       "| 93 | 2939                                           |  7527                                          |  8786                                          | 6/10/11                                        | 6/12/11                                        | Grade IV                                       | Glioblastoma                                   | 3B43                                           | 0                                              | 0                                              | 2                                              | 0                                              | 0                                              |  1.55                                          | f                                              | NA                                             | NA                                             | NA                                             | NA                                             |   NA                                           |   NA                                           |  NA                                            |   NA                                           |   NA                                           |  NA                                            | NA                                             | NA                                             | NA                                             | NA                                             | NA                                             | NA                                             |   NA                                           | NA                                             |   NA                                           |    NA                                          |   NA                                           |   NA                                           |   NA                                           |   NA                                           |   NA                                           |   NA                                           |  NA                                            |  NA                                            |  NA                                            | 1                                              | 0                                              | PV inflammation edge                           | NA                                             | biopsy_quant                                   | \n",
       "| 105 | 1256                                           |  7043                                          |  8488                                          | 9/13/10                                        | 9/14/10                                        | Grade IV                                       | Glioblastoma                                   | 48B37                                          | 3                                              | 1                                              | 0                                              | 3                                              | 2                                              | 13.24                                          | f                                              | NA                                             | NA                                             | NA                                             | NA                                             |   NA                                           |   NA                                           |  NA                                            |   NA                                           |   NA                                           |  NA                                            | NA                                             | NA                                             | NA                                             | NA                                             | NA                                             | NA                                             |   NA                                           | biopsymask-nonexist                            |   NA                                           |    NA                                          |   NA                                           |   NA                                           |   NA                                           |   NA                                           |   NA                                           |   NA                                           |  NA                                            |  NA                                            |  NA                                            | 1                                              | 0                                              | PV inflamm. Necrosis                           | NA                                             | biopsy_quant                                   | \n",
       "| 108 | 3091                                           |  7338                                          |  8656                                          | 2/13/11                                        | 2/14/11                                        | Grade III                                      | Oligodendroglioma                              | 49B40                                          | 2                                              | 0                                              | 1                                              | 2                                              | 2                                              |  3.66                                          | f                                              | NA                                             | NA                                             | NA                                             | NA                                             |   NA                                           |   NA                                           |  NA                                            |   NA                                           |   NA                                           |  NA                                            | NA                                             | NA                                             | NA                                             | NA                                             | NA                                             | NA                                             |   NA                                           | biopsymask-nonexist                            |   NA                                           |    NA                                          |   NA                                           |   NA                                           |   NA                                           |   NA                                           |   NA                                           |   NA                                           |  NA                                            |  NA                                            |  NA                                            | 1                                              | 0                                              | Anapl Oligo GIII, perreport 1p19q del          | NA                                             | biopsy_quant                                   | \n",
       "| 124 | 1487                                           |  7001                                          |  8465                                          | 8/24/10                                        | 8/25/10                                        | Grade IV                                       | Glioblastoma                                   | 53B36                                          | 2                                              | 0                                              | 3                                              | 1                                              | 0                                              | 18.63                                          | f                                              | NA                                             | NA                                             | NA                                             | NA                                             |   NA                                           |   NA                                           |  NA                                            |   NA                                           |   NA                                           |  NA                                            | NA                                             | NA                                             | NA                                             | NA                                             | NA                                             | NA                                             |   NA                                           | biopsymask-nonexist                            |   NA                                           |    NA                                          |   NA                                           |   NA                                           |   NA                                           |   NA                                           |   NA                                           |   NA                                           |  NA                                            |  NA                                            |  NA                                            | 1                                              | 0                                              |                                                | NA                                             | biopsy_quant                                   | \n",
       "| 127 | 2003                                           |  6925                                          |  8422                                          | 7/16/10                                        | 7/19/10                                        | Grade IV                                       | Glioblastoma                                   | 54B35                                          | 0                                              | 0                                              | 2                                              | 0                                              | 0                                              |  0.00                                          | f                                              | NA                                             | NA                                             | NA                                             | NA                                             |   NA                                           |   NA                                           |  NA                                            |   NA                                           |   NA                                           |  NA                                            | NA                                             | NA                                             | NA                                             | NA                                             | NA                                             | NA                                             |   NA                                           | biopsymask-nonexist                            |   NA                                           |    NA                                          |   NA                                           |   NA                                           |   NA                                           |   NA                                           |   NA                                           |   NA                                           |  NA                                            |  NA                                            |  NA                                            | 1                                              | 0                                              |                                                | NA                                             | biopsy_quant                                   | \n",
       "| 147 | 3091                                           |  7338                                          |  8656                                          | 2/13/11                                        | 2/14/11                                        | Grade III                                      | Oligodendroglioma                              | 60B40                                          | 3                                              | 0                                              | 3                                              | 0                                              | 0                                              |  5.05                                          | f                                              | NA                                             | NA                                             | NA                                             | NA                                             |   NA                                           |   NA                                           |  NA                                            |   NA                                           |   NA                                           |  NA                                            | NA                                             | NA                                             | NA                                             | NA                                             | NA                                             | NA                                             |   NA                                           | biopsymask-nonexist                            |   NA                                           |    NA                                          |   NA                                           |   NA                                           |   NA                                           |   NA                                           |   NA                                           |   NA                                           |  NA                                            |  NA                                            |  NA                                            | 1                                              | 0                                              |                                                | NA                                             | biopsy_quant                                   | \n",
       "| 176 | 3169                                           |  7540                                          |  8796                                          | 6/19/11                                        | 6/20/11                                        | Grade IV                                       | Glioblastoma                                   | 6B43                                           | 2                                              | 0                                              | 3                                              | 0                                              | 0                                              |  0.64                                          | f                                              | NA                                             | NA                                             | NA                                             | NA                                             |   NA                                           |   NA                                           |  NA                                            |   NA                                           |   NA                                           |  NA                                            | NA                                             | NA                                             | NA                                             | NA                                             | NA                                             | NA                                             |   NA                                           | NA                                             |   NA                                           |    NA                                          |   NA                                           |   NA                                           |   NA                                           |   NA                                           |   NA                                           |   NA                                           |  NA                                            |  NA                                            |  NA                                            | 1                                              | 0                                              | focally 4.6%                                   | NA                                             | biopsy_quant                                   | \n",
       "| 227 | 2712                                           |  6304                                          |  8110                                          | 8/25/09                                        | 8/26/09                                        | Grade III                                      | Oligodendroglioma                              | 81B27                                          | 2                                              | 0                                              | 2                                              | 0                                              | 0                                              |  5.13                                          | f                                              | NA                                             | NA                                             | NA                                             | NA                                             |   NA                                           |   NA                                           |  NA                                            |   NA                                           |   NA                                           |  NA                                            | NA                                             | NA                                             | NA                                             | NA                                             | NA                                             | NA                                             |   NA                                           | biopsymask-nonexist                            |   NA                                           |    NA                                          |   NA                                           |   NA                                           |   NA                                           |   NA                                           |   NA                                           |   NA                                           |  NA                                            |  NA                                            |  NA                                            | 1                                              | 0                                              | Oligodendroglioma-hx GIII                      | NA                                             | biopsy_quant                                   | \n",
       "| 229 | 3091                                           |  7338                                          |  8656                                          | 2/13/11                                        | 2/14/11                                        | Grade III                                      | Oligodendroglioma                              | 81B40                                          | 2                                              | 0                                              | 3                                              | 0                                              | 0                                              |  2.70                                          | f                                              | NA                                             | NA                                             | NA                                             | NA                                             |   NA                                           |   NA                                           |  NA                                            |   NA                                           |   NA                                           |  NA                                            | NA                                             | NA                                             | NA                                             | NA                                             | NA                                             | NA                                             |   NA                                           | biopsymask-nonexist                            |   NA                                           |    NA                                          |   NA                                           |   NA                                           |   NA                                           |   NA                                           |   NA                                           |   NA                                           |  NA                                            |  NA                                            |  NA                                            | 1                                              | 0                                              | not as many processes                          | NA                                             | biopsy_quant                                   | \n",
       "| 265 | 3084                                           |  7332                                          |  8653                                          | 2/10/11                                        | 2/11/11                                        | Grade IV                                       | Glioblastoma                                   | 8653B1                                         | Ind                                            | 2                                              | Indeterminable                                 | Indeterminable                                 | Indeterminable                                 |    NA                                          | t                                              | NA                                             | NA                                             | NA                                             | NA                                             |   NA                                           |   NA                                           |  NA                                            |   NA                                           |   NA                                           |  NA                                            | NA                                             | NA                                             | NA                                             | NA                                             | NA                                             | NA                                             |   NA                                           | NA                                             |   NA                                           |    NA                                          |   NA                                           |   NA                                           |   NA                                           |   NA                                           |   NA                                           |   NA                                           |  NA                                            |  NA                                            |  NA                                            | 1                                              | 0                                              | necrosis 100%                                  | NA                                             | biopsy_quant                                   | \n",
       "| 266 | 3084                                           |  7332                                          |  8653                                          | 2/10/11                                        | 2/11/11                                        | Grade IV                                       | Glioblastoma                                   | 8653B2                                         | 1                                              | 0                                              | 2                                              | 1                                              | 0                                              |  9.11                                          | f                                              | NA                                             | NA                                             | NA                                             | NA                                             |   NA                                           |   NA                                           |  NA                                            |   NA                                           |   NA                                           |  NA                                            | NA                                             | NA                                             | NA                                             | NA                                             | NA                                             | NA                                             |   NA                                           | NA                                             |   NA                                           |    NA                                          |   NA                                           |   NA                                           |   NA                                           |   NA                                           |   NA                                           |   NA                                           |  NA                                            |  NA                                            |  NA                                            | 1                                              | 0                                              |                                                | NA                                             | biopsy_quant                                   | \n",
       "| 277 | 1814                                           |  7776                                          |  8986                                          | 12/13/11                                       | 12/14/11                                       | Grade IV                                       | Glioblastoma                                   | 87B46                                          | 3                                              | 1                                              | 2                                              | 3                                              | 0                                              | 20.24                                          | f                                              | NA                                             | NA                                             | NA                                             | NA                                             |   NA                                           |   NA                                           |  NA                                            |   NA                                           |   NA                                           |  NA                                            | NA                                             | NA                                             | NA                                             | NA                                             | NA                                             | NA                                             |   NA                                           | NA                                             |   NA                                           |    NA                                          |   NA                                           |   NA                                           |   NA                                           |   NA                                           |   NA                                           |   NA                                           |  NA                                            |  NA                                            |  NA                                            | 1                                              | 0                                              |                                                | NA                                             | biopsy_quant                                   | \n",
       "| 283 | 1814                                           |  7776                                          |  8986                                          | 12/13/11                                       | 12/14/11                                       | Grade IV                                       | Glioblastoma                                   | 88B46                                          | 0                                              | 0                                              | 2                                              | 0                                              | 0                                              |  1.89                                          | f                                              | NA                                             | NA                                             | NA                                             | NA                                             |   NA                                           |   NA                                           |  NA                                            |   NA                                           |   NA                                           |  NA                                            | NA                                             | NA                                             | NA                                             | NA                                             | NA                                             | NA                                             |   NA                                           | NA                                             |   NA                                           |    NA                                          |   NA                                           |   NA                                           |   NA                                           |   NA                                           |   NA                                           |   NA                                           |  NA                                            |  NA                                            |  NA                                            | 1                                              | 0                                              |                                                | NA                                             | biopsy_quant                                   | \n",
       "| 317 | 1338                                           |  8773                                          |  9727                                          | 2013-10-02                                     | 2013-10-03                                     | Grade IV                                       | Glioblastoma                                   | 60B60                                          | 1                                              | 0                                              |                                                |                                                |                                                |  2.01                                          | f                                              | NA                                             | NA                                             | NA                                             | NA                                             |   NA                                           |   NA                                           |  NA                                            |   NA                                           |   NA                                           |  NA                                            | NA                                             | NA                                             | NA                                             | NA                                             | NA                                             | NA                                             |   NA                                           | NA                                             |   NA                                           |    NA                                          |   NA                                           |   NA                                           |   NA                                           |   NA                                           |   NA                                           |   NA                                           |  NA                                            |  NA                                            |  NA                                            | 0                                              | 1                                              |                                                | NA                                             | biopsy_quant                                   | \n",
       "| 328 | 3499                                           |  8869                                          |  9795                                          | 2013-12-10                                     | 2013-12-11                                     | Grade IV                                       | Glioblastoma                                   | 68B60                                          | 3                                              | 0                                              |                                                |                                                |                                                | 52.39                                          | f                                              | NA                                             | NA                                             | NA                                             | NA                                             |   NA                                           |   NA                                           |  NA                                            |   NA                                           |   NA                                           |  NA                                            | NA                                             | NA                                             | NA                                             | NA                                             | NA                                             | NA                                             |   NA                                           | NA                                             |   NA                                           |    NA                                          | 0.00                                           |  0.0                                           | 0.00                                           | 0.00                                           | 0.00                                           | 0.00                                           | 0.0                                            | 0.0                                            | 0.0                                            | 0                                              | 1                                              | \"POORLY DIFFERENTIATED REGION\"                 | NA                                             | biopsy_quant                                   | \n",
       "| 343 | 3537                                           |  8969                                          |    NA                                          | 2014-04-01                                     | 2014-04-02                                     | Grade III                                      | Oligodendroglioma                              |                                                |                                                | NA                                             |                                                |                                                |                                                |    NA                                          |                                                | NA                                             | NA                                             | NA                                             | NA                                             |   NA                                           |   NA                                           |  NA                                            |   NA                                           |   NA                                           |  NA                                            | NA                                             | NA                                             | NA                                             | NA                                             | NA                                             | NA                                             |   NA                                           | NA                                             |   NA                                           |    NA                                          |   NA                                           |   NA                                           |   NA                                           |   NA                                           |   NA                                           |   NA                                           |  NA                                            |  NA                                            |  NA                                            | 0                                              | 1                                              |                                                | NA                                             | biopsy_quant                                   | \n",
       "| 375 | 1957                                           |  9134                                          | 10071                                          | 2014-08-12                                     | 2014-08-13                                     | Grade III                                      | Oligodendroglioma                              | 15B71                                          |                                                | NA                                             |                                                |                                                |                                                |    NA                                          |                                                | NA                                             | NA                                             | NA                                             | NA                                             |   NA                                           |   NA                                           |  NA                                            |   NA                                           |   NA                                           |  NA                                            | NA                                             | NA                                             | NA                                             | NA                                             | NA                                             | NA                                             |   NA                                           | NA                                             |   NA                                           |    NA                                          |   NA                                           |   NA                                           |   NA                                           |   NA                                           |   NA                                           |   NA                                           |  NA                                            |  NA                                            |  NA                                            | 0                                              | 1                                              |                                                | NA                                             | biopsy_quant                                   | \n",
       "| 389 | 3486                                           |  9287                                          |    NA                                          | 2014-12-16                                     | 2014-12-17                                     | Grade IV                                       | Glioblastoma                                   |                                                |                                                | NA                                             |                                                |                                                |                                                |    NA                                          |                                                | NA                                             | NA                                             | NA                                             | NA                                             |   NA                                           |   NA                                           |  NA                                            |   NA                                           |   NA                                           |  NA                                            | NA                                             | NA                                             | NA                                             | NA                                             | NA                                             | NA                                             |   NA                                           | NA                                             |   NA                                           |    NA                                          |   NA                                           |   NA                                           |   NA                                           |   NA                                           |   NA                                           |   NA                                           |  NA                                            |  NA                                            |  NA                                            | 0                                              | 1                                              |                                                | NA                                             | biopsy_quant                                   | \n",
       "| 400 | 3528                                           |  9408                                          | 10205                                          | 2014-12-22                                     | 2014-12-23                                     | Grade III                                      | Oligodendroglioma                              | 54B75                                          | 1                                              | 0                                              |                                                |                                                |                                                |  1.63                                          | f                                              | NA                                             | NA                                             | NA                                             | NA                                             |   NA                                           |   NA                                           |  NA                                            |   NA                                           |   NA                                           |  NA                                            | NA                                             | NA                                             | NA                                             | NA                                             | NA                                             | NA                                             |   NA                                           | NA                                             |   NA                                           |    NA                                          |   NA                                           |   NA                                           |   NA                                           |   NA                                           |   NA                                           |   NA                                           |  NA                                            |  NA                                            |  NA                                            | 0                                              | 1                                              |                                                | NA                                             | biopsy_quant                                   | \n",
       "| 401 | 3528                                           |  9408                                          | 10205                                          | 2014-12-22                                     | 2014-12-23                                     | Grade III                                      | Oligodendroglioma                              | 55B75                                          | 1                                              | 0                                              |                                                |                                                |                                                |  0.90                                          | f                                              | NA                                             | NA                                             | NA                                             | NA                                             |   NA                                           |   NA                                           |  NA                                            |   NA                                           |   NA                                           |  NA                                            | NA                                             | NA                                             | NA                                             | NA                                             | NA                                             | NA                                             |   NA                                           | NA                                             |   NA                                           |    NA                                          |   NA                                           |   NA                                           |   NA                                           |   NA                                           |   NA                                           |   NA                                           |  NA                                            |  NA                                            |  NA                                            | 0                                              | 1                                              | \"P and CY appear to have XRT changes to cells\" | NA                                             | biopsy_quant                                   | \n",
       "| 414 | 3759                                           |  9683                                          | 10335                                          | 2015-04-27                                     | 2015-04-28                                     | Grade III                                      | Oligodendroglioma                              | 33B77                                          | 3                                              | 0                                              |                                                |                                                |                                                | 22.13                                          | f                                              | NA                                             | NA                                             | NA                                             | NA                                             |   NA                                           |   NA                                           |  NA                                            |   NA                                           |   NA                                           |  NA                                            | NA                                             | NA                                             | NA                                             | NA                                             | NA                                             | NA                                             |   NA                                           | NA                                             |   NA                                           |    NA                                          |   NA                                           |   NA                                           |   NA                                           |   NA                                           |   NA                                           |   NA                                           |  NA                                            |  NA                                            |  NA                                            | 0                                              | 1                                              | \"PV tumor as well\"                             | NA                                             | biopsy_quant                                   | \n",
       "| 451 | 4002                                           | 10242                                          | 10697                                          | 2016-01-31                                     | 2016-02-01                                     | Grade IV                                       | Glioblastoma                                   | 4B81                                           | 2                                              | 0                                              |                                                |                                                |                                                | 10.89                                          | f                                              | NA                                             | NA                                             | NA                                             | NA                                             |   NA                                           |   NA                                           |  NA                                            |   NA                                           |   NA                                           |  NA                                            | NA                                             | NA                                             | NA                                             | NA                                             | NA                                             | NA                                             |   NA                                           | NA                                             |   NA                                           |    NA                                          |   NA                                           |   NA                                           |   NA                                           |   NA                                           |   NA                                           |   NA                                           |  NA                                            |  NA                                            |  NA                                            | 0                                              | 1                                              |                                                | NA                                             | biopsy_quant                                   | \n",
       "| 486 |  971                                           | 10668                                          | 10943                                          | 2016-08-16                                     | 2016-08-17                                     | Grade III                                      | Oligodendroglioma                              | 38B91                                          |                                                | NA                                             |                                                |                                                |                                                |    NA                                          |                                                | NA                                             | NA                                             | NA                                             | NA                                             | 1.08                                           | 2.61                                           | 1.2                                            | 0.95                                           | 0.82                                           | 0.9                                            | NA                                             | NA                                             | NA                                             | NA                                             | NA                                             | NA                                             | 0.92                                           | NA                                             | 1.12                                           | 80.41                                          | 0.46                                           | -0.3                                           | 0.49                                           | 0.29                                           | 0.36                                           | 0.19                                           | 0.6                                            | 0.6                                            | 0.6                                            | 0                                              | 1                                              |                                                | NA                                             | biopsy_quant                                   | \n",
       "| 599 | 4193                                           | 11747                                          | 11485                                          | 2017-09-28                                     | 2017-09-29                                     | Grade IV                                       | Glioblastoma                                   | 11485-4                                        |                                                | NA                                             |                                                |                                                |                                                |    NA                                          |                                                | NA                                             | NA                                             | NA                                             | NA                                             |   NA                                           |   NA                                           |  NA                                            |   NA                                           |   NA                                           |  NA                                            | NA                                             | NA                                             | NA                                             | NA                                             | NA                                             | NA                                             |   NA                                           | NA                                             |   NA                                           |    NA                                          |   NA                                           |   NA                                           |   NA                                           |   NA                                           |   NA                                           |   NA                                           |  NA                                            |  NA                                            |  NA                                            | 0                                              | 1                                              |                                                | NA                                             | biopsy_quant                                   | \n",
       "| 630 | 4424                                           | 12097                                          |    NA                                          | 2018-02-13                                     |                                                | Grade IV                                       | Glioblastoma                                   |                                                |                                                | NA                                             |                                                |                                                |                                                |    NA                                          |                                                | NA                                             | NA                                             | NA                                             | NA                                             |   NA                                           |   NA                                           |  NA                                            |   NA                                           |   NA                                           |  NA                                            | NA                                             | NA                                             | NA                                             | NA                                             | NA                                             | NA                                             |   NA                                           | NA                                             |   NA                                           |    NA                                          |   NA                                           |   NA                                           |   NA                                           |   NA                                           |   NA                                           |   NA                                           |  NA                                            |  NA                                            |  NA                                            | 0                                              | 1                                              |                                                | NA                                             | biopsy_quant                                   | \n",
       "| 635 | 4442                                           | 12181                                          |    NA                                          | 2018-03-26                                     |                                                | Grade IV                                       | Glioblastoma                                   |                                                |                                                | NA                                             |                                                |                                                |                                                |    NA                                          |                                                | NA                                             | NA                                             | NA                                             | NA                                             |   NA                                           |   NA                                           |  NA                                            |   NA                                           |   NA                                           |  NA                                            | NA                                             | NA                                             | NA                                             | NA                                             | NA                                             | NA                                             |   NA                                           | NA                                             |   NA                                           |    NA                                          |   NA                                           |   NA                                           |   NA                                           |   NA                                           |   NA                                           |   NA                                           |  NA                                            |  NA                                            |  NA                                            | 0                                              | 1                                              |                                                | NA                                             | biopsy_quant                                   | \n",
       "| 636 | 4462                                           | 12259                                          |    NA                                          | 2018-04-22                                     |                                                | Grade IV                                       | Glioblastoma                                   |                                                |                                                | NA                                             |                                                |                                                |                                                |    NA                                          |                                                | NA                                             | NA                                             | NA                                             | NA                                             |   NA                                           |   NA                                           |  NA                                            |   NA                                           |   NA                                           |  NA                                            | NA                                             | NA                                             | NA                                             | NA                                             | NA                                             | NA                                             |   NA                                           | NA                                             |   NA                                           |    NA                                          |   NA                                           |   NA                                           |   NA                                           |   NA                                           |   NA                                           |   NA                                           |  NA                                            |  NA                                            |  NA                                            | 0                                              | 1                                              |                                                | NA                                             | biopsy_quant                                   | \n",
       "| 637 | 2991                                           | 12320                                          |    NA                                          | 2018-05-16                                     |                                                | Grade III                                      | Oligodendroglioma                              |                                                |                                                | NA                                             |                                                |                                                |                                                |    NA                                          |                                                | NA                                             | NA                                             | NA                                             | NA                                             |   NA                                           |   NA                                           |  NA                                            |   NA                                           |   NA                                           |  NA                                            | NA                                             | NA                                             | NA                                             | NA                                             | NA                                             | NA                                             |   NA                                           | NA                                             |   NA                                           |    NA                                          |   NA                                           |   NA                                           |   NA                                           |   NA                                           |   NA                                           |   NA                                           |  NA                                            |  NA                                            |  NA                                            | 0                                              | 1                                              |                                                | NA                                             | biopsy_quant                                   | \n",
       "| 638 | 4481                                           | 12343                                          |    NA                                          | 2018-05-29                                     |                                                |                                                |                                                |                                                |                                                | NA                                             |                                                |                                                |                                                |    NA                                          |                                                | NA                                             | NA                                             | NA                                             | NA                                             |   NA                                           |   NA                                           |  NA                                            |   NA                                           |   NA                                           |  NA                                            | NA                                             | NA                                             | NA                                             | NA                                             | NA                                             | NA                                             |   NA                                           | NA                                             |   NA                                           |    NA                                          |   NA                                           |   NA                                           |   NA                                           |   NA                                           |   NA                                           |   NA                                           |  NA                                            |  NA                                            |  NA                                            | 0                                              | 1                                              |                                                | NA                                             | biopsy_quant                                   | \n",
       "| 639 | 4482                                           | 12345                                          |    NA                                          | 2018-05-29                                     |                                                | Grade IV                                       | Gliosarcoma                                    |                                                |                                                | NA                                             |                                                |                                                |                                                |    NA                                          |                                                | NA                                             | NA                                             | NA                                             | NA                                             |   NA                                           |   NA                                           |  NA                                            |   NA                                           |   NA                                           |  NA                                            | NA                                             | NA                                             | NA                                             | NA                                             | NA                                             | NA                                             |   NA                                           | NA                                             |   NA                                           |    NA                                          |   NA                                           |   NA                                           |   NA                                           |   NA                                           |   NA                                           |   NA                                           |  NA                                            |  NA                                            |  NA                                            | 0                                              | 1                                              |                                                | NA                                             | biopsy_quant                                   | \n",
       "| 640 | 4484                                           | 12357                                          |    NA                                          | 2018-06-04                                     |                                                |                                                |                                                |                                                |                                                | NA                                             |                                                |                                                |                                                |    NA                                          |                                                | NA                                             | NA                                             | NA                                             | NA                                             |   NA                                           |   NA                                           |  NA                                            |   NA                                           |   NA                                           |  NA                                            | NA                                             | NA                                             | NA                                             | NA                                             | NA                                             | NA                                             |   NA                                           | NA                                             |   NA                                           |    NA                                          |   NA                                           |   NA                                           |   NA                                           |   NA                                           |   NA                                           |   NA                                           |  NA                                            |  NA                                            |  NA                                            | 0                                              | 1                                              |                                                | NA                                             | biopsy_quant                                   | \n",
       "| 641 | 4491                                           | 12377                                          |    NA                                          | 2018-06-26                                     |                                                |                                                |                                                |                                                |                                                | NA                                             |                                                |                                                |                                                |    NA                                          |                                                | NA                                             | NA                                             | NA                                             | NA                                             |   NA                                           |   NA                                           |  NA                                            |   NA                                           |   NA                                           |  NA                                            | NA                                             | NA                                             | NA                                             | NA                                             | NA                                             | NA                                             |   NA                                           | NA                                             |   NA                                           |    NA                                          |   NA                                           |   NA                                           |   NA                                           |   NA                                           |   NA                                           |   NA                                           |  NA                                            |  NA                                            |  NA                                            | 0                                              | 1                                              |                                                | NA                                             | biopsy_quant                                   | \n",
       "| 642 | 3983                                           | 12378                                          |    NA                                          | 2018-06-26                                     |                                                |                                                |                                                |                                                |                                                | NA                                             |                                                |                                                |                                                |    NA                                          |                                                | NA                                             | NA                                             | NA                                             | NA                                             |   NA                                           |   NA                                           |  NA                                            |   NA                                           |   NA                                           |  NA                                            | NA                                             | NA                                             | NA                                             | NA                                             | NA                                             | NA                                             |   NA                                           | NA                                             |   NA                                           |    NA                                          |   NA                                           |   NA                                           |   NA                                           |   NA                                           |   NA                                           |   NA                                           |  NA                                            |  NA                                            |  NA                                            | 0                                              | 1                                              |                                                | NA                                             | biopsy_quant                                   | \n",
       "| 643 | 4493                                           | 12381                                          |    NA                                          | 2018-07-08                                     |                                                |                                                |                                                |                                                |                                                | NA                                             |                                                |                                                |                                                |    NA                                          |                                                | NA                                             | NA                                             | NA                                             | NA                                             |   NA                                           |   NA                                           |  NA                                            |   NA                                           |   NA                                           |  NA                                            | NA                                             | NA                                             | NA                                             | NA                                             | NA                                             | NA                                             |   NA                                           | NA                                             |   NA                                           |    NA                                          |   NA                                           |   NA                                           |   NA                                           |   NA                                           |   NA                                           |   NA                                           |  NA                                            |  NA                                            |  NA                                            | 0                                              | 1                                              |                                                | NA                                             | biopsy_quant                                   | \n",
       "| 644 | 3966                                           | 12394                                          |    NA                                          | 2018-07-17                                     |                                                |                                                |                                                |                                                |                                                | NA                                             |                                                |                                                |                                                |    NA                                          |                                                | NA                                             | NA                                             | NA                                             | NA                                             |   NA                                           |   NA                                           |  NA                                            |   NA                                           |   NA                                           |  NA                                            | NA                                             | NA                                             | NA                                             | NA                                             | NA                                             | NA                                             |   NA                                           | NA                                             |   NA                                           |    NA                                          |   NA                                           |   NA                                           |   NA                                           |   NA                                           |   NA                                           |   NA                                           |  NA                                            |  NA                                            |  NA                                            | 0                                              | 1                                              |                                                | NA                                             | biopsy_quant                                   | \n",
       "\n",
       "\n"
      ],
      "text/plain": [
       "    b_number t_number sf_number current_scan_date current_surgery_date\n",
       "3   2901      8089     8403     6/25/10           6/30/10             \n",
       "9   2901      8089     8403     6/25/10           6/30/10             \n",
       "12  2901      8089     8403     6/25/10           6/30/10             \n",
       "29  3012      7111     8521     10/18/10          10/19/10            \n",
       "30  3207      7658     8896     9/19/11           9/20/11             \n",
       "40  2571      7444     8722     4/14/11           4/15/11             \n",
       "42  2571      7444     8722     4/14/11           4/15/11             \n",
       "43  2571      7444     8722     4/14/11           4/15/11             \n",
       "54  3012      7111     8521     10/18/10          10/19/10            \n",
       "55  2939      7527     8786     6/10/11           6/12/11             \n",
       "56  3207      7658     8896     9/19/11           9/20/11             \n",
       "78  2764      6436     8169     11/8/09           11/9/09             \n",
       "89  2764      6436     8169     11/8/09           11/9/09             \n",
       "93  2939      7527     8786     6/10/11           6/12/11             \n",
       "105 1256      7043     8488     9/13/10           9/14/10             \n",
       "108 3091      7338     8656     2/13/11           2/14/11             \n",
       "124 1487      7001     8465     8/24/10           8/25/10             \n",
       "127 2003      6925     8422     7/16/10           7/19/10             \n",
       "147 3091      7338     8656     2/13/11           2/14/11             \n",
       "176 3169      7540     8796     6/19/11           6/20/11             \n",
       "227 2712      6304     8110     8/25/09           8/26/09             \n",
       "229 3091      7338     8656     2/13/11           2/14/11             \n",
       "265 3084      7332     8653     2/10/11           2/11/11             \n",
       "266 3084      7332     8653     2/10/11           2/11/11             \n",
       "277 1814      7776     8986     12/13/11          12/14/11            \n",
       "283 1814      7776     8986     12/13/11          12/14/11            \n",
       "317 1338      8773     9727     2013-10-02        2013-10-03          \n",
       "328 3499      8869     9795     2013-12-10        2013-12-11          \n",
       "343 3537      8969       NA     2014-04-01        2014-04-02          \n",
       "375 1957      9134    10071     2014-08-12        2014-08-13          \n",
       "389 3486      9287       NA     2014-12-16        2014-12-17          \n",
       "400 3528      9408    10205     2014-12-22        2014-12-23          \n",
       "401 3528      9408    10205     2014-12-22        2014-12-23          \n",
       "414 3759      9683    10335     2015-04-27        2015-04-28          \n",
       "451 4002     10242    10697     2016-01-31        2016-02-01          \n",
       "486  971     10668    10943     2016-08-16        2016-08-17          \n",
       "599 4193     11747    11485     2017-09-28        2017-09-29          \n",
       "630 4424     12097       NA     2018-02-13                            \n",
       "635 4442     12181       NA     2018-03-26                            \n",
       "636 4462     12259       NA     2018-04-22                            \n",
       "637 2991     12320       NA     2018-05-16                            \n",
       "638 4481     12343       NA     2018-05-29                            \n",
       "639 4482     12345       NA     2018-05-29                            \n",
       "640 4484     12357       NA     2018-06-04                            \n",
       "641 4491     12377       NA     2018-06-26                            \n",
       "642 3983     12378       NA     2018-06-26                            \n",
       "643 4493     12381       NA     2018-07-08                            \n",
       "644 3966     12394       NA     2018-07-17                            \n",
       "    current_hist_grade current_hist_type roi.label tumor_cell_evaluation\n",
       "3   Grade IV           Glioblastoma      11B35     3                    \n",
       "9   Grade IV           Glioblastoma      12B35     3                    \n",
       "12  Grade IV           Glioblastoma      13B35     0                    \n",
       "29  Grade III          Oligodendroglioma 1B38      2                    \n",
       "30  Grade IV           Glioblastoma      1B45      3                    \n",
       "40  Grade IV           Glioblastoma      23B42     1                    \n",
       "42  Grade IV           Glioblastoma      24B42     2                    \n",
       "43  Grade IV           Glioblastoma      25B42     0                    \n",
       "54  Grade III          Oligodendroglioma 2B38      3                    \n",
       "55  Grade IV           Glioblastoma      2B43      3                    \n",
       "56  Grade IV           Glioblastoma      2B45      3                    \n",
       "78  Grade IV           Glioblastoma      36B29     3                    \n",
       "89  Grade IV           Glioblastoma      39B29     2                    \n",
       "93  Grade IV           Glioblastoma      3B43      0                    \n",
       "105 Grade IV           Glioblastoma      48B37     3                    \n",
       "108 Grade III          Oligodendroglioma 49B40     2                    \n",
       "124 Grade IV           Glioblastoma      53B36     2                    \n",
       "127 Grade IV           Glioblastoma      54B35     0                    \n",
       "147 Grade III          Oligodendroglioma 60B40     3                    \n",
       "176 Grade IV           Glioblastoma      6B43      2                    \n",
       "227 Grade III          Oligodendroglioma 81B27     2                    \n",
       "229 Grade III          Oligodendroglioma 81B40     2                    \n",
       "265 Grade IV           Glioblastoma      8653B1    Ind                  \n",
       "266 Grade IV           Glioblastoma      8653B2    1                    \n",
       "277 Grade IV           Glioblastoma      87B46     3                    \n",
       "283 Grade IV           Glioblastoma      88B46     0                    \n",
       "317 Grade IV           Glioblastoma      60B60     1                    \n",
       "328 Grade IV           Glioblastoma      68B60     3                    \n",
       "343 Grade III          Oligodendroglioma                                \n",
       "375 Grade III          Oligodendroglioma 15B71                          \n",
       "389 Grade IV           Glioblastoma                                     \n",
       "400 Grade III          Oligodendroglioma 54B75     1                    \n",
       "401 Grade III          Oligodendroglioma 55B75     1                    \n",
       "414 Grade III          Oligodendroglioma 33B77     3                    \n",
       "451 Grade IV           Glioblastoma      4B81      2                    \n",
       "486 Grade III          Oligodendroglioma 38B91                          \n",
       "599 Grade IV           Glioblastoma      11485-4                        \n",
       "630 Grade IV           Glioblastoma                                     \n",
       "635 Grade IV           Glioblastoma                                     \n",
       "636 Grade IV           Glioblastoma                                     \n",
       "637 Grade III          Oligodendroglioma                                \n",
       "638                                                                     \n",
       "639 Grade IV           Gliosarcoma                                      \n",
       "640                                                                     \n",
       "641                                                                     \n",
       "642                                                                     \n",
       "643                                                                     \n",
       "644                                                                     \n",
       "    necrosis f8_delicate    f8_simple      f8_complex     mib_1\n",
       "3   2        1              0              0                 NA\n",
       "9   0        1              2              0              19.00\n",
       "12  2        1              0              0                 NA\n",
       "29  0        2              0              0               0.75\n",
       "30  0        0              3              0              31.36\n",
       "40  0        3              0              0               8.38\n",
       "42  0        3              1              0              35.41\n",
       "43  0        2              0              0               0.00\n",
       "54  0        2              1              0               2.04\n",
       "55  0        3              1              0              33.84\n",
       "56  0        2              0              0               0.67\n",
       "78  0        1              2              1              33.78\n",
       "89  0        1              2              0              34.96\n",
       "93  0        2              0              0               1.55\n",
       "105 1        0              3              2              13.24\n",
       "108 0        1              2              2               3.66\n",
       "124 0        3              1              0              18.63\n",
       "127 0        2              0              0               0.00\n",
       "147 0        3              0              0               5.05\n",
       "176 0        3              0              0               0.64\n",
       "227 0        2              0              0               5.13\n",
       "229 0        3              0              0               2.70\n",
       "265 2        Indeterminable Indeterminable Indeterminable    NA\n",
       "266 0        2              1              0               9.11\n",
       "277 1        2              3              0              20.24\n",
       "283 0        2              0              0               1.89\n",
       "317 0                                                      2.01\n",
       "328 0                                                     52.39\n",
       "343 NA                                                       NA\n",
       "375 NA                                                       NA\n",
       "389 NA                                                       NA\n",
       "400 0                                                      1.63\n",
       "401 0                                                      0.90\n",
       "414 0                                                     22.13\n",
       "451 0                                                     10.89\n",
       "486 NA                                                       NA\n",
       "599 NA                                                       NA\n",
       "630 NA                                                       NA\n",
       "635 NA                                                       NA\n",
       "636 NA                                                       NA\n",
       "637 NA                                                       NA\n",
       "638 NA                                                       NA\n",
       "639 NA                                                       NA\n",
       "640 NA                                                       NA\n",
       "641 NA                                                       NA\n",
       "642 NA                                                       NA\n",
       "643 NA                                                       NA\n",
       "644 NA                                                       NA\n",
       "    bx_pure_treatment_effect nfse nfl nt1c nt1v nadc.1 nfa.1 nev1.1 nev2.1\n",
       "3   f                        NA   NA  NA   NA     NA     NA   NA      NA  \n",
       "9   f                        NA   NA  NA   NA     NA     NA   NA      NA  \n",
       "12  t                        NA   NA  NA   NA     NA     NA   NA      NA  \n",
       "29  f                        NA   NA  NA   NA     NA     NA   NA      NA  \n",
       "30  f                        NA   NA  NA   NA     NA     NA   NA      NA  \n",
       "40  f                        NA   NA  NA   NA     NA     NA   NA      NA  \n",
       "42  f                        NA   NA  NA   NA     NA     NA   NA      NA  \n",
       "43  f                        NA   NA  NA   NA     NA     NA   NA      NA  \n",
       "54  f                        NA   NA  NA   NA     NA     NA   NA      NA  \n",
       "55  f                        NA   NA  NA   NA     NA     NA   NA      NA  \n",
       "56  f                        NA   NA  NA   NA     NA     NA   NA      NA  \n",
       "78  f                        NA   NA  NA   NA     NA     NA   NA      NA  \n",
       "89  f                        NA   NA  NA   NA     NA     NA   NA      NA  \n",
       "93  f                        NA   NA  NA   NA     NA     NA   NA      NA  \n",
       "105 f                        NA   NA  NA   NA     NA     NA   NA      NA  \n",
       "108 f                        NA   NA  NA   NA     NA     NA   NA      NA  \n",
       "124 f                        NA   NA  NA   NA     NA     NA   NA      NA  \n",
       "127 f                        NA   NA  NA   NA     NA     NA   NA      NA  \n",
       "147 f                        NA   NA  NA   NA     NA     NA   NA      NA  \n",
       "176 f                        NA   NA  NA   NA     NA     NA   NA      NA  \n",
       "227 f                        NA   NA  NA   NA     NA     NA   NA      NA  \n",
       "229 f                        NA   NA  NA   NA     NA     NA   NA      NA  \n",
       "265 t                        NA   NA  NA   NA     NA     NA   NA      NA  \n",
       "266 f                        NA   NA  NA   NA     NA     NA   NA      NA  \n",
       "277 f                        NA   NA  NA   NA     NA     NA   NA      NA  \n",
       "283 f                        NA   NA  NA   NA     NA     NA   NA      NA  \n",
       "317 f                        NA   NA  NA   NA     NA     NA   NA      NA  \n",
       "328 f                        NA   NA  NA   NA     NA     NA   NA      NA  \n",
       "343                          NA   NA  NA   NA     NA     NA   NA      NA  \n",
       "375                          NA   NA  NA   NA     NA     NA   NA      NA  \n",
       "389                          NA   NA  NA   NA     NA     NA   NA      NA  \n",
       "400 f                        NA   NA  NA   NA     NA     NA   NA      NA  \n",
       "401 f                        NA   NA  NA   NA     NA     NA   NA      NA  \n",
       "414 f                        NA   NA  NA   NA     NA     NA   NA      NA  \n",
       "451 f                        NA   NA  NA   NA     NA     NA   NA      NA  \n",
       "486                          NA   NA  NA   NA   1.08   2.61  1.2    0.95  \n",
       "599                          NA   NA  NA   NA     NA     NA   NA      NA  \n",
       "630                          NA   NA  NA   NA     NA     NA   NA      NA  \n",
       "635                          NA   NA  NA   NA     NA     NA   NA      NA  \n",
       "636                          NA   NA  NA   NA     NA     NA   NA      NA  \n",
       "637                          NA   NA  NA   NA     NA     NA   NA      NA  \n",
       "638                          NA   NA  NA   NA     NA     NA   NA      NA  \n",
       "639                          NA   NA  NA   NA     NA     NA   NA      NA  \n",
       "640                          NA   NA  NA   NA     NA     NA   NA      NA  \n",
       "641                          NA   NA  NA   NA     NA     NA   NA      NA  \n",
       "642                          NA   NA  NA   NA     NA     NA   NA      NA  \n",
       "643                          NA   NA  NA   NA     NA     NA   NA      NA  \n",
       "644                          NA   NA  NA   NA     NA     NA   NA      NA  \n",
       "    nev3.1 nevrad.1 nadc.2 nfa.2 nev1.2 nev2.2 nev3.2 nevrad.2 cbvn_nlin\n",
       "3     NA    NA      NA     NA    NA     NA     NA     NA         NA     \n",
       "9     NA    NA      NA     NA    NA     NA     NA     NA         NA     \n",
       "12    NA    NA      NA     NA    NA     NA     NA     NA         NA     \n",
       "29    NA    NA      NA     NA    NA     NA     NA     NA         NA     \n",
       "30    NA    NA      NA     NA    NA     NA     NA     NA         NA     \n",
       "40    NA    NA      NA     NA    NA     NA     NA     NA         NA     \n",
       "42    NA    NA      NA     NA    NA     NA     NA     NA         NA     \n",
       "43    NA    NA      NA     NA    NA     NA     NA     NA         NA     \n",
       "54    NA    NA      NA     NA    NA     NA     NA     NA         NA     \n",
       "55    NA    NA      NA     NA    NA     NA     NA     NA         NA     \n",
       "56    NA    NA      NA     NA    NA     NA     NA     NA         NA     \n",
       "78    NA    NA      NA     NA    NA     NA     NA     NA         NA     \n",
       "89    NA    NA      NA     NA    NA     NA     NA     NA         NA     \n",
       "93    NA    NA      NA     NA    NA     NA     NA     NA         NA     \n",
       "105   NA    NA      NA     NA    NA     NA     NA     NA         NA     \n",
       "108   NA    NA      NA     NA    NA     NA     NA     NA         NA     \n",
       "124   NA    NA      NA     NA    NA     NA     NA     NA         NA     \n",
       "127   NA    NA      NA     NA    NA     NA     NA     NA         NA     \n",
       "147   NA    NA      NA     NA    NA     NA     NA     NA         NA     \n",
       "176   NA    NA      NA     NA    NA     NA     NA     NA         NA     \n",
       "227   NA    NA      NA     NA    NA     NA     NA     NA         NA     \n",
       "229   NA    NA      NA     NA    NA     NA     NA     NA         NA     \n",
       "265   NA    NA      NA     NA    NA     NA     NA     NA         NA     \n",
       "266   NA    NA      NA     NA    NA     NA     NA     NA         NA     \n",
       "277   NA    NA      NA     NA    NA     NA     NA     NA         NA     \n",
       "283   NA    NA      NA     NA    NA     NA     NA     NA         NA     \n",
       "317   NA    NA      NA     NA    NA     NA     NA     NA         NA     \n",
       "328   NA    NA      NA     NA    NA     NA     NA     NA         NA     \n",
       "343   NA    NA      NA     NA    NA     NA     NA     NA         NA     \n",
       "375   NA    NA      NA     NA    NA     NA     NA     NA         NA     \n",
       "389   NA    NA      NA     NA    NA     NA     NA     NA         NA     \n",
       "400   NA    NA      NA     NA    NA     NA     NA     NA         NA     \n",
       "401   NA    NA      NA     NA    NA     NA     NA     NA         NA     \n",
       "414   NA    NA      NA     NA    NA     NA     NA     NA         NA     \n",
       "451   NA    NA      NA     NA    NA     NA     NA     NA         NA     \n",
       "486 0.82   0.9      NA     NA    NA     NA     NA     NA       0.92     \n",
       "599   NA    NA      NA     NA    NA     NA     NA     NA         NA     \n",
       "630   NA    NA      NA     NA    NA     NA     NA     NA         NA     \n",
       "635   NA    NA      NA     NA    NA     NA     NA     NA         NA     \n",
       "636   NA    NA      NA     NA    NA     NA     NA     NA         NA     \n",
       "637   NA    NA      NA     NA    NA     NA     NA     NA         NA     \n",
       "638   NA    NA      NA     NA    NA     NA     NA     NA         NA     \n",
       "639   NA    NA      NA     NA    NA     NA     NA     NA         NA     \n",
       "640   NA    NA      NA     NA    NA     NA     NA     NA         NA     \n",
       "641   NA    NA      NA     NA    NA     NA     NA     NA         NA     \n",
       "642   NA    NA      NA     NA    NA     NA     NA     NA         NA     \n",
       "643   NA    NA      NA     NA    NA     NA     NA     NA         NA     \n",
       "644   NA    NA      NA     NA    NA     NA     NA     NA         NA     \n",
       "    phn_nlin            phn_npar recovn_npar cni  ccri crni ncho ncre nnaa nlip\n",
       "3   biopsymask-nonexist   NA        NA         NA   NA   NA   NA   NA   NA  NA \n",
       "9   biopsymask-nonexist   NA        NA         NA   NA   NA   NA   NA   NA  NA \n",
       "12  biopsymask-nonexist   NA        NA         NA   NA   NA   NA   NA   NA  NA \n",
       "29  biopsymask-nonexist   NA        NA         NA   NA   NA   NA   NA   NA  NA \n",
       "30  NA                    NA        NA         NA   NA   NA   NA   NA   NA  NA \n",
       "40  biopsymask-nonexist   NA        NA         NA   NA   NA   NA   NA   NA  NA \n",
       "42  biopsymask-nonexist   NA        NA         NA   NA   NA   NA   NA   NA  NA \n",
       "43  biopsymask-nonexist   NA        NA         NA   NA   NA   NA   NA   NA  NA \n",
       "54  biopsymask-nonexist   NA        NA         NA   NA   NA   NA   NA   NA  NA \n",
       "55  NA                    NA        NA         NA   NA   NA   NA   NA   NA  NA \n",
       "56  NA                    NA        NA         NA   NA   NA   NA   NA   NA  NA \n",
       "78  biopsymask-nonexist   NA        NA         NA   NA   NA   NA   NA   NA  NA \n",
       "89  biopsymask-nonexist   NA        NA         NA   NA   NA   NA   NA   NA  NA \n",
       "93  NA                    NA        NA         NA   NA   NA   NA   NA   NA  NA \n",
       "105 biopsymask-nonexist   NA        NA         NA   NA   NA   NA   NA   NA  NA \n",
       "108 biopsymask-nonexist   NA        NA         NA   NA   NA   NA   NA   NA  NA \n",
       "124 biopsymask-nonexist   NA        NA         NA   NA   NA   NA   NA   NA  NA \n",
       "127 biopsymask-nonexist   NA        NA         NA   NA   NA   NA   NA   NA  NA \n",
       "147 biopsymask-nonexist   NA        NA         NA   NA   NA   NA   NA   NA  NA \n",
       "176 NA                    NA        NA         NA   NA   NA   NA   NA   NA  NA \n",
       "227 biopsymask-nonexist   NA        NA         NA   NA   NA   NA   NA   NA  NA \n",
       "229 biopsymask-nonexist   NA        NA         NA   NA   NA   NA   NA   NA  NA \n",
       "265 NA                    NA        NA         NA   NA   NA   NA   NA   NA  NA \n",
       "266 NA                    NA        NA         NA   NA   NA   NA   NA   NA  NA \n",
       "277 NA                    NA        NA         NA   NA   NA   NA   NA   NA  NA \n",
       "283 NA                    NA        NA         NA   NA   NA   NA   NA   NA  NA \n",
       "317 NA                    NA        NA         NA   NA   NA   NA   NA   NA  NA \n",
       "328 NA                    NA        NA       0.00  0.0 0.00 0.00 0.00 0.00 0.0 \n",
       "343 NA                    NA        NA         NA   NA   NA   NA   NA   NA  NA \n",
       "375 NA                    NA        NA         NA   NA   NA   NA   NA   NA  NA \n",
       "389 NA                    NA        NA         NA   NA   NA   NA   NA   NA  NA \n",
       "400 NA                    NA        NA         NA   NA   NA   NA   NA   NA  NA \n",
       "401 NA                    NA        NA         NA   NA   NA   NA   NA   NA  NA \n",
       "414 NA                    NA        NA         NA   NA   NA   NA   NA   NA  NA \n",
       "451 NA                    NA        NA         NA   NA   NA   NA   NA   NA  NA \n",
       "486 NA                  1.12     80.41       0.46 -0.3 0.49 0.29 0.36 0.19 0.6 \n",
       "599 NA                    NA        NA         NA   NA   NA   NA   NA   NA  NA \n",
       "630 NA                    NA        NA         NA   NA   NA   NA   NA   NA  NA \n",
       "635 NA                    NA        NA         NA   NA   NA   NA   NA   NA  NA \n",
       "636 NA                    NA        NA         NA   NA   NA   NA   NA   NA  NA \n",
       "637 NA                    NA        NA         NA   NA   NA   NA   NA   NA  NA \n",
       "638 NA                    NA        NA         NA   NA   NA   NA   NA   NA  NA \n",
       "639 NA                    NA        NA         NA   NA   NA   NA   NA   NA  NA \n",
       "640 NA                    NA        NA         NA   NA   NA   NA   NA   NA  NA \n",
       "641 NA                    NA        NA         NA   NA   NA   NA   NA   NA  NA \n",
       "642 NA                    NA        NA         NA   NA   NA   NA   NA   NA  NA \n",
       "643 NA                    NA        NA         NA   NA   NA   NA   NA   NA  NA \n",
       "644 NA                    NA        NA         NA   NA   NA   NA   NA   NA  NA \n",
       "    laclip nlac olddata newdata comments                                      \n",
       "3    NA     NA  1       0                                                     \n",
       "9    NA     NA  1       0                                                     \n",
       "12   NA     NA  1       0                                                     \n",
       "29   NA     NA  1       0       oligo                                         \n",
       "30   NA     NA  1       0                                                     \n",
       "40   NA     NA  1       0                                                     \n",
       "42   NA     NA  1       0                                                     \n",
       "43   NA     NA  1       0                                                     \n",
       "54   NA     NA  1       0                                                     \n",
       "55   NA     NA  1       0                                                     \n",
       "56   NA     NA  1       0                                                     \n",
       "78   NA     NA  1       0       GBM; glioma 1994!                             \n",
       "89   NA     NA  1       0                                                     \n",
       "93   NA     NA  1       0       PV inflammation edge                          \n",
       "105  NA     NA  1       0       PV inflamm. Necrosis                          \n",
       "108  NA     NA  1       0       Anapl Oligo GIII, perreport 1p19q del         \n",
       "124  NA     NA  1       0                                                     \n",
       "127  NA     NA  1       0                                                     \n",
       "147  NA     NA  1       0                                                     \n",
       "176  NA     NA  1       0       focally 4.6%                                  \n",
       "227  NA     NA  1       0       Oligodendroglioma-hx GIII                     \n",
       "229  NA     NA  1       0       not as many processes                         \n",
       "265  NA     NA  1       0       necrosis 100%                                 \n",
       "266  NA     NA  1       0                                                     \n",
       "277  NA     NA  1       0                                                     \n",
       "283  NA     NA  1       0                                                     \n",
       "317  NA     NA  0       1                                                     \n",
       "328 0.0    0.0  0       1       \"POORLY DIFFERENTIATED REGION\"                \n",
       "343  NA     NA  0       1                                                     \n",
       "375  NA     NA  0       1                                                     \n",
       "389  NA     NA  0       1                                                     \n",
       "400  NA     NA  0       1                                                     \n",
       "401  NA     NA  0       1       \"P and CY appear to have XRT changes to cells\"\n",
       "414  NA     NA  0       1       \"PV tumor as well\"                            \n",
       "451  NA     NA  0       1                                                     \n",
       "486 0.6    0.6  0       1                                                     \n",
       "599  NA     NA  0       1                                                     \n",
       "630  NA     NA  0       1                                                     \n",
       "635  NA     NA  0       1                                                     \n",
       "636  NA     NA  0       1                                                     \n",
       "637  NA     NA  0       1                                                     \n",
       "638  NA     NA  0       1                                                     \n",
       "639  NA     NA  0       1                                                     \n",
       "640  NA     NA  0       1                                                     \n",
       "641  NA     NA  0       1                                                     \n",
       "642  NA     NA  0       1                                                     \n",
       "643  NA     NA  0       1                                                     \n",
       "644  NA     NA  0       1                                                     \n",
       "    notes. imaging_code\n",
       "3   NA     biopsy_quant\n",
       "9   NA     biopsy_quant\n",
       "12  NA     biopsy_quant\n",
       "29  NA     biopsy_quant\n",
       "30  NA     biopsy_quant\n",
       "40  NA     biopsy_quant\n",
       "42  NA     biopsy_quant\n",
       "43  NA     biopsy_quant\n",
       "54  NA     biopsy_quant\n",
       "55  NA     biopsy_quant\n",
       "56  NA     biopsy_quant\n",
       "78  NA     biopsy_quant\n",
       "89  NA     biopsy_quant\n",
       "93  NA     biopsy_quant\n",
       "105 NA     biopsy_quant\n",
       "108 NA     biopsy_quant\n",
       "124 NA     biopsy_quant\n",
       "127 NA     biopsy_quant\n",
       "147 NA     biopsy_quant\n",
       "176 NA     biopsy_quant\n",
       "227 NA     biopsy_quant\n",
       "229 NA     biopsy_quant\n",
       "265 NA     biopsy_quant\n",
       "266 NA     biopsy_quant\n",
       "277 NA     biopsy_quant\n",
       "283 NA     biopsy_quant\n",
       "317 NA     biopsy_quant\n",
       "328 NA     biopsy_quant\n",
       "343 NA     biopsy_quant\n",
       "375 NA     biopsy_quant\n",
       "389 NA     biopsy_quant\n",
       "400 NA     biopsy_quant\n",
       "401 NA     biopsy_quant\n",
       "414 NA     biopsy_quant\n",
       "451 NA     biopsy_quant\n",
       "486 NA     biopsy_quant\n",
       "599 NA     biopsy_quant\n",
       "630 NA     biopsy_quant\n",
       "635 NA     biopsy_quant\n",
       "636 NA     biopsy_quant\n",
       "637 NA     biopsy_quant\n",
       "638 NA     biopsy_quant\n",
       "639 NA     biopsy_quant\n",
       "640 NA     biopsy_quant\n",
       "641 NA     biopsy_quant\n",
       "642 NA     biopsy_quant\n",
       "643 NA     biopsy_quant\n",
       "644 NA     biopsy_quant"
      ]
     },
     "metadata": {},
     "output_type": "display_data"
    }
   ],
   "source": [
    "all_recgli$imaging_code[is.na(all_recgli$imaging_code) & is.na(all_recgli$nfse) ]=\"biopsy_quant\"\n",
    "table(all_recgli$imaging_code)\n",
    "table(is.na(all_recgli$nfse))\n",
    "all_recgli[which(all_recgli$imaging_code == \"biopsy_quant\"),]"
   ]
  },
  {
   "cell_type": "code",
   "execution_count": 28,
   "metadata": {
    "collapsed": false,
    "deletable": true,
    "editable": true
   },
   "outputs": [],
   "source": [
    "write.csv(all_recgli, \"3rdAnnot_researchPath_withInVivo.csv\", row.names = F)"
   ]
  },
  {
   "cell_type": "markdown",
   "metadata": {
    "deletable": true,
    "editable": true
   },
   "source": [
    "## 4. Substitution of 0's for NA's, Annotate those substitutions, find where quant failed for perf"
   ]
  },
  {
   "cell_type": "markdown",
   "metadata": {
    "deletable": true,
    "editable": true
   },
   "source": [
    "Since 0's mess up averages of different things, and they result from not properly quantitating the imaging parameters, we must eliminate them. However, these are indications of improper biopsy_quant problems, so we must annotate those before labeling them as NA. "
   ]
  },
  {
   "cell_type": "code",
   "execution_count": 29,
   "metadata": {
    "collapsed": true,
    "deletable": true,
    "editable": true
   },
   "outputs": [],
   "source": [
    "recgli = read.csv(\"3rdAnnot_researchPath_withInVivo.csv\")"
   ]
  },
  {
   "cell_type": "markdown",
   "metadata": {
    "deletable": true,
    "editable": true
   },
   "source": [
    "Perfusion: "
   ]
  },
  {
   "cell_type": "code",
   "execution_count": 30,
   "metadata": {
    "collapsed": false,
    "deletable": true,
    "editable": true
   },
   "outputs": [],
   "source": [
    "recgli = data.frame(recgli, perf_quant = recgli$phn_nlin)"
   ]
  },
  {
   "cell_type": "code",
   "execution_count": 31,
   "metadata": {
    "collapsed": false,
    "deletable": true,
    "editable": true
   },
   "outputs": [
    {
     "data": {
      "text/html": [
       "<ol class=list-inline>\n",
       "\t<li>644</li>\n",
       "\t<li>50</li>\n",
       "</ol>\n"
      ],
      "text/latex": [
       "\\begin{enumerate*}\n",
       "\\item 644\n",
       "\\item 50\n",
       "\\end{enumerate*}\n"
      ],
      "text/markdown": [
       "1. 644\n",
       "2. 50\n",
       "\n",
       "\n"
      ],
      "text/plain": [
       "[1] 644  50"
      ]
     },
     "metadata": {},
     "output_type": "display_data"
    }
   ],
   "source": [
    "dim(recgli)"
   ]
  },
  {
   "cell_type": "code",
   "execution_count": 32,
   "metadata": {
    "collapsed": true,
    "deletable": true,
    "editable": true
   },
   "outputs": [],
   "source": [
    "recgli$perf_quant = gsub(\"[[:digit:]]\", \"\", as.character(recgli$perf_quant))\n",
    "recgli$perf_quant = gsub(\"^.$\", \"\", as.character(recgli$perf_quant))"
   ]
  },
  {
   "cell_type": "code",
   "execution_count": 33,
   "metadata": {
    "collapsed": false,
    "deletable": true,
    "editable": true
   },
   "outputs": [
    {
     "data": {
      "text/plain": [
       "\n",
       "                        biopsymask-nonexist   perf_align-nonexist \n",
       "                  314                    30                    30 \n",
       "    PERF_BIOPSY_ISSUE t_B_outside_perfusion \n",
       "                    2                     9 "
      ]
     },
     "metadata": {},
     "output_type": "display_data"
    }
   ],
   "source": [
    "table(recgli$perf_quant)"
   ]
  },
  {
   "cell_type": "code",
   "execution_count": 34,
   "metadata": {
    "collapsed": true,
    "deletable": true,
    "editable": true
   },
   "outputs": [],
   "source": [
    "library(stringr)"
   ]
  },
  {
   "cell_type": "code",
   "execution_count": 35,
   "metadata": {
    "collapsed": false,
    "deletable": true,
    "editable": true
   },
   "outputs": [],
   "source": [
    "recgli$phn_nlin = recgli$phn_nlin %>% str_replace_all(\"_\", \"\") %>% str_replace_all(\"-\", \"\") %>% str_replace_all(\"[:alpha:]\", \"\")"
   ]
  },
  {
   "cell_type": "code",
   "execution_count": 36,
   "metadata": {
    "collapsed": false,
    "deletable": true,
    "editable": true
   },
   "outputs": [],
   "source": [
    "recgli$phn_nlin = as.numeric(recgli$phn_nlin)\n",
    "recgli$phn_nlin = ifelse(recgli$phn_nlin > 100000, NA, recgli$phn_nlin)"
   ]
  },
  {
   "cell_type": "code",
   "execution_count": 37,
   "metadata": {
    "collapsed": false,
    "deletable": true,
    "editable": true
   },
   "outputs": [
    {
     "data": {
      "text/plain": [
       "\n",
       "                        biopsymask-nonexist   perf_align-nonexist \n",
       "                  314                    30                    30 \n",
       "    PERF_BIOPSY_ISSUE t_B_outside_perfusion \n",
       "                    2                     9 "
      ]
     },
     "metadata": {},
     "output_type": "display_data"
    }
   ],
   "source": [
    "table(recgli$perf_quant)"
   ]
  },
  {
   "cell_type": "code",
   "execution_count": 38,
   "metadata": {
    "collapsed": false,
    "deletable": true,
    "editable": true
   },
   "outputs": [],
   "source": [
    "## here we're labeling perf_quant = 1 for those that have all zeros \n",
    "recgli$perf_quant[which(recgli$cbvn_nlin==0 &\n",
    "                      recgli$phn_npar==0 & recgli$recovn_npar==0)] = \"all_zeros\""
   ]
  },
  {
   "cell_type": "code",
   "execution_count": 39,
   "metadata": {
    "collapsed": false,
    "deletable": true,
    "editable": true
   },
   "outputs": [
    {
     "data": {
      "text/plain": [
       "\n",
       "                                  all_zeros   biopsymask-nonexist \n",
       "                  269                    45                    30 \n",
       "  perf_align-nonexist     PERF_BIOPSY_ISSUE t_B_outside_perfusion \n",
       "                   30                     2                     9 "
      ]
     },
     "metadata": {},
     "output_type": "display_data"
    }
   ],
   "source": [
    "table(recgli$perf_quant)"
   ]
  },
  {
   "cell_type": "code",
   "execution_count": 40,
   "metadata": {
    "collapsed": true,
    "deletable": true,
    "editable": true
   },
   "outputs": [],
   "source": [
    "## we also want to label perf_quant =1 if there is an extreme value: \n",
    "recgli$perf_quant[which(recgli$cbvn_nlin > 20)]=\"extreme_value\"\n",
    "recgli$perf_quant[which(recgli$phn_npar > 20)]=\"extreme_value\""
   ]
  },
  {
   "cell_type": "code",
   "execution_count": 41,
   "metadata": {
    "collapsed": false,
    "deletable": true,
    "editable": true
   },
   "outputs": [],
   "source": [
    "recgli$perf_quant[is.na(recgli$perf_quant)]=\"noPerf_or_makePerfIssue\""
   ]
  },
  {
   "cell_type": "code",
   "execution_count": 42,
   "metadata": {
    "collapsed": false,
    "deletable": true,
    "editable": true
   },
   "outputs": [
    {
     "data": {
      "text/plain": [
       "\n",
       "                                      all_zeros     biopsymask-nonexist \n",
       "                    269                      45                      30 \n",
       "          extreme_value noPerf_or_makePerfIssue     perf_align-nonexist \n",
       "                      1                     258                      30 \n",
       "      PERF_BIOPSY_ISSUE   t_B_outside_perfusion \n",
       "                      2                       9 "
      ]
     },
     "metadata": {},
     "output_type": "display_data"
    }
   ],
   "source": [
    "table(recgli$perf_quant)"
   ]
  },
  {
   "cell_type": "code",
   "execution_count": 43,
   "metadata": {
    "collapsed": false,
    "deletable": true,
    "editable": true
   },
   "outputs": [
    {
     "data": {
      "text/html": [
       "<ol class=list-inline>\n",
       "\t<li>'b_number'</li>\n",
       "\t<li>'t_number'</li>\n",
       "\t<li>'sf_number'</li>\n",
       "\t<li>'current_scan_date'</li>\n",
       "\t<li>'current_surgery_date'</li>\n",
       "\t<li>'current_hist_grade'</li>\n",
       "\t<li>'current_hist_type'</li>\n",
       "\t<li>'roi.label'</li>\n",
       "\t<li>'tumor_cell_evaluation'</li>\n",
       "\t<li>'necrosis'</li>\n",
       "\t<li>'f8_delicate'</li>\n",
       "\t<li>'f8_simple'</li>\n",
       "\t<li>'f8_complex'</li>\n",
       "\t<li>'mib_1'</li>\n",
       "\t<li>'bx_pure_treatment_effect'</li>\n",
       "\t<li>'nfse'</li>\n",
       "\t<li>'nfl'</li>\n",
       "\t<li>'nt1c'</li>\n",
       "\t<li>'nt1v'</li>\n",
       "\t<li>'nadc.1'</li>\n",
       "\t<li>'nfa.1'</li>\n",
       "\t<li>'nev1.1'</li>\n",
       "\t<li>'nev2.1'</li>\n",
       "\t<li>'nev3.1'</li>\n",
       "\t<li>'nevrad.1'</li>\n",
       "\t<li>'nadc.2'</li>\n",
       "\t<li>'nfa.2'</li>\n",
       "\t<li>'nev1.2'</li>\n",
       "\t<li>'nev2.2'</li>\n",
       "\t<li>'nev3.2'</li>\n",
       "\t<li>'nevrad.2'</li>\n",
       "\t<li>'cbvn_nlin'</li>\n",
       "\t<li>'phn_nlin'</li>\n",
       "\t<li>'phn_npar'</li>\n",
       "\t<li>'recovn_npar'</li>\n",
       "\t<li>'cni'</li>\n",
       "\t<li>'ccri'</li>\n",
       "\t<li>'crni'</li>\n",
       "\t<li>'ncho'</li>\n",
       "\t<li>'ncre'</li>\n",
       "\t<li>'nnaa'</li>\n",
       "\t<li>'nlip'</li>\n",
       "\t<li>'laclip'</li>\n",
       "\t<li>'nlac'</li>\n",
       "\t<li>'olddata'</li>\n",
       "\t<li>'newdata'</li>\n",
       "\t<li>'comments'</li>\n",
       "\t<li>'notes.'</li>\n",
       "\t<li>'imaging_code'</li>\n",
       "\t<li>'perf_quant'</li>\n",
       "</ol>\n"
      ],
      "text/latex": [
       "\\begin{enumerate*}\n",
       "\\item 'b\\_number'\n",
       "\\item 't\\_number'\n",
       "\\item 'sf\\_number'\n",
       "\\item 'current\\_scan\\_date'\n",
       "\\item 'current\\_surgery\\_date'\n",
       "\\item 'current\\_hist\\_grade'\n",
       "\\item 'current\\_hist\\_type'\n",
       "\\item 'roi.label'\n",
       "\\item 'tumor\\_cell\\_evaluation'\n",
       "\\item 'necrosis'\n",
       "\\item 'f8\\_delicate'\n",
       "\\item 'f8\\_simple'\n",
       "\\item 'f8\\_complex'\n",
       "\\item 'mib\\_1'\n",
       "\\item 'bx\\_pure\\_treatment\\_effect'\n",
       "\\item 'nfse'\n",
       "\\item 'nfl'\n",
       "\\item 'nt1c'\n",
       "\\item 'nt1v'\n",
       "\\item 'nadc.1'\n",
       "\\item 'nfa.1'\n",
       "\\item 'nev1.1'\n",
       "\\item 'nev2.1'\n",
       "\\item 'nev3.1'\n",
       "\\item 'nevrad.1'\n",
       "\\item 'nadc.2'\n",
       "\\item 'nfa.2'\n",
       "\\item 'nev1.2'\n",
       "\\item 'nev2.2'\n",
       "\\item 'nev3.2'\n",
       "\\item 'nevrad.2'\n",
       "\\item 'cbvn\\_nlin'\n",
       "\\item 'phn\\_nlin'\n",
       "\\item 'phn\\_npar'\n",
       "\\item 'recovn\\_npar'\n",
       "\\item 'cni'\n",
       "\\item 'ccri'\n",
       "\\item 'crni'\n",
       "\\item 'ncho'\n",
       "\\item 'ncre'\n",
       "\\item 'nnaa'\n",
       "\\item 'nlip'\n",
       "\\item 'laclip'\n",
       "\\item 'nlac'\n",
       "\\item 'olddata'\n",
       "\\item 'newdata'\n",
       "\\item 'comments'\n",
       "\\item 'notes.'\n",
       "\\item 'imaging\\_code'\n",
       "\\item 'perf\\_quant'\n",
       "\\end{enumerate*}\n"
      ],
      "text/markdown": [
       "1. 'b_number'\n",
       "2. 't_number'\n",
       "3. 'sf_number'\n",
       "4. 'current_scan_date'\n",
       "5. 'current_surgery_date'\n",
       "6. 'current_hist_grade'\n",
       "7. 'current_hist_type'\n",
       "8. 'roi.label'\n",
       "9. 'tumor_cell_evaluation'\n",
       "10. 'necrosis'\n",
       "11. 'f8_delicate'\n",
       "12. 'f8_simple'\n",
       "13. 'f8_complex'\n",
       "14. 'mib_1'\n",
       "15. 'bx_pure_treatment_effect'\n",
       "16. 'nfse'\n",
       "17. 'nfl'\n",
       "18. 'nt1c'\n",
       "19. 'nt1v'\n",
       "20. 'nadc.1'\n",
       "21. 'nfa.1'\n",
       "22. 'nev1.1'\n",
       "23. 'nev2.1'\n",
       "24. 'nev3.1'\n",
       "25. 'nevrad.1'\n",
       "26. 'nadc.2'\n",
       "27. 'nfa.2'\n",
       "28. 'nev1.2'\n",
       "29. 'nev2.2'\n",
       "30. 'nev3.2'\n",
       "31. 'nevrad.2'\n",
       "32. 'cbvn_nlin'\n",
       "33. 'phn_nlin'\n",
       "34. 'phn_npar'\n",
       "35. 'recovn_npar'\n",
       "36. 'cni'\n",
       "37. 'ccri'\n",
       "38. 'crni'\n",
       "39. 'ncho'\n",
       "40. 'ncre'\n",
       "41. 'nnaa'\n",
       "42. 'nlip'\n",
       "43. 'laclip'\n",
       "44. 'nlac'\n",
       "45. 'olddata'\n",
       "46. 'newdata'\n",
       "47. 'comments'\n",
       "48. 'notes.'\n",
       "49. 'imaging_code'\n",
       "50. 'perf_quant'\n",
       "\n",
       "\n"
      ],
      "text/plain": [
       " [1] \"b_number\"                 \"t_number\"                \n",
       " [3] \"sf_number\"                \"current_scan_date\"       \n",
       " [5] \"current_surgery_date\"     \"current_hist_grade\"      \n",
       " [7] \"current_hist_type\"        \"roi.label\"               \n",
       " [9] \"tumor_cell_evaluation\"    \"necrosis\"                \n",
       "[11] \"f8_delicate\"              \"f8_simple\"               \n",
       "[13] \"f8_complex\"               \"mib_1\"                   \n",
       "[15] \"bx_pure_treatment_effect\" \"nfse\"                    \n",
       "[17] \"nfl\"                      \"nt1c\"                    \n",
       "[19] \"nt1v\"                     \"nadc.1\"                  \n",
       "[21] \"nfa.1\"                    \"nev1.1\"                  \n",
       "[23] \"nev2.1\"                   \"nev3.1\"                  \n",
       "[25] \"nevrad.1\"                 \"nadc.2\"                  \n",
       "[27] \"nfa.2\"                    \"nev1.2\"                  \n",
       "[29] \"nev2.2\"                   \"nev3.2\"                  \n",
       "[31] \"nevrad.2\"                 \"cbvn_nlin\"               \n",
       "[33] \"phn_nlin\"                 \"phn_npar\"                \n",
       "[35] \"recovn_npar\"              \"cni\"                     \n",
       "[37] \"ccri\"                     \"crni\"                    \n",
       "[39] \"ncho\"                     \"ncre\"                    \n",
       "[41] \"nnaa\"                     \"nlip\"                    \n",
       "[43] \"laclip\"                   \"nlac\"                    \n",
       "[45] \"olddata\"                  \"newdata\"                 \n",
       "[47] \"comments\"                 \"notes.\"                  \n",
       "[49] \"imaging_code\"             \"perf_quant\"              "
      ]
     },
     "metadata": {},
     "output_type": "display_data"
    }
   ],
   "source": [
    "## Now we want to substitute zero's for NAs where perf_quant has string value: \n",
    "colnames(recgli)"
   ]
  },
  {
   "cell_type": "code",
   "execution_count": 44,
   "metadata": {
    "collapsed": false,
    "deletable": true,
    "editable": true
   },
   "outputs": [],
   "source": [
    "recgli$cbv_nlin[grep(\"[[:alpha:]]\", recgli$perf_quant)]=NA \n",
    "recgli$phn_nlin[grep(\"[[:alpha:]]\", recgli$perf_quant)]=NA \n",
    "recgli$phn_npar[grep(\"[[:alpha:]]\", recgli$perf_quant)]=NA \n",
    "recgli$recovn_npar[grep(\"[[:alpha:]]\", recgli$perf_quant)]=NA "
   ]
  },
  {
   "cell_type": "markdown",
   "metadata": {
    "collapsed": true,
    "deletable": true,
    "editable": true
   },
   "source": [
    "Spectroscopy: "
   ]
  },
  {
   "cell_type": "code",
   "execution_count": 45,
   "metadata": {
    "collapsed": true,
    "deletable": true,
    "editable": true
   },
   "outputs": [],
   "source": [
    "recgli = data.frame(recgli, spec_quant = NA)"
   ]
  },
  {
   "cell_type": "code",
   "execution_count": 46,
   "metadata": {
    "collapsed": false,
    "deletable": true,
    "editable": true
   },
   "outputs": [
    {
     "data": {
      "text/plain": [
       "\n",
       "  0   1 \n",
       "260  44 "
      ]
     },
     "metadata": {},
     "output_type": "display_data"
    },
    {
     "data": {
      "text/plain": [
       "\n",
       "FALSE  TRUE \n",
       "  304   340 "
      ]
     },
     "metadata": {},
     "output_type": "display_data"
    }
   ],
   "source": [
    "## here we're labeling perf_quant = 1 for those that have all zeros \n",
    "recgli$spec_quant = ifelse(recgli$cni==0 &\n",
    "                      recgli$ccri==0 & recgli$nnaa==0 & \n",
    "                           recgli$ncho ==0 & recgli$ncre ==0, 1,0)\n",
    "table(recgli$spec_quant)\n",
    "table(is.na(recgli$spec_quant))"
   ]
  },
  {
   "cell_type": "code",
   "execution_count": 47,
   "metadata": {
    "collapsed": true,
    "deletable": true,
    "editable": true
   },
   "outputs": [],
   "source": [
    "recgli$cni[which(recgli$spec_quant==1)]=NA\n",
    "recgli$ccri[which(recgli$spec_quant==1)]=NA\n",
    "recgli$crni[which(recgli$spec_quant==1)]=NA\n",
    "recgli$ncho[which(recgli$spec_quant==1)]=NA\n",
    "recgli$ncre[which(recgli$spec_quant==1)]=NA\n",
    "recgli$nnaa[which(recgli$spec_quant==1)]=NA\n",
    "recgli$nlac[which(recgli$spec_quant==1)]=NA\n",
    "recgli$nlip[which(recgli$spec_quant==1)]=NA\n",
    "recgli$laclip[which(recgli$spec_quant==1)]=NA"
   ]
  },
  {
   "cell_type": "code",
   "execution_count": 48,
   "metadata": {
    "collapsed": true,
    "deletable": true,
    "editable": true
   },
   "outputs": [],
   "source": [
    "## We also want to know - how many of these had all biopsies fail per patient, \n",
    "## versus how many have individual biopsies that fail next to biopsies whose quantification succeeded? \n",
    "\n",
    "## NOTE: Follow up with this later. "
   ]
  },
  {
   "cell_type": "code",
   "execution_count": 49,
   "metadata": {
    "collapsed": true,
    "deletable": true,
    "editable": true
   },
   "outputs": [],
   "source": [
    "write.csv(recgli, file = \"4thAnnot_researchPath_withInVivo.csv\", row.names=F)"
   ]
  },
  {
   "cell_type": "code",
   "execution_count": 50,
   "metadata": {
    "collapsed": false,
    "deletable": true,
    "editable": true
   },
   "outputs": [
    {
     "data": {
      "text/html": [
       "<table>\n",
       "<thead><tr><th scope=col>index</th><th scope=col>colnames</th></tr></thead>\n",
       "<tbody>\n",
       "\t<tr><td> 1                      </td><td>b_number                </td></tr>\n",
       "\t<tr><td> 2                      </td><td>t_number                </td></tr>\n",
       "\t<tr><td> 3                      </td><td>sf_number               </td></tr>\n",
       "\t<tr><td> 4                      </td><td>current_scan_date       </td></tr>\n",
       "\t<tr><td> 5                      </td><td>current_surgery_date    </td></tr>\n",
       "\t<tr><td> 6                      </td><td>current_hist_grade      </td></tr>\n",
       "\t<tr><td> 7                      </td><td>current_hist_type       </td></tr>\n",
       "\t<tr><td> 8                      </td><td>roi.label               </td></tr>\n",
       "\t<tr><td> 9                      </td><td>tumor_cell_evaluation   </td></tr>\n",
       "\t<tr><td>10                      </td><td>necrosis                </td></tr>\n",
       "\t<tr><td>11                      </td><td>f8_delicate             </td></tr>\n",
       "\t<tr><td>12                      </td><td>f8_simple               </td></tr>\n",
       "\t<tr><td>13                      </td><td>f8_complex              </td></tr>\n",
       "\t<tr><td>14                      </td><td>mib_1                   </td></tr>\n",
       "\t<tr><td>15                      </td><td>bx_pure_treatment_effect</td></tr>\n",
       "\t<tr><td>16                      </td><td>nfse                    </td></tr>\n",
       "\t<tr><td>17                      </td><td>nfl                     </td></tr>\n",
       "\t<tr><td>18                      </td><td>nt1c                    </td></tr>\n",
       "\t<tr><td>19                      </td><td>nt1v                    </td></tr>\n",
       "\t<tr><td>20                      </td><td>nadc.1                  </td></tr>\n",
       "\t<tr><td>21                      </td><td>nfa.1                   </td></tr>\n",
       "\t<tr><td>22                      </td><td>nev1.1                  </td></tr>\n",
       "\t<tr><td>23                      </td><td>nev2.1                  </td></tr>\n",
       "\t<tr><td>24                      </td><td>nev3.1                  </td></tr>\n",
       "\t<tr><td>25                      </td><td>nevrad.1                </td></tr>\n",
       "\t<tr><td>26                      </td><td>nadc.2                  </td></tr>\n",
       "\t<tr><td>27                      </td><td>nfa.2                   </td></tr>\n",
       "\t<tr><td>28                      </td><td>nev1.2                  </td></tr>\n",
       "\t<tr><td>29                      </td><td>nev2.2                  </td></tr>\n",
       "\t<tr><td>30                      </td><td>nev3.2                  </td></tr>\n",
       "\t<tr><td>31                      </td><td>nevrad.2                </td></tr>\n",
       "\t<tr><td>32                      </td><td>cbvn_nlin               </td></tr>\n",
       "\t<tr><td>33                      </td><td>phn_nlin                </td></tr>\n",
       "\t<tr><td>34                      </td><td>phn_npar                </td></tr>\n",
       "\t<tr><td>35                      </td><td>recovn_npar             </td></tr>\n",
       "\t<tr><td>36                      </td><td>cni                     </td></tr>\n",
       "\t<tr><td>37                      </td><td>ccri                    </td></tr>\n",
       "\t<tr><td>38                      </td><td>crni                    </td></tr>\n",
       "\t<tr><td>39                      </td><td>ncho                    </td></tr>\n",
       "\t<tr><td>40                      </td><td>ncre                    </td></tr>\n",
       "\t<tr><td>41                      </td><td>nnaa                    </td></tr>\n",
       "\t<tr><td>42                      </td><td>nlip                    </td></tr>\n",
       "\t<tr><td>43                      </td><td>laclip                  </td></tr>\n",
       "\t<tr><td>44                      </td><td>nlac                    </td></tr>\n",
       "\t<tr><td>45                      </td><td>olddata                 </td></tr>\n",
       "\t<tr><td>46                      </td><td>newdata                 </td></tr>\n",
       "\t<tr><td>47                      </td><td>comments                </td></tr>\n",
       "\t<tr><td>48                      </td><td>notes.                  </td></tr>\n",
       "\t<tr><td>49                      </td><td>imaging_code            </td></tr>\n",
       "\t<tr><td>50                      </td><td>perf_quant              </td></tr>\n",
       "\t<tr><td>51                      </td><td>cbv_nlin                </td></tr>\n",
       "\t<tr><td>52                      </td><td>spec_quant              </td></tr>\n",
       "</tbody>\n",
       "</table>\n"
      ],
      "text/latex": [
       "\\begin{tabular}{r|ll}\n",
       " index & colnames\\\\\n",
       "\\hline\n",
       "\t  1                         & b\\_number                \\\\\n",
       "\t  2                         & t\\_number                \\\\\n",
       "\t  3                         & sf\\_number               \\\\\n",
       "\t  4                           & current\\_scan\\_date       \\\\\n",
       "\t  5                           & current\\_surgery\\_date    \\\\\n",
       "\t  6                           & current\\_hist\\_grade      \\\\\n",
       "\t  7                           & current\\_hist\\_type       \\\\\n",
       "\t  8                       & roi.label               \\\\\n",
       "\t  9                           & tumor\\_cell\\_evaluation   \\\\\n",
       "\t 10                       & necrosis                \\\\\n",
       "\t 11                         & f8\\_delicate             \\\\\n",
       "\t 12                         & f8\\_simple               \\\\\n",
       "\t 13                         & f8\\_complex              \\\\\n",
       "\t 14                         & mib\\_1                   \\\\\n",
       "\t 15                             & bx\\_pure\\_treatment\\_effect\\\\\n",
       "\t 16                       & nfse                    \\\\\n",
       "\t 17                       & nfl                     \\\\\n",
       "\t 18                       & nt1c                    \\\\\n",
       "\t 19                       & nt1v                    \\\\\n",
       "\t 20                       & nadc.1                  \\\\\n",
       "\t 21                       & nfa.1                   \\\\\n",
       "\t 22                       & nev1.1                  \\\\\n",
       "\t 23                       & nev2.1                  \\\\\n",
       "\t 24                       & nev3.1                  \\\\\n",
       "\t 25                       & nevrad.1                \\\\\n",
       "\t 26                       & nadc.2                  \\\\\n",
       "\t 27                       & nfa.2                   \\\\\n",
       "\t 28                       & nev1.2                  \\\\\n",
       "\t 29                       & nev2.2                  \\\\\n",
       "\t 30                       & nev3.2                  \\\\\n",
       "\t 31                       & nevrad.2                \\\\\n",
       "\t 32                         & cbvn\\_nlin               \\\\\n",
       "\t 33                         & phn\\_nlin                \\\\\n",
       "\t 34                         & phn\\_npar                \\\\\n",
       "\t 35                         & recovn\\_npar             \\\\\n",
       "\t 36                       & cni                     \\\\\n",
       "\t 37                       & ccri                    \\\\\n",
       "\t 38                       & crni                    \\\\\n",
       "\t 39                       & ncho                    \\\\\n",
       "\t 40                       & ncre                    \\\\\n",
       "\t 41                       & nnaa                    \\\\\n",
       "\t 42                       & nlip                    \\\\\n",
       "\t 43                       & laclip                  \\\\\n",
       "\t 44                       & nlac                    \\\\\n",
       "\t 45                       & olddata                 \\\\\n",
       "\t 46                       & newdata                 \\\\\n",
       "\t 47                       & comments                \\\\\n",
       "\t 48                       & notes.                  \\\\\n",
       "\t 49                         & imaging\\_code            \\\\\n",
       "\t 50                         & perf\\_quant              \\\\\n",
       "\t 51                         & cbv\\_nlin                \\\\\n",
       "\t 52                         & spec\\_quant              \\\\\n",
       "\\end{tabular}\n"
      ],
      "text/markdown": [
       "\n",
       "index | colnames | \n",
       "|---|---|---|---|---|---|---|---|---|---|---|---|---|---|---|---|---|---|---|---|---|---|---|---|---|---|---|---|---|---|---|---|---|---|---|---|---|---|---|---|---|---|---|---|---|---|---|---|---|---|---|---|\n",
       "|  1                       | b_number                 | \n",
       "|  2                       | t_number                 | \n",
       "|  3                       | sf_number                | \n",
       "|  4                       | current_scan_date        | \n",
       "|  5                       | current_surgery_date     | \n",
       "|  6                       | current_hist_grade       | \n",
       "|  7                       | current_hist_type        | \n",
       "|  8                       | roi.label                | \n",
       "|  9                       | tumor_cell_evaluation    | \n",
       "| 10                       | necrosis                 | \n",
       "| 11                       | f8_delicate              | \n",
       "| 12                       | f8_simple                | \n",
       "| 13                       | f8_complex               | \n",
       "| 14                       | mib_1                    | \n",
       "| 15                       | bx_pure_treatment_effect | \n",
       "| 16                       | nfse                     | \n",
       "| 17                       | nfl                      | \n",
       "| 18                       | nt1c                     | \n",
       "| 19                       | nt1v                     | \n",
       "| 20                       | nadc.1                   | \n",
       "| 21                       | nfa.1                    | \n",
       "| 22                       | nev1.1                   | \n",
       "| 23                       | nev2.1                   | \n",
       "| 24                       | nev3.1                   | \n",
       "| 25                       | nevrad.1                 | \n",
       "| 26                       | nadc.2                   | \n",
       "| 27                       | nfa.2                    | \n",
       "| 28                       | nev1.2                   | \n",
       "| 29                       | nev2.2                   | \n",
       "| 30                       | nev3.2                   | \n",
       "| 31                       | nevrad.2                 | \n",
       "| 32                       | cbvn_nlin                | \n",
       "| 33                       | phn_nlin                 | \n",
       "| 34                       | phn_npar                 | \n",
       "| 35                       | recovn_npar              | \n",
       "| 36                       | cni                      | \n",
       "| 37                       | ccri                     | \n",
       "| 38                       | crni                     | \n",
       "| 39                       | ncho                     | \n",
       "| 40                       | ncre                     | \n",
       "| 41                       | nnaa                     | \n",
       "| 42                       | nlip                     | \n",
       "| 43                       | laclip                   | \n",
       "| 44                       | nlac                     | \n",
       "| 45                       | olddata                  | \n",
       "| 46                       | newdata                  | \n",
       "| 47                       | comments                 | \n",
       "| 48                       | notes.                   | \n",
       "| 49                       | imaging_code             | \n",
       "| 50                       | perf_quant               | \n",
       "| 51                       | cbv_nlin                 | \n",
       "| 52                       | spec_quant               | \n",
       "\n",
       "\n"
      ],
      "text/plain": [
       "   index colnames                \n",
       "1   1    b_number                \n",
       "2   2    t_number                \n",
       "3   3    sf_number               \n",
       "4   4    current_scan_date       \n",
       "5   5    current_surgery_date    \n",
       "6   6    current_hist_grade      \n",
       "7   7    current_hist_type       \n",
       "8   8    roi.label               \n",
       "9   9    tumor_cell_evaluation   \n",
       "10 10    necrosis                \n",
       "11 11    f8_delicate             \n",
       "12 12    f8_simple               \n",
       "13 13    f8_complex              \n",
       "14 14    mib_1                   \n",
       "15 15    bx_pure_treatment_effect\n",
       "16 16    nfse                    \n",
       "17 17    nfl                     \n",
       "18 18    nt1c                    \n",
       "19 19    nt1v                    \n",
       "20 20    nadc.1                  \n",
       "21 21    nfa.1                   \n",
       "22 22    nev1.1                  \n",
       "23 23    nev2.1                  \n",
       "24 24    nev3.1                  \n",
       "25 25    nevrad.1                \n",
       "26 26    nadc.2                  \n",
       "27 27    nfa.2                   \n",
       "28 28    nev1.2                  \n",
       "29 29    nev2.2                  \n",
       "30 30    nev3.2                  \n",
       "31 31    nevrad.2                \n",
       "32 32    cbvn_nlin               \n",
       "33 33    phn_nlin                \n",
       "34 34    phn_npar                \n",
       "35 35    recovn_npar             \n",
       "36 36    cni                     \n",
       "37 37    ccri                    \n",
       "38 38    crni                    \n",
       "39 39    ncho                    \n",
       "40 40    ncre                    \n",
       "41 41    nnaa                    \n",
       "42 42    nlip                    \n",
       "43 43    laclip                  \n",
       "44 44    nlac                    \n",
       "45 45    olddata                 \n",
       "46 46    newdata                 \n",
       "47 47    comments                \n",
       "48 48    notes.                  \n",
       "49 49    imaging_code            \n",
       "50 50    perf_quant              \n",
       "51 51    cbv_nlin                \n",
       "52 52    spec_quant              "
      ]
     },
     "metadata": {},
     "output_type": "display_data"
    }
   ],
   "source": [
    "data.frame(index = 1:length(colnames(recgli)), colnames = colnames(recgli))"
   ]
  },
  {
   "cell_type": "code",
   "execution_count": 51,
   "metadata": {
    "collapsed": true,
    "deletable": true,
    "editable": true
   },
   "outputs": [],
   "source": [
    "## Janine requests to know where perf quantification failed. Let's write that out for her: \n",
    "write.csv(recgli[which(recgli$perf_quant>0),c(1, 2, 3, 8, 49)], file = \"perf_failed_to_janine.csv\", row.names = F)"
   ]
  },
  {
   "cell_type": "markdown",
   "metadata": {
    "deletable": true,
    "editable": true
   },
   "source": [
    "## 5. Annotate with inclusion binary codes: "
   ]
  },
  {
   "cell_type": "code",
   "execution_count": 52,
   "metadata": {
    "collapsed": false,
    "deletable": true,
    "editable": true
   },
   "outputs": [
    {
     "data": {
      "text/html": [
       "<ol class=list-inline>\n",
       "\t<li>644</li>\n",
       "\t<li>52</li>\n",
       "</ol>\n"
      ],
      "text/latex": [
       "\\begin{enumerate*}\n",
       "\\item 644\n",
       "\\item 52\n",
       "\\end{enumerate*}\n"
      ],
      "text/markdown": [
       "1. 644\n",
       "2. 52\n",
       "\n",
       "\n"
      ],
      "text/plain": [
       "[1] 644  52"
      ]
     },
     "metadata": {},
     "output_type": "display_data"
    }
   ],
   "source": [
    "all_recgli = read.csv(\"4thAnnot_researchPath_withInVivo.csv\")\n",
    "dim(all_recgli)"
   ]
  },
  {
   "cell_type": "code",
   "execution_count": 53,
   "metadata": {
    "collapsed": false,
    "deletable": true,
    "editable": true
   },
   "outputs": [
    {
     "data": {
      "text/html": [
       "<ol class=list-inline>\n",
       "\t<li>527</li>\n",
       "\t<li>52</li>\n",
       "</ol>\n"
      ],
      "text/latex": [
       "\\begin{enumerate*}\n",
       "\\item 527\n",
       "\\item 52\n",
       "\\end{enumerate*}\n"
      ],
      "text/markdown": [
       "1. 527\n",
       "2. 52\n",
       "\n",
       "\n"
      ],
      "text/plain": [
       "[1] 527  52"
      ]
     },
     "metadata": {},
     "output_type": "display_data"
    },
    {
     "data": {
      "text/plain": [
       "\n",
       "FALSE \n",
       "  527 "
      ]
     },
     "metadata": {},
     "output_type": "display_data"
    }
   ],
   "source": [
    "## now want to add binary operators of whether to include them \n",
    "imaging_issue = ifelse(is.na(all_recgli$imaging_code), 0, 1)\n",
    "dim(all_recgli[imaging_issue==0,])\n",
    "# [1] 527  50\n",
    "table(is.na(all_recgli$nfse[imaging_issue==0]))"
   ]
  },
  {
   "cell_type": "code",
   "execution_count": 54,
   "metadata": {
    "collapsed": false,
    "deletable": true,
    "editable": true
   },
   "outputs": [],
   "source": [
    "# FALSE 527\n",
    "## so similar to our old data frame\n",
    "include_anat = ifelse(is.na(all_recgli$nfse), 0, 1)\n",
    "include_diffu1000 = ifelse(is.na(all_recgli$nadc.1) & is.na(all_recgli$nfa.1), 0, 1)\n",
    "include_diffu2000 = ifelse(is.na(all_recgli$nadc.2) & is.na(all_recgli$nfa.2), 0, 1)\n",
    "include_diffu_all = ifelse(include_diffu1000 == 1 | include_diffu2000 ==1, 1, 0)\n",
    "include_perf = ifelse(grepl(\"[[:alpha:]]\", all_recgli$perf_quant), 0, 1)\n",
    "include_spec = ifelse(is.na(all_recgli$cni), 0, 1)"
   ]
  },
  {
   "cell_type": "code",
   "execution_count": 55,
   "metadata": {
    "collapsed": false,
    "deletable": true,
    "editable": true
   },
   "outputs": [
    {
     "data": {
      "text/plain": [
       "include_one_advanced_mod\n",
       "  0   1 \n",
       "123 521 "
      ]
     },
     "metadata": {},
     "output_type": "display_data"
    },
    {
     "data": {
      "text/plain": [
       "include_all_advanced_mods\n",
       "  0   1 \n",
       "511 133 "
      ]
     },
     "metadata": {},
     "output_type": "display_data"
    }
   ],
   "source": [
    "all_recgli.withbin = data.frame(all_recgli, include_anat=include_anat, include_diffu1000=include_diffu1000, \n",
    "                            include_diffu2000 = include_diffu2000, include_diffu_all = include_diffu_all, \n",
    "                            include_perf = include_perf, include_spec = include_spec)\n",
    "all_recgli = all_recgli.withbin\n",
    "\n",
    "one_advanced_mod = ifelse(include_diffu_all ==1 | include_perf == 1 | include_spec ==1, 1, 0)\n",
    "include_one_advanced_mod = ifelse(include_anat == 1 & (include_diffu_all ==1 | include_perf == 1 | include_spec ==1) , 1, 0)\n",
    "table(include_one_advanced_mod)\n",
    "#   0   1 \n",
    "# 118  521\n",
    "all_recgli = data.frame(all_recgli, include_one_advanced_mod)\n",
    "include_all_advanced_mods = ifelse(include_anat ==1 & include_diffu_all ==1 & include_perf == 1 & include_spec, 1, 0)\n",
    "table(include_all_advanced_mods)\n",
    "#  0   1 \n",
    "# 445 194\n",
    "all_recgli = data.frame(all_recgli, include_all_advanced_mods)"
   ]
  },
  {
   "cell_type": "code",
   "execution_count": 56,
   "metadata": {
    "collapsed": true,
    "deletable": true,
    "editable": true
   },
   "outputs": [],
   "source": [
    "write.csv(all_recgli, \"5thAnnot_researchPath_withInVivoData.csv\", row.names = F)\n",
    "\n",
    "write.csv(all_recgli[all_recgli$tumor_cell_evaluation==\"\", c(\"t_number\", \"roi.label\", \"notes.\")],file = \"path_to_joanna.csv\")"
   ]
  },
  {
   "cell_type": "markdown",
   "metadata": {
    "collapsed": true,
    "deletable": true,
    "editable": true
   },
   "source": [
    "## 6. Imputing b1000 data from b2000 data:"
   ]
  },
  {
   "cell_type": "code",
   "execution_count": 57,
   "metadata": {
    "collapsed": false,
    "deletable": true,
    "editable": true
   },
   "outputs": [
    {
     "data": {
      "text/html": [
       "<ol class=list-inline>\n",
       "\t<li>644</li>\n",
       "\t<li>60</li>\n",
       "</ol>\n"
      ],
      "text/latex": [
       "\\begin{enumerate*}\n",
       "\\item 644\n",
       "\\item 60\n",
       "\\end{enumerate*}\n"
      ],
      "text/markdown": [
       "1. 644\n",
       "2. 60\n",
       "\n",
       "\n"
      ],
      "text/plain": [
       "[1] 644  60"
      ]
     },
     "metadata": {},
     "output_type": "display_data"
    }
   ],
   "source": [
    "recgli = read.csv(\"5thAnnot_researchPath_withInVivoData.csv\")\n",
    "dim(recgli)"
   ]
  },
  {
   "cell_type": "code",
   "execution_count": 58,
   "metadata": {
    "collapsed": false,
    "deletable": true,
    "editable": true
   },
   "outputs": [
    {
     "data": {
      "image/png": "[encoded data removed]",
      "text/plain": [
       "plot without title"
      ]
     },
     "metadata": {},
     "output_type": "display_data"
    }
   ],
   "source": [
    "plot(recgli$nadc.1, recgli$nadc.2)"
   ]
  },
  {
   "cell_type": "markdown",
   "metadata": {
    "deletable": true,
    "editable": true
   },
   "source": [
    "We want to create the most accurate linear approximation as possible, so we must remove the points for which it is clear that b=2000 quantification output a zero when it should have output a different number: "
   ]
  },
  {
   "cell_type": "code",
   "execution_count": 59,
   "metadata": {
    "collapsed": false,
    "deletable": true,
    "editable": true
   },
   "outputs": [],
   "source": [
    "recgli[which(recgli$nadc.2 ==0),]$nadc.2 = NA \n",
    "recgli[which(recgli$nfa.2 ==0),]$nfa.2 = NA \n",
    "recgli[which(recgli$nev1.2==0),]$nev1.2 = NA\n",
    "recgli[which(recgli$nev2.2==0),]$nev2.2 = NA\n",
    "recgli[which(recgli$nev3.2==0),]$nev3.2 = NA\n",
    "recgli[which(recgli$nevrad.2==0),]$nevrad.2 = NA"
   ]
  },
  {
   "cell_type": "code",
   "execution_count": 60,
   "metadata": {
    "collapsed": false,
    "deletable": true,
    "editable": true
   },
   "outputs": [],
   "source": [
    "recgli[which(recgli$nadc.1 < 1 & recgli$nadc.2 > 2),]$nadc.2 = NA"
   ]
  },
  {
   "cell_type": "code",
   "execution_count": 61,
   "metadata": {
    "collapsed": false,
    "deletable": true,
    "editable": true
   },
   "outputs": [
    {
     "data": {
      "text/plain": [
       "\n",
       "Call:\n",
       "lm(formula = nadc.1 ~ nadc.2, data = recgli)\n",
       "\n",
       "Residuals:\n",
       "     Min       1Q   Median       3Q      Max \n",
       "-0.67296 -0.08661 -0.00908  0.06850  1.11865 \n",
       "\n",
       "Coefficients:\n",
       "            Estimate Std. Error t value Pr(>|t|)    \n",
       "(Intercept) -0.02755    0.03391  -0.812    0.417    \n",
       "nadc.2       1.03917    0.01978  52.543   <2e-16 ***\n",
       "---\n",
       "Signif. codes:  0 ‘***’ 0.001 ‘**’ 0.01 ‘*’ 0.05 ‘.’ 0.1 ‘ ’ 1\n",
       "\n",
       "Residual standard error: 0.1741 on 330 degrees of freedom\n",
       "  (312 observations deleted due to missingness)\n",
       "Multiple R-squared:  0.8932,\tAdjusted R-squared:  0.8929 \n",
       "F-statistic:  2761 on 1 and 330 DF,  p-value: < 2.2e-16\n"
      ]
     },
     "metadata": {},
     "output_type": "display_data"
    }
   ],
   "source": [
    "diffu.fit = lm(nadc.1~nadc.2, data = recgli)\n",
    "summary(diffu.fit)"
   ]
  },
  {
   "cell_type": "code",
   "execution_count": 62,
   "metadata": {
    "collapsed": false,
    "deletable": true,
    "editable": true
   },
   "outputs": [
    {
     "data": {
      "text/html": [
       "<dl class=dl-horizontal>\n",
       "\t<dt>292</dt>\n",
       "\t\t<dd>1.61434420352968</dd>\n",
       "\t<dt>295</dt>\n",
       "\t\t<dd>1.67669464094598</dd>\n",
       "\t<dt>298</dt>\n",
       "\t\t<dd>1.94687986974997</dd>\n",
       "\t<dt>333</dt>\n",
       "\t\t<dd>2.03001378630505</dd>\n",
       "\t<dt>334</dt>\n",
       "\t\t<dd>1.38572593300322</dd>\n",
       "\t<dt>335</dt>\n",
       "\t\t<dd>1.54160202654399</dd>\n",
       "\t<dt>397</dt>\n",
       "\t\t<dd>1.4688598495583</dd>\n",
       "\t<dt>398</dt>\n",
       "\t\t<dd>1.89492117190305</dd>\n",
       "\t<dt>399</dt>\n",
       "\t\t<dd>1.44807637041953</dd>\n",
       "\t<dt>402</dt>\n",
       "\t\t<dd>1.30259201644815</dd>\n",
       "\t<dt>403</dt>\n",
       "\t\t<dd>1.67669464094598</dd>\n",
       "\t<dt>404</dt>\n",
       "\t\t<dd>1.16749940204616</dd>\n",
       "\t<dt>405</dt>\n",
       "\t\t<dd>1.136324183338</dd>\n",
       "\t<dt>406</dt>\n",
       "\t\t<dd>1.65591116180721</dd>\n",
       "\t<dt>407</dt>\n",
       "\t\t<dd>1.30259201644815</dd>\n",
       "\t<dt>408</dt>\n",
       "\t\t<dd>1.67669464094598</dd>\n",
       "\t<dt>409</dt>\n",
       "\t\t<dd>1.4688598495583</dd>\n",
       "\t<dt>410</dt>\n",
       "\t\t<dd>2.60155946262118</dd>\n",
       "\t<dt>411</dt>\n",
       "\t\t<dd>2.61195120219057</dd>\n",
       "\t<dt>412</dt>\n",
       "\t\t<dd>1.82217899491736</dd>\n",
       "\t<dt>413</dt>\n",
       "\t\t<dd>2.28980727553965</dd>\n",
       "\t<dt>432</dt>\n",
       "\t\t<dd>0.647912423576943</dd>\n",
       "\t<dt>433</dt>\n",
       "\t\t<dd>1.05319026678293</dd>\n",
       "\t<dt>434</dt>\n",
       "\t\t<dd>1.30259201644815</dd>\n",
       "\t<dt>435</dt>\n",
       "\t\t<dd>1.57277724525214</dd>\n",
       "\t<dt>452</dt>\n",
       "\t\t<dd>1.79100377620921</dd>\n",
       "\t<dt>453</dt>\n",
       "\t\t<dd>1.71826159922352</dd>\n",
       "\t<dt>454</dt>\n",
       "\t\t<dd>1.61434420352968</dd>\n",
       "\t<dt>455</dt>\n",
       "\t\t<dd>1.79100377620921</dd>\n",
       "\t<dt>487</dt>\n",
       "\t\t<dd>0.990839829366623</dd>\n",
       "\t<dt>488</dt>\n",
       "\t\t<dd>1.89492117190305</dd>\n",
       "\t<dt>489</dt>\n",
       "\t\t<dd>1.48964332869707</dd>\n",
       "\t<dt>490</dt>\n",
       "\t\t<dd>1.91570465104182</dd>\n",
       "\t<dt>502</dt>\n",
       "\t\t<dd>1.67669464094598</dd>\n",
       "\t<dt>503</dt>\n",
       "\t\t<dd>1.10514896462985</dd>\n",
       "\t<dt>504</dt>\n",
       "\t\t<dd>1.36494245386446</dd>\n",
       "\t<dt>505</dt>\n",
       "\t\t<dd>1.77022029707044</dd>\n",
       "\t<dt>507</dt>\n",
       "\t\t<dd>2.27941553597027</dd>\n",
       "\t<dt>527</dt>\n",
       "\t\t<dd>1.11554070419923</dd>\n",
       "\t<dt>528</dt>\n",
       "\t\t<dd>1.69747812008475</dd>\n",
       "\t<dt>529</dt>\n",
       "\t\t<dd>1.11554070419923</dd>\n",
       "\t<dt>530</dt>\n",
       "\t\t<dd>1.31298375601753</dd>\n",
       "\t<dt>545</dt>\n",
       "\t\t<dd>1.7286533387929</dd>\n",
       "\t<dt>546</dt>\n",
       "\t\t<dd>1.50003506826645</dd>\n",
       "\t<dt>547</dt>\n",
       "\t\t<dd>1.19867462075431</dd>\n",
       "\t<dt>594</dt>\n",
       "\t\t<dd>1.30259201644815</dd>\n",
       "\t<dt>595</dt>\n",
       "\t\t<dd>1.14671592290739</dd>\n",
       "\t<dt>596</dt>\n",
       "\t\t<dd>1.05319026678293</dd>\n",
       "\t<dt>597</dt>\n",
       "\t\t<dd>0.741438079701401</dd>\n",
       "\t<dt>598</dt>\n",
       "\t\t<dd>1.43768463085015</dd>\n",
       "\t<dt>631</dt>\n",
       "\t\t<dd>1.89492117190305</dd>\n",
       "\t<dt>632</dt>\n",
       "\t\t<dd>1.96766334888874</dd>\n",
       "\t<dt>633</dt>\n",
       "\t\t<dd>1.80139551577859</dd>\n",
       "\t<dt>634</dt>\n",
       "\t\t<dd>1.97805508845813</dd>\n",
       "</dl>\n"
      ],
      "text/latex": [
       "\\begin{description*}\n",
       "\\item[292] 1.61434420352968\n",
       "\\item[295] 1.67669464094598\n",
       "\\item[298] 1.94687986974997\n",
       "\\item[333] 2.03001378630505\n",
       "\\item[334] 1.38572593300322\n",
       "\\item[335] 1.54160202654399\n",
       "\\item[397] 1.4688598495583\n",
       "\\item[398] 1.89492117190305\n",
       "\\item[399] 1.44807637041953\n",
       "\\item[402] 1.30259201644815\n",
       "\\item[403] 1.67669464094598\n",
       "\\item[404] 1.16749940204616\n",
       "\\item[405] 1.136324183338\n",
       "\\item[406] 1.65591116180721\n",
       "\\item[407] 1.30259201644815\n",
       "\\item[408] 1.67669464094598\n",
       "\\item[409] 1.4688598495583\n",
       "\\item[410] 2.60155946262118\n",
       "\\item[411] 2.61195120219057\n",
       "\\item[412] 1.82217899491736\n",
       "\\item[413] 2.28980727553965\n",
       "\\item[432] 0.647912423576943\n",
       "\\item[433] 1.05319026678293\n",
       "\\item[434] 1.30259201644815\n",
       "\\item[435] 1.57277724525214\n",
       "\\item[452] 1.79100377620921\n",
       "\\item[453] 1.71826159922352\n",
       "\\item[454] 1.61434420352968\n",
       "\\item[455] 1.79100377620921\n",
       "\\item[487] 0.990839829366623\n",
       "\\item[488] 1.89492117190305\n",
       "\\item[489] 1.48964332869707\n",
       "\\item[490] 1.91570465104182\n",
       "\\item[502] 1.67669464094598\n",
       "\\item[503] 1.10514896462985\n",
       "\\item[504] 1.36494245386446\n",
       "\\item[505] 1.77022029707044\n",
       "\\item[507] 2.27941553597027\n",
       "\\item[527] 1.11554070419923\n",
       "\\item[528] 1.69747812008475\n",
       "\\item[529] 1.11554070419923\n",
       "\\item[530] 1.31298375601753\n",
       "\\item[545] 1.7286533387929\n",
       "\\item[546] 1.50003506826645\n",
       "\\item[547] 1.19867462075431\n",
       "\\item[594] 1.30259201644815\n",
       "\\item[595] 1.14671592290739\n",
       "\\item[596] 1.05319026678293\n",
       "\\item[597] 0.741438079701401\n",
       "\\item[598] 1.43768463085015\n",
       "\\item[631] 1.89492117190305\n",
       "\\item[632] 1.96766334888874\n",
       "\\item[633] 1.80139551577859\n",
       "\\item[634] 1.97805508845813\n",
       "\\end{description*}\n"
      ],
      "text/markdown": [
       "292\n",
       ":   1.61434420352968295\n",
       ":   1.67669464094598298\n",
       ":   1.94687986974997333\n",
       ":   2.03001378630505334\n",
       ":   1.38572593300322335\n",
       ":   1.54160202654399397\n",
       ":   1.4688598495583398\n",
       ":   1.89492117190305399\n",
       ":   1.44807637041953402\n",
       ":   1.30259201644815403\n",
       ":   1.67669464094598404\n",
       ":   1.16749940204616405\n",
       ":   1.136324183338406\n",
       ":   1.65591116180721407\n",
       ":   1.30259201644815408\n",
       ":   1.67669464094598409\n",
       ":   1.4688598495583410\n",
       ":   2.60155946262118411\n",
       ":   2.61195120219057412\n",
       ":   1.82217899491736413\n",
       ":   2.28980727553965432\n",
       ":   0.647912423576943433\n",
       ":   1.05319026678293434\n",
       ":   1.30259201644815435\n",
       ":   1.57277724525214452\n",
       ":   1.79100377620921453\n",
       ":   1.71826159922352454\n",
       ":   1.61434420352968455\n",
       ":   1.79100377620921487\n",
       ":   0.990839829366623488\n",
       ":   1.89492117190305489\n",
       ":   1.48964332869707490\n",
       ":   1.91570465104182502\n",
       ":   1.67669464094598503\n",
       ":   1.10514896462985504\n",
       ":   1.36494245386446505\n",
       ":   1.77022029707044507\n",
       ":   2.27941553597027527\n",
       ":   1.11554070419923528\n",
       ":   1.69747812008475529\n",
       ":   1.11554070419923530\n",
       ":   1.31298375601753545\n",
       ":   1.7286533387929546\n",
       ":   1.50003506826645547\n",
       ":   1.19867462075431594\n",
       ":   1.30259201644815595\n",
       ":   1.14671592290739596\n",
       ":   1.05319026678293597\n",
       ":   0.741438079701401598\n",
       ":   1.43768463085015631\n",
       ":   1.89492117190305632\n",
       ":   1.96766334888874633\n",
       ":   1.80139551577859634\n",
       ":   1.97805508845813\n",
       "\n"
      ],
      "text/plain": [
       "      292       295       298       333       334       335       397       398 \n",
       "1.6143442 1.6766946 1.9468799 2.0300138 1.3857259 1.5416020 1.4688598 1.8949212 \n",
       "      399       402       403       404       405       406       407       408 \n",
       "1.4480764 1.3025920 1.6766946 1.1674994 1.1363242 1.6559112 1.3025920 1.6766946 \n",
       "      409       410       411       412       413       432       433       434 \n",
       "1.4688598 2.6015595 2.6119512 1.8221790 2.2898073 0.6479124 1.0531903 1.3025920 \n",
       "      435       452       453       454       455       487       488       489 \n",
       "1.5727772 1.7910038 1.7182616 1.6143442 1.7910038 0.9908398 1.8949212 1.4896433 \n",
       "      490       502       503       504       505       507       527       528 \n",
       "1.9157047 1.6766946 1.1051490 1.3649425 1.7702203 2.2794155 1.1155407 1.6974781 \n",
       "      529       530       545       546       547       594       595       596 \n",
       "1.1155407 1.3129838 1.7286533 1.5000351 1.1986746 1.3025920 1.1467159 1.0531903 \n",
       "      597       598       631       632       633       634 \n",
       "0.7414381 1.4376846 1.8949212 1.9676633 1.8013955 1.9780551 "
      ]
     },
     "metadata": {},
     "output_type": "display_data"
    }
   ],
   "source": [
    "nadc1from2 = predict(diffu.fit, newdata = recgli[which(is.na(recgli$nadc.1) & !is.na(recgli$nadc.2)),])\n",
    "nadc1from2"
   ]
  },
  {
   "cell_type": "code",
   "execution_count": 63,
   "metadata": {
    "collapsed": false,
    "deletable": true,
    "editable": true
   },
   "outputs": [
    {
     "data": {
      "text/html": [
       "<table>\n",
       "<thead><tr><th></th><th scope=col>b_number</th><th scope=col>t_number</th><th scope=col>sf_number</th><th scope=col>current_scan_date</th><th scope=col>current_surgery_date</th><th scope=col>current_hist_grade</th><th scope=col>current_hist_type</th><th scope=col>roi.label</th><th scope=col>tumor_cell_evaluation</th><th scope=col>necrosis</th><th scope=col>f8_delicate</th><th scope=col>f8_simple</th><th scope=col>f8_complex</th><th scope=col>mib_1</th><th scope=col>bx_pure_treatment_effect</th><th scope=col>nfse</th><th scope=col>nfl</th><th scope=col>nt1c</th><th scope=col>nt1v</th><th scope=col>nadc.1</th><th scope=col>nfa.1</th><th scope=col>nev1.1</th><th scope=col>nev2.1</th><th scope=col>nev3.1</th><th scope=col>nevrad.1</th><th scope=col>nadc.2</th><th scope=col>nfa.2</th><th scope=col>nev1.2</th><th scope=col>nev2.2</th><th scope=col>nev3.2</th><th scope=col>nevrad.2</th><th scope=col>cbvn_nlin</th><th scope=col>phn_nlin</th><th scope=col>phn_npar</th><th scope=col>recovn_npar</th><th scope=col>cni</th><th scope=col>ccri</th><th scope=col>crni</th><th scope=col>ncho</th><th scope=col>ncre</th><th scope=col>nnaa</th><th scope=col>nlip</th><th scope=col>laclip</th><th scope=col>nlac</th><th scope=col>olddata</th><th scope=col>newdata</th><th scope=col>comments</th><th scope=col>notes.</th><th scope=col>imaging_code</th><th scope=col>perf_quant</th><th scope=col>cbv_nlin</th><th scope=col>spec_quant</th><th scope=col>include_anat</th><th scope=col>include_diffu1000</th><th scope=col>include_diffu2000</th><th scope=col>include_diffu_all</th><th scope=col>include_perf</th><th scope=col>include_spec</th><th scope=col>include_one_advanced_mod</th><th scope=col>include_all_advanced_mods</th></tr></thead>\n",
       "<tbody>\n",
       "\t<tr><th scope=row>631</th><td>4424                   </td><td>12105                  </td><td>11673                  </td><td>2018-02-19             </td><td>2018-02-20             </td><td>Grade IV               </td><td>Glioblastoma           </td><td>39D5                   </td><td>                       </td><td>NA                     </td><td>                       </td><td>                       </td><td>                       </td><td>NA                     </td><td>                       </td><td>2.01                   </td><td>2.69                   </td><td>1.43                   </td><td>NA                     </td><td>NA                     </td><td>NA                     </td><td>NA                     </td><td>NA                     </td><td>NA                     </td><td>NA                     </td><td>1.85                   </td><td>0.94                   </td><td>1.42                   </td><td>1.76                   </td><td>1.71                   </td><td>1.61                   </td><td>NA                     </td><td>NA                     </td><td>NA                     </td><td>NA                     </td><td>NA                     </td><td>NA                     </td><td>NA                     </td><td>NA                     </td><td>NA                     </td><td>NA                     </td><td>NA                     </td><td>NA                     </td><td>NA                     </td><td>0                      </td><td>1                      </td><td>                       </td><td>NA                     </td><td>NA                     </td><td>noPerf_or_makePerfIssue</td><td>NA                     </td><td>NA                     </td><td>1                      </td><td>0                      </td><td>1                      </td><td>1                      </td><td>0                      </td><td>0                      </td><td>1                      </td><td>0                      </td></tr>\n",
       "</tbody>\n",
       "</table>\n"
      ],
      "text/latex": [
       "\\begin{tabular}{r|llllllllllllllllllllllllllllllllllllllllllllllllllllllllllll}\n",
       "  & b\\_number & t\\_number & sf\\_number & current\\_scan\\_date & current\\_surgery\\_date & current\\_hist\\_grade & current\\_hist\\_type & roi.label & tumor\\_cell\\_evaluation & necrosis & f8\\_delicate & f8\\_simple & f8\\_complex & mib\\_1 & bx\\_pure\\_treatment\\_effect & nfse & nfl & nt1c & nt1v & nadc.1 & nfa.1 & nev1.1 & nev2.1 & nev3.1 & nevrad.1 & nadc.2 & nfa.2 & nev1.2 & nev2.2 & nev3.2 & nevrad.2 & cbvn\\_nlin & phn\\_nlin & phn\\_npar & recovn\\_npar & cni & ccri & crni & ncho & ncre & nnaa & nlip & laclip & nlac & olddata & newdata & comments & notes. & imaging\\_code & perf\\_quant & cbv\\_nlin & spec\\_quant & include\\_anat & include\\_diffu1000 & include\\_diffu2000 & include\\_diffu\\_all & include\\_perf & include\\_spec & include\\_one\\_advanced\\_mod & include\\_all\\_advanced\\_mods\\\\\n",
       "\\hline\n",
       "\t631 & 4424                        & 12105                       & 11673                       & 2018-02-19                  & 2018-02-20                  & Grade IV                    & Glioblastoma                & 39D5                        &                             & NA                          &                             &                             &                             & NA                          &                             & 2.01                        & 2.69                        & 1.43                        & NA                          & NA                          & NA                          & NA                          & NA                          & NA                          & NA                          & 1.85                        & 0.94                        & 1.42                        & 1.76                        & 1.71                        & 1.61                        & NA                          & NA                          & NA                          & NA                          & NA                          & NA                          & NA                          & NA                          & NA                          & NA                          & NA                          & NA                          & NA                          & 0                           & 1                           &                             & NA                          & NA                          & noPerf\\_or\\_makePerfIssue & NA                          & NA                          & 1                           & 0                           & 1                           & 1                           & 0                           & 0                           & 1                           & 0                          \\\\\n",
       "\\end{tabular}\n"
      ],
      "text/markdown": [
       "\n",
       "| <!--/--> | b_number | t_number | sf_number | current_scan_date | current_surgery_date | current_hist_grade | current_hist_type | roi.label | tumor_cell_evaluation | necrosis | f8_delicate | f8_simple | f8_complex | mib_1 | bx_pure_treatment_effect | nfse | nfl | nt1c | nt1v | nadc.1 | nfa.1 | nev1.1 | nev2.1 | nev3.1 | nevrad.1 | nadc.2 | nfa.2 | nev1.2 | nev2.2 | nev3.2 | nevrad.2 | cbvn_nlin | phn_nlin | phn_npar | recovn_npar | cni | ccri | crni | ncho | ncre | nnaa | nlip | laclip | nlac | olddata | newdata | comments | notes. | imaging_code | perf_quant | cbv_nlin | spec_quant | include_anat | include_diffu1000 | include_diffu2000 | include_diffu_all | include_perf | include_spec | include_one_advanced_mod | include_all_advanced_mods | \n",
       "|---|\n",
       "| 631 | 4424                    | 12105                   | 11673                   | 2018-02-19              | 2018-02-20              | Grade IV                | Glioblastoma            | 39D5                    |                         | NA                      |                         |                         |                         | NA                      |                         | 2.01                    | 2.69                    | 1.43                    | NA                      | NA                      | NA                      | NA                      | NA                      | NA                      | NA                      | 1.85                    | 0.94                    | 1.42                    | 1.76                    | 1.71                    | 1.61                    | NA                      | NA                      | NA                      | NA                      | NA                      | NA                      | NA                      | NA                      | NA                      | NA                      | NA                      | NA                      | NA                      | 0                       | 1                       |                         | NA                      | NA                      | noPerf_or_makePerfIssue | NA                      | NA                      | 1                       | 0                       | 1                       | 1                       | 0                       | 0                       | 1                       | 0                       | \n",
       "\n",
       "\n"
      ],
      "text/plain": [
       "    b_number t_number sf_number current_scan_date current_surgery_date\n",
       "631 4424     12105    11673     2018-02-19        2018-02-20          \n",
       "    current_hist_grade current_hist_type roi.label tumor_cell_evaluation\n",
       "631 Grade IV           Glioblastoma      39D5                           \n",
       "    necrosis f8_delicate f8_simple f8_complex mib_1 bx_pure_treatment_effect\n",
       "631 NA                                        NA                            \n",
       "    nfse nfl  nt1c nt1v nadc.1 nfa.1 nev1.1 nev2.1 nev3.1 nevrad.1 nadc.2 nfa.2\n",
       "631 2.01 2.69 1.43 NA   NA     NA    NA     NA     NA     NA       1.85   0.94 \n",
       "    nev1.2 nev2.2 nev3.2 nevrad.2 cbvn_nlin phn_nlin phn_npar recovn_npar cni\n",
       "631 1.42   1.76   1.71   1.61     NA        NA       NA       NA          NA \n",
       "    ccri crni ncho ncre nnaa nlip laclip nlac olddata newdata comments notes.\n",
       "631 NA   NA   NA   NA   NA   NA   NA     NA   0       1                NA    \n",
       "    imaging_code perf_quant              cbv_nlin spec_quant include_anat\n",
       "631 NA           noPerf_or_makePerfIssue NA       NA         1           \n",
       "    include_diffu1000 include_diffu2000 include_diffu_all include_perf\n",
       "631 0                 1                 1                 0           \n",
       "    include_spec include_one_advanced_mod include_all_advanced_mods\n",
       "631 0            1                        0                        "
      ]
     },
     "metadata": {},
     "output_type": "display_data"
    }
   ],
   "source": [
    "## so we've created a list of predicted values, whose 'names' should be the same as the row numbers in the data frame that we want to add it to\n",
    "## for sanity check: recgli$nadc.1[match(names(nadc1from2), rownames(recgli))]=nadc1from2\n",
    "recgli[631,]\n",
    "## yep, looks like 631 is a good example of one that does have diffu b=2000 but not 1000. let's go ahead and add these nadc.1 values in: "
   ]
  },
  {
   "cell_type": "code",
   "execution_count": 64,
   "metadata": {
    "collapsed": false,
    "deletable": true,
    "editable": true
   },
   "outputs": [
    {
     "data": {
      "text/html": [
       "<table>\n",
       "<thead><tr><th></th><th scope=col>b_number</th><th scope=col>t_number</th><th scope=col>sf_number</th><th scope=col>current_scan_date</th><th scope=col>current_surgery_date</th><th scope=col>current_hist_grade</th><th scope=col>current_hist_type</th><th scope=col>roi.label</th><th scope=col>tumor_cell_evaluation</th><th scope=col>necrosis</th><th scope=col>f8_delicate</th><th scope=col>f8_simple</th><th scope=col>f8_complex</th><th scope=col>mib_1</th><th scope=col>bx_pure_treatment_effect</th><th scope=col>nfse</th><th scope=col>nfl</th><th scope=col>nt1c</th><th scope=col>nt1v</th><th scope=col>nadc.1</th><th scope=col>nfa.1</th><th scope=col>nev1.1</th><th scope=col>nev2.1</th><th scope=col>nev3.1</th><th scope=col>nevrad.1</th><th scope=col>nadc.2</th><th scope=col>nfa.2</th><th scope=col>nev1.2</th><th scope=col>nev2.2</th><th scope=col>nev3.2</th><th scope=col>nevrad.2</th><th scope=col>cbvn_nlin</th><th scope=col>phn_nlin</th><th scope=col>phn_npar</th><th scope=col>recovn_npar</th><th scope=col>cni</th><th scope=col>ccri</th><th scope=col>crni</th><th scope=col>ncho</th><th scope=col>ncre</th><th scope=col>nnaa</th><th scope=col>nlip</th><th scope=col>laclip</th><th scope=col>nlac</th><th scope=col>olddata</th><th scope=col>newdata</th><th scope=col>comments</th><th scope=col>notes.</th><th scope=col>imaging_code</th><th scope=col>perf_quant</th><th scope=col>cbv_nlin</th><th scope=col>spec_quant</th><th scope=col>include_anat</th><th scope=col>include_diffu1000</th><th scope=col>include_diffu2000</th><th scope=col>include_diffu_all</th><th scope=col>include_perf</th><th scope=col>include_spec</th><th scope=col>include_one_advanced_mod</th><th scope=col>include_all_advanced_mods</th></tr></thead>\n",
       "<tbody>\n",
       "\t<tr><th scope=row>631</th><td>4424                   </td><td>12105                  </td><td>11673                  </td><td>2018-02-19             </td><td>2018-02-20             </td><td>Grade IV               </td><td>Glioblastoma           </td><td>39D5                   </td><td>                       </td><td>NA                     </td><td>                       </td><td>                       </td><td>                       </td><td>NA                     </td><td>                       </td><td>2.01                   </td><td>2.69                   </td><td>1.43                   </td><td>NA                     </td><td>1.894921               </td><td>NA                     </td><td>NA                     </td><td>NA                     </td><td>NA                     </td><td>NA                     </td><td>1.85                   </td><td>0.94                   </td><td>1.42                   </td><td>1.76                   </td><td>1.71                   </td><td>1.61                   </td><td>NA                     </td><td>NA                     </td><td>NA                     </td><td>NA                     </td><td>NA                     </td><td>NA                     </td><td>NA                     </td><td>NA                     </td><td>NA                     </td><td>NA                     </td><td>NA                     </td><td>NA                     </td><td>NA                     </td><td>0                      </td><td>1                      </td><td>                       </td><td>NA                     </td><td>NA                     </td><td>noPerf_or_makePerfIssue</td><td>NA                     </td><td>NA                     </td><td>1                      </td><td>0                      </td><td>1                      </td><td>1                      </td><td>0                      </td><td>0                      </td><td>1                      </td><td>0                      </td></tr>\n",
       "</tbody>\n",
       "</table>\n"
      ],
      "text/latex": [
       "\\begin{tabular}{r|llllllllllllllllllllllllllllllllllllllllllllllllllllllllllll}\n",
       "  & b\\_number & t\\_number & sf\\_number & current\\_scan\\_date & current\\_surgery\\_date & current\\_hist\\_grade & current\\_hist\\_type & roi.label & tumor\\_cell\\_evaluation & necrosis & f8\\_delicate & f8\\_simple & f8\\_complex & mib\\_1 & bx\\_pure\\_treatment\\_effect & nfse & nfl & nt1c & nt1v & nadc.1 & nfa.1 & nev1.1 & nev2.1 & nev3.1 & nevrad.1 & nadc.2 & nfa.2 & nev1.2 & nev2.2 & nev3.2 & nevrad.2 & cbvn\\_nlin & phn\\_nlin & phn\\_npar & recovn\\_npar & cni & ccri & crni & ncho & ncre & nnaa & nlip & laclip & nlac & olddata & newdata & comments & notes. & imaging\\_code & perf\\_quant & cbv\\_nlin & spec\\_quant & include\\_anat & include\\_diffu1000 & include\\_diffu2000 & include\\_diffu\\_all & include\\_perf & include\\_spec & include\\_one\\_advanced\\_mod & include\\_all\\_advanced\\_mods\\\\\n",
       "\\hline\n",
       "\t631 & 4424                        & 12105                       & 11673                       & 2018-02-19                  & 2018-02-20                  & Grade IV                    & Glioblastoma                & 39D5                        &                             & NA                          &                             &                             &                             & NA                          &                             & 2.01                        & 2.69                        & 1.43                        & NA                          & 1.894921                    & NA                          & NA                          & NA                          & NA                          & NA                          & 1.85                        & 0.94                        & 1.42                        & 1.76                        & 1.71                        & 1.61                        & NA                          & NA                          & NA                          & NA                          & NA                          & NA                          & NA                          & NA                          & NA                          & NA                          & NA                          & NA                          & NA                          & 0                           & 1                           &                             & NA                          & NA                          & noPerf\\_or\\_makePerfIssue & NA                          & NA                          & 1                           & 0                           & 1                           & 1                           & 0                           & 0                           & 1                           & 0                          \\\\\n",
       "\\end{tabular}\n"
      ],
      "text/markdown": [
       "\n",
       "| <!--/--> | b_number | t_number | sf_number | current_scan_date | current_surgery_date | current_hist_grade | current_hist_type | roi.label | tumor_cell_evaluation | necrosis | f8_delicate | f8_simple | f8_complex | mib_1 | bx_pure_treatment_effect | nfse | nfl | nt1c | nt1v | nadc.1 | nfa.1 | nev1.1 | nev2.1 | nev3.1 | nevrad.1 | nadc.2 | nfa.2 | nev1.2 | nev2.2 | nev3.2 | nevrad.2 | cbvn_nlin | phn_nlin | phn_npar | recovn_npar | cni | ccri | crni | ncho | ncre | nnaa | nlip | laclip | nlac | olddata | newdata | comments | notes. | imaging_code | perf_quant | cbv_nlin | spec_quant | include_anat | include_diffu1000 | include_diffu2000 | include_diffu_all | include_perf | include_spec | include_one_advanced_mod | include_all_advanced_mods | \n",
       "|---|\n",
       "| 631 | 4424                    | 12105                   | 11673                   | 2018-02-19              | 2018-02-20              | Grade IV                | Glioblastoma            | 39D5                    |                         | NA                      |                         |                         |                         | NA                      |                         | 2.01                    | 2.69                    | 1.43                    | NA                      | 1.894921                | NA                      | NA                      | NA                      | NA                      | NA                      | 1.85                    | 0.94                    | 1.42                    | 1.76                    | 1.71                    | 1.61                    | NA                      | NA                      | NA                      | NA                      | NA                      | NA                      | NA                      | NA                      | NA                      | NA                      | NA                      | NA                      | NA                      | 0                       | 1                       |                         | NA                      | NA                      | noPerf_or_makePerfIssue | NA                      | NA                      | 1                       | 0                       | 1                       | 1                       | 0                       | 0                       | 1                       | 0                       | \n",
       "\n",
       "\n"
      ],
      "text/plain": [
       "    b_number t_number sf_number current_scan_date current_surgery_date\n",
       "631 4424     12105    11673     2018-02-19        2018-02-20          \n",
       "    current_hist_grade current_hist_type roi.label tumor_cell_evaluation\n",
       "631 Grade IV           Glioblastoma      39D5                           \n",
       "    necrosis f8_delicate f8_simple f8_complex mib_1 bx_pure_treatment_effect\n",
       "631 NA                                        NA                            \n",
       "    nfse nfl  nt1c nt1v nadc.1   nfa.1 nev1.1 nev2.1 nev3.1 nevrad.1 nadc.2\n",
       "631 2.01 2.69 1.43 NA   1.894921 NA    NA     NA     NA     NA       1.85  \n",
       "    nfa.2 nev1.2 nev2.2 nev3.2 nevrad.2 cbvn_nlin phn_nlin phn_npar recovn_npar\n",
       "631 0.94  1.42   1.76   1.71   1.61     NA        NA       NA       NA         \n",
       "    cni ccri crni ncho ncre nnaa nlip laclip nlac olddata newdata comments\n",
       "631 NA  NA   NA   NA   NA   NA   NA   NA     NA   0       1               \n",
       "    notes. imaging_code perf_quant              cbv_nlin spec_quant\n",
       "631 NA     NA           noPerf_or_makePerfIssue NA       NA        \n",
       "    include_anat include_diffu1000 include_diffu2000 include_diffu_all\n",
       "631 1            0                 1                 1                \n",
       "    include_perf include_spec include_one_advanced_mod\n",
       "631 0            0            1                       \n",
       "    include_all_advanced_mods\n",
       "631 0                        "
      ]
     },
     "metadata": {},
     "output_type": "display_data"
    }
   ],
   "source": [
    "recgli$nadc.1[match(names(nadc1from2), rownames(recgli))]=nadc1from2\n",
    "recgli[631,]"
   ]
  },
  {
   "cell_type": "code",
   "execution_count": 65,
   "metadata": {
    "collapsed": false,
    "deletable": true,
    "editable": true
   },
   "outputs": [
    {
     "data": {
      "image/png": "[encoded data removed]",
      "text/plain": [
       "plot without title"
      ]
     },
     "metadata": {},
     "output_type": "display_data"
    }
   ],
   "source": [
    "plot(nfa.1~nfa.2, data = recgli)"
   ]
  },
  {
   "cell_type": "code",
   "execution_count": 66,
   "metadata": {
    "collapsed": false,
    "deletable": true,
    "editable": true
   },
   "outputs": [
    {
     "data": {
      "text/plain": [
       "\n",
       "Call:\n",
       "lm(formula = nfa.1 ~ nfa.2, data = recgli)\n",
       "\n",
       "Residuals:\n",
       "    Min      1Q  Median      3Q     Max \n",
       "-0.5904 -0.1339 -0.0383  0.1120  1.1721 \n",
       "\n",
       "Coefficients:\n",
       "            Estimate Std. Error t value Pr(>|t|)    \n",
       "(Intercept)  0.17888    0.03673   4.871 1.73e-06 ***\n",
       "nfa.2        0.71215    0.04090  17.413  < 2e-16 ***\n",
       "---\n",
       "Signif. codes:  0 ‘***’ 0.001 ‘**’ 0.01 ‘*’ 0.05 ‘.’ 0.1 ‘ ’ 1\n",
       "\n",
       "Residual standard error: 0.2217 on 329 degrees of freedom\n",
       "  (313 observations deleted due to missingness)\n",
       "Multiple R-squared:  0.4796,\tAdjusted R-squared:  0.478 \n",
       "F-statistic: 303.2 on 1 and 329 DF,  p-value: < 2.2e-16\n"
      ]
     },
     "metadata": {},
     "output_type": "display_data"
    }
   ],
   "source": [
    "nfa.fit = lm(nfa.1~nfa.2, data = recgli)\n",
    "summary(nfa.fit)"
   ]
  },
  {
   "cell_type": "code",
   "execution_count": 67,
   "metadata": {
    "collapsed": false,
    "deletable": true,
    "editable": true
   },
   "outputs": [
    {
     "data": {
      "text/html": [
       "<dl class=dl-horizontal>\n",
       "\t<dt>197</dt>\n",
       "\t\t<dd>0.70587355021118</dd>\n",
       "\t<dt>201</dt>\n",
       "\t\t<dd>0.784210476496395</dd>\n",
       "\t<dt>292</dt>\n",
       "\t\t<dd>0.784210476496395</dd>\n",
       "\t<dt>295</dt>\n",
       "\t\t<dd>0.912398174054021</dd>\n",
       "\t<dt>298</dt>\n",
       "\t\t<dd>0.826939709015604</dd>\n",
       "\t<dt>333</dt>\n",
       "\t\t<dd>0.613293546419561</dd>\n",
       "</dl>\n"
      ],
      "text/latex": [
       "\\begin{description*}\n",
       "\\item[197] 0.70587355021118\n",
       "\\item[201] 0.784210476496395\n",
       "\\item[292] 0.784210476496395\n",
       "\\item[295] 0.912398174054021\n",
       "\\item[298] 0.826939709015604\n",
       "\\item[333] 0.613293546419561\n",
       "\\end{description*}\n"
      ],
      "text/markdown": [
       "197\n",
       ":   0.70587355021118201\n",
       ":   0.784210476496395292\n",
       ":   0.784210476496395295\n",
       ":   0.912398174054021298\n",
       ":   0.826939709015604333\n",
       ":   0.613293546419561\n",
       "\n"
      ],
      "text/plain": [
       "      197       201       292       295       298       333 \n",
       "0.7058736 0.7842105 0.7842105 0.9123982 0.8269397 0.6132935 "
      ]
     },
     "metadata": {},
     "output_type": "display_data"
    }
   ],
   "source": [
    "preds.nfa = predict(nfa.fit, newdata = recgli[which(is.na(recgli$nfa.1) & !is.na(recgli$nfa.2)),])\n",
    "head(preds.nfa)\n",
    "recgli$nfa.1[match(names(preds.nfa), rownames(recgli))]=preds.nfa"
   ]
  },
  {
   "cell_type": "code",
   "execution_count": 68,
   "metadata": {
    "collapsed": false,
    "deletable": true,
    "editable": true
   },
   "outputs": [
    {
     "data": {
      "text/html": [
       "19"
      ],
      "text/latex": [
       "19"
      ],
      "text/markdown": [
       "19"
      ],
      "text/plain": [
       "[1] 19"
      ]
     },
     "metadata": {},
     "output_type": "display_data"
    },
    {
     "data": {
      "image/png": "[encoded data removed]",
      "text/plain": [
       "plot without title"
      ]
     },
     "metadata": {},
     "output_type": "display_data"
    }
   ],
   "source": [
    "plot(nev1.1~nev1.2, data = recgli)\n",
    "which(recgli$nev1.2>2.5 & recgli$nev1.1<1)\n",
    "nev1.fit = lm(nev1.1~nev1.2, data = recgli[-19,])\n",
    "nev1.preds = predict(nev1.fit, newdata = recgli[which(is.na(recgli$nev1.1) & !is.na(recgli$nev1.2)),])\n",
    "recgli$nev1.1[match(names(nev1.preds), rownames(recgli))]=nev1.preds"
   ]
  },
  {
   "cell_type": "code",
   "execution_count": 69,
   "metadata": {
    "collapsed": false,
    "deletable": true,
    "editable": true
   },
   "outputs": [
    {
     "data": {
      "image/png": "[encoded data removed]",
      "text/plain": [
       "plot without title"
      ]
     },
     "metadata": {},
     "output_type": "display_data"
    }
   ],
   "source": [
    "plot(nev2.1~nev2.2, data = recgli)\n",
    "nev2.fit = lm(nev2.1~nev2.2, data = recgli[-19,])\n",
    "nev2.preds = predict(nev2.fit, newdata = recgli[which(is.na(recgli$nev2.1) & !is.na(recgli$nev2.2)),])\n",
    "recgli$nev2.1[match(names(nev2.preds), rownames(recgli))]=nev2.preds"
   ]
  },
  {
   "cell_type": "code",
   "execution_count": 70,
   "metadata": {
    "collapsed": true,
    "deletable": true,
    "editable": true
   },
   "outputs": [],
   "source": [
    "nev3.fit = lm(nev3.1~nev3.2, data = recgli[-19,])\n",
    "nev3.preds = predict(nev3.fit, newdata = recgli[which(is.na(recgli$nev3.1) & !is.na(recgli$nev3.2)),])\n",
    "recgli$nev3.1[match(names(nev3.preds), rownames(recgli))]=nev3.preds"
   ]
  },
  {
   "cell_type": "code",
   "execution_count": 71,
   "metadata": {
    "collapsed": true,
    "deletable": true,
    "editable": true
   },
   "outputs": [],
   "source": [
    "nevrad.fit = lm(nevrad.1~nevrad.2, data = recgli[-19,])\n",
    "nevrad.preds = predict(nevrad.fit, newdata = recgli[which(is.na(recgli$nevrad.1) & !is.na(recgli$nevrad.2)),])\n",
    "recgli$nevrad.1[match(names(nevrad.preds), rownames(recgli))]=nevrad.preds"
   ]
  },
  {
   "cell_type": "code",
   "execution_count": 72,
   "metadata": {
    "collapsed": false,
    "deletable": true,
    "editable": true
   },
   "outputs": [],
   "source": [
    "write.csv(recgli, \"6thAnnot_researchpath_withInVivo.csv\", row.names=F)"
   ]
  },
  {
   "cell_type": "markdown",
   "metadata": {
    "deletable": true,
    "editable": true
   },
   "source": [
    "## 7. Adds in output from get_igt_stats.ipynb, w/ %CEL, NEL, NEC & inclusion criteria (can be found in DataWrangling/GetMergeData/)"
   ]
  },
  {
   "cell_type": "code",
   "execution_count": 73,
   "metadata": {
    "collapsed": false,
    "deletable": true,
    "editable": true
   },
   "outputs": [
    {
     "data": {
      "text/html": [
       "'/home/sf673542/DataWrangling/AnnotateData'"
      ],
      "text/latex": [
       "'/home/sf673542/DataWrangling/AnnotateData'"
      ],
      "text/markdown": [
       "'/home/sf673542/DataWrangling/AnnotateData'"
      ],
      "text/plain": [
       "[1] \"/home/sf673542/DataWrangling/AnnotateData\""
      ]
     },
     "metadata": {},
     "output_type": "display_data"
    }
   ],
   "source": [
    "getwd()"
   ]
  },
  {
   "cell_type": "code",
   "execution_count": 74,
   "metadata": {
    "collapsed": false,
    "deletable": true,
    "editable": true
   },
   "outputs": [],
   "source": [
    "all_recgli = read.csv(\"6thAnnot_researchpath_withInVivo.csv\")"
   ]
  },
  {
   "cell_type": "code",
   "execution_count": 75,
   "metadata": {
    "collapsed": true,
    "deletable": true,
    "editable": true
   },
   "outputs": [],
   "source": [
    "## Now igt_stats.dev just came out, so I have to re-run everything to get the igt_stats output: \n",
    "## To re-run IGT stats, I will go back to GetMergeData & do it from there in a separate notebook.\n",
    "## I ran this in get_igt_stats\n",
    "## Hopefully this will be unnecessary in the future. "
   ]
  },
  {
   "cell_type": "code",
   "execution_count": 76,
   "metadata": {
    "collapsed": false,
    "deletable": true,
    "editable": true
   },
   "outputs": [],
   "source": [
    "biopsy_igt_stats_info = read.csv('../GetMergeData/Aug2018/igt_stats_information_forBiopsyAnnot.csv')"
   ]
  },
  {
   "cell_type": "code",
   "execution_count": 77,
   "metadata": {
    "collapsed": false,
    "deletable": true,
    "editable": true
   },
   "outputs": [
    {
     "data": {
      "text/html": [
       "<ol class=list-inline>\n",
       "\t<li>654</li>\n",
       "\t<li>11</li>\n",
       "</ol>\n"
      ],
      "text/latex": [
       "\\begin{enumerate*}\n",
       "\\item 654\n",
       "\\item 11\n",
       "\\end{enumerate*}\n"
      ],
      "text/markdown": [
       "1. 654\n",
       "2. 11\n",
       "\n",
       "\n"
      ],
      "text/plain": [
       "[1] 654  11"
      ]
     },
     "metadata": {},
     "output_type": "display_data"
    }
   ],
   "source": [
    "dim(biopsy_igt_stats_info)"
   ]
  },
  {
   "cell_type": "code",
   "execution_count": 78,
   "metadata": {
    "collapsed": false,
    "deletable": true,
    "editable": true
   },
   "outputs": [
    {
     "data": {
      "text/html": [
       "<ol class=list-inline>\n",
       "\t<li>644</li>\n",
       "\t<li>60</li>\n",
       "</ol>\n"
      ],
      "text/latex": [
       "\\begin{enumerate*}\n",
       "\\item 644\n",
       "\\item 60\n",
       "\\end{enumerate*}\n"
      ],
      "text/markdown": [
       "1. 644\n",
       "2. 60\n",
       "\n",
       "\n"
      ],
      "text/plain": [
       "[1] 644  60"
      ]
     },
     "metadata": {},
     "output_type": "display_data"
    }
   ],
   "source": [
    "dim(all_recgli)"
   ]
  },
  {
   "cell_type": "code",
   "execution_count": 79,
   "metadata": {
    "collapsed": false,
    "deletable": true,
    "editable": true
   },
   "outputs": [],
   "source": [
    "all_recgli$roi.label = as.character(all_recgli$roi.label)\n",
    "biopsy_igt_stats_info$roi.label = as.character(biopsy_igt_stats_info$roi.label)\n",
    "biopsy_igt_stats_info = biopsy_igt_stats_info[,-1]"
   ]
  },
  {
   "cell_type": "code",
   "execution_count": 80,
   "metadata": {
    "collapsed": false,
    "deletable": true,
    "editable": true
   },
   "outputs": [
    {
     "data": {
      "text/html": [
       "<ol class=list-inline>\n",
       "\t<li>619</li>\n",
       "\t<li>60</li>\n",
       "</ol>\n"
      ],
      "text/latex": [
       "\\begin{enumerate*}\n",
       "\\item 619\n",
       "\\item 60\n",
       "\\end{enumerate*}\n"
      ],
      "text/markdown": [
       "1. 619\n",
       "2. 60\n",
       "\n",
       "\n"
      ],
      "text/plain": [
       "[1] 619  60"
      ]
     },
     "metadata": {},
     "output_type": "display_data"
    },
    {
     "data": {
      "text/html": [
       "<ol class=list-inline>\n",
       "\t<li>629</li>\n",
       "\t<li>10</li>\n",
       "</ol>\n"
      ],
      "text/latex": [
       "\\begin{enumerate*}\n",
       "\\item 629\n",
       "\\item 10\n",
       "\\end{enumerate*}\n"
      ],
      "text/markdown": [
       "1. 629\n",
       "2. 10\n",
       "\n",
       "\n"
      ],
      "text/plain": [
       "[1] 629  10"
      ]
     },
     "metadata": {},
     "output_type": "display_data"
    }
   ],
   "source": [
    "## getting rid of extraneous information: \n",
    "all_recgli = all_recgli[!is.na(all_recgli$roi.label),]\n",
    "all_recgli = all_recgli[all_recgli$roi.label !=\"\",]\n",
    "biopsy_igt_stats_info = biopsy_igt_stats_info[!is.na(biopsy_igt_stats_info$roi.label),]\n",
    "biopsy_igt_stats_info = biopsy_igt_stats_info[biopsy_igt_stats_info$roi.label != \"\",]\n",
    "dim(all_recgli)\n",
    "dim(biopsy_igt_stats_info)"
   ]
  },
  {
   "cell_type": "code",
   "execution_count": 81,
   "metadata": {
    "collapsed": false,
    "deletable": true,
    "editable": true
   },
   "outputs": [
    {
     "data": {
      "text/html": [
       "<ol class=list-inline>\n",
       "\t<li>627</li>\n",
       "\t<li>69</li>\n",
       "</ol>\n"
      ],
      "text/latex": [
       "\\begin{enumerate*}\n",
       "\\item 627\n",
       "\\item 69\n",
       "\\end{enumerate*}\n"
      ],
      "text/markdown": [
       "1. 627\n",
       "2. 69\n",
       "\n",
       "\n"
      ],
      "text/plain": [
       "[1] 627  69"
      ]
     },
     "metadata": {},
     "output_type": "display_data"
    }
   ],
   "source": [
    "recgli = left_join(all_recgli, biopsy_igt_stats_info, by = 'roi.label')\n",
    "dim(recgli)"
   ]
  },
  {
   "cell_type": "code",
   "execution_count": 82,
   "metadata": {
    "collapsed": false,
    "deletable": true,
    "editable": true
   },
   "outputs": [
    {
     "data": {
      "text/html": [
       "<table>\n",
       "<thead><tr><th scope=col>b_number</th><th scope=col>t_number</th><th scope=col>sf_number</th><th scope=col>current_scan_date</th><th scope=col>current_surgery_date</th><th scope=col>current_hist_grade</th><th scope=col>current_hist_type</th><th scope=col>roi.label</th><th scope=col>tumor_cell_evaluation</th><th scope=col>necrosis</th><th scope=col>f8_delicate</th><th scope=col>f8_simple</th><th scope=col>f8_complex</th><th scope=col>mib_1</th><th scope=col>bx_pure_treatment_effect</th><th scope=col>nfse</th><th scope=col>nfl</th><th scope=col>nt1c</th><th scope=col>nt1v</th><th scope=col>nadc.1</th><th scope=col>nfa.1</th><th scope=col>nev1.1</th><th scope=col>nev2.1</th><th scope=col>nev3.1</th><th scope=col>nevrad.1</th><th scope=col>nadc.2</th><th scope=col>nfa.2</th><th scope=col>nev1.2</th><th scope=col>nev2.2</th><th scope=col>nev3.2</th><th scope=col>nevrad.2</th><th scope=col>cbvn_nlin</th><th scope=col>phn_nlin</th><th scope=col>phn_npar</th><th scope=col>recovn_npar</th><th scope=col>cni</th><th scope=col>ccri</th><th scope=col>crni</th><th scope=col>ncho</th><th scope=col>ncre</th><th scope=col>nnaa</th><th scope=col>nlip</th><th scope=col>laclip</th><th scope=col>nlac</th><th scope=col>olddata</th><th scope=col>newdata</th><th scope=col>comments</th><th scope=col>notes.</th><th scope=col>imaging_code</th><th scope=col>perf_quant</th><th scope=col>cbv_nlin</th><th scope=col>spec_quant</th><th scope=col>include_anat</th><th scope=col>include_diffu1000</th><th scope=col>include_diffu2000</th><th scope=col>include_diffu_all</th><th scope=col>include_perf</th><th scope=col>include_spec</th><th scope=col>include_one_advanced_mod</th><th scope=col>include_all_advanced_mods</th><th scope=col>X.CEL</th><th scope=col>X.NEL</th><th scope=col>X.NEC</th><th scope=col>sum</th><th scope=col>in_CEL</th><th scope=col>in_T2all</th><th scope=col>in_NEL</th><th scope=col>in_NEC</th><th scope=col>in_ROI</th></tr></thead>\n",
       "<tbody>\n",
       "\t<tr><td>2723                                                                              </td><td>6369                                                                              </td><td>8122                                                                              </td><td>9/13/09                                                                           </td><td>9/14/09                                                                           </td><td>Grade IV                                                                          </td><td>Glioblastoma                                                                      </td><td>10B28                                                                             </td><td>0                                                                                 </td><td>0                                                                                 </td><td>2                                                                                 </td><td>1                                                                                 </td><td>0                                                                                 </td><td> 0.82                                                                             </td><td>t                                                                                 </td><td>2.10                                                                              </td><td>1.84                                                                              </td><td>1.20                                                                              </td><td>0.84                                                                              </td><td>1.31                                                                              </td><td>0.75                                                                              </td><td>1.19                                                                              </td><td>1.28                                                                              </td><td>1.58                                                                              </td><td>1.45                                                                              </td><td>  NA                                                                              </td><td>  NA                                                                              </td><td>  NA                                                                              </td><td>  NA                                                                              </td><td>  NA                                                                              </td><td>  NA                                                                              </td><td>0.66                                                                              </td><td>0.81                                                                              </td><td>0.79                                                                              </td><td>100.00                                                                            </td><td>4.98                                                                              </td><td>3.28                                                                              </td><td>0.24                                                                              </td><td>1.65                                                                              </td><td>0.53                                                                              </td><td>0.41                                                                              </td><td>-0.01                                                                             </td><td>0.27                                                                              </td><td>0.28                                                                              </td><td>1                                                                                 </td><td>0                                                                                 </td><td>                                                                                  </td><td>NA                                                                                </td><td>NA                                                                                </td><td>                                                                                  </td><td>NA                                                                                </td><td> 0                                                                                </td><td>1                                                                                 </td><td>1                                                                                 </td><td>0                                                                                 </td><td>1                                                                                 </td><td>1                                                                                 </td><td>1                                                                                 </td><td>1                                                                                 </td><td>1                                                                                 </td><td> 53.85                                                                            </td><td>46.15                                                                             </td><td>NA                                                                                </td><td>100.00                                                                            </td><td>1                                                                                 </td><td>1                                                                                 </td><td>0                                                                                 </td><td>0                                                                                 </td><td>1                                                                                 </td></tr>\n",
       "\t<tr><td>2312                                                                              </td><td>5317                                                                              </td><td>7679                                                                              </td><td>5/4/08                                                                            </td><td>5/4/08                                                                            </td><td>Grade IV                                                                          </td><td>Glioblastoma                                                                      </td><td>11B16                                                                             </td><td>2                                                                                 </td><td>1                                                                                 </td><td>2                                                                                 </td><td>3                                                                                 </td><td>0                                                                                 </td><td> 3.31                                                                             </td><td>f                                                                                 </td><td>2.27                                                                              </td><td>1.44                                                                              </td><td>1.88                                                                              </td><td>0.78                                                                              </td><td>1.92                                                                              </td><td>0.68                                                                              </td><td>1.63                                                                              </td><td>1.93                                                                              </td><td>2.34                                                                              </td><td>2.14                                                                              </td><td>1.91                                                                              </td><td>1.03                                                                              </td><td>1.91                                                                              </td><td>1.87                                                                              </td><td>1.88                                                                              </td><td>1.92                                                                              </td><td>2.24                                                                              </td><td>2.25                                                                              </td><td>2.25                                                                              </td><td> 98.51                                                                            </td><td>1.56                                                                              </td><td>0.30                                                                              </td><td>0.75                                                                              </td><td>0.86                                                                              </td><td>0.84                                                                              </td><td>0.46                                                                              </td><td> 0.61                                                                             </td><td>1.08                                                                              </td><td>0.47                                                                              </td><td>1                                                                                 </td><td>0                                                                                 </td><td>                                                                                  </td><td>NA                                                                                </td><td>NA                                                                                </td><td>                                                                                  </td><td>NA                                                                                </td><td> 0                                                                                </td><td>1                                                                                 </td><td>1                                                                                 </td><td>1                                                                                 </td><td>1                                                                                 </td><td>1                                                                                 </td><td>1                                                                                 </td><td>1                                                                                 </td><td>1                                                                                 </td><td>100.00                                                                            </td><td> 0.00                                                                             </td><td>NA                                                                                </td><td>100.00                                                                            </td><td>1                                                                                 </td><td>1                                                                                 </td><td>0                                                                                 </td><td>0                                                                                 </td><td>1                                                                                 </td></tr>\n",
       "\t<tr><td>2901                                                                              </td><td>8089                                                                              </td><td>8403                                                                              </td><td>6/25/10                                                                           </td><td>6/30/10                                                                           </td><td>Grade IV                                                                          </td><td>Glioblastoma                                                                      </td><td>11B35                                                                             </td><td>3                                                                                 </td><td>2                                                                                 </td><td>1                                                                                 </td><td>0                                                                                 </td><td>0                                                                                 </td><td>   NA                                                                             </td><td>f                                                                                 </td><td>  NA                                                                              </td><td>  NA                                                                              </td><td>  NA                                                                              </td><td>  NA                                                                              </td><td>  NA                                                                              </td><td>  NA                                                                              </td><td>  NA                                                                              </td><td>  NA                                                                              </td><td>  NA                                                                              </td><td>  NA                                                                              </td><td>  NA                                                                              </td><td>  NA                                                                              </td><td>  NA                                                                              </td><td>  NA                                                                              </td><td>  NA                                                                              </td><td>  NA                                                                              </td><td>  NA                                                                              </td><td>  NA                                                                              </td><td>  NA                                                                              </td><td>    NA                                                                            </td><td>  NA                                                                              </td><td>  NA                                                                              </td><td>  NA                                                                              </td><td>  NA                                                                              </td><td>  NA                                                                              </td><td>  NA                                                                              </td><td>   NA                                                                             </td><td>  NA                                                                              </td><td>  NA                                                                              </td><td>1                                                                                 </td><td>0                                                                                 </td><td>                                                                                  </td><td>NA                                                                                </td><td>biopsy_quant                                                                      </td><td>biopsymask-nonexist                                                               </td><td>NA                                                                                </td><td>NA                                                                                </td><td>0                                                                                 </td><td>0                                                                                 </td><td>0                                                                                 </td><td>0                                                                                 </td><td>0                                                                                 </td><td>0                                                                                 </td><td>0                                                                                 </td><td>0                                                                                 </td><td>    NA                                                                            </td><td>   NA                                                                             </td><td>NA                                                                                </td><td>    NA                                                                            </td><td>0                                                                                 </td><td>0                                                                                 </td><td>0                                                                                 </td><td>0                                                                                 </td><td>0                                                                                 </td></tr>\n",
       "\t<tr><td>2474                                                                              </td><td>7408                                                                              </td><td>8701                                                                              </td><td>3/23/11                                                                           </td><td>3/24/11                                                                           </td><td>Grade IV                                                                          </td><td>Glioblastoma                                                                      </td><td>11B40                                                                             </td><td>                                                                                  </td><td>                                                                                  </td><td>                                                                                  </td><td>                                                                                  </td><td>                                                                                  </td><td>   NA                                                                             </td><td>                                                                                  </td><td>1.84                                                                              </td><td>1.13                                                                              </td><td>0.82                                                                              </td><td>0.79                                                                              </td><td>1.71                                                                              </td><td>0.50                                                                              </td><td>1.35                                                                              </td><td>1.79                                                                              </td><td>2.47                                                                              </td><td>2.12                                                                              </td><td>1.71                                                                              </td><td>0.68                                                                              </td><td>1.43                                                                              </td><td>1.72                                                                              </td><td>2.02                                                                              </td><td>1.96                                                                              </td><td>1.23                                                                              </td><td>1.28                                                                              </td><td>1.21                                                                              </td><td>100.00                                                                            </td><td>2.48                                                                              </td><td>0.22                                                                              </td><td>1.66                                                                              </td><td>0.88                                                                              </td><td>0.81                                                                              </td><td>0.37                                                                              </td><td> 0.24                                                                             </td><td>0.56                                                                              </td><td>0.32                                                                              </td><td>1                                                                                 </td><td>0                                                                                 </td><td>                                                                                  </td><td>NA                                                                                </td><td>NA                                                                                </td><td>                                                                                  </td><td>NA                                                                                </td><td> 0                                                                                </td><td>1                                                                                 </td><td>1                                                                                 </td><td>1                                                                                 </td><td>1                                                                                 </td><td>1                                                                                 </td><td>1                                                                                 </td><td>1                                                                                 </td><td>1                                                                                 </td><td>  8.70                                                                            </td><td>13.04                                                                             </td><td>NA                                                                                </td><td> 21.74                                                                            </td><td>0                                                                                 </td><td>0                                                                                 </td><td>0                                                                                 </td><td>0                                                                                 </td><td>0                                                                                 </td></tr>\n",
       "\t<tr><td>3169                                                                              </td><td>7540                                                                              </td><td>8796                                                                              </td><td>6/19/11                                                                           </td><td>6/20/11                                                                           </td><td>Grade IV                                                                          </td><td>Glioblastoma                                                                      </td><td>11B43                                                                             </td><td>2                                                                                 </td><td>0                                                                                 </td><td>3                                                                                 </td><td>0                                                                                 </td><td>0                                                                                 </td><td>17.00                                                                             </td><td>f                                                                                 </td><td>2.35                                                                              </td><td>1.97                                                                              </td><td>0.76                                                                              </td><td>0.78                                                                              </td><td>1.34                                                                              </td><td>0.68                                                                              </td><td>1.13                                                                              </td><td>1.34                                                                              </td><td>1.63                                                                              </td><td>1.50                                                                              </td><td>  NA                                                                              </td><td>  NA                                                                              </td><td>  NA                                                                              </td><td>  NA                                                                              </td><td>  NA                                                                              </td><td>  NA                                                                              </td><td>0.58                                                                              </td><td>0.67                                                                              </td><td>0.60                                                                              </td><td>100.00                                                                            </td><td>  NA                                                                              </td><td>  NA                                                                              </td><td>  NA                                                                              </td><td>  NA                                                                              </td><td>  NA                                                                              </td><td>  NA                                                                              </td><td>   NA                                                                             </td><td>  NA                                                                              </td><td>  NA                                                                              </td><td>1                                                                                 </td><td>0                                                                                 </td><td>                                                                                  </td><td>NA                                                                                </td><td>NA                                                                                </td><td>                                                                                  </td><td>NA                                                                                </td><td>NA                                                                                </td><td>1                                                                                 </td><td>1                                                                                 </td><td>0                                                                                 </td><td>1                                                                                 </td><td>1                                                                                 </td><td>0                                                                                 </td><td>1                                                                                 </td><td>0                                                                                 </td><td>  0.00                                                                            </td><td>28.00                                                                             </td><td>NA                                                                                </td><td> 28.00                                                                            </td><td>0                                                                                 </td><td>1                                                                                 </td><td>1                                                                                 </td><td>0                                                                                 </td><td>1                                                                                 </td></tr>\n",
       "\t<tr><td>2312                                                                              </td><td>5317                                                                              </td><td>7679                                                                              </td><td>5/4/08                                                                            </td><td>5/4/08                                                                            </td><td>Grade IV                                                                          </td><td>Glioblastoma                                                                      </td><td>12B16                                                                             </td><td>2                                                                                 </td><td>1                                                                                 </td><td>3                                                                                 </td><td>2                                                                                 </td><td>0                                                                                 </td><td>12.84                                                                             </td><td>f                                                                                 </td><td>2.20                                                                              </td><td>1.56                                                                              </td><td>2.04                                                                              </td><td>0.74                                                                              </td><td>2.04                                                                              </td><td>0.89                                                                              </td><td>1.83                                                                              </td><td>2.12                                                                              </td><td>2.22                                                                              </td><td>2.23                                                                              </td><td>1.75                                                                              </td><td>0.69                                                                              </td><td>1.54                                                                              </td><td>1.72                                                                              </td><td>2.16                                                                              </td><td>1.96                                                                              </td><td>1.71                                                                              </td><td>1.73                                                                              </td><td>1.88                                                                              </td><td> 99.20                                                                            </td><td>2.46                                                                              </td><td>1.30                                                                              </td><td>0.55                                                                              </td><td>1.19                                                                              </td><td>0.87                                                                              </td><td>0.59                                                                              </td><td> 0.34                                                                             </td><td>0.83                                                                              </td><td>0.49                                                                              </td><td>1                                                                                 </td><td>0                                                                                 </td><td>PP necrosis; some hyalinized BV; tissue is 2/3 tumor score of 3 and 1/3 score of 1</td><td>NA                                                                                </td><td>NA                                                                                </td><td>                                                                                  </td><td>NA                                                                                </td><td> 0                                                                                </td><td>1                                                                                 </td><td>1                                                                                 </td><td>1                                                                                 </td><td>1                                                                                 </td><td>1                                                                                 </td><td>1                                                                                 </td><td>1                                                                                 </td><td>1                                                                                 </td><td>100.00                                                                            </td><td> 0.00                                                                             </td><td>NA                                                                                </td><td>100.00                                                                            </td><td>1                                                                                 </td><td>1                                                                                 </td><td>0                                                                                 </td><td>0                                                                                 </td><td>1                                                                                 </td></tr>\n",
       "</tbody>\n",
       "</table>\n"
      ],
      "text/latex": [
       "\\begin{tabular}{r|lllllllllllllllllllllllllllllllllllllllllllllllllllllllllllllllllllll}\n",
       " b\\_number & t\\_number & sf\\_number & current\\_scan\\_date & current\\_surgery\\_date & current\\_hist\\_grade & current\\_hist\\_type & roi.label & tumor\\_cell\\_evaluation & necrosis & f8\\_delicate & f8\\_simple & f8\\_complex & mib\\_1 & bx\\_pure\\_treatment\\_effect & nfse & nfl & nt1c & nt1v & nadc.1 & nfa.1 & nev1.1 & nev2.1 & nev3.1 & nevrad.1 & nadc.2 & nfa.2 & nev1.2 & nev2.2 & nev3.2 & nevrad.2 & cbvn\\_nlin & phn\\_nlin & phn\\_npar & recovn\\_npar & cni & ccri & crni & ncho & ncre & nnaa & nlip & laclip & nlac & olddata & newdata & comments & notes. & imaging\\_code & perf\\_quant & cbv\\_nlin & spec\\_quant & include\\_anat & include\\_diffu1000 & include\\_diffu2000 & include\\_diffu\\_all & include\\_perf & include\\_spec & include\\_one\\_advanced\\_mod & include\\_all\\_advanced\\_mods & X.CEL & X.NEL & X.NEC & sum & in\\_CEL & in\\_T2all & in\\_NEL & in\\_NEC & in\\_ROI\\\\\n",
       "\\hline\n",
       "\t 2723                                                                               & 6369                                                                               & 8122                                                                               & 9/13/09                                                                            & 9/14/09                                                                            & Grade IV                                                                           & Glioblastoma                                                                       & 10B28                                                                              & 0                                                                                  & 0                                                                                  & 2                                                                                  & 1                                                                                  & 0                                                                                  &  0.82                                                                              & t                                                                                  & 2.10                                                                               & 1.84                                                                               & 1.20                                                                               & 0.84                                                                               & 1.31                                                                               & 0.75                                                                               & 1.19                                                                               & 1.28                                                                               & 1.58                                                                               & 1.45                                                                               &   NA                                                                               &   NA                                                                               &   NA                                                                               &   NA                                                                               &   NA                                                                               &   NA                                                                               & 0.66                                                                               & 0.81                                                                               & 0.79                                                                               & 100.00                                                                             & 4.98                                                                               & 3.28                                                                               & 0.24                                                                               & 1.65                                                                               & 0.53                                                                               & 0.41                                                                               & -0.01                                                                              & 0.27                                                                               & 0.28                                                                               & 1                                                                                  & 0                                                                                  &                                                                                    & NA                                                                                 & NA                                                                                 &                                                                                    & NA                                                                                 &  0                                                                                 & 1                                                                                  & 1                                                                                  & 0                                                                                  & 1                                                                                  & 1                                                                                  & 1                                                                                  & 1                                                                                  & 1                                                                                  &  53.85                                                                             & 46.15                                                                              & NA                                                                                 & 100.00                                                                             & 1                                                                                  & 1                                                                                  & 0                                                                                  & 0                                                                                  & 1                                                                                 \\\\\n",
       "\t 2312                                                                               & 5317                                                                               & 7679                                                                               & 5/4/08                                                                             & 5/4/08                                                                             & Grade IV                                                                           & Glioblastoma                                                                       & 11B16                                                                              & 2                                                                                  & 1                                                                                  & 2                                                                                  & 3                                                                                  & 0                                                                                  &  3.31                                                                              & f                                                                                  & 2.27                                                                               & 1.44                                                                               & 1.88                                                                               & 0.78                                                                               & 1.92                                                                               & 0.68                                                                               & 1.63                                                                               & 1.93                                                                               & 2.34                                                                               & 2.14                                                                               & 1.91                                                                               & 1.03                                                                               & 1.91                                                                               & 1.87                                                                               & 1.88                                                                               & 1.92                                                                               & 2.24                                                                               & 2.25                                                                               & 2.25                                                                               &  98.51                                                                             & 1.56                                                                               & 0.30                                                                               & 0.75                                                                               & 0.86                                                                               & 0.84                                                                               & 0.46                                                                               &  0.61                                                                              & 1.08                                                                               & 0.47                                                                               & 1                                                                                  & 0                                                                                  &                                                                                    & NA                                                                                 & NA                                                                                 &                                                                                    & NA                                                                                 &  0                                                                                 & 1                                                                                  & 1                                                                                  & 1                                                                                  & 1                                                                                  & 1                                                                                  & 1                                                                                  & 1                                                                                  & 1                                                                                  & 100.00                                                                             &  0.00                                                                              & NA                                                                                 & 100.00                                                                             & 1                                                                                  & 1                                                                                  & 0                                                                                  & 0                                                                                  & 1                                                                                 \\\\\n",
       "\t 2901                                                                               & 8089                                                                               & 8403                                                                               & 6/25/10                                                                            & 6/30/10                                                                            & Grade IV                                                                           & Glioblastoma                                                                       & 11B35                                                                              & 3                                                                                  & 2                                                                                  & 1                                                                                  & 0                                                                                  & 0                                                                                  &    NA                                                                              & f                                                                                  &   NA                                                                               &   NA                                                                               &   NA                                                                               &   NA                                                                               &   NA                                                                               &   NA                                                                               &   NA                                                                               &   NA                                                                               &   NA                                                                               &   NA                                                                               &   NA                                                                               &   NA                                                                               &   NA                                                                               &   NA                                                                               &   NA                                                                               &   NA                                                                               &   NA                                                                               &   NA                                                                               &   NA                                                                               &     NA                                                                             &   NA                                                                               &   NA                                                                               &   NA                                                                               &   NA                                                                               &   NA                                                                               &   NA                                                                               &    NA                                                                              &   NA                                                                               &   NA                                                                               & 1                                                                                  & 0                                                                                  &                                                                                    & NA                                                                                 & biopsy\\_quant                                                                     & biopsymask-nonexist                                                                & NA                                                                                 & NA                                                                                 & 0                                                                                  & 0                                                                                  & 0                                                                                  & 0                                                                                  & 0                                                                                  & 0                                                                                  & 0                                                                                  & 0                                                                                  &     NA                                                                             &    NA                                                                              & NA                                                                                 &     NA                                                                             & 0                                                                                  & 0                                                                                  & 0                                                                                  & 0                                                                                  & 0                                                                                 \\\\\n",
       "\t 2474                                                                               & 7408                                                                               & 8701                                                                               & 3/23/11                                                                            & 3/24/11                                                                            & Grade IV                                                                           & Glioblastoma                                                                       & 11B40                                                                              &                                                                                    &                                                                                    &                                                                                    &                                                                                    &                                                                                    &    NA                                                                              &                                                                                    & 1.84                                                                               & 1.13                                                                               & 0.82                                                                               & 0.79                                                                               & 1.71                                                                               & 0.50                                                                               & 1.35                                                                               & 1.79                                                                               & 2.47                                                                               & 2.12                                                                               & 1.71                                                                               & 0.68                                                                               & 1.43                                                                               & 1.72                                                                               & 2.02                                                                               & 1.96                                                                               & 1.23                                                                               & 1.28                                                                               & 1.21                                                                               & 100.00                                                                             & 2.48                                                                               & 0.22                                                                               & 1.66                                                                               & 0.88                                                                               & 0.81                                                                               & 0.37                                                                               &  0.24                                                                              & 0.56                                                                               & 0.32                                                                               & 1                                                                                  & 0                                                                                  &                                                                                    & NA                                                                                 & NA                                                                                 &                                                                                    & NA                                                                                 &  0                                                                                 & 1                                                                                  & 1                                                                                  & 1                                                                                  & 1                                                                                  & 1                                                                                  & 1                                                                                  & 1                                                                                  & 1                                                                                  &   8.70                                                                             & 13.04                                                                              & NA                                                                                 &  21.74                                                                             & 0                                                                                  & 0                                                                                  & 0                                                                                  & 0                                                                                  & 0                                                                                 \\\\\n",
       "\t 3169                                                                               & 7540                                                                               & 8796                                                                               & 6/19/11                                                                            & 6/20/11                                                                            & Grade IV                                                                           & Glioblastoma                                                                       & 11B43                                                                              & 2                                                                                  & 0                                                                                  & 3                                                                                  & 0                                                                                  & 0                                                                                  & 17.00                                                                              & f                                                                                  & 2.35                                                                               & 1.97                                                                               & 0.76                                                                               & 0.78                                                                               & 1.34                                                                               & 0.68                                                                               & 1.13                                                                               & 1.34                                                                               & 1.63                                                                               & 1.50                                                                               &   NA                                                                               &   NA                                                                               &   NA                                                                               &   NA                                                                               &   NA                                                                               &   NA                                                                               & 0.58                                                                               & 0.67                                                                               & 0.60                                                                               & 100.00                                                                             &   NA                                                                               &   NA                                                                               &   NA                                                                               &   NA                                                                               &   NA                                                                               &   NA                                                                               &    NA                                                                              &   NA                                                                               &   NA                                                                               & 1                                                                                  & 0                                                                                  &                                                                                    & NA                                                                                 & NA                                                                                 &                                                                                    & NA                                                                                 & NA                                                                                 & 1                                                                                  & 1                                                                                  & 0                                                                                  & 1                                                                                  & 1                                                                                  & 0                                                                                  & 1                                                                                  & 0                                                                                  &   0.00                                                                             & 28.00                                                                              & NA                                                                                 &  28.00                                                                             & 0                                                                                  & 1                                                                                  & 1                                                                                  & 0                                                                                  & 1                                                                                 \\\\\n",
       "\t 2312                                                                               & 5317                                                                               & 7679                                                                               & 5/4/08                                                                             & 5/4/08                                                                             & Grade IV                                                                           & Glioblastoma                                                                       & 12B16                                                                              & 2                                                                                  & 1                                                                                  & 3                                                                                  & 2                                                                                  & 0                                                                                  & 12.84                                                                              & f                                                                                  & 2.20                                                                               & 1.56                                                                               & 2.04                                                                               & 0.74                                                                               & 2.04                                                                               & 0.89                                                                               & 1.83                                                                               & 2.12                                                                               & 2.22                                                                               & 2.23                                                                               & 1.75                                                                               & 0.69                                                                               & 1.54                                                                               & 1.72                                                                               & 2.16                                                                               & 1.96                                                                               & 1.71                                                                               & 1.73                                                                               & 1.88                                                                               &  99.20                                                                             & 2.46                                                                               & 1.30                                                                               & 0.55                                                                               & 1.19                                                                               & 0.87                                                                               & 0.59                                                                               &  0.34                                                                              & 0.83                                                                               & 0.49                                                                               & 1                                                                                  & 0                                                                                  & PP necrosis; some hyalinized BV; tissue is 2/3 tumor score of 3 and 1/3 score of 1 & NA                                                                                 & NA                                                                                 &                                                                                    & NA                                                                                 &  0                                                                                 & 1                                                                                  & 1                                                                                  & 1                                                                                  & 1                                                                                  & 1                                                                                  & 1                                                                                  & 1                                                                                  & 1                                                                                  & 100.00                                                                             &  0.00                                                                              & NA                                                                                 & 100.00                                                                             & 1                                                                                  & 1                                                                                  & 0                                                                                  & 0                                                                                  & 1                                                                                 \\\\\n",
       "\\end{tabular}\n"
      ],
      "text/markdown": [
       "\n",
       "b_number | t_number | sf_number | current_scan_date | current_surgery_date | current_hist_grade | current_hist_type | roi.label | tumor_cell_evaluation | necrosis | f8_delicate | f8_simple | f8_complex | mib_1 | bx_pure_treatment_effect | nfse | nfl | nt1c | nt1v | nadc.1 | nfa.1 | nev1.1 | nev2.1 | nev3.1 | nevrad.1 | nadc.2 | nfa.2 | nev1.2 | nev2.2 | nev3.2 | nevrad.2 | cbvn_nlin | phn_nlin | phn_npar | recovn_npar | cni | ccri | crni | ncho | ncre | nnaa | nlip | laclip | nlac | olddata | newdata | comments | notes. | imaging_code | perf_quant | cbv_nlin | spec_quant | include_anat | include_diffu1000 | include_diffu2000 | include_diffu_all | include_perf | include_spec | include_one_advanced_mod | include_all_advanced_mods | X.CEL | X.NEL | X.NEC | sum | in_CEL | in_T2all | in_NEL | in_NEC | in_ROI | \n",
       "|---|---|---|---|---|---|\n",
       "| 2723                                                                               | 6369                                                                               | 8122                                                                               | 9/13/09                                                                            | 9/14/09                                                                            | Grade IV                                                                           | Glioblastoma                                                                       | 10B28                                                                              | 0                                                                                  | 0                                                                                  | 2                                                                                  | 1                                                                                  | 0                                                                                  |  0.82                                                                              | t                                                                                  | 2.10                                                                               | 1.84                                                                               | 1.20                                                                               | 0.84                                                                               | 1.31                                                                               | 0.75                                                                               | 1.19                                                                               | 1.28                                                                               | 1.58                                                                               | 1.45                                                                               |   NA                                                                               |   NA                                                                               |   NA                                                                               |   NA                                                                               |   NA                                                                               |   NA                                                                               | 0.66                                                                               | 0.81                                                                               | 0.79                                                                               | 100.00                                                                             | 4.98                                                                               | 3.28                                                                               | 0.24                                                                               | 1.65                                                                               | 0.53                                                                               | 0.41                                                                               | -0.01                                                                              | 0.27                                                                               | 0.28                                                                               | 1                                                                                  | 0                                                                                  |                                                                                    | NA                                                                                 | NA                                                                                 |                                                                                    | NA                                                                                 |  0                                                                                 | 1                                                                                  | 1                                                                                  | 0                                                                                  | 1                                                                                  | 1                                                                                  | 1                                                                                  | 1                                                                                  | 1                                                                                  |  53.85                                                                             | 46.15                                                                              | NA                                                                                 | 100.00                                                                             | 1                                                                                  | 1                                                                                  | 0                                                                                  | 0                                                                                  | 1                                                                                  | \n",
       "| 2312                                                                               | 5317                                                                               | 7679                                                                               | 5/4/08                                                                             | 5/4/08                                                                             | Grade IV                                                                           | Glioblastoma                                                                       | 11B16                                                                              | 2                                                                                  | 1                                                                                  | 2                                                                                  | 3                                                                                  | 0                                                                                  |  3.31                                                                              | f                                                                                  | 2.27                                                                               | 1.44                                                                               | 1.88                                                                               | 0.78                                                                               | 1.92                                                                               | 0.68                                                                               | 1.63                                                                               | 1.93                                                                               | 2.34                                                                               | 2.14                                                                               | 1.91                                                                               | 1.03                                                                               | 1.91                                                                               | 1.87                                                                               | 1.88                                                                               | 1.92                                                                               | 2.24                                                                               | 2.25                                                                               | 2.25                                                                               |  98.51                                                                             | 1.56                                                                               | 0.30                                                                               | 0.75                                                                               | 0.86                                                                               | 0.84                                                                               | 0.46                                                                               |  0.61                                                                              | 1.08                                                                               | 0.47                                                                               | 1                                                                                  | 0                                                                                  |                                                                                    | NA                                                                                 | NA                                                                                 |                                                                                    | NA                                                                                 |  0                                                                                 | 1                                                                                  | 1                                                                                  | 1                                                                                  | 1                                                                                  | 1                                                                                  | 1                                                                                  | 1                                                                                  | 1                                                                                  | 100.00                                                                             |  0.00                                                                              | NA                                                                                 | 100.00                                                                             | 1                                                                                  | 1                                                                                  | 0                                                                                  | 0                                                                                  | 1                                                                                  | \n",
       "| 2901                                                                               | 8089                                                                               | 8403                                                                               | 6/25/10                                                                            | 6/30/10                                                                            | Grade IV                                                                           | Glioblastoma                                                                       | 11B35                                                                              | 3                                                                                  | 2                                                                                  | 1                                                                                  | 0                                                                                  | 0                                                                                  |    NA                                                                              | f                                                                                  |   NA                                                                               |   NA                                                                               |   NA                                                                               |   NA                                                                               |   NA                                                                               |   NA                                                                               |   NA                                                                               |   NA                                                                               |   NA                                                                               |   NA                                                                               |   NA                                                                               |   NA                                                                               |   NA                                                                               |   NA                                                                               |   NA                                                                               |   NA                                                                               |   NA                                                                               |   NA                                                                               |   NA                                                                               |     NA                                                                             |   NA                                                                               |   NA                                                                               |   NA                                                                               |   NA                                                                               |   NA                                                                               |   NA                                                                               |    NA                                                                              |   NA                                                                               |   NA                                                                               | 1                                                                                  | 0                                                                                  |                                                                                    | NA                                                                                 | biopsy_quant                                                                       | biopsymask-nonexist                                                                | NA                                                                                 | NA                                                                                 | 0                                                                                  | 0                                                                                  | 0                                                                                  | 0                                                                                  | 0                                                                                  | 0                                                                                  | 0                                                                                  | 0                                                                                  |     NA                                                                             |    NA                                                                              | NA                                                                                 |     NA                                                                             | 0                                                                                  | 0                                                                                  | 0                                                                                  | 0                                                                                  | 0                                                                                  | \n",
       "| 2474                                                                               | 7408                                                                               | 8701                                                                               | 3/23/11                                                                            | 3/24/11                                                                            | Grade IV                                                                           | Glioblastoma                                                                       | 11B40                                                                              |                                                                                    |                                                                                    |                                                                                    |                                                                                    |                                                                                    |    NA                                                                              |                                                                                    | 1.84                                                                               | 1.13                                                                               | 0.82                                                                               | 0.79                                                                               | 1.71                                                                               | 0.50                                                                               | 1.35                                                                               | 1.79                                                                               | 2.47                                                                               | 2.12                                                                               | 1.71                                                                               | 0.68                                                                               | 1.43                                                                               | 1.72                                                                               | 2.02                                                                               | 1.96                                                                               | 1.23                                                                               | 1.28                                                                               | 1.21                                                                               | 100.00                                                                             | 2.48                                                                               | 0.22                                                                               | 1.66                                                                               | 0.88                                                                               | 0.81                                                                               | 0.37                                                                               |  0.24                                                                              | 0.56                                                                               | 0.32                                                                               | 1                                                                                  | 0                                                                                  |                                                                                    | NA                                                                                 | NA                                                                                 |                                                                                    | NA                                                                                 |  0                                                                                 | 1                                                                                  | 1                                                                                  | 1                                                                                  | 1                                                                                  | 1                                                                                  | 1                                                                                  | 1                                                                                  | 1                                                                                  |   8.70                                                                             | 13.04                                                                              | NA                                                                                 |  21.74                                                                             | 0                                                                                  | 0                                                                                  | 0                                                                                  | 0                                                                                  | 0                                                                                  | \n",
       "| 3169                                                                               | 7540                                                                               | 8796                                                                               | 6/19/11                                                                            | 6/20/11                                                                            | Grade IV                                                                           | Glioblastoma                                                                       | 11B43                                                                              | 2                                                                                  | 0                                                                                  | 3                                                                                  | 0                                                                                  | 0                                                                                  | 17.00                                                                              | f                                                                                  | 2.35                                                                               | 1.97                                                                               | 0.76                                                                               | 0.78                                                                               | 1.34                                                                               | 0.68                                                                               | 1.13                                                                               | 1.34                                                                               | 1.63                                                                               | 1.50                                                                               |   NA                                                                               |   NA                                                                               |   NA                                                                               |   NA                                                                               |   NA                                                                               |   NA                                                                               | 0.58                                                                               | 0.67                                                                               | 0.60                                                                               | 100.00                                                                             |   NA                                                                               |   NA                                                                               |   NA                                                                               |   NA                                                                               |   NA                                                                               |   NA                                                                               |    NA                                                                              |   NA                                                                               |   NA                                                                               | 1                                                                                  | 0                                                                                  |                                                                                    | NA                                                                                 | NA                                                                                 |                                                                                    | NA                                                                                 | NA                                                                                 | 1                                                                                  | 1                                                                                  | 0                                                                                  | 1                                                                                  | 1                                                                                  | 0                                                                                  | 1                                                                                  | 0                                                                                  |   0.00                                                                             | 28.00                                                                              | NA                                                                                 |  28.00                                                                             | 0                                                                                  | 1                                                                                  | 1                                                                                  | 0                                                                                  | 1                                                                                  | \n",
       "| 2312                                                                               | 5317                                                                               | 7679                                                                               | 5/4/08                                                                             | 5/4/08                                                                             | Grade IV                                                                           | Glioblastoma                                                                       | 12B16                                                                              | 2                                                                                  | 1                                                                                  | 3                                                                                  | 2                                                                                  | 0                                                                                  | 12.84                                                                              | f                                                                                  | 2.20                                                                               | 1.56                                                                               | 2.04                                                                               | 0.74                                                                               | 2.04                                                                               | 0.89                                                                               | 1.83                                                                               | 2.12                                                                               | 2.22                                                                               | 2.23                                                                               | 1.75                                                                               | 0.69                                                                               | 1.54                                                                               | 1.72                                                                               | 2.16                                                                               | 1.96                                                                               | 1.71                                                                               | 1.73                                                                               | 1.88                                                                               |  99.20                                                                             | 2.46                                                                               | 1.30                                                                               | 0.55                                                                               | 1.19                                                                               | 0.87                                                                               | 0.59                                                                               |  0.34                                                                              | 0.83                                                                               | 0.49                                                                               | 1                                                                                  | 0                                                                                  | PP necrosis; some hyalinized BV; tissue is 2/3 tumor score of 3 and 1/3 score of 1 | NA                                                                                 | NA                                                                                 |                                                                                    | NA                                                                                 |  0                                                                                 | 1                                                                                  | 1                                                                                  | 1                                                                                  | 1                                                                                  | 1                                                                                  | 1                                                                                  | 1                                                                                  | 1                                                                                  | 100.00                                                                             |  0.00                                                                              | NA                                                                                 | 100.00                                                                             | 1                                                                                  | 1                                                                                  | 0                                                                                  | 0                                                                                  | 1                                                                                  | \n",
       "\n",
       "\n"
      ],
      "text/plain": [
       "  b_number t_number sf_number current_scan_date current_surgery_date\n",
       "1 2723     6369     8122      9/13/09           9/14/09             \n",
       "2 2312     5317     7679      5/4/08            5/4/08              \n",
       "3 2901     8089     8403      6/25/10           6/30/10             \n",
       "4 2474     7408     8701      3/23/11           3/24/11             \n",
       "5 3169     7540     8796      6/19/11           6/20/11             \n",
       "6 2312     5317     7679      5/4/08            5/4/08              \n",
       "  current_hist_grade current_hist_type roi.label tumor_cell_evaluation necrosis\n",
       "1 Grade IV           Glioblastoma      10B28     0                     0       \n",
       "2 Grade IV           Glioblastoma      11B16     2                     1       \n",
       "3 Grade IV           Glioblastoma      11B35     3                     2       \n",
       "4 Grade IV           Glioblastoma      11B40                                   \n",
       "5 Grade IV           Glioblastoma      11B43     2                     0       \n",
       "6 Grade IV           Glioblastoma      12B16     2                     1       \n",
       "  f8_delicate f8_simple f8_complex mib_1 bx_pure_treatment_effect nfse nfl \n",
       "1 2           1         0           0.82 t                        2.10 1.84\n",
       "2 2           3         0           3.31 f                        2.27 1.44\n",
       "3 1           0         0             NA f                          NA   NA\n",
       "4                                     NA                          1.84 1.13\n",
       "5 3           0         0          17.00 f                        2.35 1.97\n",
       "6 3           2         0          12.84 f                        2.20 1.56\n",
       "  nt1c nt1v nadc.1 nfa.1 nev1.1 nev2.1 nev3.1 nevrad.1 nadc.2 nfa.2 nev1.2\n",
       "1 1.20 0.84 1.31   0.75  1.19   1.28   1.58   1.45       NA     NA    NA  \n",
       "2 1.88 0.78 1.92   0.68  1.63   1.93   2.34   2.14     1.91   1.03  1.91  \n",
       "3   NA   NA   NA     NA    NA     NA     NA     NA       NA     NA    NA  \n",
       "4 0.82 0.79 1.71   0.50  1.35   1.79   2.47   2.12     1.71   0.68  1.43  \n",
       "5 0.76 0.78 1.34   0.68  1.13   1.34   1.63   1.50       NA     NA    NA  \n",
       "6 2.04 0.74 2.04   0.89  1.83   2.12   2.22   2.23     1.75   0.69  1.54  \n",
       "  nev2.2 nev3.2 nevrad.2 cbvn_nlin phn_nlin phn_npar recovn_npar cni  ccri crni\n",
       "1   NA     NA     NA     0.66      0.81     0.79     100.00      4.98 3.28 0.24\n",
       "2 1.87   1.88   1.92     2.24      2.25     2.25      98.51      1.56 0.30 0.75\n",
       "3   NA     NA     NA       NA        NA       NA         NA        NA   NA   NA\n",
       "4 1.72   2.02   1.96     1.23      1.28     1.21     100.00      2.48 0.22 1.66\n",
       "5   NA     NA     NA     0.58      0.67     0.60     100.00        NA   NA   NA\n",
       "6 1.72   2.16   1.96     1.71      1.73     1.88      99.20      2.46 1.30 0.55\n",
       "  ncho ncre nnaa nlip  laclip nlac olddata newdata\n",
       "1 1.65 0.53 0.41 -0.01 0.27   0.28 1       0      \n",
       "2 0.86 0.84 0.46  0.61 1.08   0.47 1       0      \n",
       "3   NA   NA   NA    NA   NA     NA 1       0      \n",
       "4 0.88 0.81 0.37  0.24 0.56   0.32 1       0      \n",
       "5   NA   NA   NA    NA   NA     NA 1       0      \n",
       "6 1.19 0.87 0.59  0.34 0.83   0.49 1       0      \n",
       "  comments                                                                          \n",
       "1                                                                                   \n",
       "2                                                                                   \n",
       "3                                                                                   \n",
       "4                                                                                   \n",
       "5                                                                                   \n",
       "6 PP necrosis; some hyalinized BV; tissue is 2/3 tumor score of 3 and 1/3 score of 1\n",
       "  notes. imaging_code perf_quant          cbv_nlin spec_quant include_anat\n",
       "1 NA     NA                               NA        0         1           \n",
       "2 NA     NA                               NA        0         1           \n",
       "3 NA     biopsy_quant biopsymask-nonexist NA       NA         0           \n",
       "4 NA     NA                               NA        0         1           \n",
       "5 NA     NA                               NA       NA         1           \n",
       "6 NA     NA                               NA        0         1           \n",
       "  include_diffu1000 include_diffu2000 include_diffu_all include_perf\n",
       "1 1                 0                 1                 1           \n",
       "2 1                 1                 1                 1           \n",
       "3 0                 0                 0                 0           \n",
       "4 1                 1                 1                 1           \n",
       "5 1                 0                 1                 1           \n",
       "6 1                 1                 1                 1           \n",
       "  include_spec include_one_advanced_mod include_all_advanced_mods X.CEL  X.NEL\n",
       "1 1            1                        1                          53.85 46.15\n",
       "2 1            1                        1                         100.00  0.00\n",
       "3 0            0                        0                             NA    NA\n",
       "4 1            1                        1                           8.70 13.04\n",
       "5 0            1                        0                           0.00 28.00\n",
       "6 1            1                        1                         100.00  0.00\n",
       "  X.NEC sum    in_CEL in_T2all in_NEL in_NEC in_ROI\n",
       "1 NA    100.00 1      1        0      0      1     \n",
       "2 NA    100.00 1      1        0      0      1     \n",
       "3 NA        NA 0      0        0      0      0     \n",
       "4 NA     21.74 0      0        0      0      0     \n",
       "5 NA     28.00 0      1        1      0      1     \n",
       "6 NA    100.00 1      1        0      0      1     "
      ]
     },
     "metadata": {},
     "output_type": "display_data"
    }
   ],
   "source": [
    "head(recgli)"
   ]
  },
  {
   "cell_type": "code",
   "execution_count": 83,
   "metadata": {
    "collapsed": true,
    "deletable": true,
    "editable": true
   },
   "outputs": [],
   "source": [
    "write.csv(recgli, \"7thAnnot_researchpath_withInVivo.csv\", row.names = F )"
   ]
  },
  {
   "cell_type": "markdown",
   "metadata": {
    "deletable": true,
    "editable": true
   },
   "source": [
    "## 8. Excludes ependymomas and other non-astro non-oligo HGGs (desired_hist) \n"
   ]
  },
  {
   "cell_type": "code",
   "execution_count": 84,
   "metadata": {
    "collapsed": true,
    "deletable": true,
    "editable": true
   },
   "outputs": [],
   "source": [
    "all_recgli = read.csv(\"7thAnnot_researchpath_withInVivo.csv\")"
   ]
  },
  {
   "cell_type": "code",
   "execution_count": 85,
   "metadata": {
    "collapsed": false,
    "deletable": true,
    "editable": true
   },
   "outputs": [
    {
     "data": {
      "text/html": [
       "<ol class=list-inline>\n",
       "\t<li>627</li>\n",
       "\t<li>69</li>\n",
       "</ol>\n"
      ],
      "text/latex": [
       "\\begin{enumerate*}\n",
       "\\item 627\n",
       "\\item 69\n",
       "\\end{enumerate*}\n"
      ],
      "text/markdown": [
       "1. 627\n",
       "2. 69\n",
       "\n",
       "\n"
      ],
      "text/plain": [
       "[1] 627  69"
      ]
     },
     "metadata": {},
     "output_type": "display_data"
    },
    {
     "data": {
      "text/html": [
       "<ol class=list-inline>\n",
       "\t<li>'b_number'</li>\n",
       "\t<li>'t_number'</li>\n",
       "\t<li>'sf_number'</li>\n",
       "\t<li>'current_scan_date'</li>\n",
       "\t<li>'current_surgery_date'</li>\n",
       "\t<li>'current_hist_grade'</li>\n",
       "\t<li>'current_hist_type'</li>\n",
       "\t<li>'roi.label'</li>\n",
       "\t<li>'tumor_cell_evaluation'</li>\n",
       "\t<li>'necrosis'</li>\n",
       "\t<li>'f8_delicate'</li>\n",
       "\t<li>'f8_simple'</li>\n",
       "\t<li>'f8_complex'</li>\n",
       "\t<li>'mib_1'</li>\n",
       "\t<li>'bx_pure_treatment_effect'</li>\n",
       "\t<li>'nfse'</li>\n",
       "\t<li>'nfl'</li>\n",
       "\t<li>'nt1c'</li>\n",
       "\t<li>'nt1v'</li>\n",
       "\t<li>'nadc.1'</li>\n",
       "\t<li>'nfa.1'</li>\n",
       "\t<li>'nev1.1'</li>\n",
       "\t<li>'nev2.1'</li>\n",
       "\t<li>'nev3.1'</li>\n",
       "\t<li>'nevrad.1'</li>\n",
       "\t<li>'nadc.2'</li>\n",
       "\t<li>'nfa.2'</li>\n",
       "\t<li>'nev1.2'</li>\n",
       "\t<li>'nev2.2'</li>\n",
       "\t<li>'nev3.2'</li>\n",
       "\t<li>'nevrad.2'</li>\n",
       "\t<li>'cbvn_nlin'</li>\n",
       "\t<li>'phn_nlin'</li>\n",
       "\t<li>'phn_npar'</li>\n",
       "\t<li>'recovn_npar'</li>\n",
       "\t<li>'cni'</li>\n",
       "\t<li>'ccri'</li>\n",
       "\t<li>'crni'</li>\n",
       "\t<li>'ncho'</li>\n",
       "\t<li>'ncre'</li>\n",
       "\t<li>'nnaa'</li>\n",
       "\t<li>'nlip'</li>\n",
       "\t<li>'laclip'</li>\n",
       "\t<li>'nlac'</li>\n",
       "\t<li>'olddata'</li>\n",
       "\t<li>'newdata'</li>\n",
       "\t<li>'comments'</li>\n",
       "\t<li>'notes.'</li>\n",
       "\t<li>'imaging_code'</li>\n",
       "\t<li>'perf_quant'</li>\n",
       "\t<li>'cbv_nlin'</li>\n",
       "\t<li>'spec_quant'</li>\n",
       "\t<li>'include_anat'</li>\n",
       "\t<li>'include_diffu1000'</li>\n",
       "\t<li>'include_diffu2000'</li>\n",
       "\t<li>'include_diffu_all'</li>\n",
       "\t<li>'include_perf'</li>\n",
       "\t<li>'include_spec'</li>\n",
       "\t<li>'include_one_advanced_mod'</li>\n",
       "\t<li>'include_all_advanced_mods'</li>\n",
       "\t<li>'X.CEL'</li>\n",
       "\t<li>'X.NEL'</li>\n",
       "\t<li>'X.NEC'</li>\n",
       "\t<li>'sum'</li>\n",
       "\t<li>'in_CEL'</li>\n",
       "\t<li>'in_T2all'</li>\n",
       "\t<li>'in_NEL'</li>\n",
       "\t<li>'in_NEC'</li>\n",
       "\t<li>'in_ROI'</li>\n",
       "\t<li>'desired_hist'</li>\n",
       "</ol>\n"
      ],
      "text/latex": [
       "\\begin{enumerate*}\n",
       "\\item 'b\\_number'\n",
       "\\item 't\\_number'\n",
       "\\item 'sf\\_number'\n",
       "\\item 'current\\_scan\\_date'\n",
       "\\item 'current\\_surgery\\_date'\n",
       "\\item 'current\\_hist\\_grade'\n",
       "\\item 'current\\_hist\\_type'\n",
       "\\item 'roi.label'\n",
       "\\item 'tumor\\_cell\\_evaluation'\n",
       "\\item 'necrosis'\n",
       "\\item 'f8\\_delicate'\n",
       "\\item 'f8\\_simple'\n",
       "\\item 'f8\\_complex'\n",
       "\\item 'mib\\_1'\n",
       "\\item 'bx\\_pure\\_treatment\\_effect'\n",
       "\\item 'nfse'\n",
       "\\item 'nfl'\n",
       "\\item 'nt1c'\n",
       "\\item 'nt1v'\n",
       "\\item 'nadc.1'\n",
       "\\item 'nfa.1'\n",
       "\\item 'nev1.1'\n",
       "\\item 'nev2.1'\n",
       "\\item 'nev3.1'\n",
       "\\item 'nevrad.1'\n",
       "\\item 'nadc.2'\n",
       "\\item 'nfa.2'\n",
       "\\item 'nev1.2'\n",
       "\\item 'nev2.2'\n",
       "\\item 'nev3.2'\n",
       "\\item 'nevrad.2'\n",
       "\\item 'cbvn\\_nlin'\n",
       "\\item 'phn\\_nlin'\n",
       "\\item 'phn\\_npar'\n",
       "\\item 'recovn\\_npar'\n",
       "\\item 'cni'\n",
       "\\item 'ccri'\n",
       "\\item 'crni'\n",
       "\\item 'ncho'\n",
       "\\item 'ncre'\n",
       "\\item 'nnaa'\n",
       "\\item 'nlip'\n",
       "\\item 'laclip'\n",
       "\\item 'nlac'\n",
       "\\item 'olddata'\n",
       "\\item 'newdata'\n",
       "\\item 'comments'\n",
       "\\item 'notes.'\n",
       "\\item 'imaging\\_code'\n",
       "\\item 'perf\\_quant'\n",
       "\\item 'cbv\\_nlin'\n",
       "\\item 'spec\\_quant'\n",
       "\\item 'include\\_anat'\n",
       "\\item 'include\\_diffu1000'\n",
       "\\item 'include\\_diffu2000'\n",
       "\\item 'include\\_diffu\\_all'\n",
       "\\item 'include\\_perf'\n",
       "\\item 'include\\_spec'\n",
       "\\item 'include\\_one\\_advanced\\_mod'\n",
       "\\item 'include\\_all\\_advanced\\_mods'\n",
       "\\item 'X.CEL'\n",
       "\\item 'X.NEL'\n",
       "\\item 'X.NEC'\n",
       "\\item 'sum'\n",
       "\\item 'in\\_CEL'\n",
       "\\item 'in\\_T2all'\n",
       "\\item 'in\\_NEL'\n",
       "\\item 'in\\_NEC'\n",
       "\\item 'in\\_ROI'\n",
       "\\item 'desired\\_hist'\n",
       "\\end{enumerate*}\n"
      ],
      "text/markdown": [
       "1. 'b_number'\n",
       "2. 't_number'\n",
       "3. 'sf_number'\n",
       "4. 'current_scan_date'\n",
       "5. 'current_surgery_date'\n",
       "6. 'current_hist_grade'\n",
       "7. 'current_hist_type'\n",
       "8. 'roi.label'\n",
       "9. 'tumor_cell_evaluation'\n",
       "10. 'necrosis'\n",
       "11. 'f8_delicate'\n",
       "12. 'f8_simple'\n",
       "13. 'f8_complex'\n",
       "14. 'mib_1'\n",
       "15. 'bx_pure_treatment_effect'\n",
       "16. 'nfse'\n",
       "17. 'nfl'\n",
       "18. 'nt1c'\n",
       "19. 'nt1v'\n",
       "20. 'nadc.1'\n",
       "21. 'nfa.1'\n",
       "22. 'nev1.1'\n",
       "23. 'nev2.1'\n",
       "24. 'nev3.1'\n",
       "25. 'nevrad.1'\n",
       "26. 'nadc.2'\n",
       "27. 'nfa.2'\n",
       "28. 'nev1.2'\n",
       "29. 'nev2.2'\n",
       "30. 'nev3.2'\n",
       "31. 'nevrad.2'\n",
       "32. 'cbvn_nlin'\n",
       "33. 'phn_nlin'\n",
       "34. 'phn_npar'\n",
       "35. 'recovn_npar'\n",
       "36. 'cni'\n",
       "37. 'ccri'\n",
       "38. 'crni'\n",
       "39. 'ncho'\n",
       "40. 'ncre'\n",
       "41. 'nnaa'\n",
       "42. 'nlip'\n",
       "43. 'laclip'\n",
       "44. 'nlac'\n",
       "45. 'olddata'\n",
       "46. 'newdata'\n",
       "47. 'comments'\n",
       "48. 'notes.'\n",
       "49. 'imaging_code'\n",
       "50. 'perf_quant'\n",
       "51. 'cbv_nlin'\n",
       "52. 'spec_quant'\n",
       "53. 'include_anat'\n",
       "54. 'include_diffu1000'\n",
       "55. 'include_diffu2000'\n",
       "56. 'include_diffu_all'\n",
       "57. 'include_perf'\n",
       "58. 'include_spec'\n",
       "59. 'include_one_advanced_mod'\n",
       "60. 'include_all_advanced_mods'\n",
       "61. 'X.CEL'\n",
       "62. 'X.NEL'\n",
       "63. 'X.NEC'\n",
       "64. 'sum'\n",
       "65. 'in_CEL'\n",
       "66. 'in_T2all'\n",
       "67. 'in_NEL'\n",
       "68. 'in_NEC'\n",
       "69. 'in_ROI'\n",
       "70. 'desired_hist'\n",
       "\n",
       "\n"
      ],
      "text/plain": [
       " [1] \"b_number\"                  \"t_number\"                 \n",
       " [3] \"sf_number\"                 \"current_scan_date\"        \n",
       " [5] \"current_surgery_date\"      \"current_hist_grade\"       \n",
       " [7] \"current_hist_type\"         \"roi.label\"                \n",
       " [9] \"tumor_cell_evaluation\"     \"necrosis\"                 \n",
       "[11] \"f8_delicate\"               \"f8_simple\"                \n",
       "[13] \"f8_complex\"                \"mib_1\"                    \n",
       "[15] \"bx_pure_treatment_effect\"  \"nfse\"                     \n",
       "[17] \"nfl\"                       \"nt1c\"                     \n",
       "[19] \"nt1v\"                      \"nadc.1\"                   \n",
       "[21] \"nfa.1\"                     \"nev1.1\"                   \n",
       "[23] \"nev2.1\"                    \"nev3.1\"                   \n",
       "[25] \"nevrad.1\"                  \"nadc.2\"                   \n",
       "[27] \"nfa.2\"                     \"nev1.2\"                   \n",
       "[29] \"nev2.2\"                    \"nev3.2\"                   \n",
       "[31] \"nevrad.2\"                  \"cbvn_nlin\"                \n",
       "[33] \"phn_nlin\"                  \"phn_npar\"                 \n",
       "[35] \"recovn_npar\"               \"cni\"                      \n",
       "[37] \"ccri\"                      \"crni\"                     \n",
       "[39] \"ncho\"                      \"ncre\"                     \n",
       "[41] \"nnaa\"                      \"nlip\"                     \n",
       "[43] \"laclip\"                    \"nlac\"                     \n",
       "[45] \"olddata\"                   \"newdata\"                  \n",
       "[47] \"comments\"                  \"notes.\"                   \n",
       "[49] \"imaging_code\"              \"perf_quant\"               \n",
       "[51] \"cbv_nlin\"                  \"spec_quant\"               \n",
       "[53] \"include_anat\"              \"include_diffu1000\"        \n",
       "[55] \"include_diffu2000\"         \"include_diffu_all\"        \n",
       "[57] \"include_perf\"              \"include_spec\"             \n",
       "[59] \"include_one_advanced_mod\"  \"include_all_advanced_mods\"\n",
       "[61] \"X.CEL\"                     \"X.NEL\"                    \n",
       "[63] \"X.NEC\"                     \"sum\"                      \n",
       "[65] \"in_CEL\"                    \"in_T2all\"                 \n",
       "[67] \"in_NEL\"                    \"in_NEC\"                   \n",
       "[69] \"in_ROI\"                    \"desired_hist\"             "
      ]
     },
     "metadata": {},
     "output_type": "display_data"
    }
   ],
   "source": [
    "desired_histology = ifelse(grepl(\"astrocytoma\", all_recgli$current_hist_type, ignore.case = T) |\n",
    "                             grepl(\"glioblastoma\", all_recgli$current_hist_type, ignore.case = T)|\n",
    "                             grepl(\"oligodendroglioma\", all_recgli$current_hist_type, ignore.case = T) |\n",
    "                             grepl(\"gliosarcoma\", all_recgli$current_hist_type, ignore.case = T) |\n",
    "                             grepl(\"effect\", all_recgli$current_hist_type, ignore.case = T), 1, 0)\n",
    "dim(all_recgli)\n",
    "all_recgli = data.frame(all_recgli, desired_hist = desired_histology)\n",
    "colnames(all_recgli)"
   ]
  },
  {
   "cell_type": "code",
   "execution_count": 86,
   "metadata": {
    "collapsed": false,
    "deletable": true,
    "editable": true
   },
   "outputs": [],
   "source": [
    "all_recgli = write.csv(all_recgli, \"8thAnnot_researchpath_withInVivo.csv\", row.names = F)"
   ]
  },
  {
   "cell_type": "markdown",
   "metadata": {
    "deletable": true,
    "editable": true
   },
   "source": [
    "## 9. Creates outcome labels (multnom_out), adds necrosis, makes PN category (pathologically normal) that are in CEL or in the NEL region labeled TxE "
   ]
  },
  {
   "cell_type": "code",
   "execution_count": 87,
   "metadata": {
    "collapsed": false,
    "deletable": true,
    "editable": true
   },
   "outputs": [],
   "source": [
    "all_recgli = read.csv(\"8thAnnot_researchpath_withInVivo.csv\")"
   ]
  },
  {
   "cell_type": "code",
   "execution_count": 88,
   "metadata": {
    "collapsed": false,
    "deletable": true,
    "editable": true
   },
   "outputs": [
    {
     "data": {
      "text/html": [
       "<ol class=list-inline>\n",
       "\t<li>627</li>\n",
       "\t<li>70</li>\n",
       "</ol>\n"
      ],
      "text/latex": [
       "\\begin{enumerate*}\n",
       "\\item 627\n",
       "\\item 70\n",
       "\\end{enumerate*}\n"
      ],
      "text/markdown": [
       "1. 627\n",
       "2. 70\n",
       "\n",
       "\n"
      ],
      "text/plain": [
       "[1] 627  70"
      ]
     },
     "metadata": {},
     "output_type": "display_data"
    }
   ],
   "source": [
    "dim(all_recgli)"
   ]
  },
  {
   "cell_type": "code",
   "execution_count": 89,
   "metadata": {
    "collapsed": false,
    "deletable": true,
    "editable": true
   },
   "outputs": [],
   "source": [
    "all_recgli = data.frame(all_recgli, multnom_out = NA)## start by labeling all w/ TS = 0 PN and then label those that have chars of txe as such "
   ]
  },
  {
   "cell_type": "markdown",
   "metadata": {
    "deletable": true,
    "editable": true
   },
   "source": [
    "#### Start by labeling all w/ TS = 0 PN and then label those that have chars of txe as such \n"
   ]
  },
  {
   "cell_type": "code",
   "execution_count": 90,
   "metadata": {
    "collapsed": false,
    "deletable": true,
    "editable": true
   },
   "outputs": [],
   "source": [
    "all_recgli$multnom_out[grep(\"0\", all_recgli$tumor_cell_evaluation)]=\"PN\""
   ]
  },
  {
   "cell_type": "markdown",
   "metadata": {
    "deletable": true,
    "editable": true
   },
   "source": [
    "Here i want to find all the biopsies with information using any of the keywords:  \n",
    "\"microglia\" \"glia\" \"yalinized\" \"reactive\" \"RX\" \"gliosis\" \"treatment effect\" \"tx effect\"\n",
    "\"hyalin\" \"inflammation\" "
   ]
  },
  {
   "cell_type": "code",
   "execution_count": 91,
   "metadata": {
    "collapsed": true,
    "deletable": true,
    "editable": true
   },
   "outputs": [],
   "source": [
    "txe_keyword_search = c(grep(\"glia\", all_recgli$comments, ignore.case = T), \n",
    "                       grep(\"yalin\", all_recgli$comments,ignore.case = T),\n",
    "                       grep(\"reactive\", all_recgli$comments, ignore.case = T),\n",
    "                       grep(\"rx\", all_recgli$comments, ignore.case = T), \n",
    "                       grep(\"gliosis\", all_recgli$comments, ignore.case = T), \n",
    "                       grep(\"effect\", all_recgli$comments, ignore.case = T),\n",
    "                       grep(\"inflammation\", all_recgli$comments, ignore.case = T)) \n",
    "ts0 = grep(\"0\", all_recgli$tumor_cell_evaluation)"
   ]
  },
  {
   "cell_type": "code",
   "execution_count": 92,
   "metadata": {
    "collapsed": false,
    "deletable": true,
    "editable": true
   },
   "outputs": [
    {
     "data": {
      "text/plain": [
       "\n",
       "   IndDNI noFFPEDNI        PN      rHGG    Ts1DNI       TxE \n",
       "       16        22        51       337        73        72 "
      ]
     },
     "metadata": {},
     "output_type": "display_data"
    },
    {
     "data": {
      "text/plain": [
       "\n",
       "FALSE  TRUE \n",
       "  571    56 "
      ]
     },
     "metadata": {},
     "output_type": "display_data"
    },
    {
     "data": {
      "text/plain": [
       "\n",
       "dneDNI IndDNI     PN   rHGG Ts1DNI    TxE \n",
       "    87     15     51    332     70     72 "
      ]
     },
     "metadata": {},
     "output_type": "display_data"
    },
    {
     "data": {
      "text/html": [
       "<ol class=list-inline>\n",
       "\t<li>627</li>\n",
       "\t<li>72</li>\n",
       "</ol>\n"
      ],
      "text/latex": [
       "\\begin{enumerate*}\n",
       "\\item 627\n",
       "\\item 72\n",
       "\\end{enumerate*}\n"
      ],
      "text/markdown": [
       "1. 627\n",
       "2. 72\n",
       "\n",
       "\n"
      ],
      "text/plain": [
       "[1] 627  72"
      ]
     },
     "metadata": {},
     "output_type": "display_data"
    }
   ],
   "source": [
    "txe_probably = intersect(grep(1, all_recgli$olddata), grep(\"t\", all_recgli$bx_pure_treatment_effect))\n",
    "all_recgli$multnom_out[txe_probably]=\"TxE\"\n",
    "## using the intersection of those w/ ts 0 and have a keyword that matches TxE eval\n",
    "all_recgli$multnom_out[intersect(ts0, txe_keyword_search)]=\"TxE\"\n",
    "## labeling TS = 1 (to exclude from analysis)\n",
    "all_recgli$multnom_out[grep(\"1\", all_recgli$tumor_cell_evaluation)]=\"Ts1DNI\"\n",
    "## labeling noFFPE \n",
    "no_ffpe = ifelse(grepl(\"FFPE\", all_recgli$comments) | grepl(\"FFPE\", all_recgli$notes.), 1, 0)\n",
    "all_recgli = data.frame(all_recgli, no_ffpe = no_ffpe)\n",
    "all_recgli$multnom_out[grep(1, all_recgli$no_ffpe)]=\"noFFPEDNI\"\n",
    "## labeling Indeterminables \n",
    "all_recgli$multnom_out[grep(\"Ind\", all_recgli$tumor_cell_evaluation)]=\"IndDNI\"\n",
    "## labeling rHGG\n",
    "all_recgli$multnom_out[grep(\"2\", all_recgli$tumor_cell_evaluation)]=\"rHGG\"\n",
    "all_recgli$multnom_out[grep(\"3\", all_recgli$tumor_cell_evaluation)]=\"rHGG\"\n",
    "table(all_recgli$multnom_out)\n",
    "table(is.na(all_recgli$multnom_out))\n",
    "# FALSE 539, TRUE 81 \n",
    "## labeling no path_report on box \n",
    "all_recgli$multnom_out[grep(\"path_report\", all_recgli$notes.)]=\"dneDNI\"\n",
    "all_recgli$multnom_out[all_recgli$tumor_cell_evaluation==\"\"]=\"dneDNI\"\n",
    "table(all_recgli$multnom_out)\n",
    "dim(all_recgli)"
   ]
  },
  {
   "cell_type": "markdown",
   "metadata": {
    "deletable": true,
    "editable": true
   },
   "source": [
    "So there are currently still 86 biopsies that need to be annotated; Now let's create a column called \"waiting_on_path\" "
   ]
  },
  {
   "cell_type": "code",
   "execution_count": 93,
   "metadata": {
    "collapsed": false,
    "deletable": true,
    "editable": true
   },
   "outputs": [],
   "source": [
    "all_recgli = data.frame(all_recgli, waiting_on_path=ifelse(all_recgli$multnom_out==\"dneDNI\", 1, 0))"
   ]
  },
  {
   "cell_type": "code",
   "execution_count": 94,
   "metadata": {
    "collapsed": false,
    "deletable": true,
    "editable": true
   },
   "outputs": [
    {
     "data": {
      "text/plain": [
       "\n",
       "  0   1 \n",
       "540  87 "
      ]
     },
     "metadata": {},
     "output_type": "display_data"
    },
    {
     "data": {
      "text/html": [
       "<ol class=list-inline>\n",
       "\t<li>627</li>\n",
       "\t<li>73</li>\n",
       "</ol>\n"
      ],
      "text/latex": [
       "\\begin{enumerate*}\n",
       "\\item 627\n",
       "\\item 73\n",
       "\\end{enumerate*}\n"
      ],
      "text/markdown": [
       "1. 627\n",
       "2. 73\n",
       "\n",
       "\n"
      ],
      "text/plain": [
       "[1] 627  73"
      ]
     },
     "metadata": {},
     "output_type": "display_data"
    }
   ],
   "source": [
    "table(all_recgli$waiting_on_path)\n",
    "dim(all_recgli)"
   ]
  },
  {
   "cell_type": "markdown",
   "metadata": {
    "deletable": true,
    "editable": true
   },
   "source": [
    "#### Adding in necrosis to the multnom_out: "
   ]
  },
  {
   "cell_type": "code",
   "execution_count": 95,
   "metadata": {
    "collapsed": false,
    "deletable": true,
    "editable": true
   },
   "outputs": [
    {
     "data": {
      "text/plain": [
       "\n",
       "dneDNI IndDNI NecDNI     PN   rHGG Ts1DNI    TxE \n",
       "    83     10     36     51    320     69     58 "
      ]
     },
     "metadata": {},
     "output_type": "display_data"
    }
   ],
   "source": [
    "all_recgli$multnom_out = ifelse(is.na(all_recgli$necrosis) | all_recgli$necrosis !=2, as.character(all_recgli$multnom_out), \"NecDNI\")\n",
    "table(all_recgli$multnom_out)"
   ]
  },
  {
   "cell_type": "code",
   "execution_count": 96,
   "metadata": {
    "collapsed": false,
    "deletable": true,
    "editable": true
   },
   "outputs": [
    {
     "data": {
      "text/html": [
       "<ol class=list-inline>\n",
       "\t<li>627</li>\n",
       "\t<li>73</li>\n",
       "</ol>\n"
      ],
      "text/latex": [
       "\\begin{enumerate*}\n",
       "\\item 627\n",
       "\\item 73\n",
       "\\end{enumerate*}\n"
      ],
      "text/markdown": [
       "1. 627\n",
       "2. 73\n",
       "\n",
       "\n"
      ],
      "text/plain": [
       "[1] 627  73"
      ]
     },
     "metadata": {},
     "output_type": "display_data"
    },
    {
     "data": {
      "text/html": [
       "<ol class=list-inline>\n",
       "\t<li>0</li>\n",
       "\t<li>73</li>\n",
       "</ol>\n"
      ],
      "text/latex": [
       "\\begin{enumerate*}\n",
       "\\item 0\n",
       "\\item 73\n",
       "\\end{enumerate*}\n"
      ],
      "text/markdown": [
       "1. 0\n",
       "2. 73\n",
       "\n",
       "\n"
      ],
      "text/plain": [
       "[1]  0 73"
      ]
     },
     "metadata": {},
     "output_type": "display_data"
    }
   ],
   "source": [
    "dim(all_recgli)\n",
    "dim(all_recgli[is.na(all_recgli$multnom_out),]) ## zero w/ no outcome code, let's keep going: "
   ]
  },
  {
   "cell_type": "markdown",
   "metadata": {
    "deletable": true,
    "editable": true
   },
   "source": [
    "#### Need to account for PNs that are actually in CEL or NEL "
   ]
  },
  {
   "cell_type": "code",
   "execution_count": 97,
   "metadata": {
    "collapsed": false,
    "deletable": true,
    "editable": true
   },
   "outputs": [
    {
     "data": {
      "text/html": [
       "<ol class=list-inline>\n",
       "\t<li>33</li>\n",
       "\t<li>73</li>\n",
       "</ol>\n"
      ],
      "text/latex": [
       "\\begin{enumerate*}\n",
       "\\item 33\n",
       "\\item 73\n",
       "\\end{enumerate*}\n"
      ],
      "text/markdown": [
       "1. 33\n",
       "2. 73\n",
       "\n",
       "\n"
      ],
      "text/plain": [
       "[1] 33 73"
      ]
     },
     "metadata": {},
     "output_type": "display_data"
    },
    {
     "data": {
      "text/plain": [
       "\n",
       "FALSE  TRUE \n",
       "    6    27 "
      ]
     },
     "metadata": {},
     "output_type": "display_data"
    }
   ],
   "source": [
    "PN = subset(all_recgli, all_recgli$multnom_out == \"PN\")\n",
    "PN.txe = subset(PN, PN$in_CEL==1 | PN$in_NEL ==1)\n",
    "dim(PN.txe)\n",
    "table(!duplicated(PN.txe$t_number)) ##number of potential new TxE samples"
   ]
  },
  {
   "cell_type": "code",
   "execution_count": 98,
   "metadata": {
    "collapsed": false,
    "deletable": true,
    "editable": true
   },
   "outputs": [],
   "source": [
    "PN.txe$multnom_out = \"TxE\""
   ]
  },
  {
   "cell_type": "code",
   "execution_count": 99,
   "metadata": {
    "collapsed": false,
    "deletable": true,
    "editable": true
   },
   "outputs": [
    {
     "data": {
      "text/plain": [
       "\n",
       "dneDNI IndDNI NecDNI     PN   rHGG Ts1DNI    TxE \n",
       "    83     10     36     51    320     69     58 "
      ]
     },
     "metadata": {},
     "output_type": "display_data"
    }
   ],
   "source": [
    "table(all_recgli$multnom_out)"
   ]
  },
  {
   "cell_type": "code",
   "execution_count": 100,
   "metadata": {
    "collapsed": true,
    "deletable": true,
    "editable": true
   },
   "outputs": [],
   "source": [
    "all_recgli$multnom_out[all_recgli$roi.label %in% PN.txe$roi.label]=\"TxE\""
   ]
  },
  {
   "cell_type": "code",
   "execution_count": 101,
   "metadata": {
    "collapsed": false,
    "deletable": true,
    "editable": true
   },
   "outputs": [
    {
     "data": {
      "text/plain": [
       "\n",
       "dneDNI IndDNI NecDNI     PN   rHGG Ts1DNI    TxE \n",
       "    83     10     36     18    320     69     91 "
      ]
     },
     "metadata": {},
     "output_type": "display_data"
    }
   ],
   "source": [
    "table(all_recgli$multnom_out)"
   ]
  },
  {
   "cell_type": "code",
   "execution_count": 102,
   "metadata": {
    "collapsed": true,
    "deletable": true,
    "editable": true
   },
   "outputs": [],
   "source": [
    "write.csv(all_recgli, file = \"9thAnnot_researchpath_withInVivo.csv\", row.names = F )"
   ]
  },
  {
   "cell_type": "markdown",
   "metadata": {
    "deletable": true,
    "editable": true
   },
   "source": [
    "## 10. Adds in binary operator to include the data only if it's rHGG or TxE "
   ]
  },
  {
   "cell_type": "code",
   "execution_count": 103,
   "metadata": {
    "collapsed": true,
    "deletable": true,
    "editable": true
   },
   "outputs": [],
   "source": [
    "recgli = read.csv(\"9thAnnot_researchpath_withInVivo.csv\")"
   ]
  },
  {
   "cell_type": "code",
   "execution_count": 104,
   "metadata": {
    "collapsed": false,
    "deletable": true,
    "editable": true
   },
   "outputs": [
    {
     "data": {
      "text/html": [
       "<ol class=list-inline>\n",
       "\t<li>627</li>\n",
       "\t<li>73</li>\n",
       "</ol>\n"
      ],
      "text/latex": [
       "\\begin{enumerate*}\n",
       "\\item 627\n",
       "\\item 73\n",
       "\\end{enumerate*}\n"
      ],
      "text/markdown": [
       "1. 627\n",
       "2. 73\n",
       "\n",
       "\n"
      ],
      "text/plain": [
       "[1] 627  73"
      ]
     },
     "metadata": {},
     "output_type": "display_data"
    }
   ],
   "source": [
    "dim(recgli)"
   ]
  },
  {
   "cell_type": "code",
   "execution_count": 105,
   "metadata": {
    "collapsed": false,
    "deletable": true,
    "editable": true
   },
   "outputs": [
    {
     "data": {
      "text/html": [
       "<ol class=list-inline>\n",
       "\t<li>'b_number'</li>\n",
       "\t<li>'t_number'</li>\n",
       "\t<li>'sf_number'</li>\n",
       "\t<li>'current_scan_date'</li>\n",
       "\t<li>'current_surgery_date'</li>\n",
       "\t<li>'current_hist_grade'</li>\n",
       "\t<li>'current_hist_type'</li>\n",
       "\t<li>'roi.label'</li>\n",
       "\t<li>'tumor_cell_evaluation'</li>\n",
       "\t<li>'necrosis'</li>\n",
       "\t<li>'f8_delicate'</li>\n",
       "\t<li>'f8_simple'</li>\n",
       "\t<li>'f8_complex'</li>\n",
       "\t<li>'mib_1'</li>\n",
       "\t<li>'bx_pure_treatment_effect'</li>\n",
       "\t<li>'nfse'</li>\n",
       "\t<li>'nfl'</li>\n",
       "\t<li>'nt1c'</li>\n",
       "\t<li>'nt1v'</li>\n",
       "\t<li>'nadc.1'</li>\n",
       "\t<li>'nfa.1'</li>\n",
       "\t<li>'nev1.1'</li>\n",
       "\t<li>'nev2.1'</li>\n",
       "\t<li>'nev3.1'</li>\n",
       "\t<li>'nevrad.1'</li>\n",
       "\t<li>'nadc.2'</li>\n",
       "\t<li>'nfa.2'</li>\n",
       "\t<li>'nev1.2'</li>\n",
       "\t<li>'nev2.2'</li>\n",
       "\t<li>'nev3.2'</li>\n",
       "\t<li>'nevrad.2'</li>\n",
       "\t<li>'cbvn_nlin'</li>\n",
       "\t<li>'phn_nlin'</li>\n",
       "\t<li>'phn_npar'</li>\n",
       "\t<li>'recovn_npar'</li>\n",
       "\t<li>'cni'</li>\n",
       "\t<li>'ccri'</li>\n",
       "\t<li>'crni'</li>\n",
       "\t<li>'ncho'</li>\n",
       "\t<li>'ncre'</li>\n",
       "\t<li>'nnaa'</li>\n",
       "\t<li>'nlip'</li>\n",
       "\t<li>'laclip'</li>\n",
       "\t<li>'nlac'</li>\n",
       "\t<li>'olddata'</li>\n",
       "\t<li>'newdata'</li>\n",
       "\t<li>'comments'</li>\n",
       "\t<li>'notes.'</li>\n",
       "\t<li>'imaging_code'</li>\n",
       "\t<li>'perf_quant'</li>\n",
       "\t<li>'cbv_nlin'</li>\n",
       "\t<li>'spec_quant'</li>\n",
       "\t<li>'include_anat'</li>\n",
       "\t<li>'include_diffu1000'</li>\n",
       "\t<li>'include_diffu2000'</li>\n",
       "\t<li>'include_diffu_all'</li>\n",
       "\t<li>'include_perf'</li>\n",
       "\t<li>'include_spec'</li>\n",
       "\t<li>'include_one_advanced_mod'</li>\n",
       "\t<li>'include_all_advanced_mods'</li>\n",
       "\t<li>'X.CEL'</li>\n",
       "\t<li>'X.NEL'</li>\n",
       "\t<li>'X.NEC'</li>\n",
       "\t<li>'sum'</li>\n",
       "\t<li>'in_CEL'</li>\n",
       "\t<li>'in_T2all'</li>\n",
       "\t<li>'in_NEL'</li>\n",
       "\t<li>'in_NEC'</li>\n",
       "\t<li>'in_ROI'</li>\n",
       "\t<li>'desired_hist'</li>\n",
       "\t<li>'multnom_out'</li>\n",
       "\t<li>'no_ffpe'</li>\n",
       "\t<li>'waiting_on_path'</li>\n",
       "</ol>\n"
      ],
      "text/latex": [
       "\\begin{enumerate*}\n",
       "\\item 'b\\_number'\n",
       "\\item 't\\_number'\n",
       "\\item 'sf\\_number'\n",
       "\\item 'current\\_scan\\_date'\n",
       "\\item 'current\\_surgery\\_date'\n",
       "\\item 'current\\_hist\\_grade'\n",
       "\\item 'current\\_hist\\_type'\n",
       "\\item 'roi.label'\n",
       "\\item 'tumor\\_cell\\_evaluation'\n",
       "\\item 'necrosis'\n",
       "\\item 'f8\\_delicate'\n",
       "\\item 'f8\\_simple'\n",
       "\\item 'f8\\_complex'\n",
       "\\item 'mib\\_1'\n",
       "\\item 'bx\\_pure\\_treatment\\_effect'\n",
       "\\item 'nfse'\n",
       "\\item 'nfl'\n",
       "\\item 'nt1c'\n",
       "\\item 'nt1v'\n",
       "\\item 'nadc.1'\n",
       "\\item 'nfa.1'\n",
       "\\item 'nev1.1'\n",
       "\\item 'nev2.1'\n",
       "\\item 'nev3.1'\n",
       "\\item 'nevrad.1'\n",
       "\\item 'nadc.2'\n",
       "\\item 'nfa.2'\n",
       "\\item 'nev1.2'\n",
       "\\item 'nev2.2'\n",
       "\\item 'nev3.2'\n",
       "\\item 'nevrad.2'\n",
       "\\item 'cbvn\\_nlin'\n",
       "\\item 'phn\\_nlin'\n",
       "\\item 'phn\\_npar'\n",
       "\\item 'recovn\\_npar'\n",
       "\\item 'cni'\n",
       "\\item 'ccri'\n",
       "\\item 'crni'\n",
       "\\item 'ncho'\n",
       "\\item 'ncre'\n",
       "\\item 'nnaa'\n",
       "\\item 'nlip'\n",
       "\\item 'laclip'\n",
       "\\item 'nlac'\n",
       "\\item 'olddata'\n",
       "\\item 'newdata'\n",
       "\\item 'comments'\n",
       "\\item 'notes.'\n",
       "\\item 'imaging\\_code'\n",
       "\\item 'perf\\_quant'\n",
       "\\item 'cbv\\_nlin'\n",
       "\\item 'spec\\_quant'\n",
       "\\item 'include\\_anat'\n",
       "\\item 'include\\_diffu1000'\n",
       "\\item 'include\\_diffu2000'\n",
       "\\item 'include\\_diffu\\_all'\n",
       "\\item 'include\\_perf'\n",
       "\\item 'include\\_spec'\n",
       "\\item 'include\\_one\\_advanced\\_mod'\n",
       "\\item 'include\\_all\\_advanced\\_mods'\n",
       "\\item 'X.CEL'\n",
       "\\item 'X.NEL'\n",
       "\\item 'X.NEC'\n",
       "\\item 'sum'\n",
       "\\item 'in\\_CEL'\n",
       "\\item 'in\\_T2all'\n",
       "\\item 'in\\_NEL'\n",
       "\\item 'in\\_NEC'\n",
       "\\item 'in\\_ROI'\n",
       "\\item 'desired\\_hist'\n",
       "\\item 'multnom\\_out'\n",
       "\\item 'no\\_ffpe'\n",
       "\\item 'waiting\\_on\\_path'\n",
       "\\end{enumerate*}\n"
      ],
      "text/markdown": [
       "1. 'b_number'\n",
       "2. 't_number'\n",
       "3. 'sf_number'\n",
       "4. 'current_scan_date'\n",
       "5. 'current_surgery_date'\n",
       "6. 'current_hist_grade'\n",
       "7. 'current_hist_type'\n",
       "8. 'roi.label'\n",
       "9. 'tumor_cell_evaluation'\n",
       "10. 'necrosis'\n",
       "11. 'f8_delicate'\n",
       "12. 'f8_simple'\n",
       "13. 'f8_complex'\n",
       "14. 'mib_1'\n",
       "15. 'bx_pure_treatment_effect'\n",
       "16. 'nfse'\n",
       "17. 'nfl'\n",
       "18. 'nt1c'\n",
       "19. 'nt1v'\n",
       "20. 'nadc.1'\n",
       "21. 'nfa.1'\n",
       "22. 'nev1.1'\n",
       "23. 'nev2.1'\n",
       "24. 'nev3.1'\n",
       "25. 'nevrad.1'\n",
       "26. 'nadc.2'\n",
       "27. 'nfa.2'\n",
       "28. 'nev1.2'\n",
       "29. 'nev2.2'\n",
       "30. 'nev3.2'\n",
       "31. 'nevrad.2'\n",
       "32. 'cbvn_nlin'\n",
       "33. 'phn_nlin'\n",
       "34. 'phn_npar'\n",
       "35. 'recovn_npar'\n",
       "36. 'cni'\n",
       "37. 'ccri'\n",
       "38. 'crni'\n",
       "39. 'ncho'\n",
       "40. 'ncre'\n",
       "41. 'nnaa'\n",
       "42. 'nlip'\n",
       "43. 'laclip'\n",
       "44. 'nlac'\n",
       "45. 'olddata'\n",
       "46. 'newdata'\n",
       "47. 'comments'\n",
       "48. 'notes.'\n",
       "49. 'imaging_code'\n",
       "50. 'perf_quant'\n",
       "51. 'cbv_nlin'\n",
       "52. 'spec_quant'\n",
       "53. 'include_anat'\n",
       "54. 'include_diffu1000'\n",
       "55. 'include_diffu2000'\n",
       "56. 'include_diffu_all'\n",
       "57. 'include_perf'\n",
       "58. 'include_spec'\n",
       "59. 'include_one_advanced_mod'\n",
       "60. 'include_all_advanced_mods'\n",
       "61. 'X.CEL'\n",
       "62. 'X.NEL'\n",
       "63. 'X.NEC'\n",
       "64. 'sum'\n",
       "65. 'in_CEL'\n",
       "66. 'in_T2all'\n",
       "67. 'in_NEL'\n",
       "68. 'in_NEC'\n",
       "69. 'in_ROI'\n",
       "70. 'desired_hist'\n",
       "71. 'multnom_out'\n",
       "72. 'no_ffpe'\n",
       "73. 'waiting_on_path'\n",
       "\n",
       "\n"
      ],
      "text/plain": [
       " [1] \"b_number\"                  \"t_number\"                 \n",
       " [3] \"sf_number\"                 \"current_scan_date\"        \n",
       " [5] \"current_surgery_date\"      \"current_hist_grade\"       \n",
       " [7] \"current_hist_type\"         \"roi.label\"                \n",
       " [9] \"tumor_cell_evaluation\"     \"necrosis\"                 \n",
       "[11] \"f8_delicate\"               \"f8_simple\"                \n",
       "[13] \"f8_complex\"                \"mib_1\"                    \n",
       "[15] \"bx_pure_treatment_effect\"  \"nfse\"                     \n",
       "[17] \"nfl\"                       \"nt1c\"                     \n",
       "[19] \"nt1v\"                      \"nadc.1\"                   \n",
       "[21] \"nfa.1\"                     \"nev1.1\"                   \n",
       "[23] \"nev2.1\"                    \"nev3.1\"                   \n",
       "[25] \"nevrad.1\"                  \"nadc.2\"                   \n",
       "[27] \"nfa.2\"                     \"nev1.2\"                   \n",
       "[29] \"nev2.2\"                    \"nev3.2\"                   \n",
       "[31] \"nevrad.2\"                  \"cbvn_nlin\"                \n",
       "[33] \"phn_nlin\"                  \"phn_npar\"                 \n",
       "[35] \"recovn_npar\"               \"cni\"                      \n",
       "[37] \"ccri\"                      \"crni\"                     \n",
       "[39] \"ncho\"                      \"ncre\"                     \n",
       "[41] \"nnaa\"                      \"nlip\"                     \n",
       "[43] \"laclip\"                    \"nlac\"                     \n",
       "[45] \"olddata\"                   \"newdata\"                  \n",
       "[47] \"comments\"                  \"notes.\"                   \n",
       "[49] \"imaging_code\"              \"perf_quant\"               \n",
       "[51] \"cbv_nlin\"                  \"spec_quant\"               \n",
       "[53] \"include_anat\"              \"include_diffu1000\"        \n",
       "[55] \"include_diffu2000\"         \"include_diffu_all\"        \n",
       "[57] \"include_perf\"              \"include_spec\"             \n",
       "[59] \"include_one_advanced_mod\"  \"include_all_advanced_mods\"\n",
       "[61] \"X.CEL\"                     \"X.NEL\"                    \n",
       "[63] \"X.NEC\"                     \"sum\"                      \n",
       "[65] \"in_CEL\"                    \"in_T2all\"                 \n",
       "[67] \"in_NEL\"                    \"in_NEC\"                   \n",
       "[69] \"in_ROI\"                    \"desired_hist\"             \n",
       "[71] \"multnom_out\"               \"no_ffpe\"                  \n",
       "[73] \"waiting_on_path\"          "
      ]
     },
     "metadata": {},
     "output_type": "display_data"
    }
   ],
   "source": [
    "colnames(recgli)"
   ]
  },
  {
   "cell_type": "code",
   "execution_count": 106,
   "metadata": {
    "collapsed": true,
    "deletable": true,
    "editable": true
   },
   "outputs": [],
   "source": [
    "recgli = data.frame(recgli, rhgg_txe_analysis = ifelse(recgli$multnom_out == \"rHGG\" | recgli$multnom_out == \"TxE\", 1, 0))"
   ]
  },
  {
   "cell_type": "code",
   "execution_count": 107,
   "metadata": {
    "collapsed": false,
    "deletable": true,
    "editable": true
   },
   "outputs": [
    {
     "data": {
      "text/html": [
       "<ol class=list-inline>\n",
       "\t<li>627</li>\n",
       "\t<li>74</li>\n",
       "</ol>\n"
      ],
      "text/latex": [
       "\\begin{enumerate*}\n",
       "\\item 627\n",
       "\\item 74\n",
       "\\end{enumerate*}\n"
      ],
      "text/markdown": [
       "1. 627\n",
       "2. 74\n",
       "\n",
       "\n"
      ],
      "text/plain": [
       "[1] 627  74"
      ]
     },
     "metadata": {},
     "output_type": "display_data"
    }
   ],
   "source": [
    "dim(recgli)"
   ]
  },
  {
   "cell_type": "code",
   "execution_count": 108,
   "metadata": {
    "collapsed": false,
    "deletable": true,
    "editable": true
   },
   "outputs": [
    {
     "data": {
      "text/plain": [
       "\n",
       "  0   1 \n",
       "216 411 "
      ]
     },
     "metadata": {},
     "output_type": "display_data"
    }
   ],
   "source": [
    "table(recgli$rhgg_txe_analysis)"
   ]
  },
  {
   "cell_type": "code",
   "execution_count": 109,
   "metadata": {
    "collapsed": true,
    "deletable": true,
    "editable": true
   },
   "outputs": [],
   "source": [
    "write.csv(recgli, file = \"10thAnnot_researchPath_withInVivo.csv\", row.names = F)"
   ]
  },
  {
   "cell_type": "code",
   "execution_count": null,
   "metadata": {
    "collapsed": false,
    "deletable": true,
    "editable": true
   },
   "outputs": [],
   "source": []
  },
  {
   "cell_type": "code",
   "execution_count": null,
   "metadata": {
    "collapsed": true,
    "deletable": true,
    "editable": true
   },
   "outputs": [],
   "source": []
  }
 ],
 "metadata": {
  "kernelspec": {
   "display_name": "R",
   "language": "R",
   "name": "ir"
  },
  "language_info": {
   "codemirror_mode": "r",
   "file_extension": ".r",
   "mimetype": "text/x-r-source",
   "name": "R",
   "pygments_lexer": "r",
   "version": "3.4.0"
  }
 },
 "nbformat": 4,
 "nbformat_minor": 2
}
