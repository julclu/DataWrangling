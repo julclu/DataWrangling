{
 "cells": [
  {
   "cell_type": "markdown",
   "metadata": {
    "deletable": true,
    "editable": true
   },
   "source": [
    "1. Annotate w/ laclip \n",
    "2. Annotate w/ reason for pathology missing \n",
    "3. annotate for the reason that the imaging might be missing\n",
    "4. Substitution of 0's for NA's, Annotate those substitutions, find where quant failed for perf\n",
    "5. Annotates for inclusion of modalities \n",
    "6. Imputes b1000 data from b2000 using linear modeling \n",
    "7. Adds in output from get_igt_stats.ipynb, w/ %CEL, NEL, NEC & inclusion criteria (can be found in DataWrangling/GetMergeData/)\n",
    "8. Excludes ependymomas and other non-astro non-oligo HGGs (desired_hist) \n",
    "9. Creates outcome labels (multnom_out), adds necrosis, makes PN category (pathologically normal) that are in CEL or in the NEL region labeled TxE  \n",
    "12. Adds in binary operator to include the data only if it's rHGG or TxE \n"
   ]
  },
  {
   "cell_type": "code",
   "execution_count": 1,
   "metadata": {
    "collapsed": true,
    "deletable": true,
    "editable": true
   },
   "outputs": [],
   "source": [
    "options(repr.matrix.max.rows=600, repr.matrix.max.cols=200)"
   ]
  },
  {
   "cell_type": "markdown",
   "metadata": {
    "deletable": true,
    "editable": true
   },
   "source": [
    "## 1. LacLip Annotation"
   ]
  },
  {
   "cell_type": "code",
   "execution_count": 2,
   "metadata": {
    "collapsed": false,
    "deletable": true,
    "editable": true
   },
   "outputs": [
    {
     "data": {
      "text/html": [
       "'/home/sf673542/DataWrangling/AnnotateData'"
      ],
      "text/latex": [
       "'/home/sf673542/DataWrangling/AnnotateData'"
      ],
      "text/markdown": [
       "'/home/sf673542/DataWrangling/AnnotateData'"
      ],
      "text/plain": [
       "[1] \"/home/sf673542/DataWrangling/AnnotateData\""
      ]
     },
     "metadata": {},
     "output_type": "display_data"
    }
   ],
   "source": [
    "getwd()"
   ]
  },
  {
   "cell_type": "code",
   "execution_count": 3,
   "metadata": {
    "collapsed": false,
    "deletable": true,
    "editable": true
   },
   "outputs": [
    {
     "data": {
      "text/html": [
       "<ol class=list-inline>\n",
       "\t<li>324</li>\n",
       "\t<li>41</li>\n",
       "</ol>\n"
      ],
      "text/latex": [
       "\\begin{enumerate*}\n",
       "\\item 324\n",
       "\\item 41\n",
       "\\end{enumerate*}\n"
      ],
      "text/markdown": [
       "1. 324\n",
       "2. 41\n",
       "\n",
       "\n"
      ],
      "text/plain": [
       "[1] 324  41"
      ]
     },
     "metadata": {},
     "output_type": "display_data"
    }
   ],
   "source": [
    "all_recgli = read.csv(\"../GetMergeData/Oct2018/researchPath_withInVivoData_REC_HGG.csv\")\n",
    "dim(all_recgli)"
   ]
  },
  {
   "cell_type": "code",
   "execution_count": 4,
   "metadata": {
    "collapsed": false,
    "deletable": true,
    "editable": true
   },
   "outputs": [
    {
     "data": {
      "text/plain": [
       "laclip\n",
       "  0   1 \n",
       " 44 174 "
      ]
     },
     "metadata": {},
     "output_type": "display_data"
    }
   ],
   "source": [
    "laclip = ifelse(all_recgli$nlac == all_recgli$nlip, 1, 0)\n",
    "table(laclip)\n",
    "laclip_values = ifelse(laclip==1, all_recgli$nlac, all_recgli$nlac+all_recgli$nlip)\n",
    "all_recgli$laclip = laclip_values"
   ]
  },
  {
   "cell_type": "code",
   "execution_count": 5,
   "metadata": {
    "collapsed": false,
    "deletable": true,
    "editable": true
   },
   "outputs": [
    {
     "data": {
      "text/html": [
       "<ol class=list-inline>\n",
       "\t<li>'b_number'</li>\n",
       "\t<li>'t_number'</li>\n",
       "\t<li>'sf_number'</li>\n",
       "\t<li>'current_scan_date'</li>\n",
       "\t<li>'current_surgery_date'</li>\n",
       "\t<li>'current_hist_grade'</li>\n",
       "\t<li>'current_hist_type'</li>\n",
       "\t<li>'roi.label'</li>\n",
       "\t<li>'tumor_cell_evaluation'</li>\n",
       "\t<li>'necrosis'</li>\n",
       "\t<li>'mv_hyperplasia'</li>\n",
       "\t<li>'f8_delicate'</li>\n",
       "\t<li>'f8_simple'</li>\n",
       "\t<li>'f8_complex'</li>\n",
       "\t<li>'mib_1'</li>\n",
       "\t<li>'avgerage_cells'</li>\n",
       "\t<li>'bx_pure_treatment_effect'</li>\n",
       "\t<li>'percent_tumor_nuclei'</li>\n",
       "\t<li>'nfse'</li>\n",
       "\t<li>'nfl'</li>\n",
       "\t<li>'nt1c'</li>\n",
       "\t<li>'nt1v'</li>\n",
       "\t<li>'nt1d'</li>\n",
       "\t<li>'nadc.1'</li>\n",
       "\t<li>'nfa.1'</li>\n",
       "\t<li>'nadc.2'</li>\n",
       "\t<li>'nfa.2'</li>\n",
       "\t<li>'phn_nlin'</li>\n",
       "\t<li>'cbvn_nlin'</li>\n",
       "\t<li>'recov_nlin'</li>\n",
       "\t<li>'phn_npar'</li>\n",
       "\t<li>'recov_npar'</li>\n",
       "\t<li>'recovn_npar'</li>\n",
       "\t<li>'cni'</li>\n",
       "\t<li>'ccri'</li>\n",
       "\t<li>'crni'</li>\n",
       "\t<li>'ncho'</li>\n",
       "\t<li>'ncre'</li>\n",
       "\t<li>'nnaa'</li>\n",
       "\t<li>'nlip'</li>\n",
       "\t<li>'nlac'</li>\n",
       "\t<li>'laclip'</li>\n",
       "</ol>\n"
      ],
      "text/latex": [
       "\\begin{enumerate*}\n",
       "\\item 'b\\_number'\n",
       "\\item 't\\_number'\n",
       "\\item 'sf\\_number'\n",
       "\\item 'current\\_scan\\_date'\n",
       "\\item 'current\\_surgery\\_date'\n",
       "\\item 'current\\_hist\\_grade'\n",
       "\\item 'current\\_hist\\_type'\n",
       "\\item 'roi.label'\n",
       "\\item 'tumor\\_cell\\_evaluation'\n",
       "\\item 'necrosis'\n",
       "\\item 'mv\\_hyperplasia'\n",
       "\\item 'f8\\_delicate'\n",
       "\\item 'f8\\_simple'\n",
       "\\item 'f8\\_complex'\n",
       "\\item 'mib\\_1'\n",
       "\\item 'avgerage\\_cells'\n",
       "\\item 'bx\\_pure\\_treatment\\_effect'\n",
       "\\item 'percent\\_tumor\\_nuclei'\n",
       "\\item 'nfse'\n",
       "\\item 'nfl'\n",
       "\\item 'nt1c'\n",
       "\\item 'nt1v'\n",
       "\\item 'nt1d'\n",
       "\\item 'nadc.1'\n",
       "\\item 'nfa.1'\n",
       "\\item 'nadc.2'\n",
       "\\item 'nfa.2'\n",
       "\\item 'phn\\_nlin'\n",
       "\\item 'cbvn\\_nlin'\n",
       "\\item 'recov\\_nlin'\n",
       "\\item 'phn\\_npar'\n",
       "\\item 'recov\\_npar'\n",
       "\\item 'recovn\\_npar'\n",
       "\\item 'cni'\n",
       "\\item 'ccri'\n",
       "\\item 'crni'\n",
       "\\item 'ncho'\n",
       "\\item 'ncre'\n",
       "\\item 'nnaa'\n",
       "\\item 'nlip'\n",
       "\\item 'nlac'\n",
       "\\item 'laclip'\n",
       "\\end{enumerate*}\n"
      ],
      "text/markdown": [
       "1. 'b_number'\n",
       "2. 't_number'\n",
       "3. 'sf_number'\n",
       "4. 'current_scan_date'\n",
       "5. 'current_surgery_date'\n",
       "6. 'current_hist_grade'\n",
       "7. 'current_hist_type'\n",
       "8. 'roi.label'\n",
       "9. 'tumor_cell_evaluation'\n",
       "10. 'necrosis'\n",
       "11. 'mv_hyperplasia'\n",
       "12. 'f8_delicate'\n",
       "13. 'f8_simple'\n",
       "14. 'f8_complex'\n",
       "15. 'mib_1'\n",
       "16. 'avgerage_cells'\n",
       "17. 'bx_pure_treatment_effect'\n",
       "18. 'percent_tumor_nuclei'\n",
       "19. 'nfse'\n",
       "20. 'nfl'\n",
       "21. 'nt1c'\n",
       "22. 'nt1v'\n",
       "23. 'nt1d'\n",
       "24. 'nadc.1'\n",
       "25. 'nfa.1'\n",
       "26. 'nadc.2'\n",
       "27. 'nfa.2'\n",
       "28. 'phn_nlin'\n",
       "29. 'cbvn_nlin'\n",
       "30. 'recov_nlin'\n",
       "31. 'phn_npar'\n",
       "32. 'recov_npar'\n",
       "33. 'recovn_npar'\n",
       "34. 'cni'\n",
       "35. 'ccri'\n",
       "36. 'crni'\n",
       "37. 'ncho'\n",
       "38. 'ncre'\n",
       "39. 'nnaa'\n",
       "40. 'nlip'\n",
       "41. 'nlac'\n",
       "42. 'laclip'\n",
       "\n",
       "\n"
      ],
      "text/plain": [
       " [1] \"b_number\"                 \"t_number\"                \n",
       " [3] \"sf_number\"                \"current_scan_date\"       \n",
       " [5] \"current_surgery_date\"     \"current_hist_grade\"      \n",
       " [7] \"current_hist_type\"        \"roi.label\"               \n",
       " [9] \"tumor_cell_evaluation\"    \"necrosis\"                \n",
       "[11] \"mv_hyperplasia\"           \"f8_delicate\"             \n",
       "[13] \"f8_simple\"                \"f8_complex\"              \n",
       "[15] \"mib_1\"                    \"avgerage_cells\"          \n",
       "[17] \"bx_pure_treatment_effect\" \"percent_tumor_nuclei\"    \n",
       "[19] \"nfse\"                     \"nfl\"                     \n",
       "[21] \"nt1c\"                     \"nt1v\"                    \n",
       "[23] \"nt1d\"                     \"nadc.1\"                  \n",
       "[25] \"nfa.1\"                    \"nadc.2\"                  \n",
       "[27] \"nfa.2\"                    \"phn_nlin\"                \n",
       "[29] \"cbvn_nlin\"                \"recov_nlin\"              \n",
       "[31] \"phn_npar\"                 \"recov_npar\"              \n",
       "[33] \"recovn_npar\"              \"cni\"                     \n",
       "[35] \"ccri\"                     \"crni\"                    \n",
       "[37] \"ncho\"                     \"ncre\"                    \n",
       "[39] \"nnaa\"                     \"nlip\"                    \n",
       "[41] \"nlac\"                     \"laclip\"                  "
      ]
     },
     "metadata": {},
     "output_type": "display_data"
    }
   ],
   "source": [
    "colnames(all_recgli)"
   ]
  },
  {
   "cell_type": "code",
   "execution_count": 6,
   "metadata": {
    "collapsed": true,
    "deletable": true,
    "editable": true
   },
   "outputs": [],
   "source": [
    "write.csv(all_recgli, file = \"REC_HGG_Annotation_Oct2018/Annot1_researchPath_withInVivoData.csv\", row.names = F)"
   ]
  },
  {
   "cell_type": "markdown",
   "metadata": {
    "deletable": true,
    "editable": true
   },
   "source": [
    "## 2. Pathology Comments For Outcome Determination"
   ]
  },
  {
   "cell_type": "code",
   "execution_count": 7,
   "metadata": {
    "collapsed": true,
    "deletable": true,
    "editable": true
   },
   "outputs": [],
   "source": [
    "all_recgli = read.csv(\"REC_HGG_Annotation_Oct2018/Annot1_researchPath_withInVivoData.csv\")"
   ]
  },
  {
   "cell_type": "markdown",
   "metadata": {
    "deletable": true,
    "editable": true
   },
   "source": [
    "Here we have to go & download most recent pathology comment reports from cerebro. \n",
    "Go to https://braino.radiology.ucsf.edu/ncvi/secure/clinical/search/AdvancedSearch2.do?cid=5\n",
    "\n",
    "1. For old data, click Search Criteria = Study tag equals P01_PREOP_REC\n",
    "2. Under \"Tissue Samples (Research)\" Click \"Tissue Bank Vial ID\" \n",
    "3. Under \"Pathology Events (Research)\" Click \"Pathology Comments\" \n",
    "4. Click the green button to download, save as path_comments_oldP01.csv, & upload to CWD \n",
    "5. Repeat for new data, with Search Criteria = Study tag equals REC_HGG, save as path_comments_RECHGG.csv "
   ]
  },
  {
   "cell_type": "code",
   "execution_count": 9,
   "metadata": {
    "collapsed": false,
    "deletable": true,
    "editable": true
   },
   "outputs": [
    {
     "data": {
      "text/html": [
       "<ol class=list-inline>\n",
       "\t<li>417</li>\n",
       "\t<li>2</li>\n",
       "</ol>\n"
      ],
      "text/latex": [
       "\\begin{enumerate*}\n",
       "\\item 417\n",
       "\\item 2\n",
       "\\end{enumerate*}\n"
      ],
      "text/markdown": [
       "1. 417\n",
       "2. 2\n",
       "\n",
       "\n"
      ],
      "text/plain": [
       "[1] 417   2"
      ]
     },
     "metadata": {},
     "output_type": "display_data"
    }
   ],
   "source": [
    "newpathcomments = read.csv(\"path_comments_RECHGG.csv\")\n",
    "dim(newpathcomments)"
   ]
  },
  {
   "cell_type": "markdown",
   "metadata": {
    "deletable": true,
    "editable": true
   },
   "source": [
    "Previously I had looked at old spreadsheets and determined that there was no FFPE tissue and I annotated that in a file called no_path_in_data.csv. I moved that to CWD and will upload now: "
   ]
  },
  {
   "cell_type": "code",
   "execution_count": 10,
   "metadata": {
    "collapsed": true,
    "deletable": true,
    "editable": true
   },
   "outputs": [],
   "source": [
    "no_ffpe_determination_by_julia = read.csv(\"no_path_in_data.csv\")\n",
    "colnames(no_ffpe_determination_by_julia)[4]=\"roi.label\"\n",
    "colnames(oldpathcomments)=c('roi.label', 'comments')\n",
    "colnames(newpathcomments)=c('roi.label', 'comments')"
   ]
  },
  {
   "cell_type": "code",
   "execution_count": 11,
   "metadata": {
    "collapsed": false,
    "deletable": true,
    "editable": true
   },
   "outputs": [
    {
     "data": {
      "text/html": [
       "<ol class=list-inline>\n",
       "\t<li>788</li>\n",
       "\t<li>2</li>\n",
       "</ol>\n"
      ],
      "text/latex": [
       "\\begin{enumerate*}\n",
       "\\item 788\n",
       "\\item 2\n",
       "\\end{enumerate*}\n"
      ],
      "text/markdown": [
       "1. 788\n",
       "2. 2\n",
       "\n",
       "\n"
      ],
      "text/plain": [
       "[1] 788   2"
      ]
     },
     "metadata": {},
     "output_type": "display_data"
    }
   ],
   "source": [
    "allpathcomments = rbind(oldpathcomments, newpathcomments)\n",
    "dim(allpathcomments)\n",
    "allpathcomments[,1]=as.character(allpathcomments[,1])\n",
    "all_recgli$roi.label=as.character(all_recgli$roi.label)"
   ]
  },
  {
   "cell_type": "code",
   "execution_count": 12,
   "metadata": {
    "collapsed": false,
    "deletable": true,
    "editable": true
   },
   "outputs": [
    {
     "name": "stderr",
     "output_type": "stream",
     "text": [
      "\n",
      "Attaching package: ‘dplyr’\n",
      "\n",
      "The following objects are masked from ‘package:stats’:\n",
      "\n",
      "    filter, lag\n",
      "\n",
      "The following objects are masked from ‘package:base’:\n",
      "\n",
      "    intersect, setdiff, setequal, union\n",
      "\n"
     ]
    }
   ],
   "source": [
    "library(dplyr)"
   ]
  },
  {
   "cell_type": "code",
   "execution_count": 13,
   "metadata": {
    "collapsed": false,
    "deletable": true,
    "editable": true
   },
   "outputs": [
    {
     "data": {
      "text/plain": [
       "\n",
       "FALSE  TRUE \n",
       "  675   113 "
      ]
     },
     "metadata": {},
     "output_type": "display_data"
    },
    {
     "data": {
      "text/html": [
       "<ol class=list-inline>\n",
       "\t<li>373</li>\n",
       "\t<li>374</li>\n",
       "\t<li>375</li>\n",
       "\t<li>376</li>\n",
       "\t<li>377</li>\n",
       "\t<li>382</li>\n",
       "\t<li>386</li>\n",
       "\t<li>391</li>\n",
       "\t<li>392</li>\n",
       "\t<li>395</li>\n",
       "\t<li>400</li>\n",
       "\t<li>401</li>\n",
       "\t<li>405</li>\n",
       "\t<li>406</li>\n",
       "\t<li>409</li>\n",
       "\t<li>414</li>\n",
       "\t<li>419</li>\n",
       "\t<li>420</li>\n",
       "\t<li>423</li>\n",
       "\t<li>428</li>\n",
       "\t<li>431</li>\n",
       "\t<li>435</li>\n",
       "\t<li>439</li>\n",
       "\t<li>442</li>\n",
       "\t<li>446</li>\n",
       "\t<li>450</li>\n",
       "\t<li>453</li>\n",
       "\t<li>456</li>\n",
       "\t<li>460</li>\n",
       "\t<li>465</li>\n",
       "\t<li>470</li>\n",
       "\t<li>474</li>\n",
       "\t<li>478</li>\n",
       "\t<li>482</li>\n",
       "\t<li>484</li>\n",
       "\t<li>488</li>\n",
       "\t<li>493</li>\n",
       "\t<li>497</li>\n",
       "\t<li>501</li>\n",
       "\t<li>509</li>\n",
       "\t<li>511</li>\n",
       "\t<li>516</li>\n",
       "\t<li>517</li>\n",
       "\t<li>518</li>\n",
       "\t<li>521</li>\n",
       "\t<li>525</li>\n",
       "\t<li>528</li>\n",
       "\t<li>537</li>\n",
       "\t<li>542</li>\n",
       "\t<li>545</li>\n",
       "\t<li>550</li>\n",
       "\t<li>555</li>\n",
       "\t<li>559</li>\n",
       "\t<li>563</li>\n",
       "\t<li>568</li>\n",
       "\t<li>571</li>\n",
       "\t<li>576</li>\n",
       "\t<li>581</li>\n",
       "\t<li>586</li>\n",
       "\t<li>587</li>\n",
       "\t<li>592</li>\n",
       "\t<li>595</li>\n",
       "\t<li>600</li>\n",
       "\t<li>605</li>\n",
       "\t<li>612</li>\n",
       "\t<li>617</li>\n",
       "\t<li>626</li>\n",
       "\t<li>631</li>\n",
       "\t<li>634</li>\n",
       "\t<li>638</li>\n",
       "\t<li>647</li>\n",
       "\t<li>649</li>\n",
       "\t<li>650</li>\n",
       "\t<li>655</li>\n",
       "\t<li>664</li>\n",
       "\t<li>665</li>\n",
       "\t<li>666</li>\n",
       "\t<li>667</li>\n",
       "\t<li>668</li>\n",
       "\t<li>671</li>\n",
       "\t<li>675</li>\n",
       "\t<li>679</li>\n",
       "\t<li>682</li>\n",
       "\t<li>687</li>\n",
       "\t<li>692</li>\n",
       "\t<li>697</li>\n",
       "\t<li>702</li>\n",
       "\t<li>703</li>\n",
       "\t<li>706</li>\n",
       "\t<li>711</li>\n",
       "\t<li>714</li>\n",
       "\t<li>718</li>\n",
       "\t<li>721</li>\n",
       "\t<li>724</li>\n",
       "\t<li>727</li>\n",
       "\t<li>731</li>\n",
       "\t<li>733</li>\n",
       "\t<li>736</li>\n",
       "\t<li>741</li>\n",
       "\t<li>746</li>\n",
       "\t<li>747</li>\n",
       "\t<li>752</li>\n",
       "\t<li>757</li>\n",
       "\t<li>760</li>\n",
       "\t<li>761</li>\n",
       "\t<li>766</li>\n",
       "\t<li>770</li>\n",
       "\t<li>773</li>\n",
       "\t<li>777</li>\n",
       "\t<li>780</li>\n",
       "\t<li>785</li>\n",
       "\t<li>786</li>\n",
       "\t<li>788</li>\n",
       "</ol>\n"
      ],
      "text/latex": [
       "\\begin{enumerate*}\n",
       "\\item 373\n",
       "\\item 374\n",
       "\\item 375\n",
       "\\item 376\n",
       "\\item 377\n",
       "\\item 382\n",
       "\\item 386\n",
       "\\item 391\n",
       "\\item 392\n",
       "\\item 395\n",
       "\\item 400\n",
       "\\item 401\n",
       "\\item 405\n",
       "\\item 406\n",
       "\\item 409\n",
       "\\item 414\n",
       "\\item 419\n",
       "\\item 420\n",
       "\\item 423\n",
       "\\item 428\n",
       "\\item 431\n",
       "\\item 435\n",
       "\\item 439\n",
       "\\item 442\n",
       "\\item 446\n",
       "\\item 450\n",
       "\\item 453\n",
       "\\item 456\n",
       "\\item 460\n",
       "\\item 465\n",
       "\\item 470\n",
       "\\item 474\n",
       "\\item 478\n",
       "\\item 482\n",
       "\\item 484\n",
       "\\item 488\n",
       "\\item 493\n",
       "\\item 497\n",
       "\\item 501\n",
       "\\item 509\n",
       "\\item 511\n",
       "\\item 516\n",
       "\\item 517\n",
       "\\item 518\n",
       "\\item 521\n",
       "\\item 525\n",
       "\\item 528\n",
       "\\item 537\n",
       "\\item 542\n",
       "\\item 545\n",
       "\\item 550\n",
       "\\item 555\n",
       "\\item 559\n",
       "\\item 563\n",
       "\\item 568\n",
       "\\item 571\n",
       "\\item 576\n",
       "\\item 581\n",
       "\\item 586\n",
       "\\item 587\n",
       "\\item 592\n",
       "\\item 595\n",
       "\\item 600\n",
       "\\item 605\n",
       "\\item 612\n",
       "\\item 617\n",
       "\\item 626\n",
       "\\item 631\n",
       "\\item 634\n",
       "\\item 638\n",
       "\\item 647\n",
       "\\item 649\n",
       "\\item 650\n",
       "\\item 655\n",
       "\\item 664\n",
       "\\item 665\n",
       "\\item 666\n",
       "\\item 667\n",
       "\\item 668\n",
       "\\item 671\n",
       "\\item 675\n",
       "\\item 679\n",
       "\\item 682\n",
       "\\item 687\n",
       "\\item 692\n",
       "\\item 697\n",
       "\\item 702\n",
       "\\item 703\n",
       "\\item 706\n",
       "\\item 711\n",
       "\\item 714\n",
       "\\item 718\n",
       "\\item 721\n",
       "\\item 724\n",
       "\\item 727\n",
       "\\item 731\n",
       "\\item 733\n",
       "\\item 736\n",
       "\\item 741\n",
       "\\item 746\n",
       "\\item 747\n",
       "\\item 752\n",
       "\\item 757\n",
       "\\item 760\n",
       "\\item 761\n",
       "\\item 766\n",
       "\\item 770\n",
       "\\item 773\n",
       "\\item 777\n",
       "\\item 780\n",
       "\\item 785\n",
       "\\item 786\n",
       "\\item 788\n",
       "\\end{enumerate*}\n"
      ],
      "text/markdown": [
       "1. 373\n",
       "2. 374\n",
       "3. 375\n",
       "4. 376\n",
       "5. 377\n",
       "6. 382\n",
       "7. 386\n",
       "8. 391\n",
       "9. 392\n",
       "10. 395\n",
       "11. 400\n",
       "12. 401\n",
       "13. 405\n",
       "14. 406\n",
       "15. 409\n",
       "16. 414\n",
       "17. 419\n",
       "18. 420\n",
       "19. 423\n",
       "20. 428\n",
       "21. 431\n",
       "22. 435\n",
       "23. 439\n",
       "24. 442\n",
       "25. 446\n",
       "26. 450\n",
       "27. 453\n",
       "28. 456\n",
       "29. 460\n",
       "30. 465\n",
       "31. 470\n",
       "32. 474\n",
       "33. 478\n",
       "34. 482\n",
       "35. 484\n",
       "36. 488\n",
       "37. 493\n",
       "38. 497\n",
       "39. 501\n",
       "40. 509\n",
       "41. 511\n",
       "42. 516\n",
       "43. 517\n",
       "44. 518\n",
       "45. 521\n",
       "46. 525\n",
       "47. 528\n",
       "48. 537\n",
       "49. 542\n",
       "50. 545\n",
       "51. 550\n",
       "52. 555\n",
       "53. 559\n",
       "54. 563\n",
       "55. 568\n",
       "56. 571\n",
       "57. 576\n",
       "58. 581\n",
       "59. 586\n",
       "60. 587\n",
       "61. 592\n",
       "62. 595\n",
       "63. 600\n",
       "64. 605\n",
       "65. 612\n",
       "66. 617\n",
       "67. 626\n",
       "68. 631\n",
       "69. 634\n",
       "70. 638\n",
       "71. 647\n",
       "72. 649\n",
       "73. 650\n",
       "74. 655\n",
       "75. 664\n",
       "76. 665\n",
       "77. 666\n",
       "78. 667\n",
       "79. 668\n",
       "80. 671\n",
       "81. 675\n",
       "82. 679\n",
       "83. 682\n",
       "84. 687\n",
       "85. 692\n",
       "86. 697\n",
       "87. 702\n",
       "88. 703\n",
       "89. 706\n",
       "90. 711\n",
       "91. 714\n",
       "92. 718\n",
       "93. 721\n",
       "94. 724\n",
       "95. 727\n",
       "96. 731\n",
       "97. 733\n",
       "98. 736\n",
       "99. 741\n",
       "100. 746\n",
       "101. 747\n",
       "102. 752\n",
       "103. 757\n",
       "104. 760\n",
       "105. 761\n",
       "106. 766\n",
       "107. 770\n",
       "108. 773\n",
       "109. 777\n",
       "110. 780\n",
       "111. 785\n",
       "112. 786\n",
       "113. 788\n",
       "\n",
       "\n"
      ],
      "text/plain": [
       "  [1] 373 374 375 376 377 382 386 391 392 395 400 401 405 406 409 414 419 420\n",
       " [19] 423 428 431 435 439 442 446 450 453 456 460 465 470 474 478 482 484 488\n",
       " [37] 493 497 501 509 511 516 517 518 521 525 528 537 542 545 550 555 559 563\n",
       " [55] 568 571 576 581 586 587 592 595 600 605 612 617 626 631 634 638 647 649\n",
       " [73] 650 655 664 665 666 667 668 671 675 679 682 687 692 697 702 703 706 711\n",
       " [91] 714 718 721 724 727 731 733 736 741 746 747 752 757 760 761 766 770 773\n",
       "[109] 777 780 785 786 788"
      ]
     },
     "metadata": {},
     "output_type": "display_data"
    },
    {
     "data": {
      "text/html": [
       "<ol class=list-inline>\n",
       "\t<li>675</li>\n",
       "\t<li>2</li>\n",
       "</ol>\n"
      ],
      "text/latex": [
       "\\begin{enumerate*}\n",
       "\\item 675\n",
       "\\item 2\n",
       "\\end{enumerate*}\n"
      ],
      "text/markdown": [
       "1. 675\n",
       "2. 2\n",
       "\n",
       "\n"
      ],
      "text/plain": [
       "[1] 675   2"
      ]
     },
     "metadata": {},
     "output_type": "display_data"
    }
   ],
   "source": [
    "table(duplicated(allpathcomments$roi.label))\n",
    "which(duplicated(allpathcomments))\n",
    "allpathcomments=allpathcomments[-which(duplicated(allpathcomments)),]\n",
    "dim(allpathcomments)"
   ]
  },
  {
   "cell_type": "code",
   "execution_count": 14,
   "metadata": {
    "collapsed": true,
    "deletable": true,
    "editable": true
   },
   "outputs": [],
   "source": [
    "recgli.withpathcommments = left_join(all_recgli, allpathcomments, by = \"roi.label\")"
   ]
  },
  {
   "cell_type": "code",
   "execution_count": 15,
   "metadata": {
    "collapsed": false,
    "deletable": true,
    "editable": true
   },
   "outputs": [
    {
     "data": {
      "text/html": [
       "<ol class=list-inline>\n",
       "\t<li>324</li>\n",
       "\t<li>43</li>\n",
       "</ol>\n"
      ],
      "text/latex": [
       "\\begin{enumerate*}\n",
       "\\item 324\n",
       "\\item 43\n",
       "\\end{enumerate*}\n"
      ],
      "text/markdown": [
       "1. 324\n",
       "2. 43\n",
       "\n",
       "\n"
      ],
      "text/plain": [
       "[1] 324  43"
      ]
     },
     "metadata": {},
     "output_type": "display_data"
    }
   ],
   "source": [
    "dim(recgli.withpathcommments)"
   ]
  },
  {
   "cell_type": "code",
   "execution_count": 16,
   "metadata": {
    "collapsed": false,
    "deletable": true,
    "editable": true
   },
   "outputs": [
    {
     "data": {
      "text/plain": [
       "\n",
       "FALSE \n",
       "   77 "
      ]
     },
     "metadata": {},
     "output_type": "display_data"
    },
    {
     "name": "stderr",
     "output_type": "stream",
     "text": [
      "Warning message:\n",
      "“Column `roi.label` joining character vector and factor, coercing into character vector”"
     ]
    }
   ],
   "source": [
    "table(duplicated(no_ffpe_determination_by_julia$roi.label))\n",
    "recgli = left_join(recgli.withpathcommments, no_ffpe_determination_by_julia[,c(4,8)], by = \"roi.label\")"
   ]
  },
  {
   "cell_type": "code",
   "execution_count": 18,
   "metadata": {
    "collapsed": false,
    "deletable": true,
    "editable": true
   },
   "outputs": [
    {
     "data": {
      "text/html": [
       "<table>\n",
       "<thead><tr><th scope=col>b_number</th><th scope=col>t_number</th><th scope=col>sf_number</th><th scope=col>current_scan_date</th><th scope=col>current_surgery_date</th><th scope=col>current_hist_grade</th><th scope=col>current_hist_type</th><th scope=col>roi.label</th><th scope=col>tumor_cell_evaluation</th><th scope=col>necrosis</th><th scope=col>mv_hyperplasia</th><th scope=col>f8_delicate</th><th scope=col>f8_simple</th><th scope=col>f8_complex</th><th scope=col>mib_1</th><th scope=col>avgerage_cells</th><th scope=col>bx_pure_treatment_effect</th><th scope=col>percent_tumor_nuclei</th><th scope=col>nfse</th><th scope=col>nfl</th><th scope=col>nt1c</th><th scope=col>nt1v</th><th scope=col>nt1d</th><th scope=col>nadc.1</th><th scope=col>nfa.1</th><th scope=col>nadc.2</th><th scope=col>nfa.2</th><th scope=col>phn_nlin</th><th scope=col>cbvn_nlin</th><th scope=col>recov_nlin</th><th scope=col>phn_npar</th><th scope=col>recov_npar</th><th scope=col>recovn_npar</th><th scope=col>cni</th><th scope=col>ccri</th><th scope=col>crni</th><th scope=col>ncho</th><th scope=col>ncre</th><th scope=col>nnaa</th><th scope=col>nlip</th><th scope=col>nlac</th><th scope=col>laclip</th><th scope=col>comments</th><th scope=col>notes.</th></tr></thead>\n",
       "<tbody>\n",
       "\t<tr><td>1338                                                 </td><td>8773                                                 </td><td>9727                                                 </td><td>2013-10-02                                           </td><td>2013-10-03                                           </td><td>Grade IV                                             </td><td>Glioblastoma                                         </td><td>60B60                                                </td><td>1                                                    </td><td>0                                                    </td><td>0                                                    </td><td>                                                     </td><td>                                                     </td><td>                                                     </td><td> 2.01                                                </td><td> 99                                                  </td><td>f                                                    </td><td> 5                                                   </td><td>  NA                                                 </td><td>  NA                                                 </td><td>  NA                                                 </td><td>  NA                                                 </td><td>    NA                                               </td><td>  NA                                                 </td><td>  NA                                                 </td><td>  NA                                                 </td><td>  NA                                                 </td><td>  NA                                                 </td><td>  NA                                                 </td><td>    NA                                               </td><td>  NA                                                 </td><td>    NA                                               </td><td>    NA                                               </td><td>   NA                                                </td><td>   NA                                                </td><td>  NA                                                 </td><td>  NA                                                 </td><td>  NA                                                 </td><td>  NA                                                 </td><td>  NA                                                 </td><td>  NA                                                 </td><td>  NA                                                 </td><td>                                                     </td><td>NA                                                   </td></tr>\n",
       "\t<tr><td>1338                                                 </td><td>8773                                                 </td><td>9727                                                 </td><td>2013-10-02                                           </td><td>2013-10-03                                           </td><td>Grade IV                                             </td><td>Glioblastoma                                         </td><td>61B60                                                </td><td>3                                                    </td><td>0                                                    </td><td>1                                                    </td><td>                                                     </td><td>                                                     </td><td>                                                     </td><td>70.25                                                </td><td>158                                                  </td><td>f                                                    </td><td>90                                                   </td><td>1.51                                                 </td><td>1.74                                                 </td><td>0.91                                                 </td><td>  NA                                                 </td><td>    NA                                               </td><td>1.42                                                 </td><td>0.54                                                 </td><td>  NA                                                 </td><td>  NA                                                 </td><td>1.21                                                 </td><td>1.38                                                 </td><td>100.00                                               </td><td>1.20                                                 </td><td>100.00                                               </td><td>100.00                                               </td><td>10.10                                                </td><td> 8.76                                                </td><td>1.93                                                 </td><td>3.45                                                 </td><td>1.36                                                 </td><td>0.72                                                 </td><td>0.54                                                 </td><td>0.35                                                 </td><td>0.89                                                 </td><td>                                                     </td><td>NA                                                   </td></tr>\n",
       "\t<tr><td>1338                                                 </td><td>8773                                                 </td><td>9727                                                 </td><td>2013-10-02                                           </td><td>2013-10-03                                           </td><td>Grade IV                                             </td><td>Glioblastoma                                         </td><td>62B60                                                </td><td>2                                                    </td><td>0                                                    </td><td>2                                                    </td><td>                                                     </td><td>                                                     </td><td>                                                     </td><td>62.61                                                </td><td>176                                                  </td><td>f                                                    </td><td>25                                                   </td><td>1.58                                                 </td><td>1.75                                                 </td><td>1.29                                                 </td><td>  NA                                                 </td><td>    NA                                               </td><td>1.53                                                 </td><td>0.75                                                 </td><td>  NA                                                 </td><td>  NA                                                 </td><td>1.02                                                 </td><td>1.38                                                 </td><td>100.00                                               </td><td>1.10                                                 </td><td>100.00                                               </td><td>100.00                                               </td><td> 6.00                                                </td><td> 6.16                                                </td><td>0.33                                                 </td><td>2.19                                                 </td><td>0.59                                                 </td><td>0.50                                                 </td><td>0.39                                                 </td><td>0.62                                                 </td><td>1.01                                                 </td><td>                                                     </td><td>NA                                                   </td></tr>\n",
       "\t<tr><td>1338                                                 </td><td>8773                                                 </td><td>9727                                                 </td><td>2013-10-02                                           </td><td>2013-10-03                                           </td><td>Grade IV                                             </td><td>Glioblastoma                                         </td><td>63B60                                                </td><td>2                                                    </td><td>0                                                    </td><td>1                                                    </td><td>                                                     </td><td>                                                     </td><td>                                                     </td><td>59.98                                                </td><td>261                                                  </td><td>f                                                    </td><td>65                                                   </td><td>1.22                                                 </td><td>1.18                                                 </td><td>0.92                                                 </td><td>  NA                                                 </td><td>    NA                                               </td><td>1.13                                                 </td><td>0.54                                                 </td><td>  NA                                                 </td><td>  NA                                                 </td><td>1.29                                                 </td><td>1.80                                                 </td><td> 95.57                                               </td><td>1.43                                                 </td><td>100.00                                               </td><td>100.00                                               </td><td> 8.70                                                </td><td> 5.26                                                </td><td>3.33                                                 </td><td>2.93                                                 </td><td>1.80                                                 </td><td>0.80                                                 </td><td>0.66                                                 </td><td>0.38                                                 </td><td>1.04                                                 </td><td>                                                     </td><td>NA                                                   </td></tr>\n",
       "\t<tr><td>2947                                                 </td><td>8775                                                 </td><td>9729                                                 </td><td>2013-10-06                                           </td><td>2013-10-07                                           </td><td>Grade IV                                             </td><td>Glioblastoma                                         </td><td>1B61                                                 </td><td>2                                                    </td><td>0                                                    </td><td>0                                                    </td><td>                                                     </td><td>                                                     </td><td>                                                     </td><td>34.83                                                </td><td>364                                                  </td><td>t                                                    </td><td>75                                                   </td><td>  NA                                                 </td><td>  NA                                                 </td><td>  NA                                                 </td><td>  NA                                                 </td><td>    NA                                               </td><td>  NA                                                 </td><td>  NA                                                 </td><td>  NA                                                 </td><td>  NA                                                 </td><td>3.70                                                 </td><td>4.88                                                 </td><td> 88.72                                               </td><td>3.62                                                 </td><td> 93.68                                               </td><td>100.00                                               </td><td>   NA                                                </td><td>   NA                                                </td><td>  NA                                                 </td><td>  NA                                                 </td><td>  NA                                                 </td><td>  NA                                                 </td><td>  NA                                                 </td><td>  NA                                                 </td><td>  NA                                                 </td><td>                                                     </td><td>NA                                                   </td></tr>\n",
       "\t<tr><td>2947                                                 </td><td>8775                                                 </td><td>9729                                                 </td><td>2013-10-06                                           </td><td>2013-10-07                                           </td><td>Grade IV                                             </td><td>Glioblastoma                                         </td><td>2B61                                                 </td><td>3                                                    </td><td>0                                                    </td><td>2                                                    </td><td>                                                     </td><td>                                                     </td><td>                                                     </td><td>18.50                                                </td><td>256                                                  </td><td>f                                                    </td><td>95                                                   </td><td>  NA                                                 </td><td>  NA                                                 </td><td>  NA                                                 </td><td>  NA                                                 </td><td>    NA                                               </td><td>  NA                                                 </td><td>  NA                                                 </td><td>  NA                                                 </td><td>  NA                                                 </td><td>3.03                                                 </td><td>3.82                                                 </td><td>100.00                                               </td><td>2.77                                                 </td><td>100.00                                               </td><td>100.00                                               </td><td>   NA                                                </td><td>   NA                                                </td><td>  NA                                                 </td><td>  NA                                                 </td><td>  NA                                                 </td><td>  NA                                                 </td><td>  NA                                                 </td><td>  NA                                                 </td><td>  NA                                                 </td><td>                                                     </td><td>NA                                                   </td></tr>\n",
       "\t<tr><td>2947                                                 </td><td>8775                                                 </td><td>9729                                                 </td><td>2013-10-06                                           </td><td>2013-10-07                                           </td><td>Grade IV                                             </td><td>Glioblastoma                                         </td><td>3B61                                                 </td><td>2                                                    </td><td>0                                                    </td><td>0                                                    </td><td>                                                     </td><td>                                                     </td><td>                                                     </td><td>17.50                                                </td><td>270                                                  </td><td>t                                                    </td><td>75                                                   </td><td>  NA                                                 </td><td>  NA                                                 </td><td>  NA                                                 </td><td>  NA                                                 </td><td>    NA                                               </td><td>  NA                                                 </td><td>  NA                                                 </td><td>  NA                                                 </td><td>  NA                                                 </td><td>1.76                                                 </td><td>2.57                                                 </td><td> 88.01                                               </td><td>1.83                                                 </td><td> 95.04                                               </td><td>100.00                                               </td><td>   NA                                                </td><td>   NA                                                </td><td>  NA                                                 </td><td>  NA                                                 </td><td>  NA                                                 </td><td>  NA                                                 </td><td>  NA                                                 </td><td>  NA                                                 </td><td>  NA                                                 </td><td>                                                     </td><td>NA                                                   </td></tr>\n",
       "\t<tr><td>2947                                                 </td><td>8775                                                 </td><td>9729                                                 </td><td>2013-10-06                                           </td><td>2013-10-07                                           </td><td>Grade IV                                             </td><td>Glioblastoma                                         </td><td>4B61                                                 </td><td>2                                                    </td><td>0                                                    </td><td>1                                                    </td><td>                                                     </td><td>                                                     </td><td>                                                     </td><td> 8.62                                                </td><td>203                                                  </td><td>f                                                    </td><td>75                                                   </td><td>  NA                                                 </td><td>  NA                                                 </td><td>  NA                                                 </td><td>  NA                                                 </td><td>    NA                                               </td><td>  NA                                                 </td><td>  NA                                                 </td><td>  NA                                                 </td><td>  NA                                                 </td><td>2.14                                                 </td><td>2.17                                                 </td><td> 81.89                                               </td><td>2.10                                                 </td><td> 87.26                                               </td><td>100.00                                               </td><td>   NA                                                </td><td>   NA                                                </td><td>  NA                                                 </td><td>  NA                                                 </td><td>  NA                                                 </td><td>  NA                                                 </td><td>  NA                                                 </td><td>  NA                                                 </td><td>  NA                                                 </td><td>                                                     </td><td>NA                                                   </td></tr>\n",
       "\t<tr><td>3472                                                 </td><td>8783                                                 </td><td>9739                                                 </td><td>2013-10-14                                           </td><td>2013-10-15                                           </td><td>Treatment Effect                                     </td><td>Treatment Effect                                     </td><td>31B61                                                </td><td>1                                                    </td><td>0                                                    </td><td>1                                                    </td><td>                                                     </td><td>                                                     </td><td>                                                     </td><td> 1.13                                                </td><td>198                                                  </td><td>t                                                    </td><td>20                                                   </td><td>1.08                                                 </td><td>1.38                                                 </td><td>0.97                                                 </td><td>  NA                                                 </td><td>    NA                                               </td><td>1.05                                                 </td><td>1.12                                                 </td><td>1.18                                                 </td><td>1.50                                                 </td><td>1.07                                                 </td><td>0.98                                                 </td><td> 99.97                                               </td><td>0.99                                                 </td><td>100.00                                               </td><td>100.00                                               </td><td> 4.10                                                </td><td> 2.00                                                </td><td>1.54                                                 </td><td>1.59                                                 </td><td>1.04                                                 </td><td>0.52                                                 </td><td>0.13                                                 </td><td>0.30                                                 </td><td>0.43                                                 </td><td>                                                     </td><td>not in any path_report on Box                        </td></tr>\n",
       "\t<tr><td>3472                                                 </td><td>8783                                                 </td><td>9739                                                 </td><td>2013-10-14                                           </td><td>2013-10-15                                           </td><td>Treatment Effect                                     </td><td>Treatment Effect                                     </td><td>33B61                                                </td><td>1                                                    </td><td>0                                                    </td><td>0                                                    </td><td>                                                     </td><td>                                                     </td><td>                                                     </td><td> 1.34                                                </td><td>242                                                  </td><td>f                                                    </td><td>20                                                   </td><td>1.23                                                 </td><td>1.61                                                 </td><td>1.92                                                 </td><td>  NA                                                 </td><td>    NA                                               </td><td>1.38                                                 </td><td>0.58                                                 </td><td>1.28                                                 </td><td>0.94                                                 </td><td>0.90                                                 </td><td>0.94                                                 </td><td> 95.56                                               </td><td>0.94                                                 </td><td>100.00                                               </td><td>100.00                                               </td><td> 2.60                                                </td><td> 0.70                                                </td><td>1.44                                                 </td><td>1.24                                                 </td><td>1.04                                                 </td><td>0.56                                                 </td><td>0.65                                                 </td><td>0.25                                                 </td><td>0.90                                                 </td><td>                                                     </td><td>not in any path_report on Box                        </td></tr>\n",
       "\t<tr><td>3499                                                 </td><td>8869                                                 </td><td>9795                                                 </td><td>2013-12-10                                           </td><td>2013-12-11                                           </td><td>Grade IV                                             </td><td>Glioblastoma                                         </td><td>65B60                                                </td><td>3                                                    </td><td>0                                                    </td><td>2                                                    </td><td>                                                     </td><td>                                                     </td><td>                                                     </td><td>60.52                                                </td><td>331                                                  </td><td>f                                                    </td><td>95                                                   </td><td>2.29                                                 </td><td>2.21                                                 </td><td>2.57                                                 </td><td>0.76                                                 </td><td>-27.50                                               </td><td>2.66                                                 </td><td>0.58                                                 </td><td>2.87                                                 </td><td>0.72                                                 </td><td>1.05                                                 </td><td>1.68                                                 </td><td>100.00                                               </td><td>1.08                                                 </td><td>100.00                                               </td><td>100.00                                               </td><td> 1.06                                                </td><td> 0.14                                                </td><td>0.88                                                 </td><td>0.56                                                 </td><td>0.50                                                 </td><td>0.23                                                 </td><td>0.71                                                 </td><td>1.17                                                 </td><td>1.88                                                 </td><td>\"POORLY DIFFERENTIATED REGION\"                       </td><td>NA                                                   </td></tr>\n",
       "\t<tr><td>3499                                                 </td><td>8869                                                 </td><td>9795                                                 </td><td>2013-12-10                                           </td><td>2013-12-11                                           </td><td>Grade IV                                             </td><td>Glioblastoma                                         </td><td>68B60                                                </td><td>3                                                    </td><td>0                                                    </td><td>2                                                    </td><td>                                                     </td><td>                                                     </td><td>                                                     </td><td>52.39                                                </td><td>369                                                  </td><td>f                                                    </td><td>95                                                   </td><td>  NA                                                 </td><td>  NA                                                 </td><td>  NA                                                 </td><td>  NA                                                 </td><td>    NA                                               </td><td>  NA                                                 </td><td>  NA                                                 </td><td>  NA                                                 </td><td>  NA                                                 </td><td>  NA                                                 </td><td>  NA                                                 </td><td>    NA                                               </td><td>  NA                                                 </td><td>    NA                                               </td><td>    NA                                               </td><td> 0.00                                                </td><td> 0.00                                                </td><td>0.00                                                 </td><td>0.00                                                 </td><td>0.00                                                 </td><td>0.00                                                 </td><td>0.00                                                 </td><td>0.00                                                 </td><td>0.00                                                 </td><td>\"POORLY DIFFERENTIATED REGION\"                       </td><td>NA                                                   </td></tr>\n",
       "\t<tr><td>3125                                                 </td><td>8878                                                 </td><td>9801                                                 </td><td>2013-12-15                                           </td><td>2013-12-16                                           </td><td>Grade IV                                             </td><td>Glioblastoma                                         </td><td>42B61                                                </td><td>1                                                    </td><td>0                                                    </td><td>1                                                    </td><td>                                                     </td><td>                                                     </td><td>                                                     </td><td>11.54                                                </td><td>231                                                  </td><td>t                                                    </td><td>10                                                   </td><td>4.66                                                 </td><td>1.48                                                 </td><td>0.62                                                 </td><td>0.59                                                 </td><td>  0.35                                               </td><td>2.81                                                 </td><td>0.72                                                 </td><td>2.45                                                 </td><td>0.72                                                 </td><td>0.59                                                 </td><td>0.68                                                 </td><td> 96.15                                               </td><td>0.59                                                 </td><td> 96.00                                               </td><td>100.00                                               </td><td> 3.23                                                </td><td> 1.01                                                </td><td>1.92                                                 </td><td>0.94                                                 </td><td>0.65                                                 </td><td>0.07                                                 </td><td>0.13                                                 </td><td>0.14                                                 </td><td>0.27                                                 </td><td>\"MACROPHAGES, GLIOSIS; focal increased proliferation\"</td><td>NA                                                   </td></tr>\n",
       "\t<tr><td>3125                                                                                            </td><td>8878                                                                                            </td><td>9801                                                                                            </td><td>2013-12-15                                                                                      </td><td>2013-12-16                                                                                      </td><td><span style=white-space:pre-wrap>Grade IV        </span>                                        </td><td><span style=white-space:pre-wrap>Glioblastoma    </span>                                        </td><td>44B61                                                                                           </td><td>1                                                                                               </td><td>0                                                                                               </td><td>1                                                                                               </td><td>                                                                                                </td><td>                                                                                                </td><td>                                                                                                </td><td> 0.64                                                                                           </td><td>209                                                                                             </td><td>t                                                                                               </td><td> 5                                                                                              </td><td>2.62                                                                                            </td><td>2.05                                                                                            </td><td>1.10                                                                                            </td><td>0.77                                                                                            </td><td> -3.23                                                                                          </td><td>2.22                                                                                            </td><td>0.94                                                                                            </td><td>2.35                                                                                            </td><td>0.83                                                                                            </td><td>0.68                                                                                            </td><td>0.77                                                                                            </td><td> 95.28                                                                                          </td><td>0.65                                                                                            </td><td> 98.03                                                                                          </td><td>100.00                                                                                          </td><td> 1.23                                                                                           </td><td>-0.09                                                                                           </td><td>1.12                                                                                            </td><td>0.68                                                                                            </td><td>0.72                                                                                            </td><td>0.33                                                                                            </td><td>0.60                                                                                            </td><td>0.24                                                                                            </td><td>0.84                                                                                            </td><td><span style=white-space:pre-wrap>\"ki67&lt;1%\"                                            </span></td><td><span style=white-space:pre-wrap>NA                           </span>                           </td></tr>\n",
       "\t<tr><td>3125                                                 </td><td>8878                                                 </td><td>9801                                                 </td><td>2013-12-15                                           </td><td>2013-12-16                                           </td><td>Grade IV                                             </td><td>Glioblastoma                                         </td><td>45B61                                                </td><td>2                                                    </td><td>0                                                    </td><td>0                                                    </td><td>                                                     </td><td>                                                     </td><td>                                                     </td><td> 4.13                                                </td><td>266                                                  </td><td>t                                                    </td><td>30                                                   </td><td>3.36                                                 </td><td>2.46                                                 </td><td>0.78                                                 </td><td>0.76                                                 </td><td>  0.50                                               </td><td>2.98                                                 </td><td>0.61                                                 </td><td>2.44                                                 </td><td>0.72                                                 </td><td>0.45                                                 </td><td>0.47                                                 </td><td> 99.71                                               </td><td>0.44                                                 </td><td>100.00                                               </td><td>100.00                                               </td><td> 4.03                                                </td><td> 1.51                                                </td><td>2.12                                                 </td><td>1.45                                                 </td><td>1.00                                                 </td><td>0.38                                                 </td><td>0.48                                                 </td><td>0.43                                                 </td><td>0.91                                                 </td><td>                                                     </td><td>NA                                                   </td></tr>\n",
       "\t<tr><td>3125                                                 </td><td>8878                                                 </td><td>9801                                                 </td><td>2013-12-15                                           </td><td>2013-12-16                                           </td><td>Grade IV                                             </td><td>Glioblastoma                                         </td><td>46B61                                                </td><td>0                                                    </td><td>0                                                    </td><td>0                                                    </td><td>                                                     </td><td>                                                     </td><td>                                                     </td><td> 1.33                                                </td><td> 75                                                  </td><td>t                                                    </td><td> 0                                                   </td><td>1.50                                                 </td><td>1.51                                                 </td><td>0.90                                                 </td><td>0.99                                                 </td><td>  1.22                                               </td><td>1.89                                                 </td><td>0.72                                                 </td><td>1.65                                                 </td><td>0.83                                                 </td><td>0.88                                                 </td><td>0.92                                                 </td><td> 90.95                                               </td><td>0.87                                                 </td><td> 92.69                                               </td><td> 99.31                                               </td><td> 0.00                                                </td><td> 0.00                                                </td><td>0.00                                                 </td><td>0.00                                                 </td><td>0.00                                                 </td><td>0.00                                                 </td><td>0.00                                                 </td><td>0.00                                                 </td><td>0.00                                                 </td><td>                                                     </td><td>NA                                                   </td></tr>\n",
       "\t<tr><td>3526                                                 </td><td>8943                                                 </td><td>9882                                                 </td><td>2014-02-20                                           </td><td>2014-02-21                                           </td><td>Grade IV                                             </td><td>Glioblastoma                                         </td><td>65B63                                                </td><td>0                                                    </td><td>0                                                    </td><td>0                                                    </td><td>                                                     </td><td>                                                     </td><td>                                                     </td><td> 1.01                                                </td><td> 99                                                  </td><td>f                                                    </td><td> 0                                                   </td><td>1.55                                                 </td><td>2.31                                                 </td><td>1.08                                                 </td><td>  NA                                                 </td><td>    NA                                               </td><td>  NA                                                 </td><td>  NA                                                 </td><td>1.98                                                 </td><td>0.61                                                 </td><td>  NA                                                 </td><td>  NA                                                 </td><td>    NA                                               </td><td>  NA                                                 </td><td>    NA                                               </td><td>    NA                                               </td><td>   NA                                                </td><td>   NA                                                </td><td>  NA                                                 </td><td>  NA                                                 </td><td>  NA                                                 </td><td>  NA                                                 </td><td>  NA                                                 </td><td>  NA                                                 </td><td>  NA                                                 </td><td>                                                     </td><td>NA                                                   </td></tr>\n",
       "\t<tr><td>3526                                                 </td><td>8943                                                 </td><td>9882                                                 </td><td>2014-02-20                                           </td><td>2014-02-21                                           </td><td>Grade IV                                             </td><td>Glioblastoma                                         </td><td>66B63                                                </td><td>0                                                    </td><td>0                                                    </td><td>0                                                    </td><td>                                                     </td><td>                                                     </td><td>                                                     </td><td> 0.00                                                </td><td>106                                                  </td><td>f                                                    </td><td> 0                                                   </td><td>1.17                                                 </td><td>1.66                                                 </td><td>1.51                                                 </td><td>  NA                                                 </td><td>    NA                                               </td><td>  NA                                                 </td><td>  NA                                                 </td><td>1.36                                                 </td><td>1.06                                                 </td><td>  NA                                                 </td><td>  NA                                                 </td><td>    NA                                               </td><td>  NA                                                 </td><td>    NA                                               </td><td>    NA                                               </td><td>   NA                                                </td><td>   NA                                                </td><td>  NA                                                 </td><td>  NA                                                 </td><td>  NA                                                 </td><td>  NA                                                 </td><td>  NA                                                 </td><td>  NA                                                 </td><td>  NA                                                 </td><td>                                                     </td><td>NA                                                   </td></tr>\n",
       "\t<tr><td>3526                                                 </td><td>8943                                                 </td><td>9882                                                 </td><td>2014-02-20                                           </td><td>2014-02-21                                           </td><td>Grade IV                                             </td><td>Glioblastoma                                         </td><td>67B63                                                </td><td>0                                                    </td><td>0                                                    </td><td>1                                                    </td><td>                                                     </td><td>                                                     </td><td>                                                     </td><td> 7.24                                                </td><td>231                                                  </td><td>t                                                    </td><td> 0                                                   </td><td>1.17                                                 </td><td>1.72                                                 </td><td>2.65                                                 </td><td>  NA                                                 </td><td>    NA                                               </td><td>  NA                                                 </td><td>  NA                                                 </td><td>1.51                                                 </td><td>0.94                                                 </td><td>0.00                                                 </td><td>0.00                                                 </td><td>  0.00                                               </td><td>0.00                                                 </td><td>  0.00                                               </td><td>  0.00                                               </td><td>   NA                                                </td><td>   NA                                                </td><td>  NA                                                 </td><td>  NA                                                 </td><td>  NA                                                 </td><td>  NA                                                 </td><td>  NA                                                 </td><td>  NA                                                 </td><td>  NA                                                 </td><td>                                                     </td><td>NA                                                   </td></tr>\n",
       "\t<tr><td>3527                                                 </td><td>8944                                                 </td><td>9891                                                 </td><td>2014-02-25                                           </td><td>2014-02-26                                           </td><td>Grade IV                                             </td><td>Glioblastoma                                         </td><td>26B65                                                </td><td>2                                                    </td><td>0                                                    </td><td>1                                                    </td><td>                                                     </td><td>                                                     </td><td>                                                     </td><td>13.07                                                </td><td>169                                                  </td><td>t                                                    </td><td>70                                                   </td><td>1.19                                                 </td><td>1.69                                                 </td><td>1.00                                                 </td><td>0.74                                                 </td><td> -2.64                                               </td><td>1.25                                                 </td><td>0.65                                                 </td><td>1.29                                                 </td><td>0.72                                                 </td><td>1.64                                                 </td><td>1.71                                                 </td><td> 84.64                                               </td><td>1.60                                                 </td><td> 86.88                                               </td><td> 93.90                                               </td><td>   NA                                                </td><td>   NA                                                </td><td>  NA                                                 </td><td>  NA                                                 </td><td>  NA                                                 </td><td>  NA                                                 </td><td>  NA                                                 </td><td>  NA                                                 </td><td>  NA                                                 </td><td>                                                     </td><td>NA                                                   </td></tr>\n",
       "</tbody>\n",
       "</table>\n"
      ],
      "text/latex": [
       "\\begin{tabular}{r|llllllllllllllllllllllllllllllllllllllllllll}\n",
       " b\\_number & t\\_number & sf\\_number & current\\_scan\\_date & current\\_surgery\\_date & current\\_hist\\_grade & current\\_hist\\_type & roi.label & tumor\\_cell\\_evaluation & necrosis & mv\\_hyperplasia & f8\\_delicate & f8\\_simple & f8\\_complex & mib\\_1 & avgerage\\_cells & bx\\_pure\\_treatment\\_effect & percent\\_tumor\\_nuclei & nfse & nfl & nt1c & nt1v & nt1d & nadc.1 & nfa.1 & nadc.2 & nfa.2 & phn\\_nlin & cbvn\\_nlin & recov\\_nlin & phn\\_npar & recov\\_npar & recovn\\_npar & cni & ccri & crni & ncho & ncre & nnaa & nlip & nlac & laclip & comments & notes.\\\\\n",
       "\\hline\n",
       "\t 1338                                                  & 8773                                                  & 9727                                                  & 2013-10-02                                            & 2013-10-03                                            & Grade IV                                              & Glioblastoma                                          & 60B60                                                 & 1                                                     & 0                                                     & 0                                                     &                                                       &                                                       &                                                       &  2.01                                                 &  99                                                   & f                                                     &  5                                                    &   NA                                                  &   NA                                                  &   NA                                                  &   NA                                                  &     NA                                                &   NA                                                  &   NA                                                  &   NA                                                  &   NA                                                  &   NA                                                  &   NA                                                  &     NA                                                &   NA                                                  &     NA                                                &     NA                                                &    NA                                                 &    NA                                                 &   NA                                                  &   NA                                                  &   NA                                                  &   NA                                                  &   NA                                                  &   NA                                                  &   NA                                                  &                                                       & NA                                                   \\\\\n",
       "\t 1338                                                  & 8773                                                  & 9727                                                  & 2013-10-02                                            & 2013-10-03                                            & Grade IV                                              & Glioblastoma                                          & 61B60                                                 & 3                                                     & 0                                                     & 1                                                     &                                                       &                                                       &                                                       & 70.25                                                 & 158                                                   & f                                                     & 90                                                    & 1.51                                                  & 1.74                                                  & 0.91                                                  &   NA                                                  &     NA                                                & 1.42                                                  & 0.54                                                  &   NA                                                  &   NA                                                  & 1.21                                                  & 1.38                                                  & 100.00                                                & 1.20                                                  & 100.00                                                & 100.00                                                & 10.10                                                 &  8.76                                                 & 1.93                                                  & 3.45                                                  & 1.36                                                  & 0.72                                                  & 0.54                                                  & 0.35                                                  & 0.89                                                  &                                                       & NA                                                   \\\\\n",
       "\t 1338                                                  & 8773                                                  & 9727                                                  & 2013-10-02                                            & 2013-10-03                                            & Grade IV                                              & Glioblastoma                                          & 62B60                                                 & 2                                                     & 0                                                     & 2                                                     &                                                       &                                                       &                                                       & 62.61                                                 & 176                                                   & f                                                     & 25                                                    & 1.58                                                  & 1.75                                                  & 1.29                                                  &   NA                                                  &     NA                                                & 1.53                                                  & 0.75                                                  &   NA                                                  &   NA                                                  & 1.02                                                  & 1.38                                                  & 100.00                                                & 1.10                                                  & 100.00                                                & 100.00                                                &  6.00                                                 &  6.16                                                 & 0.33                                                  & 2.19                                                  & 0.59                                                  & 0.50                                                  & 0.39                                                  & 0.62                                                  & 1.01                                                  &                                                       & NA                                                   \\\\\n",
       "\t 1338                                                  & 8773                                                  & 9727                                                  & 2013-10-02                                            & 2013-10-03                                            & Grade IV                                              & Glioblastoma                                          & 63B60                                                 & 2                                                     & 0                                                     & 1                                                     &                                                       &                                                       &                                                       & 59.98                                                 & 261                                                   & f                                                     & 65                                                    & 1.22                                                  & 1.18                                                  & 0.92                                                  &   NA                                                  &     NA                                                & 1.13                                                  & 0.54                                                  &   NA                                                  &   NA                                                  & 1.29                                                  & 1.80                                                  &  95.57                                                & 1.43                                                  & 100.00                                                & 100.00                                                &  8.70                                                 &  5.26                                                 & 3.33                                                  & 2.93                                                  & 1.80                                                  & 0.80                                                  & 0.66                                                  & 0.38                                                  & 1.04                                                  &                                                       & NA                                                   \\\\\n",
       "\t 2947                                                  & 8775                                                  & 9729                                                  & 2013-10-06                                            & 2013-10-07                                            & Grade IV                                              & Glioblastoma                                          & 1B61                                                  & 2                                                     & 0                                                     & 0                                                     &                                                       &                                                       &                                                       & 34.83                                                 & 364                                                   & t                                                     & 75                                                    &   NA                                                  &   NA                                                  &   NA                                                  &   NA                                                  &     NA                                                &   NA                                                  &   NA                                                  &   NA                                                  &   NA                                                  & 3.70                                                  & 4.88                                                  &  88.72                                                & 3.62                                                  &  93.68                                                & 100.00                                                &    NA                                                 &    NA                                                 &   NA                                                  &   NA                                                  &   NA                                                  &   NA                                                  &   NA                                                  &   NA                                                  &   NA                                                  &                                                       & NA                                                   \\\\\n",
       "\t 2947                                                  & 8775                                                  & 9729                                                  & 2013-10-06                                            & 2013-10-07                                            & Grade IV                                              & Glioblastoma                                          & 2B61                                                  & 3                                                     & 0                                                     & 2                                                     &                                                       &                                                       &                                                       & 18.50                                                 & 256                                                   & f                                                     & 95                                                    &   NA                                                  &   NA                                                  &   NA                                                  &   NA                                                  &     NA                                                &   NA                                                  &   NA                                                  &   NA                                                  &   NA                                                  & 3.03                                                  & 3.82                                                  & 100.00                                                & 2.77                                                  & 100.00                                                & 100.00                                                &    NA                                                 &    NA                                                 &   NA                                                  &   NA                                                  &   NA                                                  &   NA                                                  &   NA                                                  &   NA                                                  &   NA                                                  &                                                       & NA                                                   \\\\\n",
       "\t 2947                                                  & 8775                                                  & 9729                                                  & 2013-10-06                                            & 2013-10-07                                            & Grade IV                                              & Glioblastoma                                          & 3B61                                                  & 2                                                     & 0                                                     & 0                                                     &                                                       &                                                       &                                                       & 17.50                                                 & 270                                                   & t                                                     & 75                                                    &   NA                                                  &   NA                                                  &   NA                                                  &   NA                                                  &     NA                                                &   NA                                                  &   NA                                                  &   NA                                                  &   NA                                                  & 1.76                                                  & 2.57                                                  &  88.01                                                & 1.83                                                  &  95.04                                                & 100.00                                                &    NA                                                 &    NA                                                 &   NA                                                  &   NA                                                  &   NA                                                  &   NA                                                  &   NA                                                  &   NA                                                  &   NA                                                  &                                                       & NA                                                   \\\\\n",
       "\t 2947                                                  & 8775                                                  & 9729                                                  & 2013-10-06                                            & 2013-10-07                                            & Grade IV                                              & Glioblastoma                                          & 4B61                                                  & 2                                                     & 0                                                     & 1                                                     &                                                       &                                                       &                                                       &  8.62                                                 & 203                                                   & f                                                     & 75                                                    &   NA                                                  &   NA                                                  &   NA                                                  &   NA                                                  &     NA                                                &   NA                                                  &   NA                                                  &   NA                                                  &   NA                                                  & 2.14                                                  & 2.17                                                  &  81.89                                                & 2.10                                                  &  87.26                                                & 100.00                                                &    NA                                                 &    NA                                                 &   NA                                                  &   NA                                                  &   NA                                                  &   NA                                                  &   NA                                                  &   NA                                                  &   NA                                                  &                                                       & NA                                                   \\\\\n",
       "\t 3472                                                  & 8783                                                  & 9739                                                  & 2013-10-14                                            & 2013-10-15                                            & Treatment Effect                                      & Treatment Effect                                      & 31B61                                                 & 1                                                     & 0                                                     & 1                                                     &                                                       &                                                       &                                                       &  1.13                                                 & 198                                                   & t                                                     & 20                                                    & 1.08                                                  & 1.38                                                  & 0.97                                                  &   NA                                                  &     NA                                                & 1.05                                                  & 1.12                                                  & 1.18                                                  & 1.50                                                  & 1.07                                                  & 0.98                                                  &  99.97                                                & 0.99                                                  & 100.00                                                & 100.00                                                &  4.10                                                 &  2.00                                                 & 1.54                                                  & 1.59                                                  & 1.04                                                  & 0.52                                                  & 0.13                                                  & 0.30                                                  & 0.43                                                  &                                                       & not in any path\\_report on Box                      \\\\\n",
       "\t 3472                                                  & 8783                                                  & 9739                                                  & 2013-10-14                                            & 2013-10-15                                            & Treatment Effect                                      & Treatment Effect                                      & 33B61                                                 & 1                                                     & 0                                                     & 0                                                     &                                                       &                                                       &                                                       &  1.34                                                 & 242                                                   & f                                                     & 20                                                    & 1.23                                                  & 1.61                                                  & 1.92                                                  &   NA                                                  &     NA                                                & 1.38                                                  & 0.58                                                  & 1.28                                                  & 0.94                                                  & 0.90                                                  & 0.94                                                  &  95.56                                                & 0.94                                                  & 100.00                                                & 100.00                                                &  2.60                                                 &  0.70                                                 & 1.44                                                  & 1.24                                                  & 1.04                                                  & 0.56                                                  & 0.65                                                  & 0.25                                                  & 0.90                                                  &                                                       & not in any path\\_report on Box                      \\\\\n",
       "\t 3499                                                  & 8869                                                  & 9795                                                  & 2013-12-10                                            & 2013-12-11                                            & Grade IV                                              & Glioblastoma                                          & 65B60                                                 & 3                                                     & 0                                                     & 2                                                     &                                                       &                                                       &                                                       & 60.52                                                 & 331                                                   & f                                                     & 95                                                    & 2.29                                                  & 2.21                                                  & 2.57                                                  & 0.76                                                  & -27.50                                                & 2.66                                                  & 0.58                                                  & 2.87                                                  & 0.72                                                  & 1.05                                                  & 1.68                                                  & 100.00                                                & 1.08                                                  & 100.00                                                & 100.00                                                &  1.06                                                 &  0.14                                                 & 0.88                                                  & 0.56                                                  & 0.50                                                  & 0.23                                                  & 0.71                                                  & 1.17                                                  & 1.88                                                  & \"POORLY DIFFERENTIATED REGION\"                        & NA                                                   \\\\\n",
       "\t 3499                                                  & 8869                                                  & 9795                                                  & 2013-12-10                                            & 2013-12-11                                            & Grade IV                                              & Glioblastoma                                          & 68B60                                                 & 3                                                     & 0                                                     & 2                                                     &                                                       &                                                       &                                                       & 52.39                                                 & 369                                                   & f                                                     & 95                                                    &   NA                                                  &   NA                                                  &   NA                                                  &   NA                                                  &     NA                                                &   NA                                                  &   NA                                                  &   NA                                                  &   NA                                                  &   NA                                                  &   NA                                                  &     NA                                                &   NA                                                  &     NA                                                &     NA                                                &  0.00                                                 &  0.00                                                 & 0.00                                                  & 0.00                                                  & 0.00                                                  & 0.00                                                  & 0.00                                                  & 0.00                                                  & 0.00                                                  & \"POORLY DIFFERENTIATED REGION\"                        & NA                                                   \\\\\n",
       "\t 3125                                                  & 8878                                                  & 9801                                                  & 2013-12-15                                            & 2013-12-16                                            & Grade IV                                              & Glioblastoma                                          & 42B61                                                 & 1                                                     & 0                                                     & 1                                                     &                                                       &                                                       &                                                       & 11.54                                                 & 231                                                   & t                                                     & 10                                                    & 4.66                                                  & 1.48                                                  & 0.62                                                  & 0.59                                                  &   0.35                                                & 2.81                                                  & 0.72                                                  & 2.45                                                  & 0.72                                                  & 0.59                                                  & 0.68                                                  &  96.15                                                & 0.59                                                  &  96.00                                                & 100.00                                                &  3.23                                                 &  1.01                                                 & 1.92                                                  & 0.94                                                  & 0.65                                                  & 0.07                                                  & 0.13                                                  & 0.14                                                  & 0.27                                                  & \"MACROPHAGES, GLIOSIS; focal increased proliferation\" & NA                                                   \\\\\n",
       "\t 3125                                                    & 8878                                                    & 9801                                                    & 2013-12-15                                              & 2013-12-16                                              & Grade IV                                                & Glioblastoma                                            & 44B61                                                   & 1                                                       & 0                                                       & 1                                                       &                                                         &                                                         &                                                         &  0.64                                                   & 209                                                     & t                                                       &  5                                                      & 2.62                                                    & 2.05                                                    & 1.10                                                    & 0.77                                                    &  -3.23                                                  & 2.22                                                    & 0.94                                                    & 2.35                                                    & 0.83                                                    & 0.68                                                    & 0.77                                                    &  95.28                                                  & 0.65                                                    &  98.03                                                  & 100.00                                                  &  1.23                                                   & -0.09                                                   & 1.12                                                    & 0.68                                                    & 0.72                                                    & 0.33                                                    & 0.60                                                    & 0.24                                                    & 0.84                                                    & \"ki67<1\\%\"                                             & NA                                                     \\\\\n",
       "\t 3125                                                  & 8878                                                  & 9801                                                  & 2013-12-15                                            & 2013-12-16                                            & Grade IV                                              & Glioblastoma                                          & 45B61                                                 & 2                                                     & 0                                                     & 0                                                     &                                                       &                                                       &                                                       &  4.13                                                 & 266                                                   & t                                                     & 30                                                    & 3.36                                                  & 2.46                                                  & 0.78                                                  & 0.76                                                  &   0.50                                                & 2.98                                                  & 0.61                                                  & 2.44                                                  & 0.72                                                  & 0.45                                                  & 0.47                                                  &  99.71                                                & 0.44                                                  & 100.00                                                & 100.00                                                &  4.03                                                 &  1.51                                                 & 2.12                                                  & 1.45                                                  & 1.00                                                  & 0.38                                                  & 0.48                                                  & 0.43                                                  & 0.91                                                  &                                                       & NA                                                   \\\\\n",
       "\t 3125                                                  & 8878                                                  & 9801                                                  & 2013-12-15                                            & 2013-12-16                                            & Grade IV                                              & Glioblastoma                                          & 46B61                                                 & 0                                                     & 0                                                     & 0                                                     &                                                       &                                                       &                                                       &  1.33                                                 &  75                                                   & t                                                     &  0                                                    & 1.50                                                  & 1.51                                                  & 0.90                                                  & 0.99                                                  &   1.22                                                & 1.89                                                  & 0.72                                                  & 1.65                                                  & 0.83                                                  & 0.88                                                  & 0.92                                                  &  90.95                                                & 0.87                                                  &  92.69                                                &  99.31                                                &  0.00                                                 &  0.00                                                 & 0.00                                                  & 0.00                                                  & 0.00                                                  & 0.00                                                  & 0.00                                                  & 0.00                                                  & 0.00                                                  &                                                       & NA                                                   \\\\\n",
       "\t 3526                                                  & 8943                                                  & 9882                                                  & 2014-02-20                                            & 2014-02-21                                            & Grade IV                                              & Glioblastoma                                          & 65B63                                                 & 0                                                     & 0                                                     & 0                                                     &                                                       &                                                       &                                                       &  1.01                                                 &  99                                                   & f                                                     &  0                                                    & 1.55                                                  & 2.31                                                  & 1.08                                                  &   NA                                                  &     NA                                                &   NA                                                  &   NA                                                  & 1.98                                                  & 0.61                                                  &   NA                                                  &   NA                                                  &     NA                                                &   NA                                                  &     NA                                                &     NA                                                &    NA                                                 &    NA                                                 &   NA                                                  &   NA                                                  &   NA                                                  &   NA                                                  &   NA                                                  &   NA                                                  &   NA                                                  &                                                       & NA                                                   \\\\\n",
       "\t 3526                                                  & 8943                                                  & 9882                                                  & 2014-02-20                                            & 2014-02-21                                            & Grade IV                                              & Glioblastoma                                          & 66B63                                                 & 0                                                     & 0                                                     & 0                                                     &                                                       &                                                       &                                                       &  0.00                                                 & 106                                                   & f                                                     &  0                                                    & 1.17                                                  & 1.66                                                  & 1.51                                                  &   NA                                                  &     NA                                                &   NA                                                  &   NA                                                  & 1.36                                                  & 1.06                                                  &   NA                                                  &   NA                                                  &     NA                                                &   NA                                                  &     NA                                                &     NA                                                &    NA                                                 &    NA                                                 &   NA                                                  &   NA                                                  &   NA                                                  &   NA                                                  &   NA                                                  &   NA                                                  &   NA                                                  &                                                       & NA                                                   \\\\\n",
       "\t 3526                                                  & 8943                                                  & 9882                                                  & 2014-02-20                                            & 2014-02-21                                            & Grade IV                                              & Glioblastoma                                          & 67B63                                                 & 0                                                     & 0                                                     & 1                                                     &                                                       &                                                       &                                                       &  7.24                                                 & 231                                                   & t                                                     &  0                                                    & 1.17                                                  & 1.72                                                  & 2.65                                                  &   NA                                                  &     NA                                                &   NA                                                  &   NA                                                  & 1.51                                                  & 0.94                                                  & 0.00                                                  & 0.00                                                  &   0.00                                                & 0.00                                                  &   0.00                                                &   0.00                                                &    NA                                                 &    NA                                                 &   NA                                                  &   NA                                                  &   NA                                                  &   NA                                                  &   NA                                                  &   NA                                                  &   NA                                                  &                                                       & NA                                                   \\\\\n",
       "\t 3527                                                  & 8944                                                  & 9891                                                  & 2014-02-25                                            & 2014-02-26                                            & Grade IV                                              & Glioblastoma                                          & 26B65                                                 & 2                                                     & 0                                                     & 1                                                     &                                                       &                                                       &                                                       & 13.07                                                 & 169                                                   & t                                                     & 70                                                    & 1.19                                                  & 1.69                                                  & 1.00                                                  & 0.74                                                  &  -2.64                                                & 1.25                                                  & 0.65                                                  & 1.29                                                  & 0.72                                                  & 1.64                                                  & 1.71                                                  &  84.64                                                & 1.60                                                  &  86.88                                                &  93.90                                                &    NA                                                 &    NA                                                 &   NA                                                  &   NA                                                  &   NA                                                  &   NA                                                  &   NA                                                  &   NA                                                  &   NA                                                  &                                                       & NA                                                   \\\\\n",
       "\\end{tabular}\n"
      ],
      "text/markdown": [
       "\n",
       "b_number | t_number | sf_number | current_scan_date | current_surgery_date | current_hist_grade | current_hist_type | roi.label | tumor_cell_evaluation | necrosis | mv_hyperplasia | f8_delicate | f8_simple | f8_complex | mib_1 | avgerage_cells | bx_pure_treatment_effect | percent_tumor_nuclei | nfse | nfl | nt1c | nt1v | nt1d | nadc.1 | nfa.1 | nadc.2 | nfa.2 | phn_nlin | cbvn_nlin | recov_nlin | phn_npar | recov_npar | recovn_npar | cni | ccri | crni | ncho | ncre | nnaa | nlip | nlac | laclip | comments | notes. | \n",
       "|---|---|---|---|---|---|---|---|---|---|---|---|---|---|---|---|---|---|---|---|\n",
       "| 1338                                                  | 8773                                                  | 9727                                                  | 2013-10-02                                            | 2013-10-03                                            | Grade IV                                              | Glioblastoma                                          | 60B60                                                 | 1                                                     | 0                                                     | 0                                                     |                                                       |                                                       |                                                       |  2.01                                                 |  99                                                   | f                                                     |  5                                                    |   NA                                                  |   NA                                                  |   NA                                                  |   NA                                                  |     NA                                                |   NA                                                  |   NA                                                  |   NA                                                  |   NA                                                  |   NA                                                  |   NA                                                  |     NA                                                |   NA                                                  |     NA                                                |     NA                                                |    NA                                                 |    NA                                                 |   NA                                                  |   NA                                                  |   NA                                                  |   NA                                                  |   NA                                                  |   NA                                                  |   NA                                                  |                                                       | NA                                                    | \n",
       "| 1338                                                  | 8773                                                  | 9727                                                  | 2013-10-02                                            | 2013-10-03                                            | Grade IV                                              | Glioblastoma                                          | 61B60                                                 | 3                                                     | 0                                                     | 1                                                     |                                                       |                                                       |                                                       | 70.25                                                 | 158                                                   | f                                                     | 90                                                    | 1.51                                                  | 1.74                                                  | 0.91                                                  |   NA                                                  |     NA                                                | 1.42                                                  | 0.54                                                  |   NA                                                  |   NA                                                  | 1.21                                                  | 1.38                                                  | 100.00                                                | 1.20                                                  | 100.00                                                | 100.00                                                | 10.10                                                 |  8.76                                                 | 1.93                                                  | 3.45                                                  | 1.36                                                  | 0.72                                                  | 0.54                                                  | 0.35                                                  | 0.89                                                  |                                                       | NA                                                    | \n",
       "| 1338                                                  | 8773                                                  | 9727                                                  | 2013-10-02                                            | 2013-10-03                                            | Grade IV                                              | Glioblastoma                                          | 62B60                                                 | 2                                                     | 0                                                     | 2                                                     |                                                       |                                                       |                                                       | 62.61                                                 | 176                                                   | f                                                     | 25                                                    | 1.58                                                  | 1.75                                                  | 1.29                                                  |   NA                                                  |     NA                                                | 1.53                                                  | 0.75                                                  |   NA                                                  |   NA                                                  | 1.02                                                  | 1.38                                                  | 100.00                                                | 1.10                                                  | 100.00                                                | 100.00                                                |  6.00                                                 |  6.16                                                 | 0.33                                                  | 2.19                                                  | 0.59                                                  | 0.50                                                  | 0.39                                                  | 0.62                                                  | 1.01                                                  |                                                       | NA                                                    | \n",
       "| 1338                                                  | 8773                                                  | 9727                                                  | 2013-10-02                                            | 2013-10-03                                            | Grade IV                                              | Glioblastoma                                          | 63B60                                                 | 2                                                     | 0                                                     | 1                                                     |                                                       |                                                       |                                                       | 59.98                                                 | 261                                                   | f                                                     | 65                                                    | 1.22                                                  | 1.18                                                  | 0.92                                                  |   NA                                                  |     NA                                                | 1.13                                                  | 0.54                                                  |   NA                                                  |   NA                                                  | 1.29                                                  | 1.80                                                  |  95.57                                                | 1.43                                                  | 100.00                                                | 100.00                                                |  8.70                                                 |  5.26                                                 | 3.33                                                  | 2.93                                                  | 1.80                                                  | 0.80                                                  | 0.66                                                  | 0.38                                                  | 1.04                                                  |                                                       | NA                                                    | \n",
       "| 2947                                                  | 8775                                                  | 9729                                                  | 2013-10-06                                            | 2013-10-07                                            | Grade IV                                              | Glioblastoma                                          | 1B61                                                  | 2                                                     | 0                                                     | 0                                                     |                                                       |                                                       |                                                       | 34.83                                                 | 364                                                   | t                                                     | 75                                                    |   NA                                                  |   NA                                                  |   NA                                                  |   NA                                                  |     NA                                                |   NA                                                  |   NA                                                  |   NA                                                  |   NA                                                  | 3.70                                                  | 4.88                                                  |  88.72                                                | 3.62                                                  |  93.68                                                | 100.00                                                |    NA                                                 |    NA                                                 |   NA                                                  |   NA                                                  |   NA                                                  |   NA                                                  |   NA                                                  |   NA                                                  |   NA                                                  |                                                       | NA                                                    | \n",
       "| 2947                                                  | 8775                                                  | 9729                                                  | 2013-10-06                                            | 2013-10-07                                            | Grade IV                                              | Glioblastoma                                          | 2B61                                                  | 3                                                     | 0                                                     | 2                                                     |                                                       |                                                       |                                                       | 18.50                                                 | 256                                                   | f                                                     | 95                                                    |   NA                                                  |   NA                                                  |   NA                                                  |   NA                                                  |     NA                                                |   NA                                                  |   NA                                                  |   NA                                                  |   NA                                                  | 3.03                                                  | 3.82                                                  | 100.00                                                | 2.77                                                  | 100.00                                                | 100.00                                                |    NA                                                 |    NA                                                 |   NA                                                  |   NA                                                  |   NA                                                  |   NA                                                  |   NA                                                  |   NA                                                  |   NA                                                  |                                                       | NA                                                    | \n",
       "| 2947                                                  | 8775                                                  | 9729                                                  | 2013-10-06                                            | 2013-10-07                                            | Grade IV                                              | Glioblastoma                                          | 3B61                                                  | 2                                                     | 0                                                     | 0                                                     |                                                       |                                                       |                                                       | 17.50                                                 | 270                                                   | t                                                     | 75                                                    |   NA                                                  |   NA                                                  |   NA                                                  |   NA                                                  |     NA                                                |   NA                                                  |   NA                                                  |   NA                                                  |   NA                                                  | 1.76                                                  | 2.57                                                  |  88.01                                                | 1.83                                                  |  95.04                                                | 100.00                                                |    NA                                                 |    NA                                                 |   NA                                                  |   NA                                                  |   NA                                                  |   NA                                                  |   NA                                                  |   NA                                                  |   NA                                                  |                                                       | NA                                                    | \n",
       "| 2947                                                  | 8775                                                  | 9729                                                  | 2013-10-06                                            | 2013-10-07                                            | Grade IV                                              | Glioblastoma                                          | 4B61                                                  | 2                                                     | 0                                                     | 1                                                     |                                                       |                                                       |                                                       |  8.62                                                 | 203                                                   | f                                                     | 75                                                    |   NA                                                  |   NA                                                  |   NA                                                  |   NA                                                  |     NA                                                |   NA                                                  |   NA                                                  |   NA                                                  |   NA                                                  | 2.14                                                  | 2.17                                                  |  81.89                                                | 2.10                                                  |  87.26                                                | 100.00                                                |    NA                                                 |    NA                                                 |   NA                                                  |   NA                                                  |   NA                                                  |   NA                                                  |   NA                                                  |   NA                                                  |   NA                                                  |                                                       | NA                                                    | \n",
       "| 3472                                                  | 8783                                                  | 9739                                                  | 2013-10-14                                            | 2013-10-15                                            | Treatment Effect                                      | Treatment Effect                                      | 31B61                                                 | 1                                                     | 0                                                     | 1                                                     |                                                       |                                                       |                                                       |  1.13                                                 | 198                                                   | t                                                     | 20                                                    | 1.08                                                  | 1.38                                                  | 0.97                                                  |   NA                                                  |     NA                                                | 1.05                                                  | 1.12                                                  | 1.18                                                  | 1.50                                                  | 1.07                                                  | 0.98                                                  |  99.97                                                | 0.99                                                  | 100.00                                                | 100.00                                                |  4.10                                                 |  2.00                                                 | 1.54                                                  | 1.59                                                  | 1.04                                                  | 0.52                                                  | 0.13                                                  | 0.30                                                  | 0.43                                                  |                                                       | not in any path_report on Box                         | \n",
       "| 3472                                                  | 8783                                                  | 9739                                                  | 2013-10-14                                            | 2013-10-15                                            | Treatment Effect                                      | Treatment Effect                                      | 33B61                                                 | 1                                                     | 0                                                     | 0                                                     |                                                       |                                                       |                                                       |  1.34                                                 | 242                                                   | f                                                     | 20                                                    | 1.23                                                  | 1.61                                                  | 1.92                                                  |   NA                                                  |     NA                                                | 1.38                                                  | 0.58                                                  | 1.28                                                  | 0.94                                                  | 0.90                                                  | 0.94                                                  |  95.56                                                | 0.94                                                  | 100.00                                                | 100.00                                                |  2.60                                                 |  0.70                                                 | 1.44                                                  | 1.24                                                  | 1.04                                                  | 0.56                                                  | 0.65                                                  | 0.25                                                  | 0.90                                                  |                                                       | not in any path_report on Box                         | \n",
       "| 3499                                                  | 8869                                                  | 9795                                                  | 2013-12-10                                            | 2013-12-11                                            | Grade IV                                              | Glioblastoma                                          | 65B60                                                 | 3                                                     | 0                                                     | 2                                                     |                                                       |                                                       |                                                       | 60.52                                                 | 331                                                   | f                                                     | 95                                                    | 2.29                                                  | 2.21                                                  | 2.57                                                  | 0.76                                                  | -27.50                                                | 2.66                                                  | 0.58                                                  | 2.87                                                  | 0.72                                                  | 1.05                                                  | 1.68                                                  | 100.00                                                | 1.08                                                  | 100.00                                                | 100.00                                                |  1.06                                                 |  0.14                                                 | 0.88                                                  | 0.56                                                  | 0.50                                                  | 0.23                                                  | 0.71                                                  | 1.17                                                  | 1.88                                                  | \"POORLY DIFFERENTIATED REGION\"                        | NA                                                    | \n",
       "| 3499                                                  | 8869                                                  | 9795                                                  | 2013-12-10                                            | 2013-12-11                                            | Grade IV                                              | Glioblastoma                                          | 68B60                                                 | 3                                                     | 0                                                     | 2                                                     |                                                       |                                                       |                                                       | 52.39                                                 | 369                                                   | f                                                     | 95                                                    |   NA                                                  |   NA                                                  |   NA                                                  |   NA                                                  |     NA                                                |   NA                                                  |   NA                                                  |   NA                                                  |   NA                                                  |   NA                                                  |   NA                                                  |     NA                                                |   NA                                                  |     NA                                                |     NA                                                |  0.00                                                 |  0.00                                                 | 0.00                                                  | 0.00                                                  | 0.00                                                  | 0.00                                                  | 0.00                                                  | 0.00                                                  | 0.00                                                  | \"POORLY DIFFERENTIATED REGION\"                        | NA                                                    | \n",
       "| 3125                                                  | 8878                                                  | 9801                                                  | 2013-12-15                                            | 2013-12-16                                            | Grade IV                                              | Glioblastoma                                          | 42B61                                                 | 1                                                     | 0                                                     | 1                                                     |                                                       |                                                       |                                                       | 11.54                                                 | 231                                                   | t                                                     | 10                                                    | 4.66                                                  | 1.48                                                  | 0.62                                                  | 0.59                                                  |   0.35                                                | 2.81                                                  | 0.72                                                  | 2.45                                                  | 0.72                                                  | 0.59                                                  | 0.68                                                  |  96.15                                                | 0.59                                                  |  96.00                                                | 100.00                                                |  3.23                                                 |  1.01                                                 | 1.92                                                  | 0.94                                                  | 0.65                                                  | 0.07                                                  | 0.13                                                  | 0.14                                                  | 0.27                                                  | \"MACROPHAGES, GLIOSIS; focal increased proliferation\" | NA                                                    | \n",
       "| 3125                                                  | 8878                                                  | 9801                                                  | 2013-12-15                                            | 2013-12-16                                            | Grade IV                                              | Glioblastoma                                          | 44B61                                                 | 1                                                     | 0                                                     | 1                                                     |                                                       |                                                       |                                                       |  0.64                                                 | 209                                                   | t                                                     |  5                                                    | 2.62                                                  | 2.05                                                  | 1.10                                                  | 0.77                                                  |  -3.23                                                | 2.22                                                  | 0.94                                                  | 2.35                                                  | 0.83                                                  | 0.68                                                  | 0.77                                                  |  95.28                                                | 0.65                                                  |  98.03                                                | 100.00                                                |  1.23                                                 | -0.09                                                 | 1.12                                                  | 0.68                                                  | 0.72                                                  | 0.33                                                  | 0.60                                                  | 0.24                                                  | 0.84                                                  | \"ki67<1%\"                                             | NA                                                    | \n",
       "| 3125                                                  | 8878                                                  | 9801                                                  | 2013-12-15                                            | 2013-12-16                                            | Grade IV                                              | Glioblastoma                                          | 45B61                                                 | 2                                                     | 0                                                     | 0                                                     |                                                       |                                                       |                                                       |  4.13                                                 | 266                                                   | t                                                     | 30                                                    | 3.36                                                  | 2.46                                                  | 0.78                                                  | 0.76                                                  |   0.50                                                | 2.98                                                  | 0.61                                                  | 2.44                                                  | 0.72                                                  | 0.45                                                  | 0.47                                                  |  99.71                                                | 0.44                                                  | 100.00                                                | 100.00                                                |  4.03                                                 |  1.51                                                 | 2.12                                                  | 1.45                                                  | 1.00                                                  | 0.38                                                  | 0.48                                                  | 0.43                                                  | 0.91                                                  |                                                       | NA                                                    | \n",
       "| 3125                                                  | 8878                                                  | 9801                                                  | 2013-12-15                                            | 2013-12-16                                            | Grade IV                                              | Glioblastoma                                          | 46B61                                                 | 0                                                     | 0                                                     | 0                                                     |                                                       |                                                       |                                                       |  1.33                                                 |  75                                                   | t                                                     |  0                                                    | 1.50                                                  | 1.51                                                  | 0.90                                                  | 0.99                                                  |   1.22                                                | 1.89                                                  | 0.72                                                  | 1.65                                                  | 0.83                                                  | 0.88                                                  | 0.92                                                  |  90.95                                                | 0.87                                                  |  92.69                                                |  99.31                                                |  0.00                                                 |  0.00                                                 | 0.00                                                  | 0.00                                                  | 0.00                                                  | 0.00                                                  | 0.00                                                  | 0.00                                                  | 0.00                                                  |                                                       | NA                                                    | \n",
       "| 3526                                                  | 8943                                                  | 9882                                                  | 2014-02-20                                            | 2014-02-21                                            | Grade IV                                              | Glioblastoma                                          | 65B63                                                 | 0                                                     | 0                                                     | 0                                                     |                                                       |                                                       |                                                       |  1.01                                                 |  99                                                   | f                                                     |  0                                                    | 1.55                                                  | 2.31                                                  | 1.08                                                  |   NA                                                  |     NA                                                |   NA                                                  |   NA                                                  | 1.98                                                  | 0.61                                                  |   NA                                                  |   NA                                                  |     NA                                                |   NA                                                  |     NA                                                |     NA                                                |    NA                                                 |    NA                                                 |   NA                                                  |   NA                                                  |   NA                                                  |   NA                                                  |   NA                                                  |   NA                                                  |   NA                                                  |                                                       | NA                                                    | \n",
       "| 3526                                                  | 8943                                                  | 9882                                                  | 2014-02-20                                            | 2014-02-21                                            | Grade IV                                              | Glioblastoma                                          | 66B63                                                 | 0                                                     | 0                                                     | 0                                                     |                                                       |                                                       |                                                       |  0.00                                                 | 106                                                   | f                                                     |  0                                                    | 1.17                                                  | 1.66                                                  | 1.51                                                  |   NA                                                  |     NA                                                |   NA                                                  |   NA                                                  | 1.36                                                  | 1.06                                                  |   NA                                                  |   NA                                                  |     NA                                                |   NA                                                  |     NA                                                |     NA                                                |    NA                                                 |    NA                                                 |   NA                                                  |   NA                                                  |   NA                                                  |   NA                                                  |   NA                                                  |   NA                                                  |   NA                                                  |                                                       | NA                                                    | \n",
       "| 3526                                                  | 8943                                                  | 9882                                                  | 2014-02-20                                            | 2014-02-21                                            | Grade IV                                              | Glioblastoma                                          | 67B63                                                 | 0                                                     | 0                                                     | 1                                                     |                                                       |                                                       |                                                       |  7.24                                                 | 231                                                   | t                                                     |  0                                                    | 1.17                                                  | 1.72                                                  | 2.65                                                  |   NA                                                  |     NA                                                |   NA                                                  |   NA                                                  | 1.51                                                  | 0.94                                                  | 0.00                                                  | 0.00                                                  |   0.00                                                | 0.00                                                  |   0.00                                                |   0.00                                                |    NA                                                 |    NA                                                 |   NA                                                  |   NA                                                  |   NA                                                  |   NA                                                  |   NA                                                  |   NA                                                  |   NA                                                  |                                                       | NA                                                    | \n",
       "| 3527                                                  | 8944                                                  | 9891                                                  | 2014-02-25                                            | 2014-02-26                                            | Grade IV                                              | Glioblastoma                                          | 26B65                                                 | 2                                                     | 0                                                     | 1                                                     |                                                       |                                                       |                                                       | 13.07                                                 | 169                                                   | t                                                     | 70                                                    | 1.19                                                  | 1.69                                                  | 1.00                                                  | 0.74                                                  |  -2.64                                                | 1.25                                                  | 0.65                                                  | 1.29                                                  | 0.72                                                  | 1.64                                                  | 1.71                                                  |  84.64                                                | 1.60                                                  |  86.88                                                |  93.90                                                |    NA                                                 |    NA                                                 |   NA                                                  |   NA                                                  |   NA                                                  |   NA                                                  |   NA                                                  |   NA                                                  |   NA                                                  |                                                       | NA                                                    | \n",
       "\n",
       "\n"
      ],
      "text/plain": [
       "   b_number t_number sf_number current_scan_date current_surgery_date\n",
       "1  1338     8773     9727      2013-10-02        2013-10-03          \n",
       "2  1338     8773     9727      2013-10-02        2013-10-03          \n",
       "3  1338     8773     9727      2013-10-02        2013-10-03          \n",
       "4  1338     8773     9727      2013-10-02        2013-10-03          \n",
       "5  2947     8775     9729      2013-10-06        2013-10-07          \n",
       "6  2947     8775     9729      2013-10-06        2013-10-07          \n",
       "7  2947     8775     9729      2013-10-06        2013-10-07          \n",
       "8  2947     8775     9729      2013-10-06        2013-10-07          \n",
       "9  3472     8783     9739      2013-10-14        2013-10-15          \n",
       "10 3472     8783     9739      2013-10-14        2013-10-15          \n",
       "11 3499     8869     9795      2013-12-10        2013-12-11          \n",
       "12 3499     8869     9795      2013-12-10        2013-12-11          \n",
       "13 3125     8878     9801      2013-12-15        2013-12-16          \n",
       "14 3125     8878     9801      2013-12-15        2013-12-16          \n",
       "15 3125     8878     9801      2013-12-15        2013-12-16          \n",
       "16 3125     8878     9801      2013-12-15        2013-12-16          \n",
       "17 3526     8943     9882      2014-02-20        2014-02-21          \n",
       "18 3526     8943     9882      2014-02-20        2014-02-21          \n",
       "19 3526     8943     9882      2014-02-20        2014-02-21          \n",
       "20 3527     8944     9891      2014-02-25        2014-02-26          \n",
       "   current_hist_grade current_hist_type roi.label tumor_cell_evaluation\n",
       "1  Grade IV           Glioblastoma      60B60     1                    \n",
       "2  Grade IV           Glioblastoma      61B60     3                    \n",
       "3  Grade IV           Glioblastoma      62B60     2                    \n",
       "4  Grade IV           Glioblastoma      63B60     2                    \n",
       "5  Grade IV           Glioblastoma      1B61      2                    \n",
       "6  Grade IV           Glioblastoma      2B61      3                    \n",
       "7  Grade IV           Glioblastoma      3B61      2                    \n",
       "8  Grade IV           Glioblastoma      4B61      2                    \n",
       "9  Treatment Effect   Treatment Effect  31B61     1                    \n",
       "10 Treatment Effect   Treatment Effect  33B61     1                    \n",
       "11 Grade IV           Glioblastoma      65B60     3                    \n",
       "12 Grade IV           Glioblastoma      68B60     3                    \n",
       "13 Grade IV           Glioblastoma      42B61     1                    \n",
       "14 Grade IV           Glioblastoma      44B61     1                    \n",
       "15 Grade IV           Glioblastoma      45B61     2                    \n",
       "16 Grade IV           Glioblastoma      46B61     0                    \n",
       "17 Grade IV           Glioblastoma      65B63     0                    \n",
       "18 Grade IV           Glioblastoma      66B63     0                    \n",
       "19 Grade IV           Glioblastoma      67B63     0                    \n",
       "20 Grade IV           Glioblastoma      26B65     2                    \n",
       "   necrosis mv_hyperplasia f8_delicate f8_simple f8_complex mib_1\n",
       "1  0        0                                                2.01\n",
       "2  0        1                                               70.25\n",
       "3  0        2                                               62.61\n",
       "4  0        1                                               59.98\n",
       "5  0        0                                               34.83\n",
       "6  0        2                                               18.50\n",
       "7  0        0                                               17.50\n",
       "8  0        1                                                8.62\n",
       "9  0        1                                                1.13\n",
       "10 0        0                                                1.34\n",
       "11 0        2                                               60.52\n",
       "12 0        2                                               52.39\n",
       "13 0        1                                               11.54\n",
       "14 0        1                                                0.64\n",
       "15 0        0                                                4.13\n",
       "16 0        0                                                1.33\n",
       "17 0        0                                                1.01\n",
       "18 0        0                                                0.00\n",
       "19 0        1                                                7.24\n",
       "20 0        1                                               13.07\n",
       "   avgerage_cells bx_pure_treatment_effect percent_tumor_nuclei nfse nfl  nt1c\n",
       "1   99            f                         5                     NA   NA   NA\n",
       "2  158            f                        90                   1.51 1.74 0.91\n",
       "3  176            f                        25                   1.58 1.75 1.29\n",
       "4  261            f                        65                   1.22 1.18 0.92\n",
       "5  364            t                        75                     NA   NA   NA\n",
       "6  256            f                        95                     NA   NA   NA\n",
       "7  270            t                        75                     NA   NA   NA\n",
       "8  203            f                        75                     NA   NA   NA\n",
       "9  198            t                        20                   1.08 1.38 0.97\n",
       "10 242            f                        20                   1.23 1.61 1.92\n",
       "11 331            f                        95                   2.29 2.21 2.57\n",
       "12 369            f                        95                     NA   NA   NA\n",
       "13 231            t                        10                   4.66 1.48 0.62\n",
       "14 209            t                         5                   2.62 2.05 1.10\n",
       "15 266            t                        30                   3.36 2.46 0.78\n",
       "16  75            t                         0                   1.50 1.51 0.90\n",
       "17  99            f                         0                   1.55 2.31 1.08\n",
       "18 106            f                         0                   1.17 1.66 1.51\n",
       "19 231            t                         0                   1.17 1.72 2.65\n",
       "20 169            t                        70                   1.19 1.69 1.00\n",
       "   nt1v nt1d   nadc.1 nfa.1 nadc.2 nfa.2 phn_nlin cbvn_nlin recov_nlin phn_npar\n",
       "1    NA     NA   NA     NA    NA     NA    NA       NA          NA       NA    \n",
       "2    NA     NA 1.42   0.54    NA     NA  1.21     1.38      100.00     1.20    \n",
       "3    NA     NA 1.53   0.75    NA     NA  1.02     1.38      100.00     1.10    \n",
       "4    NA     NA 1.13   0.54    NA     NA  1.29     1.80       95.57     1.43    \n",
       "5    NA     NA   NA     NA    NA     NA  3.70     4.88       88.72     3.62    \n",
       "6    NA     NA   NA     NA    NA     NA  3.03     3.82      100.00     2.77    \n",
       "7    NA     NA   NA     NA    NA     NA  1.76     2.57       88.01     1.83    \n",
       "8    NA     NA   NA     NA    NA     NA  2.14     2.17       81.89     2.10    \n",
       "9    NA     NA 1.05   1.12  1.18   1.50  1.07     0.98       99.97     0.99    \n",
       "10   NA     NA 1.38   0.58  1.28   0.94  0.90     0.94       95.56     0.94    \n",
       "11 0.76 -27.50 2.66   0.58  2.87   0.72  1.05     1.68      100.00     1.08    \n",
       "12   NA     NA   NA     NA    NA     NA    NA       NA          NA       NA    \n",
       "13 0.59   0.35 2.81   0.72  2.45   0.72  0.59     0.68       96.15     0.59    \n",
       "14 0.77  -3.23 2.22   0.94  2.35   0.83  0.68     0.77       95.28     0.65    \n",
       "15 0.76   0.50 2.98   0.61  2.44   0.72  0.45     0.47       99.71     0.44    \n",
       "16 0.99   1.22 1.89   0.72  1.65   0.83  0.88     0.92       90.95     0.87    \n",
       "17   NA     NA   NA     NA  1.98   0.61    NA       NA          NA       NA    \n",
       "18   NA     NA   NA     NA  1.36   1.06    NA       NA          NA       NA    \n",
       "19   NA     NA   NA     NA  1.51   0.94  0.00     0.00        0.00     0.00    \n",
       "20 0.74  -2.64 1.25   0.65  1.29   0.72  1.64     1.71       84.64     1.60    \n",
       "   recov_npar recovn_npar cni   ccri  crni ncho ncre nnaa nlip nlac laclip\n",
       "1      NA         NA         NA    NA   NA   NA   NA   NA   NA   NA   NA  \n",
       "2  100.00     100.00      10.10  8.76 1.93 3.45 1.36 0.72 0.54 0.35 0.89  \n",
       "3  100.00     100.00       6.00  6.16 0.33 2.19 0.59 0.50 0.39 0.62 1.01  \n",
       "4  100.00     100.00       8.70  5.26 3.33 2.93 1.80 0.80 0.66 0.38 1.04  \n",
       "5   93.68     100.00         NA    NA   NA   NA   NA   NA   NA   NA   NA  \n",
       "6  100.00     100.00         NA    NA   NA   NA   NA   NA   NA   NA   NA  \n",
       "7   95.04     100.00         NA    NA   NA   NA   NA   NA   NA   NA   NA  \n",
       "8   87.26     100.00         NA    NA   NA   NA   NA   NA   NA   NA   NA  \n",
       "9  100.00     100.00       4.10  2.00 1.54 1.59 1.04 0.52 0.13 0.30 0.43  \n",
       "10 100.00     100.00       2.60  0.70 1.44 1.24 1.04 0.56 0.65 0.25 0.90  \n",
       "11 100.00     100.00       1.06  0.14 0.88 0.56 0.50 0.23 0.71 1.17 1.88  \n",
       "12     NA         NA       0.00  0.00 0.00 0.00 0.00 0.00 0.00 0.00 0.00  \n",
       "13  96.00     100.00       3.23  1.01 1.92 0.94 0.65 0.07 0.13 0.14 0.27  \n",
       "14  98.03     100.00       1.23 -0.09 1.12 0.68 0.72 0.33 0.60 0.24 0.84  \n",
       "15 100.00     100.00       4.03  1.51 2.12 1.45 1.00 0.38 0.48 0.43 0.91  \n",
       "16  92.69      99.31       0.00  0.00 0.00 0.00 0.00 0.00 0.00 0.00 0.00  \n",
       "17     NA         NA         NA    NA   NA   NA   NA   NA   NA   NA   NA  \n",
       "18     NA         NA         NA    NA   NA   NA   NA   NA   NA   NA   NA  \n",
       "19   0.00       0.00         NA    NA   NA   NA   NA   NA   NA   NA   NA  \n",
       "20  86.88      93.90         NA    NA   NA   NA   NA   NA   NA   NA   NA  \n",
       "   comments                                             \n",
       "1                                                       \n",
       "2                                                       \n",
       "3                                                       \n",
       "4                                                       \n",
       "5                                                       \n",
       "6                                                       \n",
       "7                                                       \n",
       "8                                                       \n",
       "9                                                       \n",
       "10                                                      \n",
       "11 \"POORLY DIFFERENTIATED REGION\"                       \n",
       "12 \"POORLY DIFFERENTIATED REGION\"                       \n",
       "13 \"MACROPHAGES, GLIOSIS; focal increased proliferation\"\n",
       "14 \"ki67<1%\"                                            \n",
       "15                                                      \n",
       "16                                                      \n",
       "17                                                      \n",
       "18                                                      \n",
       "19                                                      \n",
       "20                                                      \n",
       "   notes.                       \n",
       "1  NA                           \n",
       "2  NA                           \n",
       "3  NA                           \n",
       "4  NA                           \n",
       "5  NA                           \n",
       "6  NA                           \n",
       "7  NA                           \n",
       "8  NA                           \n",
       "9  not in any path_report on Box\n",
       "10 not in any path_report on Box\n",
       "11 NA                           \n",
       "12 NA                           \n",
       "13 NA                           \n",
       "14 NA                           \n",
       "15 NA                           \n",
       "16 NA                           \n",
       "17 NA                           \n",
       "18 NA                           \n",
       "19 NA                           \n",
       "20 NA                           "
      ]
     },
     "metadata": {},
     "output_type": "display_data"
    }
   ],
   "source": [
    "head(recgli, n = 20 )"
   ]
  },
  {
   "cell_type": "code",
   "execution_count": 19,
   "metadata": {
    "collapsed": true,
    "deletable": true,
    "editable": true
   },
   "outputs": [],
   "source": [
    "write.csv(recgli, \"REC_HGG_Annotation_Oct2018/2ndAnnot_researchPath_withInVivo.csv\", row.names=F)"
   ]
  },
  {
   "cell_type": "markdown",
   "metadata": {
    "deletable": true,
    "editable": true
   },
   "source": [
    "## 3. Reason that Imaging is Missing "
   ]
  },
  {
   "cell_type": "code",
   "execution_count": 20,
   "metadata": {
    "collapsed": true,
    "deletable": true,
    "editable": true
   },
   "outputs": [],
   "source": [
    "all_recgli = read.csv(\"REC_HGG_Annotation_Oct2018/2ndAnnot_researchPath_withInVivo.csv\")"
   ]
  },
  {
   "cell_type": "markdown",
   "metadata": {
    "deletable": true,
    "editable": true
   },
   "source": [
    "Remove the spaces in the roi.label column in order to match our vialIDs from the missingDataReasons"
   ]
  },
  {
   "cell_type": "code",
   "execution_count": 21,
   "metadata": {
    "collapsed": true,
    "deletable": true,
    "editable": true
   },
   "outputs": [],
   "source": [
    "all_recgli$roi.label = gsub(\" \", \"\", as.character(all_recgli$roi.label))"
   ]
  },
  {
   "cell_type": "markdown",
   "metadata": {
    "deletable": true,
    "editable": true
   },
   "source": [
    "Earlier I had written up why imaging was missing for old data and for new data. I copied the files called \"REC_HGG_missingImagingNotes.csv\" and \"olddata_Nelson_missingDataReasons.csv\" to this directory."
   ]
  },
  {
   "cell_type": "code",
   "execution_count": 22,
   "metadata": {
    "collapsed": false,
    "deletable": true,
    "editable": true
   },
   "outputs": [
    {
     "data": {
      "text/html": [
       "<table>\n",
       "<thead><tr><th scope=col>bnum</th><th scope=col>tnum</th><th scope=col>sfnum</th><th scope=col>screenshots_unavailable</th><th scope=col>tissue_consent</th></tr></thead>\n",
       "<tbody>\n",
       "\t<tr><td>b971 </td><td>10668</td><td>10943</td><td>0    </td><td>0    </td></tr>\n",
       "\t<tr><td>b4210</td><td>10768</td><td>11037</td><td>0    </td><td>0    </td></tr>\n",
       "\t<tr><td>b4193</td><td>11747</td><td>11485</td><td>0    </td><td>0    </td></tr>\n",
       "\t<tr><td>b2678</td><td> 9386</td><td>*    </td><td>0    </td><td>1    </td></tr>\n",
       "\t<tr><td>b4166</td><td>10643</td><td>*    </td><td>0    </td><td>1    </td></tr>\n",
       "\t<tr><td>b1335</td><td>11420</td><td>*    </td><td>0    </td><td>1    </td></tr>\n",
       "\t<tr><td>b4330</td><td>11596</td><td>*    </td><td>0    </td><td>1    </td></tr>\n",
       "\t<tr><td>b4161</td><td>11424</td><td>*    </td><td>0    </td><td>1    </td></tr>\n",
       "\t<tr><td>b4209</td><td>10766</td><td>**   </td><td>0    </td><td>1    </td></tr>\n",
       "\t<tr><td>b3537</td><td> 8969</td><td>**   </td><td>0    </td><td>1    </td></tr>\n",
       "\t<tr><td>b3626</td><td> 9170</td><td>**   </td><td>0    </td><td>1    </td></tr>\n",
       "\t<tr><td>b3639</td><td> 9200</td><td>**   </td><td>0    </td><td>1    </td></tr>\n",
       "\t<tr><td>b3680</td><td> 9316</td><td>**   </td><td>0    </td><td>1    </td></tr>\n",
       "\t<tr><td>b4154</td><td>10601</td><td>**   </td><td>0    </td><td>1    </td></tr>\n",
       "\t<tr><td>b4158</td><td>10619</td><td>**   </td><td>0    </td><td>1    </td></tr>\n",
       "\t<tr><td>b4173</td><td>10654</td><td>**   </td><td>0    </td><td>1    </td></tr>\n",
       "\t<tr><td>b3499</td><td>11898</td><td>11574</td><td>0    </td><td>0    </td></tr>\n",
       "\t<tr><td>b2109</td><td> 9363</td><td>**** </td><td>1    </td><td>0    </td></tr>\n",
       "\t<tr><td>b3123</td><td> 9083</td><td>**** </td><td>1    </td><td>0    </td></tr>\n",
       "\t<tr><td>b2845</td><td> 9901</td><td>**** </td><td>1    </td><td>0    </td></tr>\n",
       "\t<tr><td>b3622</td><td> 9163</td><td>**** </td><td>1    </td><td>0    </td></tr>\n",
       "\t<tr><td>b3644</td><td> 9212</td><td>**** </td><td>1    </td><td>0    </td></tr>\n",
       "\t<tr><td>b3772</td><td> 9784</td><td>**** </td><td>1    </td><td>0    </td></tr>\n",
       "\t<tr><td>b4398</td><td>12000</td><td>**** </td><td>1    </td><td>0    </td></tr>\n",
       "\t<tr><td>b1338</td><td> 8773</td><td>9727 </td><td>0    </td><td>0    </td></tr>\n",
       "\t<tr><td>b2947</td><td> 8775</td><td>9729 </td><td>0    </td><td>0    </td></tr>\n",
       "\t<tr><td>b3472</td><td> 8783</td><td>9739 </td><td>0    </td><td>0    </td></tr>\n",
       "\t<tr><td>10855</td><td> 8869</td><td>9795 </td><td>0    </td><td>0    </td></tr>\n",
       "\t<tr><td>b3125</td><td> 8878</td><td>9801 </td><td>0    </td><td>0    </td></tr>\n",
       "\t<tr><td>b3526</td><td> 8943</td><td>9882 </td><td>0    </td><td>0    </td></tr>\n",
       "\t<tr><td>b3527</td><td> 8944</td><td>9891 </td><td>0    </td><td>0    </td></tr>\n",
       "\t<tr><td>b3533</td><td> 8956</td><td>9907 </td><td>0    </td><td>0    </td></tr>\n",
       "\t<tr><td>b1837</td><td> 8960</td><td>9913 </td><td>0    </td><td>0    </td></tr>\n",
       "\t<tr><td>b3541</td><td> 8977</td><td>9936 </td><td>0    </td><td>0    </td></tr>\n",
       "\t<tr><td>b3542</td><td> 8995</td><td>9956 </td><td>0    </td><td>0    </td></tr>\n",
       "\t<tr><td>b3548</td><td> 9000</td><td>9971 </td><td>0    </td><td>0    </td></tr>\n",
       "\t<tr><td>b2456</td><td> 9014</td><td>9992 </td><td>0    </td><td>0    </td></tr>\n",
       "\t<tr><td>b3577</td><td> 9063</td><td>10012</td><td>0    </td><td>0    </td></tr>\n",
       "\t<tr><td>b3588</td><td> 9084</td><td>10024</td><td>0    </td><td>0    </td></tr>\n",
       "\t<tr><td>b3589</td><td> 9085</td><td>10025</td><td>0    </td><td>0    </td></tr>\n",
       "\t<tr><td>b3519</td><td> 9119</td><td>10064</td><td>0    </td><td>0    </td></tr>\n",
       "\t<tr><td>b3605</td><td> 9127</td><td>10070</td><td>0    </td><td>0    </td></tr>\n",
       "\t<tr><td>b1957</td><td> 9134</td><td>10071</td><td>0    </td><td>0    </td></tr>\n",
       "\t<tr><td>b1557</td><td> 9191</td><td>10105</td><td>0    </td><td>0    </td></tr>\n",
       "\t<tr><td>b3645</td><td> 9213</td><td>10138</td><td>0    </td><td>0    </td></tr>\n",
       "\t<tr><td>b3701</td><td> 9406</td><td>10174</td><td>0    </td><td>0    </td></tr>\n",
       "\t<tr><td>b3607</td><td> 9259</td><td>10178</td><td>0    </td><td>0    </td></tr>\n",
       "\t<tr><td>b3670</td><td> 9288</td><td>10199</td><td>0    </td><td>0    </td></tr>\n",
       "\t<tr><td>b3486</td><td> 9287</td><td>10200</td><td>0    </td><td>0    </td></tr>\n",
       "\t<tr><td>b3966</td><td>10202</td><td>10202</td><td>0    </td><td>0    </td></tr>\n",
       "\t<tr><td>b3528</td><td> 9408</td><td>10205</td><td>0    </td><td>0    </td></tr>\n",
       "\t<tr><td>b3704</td><td> 9410</td><td>10255</td><td>0    </td><td>0    </td></tr>\n",
       "\t<tr><td>b3739</td><td> 9586</td><td>10311</td><td>0    </td><td>0    </td></tr>\n",
       "\t<tr><td>b3759</td><td> 9683</td><td>10335</td><td>0    </td><td>0    </td></tr>\n",
       "\t<tr><td>b3515</td><td> 9971</td><td>10500</td><td>0    </td><td>0    </td></tr>\n",
       "\t<tr><td>b3791</td><td> 9970</td><td>10507</td><td>0    </td><td>0    </td></tr>\n",
       "\t<tr><td>b3974</td><td>10152</td><td>10560</td><td>0    </td><td>0    </td></tr>\n",
       "\t<tr><td>b3397</td><td>10160</td><td>10574</td><td>0    </td><td>0    </td></tr>\n",
       "\t<tr><td>b3999</td><td>10218</td><td>10676</td><td>0    </td><td>0    </td></tr>\n",
       "\t<tr><td>b4000</td><td>10240</td><td>10691</td><td>0    </td><td>0    </td></tr>\n",
       "\t<tr><td>b4002</td><td>10242</td><td>10697</td><td>0    </td><td>0    </td></tr>\n",
       "\t<tr><td>b3996</td><td>10251</td><td>10706</td><td>0    </td><td>0    </td></tr>\n",
       "\t<tr><td>b4009</td><td>10269</td><td>10723</td><td>0    </td><td>0    </td></tr>\n",
       "\t<tr><td>b4033</td><td>10343</td><td>10755</td><td>0    </td><td>0    </td></tr>\n",
       "\t<tr><td>b4080</td><td>10366</td><td>10778</td><td>0    </td><td>0    </td></tr>\n",
       "\t<tr><td>b2413</td><td>10386</td><td>10803</td><td>0    </td><td>0    </td></tr>\n",
       "\t<tr><td>b3759</td><td>10448</td><td>10815</td><td>0    </td><td>0    </td></tr>\n",
       "\t<tr><td>b4133</td><td>10572</td><td>10823</td><td>0    </td><td>0    </td></tr>\n",
       "\t<tr><td>b3990</td><td>10594</td><td>10839</td><td>0    </td><td>0    </td></tr>\n",
       "\t<tr><td>b4161</td><td>10655</td><td>10912</td><td>0    </td><td>0    </td></tr>\n",
       "\t<tr><td>b4183</td><td>10699</td><td>10942</td><td>0    </td><td>0    </td></tr>\n",
       "\t<tr><td>b4022</td><td>10708</td><td>10982</td><td>0    </td><td>0    </td></tr>\n",
       "\t<tr><td>b4191</td><td>10709</td><td>10992</td><td>0    </td><td>0    </td></tr>\n",
       "\t<tr><td>b4203</td><td>10748</td><td>11005</td><td>0    </td><td>0    </td></tr>\n",
       "\t<tr><td>b4205</td><td>10756</td><td>11017</td><td>0    </td><td>0    </td></tr>\n",
       "\t<tr><td>b4208</td><td>10763</td><td>11039</td><td>0    </td><td>0    </td></tr>\n",
       "\t<tr><td>b4211</td><td>10770</td><td>11045</td><td>0    </td><td>0    </td></tr>\n",
       "\t<tr><td>b3776</td><td>10777</td><td>11054</td><td>0    </td><td>0    </td></tr>\n",
       "\t<tr><td>b4193</td><td>10790</td><td>11065</td><td>0    </td><td>0    </td></tr>\n",
       "\t<tr><td>b4220</td><td>10793</td><td>11067</td><td>0    </td><td>0    </td></tr>\n",
       "\t<tr><td>b4030</td><td>11165</td><td>11094</td><td>0    </td><td>0    </td></tr>\n",
       "\t<tr><td>b4230</td><td>11025</td><td>11096</td><td>0    </td><td>0    </td></tr>\n",
       "\t<tr><td>b3783</td><td>11192</td><td>11150</td><td>0    </td><td>0    </td></tr>\n",
       "\t<tr><td>b4253</td><td>11218</td><td>11163</td><td>0    </td><td>0    </td></tr>\n",
       "\t<tr><td>b4260</td><td>11263</td><td>11177</td><td>0    </td><td>0    </td></tr>\n",
       "\t<tr><td>b4266</td><td>11295</td><td>11196</td><td>0    </td><td>0    </td></tr>\n",
       "\t<tr><td>b4209</td><td>11318</td><td>11206</td><td>0    </td><td>0    </td></tr>\n",
       "\t<tr><td>b4271</td><td>11323</td><td>11212</td><td>0    </td><td>0    </td></tr>\n",
       "\t<tr><td>b4273</td><td>11333</td><td>11220</td><td>0    </td><td>0    </td></tr>\n",
       "\t<tr><td>b4276</td><td>11358</td><td>11229</td><td>0    </td><td>0    </td></tr>\n",
       "\t<tr><td>b4283</td><td>11382</td><td>11248</td><td>0    </td><td>0    </td></tr>\n",
       "\t<tr><td>b4288</td><td>11390</td><td>11253</td><td>0    </td><td>0    </td></tr>\n",
       "\t<tr><td>b4295</td><td>11406</td><td>11278</td><td>0    </td><td>0    </td></tr>\n",
       "\t<tr><td>b4297</td><td>11410</td><td>11285</td><td>0    </td><td>0    </td></tr>\n",
       "\t<tr><td>b4298</td><td>11412</td><td>11291</td><td>0    </td><td>0    </td></tr>\n",
       "\t<tr><td>b4300</td><td>11419</td><td>11302</td><td>0    </td><td>0    </td></tr>\n",
       "\t<tr><td>b3759</td><td>11476</td><td>11320</td><td>0    </td><td>0    </td></tr>\n",
       "\t<tr><td>b3737</td><td>11482</td><td>11334</td><td>0    </td><td>0    </td></tr>\n",
       "\t<tr><td>b4306</td><td>11484</td><td>11338</td><td>0    </td><td>0    </td></tr>\n",
       "\t<tr><td>b4223</td><td>11506</td><td>11348</td><td>0    </td><td>0    </td></tr>\n",
       "\t<tr><td>b4314</td><td>11579</td><td>11370</td><td>0    </td><td>0    </td></tr>\n",
       "\t<tr><td>b4333</td><td>11612</td><td>11408</td><td>0    </td><td>0    </td></tr>\n",
       "\t<tr><td>b4327</td><td>11616</td><td>11411</td><td>0    </td><td>0    </td></tr>\n",
       "\t<tr><td>b4133</td><td>11753</td><td>11492</td><td>0    </td><td>0    </td></tr>\n",
       "\t<tr><td>b2800</td><td>11827</td><td>11530</td><td>0    </td><td>0    </td></tr>\n",
       "\t<tr><td>b4004</td><td>11835</td><td>11536</td><td>0    </td><td>0    </td></tr>\n",
       "\t<tr><td>b4377</td><td>11876</td><td>11560</td><td>0    </td><td>0    </td></tr>\n",
       "\t<tr><td>b4393</td><td>11929</td><td>11597</td><td>0    </td><td>0    </td></tr>\n",
       "\t<tr><td>b4424</td><td>12105</td><td>11673</td><td>0    </td><td>0    </td></tr>\n",
       "</tbody>\n",
       "</table>\n"
      ],
      "text/latex": [
       "\\begin{tabular}{r|lllll}\n",
       " bnum & tnum & sfnum & screenshots\\_unavailable & tissue\\_consent\\\\\n",
       "\\hline\n",
       "\t b971  & 10668 & 10943 & 0     & 0    \\\\\n",
       "\t b4210 & 10768 & 11037 & 0     & 0    \\\\\n",
       "\t b4193 & 11747 & 11485 & 0     & 0    \\\\\n",
       "\t b2678 &  9386 & *     & 0     & 1    \\\\\n",
       "\t b4166 & 10643 & *     & 0     & 1    \\\\\n",
       "\t b1335 & 11420 & *     & 0     & 1    \\\\\n",
       "\t b4330 & 11596 & *     & 0     & 1    \\\\\n",
       "\t b4161 & 11424 & *     & 0     & 1    \\\\\n",
       "\t b4209 & 10766 & **    & 0     & 1    \\\\\n",
       "\t b3537 &  8969 & **    & 0     & 1    \\\\\n",
       "\t b3626 &  9170 & **    & 0     & 1    \\\\\n",
       "\t b3639 &  9200 & **    & 0     & 1    \\\\\n",
       "\t b3680 &  9316 & **    & 0     & 1    \\\\\n",
       "\t b4154 & 10601 & **    & 0     & 1    \\\\\n",
       "\t b4158 & 10619 & **    & 0     & 1    \\\\\n",
       "\t b4173 & 10654 & **    & 0     & 1    \\\\\n",
       "\t b3499 & 11898 & 11574 & 0     & 0    \\\\\n",
       "\t b2109 &  9363 & ****  & 1     & 0    \\\\\n",
       "\t b3123 &  9083 & ****  & 1     & 0    \\\\\n",
       "\t b2845 &  9901 & ****  & 1     & 0    \\\\\n",
       "\t b3622 &  9163 & ****  & 1     & 0    \\\\\n",
       "\t b3644 &  9212 & ****  & 1     & 0    \\\\\n",
       "\t b3772 &  9784 & ****  & 1     & 0    \\\\\n",
       "\t b4398 & 12000 & ****  & 1     & 0    \\\\\n",
       "\t b1338 &  8773 & 9727  & 0     & 0    \\\\\n",
       "\t b2947 &  8775 & 9729  & 0     & 0    \\\\\n",
       "\t b3472 &  8783 & 9739  & 0     & 0    \\\\\n",
       "\t 10855 &  8869 & 9795  & 0     & 0    \\\\\n",
       "\t b3125 &  8878 & 9801  & 0     & 0    \\\\\n",
       "\t b3526 &  8943 & 9882  & 0     & 0    \\\\\n",
       "\t b3527 &  8944 & 9891  & 0     & 0    \\\\\n",
       "\t b3533 &  8956 & 9907  & 0     & 0    \\\\\n",
       "\t b1837 &  8960 & 9913  & 0     & 0    \\\\\n",
       "\t b3541 &  8977 & 9936  & 0     & 0    \\\\\n",
       "\t b3542 &  8995 & 9956  & 0     & 0    \\\\\n",
       "\t b3548 &  9000 & 9971  & 0     & 0    \\\\\n",
       "\t b2456 &  9014 & 9992  & 0     & 0    \\\\\n",
       "\t b3577 &  9063 & 10012 & 0     & 0    \\\\\n",
       "\t b3588 &  9084 & 10024 & 0     & 0    \\\\\n",
       "\t b3589 &  9085 & 10025 & 0     & 0    \\\\\n",
       "\t b3519 &  9119 & 10064 & 0     & 0    \\\\\n",
       "\t b3605 &  9127 & 10070 & 0     & 0    \\\\\n",
       "\t b1957 &  9134 & 10071 & 0     & 0    \\\\\n",
       "\t b1557 &  9191 & 10105 & 0     & 0    \\\\\n",
       "\t b3645 &  9213 & 10138 & 0     & 0    \\\\\n",
       "\t b3701 &  9406 & 10174 & 0     & 0    \\\\\n",
       "\t b3607 &  9259 & 10178 & 0     & 0    \\\\\n",
       "\t b3670 &  9288 & 10199 & 0     & 0    \\\\\n",
       "\t b3486 &  9287 & 10200 & 0     & 0    \\\\\n",
       "\t b3966 & 10202 & 10202 & 0     & 0    \\\\\n",
       "\t b3528 &  9408 & 10205 & 0     & 0    \\\\\n",
       "\t b3704 &  9410 & 10255 & 0     & 0    \\\\\n",
       "\t b3739 &  9586 & 10311 & 0     & 0    \\\\\n",
       "\t b3759 &  9683 & 10335 & 0     & 0    \\\\\n",
       "\t b3515 &  9971 & 10500 & 0     & 0    \\\\\n",
       "\t b3791 &  9970 & 10507 & 0     & 0    \\\\\n",
       "\t b3974 & 10152 & 10560 & 0     & 0    \\\\\n",
       "\t b3397 & 10160 & 10574 & 0     & 0    \\\\\n",
       "\t b3999 & 10218 & 10676 & 0     & 0    \\\\\n",
       "\t b4000 & 10240 & 10691 & 0     & 0    \\\\\n",
       "\t b4002 & 10242 & 10697 & 0     & 0    \\\\\n",
       "\t b3996 & 10251 & 10706 & 0     & 0    \\\\\n",
       "\t b4009 & 10269 & 10723 & 0     & 0    \\\\\n",
       "\t b4033 & 10343 & 10755 & 0     & 0    \\\\\n",
       "\t b4080 & 10366 & 10778 & 0     & 0    \\\\\n",
       "\t b2413 & 10386 & 10803 & 0     & 0    \\\\\n",
       "\t b3759 & 10448 & 10815 & 0     & 0    \\\\\n",
       "\t b4133 & 10572 & 10823 & 0     & 0    \\\\\n",
       "\t b3990 & 10594 & 10839 & 0     & 0    \\\\\n",
       "\t b4161 & 10655 & 10912 & 0     & 0    \\\\\n",
       "\t b4183 & 10699 & 10942 & 0     & 0    \\\\\n",
       "\t b4022 & 10708 & 10982 & 0     & 0    \\\\\n",
       "\t b4191 & 10709 & 10992 & 0     & 0    \\\\\n",
       "\t b4203 & 10748 & 11005 & 0     & 0    \\\\\n",
       "\t b4205 & 10756 & 11017 & 0     & 0    \\\\\n",
       "\t b4208 & 10763 & 11039 & 0     & 0    \\\\\n",
       "\t b4211 & 10770 & 11045 & 0     & 0    \\\\\n",
       "\t b3776 & 10777 & 11054 & 0     & 0    \\\\\n",
       "\t b4193 & 10790 & 11065 & 0     & 0    \\\\\n",
       "\t b4220 & 10793 & 11067 & 0     & 0    \\\\\n",
       "\t b4030 & 11165 & 11094 & 0     & 0    \\\\\n",
       "\t b4230 & 11025 & 11096 & 0     & 0    \\\\\n",
       "\t b3783 & 11192 & 11150 & 0     & 0    \\\\\n",
       "\t b4253 & 11218 & 11163 & 0     & 0    \\\\\n",
       "\t b4260 & 11263 & 11177 & 0     & 0    \\\\\n",
       "\t b4266 & 11295 & 11196 & 0     & 0    \\\\\n",
       "\t b4209 & 11318 & 11206 & 0     & 0    \\\\\n",
       "\t b4271 & 11323 & 11212 & 0     & 0    \\\\\n",
       "\t b4273 & 11333 & 11220 & 0     & 0    \\\\\n",
       "\t b4276 & 11358 & 11229 & 0     & 0    \\\\\n",
       "\t b4283 & 11382 & 11248 & 0     & 0    \\\\\n",
       "\t b4288 & 11390 & 11253 & 0     & 0    \\\\\n",
       "\t b4295 & 11406 & 11278 & 0     & 0    \\\\\n",
       "\t b4297 & 11410 & 11285 & 0     & 0    \\\\\n",
       "\t b4298 & 11412 & 11291 & 0     & 0    \\\\\n",
       "\t b4300 & 11419 & 11302 & 0     & 0    \\\\\n",
       "\t b3759 & 11476 & 11320 & 0     & 0    \\\\\n",
       "\t b3737 & 11482 & 11334 & 0     & 0    \\\\\n",
       "\t b4306 & 11484 & 11338 & 0     & 0    \\\\\n",
       "\t b4223 & 11506 & 11348 & 0     & 0    \\\\\n",
       "\t b4314 & 11579 & 11370 & 0     & 0    \\\\\n",
       "\t b4333 & 11612 & 11408 & 0     & 0    \\\\\n",
       "\t b4327 & 11616 & 11411 & 0     & 0    \\\\\n",
       "\t b4133 & 11753 & 11492 & 0     & 0    \\\\\n",
       "\t b2800 & 11827 & 11530 & 0     & 0    \\\\\n",
       "\t b4004 & 11835 & 11536 & 0     & 0    \\\\\n",
       "\t b4377 & 11876 & 11560 & 0     & 0    \\\\\n",
       "\t b4393 & 11929 & 11597 & 0     & 0    \\\\\n",
       "\t b4424 & 12105 & 11673 & 0     & 0    \\\\\n",
       "\\end{tabular}\n"
      ],
      "text/markdown": [
       "\n",
       "bnum | tnum | sfnum | screenshots_unavailable | tissue_consent | \n",
       "|---|---|---|---|---|---|---|---|---|---|---|---|---|---|---|---|---|---|---|---|---|---|---|---|---|---|---|---|---|---|---|---|---|---|---|---|---|---|---|---|---|---|---|---|---|---|---|---|---|---|---|---|---|---|---|---|---|---|---|---|---|---|---|---|---|---|---|---|---|---|---|---|---|---|---|---|---|---|---|---|---|---|---|---|---|---|---|---|---|---|---|---|---|---|---|---|---|---|---|---|---|---|---|---|---|---|---|---|---|\n",
       "| b971  | 10668 | 10943 | 0     | 0     | \n",
       "| b4210 | 10768 | 11037 | 0     | 0     | \n",
       "| b4193 | 11747 | 11485 | 0     | 0     | \n",
       "| b2678 |  9386 | *     | 0     | 1     | \n",
       "| b4166 | 10643 | *     | 0     | 1     | \n",
       "| b1335 | 11420 | *     | 0     | 1     | \n",
       "| b4330 | 11596 | *     | 0     | 1     | \n",
       "| b4161 | 11424 | *     | 0     | 1     | \n",
       "| b4209 | 10766 | **    | 0     | 1     | \n",
       "| b3537 |  8969 | **    | 0     | 1     | \n",
       "| b3626 |  9170 | **    | 0     | 1     | \n",
       "| b3639 |  9200 | **    | 0     | 1     | \n",
       "| b3680 |  9316 | **    | 0     | 1     | \n",
       "| b4154 | 10601 | **    | 0     | 1     | \n",
       "| b4158 | 10619 | **    | 0     | 1     | \n",
       "| b4173 | 10654 | **    | 0     | 1     | \n",
       "| b3499 | 11898 | 11574 | 0     | 0     | \n",
       "| b2109 |  9363 | ****  | 1     | 0     | \n",
       "| b3123 |  9083 | ****  | 1     | 0     | \n",
       "| b2845 |  9901 | ****  | 1     | 0     | \n",
       "| b3622 |  9163 | ****  | 1     | 0     | \n",
       "| b3644 |  9212 | ****  | 1     | 0     | \n",
       "| b3772 |  9784 | ****  | 1     | 0     | \n",
       "| b4398 | 12000 | ****  | 1     | 0     | \n",
       "| b1338 |  8773 | 9727  | 0     | 0     | \n",
       "| b2947 |  8775 | 9729  | 0     | 0     | \n",
       "| b3472 |  8783 | 9739  | 0     | 0     | \n",
       "| 10855 |  8869 | 9795  | 0     | 0     | \n",
       "| b3125 |  8878 | 9801  | 0     | 0     | \n",
       "| b3526 |  8943 | 9882  | 0     | 0     | \n",
       "| b3527 |  8944 | 9891  | 0     | 0     | \n",
       "| b3533 |  8956 | 9907  | 0     | 0     | \n",
       "| b1837 |  8960 | 9913  | 0     | 0     | \n",
       "| b3541 |  8977 | 9936  | 0     | 0     | \n",
       "| b3542 |  8995 | 9956  | 0     | 0     | \n",
       "| b3548 |  9000 | 9971  | 0     | 0     | \n",
       "| b2456 |  9014 | 9992  | 0     | 0     | \n",
       "| b3577 |  9063 | 10012 | 0     | 0     | \n",
       "| b3588 |  9084 | 10024 | 0     | 0     | \n",
       "| b3589 |  9085 | 10025 | 0     | 0     | \n",
       "| b3519 |  9119 | 10064 | 0     | 0     | \n",
       "| b3605 |  9127 | 10070 | 0     | 0     | \n",
       "| b1957 |  9134 | 10071 | 0     | 0     | \n",
       "| b1557 |  9191 | 10105 | 0     | 0     | \n",
       "| b3645 |  9213 | 10138 | 0     | 0     | \n",
       "| b3701 |  9406 | 10174 | 0     | 0     | \n",
       "| b3607 |  9259 | 10178 | 0     | 0     | \n",
       "| b3670 |  9288 | 10199 | 0     | 0     | \n",
       "| b3486 |  9287 | 10200 | 0     | 0     | \n",
       "| b3966 | 10202 | 10202 | 0     | 0     | \n",
       "| b3528 |  9408 | 10205 | 0     | 0     | \n",
       "| b3704 |  9410 | 10255 | 0     | 0     | \n",
       "| b3739 |  9586 | 10311 | 0     | 0     | \n",
       "| b3759 |  9683 | 10335 | 0     | 0     | \n",
       "| b3515 |  9971 | 10500 | 0     | 0     | \n",
       "| b3791 |  9970 | 10507 | 0     | 0     | \n",
       "| b3974 | 10152 | 10560 | 0     | 0     | \n",
       "| b3397 | 10160 | 10574 | 0     | 0     | \n",
       "| b3999 | 10218 | 10676 | 0     | 0     | \n",
       "| b4000 | 10240 | 10691 | 0     | 0     | \n",
       "| b4002 | 10242 | 10697 | 0     | 0     | \n",
       "| b3996 | 10251 | 10706 | 0     | 0     | \n",
       "| b4009 | 10269 | 10723 | 0     | 0     | \n",
       "| b4033 | 10343 | 10755 | 0     | 0     | \n",
       "| b4080 | 10366 | 10778 | 0     | 0     | \n",
       "| b2413 | 10386 | 10803 | 0     | 0     | \n",
       "| b3759 | 10448 | 10815 | 0     | 0     | \n",
       "| b4133 | 10572 | 10823 | 0     | 0     | \n",
       "| b3990 | 10594 | 10839 | 0     | 0     | \n",
       "| b4161 | 10655 | 10912 | 0     | 0     | \n",
       "| b4183 | 10699 | 10942 | 0     | 0     | \n",
       "| b4022 | 10708 | 10982 | 0     | 0     | \n",
       "| b4191 | 10709 | 10992 | 0     | 0     | \n",
       "| b4203 | 10748 | 11005 | 0     | 0     | \n",
       "| b4205 | 10756 | 11017 | 0     | 0     | \n",
       "| b4208 | 10763 | 11039 | 0     | 0     | \n",
       "| b4211 | 10770 | 11045 | 0     | 0     | \n",
       "| b3776 | 10777 | 11054 | 0     | 0     | \n",
       "| b4193 | 10790 | 11065 | 0     | 0     | \n",
       "| b4220 | 10793 | 11067 | 0     | 0     | \n",
       "| b4030 | 11165 | 11094 | 0     | 0     | \n",
       "| b4230 | 11025 | 11096 | 0     | 0     | \n",
       "| b3783 | 11192 | 11150 | 0     | 0     | \n",
       "| b4253 | 11218 | 11163 | 0     | 0     | \n",
       "| b4260 | 11263 | 11177 | 0     | 0     | \n",
       "| b4266 | 11295 | 11196 | 0     | 0     | \n",
       "| b4209 | 11318 | 11206 | 0     | 0     | \n",
       "| b4271 | 11323 | 11212 | 0     | 0     | \n",
       "| b4273 | 11333 | 11220 | 0     | 0     | \n",
       "| b4276 | 11358 | 11229 | 0     | 0     | \n",
       "| b4283 | 11382 | 11248 | 0     | 0     | \n",
       "| b4288 | 11390 | 11253 | 0     | 0     | \n",
       "| b4295 | 11406 | 11278 | 0     | 0     | \n",
       "| b4297 | 11410 | 11285 | 0     | 0     | \n",
       "| b4298 | 11412 | 11291 | 0     | 0     | \n",
       "| b4300 | 11419 | 11302 | 0     | 0     | \n",
       "| b3759 | 11476 | 11320 | 0     | 0     | \n",
       "| b3737 | 11482 | 11334 | 0     | 0     | \n",
       "| b4306 | 11484 | 11338 | 0     | 0     | \n",
       "| b4223 | 11506 | 11348 | 0     | 0     | \n",
       "| b4314 | 11579 | 11370 | 0     | 0     | \n",
       "| b4333 | 11612 | 11408 | 0     | 0     | \n",
       "| b4327 | 11616 | 11411 | 0     | 0     | \n",
       "| b4133 | 11753 | 11492 | 0     | 0     | \n",
       "| b2800 | 11827 | 11530 | 0     | 0     | \n",
       "| b4004 | 11835 | 11536 | 0     | 0     | \n",
       "| b4377 | 11876 | 11560 | 0     | 0     | \n",
       "| b4393 | 11929 | 11597 | 0     | 0     | \n",
       "| b4424 | 12105 | 11673 | 0     | 0     | \n",
       "\n",
       "\n"
      ],
      "text/plain": [
       "    bnum  tnum  sfnum screenshots_unavailable tissue_consent\n",
       "1   b971  10668 10943 0                       0             \n",
       "2   b4210 10768 11037 0                       0             \n",
       "3   b4193 11747 11485 0                       0             \n",
       "4   b2678  9386 *     0                       1             \n",
       "5   b4166 10643 *     0                       1             \n",
       "6   b1335 11420 *     0                       1             \n",
       "7   b4330 11596 *     0                       1             \n",
       "8   b4161 11424 *     0                       1             \n",
       "9   b4209 10766 **    0                       1             \n",
       "10  b3537  8969 **    0                       1             \n",
       "11  b3626  9170 **    0                       1             \n",
       "12  b3639  9200 **    0                       1             \n",
       "13  b3680  9316 **    0                       1             \n",
       "14  b4154 10601 **    0                       1             \n",
       "15  b4158 10619 **    0                       1             \n",
       "16  b4173 10654 **    0                       1             \n",
       "17  b3499 11898 11574 0                       0             \n",
       "18  b2109  9363 ****  1                       0             \n",
       "19  b3123  9083 ****  1                       0             \n",
       "20  b2845  9901 ****  1                       0             \n",
       "21  b3622  9163 ****  1                       0             \n",
       "22  b3644  9212 ****  1                       0             \n",
       "23  b3772  9784 ****  1                       0             \n",
       "24  b4398 12000 ****  1                       0             \n",
       "25  b1338  8773 9727  0                       0             \n",
       "26  b2947  8775 9729  0                       0             \n",
       "27  b3472  8783 9739  0                       0             \n",
       "28  10855  8869 9795  0                       0             \n",
       "29  b3125  8878 9801  0                       0             \n",
       "30  b3526  8943 9882  0                       0             \n",
       "31  b3527  8944 9891  0                       0             \n",
       "32  b3533  8956 9907  0                       0             \n",
       "33  b1837  8960 9913  0                       0             \n",
       "34  b3541  8977 9936  0                       0             \n",
       "35  b3542  8995 9956  0                       0             \n",
       "36  b3548  9000 9971  0                       0             \n",
       "37  b2456  9014 9992  0                       0             \n",
       "38  b3577  9063 10012 0                       0             \n",
       "39  b3588  9084 10024 0                       0             \n",
       "40  b3589  9085 10025 0                       0             \n",
       "41  b3519  9119 10064 0                       0             \n",
       "42  b3605  9127 10070 0                       0             \n",
       "43  b1957  9134 10071 0                       0             \n",
       "44  b1557  9191 10105 0                       0             \n",
       "45  b3645  9213 10138 0                       0             \n",
       "46  b3701  9406 10174 0                       0             \n",
       "47  b3607  9259 10178 0                       0             \n",
       "48  b3670  9288 10199 0                       0             \n",
       "49  b3486  9287 10200 0                       0             \n",
       "50  b3966 10202 10202 0                       0             \n",
       "51  b3528  9408 10205 0                       0             \n",
       "52  b3704  9410 10255 0                       0             \n",
       "53  b3739  9586 10311 0                       0             \n",
       "54  b3759  9683 10335 0                       0             \n",
       "55  b3515  9971 10500 0                       0             \n",
       "56  b3791  9970 10507 0                       0             \n",
       "57  b3974 10152 10560 0                       0             \n",
       "58  b3397 10160 10574 0                       0             \n",
       "59  b3999 10218 10676 0                       0             \n",
       "60  b4000 10240 10691 0                       0             \n",
       "61  b4002 10242 10697 0                       0             \n",
       "62  b3996 10251 10706 0                       0             \n",
       "63  b4009 10269 10723 0                       0             \n",
       "64  b4033 10343 10755 0                       0             \n",
       "65  b4080 10366 10778 0                       0             \n",
       "66  b2413 10386 10803 0                       0             \n",
       "67  b3759 10448 10815 0                       0             \n",
       "68  b4133 10572 10823 0                       0             \n",
       "69  b3990 10594 10839 0                       0             \n",
       "70  b4161 10655 10912 0                       0             \n",
       "71  b4183 10699 10942 0                       0             \n",
       "72  b4022 10708 10982 0                       0             \n",
       "73  b4191 10709 10992 0                       0             \n",
       "74  b4203 10748 11005 0                       0             \n",
       "75  b4205 10756 11017 0                       0             \n",
       "76  b4208 10763 11039 0                       0             \n",
       "77  b4211 10770 11045 0                       0             \n",
       "78  b3776 10777 11054 0                       0             \n",
       "79  b4193 10790 11065 0                       0             \n",
       "80  b4220 10793 11067 0                       0             \n",
       "81  b4030 11165 11094 0                       0             \n",
       "82  b4230 11025 11096 0                       0             \n",
       "83  b3783 11192 11150 0                       0             \n",
       "84  b4253 11218 11163 0                       0             \n",
       "85  b4260 11263 11177 0                       0             \n",
       "86  b4266 11295 11196 0                       0             \n",
       "87  b4209 11318 11206 0                       0             \n",
       "88  b4271 11323 11212 0                       0             \n",
       "89  b4273 11333 11220 0                       0             \n",
       "90  b4276 11358 11229 0                       0             \n",
       "91  b4283 11382 11248 0                       0             \n",
       "92  b4288 11390 11253 0                       0             \n",
       "93  b4295 11406 11278 0                       0             \n",
       "94  b4297 11410 11285 0                       0             \n",
       "95  b4298 11412 11291 0                       0             \n",
       "96  b4300 11419 11302 0                       0             \n",
       "97  b3759 11476 11320 0                       0             \n",
       "98  b3737 11482 11334 0                       0             \n",
       "99  b4306 11484 11338 0                       0             \n",
       "100 b4223 11506 11348 0                       0             \n",
       "101 b4314 11579 11370 0                       0             \n",
       "102 b4333 11612 11408 0                       0             \n",
       "103 b4327 11616 11411 0                       0             \n",
       "104 b4133 11753 11492 0                       0             \n",
       "105 b2800 11827 11530 0                       0             \n",
       "106 b4004 11835 11536 0                       0             \n",
       "107 b4377 11876 11560 0                       0             \n",
       "108 b4393 11929 11597 0                       0             \n",
       "109 b4424 12105 11673 0                       0             "
      ]
     },
     "metadata": {},
     "output_type": "display_data"
    }
   ],
   "source": [
    "new_missingImaging = read.csv(\"REC_HGG_missingImagingNotes.csv\")\n",
    "new_missingImaging"
   ]
  },
  {
   "cell_type": "code",
   "execution_count": 23,
   "metadata": {
    "collapsed": true,
    "deletable": true,
    "editable": true
   },
   "outputs": [],
   "source": [
    "all_recgli = data.frame(all_recgli, imaging_code = NA)"
   ]
  },
  {
   "cell_type": "code",
   "execution_count": 24,
   "metadata": {
    "collapsed": false,
    "deletable": true,
    "editable": true
   },
   "outputs": [],
   "source": [
    "for (tnum in unique(new_missingImaging$tnum)){\n",
    "    line = new_missingImaging[new_missingImaging$tnum == tnum, ]\n",
    "    if (line$tissue_consent==1 && tnum %in% all_recgli$t_number){\n",
    "        all_recgli[all_recgli$t_number == tnum,]$imaging_code = \"tiss_cons\"\n",
    "    }\n",
    "}"
   ]
  },
  {
   "cell_type": "code",
   "execution_count": 25,
   "metadata": {
    "collapsed": true,
    "deletable": true,
    "editable": true
   },
   "outputs": [],
   "source": [
    "for (tnum in unique(new_missingImaging$tnum)){\n",
    "    line = new_missingImaging[new_missingImaging$tnum == tnum, ]\n",
    "    if (line$screenshots_unavailable==1 && tnum %in% all_recgli$t_number){\n",
    "        all_recgli[all_recgli$t_number == tnum,]$imaging_code = \"scrn\"\n",
    "    }\n",
    "}"
   ]
  },
  {
   "cell_type": "code",
   "execution_count": 26,
   "metadata": {
    "collapsed": false,
    "deletable": true,
    "editable": true
   },
   "outputs": [
    {
     "data": {
      "text/plain": [
       "\n",
       "     scrn tiss_cons \n",
       "       13        16 "
      ]
     },
     "metadata": {},
     "output_type": "display_data"
    }
   ],
   "source": [
    "table(all_recgli$imaging_code)"
   ]
  },
  {
   "cell_type": "code",
   "execution_count": 27,
   "metadata": {
    "collapsed": true
   },
   "outputs": [],
   "source": [
    "all_recgli[which(is.na(all_recgli$nfse) & is.na(all_recgli$imaging_code)),]$imaging_code = \"biopsy_quant\""
   ]
  },
  {
   "cell_type": "code",
   "execution_count": 28,
   "metadata": {
    "collapsed": false
   },
   "outputs": [
    {
     "data": {
      "text/plain": [
       "\n",
       "biopsy_quant         scrn    tiss_cons \n",
       "          25           13           16 "
      ]
     },
     "metadata": {},
     "output_type": "display_data"
    }
   ],
   "source": [
    "table(all_recgli$imaging_code)"
   ]
  },
  {
   "cell_type": "code",
   "execution_count": 31,
   "metadata": {
    "collapsed": false
   },
   "outputs": [
    {
     "data": {
      "text/html": [
       "<table>\n",
       "<thead><tr><th></th><th scope=col>b_number</th><th scope=col>t_number</th><th scope=col>sf_number</th><th scope=col>current_scan_date</th><th scope=col>current_surgery_date</th><th scope=col>current_hist_grade</th><th scope=col>current_hist_type</th><th scope=col>roi.label</th><th scope=col>tumor_cell_evaluation</th><th scope=col>necrosis</th><th scope=col>mv_hyperplasia</th><th scope=col>f8_delicate</th><th scope=col>f8_simple</th><th scope=col>f8_complex</th><th scope=col>mib_1</th><th scope=col>avgerage_cells</th><th scope=col>bx_pure_treatment_effect</th><th scope=col>percent_tumor_nuclei</th><th scope=col>nfse</th><th scope=col>nfl</th><th scope=col>nt1c</th><th scope=col>nt1v</th><th scope=col>nt1d</th><th scope=col>nadc.1</th><th scope=col>nfa.1</th><th scope=col>nadc.2</th><th scope=col>nfa.2</th><th scope=col>phn_nlin</th><th scope=col>cbvn_nlin</th><th scope=col>recov_nlin</th><th scope=col>phn_npar</th><th scope=col>recov_npar</th><th scope=col>recovn_npar</th><th scope=col>cni</th><th scope=col>ccri</th><th scope=col>crni</th><th scope=col>ncho</th><th scope=col>ncre</th><th scope=col>nnaa</th><th scope=col>nlip</th><th scope=col>nlac</th><th scope=col>laclip</th><th scope=col>comments</th><th scope=col>notes.</th><th scope=col>imaging_code</th></tr></thead>\n",
       "<tbody>\n",
       "\t<tr><th scope=row>1</th><td>1338                                          </td><td> 8773                                         </td><td> 9727                                         </td><td>2013-10-02                                    </td><td>2013-10-03                                    </td><td>Grade IV                                      </td><td>Glioblastoma                                  </td><td>60B60                                         </td><td>1                                             </td><td> 0                                            </td><td>0                                             </td><td>                                              </td><td>                                              </td><td>                                              </td><td> 2.01                                         </td><td> 99                                           </td><td>f                                             </td><td> 5                                            </td><td>NA                                            </td><td>NA                                            </td><td>NA                                            </td><td>NA                                            </td><td>NA                                            </td><td>  NA                                          </td><td>  NA                                          </td><td>NA                                            </td><td>NA                                            </td><td>  NA                                          </td><td>  NA                                          </td><td>    NA                                        </td><td>  NA                                          </td><td>    NA                                        </td><td>    NA                                        </td><td>  NA                                          </td><td>  NA                                          </td><td>  NA                                          </td><td>  NA                                          </td><td>  NA                                          </td><td>  NA                                          </td><td> NA                                           </td><td> NA                                           </td><td> NA                                           </td><td>                                              </td><td>NA                                            </td><td>biopsy_quant                                  </td></tr>\n",
       "\t<tr><th scope=row>5</th><td>2947                                          </td><td> 8775                                         </td><td> 9729                                         </td><td>2013-10-06                                    </td><td>2013-10-07                                    </td><td>Grade IV                                      </td><td>Glioblastoma                                  </td><td>1B61                                          </td><td>2                                             </td><td> 0                                            </td><td>0                                             </td><td>                                              </td><td>                                              </td><td>                                              </td><td>34.83                                         </td><td>364                                           </td><td>t                                             </td><td>75                                            </td><td>NA                                            </td><td>NA                                            </td><td>NA                                            </td><td>NA                                            </td><td>NA                                            </td><td>  NA                                          </td><td>  NA                                          </td><td>NA                                            </td><td>NA                                            </td><td>3.70                                          </td><td>4.88                                          </td><td> 88.72                                        </td><td>3.62                                          </td><td> 93.68                                        </td><td>100.00                                        </td><td>  NA                                          </td><td>  NA                                          </td><td>  NA                                          </td><td>  NA                                          </td><td>  NA                                          </td><td>  NA                                          </td><td> NA                                           </td><td> NA                                           </td><td> NA                                           </td><td>                                              </td><td>NA                                            </td><td>biopsy_quant                                  </td></tr>\n",
       "\t<tr><th scope=row>6</th><td>2947                                          </td><td> 8775                                         </td><td> 9729                                         </td><td>2013-10-06                                    </td><td>2013-10-07                                    </td><td>Grade IV                                      </td><td>Glioblastoma                                  </td><td>2B61                                          </td><td>3                                             </td><td> 0                                            </td><td>2                                             </td><td>                                              </td><td>                                              </td><td>                                              </td><td>18.50                                         </td><td>256                                           </td><td>f                                             </td><td>95                                            </td><td>NA                                            </td><td>NA                                            </td><td>NA                                            </td><td>NA                                            </td><td>NA                                            </td><td>  NA                                          </td><td>  NA                                          </td><td>NA                                            </td><td>NA                                            </td><td>3.03                                          </td><td>3.82                                          </td><td>100.00                                        </td><td>2.77                                          </td><td>100.00                                        </td><td>100.00                                        </td><td>  NA                                          </td><td>  NA                                          </td><td>  NA                                          </td><td>  NA                                          </td><td>  NA                                          </td><td>  NA                                          </td><td> NA                                           </td><td> NA                                           </td><td> NA                                           </td><td>                                              </td><td>NA                                            </td><td>biopsy_quant                                  </td></tr>\n",
       "\t<tr><th scope=row>7</th><td>2947                                          </td><td> 8775                                         </td><td> 9729                                         </td><td>2013-10-06                                    </td><td>2013-10-07                                    </td><td>Grade IV                                      </td><td>Glioblastoma                                  </td><td>3B61                                          </td><td>2                                             </td><td> 0                                            </td><td>0                                             </td><td>                                              </td><td>                                              </td><td>                                              </td><td>17.50                                         </td><td>270                                           </td><td>t                                             </td><td>75                                            </td><td>NA                                            </td><td>NA                                            </td><td>NA                                            </td><td>NA                                            </td><td>NA                                            </td><td>  NA                                          </td><td>  NA                                          </td><td>NA                                            </td><td>NA                                            </td><td>1.76                                          </td><td>2.57                                          </td><td> 88.01                                        </td><td>1.83                                          </td><td> 95.04                                        </td><td>100.00                                        </td><td>  NA                                          </td><td>  NA                                          </td><td>  NA                                          </td><td>  NA                                          </td><td>  NA                                          </td><td>  NA                                          </td><td> NA                                           </td><td> NA                                           </td><td> NA                                           </td><td>                                              </td><td>NA                                            </td><td>biopsy_quant                                  </td></tr>\n",
       "\t<tr><th scope=row>8</th><td>2947                                          </td><td> 8775                                         </td><td> 9729                                         </td><td>2013-10-06                                    </td><td>2013-10-07                                    </td><td>Grade IV                                      </td><td>Glioblastoma                                  </td><td>4B61                                          </td><td>2                                             </td><td> 0                                            </td><td>1                                             </td><td>                                              </td><td>                                              </td><td>                                              </td><td> 8.62                                         </td><td>203                                           </td><td>f                                             </td><td>75                                            </td><td>NA                                            </td><td>NA                                            </td><td>NA                                            </td><td>NA                                            </td><td>NA                                            </td><td>  NA                                          </td><td>  NA                                          </td><td>NA                                            </td><td>NA                                            </td><td>2.14                                          </td><td>2.17                                          </td><td> 81.89                                        </td><td>2.10                                          </td><td> 87.26                                        </td><td>100.00                                        </td><td>  NA                                          </td><td>  NA                                          </td><td>  NA                                          </td><td>  NA                                          </td><td>  NA                                          </td><td>  NA                                          </td><td> NA                                           </td><td> NA                                           </td><td> NA                                           </td><td>                                              </td><td>NA                                            </td><td>biopsy_quant                                  </td></tr>\n",
       "\t<tr><th scope=row>12</th><td>3499                                          </td><td> 8869                                         </td><td> 9795                                         </td><td>2013-12-10                                    </td><td>2013-12-11                                    </td><td>Grade IV                                      </td><td>Glioblastoma                                  </td><td>68B60                                         </td><td>3                                             </td><td> 0                                            </td><td>2                                             </td><td>                                              </td><td>                                              </td><td>                                              </td><td>52.39                                         </td><td>369                                           </td><td>f                                             </td><td>95                                            </td><td>NA                                            </td><td>NA                                            </td><td>NA                                            </td><td>NA                                            </td><td>NA                                            </td><td>  NA                                          </td><td>  NA                                          </td><td>NA                                            </td><td>NA                                            </td><td>  NA                                          </td><td>  NA                                          </td><td>    NA                                        </td><td>  NA                                          </td><td>    NA                                        </td><td>    NA                                        </td><td>0.00                                          </td><td> 0.0                                          </td><td>0.00                                          </td><td>0.00                                          </td><td>0.00                                          </td><td>0.00                                          </td><td>0.0                                           </td><td>0.0                                           </td><td>0.0                                           </td><td>\"POORLY DIFFERENTIATED REGION\"                </td><td>NA                                            </td><td>biopsy_quant                                  </td></tr>\n",
       "\t<tr><th scope=row>59</th><td>1957                                          </td><td> 9134                                         </td><td>10071                                         </td><td>2014-08-12                                    </td><td>2014-08-13                                    </td><td>Grade III                                     </td><td>Oligodendroglioma                             </td><td>15B71                                         </td><td>                                              </td><td>NA                                            </td><td>                                              </td><td>                                              </td><td>                                              </td><td>                                              </td><td>   NA                                         </td><td> NA                                           </td><td>                                              </td><td>NA                                            </td><td>NA                                            </td><td>NA                                            </td><td>NA                                            </td><td>NA                                            </td><td>NA                                            </td><td>  NA                                          </td><td>  NA                                          </td><td>NA                                            </td><td>NA                                            </td><td>  NA                                          </td><td>  NA                                          </td><td>    NA                                        </td><td>  NA                                          </td><td>    NA                                        </td><td>    NA                                        </td><td>  NA                                          </td><td>  NA                                          </td><td>  NA                                          </td><td>  NA                                          </td><td>  NA                                          </td><td>  NA                                          </td><td> NA                                           </td><td> NA                                           </td><td> NA                                           </td><td>                                              </td><td>NA                                            </td><td>biopsy_quant                                  </td></tr>\n",
       "\t<tr><th scope=row>72</th><td>3486                                          </td><td> 9287                                         </td><td>   NA                                         </td><td>2014-12-16                                    </td><td>2014-12-17                                    </td><td>Grade IV                                      </td><td>Glioblastoma                                  </td><td>                                              </td><td>                                              </td><td>NA                                            </td><td>                                              </td><td>                                              </td><td>                                              </td><td>                                              </td><td>   NA                                         </td><td> NA                                           </td><td>                                              </td><td>NA                                            </td><td>NA                                            </td><td>NA                                            </td><td>NA                                            </td><td>NA                                            </td><td>NA                                            </td><td>  NA                                          </td><td>  NA                                          </td><td>NA                                            </td><td>NA                                            </td><td>  NA                                          </td><td>  NA                                          </td><td>    NA                                        </td><td>  NA                                          </td><td>    NA                                        </td><td>    NA                                        </td><td>  NA                                          </td><td>  NA                                          </td><td>  NA                                          </td><td>  NA                                          </td><td>  NA                                          </td><td>  NA                                          </td><td> NA                                           </td><td> NA                                           </td><td> NA                                           </td><td>                                              </td><td>NA                                            </td><td>biopsy_quant                                  </td></tr>\n",
       "\t<tr><th scope=row>82</th><td>3528                                          </td><td> 9408                                         </td><td>10205                                         </td><td>2014-12-22                                    </td><td>2014-12-23                                    </td><td>Grade III                                     </td><td>Oligodendroglioma                             </td><td>54B75                                         </td><td>1                                             </td><td> 0                                            </td><td>0                                             </td><td>                                              </td><td>                                              </td><td>                                              </td><td> 1.63                                         </td><td> 73                                           </td><td>f                                             </td><td>20                                            </td><td>NA                                            </td><td>NA                                            </td><td>NA                                            </td><td>NA                                            </td><td>NA                                            </td><td>  NA                                          </td><td>  NA                                          </td><td>NA                                            </td><td>NA                                            </td><td>  NA                                          </td><td>  NA                                          </td><td>    NA                                        </td><td>  NA                                          </td><td>    NA                                        </td><td>    NA                                        </td><td>  NA                                          </td><td>  NA                                          </td><td>  NA                                          </td><td>  NA                                          </td><td>  NA                                          </td><td>  NA                                          </td><td> NA                                           </td><td> NA                                           </td><td> NA                                           </td><td>                                              </td><td>NA                                            </td><td>biopsy_quant                                  </td></tr>\n",
       "\t<tr><th scope=row>83</th><td>3528                                          </td><td> 9408                                         </td><td>10205                                         </td><td>2014-12-22                                    </td><td>2014-12-23                                    </td><td>Grade III                                     </td><td>Oligodendroglioma                             </td><td>55B75                                         </td><td>1                                             </td><td> 0                                            </td><td>0                                             </td><td>                                              </td><td>                                              </td><td>                                              </td><td> 0.90                                         </td><td>177                                           </td><td>f                                             </td><td>10                                            </td><td>NA                                            </td><td>NA                                            </td><td>NA                                            </td><td>NA                                            </td><td>NA                                            </td><td>  NA                                          </td><td>  NA                                          </td><td>NA                                            </td><td>NA                                            </td><td>  NA                                          </td><td>  NA                                          </td><td>    NA                                        </td><td>  NA                                          </td><td>    NA                                        </td><td>    NA                                        </td><td>  NA                                          </td><td>  NA                                          </td><td>  NA                                          </td><td>  NA                                          </td><td>  NA                                          </td><td>  NA                                          </td><td> NA                                           </td><td> NA                                           </td><td> NA                                           </td><td>\"P and CY appear to have XRT changes to cells\"</td><td>NA                                            </td><td>biopsy_quant                                  </td></tr>\n",
       "\t<tr><th scope=row>96</th><td>3759                                          </td><td> 9683                                         </td><td>10335                                         </td><td>2015-04-27                                    </td><td>2015-04-28                                    </td><td>Grade III                                     </td><td>Oligodendroglioma                             </td><td>33B77                                         </td><td>3                                             </td><td> 0                                            </td><td>2                                             </td><td>                                              </td><td>                                              </td><td>                                              </td><td>22.13                                         </td><td>522                                           </td><td>f                                             </td><td>80                                            </td><td>NA                                            </td><td>NA                                            </td><td>NA                                            </td><td>NA                                            </td><td>NA                                            </td><td>  NA                                          </td><td>  NA                                          </td><td>NA                                            </td><td>NA                                            </td><td>  NA                                          </td><td>  NA                                          </td><td>    NA                                        </td><td>  NA                                          </td><td>    NA                                        </td><td>    NA                                        </td><td>  NA                                          </td><td>  NA                                          </td><td>  NA                                          </td><td>  NA                                          </td><td>  NA                                          </td><td>  NA                                          </td><td> NA                                           </td><td> NA                                           </td><td> NA                                           </td><td>\"PV tumor as well\"                            </td><td>NA                                            </td><td>biopsy_quant                                  </td></tr>\n",
       "\t<tr><th scope=row>132</th><td>4002                                          </td><td>10242                                         </td><td>10697                                         </td><td>2016-01-31                                    </td><td>2016-02-01                                    </td><td>Grade IV                                      </td><td>Glioblastoma                                  </td><td>4B81                                          </td><td>2                                             </td><td> 0                                            </td><td>0                                             </td><td>                                              </td><td>                                              </td><td>                                              </td><td>10.89                                         </td><td>315                                           </td><td>f                                             </td><td>60                                            </td><td>NA                                            </td><td>NA                                            </td><td>NA                                            </td><td>NA                                            </td><td>NA                                            </td><td>  NA                                          </td><td>  NA                                          </td><td>NA                                            </td><td>NA                                            </td><td>  NA                                          </td><td>  NA                                          </td><td>    NA                                        </td><td>  NA                                          </td><td>    NA                                        </td><td>    NA                                        </td><td>  NA                                          </td><td>  NA                                          </td><td>  NA                                          </td><td>  NA                                          </td><td>  NA                                          </td><td>  NA                                          </td><td> NA                                           </td><td> NA                                           </td><td> NA                                           </td><td>                                              </td><td>NA                                            </td><td>biopsy_quant                                  </td></tr>\n",
       "\t<tr><th scope=row>167</th><td> 971                                          </td><td>10668                                         </td><td>10943                                         </td><td>2016-08-16                                    </td><td>2016-08-17                                    </td><td>Grade III                                     </td><td>Oligodendroglioma                             </td><td>38B91                                         </td><td>                                              </td><td>NA                                            </td><td>                                              </td><td>                                              </td><td>                                              </td><td>                                              </td><td>   NA                                         </td><td> NA                                           </td><td>                                              </td><td>NA                                            </td><td>NA                                            </td><td>NA                                            </td><td>NA                                            </td><td>NA                                            </td><td>NA                                            </td><td>1.08                                          </td><td>2.61                                          </td><td>NA                                            </td><td>NA                                            </td><td>1.04                                          </td><td>0.92                                          </td><td> 75.20                                        </td><td>1.12                                          </td><td> 73.50                                        </td><td> 80.41                                        </td><td>0.46                                          </td><td>-0.3                                          </td><td>0.49                                          </td><td>0.29                                          </td><td>0.36                                          </td><td>0.19                                          </td><td>0.6                                           </td><td>0.6                                           </td><td>0.6                                           </td><td>                                              </td><td>NA                                            </td><td>biopsy_quant                                  </td></tr>\n",
       "\t<tr><th scope=row>279</th><td>4193                                          </td><td>11747                                         </td><td>11485                                         </td><td>2017-09-28                                    </td><td>2017-09-29                                    </td><td>Grade IV                                      </td><td>Glioblastoma                                  </td><td>11485-4                                       </td><td>                                              </td><td>NA                                            </td><td>                                              </td><td>                                              </td><td>                                              </td><td>                                              </td><td>   NA                                         </td><td> NA                                           </td><td>                                              </td><td>NA                                            </td><td>NA                                            </td><td>NA                                            </td><td>NA                                            </td><td>NA                                            </td><td>NA                                            </td><td>  NA                                          </td><td>  NA                                          </td><td>NA                                            </td><td>NA                                            </td><td>  NA                                          </td><td>  NA                                          </td><td>    NA                                        </td><td>  NA                                          </td><td>    NA                                        </td><td>    NA                                        </td><td>  NA                                          </td><td>  NA                                          </td><td>  NA                                          </td><td>  NA                                          </td><td>  NA                                          </td><td>  NA                                          </td><td> NA                                           </td><td> NA                                           </td><td> NA                                           </td><td>                                              </td><td>NA                                            </td><td>biopsy_quant                                  </td></tr>\n",
       "\t<tr><th scope=row>310</th><td>4424                                          </td><td>12097                                         </td><td>   NA                                         </td><td>2018-02-13                                    </td><td>                                              </td><td>Grade IV                                      </td><td>Glioblastoma                                  </td><td>                                              </td><td>                                              </td><td>NA                                            </td><td>                                              </td><td>                                              </td><td>                                              </td><td>                                              </td><td>   NA                                         </td><td> NA                                           </td><td>                                              </td><td>NA                                            </td><td>NA                                            </td><td>NA                                            </td><td>NA                                            </td><td>NA                                            </td><td>NA                                            </td><td>  NA                                          </td><td>  NA                                          </td><td>NA                                            </td><td>NA                                            </td><td>  NA                                          </td><td>  NA                                          </td><td>    NA                                        </td><td>  NA                                          </td><td>    NA                                        </td><td>    NA                                        </td><td>  NA                                          </td><td>  NA                                          </td><td>  NA                                          </td><td>  NA                                          </td><td>  NA                                          </td><td>  NA                                          </td><td> NA                                           </td><td> NA                                           </td><td> NA                                           </td><td>                                              </td><td>NA                                            </td><td>biopsy_quant                                  </td></tr>\n",
       "\t<tr><th scope=row>315</th><td>4442                                          </td><td>12181                                         </td><td>   NA                                         </td><td>2018-03-26                                    </td><td>                                              </td><td>Grade IV                                      </td><td>Glioblastoma                                  </td><td>                                              </td><td>                                              </td><td>NA                                            </td><td>                                              </td><td>                                              </td><td>                                              </td><td>                                              </td><td>   NA                                         </td><td> NA                                           </td><td>                                              </td><td>NA                                            </td><td>NA                                            </td><td>NA                                            </td><td>NA                                            </td><td>NA                                            </td><td>NA                                            </td><td>  NA                                          </td><td>  NA                                          </td><td>NA                                            </td><td>NA                                            </td><td>  NA                                          </td><td>  NA                                          </td><td>    NA                                        </td><td>  NA                                          </td><td>    NA                                        </td><td>    NA                                        </td><td>  NA                                          </td><td>  NA                                          </td><td>  NA                                          </td><td>  NA                                          </td><td>  NA                                          </td><td>  NA                                          </td><td> NA                                           </td><td> NA                                           </td><td> NA                                           </td><td>                                              </td><td>NA                                            </td><td>biopsy_quant                                  </td></tr>\n",
       "\t<tr><th scope=row>316</th><td>4462                                          </td><td>12259                                         </td><td>   NA                                         </td><td>2018-04-22                                    </td><td>                                              </td><td>Grade IV                                      </td><td>Glioblastoma                                  </td><td>                                              </td><td>                                              </td><td>NA                                            </td><td>                                              </td><td>                                              </td><td>                                              </td><td>                                              </td><td>   NA                                         </td><td> NA                                           </td><td>                                              </td><td>NA                                            </td><td>NA                                            </td><td>NA                                            </td><td>NA                                            </td><td>NA                                            </td><td>NA                                            </td><td>  NA                                          </td><td>  NA                                          </td><td>NA                                            </td><td>NA                                            </td><td>  NA                                          </td><td>  NA                                          </td><td>    NA                                        </td><td>  NA                                          </td><td>    NA                                        </td><td>    NA                                        </td><td>  NA                                          </td><td>  NA                                          </td><td>  NA                                          </td><td>  NA                                          </td><td>  NA                                          </td><td>  NA                                          </td><td> NA                                           </td><td> NA                                           </td><td> NA                                           </td><td>                                              </td><td>NA                                            </td><td>biopsy_quant                                  </td></tr>\n",
       "\t<tr><th scope=row>317</th><td>2991                                          </td><td>12320                                         </td><td>   NA                                         </td><td>2018-05-16                                    </td><td>                                              </td><td>Grade III                                     </td><td>Oligodendroglioma                             </td><td>                                              </td><td>                                              </td><td>NA                                            </td><td>                                              </td><td>                                              </td><td>                                              </td><td>                                              </td><td>   NA                                         </td><td> NA                                           </td><td>                                              </td><td>NA                                            </td><td>NA                                            </td><td>NA                                            </td><td>NA                                            </td><td>NA                                            </td><td>NA                                            </td><td>  NA                                          </td><td>  NA                                          </td><td>NA                                            </td><td>NA                                            </td><td>  NA                                          </td><td>  NA                                          </td><td>    NA                                        </td><td>  NA                                          </td><td>    NA                                        </td><td>    NA                                        </td><td>  NA                                          </td><td>  NA                                          </td><td>  NA                                          </td><td>  NA                                          </td><td>  NA                                          </td><td>  NA                                          </td><td> NA                                           </td><td> NA                                           </td><td> NA                                           </td><td>                                              </td><td>NA                                            </td><td>biopsy_quant                                  </td></tr>\n",
       "\t<tr><th scope=row>318</th><td>4481                                          </td><td>12343                                         </td><td>   NA                                         </td><td>2018-05-29                                    </td><td>                                              </td><td>                                              </td><td>                                              </td><td>                                              </td><td>                                              </td><td>NA                                            </td><td>                                              </td><td>                                              </td><td>                                              </td><td>                                              </td><td>   NA                                         </td><td> NA                                           </td><td>                                              </td><td>NA                                            </td><td>NA                                            </td><td>NA                                            </td><td>NA                                            </td><td>NA                                            </td><td>NA                                            </td><td>  NA                                          </td><td>  NA                                          </td><td>NA                                            </td><td>NA                                            </td><td>  NA                                          </td><td>  NA                                          </td><td>    NA                                        </td><td>  NA                                          </td><td>    NA                                        </td><td>    NA                                        </td><td>  NA                                          </td><td>  NA                                          </td><td>  NA                                          </td><td>  NA                                          </td><td>  NA                                          </td><td>  NA                                          </td><td> NA                                           </td><td> NA                                           </td><td> NA                                           </td><td>                                              </td><td>NA                                            </td><td>biopsy_quant                                  </td></tr>\n",
       "\t<tr><th scope=row>319</th><td>4482                                          </td><td>12345                                         </td><td>   NA                                         </td><td>2018-05-29                                    </td><td>                                              </td><td>Grade IV                                      </td><td>Gliosarcoma                                   </td><td>                                              </td><td>                                              </td><td>NA                                            </td><td>                                              </td><td>                                              </td><td>                                              </td><td>                                              </td><td>   NA                                         </td><td> NA                                           </td><td>                                              </td><td>NA                                            </td><td>NA                                            </td><td>NA                                            </td><td>NA                                            </td><td>NA                                            </td><td>NA                                            </td><td>  NA                                          </td><td>  NA                                          </td><td>NA                                            </td><td>NA                                            </td><td>  NA                                          </td><td>  NA                                          </td><td>    NA                                        </td><td>  NA                                          </td><td>    NA                                        </td><td>    NA                                        </td><td>  NA                                          </td><td>  NA                                          </td><td>  NA                                          </td><td>  NA                                          </td><td>  NA                                          </td><td>  NA                                          </td><td> NA                                           </td><td> NA                                           </td><td> NA                                           </td><td>                                              </td><td>NA                                            </td><td>biopsy_quant                                  </td></tr>\n",
       "\t<tr><th scope=row>320</th><td>4484                                          </td><td>12357                                         </td><td>   NA                                         </td><td>2018-06-04                                    </td><td>                                              </td><td>                                              </td><td>                                              </td><td>                                              </td><td>                                              </td><td>NA                                            </td><td>                                              </td><td>                                              </td><td>                                              </td><td>                                              </td><td>   NA                                         </td><td> NA                                           </td><td>                                              </td><td>NA                                            </td><td>NA                                            </td><td>NA                                            </td><td>NA                                            </td><td>NA                                            </td><td>NA                                            </td><td>  NA                                          </td><td>  NA                                          </td><td>NA                                            </td><td>NA                                            </td><td>  NA                                          </td><td>  NA                                          </td><td>    NA                                        </td><td>  NA                                          </td><td>    NA                                        </td><td>    NA                                        </td><td>  NA                                          </td><td>  NA                                          </td><td>  NA                                          </td><td>  NA                                          </td><td>  NA                                          </td><td>  NA                                          </td><td> NA                                           </td><td> NA                                           </td><td> NA                                           </td><td>                                              </td><td>NA                                            </td><td>biopsy_quant                                  </td></tr>\n",
       "\t<tr><th scope=row>321</th><td>4491                                          </td><td>12377                                         </td><td>   NA                                         </td><td>2018-06-26                                    </td><td>                                              </td><td>                                              </td><td>                                              </td><td>                                              </td><td>                                              </td><td>NA                                            </td><td>                                              </td><td>                                              </td><td>                                              </td><td>                                              </td><td>   NA                                         </td><td> NA                                           </td><td>                                              </td><td>NA                                            </td><td>NA                                            </td><td>NA                                            </td><td>NA                                            </td><td>NA                                            </td><td>NA                                            </td><td>  NA                                          </td><td>  NA                                          </td><td>NA                                            </td><td>NA                                            </td><td>  NA                                          </td><td>  NA                                          </td><td>    NA                                        </td><td>  NA                                          </td><td>    NA                                        </td><td>    NA                                        </td><td>  NA                                          </td><td>  NA                                          </td><td>  NA                                          </td><td>  NA                                          </td><td>  NA                                          </td><td>  NA                                          </td><td> NA                                           </td><td> NA                                           </td><td> NA                                           </td><td>                                              </td><td>NA                                            </td><td>biopsy_quant                                  </td></tr>\n",
       "\t<tr><th scope=row>322</th><td>3983                                          </td><td>12378                                         </td><td>   NA                                         </td><td>2018-06-26                                    </td><td>                                              </td><td>                                              </td><td>                                              </td><td>                                              </td><td>                                              </td><td>NA                                            </td><td>                                              </td><td>                                              </td><td>                                              </td><td>                                              </td><td>   NA                                         </td><td> NA                                           </td><td>                                              </td><td>NA                                            </td><td>NA                                            </td><td>NA                                            </td><td>NA                                            </td><td>NA                                            </td><td>NA                                            </td><td>  NA                                          </td><td>  NA                                          </td><td>NA                                            </td><td>NA                                            </td><td>  NA                                          </td><td>  NA                                          </td><td>    NA                                        </td><td>  NA                                          </td><td>    NA                                        </td><td>    NA                                        </td><td>  NA                                          </td><td>  NA                                          </td><td>  NA                                          </td><td>  NA                                          </td><td>  NA                                          </td><td>  NA                                          </td><td> NA                                           </td><td> NA                                           </td><td> NA                                           </td><td>                                              </td><td>NA                                            </td><td>biopsy_quant                                  </td></tr>\n",
       "\t<tr><th scope=row>323</th><td>4493                                          </td><td>12381                                         </td><td>   NA                                         </td><td>2018-07-08                                    </td><td>                                              </td><td>                                              </td><td>                                              </td><td>                                              </td><td>                                              </td><td>NA                                            </td><td>                                              </td><td>                                              </td><td>                                              </td><td>                                              </td><td>   NA                                         </td><td> NA                                           </td><td>                                              </td><td>NA                                            </td><td>NA                                            </td><td>NA                                            </td><td>NA                                            </td><td>NA                                            </td><td>NA                                            </td><td>  NA                                          </td><td>  NA                                          </td><td>NA                                            </td><td>NA                                            </td><td>  NA                                          </td><td>  NA                                          </td><td>    NA                                        </td><td>  NA                                          </td><td>    NA                                        </td><td>    NA                                        </td><td>  NA                                          </td><td>  NA                                          </td><td>  NA                                          </td><td>  NA                                          </td><td>  NA                                          </td><td>  NA                                          </td><td> NA                                           </td><td> NA                                           </td><td> NA                                           </td><td>                                              </td><td>NA                                            </td><td>biopsy_quant                                  </td></tr>\n",
       "\t<tr><th scope=row>324</th><td>3966                                          </td><td>12394                                         </td><td>   NA                                         </td><td>2018-07-17                                    </td><td>                                              </td><td>                                              </td><td>                                              </td><td>                                              </td><td>                                              </td><td>NA                                            </td><td>                                              </td><td>                                              </td><td>                                              </td><td>                                              </td><td>   NA                                         </td><td> NA                                           </td><td>                                              </td><td>NA                                            </td><td>NA                                            </td><td>NA                                            </td><td>NA                                            </td><td>NA                                            </td><td>NA                                            </td><td>  NA                                          </td><td>  NA                                          </td><td>NA                                            </td><td>NA                                            </td><td>  NA                                          </td><td>  NA                                          </td><td>    NA                                        </td><td>  NA                                          </td><td>    NA                                        </td><td>    NA                                        </td><td>  NA                                          </td><td>  NA                                          </td><td>  NA                                          </td><td>  NA                                          </td><td>  NA                                          </td><td>  NA                                          </td><td> NA                                           </td><td> NA                                           </td><td> NA                                           </td><td>                                              </td><td>NA                                            </td><td>biopsy_quant                                  </td></tr>\n",
       "</tbody>\n",
       "</table>\n"
      ],
      "text/latex": [
       "\\begin{tabular}{r|lllllllllllllllllllllllllllllllllllllllllllll}\n",
       "  & b\\_number & t\\_number & sf\\_number & current\\_scan\\_date & current\\_surgery\\_date & current\\_hist\\_grade & current\\_hist\\_type & roi.label & tumor\\_cell\\_evaluation & necrosis & mv\\_hyperplasia & f8\\_delicate & f8\\_simple & f8\\_complex & mib\\_1 & avgerage\\_cells & bx\\_pure\\_treatment\\_effect & percent\\_tumor\\_nuclei & nfse & nfl & nt1c & nt1v & nt1d & nadc.1 & nfa.1 & nadc.2 & nfa.2 & phn\\_nlin & cbvn\\_nlin & recov\\_nlin & phn\\_npar & recov\\_npar & recovn\\_npar & cni & ccri & crni & ncho & ncre & nnaa & nlip & nlac & laclip & comments & notes. & imaging\\_code\\\\\n",
       "\\hline\n",
       "\t1 & 1338                                           &  8773                                          &  9727                                          & 2013-10-02                                     & 2013-10-03                                     & Grade IV                                       & Glioblastoma                                   & 60B60                                          & 1                                              &  0                                             & 0                                              &                                                &                                                &                                                &  2.01                                          &  99                                            & f                                              &  5                                             & NA                                             & NA                                             & NA                                             & NA                                             & NA                                             &   NA                                           &   NA                                           & NA                                             & NA                                             &   NA                                           &   NA                                           &     NA                                         &   NA                                           &     NA                                         &     NA                                         &   NA                                           &   NA                                           &   NA                                           &   NA                                           &   NA                                           &   NA                                           &  NA                                            &  NA                                            &  NA                                            &                                                & NA                                             & biopsy\\_quant                                \\\\\n",
       "\t5 & 2947                                           &  8775                                          &  9729                                          & 2013-10-06                                     & 2013-10-07                                     & Grade IV                                       & Glioblastoma                                   & 1B61                                           & 2                                              &  0                                             & 0                                              &                                                &                                                &                                                & 34.83                                          & 364                                            & t                                              & 75                                             & NA                                             & NA                                             & NA                                             & NA                                             & NA                                             &   NA                                           &   NA                                           & NA                                             & NA                                             & 3.70                                           & 4.88                                           &  88.72                                         & 3.62                                           &  93.68                                         & 100.00                                         &   NA                                           &   NA                                           &   NA                                           &   NA                                           &   NA                                           &   NA                                           &  NA                                            &  NA                                            &  NA                                            &                                                & NA                                             & biopsy\\_quant                                \\\\\n",
       "\t6 & 2947                                           &  8775                                          &  9729                                          & 2013-10-06                                     & 2013-10-07                                     & Grade IV                                       & Glioblastoma                                   & 2B61                                           & 3                                              &  0                                             & 2                                              &                                                &                                                &                                                & 18.50                                          & 256                                            & f                                              & 95                                             & NA                                             & NA                                             & NA                                             & NA                                             & NA                                             &   NA                                           &   NA                                           & NA                                             & NA                                             & 3.03                                           & 3.82                                           & 100.00                                         & 2.77                                           & 100.00                                         & 100.00                                         &   NA                                           &   NA                                           &   NA                                           &   NA                                           &   NA                                           &   NA                                           &  NA                                            &  NA                                            &  NA                                            &                                                & NA                                             & biopsy\\_quant                                \\\\\n",
       "\t7 & 2947                                           &  8775                                          &  9729                                          & 2013-10-06                                     & 2013-10-07                                     & Grade IV                                       & Glioblastoma                                   & 3B61                                           & 2                                              &  0                                             & 0                                              &                                                &                                                &                                                & 17.50                                          & 270                                            & t                                              & 75                                             & NA                                             & NA                                             & NA                                             & NA                                             & NA                                             &   NA                                           &   NA                                           & NA                                             & NA                                             & 1.76                                           & 2.57                                           &  88.01                                         & 1.83                                           &  95.04                                         & 100.00                                         &   NA                                           &   NA                                           &   NA                                           &   NA                                           &   NA                                           &   NA                                           &  NA                                            &  NA                                            &  NA                                            &                                                & NA                                             & biopsy\\_quant                                \\\\\n",
       "\t8 & 2947                                           &  8775                                          &  9729                                          & 2013-10-06                                     & 2013-10-07                                     & Grade IV                                       & Glioblastoma                                   & 4B61                                           & 2                                              &  0                                             & 1                                              &                                                &                                                &                                                &  8.62                                          & 203                                            & f                                              & 75                                             & NA                                             & NA                                             & NA                                             & NA                                             & NA                                             &   NA                                           &   NA                                           & NA                                             & NA                                             & 2.14                                           & 2.17                                           &  81.89                                         & 2.10                                           &  87.26                                         & 100.00                                         &   NA                                           &   NA                                           &   NA                                           &   NA                                           &   NA                                           &   NA                                           &  NA                                            &  NA                                            &  NA                                            &                                                & NA                                             & biopsy\\_quant                                \\\\\n",
       "\t12 & 3499                                           &  8869                                          &  9795                                          & 2013-12-10                                     & 2013-12-11                                     & Grade IV                                       & Glioblastoma                                   & 68B60                                          & 3                                              &  0                                             & 2                                              &                                                &                                                &                                                & 52.39                                          & 369                                            & f                                              & 95                                             & NA                                             & NA                                             & NA                                             & NA                                             & NA                                             &   NA                                           &   NA                                           & NA                                             & NA                                             &   NA                                           &   NA                                           &     NA                                         &   NA                                           &     NA                                         &     NA                                         & 0.00                                           &  0.0                                           & 0.00                                           & 0.00                                           & 0.00                                           & 0.00                                           & 0.0                                            & 0.0                                            & 0.0                                            & \"POORLY DIFFERENTIATED REGION\"                 & NA                                             & biopsy\\_quant                                \\\\\n",
       "\t59 & 1957                                           &  9134                                          & 10071                                          & 2014-08-12                                     & 2014-08-13                                     & Grade III                                      & Oligodendroglioma                              & 15B71                                          &                                                & NA                                             &                                                &                                                &                                                &                                                &    NA                                          &  NA                                            &                                                & NA                                             & NA                                             & NA                                             & NA                                             & NA                                             & NA                                             &   NA                                           &   NA                                           & NA                                             & NA                                             &   NA                                           &   NA                                           &     NA                                         &   NA                                           &     NA                                         &     NA                                         &   NA                                           &   NA                                           &   NA                                           &   NA                                           &   NA                                           &   NA                                           &  NA                                            &  NA                                            &  NA                                            &                                                & NA                                             & biopsy\\_quant                                \\\\\n",
       "\t72 & 3486                                           &  9287                                          &    NA                                          & 2014-12-16                                     & 2014-12-17                                     & Grade IV                                       & Glioblastoma                                   &                                                &                                                & NA                                             &                                                &                                                &                                                &                                                &    NA                                          &  NA                                            &                                                & NA                                             & NA                                             & NA                                             & NA                                             & NA                                             & NA                                             &   NA                                           &   NA                                           & NA                                             & NA                                             &   NA                                           &   NA                                           &     NA                                         &   NA                                           &     NA                                         &     NA                                         &   NA                                           &   NA                                           &   NA                                           &   NA                                           &   NA                                           &   NA                                           &  NA                                            &  NA                                            &  NA                                            &                                                & NA                                             & biopsy\\_quant                                \\\\\n",
       "\t82 & 3528                                           &  9408                                          & 10205                                          & 2014-12-22                                     & 2014-12-23                                     & Grade III                                      & Oligodendroglioma                              & 54B75                                          & 1                                              &  0                                             & 0                                              &                                                &                                                &                                                &  1.63                                          &  73                                            & f                                              & 20                                             & NA                                             & NA                                             & NA                                             & NA                                             & NA                                             &   NA                                           &   NA                                           & NA                                             & NA                                             &   NA                                           &   NA                                           &     NA                                         &   NA                                           &     NA                                         &     NA                                         &   NA                                           &   NA                                           &   NA                                           &   NA                                           &   NA                                           &   NA                                           &  NA                                            &  NA                                            &  NA                                            &                                                & NA                                             & biopsy\\_quant                                \\\\\n",
       "\t83 & 3528                                           &  9408                                          & 10205                                          & 2014-12-22                                     & 2014-12-23                                     & Grade III                                      & Oligodendroglioma                              & 55B75                                          & 1                                              &  0                                             & 0                                              &                                                &                                                &                                                &  0.90                                          & 177                                            & f                                              & 10                                             & NA                                             & NA                                             & NA                                             & NA                                             & NA                                             &   NA                                           &   NA                                           & NA                                             & NA                                             &   NA                                           &   NA                                           &     NA                                         &   NA                                           &     NA                                         &     NA                                         &   NA                                           &   NA                                           &   NA                                           &   NA                                           &   NA                                           &   NA                                           &  NA                                            &  NA                                            &  NA                                            & \"P and CY appear to have XRT changes to cells\" & NA                                             & biopsy\\_quant                                \\\\\n",
       "\t96 & 3759                                           &  9683                                          & 10335                                          & 2015-04-27                                     & 2015-04-28                                     & Grade III                                      & Oligodendroglioma                              & 33B77                                          & 3                                              &  0                                             & 2                                              &                                                &                                                &                                                & 22.13                                          & 522                                            & f                                              & 80                                             & NA                                             & NA                                             & NA                                             & NA                                             & NA                                             &   NA                                           &   NA                                           & NA                                             & NA                                             &   NA                                           &   NA                                           &     NA                                         &   NA                                           &     NA                                         &     NA                                         &   NA                                           &   NA                                           &   NA                                           &   NA                                           &   NA                                           &   NA                                           &  NA                                            &  NA                                            &  NA                                            & \"PV tumor as well\"                             & NA                                             & biopsy\\_quant                                \\\\\n",
       "\t132 & 4002                                           & 10242                                          & 10697                                          & 2016-01-31                                     & 2016-02-01                                     & Grade IV                                       & Glioblastoma                                   & 4B81                                           & 2                                              &  0                                             & 0                                              &                                                &                                                &                                                & 10.89                                          & 315                                            & f                                              & 60                                             & NA                                             & NA                                             & NA                                             & NA                                             & NA                                             &   NA                                           &   NA                                           & NA                                             & NA                                             &   NA                                           &   NA                                           &     NA                                         &   NA                                           &     NA                                         &     NA                                         &   NA                                           &   NA                                           &   NA                                           &   NA                                           &   NA                                           &   NA                                           &  NA                                            &  NA                                            &  NA                                            &                                                & NA                                             & biopsy\\_quant                                \\\\\n",
       "\t167 &  971                                           & 10668                                          & 10943                                          & 2016-08-16                                     & 2016-08-17                                     & Grade III                                      & Oligodendroglioma                              & 38B91                                          &                                                & NA                                             &                                                &                                                &                                                &                                                &    NA                                          &  NA                                            &                                                & NA                                             & NA                                             & NA                                             & NA                                             & NA                                             & NA                                             & 1.08                                           & 2.61                                           & NA                                             & NA                                             & 1.04                                           & 0.92                                           &  75.20                                         & 1.12                                           &  73.50                                         &  80.41                                         & 0.46                                           & -0.3                                           & 0.49                                           & 0.29                                           & 0.36                                           & 0.19                                           & 0.6                                            & 0.6                                            & 0.6                                            &                                                & NA                                             & biopsy\\_quant                                \\\\\n",
       "\t279 & 4193                                           & 11747                                          & 11485                                          & 2017-09-28                                     & 2017-09-29                                     & Grade IV                                       & Glioblastoma                                   & 11485-4                                        &                                                & NA                                             &                                                &                                                &                                                &                                                &    NA                                          &  NA                                            &                                                & NA                                             & NA                                             & NA                                             & NA                                             & NA                                             & NA                                             &   NA                                           &   NA                                           & NA                                             & NA                                             &   NA                                           &   NA                                           &     NA                                         &   NA                                           &     NA                                         &     NA                                         &   NA                                           &   NA                                           &   NA                                           &   NA                                           &   NA                                           &   NA                                           &  NA                                            &  NA                                            &  NA                                            &                                                & NA                                             & biopsy\\_quant                                \\\\\n",
       "\t310 & 4424                                           & 12097                                          &    NA                                          & 2018-02-13                                     &                                                & Grade IV                                       & Glioblastoma                                   &                                                &                                                & NA                                             &                                                &                                                &                                                &                                                &    NA                                          &  NA                                            &                                                & NA                                             & NA                                             & NA                                             & NA                                             & NA                                             & NA                                             &   NA                                           &   NA                                           & NA                                             & NA                                             &   NA                                           &   NA                                           &     NA                                         &   NA                                           &     NA                                         &     NA                                         &   NA                                           &   NA                                           &   NA                                           &   NA                                           &   NA                                           &   NA                                           &  NA                                            &  NA                                            &  NA                                            &                                                & NA                                             & biopsy\\_quant                                \\\\\n",
       "\t315 & 4442                                           & 12181                                          &    NA                                          & 2018-03-26                                     &                                                & Grade IV                                       & Glioblastoma                                   &                                                &                                                & NA                                             &                                                &                                                &                                                &                                                &    NA                                          &  NA                                            &                                                & NA                                             & NA                                             & NA                                             & NA                                             & NA                                             & NA                                             &   NA                                           &   NA                                           & NA                                             & NA                                             &   NA                                           &   NA                                           &     NA                                         &   NA                                           &     NA                                         &     NA                                         &   NA                                           &   NA                                           &   NA                                           &   NA                                           &   NA                                           &   NA                                           &  NA                                            &  NA                                            &  NA                                            &                                                & NA                                             & biopsy\\_quant                                \\\\\n",
       "\t316 & 4462                                           & 12259                                          &    NA                                          & 2018-04-22                                     &                                                & Grade IV                                       & Glioblastoma                                   &                                                &                                                & NA                                             &                                                &                                                &                                                &                                                &    NA                                          &  NA                                            &                                                & NA                                             & NA                                             & NA                                             & NA                                             & NA                                             & NA                                             &   NA                                           &   NA                                           & NA                                             & NA                                             &   NA                                           &   NA                                           &     NA                                         &   NA                                           &     NA                                         &     NA                                         &   NA                                           &   NA                                           &   NA                                           &   NA                                           &   NA                                           &   NA                                           &  NA                                            &  NA                                            &  NA                                            &                                                & NA                                             & biopsy\\_quant                                \\\\\n",
       "\t317 & 2991                                           & 12320                                          &    NA                                          & 2018-05-16                                     &                                                & Grade III                                      & Oligodendroglioma                              &                                                &                                                & NA                                             &                                                &                                                &                                                &                                                &    NA                                          &  NA                                            &                                                & NA                                             & NA                                             & NA                                             & NA                                             & NA                                             & NA                                             &   NA                                           &   NA                                           & NA                                             & NA                                             &   NA                                           &   NA                                           &     NA                                         &   NA                                           &     NA                                         &     NA                                         &   NA                                           &   NA                                           &   NA                                           &   NA                                           &   NA                                           &   NA                                           &  NA                                            &  NA                                            &  NA                                            &                                                & NA                                             & biopsy\\_quant                                \\\\\n",
       "\t318 & 4481                                           & 12343                                          &    NA                                          & 2018-05-29                                     &                                                &                                                &                                                &                                                &                                                & NA                                             &                                                &                                                &                                                &                                                &    NA                                          &  NA                                            &                                                & NA                                             & NA                                             & NA                                             & NA                                             & NA                                             & NA                                             &   NA                                           &   NA                                           & NA                                             & NA                                             &   NA                                           &   NA                                           &     NA                                         &   NA                                           &     NA                                         &     NA                                         &   NA                                           &   NA                                           &   NA                                           &   NA                                           &   NA                                           &   NA                                           &  NA                                            &  NA                                            &  NA                                            &                                                & NA                                             & biopsy\\_quant                                \\\\\n",
       "\t319 & 4482                                           & 12345                                          &    NA                                          & 2018-05-29                                     &                                                & Grade IV                                       & Gliosarcoma                                    &                                                &                                                & NA                                             &                                                &                                                &                                                &                                                &    NA                                          &  NA                                            &                                                & NA                                             & NA                                             & NA                                             & NA                                             & NA                                             & NA                                             &   NA                                           &   NA                                           & NA                                             & NA                                             &   NA                                           &   NA                                           &     NA                                         &   NA                                           &     NA                                         &     NA                                         &   NA                                           &   NA                                           &   NA                                           &   NA                                           &   NA                                           &   NA                                           &  NA                                            &  NA                                            &  NA                                            &                                                & NA                                             & biopsy\\_quant                                \\\\\n",
       "\t320 & 4484                                           & 12357                                          &    NA                                          & 2018-06-04                                     &                                                &                                                &                                                &                                                &                                                & NA                                             &                                                &                                                &                                                &                                                &    NA                                          &  NA                                            &                                                & NA                                             & NA                                             & NA                                             & NA                                             & NA                                             & NA                                             &   NA                                           &   NA                                           & NA                                             & NA                                             &   NA                                           &   NA                                           &     NA                                         &   NA                                           &     NA                                         &     NA                                         &   NA                                           &   NA                                           &   NA                                           &   NA                                           &   NA                                           &   NA                                           &  NA                                            &  NA                                            &  NA                                            &                                                & NA                                             & biopsy\\_quant                                \\\\\n",
       "\t321 & 4491                                           & 12377                                          &    NA                                          & 2018-06-26                                     &                                                &                                                &                                                &                                                &                                                & NA                                             &                                                &                                                &                                                &                                                &    NA                                          &  NA                                            &                                                & NA                                             & NA                                             & NA                                             & NA                                             & NA                                             & NA                                             &   NA                                           &   NA                                           & NA                                             & NA                                             &   NA                                           &   NA                                           &     NA                                         &   NA                                           &     NA                                         &     NA                                         &   NA                                           &   NA                                           &   NA                                           &   NA                                           &   NA                                           &   NA                                           &  NA                                            &  NA                                            &  NA                                            &                                                & NA                                             & biopsy\\_quant                                \\\\\n",
       "\t322 & 3983                                           & 12378                                          &    NA                                          & 2018-06-26                                     &                                                &                                                &                                                &                                                &                                                & NA                                             &                                                &                                                &                                                &                                                &    NA                                          &  NA                                            &                                                & NA                                             & NA                                             & NA                                             & NA                                             & NA                                             & NA                                             &   NA                                           &   NA                                           & NA                                             & NA                                             &   NA                                           &   NA                                           &     NA                                         &   NA                                           &     NA                                         &     NA                                         &   NA                                           &   NA                                           &   NA                                           &   NA                                           &   NA                                           &   NA                                           &  NA                                            &  NA                                            &  NA                                            &                                                & NA                                             & biopsy\\_quant                                \\\\\n",
       "\t323 & 4493                                           & 12381                                          &    NA                                          & 2018-07-08                                     &                                                &                                                &                                                &                                                &                                                & NA                                             &                                                &                                                &                                                &                                                &    NA                                          &  NA                                            &                                                & NA                                             & NA                                             & NA                                             & NA                                             & NA                                             & NA                                             &   NA                                           &   NA                                           & NA                                             & NA                                             &   NA                                           &   NA                                           &     NA                                         &   NA                                           &     NA                                         &     NA                                         &   NA                                           &   NA                                           &   NA                                           &   NA                                           &   NA                                           &   NA                                           &  NA                                            &  NA                                            &  NA                                            &                                                & NA                                             & biopsy\\_quant                                \\\\\n",
       "\t324 & 3966                                           & 12394                                          &    NA                                          & 2018-07-17                                     &                                                &                                                &                                                &                                                &                                                & NA                                             &                                                &                                                &                                                &                                                &    NA                                          &  NA                                            &                                                & NA                                             & NA                                             & NA                                             & NA                                             & NA                                             & NA                                             &   NA                                           &   NA                                           & NA                                             & NA                                             &   NA                                           &   NA                                           &     NA                                         &   NA                                           &     NA                                         &     NA                                         &   NA                                           &   NA                                           &   NA                                           &   NA                                           &   NA                                           &   NA                                           &  NA                                            &  NA                                            &  NA                                            &                                                & NA                                             & biopsy\\_quant                                \\\\\n",
       "\\end{tabular}\n"
      ],
      "text/markdown": [
       "\n",
       "| <!--/--> | b_number | t_number | sf_number | current_scan_date | current_surgery_date | current_hist_grade | current_hist_type | roi.label | tumor_cell_evaluation | necrosis | mv_hyperplasia | f8_delicate | f8_simple | f8_complex | mib_1 | avgerage_cells | bx_pure_treatment_effect | percent_tumor_nuclei | nfse | nfl | nt1c | nt1v | nt1d | nadc.1 | nfa.1 | nadc.2 | nfa.2 | phn_nlin | cbvn_nlin | recov_nlin | phn_npar | recov_npar | recovn_npar | cni | ccri | crni | ncho | ncre | nnaa | nlip | nlac | laclip | comments | notes. | imaging_code | \n",
       "|---|---|---|---|---|---|---|---|---|---|---|---|---|---|---|---|---|---|---|---|---|---|---|---|---|\n",
       "| 1 | 1338                                           |  8773                                          |  9727                                          | 2013-10-02                                     | 2013-10-03                                     | Grade IV                                       | Glioblastoma                                   | 60B60                                          | 1                                              |  0                                             | 0                                              |                                                |                                                |                                                |  2.01                                          |  99                                            | f                                              |  5                                             | NA                                             | NA                                             | NA                                             | NA                                             | NA                                             |   NA                                           |   NA                                           | NA                                             | NA                                             |   NA                                           |   NA                                           |     NA                                         |   NA                                           |     NA                                         |     NA                                         |   NA                                           |   NA                                           |   NA                                           |   NA                                           |   NA                                           |   NA                                           |  NA                                            |  NA                                            |  NA                                            |                                                | NA                                             | biopsy_quant                                   | \n",
       "| 5 | 2947                                           |  8775                                          |  9729                                          | 2013-10-06                                     | 2013-10-07                                     | Grade IV                                       | Glioblastoma                                   | 1B61                                           | 2                                              |  0                                             | 0                                              |                                                |                                                |                                                | 34.83                                          | 364                                            | t                                              | 75                                             | NA                                             | NA                                             | NA                                             | NA                                             | NA                                             |   NA                                           |   NA                                           | NA                                             | NA                                             | 3.70                                           | 4.88                                           |  88.72                                         | 3.62                                           |  93.68                                         | 100.00                                         |   NA                                           |   NA                                           |   NA                                           |   NA                                           |   NA                                           |   NA                                           |  NA                                            |  NA                                            |  NA                                            |                                                | NA                                             | biopsy_quant                                   | \n",
       "| 6 | 2947                                           |  8775                                          |  9729                                          | 2013-10-06                                     | 2013-10-07                                     | Grade IV                                       | Glioblastoma                                   | 2B61                                           | 3                                              |  0                                             | 2                                              |                                                |                                                |                                                | 18.50                                          | 256                                            | f                                              | 95                                             | NA                                             | NA                                             | NA                                             | NA                                             | NA                                             |   NA                                           |   NA                                           | NA                                             | NA                                             | 3.03                                           | 3.82                                           | 100.00                                         | 2.77                                           | 100.00                                         | 100.00                                         |   NA                                           |   NA                                           |   NA                                           |   NA                                           |   NA                                           |   NA                                           |  NA                                            |  NA                                            |  NA                                            |                                                | NA                                             | biopsy_quant                                   | \n",
       "| 7 | 2947                                           |  8775                                          |  9729                                          | 2013-10-06                                     | 2013-10-07                                     | Grade IV                                       | Glioblastoma                                   | 3B61                                           | 2                                              |  0                                             | 0                                              |                                                |                                                |                                                | 17.50                                          | 270                                            | t                                              | 75                                             | NA                                             | NA                                             | NA                                             | NA                                             | NA                                             |   NA                                           |   NA                                           | NA                                             | NA                                             | 1.76                                           | 2.57                                           |  88.01                                         | 1.83                                           |  95.04                                         | 100.00                                         |   NA                                           |   NA                                           |   NA                                           |   NA                                           |   NA                                           |   NA                                           |  NA                                            |  NA                                            |  NA                                            |                                                | NA                                             | biopsy_quant                                   | \n",
       "| 8 | 2947                                           |  8775                                          |  9729                                          | 2013-10-06                                     | 2013-10-07                                     | Grade IV                                       | Glioblastoma                                   | 4B61                                           | 2                                              |  0                                             | 1                                              |                                                |                                                |                                                |  8.62                                          | 203                                            | f                                              | 75                                             | NA                                             | NA                                             | NA                                             | NA                                             | NA                                             |   NA                                           |   NA                                           | NA                                             | NA                                             | 2.14                                           | 2.17                                           |  81.89                                         | 2.10                                           |  87.26                                         | 100.00                                         |   NA                                           |   NA                                           |   NA                                           |   NA                                           |   NA                                           |   NA                                           |  NA                                            |  NA                                            |  NA                                            |                                                | NA                                             | biopsy_quant                                   | \n",
       "| 12 | 3499                                           |  8869                                          |  9795                                          | 2013-12-10                                     | 2013-12-11                                     | Grade IV                                       | Glioblastoma                                   | 68B60                                          | 3                                              |  0                                             | 2                                              |                                                |                                                |                                                | 52.39                                          | 369                                            | f                                              | 95                                             | NA                                             | NA                                             | NA                                             | NA                                             | NA                                             |   NA                                           |   NA                                           | NA                                             | NA                                             |   NA                                           |   NA                                           |     NA                                         |   NA                                           |     NA                                         |     NA                                         | 0.00                                           |  0.0                                           | 0.00                                           | 0.00                                           | 0.00                                           | 0.00                                           | 0.0                                            | 0.0                                            | 0.0                                            | \"POORLY DIFFERENTIATED REGION\"                 | NA                                             | biopsy_quant                                   | \n",
       "| 59 | 1957                                           |  9134                                          | 10071                                          | 2014-08-12                                     | 2014-08-13                                     | Grade III                                      | Oligodendroglioma                              | 15B71                                          |                                                | NA                                             |                                                |                                                |                                                |                                                |    NA                                          |  NA                                            |                                                | NA                                             | NA                                             | NA                                             | NA                                             | NA                                             | NA                                             |   NA                                           |   NA                                           | NA                                             | NA                                             |   NA                                           |   NA                                           |     NA                                         |   NA                                           |     NA                                         |     NA                                         |   NA                                           |   NA                                           |   NA                                           |   NA                                           |   NA                                           |   NA                                           |  NA                                            |  NA                                            |  NA                                            |                                                | NA                                             | biopsy_quant                                   | \n",
       "| 72 | 3486                                           |  9287                                          |    NA                                          | 2014-12-16                                     | 2014-12-17                                     | Grade IV                                       | Glioblastoma                                   |                                                |                                                | NA                                             |                                                |                                                |                                                |                                                |    NA                                          |  NA                                            |                                                | NA                                             | NA                                             | NA                                             | NA                                             | NA                                             | NA                                             |   NA                                           |   NA                                           | NA                                             | NA                                             |   NA                                           |   NA                                           |     NA                                         |   NA                                           |     NA                                         |     NA                                         |   NA                                           |   NA                                           |   NA                                           |   NA                                           |   NA                                           |   NA                                           |  NA                                            |  NA                                            |  NA                                            |                                                | NA                                             | biopsy_quant                                   | \n",
       "| 82 | 3528                                           |  9408                                          | 10205                                          | 2014-12-22                                     | 2014-12-23                                     | Grade III                                      | Oligodendroglioma                              | 54B75                                          | 1                                              |  0                                             | 0                                              |                                                |                                                |                                                |  1.63                                          |  73                                            | f                                              | 20                                             | NA                                             | NA                                             | NA                                             | NA                                             | NA                                             |   NA                                           |   NA                                           | NA                                             | NA                                             |   NA                                           |   NA                                           |     NA                                         |   NA                                           |     NA                                         |     NA                                         |   NA                                           |   NA                                           |   NA                                           |   NA                                           |   NA                                           |   NA                                           |  NA                                            |  NA                                            |  NA                                            |                                                | NA                                             | biopsy_quant                                   | \n",
       "| 83 | 3528                                           |  9408                                          | 10205                                          | 2014-12-22                                     | 2014-12-23                                     | Grade III                                      | Oligodendroglioma                              | 55B75                                          | 1                                              |  0                                             | 0                                              |                                                |                                                |                                                |  0.90                                          | 177                                            | f                                              | 10                                             | NA                                             | NA                                             | NA                                             | NA                                             | NA                                             |   NA                                           |   NA                                           | NA                                             | NA                                             |   NA                                           |   NA                                           |     NA                                         |   NA                                           |     NA                                         |     NA                                         |   NA                                           |   NA                                           |   NA                                           |   NA                                           |   NA                                           |   NA                                           |  NA                                            |  NA                                            |  NA                                            | \"P and CY appear to have XRT changes to cells\" | NA                                             | biopsy_quant                                   | \n",
       "| 96 | 3759                                           |  9683                                          | 10335                                          | 2015-04-27                                     | 2015-04-28                                     | Grade III                                      | Oligodendroglioma                              | 33B77                                          | 3                                              |  0                                             | 2                                              |                                                |                                                |                                                | 22.13                                          | 522                                            | f                                              | 80                                             | NA                                             | NA                                             | NA                                             | NA                                             | NA                                             |   NA                                           |   NA                                           | NA                                             | NA                                             |   NA                                           |   NA                                           |     NA                                         |   NA                                           |     NA                                         |     NA                                         |   NA                                           |   NA                                           |   NA                                           |   NA                                           |   NA                                           |   NA                                           |  NA                                            |  NA                                            |  NA                                            | \"PV tumor as well\"                             | NA                                             | biopsy_quant                                   | \n",
       "| 132 | 4002                                           | 10242                                          | 10697                                          | 2016-01-31                                     | 2016-02-01                                     | Grade IV                                       | Glioblastoma                                   | 4B81                                           | 2                                              |  0                                             | 0                                              |                                                |                                                |                                                | 10.89                                          | 315                                            | f                                              | 60                                             | NA                                             | NA                                             | NA                                             | NA                                             | NA                                             |   NA                                           |   NA                                           | NA                                             | NA                                             |   NA                                           |   NA                                           |     NA                                         |   NA                                           |     NA                                         |     NA                                         |   NA                                           |   NA                                           |   NA                                           |   NA                                           |   NA                                           |   NA                                           |  NA                                            |  NA                                            |  NA                                            |                                                | NA                                             | biopsy_quant                                   | \n",
       "| 167 |  971                                           | 10668                                          | 10943                                          | 2016-08-16                                     | 2016-08-17                                     | Grade III                                      | Oligodendroglioma                              | 38B91                                          |                                                | NA                                             |                                                |                                                |                                                |                                                |    NA                                          |  NA                                            |                                                | NA                                             | NA                                             | NA                                             | NA                                             | NA                                             | NA                                             | 1.08                                           | 2.61                                           | NA                                             | NA                                             | 1.04                                           | 0.92                                           |  75.20                                         | 1.12                                           |  73.50                                         |  80.41                                         | 0.46                                           | -0.3                                           | 0.49                                           | 0.29                                           | 0.36                                           | 0.19                                           | 0.6                                            | 0.6                                            | 0.6                                            |                                                | NA                                             | biopsy_quant                                   | \n",
       "| 279 | 4193                                           | 11747                                          | 11485                                          | 2017-09-28                                     | 2017-09-29                                     | Grade IV                                       | Glioblastoma                                   | 11485-4                                        |                                                | NA                                             |                                                |                                                |                                                |                                                |    NA                                          |  NA                                            |                                                | NA                                             | NA                                             | NA                                             | NA                                             | NA                                             | NA                                             |   NA                                           |   NA                                           | NA                                             | NA                                             |   NA                                           |   NA                                           |     NA                                         |   NA                                           |     NA                                         |     NA                                         |   NA                                           |   NA                                           |   NA                                           |   NA                                           |   NA                                           |   NA                                           |  NA                                            |  NA                                            |  NA                                            |                                                | NA                                             | biopsy_quant                                   | \n",
       "| 310 | 4424                                           | 12097                                          |    NA                                          | 2018-02-13                                     |                                                | Grade IV                                       | Glioblastoma                                   |                                                |                                                | NA                                             |                                                |                                                |                                                |                                                |    NA                                          |  NA                                            |                                                | NA                                             | NA                                             | NA                                             | NA                                             | NA                                             | NA                                             |   NA                                           |   NA                                           | NA                                             | NA                                             |   NA                                           |   NA                                           |     NA                                         |   NA                                           |     NA                                         |     NA                                         |   NA                                           |   NA                                           |   NA                                           |   NA                                           |   NA                                           |   NA                                           |  NA                                            |  NA                                            |  NA                                            |                                                | NA                                             | biopsy_quant                                   | \n",
       "| 315 | 4442                                           | 12181                                          |    NA                                          | 2018-03-26                                     |                                                | Grade IV                                       | Glioblastoma                                   |                                                |                                                | NA                                             |                                                |                                                |                                                |                                                |    NA                                          |  NA                                            |                                                | NA                                             | NA                                             | NA                                             | NA                                             | NA                                             | NA                                             |   NA                                           |   NA                                           | NA                                             | NA                                             |   NA                                           |   NA                                           |     NA                                         |   NA                                           |     NA                                         |     NA                                         |   NA                                           |   NA                                           |   NA                                           |   NA                                           |   NA                                           |   NA                                           |  NA                                            |  NA                                            |  NA                                            |                                                | NA                                             | biopsy_quant                                   | \n",
       "| 316 | 4462                                           | 12259                                          |    NA                                          | 2018-04-22                                     |                                                | Grade IV                                       | Glioblastoma                                   |                                                |                                                | NA                                             |                                                |                                                |                                                |                                                |    NA                                          |  NA                                            |                                                | NA                                             | NA                                             | NA                                             | NA                                             | NA                                             | NA                                             |   NA                                           |   NA                                           | NA                                             | NA                                             |   NA                                           |   NA                                           |     NA                                         |   NA                                           |     NA                                         |     NA                                         |   NA                                           |   NA                                           |   NA                                           |   NA                                           |   NA                                           |   NA                                           |  NA                                            |  NA                                            |  NA                                            |                                                | NA                                             | biopsy_quant                                   | \n",
       "| 317 | 2991                                           | 12320                                          |    NA                                          | 2018-05-16                                     |                                                | Grade III                                      | Oligodendroglioma                              |                                                |                                                | NA                                             |                                                |                                                |                                                |                                                |    NA                                          |  NA                                            |                                                | NA                                             | NA                                             | NA                                             | NA                                             | NA                                             | NA                                             |   NA                                           |   NA                                           | NA                                             | NA                                             |   NA                                           |   NA                                           |     NA                                         |   NA                                           |     NA                                         |     NA                                         |   NA                                           |   NA                                           |   NA                                           |   NA                                           |   NA                                           |   NA                                           |  NA                                            |  NA                                            |  NA                                            |                                                | NA                                             | biopsy_quant                                   | \n",
       "| 318 | 4481                                           | 12343                                          |    NA                                          | 2018-05-29                                     |                                                |                                                |                                                |                                                |                                                | NA                                             |                                                |                                                |                                                |                                                |    NA                                          |  NA                                            |                                                | NA                                             | NA                                             | NA                                             | NA                                             | NA                                             | NA                                             |   NA                                           |   NA                                           | NA                                             | NA                                             |   NA                                           |   NA                                           |     NA                                         |   NA                                           |     NA                                         |     NA                                         |   NA                                           |   NA                                           |   NA                                           |   NA                                           |   NA                                           |   NA                                           |  NA                                            |  NA                                            |  NA                                            |                                                | NA                                             | biopsy_quant                                   | \n",
       "| 319 | 4482                                           | 12345                                          |    NA                                          | 2018-05-29                                     |                                                | Grade IV                                       | Gliosarcoma                                    |                                                |                                                | NA                                             |                                                |                                                |                                                |                                                |    NA                                          |  NA                                            |                                                | NA                                             | NA                                             | NA                                             | NA                                             | NA                                             | NA                                             |   NA                                           |   NA                                           | NA                                             | NA                                             |   NA                                           |   NA                                           |     NA                                         |   NA                                           |     NA                                         |     NA                                         |   NA                                           |   NA                                           |   NA                                           |   NA                                           |   NA                                           |   NA                                           |  NA                                            |  NA                                            |  NA                                            |                                                | NA                                             | biopsy_quant                                   | \n",
       "| 320 | 4484                                           | 12357                                          |    NA                                          | 2018-06-04                                     |                                                |                                                |                                                |                                                |                                                | NA                                             |                                                |                                                |                                                |                                                |    NA                                          |  NA                                            |                                                | NA                                             | NA                                             | NA                                             | NA                                             | NA                                             | NA                                             |   NA                                           |   NA                                           | NA                                             | NA                                             |   NA                                           |   NA                                           |     NA                                         |   NA                                           |     NA                                         |     NA                                         |   NA                                           |   NA                                           |   NA                                           |   NA                                           |   NA                                           |   NA                                           |  NA                                            |  NA                                            |  NA                                            |                                                | NA                                             | biopsy_quant                                   | \n",
       "| 321 | 4491                                           | 12377                                          |    NA                                          | 2018-06-26                                     |                                                |                                                |                                                |                                                |                                                | NA                                             |                                                |                                                |                                                |                                                |    NA                                          |  NA                                            |                                                | NA                                             | NA                                             | NA                                             | NA                                             | NA                                             | NA                                             |   NA                                           |   NA                                           | NA                                             | NA                                             |   NA                                           |   NA                                           |     NA                                         |   NA                                           |     NA                                         |     NA                                         |   NA                                           |   NA                                           |   NA                                           |   NA                                           |   NA                                           |   NA                                           |  NA                                            |  NA                                            |  NA                                            |                                                | NA                                             | biopsy_quant                                   | \n",
       "| 322 | 3983                                           | 12378                                          |    NA                                          | 2018-06-26                                     |                                                |                                                |                                                |                                                |                                                | NA                                             |                                                |                                                |                                                |                                                |    NA                                          |  NA                                            |                                                | NA                                             | NA                                             | NA                                             | NA                                             | NA                                             | NA                                             |   NA                                           |   NA                                           | NA                                             | NA                                             |   NA                                           |   NA                                           |     NA                                         |   NA                                           |     NA                                         |     NA                                         |   NA                                           |   NA                                           |   NA                                           |   NA                                           |   NA                                           |   NA                                           |  NA                                            |  NA                                            |  NA                                            |                                                | NA                                             | biopsy_quant                                   | \n",
       "| 323 | 4493                                           | 12381                                          |    NA                                          | 2018-07-08                                     |                                                |                                                |                                                |                                                |                                                | NA                                             |                                                |                                                |                                                |                                                |    NA                                          |  NA                                            |                                                | NA                                             | NA                                             | NA                                             | NA                                             | NA                                             | NA                                             |   NA                                           |   NA                                           | NA                                             | NA                                             |   NA                                           |   NA                                           |     NA                                         |   NA                                           |     NA                                         |     NA                                         |   NA                                           |   NA                                           |   NA                                           |   NA                                           |   NA                                           |   NA                                           |  NA                                            |  NA                                            |  NA                                            |                                                | NA                                             | biopsy_quant                                   | \n",
       "| 324 | 3966                                           | 12394                                          |    NA                                          | 2018-07-17                                     |                                                |                                                |                                                |                                                |                                                | NA                                             |                                                |                                                |                                                |                                                |    NA                                          |  NA                                            |                                                | NA                                             | NA                                             | NA                                             | NA                                             | NA                                             | NA                                             |   NA                                           |   NA                                           | NA                                             | NA                                             |   NA                                           |   NA                                           |     NA                                         |   NA                                           |     NA                                         |     NA                                         |   NA                                           |   NA                                           |   NA                                           |   NA                                           |   NA                                           |   NA                                           |  NA                                            |  NA                                            |  NA                                            |                                                | NA                                             | biopsy_quant                                   | \n",
       "\n",
       "\n"
      ],
      "text/plain": [
       "    b_number t_number sf_number current_scan_date current_surgery_date\n",
       "1   1338      8773     9727     2013-10-02        2013-10-03          \n",
       "5   2947      8775     9729     2013-10-06        2013-10-07          \n",
       "6   2947      8775     9729     2013-10-06        2013-10-07          \n",
       "7   2947      8775     9729     2013-10-06        2013-10-07          \n",
       "8   2947      8775     9729     2013-10-06        2013-10-07          \n",
       "12  3499      8869     9795     2013-12-10        2013-12-11          \n",
       "59  1957      9134    10071     2014-08-12        2014-08-13          \n",
       "72  3486      9287       NA     2014-12-16        2014-12-17          \n",
       "82  3528      9408    10205     2014-12-22        2014-12-23          \n",
       "83  3528      9408    10205     2014-12-22        2014-12-23          \n",
       "96  3759      9683    10335     2015-04-27        2015-04-28          \n",
       "132 4002     10242    10697     2016-01-31        2016-02-01          \n",
       "167  971     10668    10943     2016-08-16        2016-08-17          \n",
       "279 4193     11747    11485     2017-09-28        2017-09-29          \n",
       "310 4424     12097       NA     2018-02-13                            \n",
       "315 4442     12181       NA     2018-03-26                            \n",
       "316 4462     12259       NA     2018-04-22                            \n",
       "317 2991     12320       NA     2018-05-16                            \n",
       "318 4481     12343       NA     2018-05-29                            \n",
       "319 4482     12345       NA     2018-05-29                            \n",
       "320 4484     12357       NA     2018-06-04                            \n",
       "321 4491     12377       NA     2018-06-26                            \n",
       "322 3983     12378       NA     2018-06-26                            \n",
       "323 4493     12381       NA     2018-07-08                            \n",
       "324 3966     12394       NA     2018-07-17                            \n",
       "    current_hist_grade current_hist_type roi.label tumor_cell_evaluation\n",
       "1   Grade IV           Glioblastoma      60B60     1                    \n",
       "5   Grade IV           Glioblastoma      1B61      2                    \n",
       "6   Grade IV           Glioblastoma      2B61      3                    \n",
       "7   Grade IV           Glioblastoma      3B61      2                    \n",
       "8   Grade IV           Glioblastoma      4B61      2                    \n",
       "12  Grade IV           Glioblastoma      68B60     3                    \n",
       "59  Grade III          Oligodendroglioma 15B71                          \n",
       "72  Grade IV           Glioblastoma                                     \n",
       "82  Grade III          Oligodendroglioma 54B75     1                    \n",
       "83  Grade III          Oligodendroglioma 55B75     1                    \n",
       "96  Grade III          Oligodendroglioma 33B77     3                    \n",
       "132 Grade IV           Glioblastoma      4B81      2                    \n",
       "167 Grade III          Oligodendroglioma 38B91                          \n",
       "279 Grade IV           Glioblastoma      11485-4                        \n",
       "310 Grade IV           Glioblastoma                                     \n",
       "315 Grade IV           Glioblastoma                                     \n",
       "316 Grade IV           Glioblastoma                                     \n",
       "317 Grade III          Oligodendroglioma                                \n",
       "318                                                                     \n",
       "319 Grade IV           Gliosarcoma                                      \n",
       "320                                                                     \n",
       "321                                                                     \n",
       "322                                                                     \n",
       "323                                                                     \n",
       "324                                                                     \n",
       "    necrosis mv_hyperplasia f8_delicate f8_simple f8_complex mib_1\n",
       "1    0       0                                                2.01\n",
       "5    0       0                                               34.83\n",
       "6    0       2                                               18.50\n",
       "7    0       0                                               17.50\n",
       "8    0       1                                                8.62\n",
       "12   0       2                                               52.39\n",
       "59  NA                                                          NA\n",
       "72  NA                                                          NA\n",
       "82   0       0                                                1.63\n",
       "83   0       0                                                0.90\n",
       "96   0       2                                               22.13\n",
       "132  0       0                                               10.89\n",
       "167 NA                                                          NA\n",
       "279 NA                                                          NA\n",
       "310 NA                                                          NA\n",
       "315 NA                                                          NA\n",
       "316 NA                                                          NA\n",
       "317 NA                                                          NA\n",
       "318 NA                                                          NA\n",
       "319 NA                                                          NA\n",
       "320 NA                                                          NA\n",
       "321 NA                                                          NA\n",
       "322 NA                                                          NA\n",
       "323 NA                                                          NA\n",
       "324 NA                                                          NA\n",
       "    avgerage_cells bx_pure_treatment_effect percent_tumor_nuclei nfse nfl nt1c\n",
       "1    99            f                         5                   NA   NA  NA  \n",
       "5   364            t                        75                   NA   NA  NA  \n",
       "6   256            f                        95                   NA   NA  NA  \n",
       "7   270            t                        75                   NA   NA  NA  \n",
       "8   203            f                        75                   NA   NA  NA  \n",
       "12  369            f                        95                   NA   NA  NA  \n",
       "59   NA                                     NA                   NA   NA  NA  \n",
       "72   NA                                     NA                   NA   NA  NA  \n",
       "82   73            f                        20                   NA   NA  NA  \n",
       "83  177            f                        10                   NA   NA  NA  \n",
       "96  522            f                        80                   NA   NA  NA  \n",
       "132 315            f                        60                   NA   NA  NA  \n",
       "167  NA                                     NA                   NA   NA  NA  \n",
       "279  NA                                     NA                   NA   NA  NA  \n",
       "310  NA                                     NA                   NA   NA  NA  \n",
       "315  NA                                     NA                   NA   NA  NA  \n",
       "316  NA                                     NA                   NA   NA  NA  \n",
       "317  NA                                     NA                   NA   NA  NA  \n",
       "318  NA                                     NA                   NA   NA  NA  \n",
       "319  NA                                     NA                   NA   NA  NA  \n",
       "320  NA                                     NA                   NA   NA  NA  \n",
       "321  NA                                     NA                   NA   NA  NA  \n",
       "322  NA                                     NA                   NA   NA  NA  \n",
       "323  NA                                     NA                   NA   NA  NA  \n",
       "324  NA                                     NA                   NA   NA  NA  \n",
       "    nt1v nt1d nadc.1 nfa.1 nadc.2 nfa.2 phn_nlin cbvn_nlin recov_nlin phn_npar\n",
       "1   NA   NA     NA     NA  NA     NA      NA       NA          NA       NA    \n",
       "5   NA   NA     NA     NA  NA     NA    3.70     4.88       88.72     3.62    \n",
       "6   NA   NA     NA     NA  NA     NA    3.03     3.82      100.00     2.77    \n",
       "7   NA   NA     NA     NA  NA     NA    1.76     2.57       88.01     1.83    \n",
       "8   NA   NA     NA     NA  NA     NA    2.14     2.17       81.89     2.10    \n",
       "12  NA   NA     NA     NA  NA     NA      NA       NA          NA       NA    \n",
       "59  NA   NA     NA     NA  NA     NA      NA       NA          NA       NA    \n",
       "72  NA   NA     NA     NA  NA     NA      NA       NA          NA       NA    \n",
       "82  NA   NA     NA     NA  NA     NA      NA       NA          NA       NA    \n",
       "83  NA   NA     NA     NA  NA     NA      NA       NA          NA       NA    \n",
       "96  NA   NA     NA     NA  NA     NA      NA       NA          NA       NA    \n",
       "132 NA   NA     NA     NA  NA     NA      NA       NA          NA       NA    \n",
       "167 NA   NA   1.08   2.61  NA     NA    1.04     0.92       75.20     1.12    \n",
       "279 NA   NA     NA     NA  NA     NA      NA       NA          NA       NA    \n",
       "310 NA   NA     NA     NA  NA     NA      NA       NA          NA       NA    \n",
       "315 NA   NA     NA     NA  NA     NA      NA       NA          NA       NA    \n",
       "316 NA   NA     NA     NA  NA     NA      NA       NA          NA       NA    \n",
       "317 NA   NA     NA     NA  NA     NA      NA       NA          NA       NA    \n",
       "318 NA   NA     NA     NA  NA     NA      NA       NA          NA       NA    \n",
       "319 NA   NA     NA     NA  NA     NA      NA       NA          NA       NA    \n",
       "320 NA   NA     NA     NA  NA     NA      NA       NA          NA       NA    \n",
       "321 NA   NA     NA     NA  NA     NA      NA       NA          NA       NA    \n",
       "322 NA   NA     NA     NA  NA     NA      NA       NA          NA       NA    \n",
       "323 NA   NA     NA     NA  NA     NA      NA       NA          NA       NA    \n",
       "324 NA   NA     NA     NA  NA     NA      NA       NA          NA       NA    \n",
       "    recov_npar recovn_npar cni  ccri crni ncho ncre nnaa nlip nlac laclip\n",
       "1       NA         NA        NA   NA   NA   NA   NA   NA  NA   NA   NA   \n",
       "5    93.68     100.00        NA   NA   NA   NA   NA   NA  NA   NA   NA   \n",
       "6   100.00     100.00        NA   NA   NA   NA   NA   NA  NA   NA   NA   \n",
       "7    95.04     100.00        NA   NA   NA   NA   NA   NA  NA   NA   NA   \n",
       "8    87.26     100.00        NA   NA   NA   NA   NA   NA  NA   NA   NA   \n",
       "12      NA         NA      0.00  0.0 0.00 0.00 0.00 0.00 0.0  0.0  0.0   \n",
       "59      NA         NA        NA   NA   NA   NA   NA   NA  NA   NA   NA   \n",
       "72      NA         NA        NA   NA   NA   NA   NA   NA  NA   NA   NA   \n",
       "82      NA         NA        NA   NA   NA   NA   NA   NA  NA   NA   NA   \n",
       "83      NA         NA        NA   NA   NA   NA   NA   NA  NA   NA   NA   \n",
       "96      NA         NA        NA   NA   NA   NA   NA   NA  NA   NA   NA   \n",
       "132     NA         NA        NA   NA   NA   NA   NA   NA  NA   NA   NA   \n",
       "167  73.50      80.41      0.46 -0.3 0.49 0.29 0.36 0.19 0.6  0.6  0.6   \n",
       "279     NA         NA        NA   NA   NA   NA   NA   NA  NA   NA   NA   \n",
       "310     NA         NA        NA   NA   NA   NA   NA   NA  NA   NA   NA   \n",
       "315     NA         NA        NA   NA   NA   NA   NA   NA  NA   NA   NA   \n",
       "316     NA         NA        NA   NA   NA   NA   NA   NA  NA   NA   NA   \n",
       "317     NA         NA        NA   NA   NA   NA   NA   NA  NA   NA   NA   \n",
       "318     NA         NA        NA   NA   NA   NA   NA   NA  NA   NA   NA   \n",
       "319     NA         NA        NA   NA   NA   NA   NA   NA  NA   NA   NA   \n",
       "320     NA         NA        NA   NA   NA   NA   NA   NA  NA   NA   NA   \n",
       "321     NA         NA        NA   NA   NA   NA   NA   NA  NA   NA   NA   \n",
       "322     NA         NA        NA   NA   NA   NA   NA   NA  NA   NA   NA   \n",
       "323     NA         NA        NA   NA   NA   NA   NA   NA  NA   NA   NA   \n",
       "324     NA         NA        NA   NA   NA   NA   NA   NA  NA   NA   NA   \n",
       "    comments                                       notes. imaging_code\n",
       "1                                                  NA     biopsy_quant\n",
       "5                                                  NA     biopsy_quant\n",
       "6                                                  NA     biopsy_quant\n",
       "7                                                  NA     biopsy_quant\n",
       "8                                                  NA     biopsy_quant\n",
       "12  \"POORLY DIFFERENTIATED REGION\"                 NA     biopsy_quant\n",
       "59                                                 NA     biopsy_quant\n",
       "72                                                 NA     biopsy_quant\n",
       "82                                                 NA     biopsy_quant\n",
       "83  \"P and CY appear to have XRT changes to cells\" NA     biopsy_quant\n",
       "96  \"PV tumor as well\"                             NA     biopsy_quant\n",
       "132                                                NA     biopsy_quant\n",
       "167                                                NA     biopsy_quant\n",
       "279                                                NA     biopsy_quant\n",
       "310                                                NA     biopsy_quant\n",
       "315                                                NA     biopsy_quant\n",
       "316                                                NA     biopsy_quant\n",
       "317                                                NA     biopsy_quant\n",
       "318                                                NA     biopsy_quant\n",
       "319                                                NA     biopsy_quant\n",
       "320                                                NA     biopsy_quant\n",
       "321                                                NA     biopsy_quant\n",
       "322                                                NA     biopsy_quant\n",
       "323                                                NA     biopsy_quant\n",
       "324                                                NA     biopsy_quant"
      ]
     },
     "metadata": {},
     "output_type": "display_data"
    }
   ],
   "source": [
    "all_recgli[which(all_recgli$imaging_code == \"biopsy_quant\"), ]"
   ]
  },
  {
   "cell_type": "code",
   "execution_count": 29,
   "metadata": {
    "collapsed": false,
    "deletable": true,
    "editable": true
   },
   "outputs": [],
   "source": [
    "write.csv(all_recgli, \"REC_HGG_Annotation_Oct2018/3rdAnnot_researchPath_withInVivo.csv\", row.names = F)"
   ]
  },
  {
   "cell_type": "markdown",
   "metadata": {
    "deletable": true,
    "editable": true
   },
   "source": [
    "## 4. Substitution of 0's for NA's, Annotate those substitutions, find where quant failed for perf"
   ]
  },
  {
   "cell_type": "markdown",
   "metadata": {
    "deletable": true,
    "editable": true
   },
   "source": [
    "Since 0's mess up averages of different things, and they result from not properly quantitating the imaging parameters, we must eliminate them. However, these are indications of improper biopsy_quant problems, so we must annotate those before labeling them as NA. "
   ]
  },
  {
   "cell_type": "code",
   "execution_count": 32,
   "metadata": {
    "collapsed": true,
    "deletable": true,
    "editable": true
   },
   "outputs": [],
   "source": [
    "recgli = read.csv(\"REC_HGG_Annotation_Oct2018/3rdAnnot_researchPath_withInVivo.csv\")"
   ]
  },
  {
   "cell_type": "markdown",
   "metadata": {
    "deletable": true,
    "editable": true
   },
   "source": [
    "Perfusion: "
   ]
  },
  {
   "cell_type": "code",
   "execution_count": 34,
   "metadata": {
    "collapsed": true
   },
   "outputs": [],
   "source": [
    "recgli = data.frame(recgli, perf_quant = NA )"
   ]
  },
  {
   "cell_type": "code",
   "execution_count": 35,
   "metadata": {
    "collapsed": false
   },
   "outputs": [
    {
     "name": "stdout",
     "output_type": "stream",
     "text": [
      " num [1:324] NA 1.21 1.02 1.29 3.7 3.03 1.76 2.14 1.07 0.9 ...\n"
     ]
    }
   ],
   "source": [
    "str(recgli$phn_nlin)"
   ]
  },
  {
   "cell_type": "code",
   "execution_count": 42,
   "metadata": {
    "collapsed": false,
    "deletable": true,
    "editable": true
   },
   "outputs": [],
   "source": [
    "recgli$perf_quant = ifelse(recgli$phn_nlin > 20, \"extreme_value\", NA)"
   ]
  },
  {
   "cell_type": "code",
   "execution_count": 43,
   "metadata": {
    "collapsed": false,
    "deletable": true,
    "editable": true
   },
   "outputs": [
    {
     "data": {
      "text/plain": [
       "\n",
       "extreme_value \n",
       "            3 "
      ]
     },
     "metadata": {},
     "output_type": "display_data"
    }
   ],
   "source": [
    "table(recgli$perf_quant)"
   ]
  },
  {
   "cell_type": "code",
   "execution_count": 44,
   "metadata": {
    "collapsed": false,
    "deletable": true,
    "editable": true
   },
   "outputs": [],
   "source": [
    "## here we're labeling perf_quant = 1 for those that have all zeros \n",
    "recgli$perf_quant[which(recgli$cbvn_nlin==0 &\n",
    "                      recgli$phn_npar==0 & recgli$recovn_npar==0)] = \"all_zeros\""
   ]
  },
  {
   "cell_type": "code",
   "execution_count": 45,
   "metadata": {
    "collapsed": false,
    "deletable": true,
    "editable": true
   },
   "outputs": [
    {
     "data": {
      "text/plain": [
       "\n",
       "    all_zeros extreme_value \n",
       "           11             3 "
      ]
     },
     "metadata": {},
     "output_type": "display_data"
    }
   ],
   "source": [
    "table(recgli$perf_quant)"
   ]
  },
  {
   "cell_type": "code",
   "execution_count": 46,
   "metadata": {
    "collapsed": false,
    "deletable": true,
    "editable": true
   },
   "outputs": [],
   "source": [
    "## Now we want to substitute zero's for NAs where perf_quant has string value: \n",
    "recgli$phn_nlin = ifelse(!is.na(recgli$perf_quant), NA, recgli$phn_nlin)"
   ]
  },
  {
   "cell_type": "markdown",
   "metadata": {
    "collapsed": true,
    "deletable": true,
    "editable": true
   },
   "source": [
    "Spectroscopy: "
   ]
  },
  {
   "cell_type": "code",
   "execution_count": 47,
   "metadata": {
    "collapsed": true,
    "deletable": true,
    "editable": true
   },
   "outputs": [],
   "source": [
    "recgli = data.frame(recgli, spec_quant = NA)"
   ]
  },
  {
   "cell_type": "code",
   "execution_count": 48,
   "metadata": {
    "collapsed": false,
    "deletable": true,
    "editable": true
   },
   "outputs": [
    {
     "data": {
      "text/plain": [
       "\n",
       "all_zeros \n",
       "       39 "
      ]
     },
     "metadata": {},
     "output_type": "display_data"
    },
    {
     "data": {
      "text/plain": [
       "\n",
       "FALSE  TRUE \n",
       "   39   285 "
      ]
     },
     "metadata": {},
     "output_type": "display_data"
    }
   ],
   "source": [
    "## here we're labeling perf_quant = 1 for those that have all zeros \n",
    "recgli$spec_quant = ifelse(recgli$cni==0 &\n",
    "                      recgli$ccri==0 & recgli$nnaa==0 & \n",
    "                           recgli$ncho ==0 & recgli$ncre ==0, \"all_zeros\",NA)\n",
    "table(recgli$spec_quant)\n",
    "table(is.na(recgli$spec_quant))"
   ]
  },
  {
   "cell_type": "code",
   "execution_count": 49,
   "metadata": {
    "collapsed": true,
    "deletable": true,
    "editable": true
   },
   "outputs": [],
   "source": [
    "recgli$cni[which(recgli$spec_quant==\"all_zeros\")]=NA\n",
    "recgli$ccri[which(recgli$spec_quant==\"all_zeros\")]=NA\n",
    "recgli$crni[which(recgli$spec_quant==\"all_zeros\")]=NA\n",
    "recgli$ncho[which(recgli$spec_quant==\"all_zeros\")]=NA\n",
    "recgli$ncre[which(recgli$spec_quant==\"all_zeros\")]=NA\n",
    "recgli$nnaa[which(recgli$spec_quant==\"all_zeros\")]=NA\n",
    "recgli$nlac[which(recgli$spec_quant==\"all_zeros\")]=NA\n",
    "recgli$nlip[which(recgli$spec_quant==\"all_zeros\")]=NA\n",
    "recgli$laclip[which(recgli$spec_quant==\"all_zeros\")]=NA"
   ]
  },
  {
   "cell_type": "code",
   "execution_count": 50,
   "metadata": {
    "collapsed": true,
    "deletable": true,
    "editable": true
   },
   "outputs": [],
   "source": [
    "## We also want to know - how many of these had all biopsies fail per patient, \n",
    "## versus how many have individual biopsies that fail next to biopsies whose quantification succeeded? \n",
    "\n",
    "## NOTE: Follow up with this later. "
   ]
  },
  {
   "cell_type": "code",
   "execution_count": 51,
   "metadata": {
    "collapsed": true,
    "deletable": true,
    "editable": true
   },
   "outputs": [],
   "source": [
    "write.csv(recgli, file = \"REC_HGG_Annotation_Oct2018/4thAnnot_researchPath_withInVivo.csv\", row.names=F)"
   ]
  },
  {
   "cell_type": "code",
   "execution_count": 52,
   "metadata": {
    "collapsed": false,
    "deletable": true,
    "editable": true
   },
   "outputs": [
    {
     "data": {
      "text/html": [
       "<table>\n",
       "<thead><tr><th scope=col>index</th><th scope=col>colnames</th></tr></thead>\n",
       "<tbody>\n",
       "\t<tr><td> 1                      </td><td>b_number                </td></tr>\n",
       "\t<tr><td> 2                      </td><td>t_number                </td></tr>\n",
       "\t<tr><td> 3                      </td><td>sf_number               </td></tr>\n",
       "\t<tr><td> 4                      </td><td>current_scan_date       </td></tr>\n",
       "\t<tr><td> 5                      </td><td>current_surgery_date    </td></tr>\n",
       "\t<tr><td> 6                      </td><td>current_hist_grade      </td></tr>\n",
       "\t<tr><td> 7                      </td><td>current_hist_type       </td></tr>\n",
       "\t<tr><td> 8                      </td><td>roi.label               </td></tr>\n",
       "\t<tr><td> 9                      </td><td>tumor_cell_evaluation   </td></tr>\n",
       "\t<tr><td>10                      </td><td>necrosis                </td></tr>\n",
       "\t<tr><td>11                      </td><td>mv_hyperplasia          </td></tr>\n",
       "\t<tr><td>12                      </td><td>f8_delicate             </td></tr>\n",
       "\t<tr><td>13                      </td><td>f8_simple               </td></tr>\n",
       "\t<tr><td>14                      </td><td>f8_complex              </td></tr>\n",
       "\t<tr><td>15                      </td><td>mib_1                   </td></tr>\n",
       "\t<tr><td>16                      </td><td>avgerage_cells          </td></tr>\n",
       "\t<tr><td>17                      </td><td>bx_pure_treatment_effect</td></tr>\n",
       "\t<tr><td>18                      </td><td>percent_tumor_nuclei    </td></tr>\n",
       "\t<tr><td>19                      </td><td>nfse                    </td></tr>\n",
       "\t<tr><td>20                      </td><td>nfl                     </td></tr>\n",
       "\t<tr><td>21                      </td><td>nt1c                    </td></tr>\n",
       "\t<tr><td>22                      </td><td>nt1v                    </td></tr>\n",
       "\t<tr><td>23                      </td><td>nt1d                    </td></tr>\n",
       "\t<tr><td>24                      </td><td>nadc.1                  </td></tr>\n",
       "\t<tr><td>25                      </td><td>nfa.1                   </td></tr>\n",
       "\t<tr><td>26                      </td><td>nadc.2                  </td></tr>\n",
       "\t<tr><td>27                      </td><td>nfa.2                   </td></tr>\n",
       "\t<tr><td>28                      </td><td>phn_nlin                </td></tr>\n",
       "\t<tr><td>29                      </td><td>cbvn_nlin               </td></tr>\n",
       "\t<tr><td>30                      </td><td>recov_nlin              </td></tr>\n",
       "\t<tr><td>31                      </td><td>phn_npar                </td></tr>\n",
       "\t<tr><td>32                      </td><td>recov_npar              </td></tr>\n",
       "\t<tr><td>33                      </td><td>recovn_npar             </td></tr>\n",
       "\t<tr><td>34                      </td><td>cni                     </td></tr>\n",
       "\t<tr><td>35                      </td><td>ccri                    </td></tr>\n",
       "\t<tr><td>36                      </td><td>crni                    </td></tr>\n",
       "\t<tr><td>37                      </td><td>ncho                    </td></tr>\n",
       "\t<tr><td>38                      </td><td>ncre                    </td></tr>\n",
       "\t<tr><td>39                      </td><td>nnaa                    </td></tr>\n",
       "\t<tr><td>40                      </td><td>nlip                    </td></tr>\n",
       "\t<tr><td>41                      </td><td>nlac                    </td></tr>\n",
       "\t<tr><td>42                      </td><td>laclip                  </td></tr>\n",
       "\t<tr><td>43                      </td><td>comments                </td></tr>\n",
       "\t<tr><td>44                      </td><td>notes.                  </td></tr>\n",
       "\t<tr><td>45                      </td><td>imaging_code            </td></tr>\n",
       "\t<tr><td>46                      </td><td>perf_quant              </td></tr>\n",
       "\t<tr><td>47                      </td><td>spec_quant              </td></tr>\n",
       "</tbody>\n",
       "</table>\n"
      ],
      "text/latex": [
       "\\begin{tabular}{r|ll}\n",
       " index & colnames\\\\\n",
       "\\hline\n",
       "\t  1                         & b\\_number                \\\\\n",
       "\t  2                         & t\\_number                \\\\\n",
       "\t  3                         & sf\\_number               \\\\\n",
       "\t  4                           & current\\_scan\\_date       \\\\\n",
       "\t  5                           & current\\_surgery\\_date    \\\\\n",
       "\t  6                           & current\\_hist\\_grade      \\\\\n",
       "\t  7                           & current\\_hist\\_type       \\\\\n",
       "\t  8                       & roi.label               \\\\\n",
       "\t  9                           & tumor\\_cell\\_evaluation   \\\\\n",
       "\t 10                       & necrosis                \\\\\n",
       "\t 11                         & mv\\_hyperplasia          \\\\\n",
       "\t 12                         & f8\\_delicate             \\\\\n",
       "\t 13                         & f8\\_simple               \\\\\n",
       "\t 14                         & f8\\_complex              \\\\\n",
       "\t 15                         & mib\\_1                   \\\\\n",
       "\t 16                         & avgerage\\_cells          \\\\\n",
       "\t 17                             & bx\\_pure\\_treatment\\_effect\\\\\n",
       "\t 18                           & percent\\_tumor\\_nuclei    \\\\\n",
       "\t 19                       & nfse                    \\\\\n",
       "\t 20                       & nfl                     \\\\\n",
       "\t 21                       & nt1c                    \\\\\n",
       "\t 22                       & nt1v                    \\\\\n",
       "\t 23                       & nt1d                    \\\\\n",
       "\t 24                       & nadc.1                  \\\\\n",
       "\t 25                       & nfa.1                   \\\\\n",
       "\t 26                       & nadc.2                  \\\\\n",
       "\t 27                       & nfa.2                   \\\\\n",
       "\t 28                         & phn\\_nlin                \\\\\n",
       "\t 29                         & cbvn\\_nlin               \\\\\n",
       "\t 30                         & recov\\_nlin              \\\\\n",
       "\t 31                         & phn\\_npar                \\\\\n",
       "\t 32                         & recov\\_npar              \\\\\n",
       "\t 33                         & recovn\\_npar             \\\\\n",
       "\t 34                       & cni                     \\\\\n",
       "\t 35                       & ccri                    \\\\\n",
       "\t 36                       & crni                    \\\\\n",
       "\t 37                       & ncho                    \\\\\n",
       "\t 38                       & ncre                    \\\\\n",
       "\t 39                       & nnaa                    \\\\\n",
       "\t 40                       & nlip                    \\\\\n",
       "\t 41                       & nlac                    \\\\\n",
       "\t 42                       & laclip                  \\\\\n",
       "\t 43                       & comments                \\\\\n",
       "\t 44                       & notes.                  \\\\\n",
       "\t 45                         & imaging\\_code            \\\\\n",
       "\t 46                         & perf\\_quant              \\\\\n",
       "\t 47                         & spec\\_quant              \\\\\n",
       "\\end{tabular}\n"
      ],
      "text/markdown": [
       "\n",
       "index | colnames | \n",
       "|---|---|---|---|---|---|---|---|---|---|---|---|---|---|---|---|---|---|---|---|---|---|---|---|---|---|---|---|---|---|---|---|---|---|---|---|---|---|---|---|---|---|---|---|---|---|---|\n",
       "|  1                       | b_number                 | \n",
       "|  2                       | t_number                 | \n",
       "|  3                       | sf_number                | \n",
       "|  4                       | current_scan_date        | \n",
       "|  5                       | current_surgery_date     | \n",
       "|  6                       | current_hist_grade       | \n",
       "|  7                       | current_hist_type        | \n",
       "|  8                       | roi.label                | \n",
       "|  9                       | tumor_cell_evaluation    | \n",
       "| 10                       | necrosis                 | \n",
       "| 11                       | mv_hyperplasia           | \n",
       "| 12                       | f8_delicate              | \n",
       "| 13                       | f8_simple                | \n",
       "| 14                       | f8_complex               | \n",
       "| 15                       | mib_1                    | \n",
       "| 16                       | avgerage_cells           | \n",
       "| 17                       | bx_pure_treatment_effect | \n",
       "| 18                       | percent_tumor_nuclei     | \n",
       "| 19                       | nfse                     | \n",
       "| 20                       | nfl                      | \n",
       "| 21                       | nt1c                     | \n",
       "| 22                       | nt1v                     | \n",
       "| 23                       | nt1d                     | \n",
       "| 24                       | nadc.1                   | \n",
       "| 25                       | nfa.1                    | \n",
       "| 26                       | nadc.2                   | \n",
       "| 27                       | nfa.2                    | \n",
       "| 28                       | phn_nlin                 | \n",
       "| 29                       | cbvn_nlin                | \n",
       "| 30                       | recov_nlin               | \n",
       "| 31                       | phn_npar                 | \n",
       "| 32                       | recov_npar               | \n",
       "| 33                       | recovn_npar              | \n",
       "| 34                       | cni                      | \n",
       "| 35                       | ccri                     | \n",
       "| 36                       | crni                     | \n",
       "| 37                       | ncho                     | \n",
       "| 38                       | ncre                     | \n",
       "| 39                       | nnaa                     | \n",
       "| 40                       | nlip                     | \n",
       "| 41                       | nlac                     | \n",
       "| 42                       | laclip                   | \n",
       "| 43                       | comments                 | \n",
       "| 44                       | notes.                   | \n",
       "| 45                       | imaging_code             | \n",
       "| 46                       | perf_quant               | \n",
       "| 47                       | spec_quant               | \n",
       "\n",
       "\n"
      ],
      "text/plain": [
       "   index colnames                \n",
       "1   1    b_number                \n",
       "2   2    t_number                \n",
       "3   3    sf_number               \n",
       "4   4    current_scan_date       \n",
       "5   5    current_surgery_date    \n",
       "6   6    current_hist_grade      \n",
       "7   7    current_hist_type       \n",
       "8   8    roi.label               \n",
       "9   9    tumor_cell_evaluation   \n",
       "10 10    necrosis                \n",
       "11 11    mv_hyperplasia          \n",
       "12 12    f8_delicate             \n",
       "13 13    f8_simple               \n",
       "14 14    f8_complex              \n",
       "15 15    mib_1                   \n",
       "16 16    avgerage_cells          \n",
       "17 17    bx_pure_treatment_effect\n",
       "18 18    percent_tumor_nuclei    \n",
       "19 19    nfse                    \n",
       "20 20    nfl                     \n",
       "21 21    nt1c                    \n",
       "22 22    nt1v                    \n",
       "23 23    nt1d                    \n",
       "24 24    nadc.1                  \n",
       "25 25    nfa.1                   \n",
       "26 26    nadc.2                  \n",
       "27 27    nfa.2                   \n",
       "28 28    phn_nlin                \n",
       "29 29    cbvn_nlin               \n",
       "30 30    recov_nlin              \n",
       "31 31    phn_npar                \n",
       "32 32    recov_npar              \n",
       "33 33    recovn_npar             \n",
       "34 34    cni                     \n",
       "35 35    ccri                    \n",
       "36 36    crni                    \n",
       "37 37    ncho                    \n",
       "38 38    ncre                    \n",
       "39 39    nnaa                    \n",
       "40 40    nlip                    \n",
       "41 41    nlac                    \n",
       "42 42    laclip                  \n",
       "43 43    comments                \n",
       "44 44    notes.                  \n",
       "45 45    imaging_code            \n",
       "46 46    perf_quant              \n",
       "47 47    spec_quant              "
      ]
     },
     "metadata": {},
     "output_type": "display_data"
    }
   ],
   "source": [
    "data.frame(index = 1:length(colnames(recgli)), colnames = colnames(recgli))"
   ]
  },
  {
   "cell_type": "markdown",
   "metadata": {
    "deletable": true,
    "editable": true
   },
   "source": [
    "## 5. Annotate with inclusion binary codes: "
   ]
  },
  {
   "cell_type": "code",
   "execution_count": 53,
   "metadata": {
    "collapsed": false,
    "deletable": true,
    "editable": true
   },
   "outputs": [
    {
     "data": {
      "text/html": [
       "<ol class=list-inline>\n",
       "\t<li>324</li>\n",
       "\t<li>47</li>\n",
       "</ol>\n"
      ],
      "text/latex": [
       "\\begin{enumerate*}\n",
       "\\item 324\n",
       "\\item 47\n",
       "\\end{enumerate*}\n"
      ],
      "text/markdown": [
       "1. 324\n",
       "2. 47\n",
       "\n",
       "\n"
      ],
      "text/plain": [
       "[1] 324  47"
      ]
     },
     "metadata": {},
     "output_type": "display_data"
    }
   ],
   "source": [
    "all_recgli = read.csv(\"REC_HGG_Annotation_Oct2018/4thAnnot_researchPath_withInVivo.csv\")\n",
    "dim(all_recgli)"
   ]
  },
  {
   "cell_type": "code",
   "execution_count": 54,
   "metadata": {
    "collapsed": false,
    "deletable": true,
    "editable": true
   },
   "outputs": [
    {
     "data": {
      "text/html": [
       "<ol class=list-inline>\n",
       "\t<li>270</li>\n",
       "\t<li>47</li>\n",
       "</ol>\n"
      ],
      "text/latex": [
       "\\begin{enumerate*}\n",
       "\\item 270\n",
       "\\item 47\n",
       "\\end{enumerate*}\n"
      ],
      "text/markdown": [
       "1. 270\n",
       "2. 47\n",
       "\n",
       "\n"
      ],
      "text/plain": [
       "[1] 270  47"
      ]
     },
     "metadata": {},
     "output_type": "display_data"
    },
    {
     "data": {
      "text/plain": [
       "\n",
       "FALSE \n",
       "  270 "
      ]
     },
     "metadata": {},
     "output_type": "display_data"
    }
   ],
   "source": [
    "## now want to add binary operators of whether to include them \n",
    "imaging_issue = ifelse(is.na(all_recgli$imaging_code), 0, 1)\n",
    "dim(all_recgli[imaging_issue==0,])\n",
    "# [1] 527  50\n",
    "table(is.na(all_recgli$nfse[imaging_issue==0]))"
   ]
  },
  {
   "cell_type": "code",
   "execution_count": 55,
   "metadata": {
    "collapsed": false,
    "deletable": true,
    "editable": true
   },
   "outputs": [],
   "source": [
    "# FALSE 527\n",
    "## so similar to our old data frame\n",
    "include_anat = ifelse(is.na(all_recgli$nfse), 0, 1)\n",
    "include_diffu1000 = ifelse(is.na(all_recgli$nadc.1) & is.na(all_recgli$nfa.1), 0, 1)\n",
    "include_diffu2000 = ifelse(is.na(all_recgli$nadc.2) & is.na(all_recgli$nfa.2), 0, 1)\n",
    "include_diffu_all = ifelse(include_diffu1000 == 1 | include_diffu2000 ==1, 1, 0)\n",
    "include_perf = ifelse(grepl(\"[[:alpha:]]\", all_recgli$perf_quant), 0, 1)\n",
    "include_spec = ifelse(is.na(all_recgli$cni), 0, 1)"
   ]
  },
  {
   "cell_type": "code",
   "execution_count": 56,
   "metadata": {
    "collapsed": false,
    "deletable": true,
    "editable": true
   },
   "outputs": [
    {
     "data": {
      "text/plain": [
       "include_one_advanced_mod\n",
       "  0   1 \n",
       " 54 270 "
      ]
     },
     "metadata": {},
     "output_type": "display_data"
    },
    {
     "data": {
      "text/plain": [
       "include_all_advanced_mods\n",
       "  0   1 \n",
       "154 170 "
      ]
     },
     "metadata": {},
     "output_type": "display_data"
    }
   ],
   "source": [
    "all_recgli.withbin = data.frame(all_recgli, include_anat=include_anat, include_diffu1000=include_diffu1000, \n",
    "                            include_diffu2000 = include_diffu2000, include_diffu_all = include_diffu_all, \n",
    "                            include_perf = include_perf, include_spec = include_spec)\n",
    "all_recgli = all_recgli.withbin\n",
    "\n",
    "one_advanced_mod = ifelse(include_diffu_all ==1 | include_perf == 1 | include_spec ==1, 1, 0)\n",
    "include_one_advanced_mod = ifelse(include_anat == 1 & (include_diffu_all ==1 | include_perf == 1 | include_spec ==1) , 1, 0)\n",
    "table(include_one_advanced_mod)\n",
    "#   0   1 \n",
    "# 118  521\n",
    "all_recgli = data.frame(all_recgli, include_one_advanced_mod)\n",
    "include_all_advanced_mods = ifelse(include_anat ==1 & include_diffu_all ==1 & include_perf == 1 & include_spec, 1, 0)\n",
    "table(include_all_advanced_mods)\n",
    "#  0   1 \n",
    "# 445 194\n",
    "all_recgli = data.frame(all_recgli, include_all_advanced_mods)"
   ]
  },
  {
   "cell_type": "code",
   "execution_count": 57,
   "metadata": {
    "collapsed": true,
    "deletable": true,
    "editable": true
   },
   "outputs": [],
   "source": [
    "write.csv(all_recgli, \"REC_HGG_Annotation_Oct2018/5thAnnot_researchPath_withInVivoData.csv\", row.names = F)\n",
    "\n",
    "write.csv(all_recgli[all_recgli$tumor_cell_evaluation==\"\", c(\"t_number\", \"roi.label\", \"notes.\")],file = \"path_to_joanna.csv\")"
   ]
  },
  {
   "cell_type": "markdown",
   "metadata": {
    "collapsed": true,
    "deletable": true,
    "editable": true
   },
   "source": [
    "## 6. Imputing b1000 data from b2000 data:"
   ]
  },
  {
   "cell_type": "code",
   "execution_count": 58,
   "metadata": {
    "collapsed": false,
    "deletable": true,
    "editable": true
   },
   "outputs": [
    {
     "data": {
      "text/html": [
       "<ol class=list-inline>\n",
       "\t<li>324</li>\n",
       "\t<li>55</li>\n",
       "</ol>\n"
      ],
      "text/latex": [
       "\\begin{enumerate*}\n",
       "\\item 324\n",
       "\\item 55\n",
       "\\end{enumerate*}\n"
      ],
      "text/markdown": [
       "1. 324\n",
       "2. 55\n",
       "\n",
       "\n"
      ],
      "text/plain": [
       "[1] 324  55"
      ]
     },
     "metadata": {},
     "output_type": "display_data"
    }
   ],
   "source": [
    "recgli = read.csv(\"REC_HGG_Annotation_Oct2018/5thAnnot_researchPath_withInVivoData.csv\")\n",
    "dim(recgli)"
   ]
  },
  {
   "cell_type": "code",
   "execution_count": 59,
   "metadata": {
    "collapsed": false,
    "deletable": true,
    "editable": true
   },
   "outputs": [
    {
     "data": {
      "text/html": [
       "<dl class=dl-horizontal>\n",
       "\t<dt>b_number</dt>\n",
       "\t\t<dd>0</dd>\n",
       "\t<dt>t_number</dt>\n",
       "\t\t<dd>0</dd>\n",
       "\t<dt>sf_number</dt>\n",
       "\t\t<dd>25</dd>\n",
       "\t<dt>current_scan_date</dt>\n",
       "\t\t<dd>0</dd>\n",
       "\t<dt>current_surgery_date</dt>\n",
       "\t\t<dd>0</dd>\n",
       "\t<dt>current_hist_grade</dt>\n",
       "\t\t<dd>0</dd>\n",
       "\t<dt>current_hist_type</dt>\n",
       "\t\t<dd>0</dd>\n",
       "\t<dt>roi.label</dt>\n",
       "\t\t<dd>0</dd>\n",
       "\t<dt>tumor_cell_evaluation</dt>\n",
       "\t\t<dd>0</dd>\n",
       "\t<dt>necrosis</dt>\n",
       "\t\t<dd>95</dd>\n",
       "\t<dt>mv_hyperplasia</dt>\n",
       "\t\t<dd>0</dd>\n",
       "\t<dt>f8_delicate</dt>\n",
       "\t\t<dd>0</dd>\n",
       "\t<dt>f8_simple</dt>\n",
       "\t\t<dd>0</dd>\n",
       "\t<dt>f8_complex</dt>\n",
       "\t\t<dd>0</dd>\n",
       "\t<dt>mib_1</dt>\n",
       "\t\t<dd>105</dd>\n",
       "\t<dt>avgerage_cells</dt>\n",
       "\t\t<dd>110</dd>\n",
       "\t<dt>bx_pure_treatment_effect</dt>\n",
       "\t\t<dd>0</dd>\n",
       "\t<dt>percent_tumor_nuclei</dt>\n",
       "\t\t<dd>103</dd>\n",
       "\t<dt>nfse</dt>\n",
       "\t\t<dd>54</dd>\n",
       "\t<dt>nfl</dt>\n",
       "\t\t<dd>54</dd>\n",
       "\t<dt>nt1c</dt>\n",
       "\t\t<dd>54</dd>\n",
       "\t<dt>nt1v</dt>\n",
       "\t\t<dd>81</dd>\n",
       "\t<dt>nt1d</dt>\n",
       "\t\t<dd>81</dd>\n",
       "\t<dt>nadc.1</dt>\n",
       "\t\t<dd>109</dd>\n",
       "\t<dt>nfa.1</dt>\n",
       "\t\t<dd>109</dd>\n",
       "\t<dt>nadc.2</dt>\n",
       "\t\t<dd>61</dd>\n",
       "\t<dt>nfa.2</dt>\n",
       "\t\t<dd>61</dd>\n",
       "\t<dt>phn_nlin</dt>\n",
       "\t\t<dd>162</dd>\n",
       "\t<dt>cbvn_nlin</dt>\n",
       "\t\t<dd>148</dd>\n",
       "\t<dt>recov_nlin</dt>\n",
       "\t\t<dd>148</dd>\n",
       "\t<dt>phn_npar</dt>\n",
       "\t\t<dd>148</dd>\n",
       "\t<dt>recov_npar</dt>\n",
       "\t\t<dd>148</dd>\n",
       "\t<dt>recovn_npar</dt>\n",
       "\t\t<dd>148</dd>\n",
       "\t<dt>cni</dt>\n",
       "\t\t<dd>145</dd>\n",
       "\t<dt>ccri</dt>\n",
       "\t\t<dd>145</dd>\n",
       "\t<dt>crni</dt>\n",
       "\t\t<dd>145</dd>\n",
       "\t<dt>ncho</dt>\n",
       "\t\t<dd>145</dd>\n",
       "\t<dt>ncre</dt>\n",
       "\t\t<dd>145</dd>\n",
       "\t<dt>nnaa</dt>\n",
       "\t\t<dd>145</dd>\n",
       "\t<dt>nlip</dt>\n",
       "\t\t<dd>145</dd>\n",
       "\t<dt>nlac</dt>\n",
       "\t\t<dd>145</dd>\n",
       "\t<dt>laclip</dt>\n",
       "\t\t<dd>145</dd>\n",
       "\t<dt>comments</dt>\n",
       "\t\t<dd>3</dd>\n",
       "\t<dt>notes.</dt>\n",
       "\t\t<dd>254</dd>\n",
       "\t<dt>imaging_code</dt>\n",
       "\t\t<dd>270</dd>\n",
       "\t<dt>perf_quant</dt>\n",
       "\t\t<dd>310</dd>\n",
       "\t<dt>spec_quant</dt>\n",
       "\t\t<dd>285</dd>\n",
       "\t<dt>include_anat</dt>\n",
       "\t\t<dd>0</dd>\n",
       "\t<dt>include_diffu1000</dt>\n",
       "\t\t<dd>0</dd>\n",
       "\t<dt>include_diffu2000</dt>\n",
       "\t\t<dd>0</dd>\n",
       "\t<dt>include_diffu_all</dt>\n",
       "\t\t<dd>0</dd>\n",
       "\t<dt>include_perf</dt>\n",
       "\t\t<dd>0</dd>\n",
       "\t<dt>include_spec</dt>\n",
       "\t\t<dd>0</dd>\n",
       "\t<dt>include_one_advanced_mod</dt>\n",
       "\t\t<dd>0</dd>\n",
       "\t<dt>include_all_advanced_mods</dt>\n",
       "\t\t<dd>0</dd>\n",
       "</dl>\n"
      ],
      "text/latex": [
       "\\begin{description*}\n",
       "\\item[b\\textbackslash{}\\_number] 0\n",
       "\\item[t\\textbackslash{}\\_number] 0\n",
       "\\item[sf\\textbackslash{}\\_number] 25\n",
       "\\item[current\\textbackslash{}\\_scan\\textbackslash{}\\_date] 0\n",
       "\\item[current\\textbackslash{}\\_surgery\\textbackslash{}\\_date] 0\n",
       "\\item[current\\textbackslash{}\\_hist\\textbackslash{}\\_grade] 0\n",
       "\\item[current\\textbackslash{}\\_hist\\textbackslash{}\\_type] 0\n",
       "\\item[roi.label] 0\n",
       "\\item[tumor\\textbackslash{}\\_cell\\textbackslash{}\\_evaluation] 0\n",
       "\\item[necrosis] 95\n",
       "\\item[mv\\textbackslash{}\\_hyperplasia] 0\n",
       "\\item[f8\\textbackslash{}\\_delicate] 0\n",
       "\\item[f8\\textbackslash{}\\_simple] 0\n",
       "\\item[f8\\textbackslash{}\\_complex] 0\n",
       "\\item[mib\\textbackslash{}\\_1] 105\n",
       "\\item[avgerage\\textbackslash{}\\_cells] 110\n",
       "\\item[bx\\textbackslash{}\\_pure\\textbackslash{}\\_treatment\\textbackslash{}\\_effect] 0\n",
       "\\item[percent\\textbackslash{}\\_tumor\\textbackslash{}\\_nuclei] 103\n",
       "\\item[nfse] 54\n",
       "\\item[nfl] 54\n",
       "\\item[nt1c] 54\n",
       "\\item[nt1v] 81\n",
       "\\item[nt1d] 81\n",
       "\\item[nadc.1] 109\n",
       "\\item[nfa.1] 109\n",
       "\\item[nadc.2] 61\n",
       "\\item[nfa.2] 61\n",
       "\\item[phn\\textbackslash{}\\_nlin] 162\n",
       "\\item[cbvn\\textbackslash{}\\_nlin] 148\n",
       "\\item[recov\\textbackslash{}\\_nlin] 148\n",
       "\\item[phn\\textbackslash{}\\_npar] 148\n",
       "\\item[recov\\textbackslash{}\\_npar] 148\n",
       "\\item[recovn\\textbackslash{}\\_npar] 148\n",
       "\\item[cni] 145\n",
       "\\item[ccri] 145\n",
       "\\item[crni] 145\n",
       "\\item[ncho] 145\n",
       "\\item[ncre] 145\n",
       "\\item[nnaa] 145\n",
       "\\item[nlip] 145\n",
       "\\item[nlac] 145\n",
       "\\item[laclip] 145\n",
       "\\item[comments] 3\n",
       "\\item[notes.] 254\n",
       "\\item[imaging\\textbackslash{}\\_code] 270\n",
       "\\item[perf\\textbackslash{}\\_quant] 310\n",
       "\\item[spec\\textbackslash{}\\_quant] 285\n",
       "\\item[include\\textbackslash{}\\_anat] 0\n",
       "\\item[include\\textbackslash{}\\_diffu1000] 0\n",
       "\\item[include\\textbackslash{}\\_diffu2000] 0\n",
       "\\item[include\\textbackslash{}\\_diffu\\textbackslash{}\\_all] 0\n",
       "\\item[include\\textbackslash{}\\_perf] 0\n",
       "\\item[include\\textbackslash{}\\_spec] 0\n",
       "\\item[include\\textbackslash{}\\_one\\textbackslash{}\\_advanced\\textbackslash{}\\_mod] 0\n",
       "\\item[include\\textbackslash{}\\_all\\textbackslash{}\\_advanced\\textbackslash{}\\_mods] 0\n",
       "\\end{description*}\n"
      ],
      "text/markdown": [
       "b_number\n",
       ":   0t_number\n",
       ":   0sf_number\n",
       ":   25current_scan_date\n",
       ":   0current_surgery_date\n",
       ":   0current_hist_grade\n",
       ":   0current_hist_type\n",
       ":   0roi.label\n",
       ":   0tumor_cell_evaluation\n",
       ":   0necrosis\n",
       ":   95mv_hyperplasia\n",
       ":   0f8_delicate\n",
       ":   0f8_simple\n",
       ":   0f8_complex\n",
       ":   0mib_1\n",
       ":   105avgerage_cells\n",
       ":   110bx_pure_treatment_effect\n",
       ":   0percent_tumor_nuclei\n",
       ":   103nfse\n",
       ":   54nfl\n",
       ":   54nt1c\n",
       ":   54nt1v\n",
       ":   81nt1d\n",
       ":   81nadc.1\n",
       ":   109nfa.1\n",
       ":   109nadc.2\n",
       ":   61nfa.2\n",
       ":   61phn_nlin\n",
       ":   162cbvn_nlin\n",
       ":   148recov_nlin\n",
       ":   148phn_npar\n",
       ":   148recov_npar\n",
       ":   148recovn_npar\n",
       ":   148cni\n",
       ":   145ccri\n",
       ":   145crni\n",
       ":   145ncho\n",
       ":   145ncre\n",
       ":   145nnaa\n",
       ":   145nlip\n",
       ":   145nlac\n",
       ":   145laclip\n",
       ":   145comments\n",
       ":   3notes.\n",
       ":   254imaging_code\n",
       ":   270perf_quant\n",
       ":   310spec_quant\n",
       ":   285include_anat\n",
       ":   0include_diffu1000\n",
       ":   0include_diffu2000\n",
       ":   0include_diffu_all\n",
       ":   0include_perf\n",
       ":   0include_spec\n",
       ":   0include_one_advanced_mod\n",
       ":   0include_all_advanced_mods\n",
       ":   0\n",
       "\n"
      ],
      "text/plain": [
       "                 b_number                  t_number                 sf_number \n",
       "                        0                         0                        25 \n",
       "        current_scan_date      current_surgery_date        current_hist_grade \n",
       "                        0                         0                         0 \n",
       "        current_hist_type                 roi.label     tumor_cell_evaluation \n",
       "                        0                         0                         0 \n",
       "                 necrosis            mv_hyperplasia               f8_delicate \n",
       "                       95                         0                         0 \n",
       "                f8_simple                f8_complex                     mib_1 \n",
       "                        0                         0                       105 \n",
       "           avgerage_cells  bx_pure_treatment_effect      percent_tumor_nuclei \n",
       "                      110                         0                       103 \n",
       "                     nfse                       nfl                      nt1c \n",
       "                       54                        54                        54 \n",
       "                     nt1v                      nt1d                    nadc.1 \n",
       "                       81                        81                       109 \n",
       "                    nfa.1                    nadc.2                     nfa.2 \n",
       "                      109                        61                        61 \n",
       "                 phn_nlin                 cbvn_nlin                recov_nlin \n",
       "                      162                       148                       148 \n",
       "                 phn_npar                recov_npar               recovn_npar \n",
       "                      148                       148                       148 \n",
       "                      cni                      ccri                      crni \n",
       "                      145                       145                       145 \n",
       "                     ncho                      ncre                      nnaa \n",
       "                      145                       145                       145 \n",
       "                     nlip                      nlac                    laclip \n",
       "                      145                       145                       145 \n",
       "                 comments                    notes.              imaging_code \n",
       "                        3                       254                       270 \n",
       "               perf_quant                spec_quant              include_anat \n",
       "                      310                       285                         0 \n",
       "        include_diffu1000         include_diffu2000         include_diffu_all \n",
       "                        0                         0                         0 \n",
       "             include_perf              include_spec  include_one_advanced_mod \n",
       "                        0                         0                         0 \n",
       "include_all_advanced_mods \n",
       "                        0 "
      ]
     },
     "metadata": {},
     "output_type": "display_data"
    }
   ],
   "source": [
    "colSums(is.na(recgli))"
   ]
  },
  {
   "cell_type": "code",
   "execution_count": 60,
   "metadata": {
    "collapsed": false,
    "deletable": true,
    "editable": true
   },
   "outputs": [
    {
     "data": {
      "image/png": "[encoded data removed]",
      "text/plain": [
       "plot without title"
      ]
     },
     "metadata": {},
     "output_type": "display_data"
    }
   ],
   "source": [
    "plot(recgli$nadc.1, recgli$nadc.2)"
   ]
  },
  {
   "cell_type": "markdown",
   "metadata": {
    "deletable": true,
    "editable": true
   },
   "source": [
    "We want to create the most accurate linear approximation as possible, so we must remove the points for which it is clear that b=2000 quantification output a zero when it should have output a different number: "
   ]
  },
  {
   "cell_type": "code",
   "execution_count": 61,
   "metadata": {
    "collapsed": false,
    "deletable": true,
    "editable": true
   },
   "outputs": [],
   "source": [
    "recgli[which(recgli$nadc.2 ==0),]$nadc.2 = NA \n",
    "recgli[which(recgli$nfa.2 ==0),]$nfa.2 = NA \n"
   ]
  },
  {
   "cell_type": "code",
   "execution_count": 62,
   "metadata": {
    "collapsed": false,
    "deletable": true,
    "editable": true
   },
   "outputs": [
    {
     "data": {
      "text/plain": [
       "\n",
       "Call:\n",
       "lm(formula = nadc.1 ~ nadc.2, data = recgli)\n",
       "\n",
       "Residuals:\n",
       "     Min       1Q   Median       3Q      Max \n",
       "-0.40919 -0.09202 -0.02049  0.06146  1.01223 \n",
       "\n",
       "Coefficients:\n",
       "            Estimate Std. Error t value Pr(>|t|)    \n",
       "(Intercept) -0.16484    0.03993  -4.128 5.37e-05 ***\n",
       "nadc.2       1.12684    0.02268  49.685  < 2e-16 ***\n",
       "---\n",
       "Signif. codes:  0 ‘***’ 0.001 ‘**’ 0.01 ‘*’ 0.05 ‘.’ 0.1 ‘ ’ 1\n",
       "\n",
       "Residual standard error: 0.154 on 200 degrees of freedom\n",
       "  (122 observations deleted due to missingness)\n",
       "Multiple R-squared:  0.9251,\tAdjusted R-squared:  0.9247 \n",
       "F-statistic:  2469 on 1 and 200 DF,  p-value: < 2.2e-16\n"
      ]
     },
     "metadata": {},
     "output_type": "display_data"
    }
   ],
   "source": [
    "diffu.fit = lm(nadc.1~nadc.2, data = recgli)\n",
    "summary(diffu.fit)"
   ]
  },
  {
   "cell_type": "code",
   "execution_count": 63,
   "metadata": {
    "collapsed": false,
    "deletable": true,
    "editable": true
   },
   "outputs": [
    {
     "data": {
      "text/html": [
       "55"
      ],
      "text/latex": [
       "55"
      ],
      "text/markdown": [
       "55"
      ],
      "text/plain": [
       "[1] 55"
      ]
     },
     "metadata": {},
     "output_type": "display_data"
    }
   ],
   "source": [
    "nadc1from2 = predict(diffu.fit, newdata = recgli[which(is.na(recgli$nadc.1) & !is.na(recgli$nadc.2)),])\n",
    "length(nadc1from2)\n",
    "recgli$nadc.1[match(names(nadc1from2), rownames(recgli))]=nadc1from2"
   ]
  },
  {
   "cell_type": "code",
   "execution_count": 64,
   "metadata": {
    "collapsed": false,
    "deletable": true,
    "editable": true
   },
   "outputs": [
    {
     "data": {
      "text/plain": [
       "\n",
       "FALSE  TRUE \n",
       "  270    54 "
      ]
     },
     "metadata": {},
     "output_type": "display_data"
    },
    {
     "data": {
      "text/plain": [
       "\n",
       "FALSE  TRUE \n",
       "  257    67 "
      ]
     },
     "metadata": {},
     "output_type": "display_data"
    },
    {
     "data": {
      "text/plain": [
       "       \n",
       "        FALSE TRUE\n",
       "  FALSE   257   13\n",
       "  TRUE      0   54"
      ]
     },
     "metadata": {},
     "output_type": "display_data"
    }
   ],
   "source": [
    "table(is.na(recgli$nadc.1))\n",
    "table(is.na(recgli$nadc.2))\n",
    "table(is.na(recgli$nadc.1), is.na(recgli$nadc.2))"
   ]
  },
  {
   "cell_type": "code",
   "execution_count": 65,
   "metadata": {
    "collapsed": false,
    "deletable": true,
    "editable": true
   },
   "outputs": [
    {
     "data": {
      "text/plain": [
       "\n",
       "FALSE  TRUE \n",
       "  215   109 "
      ]
     },
     "metadata": {},
     "output_type": "display_data"
    },
    {
     "data": {
      "text/plain": [
       "\n",
       "FALSE  TRUE \n",
       "  257    67 "
      ]
     },
     "metadata": {},
     "output_type": "display_data"
    },
    {
     "data": {
      "text/plain": [
       "       \n",
       "        FALSE TRUE\n",
       "  FALSE   202   13\n",
       "  TRUE     55   54"
      ]
     },
     "metadata": {},
     "output_type": "display_data"
    }
   ],
   "source": [
    "table(is.na(recgli$nfa.1))\n",
    "table(is.na(recgli$nfa.2))\n",
    "table(is.na(recgli$nfa.1), is.na(recgli$nfa.2))"
   ]
  },
  {
   "cell_type": "code",
   "execution_count": 66,
   "metadata": {
    "collapsed": false,
    "deletable": true,
    "editable": true
   },
   "outputs": [
    {
     "data": {
      "image/png": "[encoded data removed]",
      "text/plain": [
       "plot without title"
      ]
     },
     "metadata": {},
     "output_type": "display_data"
    }
   ],
   "source": [
    "plot(nfa.1~nfa.2, data = recgli)"
   ]
  },
  {
   "cell_type": "code",
   "execution_count": 67,
   "metadata": {
    "collapsed": false,
    "deletable": true,
    "editable": true
   },
   "outputs": [
    {
     "data": {
      "text/plain": [
       "\n",
       "Call:\n",
       "lm(formula = nfa.1 ~ nfa.2, data = recgli)\n",
       "\n",
       "Residuals:\n",
       "     Min       1Q   Median       3Q      Max \n",
       "-0.38625 -0.14123 -0.03824  0.11294  0.74464 \n",
       "\n",
       "Coefficients:\n",
       "            Estimate Std. Error t value Pr(>|t|)    \n",
       "(Intercept)  0.15687    0.03894   4.029 7.95e-05 ***\n",
       "nfa.2        0.73801    0.04267  17.295  < 2e-16 ***\n",
       "---\n",
       "Signif. codes:  0 ‘***’ 0.001 ‘**’ 0.01 ‘*’ 0.05 ‘.’ 0.1 ‘ ’ 1\n",
       "\n",
       "Residual standard error: 0.1935 on 200 degrees of freedom\n",
       "  (122 observations deleted due to missingness)\n",
       "Multiple R-squared:  0.5993,\tAdjusted R-squared:  0.5973 \n",
       "F-statistic: 299.1 on 1 and 200 DF,  p-value: < 2.2e-16\n"
      ]
     },
     "metadata": {},
     "output_type": "display_data"
    }
   ],
   "source": [
    "nfa.fit = lm(nfa.1~nfa.2, data = recgli)\n",
    "summary(nfa.fit)"
   ]
  },
  {
   "cell_type": "code",
   "execution_count": 68,
   "metadata": {
    "collapsed": false,
    "deletable": true,
    "editable": true
   },
   "outputs": [
    {
     "name": "stdout",
     "output_type": "stream",
     "text": [
      "       17        18        19        79        80        81        84        85 \n",
      "0.6070571 0.9391604 0.8505995 0.6070571 0.6070571 1.1827028 0.7694187 0.5258763 \n",
      "       86        87        88        89        90        91        92        93 \n",
      "0.5258763 0.4446955 0.6070571 0.6070571 0.8505995 0.8505995 0.5258763 0.5258763 \n",
      "       94        95       107       108       109       110       113       114 \n",
      "0.8505995 0.6070571 0.8505995 0.7694187 0.6070571 0.4446955 0.6882379 1.1827028 \n",
      "      115       116       133       134       135       136       168       169 \n",
      "1.0203412 0.9391604 0.4446955 0.6070571 0.6070571 0.6070571 1.3229242 0.5849169 \n",
      "      170       171       183       184       185       186       188       208 \n",
      "0.6365774 0.9834409 1.3450644 0.6882379 0.6882379 1.0203412 0.5258763 0.6070571 \n",
      "      209       210       211       225       226       227       274       275 \n",
      "0.6070571 0.8505995 0.6070571 1.2638836 0.7694187 1.0203412 1.0203412 1.1015220 \n",
      "      276       277       278       311       312       313       314 \n",
      "0.7694187 0.6070571 0.8505995 0.8505995 1.2638836 1.1827028 0.6070571 \n"
     ]
    }
   ],
   "source": [
    "preds.nfa = predict(nfa.fit, newdata = recgli[which(is.na(recgli$nfa.1) & !is.na(recgli$nfa.2)),])\n",
    "print(preds.nfa)\n",
    "recgli$nfa.1[match(names(preds.nfa), rownames(recgli))]=preds.nfa"
   ]
  },
  {
   "cell_type": "code",
   "execution_count": 69,
   "metadata": {
    "collapsed": false,
    "deletable": true,
    "editable": true
   },
   "outputs": [
    {
     "data": {
      "text/plain": [
       "\n",
       "FALSE  TRUE \n",
       "  270    54 "
      ]
     },
     "metadata": {},
     "output_type": "display_data"
    },
    {
     "data": {
      "text/plain": [
       "\n",
       "FALSE  TRUE \n",
       "  270    54 "
      ]
     },
     "metadata": {},
     "output_type": "display_data"
    }
   ],
   "source": [
    "table(is.na(recgli$nadc.1))\n",
    "table(is.na(recgli$nfa.1))\n"
   ]
  },
  {
   "cell_type": "code",
   "execution_count": 70,
   "metadata": {
    "collapsed": false,
    "deletable": true,
    "editable": true
   },
   "outputs": [],
   "source": [
    "write.csv(recgli, \"REC_HGG_Annotation_Oct2018/6thAnnot_researchpath_withInVivo.csv\", row.names=F)"
   ]
  },
  {
   "cell_type": "markdown",
   "metadata": {
    "deletable": true,
    "editable": true
   },
   "source": [
    "## 7. Adds in output from get_igt_stats.ipynb, w/ %CEL, NEL, NEC & inclusion criteria (can be found in DataWrangling/GetMergeData/)"
   ]
  },
  {
   "cell_type": "code",
   "execution_count": 71,
   "metadata": {
    "collapsed": false,
    "deletable": true,
    "editable": true
   },
   "outputs": [
    {
     "data": {
      "text/html": [
       "'/home/sf673542/DataWrangling/AnnotateData'"
      ],
      "text/latex": [
       "'/home/sf673542/DataWrangling/AnnotateData'"
      ],
      "text/markdown": [
       "'/home/sf673542/DataWrangling/AnnotateData'"
      ],
      "text/plain": [
       "[1] \"/home/sf673542/DataWrangling/AnnotateData\""
      ]
     },
     "metadata": {},
     "output_type": "display_data"
    }
   ],
   "source": [
    "getwd()"
   ]
  },
  {
   "cell_type": "code",
   "execution_count": 72,
   "metadata": {
    "collapsed": false,
    "deletable": true,
    "editable": true
   },
   "outputs": [],
   "source": [
    "all_recgli = read.csv(\"REC_HGG_Annotation_Oct2018/6thAnnot_researchpath_withInVivo.csv\")"
   ]
  },
  {
   "cell_type": "code",
   "execution_count": 73,
   "metadata": {
    "collapsed": true,
    "deletable": true,
    "editable": true
   },
   "outputs": [],
   "source": [
    "## Now igt_stats.dev just came out, so I have to re-run everything to get the igt_stats output: \n",
    "## To re-run IGT stats, I will go back to GetMergeData & do it from there in a separate notebook.\n",
    "## I ran this in get_igt_stats\n",
    "## Hopefully this will be unnecessary in the future. "
   ]
  },
  {
   "cell_type": "code",
   "execution_count": 74,
   "metadata": {
    "collapsed": false,
    "deletable": true,
    "editable": true
   },
   "outputs": [],
   "source": [
    "biopsy_igt_stats_info = read.csv('../GetMergeData/Aug2018/igt_stats_information_forBiopsyAnnot.csv')"
   ]
  },
  {
   "cell_type": "code",
   "execution_count": 75,
   "metadata": {
    "collapsed": false,
    "deletable": true,
    "editable": true
   },
   "outputs": [
    {
     "data": {
      "text/html": [
       "<ol class=list-inline>\n",
       "\t<li>654</li>\n",
       "\t<li>11</li>\n",
       "</ol>\n"
      ],
      "text/latex": [
       "\\begin{enumerate*}\n",
       "\\item 654\n",
       "\\item 11\n",
       "\\end{enumerate*}\n"
      ],
      "text/markdown": [
       "1. 654\n",
       "2. 11\n",
       "\n",
       "\n"
      ],
      "text/plain": [
       "[1] 654  11"
      ]
     },
     "metadata": {},
     "output_type": "display_data"
    }
   ],
   "source": [
    "dim(biopsy_igt_stats_info)"
   ]
  },
  {
   "cell_type": "code",
   "execution_count": 76,
   "metadata": {
    "collapsed": false,
    "deletable": true,
    "editable": true
   },
   "outputs": [
    {
     "data": {
      "text/html": [
       "<ol class=list-inline>\n",
       "\t<li>324</li>\n",
       "\t<li>55</li>\n",
       "</ol>\n"
      ],
      "text/latex": [
       "\\begin{enumerate*}\n",
       "\\item 324\n",
       "\\item 55\n",
       "\\end{enumerate*}\n"
      ],
      "text/markdown": [
       "1. 324\n",
       "2. 55\n",
       "\n",
       "\n"
      ],
      "text/plain": [
       "[1] 324  55"
      ]
     },
     "metadata": {},
     "output_type": "display_data"
    }
   ],
   "source": [
    "dim(all_recgli)"
   ]
  },
  {
   "cell_type": "code",
   "execution_count": 77,
   "metadata": {
    "collapsed": false,
    "deletable": true,
    "editable": true
   },
   "outputs": [],
   "source": [
    "all_recgli$roi.label = as.character(all_recgli$roi.label)\n",
    "biopsy_igt_stats_info$roi.label = as.character(biopsy_igt_stats_info$roi.label)\n",
    "biopsy_igt_stats_info = biopsy_igt_stats_info[,-1]"
   ]
  },
  {
   "cell_type": "code",
   "execution_count": 78,
   "metadata": {
    "collapsed": false,
    "deletable": true,
    "editable": true
   },
   "outputs": [
    {
     "data": {
      "text/html": [
       "<ol class=list-inline>\n",
       "\t<li>299</li>\n",
       "\t<li>55</li>\n",
       "</ol>\n"
      ],
      "text/latex": [
       "\\begin{enumerate*}\n",
       "\\item 299\n",
       "\\item 55\n",
       "\\end{enumerate*}\n"
      ],
      "text/markdown": [
       "1. 299\n",
       "2. 55\n",
       "\n",
       "\n"
      ],
      "text/plain": [
       "[1] 299  55"
      ]
     },
     "metadata": {},
     "output_type": "display_data"
    },
    {
     "data": {
      "text/html": [
       "<ol class=list-inline>\n",
       "\t<li>629</li>\n",
       "\t<li>10</li>\n",
       "</ol>\n"
      ],
      "text/latex": [
       "\\begin{enumerate*}\n",
       "\\item 629\n",
       "\\item 10\n",
       "\\end{enumerate*}\n"
      ],
      "text/markdown": [
       "1. 629\n",
       "2. 10\n",
       "\n",
       "\n"
      ],
      "text/plain": [
       "[1] 629  10"
      ]
     },
     "metadata": {},
     "output_type": "display_data"
    }
   ],
   "source": [
    "## getting rid of extraneous information: \n",
    "all_recgli = all_recgli[!is.na(all_recgli$roi.label),]\n",
    "all_recgli = all_recgli[all_recgli$roi.label !=\"\",]\n",
    "biopsy_igt_stats_info = biopsy_igt_stats_info[!is.na(biopsy_igt_stats_info$roi.label),]\n",
    "biopsy_igt_stats_info = biopsy_igt_stats_info[biopsy_igt_stats_info$roi.label != \"\",]\n",
    "dim(all_recgli)\n",
    "dim(biopsy_igt_stats_info)"
   ]
  },
  {
   "cell_type": "code",
   "execution_count": 90,
   "metadata": {
    "collapsed": false,
    "deletable": true,
    "editable": true
   },
   "outputs": [
    {
     "data": {
      "text/html": [
       "<ol class=list-inline>\n",
       "\t<li>303</li>\n",
       "\t<li>64</li>\n",
       "</ol>\n"
      ],
      "text/latex": [
       "\\begin{enumerate*}\n",
       "\\item 303\n",
       "\\item 64\n",
       "\\end{enumerate*}\n"
      ],
      "text/markdown": [
       "1. 303\n",
       "2. 64\n",
       "\n",
       "\n"
      ],
      "text/plain": [
       "[1] 303  64"
      ]
     },
     "metadata": {},
     "output_type": "display_data"
    }
   ],
   "source": [
    "recgli = left_join(all_recgli, biopsy_igt_stats_info, by = 'roi.label')\n",
    "dim(recgli)"
   ]
  },
  {
   "cell_type": "code",
   "execution_count": 91,
   "metadata": {
    "collapsed": false,
    "deletable": true,
    "editable": true
   },
   "outputs": [
    {
     "data": {
      "text/html": [
       "<table>\n",
       "<thead><tr><th></th><th scope=col>b_number</th><th scope=col>t_number</th><th scope=col>sf_number</th><th scope=col>current_scan_date</th><th scope=col>current_surgery_date</th><th scope=col>current_hist_grade</th><th scope=col>current_hist_type</th><th scope=col>roi.label</th><th scope=col>tumor_cell_evaluation</th><th scope=col>necrosis</th><th scope=col>mv_hyperplasia</th><th scope=col>f8_delicate</th><th scope=col>f8_simple</th><th scope=col>f8_complex</th><th scope=col>mib_1</th><th scope=col>avgerage_cells</th><th scope=col>bx_pure_treatment_effect</th><th scope=col>percent_tumor_nuclei</th><th scope=col>nfse</th><th scope=col>nfl</th><th scope=col>nt1c</th><th scope=col>nt1v</th><th scope=col>nt1d</th><th scope=col>nadc.1</th><th scope=col>nfa.1</th><th scope=col>nadc.2</th><th scope=col>nfa.2</th><th scope=col>phn_nlin</th><th scope=col>cbvn_nlin</th><th scope=col>recov_nlin</th><th scope=col>phn_npar</th><th scope=col>recov_npar</th><th scope=col>recovn_npar</th><th scope=col>cni</th><th scope=col>ccri</th><th scope=col>crni</th><th scope=col>ncho</th><th scope=col>ncre</th><th scope=col>nnaa</th><th scope=col>nlip</th><th scope=col>nlac</th><th scope=col>laclip</th><th scope=col>comments</th><th scope=col>notes.</th><th scope=col>imaging_code</th><th scope=col>perf_quant</th><th scope=col>spec_quant</th><th scope=col>include_anat</th><th scope=col>include_diffu1000</th><th scope=col>include_diffu2000</th><th scope=col>include_diffu_all</th><th scope=col>include_perf</th><th scope=col>include_spec</th><th scope=col>include_one_advanced_mod</th><th scope=col>include_all_advanced_mods</th><th scope=col>X.CEL</th><th scope=col>X.NEL</th><th scope=col>X.NEC</th><th scope=col>sum</th><th scope=col>in_CEL</th><th scope=col>in_T2all</th><th scope=col>in_NEL</th><th scope=col>in_NEC</th><th scope=col>in_ROI</th></tr></thead>\n",
       "<tbody>\n",
       "\t<tr><th scope=row>64</th><td>3645                 </td><td> 9213                </td><td>10138                </td><td>2014-10-22           </td><td>2014-10-23           </td><td>Grade IV             </td><td>Glioblastoma         </td><td>49B74                </td><td>3                    </td><td>0                    </td><td>2                    </td><td>                     </td><td>                     </td><td>                     </td><td>40.81                </td><td>   NA                </td><td>f                    </td><td>80                   </td><td>1.65                 </td><td>1.55                 </td><td>1.32                 </td><td>0.66                 </td><td>-6.92                </td><td>1.700000             </td><td>0.5000000            </td><td>1.74                 </td><td>0.61                 </td><td>1.29                 </td><td>1.62                 </td><td>100                  </td><td>1.24                 </td><td>100                  </td><td>100                  </td><td>3.51                 </td><td>2.14                 </td><td>0.94                 </td><td>0.69                 </td><td>0.26                 </td><td>0.07                 </td><td>0.12                 </td><td>0.28                 </td><td>0.40                 </td><td>                     </td><td>NA                   </td><td>NA                   </td><td>NA                   </td><td>NA                   </td><td>1                    </td><td>1                    </td><td>1                    </td><td>1                    </td><td>1                    </td><td>1                    </td><td>1                    </td><td>1                    </td><td>95.74                </td><td> 4.26                </td><td>NA                   </td><td>100                  </td><td>1                    </td><td>1                    </td><td>0                    </td><td>0                    </td><td>1                    </td></tr>\n",
       "\t<tr><th scope=row>65</th><td>3645                 </td><td> 9213                </td><td>10138                </td><td>2014-10-22           </td><td>2014-10-23           </td><td>Grade IV             </td><td>Glioblastoma         </td><td>49B74                </td><td>3                    </td><td>0                    </td><td>2                    </td><td>                     </td><td>                     </td><td>                     </td><td>40.81                </td><td>   NA                </td><td>f                    </td><td>80                   </td><td>1.65                 </td><td>1.55                 </td><td>1.32                 </td><td>0.66                 </td><td>-6.92                </td><td>1.700000             </td><td>0.5000000            </td><td>1.74                 </td><td>0.61                 </td><td>1.29                 </td><td>1.62                 </td><td>100                  </td><td>1.24                 </td><td>100                  </td><td>100                  </td><td>3.51                 </td><td>2.14                 </td><td>0.94                 </td><td>0.69                 </td><td>0.26                 </td><td>0.07                 </td><td>0.12                 </td><td>0.28                 </td><td>0.40                 </td><td>                     </td><td>NA                   </td><td>NA                   </td><td>NA                   </td><td>NA                   </td><td>1                    </td><td>1                    </td><td>1                    </td><td>1                    </td><td>1                    </td><td>1                    </td><td>1                    </td><td>1                    </td><td>95.74                </td><td> 4.26                </td><td>NA                   </td><td>100                  </td><td>1                    </td><td>1                    </td><td>0                    </td><td>0                    </td><td>1                    </td></tr>\n",
       "\t<tr><th scope=row>71</th><td>3670                 </td><td> 9288                </td><td>10199                </td><td>2014-12-16           </td><td>2014-12-17           </td><td>Grade IV             </td><td>Glioblastoma         </td><td>49B75                </td><td>2                    </td><td>0                    </td><td>2                    </td><td>                     </td><td>                     </td><td>                     </td><td> 5.92                </td><td>261.0                </td><td>                     </td><td>70                   </td><td>1.74                 </td><td>1.82                 </td><td>1.35                 </td><td>0.92                 </td><td>-3.35                </td><td>1.640000             </td><td>0.7200000            </td><td>1.71                 </td><td>0.72                 </td><td>1.12                 </td><td>1.09                 </td><td>100                  </td><td>1.04                 </td><td>100                  </td><td>100                  </td><td>  NA                 </td><td>  NA                 </td><td>  NA                 </td><td>  NA                 </td><td>  NA                 </td><td>  NA                 </td><td>  NA                 </td><td>  NA                 </td><td>  NA                 </td><td>\"foci of macrophages\"</td><td>NA                   </td><td>NA                   </td><td>NA                   </td><td>all_zeros            </td><td>1                    </td><td>1                    </td><td>1                    </td><td>1                    </td><td>1                    </td><td>0                    </td><td>1                    </td><td>0                    </td><td>58.33                </td><td>41.67                </td><td> 0                   </td><td>100                  </td><td>1                    </td><td>1                    </td><td>0                    </td><td>0                    </td><td>1                    </td></tr>\n",
       "\t<tr><th scope=row>72</th><td>3670                 </td><td> 9288                </td><td>10199                </td><td>2014-12-16           </td><td>2014-12-17           </td><td>Grade IV             </td><td>Glioblastoma         </td><td>49B75                </td><td>2                    </td><td>0                    </td><td>2                    </td><td>                     </td><td>                     </td><td>                     </td><td> 5.92                </td><td>261.0                </td><td>                     </td><td>70                   </td><td>1.74                 </td><td>1.82                 </td><td>1.35                 </td><td>0.92                 </td><td>-3.35                </td><td>1.640000             </td><td>0.7200000            </td><td>1.71                 </td><td>0.72                 </td><td>1.12                 </td><td>1.09                 </td><td>100                  </td><td>1.04                 </td><td>100                  </td><td>100                  </td><td>  NA                 </td><td>  NA                 </td><td>  NA                 </td><td>  NA                 </td><td>  NA                 </td><td>  NA                 </td><td>  NA                 </td><td>  NA                 </td><td>  NA                 </td><td>\"foci of macrophages\"</td><td>NA                   </td><td>NA                   </td><td>NA                   </td><td>all_zeros            </td><td>1                    </td><td>1                    </td><td>1                    </td><td>1                    </td><td>1                    </td><td>0                    </td><td>1                    </td><td>0                    </td><td>58.33                </td><td>41.67                </td><td> 0                   </td><td>100                  </td><td>1                    </td><td>1                    </td><td>0                    </td><td>0                    </td><td>1                    </td></tr>\n",
       "\t<tr><th scope=row>104</th><td>3791                 </td><td> 9970                </td><td>10507                </td><td>2015-08-25           </td><td>2015-08-26           </td><td>Treatment Effect     </td><td>Treatment Effect     </td><td>49B78                </td><td>3                    </td><td>0                    </td><td>1                    </td><td>                     </td><td>                     </td><td>                     </td><td>10.53                </td><td>339.0                </td><td>f                    </td><td>85                   </td><td>2.11                 </td><td>1.83                 </td><td>0.96                 </td><td>0.68                 </td><td>-2.03                </td><td>2.077567             </td><td>0.6070571            </td><td>1.99                 </td><td>0.61                 </td><td>0.57                 </td><td>0.59                 </td><td>100                  </td><td>0.55                 </td><td>100                  </td><td>100                  </td><td>1.54                 </td><td>0.51                 </td><td>1.02                 </td><td>0.68                 </td><td>0.51                 </td><td>0.27                 </td><td>0.86                 </td><td>0.86                 </td><td>0.86                 </td><td>                     </td><td>NA                   </td><td>NA                   </td><td>NA                   </td><td>NA                   </td><td>1                    </td><td>0                    </td><td>1                    </td><td>1                    </td><td>1                    </td><td>1                    </td><td>1                    </td><td>1                    </td><td>20.00                </td><td>80.00                </td><td> 0                   </td><td>100                  </td><td>0                    </td><td>1                    </td><td>1                    </td><td>0                    </td><td>1                    </td></tr>\n",
       "\t<tr><th scope=row>105</th><td>3791                 </td><td> 9970                </td><td>10507                </td><td>2015-08-25           </td><td>2015-08-26           </td><td>Treatment Effect     </td><td>Treatment Effect     </td><td>49B78                </td><td>3                    </td><td>0                    </td><td>1                    </td><td>                     </td><td>                     </td><td>                     </td><td>10.53                </td><td>339.0                </td><td>f                    </td><td>85                   </td><td>2.11                 </td><td>1.83                 </td><td>0.96                 </td><td>0.68                 </td><td>-2.03                </td><td>2.077567             </td><td>0.6070571            </td><td>1.99                 </td><td>0.61                 </td><td>0.57                 </td><td>0.59                 </td><td>100                  </td><td>0.55                 </td><td>100                  </td><td>100                  </td><td>1.54                 </td><td>0.51                 </td><td>1.02                 </td><td>0.68                 </td><td>0.51                 </td><td>0.27                 </td><td>0.86                 </td><td>0.86                 </td><td>0.86                 </td><td>                     </td><td>NA                   </td><td>NA                   </td><td>NA                   </td><td>NA                   </td><td>1                    </td><td>0                    </td><td>1                    </td><td>1                    </td><td>1                    </td><td>1                    </td><td>1                    </td><td>1                    </td><td>20.00                </td><td>80.00                </td><td> 0                   </td><td>100                  </td><td>0                    </td><td>1                    </td><td>1                    </td><td>0                    </td><td>1                    </td></tr>\n",
       "\t<tr><th scope=row>207</th><td>3783                 </td><td>11192                </td><td>11150                </td><td>2017-01-29           </td><td>2017-01-30           </td><td>Grade III            </td><td>Astrocytoma          </td><td>36B97                </td><td>3                    </td><td>0                    </td><td>1                    </td><td>2                    </td><td>1                    </td><td>0                    </td><td> 9.56                </td><td>207.2                </td><td>f                    </td><td>75                   </td><td>1.80                 </td><td>1.86                 </td><td>1.39                 </td><td>1.26                 </td><td>-1.17                </td><td>1.670000             </td><td>0.7300000            </td><td>1.69                 </td><td>1.06                 </td><td>0.79                 </td><td>0.67                 </td><td>100                  </td><td>0.75                 </td><td>100                  </td><td>100                  </td><td>5.83                 </td><td>4.55                 </td><td>0.31                 </td><td>1.97                 </td><td>0.90                 </td><td>0.81                 </td><td>0.05                 </td><td>0.05                 </td><td>0.05                 </td><td>                     </td><td>NA                   </td><td>NA                   </td><td>NA                   </td><td>NA                   </td><td>1                    </td><td>1                    </td><td>1                    </td><td>1                    </td><td>1                    </td><td>1                    </td><td>1                    </td><td>1                    </td><td>33.33                </td><td>66.67                </td><td>NA                   </td><td>100                  </td><td>1                    </td><td>1                    </td><td>1                    </td><td>0                    </td><td>1                    </td></tr>\n",
       "\t<tr><th scope=row>208</th><td>3783                 </td><td>11192                </td><td>11150                </td><td>2017-01-29           </td><td>2017-01-30           </td><td>Grade III            </td><td>Astrocytoma          </td><td>36B97                </td><td>3                    </td><td>0                    </td><td>1                    </td><td>2                    </td><td>1                    </td><td>0                    </td><td> 9.56                </td><td>207.2                </td><td>f                    </td><td>75                   </td><td>1.80                 </td><td>1.86                 </td><td>1.39                 </td><td>1.26                 </td><td>-1.17                </td><td>1.670000             </td><td>0.7300000            </td><td>1.69                 </td><td>1.06                 </td><td>0.79                 </td><td>0.67                 </td><td>100                  </td><td>0.75                 </td><td>100                  </td><td>100                  </td><td>5.83                 </td><td>4.55                 </td><td>0.31                 </td><td>1.97                 </td><td>0.90                 </td><td>0.81                 </td><td>0.05                 </td><td>0.05                 </td><td>0.05                 </td><td>                     </td><td>NA                   </td><td>NA                   </td><td>NA                   </td><td>NA                   </td><td>1                    </td><td>1                    </td><td>1                    </td><td>1                    </td><td>1                    </td><td>1                    </td><td>1                    </td><td>1                    </td><td>33.33                </td><td>66.67                </td><td>NA                   </td><td>100                  </td><td>1                    </td><td>1                    </td><td>1                    </td><td>0                    </td><td>1                    </td></tr>\n",
       "</tbody>\n",
       "</table>\n"
      ],
      "text/latex": [
       "\\begin{tabular}{r|llllllllllllllllllllllllllllllllllllllllllllllllllllllllllllllll}\n",
       "  & b\\_number & t\\_number & sf\\_number & current\\_scan\\_date & current\\_surgery\\_date & current\\_hist\\_grade & current\\_hist\\_type & roi.label & tumor\\_cell\\_evaluation & necrosis & mv\\_hyperplasia & f8\\_delicate & f8\\_simple & f8\\_complex & mib\\_1 & avgerage\\_cells & bx\\_pure\\_treatment\\_effect & percent\\_tumor\\_nuclei & nfse & nfl & nt1c & nt1v & nt1d & nadc.1 & nfa.1 & nadc.2 & nfa.2 & phn\\_nlin & cbvn\\_nlin & recov\\_nlin & phn\\_npar & recov\\_npar & recovn\\_npar & cni & ccri & crni & ncho & ncre & nnaa & nlip & nlac & laclip & comments & notes. & imaging\\_code & perf\\_quant & spec\\_quant & include\\_anat & include\\_diffu1000 & include\\_diffu2000 & include\\_diffu\\_all & include\\_perf & include\\_spec & include\\_one\\_advanced\\_mod & include\\_all\\_advanced\\_mods & X.CEL & X.NEL & X.NEC & sum & in\\_CEL & in\\_T2all & in\\_NEL & in\\_NEC & in\\_ROI\\\\\n",
       "\\hline\n",
       "\t64 & 3645                  &  9213                 & 10138                 & 2014-10-22            & 2014-10-23            & Grade IV              & Glioblastoma          & 49B74                 & 3                     & 0                     & 2                     &                       &                       &                       & 40.81                 &    NA                 & f                     & 80                    & 1.65                  & 1.55                  & 1.32                  & 0.66                  & -6.92                 & 1.700000              & 0.5000000             & 1.74                  & 0.61                  & 1.29                  & 1.62                  & 100                   & 1.24                  & 100                   & 100                   & 3.51                  & 2.14                  & 0.94                  & 0.69                  & 0.26                  & 0.07                  & 0.12                  & 0.28                  & 0.40                  &                       & NA                    & NA                    & NA                    & NA                    & 1                     & 1                     & 1                     & 1                     & 1                     & 1                     & 1                     & 1                     & 95.74                 &  4.26                 & NA                    & 100                   & 1                     & 1                     & 0                     & 0                     & 1                    \\\\\n",
       "\t65 & 3645                  &  9213                 & 10138                 & 2014-10-22            & 2014-10-23            & Grade IV              & Glioblastoma          & 49B74                 & 3                     & 0                     & 2                     &                       &                       &                       & 40.81                 &    NA                 & f                     & 80                    & 1.65                  & 1.55                  & 1.32                  & 0.66                  & -6.92                 & 1.700000              & 0.5000000             & 1.74                  & 0.61                  & 1.29                  & 1.62                  & 100                   & 1.24                  & 100                   & 100                   & 3.51                  & 2.14                  & 0.94                  & 0.69                  & 0.26                  & 0.07                  & 0.12                  & 0.28                  & 0.40                  &                       & NA                    & NA                    & NA                    & NA                    & 1                     & 1                     & 1                     & 1                     & 1                     & 1                     & 1                     & 1                     & 95.74                 &  4.26                 & NA                    & 100                   & 1                     & 1                     & 0                     & 0                     & 1                    \\\\\n",
       "\t71 & 3670                  &  9288                 & 10199                 & 2014-12-16            & 2014-12-17            & Grade IV              & Glioblastoma          & 49B75                 & 2                     & 0                     & 2                     &                       &                       &                       &  5.92                 & 261.0                 &                       & 70                    & 1.74                  & 1.82                  & 1.35                  & 0.92                  & -3.35                 & 1.640000              & 0.7200000             & 1.71                  & 0.72                  & 1.12                  & 1.09                  & 100                   & 1.04                  & 100                   & 100                   &   NA                  &   NA                  &   NA                  &   NA                  &   NA                  &   NA                  &   NA                  &   NA                  &   NA                  & \"foci of macrophages\" & NA                    & NA                    & NA                    & all\\_zeros           & 1                     & 1                     & 1                     & 1                     & 1                     & 0                     & 1                     & 0                     & 58.33                 & 41.67                 &  0                    & 100                   & 1                     & 1                     & 0                     & 0                     & 1                    \\\\\n",
       "\t72 & 3670                  &  9288                 & 10199                 & 2014-12-16            & 2014-12-17            & Grade IV              & Glioblastoma          & 49B75                 & 2                     & 0                     & 2                     &                       &                       &                       &  5.92                 & 261.0                 &                       & 70                    & 1.74                  & 1.82                  & 1.35                  & 0.92                  & -3.35                 & 1.640000              & 0.7200000             & 1.71                  & 0.72                  & 1.12                  & 1.09                  & 100                   & 1.04                  & 100                   & 100                   &   NA                  &   NA                  &   NA                  &   NA                  &   NA                  &   NA                  &   NA                  &   NA                  &   NA                  & \"foci of macrophages\" & NA                    & NA                    & NA                    & all\\_zeros           & 1                     & 1                     & 1                     & 1                     & 1                     & 0                     & 1                     & 0                     & 58.33                 & 41.67                 &  0                    & 100                   & 1                     & 1                     & 0                     & 0                     & 1                    \\\\\n",
       "\t104 & 3791                  &  9970                 & 10507                 & 2015-08-25            & 2015-08-26            & Treatment Effect      & Treatment Effect      & 49B78                 & 3                     & 0                     & 1                     &                       &                       &                       & 10.53                 & 339.0                 & f                     & 85                    & 2.11                  & 1.83                  & 0.96                  & 0.68                  & -2.03                 & 2.077567              & 0.6070571             & 1.99                  & 0.61                  & 0.57                  & 0.59                  & 100                   & 0.55                  & 100                   & 100                   & 1.54                  & 0.51                  & 1.02                  & 0.68                  & 0.51                  & 0.27                  & 0.86                  & 0.86                  & 0.86                  &                       & NA                    & NA                    & NA                    & NA                    & 1                     & 0                     & 1                     & 1                     & 1                     & 1                     & 1                     & 1                     & 20.00                 & 80.00                 &  0                    & 100                   & 0                     & 1                     & 1                     & 0                     & 1                    \\\\\n",
       "\t105 & 3791                  &  9970                 & 10507                 & 2015-08-25            & 2015-08-26            & Treatment Effect      & Treatment Effect      & 49B78                 & 3                     & 0                     & 1                     &                       &                       &                       & 10.53                 & 339.0                 & f                     & 85                    & 2.11                  & 1.83                  & 0.96                  & 0.68                  & -2.03                 & 2.077567              & 0.6070571             & 1.99                  & 0.61                  & 0.57                  & 0.59                  & 100                   & 0.55                  & 100                   & 100                   & 1.54                  & 0.51                  & 1.02                  & 0.68                  & 0.51                  & 0.27                  & 0.86                  & 0.86                  & 0.86                  &                       & NA                    & NA                    & NA                    & NA                    & 1                     & 0                     & 1                     & 1                     & 1                     & 1                     & 1                     & 1                     & 20.00                 & 80.00                 &  0                    & 100                   & 0                     & 1                     & 1                     & 0                     & 1                    \\\\\n",
       "\t207 & 3783                  & 11192                 & 11150                 & 2017-01-29            & 2017-01-30            & Grade III             & Astrocytoma           & 36B97                 & 3                     & 0                     & 1                     & 2                     & 1                     & 0                     &  9.56                 & 207.2                 & f                     & 75                    & 1.80                  & 1.86                  & 1.39                  & 1.26                  & -1.17                 & 1.670000              & 0.7300000             & 1.69                  & 1.06                  & 0.79                  & 0.67                  & 100                   & 0.75                  & 100                   & 100                   & 5.83                  & 4.55                  & 0.31                  & 1.97                  & 0.90                  & 0.81                  & 0.05                  & 0.05                  & 0.05                  &                       & NA                    & NA                    & NA                    & NA                    & 1                     & 1                     & 1                     & 1                     & 1                     & 1                     & 1                     & 1                     & 33.33                 & 66.67                 & NA                    & 100                   & 1                     & 1                     & 1                     & 0                     & 1                    \\\\\n",
       "\t208 & 3783                  & 11192                 & 11150                 & 2017-01-29            & 2017-01-30            & Grade III             & Astrocytoma           & 36B97                 & 3                     & 0                     & 1                     & 2                     & 1                     & 0                     &  9.56                 & 207.2                 & f                     & 75                    & 1.80                  & 1.86                  & 1.39                  & 1.26                  & -1.17                 & 1.670000              & 0.7300000             & 1.69                  & 1.06                  & 0.79                  & 0.67                  & 100                   & 0.75                  & 100                   & 100                   & 5.83                  & 4.55                  & 0.31                  & 1.97                  & 0.90                  & 0.81                  & 0.05                  & 0.05                  & 0.05                  &                       & NA                    & NA                    & NA                    & NA                    & 1                     & 1                     & 1                     & 1                     & 1                     & 1                     & 1                     & 1                     & 33.33                 & 66.67                 & NA                    & 100                   & 1                     & 1                     & 1                     & 0                     & 1                    \\\\\n",
       "\\end{tabular}\n"
      ],
      "text/markdown": [
       "\n",
       "| <!--/--> | b_number | t_number | sf_number | current_scan_date | current_surgery_date | current_hist_grade | current_hist_type | roi.label | tumor_cell_evaluation | necrosis | mv_hyperplasia | f8_delicate | f8_simple | f8_complex | mib_1 | avgerage_cells | bx_pure_treatment_effect | percent_tumor_nuclei | nfse | nfl | nt1c | nt1v | nt1d | nadc.1 | nfa.1 | nadc.2 | nfa.2 | phn_nlin | cbvn_nlin | recov_nlin | phn_npar | recov_npar | recovn_npar | cni | ccri | crni | ncho | ncre | nnaa | nlip | nlac | laclip | comments | notes. | imaging_code | perf_quant | spec_quant | include_anat | include_diffu1000 | include_diffu2000 | include_diffu_all | include_perf | include_spec | include_one_advanced_mod | include_all_advanced_mods | X.CEL | X.NEL | X.NEC | sum | in_CEL | in_T2all | in_NEL | in_NEC | in_ROI | \n",
       "|---|---|---|---|---|---|---|---|\n",
       "| 64 | 3645                  |  9213                 | 10138                 | 2014-10-22            | 2014-10-23            | Grade IV              | Glioblastoma          | 49B74                 | 3                     | 0                     | 2                     |                       |                       |                       | 40.81                 |    NA                 | f                     | 80                    | 1.65                  | 1.55                  | 1.32                  | 0.66                  | -6.92                 | 1.700000              | 0.5000000             | 1.74                  | 0.61                  | 1.29                  | 1.62                  | 100                   | 1.24                  | 100                   | 100                   | 3.51                  | 2.14                  | 0.94                  | 0.69                  | 0.26                  | 0.07                  | 0.12                  | 0.28                  | 0.40                  |                       | NA                    | NA                    | NA                    | NA                    | 1                     | 1                     | 1                     | 1                     | 1                     | 1                     | 1                     | 1                     | 95.74                 |  4.26                 | NA                    | 100                   | 1                     | 1                     | 0                     | 0                     | 1                     | \n",
       "| 65 | 3645                  |  9213                 | 10138                 | 2014-10-22            | 2014-10-23            | Grade IV              | Glioblastoma          | 49B74                 | 3                     | 0                     | 2                     |                       |                       |                       | 40.81                 |    NA                 | f                     | 80                    | 1.65                  | 1.55                  | 1.32                  | 0.66                  | -6.92                 | 1.700000              | 0.5000000             | 1.74                  | 0.61                  | 1.29                  | 1.62                  | 100                   | 1.24                  | 100                   | 100                   | 3.51                  | 2.14                  | 0.94                  | 0.69                  | 0.26                  | 0.07                  | 0.12                  | 0.28                  | 0.40                  |                       | NA                    | NA                    | NA                    | NA                    | 1                     | 1                     | 1                     | 1                     | 1                     | 1                     | 1                     | 1                     | 95.74                 |  4.26                 | NA                    | 100                   | 1                     | 1                     | 0                     | 0                     | 1                     | \n",
       "| 71 | 3670                  |  9288                 | 10199                 | 2014-12-16            | 2014-12-17            | Grade IV              | Glioblastoma          | 49B75                 | 2                     | 0                     | 2                     |                       |                       |                       |  5.92                 | 261.0                 |                       | 70                    | 1.74                  | 1.82                  | 1.35                  | 0.92                  | -3.35                 | 1.640000              | 0.7200000             | 1.71                  | 0.72                  | 1.12                  | 1.09                  | 100                   | 1.04                  | 100                   | 100                   |   NA                  |   NA                  |   NA                  |   NA                  |   NA                  |   NA                  |   NA                  |   NA                  |   NA                  | \"foci of macrophages\" | NA                    | NA                    | NA                    | all_zeros             | 1                     | 1                     | 1                     | 1                     | 1                     | 0                     | 1                     | 0                     | 58.33                 | 41.67                 |  0                    | 100                   | 1                     | 1                     | 0                     | 0                     | 1                     | \n",
       "| 72 | 3670                  |  9288                 | 10199                 | 2014-12-16            | 2014-12-17            | Grade IV              | Glioblastoma          | 49B75                 | 2                     | 0                     | 2                     |                       |                       |                       |  5.92                 | 261.0                 |                       | 70                    | 1.74                  | 1.82                  | 1.35                  | 0.92                  | -3.35                 | 1.640000              | 0.7200000             | 1.71                  | 0.72                  | 1.12                  | 1.09                  | 100                   | 1.04                  | 100                   | 100                   |   NA                  |   NA                  |   NA                  |   NA                  |   NA                  |   NA                  |   NA                  |   NA                  |   NA                  | \"foci of macrophages\" | NA                    | NA                    | NA                    | all_zeros             | 1                     | 1                     | 1                     | 1                     | 1                     | 0                     | 1                     | 0                     | 58.33                 | 41.67                 |  0                    | 100                   | 1                     | 1                     | 0                     | 0                     | 1                     | \n",
       "| 104 | 3791                  |  9970                 | 10507                 | 2015-08-25            | 2015-08-26            | Treatment Effect      | Treatment Effect      | 49B78                 | 3                     | 0                     | 1                     |                       |                       |                       | 10.53                 | 339.0                 | f                     | 85                    | 2.11                  | 1.83                  | 0.96                  | 0.68                  | -2.03                 | 2.077567              | 0.6070571             | 1.99                  | 0.61                  | 0.57                  | 0.59                  | 100                   | 0.55                  | 100                   | 100                   | 1.54                  | 0.51                  | 1.02                  | 0.68                  | 0.51                  | 0.27                  | 0.86                  | 0.86                  | 0.86                  |                       | NA                    | NA                    | NA                    | NA                    | 1                     | 0                     | 1                     | 1                     | 1                     | 1                     | 1                     | 1                     | 20.00                 | 80.00                 |  0                    | 100                   | 0                     | 1                     | 1                     | 0                     | 1                     | \n",
       "| 105 | 3791                  |  9970                 | 10507                 | 2015-08-25            | 2015-08-26            | Treatment Effect      | Treatment Effect      | 49B78                 | 3                     | 0                     | 1                     |                       |                       |                       | 10.53                 | 339.0                 | f                     | 85                    | 2.11                  | 1.83                  | 0.96                  | 0.68                  | -2.03                 | 2.077567              | 0.6070571             | 1.99                  | 0.61                  | 0.57                  | 0.59                  | 100                   | 0.55                  | 100                   | 100                   | 1.54                  | 0.51                  | 1.02                  | 0.68                  | 0.51                  | 0.27                  | 0.86                  | 0.86                  | 0.86                  |                       | NA                    | NA                    | NA                    | NA                    | 1                     | 0                     | 1                     | 1                     | 1                     | 1                     | 1                     | 1                     | 20.00                 | 80.00                 |  0                    | 100                   | 0                     | 1                     | 1                     | 0                     | 1                     | \n",
       "| 207 | 3783                  | 11192                 | 11150                 | 2017-01-29            | 2017-01-30            | Grade III             | Astrocytoma           | 36B97                 | 3                     | 0                     | 1                     | 2                     | 1                     | 0                     |  9.56                 | 207.2                 | f                     | 75                    | 1.80                  | 1.86                  | 1.39                  | 1.26                  | -1.17                 | 1.670000              | 0.7300000             | 1.69                  | 1.06                  | 0.79                  | 0.67                  | 100                   | 0.75                  | 100                   | 100                   | 5.83                  | 4.55                  | 0.31                  | 1.97                  | 0.90                  | 0.81                  | 0.05                  | 0.05                  | 0.05                  |                       | NA                    | NA                    | NA                    | NA                    | 1                     | 1                     | 1                     | 1                     | 1                     | 1                     | 1                     | 1                     | 33.33                 | 66.67                 | NA                    | 100                   | 1                     | 1                     | 1                     | 0                     | 1                     | \n",
       "| 208 | 3783                  | 11192                 | 11150                 | 2017-01-29            | 2017-01-30            | Grade III             | Astrocytoma           | 36B97                 | 3                     | 0                     | 1                     | 2                     | 1                     | 0                     |  9.56                 | 207.2                 | f                     | 75                    | 1.80                  | 1.86                  | 1.39                  | 1.26                  | -1.17                 | 1.670000              | 0.7300000             | 1.69                  | 1.06                  | 0.79                  | 0.67                  | 100                   | 0.75                  | 100                   | 100                   | 5.83                  | 4.55                  | 0.31                  | 1.97                  | 0.90                  | 0.81                  | 0.05                  | 0.05                  | 0.05                  |                       | NA                    | NA                    | NA                    | NA                    | 1                     | 1                     | 1                     | 1                     | 1                     | 1                     | 1                     | 1                     | 33.33                 | 66.67                 | NA                    | 100                   | 1                     | 1                     | 1                     | 0                     | 1                     | \n",
       "\n",
       "\n"
      ],
      "text/plain": [
       "    b_number t_number sf_number current_scan_date current_surgery_date\n",
       "64  3645      9213    10138     2014-10-22        2014-10-23          \n",
       "65  3645      9213    10138     2014-10-22        2014-10-23          \n",
       "71  3670      9288    10199     2014-12-16        2014-12-17          \n",
       "72  3670      9288    10199     2014-12-16        2014-12-17          \n",
       "104 3791      9970    10507     2015-08-25        2015-08-26          \n",
       "105 3791      9970    10507     2015-08-25        2015-08-26          \n",
       "207 3783     11192    11150     2017-01-29        2017-01-30          \n",
       "208 3783     11192    11150     2017-01-29        2017-01-30          \n",
       "    current_hist_grade current_hist_type roi.label tumor_cell_evaluation\n",
       "64  Grade IV           Glioblastoma      49B74     3                    \n",
       "65  Grade IV           Glioblastoma      49B74     3                    \n",
       "71  Grade IV           Glioblastoma      49B75     2                    \n",
       "72  Grade IV           Glioblastoma      49B75     2                    \n",
       "104 Treatment Effect   Treatment Effect  49B78     3                    \n",
       "105 Treatment Effect   Treatment Effect  49B78     3                    \n",
       "207 Grade III          Astrocytoma       36B97     3                    \n",
       "208 Grade III          Astrocytoma       36B97     3                    \n",
       "    necrosis mv_hyperplasia f8_delicate f8_simple f8_complex mib_1\n",
       "64  0        2                                               40.81\n",
       "65  0        2                                               40.81\n",
       "71  0        2                                                5.92\n",
       "72  0        2                                                5.92\n",
       "104 0        1                                               10.53\n",
       "105 0        1                                               10.53\n",
       "207 0        1              2           1         0           9.56\n",
       "208 0        1              2           1         0           9.56\n",
       "    avgerage_cells bx_pure_treatment_effect percent_tumor_nuclei nfse nfl  nt1c\n",
       "64     NA          f                        80                   1.65 1.55 1.32\n",
       "65     NA          f                        80                   1.65 1.55 1.32\n",
       "71  261.0                                   70                   1.74 1.82 1.35\n",
       "72  261.0                                   70                   1.74 1.82 1.35\n",
       "104 339.0          f                        85                   2.11 1.83 0.96\n",
       "105 339.0          f                        85                   2.11 1.83 0.96\n",
       "207 207.2          f                        75                   1.80 1.86 1.39\n",
       "208 207.2          f                        75                   1.80 1.86 1.39\n",
       "    nt1v nt1d  nadc.1   nfa.1     nadc.2 nfa.2 phn_nlin cbvn_nlin recov_nlin\n",
       "64  0.66 -6.92 1.700000 0.5000000 1.74   0.61  1.29     1.62      100       \n",
       "65  0.66 -6.92 1.700000 0.5000000 1.74   0.61  1.29     1.62      100       \n",
       "71  0.92 -3.35 1.640000 0.7200000 1.71   0.72  1.12     1.09      100       \n",
       "72  0.92 -3.35 1.640000 0.7200000 1.71   0.72  1.12     1.09      100       \n",
       "104 0.68 -2.03 2.077567 0.6070571 1.99   0.61  0.57     0.59      100       \n",
       "105 0.68 -2.03 2.077567 0.6070571 1.99   0.61  0.57     0.59      100       \n",
       "207 1.26 -1.17 1.670000 0.7300000 1.69   1.06  0.79     0.67      100       \n",
       "208 1.26 -1.17 1.670000 0.7300000 1.69   1.06  0.79     0.67      100       \n",
       "    phn_npar recov_npar recovn_npar cni  ccri crni ncho ncre nnaa nlip nlac\n",
       "64  1.24     100        100         3.51 2.14 0.94 0.69 0.26 0.07 0.12 0.28\n",
       "65  1.24     100        100         3.51 2.14 0.94 0.69 0.26 0.07 0.12 0.28\n",
       "71  1.04     100        100           NA   NA   NA   NA   NA   NA   NA   NA\n",
       "72  1.04     100        100           NA   NA   NA   NA   NA   NA   NA   NA\n",
       "104 0.55     100        100         1.54 0.51 1.02 0.68 0.51 0.27 0.86 0.86\n",
       "105 0.55     100        100         1.54 0.51 1.02 0.68 0.51 0.27 0.86 0.86\n",
       "207 0.75     100        100         5.83 4.55 0.31 1.97 0.90 0.81 0.05 0.05\n",
       "208 0.75     100        100         5.83 4.55 0.31 1.97 0.90 0.81 0.05 0.05\n",
       "    laclip comments              notes. imaging_code perf_quant spec_quant\n",
       "64  0.40                         NA     NA           NA         NA        \n",
       "65  0.40                         NA     NA           NA         NA        \n",
       "71    NA   \"foci of macrophages\" NA     NA           NA         all_zeros \n",
       "72    NA   \"foci of macrophages\" NA     NA           NA         all_zeros \n",
       "104 0.86                         NA     NA           NA         NA        \n",
       "105 0.86                         NA     NA           NA         NA        \n",
       "207 0.05                         NA     NA           NA         NA        \n",
       "208 0.05                         NA     NA           NA         NA        \n",
       "    include_anat include_diffu1000 include_diffu2000 include_diffu_all\n",
       "64  1            1                 1                 1                \n",
       "65  1            1                 1                 1                \n",
       "71  1            1                 1                 1                \n",
       "72  1            1                 1                 1                \n",
       "104 1            0                 1                 1                \n",
       "105 1            0                 1                 1                \n",
       "207 1            1                 1                 1                \n",
       "208 1            1                 1                 1                \n",
       "    include_perf include_spec include_one_advanced_mod\n",
       "64  1            1            1                       \n",
       "65  1            1            1                       \n",
       "71  1            0            1                       \n",
       "72  1            0            1                       \n",
       "104 1            1            1                       \n",
       "105 1            1            1                       \n",
       "207 1            1            1                       \n",
       "208 1            1            1                       \n",
       "    include_all_advanced_mods X.CEL X.NEL X.NEC sum in_CEL in_T2all in_NEL\n",
       "64  1                         95.74  4.26 NA    100 1      1        0     \n",
       "65  1                         95.74  4.26 NA    100 1      1        0     \n",
       "71  0                         58.33 41.67  0    100 1      1        0     \n",
       "72  0                         58.33 41.67  0    100 1      1        0     \n",
       "104 1                         20.00 80.00  0    100 0      1        1     \n",
       "105 1                         20.00 80.00  0    100 0      1        1     \n",
       "207 1                         33.33 66.67 NA    100 1      1        1     \n",
       "208 1                         33.33 66.67 NA    100 1      1        1     \n",
       "    in_NEC in_ROI\n",
       "64  0      1     \n",
       "65  0      1     \n",
       "71  0      1     \n",
       "72  0      1     \n",
       "104 0      1     \n",
       "105 0      1     \n",
       "207 0      1     \n",
       "208 0      1     "
      ]
     },
     "metadata": {},
     "output_type": "display_data"
    }
   ],
   "source": [
    "## inspect duplication: \n",
    "recgli[recgli$roi.label %in% recgli[which((duplicated(recgli$roi.label))),]$roi.label,]\n",
    "## all looks the same so remove duplicates: \n",
    "recgli = recgli[-which((duplicated(recgli$roi.label))),]\n"
   ]
  },
  {
   "cell_type": "code",
   "execution_count": 92,
   "metadata": {
    "collapsed": false
   },
   "outputs": [
    {
     "data": {
      "text/html": [
       "<ol class=list-inline>\n",
       "\t<li>299</li>\n",
       "\t<li>64</li>\n",
       "</ol>\n"
      ],
      "text/latex": [
       "\\begin{enumerate*}\n",
       "\\item 299\n",
       "\\item 64\n",
       "\\end{enumerate*}\n"
      ],
      "text/markdown": [
       "1. 299\n",
       "2. 64\n",
       "\n",
       "\n"
      ],
      "text/plain": [
       "[1] 299  64"
      ]
     },
     "metadata": {},
     "output_type": "display_data"
    }
   ],
   "source": [
    "dim(recgli)"
   ]
  },
  {
   "cell_type": "code",
   "execution_count": 93,
   "metadata": {
    "collapsed": true,
    "deletable": true,
    "editable": true
   },
   "outputs": [],
   "source": [
    "write.csv(recgli, \"REC_HGG_Annotation_Oct2018/7thAnnot_researchpath_withInVivo.csv\", row.names = F )"
   ]
  },
  {
   "cell_type": "markdown",
   "metadata": {
    "deletable": true,
    "editable": true
   },
   "source": [
    "## 8. Excludes ependymomas and other non-astro non-oligo HGGs (desired_hist) \n"
   ]
  },
  {
   "cell_type": "code",
   "execution_count": 94,
   "metadata": {
    "collapsed": true,
    "deletable": true,
    "editable": true
   },
   "outputs": [],
   "source": [
    "all_recgli = read.csv(\"REC_HGG_Annotation_Oct2018/7thAnnot_researchpath_withInVivo.csv\")"
   ]
  },
  {
   "cell_type": "code",
   "execution_count": 95,
   "metadata": {
    "collapsed": false,
    "deletable": true,
    "editable": true
   },
   "outputs": [
    {
     "data": {
      "text/html": [
       "<ol class=list-inline>\n",
       "\t<li>299</li>\n",
       "\t<li>64</li>\n",
       "</ol>\n"
      ],
      "text/latex": [
       "\\begin{enumerate*}\n",
       "\\item 299\n",
       "\\item 64\n",
       "\\end{enumerate*}\n"
      ],
      "text/markdown": [
       "1. 299\n",
       "2. 64\n",
       "\n",
       "\n"
      ],
      "text/plain": [
       "[1] 299  64"
      ]
     },
     "metadata": {},
     "output_type": "display_data"
    },
    {
     "data": {
      "text/html": [
       "<ol class=list-inline>\n",
       "\t<li>'b_number'</li>\n",
       "\t<li>'t_number'</li>\n",
       "\t<li>'sf_number'</li>\n",
       "\t<li>'current_scan_date'</li>\n",
       "\t<li>'current_surgery_date'</li>\n",
       "\t<li>'current_hist_grade'</li>\n",
       "\t<li>'current_hist_type'</li>\n",
       "\t<li>'roi.label'</li>\n",
       "\t<li>'tumor_cell_evaluation'</li>\n",
       "\t<li>'necrosis'</li>\n",
       "\t<li>'mv_hyperplasia'</li>\n",
       "\t<li>'f8_delicate'</li>\n",
       "\t<li>'f8_simple'</li>\n",
       "\t<li>'f8_complex'</li>\n",
       "\t<li>'mib_1'</li>\n",
       "\t<li>'avgerage_cells'</li>\n",
       "\t<li>'bx_pure_treatment_effect'</li>\n",
       "\t<li>'percent_tumor_nuclei'</li>\n",
       "\t<li>'nfse'</li>\n",
       "\t<li>'nfl'</li>\n",
       "\t<li>'nt1c'</li>\n",
       "\t<li>'nt1v'</li>\n",
       "\t<li>'nt1d'</li>\n",
       "\t<li>'nadc.1'</li>\n",
       "\t<li>'nfa.1'</li>\n",
       "\t<li>'nadc.2'</li>\n",
       "\t<li>'nfa.2'</li>\n",
       "\t<li>'phn_nlin'</li>\n",
       "\t<li>'cbvn_nlin'</li>\n",
       "\t<li>'recov_nlin'</li>\n",
       "\t<li>'phn_npar'</li>\n",
       "\t<li>'recov_npar'</li>\n",
       "\t<li>'recovn_npar'</li>\n",
       "\t<li>'cni'</li>\n",
       "\t<li>'ccri'</li>\n",
       "\t<li>'crni'</li>\n",
       "\t<li>'ncho'</li>\n",
       "\t<li>'ncre'</li>\n",
       "\t<li>'nnaa'</li>\n",
       "\t<li>'nlip'</li>\n",
       "\t<li>'nlac'</li>\n",
       "\t<li>'laclip'</li>\n",
       "\t<li>'comments'</li>\n",
       "\t<li>'notes.'</li>\n",
       "\t<li>'imaging_code'</li>\n",
       "\t<li>'perf_quant'</li>\n",
       "\t<li>'spec_quant'</li>\n",
       "\t<li>'include_anat'</li>\n",
       "\t<li>'include_diffu1000'</li>\n",
       "\t<li>'include_diffu2000'</li>\n",
       "\t<li>'include_diffu_all'</li>\n",
       "\t<li>'include_perf'</li>\n",
       "\t<li>'include_spec'</li>\n",
       "\t<li>'include_one_advanced_mod'</li>\n",
       "\t<li>'include_all_advanced_mods'</li>\n",
       "\t<li>'X.CEL'</li>\n",
       "\t<li>'X.NEL'</li>\n",
       "\t<li>'X.NEC'</li>\n",
       "\t<li>'sum'</li>\n",
       "\t<li>'in_CEL'</li>\n",
       "\t<li>'in_T2all'</li>\n",
       "\t<li>'in_NEL'</li>\n",
       "\t<li>'in_NEC'</li>\n",
       "\t<li>'in_ROI'</li>\n",
       "\t<li>'desired_hist'</li>\n",
       "</ol>\n"
      ],
      "text/latex": [
       "\\begin{enumerate*}\n",
       "\\item 'b\\_number'\n",
       "\\item 't\\_number'\n",
       "\\item 'sf\\_number'\n",
       "\\item 'current\\_scan\\_date'\n",
       "\\item 'current\\_surgery\\_date'\n",
       "\\item 'current\\_hist\\_grade'\n",
       "\\item 'current\\_hist\\_type'\n",
       "\\item 'roi.label'\n",
       "\\item 'tumor\\_cell\\_evaluation'\n",
       "\\item 'necrosis'\n",
       "\\item 'mv\\_hyperplasia'\n",
       "\\item 'f8\\_delicate'\n",
       "\\item 'f8\\_simple'\n",
       "\\item 'f8\\_complex'\n",
       "\\item 'mib\\_1'\n",
       "\\item 'avgerage\\_cells'\n",
       "\\item 'bx\\_pure\\_treatment\\_effect'\n",
       "\\item 'percent\\_tumor\\_nuclei'\n",
       "\\item 'nfse'\n",
       "\\item 'nfl'\n",
       "\\item 'nt1c'\n",
       "\\item 'nt1v'\n",
       "\\item 'nt1d'\n",
       "\\item 'nadc.1'\n",
       "\\item 'nfa.1'\n",
       "\\item 'nadc.2'\n",
       "\\item 'nfa.2'\n",
       "\\item 'phn\\_nlin'\n",
       "\\item 'cbvn\\_nlin'\n",
       "\\item 'recov\\_nlin'\n",
       "\\item 'phn\\_npar'\n",
       "\\item 'recov\\_npar'\n",
       "\\item 'recovn\\_npar'\n",
       "\\item 'cni'\n",
       "\\item 'ccri'\n",
       "\\item 'crni'\n",
       "\\item 'ncho'\n",
       "\\item 'ncre'\n",
       "\\item 'nnaa'\n",
       "\\item 'nlip'\n",
       "\\item 'nlac'\n",
       "\\item 'laclip'\n",
       "\\item 'comments'\n",
       "\\item 'notes.'\n",
       "\\item 'imaging\\_code'\n",
       "\\item 'perf\\_quant'\n",
       "\\item 'spec\\_quant'\n",
       "\\item 'include\\_anat'\n",
       "\\item 'include\\_diffu1000'\n",
       "\\item 'include\\_diffu2000'\n",
       "\\item 'include\\_diffu\\_all'\n",
       "\\item 'include\\_perf'\n",
       "\\item 'include\\_spec'\n",
       "\\item 'include\\_one\\_advanced\\_mod'\n",
       "\\item 'include\\_all\\_advanced\\_mods'\n",
       "\\item 'X.CEL'\n",
       "\\item 'X.NEL'\n",
       "\\item 'X.NEC'\n",
       "\\item 'sum'\n",
       "\\item 'in\\_CEL'\n",
       "\\item 'in\\_T2all'\n",
       "\\item 'in\\_NEL'\n",
       "\\item 'in\\_NEC'\n",
       "\\item 'in\\_ROI'\n",
       "\\item 'desired\\_hist'\n",
       "\\end{enumerate*}\n"
      ],
      "text/markdown": [
       "1. 'b_number'\n",
       "2. 't_number'\n",
       "3. 'sf_number'\n",
       "4. 'current_scan_date'\n",
       "5. 'current_surgery_date'\n",
       "6. 'current_hist_grade'\n",
       "7. 'current_hist_type'\n",
       "8. 'roi.label'\n",
       "9. 'tumor_cell_evaluation'\n",
       "10. 'necrosis'\n",
       "11. 'mv_hyperplasia'\n",
       "12. 'f8_delicate'\n",
       "13. 'f8_simple'\n",
       "14. 'f8_complex'\n",
       "15. 'mib_1'\n",
       "16. 'avgerage_cells'\n",
       "17. 'bx_pure_treatment_effect'\n",
       "18. 'percent_tumor_nuclei'\n",
       "19. 'nfse'\n",
       "20. 'nfl'\n",
       "21. 'nt1c'\n",
       "22. 'nt1v'\n",
       "23. 'nt1d'\n",
       "24. 'nadc.1'\n",
       "25. 'nfa.1'\n",
       "26. 'nadc.2'\n",
       "27. 'nfa.2'\n",
       "28. 'phn_nlin'\n",
       "29. 'cbvn_nlin'\n",
       "30. 'recov_nlin'\n",
       "31. 'phn_npar'\n",
       "32. 'recov_npar'\n",
       "33. 'recovn_npar'\n",
       "34. 'cni'\n",
       "35. 'ccri'\n",
       "36. 'crni'\n",
       "37. 'ncho'\n",
       "38. 'ncre'\n",
       "39. 'nnaa'\n",
       "40. 'nlip'\n",
       "41. 'nlac'\n",
       "42. 'laclip'\n",
       "43. 'comments'\n",
       "44. 'notes.'\n",
       "45. 'imaging_code'\n",
       "46. 'perf_quant'\n",
       "47. 'spec_quant'\n",
       "48. 'include_anat'\n",
       "49. 'include_diffu1000'\n",
       "50. 'include_diffu2000'\n",
       "51. 'include_diffu_all'\n",
       "52. 'include_perf'\n",
       "53. 'include_spec'\n",
       "54. 'include_one_advanced_mod'\n",
       "55. 'include_all_advanced_mods'\n",
       "56. 'X.CEL'\n",
       "57. 'X.NEL'\n",
       "58. 'X.NEC'\n",
       "59. 'sum'\n",
       "60. 'in_CEL'\n",
       "61. 'in_T2all'\n",
       "62. 'in_NEL'\n",
       "63. 'in_NEC'\n",
       "64. 'in_ROI'\n",
       "65. 'desired_hist'\n",
       "\n",
       "\n"
      ],
      "text/plain": [
       " [1] \"b_number\"                  \"t_number\"                 \n",
       " [3] \"sf_number\"                 \"current_scan_date\"        \n",
       " [5] \"current_surgery_date\"      \"current_hist_grade\"       \n",
       " [7] \"current_hist_type\"         \"roi.label\"                \n",
       " [9] \"tumor_cell_evaluation\"     \"necrosis\"                 \n",
       "[11] \"mv_hyperplasia\"            \"f8_delicate\"              \n",
       "[13] \"f8_simple\"                 \"f8_complex\"               \n",
       "[15] \"mib_1\"                     \"avgerage_cells\"           \n",
       "[17] \"bx_pure_treatment_effect\"  \"percent_tumor_nuclei\"     \n",
       "[19] \"nfse\"                      \"nfl\"                      \n",
       "[21] \"nt1c\"                      \"nt1v\"                     \n",
       "[23] \"nt1d\"                      \"nadc.1\"                   \n",
       "[25] \"nfa.1\"                     \"nadc.2\"                   \n",
       "[27] \"nfa.2\"                     \"phn_nlin\"                 \n",
       "[29] \"cbvn_nlin\"                 \"recov_nlin\"               \n",
       "[31] \"phn_npar\"                  \"recov_npar\"               \n",
       "[33] \"recovn_npar\"               \"cni\"                      \n",
       "[35] \"ccri\"                      \"crni\"                     \n",
       "[37] \"ncho\"                      \"ncre\"                     \n",
       "[39] \"nnaa\"                      \"nlip\"                     \n",
       "[41] \"nlac\"                      \"laclip\"                   \n",
       "[43] \"comments\"                  \"notes.\"                   \n",
       "[45] \"imaging_code\"              \"perf_quant\"               \n",
       "[47] \"spec_quant\"                \"include_anat\"             \n",
       "[49] \"include_diffu1000\"         \"include_diffu2000\"        \n",
       "[51] \"include_diffu_all\"         \"include_perf\"             \n",
       "[53] \"include_spec\"              \"include_one_advanced_mod\" \n",
       "[55] \"include_all_advanced_mods\" \"X.CEL\"                    \n",
       "[57] \"X.NEL\"                     \"X.NEC\"                    \n",
       "[59] \"sum\"                       \"in_CEL\"                   \n",
       "[61] \"in_T2all\"                  \"in_NEL\"                   \n",
       "[63] \"in_NEC\"                    \"in_ROI\"                   \n",
       "[65] \"desired_hist\"             "
      ]
     },
     "metadata": {},
     "output_type": "display_data"
    }
   ],
   "source": [
    "desired_histology = ifelse(grepl(\"astrocytoma\", all_recgli$current_hist_type, ignore.case = T) |\n",
    "                             grepl(\"glioblastoma\", all_recgli$current_hist_type, ignore.case = T)|\n",
    "                             grepl(\"oligodendroglioma\", all_recgli$current_hist_type, ignore.case = T) |\n",
    "                             grepl(\"gliosarcoma\", all_recgli$current_hist_type, ignore.case = T) |\n",
    "                             grepl(\"effect\", all_recgli$current_hist_type, ignore.case = T), 1, 0)\n",
    "dim(all_recgli)\n",
    "all_recgli = data.frame(all_recgli, desired_hist = desired_histology)\n",
    "colnames(all_recgli)"
   ]
  },
  {
   "cell_type": "code",
   "execution_count": 96,
   "metadata": {
    "collapsed": false,
    "deletable": true,
    "editable": true
   },
   "outputs": [],
   "source": [
    "all_recgli = write.csv(all_recgli, \"REC_HGG_Annotation_Oct2018/8thAnnot_researchpath_withInVivo.csv\", row.names = F)"
   ]
  },
  {
   "cell_type": "markdown",
   "metadata": {
    "deletable": true,
    "editable": true
   },
   "source": [
    "## 9. Creates outcome labels (multnom_out), adds necrosis, makes PN category (pathologically normal) that are in CEL or in the NEL region labeled TxE "
   ]
  },
  {
   "cell_type": "code",
   "execution_count": 97,
   "metadata": {
    "collapsed": false,
    "deletable": true,
    "editable": true
   },
   "outputs": [],
   "source": [
    "all_recgli = read.csv(\"REC_HGG_Annotation_Oct2018/8thAnnot_researchpath_withInVivo.csv\")"
   ]
  },
  {
   "cell_type": "code",
   "execution_count": 98,
   "metadata": {
    "collapsed": false,
    "deletable": true,
    "editable": true
   },
   "outputs": [
    {
     "data": {
      "text/html": [
       "<ol class=list-inline>\n",
       "\t<li>299</li>\n",
       "\t<li>65</li>\n",
       "</ol>\n"
      ],
      "text/latex": [
       "\\begin{enumerate*}\n",
       "\\item 299\n",
       "\\item 65\n",
       "\\end{enumerate*}\n"
      ],
      "text/markdown": [
       "1. 299\n",
       "2. 65\n",
       "\n",
       "\n"
      ],
      "text/plain": [
       "[1] 299  65"
      ]
     },
     "metadata": {},
     "output_type": "display_data"
    }
   ],
   "source": [
    "dim(all_recgli)"
   ]
  },
  {
   "cell_type": "code",
   "execution_count": 99,
   "metadata": {
    "collapsed": false,
    "deletable": true,
    "editable": true
   },
   "outputs": [],
   "source": [
    "all_recgli = data.frame(all_recgli, multnom_out = NA)## start by labeling all w/ TS = 0 PN and then label those that have chars of txe as such "
   ]
  },
  {
   "cell_type": "markdown",
   "metadata": {
    "deletable": true,
    "editable": true
   },
   "source": [
    "#### Start by labeling all w/ TS = 0 PN and then label those that have chars of txe as such \n"
   ]
  },
  {
   "cell_type": "code",
   "execution_count": 100,
   "metadata": {
    "collapsed": false,
    "deletable": true,
    "editable": true
   },
   "outputs": [],
   "source": [
    "all_recgli$multnom_out[grep(\"0\", all_recgli$tumor_cell_evaluation)]=\"PN\""
   ]
  },
  {
   "cell_type": "markdown",
   "metadata": {
    "deletable": true,
    "editable": true
   },
   "source": [
    "Here i want to find all the biopsies with information using any of the keywords:  \n",
    "\"microglia\" \"glia\" \"yalinized\" \"reactive\" \"RX\" \"gliosis\" \"treatment effect\" \"tx effect\"\n",
    "\"hyalin\" \"inflammation\" "
   ]
  },
  {
   "cell_type": "code",
   "execution_count": 101,
   "metadata": {
    "collapsed": true,
    "deletable": true,
    "editable": true
   },
   "outputs": [],
   "source": [
    "txe_keyword_search = c(grep(\"glia\", all_recgli$comments, ignore.case = T), \n",
    "                       grep(\"yalin\", all_recgli$comments,ignore.case = T),\n",
    "                       grep(\"reactive\", all_recgli$comments, ignore.case = T),\n",
    "                       grep(\"rx\", all_recgli$comments, ignore.case = T), \n",
    "                       grep(\"gliosis\", all_recgli$comments, ignore.case = T), \n",
    "                       grep(\"effect\", all_recgli$comments, ignore.case = T),\n",
    "                       grep(\"inflammation\", all_recgli$comments, ignore.case = T)) \n",
    "ts0 = grep(\"0\", all_recgli$tumor_cell_evaluation)"
   ]
  },
  {
   "cell_type": "code",
   "execution_count": 102,
   "metadata": {
    "collapsed": false,
    "deletable": true,
    "editable": true
   },
   "outputs": [
    {
     "data": {
      "text/plain": [
       "\n",
       "   IndDNI noFFPEDNI        PN      rHGG    Ts1DNI       TxE \n",
       "        4        22        17       162        32        11 "
      ]
     },
     "metadata": {},
     "output_type": "display_data"
    },
    {
     "data": {
      "text/plain": [
       "\n",
       "FALSE  TRUE \n",
       "  248    51 "
      ]
     },
     "metadata": {},
     "output_type": "display_data"
    },
    {
     "data": {
      "text/plain": [
       "\n",
       "dneDNI IndDNI     PN   rHGG Ts1DNI    TxE \n",
       "    82      3     17    157     29     11 "
      ]
     },
     "metadata": {},
     "output_type": "display_data"
    },
    {
     "data": {
      "text/html": [
       "<ol class=list-inline>\n",
       "\t<li>299</li>\n",
       "\t<li>67</li>\n",
       "</ol>\n"
      ],
      "text/latex": [
       "\\begin{enumerate*}\n",
       "\\item 299\n",
       "\\item 67\n",
       "\\end{enumerate*}\n"
      ],
      "text/markdown": [
       "1. 299\n",
       "2. 67\n",
       "\n",
       "\n"
      ],
      "text/plain": [
       "[1] 299  67"
      ]
     },
     "metadata": {},
     "output_type": "display_data"
    }
   ],
   "source": [
    "txe_probably = intersect(grep(1, all_recgli$olddata), grep(\"t\", all_recgli$bx_pure_treatment_effect))\n",
    "all_recgli$multnom_out[txe_probably]=\"TxE\"\n",
    "## using the intersection of those w/ ts 0 and have a keyword that matches TxE eval\n",
    "all_recgli$multnom_out[intersect(ts0, txe_keyword_search)]=\"TxE\"\n",
    "## labeling TS = 1 (to exclude from analysis)\n",
    "all_recgli$multnom_out[grep(\"1\", all_recgli$tumor_cell_evaluation)]=\"Ts1DNI\"\n",
    "## labeling noFFPE \n",
    "no_ffpe = ifelse(grepl(\"FFPE\", all_recgli$comments) | grepl(\"FFPE\", all_recgli$notes.), 1, 0)\n",
    "all_recgli = data.frame(all_recgli, no_ffpe = no_ffpe)\n",
    "all_recgli$multnom_out[grep(1, all_recgli$no_ffpe)]=\"noFFPEDNI\"\n",
    "## labeling Indeterminables \n",
    "all_recgli$multnom_out[grep(\"Ind\", all_recgli$tumor_cell_evaluation)]=\"IndDNI\"\n",
    "## labeling rHGG\n",
    "all_recgli$multnom_out[grep(\"2\", all_recgli$tumor_cell_evaluation)]=\"rHGG\"\n",
    "all_recgli$multnom_out[grep(\"3\", all_recgli$tumor_cell_evaluation)]=\"rHGG\"\n",
    "table(all_recgli$multnom_out)\n",
    "table(is.na(all_recgli$multnom_out))\n",
    "# FALSE 539, TRUE 81 \n",
    "## labeling no path_report on box \n",
    "all_recgli$multnom_out[grep(\"path_report\", all_recgli$notes.)]=\"dneDNI\"\n",
    "all_recgli$multnom_out[all_recgli$tumor_cell_evaluation==\"\"]=\"dneDNI\"\n",
    "table(all_recgli$multnom_out)\n",
    "dim(all_recgli)"
   ]
  },
  {
   "cell_type": "markdown",
   "metadata": {
    "deletable": true,
    "editable": true
   },
   "source": [
    "So there are currently still 86 biopsies that need to be annotated; Now let's create a column called \"waiting_on_path\" "
   ]
  },
  {
   "cell_type": "code",
   "execution_count": 103,
   "metadata": {
    "collapsed": false,
    "deletable": true,
    "editable": true
   },
   "outputs": [],
   "source": [
    "all_recgli = data.frame(all_recgli, waiting_on_path=ifelse(all_recgli$multnom_out==\"dneDNI\", 1, 0))"
   ]
  },
  {
   "cell_type": "code",
   "execution_count": 104,
   "metadata": {
    "collapsed": false,
    "deletable": true,
    "editable": true
   },
   "outputs": [
    {
     "data": {
      "text/plain": [
       "\n",
       "  0   1 \n",
       "217  82 "
      ]
     },
     "metadata": {},
     "output_type": "display_data"
    },
    {
     "data": {
      "text/html": [
       "<ol class=list-inline>\n",
       "\t<li>299</li>\n",
       "\t<li>68</li>\n",
       "</ol>\n"
      ],
      "text/latex": [
       "\\begin{enumerate*}\n",
       "\\item 299\n",
       "\\item 68\n",
       "\\end{enumerate*}\n"
      ],
      "text/markdown": [
       "1. 299\n",
       "2. 68\n",
       "\n",
       "\n"
      ],
      "text/plain": [
       "[1] 299  68"
      ]
     },
     "metadata": {},
     "output_type": "display_data"
    }
   ],
   "source": [
    "table(all_recgli$waiting_on_path)\n",
    "dim(all_recgli)"
   ]
  },
  {
   "cell_type": "markdown",
   "metadata": {
    "deletable": true,
    "editable": true
   },
   "source": [
    "#### Adding in necrosis to the multnom_out: "
   ]
  },
  {
   "cell_type": "code",
   "execution_count": 105,
   "metadata": {
    "collapsed": false,
    "deletable": true,
    "editable": true
   },
   "outputs": [
    {
     "data": {
      "text/plain": [
       "\n",
       "dneDNI IndDNI NecDNI     PN   rHGG Ts1DNI    TxE \n",
       "    78      1     15     17    149     29     10 "
      ]
     },
     "metadata": {},
     "output_type": "display_data"
    }
   ],
   "source": [
    "all_recgli$multnom_out = ifelse(is.na(all_recgli$necrosis) | all_recgli$necrosis !=2, as.character(all_recgli$multnom_out), \"NecDNI\")\n",
    "table(all_recgli$multnom_out)"
   ]
  },
  {
   "cell_type": "code",
   "execution_count": 106,
   "metadata": {
    "collapsed": false,
    "deletable": true,
    "editable": true
   },
   "outputs": [
    {
     "data": {
      "text/html": [
       "<ol class=list-inline>\n",
       "\t<li>299</li>\n",
       "\t<li>68</li>\n",
       "</ol>\n"
      ],
      "text/latex": [
       "\\begin{enumerate*}\n",
       "\\item 299\n",
       "\\item 68\n",
       "\\end{enumerate*}\n"
      ],
      "text/markdown": [
       "1. 299\n",
       "2. 68\n",
       "\n",
       "\n"
      ],
      "text/plain": [
       "[1] 299  68"
      ]
     },
     "metadata": {},
     "output_type": "display_data"
    },
    {
     "data": {
      "text/html": [
       "<ol class=list-inline>\n",
       "\t<li>0</li>\n",
       "\t<li>68</li>\n",
       "</ol>\n"
      ],
      "text/latex": [
       "\\begin{enumerate*}\n",
       "\\item 0\n",
       "\\item 68\n",
       "\\end{enumerate*}\n"
      ],
      "text/markdown": [
       "1. 0\n",
       "2. 68\n",
       "\n",
       "\n"
      ],
      "text/plain": [
       "[1]  0 68"
      ]
     },
     "metadata": {},
     "output_type": "display_data"
    }
   ],
   "source": [
    "dim(all_recgli)\n",
    "dim(all_recgli[is.na(all_recgli$multnom_out),]) ## zero w/ no outcome code, let's keep going: "
   ]
  },
  {
   "cell_type": "markdown",
   "metadata": {
    "deletable": true,
    "editable": true
   },
   "source": [
    "#### Need to account for PNs that are actually in CEL or NEL "
   ]
  },
  {
   "cell_type": "code",
   "execution_count": 107,
   "metadata": {
    "collapsed": false,
    "deletable": true,
    "editable": true
   },
   "outputs": [
    {
     "data": {
      "text/html": [
       "<ol class=list-inline>\n",
       "\t<li>15</li>\n",
       "\t<li>68</li>\n",
       "</ol>\n"
      ],
      "text/latex": [
       "\\begin{enumerate*}\n",
       "\\item 15\n",
       "\\item 68\n",
       "\\end{enumerate*}\n"
      ],
      "text/markdown": [
       "1. 15\n",
       "2. 68\n",
       "\n",
       "\n"
      ],
      "text/plain": [
       "[1] 15 68"
      ]
     },
     "metadata": {},
     "output_type": "display_data"
    },
    {
     "data": {
      "text/plain": [
       "\n",
       "FALSE  TRUE \n",
       "    3    12 "
      ]
     },
     "metadata": {},
     "output_type": "display_data"
    }
   ],
   "source": [
    "PN = subset(all_recgli, all_recgli$multnom_out == \"PN\")\n",
    "PN.txe = subset(PN, PN$in_CEL==1 | PN$in_NEL ==1)\n",
    "dim(PN.txe)\n",
    "table(!duplicated(PN.txe$t_number)) ##number of potential new TxE samples"
   ]
  },
  {
   "cell_type": "code",
   "execution_count": 108,
   "metadata": {
    "collapsed": false,
    "deletable": true,
    "editable": true
   },
   "outputs": [],
   "source": [
    "PN.txe$multnom_out = \"TxE\""
   ]
  },
  {
   "cell_type": "code",
   "execution_count": 109,
   "metadata": {
    "collapsed": false,
    "deletable": true,
    "editable": true
   },
   "outputs": [
    {
     "data": {
      "text/plain": [
       "\n",
       "dneDNI IndDNI NecDNI     PN   rHGG Ts1DNI    TxE \n",
       "    78      1     15     17    149     29     10 "
      ]
     },
     "metadata": {},
     "output_type": "display_data"
    }
   ],
   "source": [
    "table(all_recgli$multnom_out)"
   ]
  },
  {
   "cell_type": "code",
   "execution_count": 110,
   "metadata": {
    "collapsed": true,
    "deletable": true,
    "editable": true
   },
   "outputs": [],
   "source": [
    "all_recgli$multnom_out[all_recgli$roi.label %in% PN.txe$roi.label]=\"TxE\""
   ]
  },
  {
   "cell_type": "code",
   "execution_count": 111,
   "metadata": {
    "collapsed": false,
    "deletable": true,
    "editable": true
   },
   "outputs": [
    {
     "data": {
      "text/plain": [
       "\n",
       "dneDNI IndDNI NecDNI     PN   rHGG Ts1DNI    TxE \n",
       "    78      1     15      2    149     29     25 "
      ]
     },
     "metadata": {},
     "output_type": "display_data"
    }
   ],
   "source": [
    "table(all_recgli$multnom_out)"
   ]
  },
  {
   "cell_type": "code",
   "execution_count": 112,
   "metadata": {
    "collapsed": true,
    "deletable": true,
    "editable": true
   },
   "outputs": [],
   "source": [
    "write.csv(all_recgli, file = \"REC_HGG_Annotation_Oct2018/9thAnnot_researchpath_withInVivo.csv\", row.names = F )"
   ]
  },
  {
   "cell_type": "markdown",
   "metadata": {
    "deletable": true,
    "editable": true
   },
   "source": [
    "## 10. Adds in binary operator to include the data only if it's rHGG or TxE "
   ]
  },
  {
   "cell_type": "code",
   "execution_count": 113,
   "metadata": {
    "collapsed": true,
    "deletable": true,
    "editable": true
   },
   "outputs": [],
   "source": [
    "recgli = read.csv(\"REC_HGG_Annotation_Oct2018/9thAnnot_researchpath_withInVivo.csv\")"
   ]
  },
  {
   "cell_type": "code",
   "execution_count": 114,
   "metadata": {
    "collapsed": false,
    "deletable": true,
    "editable": true
   },
   "outputs": [
    {
     "data": {
      "text/html": [
       "<ol class=list-inline>\n",
       "\t<li>299</li>\n",
       "\t<li>68</li>\n",
       "</ol>\n"
      ],
      "text/latex": [
       "\\begin{enumerate*}\n",
       "\\item 299\n",
       "\\item 68\n",
       "\\end{enumerate*}\n"
      ],
      "text/markdown": [
       "1. 299\n",
       "2. 68\n",
       "\n",
       "\n"
      ],
      "text/plain": [
       "[1] 299  68"
      ]
     },
     "metadata": {},
     "output_type": "display_data"
    }
   ],
   "source": [
    "dim(recgli)"
   ]
  },
  {
   "cell_type": "code",
   "execution_count": 115,
   "metadata": {
    "collapsed": false,
    "deletable": true,
    "editable": true
   },
   "outputs": [
    {
     "data": {
      "text/html": [
       "<ol class=list-inline>\n",
       "\t<li>'b_number'</li>\n",
       "\t<li>'t_number'</li>\n",
       "\t<li>'sf_number'</li>\n",
       "\t<li>'current_scan_date'</li>\n",
       "\t<li>'current_surgery_date'</li>\n",
       "\t<li>'current_hist_grade'</li>\n",
       "\t<li>'current_hist_type'</li>\n",
       "\t<li>'roi.label'</li>\n",
       "\t<li>'tumor_cell_evaluation'</li>\n",
       "\t<li>'necrosis'</li>\n",
       "\t<li>'mv_hyperplasia'</li>\n",
       "\t<li>'f8_delicate'</li>\n",
       "\t<li>'f8_simple'</li>\n",
       "\t<li>'f8_complex'</li>\n",
       "\t<li>'mib_1'</li>\n",
       "\t<li>'avgerage_cells'</li>\n",
       "\t<li>'bx_pure_treatment_effect'</li>\n",
       "\t<li>'percent_tumor_nuclei'</li>\n",
       "\t<li>'nfse'</li>\n",
       "\t<li>'nfl'</li>\n",
       "\t<li>'nt1c'</li>\n",
       "\t<li>'nt1v'</li>\n",
       "\t<li>'nt1d'</li>\n",
       "\t<li>'nadc.1'</li>\n",
       "\t<li>'nfa.1'</li>\n",
       "\t<li>'nadc.2'</li>\n",
       "\t<li>'nfa.2'</li>\n",
       "\t<li>'phn_nlin'</li>\n",
       "\t<li>'cbvn_nlin'</li>\n",
       "\t<li>'recov_nlin'</li>\n",
       "\t<li>'phn_npar'</li>\n",
       "\t<li>'recov_npar'</li>\n",
       "\t<li>'recovn_npar'</li>\n",
       "\t<li>'cni'</li>\n",
       "\t<li>'ccri'</li>\n",
       "\t<li>'crni'</li>\n",
       "\t<li>'ncho'</li>\n",
       "\t<li>'ncre'</li>\n",
       "\t<li>'nnaa'</li>\n",
       "\t<li>'nlip'</li>\n",
       "\t<li>'nlac'</li>\n",
       "\t<li>'laclip'</li>\n",
       "\t<li>'comments'</li>\n",
       "\t<li>'notes.'</li>\n",
       "\t<li>'imaging_code'</li>\n",
       "\t<li>'perf_quant'</li>\n",
       "\t<li>'spec_quant'</li>\n",
       "\t<li>'include_anat'</li>\n",
       "\t<li>'include_diffu1000'</li>\n",
       "\t<li>'include_diffu2000'</li>\n",
       "\t<li>'include_diffu_all'</li>\n",
       "\t<li>'include_perf'</li>\n",
       "\t<li>'include_spec'</li>\n",
       "\t<li>'include_one_advanced_mod'</li>\n",
       "\t<li>'include_all_advanced_mods'</li>\n",
       "\t<li>'X.CEL'</li>\n",
       "\t<li>'X.NEL'</li>\n",
       "\t<li>'X.NEC'</li>\n",
       "\t<li>'sum'</li>\n",
       "\t<li>'in_CEL'</li>\n",
       "\t<li>'in_T2all'</li>\n",
       "\t<li>'in_NEL'</li>\n",
       "\t<li>'in_NEC'</li>\n",
       "\t<li>'in_ROI'</li>\n",
       "\t<li>'desired_hist'</li>\n",
       "\t<li>'multnom_out'</li>\n",
       "\t<li>'no_ffpe'</li>\n",
       "\t<li>'waiting_on_path'</li>\n",
       "</ol>\n"
      ],
      "text/latex": [
       "\\begin{enumerate*}\n",
       "\\item 'b\\_number'\n",
       "\\item 't\\_number'\n",
       "\\item 'sf\\_number'\n",
       "\\item 'current\\_scan\\_date'\n",
       "\\item 'current\\_surgery\\_date'\n",
       "\\item 'current\\_hist\\_grade'\n",
       "\\item 'current\\_hist\\_type'\n",
       "\\item 'roi.label'\n",
       "\\item 'tumor\\_cell\\_evaluation'\n",
       "\\item 'necrosis'\n",
       "\\item 'mv\\_hyperplasia'\n",
       "\\item 'f8\\_delicate'\n",
       "\\item 'f8\\_simple'\n",
       "\\item 'f8\\_complex'\n",
       "\\item 'mib\\_1'\n",
       "\\item 'avgerage\\_cells'\n",
       "\\item 'bx\\_pure\\_treatment\\_effect'\n",
       "\\item 'percent\\_tumor\\_nuclei'\n",
       "\\item 'nfse'\n",
       "\\item 'nfl'\n",
       "\\item 'nt1c'\n",
       "\\item 'nt1v'\n",
       "\\item 'nt1d'\n",
       "\\item 'nadc.1'\n",
       "\\item 'nfa.1'\n",
       "\\item 'nadc.2'\n",
       "\\item 'nfa.2'\n",
       "\\item 'phn\\_nlin'\n",
       "\\item 'cbvn\\_nlin'\n",
       "\\item 'recov\\_nlin'\n",
       "\\item 'phn\\_npar'\n",
       "\\item 'recov\\_npar'\n",
       "\\item 'recovn\\_npar'\n",
       "\\item 'cni'\n",
       "\\item 'ccri'\n",
       "\\item 'crni'\n",
       "\\item 'ncho'\n",
       "\\item 'ncre'\n",
       "\\item 'nnaa'\n",
       "\\item 'nlip'\n",
       "\\item 'nlac'\n",
       "\\item 'laclip'\n",
       "\\item 'comments'\n",
       "\\item 'notes.'\n",
       "\\item 'imaging\\_code'\n",
       "\\item 'perf\\_quant'\n",
       "\\item 'spec\\_quant'\n",
       "\\item 'include\\_anat'\n",
       "\\item 'include\\_diffu1000'\n",
       "\\item 'include\\_diffu2000'\n",
       "\\item 'include\\_diffu\\_all'\n",
       "\\item 'include\\_perf'\n",
       "\\item 'include\\_spec'\n",
       "\\item 'include\\_one\\_advanced\\_mod'\n",
       "\\item 'include\\_all\\_advanced\\_mods'\n",
       "\\item 'X.CEL'\n",
       "\\item 'X.NEL'\n",
       "\\item 'X.NEC'\n",
       "\\item 'sum'\n",
       "\\item 'in\\_CEL'\n",
       "\\item 'in\\_T2all'\n",
       "\\item 'in\\_NEL'\n",
       "\\item 'in\\_NEC'\n",
       "\\item 'in\\_ROI'\n",
       "\\item 'desired\\_hist'\n",
       "\\item 'multnom\\_out'\n",
       "\\item 'no\\_ffpe'\n",
       "\\item 'waiting\\_on\\_path'\n",
       "\\end{enumerate*}\n"
      ],
      "text/markdown": [
       "1. 'b_number'\n",
       "2. 't_number'\n",
       "3. 'sf_number'\n",
       "4. 'current_scan_date'\n",
       "5. 'current_surgery_date'\n",
       "6. 'current_hist_grade'\n",
       "7. 'current_hist_type'\n",
       "8. 'roi.label'\n",
       "9. 'tumor_cell_evaluation'\n",
       "10. 'necrosis'\n",
       "11. 'mv_hyperplasia'\n",
       "12. 'f8_delicate'\n",
       "13. 'f8_simple'\n",
       "14. 'f8_complex'\n",
       "15. 'mib_1'\n",
       "16. 'avgerage_cells'\n",
       "17. 'bx_pure_treatment_effect'\n",
       "18. 'percent_tumor_nuclei'\n",
       "19. 'nfse'\n",
       "20. 'nfl'\n",
       "21. 'nt1c'\n",
       "22. 'nt1v'\n",
       "23. 'nt1d'\n",
       "24. 'nadc.1'\n",
       "25. 'nfa.1'\n",
       "26. 'nadc.2'\n",
       "27. 'nfa.2'\n",
       "28. 'phn_nlin'\n",
       "29. 'cbvn_nlin'\n",
       "30. 'recov_nlin'\n",
       "31. 'phn_npar'\n",
       "32. 'recov_npar'\n",
       "33. 'recovn_npar'\n",
       "34. 'cni'\n",
       "35. 'ccri'\n",
       "36. 'crni'\n",
       "37. 'ncho'\n",
       "38. 'ncre'\n",
       "39. 'nnaa'\n",
       "40. 'nlip'\n",
       "41. 'nlac'\n",
       "42. 'laclip'\n",
       "43. 'comments'\n",
       "44. 'notes.'\n",
       "45. 'imaging_code'\n",
       "46. 'perf_quant'\n",
       "47. 'spec_quant'\n",
       "48. 'include_anat'\n",
       "49. 'include_diffu1000'\n",
       "50. 'include_diffu2000'\n",
       "51. 'include_diffu_all'\n",
       "52. 'include_perf'\n",
       "53. 'include_spec'\n",
       "54. 'include_one_advanced_mod'\n",
       "55. 'include_all_advanced_mods'\n",
       "56. 'X.CEL'\n",
       "57. 'X.NEL'\n",
       "58. 'X.NEC'\n",
       "59. 'sum'\n",
       "60. 'in_CEL'\n",
       "61. 'in_T2all'\n",
       "62. 'in_NEL'\n",
       "63. 'in_NEC'\n",
       "64. 'in_ROI'\n",
       "65. 'desired_hist'\n",
       "66. 'multnom_out'\n",
       "67. 'no_ffpe'\n",
       "68. 'waiting_on_path'\n",
       "\n",
       "\n"
      ],
      "text/plain": [
       " [1] \"b_number\"                  \"t_number\"                 \n",
       " [3] \"sf_number\"                 \"current_scan_date\"        \n",
       " [5] \"current_surgery_date\"      \"current_hist_grade\"       \n",
       " [7] \"current_hist_type\"         \"roi.label\"                \n",
       " [9] \"tumor_cell_evaluation\"     \"necrosis\"                 \n",
       "[11] \"mv_hyperplasia\"            \"f8_delicate\"              \n",
       "[13] \"f8_simple\"                 \"f8_complex\"               \n",
       "[15] \"mib_1\"                     \"avgerage_cells\"           \n",
       "[17] \"bx_pure_treatment_effect\"  \"percent_tumor_nuclei\"     \n",
       "[19] \"nfse\"                      \"nfl\"                      \n",
       "[21] \"nt1c\"                      \"nt1v\"                     \n",
       "[23] \"nt1d\"                      \"nadc.1\"                   \n",
       "[25] \"nfa.1\"                     \"nadc.2\"                   \n",
       "[27] \"nfa.2\"                     \"phn_nlin\"                 \n",
       "[29] \"cbvn_nlin\"                 \"recov_nlin\"               \n",
       "[31] \"phn_npar\"                  \"recov_npar\"               \n",
       "[33] \"recovn_npar\"               \"cni\"                      \n",
       "[35] \"ccri\"                      \"crni\"                     \n",
       "[37] \"ncho\"                      \"ncre\"                     \n",
       "[39] \"nnaa\"                      \"nlip\"                     \n",
       "[41] \"nlac\"                      \"laclip\"                   \n",
       "[43] \"comments\"                  \"notes.\"                   \n",
       "[45] \"imaging_code\"              \"perf_quant\"               \n",
       "[47] \"spec_quant\"                \"include_anat\"             \n",
       "[49] \"include_diffu1000\"         \"include_diffu2000\"        \n",
       "[51] \"include_diffu_all\"         \"include_perf\"             \n",
       "[53] \"include_spec\"              \"include_one_advanced_mod\" \n",
       "[55] \"include_all_advanced_mods\" \"X.CEL\"                    \n",
       "[57] \"X.NEL\"                     \"X.NEC\"                    \n",
       "[59] \"sum\"                       \"in_CEL\"                   \n",
       "[61] \"in_T2all\"                  \"in_NEL\"                   \n",
       "[63] \"in_NEC\"                    \"in_ROI\"                   \n",
       "[65] \"desired_hist\"              \"multnom_out\"              \n",
       "[67] \"no_ffpe\"                   \"waiting_on_path\"          "
      ]
     },
     "metadata": {},
     "output_type": "display_data"
    }
   ],
   "source": [
    "colnames(recgli)"
   ]
  },
  {
   "cell_type": "code",
   "execution_count": 116,
   "metadata": {
    "collapsed": true,
    "deletable": true,
    "editable": true
   },
   "outputs": [],
   "source": [
    "recgli = data.frame(recgli, rhgg_txe_analysis = ifelse(recgli$multnom_out == \"rHGG\" | recgli$multnom_out == \"TxE\", 1, 0))"
   ]
  },
  {
   "cell_type": "code",
   "execution_count": 117,
   "metadata": {
    "collapsed": false,
    "deletable": true,
    "editable": true
   },
   "outputs": [
    {
     "data": {
      "text/html": [
       "<ol class=list-inline>\n",
       "\t<li>299</li>\n",
       "\t<li>69</li>\n",
       "</ol>\n"
      ],
      "text/latex": [
       "\\begin{enumerate*}\n",
       "\\item 299\n",
       "\\item 69\n",
       "\\end{enumerate*}\n"
      ],
      "text/markdown": [
       "1. 299\n",
       "2. 69\n",
       "\n",
       "\n"
      ],
      "text/plain": [
       "[1] 299  69"
      ]
     },
     "metadata": {},
     "output_type": "display_data"
    }
   ],
   "source": [
    "dim(recgli)"
   ]
  },
  {
   "cell_type": "code",
   "execution_count": 118,
   "metadata": {
    "collapsed": false,
    "deletable": true,
    "editable": true
   },
   "outputs": [
    {
     "data": {
      "text/plain": [
       "\n",
       "  0   1 \n",
       "125 174 "
      ]
     },
     "metadata": {},
     "output_type": "display_data"
    }
   ],
   "source": [
    "table(recgli$rhgg_txe_analysis)"
   ]
  },
  {
   "cell_type": "code",
   "execution_count": 119,
   "metadata": {
    "collapsed": true,
    "deletable": true,
    "editable": true
   },
   "outputs": [],
   "source": [
    "write.csv(recgli, file = \"REC_HGG_Annotation_Oct2018/10thAnnot_researchPath_withInVivo.csv\", row.names = F)"
   ]
  },
  {
   "cell_type": "code",
   "execution_count": null,
   "metadata": {
    "collapsed": false,
    "deletable": true,
    "editable": true
   },
   "outputs": [],
   "source": []
  },
  {
   "cell_type": "code",
   "execution_count": null,
   "metadata": {
    "collapsed": true,
    "deletable": true,
    "editable": true
   },
   "outputs": [],
   "source": []
  }
 ],
 "metadata": {
  "kernelspec": {
   "display_name": "R",
   "language": "R",
   "name": "ir"
  },
  "language_info": {
   "codemirror_mode": "r",
   "file_extension": ".r",
   "mimetype": "text/x-r-source",
   "name": "R",
   "pygments_lexer": "r",
   "version": "3.4.0"
  }
 },
 "nbformat": 4,
 "nbformat_minor": 2
}
