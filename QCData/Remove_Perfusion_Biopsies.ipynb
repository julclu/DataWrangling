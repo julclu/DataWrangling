{
 "cells": [
  {
   "cell_type": "code",
   "execution_count": 1,
   "metadata": {
    "collapsed": false,
    "deletable": true,
    "editable": true
   },
   "outputs": [
    {
     "name": "stderr",
     "output_type": "stream",
     "text": [
      "Warning message in read.table(file = file, header = header, sep = sep, quote = quote, :\n",
      "“line 5 appears to contain embedded nulls”"
     ]
    }
   ],
   "source": [
    "po1_qc_list1 = read.csv(\"list1_qc.csv\", header = F)\n",
    "po1_qc_list2 = read.csv(\"list2_qc.csv\", header = F)\n",
    "po1_qc_list3 = read.csv(\"list3_qc.csv\", header = F)\n",
    "po1_qc_list4 = read.csv(\"list4_qc.csv\", header = F)\n",
    "po1_qc_list5 = read.csv(\"list5_qc.csv\", header = F)\n",
    "po1_qc_list6 = read.csv(\"list6_qc.csv\", header = F)\n",
    "po1_qc_list7 = read.csv(\"list7_qc.csv\", header = F)\n",
    "po1_qc_list8 = read.csv(\"list8_qc.csv\", header = F)\n",
    "po1_qc_list9 = read.csv(\"list9_qc.csv\", header = F)\n",
    "po1_qc_list10 = read.csv(\"list10_qc.csv\", header = F)\n",
    "po1_qc_list11 = read.csv(\"list11_qc.csv\", header = F)\n",
    "po1_qc_list12 = read.csv(\"list12_qc.csv\", header = F)\n",
    "po1_qc_list13 = read.csv(\"list13_qc.csv\", header = F)\n"
   ]
  },
  {
   "cell_type": "code",
   "execution_count": 2,
   "metadata": {
    "collapsed": false,
    "deletable": true,
    "editable": true
   },
   "outputs": [],
   "source": [
    "rechgg_qc_list1 = read.csv('rec_hgg_list1_qc_out.csv', header = F)\n",
    "rechgg_qc_list2 = read.csv('rec_hgg_list2_qc_out.csv', header = F)\n",
    "rechgg_qc_list3 = read.csv('rec_hgg_list3_qc_out.csv', header = F)\n",
    "rechgg_qc_list4 = read.csv('rec_hgg_list4_qc_out.csv', header = F)\n",
    "rechgg_qc_list5 = read.csv('rec_hgg_list5_qc_out.csv', header = F)\n",
    "rechgg_qc_list6 = read.csv('rec_hgg_list6_qc_out.csv', header = F)\n",
    "rechgg_qc_list7 = read.csv('rec_hgg_list7_qc_out.csv', header = F)\n"
   ]
  },
  {
   "cell_type": "code",
   "execution_count": 3,
   "metadata": {
    "collapsed": false,
    "deletable": true,
    "editable": true
   },
   "outputs": [],
   "source": [
    "colnames = c('bnum', 'tnum','biopsy_name', 'biopsy_in_valid_perf', 'notes')"
   ]
  },
  {
   "cell_type": "code",
   "execution_count": 4,
   "metadata": {
    "collapsed": false,
    "deletable": true,
    "editable": true
   },
   "outputs": [],
   "source": [
    "po1_qc_list1 = data.frame(po1_qc_list1, notes = NA)"
   ]
  },
  {
   "cell_type": "code",
   "execution_count": 5,
   "metadata": {
    "collapsed": true,
    "deletable": true,
    "editable": true
   },
   "outputs": [],
   "source": [
    "colnames(po1_qc_list1)=colnames\n",
    "colnames(po1_qc_list2)=colnames\n",
    "colnames(po1_qc_list3)=colnames\n",
    "colnames(po1_qc_list4)=colnames\n",
    "colnames(po1_qc_list5)=colnames\n",
    "colnames(po1_qc_list6)=colnames\n",
    "colnames(po1_qc_list7)=colnames\n",
    "colnames(po1_qc_list8)=colnames\n",
    "colnames(po1_qc_list9)=colnames\n",
    "colnames(po1_qc_list10)=colnames\n",
    "colnames(po1_qc_list11)=colnames\n",
    "colnames(po1_qc_list12)=colnames\n",
    "colnames(po1_qc_list13)=colnames"
   ]
  },
  {
   "cell_type": "code",
   "execution_count": 6,
   "metadata": {
    "collapsed": false,
    "deletable": true,
    "editable": true
   },
   "outputs": [],
   "source": [
    "colnames(rechgg_qc_list1)=colnames\n",
    "colnames(rechgg_qc_list2)=colnames\n"
   ]
  },
  {
   "cell_type": "code",
   "execution_count": 7,
   "metadata": {
    "collapsed": false,
    "deletable": true,
    "editable": true
   },
   "outputs": [],
   "source": [
    "colnames(rechgg_qc_list3)=colnames\n"
   ]
  },
  {
   "cell_type": "code",
   "execution_count": 8,
   "metadata": {
    "collapsed": false,
    "deletable": true,
    "editable": true
   },
   "outputs": [],
   "source": [
    "colnames(rechgg_qc_list4)=colnames"
   ]
  },
  {
   "cell_type": "code",
   "execution_count": 9,
   "metadata": {
    "collapsed": true,
    "deletable": true,
    "editable": true
   },
   "outputs": [],
   "source": [
    "colnames(rechgg_qc_list5)=colnames\n",
    "colnames(rechgg_qc_list6)=colnames\n",
    "colnames(rechgg_qc_list7)=colnames"
   ]
  },
  {
   "cell_type": "code",
   "execution_count": 10,
   "metadata": {
    "collapsed": true,
    "deletable": true,
    "editable": true
   },
   "outputs": [],
   "source": [
    "allnotes = rbind(po1_qc_list1, \n",
    "                 po1_qc_list2, \n",
    "                 po1_qc_list3, \n",
    "                 po1_qc_list4, \n",
    "                 po1_qc_list5, \n",
    "                 po1_qc_list6, \n",
    "                 po1_qc_list7, \n",
    "                 po1_qc_list8, \n",
    "                 po1_qc_list9, \n",
    "                 po1_qc_list10, \n",
    "                 po1_qc_list11, \n",
    "                 po1_qc_list12, \n",
    "                 po1_qc_list13, \n",
    "                 rechgg_qc_list1, \n",
    "                 rechgg_qc_list2, \n",
    "                 rechgg_qc_list3, \n",
    "                 rechgg_qc_list4, \n",
    "                 rechgg_qc_list5, \n",
    "                 rechgg_qc_list6, \n",
    "                 rechgg_qc_list7\n",
    ")\n",
    "allnotes = data.frame(allnotes, 'vialid'=NA)"
   ]
  },
  {
   "cell_type": "code",
   "execution_count": 11,
   "metadata": {
    "collapsed": false,
    "deletable": true,
    "editable": true
   },
   "outputs": [
    {
     "ename": "ERROR",
     "evalue": "Error in strsplit(x, \"_\"): object 'x' not found\n",
     "output_type": "error",
     "traceback": [
      "Error in strsplit(x, \"_\"): object 'x' not found\nTraceback:\n",
      "1. strsplit(x, \"_\")"
     ]
    }
   ],
   "source": [
    "for (i in 1:428){\n",
    "    vialid_name = allnotes$biopsy_name[i]\n",
    "    if (grepl('t1ca', vialid_name)){\n",
    "        vial = strsplit(x, '_')[3]\n",
    "    }\n",
    "}"
   ]
  },
  {
   "cell_type": "code",
   "execution_count": null,
   "metadata": {
    "collapsed": false,
    "deletable": true,
    "editable": true
   },
   "outputs": [],
   "source": [
    "i = 1\n",
    "\n",
    "vialid_name = as.character(allnotes$biopsy_name[i])\n",
    "if (grepl('t1ca', vialid_name)){\n",
    "    vial = strsplit(vialid_name, '_')[3]\n",
    "}\n",
    "\n",
    "vial = gsub('.', '_', vialid_name)\n",
    "vial = strsplit(vial, '_')\n",
    "vial"
   ]
  },
  {
   "cell_type": "code",
   "execution_count": 12,
   "metadata": {
    "collapsed": false,
    "deletable": true,
    "editable": true
   },
   "outputs": [
    {
     "data": {
      "text/html": [
       "<table>\n",
       "<thead><tr><th scope=col>bnum</th><th scope=col>tnum</th><th scope=col>biopsy_name</th><th scope=col>biopsy_in_valid_perf</th><th scope=col>notes</th><th scope=col>vialid</th></tr></thead>\n",
       "<tbody>\n",
       "\t<tr><td>b2723                   </td><td>t6369                   </td><td>t6369_t1ca_3B28.idf     </td><td>y                       </td><td>NA                      </td><td>NA                      </td></tr>\n",
       "\t<tr><td>b2723                   </td><td>t6369                   </td><td>t6369_t1ca_10B28.idf    </td><td>y                       </td><td>NA                      </td><td>NA                      </td></tr>\n",
       "\t<tr><td>b2723                   </td><td>t6369                   </td><td>t6369_t1ca_17B28.idf    </td><td>y                       </td><td>NA                      </td><td>NA                      </td></tr>\n",
       "\t<tr><td>b2312                   </td><td>t5317                   </td><td>t5317_t1ca_12B16.idf    </td><td>y                       </td><td>NA                      </td><td>NA                      </td></tr>\n",
       "\t<tr><td>b2312                   </td><td>t5317                   </td><td>t5317_t1ca_11B16.idf    </td><td>m                       </td><td>NA                      </td><td>NA                      </td></tr>\n",
       "\t<tr><td>b2901                   </td><td>t8089                   </td><td> no_biopsies            </td><td>                        </td><td>NA                      </td><td>NA                      </td></tr>\n",
       "\t<tr><td>b2474                   </td><td>t7408                   </td><td>t7408_t1ca_11B40.idf    </td><td>n                       </td><td>NA                      </td><td>NA                      </td></tr>\n",
       "\t<tr><td>b2474                   </td><td>t7408                   </td><td>t7408_t1ca_12B40.idf    </td><td>y                       </td><td>NA                      </td><td>NA                      </td></tr>\n",
       "\t<tr><td>b3169                   </td><td>t7540                   </td><td>t7540_t1ca_6B43.idf     </td><td>y                       </td><td>NA                      </td><td>NA                      </td></tr>\n",
       "\t<tr><td>b3169                   </td><td>t7540                   </td><td>t7540_t1ca_11B43.idf    </td><td>y                       </td><td>NA                      </td><td>NA                      </td></tr>\n",
       "\t<tr><td>b2379                   </td><td>t5950                   </td><td>t5950_t1ca_12B22.idf    </td><td>y                       </td><td>NA                      </td><td>NA                      </td></tr>\n",
       "\t<tr><td>b2379                   </td><td>t5950                   </td><td>t5950_t1ca_75B22.idf    </td><td>y                       </td><td>NA                      </td><td>NA                      </td></tr>\n",
       "\t<tr><td>b2379                   </td><td>t5950                   </td><td>t5950_t1ca_74B22.idf    </td><td>y                       </td><td>NA                      </td><td>NA                      </td></tr>\n",
       "\t<tr><td>b2534                   </td><td>t6367                   </td><td>t6367_t1ca_29B26.idf    </td><td>n                       </td><td>NA                      </td><td>NA                      </td></tr>\n",
       "\t<tr><td>b2534                   </td><td>t6367                   </td><td>t6367_t1ca_7B26.idf     </td><td>y                       </td><td>NA                      </td><td>NA                      </td></tr>\n",
       "\t<tr><td>b2534                   </td><td>t6367                   </td><td>t6367_t1ca_12B26.idf    </td><td>n                       </td><td>NA                      </td><td>NA                      </td></tr>\n",
       "\t<tr><td>b2873                   </td><td>t6709                   </td><td>t6709_t1ca_13B32.idf    </td><td>y                       </td><td>NA                      </td><td>NA                      </td></tr>\n",
       "\t<tr><td>b2873                   </td><td>t6709                   </td><td>t6709_t1ca_15B32.idf    </td><td>y                       </td><td>NA                      </td><td>NA                      </td></tr>\n",
       "\t<tr><td>b2873                   </td><td>t6709                   </td><td>t6709_t1ca_14B32.idf    </td><td>y                       </td><td>NA                      </td><td>NA                      </td></tr>\n",
       "\t<tr><td>b3118                   </td><td>t7394                   </td><td>t7394_t1ca_14B41.idf    </td><td>y                       </td><td>NA                      </td><td>NA                      </td></tr>\n",
       "\t<tr><td>b3118                   </td><td>t7394                   </td><td>t7394_t1ca_13B41.idf    </td><td>y                       </td><td>NA                      </td><td>NA                      </td></tr>\n",
       "\t<tr><td>b2793                   </td><td>t7584                   </td><td>t7584_t1ca_14B44.idf    </td><td>n                       </td><td>NA                      </td><td>NA                      </td></tr>\n",
       "\t<tr><td>b2793                   </td><td>t7584                   </td><td>t7584_t1ca_15B44.idf    </td><td>                        </td><td>NA                      </td><td>NA                      </td></tr>\n",
       "\t<tr><td>b2222                   </td><td>t6094                   </td><td>t6094_t1ca_15B18.idf    </td><td>y                       </td><td>n                       </td><td>NA                      </td></tr>\n",
       "\t<tr><td>b2118                   </td><td>t6260                   </td><td>t6260_t1ca_19B27.idf    </td><td>y                       </td><td>distortion              </td><td>NA                      </td></tr>\n",
       "\t<tr><td>b2118                   </td><td>t6260                   </td><td>t6260_t1ca_17B27.idf    </td><td>m                       </td><td>kind of black           </td><td>NA                      </td></tr>\n",
       "\t<tr><td>b2118                   </td><td>t6260                   </td><td>t6260_t1ca_18B27.idf    </td><td>m                       </td><td>looks black             </td><td>NA                      </td></tr>\n",
       "\t<tr><td>b2192                   </td><td>t8070                   </td><td>t8070_t1ca_18B13.idf    </td><td>n                       </td><td>                        </td><td>NA                      </td></tr>\n",
       "\t<tr><td>b2563                   </td><td>t5983                   </td><td>t5983_t1ca_18B23.idf    </td><td>y                       </td><td>low quality perf        </td><td>NA                      </td></tr>\n",
       "\t<tr><td>b2563                   </td><td>t5983                   </td><td>t5983_t1ca_19B23.idf    </td><td>n                       </td><td>can't see biopsy on perf</td><td>NA                      </td></tr>\n",
       "\t<tr><td>⋮</td><td>⋮</td><td>⋮</td><td>⋮</td><td>⋮</td><td>⋮</td></tr>\n",
       "\t<tr><td>b4273                </td><td>t11333               </td><td>t11333_t1ca_58B97.idf</td><td>y                    </td><td>                     </td><td>NA                   </td></tr>\n",
       "\t<tr><td>b4273                </td><td>t11333               </td><td>t11333_t1ca_55B97.idf</td><td>y                    </td><td>                     </td><td>NA                   </td></tr>\n",
       "\t<tr><td>b4273                </td><td>t11333               </td><td>t11333_t1ca_56B97.idf</td><td>y                    </td><td>                     </td><td>NA                   </td></tr>\n",
       "\t<tr><td>b4283                </td><td>t11382               </td><td>t11382_t1ca_63B97.idf</td><td>y                    </td><td>                     </td><td>NA                   </td></tr>\n",
       "\t<tr><td>b4283                </td><td>t11382               </td><td>t11382_t1ca_65B97.idf</td><td>y                    </td><td>                     </td><td>NA                   </td></tr>\n",
       "\t<tr><td>b4288                </td><td>t11390               </td><td>t11390_t1ca_73B97.idf</td><td>m                    </td><td>check with paula     </td><td>NA                   </td></tr>\n",
       "\t<tr><td>b4288                </td><td>t11390               </td><td>t11390_t1ca_72B97.idf</td><td>y                    </td><td>                     </td><td>NA                   </td></tr>\n",
       "\t<tr><td>b4288                </td><td>t11390               </td><td>t11390_t1ca_74B97.idf</td><td>y                    </td><td>                     </td><td>NA                   </td></tr>\n",
       "\t<tr><td>b4295                </td><td>t11406               </td><td>t11406_t1ca_34D3.idf </td><td>y                    </td><td>                     </td><td>NA                   </td></tr>\n",
       "\t<tr><td>b4295                </td><td>t11406               </td><td>t11406_t1ca_31D3.idf </td><td>n                    </td><td>                     </td><td>NA                   </td></tr>\n",
       "\t<tr><td>b4295                </td><td>t11406               </td><td>t11406_t1ca_32D3.idf </td><td>y                    </td><td>                     </td><td>NA                   </td></tr>\n",
       "\t<tr><td>b4297                </td><td>t11410               </td><td>t11410_t1ca_35D3.idf </td><td>y                    </td><td>                     </td><td>NA                   </td></tr>\n",
       "\t<tr><td>b4297                </td><td>t11410               </td><td>t11410_t1ca_36D3.idf </td><td>y                    </td><td>                     </td><td>NA                   </td></tr>\n",
       "\t<tr><td>b4298                </td><td>t11412               </td><td>t11412_t1ca_44D3.idf </td><td>y                    </td><td>                     </td><td>NA                   </td></tr>\n",
       "\t<tr><td>b4298                </td><td>t11412               </td><td>t11412_t1ca_41D3.idf </td><td>y                    </td><td>                     </td><td>NA                   </td></tr>\n",
       "\t<tr><td>b4298                </td><td>t11412               </td><td>t11412_t1ca_43D3.idf </td><td>y                    </td><td>                     </td><td>NA                   </td></tr>\n",
       "\t<tr><td>b4298                </td><td>t11412               </td><td>t11412_t1ca_42D3.idf </td><td>y                    </td><td>                     </td><td>NA                   </td></tr>\n",
       "\t<tr><td>b4300                </td><td>t11419               </td><td> no_perf             </td><td>                     </td><td>                     </td><td>NA                   </td></tr>\n",
       "\t<tr><td>b3759                </td><td>t11476               </td><td>t11476_t1ca_1D1.idf  </td><td>y                    </td><td>                     </td><td>NA                   </td></tr>\n",
       "\t<tr><td>b3759                </td><td>t11476               </td><td>t11476_t1ca_2D1.idf  </td><td>m                    </td><td>check with paual     </td><td>NA                   </td></tr>\n",
       "\t<tr><td>b3759                </td><td>t11476               </td><td>t11476_t1ca_4D1.idf  </td><td>y                    </td><td>                     </td><td>NA                   </td></tr>\n",
       "\t<tr><td>b3737                </td><td>t11482               </td><td>t11482_t1ca_12D1.idf </td><td>y                    </td><td>                     </td><td>NA                   </td></tr>\n",
       "\t<tr><td>b3737                </td><td>t11482               </td><td>t11482_t1ca_15D1.idf </td><td>y                    </td><td>                     </td><td>NA                   </td></tr>\n",
       "\t<tr><td>b4306                </td><td>t11484               </td><td>t11484_t1ca_17D1.idf </td><td>y                    </td><td>                     </td><td>NA                   </td></tr>\n",
       "\t<tr><td>b4306                </td><td>t11484               </td><td>t11484_t1ca_16D1.idf </td><td>y                    </td><td>                     </td><td>NA                   </td></tr>\n",
       "\t<tr><td>b4306                </td><td>t11484               </td><td>t11484_t1ca_14D1.idf </td><td>y                    </td><td>                     </td><td>NA                   </td></tr>\n",
       "\t<tr><td>b4306                </td><td>t11484               </td><td>t11484_t1ca_13D1.idf </td><td>y                    </td><td>                     </td><td>NA                   </td></tr>\n",
       "\t<tr><td>b4223                </td><td>t11506               </td><td>t11506_t1ca_20D1.idf </td><td>y                    </td><td>                     </td><td>NA                   </td></tr>\n",
       "\t<tr><td>b4223                </td><td>t11506               </td><td>t11506_t1ca_21D1.idf </td><td>y                    </td><td>                     </td><td>NA                   </td></tr>\n",
       "\t<tr><td>b4223                </td><td>t11506               </td><td>t11506_t1ca_22D1.idf </td><td>y                    </td><td>                     </td><td>NA                   </td></tr>\n",
       "</tbody>\n",
       "</table>\n"
      ],
      "text/latex": [
       "\\begin{tabular}{r|llllll}\n",
       " bnum & tnum & biopsy\\_name & biopsy\\_in\\_valid\\_perf & notes & vialid\\\\\n",
       "\\hline\n",
       "\t b2723                    & t6369                    & t6369\\_t1ca\\_3B28.idf  & y                        & NA                       & NA                      \\\\\n",
       "\t b2723                    & t6369                    & t6369\\_t1ca\\_10B28.idf & y                        & NA                       & NA                      \\\\\n",
       "\t b2723                    & t6369                    & t6369\\_t1ca\\_17B28.idf & y                        & NA                       & NA                      \\\\\n",
       "\t b2312                    & t5317                    & t5317\\_t1ca\\_12B16.idf & y                        & NA                       & NA                      \\\\\n",
       "\t b2312                    & t5317                    & t5317\\_t1ca\\_11B16.idf & m                        & NA                       & NA                      \\\\\n",
       "\t b2901                    & t8089                    &  no\\_biopsies           &                          & NA                       & NA                      \\\\\n",
       "\t b2474                    & t7408                    & t7408\\_t1ca\\_11B40.idf & n                        & NA                       & NA                      \\\\\n",
       "\t b2474                    & t7408                    & t7408\\_t1ca\\_12B40.idf & y                        & NA                       & NA                      \\\\\n",
       "\t b3169                    & t7540                    & t7540\\_t1ca\\_6B43.idf  & y                        & NA                       & NA                      \\\\\n",
       "\t b3169                    & t7540                    & t7540\\_t1ca\\_11B43.idf & y                        & NA                       & NA                      \\\\\n",
       "\t b2379                    & t5950                    & t5950\\_t1ca\\_12B22.idf & y                        & NA                       & NA                      \\\\\n",
       "\t b2379                    & t5950                    & t5950\\_t1ca\\_75B22.idf & y                        & NA                       & NA                      \\\\\n",
       "\t b2379                    & t5950                    & t5950\\_t1ca\\_74B22.idf & y                        & NA                       & NA                      \\\\\n",
       "\t b2534                    & t6367                    & t6367\\_t1ca\\_29B26.idf & n                        & NA                       & NA                      \\\\\n",
       "\t b2534                    & t6367                    & t6367\\_t1ca\\_7B26.idf  & y                        & NA                       & NA                      \\\\\n",
       "\t b2534                    & t6367                    & t6367\\_t1ca\\_12B26.idf & n                        & NA                       & NA                      \\\\\n",
       "\t b2873                    & t6709                    & t6709\\_t1ca\\_13B32.idf & y                        & NA                       & NA                      \\\\\n",
       "\t b2873                    & t6709                    & t6709\\_t1ca\\_15B32.idf & y                        & NA                       & NA                      \\\\\n",
       "\t b2873                    & t6709                    & t6709\\_t1ca\\_14B32.idf & y                        & NA                       & NA                      \\\\\n",
       "\t b3118                    & t7394                    & t7394\\_t1ca\\_14B41.idf & y                        & NA                       & NA                      \\\\\n",
       "\t b3118                    & t7394                    & t7394\\_t1ca\\_13B41.idf & y                        & NA                       & NA                      \\\\\n",
       "\t b2793                    & t7584                    & t7584\\_t1ca\\_14B44.idf & n                        & NA                       & NA                      \\\\\n",
       "\t b2793                    & t7584                    & t7584\\_t1ca\\_15B44.idf &                          & NA                       & NA                      \\\\\n",
       "\t b2222                    & t6094                    & t6094\\_t1ca\\_15B18.idf & y                        & n                        & NA                      \\\\\n",
       "\t b2118                    & t6260                    & t6260\\_t1ca\\_19B27.idf & y                        & distortion               & NA                      \\\\\n",
       "\t b2118                    & t6260                    & t6260\\_t1ca\\_17B27.idf & m                        & kind of black            & NA                      \\\\\n",
       "\t b2118                    & t6260                    & t6260\\_t1ca\\_18B27.idf & m                        & looks black              & NA                      \\\\\n",
       "\t b2192                    & t8070                    & t8070\\_t1ca\\_18B13.idf & n                        &                          & NA                      \\\\\n",
       "\t b2563                    & t5983                    & t5983\\_t1ca\\_18B23.idf & y                        & low quality perf         & NA                      \\\\\n",
       "\t b2563                    & t5983                    & t5983\\_t1ca\\_19B23.idf & n                        & can't see biopsy on perf & NA                      \\\\\n",
       "\t ⋮ & ⋮ & ⋮ & ⋮ & ⋮ & ⋮\\\\\n",
       "\t b4273                     & t11333                    & t11333\\_t1ca\\_58B97.idf & y                         &                           & NA                       \\\\\n",
       "\t b4273                     & t11333                    & t11333\\_t1ca\\_55B97.idf & y                         &                           & NA                       \\\\\n",
       "\t b4273                     & t11333                    & t11333\\_t1ca\\_56B97.idf & y                         &                           & NA                       \\\\\n",
       "\t b4283                     & t11382                    & t11382\\_t1ca\\_63B97.idf & y                         &                           & NA                       \\\\\n",
       "\t b4283                     & t11382                    & t11382\\_t1ca\\_65B97.idf & y                         &                           & NA                       \\\\\n",
       "\t b4288                     & t11390                    & t11390\\_t1ca\\_73B97.idf & m                         & check with paula          & NA                       \\\\\n",
       "\t b4288                     & t11390                    & t11390\\_t1ca\\_72B97.idf & y                         &                           & NA                       \\\\\n",
       "\t b4288                     & t11390                    & t11390\\_t1ca\\_74B97.idf & y                         &                           & NA                       \\\\\n",
       "\t b4295                     & t11406                    & t11406\\_t1ca\\_34D3.idf  & y                         &                           & NA                       \\\\\n",
       "\t b4295                     & t11406                    & t11406\\_t1ca\\_31D3.idf  & n                         &                           & NA                       \\\\\n",
       "\t b4295                     & t11406                    & t11406\\_t1ca\\_32D3.idf  & y                         &                           & NA                       \\\\\n",
       "\t b4297                     & t11410                    & t11410\\_t1ca\\_35D3.idf  & y                         &                           & NA                       \\\\\n",
       "\t b4297                     & t11410                    & t11410\\_t1ca\\_36D3.idf  & y                         &                           & NA                       \\\\\n",
       "\t b4298                     & t11412                    & t11412\\_t1ca\\_44D3.idf  & y                         &                           & NA                       \\\\\n",
       "\t b4298                     & t11412                    & t11412\\_t1ca\\_41D3.idf  & y                         &                           & NA                       \\\\\n",
       "\t b4298                     & t11412                    & t11412\\_t1ca\\_43D3.idf  & y                         &                           & NA                       \\\\\n",
       "\t b4298                     & t11412                    & t11412\\_t1ca\\_42D3.idf  & y                         &                           & NA                       \\\\\n",
       "\t b4300                   & t11419                  &  no\\_perf              &                         &                         & NA                     \\\\\n",
       "\t b3759                     & t11476                    & t11476\\_t1ca\\_1D1.idf   & y                         &                           & NA                       \\\\\n",
       "\t b3759                     & t11476                    & t11476\\_t1ca\\_2D1.idf   & m                         & check with paual          & NA                       \\\\\n",
       "\t b3759                     & t11476                    & t11476\\_t1ca\\_4D1.idf   & y                         &                           & NA                       \\\\\n",
       "\t b3737                     & t11482                    & t11482\\_t1ca\\_12D1.idf  & y                         &                           & NA                       \\\\\n",
       "\t b3737                     & t11482                    & t11482\\_t1ca\\_15D1.idf  & y                         &                           & NA                       \\\\\n",
       "\t b4306                     & t11484                    & t11484\\_t1ca\\_17D1.idf  & y                         &                           & NA                       \\\\\n",
       "\t b4306                     & t11484                    & t11484\\_t1ca\\_16D1.idf  & y                         &                           & NA                       \\\\\n",
       "\t b4306                     & t11484                    & t11484\\_t1ca\\_14D1.idf  & y                         &                           & NA                       \\\\\n",
       "\t b4306                     & t11484                    & t11484\\_t1ca\\_13D1.idf  & y                         &                           & NA                       \\\\\n",
       "\t b4223                     & t11506                    & t11506\\_t1ca\\_20D1.idf  & y                         &                           & NA                       \\\\\n",
       "\t b4223                     & t11506                    & t11506\\_t1ca\\_21D1.idf  & y                         &                           & NA                       \\\\\n",
       "\t b4223                     & t11506                    & t11506\\_t1ca\\_22D1.idf  & y                         &                           & NA                       \\\\\n",
       "\\end{tabular}\n"
      ],
      "text/markdown": [
       "\n",
       "bnum | tnum | biopsy_name | biopsy_in_valid_perf | notes | vialid | \n",
       "|---|---|---|---|---|---|---|---|---|---|---|---|---|---|---|---|---|---|---|---|---|---|---|---|---|---|---|---|---|---|---|---|---|---|---|---|---|---|---|---|---|---|---|---|---|---|---|---|---|---|---|---|---|---|---|---|---|---|---|---|---|\n",
       "| b2723                    | t6369                    | t6369_t1ca_3B28.idf      | y                        | NA                       | NA                       | \n",
       "| b2723                    | t6369                    | t6369_t1ca_10B28.idf     | y                        | NA                       | NA                       | \n",
       "| b2723                    | t6369                    | t6369_t1ca_17B28.idf     | y                        | NA                       | NA                       | \n",
       "| b2312                    | t5317                    | t5317_t1ca_12B16.idf     | y                        | NA                       | NA                       | \n",
       "| b2312                    | t5317                    | t5317_t1ca_11B16.idf     | m                        | NA                       | NA                       | \n",
       "| b2901                    | t8089                    |  no_biopsies             |                          | NA                       | NA                       | \n",
       "| b2474                    | t7408                    | t7408_t1ca_11B40.idf     | n                        | NA                       | NA                       | \n",
       "| b2474                    | t7408                    | t7408_t1ca_12B40.idf     | y                        | NA                       | NA                       | \n",
       "| b3169                    | t7540                    | t7540_t1ca_6B43.idf      | y                        | NA                       | NA                       | \n",
       "| b3169                    | t7540                    | t7540_t1ca_11B43.idf     | y                        | NA                       | NA                       | \n",
       "| b2379                    | t5950                    | t5950_t1ca_12B22.idf     | y                        | NA                       | NA                       | \n",
       "| b2379                    | t5950                    | t5950_t1ca_75B22.idf     | y                        | NA                       | NA                       | \n",
       "| b2379                    | t5950                    | t5950_t1ca_74B22.idf     | y                        | NA                       | NA                       | \n",
       "| b2534                    | t6367                    | t6367_t1ca_29B26.idf     | n                        | NA                       | NA                       | \n",
       "| b2534                    | t6367                    | t6367_t1ca_7B26.idf      | y                        | NA                       | NA                       | \n",
       "| b2534                    | t6367                    | t6367_t1ca_12B26.idf     | n                        | NA                       | NA                       | \n",
       "| b2873                    | t6709                    | t6709_t1ca_13B32.idf     | y                        | NA                       | NA                       | \n",
       "| b2873                    | t6709                    | t6709_t1ca_15B32.idf     | y                        | NA                       | NA                       | \n",
       "| b2873                    | t6709                    | t6709_t1ca_14B32.idf     | y                        | NA                       | NA                       | \n",
       "| b3118                    | t7394                    | t7394_t1ca_14B41.idf     | y                        | NA                       | NA                       | \n",
       "| b3118                    | t7394                    | t7394_t1ca_13B41.idf     | y                        | NA                       | NA                       | \n",
       "| b2793                    | t7584                    | t7584_t1ca_14B44.idf     | n                        | NA                       | NA                       | \n",
       "| b2793                    | t7584                    | t7584_t1ca_15B44.idf     |                          | NA                       | NA                       | \n",
       "| b2222                    | t6094                    | t6094_t1ca_15B18.idf     | y                        | n                        | NA                       | \n",
       "| b2118                    | t6260                    | t6260_t1ca_19B27.idf     | y                        | distortion               | NA                       | \n",
       "| b2118                    | t6260                    | t6260_t1ca_17B27.idf     | m                        | kind of black            | NA                       | \n",
       "| b2118                    | t6260                    | t6260_t1ca_18B27.idf     | m                        | looks black              | NA                       | \n",
       "| b2192                    | t8070                    | t8070_t1ca_18B13.idf     | n                        |                          | NA                       | \n",
       "| b2563                    | t5983                    | t5983_t1ca_18B23.idf     | y                        | low quality perf         | NA                       | \n",
       "| b2563                    | t5983                    | t5983_t1ca_19B23.idf     | n                        | can't see biopsy on perf | NA                       | \n",
       "| ⋮ | ⋮ | ⋮ | ⋮ | ⋮ | ⋮ | \n",
       "| b4273                 | t11333                | t11333_t1ca_58B97.idf | y                     |                       | NA                    | \n",
       "| b4273                 | t11333                | t11333_t1ca_55B97.idf | y                     |                       | NA                    | \n",
       "| b4273                 | t11333                | t11333_t1ca_56B97.idf | y                     |                       | NA                    | \n",
       "| b4283                 | t11382                | t11382_t1ca_63B97.idf | y                     |                       | NA                    | \n",
       "| b4283                 | t11382                | t11382_t1ca_65B97.idf | y                     |                       | NA                    | \n",
       "| b4288                 | t11390                | t11390_t1ca_73B97.idf | m                     | check with paula      | NA                    | \n",
       "| b4288                 | t11390                | t11390_t1ca_72B97.idf | y                     |                       | NA                    | \n",
       "| b4288                 | t11390                | t11390_t1ca_74B97.idf | y                     |                       | NA                    | \n",
       "| b4295                 | t11406                | t11406_t1ca_34D3.idf  | y                     |                       | NA                    | \n",
       "| b4295                 | t11406                | t11406_t1ca_31D3.idf  | n                     |                       | NA                    | \n",
       "| b4295                 | t11406                | t11406_t1ca_32D3.idf  | y                     |                       | NA                    | \n",
       "| b4297                 | t11410                | t11410_t1ca_35D3.idf  | y                     |                       | NA                    | \n",
       "| b4297                 | t11410                | t11410_t1ca_36D3.idf  | y                     |                       | NA                    | \n",
       "| b4298                 | t11412                | t11412_t1ca_44D3.idf  | y                     |                       | NA                    | \n",
       "| b4298                 | t11412                | t11412_t1ca_41D3.idf  | y                     |                       | NA                    | \n",
       "| b4298                 | t11412                | t11412_t1ca_43D3.idf  | y                     |                       | NA                    | \n",
       "| b4298                 | t11412                | t11412_t1ca_42D3.idf  | y                     |                       | NA                    | \n",
       "| b4300                 | t11419                |  no_perf              |                       |                       | NA                    | \n",
       "| b3759                 | t11476                | t11476_t1ca_1D1.idf   | y                     |                       | NA                    | \n",
       "| b3759                 | t11476                | t11476_t1ca_2D1.idf   | m                     | check with paual      | NA                    | \n",
       "| b3759                 | t11476                | t11476_t1ca_4D1.idf   | y                     |                       | NA                    | \n",
       "| b3737                 | t11482                | t11482_t1ca_12D1.idf  | y                     |                       | NA                    | \n",
       "| b3737                 | t11482                | t11482_t1ca_15D1.idf  | y                     |                       | NA                    | \n",
       "| b4306                 | t11484                | t11484_t1ca_17D1.idf  | y                     |                       | NA                    | \n",
       "| b4306                 | t11484                | t11484_t1ca_16D1.idf  | y                     |                       | NA                    | \n",
       "| b4306                 | t11484                | t11484_t1ca_14D1.idf  | y                     |                       | NA                    | \n",
       "| b4306                 | t11484                | t11484_t1ca_13D1.idf  | y                     |                       | NA                    | \n",
       "| b4223                 | t11506                | t11506_t1ca_20D1.idf  | y                     |                       | NA                    | \n",
       "| b4223                 | t11506                | t11506_t1ca_21D1.idf  | y                     |                       | NA                    | \n",
       "| b4223                 | t11506                | t11506_t1ca_22D1.idf  | y                     |                       | NA                    | \n",
       "\n",
       "\n"
      ],
      "text/plain": [
       "    bnum  tnum   biopsy_name           biopsy_in_valid_perf\n",
       "1   b2723 t6369  t6369_t1ca_3B28.idf   y                   \n",
       "2   b2723 t6369  t6369_t1ca_10B28.idf  y                   \n",
       "3   b2723 t6369  t6369_t1ca_17B28.idf  y                   \n",
       "4   b2312 t5317  t5317_t1ca_12B16.idf  y                   \n",
       "5   b2312 t5317  t5317_t1ca_11B16.idf  m                   \n",
       "6   b2901 t8089   no_biopsies                              \n",
       "7   b2474 t7408  t7408_t1ca_11B40.idf  n                   \n",
       "8   b2474 t7408  t7408_t1ca_12B40.idf  y                   \n",
       "9   b3169 t7540  t7540_t1ca_6B43.idf   y                   \n",
       "10  b3169 t7540  t7540_t1ca_11B43.idf  y                   \n",
       "11  b2379 t5950  t5950_t1ca_12B22.idf  y                   \n",
       "12  b2379 t5950  t5950_t1ca_75B22.idf  y                   \n",
       "13  b2379 t5950  t5950_t1ca_74B22.idf  y                   \n",
       "14  b2534 t6367  t6367_t1ca_29B26.idf  n                   \n",
       "15  b2534 t6367  t6367_t1ca_7B26.idf   y                   \n",
       "16  b2534 t6367  t6367_t1ca_12B26.idf  n                   \n",
       "17  b2873 t6709  t6709_t1ca_13B32.idf  y                   \n",
       "18  b2873 t6709  t6709_t1ca_15B32.idf  y                   \n",
       "19  b2873 t6709  t6709_t1ca_14B32.idf  y                   \n",
       "20  b3118 t7394  t7394_t1ca_14B41.idf  y                   \n",
       "21  b3118 t7394  t7394_t1ca_13B41.idf  y                   \n",
       "22  b2793 t7584  t7584_t1ca_14B44.idf  n                   \n",
       "23  b2793 t7584  t7584_t1ca_15B44.idf                      \n",
       "24  b2222 t6094  t6094_t1ca_15B18.idf  y                   \n",
       "25  b2118 t6260  t6260_t1ca_19B27.idf  y                   \n",
       "26  b2118 t6260  t6260_t1ca_17B27.idf  m                   \n",
       "27  b2118 t6260  t6260_t1ca_18B27.idf  m                   \n",
       "28  b2192 t8070  t8070_t1ca_18B13.idf  n                   \n",
       "29  b2563 t5983  t5983_t1ca_18B23.idf  y                   \n",
       "30  b2563 t5983  t5983_t1ca_19B23.idf  n                   \n",
       "⋮   ⋮     ⋮      ⋮                     ⋮                   \n",
       "399 b4273 t11333 t11333_t1ca_58B97.idf y                   \n",
       "400 b4273 t11333 t11333_t1ca_55B97.idf y                   \n",
       "401 b4273 t11333 t11333_t1ca_56B97.idf y                   \n",
       "402 b4283 t11382 t11382_t1ca_63B97.idf y                   \n",
       "403 b4283 t11382 t11382_t1ca_65B97.idf y                   \n",
       "404 b4288 t11390 t11390_t1ca_73B97.idf m                   \n",
       "405 b4288 t11390 t11390_t1ca_72B97.idf y                   \n",
       "406 b4288 t11390 t11390_t1ca_74B97.idf y                   \n",
       "407 b4295 t11406 t11406_t1ca_34D3.idf  y                   \n",
       "408 b4295 t11406 t11406_t1ca_31D3.idf  n                   \n",
       "409 b4295 t11406 t11406_t1ca_32D3.idf  y                   \n",
       "410 b4297 t11410 t11410_t1ca_35D3.idf  y                   \n",
       "411 b4297 t11410 t11410_t1ca_36D3.idf  y                   \n",
       "412 b4298 t11412 t11412_t1ca_44D3.idf  y                   \n",
       "413 b4298 t11412 t11412_t1ca_41D3.idf  y                   \n",
       "414 b4298 t11412 t11412_t1ca_43D3.idf  y                   \n",
       "415 b4298 t11412 t11412_t1ca_42D3.idf  y                   \n",
       "416 b4300 t11419  no_perf                                  \n",
       "417 b3759 t11476 t11476_t1ca_1D1.idf   y                   \n",
       "418 b3759 t11476 t11476_t1ca_2D1.idf   m                   \n",
       "419 b3759 t11476 t11476_t1ca_4D1.idf   y                   \n",
       "420 b3737 t11482 t11482_t1ca_12D1.idf  y                   \n",
       "421 b3737 t11482 t11482_t1ca_15D1.idf  y                   \n",
       "422 b4306 t11484 t11484_t1ca_17D1.idf  y                   \n",
       "423 b4306 t11484 t11484_t1ca_16D1.idf  y                   \n",
       "424 b4306 t11484 t11484_t1ca_14D1.idf  y                   \n",
       "425 b4306 t11484 t11484_t1ca_13D1.idf  y                   \n",
       "426 b4223 t11506 t11506_t1ca_20D1.idf  y                   \n",
       "427 b4223 t11506 t11506_t1ca_21D1.idf  y                   \n",
       "428 b4223 t11506 t11506_t1ca_22D1.idf  y                   \n",
       "    notes                    vialid\n",
       "1   NA                       NA    \n",
       "2   NA                       NA    \n",
       "3   NA                       NA    \n",
       "4   NA                       NA    \n",
       "5   NA                       NA    \n",
       "6   NA                       NA    \n",
       "7   NA                       NA    \n",
       "8   NA                       NA    \n",
       "9   NA                       NA    \n",
       "10  NA                       NA    \n",
       "11  NA                       NA    \n",
       "12  NA                       NA    \n",
       "13  NA                       NA    \n",
       "14  NA                       NA    \n",
       "15  NA                       NA    \n",
       "16  NA                       NA    \n",
       "17  NA                       NA    \n",
       "18  NA                       NA    \n",
       "19  NA                       NA    \n",
       "20  NA                       NA    \n",
       "21  NA                       NA    \n",
       "22  NA                       NA    \n",
       "23  NA                       NA    \n",
       "24  n                        NA    \n",
       "25  distortion               NA    \n",
       "26  kind of black            NA    \n",
       "27  looks black              NA    \n",
       "28                           NA    \n",
       "29  low quality perf         NA    \n",
       "30  can't see biopsy on perf NA    \n",
       "⋮   ⋮                        ⋮     \n",
       "399                          NA    \n",
       "400                          NA    \n",
       "401                          NA    \n",
       "402                          NA    \n",
       "403                          NA    \n",
       "404 check with paula         NA    \n",
       "405                          NA    \n",
       "406                          NA    \n",
       "407                          NA    \n",
       "408                          NA    \n",
       "409                          NA    \n",
       "410                          NA    \n",
       "411                          NA    \n",
       "412                          NA    \n",
       "413                          NA    \n",
       "414                          NA    \n",
       "415                          NA    \n",
       "416                          NA    \n",
       "417                          NA    \n",
       "418 check with paual         NA    \n",
       "419                          NA    \n",
       "420                          NA    \n",
       "421                          NA    \n",
       "422                          NA    \n",
       "423                          NA    \n",
       "424                          NA    \n",
       "425                          NA    \n",
       "426                          NA    \n",
       "427                          NA    \n",
       "428                          NA    "
      ]
     },
     "metadata": {},
     "output_type": "display_data"
    }
   ],
   "source": [
    "allnotes"
   ]
  },
  {
   "cell_type": "code",
   "execution_count": 13,
   "metadata": {
    "collapsed": false,
    "deletable": true,
    "editable": true
   },
   "outputs": [
    {
     "data": {
      "text/plain": [
       "\n",
       "              m       n       y      no \\033[Cy       M       Y \n",
       "     66      33      66     259       1       1       1       1 "
      ]
     },
     "metadata": {},
     "output_type": "display_data"
    }
   ],
   "source": [
    "table(allnotes$biopsy_in_valid_perf)"
   ]
  },
  {
   "cell_type": "code",
   "execution_count": null,
   "metadata": {
    "collapsed": true
   },
   "outputs": [],
   "source": []
  }
 ],
 "metadata": {
  "kernelspec": {
   "display_name": "R",
   "language": "R",
   "name": "ir"
  },
  "language_info": {
   "codemirror_mode": "r",
   "file_extension": ".r",
   "mimetype": "text/x-r-source",
   "name": "R",
   "pygments_lexer": "r",
   "version": "3.4.0"
  }
 },
 "nbformat": 4,
 "nbformat_minor": 2
}
