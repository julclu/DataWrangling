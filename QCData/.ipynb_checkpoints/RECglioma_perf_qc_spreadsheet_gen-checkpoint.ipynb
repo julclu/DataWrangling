{
 "cells": [
  {
   "cell_type": "code",
   "execution_count": 15,
   "metadata": {
    "collapsed": true
   },
   "outputs": [],
   "source": [
    "recgli = read.csv('../ParseData/7thParse_researchPath_withInVivo.csv')"
   ]
  },
  {
   "cell_type": "code",
   "execution_count": 16,
   "metadata": {
    "collapsed": true
   },
   "outputs": [],
   "source": [
    "recgli = recgli[which(recgli$olddata==0),]"
   ]
  },
  {
   "cell_type": "code",
   "execution_count": 17,
   "metadata": {
    "collapsed": false
   },
   "outputs": [
    {
     "data": {
      "text/html": [
       "<ol class=list-inline>\n",
       "\t<li>196</li>\n",
       "\t<li>75</li>\n",
       "</ol>\n"
      ],
      "text/latex": [
       "\\begin{enumerate*}\n",
       "\\item 196\n",
       "\\item 75\n",
       "\\end{enumerate*}\n"
      ],
      "text/markdown": [
       "1. 196\n",
       "2. 75\n",
       "\n",
       "\n"
      ],
      "text/plain": [
       "[1] 196  75"
      ]
     },
     "metadata": {},
     "output_type": "display_data"
    }
   ],
   "source": [
    "dim(recgli)"
   ]
  },
  {
   "cell_type": "code",
   "execution_count": 18,
   "metadata": {
    "collapsed": true
   },
   "outputs": [],
   "source": [
    "recgli = recgli[,c('b_number', 't_number')]"
   ]
  },
  {
   "cell_type": "code",
   "execution_count": 19,
   "metadata": {
    "collapsed": true
   },
   "outputs": [],
   "source": [
    "recgli = recgli[!duplicated(recgli$t_number),]"
   ]
  },
  {
   "cell_type": "code",
   "execution_count": 20,
   "metadata": {
    "collapsed": false
   },
   "outputs": [],
   "source": [
    "recgli = data.frame(recgli, DUMMY = \"DUMMY\")"
   ]
  },
  {
   "cell_type": "code",
   "execution_count": 21,
   "metadata": {
    "collapsed": false
   },
   "outputs": [
    {
     "data": {
      "text/html": [
       "<ol class=list-inline>\n",
       "\t<li>70</li>\n",
       "\t<li>3</li>\n",
       "</ol>\n"
      ],
      "text/latex": [
       "\\begin{enumerate*}\n",
       "\\item 70\n",
       "\\item 3\n",
       "\\end{enumerate*}\n"
      ],
      "text/markdown": [
       "1. 70\n",
       "2. 3\n",
       "\n",
       "\n"
      ],
      "text/plain": [
       "[1] 70  3"
      ]
     },
     "metadata": {},
     "output_type": "display_data"
    }
   ],
   "source": [
    "dim(recgli)"
   ]
  },
  {
   "cell_type": "code",
   "execution_count": 22,
   "metadata": {
    "collapsed": false
   },
   "outputs": [],
   "source": [
    "recgli[,'b_number']=paste(\"b\", recgli[,'b_number'], sep = \"\")"
   ]
  },
  {
   "cell_type": "code",
   "execution_count": 23,
   "metadata": {
    "collapsed": false
   },
   "outputs": [],
   "source": [
    "recgli[,'t_number']=paste(\"t\", recgli[,'t_number'], sep = \"\")"
   ]
  },
  {
   "cell_type": "code",
   "execution_count": 24,
   "metadata": {
    "collapsed": true
   },
   "outputs": [],
   "source": [
    "write.table(recgli[1:10,], file = \"rec_hgg_perf_qc_list1.10.csv\", row.names = F, col.names = F, quote = F, sep = \",\")"
   ]
  },
  {
   "cell_type": "code",
   "execution_count": null,
   "metadata": {
    "collapsed": true
   },
   "outputs": [],
   "source": [
    "write.table(recgli[11:20,], file = \"rec_hgg_perf_qc_list2.10.csv\", row.names = F, col.names = F, quote = F, sep = \",\")\n",
    "write.table(recgli[21:30,], file = \"rec_hgg_perf_qc_list3.10.csv\", row.names = F, col.names = F, quote = F, sep = \",\")\n",
    "write.table(recgli[31:40,], file = \"rec_hgg_perf_qc_list4.10.csv\", row.names = F, col.names = F, quote = F, sep = \",\")\n",
    "write.table(recgli[41:50,], file = \"rec_hgg_perf_qc_list5.10.csv\", row.names = F, col.names = F, quote = F, sep = \",\")\n",
    "write.table(recgli[51:60,], file = \"rec_hgg_perf_qc_list6.10.csv\", row.names = F, col.names = F, quote = F, sep = \",\")\n",
    "write.table(recgli[61:70,], file = \"rec_hgg_perf_qc_list7.10.csv\", row.names = F, col.names = F, quote = F, sep = \",\")\n"
   ]
  }
 ],
 "metadata": {
  "kernelspec": {
   "display_name": "R",
   "language": "R",
   "name": "ir"
  },
  "language_info": {
   "codemirror_mode": "r",
   "file_extension": ".r",
   "mimetype": "text/x-r-source",
   "name": "R",
   "pygments_lexer": "r",
   "version": "3.4.0"
  }
 },
 "nbformat": 4,
 "nbformat_minor": 2
}
